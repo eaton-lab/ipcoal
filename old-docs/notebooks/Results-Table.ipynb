{
 "cells": [
  {
   "cell_type": "markdown",
   "metadata": {},
   "source": [
    "# The Results Table (.df)\n",
    "\n",
    "The results of a simulation are stored to the simulation object in a Pandas DataFrame accessible from the `.df` attribute. "
   ]
  },
  {
   "cell_type": "code",
   "execution_count": 1,
   "metadata": {},
   "outputs": [],
   "source": [
    "import ipcoal\n",
    "import toytree"
   ]
  },
  {
   "cell_type": "markdown",
   "metadata": {},
   "source": [
    "### Simulate data under a tree model"
   ]
  },
  {
   "cell_type": "code",
   "execution_count": 2,
   "metadata": {},
   "outputs": [],
   "source": [
    "tre = toytree.rtree.unittree(5, treeheight=1e6)"
   ]
  },
  {
   "cell_type": "code",
   "execution_count": 3,
   "metadata": {},
   "outputs": [],
   "source": [
    "model = ipcoal.Model(tree=tre, Ne=1e6, recomb=0.0)"
   ]
  },
  {
   "cell_type": "code",
   "execution_count": 4,
   "metadata": {},
   "outputs": [],
   "source": [
    "model.sim_loci(nloci=15, nsites=100)"
   ]
  },
  {
   "cell_type": "markdown",
   "metadata": {},
   "source": [
    "### View the results table"
   ]
  },
  {
   "cell_type": "code",
   "execution_count": 5,
   "metadata": {},
   "outputs": [
    {
     "data": {
      "text/html": [
       "<div>\n",
       "<style scoped>\n",
       "    .dataframe tbody tr th:only-of-type {\n",
       "        vertical-align: middle;\n",
       "    }\n",
       "\n",
       "    .dataframe tbody tr th {\n",
       "        vertical-align: top;\n",
       "    }\n",
       "\n",
       "    .dataframe thead th {\n",
       "        text-align: right;\n",
       "    }\n",
       "</style>\n",
       "<table border=\"1\" class=\"dataframe\">\n",
       "  <thead>\n",
       "    <tr style=\"text-align: right;\">\n",
       "      <th></th>\n",
       "      <th>locus</th>\n",
       "      <th>start</th>\n",
       "      <th>end</th>\n",
       "      <th>nbps</th>\n",
       "      <th>nsnps</th>\n",
       "      <th>genealogy</th>\n",
       "      <th>inferred</th>\n",
       "    </tr>\n",
       "  </thead>\n",
       "  <tbody>\n",
       "    <tr>\n",
       "      <th>0</th>\n",
       "      <td>0</td>\n",
       "      <td>0</td>\n",
       "      <td>100</td>\n",
       "      <td>100</td>\n",
       "      <td>5</td>\n",
       "      <td>((r0:1.03561e+06,r3:1.03...</td>\n",
       "      <td>NaN</td>\n",
       "    </tr>\n",
       "    <tr>\n",
       "      <th>1</th>\n",
       "      <td>1</td>\n",
       "      <td>0</td>\n",
       "      <td>100</td>\n",
       "      <td>100</td>\n",
       "      <td>10</td>\n",
       "      <td>((r1:1.06273e+06,r2:1.06...</td>\n",
       "      <td>NaN</td>\n",
       "    </tr>\n",
       "    <tr>\n",
       "      <th>2</th>\n",
       "      <td>2</td>\n",
       "      <td>0</td>\n",
       "      <td>100</td>\n",
       "      <td>100</td>\n",
       "      <td>20</td>\n",
       "      <td>((r0:3.27727e+06,r1:3.27...</td>\n",
       "      <td>NaN</td>\n",
       "    </tr>\n",
       "    <tr>\n",
       "      <th>3</th>\n",
       "      <td>3</td>\n",
       "      <td>0</td>\n",
       "      <td>100</td>\n",
       "      <td>100</td>\n",
       "      <td>6</td>\n",
       "      <td>((r1:1.31174e+06,r2:1.31...</td>\n",
       "      <td>NaN</td>\n",
       "    </tr>\n",
       "    <tr>\n",
       "      <th>4</th>\n",
       "      <td>4</td>\n",
       "      <td>0</td>\n",
       "      <td>100</td>\n",
       "      <td>100</td>\n",
       "      <td>9</td>\n",
       "      <td>((r0:2.15347e+06,r1:2.15...</td>\n",
       "      <td>NaN</td>\n",
       "    </tr>\n",
       "    <tr>\n",
       "      <th>5</th>\n",
       "      <td>5</td>\n",
       "      <td>0</td>\n",
       "      <td>100</td>\n",
       "      <td>100</td>\n",
       "      <td>3</td>\n",
       "      <td>((r3:997060,r2:997060):2...</td>\n",
       "      <td>NaN</td>\n",
       "    </tr>\n",
       "    <tr>\n",
       "      <th>6</th>\n",
       "      <td>6</td>\n",
       "      <td>0</td>\n",
       "      <td>100</td>\n",
       "      <td>100</td>\n",
       "      <td>7</td>\n",
       "      <td>((r4:1.32174e+06,r3:1.32...</td>\n",
       "      <td>NaN</td>\n",
       "    </tr>\n",
       "    <tr>\n",
       "      <th>7</th>\n",
       "      <td>7</td>\n",
       "      <td>0</td>\n",
       "      <td>100</td>\n",
       "      <td>100</td>\n",
       "      <td>11</td>\n",
       "      <td>(r2:3.59726e+06,(r3:1.25...</td>\n",
       "      <td>NaN</td>\n",
       "    </tr>\n",
       "    <tr>\n",
       "      <th>8</th>\n",
       "      <td>8</td>\n",
       "      <td>0</td>\n",
       "      <td>100</td>\n",
       "      <td>100</td>\n",
       "      <td>27</td>\n",
       "      <td>(r3:1.59951e+07,(r1:2.86...</td>\n",
       "      <td>NaN</td>\n",
       "    </tr>\n",
       "    <tr>\n",
       "      <th>9</th>\n",
       "      <td>9</td>\n",
       "      <td>0</td>\n",
       "      <td>100</td>\n",
       "      <td>100</td>\n",
       "      <td>6</td>\n",
       "      <td>((r0:1.04082e+06,r2:1.04...</td>\n",
       "      <td>NaN</td>\n",
       "    </tr>\n",
       "    <tr>\n",
       "      <th>10</th>\n",
       "      <td>10</td>\n",
       "      <td>0</td>\n",
       "      <td>100</td>\n",
       "      <td>100</td>\n",
       "      <td>16</td>\n",
       "      <td>((r0:2.08482e+06,r3:2.08...</td>\n",
       "      <td>NaN</td>\n",
       "    </tr>\n",
       "    <tr>\n",
       "      <th>11</th>\n",
       "      <td>11</td>\n",
       "      <td>0</td>\n",
       "      <td>100</td>\n",
       "      <td>100</td>\n",
       "      <td>21</td>\n",
       "      <td>(r1:8.04834e+06,(r0:1.41...</td>\n",
       "      <td>NaN</td>\n",
       "    </tr>\n",
       "    <tr>\n",
       "      <th>12</th>\n",
       "      <td>12</td>\n",
       "      <td>0</td>\n",
       "      <td>100</td>\n",
       "      <td>100</td>\n",
       "      <td>16</td>\n",
       "      <td>(r3:4.1391e+06,(r1:2.815...</td>\n",
       "      <td>NaN</td>\n",
       "    </tr>\n",
       "    <tr>\n",
       "      <th>13</th>\n",
       "      <td>13</td>\n",
       "      <td>0</td>\n",
       "      <td>100</td>\n",
       "      <td>100</td>\n",
       "      <td>10</td>\n",
       "      <td>(r1:2.38762e+06,(r0:1.88...</td>\n",
       "      <td>NaN</td>\n",
       "    </tr>\n",
       "    <tr>\n",
       "      <th>14</th>\n",
       "      <td>14</td>\n",
       "      <td>0</td>\n",
       "      <td>100</td>\n",
       "      <td>100</td>\n",
       "      <td>26</td>\n",
       "      <td>((r1:1.14487e+06,r2:1.14...</td>\n",
       "      <td>NaN</td>\n",
       "    </tr>\n",
       "  </tbody>\n",
       "</table>\n",
       "</div>"
      ],
      "text/plain": [
       "    locus  start  end  nbps  nsnps                    genealogy inferred\n",
       "0       0      0  100   100      5  ((r0:1.03561e+06,r3:1.03...      NaN\n",
       "1       1      0  100   100     10  ((r1:1.06273e+06,r2:1.06...      NaN\n",
       "2       2      0  100   100     20  ((r0:3.27727e+06,r1:3.27...      NaN\n",
       "3       3      0  100   100      6  ((r1:1.31174e+06,r2:1.31...      NaN\n",
       "4       4      0  100   100      9  ((r0:2.15347e+06,r1:2.15...      NaN\n",
       "5       5      0  100   100      3  ((r3:997060,r2:997060):2...      NaN\n",
       "6       6      0  100   100      7  ((r4:1.32174e+06,r3:1.32...      NaN\n",
       "7       7      0  100   100     11  (r2:3.59726e+06,(r3:1.25...      NaN\n",
       "8       8      0  100   100     27  (r3:1.59951e+07,(r1:2.86...      NaN\n",
       "9       9      0  100   100      6  ((r0:1.04082e+06,r2:1.04...      NaN\n",
       "10     10      0  100   100     16  ((r0:2.08482e+06,r3:2.08...      NaN\n",
       "11     11      0  100   100     21  (r1:8.04834e+06,(r0:1.41...      NaN\n",
       "12     12      0  100   100     16  (r3:4.1391e+06,(r1:2.815...      NaN\n",
       "13     13      0  100   100     10  (r1:2.38762e+06,(r0:1.88...      NaN\n",
       "14     14      0  100   100     26  ((r1:1.14487e+06,r2:1.14...      NaN"
      ]
     },
     "execution_count": 5,
     "metadata": {},
     "output_type": "execute_result"
    }
   ],
   "source": [
    "model.df[\"inferred\"] = \"NaN\"\n",
    "model.df"
   ]
  },
  {
   "cell_type": "markdown",
   "metadata": {},
   "source": [
    "### Save the results table to disk\n"
   ]
  },
  {
   "cell_type": "code",
   "execution_count": 6,
   "metadata": {},
   "outputs": [],
   "source": [
    "model.df.to_csv(\"./sim-table.csv\")"
   ]
  },
  {
   "cell_type": "markdown",
   "metadata": {},
   "source": [
    "### Filter based on stats\n",
    "\n",
    "Select only the loci that contain >10 SNPs in the simulated sequences."
   ]
  },
  {
   "cell_type": "code",
   "execution_count": 7,
   "metadata": {},
   "outputs": [
    {
     "data": {
      "text/html": [
       "<div>\n",
       "<style scoped>\n",
       "    .dataframe tbody tr th:only-of-type {\n",
       "        vertical-align: middle;\n",
       "    }\n",
       "\n",
       "    .dataframe tbody tr th {\n",
       "        vertical-align: top;\n",
       "    }\n",
       "\n",
       "    .dataframe thead th {\n",
       "        text-align: right;\n",
       "    }\n",
       "</style>\n",
       "<table border=\"1\" class=\"dataframe\">\n",
       "  <thead>\n",
       "    <tr style=\"text-align: right;\">\n",
       "      <th></th>\n",
       "      <th>locus</th>\n",
       "      <th>start</th>\n",
       "      <th>end</th>\n",
       "      <th>nbps</th>\n",
       "      <th>nsnps</th>\n",
       "      <th>genealogy</th>\n",
       "      <th>inferred</th>\n",
       "    </tr>\n",
       "  </thead>\n",
       "  <tbody>\n",
       "    <tr>\n",
       "      <th>2</th>\n",
       "      <td>2</td>\n",
       "      <td>0</td>\n",
       "      <td>100</td>\n",
       "      <td>100</td>\n",
       "      <td>20</td>\n",
       "      <td>((r0:3.27727e+06,r1:3.27...</td>\n",
       "      <td>NaN</td>\n",
       "    </tr>\n",
       "    <tr>\n",
       "      <th>7</th>\n",
       "      <td>7</td>\n",
       "      <td>0</td>\n",
       "      <td>100</td>\n",
       "      <td>100</td>\n",
       "      <td>11</td>\n",
       "      <td>(r2:3.59726e+06,(r3:1.25...</td>\n",
       "      <td>NaN</td>\n",
       "    </tr>\n",
       "    <tr>\n",
       "      <th>8</th>\n",
       "      <td>8</td>\n",
       "      <td>0</td>\n",
       "      <td>100</td>\n",
       "      <td>100</td>\n",
       "      <td>27</td>\n",
       "      <td>(r3:1.59951e+07,(r1:2.86...</td>\n",
       "      <td>NaN</td>\n",
       "    </tr>\n",
       "    <tr>\n",
       "      <th>10</th>\n",
       "      <td>10</td>\n",
       "      <td>0</td>\n",
       "      <td>100</td>\n",
       "      <td>100</td>\n",
       "      <td>16</td>\n",
       "      <td>((r0:2.08482e+06,r3:2.08...</td>\n",
       "      <td>NaN</td>\n",
       "    </tr>\n",
       "    <tr>\n",
       "      <th>11</th>\n",
       "      <td>11</td>\n",
       "      <td>0</td>\n",
       "      <td>100</td>\n",
       "      <td>100</td>\n",
       "      <td>21</td>\n",
       "      <td>(r1:8.04834e+06,(r0:1.41...</td>\n",
       "      <td>NaN</td>\n",
       "    </tr>\n",
       "    <tr>\n",
       "      <th>12</th>\n",
       "      <td>12</td>\n",
       "      <td>0</td>\n",
       "      <td>100</td>\n",
       "      <td>100</td>\n",
       "      <td>16</td>\n",
       "      <td>(r3:4.1391e+06,(r1:2.815...</td>\n",
       "      <td>NaN</td>\n",
       "    </tr>\n",
       "    <tr>\n",
       "      <th>14</th>\n",
       "      <td>14</td>\n",
       "      <td>0</td>\n",
       "      <td>100</td>\n",
       "      <td>100</td>\n",
       "      <td>26</td>\n",
       "      <td>((r1:1.14487e+06,r2:1.14...</td>\n",
       "      <td>NaN</td>\n",
       "    </tr>\n",
       "  </tbody>\n",
       "</table>\n",
       "</div>"
      ],
      "text/plain": [
       "    locus  start  end  nbps  nsnps                    genealogy inferred\n",
       "2       2      0  100   100     20  ((r0:3.27727e+06,r1:3.27...      NaN\n",
       "7       7      0  100   100     11  (r2:3.59726e+06,(r3:1.25...      NaN\n",
       "8       8      0  100   100     27  (r3:1.59951e+07,(r1:2.86...      NaN\n",
       "10     10      0  100   100     16  ((r0:2.08482e+06,r3:2.08...      NaN\n",
       "11     11      0  100   100     21  (r1:8.04834e+06,(r0:1.41...      NaN\n",
       "12     12      0  100   100     16  (r3:4.1391e+06,(r1:2.815...      NaN\n",
       "14     14      0  100   100     26  ((r1:1.14487e+06,r2:1.14...      NaN"
      ]
     },
     "execution_count": 7,
     "metadata": {},
     "output_type": "execute_result"
    }
   ],
   "source": [
    "model.df[model.df.nsnps > 10]"
   ]
  },
  {
   "cell_type": "markdown",
   "metadata": {},
   "source": [
    "### Write data for a subset of loci\n",
    "The `idxs` argument can be used to subselect a list of locus indices to be written to file. This works for both `.write_loci_to_phylip()` (writing separate files for each locus), as well as for `.write_seqs_to_phylip()` (writing a concatenated sequence). "
   ]
  },
  {
   "cell_type": "code",
   "execution_count": 8,
   "metadata": {},
   "outputs": [],
   "source": [
    "# get index numbers of the selected rows\n",
    "idxs = model.df[model.df.nsnps > 10].index"
   ]
  },
  {
   "cell_type": "code",
   "execution_count": 9,
   "metadata": {},
   "outputs": [
    {
     "name": "stdout",
     "output_type": "stream",
     "text": [
      "wrote 7 loci (5 x 100bp) to home/deren/Documents/physeqs/docs/notebooks/ipcoal-sims/[...].phy\n"
     ]
    }
   ],
   "source": [
    "# call the write command with the selected idxs\n",
    "model.write_loci_to_phylip(outdir=\"./ipcoal-sims\", idxs=idxs)"
   ]
  },
  {
   "cell_type": "code",
   "execution_count": 10,
   "metadata": {},
   "outputs": [
    {
     "name": "stdout",
     "output_type": "stream",
     "text": [
      "10.phy\t11.phy\t12.phy\t14.phy\t2.phy  7.phy  8.phy\r\n"
     ]
    }
   ],
   "source": [
    "# look at the files that were written\n",
    "! ls ipcoal-sims/"
   ]
  },
  {
   "cell_type": "markdown",
   "metadata": {},
   "source": [
    "### Specify names for written loci"
   ]
  },
  {
   "cell_type": "code",
   "execution_count": 11,
   "metadata": {},
   "outputs": [
    {
     "name": "stdout",
     "output_type": "stream",
     "text": [
      "wrote 7 loci (5 x 100bp) to home/deren/Documents/physeqs/docs/notebooks/ipcoal-sims-named/[...].phy\n"
     ]
    }
   ],
   "source": [
    "# call the write command with the selected idxs\n",
    "model.write_loci_to_phylip(\n",
    "    outdir=\"./ipcoal-sims-named\", \n",
    "    idxs=idxs, \n",
    "    name_prefix=\"ipcoal-\",\n",
    "    name_suffix=\"-sim\",\n",
    ")"
   ]
  },
  {
   "cell_type": "code",
   "execution_count": 12,
   "metadata": {},
   "outputs": [
    {
     "name": "stdout",
     "output_type": "stream",
     "text": [
      "ipcoal-10-sim.phy  ipcoal-12-sim.phy  ipcoal-2-sim.phy\tipcoal-8-sim.phy\r\n",
      "ipcoal-11-sim.phy  ipcoal-14-sim.phy  ipcoal-7-sim.phy\r\n"
     ]
    }
   ],
   "source": [
    "# look at the files that were written with fancier names\n",
    "! ls ipcoal-sims-named/"
   ]
  }
 ],
 "metadata": {
  "kernelspec": {
   "display_name": "Python 3",
   "language": "python",
   "name": "python3"
  },
  "language_info": {
   "codemirror_mode": {
    "name": "ipython",
    "version": 3
   },
   "file_extension": ".py",
   "mimetype": "text/x-python",
   "name": "python",
   "nbconvert_exporter": "python",
   "pygments_lexer": "ipython3",
   "version": "3.6.7"
  }
 },
 "nbformat": 4,
 "nbformat_minor": 2
}
