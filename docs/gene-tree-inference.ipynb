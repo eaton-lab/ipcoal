{
 "cells": [
  {
   "cell_type": "markdown",
   "id": "7305d84e-04e0-4e65-80ae-f6a8ef665aa1",
   "metadata": {},
   "source": [
    "# Gene tree inference"
   ]
  },
  {
   "cell_type": "code",
   "execution_count": 1,
   "id": "f04e7f3c-0dca-4af7-9f2e-b13e44be8ed0",
   "metadata": {},
   "outputs": [],
   "source": [
    "import ipcoal\n",
    "import toytree"
   ]
  },
  {
   "cell_type": "code",
   "execution_count": null,
   "id": "90d2e171-35c8-4c9d-a367-beb965d9751d",
   "metadata": {},
   "outputs": [],
   "source": []
  },
  {
   "cell_type": "code",
   "execution_count": null,
   "id": "d54fcc94-770d-4416-943c-26b6dc78ae32",
   "metadata": {},
   "outputs": [],
   "source": []
  },
  {
   "cell_type": "code",
   "execution_count": null,
   "id": "fde273db-6443-4ae2-bac6-e2d649535044",
   "metadata": {},
   "outputs": [],
   "source": []
  },
  {
   "cell_type": "code",
   "execution_count": null,
   "id": "9c6ee24e-1767-407e-9fb7-de22ec64dee5",
   "metadata": {},
   "outputs": [],
   "source": [
    "# infer a gene tree for only locus=0\n",
    "gtree = ipcoal.phylo.infer_raxml_ng_tree(mod, idxs=0, diploid=True)\n",
    "gtree.draw();"
   ]
  },
  {
   "cell_type": "markdown",
   "id": "906565ff-f2d2-4dc6-9740-56fa2f3ae4e2",
   "metadata": {},
   "source": [
    "The function `infer_raxml_ng_trees` is similar to above, but includes options to control the parallelization of inferring many trees simultaneously. It returns the results as a dataframe, similar to the `.df` result from simulations. This makes it easy to compare that accuracy of gene tree inference against the true known genealogies at each position of the genome. (See the Cookbook/Example for calculating per-site gene tree estimation error using tree distances.)"
   ]
  },
  {
   "cell_type": "code",
   "execution_count": null,
   "id": "2a8a3c51-be33-41ca-b692-fff7fe9f78a4",
   "metadata": {},
   "outputs": [],
   "source": [
    "# simulate many loci under the species tree model\n",
    "mod = ipcoal.Model(sptree, Ne=1e5, nsamples=4)\n",
    "mod.sim_loci(nloci=100, nsites=1000)\n",
    "\n",
    "# infer a gene tree for each locus\n",
    "res = ipcoal.phylo.infer_raxml_ng_trees(mod, nworkers=4, nthreads=2, nproc=1, diploid=True)\n",
    "res.head(10)"
   ]
  },
  {
   "cell_type": "code",
   "execution_count": null,
   "id": "9a107350-e719-47a6-9072-53f0f85eaeea",
   "metadata": {},
   "outputs": [],
   "source": []
  },
  {
   "cell_type": "markdown",
   "id": "5c2c311b-616b-4442-bdb7-2fc35072c297",
   "metadata": {},
   "source": [
    "Finally, to infer a species tree from a distribution of trees we can use the `infer_astral_tree` method. This can take an input of newick strings or ToyTree objects. You can call several options of the astral method, including providing an imap dictionary to group samples into a species/clade."
   ]
  },
  {
   "cell_type": "code",
   "execution_count": null,
   "id": "a7ba61da-e475-40df-b1f5-cfc29c91544e",
   "metadata": {},
   "outputs": [],
   "source": [
    "# get the trees from the dataframe above\n",
    "inferred_trees = res.gene_tree\n",
    "\n",
    "# get a mapping of {species_name: list of gene tree tips}\n",
    "inferred_trees_imap = mod.get_imap_dict(diploid=True)\n",
    "\n",
    "# get astral result as a ToyTree, root it and draw it\n",
    "atree = ipcoal.phylo.infer_astral_tree(inferred_trees, imap=inferred_trees_imap)\n",
    "atree.mod.root_on_minimal_ancestor_deviation(\"r0\").draw(ts='p');"
   ]
  }
 ],
 "metadata": {
  "kernelspec": {
   "display_name": "Python 3 (ipykernel)",
   "language": "python",
   "name": "python3"
  },
  "language_info": {
   "codemirror_mode": {
    "name": "ipython",
    "version": 3
   },
   "file_extension": ".py",
   "mimetype": "text/x-python",
   "name": "python",
   "nbconvert_exporter": "python",
   "pygments_lexer": "ipython3",
   "version": "3.10.12"
  }
 },
 "nbformat": 4,
 "nbformat_minor": 5
}
