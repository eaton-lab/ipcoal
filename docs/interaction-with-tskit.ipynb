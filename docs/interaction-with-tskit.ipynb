{
 "cells": [
  {
   "cell_type": "markdown",
   "id": "161bf9c0-fca3-4e55-8722-06e5f898e0d1",
   "metadata": {},
   "source": [
    "# Interaction with tskit"
   ]
  },
  {
   "cell_type": "code",
   "execution_count": 1,
   "id": "6da23036-d962-48e3-96e2-7f4b5f3db982",
   "metadata": {},
   "outputs": [],
   "source": [
    "import toytree\n",
    "import ipcoal"
   ]
  },
  {
   "cell_type": "code",
   "execution_count": null,
   "id": "66375012-b839-4657-9db0-0a7f5178a732",
   "metadata": {},
   "outputs": [],
   "source": []
  },
  {
   "cell_type": "code",
   "execution_count": 2,
   "id": "d068ac13-33b8-429e-8981-7fdab48b402e",
   "metadata": {},
   "outputs": [
    {
     "ename": "NameError",
     "evalue": "name 'model' is not defined",
     "output_type": "error",
     "traceback": [
      "\u001b[0;31m---------------------------------------------------------------------------\u001b[0m",
      "\u001b[0;31mNameError\u001b[0m                                 Traceback (most recent call last)",
      "Cell \u001b[0;32mIn[2], line 2\u001b[0m\n\u001b[1;32m      1\u001b[0m \u001b[38;5;66;03m# or, you can \u001b[39;00m\n\u001b[0;32m----> 2\u001b[0m \u001b[43mmodel\u001b[49m\u001b[38;5;241m.\u001b[39mstore_tree_sequences \u001b[38;5;241m=\u001b[39m \u001b[38;5;28;01mTrue\u001b[39;00m\n\u001b[1;32m      3\u001b[0m model\u001b[38;5;241m.\u001b[39msim_trees(\u001b[38;5;241m5\u001b[39m)\n\u001b[1;32m      4\u001b[0m model\u001b[38;5;241m.\u001b[39mts_dict\n",
      "\u001b[0;31mNameError\u001b[0m: name 'model' is not defined"
     ]
    }
   ],
   "source": [
    "# or, you can \n",
    "model.store_tree_sequences = True\n",
    "model.sim_trees(5)\n",
    "model.ts_dict"
   ]
  },
  {
   "cell_type": "code",
   "execution_count": null,
   "id": "29a28a9d-82e0-497e-85b6-3253a67f3702",
   "metadata": {},
   "outputs": [],
   "source": []
  }
 ],
 "metadata": {
  "kernelspec": {
   "display_name": "Python 3 (ipykernel)",
   "language": "python",
   "name": "python3"
  },
  "language_info": {
   "codemirror_mode": {
    "name": "ipython",
    "version": 3
   },
   "file_extension": ".py",
   "mimetype": "text/x-python",
   "name": "python",
   "nbconvert_exporter": "python",
   "pygments_lexer": "ipython3",
   "version": "3.10.12"
  }
 },
 "nbformat": 4,
 "nbformat_minor": 5
}
