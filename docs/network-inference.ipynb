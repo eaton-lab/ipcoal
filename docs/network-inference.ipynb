{
 "cells": [
  {
   "cell_type": "markdown",
   "id": "13756332-4428-426c-ac92-5f16de562166",
   "metadata": {},
   "source": [
    "# Species tree inference\n",
    "We currently implement a wrapper for the phylogenetic network inference tool SNAQ implemented in phylonetworks in Julia. This takes a set of unrooted trees as input and returns an unrooted network. This method can be called from `ipcoal.phylo.infer_snaq_network`. It requires that you have `julia` and the phylonetworks package installed."
   ]
  },
  {
   "cell_type": "code",
   "execution_count": 3,
   "id": "25e2769b-175f-436f-b461-f46adc1f9cf7",
   "metadata": {},
   "outputs": [],
   "source": [
    "import ipcoal\n",
    "import toytree\n",
    "import msprime"
   ]
  },
  {
   "cell_type": "markdown",
   "id": "c0b5dc5f-0c1f-4d9c-8470-5a41cd5ab274",
   "metadata": {},
   "source": [
    "<div class=\"admonition tip\">\n",
    "    <p class=\"admonition-title\">tldr;</p>\n",
    "    <p>Call the `ipcoal.phylo.infer_astral_tree` method to infer a species tree using ASTRAL-III from a set of gene trees. This function will return the result as a ToyTree object with optional support values stored to the tree data.\n",
    "</div>"
   ]
  },
  {
   "cell_type": "markdown",
   "id": "eb47e6c9-4264-48e5-aef1-e19c167df57c",
   "metadata": {},
   "source": [
    "### Example dataset\n",
    "Here we set up a demographic model composing a species network with 5 lineages r0-r4, including an admixture edge from r3 to r2. The root node height is at 0.5M generations, and internal edges are set to equal lengths of ~166K generations. Each interval Ne is set to 2e5, which corresponds to an internal edge length of 0.42 coalescent units. As you can see in the visualization below, this corresponds to a small amount of ILS among the 4 sampled gene copies per lineage. We simulated 1000 loci each 1000 sites in length."
   ]
  },
  {
   "cell_type": "code",
   "execution_count": 23,
   "id": "9878492d-229b-42a2-9941-1a7eb85fa96b",
   "metadata": {},
   "outputs": [
    {
     "data": {
      "text/html": [
       "<div class=\"toyplot\" id=\"t9dd88f25865b488d9ed8b46baf1a4523\" style=\"text-align:center\"><svg class=\"toyplot-canvas-Canvas\" xmlns:toyplot=\"http://www.sandia.gov/toyplot\" xmlns:xlink=\"http://www.w3.org/1999/xlink\" xmlns=\"http://www.w3.org/2000/svg\" width=\"300.0px\" height=\"300.0px\" viewBox=\"0 0 300.0 300.0\" preserveAspectRatio=\"xMidYMid meet\" style=\"background-color:transparent;border-color:#292724;border-style:none;border-width:1.0;fill:rgb(16.1%,15.3%,14.1%);fill-opacity:1.0;font-family:Helvetica;font-size:12px;opacity:1.0;stroke:rgb(16.1%,15.3%,14.1%);stroke-opacity:1.0;stroke-width:1.0\" id=\"tda4c09fa723d4cdcbb5e7ebd20922b5c\"><g class=\"toyplot-coordinates-Cartesian\" id=\"tb89313d4695f4086acc9dfba940e73ff\"><clipPath id=\"tb80695a17e0d46628efa39c9c982fd0b\"><rect x=\"35.0\" y=\"35.0\" width=\"230.0\" height=\"230.0\"></rect></clipPath><g clip-path=\"url(#tb80695a17e0d46628efa39c9c982fd0b)\"><g class=\"toytree-mark-Toytree\" id=\"t6e195ac3e444495f9ed5bf4d3549719d\"><g class=\"toytree-Edges\" style=\"stroke:rgb(14.5%,14.5%,14.5%);stroke-opacity:1.0;stroke-linecap:round;stroke-width:2.0;fill:none\"><path d=\"M 80.9 159.2 L 57.8 210.5\" id=\"5,0\" style=\"stroke-width:6.0\"></path><path d=\"M 80.9 159.2 L 103.9 210.5\" id=\"5,1\" style=\"stroke-width:6.0\"></path><path d=\"M 115.4 107.9 L 150.0 210.5\" id=\"6,2\" style=\"stroke-width:6.0\"></path><path d=\"M 219.1 107.9 L 196.1 210.5\" id=\"7,3\" style=\"stroke-width:6.0\"></path><path d=\"M 219.1 107.9 L 242.2 210.5\" id=\"7,4\" style=\"stroke-width:6.0\"></path><path d=\"M 115.4 107.9 L 80.9 159.2\" id=\"6,5\" style=\"stroke-width:6.0\"></path><path d=\"M 167.3 56.5 L 115.4 107.9\" id=\"8,6\" style=\"stroke-width:6.0\"></path><path d=\"M 167.3 56.5 L 219.1 107.9\" id=\"8,7\" style=\"stroke-width:6.0\"></path></g><g class=\"toytree-AdmixEdges\" style=\"fill:rgb(0.0%,0.0%,0.0%);fill-opacity:0.0;stroke:rgb(90.6%,54.1%,76.5%);stroke-opacity:0.6;font-size:14px;stroke-linecap:round;stroke-width:5\"><path d=\"M 150.00 210.49 L 132.72 159.17 L 207.60 159.17 L 219.12 107.86\" style=\"\"></path><text x=\"170.16\" y=\"159.17\" style=\"fill:rgb(14.9%,14.9%,14.9%);fill-opacity:1.0;stroke:rgb(0.0%,0.0%,0.0%);stroke-opacity:0.0;text-anchor:middle\"></text></g><g class=\"toytree-Nodes\" style=\"fill:rgb(40.0%,76.1%,64.7%);fill-opacity:1.0;stroke:rgb(14.5%,14.5%,14.5%);stroke-opacity:1.0;stroke-width:1.0\"><g id=\"Node-0\" transform=\"translate(57.8341,210.486)\"><circle r=\"7.5\"></circle></g><g id=\"Node-1\" transform=\"translate(103.917,210.486)\"><circle r=\"7.5\"></circle></g><g id=\"Node-2\" transform=\"translate(150,210.486)\"><circle r=\"7.5\"></circle></g><g id=\"Node-3\" transform=\"translate(196.083,210.486)\"><circle r=\"7.5\"></circle></g><g id=\"Node-4\" transform=\"translate(242.166,210.486)\"><circle r=\"7.5\"></circle></g><g id=\"Node-5\" transform=\"translate(80.8756,159.171)\"><circle r=\"7.5\"></circle></g><g id=\"Node-6\" transform=\"translate(115.438,107.857)\"><circle r=\"7.5\"></circle></g><g id=\"Node-7\" transform=\"translate(219.124,107.857)\"><circle r=\"7.5\"></circle></g><g id=\"Node-8\" transform=\"translate(167.281,56.5426)\"><circle r=\"7.5\"></circle></g></g><g class=\"toytree-NodeLabels\" style=\"font-family:Helvetica;font-size:9px;font-weight:300;vertical-align:baseline;white-space:pre;stroke:none\"><g class=\"toytree-NodeLabel\" transform=\"translate(57.8341,210.486)\"><text x=\"-2.5020000000000002\" y=\"2.2995\" style=\"fill:rgb(14.5%,14.5%,14.5%);fill-opacity:1.0\">0</text></g><g class=\"toytree-NodeLabel\" transform=\"translate(103.917,210.486)\"><text x=\"-2.5020000000000002\" y=\"2.2995\" style=\"fill:rgb(14.5%,14.5%,14.5%);fill-opacity:1.0\">1</text></g><g class=\"toytree-NodeLabel\" transform=\"translate(150,210.486)\"><text x=\"-2.5020000000000002\" y=\"2.2995\" style=\"fill:rgb(14.5%,14.5%,14.5%);fill-opacity:1.0\">2</text></g><g class=\"toytree-NodeLabel\" transform=\"translate(196.083,210.486)\"><text x=\"-2.5020000000000002\" y=\"2.2995\" style=\"fill:rgb(14.5%,14.5%,14.5%);fill-opacity:1.0\">3</text></g><g class=\"toytree-NodeLabel\" transform=\"translate(242.166,210.486)\"><text x=\"-2.5020000000000002\" y=\"2.2995\" style=\"fill:rgb(14.5%,14.5%,14.5%);fill-opacity:1.0\">4</text></g><g class=\"toytree-NodeLabel\" transform=\"translate(80.8756,159.171)\"><text x=\"-2.5020000000000002\" y=\"2.2995\" style=\"fill:rgb(14.5%,14.5%,14.5%);fill-opacity:1.0\">5</text></g><g class=\"toytree-NodeLabel\" transform=\"translate(115.438,107.857)\"><text x=\"-2.5020000000000002\" y=\"2.2995\" style=\"fill:rgb(14.5%,14.5%,14.5%);fill-opacity:1.0\">6</text></g><g class=\"toytree-NodeLabel\" transform=\"translate(219.124,107.857)\"><text x=\"-2.5020000000000002\" y=\"2.2995\" style=\"fill:rgb(14.5%,14.5%,14.5%);fill-opacity:1.0\">7</text></g><g class=\"toytree-NodeLabel\" transform=\"translate(167.281,56.5426)\"><text x=\"-2.5020000000000002\" y=\"2.2995\" style=\"fill:rgb(14.5%,14.5%,14.5%);fill-opacity:1.0\">8</text></g></g><g class=\"toytree-TipLabels\" style=\"fill:rgb(14.5%,14.5%,14.5%);fill-opacity:1.0;font-family:Helvetica;font-size:12px;font-weight:300;vertical-align:baseline;white-space:pre;stroke:none\"><g class=\"toytree-TipLabel\" transform=\"translate(57.8341,210.486)rotate(90)\"><text x=\"15.0\" y=\"3.066\" style=\"fill:rgb(14.5%,14.5%,14.5%);fill-opacity:1.0\">r0</text></g><g class=\"toytree-TipLabel\" transform=\"translate(103.917,210.486)rotate(90)\"><text x=\"15.0\" y=\"3.066\" style=\"fill:rgb(14.5%,14.5%,14.5%);fill-opacity:1.0\">r1</text></g><g class=\"toytree-TipLabel\" transform=\"translate(150,210.486)rotate(90)\"><text x=\"15.0\" y=\"3.066\" style=\"fill:rgb(14.5%,14.5%,14.5%);fill-opacity:1.0\">r2</text></g><g class=\"toytree-TipLabel\" transform=\"translate(196.083,210.486)rotate(90)\"><text x=\"15.0\" y=\"3.066\" style=\"fill:rgb(14.5%,14.5%,14.5%);fill-opacity:1.0\">r3</text></g><g class=\"toytree-TipLabel\" transform=\"translate(242.166,210.486)rotate(90)\"><text x=\"15.0\" y=\"3.066\" style=\"fill:rgb(14.5%,14.5%,14.5%);fill-opacity:1.0\">r4</text></g></g></g></g><g class=\"toyplot-coordinates-Axis\" id=\"t1d396f2ca1554b8facd3da3744c929e2\" transform=\"translate(50.0,250.0)rotate(-90.0)translate(0,-15.0)\"><line x1=\"39.51415508243662\" y1=\"0\" x2=\"193.45741159808495\" y2=\"0\" style=\"\"></line><g><line x1=\"39.51415508243662\" y1=\"0\" x2=\"39.51415508243662\" y2=\"5\" style=\"\"></line><line x1=\"70.3028063855663\" y1=\"0\" x2=\"70.3028063855663\" y2=\"5\" style=\"\"></line><line x1=\"101.09145768869597\" y1=\"0\" x2=\"101.09145768869597\" y2=\"5\" style=\"\"></line><line x1=\"131.88010899182564\" y1=\"0\" x2=\"131.88010899182564\" y2=\"5\" style=\"\"></line><line x1=\"162.66876029495526\" y1=\"0\" x2=\"162.66876029495526\" y2=\"5\" style=\"\"></line><line x1=\"193.45741159808495\" y1=\"0\" x2=\"193.45741159808495\" y2=\"5\" style=\"\"></line></g><g><g transform=\"translate(39.51415508243662,-6)\"><text x=\"-2.78\" y=\"-4.440892098500626e-16\" style=\"fill:rgb(16.1%,15.3%,14.1%);fill-opacity:1.0;font-family:helvetica;font-size:10.0px;font-weight:normal;stroke:none;vertical-align:baseline;white-space:pre\">0</text></g><g transform=\"translate(70.3028063855663,-6)\"><text x=\"-2.78\" y=\"-4.440892098500626e-16\" style=\"fill:rgb(16.1%,15.3%,14.1%);fill-opacity:1.0;font-family:helvetica;font-size:10.0px;font-weight:normal;stroke:none;vertical-align:baseline;white-space:pre\">1</text></g><g transform=\"translate(101.09145768869597,-6)\"><text x=\"-2.78\" y=\"-4.440892098500626e-16\" style=\"fill:rgb(16.1%,15.3%,14.1%);fill-opacity:1.0;font-family:helvetica;font-size:10.0px;font-weight:normal;stroke:none;vertical-align:baseline;white-space:pre\">2</text></g><g transform=\"translate(131.88010899182564,-6)\"><text x=\"-2.78\" y=\"-4.440892098500626e-16\" style=\"fill:rgb(16.1%,15.3%,14.1%);fill-opacity:1.0;font-family:helvetica;font-size:10.0px;font-weight:normal;stroke:none;vertical-align:baseline;white-space:pre\">3</text></g><g transform=\"translate(162.66876029495526,-6)\"><text x=\"-2.78\" y=\"-4.440892098500626e-16\" style=\"fill:rgb(16.1%,15.3%,14.1%);fill-opacity:1.0;font-family:helvetica;font-size:10.0px;font-weight:normal;stroke:none;vertical-align:baseline;white-space:pre\">4</text></g><g transform=\"translate(193.45741159808495,-6)\"><text x=\"-2.78\" y=\"-4.440892098500626e-16\" style=\"fill:rgb(16.1%,15.3%,14.1%);fill-opacity:1.0;font-family:helvetica;font-size:10.0px;font-weight:normal;stroke:none;vertical-align:baseline;white-space:pre\">5</text></g></g><g class=\"toyplot-coordinates-Axis-coordinates\" style=\"visibility:hidden\" transform=\"\"><line x1=\"0\" x2=\"0\" y1=\"3.0\" y2=\"-4.5\" style=\"stroke:rgb(43.9%,50.2%,56.5%);stroke-opacity:1.0;stroke-width:1.0\"></line><text x=\"0\" y=\"6\" style=\"alignment-baseline:hanging;fill:rgb(43.9%,50.2%,56.5%);fill-opacity:1.0;font-size:10px;font-weight:normal;stroke:none;text-anchor:middle\"></text></g></g></g></svg><div class=\"toyplot-behavior\"><script>(function()\n",
       "{\n",
       "var modules={};\n",
       "modules[\"toyplot/canvas/id\"] = \"tda4c09fa723d4cdcbb5e7ebd20922b5c\";\n",
       "modules[\"toyplot/canvas\"] = (function(canvas_id)\n",
       "    {\n",
       "        return document.querySelector(\"#\" + canvas_id);\n",
       "    })(modules[\"toyplot/canvas/id\"]);\n",
       "modules[\"toyplot.coordinates.Axis\"] = (\n",
       "        function(canvas)\n",
       "        {\n",
       "            function sign(x)\n",
       "            {\n",
       "                return x < 0 ? -1 : x > 0 ? 1 : 0;\n",
       "            }\n",
       "\n",
       "            function mix(a, b, amount)\n",
       "            {\n",
       "                return ((1.0 - amount) * a) + (amount * b);\n",
       "            }\n",
       "\n",
       "            function log(x, base)\n",
       "            {\n",
       "                return Math.log(Math.abs(x)) / Math.log(base);\n",
       "            }\n",
       "\n",
       "            function in_range(a, x, b)\n",
       "            {\n",
       "                var left = Math.min(a, b);\n",
       "                var right = Math.max(a, b);\n",
       "                return left <= x && x <= right;\n",
       "            }\n",
       "\n",
       "            function inside(range, projection)\n",
       "            {\n",
       "                for(var i = 0; i != projection.length; ++i)\n",
       "                {\n",
       "                    var segment = projection[i];\n",
       "                    if(in_range(segment.range.min, range, segment.range.max))\n",
       "                        return true;\n",
       "                }\n",
       "                return false;\n",
       "            }\n",
       "\n",
       "            function to_domain(range, projection)\n",
       "            {\n",
       "                for(var i = 0; i != projection.length; ++i)\n",
       "                {\n",
       "                    var segment = projection[i];\n",
       "                    if(in_range(segment.range.bounds.min, range, segment.range.bounds.max))\n",
       "                    {\n",
       "                        if(segment.scale == \"linear\")\n",
       "                        {\n",
       "                            var amount = (range - segment.range.min) / (segment.range.max - segment.range.min);\n",
       "                            return mix(segment.domain.min, segment.domain.max, amount)\n",
       "                        }\n",
       "                        else if(segment.scale[0] == \"log\")\n",
       "                        {\n",
       "                            var amount = (range - segment.range.min) / (segment.range.max - segment.range.min);\n",
       "                            var base = segment.scale[1];\n",
       "                            return sign(segment.domain.min) * Math.pow(base, mix(log(segment.domain.min, base), log(segment.domain.max, base), amount));\n",
       "                        }\n",
       "                    }\n",
       "                }\n",
       "            }\n",
       "\n",
       "            var axes = {};\n",
       "\n",
       "            function display_coordinates(e)\n",
       "            {\n",
       "                var current = canvas.createSVGPoint();\n",
       "                current.x = e.clientX;\n",
       "                current.y = e.clientY;\n",
       "\n",
       "                for(var axis_id in axes)\n",
       "                {\n",
       "                    var axis = document.querySelector(\"#\" + axis_id);\n",
       "                    var coordinates = axis.querySelector(\".toyplot-coordinates-Axis-coordinates\");\n",
       "                    if(coordinates)\n",
       "                    {\n",
       "                        var projection = axes[axis_id];\n",
       "                        var local = current.matrixTransform(axis.getScreenCTM().inverse());\n",
       "                        if(inside(local.x, projection))\n",
       "                        {\n",
       "                            var domain = to_domain(local.x, projection);\n",
       "                            coordinates.style.visibility = \"visible\";\n",
       "                            coordinates.setAttribute(\"transform\", \"translate(\" + local.x + \")\");\n",
       "                            var text = coordinates.querySelector(\"text\");\n",
       "                            text.textContent = domain.toFixed(2);\n",
       "                        }\n",
       "                        else\n",
       "                        {\n",
       "                            coordinates.style.visibility= \"hidden\";\n",
       "                        }\n",
       "                    }\n",
       "                }\n",
       "            }\n",
       "\n",
       "            canvas.addEventListener(\"click\", display_coordinates);\n",
       "\n",
       "            var module = {};\n",
       "            module.show_coordinates = function(axis_id, projection)\n",
       "            {\n",
       "                axes[axis_id] = projection;\n",
       "            }\n",
       "\n",
       "            return module;\n",
       "        })(modules[\"toyplot/canvas\"]);\n",
       "(function(axis, axis_id, projection)\n",
       "        {\n",
       "            axis.show_coordinates(axis_id, projection);\n",
       "        })(modules[\"toyplot.coordinates.Axis\"],\"t1d396f2ca1554b8facd3da3744c929e2\",[{\"domain\": {\"bounds\": {\"max\": Infinity, \"min\": -Infinity}, \"max\": 521250.0, \"min\": -128340.00000000004}, \"range\": {\"bounds\": {\"max\": Infinity, \"min\": -Infinity}, \"max\": 200.0, \"min\": 0.0}, \"scale\": \"linear\"}]);\n",
       "})();</script></div></div>"
      ]
     },
     "metadata": {},
     "output_type": "display_data"
    }
   ],
   "source": [
    "# get a 5-tip imbalanced species tree w/ equal internal edges\n",
    "sptree = toytree.rtree.unittree(ntips=5, treeheight=5e5, seed=123)\n",
    "\n",
    "# define a species network\n",
    "model = ipcoal.Model(sptree, admixture_edges=[(2, 3, 300_000, 0.1)], Ne=2e5, nsamples=4, seed_trees=123, seed_mutations=123)\n",
    "\n",
    "# simulate 100 loci x 1000 sites under the demographic model\n",
    "model.sim_loci(nloci=100, nsites=1000)\n",
    "\n",
    "# draw the demographic model with the first genealogy embedded\n",
    "model.draw_sptree(scale_bar=1e5);"
   ]
  },
  {
   "cell_type": "markdown",
   "id": "1a3c99cb-b72a-416d-8135-5c678189ab9e",
   "metadata": {},
   "source": [
    "### Getting tree sets\n",
    "#### Genealogies\n",
    "We can apply ASTRAL to infer a species tree from coalescent simulated data in a number of ways. First, we might be interested in the species tree that can be inferred from perfectly accurate input trees. We have these in the form of the simulated genealogies that are stored in the \"genealogy\" column of the `Model.df` dataframe. "
   ]
  },
  {
   "cell_type": "code",
   "execution_count": 24,
   "id": "30b1bb3e-a356-4010-a6fb-00344809674a",
   "metadata": {},
   "outputs": [
    {
     "data": {
      "text/html": [
       "<div>\n",
       "<style scoped>\n",
       "    .dataframe tbody tr th:only-of-type {\n",
       "        vertical-align: middle;\n",
       "    }\n",
       "\n",
       "    .dataframe tbody tr th {\n",
       "        vertical-align: top;\n",
       "    }\n",
       "\n",
       "    .dataframe thead th {\n",
       "        text-align: right;\n",
       "    }\n",
       "</style>\n",
       "<table border=\"1\" class=\"dataframe\">\n",
       "  <thead>\n",
       "    <tr style=\"text-align: right;\">\n",
       "      <th></th>\n",
       "      <th>locus</th>\n",
       "      <th>start</th>\n",
       "      <th>end</th>\n",
       "      <th>nbps</th>\n",
       "      <th>nsnps</th>\n",
       "      <th>tidx</th>\n",
       "      <th>genealogy</th>\n",
       "    </tr>\n",
       "  </thead>\n",
       "  <tbody>\n",
       "    <tr>\n",
       "      <th>0</th>\n",
       "      <td>0</td>\n",
       "      <td>0</td>\n",
       "      <td>158</td>\n",
       "      <td>158</td>\n",
       "      <td>11</td>\n",
       "      <td>0</td>\n",
       "      <td>(((r3_1:114096.469358424...</td>\n",
       "    </tr>\n",
       "    <tr>\n",
       "      <th>1</th>\n",
       "      <td>0</td>\n",
       "      <td>158</td>\n",
       "      <td>235</td>\n",
       "      <td>77</td>\n",
       "      <td>4</td>\n",
       "      <td>1</td>\n",
       "      <td>(((r3_1:114096.469358424...</td>\n",
       "    </tr>\n",
       "    <tr>\n",
       "      <th>2</th>\n",
       "      <td>0</td>\n",
       "      <td>235</td>\n",
       "      <td>285</td>\n",
       "      <td>50</td>\n",
       "      <td>1</td>\n",
       "      <td>2</td>\n",
       "      <td>(((r3_1:114096.469358424...</td>\n",
       "    </tr>\n",
       "    <tr>\n",
       "      <th>3</th>\n",
       "      <td>0</td>\n",
       "      <td>285</td>\n",
       "      <td>321</td>\n",
       "      <td>36</td>\n",
       "      <td>1</td>\n",
       "      <td>3</td>\n",
       "      <td>((r1_2:490204.8777700350...</td>\n",
       "    </tr>\n",
       "    <tr>\n",
       "      <th>4</th>\n",
       "      <td>0</td>\n",
       "      <td>321</td>\n",
       "      <td>333</td>\n",
       "      <td>12</td>\n",
       "      <td>1</td>\n",
       "      <td>4</td>\n",
       "      <td>((r1_2:490204.8777700350...</td>\n",
       "    </tr>\n",
       "    <tr>\n",
       "      <th>5</th>\n",
       "      <td>0</td>\n",
       "      <td>333</td>\n",
       "      <td>380</td>\n",
       "      <td>47</td>\n",
       "      <td>4</td>\n",
       "      <td>5</td>\n",
       "      <td>((r1_2:490204.8777700350...</td>\n",
       "    </tr>\n",
       "    <tr>\n",
       "      <th>6</th>\n",
       "      <td>0</td>\n",
       "      <td>380</td>\n",
       "      <td>826</td>\n",
       "      <td>446</td>\n",
       "      <td>22</td>\n",
       "      <td>6</td>\n",
       "      <td>((r1_2:490204.8777700350...</td>\n",
       "    </tr>\n",
       "    <tr>\n",
       "      <th>7</th>\n",
       "      <td>0</td>\n",
       "      <td>826</td>\n",
       "      <td>935</td>\n",
       "      <td>109</td>\n",
       "      <td>7</td>\n",
       "      <td>7</td>\n",
       "      <td>((r1_2:490204.8777700350...</td>\n",
       "    </tr>\n",
       "    <tr>\n",
       "      <th>8</th>\n",
       "      <td>0</td>\n",
       "      <td>935</td>\n",
       "      <td>951</td>\n",
       "      <td>16</td>\n",
       "      <td>1</td>\n",
       "      <td>8</td>\n",
       "      <td>((r1_2:490204.8777700350...</td>\n",
       "    </tr>\n",
       "    <tr>\n",
       "      <th>9</th>\n",
       "      <td>0</td>\n",
       "      <td>951</td>\n",
       "      <td>1000</td>\n",
       "      <td>49</td>\n",
       "      <td>4</td>\n",
       "      <td>9</td>\n",
       "      <td>((r1_2:490204.8777700350...</td>\n",
       "    </tr>\n",
       "  </tbody>\n",
       "</table>\n",
       "</div>"
      ],
      "text/plain": [
       "   locus  start   end  nbps  nsnps  tidx                    genealogy\n",
       "0      0      0   158   158     11     0  (((r3_1:114096.469358424...\n",
       "1      0    158   235    77      4     1  (((r3_1:114096.469358424...\n",
       "2      0    235   285    50      1     2  (((r3_1:114096.469358424...\n",
       "3      0    285   321    36      1     3  ((r1_2:490204.8777700350...\n",
       "4      0    321   333    12      1     4  ((r1_2:490204.8777700350...\n",
       "5      0    333   380    47      4     5  ((r1_2:490204.8777700350...\n",
       "6      0    380   826   446     22     6  ((r1_2:490204.8777700350...\n",
       "7      0    826   935   109      7     7  ((r1_2:490204.8777700350...\n",
       "8      0    935   951    16      1     8  ((r1_2:490204.8777700350...\n",
       "9      0    951  1000    49      4     9  ((r1_2:490204.8777700350..."
      ]
     },
     "execution_count": 24,
     "metadata": {},
     "output_type": "execute_result"
    }
   ],
   "source": [
    "# show the first 10 trees in the result dataframe\n",
    "model.df.head(10)"
   ]
  },
  {
   "cell_type": "markdown",
   "id": "4b95f312-3024-49d0-b5da-a25d1672509d",
   "metadata": {},
   "source": [
    "However, it is important to consider how these data actually match to the expectations of the multi-species coalescent. For example, if you simulate the coalescent with a recombination rate > 0 for loci that are longer than 1 site in length, as we did here, then each locus may contain more than one genealogy. Indeed, we can see in the dataframe above that the first locus contains 8 genealogies. If we were to input all of these genealogies into SNAQ it would technically violate an assumption of the MSC model that the trees are expected to be statistically independent. Instead, it would be more appropriate to sample one genealogy per locus, perhaps the first one, or the longest one. Below we extract the full set of genealogies, and a subset composing just one genealogy per locus. Here the trees are stored as a `pd.Series` object, which can be used in downstream steps, but it could just as well be a list or any collection object. We will analyze the trees in the next section."
   ]
  },
  {
   "cell_type": "code",
   "execution_count": 25,
   "id": "2bedcd64-65b2-4444-85dc-132a91e3ac9e",
   "metadata": {},
   "outputs": [],
   "source": [
    "# get all simulated genealogies\n",
    "all_genealogies = model.df.genealogy"
   ]
  },
  {
   "cell_type": "code",
   "execution_count": 26,
   "id": "25f48b22-9b3d-4fb3-81ba-36a7d73e909b",
   "metadata": {},
   "outputs": [],
   "source": [
    "# sample the first tree from every locus\n",
    "first_genealogies = model.df.genealogy[model.df.tidx == 0]"
   ]
  },
  {
   "cell_type": "markdown",
   "id": "965929b7-272e-4cc1-bec9-79005189d1c3",
   "metadata": {},
   "source": [
    "Using a multitree drawing from toytree we can view the first several simulated genealogies and see that there is some amount of ILS in each tree. We can see also that the trees are fully resolved and the tips align at zero. This is what simulated coalescent genealogies will usually look like."
   ]
  },
  {
   "cell_type": "code",
   "execution_count": 27,
   "id": "06f22381-8d0e-41ba-a0ac-05590676220b",
   "metadata": {},
   "outputs": [
    {
     "data": {
      "text/html": [
       "<div class=\"toyplot\" id=\"ta45f335f35b84430ac5fd4d1b2edda34\" style=\"text-align:center\"><svg class=\"toyplot-canvas-Canvas\" xmlns:toyplot=\"http://www.sandia.gov/toyplot\" xmlns:xlink=\"http://www.w3.org/1999/xlink\" xmlns=\"http://www.w3.org/2000/svg\" width=\"750.0px\" height=\"350.0px\" viewBox=\"0 0 750.0 350.0\" preserveAspectRatio=\"xMidYMid meet\" style=\"background-color:transparent;border-color:#292724;border-style:none;border-width:1.0;fill:rgb(16.1%,15.3%,14.1%);fill-opacity:1.0;font-family:Helvetica;font-size:12px;opacity:1.0;stroke:rgb(16.1%,15.3%,14.1%);stroke-opacity:1.0;stroke-width:1.0\" id=\"t08e0ab5d58bb4216a7c0f16237d5a0dc\"><g class=\"toyplot-coordinates-Cartesian\" id=\"t471508186084431faf369d471bcf1806\"><clipPath id=\"tcee59985aeb945ad8d7c13b85c05667f\"><rect x=\"20.0\" y=\"40.0\" width=\"167.5\" height=\"270.0\"></rect></clipPath><g clip-path=\"url(#tcee59985aeb945ad8d7c13b85c05667f)\"><g class=\"toytree-mark-Toytree\" id=\"t633b641e828c4e58928d12472738c004\"><g class=\"toytree-Edges\" style=\"stroke:rgb(14.5%,14.5%,14.5%);stroke-opacity:1.0;stroke-linecap:round;stroke-width:2.0;fill:none\"><path d=\"M 124.5 288.0 L 124.5 294.3 L 135.0 294.3\" id=\"20,0\" style=\"\"></path><path d=\"M 124.5 288.0 L 124.5 281.7 L 135.0 281.7\" id=\"20,1\" style=\"\"></path><path d=\"M 133.3 262.9 L 133.3 269.2 L 135.0 269.2\" id=\"21,2\" style=\"\"></path><path d=\"M 133.3 262.9 L 133.3 256.6 L 135.0 256.6\" id=\"21,3\" style=\"\"></path><path d=\"M 112.8 233.1 L 112.8 244.1 L 135.0 244.1\" id=\"24,4\" style=\"\"></path><path d=\"M 115.8 222.1 L 115.8 231.5 L 135.0 231.5\" id=\"23,5\" style=\"\"></path><path d=\"M 132.2 212.7 L 132.2 218.9 L 135.0 218.9\" id=\"22,6\" style=\"\"></path><path d=\"M 132.2 212.7 L 132.2 206.4 L 135.0 206.4\" id=\"22,7\" style=\"\"></path><path d=\"M 133.9 187.6 L 133.9 193.8 L 135.0 193.8\" id=\"27,8\" style=\"\"></path><path d=\"M 133.9 187.6 L 133.9 181.3 L 135.0 181.3\" id=\"27,9\" style=\"\"></path><path d=\"M 111.5 157.7 L 111.5 168.7 L 135.0 168.7\" id=\"30,10\" style=\"\"></path><path d=\"M 119.4 146.8 L 119.4 156.2 L 135.0 156.2\" id=\"29,11\" style=\"\"></path><path d=\"M 120.3 137.3 L 120.3 143.6 L 135.0 143.6\" id=\"28,12\" style=\"\"></path><path d=\"M 120.3 137.3 L 120.3 131.1 L 135.0 131.1\" id=\"28,13\" style=\"\"></path><path d=\"M 90.1 106.3 L 90.1 118.5 L 135.0 118.5\" id=\"36,14\" style=\"\"></path><path d=\"M 116.5 94.2 L 116.5 105.9 L 135.0 105.9\" id=\"35,15\" style=\"\"></path><path d=\"M 123.5 82.4 L 123.5 93.4 L 135.0 93.4\" id=\"34,16\" style=\"\"></path><path d=\"M 124.2 71.4 L 124.2 80.8 L 135.0 80.8\" id=\"33,17\" style=\"\"></path><path d=\"M 132.6 62.0 L 132.6 68.3 L 135.0 68.3\" id=\"32,18\" style=\"\"></path><path d=\"M 132.6 62.0 L 132.6 55.7 L 135.0 55.7\" id=\"32,19\" style=\"\"></path><path d=\"M 95.5 268.0 L 95.5 288.0 L 124.5 288.0\" id=\"26,20\" style=\"\"></path><path d=\"M 103.2 248.0 L 103.2 262.9 L 133.3 262.9\" id=\"25,21\" style=\"\"></path><path d=\"M 115.8 222.1 L 115.8 212.7 L 132.2 212.7\" id=\"23,22\" style=\"\"></path><path d=\"M 112.8 233.1 L 112.8 222.1 L 115.8 222.1\" id=\"24,23\" style=\"\"></path><path d=\"M 103.2 248.0 L 103.2 233.1 L 112.8 233.1\" id=\"25,24\" style=\"\"></path><path d=\"M 95.5 268.0 L 95.5 248.0 L 103.2 248.0\" id=\"26,25\" style=\"\"></path><path d=\"M 30.7 203.7 L 30.7 268.0 L 95.5 268.0\" id=\"38,26\" style=\"\"></path><path d=\"M 94.4 172.6 L 94.4 187.6 L 133.9 187.6\" id=\"31,27\" style=\"\"></path><path d=\"M 119.4 146.8 L 119.4 137.3 L 120.3 137.3\" id=\"29,28\" style=\"\"></path><path d=\"M 111.5 157.7 L 111.5 146.8 L 119.4 146.8\" id=\"30,29\" style=\"\"></path><path d=\"M 94.4 172.6 L 94.4 157.7 L 111.5 157.7\" id=\"31,30\" style=\"\"></path><path d=\"M 86.9 139.5 L 86.9 172.6 L 94.4 172.6\" id=\"37,31\" style=\"\"></path><path d=\"M 124.2 71.4 L 124.2 62.0 L 132.6 62.0\" id=\"33,32\" style=\"\"></path><path d=\"M 123.5 82.4 L 123.5 71.4 L 124.2 71.4\" id=\"34,33\" style=\"\"></path><path d=\"M 116.5 94.2 L 116.5 82.4 L 123.5 82.4\" id=\"35,34\" style=\"\"></path><path d=\"M 90.1 106.3 L 90.1 94.2 L 116.5 94.2\" id=\"36,35\" style=\"\"></path><path d=\"M 86.9 139.5 L 86.9 106.3 L 90.1 106.3\" id=\"37,36\" style=\"\"></path><path d=\"M 30.7 203.7 L 30.7 139.5 L 86.9 139.5\" id=\"38,37\" style=\"\"></path></g><g class=\"toytree-AdmixEdges\" style=\"fill:rgb(0.0%,0.0%,0.0%);fill-opacity:0.0;stroke:rgb(90.6%,54.1%,76.5%);stroke-opacity:0.6;font-size:14px;stroke-linecap:round;stroke-width:5\"></g><g class=\"toytree-Nodes\" style=\"fill:rgb(40.0%,76.1%,64.7%);fill-opacity:1.0;stroke:rgb(14.9%,14.9%,14.9%);stroke-opacity:1.0;stroke-width:1.5\"></g><g class=\"toytree-TipLabels\" style=\"fill:rgb(14.5%,14.5%,14.5%);fill-opacity:1.0;font-family:Helvetica;font-size:10px;font-weight:300;vertical-align:baseline;white-space:pre;stroke:none\"><g class=\"toytree-TipLabel\" transform=\"translate(135.044,294.275)\"><text x=\"10.0\" y=\"2.5549999999999997\" style=\"fill:rgb(14.5%,14.5%,14.5%);fill-opacity:1.0\">r3_1</text></g><g class=\"toytree-TipLabel\" transform=\"translate(135.044,281.72)\"><text x=\"10.0\" y=\"2.5549999999999997\" style=\"fill:rgb(14.5%,14.5%,14.5%);fill-opacity:1.0\">r3_2</text></g><g class=\"toytree-TipLabel\" transform=\"translate(135.044,269.164)\"><text x=\"10.0\" y=\"2.5549999999999997\" style=\"fill:rgb(14.5%,14.5%,14.5%);fill-opacity:1.0\">r3_0</text></g><g class=\"toytree-TipLabel\" transform=\"translate(135.044,256.609)\"><text x=\"10.0\" y=\"2.5549999999999997\" style=\"fill:rgb(14.5%,14.5%,14.5%);fill-opacity:1.0\">r3_3</text></g><g class=\"toytree-TipLabel\" transform=\"translate(135.044,244.054)\"><text x=\"10.0\" y=\"2.5549999999999997\" style=\"fill:rgb(14.5%,14.5%,14.5%);fill-opacity:1.0\">r4_2</text></g><g class=\"toytree-TipLabel\" transform=\"translate(135.044,231.499)\"><text x=\"10.0\" y=\"2.5549999999999997\" style=\"fill:rgb(14.5%,14.5%,14.5%);fill-opacity:1.0\">r4_3</text></g><g class=\"toytree-TipLabel\" transform=\"translate(135.044,218.943)\"><text x=\"10.0\" y=\"2.5549999999999997\" style=\"fill:rgb(14.5%,14.5%,14.5%);fill-opacity:1.0\">r4_0</text></g><g class=\"toytree-TipLabel\" transform=\"translate(135.044,206.388)\"><text x=\"10.0\" y=\"2.5549999999999997\" style=\"fill:rgb(14.5%,14.5%,14.5%);fill-opacity:1.0\">r4_1</text></g><g class=\"toytree-TipLabel\" transform=\"translate(135.044,193.833)\"><text x=\"10.0\" y=\"2.5549999999999997\" style=\"fill:rgb(14.5%,14.5%,14.5%);fill-opacity:1.0\">r1_0</text></g><g class=\"toytree-TipLabel\" transform=\"translate(135.044,181.278)\"><text x=\"10.0\" y=\"2.5549999999999997\" style=\"fill:rgb(14.5%,14.5%,14.5%);fill-opacity:1.0\">r1_1</text></g><g class=\"toytree-TipLabel\" transform=\"translate(135.044,168.722)\"><text x=\"10.0\" y=\"2.5549999999999997\" style=\"fill:rgb(14.5%,14.5%,14.5%);fill-opacity:1.0\">r2_2</text></g><g class=\"toytree-TipLabel\" transform=\"translate(135.044,156.167)\"><text x=\"10.0\" y=\"2.5549999999999997\" style=\"fill:rgb(14.5%,14.5%,14.5%);fill-opacity:1.0\">r2_3</text></g><g class=\"toytree-TipLabel\" transform=\"translate(135.044,143.612)\"><text x=\"10.0\" y=\"2.5549999999999997\" style=\"fill:rgb(14.5%,14.5%,14.5%);fill-opacity:1.0\">r2_0</text></g><g class=\"toytree-TipLabel\" transform=\"translate(135.044,131.057)\"><text x=\"10.0\" y=\"2.5549999999999997\" style=\"fill:rgb(14.5%,14.5%,14.5%);fill-opacity:1.0\">r2_1</text></g><g class=\"toytree-TipLabel\" transform=\"translate(135.044,118.501)\"><text x=\"10.0\" y=\"2.5549999999999997\" style=\"fill:rgb(14.5%,14.5%,14.5%);fill-opacity:1.0\">r1_2</text></g><g class=\"toytree-TipLabel\" transform=\"translate(135.044,105.946)\"><text x=\"10.0\" y=\"2.5549999999999997\" style=\"fill:rgb(14.5%,14.5%,14.5%);fill-opacity:1.0\">r1_3</text></g><g class=\"toytree-TipLabel\" transform=\"translate(135.044,93.3909)\"><text x=\"10.0\" y=\"2.5549999999999997\" style=\"fill:rgb(14.5%,14.5%,14.5%);fill-opacity:1.0\">r0_2</text></g><g class=\"toytree-TipLabel\" transform=\"translate(135.044,80.8357)\"><text x=\"10.0\" y=\"2.5549999999999997\" style=\"fill:rgb(14.5%,14.5%,14.5%);fill-opacity:1.0\">r0_3</text></g><g class=\"toytree-TipLabel\" transform=\"translate(135.044,68.2804)\"><text x=\"10.0\" y=\"2.5549999999999997\" style=\"fill:rgb(14.5%,14.5%,14.5%);fill-opacity:1.0\">r0_0</text></g><g class=\"toytree-TipLabel\" transform=\"translate(135.044,55.7252)\"><text x=\"10.0\" y=\"2.5549999999999997\" style=\"fill:rgb(14.5%,14.5%,14.5%);fill-opacity:1.0\">r0_1</text></g></g></g></g></g><g class=\"toyplot-coordinates-Cartesian\" id=\"td64a18c520bb4c6da83f493151a53118\"><clipPath id=\"tad0245bd7d0147f7bcf46a71997cf36a\"><rect x=\"207.5\" y=\"40.0\" width=\"167.5\" height=\"270.0\"></rect></clipPath><g clip-path=\"url(#tad0245bd7d0147f7bcf46a71997cf36a)\"><g class=\"toytree-mark-Toytree\" id=\"t5fe678f122c242afa8541e62a35cffb5\"><g class=\"toytree-Edges\" style=\"stroke:rgb(14.5%,14.5%,14.5%);stroke-opacity:1.0;stroke-linecap:round;stroke-width:2.0;fill:none\"><path d=\"M 285.3 283.3 L 285.3 294.3 L 322.5 294.3\" id=\"22,0\" style=\"\"></path><path d=\"M 308.0 272.3 L 308.0 281.7 L 322.5 281.7\" id=\"21,1\" style=\"\"></path><path d=\"M 313.1 262.9 L 313.1 269.2 L 322.5 269.2\" id=\"20,2\" style=\"\"></path><path d=\"M 313.1 262.9 L 313.1 256.6 L 322.5 256.6\" id=\"20,3\" style=\"\"></path><path d=\"M 321.1 237.8 L 321.1 244.1 L 322.5 244.1\" id=\"23,4\" style=\"\"></path><path d=\"M 321.1 237.8 L 321.1 231.5 L 322.5 231.5\" id=\"23,5\" style=\"\"></path><path d=\"M 299.5 212.7 L 299.5 218.9 L 322.5 218.9\" id=\"24,6\" style=\"\"></path><path d=\"M 299.5 212.7 L 299.5 206.4 L 322.5 206.4\" id=\"24,7\" style=\"\"></path><path d=\"M 292.5 182.8 L 292.5 193.8 L 322.5 193.8\" id=\"27,8\" style=\"\"></path><path d=\"M 298.6 171.9 L 298.6 181.3 L 322.5 181.3\" id=\"26,9\" style=\"\"></path><path d=\"M 317.4 162.4 L 317.4 168.7 L 322.5 168.7\" id=\"25,10\" style=\"\"></path><path d=\"M 317.4 162.4 L 317.4 156.2 L 322.5 156.2\" id=\"25,11\" style=\"\"></path><path d=\"M 316.0 137.3 L 316.0 143.6 L 322.5 143.6\" id=\"30,12\" style=\"\"></path><path d=\"M 316.0 137.3 L 316.0 131.1 L 322.5 131.1\" id=\"30,13\" style=\"\"></path><path d=\"M 316.0 112.2 L 316.0 118.5 L 322.5 118.5\" id=\"31,14\" style=\"\"></path><path d=\"M 316.0 112.2 L 316.0 105.9 L 322.5 105.9\" id=\"31,15\" style=\"\"></path><path d=\"M 293.1 87.1 L 293.1 93.4 L 322.5 93.4\" id=\"33,16\" style=\"\"></path><path d=\"M 293.1 87.1 L 293.1 80.8 L 322.5 80.8\" id=\"33,17\" style=\"\"></path><path d=\"M 249.0 62.0 L 249.0 68.3 L 322.5 68.3\" id=\"35,18\" style=\"\"></path><path d=\"M 249.0 62.0 L 249.0 55.7 L 322.5 55.7\" id=\"35,19\" style=\"\"></path><path d=\"M 308.0 272.3 L 308.0 262.9 L 313.1 262.9\" id=\"21,20\" style=\"\"></path><path d=\"M 285.3 283.3 L 285.3 272.3 L 308.0 272.3\" id=\"22,21\" style=\"\"></path><path d=\"M 218.2 217.1 L 218.2 283.3 L 285.3 283.3\" id=\"38,22\" style=\"\"></path><path d=\"M 276.0 217.8 L 276.0 237.8 L 321.1 237.8\" id=\"29,23\" style=\"\"></path><path d=\"M 283.6 197.8 L 283.6 212.7 L 299.5 212.7\" id=\"28,24\" style=\"\"></path><path d=\"M 298.6 171.9 L 298.6 162.4 L 317.4 162.4\" id=\"26,25\" style=\"\"></path><path d=\"M 292.5 182.8 L 292.5 171.9 L 298.6 171.9\" id=\"27,26\" style=\"\"></path><path d=\"M 283.6 197.8 L 283.6 182.8 L 292.5 182.8\" id=\"28,27\" style=\"\"></path><path d=\"M 276.0 217.8 L 276.0 197.8 L 283.6 197.8\" id=\"29,28\" style=\"\"></path><path d=\"M 219.2 150.9 L 219.2 217.8 L 276.0 217.8\" id=\"37,29\" style=\"\"></path><path d=\"M 308.7 124.8 L 308.7 137.3 L 316.0 137.3\" id=\"32,30\" style=\"\"></path><path d=\"M 308.7 124.8 L 308.7 112.2 L 316.0 112.2\" id=\"32,31\" style=\"\"></path><path d=\"M 277.7 105.9 L 277.7 124.8 L 308.7 124.8\" id=\"34,32\" style=\"\"></path><path d=\"M 277.7 105.9 L 277.7 87.1 L 293.1 87.1\" id=\"34,33\" style=\"\"></path><path d=\"M 238.7 84.0 L 238.7 105.9 L 277.7 105.9\" id=\"36,34\" style=\"\"></path><path d=\"M 238.7 84.0 L 238.7 62.0 L 249.0 62.0\" id=\"36,35\" style=\"\"></path><path d=\"M 219.2 150.9 L 219.2 84.0 L 238.7 84.0\" id=\"37,36\" style=\"\"></path><path d=\"M 218.2 217.1 L 218.2 150.9 L 219.2 150.9\" id=\"38,37\" style=\"\"></path></g><g class=\"toytree-AdmixEdges\" style=\"fill:rgb(0.0%,0.0%,0.0%);fill-opacity:0.0;stroke:rgb(90.6%,54.1%,76.5%);stroke-opacity:0.6;font-size:14px;stroke-linecap:round;stroke-width:5\"></g><g class=\"toytree-Nodes\" style=\"fill:rgb(40.0%,76.1%,64.7%);fill-opacity:1.0;stroke:rgb(14.9%,14.9%,14.9%);stroke-opacity:1.0;stroke-width:1.5\"></g><g class=\"toytree-TipLabels\" style=\"fill:rgb(14.5%,14.5%,14.5%);fill-opacity:1.0;font-family:Helvetica;font-size:10px;font-weight:300;vertical-align:baseline;white-space:pre;stroke:none\"><g class=\"toytree-TipLabel\" transform=\"translate(322.544,294.275)\"><text x=\"10.0\" y=\"2.5549999999999997\" style=\"fill:rgb(14.5%,14.5%,14.5%);fill-opacity:1.0\">r2_2</text></g><g class=\"toytree-TipLabel\" transform=\"translate(322.544,281.72)\"><text x=\"10.0\" y=\"2.5549999999999997\" style=\"fill:rgb(14.5%,14.5%,14.5%);fill-opacity:1.0\">r2_0</text></g><g class=\"toytree-TipLabel\" transform=\"translate(322.544,269.164)\"><text x=\"10.0\" y=\"2.5549999999999997\" style=\"fill:rgb(14.5%,14.5%,14.5%);fill-opacity:1.0\">r2_1</text></g><g class=\"toytree-TipLabel\" transform=\"translate(322.544,256.609)\"><text x=\"10.0\" y=\"2.5549999999999997\" style=\"fill:rgb(14.5%,14.5%,14.5%);fill-opacity:1.0\">r2_3</text></g><g class=\"toytree-TipLabel\" transform=\"translate(322.544,244.054)\"><text x=\"10.0\" y=\"2.5549999999999997\" style=\"fill:rgb(14.5%,14.5%,14.5%);fill-opacity:1.0\">r1_2</text></g><g class=\"toytree-TipLabel\" transform=\"translate(322.544,231.499)\"><text x=\"10.0\" y=\"2.5549999999999997\" style=\"fill:rgb(14.5%,14.5%,14.5%);fill-opacity:1.0\">r1_3</text></g><g class=\"toytree-TipLabel\" transform=\"translate(322.544,218.943)\"><text x=\"10.0\" y=\"2.5549999999999997\" style=\"fill:rgb(14.5%,14.5%,14.5%);fill-opacity:1.0\">r0_1</text></g><g class=\"toytree-TipLabel\" transform=\"translate(322.544,206.388)\"><text x=\"10.0\" y=\"2.5549999999999997\" style=\"fill:rgb(14.5%,14.5%,14.5%);fill-opacity:1.0\">r1_1</text></g><g class=\"toytree-TipLabel\" transform=\"translate(322.544,193.833)\"><text x=\"10.0\" y=\"2.5549999999999997\" style=\"fill:rgb(14.5%,14.5%,14.5%);fill-opacity:1.0\">r0_0</text></g><g class=\"toytree-TipLabel\" transform=\"translate(322.544,181.278)\"><text x=\"10.0\" y=\"2.5549999999999997\" style=\"fill:rgb(14.5%,14.5%,14.5%);fill-opacity:1.0\">r1_0</text></g><g class=\"toytree-TipLabel\" transform=\"translate(322.544,168.722)\"><text x=\"10.0\" y=\"2.5549999999999997\" style=\"fill:rgb(14.5%,14.5%,14.5%);fill-opacity:1.0\">r0_2</text></g><g class=\"toytree-TipLabel\" transform=\"translate(322.544,156.167)\"><text x=\"10.0\" y=\"2.5549999999999997\" style=\"fill:rgb(14.5%,14.5%,14.5%);fill-opacity:1.0\">r0_3</text></g><g class=\"toytree-TipLabel\" transform=\"translate(322.544,143.612)\"><text x=\"10.0\" y=\"2.5549999999999997\" style=\"fill:rgb(14.5%,14.5%,14.5%);fill-opacity:1.0\">r4_0</text></g><g class=\"toytree-TipLabel\" transform=\"translate(322.544,131.057)\"><text x=\"10.0\" y=\"2.5549999999999997\" style=\"fill:rgb(14.5%,14.5%,14.5%);fill-opacity:1.0\">r4_3</text></g><g class=\"toytree-TipLabel\" transform=\"translate(322.544,118.501)\"><text x=\"10.0\" y=\"2.5549999999999997\" style=\"fill:rgb(14.5%,14.5%,14.5%);fill-opacity:1.0\">r4_1</text></g><g class=\"toytree-TipLabel\" transform=\"translate(322.544,105.946)\"><text x=\"10.0\" y=\"2.5549999999999997\" style=\"fill:rgb(14.5%,14.5%,14.5%);fill-opacity:1.0\">r4_2</text></g><g class=\"toytree-TipLabel\" transform=\"translate(322.544,93.3909)\"><text x=\"10.0\" y=\"2.5549999999999997\" style=\"fill:rgb(14.5%,14.5%,14.5%);fill-opacity:1.0\">r3_1</text></g><g class=\"toytree-TipLabel\" transform=\"translate(322.544,80.8357)\"><text x=\"10.0\" y=\"2.5549999999999997\" style=\"fill:rgb(14.5%,14.5%,14.5%);fill-opacity:1.0\">r3_3</text></g><g class=\"toytree-TipLabel\" transform=\"translate(322.544,68.2804)\"><text x=\"10.0\" y=\"2.5549999999999997\" style=\"fill:rgb(14.5%,14.5%,14.5%);fill-opacity:1.0\">r3_0</text></g><g class=\"toytree-TipLabel\" transform=\"translate(322.544,55.7252)\"><text x=\"10.0\" y=\"2.5549999999999997\" style=\"fill:rgb(14.5%,14.5%,14.5%);fill-opacity:1.0\">r3_2</text></g></g></g></g></g><g class=\"toyplot-coordinates-Cartesian\" id=\"t4f1c9ad995fa4ec0bf3220317bb9ef61\"><clipPath id=\"t774f3c6f26854664ab22cffe61826714\"><rect x=\"395.0\" y=\"40.0\" width=\"167.5\" height=\"270.0\"></rect></clipPath><g clip-path=\"url(#t774f3c6f26854664ab22cffe61826714)\"><g class=\"toytree-mark-Toytree\" id=\"t8ccc354ddbad4637ad5e1765025ad48a\"><g class=\"toytree-Edges\" style=\"stroke:rgb(14.5%,14.5%,14.5%);stroke-opacity:1.0;stroke-linecap:round;stroke-width:2.0;fill:none\"><path d=\"M 459.1 281.9 L 459.1 294.3 L 510.0 294.3\" id=\"25,0\" style=\"\"></path><path d=\"M 462.8 269.6 L 462.8 281.7 L 510.0 281.7\" id=\"24,1\" style=\"\"></path><path d=\"M 463.3 257.4 L 463.3 269.2 L 510.0 269.2\" id=\"23,2\" style=\"\"></path><path d=\"M 470.2 245.6 L 470.2 256.6 L 510.0 256.6\" id=\"22,3\" style=\"\"></path><path d=\"M 483.7 234.6 L 483.7 244.1 L 510.0 244.1\" id=\"21,4\" style=\"\"></path><path d=\"M 507.9 225.2 L 507.9 231.5 L 510.0 231.5\" id=\"20,5\" style=\"\"></path><path d=\"M 507.9 225.2 L 507.9 218.9 L 510.0 218.9\" id=\"20,6\" style=\"\"></path><path d=\"M 437.9 164.6 L 437.9 206.4 L 510.0 206.4\" id=\"37,7\" style=\"\"></path><path d=\"M 449.0 171.1 L 449.0 193.8 L 510.0 193.8\" id=\"32,8\" style=\"\"></path><path d=\"M 479.3 171.9 L 479.3 181.3 L 510.0 181.3\" id=\"27,9\" style=\"\"></path><path d=\"M 501.3 162.4 L 501.3 168.7 L 510.0 168.7\" id=\"26,10\" style=\"\"></path><path d=\"M 501.3 162.4 L 501.3 156.2 L 510.0 156.2\" id=\"26,11\" style=\"\"></path><path d=\"M 494.0 137.3 L 494.0 143.6 L 510.0 143.6\" id=\"28,12\" style=\"\"></path><path d=\"M 494.0 137.3 L 494.0 131.1 L 510.0 131.1\" id=\"28,13\" style=\"\"></path><path d=\"M 493.0 112.2 L 493.0 118.5 L 510.0 118.5\" id=\"29,14\" style=\"\"></path><path d=\"M 493.0 112.2 L 493.0 105.9 L 510.0 105.9\" id=\"29,15\" style=\"\"></path><path d=\"M 490.1 87.1 L 490.1 93.4 L 510.0 93.4\" id=\"33,16\" style=\"\"></path><path d=\"M 490.1 87.1 L 490.1 80.8 L 510.0 80.8\" id=\"33,17\" style=\"\"></path><path d=\"M 476.0 62.0 L 476.0 68.3 L 510.0 68.3\" id=\"34,18\" style=\"\"></path><path d=\"M 476.0 62.0 L 476.0 55.7 L 510.0 55.7\" id=\"34,19\" style=\"\"></path><path d=\"M 483.7 234.6 L 483.7 225.2 L 507.9 225.2\" id=\"21,20\" style=\"\"></path><path d=\"M 470.2 245.6 L 470.2 234.6 L 483.7 234.6\" id=\"22,21\" style=\"\"></path><path d=\"M 463.3 257.4 L 463.3 245.6 L 470.2 245.6\" id=\"23,22\" style=\"\"></path><path d=\"M 462.8 269.6 L 462.8 257.4 L 463.3 257.4\" id=\"24,23\" style=\"\"></path><path d=\"M 459.1 281.9 L 459.1 269.6 L 462.8 269.6\" id=\"25,24\" style=\"\"></path><path d=\"M 405.7 223.3 L 405.7 281.9 L 459.1 281.9\" id=\"38,25\" style=\"\"></path><path d=\"M 479.3 171.9 L 479.3 162.4 L 501.3 162.4\" id=\"27,26\" style=\"\"></path><path d=\"M 462.4 148.3 L 462.4 171.9 L 479.3 171.9\" id=\"31,27\" style=\"\"></path><path d=\"M 471.4 124.8 L 471.4 137.3 L 494.0 137.3\" id=\"30,28\" style=\"\"></path><path d=\"M 471.4 124.8 L 471.4 112.2 L 493.0 112.2\" id=\"30,29\" style=\"\"></path><path d=\"M 462.4 148.3 L 462.4 124.8 L 471.4 124.8\" id=\"31,30\" style=\"\"></path><path d=\"M 449.0 171.1 L 449.0 148.3 L 462.4 148.3\" id=\"32,31\" style=\"\"></path><path d=\"M 439.5 122.8 L 439.5 171.1 L 449.0 171.1\" id=\"36,32\" style=\"\"></path><path d=\"M 447.5 74.6 L 447.5 87.1 L 490.1 87.1\" id=\"35,33\" style=\"\"></path><path d=\"M 447.5 74.6 L 447.5 62.0 L 476.0 62.0\" id=\"35,34\" style=\"\"></path><path d=\"M 439.5 122.8 L 439.5 74.6 L 447.5 74.6\" id=\"36,35\" style=\"\"></path><path d=\"M 437.9 164.6 L 437.9 122.8 L 439.5 122.8\" id=\"37,36\" style=\"\"></path><path d=\"M 405.7 223.3 L 405.7 164.6 L 437.9 164.6\" id=\"38,37\" style=\"\"></path></g><g class=\"toytree-AdmixEdges\" style=\"fill:rgb(0.0%,0.0%,0.0%);fill-opacity:0.0;stroke:rgb(90.6%,54.1%,76.5%);stroke-opacity:0.6;font-size:14px;stroke-linecap:round;stroke-width:5\"></g><g class=\"toytree-Nodes\" style=\"fill:rgb(40.0%,76.1%,64.7%);fill-opacity:1.0;stroke:rgb(14.9%,14.9%,14.9%);stroke-opacity:1.0;stroke-width:1.5\"></g><g class=\"toytree-TipLabels\" style=\"fill:rgb(14.5%,14.5%,14.5%);fill-opacity:1.0;font-family:Helvetica;font-size:10px;font-weight:300;vertical-align:baseline;white-space:pre;stroke:none\"><g class=\"toytree-TipLabel\" transform=\"translate(510.044,294.275)\"><text x=\"10.0\" y=\"2.5549999999999997\" style=\"fill:rgb(14.5%,14.5%,14.5%);fill-opacity:1.0\">r0_0</text></g><g class=\"toytree-TipLabel\" transform=\"translate(510.044,281.72)\"><text x=\"10.0\" y=\"2.5549999999999997\" style=\"fill:rgb(14.5%,14.5%,14.5%);fill-opacity:1.0\">r2_1</text></g><g class=\"toytree-TipLabel\" transform=\"translate(510.044,269.164)\"><text x=\"10.0\" y=\"2.5549999999999997\" style=\"fill:rgb(14.5%,14.5%,14.5%);fill-opacity:1.0\">r1_2</text></g><g class=\"toytree-TipLabel\" transform=\"translate(510.044,256.609)\"><text x=\"10.0\" y=\"2.5549999999999997\" style=\"fill:rgb(14.5%,14.5%,14.5%);fill-opacity:1.0\">r0_1</text></g><g class=\"toytree-TipLabel\" transform=\"translate(510.044,244.054)\"><text x=\"10.0\" y=\"2.5549999999999997\" style=\"fill:rgb(14.5%,14.5%,14.5%);fill-opacity:1.0\">r1_3</text></g><g class=\"toytree-TipLabel\" transform=\"translate(510.044,231.499)\"><text x=\"10.0\" y=\"2.5549999999999997\" style=\"fill:rgb(14.5%,14.5%,14.5%);fill-opacity:1.0\">r1_0</text></g><g class=\"toytree-TipLabel\" transform=\"translate(510.044,218.943)\"><text x=\"10.0\" y=\"2.5549999999999997\" style=\"fill:rgb(14.5%,14.5%,14.5%);fill-opacity:1.0\">r1_1</text></g><g class=\"toytree-TipLabel\" transform=\"translate(510.044,206.388)\"><text x=\"10.0\" y=\"2.5549999999999997\" style=\"fill:rgb(14.5%,14.5%,14.5%);fill-opacity:1.0\">r2_0</text></g><g class=\"toytree-TipLabel\" transform=\"translate(510.044,193.833)\"><text x=\"10.0\" y=\"2.5549999999999997\" style=\"fill:rgb(14.5%,14.5%,14.5%);fill-opacity:1.0\">r3_1</text></g><g class=\"toytree-TipLabel\" transform=\"translate(510.044,181.278)\"><text x=\"10.0\" y=\"2.5549999999999997\" style=\"fill:rgb(14.5%,14.5%,14.5%);fill-opacity:1.0\">r3_3</text></g><g class=\"toytree-TipLabel\" transform=\"translate(510.044,168.722)\"><text x=\"10.0\" y=\"2.5549999999999997\" style=\"fill:rgb(14.5%,14.5%,14.5%);fill-opacity:1.0\">r3_0</text></g><g class=\"toytree-TipLabel\" transform=\"translate(510.044,156.167)\"><text x=\"10.0\" y=\"2.5549999999999997\" style=\"fill:rgb(14.5%,14.5%,14.5%);fill-opacity:1.0\">r3_2</text></g><g class=\"toytree-TipLabel\" transform=\"translate(510.044,143.612)\"><text x=\"10.0\" y=\"2.5549999999999997\" style=\"fill:rgb(14.5%,14.5%,14.5%);fill-opacity:1.0\">r4_0</text></g><g class=\"toytree-TipLabel\" transform=\"translate(510.044,131.057)\"><text x=\"10.0\" y=\"2.5549999999999997\" style=\"fill:rgb(14.5%,14.5%,14.5%);fill-opacity:1.0\">r4_3</text></g><g class=\"toytree-TipLabel\" transform=\"translate(510.044,118.501)\"><text x=\"10.0\" y=\"2.5549999999999997\" style=\"fill:rgb(14.5%,14.5%,14.5%);fill-opacity:1.0\">r4_1</text></g><g class=\"toytree-TipLabel\" transform=\"translate(510.044,105.946)\"><text x=\"10.0\" y=\"2.5549999999999997\" style=\"fill:rgb(14.5%,14.5%,14.5%);fill-opacity:1.0\">r4_2</text></g><g class=\"toytree-TipLabel\" transform=\"translate(510.044,93.3909)\"><text x=\"10.0\" y=\"2.5549999999999997\" style=\"fill:rgb(14.5%,14.5%,14.5%);fill-opacity:1.0\">r0_2</text></g><g class=\"toytree-TipLabel\" transform=\"translate(510.044,80.8357)\"><text x=\"10.0\" y=\"2.5549999999999997\" style=\"fill:rgb(14.5%,14.5%,14.5%);fill-opacity:1.0\">r0_3</text></g><g class=\"toytree-TipLabel\" transform=\"translate(510.044,68.2804)\"><text x=\"10.0\" y=\"2.5549999999999997\" style=\"fill:rgb(14.5%,14.5%,14.5%);fill-opacity:1.0\">r2_2</text></g><g class=\"toytree-TipLabel\" transform=\"translate(510.044,55.7252)\"><text x=\"10.0\" y=\"2.5549999999999997\" style=\"fill:rgb(14.5%,14.5%,14.5%);fill-opacity:1.0\">r2_3</text></g></g></g></g></g><g class=\"toyplot-coordinates-Cartesian\" id=\"t7e3b5ff6cb914cca8efd1481412110e4\"><clipPath id=\"tef283f884c364c80a3c08bc88ccea091\"><rect x=\"582.5\" y=\"40.0\" width=\"167.5\" height=\"270.0\"></rect></clipPath><g clip-path=\"url(#tef283f884c364c80a3c08bc88ccea091)\"><g class=\"toytree-mark-Toytree\" id=\"tb268e9568c4140168dcb9acdf345c84d\"><g class=\"toytree-Edges\" style=\"stroke:rgb(14.5%,14.5%,14.5%);stroke-opacity:1.0;stroke-linecap:round;stroke-width:2.0;fill:none\"><path d=\"M 683.7 288.0 L 683.7 294.3 L 697.5 294.3\" id=\"20,0\" style=\"\"></path><path d=\"M 683.7 288.0 L 683.7 281.7 L 697.5 281.7\" id=\"20,1\" style=\"\"></path><path d=\"M 682.2 259.7 L 682.2 269.2 L 697.5 269.2\" id=\"22,2\" style=\"\"></path><path d=\"M 691.7 250.3 L 691.7 256.6 L 697.5 256.6\" id=\"21,3\" style=\"\"></path><path d=\"M 691.7 250.3 L 691.7 244.1 L 697.5 244.1\" id=\"21,4\" style=\"\"></path><path d=\"M 689.5 222.1 L 689.5 231.5 L 697.5 231.5\" id=\"25,5\" style=\"\"></path><path d=\"M 693.8 212.7 L 693.8 218.9 L 697.5 218.9\" id=\"24,6\" style=\"\"></path><path d=\"M 693.8 212.7 L 693.8 206.4 L 697.5 206.4\" id=\"24,7\" style=\"\"></path><path d=\"M 672.0 182.8 L 672.0 193.8 L 697.5 193.8\" id=\"28,8\" style=\"\"></path><path d=\"M 694.8 171.9 L 694.8 181.3 L 697.5 181.3\" id=\"27,9\" style=\"\"></path><path d=\"M 696.1 162.4 L 696.1 168.7 L 697.5 168.7\" id=\"26,10\" style=\"\"></path><path d=\"M 696.1 162.4 L 696.1 156.2 L 697.5 156.2\" id=\"26,11\" style=\"\"></path><path d=\"M 669.4 132.6 L 669.4 143.6 L 697.5 143.6\" id=\"33,12\" style=\"\"></path><path d=\"M 691.2 121.6 L 691.2 131.1 L 697.5 131.1\" id=\"32,13\" style=\"\"></path><path d=\"M 693.8 112.2 L 693.8 118.5 L 697.5 118.5\" id=\"31,14\" style=\"\"></path><path d=\"M 693.8 112.2 L 693.8 105.9 L 697.5 105.9\" id=\"31,15\" style=\"\"></path><path d=\"M 665.7 82.4 L 665.7 93.4 L 697.5 93.4\" id=\"36,16\" style=\"\"></path><path d=\"M 679.4 71.4 L 679.4 80.8 L 697.5 80.8\" id=\"35,17\" style=\"\"></path><path d=\"M 690.4 62.0 L 690.4 68.3 L 697.5 68.3\" id=\"34,18\" style=\"\"></path><path d=\"M 690.4 62.0 L 690.4 55.7 L 697.5 55.7\" id=\"34,19\" style=\"\"></path><path d=\"M 676.5 273.9 L 676.5 288.0 L 683.7 288.0\" id=\"23,20\" style=\"\"></path><path d=\"M 682.2 259.7 L 682.2 250.3 L 691.7 250.3\" id=\"22,21\" style=\"\"></path><path d=\"M 676.5 273.9 L 676.5 259.7 L 682.2 259.7\" id=\"23,22\" style=\"\"></path><path d=\"M 663.9 238.2 L 663.9 273.9 L 676.5 273.9\" id=\"30,23\" style=\"\"></path><path d=\"M 689.5 222.1 L 689.5 212.7 L 693.8 212.7\" id=\"25,24\" style=\"\"></path><path d=\"M 667.5 202.5 L 667.5 222.1 L 689.5 222.1\" id=\"29,25\" style=\"\"></path><path d=\"M 694.8 171.9 L 694.8 162.4 L 696.1 162.4\" id=\"27,26\" style=\"\"></path><path d=\"M 672.0 182.8 L 672.0 171.9 L 694.8 171.9\" id=\"28,27\" style=\"\"></path><path d=\"M 667.5 202.5 L 667.5 182.8 L 672.0 182.8\" id=\"29,28\" style=\"\"></path><path d=\"M 663.9 238.2 L 663.9 202.5 L 667.5 202.5\" id=\"30,29\" style=\"\"></path><path d=\"M 593.2 172.8 L 593.2 238.2 L 663.9 238.2\" id=\"38,30\" style=\"\"></path><path d=\"M 691.2 121.6 L 691.2 112.2 L 693.8 112.2\" id=\"32,31\" style=\"\"></path><path d=\"M 669.4 132.6 L 669.4 121.6 L 691.2 121.6\" id=\"33,32\" style=\"\"></path><path d=\"M 659.4 107.5 L 659.4 132.6 L 669.4 132.6\" id=\"37,33\" style=\"\"></path><path d=\"M 679.4 71.4 L 679.4 62.0 L 690.4 62.0\" id=\"35,34\" style=\"\"></path><path d=\"M 665.7 82.4 L 665.7 71.4 L 679.4 71.4\" id=\"36,35\" style=\"\"></path><path d=\"M 659.4 107.5 L 659.4 82.4 L 665.7 82.4\" id=\"37,36\" style=\"\"></path><path d=\"M 593.2 172.8 L 593.2 107.5 L 659.4 107.5\" id=\"38,37\" style=\"\"></path></g><g class=\"toytree-AdmixEdges\" style=\"fill:rgb(0.0%,0.0%,0.0%);fill-opacity:0.0;stroke:rgb(90.6%,54.1%,76.5%);stroke-opacity:0.6;font-size:14px;stroke-linecap:round;stroke-width:5\"></g><g class=\"toytree-Nodes\" style=\"fill:rgb(40.0%,76.1%,64.7%);fill-opacity:1.0;stroke:rgb(14.9%,14.9%,14.9%);stroke-opacity:1.0;stroke-width:1.5\"></g><g class=\"toytree-TipLabels\" style=\"fill:rgb(14.5%,14.5%,14.5%);fill-opacity:1.0;font-family:Helvetica;font-size:10px;font-weight:300;vertical-align:baseline;white-space:pre;stroke:none\"><g class=\"toytree-TipLabel\" transform=\"translate(697.544,294.275)\"><text x=\"10.0\" y=\"2.5549999999999997\" style=\"fill:rgb(14.5%,14.5%,14.5%);fill-opacity:1.0\">r0_3</text></g><g class=\"toytree-TipLabel\" transform=\"translate(697.544,281.72)\"><text x=\"10.0\" y=\"2.5549999999999997\" style=\"fill:rgb(14.5%,14.5%,14.5%);fill-opacity:1.0\">r1_1</text></g><g class=\"toytree-TipLabel\" transform=\"translate(697.544,269.164)\"><text x=\"10.0\" y=\"2.5549999999999997\" style=\"fill:rgb(14.5%,14.5%,14.5%);fill-opacity:1.0\">r2_1</text></g><g class=\"toytree-TipLabel\" transform=\"translate(697.544,256.609)\"><text x=\"10.0\" y=\"2.5549999999999997\" style=\"fill:rgb(14.5%,14.5%,14.5%);fill-opacity:1.0\">r2_2</text></g><g class=\"toytree-TipLabel\" transform=\"translate(697.544,244.054)\"><text x=\"10.0\" y=\"2.5549999999999997\" style=\"fill:rgb(14.5%,14.5%,14.5%);fill-opacity:1.0\">r2_3</text></g><g class=\"toytree-TipLabel\" transform=\"translate(697.544,231.499)\"><text x=\"10.0\" y=\"2.5549999999999997\" style=\"fill:rgb(14.5%,14.5%,14.5%);fill-opacity:1.0\">r1_0</text></g><g class=\"toytree-TipLabel\" transform=\"translate(697.544,218.943)\"><text x=\"10.0\" y=\"2.5549999999999997\" style=\"fill:rgb(14.5%,14.5%,14.5%);fill-opacity:1.0\">r1_2</text></g><g class=\"toytree-TipLabel\" transform=\"translate(697.544,206.388)\"><text x=\"10.0\" y=\"2.5549999999999997\" style=\"fill:rgb(14.5%,14.5%,14.5%);fill-opacity:1.0\">r1_3</text></g><g class=\"toytree-TipLabel\" transform=\"translate(697.544,193.833)\"><text x=\"10.0\" y=\"2.5549999999999997\" style=\"fill:rgb(14.5%,14.5%,14.5%);fill-opacity:1.0\">r2_0</text></g><g class=\"toytree-TipLabel\" transform=\"translate(697.544,181.278)\"><text x=\"10.0\" y=\"2.5549999999999997\" style=\"fill:rgb(14.5%,14.5%,14.5%);fill-opacity:1.0\">r0_0</text></g><g class=\"toytree-TipLabel\" transform=\"translate(697.544,168.722)\"><text x=\"10.0\" y=\"2.5549999999999997\" style=\"fill:rgb(14.5%,14.5%,14.5%);fill-opacity:1.0\">r0_1</text></g><g class=\"toytree-TipLabel\" transform=\"translate(697.544,156.167)\"><text x=\"10.0\" y=\"2.5549999999999997\" style=\"fill:rgb(14.5%,14.5%,14.5%);fill-opacity:1.0\">r0_2</text></g><g class=\"toytree-TipLabel\" transform=\"translate(697.544,143.612)\"><text x=\"10.0\" y=\"2.5549999999999997\" style=\"fill:rgb(14.5%,14.5%,14.5%);fill-opacity:1.0\">r3_1</text></g><g class=\"toytree-TipLabel\" transform=\"translate(697.544,131.057)\"><text x=\"10.0\" y=\"2.5549999999999997\" style=\"fill:rgb(14.5%,14.5%,14.5%);fill-opacity:1.0\">r4_0</text></g><g class=\"toytree-TipLabel\" transform=\"translate(697.544,118.501)\"><text x=\"10.0\" y=\"2.5549999999999997\" style=\"fill:rgb(14.5%,14.5%,14.5%);fill-opacity:1.0\">r4_1</text></g><g class=\"toytree-TipLabel\" transform=\"translate(697.544,105.946)\"><text x=\"10.0\" y=\"2.5549999999999997\" style=\"fill:rgb(14.5%,14.5%,14.5%);fill-opacity:1.0\">r4_2</text></g><g class=\"toytree-TipLabel\" transform=\"translate(697.544,93.3909)\"><text x=\"10.0\" y=\"2.5549999999999997\" style=\"fill:rgb(14.5%,14.5%,14.5%);fill-opacity:1.0\">r4_3</text></g><g class=\"toytree-TipLabel\" transform=\"translate(697.544,80.8357)\"><text x=\"10.0\" y=\"2.5549999999999997\" style=\"fill:rgb(14.5%,14.5%,14.5%);fill-opacity:1.0\">r3_0</text></g><g class=\"toytree-TipLabel\" transform=\"translate(697.544,68.2804)\"><text x=\"10.0\" y=\"2.5549999999999997\" style=\"fill:rgb(14.5%,14.5%,14.5%);fill-opacity:1.0\">r3_2</text></g><g class=\"toytree-TipLabel\" transform=\"translate(697.544,55.7252)\"><text x=\"10.0\" y=\"2.5549999999999997\" style=\"fill:rgb(14.5%,14.5%,14.5%);fill-opacity:1.0\">r3_3</text></g></g></g></g></g></svg><div class=\"toyplot-behavior\"><script>(function()\n",
       "{\n",
       "var modules={};\n",
       "})();</script></div></div>"
      ]
     },
     "metadata": {},
     "output_type": "display_data"
    }
   ],
   "source": [
    "# draw the first four trees\n",
    "toytree.mtree(first_genealogies).draw(shape=(1, 4), height=350);"
   ]
  },
  {
   "cell_type": "markdown",
   "id": "5338fdb1-6592-4c79-bcec-69e7ab01b10a",
   "metadata": {},
   "source": [
    "#### Gene trees\n",
    "We can also apply ASTRAL to infer a species tree from inferred gene trees. This is more similar to the analysis of real data, where gene trees may have unresolved nodes, variable branch lengths, and mismodeled substitutions rates (you could investigate other sources of error as well like missing samples or alignment errors.) Here we will use the ipcoal wrapper for raxml-ng to infer gene trees, but you could alternative use any method to infer trees that could then be loaded back in as ToyTrees from newick, nexus, or related text formats. A benefit of using the raxml wrapper in toytree is that we can easily automate the process of writing the sequence data, analyzing it, and loading back in the results. To keep things fast we do not estimate bootstrap supports for the gene trees here, but this can be easily added."
   ]
  },
  {
   "cell_type": "code",
   "execution_count": 28,
   "id": "a73ec646-509a-46df-b140-fb192689f9d9",
   "metadata": {},
   "outputs": [],
   "source": [
    "# infer gene tree for each locus from 4 haploid samples\n",
    "gene_trees_haploid = ipcoal.phylo.infer_raxml_ng_trees(model, nboots=0, nthreads=4, nproc=2)"
   ]
  },
  {
   "cell_type": "code",
   "execution_count": 29,
   "id": "2ce681f5-8ac0-46d5-b91d-9ad6edfc7171",
   "metadata": {},
   "outputs": [],
   "source": [
    "# infer gene tree for each locus from 2 diploid samples\n",
    "gene_trees_diploid = ipcoal.phylo.infer_raxml_ng_trees(model, diploid=True, nboots=0, nthreads=4, nproc=2)"
   ]
  },
  {
   "cell_type": "markdown",
   "id": "7e06d088-31a0-4935-bf3a-cd232a8641e8",
   "metadata": {},
   "source": [
    "### IMAP dict\n",
    "When your data contains multiple individuals or gene copies per lineage it is typical to provide a *mapping* (imap) to tell the species tree inference software which genomes are members of the same lineage. This is entered to the `ipcoal.infer_astral_tree` method as a dictionary, where the keys are species tree tip names, and the values are lists of sample names that belong to that species. It is easy to extract an imap dict for simulations performed from an `ipcoal.Model` object by calling its `.get_imap_dict` function, which accepts are argument for whether or not pairs samples will be joined into diploid samples. "
   ]
  },
  {
   "cell_type": "code",
   "execution_count": 30,
   "id": "a4909ee2-69d4-44b9-ba8d-ac030059efdd",
   "metadata": {},
   "outputs": [
    {
     "data": {
      "text/plain": [
       "{'r0': ['r0_0', 'r0_1', 'r0_2', 'r0_3'],\n",
       " 'r1': ['r1_0', 'r1_1', 'r1_2', 'r1_3'],\n",
       " 'r2': ['r2_0', 'r2_1', 'r2_2', 'r2_3'],\n",
       " 'r3': ['r3_0', 'r3_1', 'r3_2', 'r3_3'],\n",
       " 'r4': ['r4_0', 'r4_1', 'r4_2', 'r4_3']}"
      ]
     },
     "execution_count": 30,
     "metadata": {},
     "output_type": "execute_result"
    }
   ],
   "source": [
    "haploid_imap = model.get_imap_dict()\n",
    "haploid_imap"
   ]
  },
  {
   "cell_type": "code",
   "execution_count": 31,
   "id": "a4e8f899-f6be-4f68-852c-b7849efdd2f1",
   "metadata": {},
   "outputs": [
    {
     "data": {
      "text/plain": [
       "{'r0': ['r0_0', 'r0_1'],\n",
       " 'r1': ['r1_0', 'r1_1'],\n",
       " 'r2': ['r2_0', 'r2_1'],\n",
       " 'r3': ['r3_0', 'r3_1'],\n",
       " 'r4': ['r4_0', 'r4_1']}"
      ]
     },
     "execution_count": 31,
     "metadata": {},
     "output_type": "execute_result"
    }
   ],
   "source": [
    "diploid_imap = model.get_imap_dict(diploid=True)\n",
    "diploid_imap"
   ]
  },
  {
   "cell_type": "markdown",
   "id": "6d1c2cfe-a1b5-4861-8171-e171317355f6",
   "metadata": {},
   "source": [
    "# TODO: Implement IMAP"
   ]
  },
  {
   "cell_type": "markdown",
   "id": "fa7c29bc-85bd-4db4-ae29-56fb36c495f6",
   "metadata": {},
   "source": [
    "### Infer species network\n",
    "See the ASTRAL III documentation for further details on options that can be run. "
   ]
  },
  {
   "cell_type": "code",
   "execution_count": 32,
   "id": "403e320e-9965-48f4-b045-b3a04adab1f4",
   "metadata": {},
   "outputs": [
    {
     "ename": "TypeError",
     "evalue": "infer_snaq_network() got an unexpected keyword argument 'imap'",
     "output_type": "error",
     "traceback": [
      "\u001b[0;31m---------------------------------------------------------------------------\u001b[0m",
      "\u001b[0;31mTypeError\u001b[0m                                 Traceback (most recent call last)",
      "Cell \u001b[0;32mIn[32], line 2\u001b[0m\n\u001b[1;32m      1\u001b[0m \u001b[38;5;66;03m# infer sptree from all genealogies (multiple linked trees per locus)\u001b[39;00m\n\u001b[0;32m----> 2\u001b[0m atree1 \u001b[38;5;241m=\u001b[39m \u001b[43mipcoal\u001b[49m\u001b[38;5;241;43m.\u001b[39;49m\u001b[43mphylo\u001b[49m\u001b[38;5;241;43m.\u001b[39;49m\u001b[43minfer_snaq_network\u001b[49m\u001b[43m(\u001b[49m\u001b[43mall_genealogies\u001b[49m\u001b[43m,\u001b[49m\u001b[43m \u001b[49m\u001b[43mimap\u001b[49m\u001b[38;5;241;43m=\u001b[39;49m\u001b[43mhaploid_imap\u001b[49m\u001b[43m)\u001b[49m\n",
      "\u001b[0;31mTypeError\u001b[0m: infer_snaq_network() got an unexpected keyword argument 'imap'"
     ]
    }
   ],
   "source": [
    "# infer sptree from all genealogies (multiple linked trees per locus)\n",
    "atree1 = ipcoal.phylo.infer_snaq_network(all_genealogies, imap=haploid_imap)"
   ]
  },
  {
   "cell_type": "code",
   "execution_count": 13,
   "id": "307389ea-6af9-4a47-8144-a9619047a189",
   "metadata": {},
   "outputs": [],
   "source": [
    "# infer sptree from unlinked genealogies (1 per locus)\n",
    "atree2 = ipcoal.phylo.infer_astral_tree(first_genealogies, imap=haploid_imap)"
   ]
  },
  {
   "cell_type": "code",
   "execution_count": 21,
   "id": "06c71118-d93f-48a7-842f-27632bfda057",
   "metadata": {},
   "outputs": [],
   "source": [
    "# infer sptree from inferred gene trees haploid\n",
    "atree3 = ipcoal.phylo.infer_astral_tree(gene_trees_haploid.gene_tree, imap=haploid_imap)"
   ]
  },
  {
   "cell_type": "code",
   "execution_count": 23,
   "id": "38454dfa-ac40-45b9-8176-0b72a8508565",
   "metadata": {},
   "outputs": [],
   "source": [
    "# infer sptree from inferred gene trees diploid\n",
    "atree4 = ipcoal.phylo.infer_astral_tree(gene_trees_diploid.gene_tree, imap=diploid_imap)"
   ]
  },
  {
   "cell_type": "markdown",
   "id": "2f57c15a-151d-4e88-821d-930004b511f4",
   "metadata": {},
   "source": [
    "### Compare species trees\n",
    "In this case, all of the trees inferred the same species tree topology, which is not surprising since we simulated a pretty large dataset with a limited amount of ILS, which is a scenario where astral can be quite accurate. However, we can see that the different datasets have resulted in difference estimates of support and branch lengths (in coalescent units). "
   ]
  },
  {
   "cell_type": "code",
   "execution_count": 29,
   "id": "fce33bf9-a70e-4445-a4be-f46c1e2387b7",
   "metadata": {},
   "outputs": [
    {
     "data": {
      "text/html": [
       "<div class=\"toyplot\" id=\"tdf187f5095424a1fa258d782e35f6428\" style=\"text-align:center\"><svg class=\"toyplot-canvas-Canvas\" xmlns:toyplot=\"http://www.sandia.gov/toyplot\" xmlns:xlink=\"http://www.w3.org/1999/xlink\" xmlns=\"http://www.w3.org/2000/svg\" width=\"750.0px\" height=\"250.0px\" viewBox=\"0 0 750.0 250.0\" preserveAspectRatio=\"xMidYMid meet\" style=\"background-color:transparent;border-color:#292724;border-style:none;border-width:1.0;fill:rgb(16.1%,15.3%,14.1%);fill-opacity:1.0;font-family:Helvetica;font-size:12px;opacity:1.0;stroke:rgb(16.1%,15.3%,14.1%);stroke-opacity:1.0;stroke-width:1.0\" id=\"t1563c16e17b246f18961aadafde18ed5\"><g class=\"toyplot-coordinates-Cartesian\" id=\"t4da0477e76544375a2d2fb900d723a36\"><clipPath id=\"te00f15170f5b40c6892251ac19e67d2f\"><rect x=\"20.0\" y=\"40.0\" width=\"167.5\" height=\"170.0\"></rect></clipPath><g clip-path=\"url(#te00f15170f5b40c6892251ac19e67d2f)\"><g class=\"toytree-mark-Toytree\" id=\"tf621d92c4726451cbb9e163a7a0d607e\"><g class=\"toytree-Edges\" style=\"stroke:rgb(14.5%,14.5%,14.5%);stroke-opacity:1.0;stroke-linecap:round;stroke-width:2.0;fill:none\"><path d=\"M 70.4 177.1 L 70.4 194.4 L 134.4 194.4\" id=\"5,0\" style=\"\"></path><path d=\"M 70.4 177.1 L 70.4 159.7 L 147.6 159.7\" id=\"5,1\" style=\"\"></path><path d=\"M 107.4 107.6 L 107.4 125.0 L 146.0 125.0\" id=\"6,2\" style=\"\"></path><path d=\"M 107.4 107.6 L 107.4 90.3 L 137.4 90.3\" id=\"6,3\" style=\"\"></path><path d=\"M 70.4 81.6 L 70.4 55.6 L 139.9 55.6\" id=\"7,4\" style=\"\"></path><path d=\"M 30.8 129.3 L 30.8 177.1 L 70.4 177.1\" id=\"8,5\" style=\"\"></path><path d=\"M 70.4 81.6 L 70.4 107.6 L 107.4 107.6\" id=\"7,6\" style=\"\"></path><path d=\"M 30.8 129.3 L 30.8 81.6 L 70.4 81.6\" id=\"8,7\" style=\"\"></path></g><g class=\"toytree-AdmixEdges\" style=\"fill:rgb(0.0%,0.0%,0.0%);fill-opacity:0.0;stroke:rgb(90.6%,54.1%,76.5%);stroke-opacity:0.6;font-size:14px;stroke-linecap:round;stroke-width:5\"></g><g class=\"toytree-Nodes\" style=\"fill:rgb(40.0%,76.1%,64.7%);fill-opacity:1.0;stroke:rgb(14.9%,14.9%,14.9%);stroke-opacity:1.0;stroke-width:1.5\"></g><g class=\"toytree-TipLabels\" style=\"fill:rgb(14.5%,14.5%,14.5%);fill-opacity:1.0;font-family:Helvetica;font-size:10px;font-weight:300;vertical-align:baseline;white-space:pre;stroke:none\"><g class=\"toytree-TipLabel\" transform=\"translate(134.401,194.444)\"><text x=\"10.0\" y=\"2.5549999999999997\" style=\"fill:rgb(14.5%,14.5%,14.5%);fill-opacity:1.0\">r3</text></g><g class=\"toytree-TipLabel\" transform=\"translate(147.585,159.722)\"><text x=\"10.0\" y=\"2.5549999999999997\" style=\"fill:rgb(14.5%,14.5%,14.5%);fill-opacity:1.0\">r4</text></g><g class=\"toytree-TipLabel\" transform=\"translate(146.046,125)\"><text x=\"10.0\" y=\"2.5549999999999997\" style=\"fill:rgb(14.5%,14.5%,14.5%);fill-opacity:1.0\">r0</text></g><g class=\"toytree-TipLabel\" transform=\"translate(137.374,90.2778)\"><text x=\"10.0\" y=\"2.5549999999999997\" style=\"fill:rgb(14.5%,14.5%,14.5%);fill-opacity:1.0\">r1</text></g><g class=\"toytree-TipLabel\" transform=\"translate(139.921,55.5556)\"><text x=\"10.0\" y=\"2.5549999999999997\" style=\"fill:rgb(14.5%,14.5%,14.5%);fill-opacity:1.0\">r2</text></g></g></g></g></g><g class=\"toyplot-coordinates-Cartesian\" id=\"t16c8603856ff46a89a4c900c51fad05e\"><clipPath id=\"t1166b231bd704322a5498472804c861e\"><rect x=\"207.5\" y=\"40.0\" width=\"167.5\" height=\"170.0\"></rect></clipPath><g clip-path=\"url(#t1166b231bd704322a5498472804c861e)\"><g class=\"toytree-mark-Toytree\" id=\"t58337053f42b47568c44dfa2e58397b3\"><g class=\"toytree-Edges\" style=\"stroke:rgb(14.5%,14.5%,14.5%);stroke-opacity:1.0;stroke-linecap:round;stroke-width:2.0;fill:none\"><path d=\"M 256.4 177.1 L 256.4 194.4 L 323.0 194.4\" id=\"5,0\" style=\"\"></path><path d=\"M 256.4 177.1 L 256.4 159.7 L 333.5 159.7\" id=\"5,1\" style=\"\"></path><path d=\"M 292.6 107.6 L 292.6 125.0 L 335.1 125.0\" id=\"6,2\" style=\"\"></path><path d=\"M 292.6 107.6 L 292.6 90.3 L 322.8 90.3\" id=\"6,3\" style=\"\"></path><path d=\"M 256.4 81.6 L 256.4 55.6 L 326.7 55.6\" id=\"7,4\" style=\"\"></path><path d=\"M 218.3 129.3 L 218.3 177.1 L 256.4 177.1\" id=\"8,5\" style=\"\"></path><path d=\"M 256.4 81.6 L 256.4 107.6 L 292.6 107.6\" id=\"7,6\" style=\"\"></path><path d=\"M 218.3 129.3 L 218.3 81.6 L 256.4 81.6\" id=\"8,7\" style=\"\"></path></g><g class=\"toytree-AdmixEdges\" style=\"fill:rgb(0.0%,0.0%,0.0%);fill-opacity:0.0;stroke:rgb(90.6%,54.1%,76.5%);stroke-opacity:0.6;font-size:14px;stroke-linecap:round;stroke-width:5\"></g><g class=\"toytree-Nodes\" style=\"fill:rgb(40.0%,76.1%,64.7%);fill-opacity:1.0;stroke:rgb(14.9%,14.9%,14.9%);stroke-opacity:1.0;stroke-width:1.5\"></g><g class=\"toytree-TipLabels\" style=\"fill:rgb(14.5%,14.5%,14.5%);fill-opacity:1.0;font-family:Helvetica;font-size:10px;font-weight:300;vertical-align:baseline;white-space:pre;stroke:none\"><g class=\"toytree-TipLabel\" transform=\"translate(322.996,194.444)\"><text x=\"10.0\" y=\"2.5549999999999997\" style=\"fill:rgb(14.5%,14.5%,14.5%);fill-opacity:1.0\">r3</text></g><g class=\"toytree-TipLabel\" transform=\"translate(333.462,159.722)\"><text x=\"10.0\" y=\"2.5549999999999997\" style=\"fill:rgb(14.5%,14.5%,14.5%);fill-opacity:1.0\">r4</text></g><g class=\"toytree-TipLabel\" transform=\"translate(335.085,125)\"><text x=\"10.0\" y=\"2.5549999999999997\" style=\"fill:rgb(14.5%,14.5%,14.5%);fill-opacity:1.0\">r0</text></g><g class=\"toytree-TipLabel\" transform=\"translate(322.789,90.2778)\"><text x=\"10.0\" y=\"2.5549999999999997\" style=\"fill:rgb(14.5%,14.5%,14.5%);fill-opacity:1.0\">r1</text></g><g class=\"toytree-TipLabel\" transform=\"translate(326.678,55.5556)\"><text x=\"10.0\" y=\"2.5549999999999997\" style=\"fill:rgb(14.5%,14.5%,14.5%);fill-opacity:1.0\">r2</text></g></g></g></g></g><g class=\"toyplot-coordinates-Cartesian\" id=\"t224992a5702342be93cfe43978343696\"><clipPath id=\"t0a35f9d6a3cd4fa8954fb90d4bb4f975\"><rect x=\"395.0\" y=\"40.0\" width=\"167.5\" height=\"170.0\"></rect></clipPath><g clip-path=\"url(#t0a35f9d6a3cd4fa8954fb90d4bb4f975)\"><g class=\"toytree-mark-Toytree\" id=\"t752fe3c06d6a4531be7a9cda4a9a6594\"><g class=\"toytree-Edges\" style=\"stroke:rgb(14.5%,14.5%,14.5%);stroke-opacity:1.0;stroke-linecap:round;stroke-width:2.0;fill:none\"><path d=\"M 445.6 177.1 L 445.6 194.4 L 519.8 194.4\" id=\"5,0\" style=\"\"></path><path d=\"M 445.6 177.1 L 445.6 159.7 L 517.9 159.7\" id=\"5,1\" style=\"\"></path><path d=\"M 485.3 107.6 L 485.3 125.0 L 522.6 125.0\" id=\"6,2\" style=\"\"></path><path d=\"M 485.3 107.6 L 485.3 90.3 L 515.7 90.3\" id=\"6,3\" style=\"\"></path><path d=\"M 445.6 81.6 L 445.6 55.6 L 517.5 55.6\" id=\"7,4\" style=\"\"></path><path d=\"M 405.8 129.3 L 405.8 177.1 L 445.6 177.1\" id=\"8,5\" style=\"\"></path><path d=\"M 445.6 81.6 L 445.6 107.6 L 485.3 107.6\" id=\"7,6\" style=\"\"></path><path d=\"M 405.8 129.3 L 405.8 81.6 L 445.6 81.6\" id=\"8,7\" style=\"\"></path></g><g class=\"toytree-AdmixEdges\" style=\"fill:rgb(0.0%,0.0%,0.0%);fill-opacity:0.0;stroke:rgb(90.6%,54.1%,76.5%);stroke-opacity:0.6;font-size:14px;stroke-linecap:round;stroke-width:5\"></g><g class=\"toytree-Nodes\" style=\"fill:rgb(40.0%,76.1%,64.7%);fill-opacity:1.0;stroke:rgb(14.9%,14.9%,14.9%);stroke-opacity:1.0;stroke-width:1.5\"></g><g class=\"toytree-TipLabels\" style=\"fill:rgb(14.5%,14.5%,14.5%);fill-opacity:1.0;font-family:Helvetica;font-size:10px;font-weight:300;vertical-align:baseline;white-space:pre;stroke:none\"><g class=\"toytree-TipLabel\" transform=\"translate(519.799,194.444)\"><text x=\"10.0\" y=\"2.5549999999999997\" style=\"fill:rgb(14.5%,14.5%,14.5%);fill-opacity:1.0\">r4</text></g><g class=\"toytree-TipLabel\" transform=\"translate(517.868,159.722)\"><text x=\"10.0\" y=\"2.5549999999999997\" style=\"fill:rgb(14.5%,14.5%,14.5%);fill-opacity:1.0\">r3</text></g><g class=\"toytree-TipLabel\" transform=\"translate(522.585,125)\"><text x=\"10.0\" y=\"2.5549999999999997\" style=\"fill:rgb(14.5%,14.5%,14.5%);fill-opacity:1.0\">r0</text></g><g class=\"toytree-TipLabel\" transform=\"translate(515.698,90.2778)\"><text x=\"10.0\" y=\"2.5549999999999997\" style=\"fill:rgb(14.5%,14.5%,14.5%);fill-opacity:1.0\">r1</text></g><g class=\"toytree-TipLabel\" transform=\"translate(517.523,55.5556)\"><text x=\"10.0\" y=\"2.5549999999999997\" style=\"fill:rgb(14.5%,14.5%,14.5%);fill-opacity:1.0\">r2</text></g></g></g></g></g><g class=\"toyplot-coordinates-Cartesian\" id=\"t025cb343b9b944e985fd80dd3b06ced0\"><clipPath id=\"t1831c77e65434e46bced874258e6c429\"><rect x=\"582.5\" y=\"40.0\" width=\"167.5\" height=\"170.0\"></rect></clipPath><g clip-path=\"url(#t1831c77e65434e46bced874258e6c429)\"><g class=\"toytree-mark-Toytree\" id=\"t84bbc628d79a44ed81226eac984f097a\"><g class=\"toytree-Edges\" style=\"stroke:rgb(14.5%,14.5%,14.5%);stroke-opacity:1.0;stroke-linecap:round;stroke-width:2.0;fill:none\"><path d=\"M 630.4 168.4 L 630.4 194.4 L 708.0 194.4\" id=\"6,0\" style=\"\"></path><path d=\"M 661.3 142.4 L 661.3 159.7 L 700.3 159.7\" id=\"5,1\" style=\"\"></path><path d=\"M 661.3 142.4 L 661.3 125.0 L 694.6 125.0\" id=\"5,2\" style=\"\"></path><path d=\"M 630.4 72.9 L 630.4 90.3 L 705.3 90.3\" id=\"7,3\" style=\"\"></path><path d=\"M 630.4 72.9 L 630.4 55.6 L 710.1 55.6\" id=\"7,4\" style=\"\"></path><path d=\"M 630.4 168.4 L 630.4 142.4 L 661.3 142.4\" id=\"6,5\" style=\"\"></path><path d=\"M 593.3 120.7 L 593.3 168.4 L 630.4 168.4\" id=\"8,6\" style=\"\"></path><path d=\"M 593.3 120.7 L 593.3 72.9 L 630.4 72.9\" id=\"8,7\" style=\"\"></path></g><g class=\"toytree-AdmixEdges\" style=\"fill:rgb(0.0%,0.0%,0.0%);fill-opacity:0.0;stroke:rgb(90.6%,54.1%,76.5%);stroke-opacity:0.6;font-size:14px;stroke-linecap:round;stroke-width:5\"></g><g class=\"toytree-Nodes\" style=\"fill:rgb(40.0%,76.1%,64.7%);fill-opacity:1.0;stroke:rgb(14.9%,14.9%,14.9%);stroke-opacity:1.0;stroke-width:1.5\"></g><g class=\"toytree-TipLabels\" style=\"fill:rgb(14.5%,14.5%,14.5%);fill-opacity:1.0;font-family:Helvetica;font-size:10px;font-weight:300;vertical-align:baseline;white-space:pre;stroke:none\"><g class=\"toytree-TipLabel\" transform=\"translate(708.037,194.444)\"><text x=\"10.0\" y=\"2.5549999999999997\" style=\"fill:rgb(14.5%,14.5%,14.5%);fill-opacity:1.0\">r2</text></g><g class=\"toytree-TipLabel\" transform=\"translate(700.309,159.722)\"><text x=\"10.0\" y=\"2.5549999999999997\" style=\"fill:rgb(14.5%,14.5%,14.5%);fill-opacity:1.0\">r0</text></g><g class=\"toytree-TipLabel\" transform=\"translate(694.63,125)\"><text x=\"10.0\" y=\"2.5549999999999997\" style=\"fill:rgb(14.5%,14.5%,14.5%);fill-opacity:1.0\">r1</text></g><g class=\"toytree-TipLabel\" transform=\"translate(705.306,90.2778)\"><text x=\"10.0\" y=\"2.5549999999999997\" style=\"fill:rgb(14.5%,14.5%,14.5%);fill-opacity:1.0\">r3</text></g><g class=\"toytree-TipLabel\" transform=\"translate(710.085,55.5556)\"><text x=\"10.0\" y=\"2.5549999999999997\" style=\"fill:rgb(14.5%,14.5%,14.5%);fill-opacity:1.0\">r4</text></g></g></g></g></g></svg><div class=\"toyplot-behavior\"><script>(function()\n",
       "{\n",
       "var modules={};\n",
       "})();</script></div></div>"
      ]
     },
     "metadata": {},
     "output_type": "display_data"
    }
   ],
   "source": [
    "toytree.mtree([atree1, atree2, atree3, atree4]).root(\"r3\", \"r4\").draw();"
   ]
  }
 ],
 "metadata": {
  "kernelspec": {
   "display_name": "Python 3 (ipykernel)",
   "language": "python",
   "name": "python3"
  },
  "language_info": {
   "codemirror_mode": {
    "name": "ipython",
    "version": 3
   },
   "file_extension": ".py",
   "mimetype": "text/x-python",
   "name": "python",
   "nbconvert_exporter": "python",
   "pygments_lexer": "ipython3",
   "version": "3.12.4"
  }
 },
 "nbformat": 4,
 "nbformat_minor": 5
}
