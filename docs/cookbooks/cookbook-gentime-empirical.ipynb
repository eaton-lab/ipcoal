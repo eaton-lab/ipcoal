{
 "cells": [
  {
   "attachments": {},
   "cell_type": "markdown",
   "id": "250ab94b-4fc5-4295-9f40-dfc874c97093",
   "metadata": {},
   "source": [
    "# MSC simulations and generation time variation (empirical)\n",
    "\n",
    "The purpose of this notebook is to demonstrate ipcoal simulations on a topology inferred from empirical data. We provide recommendations for how to scale units from a time-calibrated phylogeny to use in coalescent simulations, and how to incorporate biological information about species, such as generation times and population sizes, to perform more realistic simulations.\n",
    "\n",
    "Simulating coalescent genealogies and sequences on a parameterized species tree model using ipcoal can provide a null expectation for the amount of discordance that you expect to observe across different nodes of a species tree, and can even be used as a posterior predictive tool for phylogenetic analyses."
   ]
  },
  {
   "cell_type": "code",
   "execution_count": 1,
   "id": "aeffa738-fcbf-44b1-b676-6376ed73935e",
   "metadata": {},
   "outputs": [],
   "source": [
    "import numpy as np\n",
    "import pandas as pd\n",
    "import ipcoal\n",
    "import toytree\n",
    "import toyplot\n",
    "colormap = toyplot.color.brewer.map(\"BlueRed\", reverse=True)"
   ]
  },
  {
   "cell_type": "markdown",
   "id": "b4345a22-f1a3-4f0b-b17a-b3a8bce3aa1d",
   "metadata": {},
   "source": [
    "## Mammal phylogeny data set\n",
    "In this example we use published data for mammals. We will use a time-calibrated MCC phylogeny by Upham et al. (2009) as a species tree hypothesis; we will use species geographic areas from the PanTHERIA database as a proxy for effective population sizes; and we will use generation time estimates from the Pacifici et al. (2014) data set, which imputes a lot of missing data from pantheria by using mean values among close relatives."
   ]
  },
  {
   "cell_type": "code",
   "execution_count": 2,
   "id": "dd9bc9df-9d79-4814-ba7f-503ceea70b05",
   "metadata": {},
   "outputs": [
    {
     "name": "stdout",
     "output_type": "stream",
     "text": [
      "4100 tips in the Upham mammal tree\n"
     ]
    }
   ],
   "source": [
    "# load the phylogenetic data (big tree, takes a few seconds)\n",
    "TREE_URL = (\n",
    "    \"https://github.com/eaton-lab/ipcoal/blob/master/\"\n",
    "    \"notebooks/mammal_dat/MamPhy_fullPosterior_BDvr_DNAonly\"\n",
    "    \"_4098sp_topoFree_NDexp_MCC_v2_target.tre?raw=true\"\n",
    ")\n",
    "tree = toytree.tree(TREE_URL)\n",
    "print(tree.ntips, \"tips in the Upham mammal tree\")"
   ]
  },
  {
   "cell_type": "code",
   "execution_count": 3,
   "id": "15a80ac9-fe59-4f81-88b8-62221ce8c588",
   "metadata": {},
   "outputs": [
    {
     "name": "stdout",
     "output_type": "stream",
     "text": [
      "5416 taxa in PanTHERIA database\n"
     ]
    }
   ],
   "source": [
    "# load the mammal biological data (e.g., geo range)\n",
    "PANTH_URL = (\n",
    "    \"https://github.com/eaton-lab/ipcoal/blob/master/\"\n",
    "    \"notebooks/mammal_dat/PanTHERIA_1-0_WR05_Aug2008.txt?raw=true\"\n",
    ")\n",
    "panthdf = pd.read_csv(PANTH_URL, sep='\\t')\n",
    "print(panthdf.shape[0], \"taxa in PanTHERIA database\")"
   ]
  },
  {
   "cell_type": "code",
   "execution_count": 4,
   "id": "9cb0bc3c-c62f-4a3b-b85f-565206ef1660",
   "metadata": {},
   "outputs": [
    {
     "name": "stdout",
     "output_type": "stream",
     "text": [
      "5427 taxa in Pacifici gentime database\n"
     ]
    }
   ],
   "source": [
    "# load the generation time data\n",
    "GT_URL = (\n",
    "    \"https://github.com/eaton-lab/ipcoal/blob/master/\"\n",
    "    \"notebooks/mammal_dat/5734-SP-2-Editor.csv?raw=true\"\n",
    ")\n",
    "gentimedf = pd.read_csv(GT_URL)\n",
    "print(gentimedf.shape[0], \"taxa in Pacifici gentime database\")"
   ]
  },
  {
   "cell_type": "markdown",
   "id": "6862fceb-0470-42c5-85f9-8d253e68afca",
   "metadata": {},
   "source": [
    "## Filtering and selecting taxa\n",
    "We will first trim the data down to include only taxa that are shared among all three data sources and for which there is no missing biological data. This reduces the data set to 3121 taxa. The distribution of geographic range areas is in units of kilometers2\n",
    "(`geogrange`) and generation times is in units of years (`gentime`)."
   ]
  },
  {
   "cell_type": "code",
   "execution_count": 5,
   "id": "492b94af-e5a4-41db-8f11-a9cfac1cc38e",
   "metadata": {},
   "outputs": [],
   "source": [
    "# subselect species names and geo range columns from pantheria\n",
    "sppdata = panthdf.loc[:, ['MSW05_Binomial', '26-1_GR_Area_km2']]\n",
    "\n",
    "# rename sppdata columns\n",
    "sppdata.columns = [\"species\", \"georange\"]"
   ]
  },
  {
   "cell_type": "code",
   "execution_count": 6,
   "id": "f4918b25-2049-4713-b2c1-9df64ae6738a",
   "metadata": {},
   "outputs": [],
   "source": [
    "# make column to record tree tip label names\n",
    "sppdata[\"treename\"] = np.nan\n",
    "\n",
    "# dict map: {gen}_{spp} to {gen}_{spp}_{fam}_{order}\n",
    "tipdict = {i.rsplit(\"_\", 2)[0]: i for i in tree.get_tip_labels()}\n",
    "\n",
    "# record whether species in pantheria is in the tree tip labels\n",
    "for idx in sppdata.index:\n",
    "\n",
    "    # match data names to tree names which have underscores\n",
    "    name = sppdata.species[idx]\n",
    "    name_ = name.replace(\" \", \"_\")\n",
    "\n",
    "    # record treename if it is in the database\n",
    "    if name_ in tipdict:\n",
    "        sppdata.loc[idx, \"treename\"] = tipdict[name_]"
   ]
  },
  {
   "cell_type": "code",
   "execution_count": 7,
   "id": "4cb32113-6a1e-42a8-ad48-2c76cc362a89",
   "metadata": {},
   "outputs": [],
   "source": [
    "# add gentime values to all species matching to names in Pacifici data set\n",
    "sppdata[\"gentime\"] = np.nan\n",
    "for idx in gentimedf.index:\n",
    "\n",
    "    # get generation time in units of years\n",
    "    species, gent = gentimedf.loc[idx, [\"Scientific_name\", \"GenerationLength_d\"]]\n",
    "    mask = sppdata.species == species\n",
    "    sppdata.loc[mask.values, \"gentime\"] = gent / 365."
   ]
  },
  {
   "cell_type": "code",
   "execution_count": 8,
   "id": "e0d8829f-8af9-470f-b8c7-787812090e40",
   "metadata": {},
   "outputs": [
    {
     "data": {
      "text/html": [
       "<div>\n",
       "<style scoped>\n",
       "    .dataframe tbody tr th:only-of-type {\n",
       "        vertical-align: middle;\n",
       "    }\n",
       "\n",
       "    .dataframe tbody tr th {\n",
       "        vertical-align: top;\n",
       "    }\n",
       "\n",
       "    .dataframe thead th {\n",
       "        text-align: right;\n",
       "    }\n",
       "</style>\n",
       "<table border=\"1\" class=\"dataframe\">\n",
       "  <thead>\n",
       "    <tr style=\"text-align: right;\">\n",
       "      <th></th>\n",
       "      <th>species</th>\n",
       "      <th>georange</th>\n",
       "      <th>treename</th>\n",
       "      <th>gentime</th>\n",
       "    </tr>\n",
       "  </thead>\n",
       "  <tbody>\n",
       "    <tr>\n",
       "      <th>0</th>\n",
       "      <td>Abeomelomys sevia</td>\n",
       "      <td>53261.73</td>\n",
       "      <td>Abeomelomys_sevia_MURIDA...</td>\n",
       "      <td>1.710684</td>\n",
       "    </tr>\n",
       "    <tr>\n",
       "      <th>1</th>\n",
       "      <td>Abrocoma bennettii</td>\n",
       "      <td>54615.98</td>\n",
       "      <td>Abrocoma_bennettii_ABROC...</td>\n",
       "      <td>2.829928</td>\n",
       "    </tr>\n",
       "    <tr>\n",
       "      <th>2</th>\n",
       "      <td>Abrocoma boliviensis</td>\n",
       "      <td>5773.97</td>\n",
       "      <td>Abrocoma_boliviensis_ABR...</td>\n",
       "      <td>2.829928</td>\n",
       "    </tr>\n",
       "    <tr>\n",
       "      <th>3</th>\n",
       "      <td>Abrocoma cinerea</td>\n",
       "      <td>381391.02</td>\n",
       "      <td>Abrocoma_cinerea_ABROCOM...</td>\n",
       "      <td>2.829928</td>\n",
       "    </tr>\n",
       "    <tr>\n",
       "      <th>4</th>\n",
       "      <td>Abrothrix andinus</td>\n",
       "      <td>722551.83</td>\n",
       "      <td>Abrothrix_andinus_CRICET...</td>\n",
       "      <td>1.614762</td>\n",
       "    </tr>\n",
       "    <tr>\n",
       "      <th>5</th>\n",
       "      <td>Abrothrix hershkovitzi</td>\n",
       "      <td>1775.72</td>\n",
       "      <td>Abrothrix_hershkovitzi_C...</td>\n",
       "      <td>1.614762</td>\n",
       "    </tr>\n",
       "    <tr>\n",
       "      <th>6</th>\n",
       "      <td>Abrothrix illuteus</td>\n",
       "      <td>35359.55</td>\n",
       "      <td>Abrothrix_illuteus_CRICE...</td>\n",
       "      <td>1.614762</td>\n",
       "    </tr>\n",
       "    <tr>\n",
       "      <th>7</th>\n",
       "      <td>Abrothrix jelskii</td>\n",
       "      <td>506394.71</td>\n",
       "      <td>Abrothrix_jelskii_CRICET...</td>\n",
       "      <td>1.614762</td>\n",
       "    </tr>\n",
       "    <tr>\n",
       "      <th>8</th>\n",
       "      <td>Abrothrix lanosus</td>\n",
       "      <td>43016.67</td>\n",
       "      <td>Abrothrix_lanosus_CRICET...</td>\n",
       "      <td>1.614762</td>\n",
       "    </tr>\n",
       "    <tr>\n",
       "      <th>9</th>\n",
       "      <td>Abrothrix longipilis</td>\n",
       "      <td>423823.71</td>\n",
       "      <td>Abrothrix_longipilis_CRI...</td>\n",
       "      <td>1.614762</td>\n",
       "    </tr>\n",
       "  </tbody>\n",
       "</table>\n",
       "</div>"
      ],
      "text/plain": [
       "                  species   georange                     treename   gentime\n",
       "0       Abeomelomys sevia   53261.73  Abeomelomys_sevia_MURIDA...  1.710684\n",
       "1      Abrocoma bennettii   54615.98  Abrocoma_bennettii_ABROC...  2.829928\n",
       "2    Abrocoma boliviensis    5773.97  Abrocoma_boliviensis_ABR...  2.829928\n",
       "3        Abrocoma cinerea  381391.02  Abrocoma_cinerea_ABROCOM...  2.829928\n",
       "4       Abrothrix andinus  722551.83  Abrothrix_andinus_CRICET...  1.614762\n",
       "5  Abrothrix hershkovitzi    1775.72  Abrothrix_hershkovitzi_C...  1.614762\n",
       "6      Abrothrix illuteus   35359.55  Abrothrix_illuteus_CRICE...  1.614762\n",
       "7       Abrothrix jelskii  506394.71  Abrothrix_jelskii_CRICET...  1.614762\n",
       "8       Abrothrix lanosus   43016.67  Abrothrix_lanosus_CRICET...  1.614762\n",
       "9    Abrothrix longipilis  423823.71  Abrothrix_longipilis_CRI...  1.614762"
      ]
     },
     "execution_count": 8,
     "metadata": {},
     "output_type": "execute_result"
    }
   ],
   "source": [
    "# set missing data (-999) to NaN\n",
    "sppdata[sppdata == -999.000] = np.nan\n",
    "\n",
    "# remove rows where either georange or gentime is missing\n",
    "mask = sppdata.georange.notna() & sppdata.gentime.notna() & sppdata.treename.notna()\n",
    "sppdata = sppdata.loc[mask, :]\n",
    "\n",
    "# reorder and reset index for dropped rows\n",
    "sppdata.sort_values(by=\"species\", inplace=True)\n",
    "sppdata.reset_index(drop=True, inplace=True)\n",
    "\n",
    "# show first ten sorted rows\n",
    "sppdata.head(10)"
   ]
  },
  {
   "cell_type": "markdown",
   "id": "34d04eab-941c-499a-84d6-8ad200c9437a",
   "metadata": {},
   "source": [
    "### Filter the tree to include only taxa in the data table"
   ]
  },
  {
   "cell_type": "code",
   "execution_count": 9,
   "id": "f72461f9-a7dc-4258-9fe9-0425be2a7ef4",
   "metadata": {},
   "outputs": [],
   "source": [
    "# find names in tree but not in data table\n",
    "names_in_data = set(sppdata.treename)\n",
    "names_in_tree = set(tree.get_tip_labels())\n",
    "names_to_keep = names_in_tree.intersection(names_in_data)"
   ]
  },
  {
   "cell_type": "code",
   "execution_count": 17,
   "id": "1f13dc1f-7377-42a9-8cc2-d56773bc91d4",
   "metadata": {},
   "outputs": [
    {
     "ename": "TypeError",
     "evalue": "object of type 'ToyTree' has no len()",
     "output_type": "error",
     "traceback": [
      "\u001b[0;31m---------------------------------------------------------------------------\u001b[0m",
      "\u001b[0;31mTypeError\u001b[0m                                 Traceback (most recent call last)",
      "Cell \u001b[0;32mIn[17], line 3\u001b[0m\n\u001b[1;32m      1\u001b[0m \u001b[38;5;66;03m# only keep tree tips that are in the table\u001b[39;00m\n\u001b[1;32m      2\u001b[0m ftree \u001b[38;5;241m=\u001b[39m tree\u001b[38;5;241m.\u001b[39mmod\u001b[38;5;241m.\u001b[39mprune(\u001b[38;5;241m*\u001b[39mnames_to_keep)\n\u001b[0;32m----> 3\u001b[0m \u001b[38;5;28mprint\u001b[39m(\u001b[38;5;28;43mlen\u001b[39;49m\u001b[43m(\u001b[49m\u001b[43mftree\u001b[49m\u001b[43m)\u001b[49m, \u001b[38;5;124m\"\u001b[39m\u001b[38;5;124mtips in filtered tree (ftree)\u001b[39m\u001b[38;5;124m\"\u001b[39m)\n",
      "\u001b[0;31mTypeError\u001b[0m: object of type 'ToyTree' has no len()"
     ]
    }
   ],
   "source": [
    "# only keep tree tips that are in the table\n",
    "ftree = tree.mod.prune(*names_to_keep)\n",
    "print(len(ftree), \"tips in filtered tree (ftree)\")"
   ]
  },
  {
   "cell_type": "markdown",
   "id": "455cebc6-7ba2-43b6-91da-1378e4e363a8",
   "metadata": {},
   "source": [
    "### Convert geographic ranges to Ne values\n",
    "Here we generate a range of Ne values within a selected range that are scaled by the variation in geographic range area sizes among taxa. The distribution is plotted as a histrogram on a y-axis log scale. Many taxa have small Ne, few have very large Ne."
   ]
  },
  {
   "cell_type": "code",
   "execution_count": null,
   "id": "2f4c916c-fe38-4e3c-ad57-4d6c9c94eb0a",
   "metadata": {},
   "outputs": [],
   "source": [
    "# transform georange into Ne values within selected range\n",
    "max_Ne = 1000000\n",
    "min_Ne = 1000\n",
    "\n",
    "# set Ne values in range scaled by geographic ranges\n",
    "Ne = max_Ne * (sppdata.georange / sppdata.georange.max())\n",
    "Ne = [max(min_Ne, i) for i in Ne]\n",
    "sppdata[\"Ne\"] = np.array(Ne, dtype=int)\n",
    "\n",
    "# show 10 random samples\n",
    "sppdata.sample(10)"
   ]
  },
  {
   "cell_type": "code",
   "execution_count": null,
   "id": "e42f1e6a-6a61-4f5c-b0c1-02ea2d2f7964",
   "metadata": {},
   "outputs": [],
   "source": [
    "# plot a histogram of Ne values\n",
    "a, b = np.histogram(sppdata.Ne, bins=25)\n",
    "toyplot.bars((a, b), height=300, width=400, yscale=\"log\", ylabel=\"bin count\", xlabel=\"Ne\");"
   ]
  },
  {
   "cell_type": "markdown",
   "id": "77726898-ea4b-457f-aed8-7229daabda08",
   "metadata": {},
   "source": [
    "### Set Ne and g values for tip and ancestral nodes on the tree object\n",
    "ipcoal can accept different Ne and g values to use in simulations, and the easiest way to set variable values across different parts of the tree is to map the values to the tree object that ipcoal accepts as an argument. We only have estimates of Ne and g for species that are alive today, but it would be useful to also includes estimates for ancestral nodes in the species tree. Here we use a simple ancestral state reconstruction based on Brownian motion to infer states for ancestral nodes."
   ]
  },
  {
   "cell_type": "code",
   "execution_count": null,
   "id": "1ec7520a-83af-4c8e-9489-f99bf0ddd0d8",
   "metadata": {},
   "outputs": [],
   "source": [
    "# make a copy of the filtered tree\n",
    "tree_ng = ftree.copy()\n",
    "\n",
    "# dictionaries mapping names to values\n",
    "dict_ne = {sppdata.treename[i]: sppdata.Ne[i] for i in range(sppdata.shape[0])}\n",
    "dict_gt = {sppdata.treename[i]: sppdata.gentime[i] for i in range(sppdata.shape[0])}\n",
    "\n",
    "# set values on nodes of the tree for all species (tips)\n",
    "tree_ng = tree_ng.set_node_values(\"Ne\", dict_ne)\n",
    "tree_ng = tree_ng.set_node_values(\"g\", dict_gt)\n",
    "\n",
    "# estimate and set values on ancestral nodes as well.\n",
    "tree_ng = tree_ng.pcm.ancestral_state_reconstruction(\"g\")\n",
    "tree_ng = tree_ng.pcm.ancestral_state_reconstruction(\"Ne\")"
   ]
  },
  {
   "cell_type": "markdown",
   "id": "3ba74622-a81c-4413-b364-878ec64117a6",
   "metadata": {},
   "source": [
    "## Plot tree with Ne and g values\n",
    "Let’s plot just a subset of taxa to start, since it will be much easier to visualize than trying to examine the entire tree. Here we select only the taxa in the genus Mustela. The tree plot shows variation in Ne using the thickness of edges, and generation times are shows by the color of nodes, blue to red, representing shorter to longer times. The `ts='p'` drawing option automatically pulls the Ne information from the nodes of the tree to draw the edge thickness."
   ]
  },
  {
   "cell_type": "code",
   "execution_count": null,
   "id": "44594294-376c-4406-9eec-da000b46420c",
   "metadata": {},
   "outputs": [],
   "source": [
    "# make a tree copy\n",
    "atree = tree_ng.copy()\n",
    "\n",
    "# get ancestor of all tips that have 'Mustela' in their name\n",
    "mrca_node_idx = atree.get_mrca_idx_from_tip_labels(wildcard=\"Mustela_\")\n",
    "\n",
    "# get the TreeNode object of this subtree\n",
    "node = atree.get_feature_dict(\"idx\")[mrca_node_idx]\n",
    "\n",
    "# create as a new Toytree\n",
    "subtree = toytree.tree(node)\n",
    "\n",
    "# scale the tree height from millions of year to years\n",
    "subtree = subtree.mod.node_scale_root_height(subtree.treenode.height * 1e6)"
   ]
  },
  {
   "cell_type": "code",
   "execution_count": null,
   "id": "2546f973-a76e-4332-980e-02ca249a45a4",
   "metadata": {},
   "outputs": [],
   "source": [
    "subtree.draw(\n",
    "    ts='p',\n",
    "    edge_type='p',\n",
    "    node_sizes=10,\n",
    "    node_labels=False,\n",
    "    node_colors=[\n",
    "        colormap.colors(i, 0.1, 10) for i in subtree.get_node_values('g', 1, 1)\n",
    "    ],\n",
    "    width=400,\n",
    "    height=600,\n",
    ");"
   ]
  },
  {
   "cell_type": "markdown",
   "id": "59f8ed91-b513-4adf-bed9-69ae6500d87c",
   "metadata": {},
   "source": [
    "## Convert edge lengths from time to generations\n",
    "Time in years is converted to units of generations by dividing by each edge length by the generation time for that edge, recorded as ngenerations/year. When this is done the crown root age of the Mustela tree is now at 2.4M generations from the furthest tip in the tree. This tree object (ttree) now contains information in its Ne values mapped to nodes and in its edge lengths to fully represent the data on population sizes and generation time differences among species and their ancestors. This is the tree we will use for our ipcoal simulations."
   ]
  },
  {
   "cell_type": "code",
   "execution_count": null,
   "id": "0d307740-befd-4129-92b9-312b2726b0ee",
   "metadata": {},
   "outputs": [],
   "source": [
    "# divide the edge lengths (in abosolute time) by the generation time\n",
    "ttree = subtree.set_node_values(\n",
    "    \"dist\",\n",
    "    {i.name: i.dist / i.g for i in subtree.get_feature_dict()}\n",
    ")"
   ]
  },
  {
   "cell_type": "code",
   "execution_count": null,
   "id": "2bd85c6f-9b57-43b5-950f-4ab6a07fd7c0",
   "metadata": {},
   "outputs": [],
   "source": [
    "ttree.draw(\n",
    "    ts='p',\n",
    "    edge_type='p',\n",
    "    tip_labels_align=True,\n",
    "    tip_labels=[i.rsplit(\"_\", 2)[0] for i in ttree.get_tip_labels()],\n",
    "    node_labels=False,\n",
    "    node_sizes=0,\n",
    "    width=400,\n",
    "    height=400,\n",
    ");"
   ]
  },
  {
   "cell_type": "code",
   "execution_count": null,
   "id": "1ddba78f-b2db-41cc-9f8b-3aa6a411c61d",
   "metadata": {},
   "outputs": [],
   "source": []
  }
 ],
 "metadata": {
  "kernelspec": {
   "display_name": "Python 3 (ipykernel)",
   "language": "python",
   "name": "python3"
  },
  "language_info": {
   "codemirror_mode": {
    "name": "ipython",
    "version": 3
   },
   "file_extension": ".py",
   "mimetype": "text/x-python",
   "name": "python",
   "nbconvert_exporter": "python",
   "pygments_lexer": "ipython3",
   "version": "3.10.12"
  }
 },
 "nbformat": 4,
 "nbformat_minor": 5
}
