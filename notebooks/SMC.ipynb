{
 "cells": [
  {
   "cell_type": "markdown",
   "id": "72d7a85f",
   "metadata": {},
   "source": [
    "### Distribution of waiting times in SMC under a species tree model"
   ]
  },
  {
   "cell_type": "code",
   "execution_count": 37,
   "id": "1423da2f",
   "metadata": {},
   "outputs": [],
   "source": [
    "import toytree\n",
    "import toyplot\n",
    "import ipcoal\n",
    "import pandas as pd\n",
    "import numpy as np"
   ]
  },
  {
   "cell_type": "code",
   "execution_count": 38,
   "id": "2e48ad8a",
   "metadata": {},
   "outputs": [],
   "source": [
    "from ipcoal.smc.smc3 import (\n",
    "    get_gene_tree_coal_intervals, \n",
    "    get_prob_gene_tree_is_unchanged_by_recomb_event,\n",
    "    get_prob_gene_tree_is_unchanged_by_recomb_on_edge,\n",
    "    get_prob_gene_tree_is_unchanged,\n",
    "    get_expected_dist_until_gene_tree_changes,\n",
    ")"
   ]
  },
  {
   "cell_type": "markdown",
   "id": "c7d0c1fb",
   "metadata": {},
   "source": [
    "### Define a species tree and sample a single genealogy"
   ]
  },
  {
   "cell_type": "code",
   "execution_count": 39,
   "id": "eace70a9",
   "metadata": {},
   "outputs": [],
   "source": [
    "SPTREE = toytree.rtree.unittree(ntips=6, treeheight=1e6, seed=123)\n",
    "SPTREE = SPTREE.set_node_data(\"Ne\", {i: 5e4 for i in (0, 1, 8)}, default=1e5)\n",
    "#SPTREE = SPTREE.set_node_data(\"Ne\", default=2.5e5)\n",
    "MODEL = ipcoal.Model(SPTREE, seed_trees=123)\n",
    "MODEL.sim_trees(1, 1)\n",
    "GTREE = toytree.tree(MODEL.df.genealogy[0])"
   ]
  },
  {
   "cell_type": "code",
   "execution_count": 40,
   "id": "b701cf37",
   "metadata": {},
   "outputs": [],
   "source": [
    "def draw_trees(species_tree, gene_tree):\n",
    "    \"\"\"Return a drawing of species tree, gene tree, and intervals of interest.\n",
    "    \"\"\"   \n",
    "    # draw the tree\n",
    "    mtre = toytree.mtree([species_tree, gene_tree])\n",
    "    canvas, axes, _ = mtre.draw(\n",
    "        ts='p',\n",
    "        shared_axes=True,\n",
    "        scale_bar=True,\n",
    "        fixed_order=SPTREE.get_tip_labels(),\n",
    "        node_labels=\"idx\",\n",
    "        node_labels_style={\"baseline-shift\": \"10px\", \"font-size\": \"11px\"},\n",
    "        node_sizes=6,\n",
    "        height=325, width=500,\n",
    "    );\n",
    "\n",
    "    axes[0].label.text = \"SPTREE\"\n",
    "    axes[1].label.text = \"GTREE\"\n",
    "    for ax in axes:\n",
    "        ax.hlines(\n",
    "            species_tree.get_node_data(\"height\").unique(),\n",
    "            style={\n",
    "                \"stroke\": toytree.COLORS1[1], \n",
    "                \"stroke-width\": 2,\n",
    "                \"stroke-dasharray\": \"2,4\"},\n",
    "        )\n",
    "    return canvas, axes, _"
   ]
  },
  {
   "cell_type": "markdown",
   "id": "48453f6f",
   "metadata": {},
   "source": [
    "### get the genetree coal events on a specified gene tree edge idx"
   ]
  },
  {
   "cell_type": "code",
   "execution_count": 45,
   "id": "48fa5e3c",
   "metadata": {},
   "outputs": [
    {
     "data": {
      "text/plain": [
       "-8.218407461554972e+307"
      ]
     },
     "execution_count": 45,
     "metadata": {},
     "output_type": "execute_result"
    }
   ],
   "source": [
    "-np.exp(709)"
   ]
  },
  {
   "cell_type": "code",
   "execution_count": null,
   "id": "026d8416",
   "metadata": {},
   "outputs": [],
   "source": []
  },
  {
   "cell_type": "code",
   "execution_count": 47,
   "id": "960d8c52",
   "metadata": {},
   "outputs": [
    {
     "data": {
      "text/plain": [
       "1.0000000000000001e-07"
      ]
     },
     "execution_count": 47,
     "metadata": {},
     "output_type": "execute_result"
    }
   ],
   "source": [
    "0.1/ 1e6"
   ]
  },
  {
   "cell_type": "code",
   "execution_count": 41,
   "id": "2a6bbc8c",
   "metadata": {},
   "outputs": [
    {
     "data": {
      "text/html": [
       "<div>\n",
       "<style scoped>\n",
       "    .dataframe tbody tr th:only-of-type {\n",
       "        vertical-align: middle;\n",
       "    }\n",
       "\n",
       "    .dataframe tbody tr th {\n",
       "        vertical-align: top;\n",
       "    }\n",
       "\n",
       "    .dataframe thead th {\n",
       "        text-align: right;\n",
       "    }\n",
       "</style>\n",
       "<table border=\"1\" class=\"dataframe\">\n",
       "  <thead>\n",
       "    <tr style=\"text-align: right;\">\n",
       "      <th></th>\n",
       "      <th>start</th>\n",
       "      <th>stop</th>\n",
       "      <th>neff</th>\n",
       "      <th>edges</th>\n",
       "      <th>st_node</th>\n",
       "      <th>event</th>\n",
       "      <th>dist</th>\n",
       "    </tr>\n",
       "  </thead>\n",
       "  <tbody>\n",
       "    <tr>\n",
       "      <th>0</th>\n",
       "      <td>0.0</td>\n",
       "      <td>250000.000000</td>\n",
       "      <td>100000.0</td>\n",
       "      <td>1</td>\n",
       "      <td>2-&gt;6</td>\n",
       "      <td>ILS</td>\n",
       "      <td>250000.000000</td>\n",
       "    </tr>\n",
       "    <tr>\n",
       "      <th>1</th>\n",
       "      <td>250000.0</td>\n",
       "      <td>500000.000000</td>\n",
       "      <td>100000.0</td>\n",
       "      <td>2</td>\n",
       "      <td>6-&gt;7</td>\n",
       "      <td>ILS</td>\n",
       "      <td>250000.000000</td>\n",
       "    </tr>\n",
       "    <tr>\n",
       "      <th>2</th>\n",
       "      <td>500000.0</td>\n",
       "      <td>696076.852632</td>\n",
       "      <td>100000.0</td>\n",
       "      <td>3</td>\n",
       "      <td>7-&gt;7</td>\n",
       "      <td>COAL-g7</td>\n",
       "      <td>196076.852632</td>\n",
       "    </tr>\n",
       "  </tbody>\n",
       "</table>\n",
       "</div>"
      ],
      "text/plain": [
       "      start           stop      neff  edges st_node    event           dist\n",
       "0       0.0  250000.000000  100000.0      1    2->6      ILS  250000.000000\n",
       "1  250000.0  500000.000000  100000.0      2    6->7      ILS  250000.000000\n",
       "2  500000.0  696076.852632  100000.0      3    7->7  COAL-g7  196076.852632"
      ]
     },
     "execution_count": 41,
     "metadata": {},
     "output_type": "execute_result"
    }
   ],
   "source": [
    "get_gene_tree_coal_intervals(SPTREE, GTREE, 2)"
   ]
  },
  {
   "cell_type": "code",
   "execution_count": 28,
   "id": "e14549fc",
   "metadata": {},
   "outputs": [
    {
     "name": "stdout",
     "output_type": "stream",
     "text": [
      "282 µs ± 5.38 µs per loop (mean ± std. dev. of 7 runs, 1000 loops each)\n"
     ]
    }
   ],
   "source": [
    "%%timeit\n",
    "SPTREE.set_node_data(\"ncoals\", default=0)"
   ]
  },
  {
   "cell_type": "code",
   "execution_count": 30,
   "id": "a5a663f9",
   "metadata": {},
   "outputs": [
    {
     "name": "stdout",
     "output_type": "stream",
     "text": [
      "723 µs ± 13.8 µs per loop (mean ± std. dev. of 7 runs, 1000 loops each)\n"
     ]
    }
   ],
   "source": [
    "%%timeit\n",
    "gene_tree = GTREE.set_node_data(\n",
    "    feature=\"age\",\n",
    "    mapping=GTREE.get_node_data(\"height\").to_dict()\n",
    ")"
   ]
  },
  {
   "cell_type": "code",
   "execution_count": 32,
   "id": "91b770f6",
   "metadata": {},
   "outputs": [
    {
     "name": "stdout",
     "output_type": "stream",
     "text": [
      "9.38 µs ± 23.8 ns per loop (mean ± std. dev. of 7 runs, 100000 loops each)\n"
     ]
    }
   ],
   "source": [
    "%%timeit\n",
    "ncoals = {}\n",
    "for node in SPTREE.treenode.traverse(\"postorder\"):\n",
    "    if not node.is_leaf():\n",
    "        pass#st_tips = node.get_leaf_names()\n",
    "        "
   ]
  },
  {
   "cell_type": "code",
   "execution_count": 51,
   "id": "21226a1b",
   "metadata": {},
   "outputs": [
    {
     "data": {
      "text/plain": [
       "-0.0"
      ]
     },
     "execution_count": 51,
     "metadata": {},
     "output_type": "execute_result"
    }
   ],
   "source": [
    "-np.exp(-1e7)"
   ]
  },
  {
   "cell_type": "code",
   "execution_count": 16,
   "id": "f9aae60b",
   "metadata": {
    "scrolled": true
   },
   "outputs": [
    {
     "data": {
      "text/html": [
       "<div class=\"toyplot\" id=\"t342977161b6f4f8f81a574871f3246e0\" style=\"text-align:center\"><svg class=\"toyplot-canvas-Canvas\" xmlns:toyplot=\"http://www.sandia.gov/toyplot\" xmlns:xlink=\"http://www.w3.org/1999/xlink\" xmlns=\"http://www.w3.org/2000/svg\" width=\"500.0px\" height=\"325.0px\" viewBox=\"0 0 500.0 325.0\" preserveAspectRatio=\"xMidYMid meet\" style=\"background-color:transparent;border-color:#292724;border-style:none;border-width:1.0;fill:rgb(16.1%,15.3%,14.1%);fill-opacity:1.0;font-family:Helvetica;font-size:12px;opacity:1.0;stroke:rgb(16.1%,15.3%,14.1%);stroke-opacity:1.0;stroke-width:1.0\" id=\"t335ad529e2544833b4c3394878005816\"><g class=\"toyplot-coordinates-Cartesian\" id=\"tf0eb610074684f39b3355891fa9c7a31\"><clipPath id=\"t851a24a149074926bf2aeb858a6273fa\"><rect x=\"40.0\" y=\"40.0\" width=\"210.0\" height=\"245.0\"></rect></clipPath><g clip-path=\"url(#t851a24a149074926bf2aeb858a6273fa)\"><g class=\"toytree-mark-Toytree\" id=\"t811c910790584db389a8d0b919784b2d\"><g class=\"toytree-Edges\" style=\"fill:none;stroke:rgba(16.1%,15.3%,14.1%,1.000);stroke-linecap:round;stroke-width:2.0\"><path d=\"M 73.5 128.2 L 55.6 242.7\" id=\"8,0\" style=\"stroke-width:2.0\"></path><path d=\"M 73.5 128.2 L 91.4 242.7\" id=\"8,1\" style=\"stroke-width:2.0\"></path><path d=\"M 145.0 204.5 L 127.1 242.7\" id=\"6,2\" style=\"stroke-width:4.222222222222222\"></path><path d=\"M 145.0 204.5 L 162.9 242.7\" id=\"6,3\" style=\"stroke-width:4.222222222222222\"></path><path d=\"M 171.8 166.3 L 198.6 242.7\" id=\"7,4\" style=\"stroke-width:4.222222222222222\"></path><path d=\"M 203.1 128.2 L 234.4 242.7\" id=\"9,5\" style=\"stroke-width:4.222222222222222\"></path><path d=\"M 171.8 166.3 L 145.0 204.5\" id=\"7,6\" style=\"stroke-width:4.222222222222222\"></path><path d=\"M 203.1 128.2 L 171.8 166.3\" id=\"9,7\" style=\"stroke-width:4.222222222222222\"></path><path d=\"M 138.3 90.0 L 73.5 128.2\" id=\"10,8\" style=\"stroke-width:2.0\"></path><path d=\"M 138.3 90.0 L 203.1 128.2\" id=\"10,9\" style=\"stroke-width:4.222222222222222\"></path></g><g class=\"toytree-Nodes\" style=\"fill:rgba(40.0%,76.1%,64.7%,1.000);stroke:#262626;stroke-width:1.0\"><g id=\"node-0\" transform=\"translate(55.644,242.652)\"><circle r=\"3.0\"></circle></g><g id=\"node-1\" transform=\"translate(91.386,242.652)\"><circle r=\"3.0\"></circle></g><g id=\"node-2\" transform=\"translate(127.129,242.652)\"><circle r=\"3.0\"></circle></g><g id=\"node-3\" transform=\"translate(162.871,242.652)\"><circle r=\"3.0\"></circle></g><g id=\"node-4\" transform=\"translate(198.614,242.652)\"><circle r=\"3.0\"></circle></g><g id=\"node-5\" transform=\"translate(234.356,242.652)\"><circle r=\"3.0\"></circle></g><g id=\"node-6\" transform=\"translate(145.000,204.499)\"><circle r=\"3.0\"></circle></g><g id=\"node-7\" transform=\"translate(171.807,166.346)\"><circle r=\"3.0\"></circle></g><g id=\"node-8\" transform=\"translate(73.515,128.194)\"><circle r=\"3.0\"></circle></g><g id=\"node-9\" transform=\"translate(203.082,128.194)\"><circle r=\"3.0\"></circle></g><g id=\"node-10\" transform=\"translate(138.298,90.041)\"><circle r=\"3.0\"></circle></g></g><g class=\"toytree-NodeLabels\" style=\"font-family:Helvetica;font-size:11.0px;font-weight:300;stroke:none;vertical-align:baseline;white-space:pre\"><g class=\"toytree-NodeLabel\" transform=\"translate(55.64356435643564,242.65164776619227)\"><text x=\"-3.0580000000000003\" y=\"-7.189500000000001\" style=\"fill:rgb(16.1%,15.3%,14.1%);fill-opacity:1.0\">0</text></g><g class=\"toytree-NodeLabel\" transform=\"translate(91.38613861386138,242.65164776619227)\"><text x=\"-3.0580000000000003\" y=\"-7.189500000000001\" style=\"fill:rgb(16.1%,15.3%,14.1%);fill-opacity:1.0\">1</text></g><g class=\"toytree-NodeLabel\" transform=\"translate(127.12871287128712,242.65164776619227)\"><text x=\"-3.0580000000000003\" y=\"-7.189500000000001\" style=\"fill:rgb(16.1%,15.3%,14.1%);fill-opacity:1.0\">2</text></g><g class=\"toytree-NodeLabel\" transform=\"translate(162.87128712871282,242.65164776619227)\"><text x=\"-3.0580000000000003\" y=\"-7.189500000000001\" style=\"fill:rgb(16.1%,15.3%,14.1%);fill-opacity:1.0\">3</text></g><g class=\"toytree-NodeLabel\" transform=\"translate(198.6138613861386,242.65164776619227)\"><text x=\"-3.0580000000000003\" y=\"-7.189500000000001\" style=\"fill:rgb(16.1%,15.3%,14.1%);fill-opacity:1.0\">4</text></g><g class=\"toytree-NodeLabel\" transform=\"translate(234.35643564356434,242.65164776619227)\"><text x=\"-3.0580000000000003\" y=\"-7.189500000000001\" style=\"fill:rgb(16.1%,15.3%,14.1%);fill-opacity:1.0\">5</text></g><g class=\"toytree-NodeLabel\" transform=\"translate(144.99999999999997,204.4990734499353)\"><text x=\"-3.0580000000000003\" y=\"-7.189500000000001\" style=\"fill:rgb(16.1%,15.3%,14.1%);fill-opacity:1.0\">6</text></g><g class=\"toytree-NodeLabel\" transform=\"translate(171.80693069306932,166.34649913367838)\"><text x=\"-3.0580000000000003\" y=\"-7.189500000000001\" style=\"fill:rgb(16.1%,15.3%,14.1%);fill-opacity:1.0\">7</text></g><g class=\"toytree-NodeLabel\" transform=\"translate(73.51485148514851,128.19392481742142)\"><text x=\"-3.0580000000000003\" y=\"-7.189500000000001\" style=\"fill:rgb(16.1%,15.3%,14.1%);fill-opacity:1.0\">8</text></g><g class=\"toytree-NodeLabel\" transform=\"translate(203.0816831683168,128.19392481742142)\"><text x=\"-3.0580000000000003\" y=\"-7.189500000000001\" style=\"fill:rgb(16.1%,15.3%,14.1%);fill-opacity:1.0\">9</text></g><g class=\"toytree-NodeLabel\" transform=\"translate(138.29826732673266,90.04135050116447)\"><text x=\"-6.1160000000000005\" y=\"-7.189500000000001\" style=\"fill:rgb(16.1%,15.3%,14.1%);fill-opacity:1.0\">10</text></g></g><g class=\"toytree-TipLabels\" style=\"fill:rgb(16.1%,15.3%,14.1%);fill-opacity:1.0;font-family:Helvetica;font-size:10.0px;font-weight:300;stroke:none;vertical-align:baseline;white-space:pre\"><g class=\"toytree-TipLabel\" transform=\"translate(55.64356435643564,242.65164776619227)rotate(90.0)\"><text x=\"10.0\" y=\"2.5549999999999997\" style=\"\">r0</text></g><g class=\"toytree-TipLabel\" transform=\"translate(91.38613861386138,242.65164776619227)rotate(90.0)\"><text x=\"10.0\" y=\"2.5549999999999997\" style=\"\">r1</text></g><g class=\"toytree-TipLabel\" transform=\"translate(127.12871287128712,242.65164776619227)rotate(90.0)\"><text x=\"10.0\" y=\"2.5549999999999997\" style=\"\">r2</text></g><g class=\"toytree-TipLabel\" transform=\"translate(162.87128712871282,242.65164776619227)rotate(90.0)\"><text x=\"10.0\" y=\"2.5549999999999997\" style=\"\">r3</text></g><g class=\"toytree-TipLabel\" transform=\"translate(198.6138613861386,242.65164776619227)rotate(90.0)\"><text x=\"10.0\" y=\"2.5549999999999997\" style=\"\">r4</text></g><g class=\"toytree-TipLabel\" transform=\"translate(234.35643564356434,242.65164776619227)rotate(90.0)\"><text x=\"10.0\" y=\"2.5549999999999997\" style=\"\">r5</text></g></g></g><g class=\"toyplot-mark-Point\" id=\"t56c79cb61b3e434c87d07ebe759ddbf6\"><g class=\"toyplot-Series\"><g style=\"fill:rgb(0%,0%,0%);fill-opacity:0.0;opacity:1.0;stroke:rgb(0%,0%,0%);stroke-opacity:0.0\" class=\"toyplot-Datum\" transform=\"translate(162.87128712871282, 50.0)\"><circle r=\"2.0\"></circle></g></g></g><g class=\"toyplot-mark-AxisLines\" style=\"stroke:rgb(98.8%,55.3%,38.4%);stroke-dasharray:2,4;stroke-opacity:1.0;stroke-width:2\" id=\"t6a7ffb1ac529478f983faff8dfae8aed\"><g class=\"toyplot-Series\"><line class=\"toyplot-Datum\" y1=\"242.65164776619227\" y2=\"242.65164776619227\" x1=\"50.0\" x2=\"240.0\" style=\"opacity:1.0;stroke:rgb(98.8%,55.3%,38.4%);stroke-dasharray:2,4;stroke-opacity:1.0;stroke-width:2\"></line><line class=\"toyplot-Datum\" y1=\"204.4990734499353\" y2=\"204.4990734499353\" x1=\"50.0\" x2=\"240.0\" style=\"opacity:1.0;stroke:rgb(98.8%,55.3%,38.4%);stroke-dasharray:2,4;stroke-opacity:1.0;stroke-width:2\"></line><line class=\"toyplot-Datum\" y1=\"166.34649913367838\" y2=\"166.34649913367838\" x1=\"50.0\" x2=\"240.0\" style=\"opacity:1.0;stroke:rgb(98.8%,55.3%,38.4%);stroke-dasharray:2,4;stroke-opacity:1.0;stroke-width:2\"></line><line class=\"toyplot-Datum\" y1=\"128.19392481742142\" y2=\"128.19392481742142\" x1=\"50.0\" x2=\"240.0\" style=\"opacity:1.0;stroke:rgb(98.8%,55.3%,38.4%);stroke-dasharray:2,4;stroke-opacity:1.0;stroke-width:2\"></line><line class=\"toyplot-Datum\" y1=\"90.04135050116447\" y2=\"90.04135050116447\" x1=\"50.0\" x2=\"240.0\" style=\"opacity:1.0;stroke:rgb(98.8%,55.3%,38.4%);stroke-dasharray:2,4;stroke-opacity:1.0;stroke-width:2\"></line></g></g></g><g class=\"toyplot-coordinates-Axis\" id=\"t2e730a6b1fe2443b8bcf288facc8b7b1\" transform=\"translate(50.0,275.0)rotate(-90.0)translate(0,-10.0)\"><line x1=\"32.34835223380773\" y1=\"0\" x2=\"225.0\" y2=\"0\" style=\"\"></line><g><line x1=\"32.34835223380773\" y1=\"0\" x2=\"32.34835223380773\" y2=\"5\" style=\"\"></line><line x1=\"93.39247113981884\" y1=\"0\" x2=\"93.39247113981884\" y2=\"5\" style=\"\"></line><line x1=\"154.43659004582997\" y1=\"0\" x2=\"154.43659004582997\" y2=\"5\" style=\"\"></line><line x1=\"215.48070895184108\" y1=\"0\" x2=\"215.48070895184108\" y2=\"5\" style=\"\"></line></g><g><g transform=\"translate(32.34835223380773,-6)\"><text x=\"-2.78\" y=\"-4.440892098500626e-16\" style=\"fill:rgb(16.1%,15.3%,14.1%);fill-opacity:1.0;font-family:helvetica;font-size:10.0px;font-weight:normal;stroke:none;vertical-align:baseline;white-space:pre\">0</text></g><g transform=\"translate(93.39247113981884,-6)\"><text x=\"-16.68\" y=\"-4.440892098500626e-16\" style=\"fill:rgb(16.1%,15.3%,14.1%);fill-opacity:1.0;font-family:helvetica;font-size:10.0px;font-weight:normal;stroke:none;vertical-align:baseline;white-space:pre\">400000</text></g><g transform=\"translate(154.43659004582997,-6)\"><text x=\"-16.68\" y=\"-4.440892098500626e-16\" style=\"fill:rgb(16.1%,15.3%,14.1%);fill-opacity:1.0;font-family:helvetica;font-size:10.0px;font-weight:normal;stroke:none;vertical-align:baseline;white-space:pre\">800000</text></g><g transform=\"translate(215.48070895184108,-6)\"><text x=\"-19.459999999999997\" y=\"-4.440892098500626e-16\" style=\"fill:rgb(16.1%,15.3%,14.1%);fill-opacity:1.0;font-family:helvetica;font-size:10.0px;font-weight:normal;stroke:none;vertical-align:baseline;white-space:pre\">1200000</text></g></g><g class=\"toyplot-coordinates-Axis-coordinates\" style=\"visibility:hidden\" transform=\"\"><line x1=\"0\" x2=\"0\" y1=\"3.0\" y2=\"-4.5\" style=\"stroke:rgb(43.9%,50.2%,56.5%);stroke-opacity:1.0;stroke-width:1.0\"></line><text x=\"0\" y=\"6\" style=\"alignment-baseline:hanging;fill:rgb(43.9%,50.2%,56.5%);fill-opacity:1.0;font-size:10px;font-weight:normal;stroke:none;text-anchor:middle\"></text></g></g><g transform=\"translate(145.0,42.0)\"><text x=\"-28.007\" y=\"-4.823\" style=\"fill:rgb(16.1%,15.3%,14.1%);fill-opacity:1.0;font-family:helvetica;font-size:14.0px;font-weight:bold;stroke:none;vertical-align:baseline;white-space:pre\">SPTREE</text></g></g><g class=\"toyplot-coordinates-Cartesian\" id=\"t7277c24492d5438dbfdfd98eb2959809\"><clipPath id=\"t78e42353bc424b9fa08566716e4fcdce\"><rect x=\"290.0\" y=\"40.0\" width=\"210.0\" height=\"245.0\"></rect></clipPath><g clip-path=\"url(#t78e42353bc424b9fa08566716e4fcdce)\"><g class=\"toytree-mark-Toytree\" id=\"tdce50aee27764e14bbe58426ce303915\"><g class=\"toytree-Edges\" style=\"fill:none;stroke:rgba(16.1%,15.3%,14.1%,1.000);stroke-linecap:round;stroke-width:2.0\"><path d=\"M 430.7 152.7 L 448.6 243.4\" id=\"6,0\" style=\"stroke-width:2.0\"></path><path d=\"M 430.7 152.7 L 412.9 243.4\" id=\"6,1\" style=\"stroke-width:2.0\"></path><path d=\"M 403.9 139.8 L 377.1 243.4\" id=\"7,2\" style=\"stroke-width:2.0\"></path><path d=\"M 444.1 108.2 L 484.4 243.4\" id=\"8,3\" style=\"stroke-width:2.0\"></path><path d=\"M 323.5 131.6 L 341.4 243.4\" id=\"9,4\" style=\"stroke-width:2.0\"></path><path d=\"M 323.5 131.6 L 305.6 243.4\" id=\"9,5\" style=\"stroke-width:2.0\"></path><path d=\"M 403.9 139.8 L 430.7 152.7\" id=\"7,6\" style=\"stroke-width:2.0\"></path><path d=\"M 444.1 108.2 L 403.9 139.8\" id=\"8,7\" style=\"stroke-width:2.0\"></path><path d=\"M 383.8 55.5 L 444.1 108.2\" id=\"10,8\" style=\"stroke-width:2.0\"></path><path d=\"M 383.8 55.5 L 323.5 131.6\" id=\"10,9\" style=\"stroke-width:2.0\"></path></g><g class=\"toytree-Nodes\" style=\"fill:rgba(40.0%,76.1%,64.7%,1.000);stroke:#262626;stroke-width:1.0\"><g id=\"node-0\" transform=\"translate(448.614,243.444)\"><circle r=\"3.0\"></circle></g><g id=\"node-1\" transform=\"translate(412.871,243.444)\"><circle r=\"3.0\"></circle></g><g id=\"node-2\" transform=\"translate(377.129,243.444)\"><circle r=\"3.0\"></circle></g><g id=\"node-3\" transform=\"translate(484.356,243.444)\"><circle r=\"3.0\"></circle></g><g id=\"node-4\" transform=\"translate(341.386,243.444)\"><circle r=\"3.0\"></circle></g><g id=\"node-5\" transform=\"translate(305.644,243.444)\"><circle r=\"3.0\"></circle></g><g id=\"node-6\" transform=\"translate(430.743,152.728)\"><circle r=\"3.0\"></circle></g><g id=\"node-7\" transform=\"translate(403.936,139.818)\"><circle r=\"3.0\"></circle></g><g id=\"node-8\" transform=\"translate(444.146,108.176)\"><circle r=\"3.0\"></circle></g><g id=\"node-9\" transform=\"translate(323.515,131.638)\"><circle r=\"3.0\"></circle></g><g id=\"node-10\" transform=\"translate(383.830,55.513)\"><circle r=\"3.0\"></circle></g></g><g class=\"toytree-NodeLabels\" style=\"font-family:Helvetica;font-size:11.0px;font-weight:300;stroke:none;vertical-align:baseline;white-space:pre\"><g class=\"toytree-NodeLabel\" transform=\"translate(448.6138613861386,243.44420521196824)\"><text x=\"-3.0580000000000003\" y=\"-7.189500000000001\" style=\"fill:rgb(16.1%,15.3%,14.1%);fill-opacity:1.0\">0</text></g><g class=\"toytree-NodeLabel\" transform=\"translate(412.8712871287128,243.44420521196824)\"><text x=\"-3.0580000000000003\" y=\"-7.189500000000001\" style=\"fill:rgb(16.1%,15.3%,14.1%);fill-opacity:1.0\">1</text></g><g class=\"toytree-NodeLabel\" transform=\"translate(377.1287128712871,243.44420521196824)\"><text x=\"-3.0580000000000003\" y=\"-7.189500000000001\" style=\"fill:rgb(16.1%,15.3%,14.1%);fill-opacity:1.0\">2</text></g><g class=\"toytree-NodeLabel\" transform=\"translate(484.3564356435643,243.44420521196824)\"><text x=\"-3.0580000000000003\" y=\"-7.189500000000001\" style=\"fill:rgb(16.1%,15.3%,14.1%);fill-opacity:1.0\">3</text></g><g class=\"toytree-NodeLabel\" transform=\"translate(341.38613861386136,243.44420521196824)\"><text x=\"-3.0580000000000003\" y=\"-7.189500000000001\" style=\"fill:rgb(16.1%,15.3%,14.1%);fill-opacity:1.0\">4</text></g><g class=\"toytree-NodeLabel\" transform=\"translate(305.6435643564356,243.44420521196824)\"><text x=\"-3.0580000000000003\" y=\"-7.189500000000001\" style=\"fill:rgb(16.1%,15.3%,14.1%);fill-opacity:1.0\">5</text></g><g class=\"toytree-NodeLabel\" transform=\"translate(430.7425742574257,152.727502207528)\"><text x=\"-3.0580000000000003\" y=\"-7.189500000000001\" style=\"fill:rgb(16.1%,15.3%,14.1%);fill-opacity:1.0\">6</text></g><g class=\"toytree-NodeLabel\" transform=\"translate(403.9356435643564,139.8183828751777)\"><text x=\"-3.0580000000000003\" y=\"-7.189500000000001\" style=\"fill:rgb(16.1%,15.3%,14.1%);fill-opacity:1.0\">7</text></g><g class=\"toytree-NodeLabel\" transform=\"translate(444.1460396039604,108.17642419163433)\"><text x=\"-3.0580000000000003\" y=\"-7.189500000000001\" style=\"fill:rgb(16.1%,15.3%,14.1%);fill-opacity:1.0\">8</text></g><g class=\"toytree-NodeLabel\" transform=\"translate(323.51485148514854,131.638118301052)\"><text x=\"-3.0580000000000003\" y=\"-7.189500000000001\" style=\"fill:rgb(16.1%,15.3%,14.1%);fill-opacity:1.0\">9</text></g><g class=\"toytree-NodeLabel\" transform=\"translate(383.83044554455444,55.512658697750354)\"><text x=\"-6.1160000000000005\" y=\"-7.189500000000001\" style=\"fill:rgb(16.1%,15.3%,14.1%);fill-opacity:1.0\">10</text></g></g><g class=\"toytree-TipLabels\" style=\"fill:rgb(16.1%,15.3%,14.1%);fill-opacity:1.0;font-family:Helvetica;font-size:10.0px;font-weight:300;stroke:none;vertical-align:baseline;white-space:pre\"><g class=\"toytree-TipLabel\" transform=\"translate(448.6138613861386,243.44420521196824)rotate(90.0)\"><text x=\"10.0\" y=\"2.5549999999999997\" style=\"\">r4</text></g><g class=\"toytree-TipLabel\" transform=\"translate(412.8712871287128,243.44420521196824)rotate(90.0)\"><text x=\"10.0\" y=\"2.5549999999999997\" style=\"\">r3</text></g><g class=\"toytree-TipLabel\" transform=\"translate(377.1287128712871,243.44420521196824)rotate(90.0)\"><text x=\"10.0\" y=\"2.5549999999999997\" style=\"\">r2</text></g><g class=\"toytree-TipLabel\" transform=\"translate(484.3564356435643,243.44420521196824)rotate(90.0)\"><text x=\"10.0\" y=\"2.5549999999999997\" style=\"\">r5</text></g><g class=\"toytree-TipLabel\" transform=\"translate(341.38613861386136,243.44420521196824)rotate(90.0)\"><text x=\"10.0\" y=\"2.5549999999999997\" style=\"\">r1</text></g><g class=\"toytree-TipLabel\" transform=\"translate(305.6435643564356,243.44420521196824)rotate(90.0)\"><text x=\"10.0\" y=\"2.5549999999999997\" style=\"\">r0</text></g></g></g><g class=\"toyplot-mark-Point\" id=\"t104f60ad4c174fb7831ab001d3cc0eb7\"><g class=\"toyplot-Series\"><g style=\"fill:rgb(0%,0%,0%);fill-opacity:0.0;opacity:1.0;stroke:rgb(0%,0%,0%);stroke-opacity:0.0\" class=\"toyplot-Datum\" transform=\"translate(412.8712871287128, 55.512658697750354)\"><circle r=\"2.0\"></circle></g></g></g><g class=\"toyplot-mark-AxisLines\" style=\"stroke:rgb(98.8%,55.3%,38.4%);stroke-dasharray:2,4;stroke-opacity:1.0;stroke-width:2\" id=\"t9f6f4e9a7b144cf1a955198fd0e8a632\"><g class=\"toyplot-Series\"><line class=\"toyplot-Datum\" y1=\"243.44420521196824\" y2=\"243.44420521196824\" x1=\"300.0\" x2=\"490.0\" style=\"opacity:1.0;stroke:rgb(98.8%,55.3%,38.4%);stroke-dasharray:2,4;stroke-opacity:1.0;stroke-width:2\"></line><line class=\"toyplot-Datum\" y1=\"206.22639587636053\" y2=\"206.22639587636053\" x1=\"300.0\" x2=\"490.0\" style=\"opacity:1.0;stroke:rgb(98.8%,55.3%,38.4%);stroke-dasharray:2,4;stroke-opacity:1.0;stroke-width:2\"></line><line class=\"toyplot-Datum\" y1=\"169.00858654075284\" y2=\"169.00858654075284\" x1=\"300.0\" x2=\"490.0\" style=\"opacity:1.0;stroke:rgb(98.8%,55.3%,38.4%);stroke-dasharray:2,4;stroke-opacity:1.0;stroke-width:2\"></line><line class=\"toyplot-Datum\" y1=\"131.79077720514513\" y2=\"131.79077720514513\" x1=\"300.0\" x2=\"490.0\" style=\"opacity:1.0;stroke:rgb(98.8%,55.3%,38.4%);stroke-dasharray:2,4;stroke-opacity:1.0;stroke-width:2\"></line><line class=\"toyplot-Datum\" y1=\"94.57296786953742\" y2=\"94.57296786953742\" x1=\"300.0\" x2=\"490.0\" style=\"opacity:1.0;stroke:rgb(98.8%,55.3%,38.4%);stroke-dasharray:2,4;stroke-opacity:1.0;stroke-width:2\"></line></g></g></g><g class=\"toyplot-coordinates-Axis\" id=\"t9cea37ba4f894f9cbda4428f5d74ebff\" transform=\"translate(300.0,275.0)rotate(-90.0)translate(0,-10.0)\"><line x1=\"31.555794788031758\" y1=\"0\" x2=\"219.48734130224963\" y2=\"0\" style=\"\"></line><g><line x1=\"31.555794788031758\" y1=\"0\" x2=\"31.555794788031758\" y2=\"5\" style=\"\"></line><line x1=\"91.10428972500408\" y1=\"0\" x2=\"91.10428972500408\" y2=\"5\" style=\"\"></line><line x1=\"150.6527846619764\" y1=\"0\" x2=\"150.6527846619764\" y2=\"5\" style=\"\"></line><line x1=\"210.20127959894873\" y1=\"0\" x2=\"210.20127959894873\" y2=\"5\" style=\"\"></line></g><g><g transform=\"translate(31.555794788031758,-6)\"><text x=\"-2.78\" y=\"-4.440892098500626e-16\" style=\"fill:rgb(16.1%,15.3%,14.1%);fill-opacity:1.0;font-family:helvetica;font-size:10.0px;font-weight:normal;stroke:none;vertical-align:baseline;white-space:pre\">0</text></g><g transform=\"translate(91.10428972500408,-6)\"><text x=\"-16.68\" y=\"-4.440892098500626e-16\" style=\"fill:rgb(16.1%,15.3%,14.1%);fill-opacity:1.0;font-family:helvetica;font-size:10.0px;font-weight:normal;stroke:none;vertical-align:baseline;white-space:pre\">400000</text></g><g transform=\"translate(150.6527846619764,-6)\"><text x=\"-16.68\" y=\"-4.440892098500626e-16\" style=\"fill:rgb(16.1%,15.3%,14.1%);fill-opacity:1.0;font-family:helvetica;font-size:10.0px;font-weight:normal;stroke:none;vertical-align:baseline;white-space:pre\">800000</text></g><g transform=\"translate(210.20127959894873,-6)\"><text x=\"-19.459999999999997\" y=\"-4.440892098500626e-16\" style=\"fill:rgb(16.1%,15.3%,14.1%);fill-opacity:1.0;font-family:helvetica;font-size:10.0px;font-weight:normal;stroke:none;vertical-align:baseline;white-space:pre\">1200000</text></g></g><g class=\"toyplot-coordinates-Axis-coordinates\" style=\"visibility:hidden\" transform=\"\"><line x1=\"0\" x2=\"0\" y1=\"3.0\" y2=\"-4.5\" style=\"stroke:rgb(43.9%,50.2%,56.5%);stroke-opacity:1.0;stroke-width:1.0\"></line><text x=\"0\" y=\"6\" style=\"alignment-baseline:hanging;fill:rgb(43.9%,50.2%,56.5%);fill-opacity:1.0;font-size:10px;font-weight:normal;stroke:none;text-anchor:middle\"></text></g></g><g transform=\"translate(395.0,42.0)\"><text x=\"-24.115\" y=\"-4.823\" style=\"fill:rgb(16.1%,15.3%,14.1%);fill-opacity:1.0;font-family:helvetica;font-size:14.0px;font-weight:bold;stroke:none;vertical-align:baseline;white-space:pre\">GTREE</text></g></g></svg><div class=\"toyplot-behavior\"><script>(function()\n",
       "{\n",
       "var modules={};\n",
       "modules[\"toyplot/tables\"] = (function()\n",
       "    {\n",
       "        var tables = [];\n",
       "\n",
       "        var module = {};\n",
       "\n",
       "        module.set = function(owner, key, names, columns)\n",
       "        {\n",
       "            tables.push({owner: owner, key: key, names: names, columns: columns});\n",
       "        }\n",
       "\n",
       "        module.get = function(owner, key)\n",
       "        {\n",
       "            for(var i = 0; i != tables.length; ++i)\n",
       "            {\n",
       "                var table = tables[i];\n",
       "                if(table.owner != owner)\n",
       "                    continue;\n",
       "                if(table.key != key)\n",
       "                    continue;\n",
       "                return {names: table.names, columns: table.columns};\n",
       "            }\n",
       "        }\n",
       "\n",
       "        module.get_csv = function(owner, key)\n",
       "        {\n",
       "            var table = module.get(owner, key);\n",
       "            if(table != undefined)\n",
       "            {\n",
       "                var csv = \"\";\n",
       "                csv += table.names.join(\",\") + \"\\n\";\n",
       "                for(var i = 0; i != table.columns[0].length; ++i)\n",
       "                {\n",
       "                  for(var j = 0; j != table.columns.length; ++j)\n",
       "                  {\n",
       "                    if(j)\n",
       "                      csv += \",\";\n",
       "                    csv += table.columns[j][i];\n",
       "                  }\n",
       "                  csv += \"\\n\";\n",
       "                }\n",
       "                return csv;\n",
       "            }\n",
       "        }\n",
       "\n",
       "        return module;\n",
       "    })();\n",
       "modules[\"toyplot/root/id\"] = \"t342977161b6f4f8f81a574871f3246e0\";\n",
       "modules[\"toyplot/root\"] = (function(root_id)\n",
       "    {\n",
       "        return document.querySelector(\"#\" + root_id);\n",
       "    })(modules[\"toyplot/root/id\"]);\n",
       "modules[\"toyplot/canvas/id\"] = \"t335ad529e2544833b4c3394878005816\";\n",
       "modules[\"toyplot/canvas\"] = (function(canvas_id)\n",
       "    {\n",
       "        return document.querySelector(\"#\" + canvas_id);\n",
       "    })(modules[\"toyplot/canvas/id\"]);\n",
       "modules[\"toyplot/menus/context\"] = (function(root, canvas)\n",
       "    {\n",
       "        var wrapper = document.createElement(\"div\");\n",
       "        wrapper.innerHTML = \"<ul class='toyplot-context-menu' style='background:#eee; border:1px solid #b8b8b8; border-radius:5px; box-shadow: 0px 0px 8px rgba(0%,0%,0%,0.25); margin:0; padding:3px 0; position:fixed; visibility:hidden;'></ul>\"\n",
       "        var menu = wrapper.firstChild;\n",
       "\n",
       "        root.appendChild(menu);\n",
       "\n",
       "        var items = [];\n",
       "\n",
       "        var ignore_mouseup = null;\n",
       "        function open_menu(e)\n",
       "        {\n",
       "            var show_menu = false;\n",
       "            for(var index=0; index != items.length; ++index)\n",
       "            {\n",
       "                var item = items[index];\n",
       "                if(item.show(e))\n",
       "                {\n",
       "                    item.item.style.display = \"block\";\n",
       "                    show_menu = true;\n",
       "                }\n",
       "                else\n",
       "                {\n",
       "                    item.item.style.display = \"none\";\n",
       "                }\n",
       "            }\n",
       "\n",
       "            if(show_menu)\n",
       "            {\n",
       "                ignore_mouseup = true;\n",
       "                menu.style.left = (e.clientX + 1) + \"px\";\n",
       "                menu.style.top = (e.clientY - 5) + \"px\";\n",
       "                menu.style.visibility = \"visible\";\n",
       "                e.stopPropagation();\n",
       "                e.preventDefault();\n",
       "            }\n",
       "        }\n",
       "\n",
       "        function close_menu()\n",
       "        {\n",
       "            menu.style.visibility = \"hidden\";\n",
       "        }\n",
       "\n",
       "        function contextmenu(e)\n",
       "        {\n",
       "            open_menu(e);\n",
       "        }\n",
       "\n",
       "        function mousemove(e)\n",
       "        {\n",
       "            ignore_mouseup = false;\n",
       "        }\n",
       "\n",
       "        function mouseup(e)\n",
       "        {\n",
       "            if(ignore_mouseup)\n",
       "            {\n",
       "                ignore_mouseup = false;\n",
       "                return;\n",
       "            }\n",
       "            close_menu();\n",
       "        }\n",
       "\n",
       "        function keydown(e)\n",
       "        {\n",
       "            if(e.key == \"Escape\" || e.key == \"Esc\" || e.keyCode == 27)\n",
       "            {\n",
       "                close_menu();\n",
       "            }\n",
       "        }\n",
       "\n",
       "        canvas.addEventListener(\"contextmenu\", contextmenu);\n",
       "        canvas.addEventListener(\"mousemove\", mousemove);\n",
       "        document.addEventListener(\"mouseup\", mouseup);\n",
       "        document.addEventListener(\"keydown\", keydown);\n",
       "\n",
       "        var module = {};\n",
       "        module.add_item = function(label, show, activate)\n",
       "        {\n",
       "            var wrapper = document.createElement(\"div\");\n",
       "            wrapper.innerHTML = \"<li class='toyplot-context-menu-item' style='background:#eee; color:#333; padding:2px 20px; list-style:none; margin:0; text-align:left;'>\" + label + \"</li>\"\n",
       "            var item = wrapper.firstChild;\n",
       "\n",
       "            items.push({item: item, show: show});\n",
       "\n",
       "            function mouseover()\n",
       "            {\n",
       "                this.style.background = \"steelblue\";\n",
       "                this.style.color = \"white\";\n",
       "            }\n",
       "\n",
       "            function mouseout()\n",
       "            {\n",
       "                this.style.background = \"#eee\";\n",
       "                this.style.color = \"#333\";\n",
       "            }\n",
       "\n",
       "            function choose_item(e)\n",
       "            {\n",
       "                close_menu();\n",
       "                activate();\n",
       "\n",
       "                e.stopPropagation();\n",
       "                e.preventDefault();\n",
       "            }\n",
       "\n",
       "            item.addEventListener(\"mouseover\", mouseover);\n",
       "            item.addEventListener(\"mouseout\", mouseout);\n",
       "            item.addEventListener(\"mouseup\", choose_item);\n",
       "            item.addEventListener(\"contextmenu\", choose_item);\n",
       "\n",
       "            menu.appendChild(item);\n",
       "        };\n",
       "        return module;\n",
       "    })(modules[\"toyplot/root\"],modules[\"toyplot/canvas\"]);\n",
       "modules[\"toyplot/io\"] = (function()\n",
       "    {\n",
       "        var module = {};\n",
       "        module.save_file = function(mime_type, charset, data, filename)\n",
       "        {\n",
       "            var uri = \"data:\" + mime_type + \";charset=\" + charset + \",\" + data;\n",
       "            uri = encodeURI(uri);\n",
       "\n",
       "            var link = document.createElement(\"a\");\n",
       "            if(typeof link.download != \"undefined\")\n",
       "            {\n",
       "              link.href = uri;\n",
       "              link.style = \"visibility:hidden\";\n",
       "              link.download = filename;\n",
       "\n",
       "              document.body.appendChild(link);\n",
       "              link.click();\n",
       "              document.body.removeChild(link);\n",
       "            }\n",
       "            else\n",
       "            {\n",
       "              window.open(uri);\n",
       "            }\n",
       "        };\n",
       "        return module;\n",
       "    })();\n",
       "modules[\"toyplot.coordinates.Axis\"] = (\n",
       "        function(canvas)\n",
       "        {\n",
       "            function sign(x)\n",
       "            {\n",
       "                return x < 0 ? -1 : x > 0 ? 1 : 0;\n",
       "            }\n",
       "\n",
       "            function mix(a, b, amount)\n",
       "            {\n",
       "                return ((1.0 - amount) * a) + (amount * b);\n",
       "            }\n",
       "\n",
       "            function log(x, base)\n",
       "            {\n",
       "                return Math.log(Math.abs(x)) / Math.log(base);\n",
       "            }\n",
       "\n",
       "            function in_range(a, x, b)\n",
       "            {\n",
       "                var left = Math.min(a, b);\n",
       "                var right = Math.max(a, b);\n",
       "                return left <= x && x <= right;\n",
       "            }\n",
       "\n",
       "            function inside(range, projection)\n",
       "            {\n",
       "                for(var i = 0; i != projection.length; ++i)\n",
       "                {\n",
       "                    var segment = projection[i];\n",
       "                    if(in_range(segment.range.min, range, segment.range.max))\n",
       "                        return true;\n",
       "                }\n",
       "                return false;\n",
       "            }\n",
       "\n",
       "            function to_domain(range, projection)\n",
       "            {\n",
       "                for(var i = 0; i != projection.length; ++i)\n",
       "                {\n",
       "                    var segment = projection[i];\n",
       "                    if(in_range(segment.range.bounds.min, range, segment.range.bounds.max))\n",
       "                    {\n",
       "                        if(segment.scale == \"linear\")\n",
       "                        {\n",
       "                            var amount = (range - segment.range.min) / (segment.range.max - segment.range.min);\n",
       "                            return mix(segment.domain.min, segment.domain.max, amount)\n",
       "                        }\n",
       "                        else if(segment.scale[0] == \"log\")\n",
       "                        {\n",
       "                            var amount = (range - segment.range.min) / (segment.range.max - segment.range.min);\n",
       "                            var base = segment.scale[1];\n",
       "                            return sign(segment.domain.min) * Math.pow(base, mix(log(segment.domain.min, base), log(segment.domain.max, base), amount));\n",
       "                        }\n",
       "                    }\n",
       "                }\n",
       "            }\n",
       "\n",
       "            var axes = {};\n",
       "\n",
       "            function display_coordinates(e)\n",
       "            {\n",
       "                var current = canvas.createSVGPoint();\n",
       "                current.x = e.clientX;\n",
       "                current.y = e.clientY;\n",
       "\n",
       "                for(var axis_id in axes)\n",
       "                {\n",
       "                    var axis = document.querySelector(\"#\" + axis_id);\n",
       "                    var coordinates = axis.querySelector(\".toyplot-coordinates-Axis-coordinates\");\n",
       "                    if(coordinates)\n",
       "                    {\n",
       "                        var projection = axes[axis_id];\n",
       "                        var local = current.matrixTransform(axis.getScreenCTM().inverse());\n",
       "                        if(inside(local.x, projection))\n",
       "                        {\n",
       "                            var domain = to_domain(local.x, projection);\n",
       "                            coordinates.style.visibility = \"visible\";\n",
       "                            coordinates.setAttribute(\"transform\", \"translate(\" + local.x + \")\");\n",
       "                            var text = coordinates.querySelector(\"text\");\n",
       "                            text.textContent = domain.toFixed(2);\n",
       "                        }\n",
       "                        else\n",
       "                        {\n",
       "                            coordinates.style.visibility= \"hidden\";\n",
       "                        }\n",
       "                    }\n",
       "                }\n",
       "            }\n",
       "\n",
       "            canvas.addEventListener(\"click\", display_coordinates);\n",
       "\n",
       "            var module = {};\n",
       "            module.show_coordinates = function(axis_id, projection)\n",
       "            {\n",
       "                axes[axis_id] = projection;\n",
       "            }\n",
       "\n",
       "            return module;\n",
       "        })(modules[\"toyplot/canvas\"]);\n",
       "(function(tables, context_menu, io, owner_id, key, label, names, columns, filename)\n",
       "        {\n",
       "            tables.set(owner_id, key, names, columns);\n",
       "\n",
       "            var owner = document.querySelector(\"#\" + owner_id);\n",
       "            function show_item(e)\n",
       "            {\n",
       "                return owner.contains(e.target);\n",
       "            }\n",
       "\n",
       "            function choose_item()\n",
       "            {\n",
       "                io.save_file(\"text/csv\", \"utf-8\", tables.get_csv(owner_id, key), filename + \".csv\");\n",
       "            }\n",
       "\n",
       "            context_menu.add_item(\"Save \" + label + \" as CSV\", show_item, choose_item);\n",
       "        })(modules[\"toyplot/tables\"],modules[\"toyplot/menus/context\"],modules[\"toyplot/io\"],\"t56c79cb61b3e434c87d07ebe759ddbf6\",\"data\",\"point\",[\"x\", \"y0\"],[[3.0], [1262376.4661936765]],\"toyplot\");\n",
       "(function(axis, axis_id, projection)\n",
       "        {\n",
       "            axis.show_coordinates(axis_id, projection);\n",
       "        })(modules[\"toyplot.coordinates.Axis\"],\"t2e730a6b1fe2443b8bcf288facc8b7b1\",[{\"domain\": {\"bounds\": {\"max\": Infinity, \"min\": -Infinity}, \"max\": 1262376.4661936765, \"min\": -211967.03507909804}, \"range\": {\"bounds\": {\"max\": Infinity, \"min\": -Infinity}, \"max\": 225.0, \"min\": 0.0}, \"scale\": \"linear\"}]);\n",
       "(function(tables, context_menu, io, owner_id, key, label, names, columns, filename)\n",
       "        {\n",
       "            tables.set(owner_id, key, names, columns);\n",
       "\n",
       "            var owner = document.querySelector(\"#\" + owner_id);\n",
       "            function show_item(e)\n",
       "            {\n",
       "                return owner.contains(e.target);\n",
       "            }\n",
       "\n",
       "            function choose_item()\n",
       "            {\n",
       "                io.save_file(\"text/csv\", \"utf-8\", tables.get_csv(owner_id, key), filename + \".csv\");\n",
       "            }\n",
       "\n",
       "            context_menu.add_item(\"Save \" + label + \" as CSV\", show_item, choose_item);\n",
       "        })(modules[\"toyplot/tables\"],modules[\"toyplot/menus/context\"],modules[\"toyplot/io\"],\"t104f60ad4c174fb7831ab001d3cc0eb7\",\"data\",\"point\",[\"x\", \"y0\"],[[3.0], [1262376.4661936765]],\"toyplot\");\n",
       "(function(axis, axis_id, projection)\n",
       "        {\n",
       "            axis.show_coordinates(axis_id, projection);\n",
       "        })(modules[\"toyplot.coordinates.Axis\"],\"t9cea37ba4f894f9cbda4428f5d74ebff\",[{\"domain\": {\"bounds\": {\"max\": Infinity, \"min\": -Infinity}, \"max\": 1299406.1758686907, \"min\": -211967.03507909804}, \"range\": {\"bounds\": {\"max\": Infinity, \"min\": -Infinity}, \"max\": 225.0, \"min\": 0.0}, \"scale\": \"linear\"}]);\n",
       "})();</script></div></div>"
      ]
     },
     "metadata": {},
     "output_type": "display_data"
    }
   ],
   "source": [
    "draw_trees(SPTREE, GTREE);"
   ]
  },
  {
   "cell_type": "markdown",
   "id": "38564c94",
   "metadata": {},
   "source": [
    "### get the prob. gene tree does *not* change given recomb at edge x time"
   ]
  },
  {
   "cell_type": "code",
   "execution_count": 17,
   "id": "f3853b12",
   "metadata": {
    "scrolled": true
   },
   "outputs": [
    {
     "data": {
      "text/plain": [
       "0.9572377923299176"
      ]
     },
     "execution_count": 17,
     "metadata": {},
     "output_type": "execute_result"
    }
   ],
   "source": [
    "get_prob_gene_tree_is_unchanged_by_recomb_event(SPTREE, GTREE, (3, 500_000))"
   ]
  },
  {
   "cell_type": "code",
   "execution_count": 18,
   "id": "bf29bf77",
   "metadata": {},
   "outputs": [],
   "source": [
    "def plot_edge_recomb_probs(species_tree, gene_tree, idx, **kwargs):\n",
    "    \"\"\"plots prob gtree is unchanged for recomb positions along the edge\"\"\"\n",
    "    node = gene_tree.idx_dict[idx]\n",
    "    xpos = np.linspace(node.height, node.up.height, 50)\n",
    "    probs = []\n",
    "    for time in xpos:\n",
    "        prob = get_prob_gene_tree_is_unchanged_by_recomb_event(\n",
    "            species_tree, gene_tree, (idx, time)\n",
    "        )\n",
    "        probs.append(prob)\n",
    "    \n",
    "    # optional styling kwargs\n",
    "    style = {\n",
    "        'width': 350, \n",
    "        'height': 300, \n",
    "        'xlabel': \"position of recomb. on edge\", \n",
    "        'ylabel': \"prob. gene tree is unchanged.\",\n",
    "        'style': {\"stroke-width\": 3},\n",
    "        'ymin': 0,\n",
    "    }\n",
    "    style.update(kwargs)\n",
    "    \n",
    "    # plot the prob. of unchanged given position of recomb.\n",
    "    return toyplot.plot(xpos, probs, **style);"
   ]
  },
  {
   "cell_type": "code",
   "execution_count": 19,
   "id": "0c9c2ba6",
   "metadata": {},
   "outputs": [
    {
     "data": {
      "text/html": [
       "<div class=\"toyplot\" id=\"t3f93981c763b40c39b00d9641eeca44c\" style=\"text-align:center\"><svg class=\"toyplot-canvas-Canvas\" xmlns:toyplot=\"http://www.sandia.gov/toyplot\" xmlns:xlink=\"http://www.w3.org/1999/xlink\" xmlns=\"http://www.w3.org/2000/svg\" width=\"350.0px\" height=\"300.0px\" viewBox=\"0 0 350.0 300.0\" preserveAspectRatio=\"xMidYMid meet\" style=\"background-color:transparent;border-color:#292724;border-style:none;border-width:1.0;fill:rgb(16.1%,15.3%,14.1%);fill-opacity:1.0;font-family:Helvetica;font-size:12px;opacity:1.0;stroke:rgb(16.1%,15.3%,14.1%);stroke-opacity:1.0;stroke-width:1.0\" id=\"t86e8578d68a34644a80071a43115cb08\"><g class=\"toyplot-coordinates-Cartesian\" id=\"t0a1a04d0a9554940aeaf1285308490d4\"><clipPath id=\"t31a0949885034f5dba7c6a95a14ad418\"><rect x=\"40.0\" y=\"40.0\" width=\"270.0\" height=\"220.0\"></rect></clipPath><g clip-path=\"url(#t31a0949885034f5dba7c6a95a14ad418)\"><g class=\"toyplot-mark-Plot\" style=\"fill:none;stroke-width:3\" id=\"tfb74db6151d74ae5b956a0e9c4e6b482\"><g class=\"toyplot-Series\"><path d=\"M 50.0 50.915280107162864 L 55.10204081632653 51.036484576056225 L 60.20408163265306 51.173739348200755 L 65.3061224489796 51.329169858712895 L 70.40816326530613 51.50518299997269 L 75.51020408163266 51.70450439314109 L 80.61224489795919 51.930220595296376 L 85.71428571428572 52.18582689578195 L 90.81632653061226 52.475281441906986 L 95.91836734693878 52.803066532154276 L 101.02040816326532 53.174258026040945 L 106.12244897959184 53.594603945465956 L 111.22448979591836 54.07061348471258 L 116.32653061224491 54.609657807454525 L 121.42857142857142 55.220084191640396 L 126.53061224489797 55.91134528982777 L 131.6326530612245 56.694145506604876 L 136.73469387755102 57.5806067598031 L 141.83673469387756 58.584456192365835 L 146.9387755102041 59.72123874165478 L 152.04081632653063 61.008557857898005 L 157.1428571428571 62.46634809938416 L 162.24489795918367 64.11718382562906 L 167.3469387755102 65.9866287687288 L 172.44897959183672 68.10363189612704 L 177.55102040816328 70.50097569486067 L 182.65306122448982 73.21578381911205 L 187.75510204081633 76.2900959621575 L 192.85714285714283 79.77151885479113 L 197.9591836734694 83.71396347114917 L 203.06122448979593 88.17847985780752 L 208.16326530612247 93.23420251375538 L 213.265306122449 98.95942096076307 L 218.3673469387755 105.44279208227724 L 223.46938775510202 112.78471300430826 L 228.57142857142856 121.09887577782035 L 233.67346938775512 130.51402793739075 L 238.77551020408166 141.1759661989647 L 243.8775510204082 153.2497941697705 L 248.9795918367347 166.92247903177176 L 254.08163265306126 182.40574678973707 L 259.18367346938777 183.46004531981967 L 264.2857142857143 183.51734449216573 L 269.38775510204084 183.60055435569885 L 274.48979591836735 183.7213917274392 L 279.59183673469386 183.89687177017848 L 284.6938775510204 184.15170390494188 L 289.7959183673469 184.52177115529307 L 294.89795918367344 185.05918285146583 L 300.0 185.83961216778386\" style=\"stroke:rgb(40%,76.1%,64.7%);stroke-opacity:1.0;stroke-width:3\"></path></g></g></g><g class=\"toyplot-coordinates-Axis\" id=\"t191472c609794a5988ba38b6980749e8\" transform=\"translate(50.0,250.0)translate(0,10.0)\"><line x1=\"0\" y1=\"0\" x2=\"250.0\" y2=\"0\" style=\"\"></line><g><g transform=\"translate(0.0,6)\"><text x=\"-2.78\" y=\"8.555\" style=\"fill:rgb(16.1%,15.3%,14.1%);fill-opacity:1.0;font-family:helvetica;font-size:10.0px;font-weight:normal;stroke:none;vertical-align:baseline;white-space:pre\">0</text></g><g transform=\"translate(82.05282622272112,6)\"><text x=\"-16.68\" y=\"8.555\" style=\"fill:rgb(16.1%,15.3%,14.1%);fill-opacity:1.0;font-family:helvetica;font-size:10.0px;font-weight:normal;stroke:none;vertical-align:baseline;white-space:pre\">200000</text></g><g transform=\"translate(164.10565244544225,6)\"><text x=\"-16.68\" y=\"8.555\" style=\"fill:rgb(16.1%,15.3%,14.1%);fill-opacity:1.0;font-family:helvetica;font-size:10.0px;font-weight:normal;stroke:none;vertical-align:baseline;white-space:pre\">400000</text></g><g transform=\"translate(246.1584786681634,6)\"><text x=\"-16.68\" y=\"8.555\" style=\"fill:rgb(16.1%,15.3%,14.1%);fill-opacity:1.0;font-family:helvetica;font-size:10.0px;font-weight:normal;stroke:none;vertical-align:baseline;white-space:pre\">600000</text></g></g><g transform=\"translate(125.0,22)\"><text x=\"-80.346\" y=\"10.265999999999998\" style=\"fill:rgb(16.1%,15.3%,14.1%);fill-opacity:1.0;font-family:helvetica;font-size:12.0px;font-weight:bold;stroke:none;vertical-align:baseline;white-space:pre\">position of recomb. on edge</text></g><g class=\"toyplot-coordinates-Axis-coordinates\" style=\"visibility:hidden\" transform=\"\"><line x1=\"0\" x2=\"0\" y1=\"-3.0\" y2=\"4.5\" style=\"stroke:rgb(43.9%,50.2%,56.5%);stroke-opacity:1.0;stroke-width:1.0\"></line><text x=\"0\" y=\"-6\" style=\"alignment-baseline:alphabetic;fill:rgb(43.9%,50.2%,56.5%);fill-opacity:1.0;font-size:10px;font-weight:normal;stroke:none;text-anchor:middle\"></text></g></g><g class=\"toyplot-coordinates-Axis\" id=\"tbf4db7c2b5ef4d98aabd1ba093f0d335\" transform=\"translate(50.0,250.0)rotate(-90.0)translate(0,-10.0)\"><line x1=\"64.16038783221614\" y1=\"0\" x2=\"199.08471989283714\" y2=\"0\" style=\"\"></line><g><g transform=\"translate(0.0,-6)\"><text x=\"-6.95\" y=\"-4.440892098500626e-16\" style=\"fill:rgb(16.1%,15.3%,14.1%);fill-opacity:1.0;font-family:helvetica;font-size:10.0px;font-weight:normal;stroke:none;vertical-align:baseline;white-space:pre\">0.0</text></g><g transform=\"translate(100.0,-6)\"><text x=\"-6.95\" y=\"-4.440892098500626e-16\" style=\"fill:rgb(16.1%,15.3%,14.1%);fill-opacity:1.0;font-family:helvetica;font-size:10.0px;font-weight:normal;stroke:none;vertical-align:baseline;white-space:pre\">0.5</text></g><g transform=\"translate(200.0,-6)\"><text x=\"-6.95\" y=\"-4.440892098500626e-16\" style=\"fill:rgb(16.1%,15.3%,14.1%);fill-opacity:1.0;font-family:helvetica;font-size:10.0px;font-weight:normal;stroke:none;vertical-align:baseline;white-space:pre\">1.0</text></g></g><g transform=\"translate(100.0,-22)\"><text x=\"-85.35600000000001\" y=\"0.0\" style=\"fill:rgb(16.1%,15.3%,14.1%);fill-opacity:1.0;font-family:helvetica;font-size:12.0px;font-weight:bold;stroke:none;vertical-align:baseline;white-space:pre\">prob. gene tree is unchanged.</text></g><g class=\"toyplot-coordinates-Axis-coordinates\" style=\"visibility:hidden\" transform=\"\"><line x1=\"0\" x2=\"0\" y1=\"3.0\" y2=\"-4.5\" style=\"stroke:rgb(43.9%,50.2%,56.5%);stroke-opacity:1.0;stroke-width:1.0\"></line><text x=\"0\" y=\"6\" style=\"alignment-baseline:hanging;fill:rgb(43.9%,50.2%,56.5%);fill-opacity:1.0;font-size:10px;font-weight:normal;stroke:none;text-anchor:middle\"></text></g></g></g></svg><div class=\"toyplot-behavior\"><script>(function()\n",
       "{\n",
       "var modules={};\n",
       "modules[\"toyplot/tables\"] = (function()\n",
       "    {\n",
       "        var tables = [];\n",
       "\n",
       "        var module = {};\n",
       "\n",
       "        module.set = function(owner, key, names, columns)\n",
       "        {\n",
       "            tables.push({owner: owner, key: key, names: names, columns: columns});\n",
       "        }\n",
       "\n",
       "        module.get = function(owner, key)\n",
       "        {\n",
       "            for(var i = 0; i != tables.length; ++i)\n",
       "            {\n",
       "                var table = tables[i];\n",
       "                if(table.owner != owner)\n",
       "                    continue;\n",
       "                if(table.key != key)\n",
       "                    continue;\n",
       "                return {names: table.names, columns: table.columns};\n",
       "            }\n",
       "        }\n",
       "\n",
       "        module.get_csv = function(owner, key)\n",
       "        {\n",
       "            var table = module.get(owner, key);\n",
       "            if(table != undefined)\n",
       "            {\n",
       "                var csv = \"\";\n",
       "                csv += table.names.join(\",\") + \"\\n\";\n",
       "                for(var i = 0; i != table.columns[0].length; ++i)\n",
       "                {\n",
       "                  for(var j = 0; j != table.columns.length; ++j)\n",
       "                  {\n",
       "                    if(j)\n",
       "                      csv += \",\";\n",
       "                    csv += table.columns[j][i];\n",
       "                  }\n",
       "                  csv += \"\\n\";\n",
       "                }\n",
       "                return csv;\n",
       "            }\n",
       "        }\n",
       "\n",
       "        return module;\n",
       "    })();\n",
       "modules[\"toyplot/root/id\"] = \"t3f93981c763b40c39b00d9641eeca44c\";\n",
       "modules[\"toyplot/root\"] = (function(root_id)\n",
       "    {\n",
       "        return document.querySelector(\"#\" + root_id);\n",
       "    })(modules[\"toyplot/root/id\"]);\n",
       "modules[\"toyplot/canvas/id\"] = \"t86e8578d68a34644a80071a43115cb08\";\n",
       "modules[\"toyplot/canvas\"] = (function(canvas_id)\n",
       "    {\n",
       "        return document.querySelector(\"#\" + canvas_id);\n",
       "    })(modules[\"toyplot/canvas/id\"]);\n",
       "modules[\"toyplot/menus/context\"] = (function(root, canvas)\n",
       "    {\n",
       "        var wrapper = document.createElement(\"div\");\n",
       "        wrapper.innerHTML = \"<ul class='toyplot-context-menu' style='background:#eee; border:1px solid #b8b8b8; border-radius:5px; box-shadow: 0px 0px 8px rgba(0%,0%,0%,0.25); margin:0; padding:3px 0; position:fixed; visibility:hidden;'></ul>\"\n",
       "        var menu = wrapper.firstChild;\n",
       "\n",
       "        root.appendChild(menu);\n",
       "\n",
       "        var items = [];\n",
       "\n",
       "        var ignore_mouseup = null;\n",
       "        function open_menu(e)\n",
       "        {\n",
       "            var show_menu = false;\n",
       "            for(var index=0; index != items.length; ++index)\n",
       "            {\n",
       "                var item = items[index];\n",
       "                if(item.show(e))\n",
       "                {\n",
       "                    item.item.style.display = \"block\";\n",
       "                    show_menu = true;\n",
       "                }\n",
       "                else\n",
       "                {\n",
       "                    item.item.style.display = \"none\";\n",
       "                }\n",
       "            }\n",
       "\n",
       "            if(show_menu)\n",
       "            {\n",
       "                ignore_mouseup = true;\n",
       "                menu.style.left = (e.clientX + 1) + \"px\";\n",
       "                menu.style.top = (e.clientY - 5) + \"px\";\n",
       "                menu.style.visibility = \"visible\";\n",
       "                e.stopPropagation();\n",
       "                e.preventDefault();\n",
       "            }\n",
       "        }\n",
       "\n",
       "        function close_menu()\n",
       "        {\n",
       "            menu.style.visibility = \"hidden\";\n",
       "        }\n",
       "\n",
       "        function contextmenu(e)\n",
       "        {\n",
       "            open_menu(e);\n",
       "        }\n",
       "\n",
       "        function mousemove(e)\n",
       "        {\n",
       "            ignore_mouseup = false;\n",
       "        }\n",
       "\n",
       "        function mouseup(e)\n",
       "        {\n",
       "            if(ignore_mouseup)\n",
       "            {\n",
       "                ignore_mouseup = false;\n",
       "                return;\n",
       "            }\n",
       "            close_menu();\n",
       "        }\n",
       "\n",
       "        function keydown(e)\n",
       "        {\n",
       "            if(e.key == \"Escape\" || e.key == \"Esc\" || e.keyCode == 27)\n",
       "            {\n",
       "                close_menu();\n",
       "            }\n",
       "        }\n",
       "\n",
       "        canvas.addEventListener(\"contextmenu\", contextmenu);\n",
       "        canvas.addEventListener(\"mousemove\", mousemove);\n",
       "        document.addEventListener(\"mouseup\", mouseup);\n",
       "        document.addEventListener(\"keydown\", keydown);\n",
       "\n",
       "        var module = {};\n",
       "        module.add_item = function(label, show, activate)\n",
       "        {\n",
       "            var wrapper = document.createElement(\"div\");\n",
       "            wrapper.innerHTML = \"<li class='toyplot-context-menu-item' style='background:#eee; color:#333; padding:2px 20px; list-style:none; margin:0; text-align:left;'>\" + label + \"</li>\"\n",
       "            var item = wrapper.firstChild;\n",
       "\n",
       "            items.push({item: item, show: show});\n",
       "\n",
       "            function mouseover()\n",
       "            {\n",
       "                this.style.background = \"steelblue\";\n",
       "                this.style.color = \"white\";\n",
       "            }\n",
       "\n",
       "            function mouseout()\n",
       "            {\n",
       "                this.style.background = \"#eee\";\n",
       "                this.style.color = \"#333\";\n",
       "            }\n",
       "\n",
       "            function choose_item(e)\n",
       "            {\n",
       "                close_menu();\n",
       "                activate();\n",
       "\n",
       "                e.stopPropagation();\n",
       "                e.preventDefault();\n",
       "            }\n",
       "\n",
       "            item.addEventListener(\"mouseover\", mouseover);\n",
       "            item.addEventListener(\"mouseout\", mouseout);\n",
       "            item.addEventListener(\"mouseup\", choose_item);\n",
       "            item.addEventListener(\"contextmenu\", choose_item);\n",
       "\n",
       "            menu.appendChild(item);\n",
       "        };\n",
       "        return module;\n",
       "    })(modules[\"toyplot/root\"],modules[\"toyplot/canvas\"]);\n",
       "modules[\"toyplot/io\"] = (function()\n",
       "    {\n",
       "        var module = {};\n",
       "        module.save_file = function(mime_type, charset, data, filename)\n",
       "        {\n",
       "            var uri = \"data:\" + mime_type + \";charset=\" + charset + \",\" + data;\n",
       "            uri = encodeURI(uri);\n",
       "\n",
       "            var link = document.createElement(\"a\");\n",
       "            if(typeof link.download != \"undefined\")\n",
       "            {\n",
       "              link.href = uri;\n",
       "              link.style = \"visibility:hidden\";\n",
       "              link.download = filename;\n",
       "\n",
       "              document.body.appendChild(link);\n",
       "              link.click();\n",
       "              document.body.removeChild(link);\n",
       "            }\n",
       "            else\n",
       "            {\n",
       "              window.open(uri);\n",
       "            }\n",
       "        };\n",
       "        return module;\n",
       "    })();\n",
       "modules[\"toyplot.coordinates.Axis\"] = (\n",
       "        function(canvas)\n",
       "        {\n",
       "            function sign(x)\n",
       "            {\n",
       "                return x < 0 ? -1 : x > 0 ? 1 : 0;\n",
       "            }\n",
       "\n",
       "            function mix(a, b, amount)\n",
       "            {\n",
       "                return ((1.0 - amount) * a) + (amount * b);\n",
       "            }\n",
       "\n",
       "            function log(x, base)\n",
       "            {\n",
       "                return Math.log(Math.abs(x)) / Math.log(base);\n",
       "            }\n",
       "\n",
       "            function in_range(a, x, b)\n",
       "            {\n",
       "                var left = Math.min(a, b);\n",
       "                var right = Math.max(a, b);\n",
       "                return left <= x && x <= right;\n",
       "            }\n",
       "\n",
       "            function inside(range, projection)\n",
       "            {\n",
       "                for(var i = 0; i != projection.length; ++i)\n",
       "                {\n",
       "                    var segment = projection[i];\n",
       "                    if(in_range(segment.range.min, range, segment.range.max))\n",
       "                        return true;\n",
       "                }\n",
       "                return false;\n",
       "            }\n",
       "\n",
       "            function to_domain(range, projection)\n",
       "            {\n",
       "                for(var i = 0; i != projection.length; ++i)\n",
       "                {\n",
       "                    var segment = projection[i];\n",
       "                    if(in_range(segment.range.bounds.min, range, segment.range.bounds.max))\n",
       "                    {\n",
       "                        if(segment.scale == \"linear\")\n",
       "                        {\n",
       "                            var amount = (range - segment.range.min) / (segment.range.max - segment.range.min);\n",
       "                            return mix(segment.domain.min, segment.domain.max, amount)\n",
       "                        }\n",
       "                        else if(segment.scale[0] == \"log\")\n",
       "                        {\n",
       "                            var amount = (range - segment.range.min) / (segment.range.max - segment.range.min);\n",
       "                            var base = segment.scale[1];\n",
       "                            return sign(segment.domain.min) * Math.pow(base, mix(log(segment.domain.min, base), log(segment.domain.max, base), amount));\n",
       "                        }\n",
       "                    }\n",
       "                }\n",
       "            }\n",
       "\n",
       "            var axes = {};\n",
       "\n",
       "            function display_coordinates(e)\n",
       "            {\n",
       "                var current = canvas.createSVGPoint();\n",
       "                current.x = e.clientX;\n",
       "                current.y = e.clientY;\n",
       "\n",
       "                for(var axis_id in axes)\n",
       "                {\n",
       "                    var axis = document.querySelector(\"#\" + axis_id);\n",
       "                    var coordinates = axis.querySelector(\".toyplot-coordinates-Axis-coordinates\");\n",
       "                    if(coordinates)\n",
       "                    {\n",
       "                        var projection = axes[axis_id];\n",
       "                        var local = current.matrixTransform(axis.getScreenCTM().inverse());\n",
       "                        if(inside(local.x, projection))\n",
       "                        {\n",
       "                            var domain = to_domain(local.x, projection);\n",
       "                            coordinates.style.visibility = \"visible\";\n",
       "                            coordinates.setAttribute(\"transform\", \"translate(\" + local.x + \")\");\n",
       "                            var text = coordinates.querySelector(\"text\");\n",
       "                            text.textContent = domain.toFixed(2);\n",
       "                        }\n",
       "                        else\n",
       "                        {\n",
       "                            coordinates.style.visibility= \"hidden\";\n",
       "                        }\n",
       "                    }\n",
       "                }\n",
       "            }\n",
       "\n",
       "            canvas.addEventListener(\"click\", display_coordinates);\n",
       "\n",
       "            var module = {};\n",
       "            module.show_coordinates = function(axis_id, projection)\n",
       "            {\n",
       "                axes[axis_id] = projection;\n",
       "            }\n",
       "\n",
       "            return module;\n",
       "        })(modules[\"toyplot/canvas\"]);\n",
       "(function(tables, context_menu, io, owner_id, key, label, names, columns, filename)\n",
       "        {\n",
       "            tables.set(owner_id, key, names, columns);\n",
       "\n",
       "            var owner = document.querySelector(\"#\" + owner_id);\n",
       "            function show_item(e)\n",
       "            {\n",
       "                return owner.contains(e.target);\n",
       "            }\n",
       "\n",
       "            function choose_item()\n",
       "            {\n",
       "                io.save_file(\"text/csv\", \"utf-8\", tables.get_csv(owner_id, key), filename + \".csv\");\n",
       "            }\n",
       "\n",
       "            context_menu.add_item(\"Save \" + label + \" as CSV\", show_item, choose_item);\n",
       "        })(modules[\"toyplot/tables\"],modules[\"toyplot/menus/context\"],modules[\"toyplot/io\"],\"tfb74db6151d74ae5b956a0e9c4e6b482\",\"data\",\"plot data\",[\"x\", \"y0\"],[[0.0, 12435.990449561705, 24871.98089912341, 37307.97134868511, 49743.96179824682, 62179.95224780853, 74615.94269737022, 87051.93314693193, 99487.92359649364, 111923.91404605535, 124359.90449561705, 136795.89494517876, 149231.88539474044, 161667.87584430215, 174103.86629386386, 186539.85674342557, 198975.84719298728, 211411.83764254898, 223847.8280921107, 236283.8185416724, 248719.8089912341, 261155.7994407958, 273591.7898903575, 286027.7803399192, 298463.7707894809, 310899.7612390426, 323335.7516886043, 335771.74213816604, 348207.7325877277, 360643.72303728946, 373079.71348685113, 385515.7039364129, 397951.69438597455, 410387.68483553623, 422823.67528509797, 435259.66573465965, 447695.6561842214, 460131.64663378306, 472567.6370833448, 485003.6275329065, 497439.6179824682, 509875.6084320299, 522311.5988815916, 534747.5893311533, 547183.579780715, 559619.5702302767, 572055.5606798384, 584491.5511294001, 596927.5415789618, 609363.5320285235], [0.9954235994641857, 0.9948175771197189, 0.9941313032589962, 0.9933541507064355, 0.9924740850001366, 0.9914774780342945, 0.9903488970235181, 0.9890708655210902, 0.9876235927904651, 0.9859846673392286, 0.9841287098697953, 0.9820269802726702, 0.9796469325764371, 0.9769517109627274, 0.973899579041798, 0.9704432735508611, 0.9665292724669756, 0.9620969662009845, 0.9570777190381708, 0.9513938062917261, 0.94495721071051, 0.9376682595030792, 0.9294140808718547, 0.920066856156356, 0.9094818405193648, 0.8974951215256967, 0.8839210809044398, 0.8685495201892125, 0.8511424057260444, 0.8314301826442542, 0.8091076007109624, 0.7838289874312231, 0.7552028951961847, 0.7227860395886139, 0.6860764349784587, 0.6445056211108982, 0.5974298603130462, 0.5441201690051766, 0.4837510291511474, 0.41538760484114123, 0.3379712660513147, 0.33269977340090157, 0.33241327753917127, 0.33199722822150585, 0.331393041362804, 0.3305156411491074, 0.3292414804752906, 0.3273911442235346, 0.32470408574267084, 0.32080193916108074]],\"toyplot\");\n",
       "(function(axis, axis_id, projection)\n",
       "        {\n",
       "            axis.show_coordinates(axis_id, projection);\n",
       "        })(modules[\"toyplot.coordinates.Axis\"],\"t191472c609794a5988ba38b6980749e8\",[{\"domain\": {\"bounds\": {\"max\": Infinity, \"min\": -Infinity}, \"max\": 609363.5320285235, \"min\": 0.0}, \"range\": {\"bounds\": {\"max\": Infinity, \"min\": -Infinity}, \"max\": 250.0, \"min\": 0.0}, \"scale\": \"linear\"}]);\n",
       "(function(axis, axis_id, projection)\n",
       "        {\n",
       "            axis.show_coordinates(axis_id, projection);\n",
       "        })(modules[\"toyplot.coordinates.Axis\"],\"tbf4db7c2b5ef4d98aabd1ba093f0d335\",[{\"domain\": {\"bounds\": {\"max\": Infinity, \"min\": -Infinity}, \"max\": 1.0, \"min\": 0.0}, \"range\": {\"bounds\": {\"max\": Infinity, \"min\": -Infinity}, \"max\": 200.0, \"min\": 0.0}, \"scale\": \"linear\"}]);\n",
       "})();</script></div></div>"
      ]
     },
     "metadata": {},
     "output_type": "display_data"
    }
   ],
   "source": [
    "plot_edge_recomb_probs(SPTREE, GTREE, 0);"
   ]
  },
  {
   "cell_type": "code",
   "execution_count": 60,
   "id": "2b60a2f8",
   "metadata": {},
   "outputs": [],
   "source": [
    "from decimal import Decimal"
   ]
  },
  {
   "cell_type": "code",
   "execution_count": 69,
   "id": "70078538",
   "metadata": {},
   "outputs": [],
   "source": [
    "a = Decimal(700.000)\n",
    "b = Decimal(800.322)"
   ]
  },
  {
   "cell_type": "code",
   "execution_count": 70,
   "id": "2abb7868",
   "metadata": {},
   "outputs": [
    {
     "data": {
      "text/plain": [
       "Decimal('3.762082765615092907558784684498222459674255591664278458601422654430489014422676468461548300523140101E+347')"
      ]
     },
     "execution_count": 70,
     "metadata": {},
     "output_type": "execute_result"
    }
   ],
   "source": [
    "np.exp(b) - np.exp(a)"
   ]
  },
  {
   "cell_type": "code",
   "execution_count": 71,
   "id": "d210fe37",
   "metadata": {},
   "outputs": [],
   "source": [
    "import decimal\n",
    "decimal.getcontext().prec = 100"
   ]
  },
  {
   "cell_type": "code",
   "execution_count": 75,
   "id": "fc05a963",
   "metadata": {},
   "outputs": [
    {
     "data": {
      "text/plain": [
       "array([7.32881422e+390], dtype=float128)"
      ]
     },
     "execution_count": 75,
     "metadata": {},
     "output_type": "execute_result"
    }
   ],
   "source": [
    "np.exp(np.array([900], dtype=np.float128))"
   ]
  },
  {
   "cell_type": "code",
   "execution_count": 79,
   "id": "572bd238",
   "metadata": {},
   "outputs": [
    {
     "data": {
      "text/plain": [
       "4.4703047331654426408e+3908"
      ]
     },
     "execution_count": 79,
     "metadata": {},
     "output_type": "execute_result"
    }
   ],
   "source": [
    "np.exp(np.float128(9000))"
   ]
  },
  {
   "cell_type": "code",
   "execution_count": null,
   "id": "396d847a",
   "metadata": {},
   "outputs": [],
   "source": [
    "WARNING | smc_pat.py   | **** 0-1\n",
    "first_term=500000.0\n",
    "second_term_before=30793.83379790111\n",
    "first_expr=2.4903429574618414\n",
    "second_expr=-83808.08494617493\n",
    "branch_sum=291289.1258759295\n",
    "--------------\n",
    "\n",
    "WARNING | smc_pat.py   | **** 1-1\n",
    "first_term=72909.02135234904\n",
    "second_term_before=0\n",
    "first_expr=176.7816208899733\n",
    "second_expr=-202.6625475142001\n",
    "branch_sum=37082.00770909751\n",
    "--------------"
   ]
  },
  {
   "cell_type": "code",
   "execution_count": null,
   "id": "040e2df9",
   "metadata": {},
   "outputs": [],
   "source": []
  },
  {
   "cell_type": "code",
   "execution_count": null,
   "id": "63692d93",
   "metadata": {},
   "outputs": [],
   "source": []
  },
  {
   "cell_type": "code",
   "execution_count": null,
   "id": "9ea27905",
   "metadata": {},
   "outputs": [],
   "source": []
  },
  {
   "cell_type": "code",
   "execution_count": null,
   "id": "9312d220",
   "metadata": {},
   "outputs": [],
   "source": []
  },
  {
   "cell_type": "code",
   "execution_count": null,
   "id": "676d25b1",
   "metadata": {},
   "outputs": [],
   "source": []
  },
  {
   "cell_type": "markdown",
   "id": "93fac2a7",
   "metadata": {},
   "source": [
    "### Get prob gene tree is unchanged given recomb on edge"
   ]
  },
  {
   "cell_type": "code",
   "execution_count": 10,
   "id": "10cd2b8e",
   "metadata": {},
   "outputs": [
    {
     "data": {
      "text/plain": [
       "0.7394815308146538"
      ]
     },
     "execution_count": 10,
     "metadata": {},
     "output_type": "execute_result"
    }
   ],
   "source": [
    "# integration over the unif prob of recomb anywhere on edge\n",
    "get_prob_gene_tree_is_unchanged_by_recomb_on_edge(SPTREE, GTREE, 3)"
   ]
  },
  {
   "cell_type": "markdown",
   "id": "c08f33a8",
   "metadata": {},
   "source": [
    "### Get prob gene tree is unchanged given recomb on *any edge*"
   ]
  },
  {
   "cell_type": "code",
   "execution_count": 11,
   "id": "6c35e7d7",
   "metadata": {},
   "outputs": [
    {
     "data": {
      "text/plain": [
       "0.6350486982672543"
      ]
     },
     "execution_count": 11,
     "metadata": {},
     "output_type": "execute_result"
    }
   ],
   "source": [
    "get_prob_gene_tree_is_unchanged(SPTREE, GTREE)"
   ]
  },
  {
   "cell_type": "markdown",
   "id": "de70b26f",
   "metadata": {},
   "source": [
    "### Get expected (spatial) waiting time until gene tree changes "
   ]
  },
  {
   "cell_type": "code",
   "execution_count": 12,
   "id": "394f6420",
   "metadata": {},
   "outputs": [
    {
     "data": {
      "text/plain": [
       "49.912035634775854"
      ]
     },
     "execution_count": 12,
     "metadata": {},
     "output_type": "execute_result"
    }
   ],
   "source": [
    "get_expected_dist_until_gene_tree_changes(SPTREE, GTREE, 1e-8)"
   ]
  },
  {
   "cell_type": "markdown",
   "id": "e23f577e",
   "metadata": {},
   "source": [
    "### Compare expected distance to simulations"
   ]
  },
  {
   "cell_type": "code",
   "execution_count": 34,
   "id": "e16889ac",
   "metadata": {},
   "outputs": [],
   "source": [
    "# model uses the variable Ne values assigned to SPTREE nodes\n",
    "model = ipcoal.Model(SPTREE, recomb=1e-9, seed_trees=123)\n",
    "model.sim_loci(nloci=1, nsites=1e7)"
   ]
  },
  {
   "cell_type": "code",
   "execution_count": 35,
   "id": "35efb333",
   "metadata": {},
   "outputs": [],
   "source": [
    "# how long did each genealogy span (nbps) column\n",
    "observed = model.df.nbps"
   ]
  },
  {
   "cell_type": "code",
   "execution_count": 36,
   "id": "f81fb41c",
   "metadata": {
    "scrolled": false
   },
   "outputs": [],
   "source": [
    "# distribute computation of 'expected' in parallel\n",
    "from concurrent.futures import ProcessPoolExecutor\n",
    "with ProcessPoolExecutor(max_workers=6) as pool:\n",
    "    rasyncs = {}\n",
    "    for idx in model.df.index:\n",
    "        gtree = toytree.tree(model.df.genealogy[idx])\n",
    "        args = (SPTREE, gtree, 1e-9)\n",
    "        rasyncs[idx] = pool.submit(get_expected_dist_until_gene_tree_changes, *args)\n",
    "\n",
    "# collect results\n",
    "expected_waiting_times = np.array([rasyncs[idx].result() for idx in rasyncs])"
   ]
  },
  {
   "cell_type": "code",
   "execution_count": 53,
   "id": "49f3d230",
   "metadata": {
    "scrolled": true
   },
   "outputs": [
    {
     "ename": "NameError",
     "evalue": "name 'observed' is not defined",
     "output_type": "error",
     "traceback": [
      "\u001b[0;31m---------------------------------------------------------------------------\u001b[0m",
      "\u001b[0;31mNameError\u001b[0m                                 Traceback (most recent call last)",
      "\u001b[0;32m/tmp/ipykernel_984107/401929044.py\u001b[0m in \u001b[0;36m<module>\u001b[0;34m\u001b[0m\n\u001b[1;32m      1\u001b[0m \u001b[0;31m# simulation-based expectations\u001b[0m\u001b[0;34m\u001b[0m\u001b[0;34m\u001b[0m\u001b[0;34m\u001b[0m\u001b[0m\n\u001b[0;32m----> 2\u001b[0;31m \u001b[0mobserved\u001b[0m\u001b[0;34m.\u001b[0m\u001b[0mmean\u001b[0m\u001b[0;34m(\u001b[0m\u001b[0;34m)\u001b[0m\u001b[0;34m,\u001b[0m \u001b[0mobserved\u001b[0m\u001b[0;34m.\u001b[0m\u001b[0mstd\u001b[0m\u001b[0;34m(\u001b[0m\u001b[0;34m)\u001b[0m\u001b[0;34m\u001b[0m\u001b[0;34m\u001b[0m\u001b[0m\n\u001b[0m",
      "\u001b[0;31mNameError\u001b[0m: name 'observed' is not defined"
     ]
    }
   ],
   "source": [
    "# simulation-based expectations\n",
    "observed.mean(), observed.std()"
   ]
  },
  {
   "cell_type": "code",
   "execution_count": 81,
   "id": "cc7fa91a",
   "metadata": {},
   "outputs": [],
   "source": [
    "import scipy.stats"
   ]
  },
  {
   "cell_type": "code",
   "execution_count": 89,
   "id": "c10e349c",
   "metadata": {},
   "outputs": [
    {
     "data": {
      "text/plain": [
       "<scipy.stats._distn_infrastructure.rv_frozen at 0x7f1899c710d0>"
      ]
     },
     "execution_count": 89,
     "metadata": {},
     "output_type": "execute_result"
    }
   ],
   "source": [
    "scipy.stats.expon(657)"
   ]
  },
  {
   "cell_type": "code",
   "execution_count": 93,
   "id": "f83d7d6e",
   "metadata": {},
   "outputs": [
    {
     "ename": "NameError",
     "evalue": "name 'expected_waiting_times' is not defined",
     "output_type": "error",
     "traceback": [
      "\u001b[0;31m---------------------------------------------------------------------------\u001b[0m",
      "\u001b[0;31mNameError\u001b[0m                                 Traceback (most recent call last)",
      "\u001b[0;32m/tmp/ipykernel_984107/1036382022.py\u001b[0m in \u001b[0;36m<module>\u001b[0;34m\u001b[0m\n\u001b[1;32m      1\u001b[0m \u001b[0;31m# now sample random lengths from the expected waiting times\u001b[0m\u001b[0;34m\u001b[0m\u001b[0;34m\u001b[0m\u001b[0;34m\u001b[0m\u001b[0m\n\u001b[0;32m----> 2\u001b[0;31m \u001b[0mexpected_len_dists\u001b[0m \u001b[0;34m=\u001b[0m \u001b[0mnp\u001b[0m\u001b[0;34m.\u001b[0m\u001b[0mrandom\u001b[0m\u001b[0;34m.\u001b[0m\u001b[0mexponential\u001b[0m\u001b[0;34m(\u001b[0m\u001b[0mexpected_waiting_times\u001b[0m\u001b[0;34m)\u001b[0m\u001b[0;34m\u001b[0m\u001b[0;34m\u001b[0m\u001b[0m\n\u001b[0m\u001b[1;32m      3\u001b[0m \u001b[0mexpected_len_dists\u001b[0m\u001b[0;34m.\u001b[0m\u001b[0mmean\u001b[0m\u001b[0;34m(\u001b[0m\u001b[0;34m)\u001b[0m\u001b[0;34m,\u001b[0m \u001b[0mexpected_len_dists\u001b[0m\u001b[0;34m.\u001b[0m\u001b[0mstd\u001b[0m\u001b[0;34m(\u001b[0m\u001b[0;34m)\u001b[0m\u001b[0;34m\u001b[0m\u001b[0;34m\u001b[0m\u001b[0m\n",
      "\u001b[0;31mNameError\u001b[0m: name 'expected_waiting_times' is not defined"
     ]
    }
   ],
   "source": [
    "# now sample random lengths from the expected waiting times\n",
    "expected_len_dists = np.random.exponential(expected_waiting_times)\n",
    "expected_len_dists.mean(), expected_len_dists.std()"
   ]
  },
  {
   "cell_type": "code",
   "execution_count": 60,
   "id": "99ee0d37",
   "metadata": {
    "scrolled": true
   },
   "outputs": [
    {
     "data": {
      "text/plain": [
       "(525.697274589227, 537.201712529203)"
      ]
     },
     "execution_count": 60,
     "metadata": {},
     "output_type": "execute_result"
    }
   ],
   "source": [
    "# now sample random lengths from the expected waiting times\n",
    "expected_len_dists = np.random.exponential(expected_waiting_times)\n",
    "expected_len_dists.mean(), expected_len_dists.std()"
   ]
  },
  {
   "cell_type": "code",
   "execution_count": 122,
   "id": "b5cca3c8",
   "metadata": {},
   "outputs": [
    {
     "data": {
      "text/plain": [
       "[1.25, 2.5, 3.75, 3.75, 5.0]"
      ]
     },
     "execution_count": 122,
     "metadata": {},
     "output_type": "execute_result"
    }
   ],
   "source": [
    "sorted(SPTREE.get_node_data(\"height\")[SPTREE.ntips:] / (2 * 1e5))"
   ]
  },
  {
   "cell_type": "code",
   "execution_count": 121,
   "id": "1b4393a0",
   "metadata": {},
   "outputs": [
    {
     "data": {
      "text/plain": [
       "9     0.000000e+00\n",
       "8     0.000000e+00\n",
       "6     0.000000e+00\n",
       "5     0.000000e+00\n",
       "4     0.000000e+00\n",
       "0     4.440892e-16\n",
       "2     4.440892e-16\n",
       "1     4.440892e-16\n",
       "3     4.440892e-16\n",
       "7     8.881784e-16\n",
       "10    1.350746e-02\n",
       "11    3.906704e-02\n",
       "12    6.948640e-01\n",
       "13    1.145003e+00\n",
       "14    1.526557e+00\n",
       "17    1.651152e+00\n",
       "15    1.836662e+00\n",
       "16    2.067886e+00\n",
       "18    2.458722e+00\n",
       "Name: height, dtype: float64"
      ]
     },
     "execution_count": 121,
     "metadata": {},
     "output_type": "execute_result"
    }
   ],
   "source": [
    "toytree.rtree.bdtree(10).get_node_data(\"height\").sort_values()"
   ]
  },
  {
   "cell_type": "code",
   "execution_count": 123,
   "id": "1ea398f1",
   "metadata": {},
   "outputs": [],
   "source": [
    "from math import comb"
   ]
  },
  {
   "cell_type": "code",
   "execution_count": 125,
   "id": "e40c27fc",
   "metadata": {},
   "outputs": [
    {
     "data": {
      "text/plain": [
       "6"
      ]
     },
     "execution_count": 125,
     "metadata": {},
     "output_type": "execute_result"
    }
   ],
   "source": [
    "comb(4, 2)"
   ]
  },
  {
   "cell_type": "code",
   "execution_count": null,
   "id": "842389ed",
   "metadata": {},
   "outputs": [],
   "source": []
  },
  {
   "cell_type": "code",
   "execution_count": 106,
   "id": "b81a8236",
   "metadata": {},
   "outputs": [
    {
     "name": "stdout",
     "output_type": "stream",
     "text": [
      "13 µs ± 1.14 µs per loop (mean ± std. dev. of 7 runs, 100000 loops each)\n"
     ]
    }
   ],
   "source": [
    "%%timeit\n",
    "comb(10, 3)"
   ]
  },
  {
   "cell_type": "code",
   "execution_count": 103,
   "id": "743a0248",
   "metadata": {},
   "outputs": [],
   "source": [
    "from scipy.special import comb"
   ]
  },
  {
   "cell_type": "code",
   "execution_count": 105,
   "id": "31ffcedf",
   "metadata": {},
   "outputs": [
    {
     "name": "stdout",
     "output_type": "stream",
     "text": [
      "12.2 µs ± 27.2 ns per loop (mean ± std. dev. of 7 runs, 100000 loops each)\n"
     ]
    }
   ],
   "source": [
    "%%timeit\n",
    "comb(10, 3)"
   ]
  },
  {
   "cell_type": "code",
   "execution_count": 95,
   "id": "4961c163",
   "metadata": {},
   "outputs": [
    {
     "ename": "NameError",
     "evalue": "name 'observed' is not defined",
     "output_type": "error",
     "traceback": [
      "\u001b[0;31m---------------------------------------------------------------------------\u001b[0m",
      "\u001b[0;31mNameError\u001b[0m                                 Traceback (most recent call last)",
      "\u001b[0;32m/tmp/ipykernel_984107/3239769080.py\u001b[0m in \u001b[0;36m<module>\u001b[0;34m\u001b[0m\n\u001b[1;32m      2\u001b[0m \u001b[0max0\u001b[0m \u001b[0;34m=\u001b[0m \u001b[0mcanvas\u001b[0m\u001b[0;34m.\u001b[0m\u001b[0mcartesian\u001b[0m\u001b[0;34m(\u001b[0m\u001b[0mgrid\u001b[0m\u001b[0;34m=\u001b[0m\u001b[0;34m(\u001b[0m\u001b[0;36m1\u001b[0m\u001b[0;34m,\u001b[0m \u001b[0;36m2\u001b[0m\u001b[0;34m,\u001b[0m \u001b[0;36m0\u001b[0m\u001b[0;34m)\u001b[0m\u001b[0;34m,\u001b[0m \u001b[0mxmax\u001b[0m\u001b[0;34m=\u001b[0m\u001b[0;36m3000\u001b[0m\u001b[0;34m,\u001b[0m \u001b[0mlabel\u001b[0m\u001b[0;34m=\u001b[0m\u001b[0;34m\"simulations\"\u001b[0m\u001b[0;34m)\u001b[0m\u001b[0;34m\u001b[0m\u001b[0;34m\u001b[0m\u001b[0m\n\u001b[1;32m      3\u001b[0m \u001b[0max1\u001b[0m \u001b[0;34m=\u001b[0m \u001b[0mcanvas\u001b[0m\u001b[0;34m.\u001b[0m\u001b[0mcartesian\u001b[0m\u001b[0;34m(\u001b[0m\u001b[0mgrid\u001b[0m\u001b[0;34m=\u001b[0m\u001b[0;34m(\u001b[0m\u001b[0;36m1\u001b[0m\u001b[0;34m,\u001b[0m \u001b[0;36m2\u001b[0m\u001b[0;34m,\u001b[0m \u001b[0;36m1\u001b[0m\u001b[0;34m)\u001b[0m\u001b[0;34m,\u001b[0m \u001b[0mxmax\u001b[0m\u001b[0;34m=\u001b[0m\u001b[0;36m3000\u001b[0m\u001b[0;34m,\u001b[0m \u001b[0mlabel\u001b[0m\u001b[0;34m=\u001b[0m\u001b[0;34m\"expected\"\u001b[0m\u001b[0;34m)\u001b[0m\u001b[0;34m\u001b[0m\u001b[0;34m\u001b[0m\u001b[0m\n\u001b[0;32m----> 4\u001b[0;31m \u001b[0max0\u001b[0m\u001b[0;34m.\u001b[0m\u001b[0mbars\u001b[0m\u001b[0;34m(\u001b[0m\u001b[0mnp\u001b[0m\u001b[0;34m.\u001b[0m\u001b[0mhistogram\u001b[0m\u001b[0;34m(\u001b[0m\u001b[0mobserved\u001b[0m\u001b[0;34m,\u001b[0m \u001b[0mbins\u001b[0m\u001b[0;34m=\u001b[0m\u001b[0mnp\u001b[0m\u001b[0;34m.\u001b[0m\u001b[0mlinspace\u001b[0m\u001b[0;34m(\u001b[0m\u001b[0;36m0\u001b[0m\u001b[0;34m,\u001b[0m \u001b[0;36m3000\u001b[0m\u001b[0;34m,\u001b[0m \u001b[0;36m20\u001b[0m\u001b[0;34m)\u001b[0m\u001b[0;34m)\u001b[0m\u001b[0;34m)\u001b[0m\u001b[0;34m;\u001b[0m\u001b[0;34m\u001b[0m\u001b[0;34m\u001b[0m\u001b[0m\n\u001b[0m\u001b[1;32m      5\u001b[0m \u001b[0max1\u001b[0m\u001b[0;34m.\u001b[0m\u001b[0mbars\u001b[0m\u001b[0;34m(\u001b[0m\u001b[0mnp\u001b[0m\u001b[0;34m.\u001b[0m\u001b[0mhistogram\u001b[0m\u001b[0;34m(\u001b[0m\u001b[0mexpected_len_dists\u001b[0m\u001b[0;34m,\u001b[0m \u001b[0mbins\u001b[0m\u001b[0;34m=\u001b[0m\u001b[0mnp\u001b[0m\u001b[0;34m.\u001b[0m\u001b[0mlinspace\u001b[0m\u001b[0;34m(\u001b[0m\u001b[0;36m0\u001b[0m\u001b[0;34m,\u001b[0m \u001b[0;36m3000\u001b[0m\u001b[0;34m,\u001b[0m \u001b[0;36m20\u001b[0m\u001b[0;34m)\u001b[0m\u001b[0;34m)\u001b[0m\u001b[0;34m)\u001b[0m\u001b[0;34m;\u001b[0m\u001b[0;34m\u001b[0m\u001b[0;34m\u001b[0m\u001b[0m\n",
      "\u001b[0;31mNameError\u001b[0m: name 'observed' is not defined"
     ]
    },
    {
     "data": {
      "text/html": [
       "<div class=\"toyplot\" id=\"t6063809484d04f21aa54da3c330a60d1\" style=\"text-align:center\"><svg class=\"toyplot-canvas-Canvas\" xmlns:toyplot=\"http://www.sandia.gov/toyplot\" xmlns:xlink=\"http://www.w3.org/1999/xlink\" xmlns=\"http://www.w3.org/2000/svg\" width=\"600.0px\" height=\"300.0px\" viewBox=\"0 0 600.0 300.0\" preserveAspectRatio=\"xMidYMid meet\" style=\"background-color:transparent;border-color:#292724;border-style:none;border-width:1.0;fill:rgb(16.1%,15.3%,14.1%);fill-opacity:1.0;font-family:Helvetica;font-size:12px;opacity:1.0;stroke:rgb(16.1%,15.3%,14.1%);stroke-opacity:1.0;stroke-width:1.0\" id=\"tceae750c3f574c239a0a0c5a1bc61974\"><g class=\"toyplot-coordinates-Cartesian\" id=\"t347d31f4ad4f4cd2b9fd77f13912d070\"><clipPath id=\"ta0ec88523bd946f8a6e690cd15b4ebef\"><rect x=\"40.0\" y=\"40.0\" width=\"220.0\" height=\"220.0\"></rect></clipPath><g clip-path=\"url(#ta0ec88523bd946f8a6e690cd15b4ebef)\"></g><g class=\"toyplot-coordinates-Axis\" id=\"t6b23884898ad4538b28756f694e4aa94\" transform=\"translate(50.0,250.0)translate(0,10.0)\"><line x1=\"0\" y1=\"0\" x2=\"200.0\" y2=\"0\" style=\"\"></line><g><g transform=\"translate(0.03332777870354941,6)\"><text x=\"-2.78\" y=\"8.555\" style=\"fill:rgb(16.1%,15.3%,14.1%);fill-opacity:1.0;font-family:helvetica;font-size:10.0px;font-weight:normal;stroke:none;vertical-align:baseline;white-space:pre\">0</text></g><g transform=\"translate(66.68888518580238,6)\"><text x=\"-11.12\" y=\"8.555\" style=\"fill:rgb(16.1%,15.3%,14.1%);fill-opacity:1.0;font-family:helvetica;font-size:10.0px;font-weight:normal;stroke:none;vertical-align:baseline;white-space:pre\">1000</text></g><g transform=\"translate(133.3444425929012,6)\"><text x=\"-11.12\" y=\"8.555\" style=\"fill:rgb(16.1%,15.3%,14.1%);fill-opacity:1.0;font-family:helvetica;font-size:10.0px;font-weight:normal;stroke:none;vertical-align:baseline;white-space:pre\">2000</text></g><g transform=\"translate(200.0,6)\"><text x=\"-11.12\" y=\"8.555\" style=\"fill:rgb(16.1%,15.3%,14.1%);fill-opacity:1.0;font-family:helvetica;font-size:10.0px;font-weight:normal;stroke:none;vertical-align:baseline;white-space:pre\">3000</text></g></g><g class=\"toyplot-coordinates-Axis-coordinates\" style=\"visibility:hidden\" transform=\"\"><line x1=\"0\" x2=\"0\" y1=\"-3.0\" y2=\"4.5\" style=\"stroke:rgb(43.9%,50.2%,56.5%);stroke-opacity:1.0;stroke-width:1.0\"></line><text x=\"0\" y=\"-6\" style=\"alignment-baseline:alphabetic;fill:rgb(43.9%,50.2%,56.5%);fill-opacity:1.0;font-size:10px;font-weight:normal;stroke:none;text-anchor:middle\"></text></g></g><g class=\"toyplot-coordinates-Axis\" id=\"t4ef9749bffa44a95b28c96a31f298d6f\" transform=\"translate(50.0,250.0)rotate(-90.0)translate(0,-10.0)\"><line x1=\"0\" y1=\"0\" x2=\"200.0\" y2=\"0\" style=\"\"></line><g><g transform=\"translate(0.0,-6)\"><text x=\"-8.615\" y=\"-4.440892098500626e-16\" style=\"fill:rgb(16.1%,15.3%,14.1%);fill-opacity:1.0;font-family:helvetica;font-size:10.0px;font-weight:normal;stroke:none;vertical-align:baseline;white-space:pre\">-0.5</text></g><g transform=\"translate(100.0,-6)\"><text x=\"-6.95\" y=\"-4.440892098500626e-16\" style=\"fill:rgb(16.1%,15.3%,14.1%);fill-opacity:1.0;font-family:helvetica;font-size:10.0px;font-weight:normal;stroke:none;vertical-align:baseline;white-space:pre\">0.0</text></g><g transform=\"translate(200.0,-6)\"><text x=\"-6.95\" y=\"-4.440892098500626e-16\" style=\"fill:rgb(16.1%,15.3%,14.1%);fill-opacity:1.0;font-family:helvetica;font-size:10.0px;font-weight:normal;stroke:none;vertical-align:baseline;white-space:pre\">0.5</text></g></g><g class=\"toyplot-coordinates-Axis-coordinates\" style=\"visibility:hidden\" transform=\"\"><line x1=\"0\" x2=\"0\" y1=\"3.0\" y2=\"-4.5\" style=\"stroke:rgb(43.9%,50.2%,56.5%);stroke-opacity:1.0;stroke-width:1.0\"></line><text x=\"0\" y=\"6\" style=\"alignment-baseline:hanging;fill:rgb(43.9%,50.2%,56.5%);fill-opacity:1.0;font-size:10px;font-weight:normal;stroke:none;text-anchor:middle\"></text></g></g><g transform=\"translate(150.0,42.0)\"><text x=\"-38.899\" y=\"-4.823\" style=\"fill:rgb(16.1%,15.3%,14.1%);fill-opacity:1.0;font-family:helvetica;font-size:14.0px;font-weight:bold;stroke:none;vertical-align:baseline;white-space:pre\">simulations</text></g></g><g class=\"toyplot-coordinates-Cartesian\" id=\"t131018527fb74430ae6c26a5c1173d4e\"><clipPath id=\"t28c70e3965c74677a9593e334f7c5f7d\"><rect x=\"340.0\" y=\"40.0\" width=\"220.0\" height=\"220.0\"></rect></clipPath><g clip-path=\"url(#t28c70e3965c74677a9593e334f7c5f7d)\"></g><g class=\"toyplot-coordinates-Axis\" id=\"tbbe9db98dd2a4857a9d8e456cf67d6d6\" transform=\"translate(350.0,250.0)translate(0,10.0)\"><line x1=\"0\" y1=\"0\" x2=\"200.0\" y2=\"0\" style=\"\"></line><g><g transform=\"translate(0.03332777870354941,6)\"><text x=\"-2.78\" y=\"8.555\" style=\"fill:rgb(16.1%,15.3%,14.1%);fill-opacity:1.0;font-family:helvetica;font-size:10.0px;font-weight:normal;stroke:none;vertical-align:baseline;white-space:pre\">0</text></g><g transform=\"translate(66.68888518580238,6)\"><text x=\"-11.12\" y=\"8.555\" style=\"fill:rgb(16.1%,15.3%,14.1%);fill-opacity:1.0;font-family:helvetica;font-size:10.0px;font-weight:normal;stroke:none;vertical-align:baseline;white-space:pre\">1000</text></g><g transform=\"translate(133.3444425929012,6)\"><text x=\"-11.12\" y=\"8.555\" style=\"fill:rgb(16.1%,15.3%,14.1%);fill-opacity:1.0;font-family:helvetica;font-size:10.0px;font-weight:normal;stroke:none;vertical-align:baseline;white-space:pre\">2000</text></g><g transform=\"translate(200.0,6)\"><text x=\"-11.12\" y=\"8.555\" style=\"fill:rgb(16.1%,15.3%,14.1%);fill-opacity:1.0;font-family:helvetica;font-size:10.0px;font-weight:normal;stroke:none;vertical-align:baseline;white-space:pre\">3000</text></g></g><g class=\"toyplot-coordinates-Axis-coordinates\" style=\"visibility:hidden\" transform=\"\"><line x1=\"0\" x2=\"0\" y1=\"-3.0\" y2=\"4.5\" style=\"stroke:rgb(43.9%,50.2%,56.5%);stroke-opacity:1.0;stroke-width:1.0\"></line><text x=\"0\" y=\"-6\" style=\"alignment-baseline:alphabetic;fill:rgb(43.9%,50.2%,56.5%);fill-opacity:1.0;font-size:10px;font-weight:normal;stroke:none;text-anchor:middle\"></text></g></g><g class=\"toyplot-coordinates-Axis\" id=\"tc9f3a6cf6b5c401da966d3f53120619e\" transform=\"translate(350.0,250.0)rotate(-90.0)translate(0,-10.0)\"><line x1=\"0\" y1=\"0\" x2=\"200.0\" y2=\"0\" style=\"\"></line><g><g transform=\"translate(0.0,-6)\"><text x=\"-8.615\" y=\"-4.440892098500626e-16\" style=\"fill:rgb(16.1%,15.3%,14.1%);fill-opacity:1.0;font-family:helvetica;font-size:10.0px;font-weight:normal;stroke:none;vertical-align:baseline;white-space:pre\">-0.5</text></g><g transform=\"translate(100.0,-6)\"><text x=\"-6.95\" y=\"-4.440892098500626e-16\" style=\"fill:rgb(16.1%,15.3%,14.1%);fill-opacity:1.0;font-family:helvetica;font-size:10.0px;font-weight:normal;stroke:none;vertical-align:baseline;white-space:pre\">0.0</text></g><g transform=\"translate(200.0,-6)\"><text x=\"-6.95\" y=\"-4.440892098500626e-16\" style=\"fill:rgb(16.1%,15.3%,14.1%);fill-opacity:1.0;font-family:helvetica;font-size:10.0px;font-weight:normal;stroke:none;vertical-align:baseline;white-space:pre\">0.5</text></g></g><g class=\"toyplot-coordinates-Axis-coordinates\" style=\"visibility:hidden\" transform=\"\"><line x1=\"0\" x2=\"0\" y1=\"3.0\" y2=\"-4.5\" style=\"stroke:rgb(43.9%,50.2%,56.5%);stroke-opacity:1.0;stroke-width:1.0\"></line><text x=\"0\" y=\"6\" style=\"alignment-baseline:hanging;fill:rgb(43.9%,50.2%,56.5%);fill-opacity:1.0;font-size:10px;font-weight:normal;stroke:none;text-anchor:middle\"></text></g></g><g transform=\"translate(450.0,42.0)\"><text x=\"-30.345\" y=\"-4.823\" style=\"fill:rgb(16.1%,15.3%,14.1%);fill-opacity:1.0;font-family:helvetica;font-size:14.0px;font-weight:bold;stroke:none;vertical-align:baseline;white-space:pre\">expected</text></g></g></svg><div class=\"toyplot-behavior\"><script>(function()\n",
       "{\n",
       "var modules={};\n",
       "modules[\"toyplot/canvas/id\"] = \"tceae750c3f574c239a0a0c5a1bc61974\";\n",
       "modules[\"toyplot/canvas\"] = (function(canvas_id)\n",
       "    {\n",
       "        return document.querySelector(\"#\" + canvas_id);\n",
       "    })(modules[\"toyplot/canvas/id\"]);\n",
       "modules[\"toyplot.coordinates.Axis\"] = (\n",
       "        function(canvas)\n",
       "        {\n",
       "            function sign(x)\n",
       "            {\n",
       "                return x < 0 ? -1 : x > 0 ? 1 : 0;\n",
       "            }\n",
       "\n",
       "            function mix(a, b, amount)\n",
       "            {\n",
       "                return ((1.0 - amount) * a) + (amount * b);\n",
       "            }\n",
       "\n",
       "            function log(x, base)\n",
       "            {\n",
       "                return Math.log(Math.abs(x)) / Math.log(base);\n",
       "            }\n",
       "\n",
       "            function in_range(a, x, b)\n",
       "            {\n",
       "                var left = Math.min(a, b);\n",
       "                var right = Math.max(a, b);\n",
       "                return left <= x && x <= right;\n",
       "            }\n",
       "\n",
       "            function inside(range, projection)\n",
       "            {\n",
       "                for(var i = 0; i != projection.length; ++i)\n",
       "                {\n",
       "                    var segment = projection[i];\n",
       "                    if(in_range(segment.range.min, range, segment.range.max))\n",
       "                        return true;\n",
       "                }\n",
       "                return false;\n",
       "            }\n",
       "\n",
       "            function to_domain(range, projection)\n",
       "            {\n",
       "                for(var i = 0; i != projection.length; ++i)\n",
       "                {\n",
       "                    var segment = projection[i];\n",
       "                    if(in_range(segment.range.bounds.min, range, segment.range.bounds.max))\n",
       "                    {\n",
       "                        if(segment.scale == \"linear\")\n",
       "                        {\n",
       "                            var amount = (range - segment.range.min) / (segment.range.max - segment.range.min);\n",
       "                            return mix(segment.domain.min, segment.domain.max, amount)\n",
       "                        }\n",
       "                        else if(segment.scale[0] == \"log\")\n",
       "                        {\n",
       "                            var amount = (range - segment.range.min) / (segment.range.max - segment.range.min);\n",
       "                            var base = segment.scale[1];\n",
       "                            return sign(segment.domain.min) * Math.pow(base, mix(log(segment.domain.min, base), log(segment.domain.max, base), amount));\n",
       "                        }\n",
       "                    }\n",
       "                }\n",
       "            }\n",
       "\n",
       "            var axes = {};\n",
       "\n",
       "            function display_coordinates(e)\n",
       "            {\n",
       "                var current = canvas.createSVGPoint();\n",
       "                current.x = e.clientX;\n",
       "                current.y = e.clientY;\n",
       "\n",
       "                for(var axis_id in axes)\n",
       "                {\n",
       "                    var axis = document.querySelector(\"#\" + axis_id);\n",
       "                    var coordinates = axis.querySelector(\".toyplot-coordinates-Axis-coordinates\");\n",
       "                    if(coordinates)\n",
       "                    {\n",
       "                        var projection = axes[axis_id];\n",
       "                        var local = current.matrixTransform(axis.getScreenCTM().inverse());\n",
       "                        if(inside(local.x, projection))\n",
       "                        {\n",
       "                            var domain = to_domain(local.x, projection);\n",
       "                            coordinates.style.visibility = \"visible\";\n",
       "                            coordinates.setAttribute(\"transform\", \"translate(\" + local.x + \")\");\n",
       "                            var text = coordinates.querySelector(\"text\");\n",
       "                            text.textContent = domain.toFixed(2);\n",
       "                        }\n",
       "                        else\n",
       "                        {\n",
       "                            coordinates.style.visibility= \"hidden\";\n",
       "                        }\n",
       "                    }\n",
       "                }\n",
       "            }\n",
       "\n",
       "            canvas.addEventListener(\"click\", display_coordinates);\n",
       "\n",
       "            var module = {};\n",
       "            module.show_coordinates = function(axis_id, projection)\n",
       "            {\n",
       "                axes[axis_id] = projection;\n",
       "            }\n",
       "\n",
       "            return module;\n",
       "        })(modules[\"toyplot/canvas\"]);\n",
       "(function(axis, axis_id, projection)\n",
       "        {\n",
       "            axis.show_coordinates(axis_id, projection);\n",
       "        })(modules[\"toyplot.coordinates.Axis\"],\"t6b23884898ad4538b28756f694e4aa94\",[{\"domain\": {\"bounds\": {\"max\": Infinity, \"min\": -Infinity}, \"max\": 3000.0, \"min\": -0.5}, \"range\": {\"bounds\": {\"max\": Infinity, \"min\": -Infinity}, \"max\": 200.0, \"min\": 0.0}, \"scale\": \"linear\"}]);\n",
       "(function(axis, axis_id, projection)\n",
       "        {\n",
       "            axis.show_coordinates(axis_id, projection);\n",
       "        })(modules[\"toyplot.coordinates.Axis\"],\"t4ef9749bffa44a95b28c96a31f298d6f\",[{\"domain\": {\"bounds\": {\"max\": Infinity, \"min\": -Infinity}, \"max\": 0.5, \"min\": -0.5}, \"range\": {\"bounds\": {\"max\": Infinity, \"min\": -Infinity}, \"max\": 200.0, \"min\": 0.0}, \"scale\": \"linear\"}]);\n",
       "(function(axis, axis_id, projection)\n",
       "        {\n",
       "            axis.show_coordinates(axis_id, projection);\n",
       "        })(modules[\"toyplot.coordinates.Axis\"],\"tbbe9db98dd2a4857a9d8e456cf67d6d6\",[{\"domain\": {\"bounds\": {\"max\": Infinity, \"min\": -Infinity}, \"max\": 3000.0, \"min\": -0.5}, \"range\": {\"bounds\": {\"max\": Infinity, \"min\": -Infinity}, \"max\": 200.0, \"min\": 0.0}, \"scale\": \"linear\"}]);\n",
       "(function(axis, axis_id, projection)\n",
       "        {\n",
       "            axis.show_coordinates(axis_id, projection);\n",
       "        })(modules[\"toyplot.coordinates.Axis\"],\"tc9f3a6cf6b5c401da966d3f53120619e\",[{\"domain\": {\"bounds\": {\"max\": Infinity, \"min\": -Infinity}, \"max\": 0.5, \"min\": -0.5}, \"range\": {\"bounds\": {\"max\": Infinity, \"min\": -Infinity}, \"max\": 200.0, \"min\": 0.0}, \"scale\": \"linear\"}]);\n",
       "})();</script></div></div>"
      ]
     },
     "metadata": {},
     "output_type": "display_data"
    }
   ],
   "source": [
    "canvas = toyplot.Canvas(width=600, height=300)\n",
    "ax0 = canvas.cartesian(grid=(1, 2, 0), xmax=3000, label=\"simulations\")\n",
    "ax1 = canvas.cartesian(grid=(1, 2, 1), xmax=3000, label=\"expected\")\n",
    "ax0.bars(np.histogram(observed, bins=np.linspace(0, 3000, 20)));\n",
    "ax1.bars(np.histogram(expected_len_dists, bins=np.linspace(0, 3000, 20)));"
   ]
  }
 ],
 "metadata": {
  "kernelspec": {
   "display_name": "Python 3 (ipykernel)",
   "language": "python",
   "name": "python3"
  },
  "language_info": {
   "codemirror_mode": {
    "name": "ipython",
    "version": 3
   },
   "file_extension": ".py",
   "mimetype": "text/x-python",
   "name": "python",
   "nbconvert_exporter": "python",
   "pygments_lexer": "ipython3",
   "version": "3.9.5"
  }
 },
 "nbformat": 4,
 "nbformat_minor": 5
}
