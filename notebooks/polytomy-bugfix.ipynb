{
 "cells": [
  {
   "cell_type": "markdown",
   "metadata": {},
   "source": [
    "## Fix for polytomy problem"
   ]
  },
  {
   "cell_type": "code",
   "execution_count": 1,
   "metadata": {},
   "outputs": [],
   "source": [
    "import toytree\n",
    "import ipcoal"
   ]
  },
  {
   "cell_type": "markdown",
   "metadata": {},
   "source": [
    "### Generate polytomy species tree"
   ]
  },
  {
   "cell_type": "code",
   "execution_count": 2,
   "metadata": {},
   "outputs": [],
   "source": [
    "newick = \"(a:2,(b,c,d,e):1);\""
   ]
  },
  {
   "cell_type": "code",
   "execution_count": 3,
   "metadata": {},
   "outputs": [],
   "source": [
    "tre = toytree.tree(newick).mod.node_scale_root_height(1e6)"
   ]
  },
  {
   "cell_type": "code",
   "execution_count": 4,
   "metadata": {},
   "outputs": [
    {
     "data": {
      "text/html": [
       "<div class=\"toyplot\" id=\"t38e0782a4216458b86e29fdb66de96d1\" style=\"text-align:center\"><svg class=\"toyplot-canvas-Canvas\" height=\"275.0px\" id=\"tb9b0d1e051134f9092744e5d94d8f196\" preserveAspectRatio=\"xMidYMid meet\" style=\"background-color:transparent;border-color:#292724;border-style:none;border-width:1.0;fill:rgb(16.1%,15.3%,14.1%);fill-opacity:1.0;font-family:Helvetica;font-size:12px;opacity:1.0;stroke:rgb(16.1%,15.3%,14.1%);stroke-opacity:1.0;stroke-width:1.0\" viewBox=\"0 0 255.0 275.0\" width=\"255.0px\" xmlns=\"http://www.w3.org/2000/svg\" xmlns:toyplot=\"http://www.sandia.gov/toyplot\" xmlns:xlink=\"http://www.w3.org/1999/xlink\"><g class=\"toyplot-coordinates-Cartesian\" id=\"teaa7a5d1caad414e84dcc0628cc776b4\"><clipPath id=\"t56e3d443fcf24c9d964fb5e577dc3585\"><rect height=\"215.0\" width=\"195.0\" x=\"30.0\" y=\"30.0\"></rect></clipPath><g clip-path=\"url(#t56e3d443fcf24c9d964fb5e577dc3585)\"><g class=\"toytree-mark-Toytree\" id=\"te8d04e70dcdd46579ee39937f510d5e5\"><g class=\"toytree-Edges\" style=\"fill:none;stroke:rgb(14.9%,14.9%,14.9%);stroke-linecap:round;stroke-opacity:1;stroke-width:2\"><path d=\"M 57.1 108.8 L 125.9 156.6\" id=\"6,5\"></path><path d=\"M 57.1 108.8 L 194.6 61.0\" id=\"6,4\"></path><path d=\"M 125.9 156.6 L 194.6 99.3\" id=\"5,3\"></path><path d=\"M 125.9 156.6 L 194.6 137.5\" id=\"5,2\"></path><path d=\"M 125.9 156.6 L 194.6 175.7\" id=\"5,1\"></path><path d=\"M 125.9 156.6 L 194.6 214.0\" id=\"5,0\"></path></g><g class=\"toytree-AlignEdges\" style=\"stroke:rgb(66.3%,66.3%,66.3%);stroke-dasharray:2, 4;stroke-linecap:round;stroke-opacity:1.0;stroke-width:2\"><path d=\"M 194.6 214.0 L 194.6 214.0\"></path><path d=\"M 194.6 175.7 L 194.6 175.7\"></path><path d=\"M 194.6 137.5 L 194.6 137.5\"></path><path d=\"M 194.6 99.3 L 194.6 99.3\"></path><path d=\"M 194.6 61.0 L 194.6 61.0\"></path></g><g class=\"toytree-Nodes\" style=\"fill:rgb(10.6%,62%,46.7%);fill-opacity:1.0;stroke:rgb(100%,100%,100%);stroke-opacity:1.0;stroke-width:1.5\"><g id=\"node-0\" transform=\"translate(194.639,213.986)\"><circle r=\"4.0\"></circle></g><g id=\"node-1\" transform=\"translate(194.639,175.743)\"><circle r=\"4.0\"></circle></g><g id=\"node-2\" transform=\"translate(194.639,137.500)\"><circle r=\"4.0\"></circle></g><g id=\"node-3\" transform=\"translate(194.639,99.257)\"><circle r=\"4.0\"></circle></g><g id=\"node-4\" transform=\"translate(194.639,61.014)\"><circle r=\"4.0\"></circle></g><g id=\"node-5\" transform=\"translate(125.869,156.622)\"><circle r=\"4.0\"></circle></g><g id=\"node-6\" transform=\"translate(57.099,108.818)\"><circle r=\"4.0\"></circle></g></g><g class=\"toytree-TipLabels\" style=\"fill:rgb(14.9%,14.9%,14.9%);fill-opacity:1.0;font-family:helvetica;font-size:11px;font-weight:normal;stroke:none;white-space:pre\"><g transform=\"translate(194.64,213.99)rotate(0)\"><text style=\"\" x=\"15.00\" y=\"2.81\">e</text></g><g transform=\"translate(194.64,175.74)rotate(0)\"><text style=\"\" x=\"15.00\" y=\"2.81\">d</text></g><g transform=\"translate(194.64,137.50)rotate(0)\"><text style=\"\" x=\"15.00\" y=\"2.81\">c</text></g><g transform=\"translate(194.64,99.26)rotate(0)\"><text style=\"\" x=\"15.00\" y=\"2.81\">b</text></g><g transform=\"translate(194.64,61.01)rotate(0)\"><text style=\"\" x=\"15.00\" y=\"2.81\">a</text></g></g></g></g><g class=\"toyplot-coordinates-Axis\" id=\"t7afa6b5f112247c8bdb8568f200667c9\" transform=\"translate(50.0,225.0)translate(0,20.0)\"><line style=\"\" x1=\"7.098857312967991\" x2=\"144.63921775172318\" y1=\"0\" y2=\"0\"></line><g><line style=\"\" x1=\"144.63921775172318\" x2=\"144.63921775172318\" y1=\"0\" y2=\"-5\"></line><line style=\"\" x1=\"75.86903753234559\" x2=\"75.86903753234559\" y1=\"0\" y2=\"-5\"></line><line style=\"\" x1=\"7.098857312967991\" x2=\"7.098857312967991\" y1=\"0\" y2=\"-5\"></line></g><g><g transform=\"translate(144.63921775172318,6)\"><text style=\"fill:rgb(16.1%,15.3%,14.1%);fill-opacity:1.0;font-family:helvetica;font-size:10.0px;font-weight:normal;stroke:none;vertical-align:baseline;white-space:pre\" x=\"-2.78\" y=\"8.555\">0</text></g><g transform=\"translate(75.86903753234559,6)\"><text style=\"fill:rgb(16.1%,15.3%,14.1%);fill-opacity:1.0;font-family:helvetica;font-size:10.0px;font-weight:normal;stroke:none;vertical-align:baseline;white-space:pre\" x=\"-16.68\" y=\"8.555\">500000</text></g><g transform=\"translate(7.098857312967991,6)\"><text style=\"fill:rgb(16.1%,15.3%,14.1%);fill-opacity:1.0;font-family:helvetica;font-size:10.0px;font-weight:normal;stroke:none;vertical-align:baseline;white-space:pre\" x=\"-19.459999999999997\" y=\"8.555\">1000000</text></g></g><g class=\"toyplot-coordinates-Axis-coordinates\" style=\"visibility:hidden\" transform=\"\"><line style=\"stroke:rgb(43.9%,50.2%,56.5%);stroke-opacity:1.0;stroke-width:1.0\" x1=\"0\" x2=\"0\" y1=\"-3.0\" y2=\"4.5\"></line><text style=\"alignment-baseline:alphabetic;fill:rgb(43.9%,50.2%,56.5%);fill-opacity:1.0;font-size:10px;font-weight:normal;stroke:none;text-anchor:middle\" x=\"0\" y=\"-6\"></text></g></g></g></svg><div class=\"toyplot-behavior\"><script>(function()\n",
       "{\n",
       "var modules={};\n",
       "modules[\"toyplot/canvas/id\"] = \"tb9b0d1e051134f9092744e5d94d8f196\";\n",
       "modules[\"toyplot/canvas\"] = (function(canvas_id)\n",
       "    {\n",
       "        return document.querySelector(\"#\" + canvas_id);\n",
       "    })(modules[\"toyplot/canvas/id\"]);\n",
       "modules[\"toyplot.coordinates.Axis\"] = (\n",
       "        function(canvas)\n",
       "        {\n",
       "            function sign(x)\n",
       "            {\n",
       "                return x < 0 ? -1 : x > 0 ? 1 : 0;\n",
       "            }\n",
       "\n",
       "            function mix(a, b, amount)\n",
       "            {\n",
       "                return ((1.0 - amount) * a) + (amount * b);\n",
       "            }\n",
       "\n",
       "            function log(x, base)\n",
       "            {\n",
       "                return Math.log(Math.abs(x)) / Math.log(base);\n",
       "            }\n",
       "\n",
       "            function in_range(a, x, b)\n",
       "            {\n",
       "                var left = Math.min(a, b);\n",
       "                var right = Math.max(a, b);\n",
       "                return left <= x && x <= right;\n",
       "            }\n",
       "\n",
       "            function inside(range, projection)\n",
       "            {\n",
       "                for(var i = 0; i != projection.length; ++i)\n",
       "                {\n",
       "                    var segment = projection[i];\n",
       "                    if(in_range(segment.range.min, range, segment.range.max))\n",
       "                        return true;\n",
       "                }\n",
       "                return false;\n",
       "            }\n",
       "\n",
       "            function to_domain(range, projection)\n",
       "            {\n",
       "                for(var i = 0; i != projection.length; ++i)\n",
       "                {\n",
       "                    var segment = projection[i];\n",
       "                    if(in_range(segment.range.bounds.min, range, segment.range.bounds.max))\n",
       "                    {\n",
       "                        if(segment.scale == \"linear\")\n",
       "                        {\n",
       "                            var amount = (range - segment.range.min) / (segment.range.max - segment.range.min);\n",
       "                            return mix(segment.domain.min, segment.domain.max, amount)\n",
       "                        }\n",
       "                        else if(segment.scale[0] == \"log\")\n",
       "                        {\n",
       "                            var amount = (range - segment.range.min) / (segment.range.max - segment.range.min);\n",
       "                            var base = segment.scale[1];\n",
       "                            return sign(segment.domain.min) * Math.pow(base, mix(log(segment.domain.min, base), log(segment.domain.max, base), amount));\n",
       "                        }\n",
       "                    }\n",
       "                }\n",
       "            }\n",
       "\n",
       "            var axes = {};\n",
       "\n",
       "            function display_coordinates(e)\n",
       "            {\n",
       "                var current = canvas.createSVGPoint();\n",
       "                current.x = e.clientX;\n",
       "                current.y = e.clientY;\n",
       "\n",
       "                for(var axis_id in axes)\n",
       "                {\n",
       "                    var axis = document.querySelector(\"#\" + axis_id);\n",
       "                    var coordinates = axis.querySelector(\".toyplot-coordinates-Axis-coordinates\");\n",
       "                    if(coordinates)\n",
       "                    {\n",
       "                        var projection = axes[axis_id];\n",
       "                        var local = current.matrixTransform(axis.getScreenCTM().inverse());\n",
       "                        if(inside(local.x, projection))\n",
       "                        {\n",
       "                            var domain = to_domain(local.x, projection);\n",
       "                            coordinates.style.visibility = \"visible\";\n",
       "                            coordinates.setAttribute(\"transform\", \"translate(\" + local.x + \")\");\n",
       "                            var text = coordinates.querySelector(\"text\");\n",
       "                            text.textContent = domain.toFixed(2);\n",
       "                        }\n",
       "                        else\n",
       "                        {\n",
       "                            coordinates.style.visibility= \"hidden\";\n",
       "                        }\n",
       "                    }\n",
       "                }\n",
       "            }\n",
       "\n",
       "            canvas.addEventListener(\"click\", display_coordinates);\n",
       "\n",
       "            var module = {};\n",
       "            module.show_coordinates = function(axis_id, projection)\n",
       "            {\n",
       "                axes[axis_id] = projection;\n",
       "            }\n",
       "\n",
       "            return module;\n",
       "        })(modules[\"toyplot/canvas\"]);\n",
       "(function(axis, axis_id, projection)\n",
       "        {\n",
       "            axis.show_coordinates(axis_id, projection);\n",
       "        })(modules[\"toyplot.coordinates.Axis\"],\"t7afa6b5f112247c8bdb8568f200667c9\",[{\"domain\": {\"bounds\": {\"max\": Infinity, \"min\": -Infinity}, \"max\": 75329.03225806443, \"min\": -1051612.9032258063}, \"range\": {\"bounds\": {\"max\": Infinity, \"min\": -Infinity}, \"max\": 155.0, \"min\": 0.0}, \"scale\": \"linear\"}]);\n",
       "})();</script></div></div>"
      ]
     },
     "metadata": {},
     "output_type": "display_data"
    }
   ],
   "source": [
    "tre.draw(scalebar=True, ts='o');"
   ]
  },
  {
   "cell_type": "markdown",
   "metadata": {},
   "source": [
    "### Simulate w/ ipcoal on polytomy tree"
   ]
  },
  {
   "cell_type": "code",
   "execution_count": 5,
   "metadata": {},
   "outputs": [],
   "source": [
    "mod = ipcoal.Model(tre, Ne=1e5)"
   ]
  },
  {
   "cell_type": "code",
   "execution_count": 7,
   "metadata": {},
   "outputs": [
    {
     "data": {
      "text/plain": [
       "[{'type': 'population_parameters_change', 'time': 0.0, 'growth_rate': None, 'initial_size': 100000, 'population': 2},\n",
       " {'type': 'population_parameters_change', 'time': 0.0, 'growth_rate': None, 'initial_size': 100000, 'population': 3},\n",
       " {'type': 'population_parameters_change', 'time': 9.999959729611874e-06, 'growth_rate': None, 'initial_size': 100000, 'population': 1},\n",
       " {'type': 'population_parameters_change', 'time': 2.0000035874545574e-05, 'growth_rate': None, 'initial_size': 100000, 'population': 0},\n",
       " {'type': 'population_parameters_change', 'time': 2.0000035874545574e-05, 'growth_rate': None, 'initial_size': 100000, 'population': 4},\n",
       " {'type': 'mass_migration', 'time': 500000.00000000006, 'source': 3, 'dest': 2, 'proportion': 1.0},\n",
       " {'type': 'population_parameters_change', 'time': 500000.00000000006, 'growth_rate': None, 'initial_size': 100000, 'population': 2},\n",
       " {'type': 'mass_migration', 'time': 500000.00001, 'source': 2, 'dest': 1, 'proportion': 1.0},\n",
       " {'type': 'population_parameters_change', 'time': 500000.00001, 'growth_rate': None, 'initial_size': 100000, 'population': 1},\n",
       " {'type': 'mass_migration', 'time': 500000.00002000004, 'source': 1, 'dest': 0, 'proportion': 1.0},\n",
       " {'type': 'population_parameters_change', 'time': 500000.00002000004, 'growth_rate': None, 'initial_size': 100000, 'population': 0},\n",
       " {'type': 'mass_migration', 'time': 1000000.00002, 'source': 4, 'dest': 0, 'proportion': 1.0},\n",
       " {'type': 'population_parameters_change', 'time': 1000000.00002, 'growth_rate': None, 'initial_size': 100000, 'population': 0}]"
      ]
     },
     "execution_count": 7,
     "metadata": {},
     "output_type": "execute_result"
    }
   ],
   "source": [
    "mod._get_demography()\n",
    "mod.ms_demography"
   ]
  },
  {
   "cell_type": "code",
   "execution_count": 8,
   "metadata": {},
   "outputs": [],
   "source": [
    "mod.sim_trees(1)"
   ]
  },
  {
   "cell_type": "code",
   "execution_count": 9,
   "metadata": {},
   "outputs": [
    {
     "data": {
      "text/html": [
       "<div>\n",
       "<style scoped>\n",
       "    .dataframe tbody tr th:only-of-type {\n",
       "        vertical-align: middle;\n",
       "    }\n",
       "\n",
       "    .dataframe tbody tr th {\n",
       "        vertical-align: top;\n",
       "    }\n",
       "\n",
       "    .dataframe thead th {\n",
       "        text-align: right;\n",
       "    }\n",
       "</style>\n",
       "<table border=\"1\" class=\"dataframe\">\n",
       "  <thead>\n",
       "    <tr style=\"text-align: right;\">\n",
       "      <th></th>\n",
       "      <th>locus</th>\n",
       "      <th>start</th>\n",
       "      <th>end</th>\n",
       "      <th>nbps</th>\n",
       "      <th>nsnps</th>\n",
       "      <th>tidx</th>\n",
       "      <th>genealogy</th>\n",
       "    </tr>\n",
       "  </thead>\n",
       "  <tbody>\n",
       "    <tr>\n",
       "      <th>0</th>\n",
       "      <td>0</td>\n",
       "      <td>0</td>\n",
       "      <td>1</td>\n",
       "      <td>1</td>\n",
       "      <td>0</td>\n",
       "      <td>0</td>\n",
       "      <td>(c:1309324,(a:1020109,(b...</td>\n",
       "    </tr>\n",
       "  </tbody>\n",
       "</table>\n",
       "</div>"
      ],
      "text/plain": [
       "   locus  start  end  nbps  nsnps  tidx                    genealogy\n",
       "0      0      0    1     1      0     0  (c:1309324,(a:1020109,(b..."
      ]
     },
     "execution_count": 9,
     "metadata": {},
     "output_type": "execute_result"
    }
   ],
   "source": [
    "mod.df"
   ]
  }
 ],
 "metadata": {
  "kernelspec": {
   "display_name": "Python 3",
   "language": "python",
   "name": "python3"
  },
  "language_info": {
   "codemirror_mode": {
    "name": "ipython",
    "version": 3
   },
   "file_extension": ".py",
   "mimetype": "text/x-python",
   "name": "python",
   "nbconvert_exporter": "python",
   "pygments_lexer": "ipython3",
   "version": "3.7.9"
  }
 },
 "nbformat": 4,
 "nbformat_minor": 4
}
