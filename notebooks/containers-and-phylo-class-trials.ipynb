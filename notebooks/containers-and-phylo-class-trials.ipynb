{
 "cells": [
  {
   "cell_type": "code",
   "execution_count": 10,
   "id": "a01c49d1",
   "metadata": {},
   "outputs": [],
   "source": [
    "import toytree\n",
    "import toyplot\n",
    "import numpy as np\n",
    "import ipcoal\n",
    "#from ipcoal.smc.msc import *"
   ]
  },
  {
   "cell_type": "code",
   "execution_count": 15,
   "id": "957ab784",
   "metadata": {},
   "outputs": [],
   "source": [
    "tree = toytree.rtree.unittree(2, treeheight=1e5)"
   ]
  },
  {
   "cell_type": "code",
   "execution_count": 32,
   "id": "6eefc7e6",
   "metadata": {},
   "outputs": [
    {
     "data": {
      "text/html": [
       "<div class=\"toyplot\" id=\"tba0d0e583e2f40519cb7358f2fcd86e4\" style=\"text-align:center\"><svg class=\"toyplot-canvas-Canvas\" xmlns:toyplot=\"http://www.sandia.gov/toyplot\" xmlns:xlink=\"http://www.w3.org/1999/xlink\" xmlns=\"http://www.w3.org/2000/svg\" width=\"350.0px\" height=\"260.0px\" viewBox=\"0 0 350.0 260.0\" preserveAspectRatio=\"xMidYMid meet\" style=\"background-color:transparent;border-color:#292724;border-style:none;border-width:1.0;fill:rgb(16.1%,15.3%,14.1%);fill-opacity:1.0;font-family:Helvetica;font-size:12px;opacity:1.0;stroke:rgb(16.1%,15.3%,14.1%);stroke-opacity:1.0;stroke-width:1.0\" id=\"t665f8c0ebd2a44c797866cee37ae92a7\"><g class=\"toyplot-coordinates-Cartesian\" id=\"ta7c0f3efe26b419babbae06d514c581c\"><clipPath id=\"t8952d5593cab4c5893700d863b33381e\"><rect x=\"35.0\" y=\"35.0\" width=\"280.0\" height=\"190.0\"></rect></clipPath><g clip-path=\"url(#t8952d5593cab4c5893700d863b33381e)\"><g class=\"toytree-mark-Toytree\" id=\"te3e965ea1068451086836965b5958ca1\"><g class=\"toytree-Edges\" style=\"stroke:rgb(14.9%,14.9%,14.9%);stroke-opacity:1.0;stroke-linecap:round;stroke-width:2;fill:none\"><path d=\"M 175.0 52.7 L 56.3 176.3\" id=\"2,0\" style=\"\"></path><path d=\"M 175.0 52.7 L 293.7 176.3\" id=\"2,1\" style=\"\"></path></g><g class=\"toytree-Nodes\" style=\"fill:rgb(40.0%,76.1%,64.7%);fill-opacity:1.0;stroke:rgb(14.9%,14.9%,14.9%);stroke-opacity:1.0;stroke-width:1.5\"><g id=\"Node-0\" transform=\"translate(56.269,176.341)\"><circle r=\"3.5\"></circle></g><g id=\"Node-1\" transform=\"translate(293.731,176.341)\"><circle r=\"3.5\"></circle></g><g id=\"Node-2\" transform=\"translate(175.000,52.705)\"><circle r=\"3.5\"></circle></g></g><g class=\"toytree-TipLabels\" style=\"fill:rgb(16.1%,15.3%,14.1%);fill-opacity:1.0;font-family:Helvetica;font-size:11.0px;font-weight:300;vertical-align:baseline;white-space:pre;stroke:none\"><g class=\"toytree-TipLabel\" transform=\"translate(56.3,176)rotate(90)\"><text x=\"12.0\" y=\"2.8104999999999993\" style=\"fill:rgb(16.1%,15.3%,14.1%);fill-opacity:1.0\">r0</text></g><g class=\"toytree-TipLabel\" transform=\"translate(294,176)rotate(90)\"><text x=\"12.0\" y=\"2.8104999999999993\" style=\"fill:rgb(16.1%,15.3%,14.1%);fill-opacity:1.0\">r1</text></g></g></g></g><g class=\"toyplot-coordinates-Axis\" id=\"t1923b214e76f4554a5574f77873dd5be\" transform=\"translate(50.0,210.0)rotate(-90.0)translate(0,-15.0)\"><line x1=\"33.658588414840274\" y1=\"0\" x2=\"157.29544378869687\" y2=\"0\" style=\"\"></line><g><line x1=\"33.658588414840274\" y1=\"0\" x2=\"33.658588414840274\" y2=\"5\" style=\"\"></line><line x1=\"95.47701610176858\" y1=\"0\" x2=\"95.47701610176858\" y2=\"5\" style=\"\"></line><line x1=\"157.29544378869687\" y1=\"0\" x2=\"157.29544378869687\" y2=\"5\" style=\"\"></line></g><g><g transform=\"translate(33.658588414840274,-6)\"><text x=\"-2.78\" y=\"-4.440892098500626e-16\" style=\"fill:rgb(16.1%,15.3%,14.1%);fill-opacity:1.0;font-family:helvetica;font-size:10.0px;font-weight:normal;stroke:none;vertical-align:baseline;white-space:pre\">0</text></g><g transform=\"translate(95.47701610176858,-6)\"><text x=\"-13.9\" y=\"-4.440892098500626e-16\" style=\"fill:rgb(16.1%,15.3%,14.1%);fill-opacity:1.0;font-family:helvetica;font-size:10.0px;font-weight:normal;stroke:none;vertical-align:baseline;white-space:pre\">50000</text></g><g transform=\"translate(157.29544378869687,-6)\"><text x=\"-16.68\" y=\"-4.440892098500626e-16\" style=\"fill:rgb(16.1%,15.3%,14.1%);fill-opacity:1.0;font-family:helvetica;font-size:10.0px;font-weight:normal;stroke:none;vertical-align:baseline;white-space:pre\">100000</text></g></g><g class=\"toyplot-coordinates-Axis-coordinates\" style=\"visibility:hidden\" transform=\"\"><line x1=\"0\" x2=\"0\" y1=\"3.0\" y2=\"-4.5\" style=\"stroke:rgb(43.9%,50.2%,56.5%);stroke-opacity:1.0;stroke-width:1.0\"></line><text x=\"0\" y=\"6\" style=\"alignment-baseline:hanging;fill:rgb(43.9%,50.2%,56.5%);fill-opacity:1.0;font-size:10px;font-weight:normal;stroke:none;text-anchor:middle\"></text></g></g></g></svg><div class=\"toyplot-behavior\"><script>(function()\n",
       "{\n",
       "var modules={};\n",
       "modules[\"toyplot/canvas/id\"] = \"t665f8c0ebd2a44c797866cee37ae92a7\";\n",
       "modules[\"toyplot/canvas\"] = (function(canvas_id)\n",
       "    {\n",
       "        return document.querySelector(\"#\" + canvas_id);\n",
       "    })(modules[\"toyplot/canvas/id\"]);\n",
       "modules[\"toyplot.coordinates.Axis\"] = (\n",
       "        function(canvas)\n",
       "        {\n",
       "            function sign(x)\n",
       "            {\n",
       "                return x < 0 ? -1 : x > 0 ? 1 : 0;\n",
       "            }\n",
       "\n",
       "            function mix(a, b, amount)\n",
       "            {\n",
       "                return ((1.0 - amount) * a) + (amount * b);\n",
       "            }\n",
       "\n",
       "            function log(x, base)\n",
       "            {\n",
       "                return Math.log(Math.abs(x)) / Math.log(base);\n",
       "            }\n",
       "\n",
       "            function in_range(a, x, b)\n",
       "            {\n",
       "                var left = Math.min(a, b);\n",
       "                var right = Math.max(a, b);\n",
       "                return left <= x && x <= right;\n",
       "            }\n",
       "\n",
       "            function inside(range, projection)\n",
       "            {\n",
       "                for(var i = 0; i != projection.length; ++i)\n",
       "                {\n",
       "                    var segment = projection[i];\n",
       "                    if(in_range(segment.range.min, range, segment.range.max))\n",
       "                        return true;\n",
       "                }\n",
       "                return false;\n",
       "            }\n",
       "\n",
       "            function to_domain(range, projection)\n",
       "            {\n",
       "                for(var i = 0; i != projection.length; ++i)\n",
       "                {\n",
       "                    var segment = projection[i];\n",
       "                    if(in_range(segment.range.bounds.min, range, segment.range.bounds.max))\n",
       "                    {\n",
       "                        if(segment.scale == \"linear\")\n",
       "                        {\n",
       "                            var amount = (range - segment.range.min) / (segment.range.max - segment.range.min);\n",
       "                            return mix(segment.domain.min, segment.domain.max, amount)\n",
       "                        }\n",
       "                        else if(segment.scale[0] == \"log\")\n",
       "                        {\n",
       "                            var amount = (range - segment.range.min) / (segment.range.max - segment.range.min);\n",
       "                            var base = segment.scale[1];\n",
       "                            return sign(segment.domain.min) * Math.pow(base, mix(log(segment.domain.min, base), log(segment.domain.max, base), amount));\n",
       "                        }\n",
       "                    }\n",
       "                }\n",
       "            }\n",
       "\n",
       "            var axes = {};\n",
       "\n",
       "            function display_coordinates(e)\n",
       "            {\n",
       "                var current = canvas.createSVGPoint();\n",
       "                current.x = e.clientX;\n",
       "                current.y = e.clientY;\n",
       "\n",
       "                for(var axis_id in axes)\n",
       "                {\n",
       "                    var axis = document.querySelector(\"#\" + axis_id);\n",
       "                    var coordinates = axis.querySelector(\".toyplot-coordinates-Axis-coordinates\");\n",
       "                    if(coordinates)\n",
       "                    {\n",
       "                        var projection = axes[axis_id];\n",
       "                        var local = current.matrixTransform(axis.getScreenCTM().inverse());\n",
       "                        if(inside(local.x, projection))\n",
       "                        {\n",
       "                            var domain = to_domain(local.x, projection);\n",
       "                            coordinates.style.visibility = \"visible\";\n",
       "                            coordinates.setAttribute(\"transform\", \"translate(\" + local.x + \")\");\n",
       "                            var text = coordinates.querySelector(\"text\");\n",
       "                            text.textContent = domain.toFixed(2);\n",
       "                        }\n",
       "                        else\n",
       "                        {\n",
       "                            coordinates.style.visibility= \"hidden\";\n",
       "                        }\n",
       "                    }\n",
       "                }\n",
       "            }\n",
       "\n",
       "            canvas.addEventListener(\"click\", display_coordinates);\n",
       "\n",
       "            var module = {};\n",
       "            module.show_coordinates = function(axis_id, projection)\n",
       "            {\n",
       "                axes[axis_id] = projection;\n",
       "            }\n",
       "\n",
       "            return module;\n",
       "        })(modules[\"toyplot/canvas\"]);\n",
       "(function(axis, axis_id, projection)\n",
       "        {\n",
       "            axis.show_coordinates(axis_id, projection);\n",
       "        })(modules[\"toyplot.coordinates.Axis\"],\"t1923b214e76f4554a5574f77873dd5be\",[{\"domain\": {\"bounds\": {\"max\": Infinity, \"min\": -Infinity}, \"max\": 102187.50000000001, \"min\": -27223.749999999996}, \"range\": {\"bounds\": {\"max\": Infinity, \"min\": -Infinity}, \"max\": 160.0, \"min\": 0.0}, \"scale\": \"linear\"}]);\n",
       "})();</script></div></div>"
      ]
     },
     "metadata": {},
     "output_type": "display_data"
    }
   ],
   "source": [
    "tree.draw('c'); # admixture_edges=[(0, 1, 0.5)]);"
   ]
  },
  {
   "cell_type": "code",
   "execution_count": 46,
   "id": "c3fd9d02",
   "metadata": {},
   "outputs": [
    {
     "data": {
      "text/html": [
       "<div class=\"toyplot\" id=\"t3323ae6976f846bfaa2d1b1368e973bc\" style=\"text-align:center\"><svg class=\"toyplot-canvas-Canvas\" xmlns:toyplot=\"http://www.sandia.gov/toyplot\" xmlns:xlink=\"http://www.w3.org/1999/xlink\" xmlns=\"http://www.w3.org/2000/svg\" width=\"260.0px\" height=\"275.0px\" viewBox=\"0 0 260.0 275.0\" preserveAspectRatio=\"xMidYMid meet\" style=\"background-color:transparent;border-color:#292724;border-style:none;border-width:1.0;fill:rgb(16.1%,15.3%,14.1%);fill-opacity:1.0;font-family:Helvetica;font-size:12px;opacity:1.0;stroke:rgb(16.1%,15.3%,14.1%);stroke-opacity:1.0;stroke-width:1.0\" id=\"t0c82d8e1d4654178ada329a5674bddd5\"><g class=\"toyplot-coordinates-Cartesian\" id=\"td0a4954a36ef49f8921884161ec12e54\"><clipPath id=\"t5f7fc34c41c34e4e9c56dbe98882a38e\"><rect x=\"35.0\" y=\"35.0\" width=\"190.0\" height=\"205.0\"></rect></clipPath><g clip-path=\"url(#t5f7fc34c41c34e4e9c56dbe98882a38e)\"><g class=\"toytree-mark-Toytree\" id=\"tff93d7146028447ea3717faba5d08cf9\"><g class=\"toytree-Edges\" style=\"stroke:rgb(16.1%,15.3%,14.1%);stroke-opacity:1.0;stroke-linecap:round;stroke-width:2.0;fill:none\"><path d=\"M 126.3 204.7 L 126.3 218.1 L 173.5 218.1\" id=\"11,0\" style=\"\"></path><path d=\"M 149.9 191.2 L 149.9 200.2 L 173.5 200.2\" id=\"10,1\" style=\"\"></path><path d=\"M 149.9 191.2 L 149.9 182.3 L 173.5 182.3\" id=\"10,2\" style=\"\"></path><path d=\"M 149.9 155.4 L 149.9 164.4 L 173.5 164.4\" id=\"12,3\" style=\"\"></path><path d=\"M 149.9 155.4 L 149.9 146.5 L 173.5 146.5\" id=\"12,4\" style=\"\"></path><path d=\"M 126.3 142.0 L 126.3 128.5 L 173.5 128.5\" id=\"13,5\" style=\"\"></path><path d=\"M 149.9 101.7 L 149.9 110.6 L 173.5 110.6\" id=\"15,6\" style=\"\"></path><path d=\"M 149.9 101.7 L 149.9 92.7 L 173.5 92.7\" id=\"15,7\" style=\"\"></path><path d=\"M 149.9 65.9 L 149.9 74.8 L 173.5 74.8\" id=\"17,8\" style=\"\"></path><path d=\"M 149.9 65.9 L 149.9 56.9 L 173.5 56.9\" id=\"17,9\" style=\"\"></path><path d=\"M 126.3 204.7 L 126.3 191.2 L 149.9 191.2\" id=\"11,10\" style=\"\"></path><path d=\"M 102.7 173.3 L 102.7 204.7 L 126.3 204.7\" id=\"14,11\" style=\"\"></path><path d=\"M 126.3 142.0 L 126.3 155.4 L 149.9 155.4\" id=\"13,12\" style=\"\"></path><path d=\"M 102.7 173.3 L 102.7 142.0 L 126.3 142.0\" id=\"14,13\" style=\"\"></path><path d=\"M 79.1 137.5 L 79.1 173.3 L 102.7 173.3\" id=\"16,14\" style=\"\"></path><path d=\"M 79.1 137.5 L 79.1 101.7 L 149.9 101.7\" id=\"16,15\" style=\"\"></path><path d=\"M 55.5 101.7 L 55.5 137.5 L 79.1 137.5\" id=\"18,16\" style=\"\"></path><path d=\"M 55.5 101.7 L 55.5 65.9 L 149.9 65.9\" id=\"18,17\" style=\"\"></path></g><g class=\"toytree-Nodes\" style=\"fill:rgb(82.7%,82.7%,82.7%);fill-opacity:1.0;stroke:rgb(14.9%,14.9%,14.9%);stroke-opacity:1.0;stroke-width:1.5\"><g id=\"Node-10\" transform=\"translate(149.881,191.228)\"><circle r=\"7.5\"></circle></g><g id=\"Node-11\" transform=\"translate(126.293,204.660)\"><circle r=\"7.5\"></circle></g><g id=\"Node-12\" transform=\"translate(149.881,155.409)\"><circle r=\"7.5\"></circle></g><g id=\"Node-13\" transform=\"translate(126.293,141.977)\"><circle r=\"7.5\"></circle></g><g id=\"Node-14\" transform=\"translate(102.705,173.319)\"><circle r=\"7.5\"></circle></g><g id=\"Node-15\" transform=\"translate(149.881,101.681)\"><circle r=\"7.5\"></circle></g><g id=\"Node-16\" transform=\"translate(79.117,137.500)\"><circle r=\"7.5\"></circle></g><g id=\"Node-17\" transform=\"translate(149.881,65.863)\"><circle r=\"7.5\"></circle></g></g><g class=\"toytree-NodeLabels\" style=\"font-family:Helvetica;font-size:9.0px;font-weight:300;vertical-align:baseline;white-space:pre;stroke:none\"><g class=\"toytree-NodeLabel\" transform=\"translate(150,191)\"><text x=\"-5.0040000000000004\" y=\"2.2995\" style=\"fill:rgb(16.1%,15.3%,14.1%);fill-opacity:1.0\">10</text></g><g class=\"toytree-NodeLabel\" transform=\"translate(126,205)\"><text x=\"-5.0040000000000004\" y=\"2.2995\" style=\"fill:rgb(16.1%,15.3%,14.1%);fill-opacity:1.0\">11</text></g><g class=\"toytree-NodeLabel\" transform=\"translate(150,155)\"><text x=\"-5.0040000000000004\" y=\"2.2995\" style=\"fill:rgb(16.1%,15.3%,14.1%);fill-opacity:1.0\">12</text></g><g class=\"toytree-NodeLabel\" transform=\"translate(126,142)\"><text x=\"-5.0040000000000004\" y=\"2.2995\" style=\"fill:rgb(16.1%,15.3%,14.1%);fill-opacity:1.0\">13</text></g><g class=\"toytree-NodeLabel\" transform=\"translate(103,173)\"><text x=\"-5.0040000000000004\" y=\"2.2995\" style=\"fill:rgb(16.1%,15.3%,14.1%);fill-opacity:1.0\">14</text></g><g class=\"toytree-NodeLabel\" transform=\"translate(150,102)\"><text x=\"-5.0040000000000004\" y=\"2.2995\" style=\"fill:rgb(16.1%,15.3%,14.1%);fill-opacity:1.0\">15</text></g><g class=\"toytree-NodeLabel\" transform=\"translate(79.1,138)\"><text x=\"-5.0040000000000004\" y=\"2.2995\" style=\"fill:rgb(16.1%,15.3%,14.1%);fill-opacity:1.0\">16</text></g><g class=\"toytree-NodeLabel\" transform=\"translate(150,65.9)\"><text x=\"-5.0040000000000004\" y=\"2.2995\" style=\"fill:rgb(16.1%,15.3%,14.1%);fill-opacity:1.0\">17</text></g></g><g class=\"toytree-TipLabels\" style=\"fill:rgb(16.1%,15.3%,14.1%);fill-opacity:1.0;font-family:Helvetica;font-size:11.0px;font-weight:300;vertical-align:baseline;white-space:pre;stroke:none\"><g class=\"toytree-TipLabel\" transform=\"translate(173,218)\"><text x=\"15.0\" y=\"2.8104999999999993\" style=\"fill:rgb(16.1%,15.3%,14.1%);fill-opacity:1.0\">r0</text></g><g class=\"toytree-TipLabel\" transform=\"translate(173,200)\"><text x=\"15.0\" y=\"2.8104999999999993\" style=\"fill:rgb(16.1%,15.3%,14.1%);fill-opacity:1.0\">r1</text></g><g class=\"toytree-TipLabel\" transform=\"translate(173,182)\"><text x=\"15.0\" y=\"2.8104999999999993\" style=\"fill:rgb(16.1%,15.3%,14.1%);fill-opacity:1.0\">r2</text></g><g class=\"toytree-TipLabel\" transform=\"translate(173,164)\"><text x=\"15.0\" y=\"2.8104999999999993\" style=\"fill:rgb(16.1%,15.3%,14.1%);fill-opacity:1.0\">r3</text></g><g class=\"toytree-TipLabel\" transform=\"translate(173,146)\"><text x=\"15.0\" y=\"2.8104999999999993\" style=\"fill:rgb(16.1%,15.3%,14.1%);fill-opacity:1.0\">r4</text></g><g class=\"toytree-TipLabel\" transform=\"translate(173,129)\"><text x=\"15.0\" y=\"2.8104999999999993\" style=\"fill:rgb(16.1%,15.3%,14.1%);fill-opacity:1.0\">r5</text></g><g class=\"toytree-TipLabel\" transform=\"translate(173,111)\"><text x=\"15.0\" y=\"2.8104999999999993\" style=\"fill:rgb(16.1%,15.3%,14.1%);fill-opacity:1.0\">r6</text></g><g class=\"toytree-TipLabel\" transform=\"translate(173,92.7)\"><text x=\"15.0\" y=\"2.8104999999999993\" style=\"fill:rgb(16.1%,15.3%,14.1%);fill-opacity:1.0\">r7</text></g><g class=\"toytree-TipLabel\" transform=\"translate(173,74.8)\"><text x=\"15.0\" y=\"2.8104999999999993\" style=\"fill:rgb(16.1%,15.3%,14.1%);fill-opacity:1.0\">r8</text></g><g class=\"toytree-TipLabel\" transform=\"translate(173,56.9)\"><text x=\"15.0\" y=\"2.8104999999999993\" style=\"fill:rgb(16.1%,15.3%,14.1%);fill-opacity:1.0\">r9</text></g></g></g></g></g></svg><div class=\"toyplot-behavior\"><script>(function()\n",
       "{\n",
       "var modules={};\n",
       "})();</script></div></div>"
      ]
     },
     "metadata": {},
     "output_type": "display_data"
    }
   ],
   "source": [
    ">>> tree = toytree.rtree.unittree(10, seed=123)\n",
    ">>> mask = tree.get_node_mask(15, 16, mask_internal=True, mask_root=True)\n",
    ">>> tree.draw(ts='s', node_mask=tree.get_node_mask(mask_root=True), node_sizes=15);"
   ]
  },
  {
   "cell_type": "code",
   "execution_count": 77,
   "id": "ddf0983c",
   "metadata": {},
   "outputs": [
    {
     "ename": "ToyColorError",
     "evalue": "N (<class 'str'>) is not a supported color argument.",
     "output_type": "error",
     "traceback": [
      "\u001b[0;31m---------------------------------------------------------------------------\u001b[0m",
      "\u001b[0;31mToyColorError\u001b[0m                             Traceback (most recent call last)",
      "Cell \u001b[0;32mIn[77], line 6\u001b[0m\n\u001b[1;32m      2\u001b[0m tree\u001b[38;5;241m.\u001b[39mstyle\u001b[38;5;241m.\u001b[39mnode_colors \u001b[38;5;241m=\u001b[39m \u001b[38;5;124m\"\u001b[39m\u001b[38;5;124mN\u001b[39m\u001b[38;5;124m\"\u001b[39m\n\u001b[1;32m      3\u001b[0m \u001b[38;5;66;03m#tree.draw()\u001b[39;00m\n\u001b[1;32m      4\u001b[0m \u001b[38;5;66;03m# raises exception\u001b[39;00m\n\u001b[0;32m----> 6\u001b[0m \u001b[38;5;28;43mprint\u001b[39;49m\u001b[43m(\u001b[49m\u001b[43mtree\u001b[49m\u001b[38;5;241;43m.\u001b[39;49m\u001b[43mstyle\u001b[49m\u001b[43m)\u001b[49m\n\u001b[1;32m      7\u001b[0m \u001b[38;5;66;03m# raises exception\u001b[39;00m\n",
      "File \u001b[0;32m~/Documents/toytree/toytree/style/src/tree_style_base.py:132\u001b[0m, in \u001b[0;36mTreeStyle.__repr__\u001b[0;34m(self)\u001b[0m\n\u001b[1;32m    130\u001b[0m \u001b[38;5;28;01mdef\u001b[39;00m \u001b[38;5;21m__repr__\u001b[39m(\u001b[38;5;28mself\u001b[39m):\n\u001b[1;32m    131\u001b[0m \u001b[38;5;250m    \u001b[39m\u001b[38;5;124;03m\"\"\"Return a serialized JSON formatted style dict.\"\"\"\u001b[39;00m\n\u001b[0;32m--> 132\u001b[0m     \u001b[38;5;28;01mreturn\u001b[39;00m \u001b[38;5;28;43mself\u001b[39;49m\u001b[38;5;241;43m.\u001b[39;49m\u001b[43mjson\u001b[49m\u001b[43m(\u001b[49m\u001b[43m)\u001b[49m\n",
      "File \u001b[0;32m~/Documents/toytree/toytree/style/src/tree_style_base.py:128\u001b[0m, in \u001b[0;36mTreeStyle.json\u001b[0;34m(self)\u001b[0m\n\u001b[1;32m    126\u001b[0m \u001b[38;5;28;01mdef\u001b[39;00m \u001b[38;5;21mjson\u001b[39m(\u001b[38;5;28mself\u001b[39m) \u001b[38;5;241m-\u001b[39m\u001b[38;5;241m>\u001b[39m \u001b[38;5;28mstr\u001b[39m:\n\u001b[1;32m    127\u001b[0m \u001b[38;5;250m    \u001b[39m\u001b[38;5;124;03m\"\"\"Return a string with tree style serialized as JSON.\"\"\"\u001b[39;00m\n\u001b[0;32m--> 128\u001b[0m     \u001b[38;5;28;01mreturn\u001b[39;00m json\u001b[38;5;241m.\u001b[39mdumps(\u001b[38;5;28;43mself\u001b[39;49m\u001b[38;5;241;43m.\u001b[39;49m\u001b[43mdict\u001b[49m\u001b[43m(\u001b[49m\u001b[43mserialize\u001b[49m\u001b[38;5;241;43m=\u001b[39;49m\u001b[38;5;28;43;01mTrue\u001b[39;49;00m\u001b[43m)\u001b[49m, indent\u001b[38;5;241m=\u001b[39m\u001b[38;5;241m4\u001b[39m)\n",
      "File \u001b[0;32m~/Documents/toytree/toytree/style/src/tree_style_base.py:106\u001b[0m, in \u001b[0;36mTreeStyle.dict\u001b[0;34m(self, serialize)\u001b[0m\n\u001b[1;32m    103\u001b[0m             sdict[key][skey] \u001b[38;5;241m=\u001b[39m serialize_style(skey, sval)\n\u001b[1;32m    104\u001b[0m     \u001b[38;5;28;01melse\u001b[39;00m:\n\u001b[1;32m    105\u001b[0m         \u001b[38;5;66;03m# logger.warning([key, value])\u001b[39;00m\n\u001b[0;32m--> 106\u001b[0m         sdict[key] \u001b[38;5;241m=\u001b[39m \u001b[43mserialize_style\u001b[49m\u001b[43m(\u001b[49m\u001b[43mkey\u001b[49m\u001b[43m,\u001b[49m\u001b[43m \u001b[49m\u001b[43mvalue\u001b[49m\u001b[43m)\u001b[49m\n\u001b[1;32m    108\u001b[0m \u001b[38;5;28;01mif\u001b[39;00m sdict[\u001b[38;5;124m'\u001b[39m\u001b[38;5;124madmixture_edges\u001b[39m\u001b[38;5;124m'\u001b[39m] \u001b[38;5;129;01mis\u001b[39;00m \u001b[38;5;129;01mnot\u001b[39;00m \u001b[38;5;28;01mNone\u001b[39;00m:\n\u001b[1;32m    109\u001b[0m     \u001b[38;5;28;01mfor\u001b[39;00m idx, atup \u001b[38;5;129;01min\u001b[39;00m \u001b[38;5;28menumerate\u001b[39m(sdict[\u001b[38;5;124m'\u001b[39m\u001b[38;5;124madmixture_edges\u001b[39m\u001b[38;5;124m'\u001b[39m]):\n",
      "File \u001b[0;32m~/Documents/toytree/toytree/style/src/tree_style_base.py:156\u001b[0m, in \u001b[0;36mserialize_style\u001b[0;34m(key, value)\u001b[0m\n\u001b[1;32m    154\u001b[0m \u001b[38;5;28;01mtry\u001b[39;00m:\n\u001b[1;32m    155\u001b[0m     \u001b[38;5;28;01mif\u001b[39;00m \u001b[38;5;129;01mnot\u001b[39;00m (\u001b[38;5;28misinstance\u001b[39m(value, \u001b[38;5;28mtuple\u001b[39m) \u001b[38;5;129;01mand\u001b[39;00m \u001b[38;5;28mlen\u001b[39m(value) \u001b[38;5;241m==\u001b[39m \u001b[38;5;241m2\u001b[39m):\n\u001b[0;32m--> 156\u001b[0m         \u001b[38;5;28;01mraise\u001b[39;00m inst\n\u001b[1;32m    157\u001b[0m     \u001b[38;5;66;03m# NOTE: THIS IS ONLY SERIALIZED TO THE OBJECT REPR\u001b[39;00m\n\u001b[1;32m    158\u001b[0m     \u001b[38;5;28;01mreturn\u001b[39;00m (value[\u001b[38;5;241m0\u001b[39m], \u001b[38;5;28mstr\u001b[39m(value[\u001b[38;5;241m1\u001b[39m])) \u001b[38;5;66;03m# return (feat, colormap)\u001b[39;00m\n",
      "File \u001b[0;32m~/Documents/toytree/toytree/style/src/tree_style_base.py:151\u001b[0m, in \u001b[0;36mserialize_style\u001b[0;34m(key, value)\u001b[0m\n\u001b[1;32m    149\u001b[0m \u001b[38;5;28;01mif\u001b[39;00m (\u001b[38;5;124m\"\u001b[39m\u001b[38;5;124mcolor\u001b[39m\u001b[38;5;124m\"\u001b[39m \u001b[38;5;129;01min\u001b[39;00m key) \u001b[38;5;129;01mor\u001b[39;00m (key \u001b[38;5;129;01min\u001b[39;00m [\u001b[38;5;124m'\u001b[39m\u001b[38;5;124mfill\u001b[39m\u001b[38;5;124m'\u001b[39m, \u001b[38;5;124m'\u001b[39m\u001b[38;5;124mstroke\u001b[39m\u001b[38;5;124m'\u001b[39m]):\n\u001b[1;32m    150\u001b[0m     \u001b[38;5;28;01mtry\u001b[39;00m:\n\u001b[0;32m--> 151\u001b[0m         col \u001b[38;5;241m=\u001b[39m \u001b[43mToyColor\u001b[49m\u001b[38;5;241;43m.\u001b[39;49m\u001b[43mcolor_expander\u001b[49m\u001b[43m(\u001b[49m\u001b[43mvalue\u001b[49m\u001b[43m)\u001b[49m\n\u001b[1;32m    152\u001b[0m     \u001b[38;5;66;03m# exception to allow (feat, colormap) tuple shortcut\u001b[39;00m\n\u001b[1;32m    153\u001b[0m     \u001b[38;5;28;01mexcept\u001b[39;00m ToytreeError \u001b[38;5;28;01mas\u001b[39;00m inst:\n",
      "File \u001b[0;32m~/Documents/toytree/toytree/color/src/toycolor.py:108\u001b[0m, in \u001b[0;36mToyColor.color_expander\u001b[0;34m(cls, color, check_nested)\u001b[0m\n\u001b[1;32m    105\u001b[0m         \u001b[38;5;28;01mexcept\u001b[39;00m ToyColorError:\n\u001b[1;32m    106\u001b[0m             \u001b[38;5;28;01mpass\u001b[39;00m\n\u001b[0;32m--> 108\u001b[0m \u001b[38;5;28;01mraise\u001b[39;00m ToyColorError(\n\u001b[1;32m    109\u001b[0m     \u001b[38;5;124mf\u001b[39m\u001b[38;5;124m\"\u001b[39m\u001b[38;5;132;01m{\u001b[39;00mcolor\u001b[38;5;132;01m}\u001b[39;00m\u001b[38;5;124m (\u001b[39m\u001b[38;5;132;01m{\u001b[39;00m\u001b[38;5;28mtype\u001b[39m(color)\u001b[38;5;132;01m}\u001b[39;00m\u001b[38;5;124m) is not a supported color argument.\u001b[39m\u001b[38;5;124m\"\u001b[39m)\n",
      "\u001b[0;31mToyColorError\u001b[0m: N (<class 'str'>) is not a supported color argument."
     ]
    }
   ],
   "source": [
    "tree = toytree.rtree.unittree(10)\n",
    "tree.style.node_colors = \"N\"\n",
    "#tree.draw()\n",
    "# raises exception\n",
    "\n",
    "print(tree.style)\n",
    "# raises exception"
   ]
  },
  {
   "cell_type": "code",
   "execution_count": 68,
   "id": "99b9e86e",
   "metadata": {},
   "outputs": [
    {
     "data": {
      "text/html": [
       "<div class=\"toyplot\" id=\"tb30b94fb44a443e5b4bbd81d2f0ef6fa\" style=\"text-align:center\"><svg class=\"toyplot-canvas-Canvas\" xmlns:toyplot=\"http://www.sandia.gov/toyplot\" xmlns:xlink=\"http://www.w3.org/1999/xlink\" xmlns=\"http://www.w3.org/2000/svg\" width=\"255.0px\" height=\"275.0px\" viewBox=\"0 0 255.0 275.0\" preserveAspectRatio=\"xMidYMid meet\" style=\"background-color:transparent;border-color:#292724;border-style:none;border-width:1.0;fill:rgb(16.1%,15.3%,14.1%);fill-opacity:1.0;font-family:Helvetica;font-size:12px;opacity:1.0;stroke:rgb(16.1%,15.3%,14.1%);stroke-opacity:1.0;stroke-width:1.0\" id=\"tad3782a9ca494182a2be1d8d4d05fb52\"><g class=\"toyplot-coordinates-Cartesian\" id=\"tdda58d08aa9f4b8d9539116e9e687c1a\"><clipPath id=\"t3ad822b8f19241afb224be390462aa0c\"><rect x=\"35.0\" y=\"35.0\" width=\"185.0\" height=\"205.0\"></rect></clipPath><g clip-path=\"url(#t3ad822b8f19241afb224be390462aa0c)\"><g class=\"toytree-mark-Toytree\" id=\"tf1e8fafec2044a68ad4ce1ae26637e6e\"><g class=\"toytree-Edges\" style=\"stroke:rgb(16.1%,15.3%,14.1%);stroke-opacity:1.0;stroke-linecap:round;stroke-width:2.0;fill:none\"><path d=\"M 80.5 178.2 L 80.5 218.9 L 171.8 218.9\" id=\"3,0\" style=\"\"></path><path d=\"M 80.5 178.2 L 80.5 137.5 L 171.8 137.5\" id=\"3,1\" style=\"\"></path><path d=\"M 50.0 117.2 L 50.0 56.1 L 171.8 56.1\" id=\"4,2\" style=\"\"></path><path d=\"M 50.0 117.2 L 50.0 178.2 L 80.5 178.2\" id=\"4,3\" style=\"\"></path></g><g class=\"toytree-Nodes\" style=\"fill:rgb(40.0%,76.1%,64.7%);fill-opacity:1.0;stroke:rgb(14.9%,14.9%,14.9%);stroke-opacity:1.0;stroke-width:1.5\"></g><g class=\"toytree-TipLabels\" style=\"fill:rgb(16.1%,15.3%,14.1%);fill-opacity:1.0;font-family:Helvetica;font-size:11.0px;font-weight:300;vertical-align:baseline;white-space:pre;stroke:none\"><g class=\"toytree-TipLabel\" transform=\"translate(172,219)\"><text x=\"15.0\" y=\"2.8104999999999993\" style=\"fill:rgb(16.1%,15.3%,14.1%);fill-opacity:1.0\">a</text></g><g class=\"toytree-TipLabel\" transform=\"translate(172,137)\"><text x=\"15.0\" y=\"2.8104999999999993\" style=\"fill:rgb(16.1%,15.3%,14.1%);fill-opacity:1.0\">b</text></g><g class=\"toytree-TipLabel\" transform=\"translate(172,56.1)\"><text x=\"15.0\" y=\"2.8104999999999993\" style=\"fill:rgb(16.1%,15.3%,14.1%);fill-opacity:1.0\">c</text></g></g></g></g></g></svg><div class=\"toyplot-behavior\"><script>(function()\n",
       "{\n",
       "var modules={};\n",
       "})();</script></div></div>"
      ]
     },
     "metadata": {},
     "output_type": "display_data"
    }
   ],
   "source": [
    "toytree.io.parse_newick_string(nwk).draw();"
   ]
  },
  {
   "cell_type": "code",
   "execution_count": 66,
   "id": "0daa7d08",
   "metadata": {},
   "outputs": [
    {
     "data": {
      "text/plain": [
       "'((a:3[&state=1],b:3[&state=1]):1[&state=1],c:4[&state=2]):1[&state=1];'"
      ]
     },
     "execution_count": 66,
     "metadata": {},
     "output_type": "execute_result"
    }
   ],
   "source": [
    ">>> nwk = \"((a:3[&state=1],b:3[&state=1])D:1[&state=1],c:4[&state=2])E:1[&state=1];\"\n",
    ">>> #tree = toytree.io.parse_newick(nwk, features_prefix=\"&\")\n",
    ">>> tree = toytree.tree(nwk)\n",
    ">>> tree.write()\n",
    ">>> # ((a:3,b:3)100:1,c:4)100:1\n",
    ">>> tree.write(dist_formatter=None)\n",
    ">>> # ((a,b)100,c)100\n",
    ">>> tree.write(internal_labels=None)\n",
    ">>> # ((a:3,b:3):1,c:4):1\n",
    ">>> tree.write(internal_labels=\"name\")\n",
    ">>> # ((a:3,b:3)D:1,c:4)E:1\n",
    ">>> tree.write(features=[\"state\"])\n",
    ">>> # ((a:3[&state=1],b:3[&state=1])100:1[&state=1],c:4[&state=2])100:1[&state=1]"
   ]
  },
  {
   "cell_type": "code",
   "execution_count": 24,
   "id": "183b4cb8",
   "metadata": {},
   "outputs": [],
   "source": [
    "model = ipcoal.Model(tree, Ne=100000, admixture_edges=[(0, 1, 5000, 0.05)])"
   ]
  },
  {
   "cell_type": "code",
   "execution_count": 27,
   "id": "120f4b75",
   "metadata": {},
   "outputs": [],
   "source": [
    "model.sim_loci(100, 100)"
   ]
  },
  {
   "cell_type": "code",
   "execution_count": 31,
   "id": "f7e07a6b",
   "metadata": {},
   "outputs": [
    {
     "data": {
      "text/html": [
       "<div>\n",
       "<style scoped>\n",
       "    .dataframe tbody tr th:only-of-type {\n",
       "        vertical-align: middle;\n",
       "    }\n",
       "\n",
       "    .dataframe tbody tr th {\n",
       "        vertical-align: top;\n",
       "    }\n",
       "\n",
       "    .dataframe thead th {\n",
       "        text-align: right;\n",
       "    }\n",
       "</style>\n",
       "<table border=\"1\" class=\"dataframe\">\n",
       "  <thead>\n",
       "    <tr style=\"text-align: right;\">\n",
       "      <th></th>\n",
       "      <th>CHROM</th>\n",
       "      <th>POS</th>\n",
       "      <th>ID</th>\n",
       "      <th>REF</th>\n",
       "      <th>ALT</th>\n",
       "      <th>QUAL</th>\n",
       "      <th>FILTER</th>\n",
       "      <th>INFO</th>\n",
       "      <th>FORMAT</th>\n",
       "      <th>r0</th>\n",
       "      <th>r1</th>\n",
       "    </tr>\n",
       "  </thead>\n",
       "  <tbody>\n",
       "    <tr>\n",
       "      <th>0</th>\n",
       "      <td>2</td>\n",
       "      <td>52</td>\n",
       "      <td>.</td>\n",
       "      <td>A</td>\n",
       "      <td>T</td>\n",
       "      <td>99</td>\n",
       "      <td>PASS</td>\n",
       "      <td>.</td>\n",
       "      <td>GT</td>\n",
       "      <td>0|0</td>\n",
       "      <td>1|1</td>\n",
       "    </tr>\n",
       "    <tr>\n",
       "      <th>1</th>\n",
       "      <td>6</td>\n",
       "      <td>11</td>\n",
       "      <td>.</td>\n",
       "      <td>C</td>\n",
       "      <td>A</td>\n",
       "      <td>99</td>\n",
       "      <td>PASS</td>\n",
       "      <td>.</td>\n",
       "      <td>GT</td>\n",
       "      <td>1|1</td>\n",
       "      <td>0|0</td>\n",
       "    </tr>\n",
       "    <tr>\n",
       "      <th>2</th>\n",
       "      <td>6</td>\n",
       "      <td>87</td>\n",
       "      <td>.</td>\n",
       "      <td>G</td>\n",
       "      <td>C</td>\n",
       "      <td>99</td>\n",
       "      <td>PASS</td>\n",
       "      <td>.</td>\n",
       "      <td>GT</td>\n",
       "      <td>1|1</td>\n",
       "      <td>0|0</td>\n",
       "    </tr>\n",
       "    <tr>\n",
       "      <th>3</th>\n",
       "      <td>7</td>\n",
       "      <td>83</td>\n",
       "      <td>.</td>\n",
       "      <td>G</td>\n",
       "      <td>C</td>\n",
       "      <td>99</td>\n",
       "      <td>PASS</td>\n",
       "      <td>.</td>\n",
       "      <td>GT</td>\n",
       "      <td>1|1</td>\n",
       "      <td>0|0</td>\n",
       "    </tr>\n",
       "    <tr>\n",
       "      <th>4</th>\n",
       "      <td>8</td>\n",
       "      <td>57</td>\n",
       "      <td>.</td>\n",
       "      <td>G</td>\n",
       "      <td>C</td>\n",
       "      <td>99</td>\n",
       "      <td>PASS</td>\n",
       "      <td>.</td>\n",
       "      <td>GT</td>\n",
       "      <td>0|0</td>\n",
       "      <td>1|1</td>\n",
       "    </tr>\n",
       "    <tr>\n",
       "      <th>...</th>\n",
       "      <td>...</td>\n",
       "      <td>...</td>\n",
       "      <td>...</td>\n",
       "      <td>...</td>\n",
       "      <td>...</td>\n",
       "      <td>...</td>\n",
       "      <td>...</td>\n",
       "      <td>...</td>\n",
       "      <td>...</td>\n",
       "      <td>...</td>\n",
       "      <td>...</td>\n",
       "    </tr>\n",
       "    <tr>\n",
       "      <th>62</th>\n",
       "      <td>89</td>\n",
       "      <td>55</td>\n",
       "      <td>.</td>\n",
       "      <td>A</td>\n",
       "      <td>C</td>\n",
       "      <td>99</td>\n",
       "      <td>PASS</td>\n",
       "      <td>.</td>\n",
       "      <td>GT</td>\n",
       "      <td>1|1</td>\n",
       "      <td>0|0</td>\n",
       "    </tr>\n",
       "    <tr>\n",
       "      <th>63</th>\n",
       "      <td>97</td>\n",
       "      <td>36</td>\n",
       "      <td>.</td>\n",
       "      <td>T</td>\n",
       "      <td>A</td>\n",
       "      <td>99</td>\n",
       "      <td>PASS</td>\n",
       "      <td>.</td>\n",
       "      <td>GT</td>\n",
       "      <td>0|0</td>\n",
       "      <td>1|1</td>\n",
       "    </tr>\n",
       "    <tr>\n",
       "      <th>64</th>\n",
       "      <td>97</td>\n",
       "      <td>79</td>\n",
       "      <td>.</td>\n",
       "      <td>G</td>\n",
       "      <td>A</td>\n",
       "      <td>99</td>\n",
       "      <td>PASS</td>\n",
       "      <td>.</td>\n",
       "      <td>GT</td>\n",
       "      <td>1|1</td>\n",
       "      <td>0|0</td>\n",
       "    </tr>\n",
       "    <tr>\n",
       "      <th>65</th>\n",
       "      <td>98</td>\n",
       "      <td>53</td>\n",
       "      <td>.</td>\n",
       "      <td>G</td>\n",
       "      <td>C</td>\n",
       "      <td>99</td>\n",
       "      <td>PASS</td>\n",
       "      <td>.</td>\n",
       "      <td>GT</td>\n",
       "      <td>0|0</td>\n",
       "      <td>1|1</td>\n",
       "    </tr>\n",
       "    <tr>\n",
       "      <th>66</th>\n",
       "      <td>100</td>\n",
       "      <td>37</td>\n",
       "      <td>.</td>\n",
       "      <td>C</td>\n",
       "      <td>T</td>\n",
       "      <td>99</td>\n",
       "      <td>PASS</td>\n",
       "      <td>.</td>\n",
       "      <td>GT</td>\n",
       "      <td>1|1</td>\n",
       "      <td>0|0</td>\n",
       "    </tr>\n",
       "  </tbody>\n",
       "</table>\n",
       "<p>67 rows × 11 columns</p>\n",
       "</div>"
      ],
      "text/plain": [
       "    CHROM  POS ID REF ALT  QUAL FILTER INFO FORMAT   r0   r1\n",
       "0       2   52  .   A   T    99   PASS    .     GT  0|0  1|1\n",
       "1       6   11  .   C   A    99   PASS    .     GT  1|1  0|0\n",
       "2       6   87  .   G   C    99   PASS    .     GT  1|1  0|0\n",
       "3       7   83  .   G   C    99   PASS    .     GT  1|1  0|0\n",
       "4       8   57  .   G   C    99   PASS    .     GT  0|0  1|1\n",
       "..    ...  ... ..  ..  ..   ...    ...  ...    ...  ...  ...\n",
       "62     89   55  .   A   C    99   PASS    .     GT  1|1  0|0\n",
       "63     97   36  .   T   A    99   PASS    .     GT  0|0  1|1\n",
       "64     97   79  .   G   A    99   PASS    .     GT  1|1  0|0\n",
       "65     98   53  .   G   C    99   PASS    .     GT  0|0  1|1\n",
       "66    100   37  .   C   T    99   PASS    .     GT  1|1  0|0\n",
       "\n",
       "[67 rows x 11 columns]"
      ]
     },
     "execution_count": 31,
     "metadata": {},
     "output_type": "execute_result"
    }
   ],
   "source": [
    "model.write_vcf()"
   ]
  },
  {
   "cell_type": "code",
   "execution_count": null,
   "id": "c24c6b09",
   "metadata": {},
   "outputs": [],
   "source": []
  },
  {
   "cell_type": "code",
   "execution_count": 29,
   "id": "681ff04d",
   "metadata": {},
   "outputs": [],
   "source": [
    "# model.draw_seqview(scrollable=False, max_width=50);"
   ]
  },
  {
   "cell_type": "code",
   "execution_count": null,
   "id": "e9933ca5",
   "metadata": {},
   "outputs": [],
   "source": [
    "toyplot.layout.FruchtermanReingold()"
   ]
  },
  {
   "cell_type": "code",
   "execution_count": null,
   "id": "80ba3d40",
   "metadata": {},
   "outputs": [],
   "source": []
  },
  {
   "cell_type": "code",
   "execution_count": null,
   "id": "1440aaf2",
   "metadata": {},
   "outputs": [],
   "source": []
  },
  {
   "cell_type": "code",
   "execution_count": 2,
   "id": "a1cd5d25",
   "metadata": {},
   "outputs": [],
   "source": [
    "from pathlib import Path\n",
    "from toytree.core.drawing.draw_toytree import get_layout, get_tree_style\n",
    "from toytree.core.drawing.render import RenderToytree"
   ]
  },
  {
   "cell_type": "code",
   "execution_count": 3,
   "id": "ceb314fe",
   "metadata": {},
   "outputs": [],
   "source": [
    "tree = toytree.rtree.unittree(10)"
   ]
  },
  {
   "cell_type": "code",
   "execution_count": 4,
   "id": "6deca256",
   "metadata": {},
   "outputs": [],
   "source": [
    "# canvas = toyplot.Canvas(300, 250)\n",
    "# axes = canvas.cartesian()\n",
    "# layout = get_layout(tree, get_tree_style(tree), None, None)\n",
    "# mark = toytree.core.drawing.toytree_mark.ToytreeMark(\n",
    "#     ntable=layout.coords,\n",
    "#     etable=tree._get_edges(),\n",
    "#     **tree.style.dict(0, 0, 1),\n",
    "# )"
   ]
  },
  {
   "cell_type": "code",
   "execution_count": 5,
   "id": "0ab2eade",
   "metadata": {},
   "outputs": [],
   "source": [
    "# RenderToytree(axes, mark, canvas)"
   ]
  },
  {
   "cell_type": "code",
   "execution_count": 41,
   "id": "54d10b78",
   "metadata": {},
   "outputs": [
    {
     "data": {
      "text/plain": [
       "[ToyColor((1., 0., 0., 1.),\n",
       "          dtype=[('r', '<f8'), ('g', '<f8'), ('b', '<f8'), ('a', '<f8')])]"
      ]
     },
     "execution_count": 41,
     "metadata": {},
     "output_type": "execute_result"
    }
   ],
   "source": [
    "[toytree.color.ToyColor(\"red\")]"
   ]
  },
  {
   "cell_type": "code",
   "execution_count": 35,
   "id": "7816c512",
   "metadata": {},
   "outputs": [],
   "source": [
    "tree.style.edge_style.stroke_dasharray = 1\n",
    "tree.style.edge_style.stroke_linecap = \"square\"\n",
    "tree.style.edge_style.stroke_width = 4\n",
    "#tree.style.edge_colors = ['red'] * tree.nnodes\n",
    "#tree.style.edge_colors[10] = \"blue\""
   ]
  },
  {
   "cell_type": "code",
   "execution_count": 38,
   "id": "27514809",
   "metadata": {},
   "outputs": [
    {
     "data": {
      "text/html": [
       "<div class=\"toyplot\" id=\"t1fba80afe95342db9f359274d6e77c45\" style=\"text-align:center\"><svg class=\"toyplot-canvas-Canvas\" xmlns:toyplot=\"http://www.sandia.gov/toyplot\" xmlns:xlink=\"http://www.w3.org/1999/xlink\" xmlns=\"http://www.w3.org/2000/svg\" width=\"260.0px\" height=\"275.0px\" viewBox=\"0 0 260.0 275.0\" preserveAspectRatio=\"xMidYMid meet\" style=\"background-color:transparent;border-color:#292724;border-style:none;border-width:1.0;fill:rgb(16.1%,15.3%,14.1%);fill-opacity:1.0;font-family:Helvetica;font-size:12px;opacity:1.0;stroke:rgb(16.1%,15.3%,14.1%);stroke-opacity:1.0;stroke-width:1.0\" id=\"td7dffd721e8d47008186b860a8a309e3\"><g class=\"toyplot-coordinates-Cartesian\" id=\"tb8a05aa912864d6887dd099c30eff107\"><clipPath id=\"t3427c95267f542f9bf8b6f6b64c35959\"><rect x=\"35.0\" y=\"35.0\" width=\"190.0\" height=\"205.0\"></rect></clipPath><g clip-path=\"url(#t3427c95267f542f9bf8b6f6b64c35959)\"><g class=\"toytree-mark-Toytree\" id=\"te25de481a7aa439ba20fb50780b90221\"><g class=\"toytree-Edges\" style=\"fill:none;stroke-dasharray:1;stroke-linecap:square;stroke-width:4\"><path d=\"M 67.5 209.8 L 67.5 218.9 L 172.2 218.9\" id=\"10,0\" style=\"stroke:rgb(100%,0%,0%);stroke-opacity:1.0;stroke-width:nan\"></path><path d=\"M 67.5 209.8 L 67.5 200.8 L 172.2 200.8\" id=\"10,1\" style=\"stroke:rgb(100%,0%,0%);stroke-opacity:1.0;stroke-width:nan\"></path><path d=\"M 102.4 173.7 L 102.4 182.7 L 172.2 182.7\" id=\"11,2\" style=\"stroke:rgb(100%,0%,0%);stroke-opacity:1.0;stroke-width:nan\"></path><path d=\"M 102.4 173.7 L 102.4 164.6 L 172.2 164.6\" id=\"11,3\" style=\"stroke:rgb(100%,0%,0%);stroke-opacity:1.0;stroke-width:nan\"></path><path d=\"M 154.7 137.5 L 154.7 146.5 L 172.2 146.5\" id=\"12,4\" style=\"stroke:rgb(100%,0%,0%);stroke-opacity:1.0;stroke-width:nan\"></path><path d=\"M 154.7 137.5 L 154.7 128.5 L 172.2 128.5\" id=\"12,5\" style=\"stroke:rgb(100%,0%,0%);stroke-opacity:1.0;stroke-width:nan\"></path><path d=\"M 137.3 123.9 L 137.3 110.4 L 172.2 110.4\" id=\"13,6\" style=\"stroke:rgb(100%,0%,0%);stroke-opacity:1.0;stroke-width:nan\"></path><path d=\"M 119.8 108.1 L 119.8 92.3 L 172.2 92.3\" id=\"14,7\" style=\"stroke:rgb(100%,0%,0%);stroke-opacity:1.0;stroke-width:nan\"></path><path d=\"M 102.4 91.2 L 102.4 74.2 L 172.2 74.2\" id=\"15,8\" style=\"stroke:rgb(100%,0%,0%);stroke-opacity:1.0;stroke-width:nan\"></path><path d=\"M 67.5 94.3 L 67.5 56.1 L 172.2 56.1\" id=\"17,9\" style=\"stroke:rgb(100%,0%,0%);stroke-opacity:1.0;stroke-width:nan\"></path><path d=\"M 50.0 152.0 L 50.0 209.8 L 67.5 209.8\" id=\"18,10\" style=\"stroke:rgb(0%,0%,100%);stroke-opacity:1.0;stroke-width:nan\"></path><path d=\"M 84.9 132.4 L 84.9 173.7 L 102.4 173.7\" id=\"16,11\" style=\"stroke:rgb(100%,0%,0%);stroke-opacity:1.0;stroke-width:nan\"></path><path d=\"M 137.3 123.9 L 137.3 137.5 L 154.7 137.5\" id=\"13,12\" style=\"stroke:rgb(100%,0%,0%);stroke-opacity:1.0;stroke-width:nan\"></path><path d=\"M 119.8 108.1 L 119.8 123.9 L 137.3 123.9\" id=\"14,13\" style=\"stroke:rgb(100%,0%,0%);stroke-opacity:1.0;stroke-width:nan\"></path><path d=\"M 102.4 91.2 L 102.4 108.1 L 119.8 108.1\" id=\"15,14\" style=\"stroke:rgb(100%,0%,0%);stroke-opacity:1.0;stroke-width:nan\"></path><path d=\"M 84.9 132.4 L 84.9 91.2 L 102.4 91.2\" id=\"16,15\" style=\"stroke:rgb(100%,0%,0%);stroke-opacity:1.0;stroke-width:nan\"></path><path d=\"M 67.5 94.3 L 67.5 132.4 L 84.9 132.4\" id=\"17,16\" style=\"stroke:rgb(100%,0%,0%);stroke-opacity:1.0;stroke-width:nan\"></path><path d=\"M 50.0 152.0 L 50.0 94.3 L 67.5 94.3\" id=\"18,17\" style=\"stroke:rgb(100%,0%,0%);stroke-opacity:1.0;stroke-width:nan\"></path></g><g class=\"toytree-TipLabels\" style=\"fill:rgb(0%,0%,100%);fill-opacity:1.0;font-family:Helvetica;font-size:11.0px;font-weight:300;stroke:none;vertical-align:baseline;white-space:pre\"><g class=\"toytree-TipLabel\" transform=\"translate(172.1618835835425,218.86291179596174)\"><text x=\"15.0\" y=\"2.8104999999999993\" style=\"\">r0</text></g><g class=\"toytree-TipLabel\" transform=\"translate(172.1618835835425,200.78226473019248)\"><text x=\"15.0\" y=\"2.8104999999999993\" style=\"\">r1</text></g><g class=\"toytree-TipLabel\" transform=\"translate(172.1618835835425,182.70161766442322)\"><text x=\"15.0\" y=\"2.8104999999999993\" style=\"\">r2</text></g><g class=\"toytree-TipLabel\" transform=\"translate(172.1618835835425,164.6209705986539)\"><text x=\"15.0\" y=\"2.8104999999999993\" style=\"\">r3</text></g><g class=\"toytree-TipLabel\" transform=\"translate(172.1618835835425,146.54032353288463)\"><text x=\"15.0\" y=\"2.8104999999999993\" style=\"\">r4</text></g><g class=\"toytree-TipLabel\" transform=\"translate(172.1618835835425,128.45967646711534)\"><text x=\"15.0\" y=\"2.8104999999999993\" style=\"\">r5</text></g><g class=\"toytree-TipLabel\" transform=\"translate(172.1618835835425,110.37902940134609)\"><text x=\"15.0\" y=\"2.8104999999999993\" style=\"\">r6</text></g><g class=\"toytree-TipLabel\" transform=\"translate(172.1618835835425,92.2983823355768)\"><text x=\"15.0\" y=\"2.8104999999999993\" style=\"\">r7</text></g><g class=\"toytree-TipLabel\" transform=\"translate(172.1618835835425,74.2177352698075)\"><text x=\"15.0\" y=\"2.8104999999999993\" style=\"\">r8</text></g><g class=\"toytree-TipLabel\" transform=\"translate(172.1618835835425,56.137088204038236)\"><text x=\"15.0\" y=\"2.8104999999999993\" style=\"\">r9</text></g></g></g></g></g></svg><div class=\"toyplot-behavior\"><script>(function()\n",
       "{\n",
       "var modules={};\n",
       "})();</script></div></div>"
      ]
     },
     "metadata": {},
     "output_type": "display_data"
    }
   ],
   "source": [
    "tree.style.tip_labels_colors = \"blue\"\n",
    "tree.draw();"
   ]
  },
  {
   "cell_type": "code",
   "execution_count": null,
   "id": "038143f3",
   "metadata": {},
   "outputs": [],
   "source": []
  },
  {
   "cell_type": "code",
   "execution_count": 158,
   "id": "9da1c9f5",
   "metadata": {},
   "outputs": [
    {
     "data": {
      "text/html": [
       "<div class=\"toyplot-color-Swatch\" style=\"overflow:hidden; height:auto\"><div style=\"float:left;width:20px;height:20px;margin-right:0px;background-color:rgba(100.0%,50.0%,50.0%,0.500)\"></div></div>"
      ],
      "text/plain": [
       "array((1., 0.5, 0.5, 0.5),\n",
       "      dtype=[('r', '<f8'), ('g', '<f8'), ('b', '<f8'), ('a', '<f8')])"
      ]
     },
     "execution_count": 158,
     "metadata": {},
     "output_type": "execute_result"
    }
   ],
   "source": [
    "toyplot.color.rgba(1, 0.5, 0.5, 0.5)"
   ]
  },
  {
   "cell_type": "code",
   "execution_count": 163,
   "id": "e8e34c1b",
   "metadata": {},
   "outputs": [
    {
     "data": {
      "text/html": [
       "<div class=\"toyplot-color-Swatch\" style=\"overflow:hidden; height:auto\"><div style=\"float:left;width:20px;height:20px;margin-right:0px;background-color:rgba(100.0%,0.0%,0.0%,1.000)\"></div></div>"
      ],
      "text/plain": [
       "array((1., 0., 0., 1.),\n",
       "      dtype=[('r', '<f8'), ('g', '<f8'), ('b', '<f8'), ('a', '<f8')])"
      ]
     },
     "execution_count": 163,
     "metadata": {},
     "output_type": "execute_result"
    }
   ],
   "source": [
    "toyplot.color.css(\"rgba(100.0%,0.0%,0.0%,1.)\")"
   ]
  },
  {
   "cell_type": "code",
   "execution_count": 170,
   "id": "3c680c54",
   "metadata": {},
   "outputs": [],
   "source": [
    "toyplot.color.Palette??"
   ]
  },
  {
   "cell_type": "code",
   "execution_count": 57,
   "id": "db6901f7",
   "metadata": {},
   "outputs": [],
   "source": [
    "arr = toytree.color.Color(\"red\").array"
   ]
  },
  {
   "cell_type": "code",
   "execution_count": 182,
   "id": "cb43bb8e",
   "metadata": {},
   "outputs": [
    {
     "data": {
      "text/html": [
       "<div class=\"toyplot-color-Palette\" style=\"overflow:hidden; height:auto\"><div style=\"float:left;width:20px;height:20px;margin-right:0px;background-color:rgba(40.0%,76.1%,64.7%,1.000)\"></div><div style=\"float:left;width:20px;height:20px;margin-right:0px;background-color:rgba(98.8%,55.3%,38.4%,1.000)\"></div><div style=\"float:left;width:20px;height:20px;margin-right:0px;background-color:rgba(55.3%,62.7%,79.6%,1.000)\"></div><div style=\"float:left;width:20px;height:20px;margin-right:0px;background-color:rgba(90.6%,54.1%,76.5%,1.000)\"></div><div style=\"float:left;width:20px;height:20px;margin-right:0px;background-color:rgba(65.1%,84.7%,32.9%,1.000)\"></div><div style=\"float:left;width:20px;height:20px;margin-right:0px;background-color:rgba(100.0%,85.1%,18.4%,1.000)\"></div><div style=\"float:left;width:20px;height:20px;margin-right:0px;background-color:rgba(89.8%,76.9%,58.0%,1.000)\"></div></div>"
      ],
      "text/plain": [
       "<toyplot.color.Palette at 0x7f34404b18b0>"
      ]
     },
     "execution_count": 182,
     "metadata": {},
     "output_type": "execute_result"
    }
   ],
   "source": [
    "toyplot.color.brewer.palette(\"Set2\", count=7)"
   ]
  },
  {
   "cell_type": "code",
   "execution_count": 186,
   "id": "0cce600b",
   "metadata": {},
   "outputs": [
    {
     "data": {
      "text/plain": [
       "<toyplot.color.Map at 0x7f34404a0670>"
      ]
     },
     "execution_count": 186,
     "metadata": {},
     "output_type": "execute_result"
    }
   ],
   "source": [
    "toyplot.color.Map(0, 100)"
   ]
  },
  {
   "cell_type": "code",
   "execution_count": 189,
   "id": "fb9a71b5",
   "metadata": {},
   "outputs": [],
   "source": [
    "x = toyplot.color.DivergingMap().colors([0, 2, 4])"
   ]
  },
  {
   "cell_type": "code",
   "execution_count": 240,
   "id": "9e5f41e9",
   "metadata": {},
   "outputs": [
    {
     "ename": "AttributeError",
     "evalue": "module 'toytree.color' has no attribute 'ToyColor'",
     "output_type": "error",
     "traceback": [
      "\u001b[0;31m---------------------------------------------------------------------------\u001b[0m",
      "\u001b[0;31mAttributeError\u001b[0m                            Traceback (most recent call last)",
      "Input \u001b[0;32mIn [240]\u001b[0m, in \u001b[0;36m<cell line: 1>\u001b[0;34m()\u001b[0m\n\u001b[0;32m----> 1\u001b[0m \u001b[43mtoytree\u001b[49m\u001b[38;5;241;43m.\u001b[39;49m\u001b[43mcolor\u001b[49m\u001b[38;5;241;43m.\u001b[39;49m\u001b[43mToyColor\u001b[49m(\u001b[38;5;124m\"\u001b[39m\u001b[38;5;124mred\u001b[39m\u001b[38;5;124m\"\u001b[39m)\n",
      "\u001b[0;31mAttributeError\u001b[0m: module 'toytree.color' has no attribute 'ToyColor'"
     ]
    }
   ],
   "source": [
    "toytree.color.ToyColor(\"red\")"
   ]
  },
  {
   "cell_type": "code",
   "execution_count": 235,
   "id": "2094a27a",
   "metadata": {},
   "outputs": [
    {
     "data": {
      "text/html": [
       "<div class=\"toyplot-color-LinearMap\" style=\"overflow:hidden; height:auto\"><div style=\"float:left;width:200px;height:20px;background:linear-gradient(to right,rgba(0.0%,0.0%,0.0%,1.000) 0.0%,rgba(5.0%,1.5%,0.9%,1.000) 1.6%,rgba(8.5%,3.0%,1.7%,1.000) 3.2%,rgba(11.1%,4.5%,2.6%,1.000) 4.8%,rgba(13.2%,5.8%,3.4%,1.000) 6.3%,rgba(15.4%,6.7%,4.3%,1.000) 7.9%,rgba(17.8%,7.3%,5.1%,1.000) 9.5%,rgba(20.2%,7.8%,5.8%,1.000) 11.1%,rgba(22.7%,8.3%,6.4%,1.000) 12.7%,rgba(25.2%,8.8%,7.0%,1.000) 14.3%,rgba(27.7%,9.3%,7.5%,1.000) 15.9%,rgba(30.3%,9.8%,7.9%,1.000) 17.5%,rgba(32.9%,10.2%,8.3%,1.000) 19.0%,rgba(35.6%,10.6%,8.8%,1.000) 20.6%,rgba(38.3%,10.9%,9.2%,1.000) 22.2%,rgba(41.0%,11.3%,9.6%,1.000) 23.8%,rgba(43.7%,11.6%,10.0%,1.000) 25.4%,rgba(46.5%,11.9%,10.5%,1.000) 27.0%,rgba(49.3%,12.1%,10.9%,1.000) 28.6%,rgba(52.2%,12.4%,11.3%,1.000) 30.2%,rgba(55.0%,12.6%,11.7%,1.000) 31.7%,rgba(57.9%,12.7%,12.2%,1.000) 33.3%,rgba(60.8%,12.8%,12.6%,1.000) 34.9%,rgba(63.7%,12.9%,13.0%,1.000) 36.5%,rgba(66.7%,13.0%,13.5%,1.000) 38.1%,rgba(69.1%,14.1%,13.6%,1.000) 39.7%,rgba(70.6%,17.0%,13.3%,1.000) 41.3%,rgba(72.2%,19.7%,12.8%,1.000) 42.9%,rgba(73.7%,22.2%,12.3%,1.000) 44.4%,rgba(75.2%,24.6%,11.8%,1.000) 46.0%,rgba(76.7%,26.8%,11.1%,1.000) 47.6%,rgba(78.2%,29.1%,10.4%,1.000) 49.2%,rgba(79.7%,31.3%,9.6%,1.000) 50.8%,rgba(81.2%,33.4%,8.6%,1.000) 52.4%,rgba(82.7%,35.5%,7.4%,1.000) 54.0%,rgba(84.2%,37.6%,5.9%,1.000) 55.6%,rgba(85.7%,39.7%,4.0%,1.000) 57.1%,rgba(87.0%,41.9%,2.0%,1.000) 58.7%,rgba(87.4%,44.7%,1.8%,1.000) 60.3%,rgba(87.8%,47.5%,1.7%,1.000) 61.9%,rgba(88.1%,50.2%,1.6%,1.000) 63.5%,rgba(88.5%,52.8%,1.5%,1.000) 65.1%,rgba(88.7%,55.5%,1.4%,1.000) 66.7%,rgba(89.0%,58.0%,1.3%,1.000) 68.3%,rgba(89.2%,60.6%,1.3%,1.000) 69.8%,rgba(89.4%,63.1%,1.3%,1.000) 71.4%,rgba(89.5%,65.7%,1.3%,1.000) 73.0%,rgba(89.7%,68.2%,1.4%,1.000) 74.6%,rgba(89.8%,70.6%,1.5%,1.000) 76.2%,rgba(89.8%,73.1%,1.6%,1.000) 77.8%,rgba(89.8%,75.6%,1.7%,1.000) 79.4%,rgba(89.8%,78.0%,1.9%,1.000) 81.0%,rgba(89.7%,80.5%,2.1%,1.000) 82.5%,rgba(89.7%,82.9%,2.4%,1.000) 84.1%,rgba(91.4%,84.6%,22.3%,1.000) 85.7%,rgba(93.0%,86.2%,33.2%,1.000) 87.3%,rgba(94.4%,87.9%,42.5%,1.000) 88.9%,rgba(95.7%,89.6%,51.2%,1.000) 90.5%,rgba(96.9%,91.3%,59.5%,1.000) 92.1%,rgba(97.9%,93.0%,67.7%,1.000) 93.7%,rgba(98.7%,94.7%,75.8%,1.000) 95.2%,rgba(99.3%,96.4%,83.8%,1.000) 96.8%,rgba(99.8%,98.2%,91.9%,1.000) 98.4%,rgba(100.0%,100.0%,100.0%,1.000) 100.0%)\"></div></div>"
      ],
      "text/plain": [
       "<toyplot.color.LinearMap at 0x7f343fc07f70>"
      ]
     },
     "execution_count": 235,
     "metadata": {},
     "output_type": "execute_result"
    }
   ],
   "source": [
    "toyplot.color.linear.map(\"Blackbody\")# domain_min=0, domain_max=10).colors([1, 2, 3, 4, 5, 6, 2])"
   ]
  },
  {
   "cell_type": "code",
   "execution_count": 223,
   "id": "0835ee7a",
   "metadata": {},
   "outputs": [
    {
     "data": {
      "text/html": [
       "<div class=\"toyplot-color-Swatches\" style=\"overflow:hidden; height:auto\"><div style=\"float:left;width:20px;height:20px;margin-right:5px;background-color:rgba(23.0%,29.9%,75.4%,1.000)\"></div><div style=\"float:left;width:20px;height:20px;margin-right:5px;background-color:rgba(86.5%,86.5%,86.5%,1.000)\"></div><div style=\"float:left;width:20px;height:20px;margin-right:5px;background-color:rgba(70.6%,1.6%,15.0%,1.000)\"></div></div>"
      ],
      "text/plain": [
       "array([(0.23003265, 0.29899933, 0.75400176, 1.),\n",
       "       (0.86539042, 0.86541865, 0.86532601, 1.),\n",
       "       (0.7059977 , 0.01612647, 0.15000112, 1.)],\n",
       "      dtype=[('r', '<f8'), ('g', '<f8'), ('b', '<f8'), ('a', '<f8')])"
      ]
     },
     "execution_count": 223,
     "metadata": {},
     "output_type": "execute_result"
    }
   ],
   "source": [
    "toyplot.color.DivergingMap().colors([2, 3, 4])#\"blue\", \"red\", domain_min=0, domain_max=100)#.color(3)"
   ]
  },
  {
   "cell_type": "code",
   "execution_count": 222,
   "id": "3ba73cdf",
   "metadata": {},
   "outputs": [
    {
     "ename": "ValueError",
     "evalue": "shape mismatch: objects cannot be broadcast to a single shape",
     "output_type": "error",
     "traceback": [
      "\u001b[0;31m---------------------------------------------------------------------------\u001b[0m",
      "\u001b[0;31mValueError\u001b[0m                                Traceback (most recent call last)",
      "Input \u001b[0;32mIn [222]\u001b[0m, in \u001b[0;36m<cell line: 1>\u001b[0;34m()\u001b[0m\n\u001b[0;32m----> 1\u001b[0m \u001b[43mtree\u001b[49m\u001b[38;5;241;43m.\u001b[39;49m\u001b[43mdraw\u001b[49m\u001b[43m(\u001b[49m\u001b[43mnode_colors\u001b[49m\u001b[38;5;241;43m=\u001b[39;49m\u001b[43mtoyplot\u001b[49m\u001b[38;5;241;43m.\u001b[39;49m\u001b[43mcolor\u001b[49m\u001b[38;5;241;43m.\u001b[39;49m\u001b[43mbrewer\u001b[49m\u001b[38;5;241;43m.\u001b[39;49m\u001b[43mpalette\u001b[49m\u001b[43m(\u001b[49m\u001b[38;5;124;43m\"\u001b[39;49m\u001b[38;5;124;43mSet2\u001b[39;49m\u001b[38;5;124;43m\"\u001b[39;49m\u001b[43m,\u001b[49m\u001b[43m \u001b[49m\u001b[43mcount\u001b[49m\u001b[38;5;241;43m=\u001b[39;49m\u001b[38;5;241;43m7\u001b[39;49m\u001b[43m)\u001b[49m\u001b[43m)\u001b[49m\n",
      "File \u001b[0;32m~/Documents/toytree/toytree/core/tree.py:1740\u001b[0m, in \u001b[0;36mToyTree.draw\u001b[0;34m(self, tree_style, height, width, axes, layout, tip_labels, tip_labels_colors, tip_labels_angles, tip_labels_style, tip_labels_align, node_mask, node_labels, node_labels_style, node_sizes, node_colors, node_style, node_hover, node_markers, edge_colors, edge_widths, edge_type, edge_style, edge_align_style, use_edge_lengths, scale_bar, padding, xbaseline, ybaseline, admixture_edges, shrink, fixed_order, fixed_position, **kwargs)\u001b[0m\n\u001b[1;32m   1552\u001b[0m \u001b[38;5;28;01mdef\u001b[39;00m \u001b[38;5;21mdraw\u001b[39m(\n\u001b[1;32m   1553\u001b[0m     \u001b[38;5;28mself\u001b[39m,\n\u001b[1;32m   1554\u001b[0m     tree_style: Optional[\u001b[38;5;28mstr\u001b[39m]\u001b[38;5;241m=\u001b[39m\u001b[38;5;28;01mNone\u001b[39;00m,\n\u001b[0;32m   (...)\u001b[0m\n\u001b[1;32m   1586\u001b[0m     \u001b[38;5;241m*\u001b[39m\u001b[38;5;241m*\u001b[39mkwargs,\n\u001b[1;32m   1587\u001b[0m     ) \u001b[38;5;241m-\u001b[39m\u001b[38;5;241m>\u001b[39m Tuple[Canvas, Cartesian, ToytreeMark]:\n\u001b[1;32m   1588\u001b[0m     \u001b[38;5;124;03m\"\"\"Return a drawing on the tree as a Toyplot figure.\u001b[39;00m\n\u001b[1;32m   1589\u001b[0m \n\u001b[1;32m   1590\u001b[0m \u001b[38;5;124;03m    The drawing function return a tuple of Toyplot objects as\u001b[39;00m\n\u001b[0;32m   (...)\u001b[0m\n\u001b[1;32m   1738\u001b[0m \u001b[38;5;124;03m    >>> toyplot.svg.render(canvas, \"saved-plot.svg\")\u001b[39;00m\n\u001b[1;32m   1739\u001b[0m \u001b[38;5;124;03m    \"\"\"\u001b[39;00m\n\u001b[0;32m-> 1740\u001b[0m     \u001b[38;5;28;01mreturn\u001b[39;00m \u001b[43mdraw_toytree\u001b[49m\u001b[43m(\u001b[49m\n\u001b[1;32m   1741\u001b[0m \u001b[43m        \u001b[49m\u001b[43mtoytree\u001b[49m\u001b[38;5;241;43m=\u001b[39;49m\u001b[38;5;28;43mself\u001b[39;49m\u001b[43m,\u001b[49m\n\u001b[1;32m   1742\u001b[0m \u001b[43m        \u001b[49m\u001b[43mtree_style\u001b[49m\u001b[38;5;241;43m=\u001b[39;49m\u001b[43mtree_style\u001b[49m\u001b[43m,\u001b[49m\n\u001b[1;32m   1743\u001b[0m \u001b[43m        \u001b[49m\u001b[43maxes\u001b[49m\u001b[38;5;241;43m=\u001b[39;49m\u001b[43maxes\u001b[49m\u001b[43m,\u001b[49m\n\u001b[1;32m   1744\u001b[0m \u001b[43m        \u001b[49m\u001b[43mheight\u001b[49m\u001b[38;5;241;43m=\u001b[39;49m\u001b[43mheight\u001b[49m\u001b[43m,\u001b[49m\n\u001b[1;32m   1745\u001b[0m \u001b[43m        \u001b[49m\u001b[43mwidth\u001b[49m\u001b[38;5;241;43m=\u001b[39;49m\u001b[43mwidth\u001b[49m\u001b[43m,\u001b[49m\n\u001b[1;32m   1746\u001b[0m \u001b[43m        \u001b[49m\u001b[43mlayout\u001b[49m\u001b[38;5;241;43m=\u001b[39;49m\u001b[43mlayout\u001b[49m\u001b[43m,\u001b[49m\n\u001b[1;32m   1747\u001b[0m \u001b[43m        \u001b[49m\u001b[43mtip_labels\u001b[49m\u001b[38;5;241;43m=\u001b[39;49m\u001b[43mtip_labels\u001b[49m\u001b[43m,\u001b[49m\n\u001b[1;32m   1748\u001b[0m \u001b[43m        \u001b[49m\u001b[43mtip_labels_colors\u001b[49m\u001b[38;5;241;43m=\u001b[39;49m\u001b[43mtip_labels_colors\u001b[49m\u001b[43m,\u001b[49m\n\u001b[1;32m   1749\u001b[0m \u001b[43m        \u001b[49m\u001b[43mtip_labels_align\u001b[49m\u001b[38;5;241;43m=\u001b[39;49m\u001b[43mtip_labels_align\u001b[49m\u001b[43m,\u001b[49m\n\u001b[1;32m   1750\u001b[0m \u001b[43m        \u001b[49m\u001b[43mtip_labels_angles\u001b[49m\u001b[38;5;241;43m=\u001b[39;49m\u001b[43mtip_labels_angles\u001b[49m\u001b[43m,\u001b[49m\n\u001b[1;32m   1751\u001b[0m \u001b[43m        \u001b[49m\u001b[43mtip_labels_style\u001b[49m\u001b[38;5;241;43m=\u001b[39;49m\u001b[43mtip_labels_style\u001b[49m\u001b[43m,\u001b[49m\n\u001b[1;32m   1752\u001b[0m \u001b[43m        \u001b[49m\u001b[43mnode_mask\u001b[49m\u001b[38;5;241;43m=\u001b[39;49m\u001b[43mnode_mask\u001b[49m\u001b[43m,\u001b[49m\n\u001b[1;32m   1753\u001b[0m \u001b[43m        \u001b[49m\u001b[43mnode_labels\u001b[49m\u001b[38;5;241;43m=\u001b[39;49m\u001b[43mnode_labels\u001b[49m\u001b[43m,\u001b[49m\n\u001b[1;32m   1754\u001b[0m \u001b[43m        \u001b[49m\u001b[43mnode_labels_style\u001b[49m\u001b[38;5;241;43m=\u001b[39;49m\u001b[43mnode_labels_style\u001b[49m\u001b[43m,\u001b[49m\n\u001b[1;32m   1755\u001b[0m \u001b[43m        \u001b[49m\u001b[43mnode_sizes\u001b[49m\u001b[38;5;241;43m=\u001b[39;49m\u001b[43mnode_sizes\u001b[49m\u001b[43m,\u001b[49m\n\u001b[1;32m   1756\u001b[0m \u001b[43m        \u001b[49m\u001b[43mnode_hover\u001b[49m\u001b[38;5;241;43m=\u001b[39;49m\u001b[43mnode_hover\u001b[49m\u001b[43m,\u001b[49m\n\u001b[1;32m   1757\u001b[0m \u001b[43m        \u001b[49m\u001b[43mnode_style\u001b[49m\u001b[38;5;241;43m=\u001b[39;49m\u001b[43mnode_style\u001b[49m\u001b[43m,\u001b[49m\n\u001b[1;32m   1758\u001b[0m \u001b[43m        \u001b[49m\u001b[43mnode_colors\u001b[49m\u001b[38;5;241;43m=\u001b[39;49m\u001b[43mnode_colors\u001b[49m\u001b[43m,\u001b[49m\n\u001b[1;32m   1759\u001b[0m \u001b[43m        \u001b[49m\u001b[43mnode_markers\u001b[49m\u001b[38;5;241;43m=\u001b[39;49m\u001b[43mnode_markers\u001b[49m\u001b[43m,\u001b[49m\n\u001b[1;32m   1760\u001b[0m \u001b[43m        \u001b[49m\u001b[43medge_type\u001b[49m\u001b[38;5;241;43m=\u001b[39;49m\u001b[43medge_type\u001b[49m\u001b[43m,\u001b[49m\n\u001b[1;32m   1761\u001b[0m \u001b[43m        \u001b[49m\u001b[43medge_colors\u001b[49m\u001b[38;5;241;43m=\u001b[39;49m\u001b[43medge_colors\u001b[49m\u001b[43m,\u001b[49m\n\u001b[1;32m   1762\u001b[0m \u001b[43m        \u001b[49m\u001b[43medge_widths\u001b[49m\u001b[38;5;241;43m=\u001b[39;49m\u001b[43medge_widths\u001b[49m\u001b[43m,\u001b[49m\n\u001b[1;32m   1763\u001b[0m \u001b[43m        \u001b[49m\u001b[43medge_style\u001b[49m\u001b[38;5;241;43m=\u001b[39;49m\u001b[43medge_style\u001b[49m\u001b[43m,\u001b[49m\n\u001b[1;32m   1764\u001b[0m \u001b[43m        \u001b[49m\u001b[43medge_align_style\u001b[49m\u001b[38;5;241;43m=\u001b[39;49m\u001b[43medge_align_style\u001b[49m\u001b[43m,\u001b[49m\n\u001b[1;32m   1765\u001b[0m \u001b[43m        \u001b[49m\u001b[43muse_edge_lengths\u001b[49m\u001b[38;5;241;43m=\u001b[39;49m\u001b[43muse_edge_lengths\u001b[49m\u001b[43m,\u001b[49m\n\u001b[1;32m   1766\u001b[0m \u001b[43m        \u001b[49m\u001b[43mscale_bar\u001b[49m\u001b[38;5;241;43m=\u001b[39;49m\u001b[43mscale_bar\u001b[49m\u001b[43m,\u001b[49m\n\u001b[1;32m   1767\u001b[0m \u001b[43m        \u001b[49m\u001b[43mpadding\u001b[49m\u001b[38;5;241;43m=\u001b[39;49m\u001b[43mpadding\u001b[49m\u001b[43m,\u001b[49m\n\u001b[1;32m   1768\u001b[0m \u001b[43m        \u001b[49m\u001b[43mxbaseline\u001b[49m\u001b[38;5;241;43m=\u001b[39;49m\u001b[43mxbaseline\u001b[49m\u001b[43m,\u001b[49m\n\u001b[1;32m   1769\u001b[0m \u001b[43m        \u001b[49m\u001b[43mybaseline\u001b[49m\u001b[38;5;241;43m=\u001b[39;49m\u001b[43mybaseline\u001b[49m\u001b[43m,\u001b[49m\n\u001b[1;32m   1770\u001b[0m \u001b[43m        \u001b[49m\u001b[43madmixture_edges\u001b[49m\u001b[38;5;241;43m=\u001b[39;49m\u001b[43madmixture_edges\u001b[49m\u001b[43m,\u001b[49m\n\u001b[1;32m   1771\u001b[0m \u001b[43m        \u001b[49m\u001b[43mshrink\u001b[49m\u001b[38;5;241;43m=\u001b[39;49m\u001b[43mshrink\u001b[49m\u001b[43m,\u001b[49m\n\u001b[1;32m   1772\u001b[0m \u001b[43m        \u001b[49m\u001b[43mfixed_order\u001b[49m\u001b[38;5;241;43m=\u001b[39;49m\u001b[43mfixed_order\u001b[49m\u001b[43m,\u001b[49m\n\u001b[1;32m   1773\u001b[0m \u001b[43m        \u001b[49m\u001b[43mfixed_position\u001b[49m\u001b[38;5;241;43m=\u001b[39;49m\u001b[43mfixed_position\u001b[49m\u001b[43m,\u001b[49m\n\u001b[1;32m   1774\u001b[0m \u001b[43m        \u001b[49m\u001b[43mkwargs\u001b[49m\u001b[38;5;241;43m=\u001b[39;49m\u001b[43mkwargs\u001b[49m\u001b[43m,\u001b[49m\n\u001b[1;32m   1775\u001b[0m \u001b[43m    \u001b[49m\u001b[43m)\u001b[49m\n",
      "File \u001b[0;32m~/Documents/toytree/toytree/core/drawing/draw_toytree.py:76\u001b[0m, in \u001b[0;36mdraw_toytree\u001b[0;34m(**kwargs)\u001b[0m\n\u001b[1;32m     73\u001b[0m     style\u001b[38;5;241m.\u001b[39mtip_labels_angles \u001b[38;5;241m=\u001b[39m layout\u001b[38;5;241m.\u001b[39mangles\n\u001b[1;32m     75\u001b[0m \u001b[38;5;66;03m# check all styles and expand in-place to array values for all nodes\u001b[39;00m\n\u001b[0;32m---> 76\u001b[0m \u001b[43mstyle\u001b[49m\u001b[38;5;241;43m.\u001b[39;49m\u001b[43mvalidate\u001b[49m\u001b[43m(\u001b[49m\u001b[43mtree\u001b[49m\u001b[38;5;241;43m=\u001b[39;49m\u001b[43mtree\u001b[49m\u001b[43m)\u001b[49m\n\u001b[1;32m     78\u001b[0m \u001b[38;5;66;03m# get canvas and axes\u001b[39;00m\n\u001b[1;32m     79\u001b[0m csetup \u001b[38;5;241m=\u001b[39m CanvasSetup(tree, axes, style)\n",
      "File \u001b[0;32m~/Documents/toytree/toytree/core/style.py:165\u001b[0m, in \u001b[0;36mTreeStyle.validate\u001b[0;34m(self, tree)\u001b[0m\n\u001b[1;32m    153\u001b[0m \u001b[38;5;124;03m\"\"\"Expand style args and convert types.\u001b[39;00m\n\u001b[1;32m    154\u001b[0m \n\u001b[1;32m    155\u001b[0m \u001b[38;5;124;03mExpand iterable style entires to None or ndarray, and\u001b[39;00m\n\u001b[0;32m   (...)\u001b[0m\n\u001b[1;32m    162\u001b[0m \u001b[38;5;124;03mTODO: make faster,this is always called when?\u001b[39;00m\n\u001b[1;32m    163\u001b[0m \u001b[38;5;124;03m\"\"\"\u001b[39;00m\n\u001b[1;32m    164\u001b[0m \u001b[38;5;28mself\u001b[39m\u001b[38;5;241m.\u001b[39mtree \u001b[38;5;241m=\u001b[39m tree  \u001b[38;5;66;03m# ignore\u001b[39;00m\n\u001b[0;32m--> 165\u001b[0m \u001b[38;5;28;43mself\u001b[39;49m\u001b[38;5;241;43m.\u001b[39;49m\u001b[43m_validate_node_colors\u001b[49m\u001b[43m(\u001b[49m\u001b[43m)\u001b[49m\n\u001b[1;32m    166\u001b[0m \u001b[38;5;28mself\u001b[39m\u001b[38;5;241m.\u001b[39m_validate_node_mask()\n\u001b[1;32m    167\u001b[0m \u001b[38;5;28mself\u001b[39m\u001b[38;5;241m.\u001b[39m_validate_node_sizes()\n",
      "File \u001b[0;32m~/Documents/toytree/toytree/core/style.py:245\u001b[0m, in \u001b[0;36mTreeStyle._validate_node_colors\u001b[0;34m(self)\u001b[0m\n\u001b[1;32m    243\u001b[0m \u001b[38;5;28;01melse\u001b[39;00m:\n\u001b[1;32m    244\u001b[0m     colors \u001b[38;5;241m=\u001b[39m [i\u001b[38;5;241m.\u001b[39mcss \u001b[38;5;28;01mfor\u001b[39;00m i \u001b[38;5;129;01min\u001b[39;00m colors]\n\u001b[0;32m--> 245\u001b[0m     \u001b[38;5;28mself\u001b[39m\u001b[38;5;241m.\u001b[39mnode_colors \u001b[38;5;241m=\u001b[39m \u001b[43mtoyplot\u001b[49m\u001b[38;5;241;43m.\u001b[39;49m\u001b[43mbroadcast\u001b[49m\u001b[38;5;241;43m.\u001b[39;49m\u001b[43mpyobject\u001b[49m\u001b[43m(\u001b[49m\n\u001b[1;32m    246\u001b[0m \u001b[43m        \u001b[49m\u001b[43mcolors\u001b[49m\u001b[43m,\u001b[49m\u001b[43m \u001b[49m\u001b[38;5;28;43mself\u001b[39;49m\u001b[38;5;241;43m.\u001b[39;49m\u001b[43mtree\u001b[49m\u001b[38;5;241;43m.\u001b[39;49m\u001b[43mnnodes\u001b[49m\u001b[43m)\u001b[49m\u001b[38;5;241m.\u001b[39mastype(\u001b[38;5;28mstr\u001b[39m)\n\u001b[1;32m    247\u001b[0m     \u001b[38;5;28mself\u001b[39m\u001b[38;5;241m.\u001b[39mnode_style\u001b[38;5;241m.\u001b[39mfill \u001b[38;5;241m=\u001b[39m \u001b[38;5;28;01mNone\u001b[39;00m\n",
      "File \u001b[0;32m~/miniconda3/envs/ipyrad/lib/python3.9/site-packages/toyplot/broadcast.py:70\u001b[0m, in \u001b[0;36mpyobject\u001b[0;34m(value, shape)\u001b[0m\n\u001b[1;32m     68\u001b[0m     \u001b[38;5;28;01mreturn\u001b[39;00m numpy\u001b[38;5;241m.\u001b[39mreshape(array, shape)\n\u001b[1;32m     69\u001b[0m result \u001b[38;5;241m=\u001b[39m numpy\u001b[38;5;241m.\u001b[39mempty(shape, dtype\u001b[38;5;241m=\u001b[39m\u001b[38;5;124m\"\u001b[39m\u001b[38;5;124mobject\u001b[39m\u001b[38;5;124m\"\u001b[39m)\n\u001b[0;32m---> 70\u001b[0m result\u001b[38;5;241m.\u001b[39mflat \u001b[38;5;241m=\u001b[39m [u \u001b[38;5;28;01mfor\u001b[39;00m u, _ \u001b[38;5;129;01min\u001b[39;00m \u001b[43mnumpy\u001b[49m\u001b[38;5;241;43m.\u001b[39;49m\u001b[43mbroadcast\u001b[49m\u001b[43m(\u001b[49m\u001b[43marray\u001b[49m\u001b[43m,\u001b[49m\u001b[43m \u001b[49m\u001b[43mresult\u001b[49m\u001b[43m)\u001b[49m]\n\u001b[1;32m     71\u001b[0m \u001b[38;5;28;01mreturn\u001b[39;00m result\n",
      "\u001b[0;31mValueError\u001b[0m: shape mismatch: objects cannot be broadcast to a single shape"
     ]
    }
   ],
   "source": [
    "tree.draw(node_colors=toyplot.color.brewer.palette(\"Set2\", count=7))"
   ]
  },
  {
   "cell_type": "code",
   "execution_count": null,
   "id": "297f57f4",
   "metadata": {},
   "outputs": [],
   "source": [
    "y = toyplot.color.Map"
   ]
  },
  {
   "cell_type": "code",
   "execution_count": 207,
   "id": "81a35422",
   "metadata": {},
   "outputs": [
    {
     "ename": "TypeError",
     "evalue": "'DomainHelper' object is not callable",
     "output_type": "error",
     "traceback": [
      "\u001b[0;31m---------------------------------------------------------------------------\u001b[0m",
      "\u001b[0;31mTypeError\u001b[0m                                 Traceback (most recent call last)",
      "Input \u001b[0;32mIn [207]\u001b[0m, in \u001b[0;36m<cell line: 1>\u001b[0;34m()\u001b[0m\n\u001b[0;32m----> 1\u001b[0m \u001b[43my\u001b[49m\u001b[38;5;241;43m.\u001b[39;49m\u001b[43mdomain\u001b[49m\u001b[43m(\u001b[49m\u001b[38;5;241;43m0\u001b[39;49m\u001b[43m)\u001b[49m\n",
      "\u001b[0;31mTypeError\u001b[0m: 'DomainHelper' object is not callable"
     ]
    }
   ],
   "source": []
  },
  {
   "cell_type": "code",
   "execution_count": 182,
   "id": "0e0674b5",
   "metadata": {},
   "outputs": [
    {
     "data": {
      "text/html": [
       "<div class=\"toyplot\" id=\"t8292bc9f6d054d289be5aa4b0acfa195\" style=\"text-align:center\"><svg class=\"toyplot-canvas-Canvas\" xmlns:toyplot=\"http://www.sandia.gov/toyplot\" xmlns:xlink=\"http://www.w3.org/1999/xlink\" xmlns=\"http://www.w3.org/2000/svg\" width=\"260.0px\" height=\"200.5px\" viewBox=\"0 0 260.0 200.5\" preserveAspectRatio=\"xMidYMid meet\" style=\"background-color:transparent;border-color:#292724;border-style:none;border-width:1.0;fill:rgb(16.1%,15.3%,14.1%);fill-opacity:1.0;font-family:Helvetica;font-size:12px;opacity:1.0;stroke:rgb(16.1%,15.3%,14.1%);stroke-opacity:1.0;stroke-width:1.0\" id=\"t3f31bd4012f448b1bbf9255a56c139f1\"><g class=\"toyplot-coordinates-Cartesian\" id=\"td753854d7fc9437991437c584ac984b1\"><clipPath id=\"t995dc4be532a450f9bd1f7cd8cd14779\"><rect x=\"35.0\" y=\"35.0\" width=\"190.0\" height=\"130.5\"></rect></clipPath><g clip-path=\"url(#t995dc4be532a450f9bd1f7cd8cd14779)\"><g class=\"toytree-mark-Toytree\" id=\"t3a1918abf5744810bead1b327da9d7c9\"><g class=\"toytree-Edges\" style=\"fill:none;stroke:rgba(100.0%,100.0%,100.0%,1.000);stroke-linecap:round;stroke-width:2.0\"><path d=\"M 74.7 133.6 L 74.7 144.7 L 172.2 144.7\" id=\"12,0\" style=\"stroke-width:nan\"></path><path d=\"M 123.5 129.9 L 123.5 134.8 L 172.2 134.8\" id=\"10,1\" style=\"stroke-width:nan\"></path><path d=\"M 123.5 129.9 L 123.5 124.9 L 172.2 124.9\" id=\"10,2\" style=\"stroke-width:nan\"></path><path d=\"M 99.1 122.5 L 99.1 115.1 L 172.2 115.1\" id=\"11,3\" style=\"stroke-width:nan\"></path><path d=\"M 123.5 100.2 L 123.5 105.2 L 172.2 105.2\" id=\"13,4\" style=\"stroke-width:nan\"></path><path d=\"M 123.5 100.2 L 123.5 95.3 L 172.2 95.3\" id=\"13,5\" style=\"stroke-width:nan\"></path><path d=\"M 123.5 78.0 L 123.5 85.4 L 172.2 85.4\" id=\"15,6\" style=\"stroke-width:nan\"></path><path d=\"M 147.9 70.6 L 147.9 75.6 L 172.2 75.6\" id=\"14,7\" style=\"stroke-width:nan\"></path><path d=\"M 147.9 70.6 L 147.9 65.7 L 172.2 65.7\" id=\"14,8\" style=\"stroke-width:nan\"></path><path d=\"M 74.7 72.5 L 74.7 55.8 L 172.2 55.8\" id=\"17,9\" style=\"stroke-width:nan\"></path><path d=\"M 99.1 122.5 L 99.1 129.9 L 123.5 129.9\" id=\"11,10\" style=\"stroke-width:nan\"></path><path d=\"M 74.7 133.6 L 74.7 122.5 L 99.1 122.5\" id=\"12,11\" style=\"stroke-width:nan\"></path><path d=\"M 50.3 103.0 L 50.3 133.6 L 74.7 133.6\" id=\"18,12\" style=\"stroke-width:nan\"></path><path d=\"M 99.1 89.1 L 99.1 100.2 L 123.5 100.2\" id=\"16,13\" style=\"stroke-width:nan\"></path><path d=\"M 123.5 78.0 L 123.5 70.6 L 147.9 70.6\" id=\"15,14\" style=\"stroke-width:nan\"></path><path d=\"M 99.1 89.1 L 99.1 78.0 L 123.5 78.0\" id=\"16,15\" style=\"stroke-width:nan\"></path><path d=\"M 74.7 72.5 L 74.7 89.1 L 99.1 89.1\" id=\"17,16\" style=\"stroke-width:nan\"></path><path d=\"M 50.3 103.0 L 50.3 72.5 L 74.7 72.5\" id=\"18,17\" style=\"stroke-width:nan\"></path></g><g class=\"toytree-Nodes\" style=\"fill:rgba(40.0%,76.1%,64.7%,1.000);stroke:#262626;stroke-width:1.0\"><g id=\"node-10\" transform=\"translate(123.483,129.861)\"><title>idx: 10\n",
       "dist: 0.2\n",
       "support: nan\n",
       "height: 0.4\n",
       "name: </title><circle r=\"0.45\"></circle></g><g id=\"node-11\" transform=\"translate(99.103,122.458)\"><title>idx: 11\n",
       "dist: 0.2\n",
       "support: nan\n",
       "height: 0.6\n",
       "name: </title><circle r=\"0.45\"></circle></g><g id=\"node-12\" transform=\"translate(74.723,133.562)\"><title>idx: 12\n",
       "dist: 0.2\n",
       "support: nan\n",
       "height: 0.8\n",
       "name: </title><circle r=\"0.45\"></circle></g><g id=\"node-13\" transform=\"translate(123.483,100.250)\"><title>idx: 13\n",
       "dist: 0.2\n",
       "support: nan\n",
       "height: 0.4\n",
       "name: </title><circle r=\"0.45\"></circle></g><g id=\"node-14\" transform=\"translate(147.863,70.639)\"><title>idx: 14\n",
       "dist: 0.2\n",
       "support: nan\n",
       "height: 0.2\n",
       "name: </title><circle r=\"0.45\"></circle></g><g id=\"node-15\" transform=\"translate(123.483,78.042)\"><title>idx: 15\n",
       "dist: 0.2\n",
       "support: nan\n",
       "height: 0.4\n",
       "name: </title><circle r=\"0.45\"></circle></g><g id=\"node-16\" transform=\"translate(99.103,89.146)\"><title>idx: 16\n",
       "dist: 0.2\n",
       "support: nan\n",
       "height: 0.6\n",
       "name: </title><circle r=\"0.45\"></circle></g><g id=\"node-17\" transform=\"translate(74.723,72.490)\"><title>idx: 17\n",
       "dist: 0.2\n",
       "support: nan\n",
       "height: 0.8\n",
       "name: </title><circle r=\"0.45\"></circle></g><g id=\"node-18\" transform=\"translate(50.343,103.026)\"><title>idx: 18\n",
       "dist: 0.2\n",
       "support: nan\n",
       "height: 1.0\n",
       "name: </title><circle r=\"0.45\"></circle></g></g><g class=\"toytree-TipLabels\" style=\"fill:rgb(16.1%,15.3%,14.1%);fill-opacity:1.0;font-family:Helvetica;font-size:11.0px;font-weight:300;stroke:none;vertical-align:baseline;white-space:pre\"><g class=\"toytree-TipLabel\" transform=\"translate(172.2429621728696,144.66622691292875)\"><text x=\"15.0\" y=\"2.8104999999999993\" style=\"\">r0</text></g><g class=\"toytree-TipLabel\" transform=\"translate(172.2429621728696,134.79595426561124)\"><text x=\"15.0\" y=\"2.8104999999999993\" style=\"\">r1</text></g><g class=\"toytree-TipLabel\" transform=\"translate(172.2429621728696,124.92568161829375)\"><text x=\"15.0\" y=\"2.8104999999999993\" style=\"\">r2</text></g><g class=\"toytree-TipLabel\" transform=\"translate(172.2429621728696,115.05540897097626)\"><text x=\"15.0\" y=\"2.8104999999999993\" style=\"\">r3</text></g><g class=\"toytree-TipLabel\" transform=\"translate(172.2429621728696,105.18513632365875)\"><text x=\"15.0\" y=\"2.8104999999999993\" style=\"\">r4</text></g><g class=\"toytree-TipLabel\" transform=\"translate(172.2429621728696,95.31486367634125)\"><text x=\"15.0\" y=\"2.8104999999999993\" style=\"\">r5</text></g><g class=\"toytree-TipLabel\" transform=\"translate(172.2429621728696,85.44459102902374)\"><text x=\"15.0\" y=\"2.8104999999999993\" style=\"\">r6</text></g><g class=\"toytree-TipLabel\" transform=\"translate(172.2429621728696,75.57431838170623)\"><text x=\"15.0\" y=\"2.8104999999999993\" style=\"\">r7</text></g><g class=\"toytree-TipLabel\" transform=\"translate(172.2429621728696,65.70404573438874)\"><text x=\"15.0\" y=\"2.8104999999999993\" style=\"\">r8</text></g><g class=\"toytree-TipLabel\" transform=\"translate(172.2429621728696,55.83377308707124)\"><text x=\"15.0\" y=\"2.8104999999999993\" style=\"\">r9</text></g></g></g></g><g class=\"toyplot-coordinates-Axis\" id=\"t1d922c6476f44889b492d81b5fa832b7\" transform=\"translate(50.0,150.5)translate(0,15.0)\"><line x1=\"0.34284408213021755\" y1=\"0\" x2=\"122.24296217286961\" y2=\"0\" style=\"\"></line><g><line x1=\"0.34284408213021755\" y1=\"0\" x2=\"0.34284408213021755\" y2=\"-5\" style=\"\"></line><line x1=\"61.29290312749991\" y1=\"0\" x2=\"61.29290312749991\" y2=\"-5\" style=\"\"></line><line x1=\"122.24296217286961\" y1=\"0\" x2=\"122.24296217286961\" y2=\"-5\" style=\"\"></line></g><g><g transform=\"translate(0.34284408213021755,6)\"><text x=\"-8.34\" y=\"8.555\" style=\"fill:rgb(16.1%,15.3%,14.1%);fill-opacity:1.0;font-family:helvetica;font-size:10.0px;font-weight:normal;stroke:none;vertical-align:baseline;white-space:pre\">500</text></g><g transform=\"translate(61.29290312749991,6)\"><text x=\"-8.34\" y=\"8.555\" style=\"fill:rgb(16.1%,15.3%,14.1%);fill-opacity:1.0;font-family:helvetica;font-size:10.0px;font-weight:normal;stroke:none;vertical-align:baseline;white-space:pre\">250</text></g><g transform=\"translate(122.24296217286961,6)\"><text x=\"-2.78\" y=\"8.555\" style=\"fill:rgb(16.1%,15.3%,14.1%);fill-opacity:1.0;font-family:helvetica;font-size:10.0px;font-weight:normal;stroke:none;vertical-align:baseline;white-space:pre\">0</text></g></g><g class=\"toyplot-coordinates-Axis-coordinates\" style=\"visibility:hidden\" transform=\"\"><line x1=\"0\" x2=\"0\" y1=\"-3.0\" y2=\"4.5\" style=\"stroke:rgb(43.9%,50.2%,56.5%);stroke-opacity:1.0;stroke-width:1.0\"></line><text x=\"0\" y=\"-6\" style=\"alignment-baseline:alphabetic;fill:rgb(43.9%,50.2%,56.5%);fill-opacity:1.0;font-size:10px;font-weight:normal;stroke:none;text-anchor:middle\"></text></g></g></g></svg><div class=\"toyplot-behavior\"><script>(function()\n",
       "{\n",
       "var modules={};\n",
       "modules[\"toyplot/canvas/id\"] = \"t3f31bd4012f448b1bbf9255a56c139f1\";\n",
       "modules[\"toyplot/canvas\"] = (function(canvas_id)\n",
       "    {\n",
       "        return document.querySelector(\"#\" + canvas_id);\n",
       "    })(modules[\"toyplot/canvas/id\"]);\n",
       "modules[\"toyplot.coordinates.Axis\"] = (\n",
       "        function(canvas)\n",
       "        {\n",
       "            function sign(x)\n",
       "            {\n",
       "                return x < 0 ? -1 : x > 0 ? 1 : 0;\n",
       "            }\n",
       "\n",
       "            function mix(a, b, amount)\n",
       "            {\n",
       "                return ((1.0 - amount) * a) + (amount * b);\n",
       "            }\n",
       "\n",
       "            function log(x, base)\n",
       "            {\n",
       "                return Math.log(Math.abs(x)) / Math.log(base);\n",
       "            }\n",
       "\n",
       "            function in_range(a, x, b)\n",
       "            {\n",
       "                var left = Math.min(a, b);\n",
       "                var right = Math.max(a, b);\n",
       "                return left <= x && x <= right;\n",
       "            }\n",
       "\n",
       "            function inside(range, projection)\n",
       "            {\n",
       "                for(var i = 0; i != projection.length; ++i)\n",
       "                {\n",
       "                    var segment = projection[i];\n",
       "                    if(in_range(segment.range.min, range, segment.range.max))\n",
       "                        return true;\n",
       "                }\n",
       "                return false;\n",
       "            }\n",
       "\n",
       "            function to_domain(range, projection)\n",
       "            {\n",
       "                for(var i = 0; i != projection.length; ++i)\n",
       "                {\n",
       "                    var segment = projection[i];\n",
       "                    if(in_range(segment.range.bounds.min, range, segment.range.bounds.max))\n",
       "                    {\n",
       "                        if(segment.scale == \"linear\")\n",
       "                        {\n",
       "                            var amount = (range - segment.range.min) / (segment.range.max - segment.range.min);\n",
       "                            return mix(segment.domain.min, segment.domain.max, amount)\n",
       "                        }\n",
       "                        else if(segment.scale[0] == \"log\")\n",
       "                        {\n",
       "                            var amount = (range - segment.range.min) / (segment.range.max - segment.range.min);\n",
       "                            var base = segment.scale[1];\n",
       "                            return sign(segment.domain.min) * Math.pow(base, mix(log(segment.domain.min, base), log(segment.domain.max, base), amount));\n",
       "                        }\n",
       "                    }\n",
       "                }\n",
       "            }\n",
       "\n",
       "            var axes = {};\n",
       "\n",
       "            function display_coordinates(e)\n",
       "            {\n",
       "                var current = canvas.createSVGPoint();\n",
       "                current.x = e.clientX;\n",
       "                current.y = e.clientY;\n",
       "\n",
       "                for(var axis_id in axes)\n",
       "                {\n",
       "                    var axis = document.querySelector(\"#\" + axis_id);\n",
       "                    var coordinates = axis.querySelector(\".toyplot-coordinates-Axis-coordinates\");\n",
       "                    if(coordinates)\n",
       "                    {\n",
       "                        var projection = axes[axis_id];\n",
       "                        var local = current.matrixTransform(axis.getScreenCTM().inverse());\n",
       "                        if(inside(local.x, projection))\n",
       "                        {\n",
       "                            var domain = to_domain(local.x, projection);\n",
       "                            coordinates.style.visibility = \"visible\";\n",
       "                            coordinates.setAttribute(\"transform\", \"translate(\" + local.x + \")\");\n",
       "                            var text = coordinates.querySelector(\"text\");\n",
       "                            text.textContent = domain.toFixed(2);\n",
       "                        }\n",
       "                        else\n",
       "                        {\n",
       "                            coordinates.style.visibility= \"hidden\";\n",
       "                        }\n",
       "                    }\n",
       "                }\n",
       "            }\n",
       "\n",
       "            canvas.addEventListener(\"click\", display_coordinates);\n",
       "\n",
       "            var module = {};\n",
       "            module.show_coordinates = function(axis_id, projection)\n",
       "            {\n",
       "                axes[axis_id] = projection;\n",
       "            }\n",
       "\n",
       "            return module;\n",
       "        })(modules[\"toyplot/canvas\"]);\n",
       "(function(axis, axis_id, projection)\n",
       "        {\n",
       "            axis.show_coordinates(axis_id, projection);\n",
       "        })(modules[\"toyplot.coordinates.Axis\"],\"t1d922c6476f44889b492d81b5fa832b7\",[{\"domain\": {\"bounds\": {\"max\": Infinity, \"min\": -Infinity}, \"max\": 0.3097375, \"min\": -1.0028125}, \"range\": {\"bounds\": {\"max\": Infinity, \"min\": -Infinity}, \"max\": 160.0, \"min\": 0.0}, \"scale\": \"linear\"}]);\n",
       "})();</script></div></div>"
      ]
     },
     "metadata": {},
     "output_type": "display_data"
    }
   ],
   "source": [
    "tree.draw(node_hover=True, node_sizes=0.9, node_mask=None, edge_colors=\"white\", scale_bar=1/500, height=200.5);"
   ]
  },
  {
   "cell_type": "code",
   "execution_count": 82,
   "id": "1ef1bc95",
   "metadata": {},
   "outputs": [],
   "source": [
    "x = np.array([1., 0., 0., 1.0], dtype=[('r', '<f8'), ('g', '<f8'), ('b', '<f8'), ('a', '<f8')])"
   ]
  },
  {
   "cell_type": "code",
   "execution_count": 111,
   "id": "e75ad851",
   "metadata": {},
   "outputs": [],
   "source": [
    "c = toyplot.color.brewer.palette(\"BlueRed\")"
   ]
  },
  {
   "cell_type": "code",
   "execution_count": 125,
   "id": "86d77789",
   "metadata": {},
   "outputs": [
    {
     "data": {
      "text/html": [
       "<div class=\"toyplot-color-Swatch\" style=\"overflow:hidden; height:auto\"><div style=\"float:left;width:20px;height:20px;margin-right:0px;background-color:rgba(82.0%,89.8%,94.1%,1.000)\"></div></div>"
      ],
      "text/plain": [
       "array((0.81960784, 0.89803922, 0.94117647, 1.),\n",
       "      dtype=[('r', '<f8'), ('g', '<f8'), ('b', '<f8'), ('a', '<f8')])"
      ]
     },
     "execution_count": 125,
     "metadata": {},
     "output_type": "execute_result"
    }
   ],
   "source": [
    "c.color(4)"
   ]
  },
  {
   "cell_type": "code",
   "execution_count": 46,
   "id": "f3a768d8",
   "metadata": {},
   "outputs": [],
   "source": [
    "col = toytree.color.Color((0.5, 0.9, .33, 0.5))"
   ]
  },
  {
   "cell_type": "code",
   "execution_count": 50,
   "id": "188b7812",
   "metadata": {},
   "outputs": [
    {
     "data": {
      "text/plain": [
       "<toyplot.mark.Graph at 0x7f8903a3b3d0>"
      ]
     },
     "execution_count": 50,
     "metadata": {},
     "output_type": "execute_result"
    },
    {
     "data": {
      "text/html": [
       "<div class=\"toyplot\" id=\"t727f52c81fc04c92bd740ba8786b9574\" style=\"text-align:center\"><svg class=\"toyplot-canvas-Canvas\" xmlns:toyplot=\"http://www.sandia.gov/toyplot\" xmlns:xlink=\"http://www.w3.org/1999/xlink\" xmlns=\"http://www.w3.org/2000/svg\" width=\"260.0px\" height=\"275.0px\" viewBox=\"0 0 260.0 275.0\" preserveAspectRatio=\"xMidYMid meet\" style=\"background-color:transparent;border-color:#292724;border-style:none;border-width:1.0;fill:rgb(16.1%,15.3%,14.1%);fill-opacity:1.0;font-family:Helvetica;font-size:12px;opacity:1.0;stroke:rgb(16.1%,15.3%,14.1%);stroke-opacity:1.0;stroke-width:1.0\" id=\"t9a4488e7ff3b478d8cf5a964407cda09\"><g class=\"toyplot-coordinates-Cartesian\" id=\"tdd65749427f64778844f347816d47d32\"><clipPath id=\"te455a9e4f711450884d4a82c0a7f1a00\"><rect x=\"35.0\" y=\"35.0\" width=\"190.0\" height=\"205.0\"></rect></clipPath><g clip-path=\"url(#te455a9e4f711450884d4a82c0a7f1a00)\"><g class=\"toytree-mark-Toytree\" id=\"t980a971edf174626b9ddc5839a933513\"><g class=\"toytree-Edges\" style=\"fill:none;stroke:rgba(40.0%,76.1%,64.7%,1.000);stroke-linecap:round;stroke-width:2\"><path d=\"M 111.1 198.5 L 111.1 218.9 L 180.9 218.9\" id=\"12,0\" style=\"stroke-width:nan\"></path><path d=\"M 146.0 191.7 L 146.0 200.8 L 180.9 200.8\" id=\"10,1\" style=\"stroke-width:nan\"></path><path d=\"M 146.0 191.7 L 146.0 182.7 L 180.9 182.7\" id=\"10,2\" style=\"stroke-width:nan\"></path><path d=\"M 128.5 178.2 L 128.5 164.6 L 180.9 164.6\" id=\"11,3\" style=\"stroke-width:nan\"></path><path d=\"M 146.0 137.5 L 146.0 146.5 L 180.9 146.5\" id=\"13,4\" style=\"stroke-width:nan\"></path><path d=\"M 146.0 137.5 L 146.0 128.5 L 180.9 128.5\" id=\"13,5\" style=\"stroke-width:nan\"></path><path d=\"M 146.0 96.8 L 146.0 110.4 L 180.9 110.4\" id=\"15,6\" style=\"stroke-width:nan\"></path><path d=\"M 163.5 83.3 L 163.5 92.3 L 180.9 92.3\" id=\"14,7\" style=\"stroke-width:nan\"></path><path d=\"M 163.5 83.3 L 163.5 74.2 L 180.9 74.2\" id=\"14,8\" style=\"stroke-width:nan\"></path><path d=\"M 111.1 86.6 L 111.1 56.1 L 180.9 56.1\" id=\"17,9\" style=\"stroke-width:nan\"></path><path d=\"M 128.5 178.2 L 128.5 191.7 L 146.0 191.7\" id=\"11,10\" style=\"stroke-width:nan\"></path><path d=\"M 111.1 198.5 L 111.1 178.2 L 128.5 178.2\" id=\"12,11\" style=\"stroke-width:nan\"></path><path d=\"M 93.6 142.6 L 93.6 198.5 L 111.1 198.5\" id=\"18,12\" style=\"stroke-width:nan\"></path><path d=\"M 128.5 117.2 L 128.5 137.5 L 146.0 137.5\" id=\"16,13\" style=\"stroke-width:nan\"></path><path d=\"M 146.0 96.8 L 146.0 83.3 L 163.5 83.3\" id=\"15,14\" style=\"stroke-width:nan\"></path><path d=\"M 128.5 117.2 L 128.5 96.8 L 146.0 96.8\" id=\"16,15\" style=\"stroke-width:nan\"></path><path d=\"M 111.1 86.6 L 111.1 117.2 L 128.5 117.2\" id=\"17,16\" style=\"stroke-width:nan\"></path><path d=\"M 93.6 142.6 L 93.6 86.6 L 111.1 86.6\" id=\"18,17\" style=\"stroke-width:nan\"></path></g><g class=\"toytree-TipLabels\" style=\"fill:rgb(90.6%,54.1%,76.5%);fill-opacity:1.0;font-family:Helvetica;font-size:11.0px;font-weight:300;stroke:none;vertical-align:baseline;white-space:pre\"><g class=\"toytree-TipLabel\" transform=\"translate(180.90745456590884,218.86291179596174)\"><text x=\"8.0\" y=\"2.8104999999999993\" style=\"\">r0</text></g><g class=\"toytree-TipLabel\" transform=\"translate(180.90745456590884,200.78226473019248)\"><text x=\"8.0\" y=\"2.8104999999999993\" style=\"\">r1</text></g><g class=\"toytree-TipLabel\" transform=\"translate(180.90745456590884,182.70161766442322)\"><text x=\"8.0\" y=\"2.8104999999999993\" style=\"\">r2</text></g><g class=\"toytree-TipLabel\" transform=\"translate(180.90745456590884,164.6209705986539)\"><text x=\"8.0\" y=\"2.8104999999999993\" style=\"\">r3</text></g><g class=\"toytree-TipLabel\" transform=\"translate(180.90745456590884,146.54032353288463)\"><text x=\"8.0\" y=\"2.8104999999999993\" style=\"\">r4</text></g><g class=\"toytree-TipLabel\" transform=\"translate(180.90745456590884,128.45967646711534)\"><text x=\"8.0\" y=\"2.8104999999999993\" style=\"\">r5</text></g><g class=\"toytree-TipLabel\" transform=\"translate(180.90745456590884,110.37902940134609)\"><text x=\"8.0\" y=\"2.8104999999999993\" style=\"\">r6</text></g><g class=\"toytree-TipLabel\" transform=\"translate(180.90745456590884,92.2983823355768)\"><text x=\"8.0\" y=\"2.8104999999999993\" style=\"\">r7</text></g><g class=\"toytree-TipLabel\" transform=\"translate(180.90745456590884,74.2177352698075)\"><text x=\"8.0\" y=\"2.8104999999999993\" style=\"\">r8</text></g><g class=\"toytree-TipLabel\" transform=\"translate(180.90745456590884,56.137088204038236)\"><text x=\"8.0\" y=\"2.8104999999999993\" style=\"\">r9</text></g></g></g><g class=\"toyplot-mark-Graph\" id=\"ta31ca9f8207d45c392177bffc0676ef1\"><g class=\"toyplot-Edges\"><path d=\"M 93.63581818863628 128.45967646711534 L 50.0 128.45967646711534\" style=\"fill:none;stroke:rgb(50%,90%,33%);stroke-opacity:0.45;stroke-width:2.0\"></path><g class=\"toyplot-HeadMarkers\"></g><g class=\"toyplot-MiddleMarkers\"></g><g class=\"toyplot-TailMarkers\"></g></g><g class=\"toyplot-Vertices\"><g style=\"fill:rgb(40%,76.1%,64.7%);fill-opacity:1.0;opacity:1.0;stroke:rgb(40%,76.1%,64.7%);stroke-opacity:1.0\" class=\"toyplot-Datum\" transform=\"translate(93.63581818863628, 128.45967646711534)\"><circle r=\"0.0\"></circle></g><g style=\"fill:rgb(40%,76.1%,64.7%);fill-opacity:1.0;opacity:1.0;stroke:rgb(40%,76.1%,64.7%);stroke-opacity:1.0\" class=\"toyplot-Datum\" transform=\"translate(50.0, 128.45967646711534)\"><circle r=\"0.0\"></circle></g></g><g class=\"toyplot-Labels\"></g></g></g><g class=\"toyplot-coordinates-Axis\" id=\"t3f0105397f274e5795bfc7d8e7674b76\" transform=\"translate(50.0,225.0)translate(0,15.0)\"><line x1=\"0\" y1=\"0\" x2=\"130.90745456590884\" y2=\"0\" style=\"\"></line><g><line x1=\"43.635818188636286\" y1=\"0\" x2=\"43.635818188636286\" y2=\"-5\" style=\"\"></line><line x1=\"87.27163637727257\" y1=\"0\" x2=\"87.27163637727257\" y2=\"-5\" style=\"\"></line><line x1=\"130.90745456590884\" y1=\"0\" x2=\"130.90745456590884\" y2=\"-5\" style=\"\"></line></g><g><g transform=\"translate(43.635818188636286,6)\"><text x=\"-2.78\" y=\"8.555\" style=\"fill:rgb(16.1%,15.3%,14.1%);fill-opacity:1.0;font-family:helvetica;font-size:10.0px;font-weight:normal;stroke:none;vertical-align:baseline;white-space:pre\">1</text></g><g transform=\"translate(87.27163637727257,6)\"><text x=\"-6.95\" y=\"8.555\" style=\"fill:rgb(16.1%,15.3%,14.1%);fill-opacity:1.0;font-family:helvetica;font-size:10.0px;font-weight:normal;stroke:none;vertical-align:baseline;white-space:pre\">0.5</text></g><g transform=\"translate(130.90745456590884,6)\"><text x=\"-2.78\" y=\"8.555\" style=\"fill:rgb(16.1%,15.3%,14.1%);fill-opacity:1.0;font-family:helvetica;font-size:10.0px;font-weight:normal;stroke:none;vertical-align:baseline;white-space:pre\">0</text></g></g><g class=\"toyplot-coordinates-Axis-coordinates\" style=\"visibility:hidden\" transform=\"\"><line x1=\"0\" x2=\"0\" y1=\"-3.0\" y2=\"4.5\" style=\"stroke:rgb(43.9%,50.2%,56.5%);stroke-opacity:1.0;stroke-width:1.0\"></line><text x=\"0\" y=\"-6\" style=\"alignment-baseline:alphabetic;fill:rgb(43.9%,50.2%,56.5%);fill-opacity:1.0;font-size:10px;font-weight:normal;stroke:none;text-anchor:middle\"></text></g></g></g></svg><div class=\"toyplot-behavior\"><script>(function()\n",
       "{\n",
       "var modules={};\n",
       "modules[\"toyplot/tables\"] = (function()\n",
       "    {\n",
       "        var tables = [];\n",
       "\n",
       "        var module = {};\n",
       "\n",
       "        module.set = function(owner, key, names, columns)\n",
       "        {\n",
       "            tables.push({owner: owner, key: key, names: names, columns: columns});\n",
       "        }\n",
       "\n",
       "        module.get = function(owner, key)\n",
       "        {\n",
       "            for(var i = 0; i != tables.length; ++i)\n",
       "            {\n",
       "                var table = tables[i];\n",
       "                if(table.owner != owner)\n",
       "                    continue;\n",
       "                if(table.key != key)\n",
       "                    continue;\n",
       "                return {names: table.names, columns: table.columns};\n",
       "            }\n",
       "        }\n",
       "\n",
       "        module.get_csv = function(owner, key)\n",
       "        {\n",
       "            var table = module.get(owner, key);\n",
       "            if(table != undefined)\n",
       "            {\n",
       "                var csv = \"\";\n",
       "                csv += table.names.join(\",\") + \"\\n\";\n",
       "                for(var i = 0; i != table.columns[0].length; ++i)\n",
       "                {\n",
       "                  for(var j = 0; j != table.columns.length; ++j)\n",
       "                  {\n",
       "                    if(j)\n",
       "                      csv += \",\";\n",
       "                    csv += table.columns[j][i];\n",
       "                  }\n",
       "                  csv += \"\\n\";\n",
       "                }\n",
       "                return csv;\n",
       "            }\n",
       "        }\n",
       "\n",
       "        return module;\n",
       "    })();\n",
       "modules[\"toyplot/root/id\"] = \"t727f52c81fc04c92bd740ba8786b9574\";\n",
       "modules[\"toyplot/root\"] = (function(root_id)\n",
       "    {\n",
       "        return document.querySelector(\"#\" + root_id);\n",
       "    })(modules[\"toyplot/root/id\"]);\n",
       "modules[\"toyplot/canvas/id\"] = \"t9a4488e7ff3b478d8cf5a964407cda09\";\n",
       "modules[\"toyplot/canvas\"] = (function(canvas_id)\n",
       "    {\n",
       "        return document.querySelector(\"#\" + canvas_id);\n",
       "    })(modules[\"toyplot/canvas/id\"]);\n",
       "modules[\"toyplot/menus/context\"] = (function(root, canvas)\n",
       "    {\n",
       "        var wrapper = document.createElement(\"div\");\n",
       "        wrapper.innerHTML = \"<ul class='toyplot-context-menu' style='background:#eee; border:1px solid #b8b8b8; border-radius:5px; box-shadow: 0px 0px 8px rgba(0%,0%,0%,0.25); margin:0; padding:3px 0; position:fixed; visibility:hidden;'></ul>\"\n",
       "        var menu = wrapper.firstChild;\n",
       "\n",
       "        root.appendChild(menu);\n",
       "\n",
       "        var items = [];\n",
       "\n",
       "        var ignore_mouseup = null;\n",
       "        function open_menu(e)\n",
       "        {\n",
       "            var show_menu = false;\n",
       "            for(var index=0; index != items.length; ++index)\n",
       "            {\n",
       "                var item = items[index];\n",
       "                if(item.show(e))\n",
       "                {\n",
       "                    item.item.style.display = \"block\";\n",
       "                    show_menu = true;\n",
       "                }\n",
       "                else\n",
       "                {\n",
       "                    item.item.style.display = \"none\";\n",
       "                }\n",
       "            }\n",
       "\n",
       "            if(show_menu)\n",
       "            {\n",
       "                ignore_mouseup = true;\n",
       "                menu.style.left = (e.clientX + 1) + \"px\";\n",
       "                menu.style.top = (e.clientY - 5) + \"px\";\n",
       "                menu.style.visibility = \"visible\";\n",
       "                e.stopPropagation();\n",
       "                e.preventDefault();\n",
       "            }\n",
       "        }\n",
       "\n",
       "        function close_menu()\n",
       "        {\n",
       "            menu.style.visibility = \"hidden\";\n",
       "        }\n",
       "\n",
       "        function contextmenu(e)\n",
       "        {\n",
       "            open_menu(e);\n",
       "        }\n",
       "\n",
       "        function mousemove(e)\n",
       "        {\n",
       "            ignore_mouseup = false;\n",
       "        }\n",
       "\n",
       "        function mouseup(e)\n",
       "        {\n",
       "            if(ignore_mouseup)\n",
       "            {\n",
       "                ignore_mouseup = false;\n",
       "                return;\n",
       "            }\n",
       "            close_menu();\n",
       "        }\n",
       "\n",
       "        function keydown(e)\n",
       "        {\n",
       "            if(e.key == \"Escape\" || e.key == \"Esc\" || e.keyCode == 27)\n",
       "            {\n",
       "                close_menu();\n",
       "            }\n",
       "        }\n",
       "\n",
       "        canvas.addEventListener(\"contextmenu\", contextmenu);\n",
       "        canvas.addEventListener(\"mousemove\", mousemove);\n",
       "        document.addEventListener(\"mouseup\", mouseup);\n",
       "        document.addEventListener(\"keydown\", keydown);\n",
       "\n",
       "        var module = {};\n",
       "        module.add_item = function(label, show, activate)\n",
       "        {\n",
       "            var wrapper = document.createElement(\"div\");\n",
       "            wrapper.innerHTML = \"<li class='toyplot-context-menu-item' style='background:#eee; color:#333; padding:2px 20px; list-style:none; margin:0; text-align:left;'>\" + label + \"</li>\"\n",
       "            var item = wrapper.firstChild;\n",
       "\n",
       "            items.push({item: item, show: show});\n",
       "\n",
       "            function mouseover()\n",
       "            {\n",
       "                this.style.background = \"steelblue\";\n",
       "                this.style.color = \"white\";\n",
       "            }\n",
       "\n",
       "            function mouseout()\n",
       "            {\n",
       "                this.style.background = \"#eee\";\n",
       "                this.style.color = \"#333\";\n",
       "            }\n",
       "\n",
       "            function choose_item(e)\n",
       "            {\n",
       "                close_menu();\n",
       "                activate();\n",
       "\n",
       "                e.stopPropagation();\n",
       "                e.preventDefault();\n",
       "            }\n",
       "\n",
       "            item.addEventListener(\"mouseover\", mouseover);\n",
       "            item.addEventListener(\"mouseout\", mouseout);\n",
       "            item.addEventListener(\"mouseup\", choose_item);\n",
       "            item.addEventListener(\"contextmenu\", choose_item);\n",
       "\n",
       "            menu.appendChild(item);\n",
       "        };\n",
       "        return module;\n",
       "    })(modules[\"toyplot/root\"],modules[\"toyplot/canvas\"]);\n",
       "modules[\"toyplot/io\"] = (function()\n",
       "    {\n",
       "        var module = {};\n",
       "        module.save_file = function(mime_type, charset, data, filename)\n",
       "        {\n",
       "            var uri = \"data:\" + mime_type + \";charset=\" + charset + \",\" + data;\n",
       "            uri = encodeURI(uri);\n",
       "\n",
       "            var link = document.createElement(\"a\");\n",
       "            if(typeof link.download != \"undefined\")\n",
       "            {\n",
       "              link.href = uri;\n",
       "              link.style = \"visibility:hidden\";\n",
       "              link.download = filename;\n",
       "\n",
       "              document.body.appendChild(link);\n",
       "              link.click();\n",
       "              document.body.removeChild(link);\n",
       "            }\n",
       "            else\n",
       "            {\n",
       "              window.open(uri);\n",
       "            }\n",
       "        };\n",
       "        return module;\n",
       "    })();\n",
       "modules[\"toyplot.coordinates.Axis\"] = (\n",
       "        function(canvas)\n",
       "        {\n",
       "            function sign(x)\n",
       "            {\n",
       "                return x < 0 ? -1 : x > 0 ? 1 : 0;\n",
       "            }\n",
       "\n",
       "            function mix(a, b, amount)\n",
       "            {\n",
       "                return ((1.0 - amount) * a) + (amount * b);\n",
       "            }\n",
       "\n",
       "            function log(x, base)\n",
       "            {\n",
       "                return Math.log(Math.abs(x)) / Math.log(base);\n",
       "            }\n",
       "\n",
       "            function in_range(a, x, b)\n",
       "            {\n",
       "                var left = Math.min(a, b);\n",
       "                var right = Math.max(a, b);\n",
       "                return left <= x && x <= right;\n",
       "            }\n",
       "\n",
       "            function inside(range, projection)\n",
       "            {\n",
       "                for(var i = 0; i != projection.length; ++i)\n",
       "                {\n",
       "                    var segment = projection[i];\n",
       "                    if(in_range(segment.range.min, range, segment.range.max))\n",
       "                        return true;\n",
       "                }\n",
       "                return false;\n",
       "            }\n",
       "\n",
       "            function to_domain(range, projection)\n",
       "            {\n",
       "                for(var i = 0; i != projection.length; ++i)\n",
       "                {\n",
       "                    var segment = projection[i];\n",
       "                    if(in_range(segment.range.bounds.min, range, segment.range.bounds.max))\n",
       "                    {\n",
       "                        if(segment.scale == \"linear\")\n",
       "                        {\n",
       "                            var amount = (range - segment.range.min) / (segment.range.max - segment.range.min);\n",
       "                            return mix(segment.domain.min, segment.domain.max, amount)\n",
       "                        }\n",
       "                        else if(segment.scale[0] == \"log\")\n",
       "                        {\n",
       "                            var amount = (range - segment.range.min) / (segment.range.max - segment.range.min);\n",
       "                            var base = segment.scale[1];\n",
       "                            return sign(segment.domain.min) * Math.pow(base, mix(log(segment.domain.min, base), log(segment.domain.max, base), amount));\n",
       "                        }\n",
       "                    }\n",
       "                }\n",
       "            }\n",
       "\n",
       "            var axes = {};\n",
       "\n",
       "            function display_coordinates(e)\n",
       "            {\n",
       "                var current = canvas.createSVGPoint();\n",
       "                current.x = e.clientX;\n",
       "                current.y = e.clientY;\n",
       "\n",
       "                for(var axis_id in axes)\n",
       "                {\n",
       "                    var axis = document.querySelector(\"#\" + axis_id);\n",
       "                    var coordinates = axis.querySelector(\".toyplot-coordinates-Axis-coordinates\");\n",
       "                    if(coordinates)\n",
       "                    {\n",
       "                        var projection = axes[axis_id];\n",
       "                        var local = current.matrixTransform(axis.getScreenCTM().inverse());\n",
       "                        if(inside(local.x, projection))\n",
       "                        {\n",
       "                            var domain = to_domain(local.x, projection);\n",
       "                            coordinates.style.visibility = \"visible\";\n",
       "                            coordinates.setAttribute(\"transform\", \"translate(\" + local.x + \")\");\n",
       "                            var text = coordinates.querySelector(\"text\");\n",
       "                            text.textContent = domain.toFixed(2);\n",
       "                        }\n",
       "                        else\n",
       "                        {\n",
       "                            coordinates.style.visibility= \"hidden\";\n",
       "                        }\n",
       "                    }\n",
       "                }\n",
       "            }\n",
       "\n",
       "            canvas.addEventListener(\"click\", display_coordinates);\n",
       "\n",
       "            var module = {};\n",
       "            module.show_coordinates = function(axis_id, projection)\n",
       "            {\n",
       "                axes[axis_id] = projection;\n",
       "            }\n",
       "\n",
       "            return module;\n",
       "        })(modules[\"toyplot/canvas\"]);\n",
       "(function(tables, context_menu, io, owner_id, key, label, names, columns, filename)\n",
       "        {\n",
       "            tables.set(owner_id, key, names, columns);\n",
       "\n",
       "            var owner = document.querySelector(\"#\" + owner_id);\n",
       "            function show_item(e)\n",
       "            {\n",
       "                return owner.contains(e.target);\n",
       "            }\n",
       "\n",
       "            function choose_item()\n",
       "            {\n",
       "                io.save_file(\"text/csv\", \"utf-8\", tables.get_csv(owner_id, key), filename + \".csv\");\n",
       "            }\n",
       "\n",
       "            context_menu.add_item(\"Save \" + label + \" as CSV\", show_item, choose_item);\n",
       "        })(modules[\"toyplot/tables\"],modules[\"toyplot/menus/context\"],modules[\"toyplot/io\"],\"ta31ca9f8207d45c392177bffc0676ef1\",\"vertex_data\",\"graph vertex data\",[\"x\", \"y\"],[[-1.0, -1.5], [5.0, 5.0]],\"toyplot\");\n",
       "(function(tables, context_menu, io, owner_id, key, label, names, columns, filename)\n",
       "        {\n",
       "            tables.set(owner_id, key, names, columns);\n",
       "\n",
       "            var owner = document.querySelector(\"#\" + owner_id);\n",
       "            function show_item(e)\n",
       "            {\n",
       "                return owner.contains(e.target);\n",
       "            }\n",
       "\n",
       "            function choose_item()\n",
       "            {\n",
       "                io.save_file(\"text/csv\", \"utf-8\", tables.get_csv(owner_id, key), filename + \".csv\");\n",
       "            }\n",
       "\n",
       "            context_menu.add_item(\"Save \" + label + \" as CSV\", show_item, choose_item);\n",
       "        })(modules[\"toyplot/tables\"],modules[\"toyplot/menus/context\"],modules[\"toyplot/io\"],\"ta31ca9f8207d45c392177bffc0676ef1\",\"edge_data\",\"graph edge data\",[\"source\", \"target\"],[[0], [1]],\"toyplot\");\n",
       "(function(axis, axis_id, projection)\n",
       "        {\n",
       "            axis.show_coordinates(axis_id, projection);\n",
       "        })(modules[\"toyplot.coordinates.Axis\"],\"t3f0105397f274e5795bfc7d8e7674b76\",[{\"domain\": {\"bounds\": {\"max\": Infinity, \"min\": -Infinity}, \"max\": 0.3333562499999998, \"min\": -1.5}, \"range\": {\"bounds\": {\"max\": Infinity, \"min\": -Infinity}, \"max\": 160.0, \"min\": 0.0}, \"scale\": \"linear\"}]);\n",
       "})();</script></div></div>"
      ]
     },
     "metadata": {},
     "output_type": "display_data"
    }
   ],
   "source": [
    "import numpy as np\n",
    "c, a, m = tree.draw(ts='d', scale_bar=True)\n",
    "#m = tree.annotate.add_edge_root(ts='d', ecolor=\"blue\")\n",
    "a.graph(\n",
    "    np.array([[0, 1]]),\n",
    "    vcoordinates=[[-1, 5], [-1.5, 5]], \n",
    "    ecolor=col.css, #(2, 3, 4, 0.5), #\"red\", #m.edge_colors, \n",
    "    vlabel=False,\n",
    "    eopacity=0.9,\n",
    "    ewidth=2, vsize=0)"
   ]
  },
  {
   "cell_type": "code",
   "execution_count": 82,
   "id": "698084e6",
   "metadata": {},
   "outputs": [],
   "source": [
    "x = toyplot.color.css(\"none\")"
   ]
  },
  {
   "cell_type": "code",
   "execution_count": 30,
   "id": "7601787b",
   "metadata": {},
   "outputs": [
    {
     "data": {
      "text/plain": [
       "'rgba(0.0%,0.0%,0.0%,0.000)'"
      ]
     },
     "execution_count": 30,
     "metadata": {},
     "output_type": "execute_result"
    }
   ],
   "source": [
    "toytree.color.Color((0, 0, 0,0)).css"
   ]
  },
  {
   "cell_type": "code",
   "execution_count": 77,
   "id": "b8885d5e",
   "metadata": {},
   "outputs": [],
   "source": [
    "from toytree.style.tree_styles import *\n",
    "from toytree.style.sub_style import *\n",
    "import toyplot\n",
    "import numpy as np"
   ]
  },
  {
   "cell_type": "code",
   "execution_count": 78,
   "id": "5ccb8c36",
   "metadata": {},
   "outputs": [],
   "source": [
    "DTYPE = {\n",
    "    \"names\": [\"r\", \"g\", \"b\", \"a\"], \n",
    "    \"formats\": [\"float64\", \"float64\", \"float64\", \"float64\"],\n",
    "}"
   ]
  },
  {
   "cell_type": "code",
   "execution_count": 79,
   "id": "64f5375b",
   "metadata": {},
   "outputs": [],
   "source": [
    "carr = np.array((0.75, 0.1, 0.1, 1.0), dtype=DTYPE)"
   ]
  },
  {
   "cell_type": "code",
   "execution_count": 80,
   "id": "46d75c8b",
   "metadata": {},
   "outputs": [
    {
     "data": {
      "text/html": [
       "<div class=\"toyplot-color-Swatch\" style=\"overflow:hidden; height:auto\"><div style=\"float:left;width:20px;height:20px;margin-right:0px;background-color:rgba(75.0%,10.0%,10.0%,1.000)\"></div></div>"
      ],
      "text/plain": [
       "array((0.75, 0.1, 0.1, 1.),\n",
       "      dtype=[('r', '<f8'), ('g', '<f8'), ('b', '<f8'), ('a', '<f8')])"
      ]
     },
     "execution_count": 80,
     "metadata": {},
     "output_type": "execute_result"
    }
   ],
   "source": [
    "carr"
   ]
  },
  {
   "cell_type": "code",
   "execution_count": 106,
   "id": "a9fafa51",
   "metadata": {},
   "outputs": [
    {
     "data": {
      "text/plain": [
       "True"
      ]
     },
     "execution_count": 106,
     "metadata": {},
     "output_type": "execute_result"
    }
   ],
   "source": [
    "arr = toyplot.color.css(\"transpare\")\n",
    "arr is None"
   ]
  },
  {
   "cell_type": "code",
   "execution_count": 125,
   "id": "2335e59b",
   "metadata": {},
   "outputs": [],
   "source": [
    "arr = toyplot.color.css(\"transparent\")\n",
    "arr['g'] = 1.5"
   ]
  },
  {
   "cell_type": "code",
   "execution_count": null,
   "id": "e1570c9c",
   "metadata": {},
   "outputs": [],
   "source": []
  },
  {
   "cell_type": "code",
   "execution_count": 128,
   "id": "fba51af1",
   "metadata": {},
   "outputs": [
    {
     "data": {
      "text/plain": [
       "'rgba(0.0%,150.0%,0.0%,0.000)'"
      ]
     },
     "execution_count": 128,
     "metadata": {},
     "output_type": "execute_result"
    }
   ],
   "source": [
    "toyplot.color.to_css(arr)"
   ]
  },
  {
   "cell_type": "code",
   "execution_count": 86,
   "id": "c6a4d3e4",
   "metadata": {},
   "outputs": [
    {
     "ename": "TypeError",
     "evalue": "string indices must be integers",
     "output_type": "error",
     "traceback": [
      "\u001b[0;31m---------------------------------------------------------------------------\u001b[0m",
      "\u001b[0;31mTypeError\u001b[0m                                 Traceback (most recent call last)",
      "Input \u001b[0;32mIn [86]\u001b[0m, in \u001b[0;36m<cell line: 1>\u001b[0;34m()\u001b[0m\n\u001b[0;32m----> 1\u001b[0m \u001b[43mtoyplot\u001b[49m\u001b[38;5;241;43m.\u001b[39;49m\u001b[43mcolor\u001b[49m\u001b[38;5;241;43m.\u001b[39;49m\u001b[43mto_css\u001b[49m\u001b[43m(\u001b[49m\u001b[38;5;124;43m\"\u001b[39;49m\u001b[38;5;124;43mred\u001b[39;49m\u001b[38;5;124;43m\"\u001b[39;49m\u001b[43m)\u001b[49m\n",
      "File \u001b[0;32m~/miniconda3/envs/ipyrad/lib/python3.9/site-packages/toyplot/color.py:3182\u001b[0m, in \u001b[0;36mto_css\u001b[0;34m(color)\u001b[0m\n\u001b[1;32m   3170\u001b[0m \u001b[38;5;28;01mdef\u001b[39;00m \u001b[38;5;21mto_css\u001b[39m(color):\n\u001b[1;32m   3171\u001b[0m     \u001b[38;5;124;03m\"\"\"Convert a Toyplot color to a CSS string.\u001b[39;00m\n\u001b[1;32m   3172\u001b[0m \n\u001b[1;32m   3173\u001b[0m \u001b[38;5;124;03m    Parameters\u001b[39;00m\n\u001b[0;32m   (...)\u001b[0m\n\u001b[1;32m   3180\u001b[0m \u001b[38;5;124;03m    css: :class:`str` containing a CSS color value.\u001b[39;00m\n\u001b[1;32m   3181\u001b[0m \u001b[38;5;124;03m      \"\"\"\u001b[39;00m\n\u001b[0;32m-> 3182\u001b[0m     \u001b[38;5;28;01mreturn\u001b[39;00m \u001b[38;5;124m\"\u001b[39m\u001b[38;5;124mrgba(\u001b[39m\u001b[38;5;132;01m%.1f\u001b[39;00m\u001b[38;5;132;01m%%\u001b[39;00m\u001b[38;5;124m,\u001b[39m\u001b[38;5;132;01m%.1f\u001b[39;00m\u001b[38;5;132;01m%%\u001b[39;00m\u001b[38;5;124m,\u001b[39m\u001b[38;5;132;01m%.1f\u001b[39;00m\u001b[38;5;132;01m%%\u001b[39;00m\u001b[38;5;124m,\u001b[39m\u001b[38;5;132;01m%.3f\u001b[39;00m\u001b[38;5;124m)\u001b[39m\u001b[38;5;124m\"\u001b[39m \u001b[38;5;241m%\u001b[39m (\u001b[43mcolor\u001b[49m\u001b[43m[\u001b[49m\u001b[38;5;124;43m\"\u001b[39;49m\u001b[38;5;124;43mr\u001b[39;49m\u001b[38;5;124;43m\"\u001b[39;49m\u001b[43m]\u001b[49m \u001b[38;5;241m*\u001b[39m \u001b[38;5;241m100\u001b[39m, color[\u001b[38;5;124m\"\u001b[39m\u001b[38;5;124mg\u001b[39m\u001b[38;5;124m\"\u001b[39m] \u001b[38;5;241m*\u001b[39m \u001b[38;5;241m100\u001b[39m, color[\u001b[38;5;124m\"\u001b[39m\u001b[38;5;124mb\u001b[39m\u001b[38;5;124m\"\u001b[39m] \u001b[38;5;241m*\u001b[39m \u001b[38;5;241m100\u001b[39m, color[\u001b[38;5;124m\"\u001b[39m\u001b[38;5;124ma\u001b[39m\u001b[38;5;124m\"\u001b[39m])\n",
      "\u001b[0;31mTypeError\u001b[0m: string indices must be integers"
     ]
    }
   ],
   "source": [
    "toyplot.color.to_css(\"red\")"
   ]
  },
  {
   "cell_type": "code",
   "execution_count": 2,
   "id": "aa8cded8",
   "metadata": {},
   "outputs": [],
   "source": [
    "import pprint\n",
    "import toytree"
   ]
  },
  {
   "cell_type": "code",
   "execution_count": 53,
   "id": "7309a263",
   "metadata": {},
   "outputs": [],
   "source": [
    "class SubStyle:\n",
    "    \"\"\"A subclass of Style for CSS on markers.\"\"\"\n",
    "    def __delattr__(self, key) -> None:\n",
    "        raise ToytreeError(\"TreeStyle dict keys cannot be deleted.\")\n",
    "    def __setattr__(self, key: str, value) -> None:\n",
    "        \"\"\"Colors are always converted to XXX\"\"\"\n",
    "        self.__dict__[key] = value\n",
    "\n",
    "class NodeStyle(SubStyle):\n",
    "    def __init__(self):\n",
    "        self.fill: Color = 'rgba(40.0%,76.1%,64.7%,1.000)'\n",
    "        self.fill_opacity: float = None\n",
    "        self.stroke: Color = \"#262626\"\n",
    "        self.stroke_width: float = 1.0"
   ]
  },
  {
   "cell_type": "code",
   "execution_count": 55,
   "id": "50907459",
   "metadata": {},
   "outputs": [],
   "source": [
    "class TreeStyleBase:\n",
    "    def __init__(self):\n",
    "        self.tree_style: str = None\n",
    "        self.height: float = None\n",
    "        self.width: float = None\n",
    "        self.layout: str = \"r\"\n",
    "\n",
    "        self.edge_type: str = None\n",
    "        self.edge_colors: Union[Color, Sequence[Color]] = None\n",
    "        self.edge_widths: Union[float, Sequence[float]] = None\n",
    "        self.edge_style: EdgeStyle = EdgeStyle()\n",
    "        self.edge_align_style: EdgeAlignStyle = EdgeAlignStyle()\n",
    "\n",
    "        self.node_mask: Union[bool, Sequence[bool], None] = None  # None = auto\n",
    "        self.node_colors: Union[Color, Sequence[Color], None] = None  # override by fill\n",
    "        self.node_sizes: Union[float, Sequence[float]] = None\n",
    "        self.node_markers: Union[str, Sequence[str]] = None\n",
    "        self.node_hover: Union[bool, str, Sequence[str]] = None  # None = auto\n",
    "        self.node_style: NodeStyle = NodeStyle()\n",
    "\n",
    "        self.node_labels: Union[bool, str, Sequence[str]] = None\n",
    "        self.node_labels_style: NodeLabelStyle = NodeLabelStyle()\n",
    "\n",
    "        self.tip_labels: Union[bool, Sequence[str]] = None\n",
    "        self.tip_labels_colors: Union[str, Sequence[str], None] = None\n",
    "        self.tip_labels_align: bool = None\n",
    "        self.tip_labels_angles: Union[float, Sequence[float], None] = None\n",
    "        self.tip_labels_style: TipLabelsStyle = TipLabelsStyle()\n",
    "\n",
    "        # self.show_root_edge: bool = None\n",
    "        self.use_edge_lengths: bool = True\n",
    "        self.scale_bar: Union[bool, float] = False\n",
    "        self.padding: float = None\n",
    "        self.xbaseline: float = None\n",
    "        self.ybaseline: float = None\n",
    "        self.admixture_edges: Sequence[Tuple] = None\n",
    "        self.shrink: float = None"
   ]
  },
  {
   "cell_type": "code",
   "execution_count": 50,
   "id": "075f3364",
   "metadata": {},
   "outputs": [
    {
     "name": "stdout",
     "output_type": "stream",
     "text": [
      "3.77 µs ± 72.6 ns per loop (mean ± std. dev. of 7 runs, 100,000 loops each)\n"
     ]
    }
   ],
   "source": [
    "%%timeit \n",
    "TreeStyleBase()"
   ]
  },
  {
   "cell_type": "code",
   "execution_count": 29,
   "id": "6319904d",
   "metadata": {},
   "outputs": [
    {
     "name": "stdout",
     "output_type": "stream",
     "text": [
      "4.22 µs ± 110 ns per loop (mean ± std. dev. of 7 runs, 100,000 loops each)\n"
     ]
    }
   ],
   "source": [
    "%%timeit\n",
    "TreeStyleN()"
   ]
  },
  {
   "cell_type": "code",
   "execution_count": null,
   "id": "8c2637c6",
   "metadata": {},
   "outputs": [],
   "source": []
  },
  {
   "cell_type": "code",
   "execution_count": 11,
   "id": "d8b438f8",
   "metadata": {},
   "outputs": [
    {
     "name": "stdout",
     "output_type": "stream",
     "text": [
      "171 ns ± 0.204 ns per loop (mean ± std. dev. of 7 runs, 10,000,000 loops each)\n"
     ]
    }
   ],
   "source": [
    "%%timeit\n",
    "NodeStyle()"
   ]
  },
  {
   "cell_type": "code",
   "execution_count": 28,
   "id": "c1a1f967",
   "metadata": {},
   "outputs": [
    {
     "name": "stdout",
     "output_type": "stream",
     "text": [
      "52.5 µs ± 922 ns per loop (mean ± std. dev. of 7 runs, 10,000 loops each)\n"
     ]
    }
   ],
   "source": [
    "%%timeit\n",
    "TreeStyleN()"
   ]
  },
  {
   "cell_type": "code",
   "execution_count": 29,
   "id": "dc9d5a22",
   "metadata": {},
   "outputs": [
    {
     "name": "stdout",
     "output_type": "stream",
     "text": [
      "62 µs ± 350 ns per loop (mean ± std. dev. of 7 runs, 10,000 loops each)\n"
     ]
    }
   ],
   "source": [
    "%%timeit\n",
    "TreeStyleS()"
   ]
  },
  {
   "cell_type": "code",
   "execution_count": 33,
   "id": "fc333e37",
   "metadata": {},
   "outputs": [
    {
     "name": "stdout",
     "output_type": "stream",
     "text": [
      "6.66 µs ± 67 ns per loop (mean ± std. dev. of 7 runs, 100,000 loops each)\n"
     ]
    }
   ],
   "source": [
    "%%timeit\n",
    "toytree.ToyTree(toytree.Node())"
   ]
  },
  {
   "cell_type": "code",
   "execution_count": 39,
   "id": "67b4c405",
   "metadata": {},
   "outputs": [],
   "source": [
    "t = toytree.ToyTree(toytree.Node())"
   ]
  },
  {
   "cell_type": "code",
   "execution_count": 13,
   "id": "c458a5d0",
   "metadata": {},
   "outputs": [],
   "source": [
    "from toytree.core.style import TreeStyle"
   ]
  },
  {
   "cell_type": "code",
   "execution_count": 14,
   "id": "094bb7f5",
   "metadata": {},
   "outputs": [
    {
     "name": "stdout",
     "output_type": "stream",
     "text": [
      "2.61 µs ± 55.7 ns per loop (mean ± std. dev. of 7 runs, 100,000 loops each)\n"
     ]
    }
   ],
   "source": [
    "%%timeit\n",
    "TreeStyle()"
   ]
  },
  {
   "cell_type": "code",
   "execution_count": 88,
   "id": "17a7f481",
   "metadata": {},
   "outputs": [],
   "source": [
    "t = TreeStyle()"
   ]
  },
  {
   "cell_type": "code",
   "execution_count": 85,
   "id": "16a84450",
   "metadata": {},
   "outputs": [
    {
     "name": "stdout",
     "output_type": "stream",
     "text": [
      " "
     ]
    }
   ],
   "source": [
    "%%prun \n",
    "TreeStyleN()"
   ]
  },
  {
   "cell_type": "code",
   "execution_count": 93,
   "id": "5a8d63d4",
   "metadata": {},
   "outputs": [],
   "source": [
    "from dataclasses import dataclass"
   ]
  },
  {
   "cell_type": "code",
   "execution_count": 12,
   "id": "5aae85ab",
   "metadata": {},
   "outputs": [],
   "source": [
    "@dataclass\n",
    "class Test1:\n",
    "    a: int\n",
    "    b: str\n",
    "    c: float\n",
    "        \n",
    "class Test2:\n",
    "    def __init__(self, a, b, c):\n",
    "        self.a = a\n",
    "        self.b = b\n",
    "        self.c = c"
   ]
  },
  {
   "cell_type": "code",
   "execution_count": 103,
   "id": "5fb5c97a",
   "metadata": {},
   "outputs": [
    {
     "name": "stdout",
     "output_type": "stream",
     "text": [
      "223 ns ± 5.08 ns per loop (mean ± std. dev. of 7 runs, 1,000,000 loops each)\n"
     ]
    }
   ],
   "source": [
    "%%timeit\n",
    "Test1(3, 'b', 2.0)"
   ]
  },
  {
   "cell_type": "code",
   "execution_count": 13,
   "id": "3e0aacb6",
   "metadata": {},
   "outputs": [
    {
     "name": "stdout",
     "output_type": "stream",
     "text": [
      "216 ns ± 4.89 ns per loop (mean ± std. dev. of 7 runs, 1,000,000 loops each)\n"
     ]
    }
   ],
   "source": [
    "%%timeit\n",
    "Test2(3, 'b', 2.0)"
   ]
  },
  {
   "cell_type": "code",
   "execution_count": 59,
   "id": "6dbf0f51",
   "metadata": {},
   "outputs": [],
   "source": [
    "n1 = TreeStyleN()\n",
    "n2 = TreeStyleN()"
   ]
  },
  {
   "cell_type": "code",
   "execution_count": 77,
   "id": "f8033af2",
   "metadata": {},
   "outputs": [
    {
     "name": "stdout",
     "output_type": "stream",
     "text": [
      " "
     ]
    }
   ],
   "source": [
    "%%prun\n",
    "\n",
    "n1.width = 100\n",
    "n2.width = 300"
   ]
  },
  {
   "cell_type": "code",
   "execution_count": 63,
   "id": "4a0fa1c7",
   "metadata": {},
   "outputs": [],
   "source": [
    "from copy import copy, deepcopy"
   ]
  },
  {
   "cell_type": "code",
   "execution_count": 65,
   "id": "23c104ae",
   "metadata": {},
   "outputs": [
    {
     "name": "stdout",
     "output_type": "stream",
     "text": [
      "54.1 µs ± 1.33 µs per loop (mean ± std. dev. of 7 runs, 10,000 loops each)\n"
     ]
    }
   ],
   "source": [
    "%%timeit\n",
    "deepcopy(t)"
   ]
  },
  {
   "cell_type": "code",
   "execution_count": 67,
   "id": "1407c73b",
   "metadata": {},
   "outputs": [
    {
     "name": "stdout",
     "output_type": "stream",
     "text": [
      "53.6 µs ± 1.06 µs per loop (mean ± std. dev. of 7 runs, 10,000 loops each)\n"
     ]
    }
   ],
   "source": [
    "%%timeit\n",
    "deepcopy(n)"
   ]
  },
  {
   "cell_type": "code",
   "execution_count": null,
   "id": "16f72754",
   "metadata": {},
   "outputs": [],
   "source": []
  },
  {
   "cell_type": "code",
   "execution_count": 58,
   "id": "f0c810e8",
   "metadata": {},
   "outputs": [
    {
     "data": {
      "text/plain": [
       "{\n",
       "    \"tree_style\": \"n\",\n",
       "    \"height\": null,\n",
       "    \"width\": 100,\n",
       "    \"layout\": null,\n",
       "    \"edge_type\": null,\n",
       "    \"edge_colors\": null,\n",
       "    \"edge_widths\": null,\n",
       "    \"node_mask\": null,\n",
       "    \"node_colors\": null,\n",
       "    \"node_sizes\": null,\n",
       "    \"node_markers\": null,\n",
       "    \"node_hover\": null,\n",
       "    \"node_labels\": null,\n",
       "    \"tip_labels\": null,\n",
       "    \"tip_labels_colors\": null,\n",
       "    \"tip_labels_align\": null,\n",
       "    \"tip_labels_angles\": null,\n",
       "    \"use_edge_lengths\": null,\n",
       "    \"scale_bar\": null,\n",
       "    \"padding\": null,\n",
       "    \"xbaseline\": null,\n",
       "    \"ybaseline\": null,\n",
       "    \"admixture_edges\": null,\n",
       "    \"shrink\": null,\n",
       "    \"node_style\": {\n",
       "        \"fill\": \"rgba(40.0%,76.1%,64.7%,1.000)\",\n",
       "        \"fill_opacity\": null,\n",
       "        \"stroke\": \"#262626\",\n",
       "        \"stroke_width\": 1.0\n",
       "    },\n",
       "    \"node_labels_style\": {\n",
       "        \"fill\": \"rgba(16.1%,15.3%,14.1%,1.000)\",\n",
       "        \"font_size\": 9,\n",
       "        \"font_weight\": 300,\n",
       "        \"font_family\": \"Helvetica\",\n",
       "        \"_toyplot_anchor_shift\": 0,\n",
       "        \"baseline_shift\": 0,\n",
       "        \"text_anchor\": \"middle\"\n",
       "    },\n",
       "    \"tip_labels_style\": {\n",
       "        \"fill\": \"rgba(16.1%,15.3%,14.1%,1.000)\",\n",
       "        \"fill_opacity\": null,\n",
       "        \"font_size\": 11,\n",
       "        \"font_weight\": 300,\n",
       "        \"font_family\": \"Helvetica\",\n",
       "        \"_toyplot_anchor_shift\": 15,\n",
       "        \"baseline_shift\": 0,\n",
       "        \"text_anchor\": \"start\"\n",
       "    },\n",
       "    \"edge_style\": {\n",
       "        \"stroke\": \"rgba(16.1%,15.3%,14.1%,1.000)\",\n",
       "        \"stroke_width\": 2.0,\n",
       "        \"stroke_opacity\": null,\n",
       "        \"stroke_linecap\": \"round\",\n",
       "        \"stroke_dasharray\": null\n",
       "    },\n",
       "    \"edge_align_style\": {\n",
       "        \"stroke\": \"rgba(16.1%,15.3%,14.1%,1.000)\",\n",
       "        \"stroke_width\": 2.0,\n",
       "        \"stroke_opacity\": null,\n",
       "        \"stroke_linecap\": \"round\",\n",
       "        \"stroke_dasharray\": null\n",
       "    }\n",
       "}"
      ]
     },
     "execution_count": 58,
     "metadata": {},
     "output_type": "execute_result"
    }
   ],
   "source": [
    "n.width = 100\n",
    "n"
   ]
  },
  {
   "cell_type": "code",
   "execution_count": 26,
   "id": "774ff205",
   "metadata": {},
   "outputs": [
    {
     "name": "stdout",
     "output_type": "stream",
     "text": [
      "{'tree_style': 'n',\n",
      " 'height': None,\n",
      " 'width': None,\n",
      " 'layout': None,\n",
      " 'edge_type': None,\n",
      " 'edge_colors': None,\n",
      " 'edge_widths': None,\n",
      " 'node_mask': None,\n",
      " 'node_colors': 'red',\n",
      " 'node_sizes': None,\n",
      " 'node_markers': None,\n",
      " 'node_hover': None,\n",
      " 'node_labels': None,\n",
      " 'tip_labels': None,\n",
      " 'tip_labels_colors': None,\n",
      " 'tip_labels_align': None,\n",
      " 'tip_labels_angles': None,\n",
      " 'use_edge_lengths': None,\n",
      " 'scale_bar': None,\n",
      " 'padding': None,\n",
      " 'xbaseline': None,\n",
      " 'ybaseline': None,\n",
      " 'admixture_edges': None,\n",
      " 'shrink': None,\n",
      " 'node_style': {'fill': 'rgba(40.0%,76.1%,64.7%,1.000)',\n",
      "                'fill_opacity': None,\n",
      "                'stroke': '#262626',\n",
      "                'stroke_width': 1.0},\n",
      " 'node_labels_style': {'fill': 'rgba(16.1%,15.3%,14.1%,1.000)',\n",
      "                       'font_size': 9,\n",
      "                       'font_weight': 300,\n",
      "                       'font_family': 'Helvetica',\n",
      "                       '_toyplot_anchor_shift': 0,\n",
      "                       'baseline_shift': 0,\n",
      "                       'text_anchor': 'middle'},\n",
      " 'tip_labels_style': {'fill': 'rgba(16.1%,15.3%,14.1%,1.000)',\n",
      "                      'fill_opacity': None,\n",
      "                      'font_size': 11,\n",
      "                      'font_weight': 300,\n",
      "                      'font_family': 'Helvetica',\n",
      "                      '_toyplot_anchor_shift': 15,\n",
      "                      'baseline_shift': 0,\n",
      "                      'text_anchor': 'start'},\n",
      " 'edge_style': {'stroke': 'rgba(16.1%,15.3%,14.1%,1.000)',\n",
      "                'stroke_width': 2.0,\n",
      "                'stroke_opacity': None,\n",
      "                'stroke_linecap': 'round',\n",
      "                'stroke_dasharray': None},\n",
      " 'edge_align_style': {'stroke': 'rgba(16.1%,15.3%,14.1%,1.000)',\n",
      "                      'stroke_width': 2.0,\n",
      "                      'stroke_opacity': None,\n",
      "                      'stroke_linecap': 'round',\n",
      "                      'stroke_dasharray': None}}\n"
     ]
    }
   ],
   "source": [
    "ts = TreeStyleN()\n",
    "ts.node_colors = toytree.color.Color(\"red\").css\n",
    "pprint.pprint(ts.dict(), sort_dicts=False)"
   ]
  },
  {
   "cell_type": "code",
   "execution_count": 3,
   "id": "aaf565af",
   "metadata": {},
   "outputs": [
    {
     "data": {
      "text/plain": [
       "{'tree_style': None,\n",
       " 'height': None,\n",
       " 'width': None,\n",
       " 'layout': None,\n",
       " 'edge_type': None,\n",
       " 'edge_colors': None,\n",
       " 'edge_widths': None,\n",
       " 'node_mask': None,\n",
       " 'node_colors': None,\n",
       " 'node_sizes': None,\n",
       " 'node_markers': None,\n",
       " 'node_hover': None,\n",
       " 'node_labels': None,\n",
       " 'tip_labels': None,\n",
       " 'tip_labels_colors': None,\n",
       " 'tip_labels_align': None,\n",
       " 'tip_labels_angles': None,\n",
       " 'use_edge_lengths': None,\n",
       " 'scale_bar': None,\n",
       " 'padding': None,\n",
       " 'xbaseline': None,\n",
       " 'ybaseline': None,\n",
       " 'admixture_edges': None,\n",
       " 'shrink': None,\n",
       " 'node_style': {'fill': 'rgba(40.0%,76.1%,64.7%,1.000)',\n",
       "  'fill_opacity': None,\n",
       "  'stroke': '#262626',\n",
       "  'stroke_width': 1.0},\n",
       " 'node_labels_style': {'fill': 'rgba(16.1%,15.3%,14.1%,1.000)',\n",
       "  'font_size': 9,\n",
       "  'font_weight': 300,\n",
       "  'font_family': 'Helvetica',\n",
       "  '_toyplot_anchor_shift': 0,\n",
       "  'baseline_shift': 0,\n",
       "  'text_anchor': 'middle'},\n",
       " 'tip_labels_style': {'fill': 'rgba(16.1%,15.3%,14.1%,1.000)',\n",
       "  'fill_opacity': None,\n",
       "  'font_size': 11,\n",
       "  'font_weight': 300,\n",
       "  'font_family': 'Helvetica',\n",
       "  '_toyplot_anchor_shift': 15,\n",
       "  'baseline_shift': 0,\n",
       "  'text_anchor': 'start'},\n",
       " 'edge_style': {'stroke': 'rgba(16.1%,15.3%,14.1%,1.000)',\n",
       "  'stroke_width': 2.0,\n",
       "  'stroke_opacity': None,\n",
       "  'stroke_linecap': 'round',\n",
       "  'stroke_dasharray': None},\n",
       " 'edge_align_style': {'stroke': 'rgba(16.1%,15.3%,14.1%,1.000)',\n",
       "  'stroke_width': 2.0,\n",
       "  'stroke_opacity': None,\n",
       "  'stroke_linecap': 'round',\n",
       "  'stroke_dasharray': None}}"
      ]
     },
     "execution_count": 3,
     "metadata": {},
     "output_type": "execute_result"
    }
   ],
   "source": [
    "TreeStyle().dict()"
   ]
  },
  {
   "cell_type": "code",
   "execution_count": null,
   "id": "2d49fc96",
   "metadata": {},
   "outputs": [],
   "source": []
  },
  {
   "cell_type": "code",
   "execution_count": 20,
   "id": "e2a45708",
   "metadata": {},
   "outputs": [
    {
     "ename": "ValueError",
     "evalue": "cannot convert float NaN to integer",
     "output_type": "error",
     "traceback": [
      "\u001b[0;31m---------------------------------------------------------------------------\u001b[0m",
      "\u001b[0;31mValueError\u001b[0m                                Traceback (most recent call last)",
      "Input \u001b[0;32mIn [20]\u001b[0m, in \u001b[0;36m<cell line: 1>\u001b[0;34m()\u001b[0m\n\u001b[0;32m----> 1\u001b[0m \u001b[43mtoytree\u001b[49m\u001b[38;5;241;43m.\u001b[39;49m\u001b[43mToyTree\u001b[49m\u001b[43m(\u001b[49m\u001b[43mtoytree\u001b[49m\u001b[38;5;241;43m.\u001b[39;49m\u001b[43mNode\u001b[49m\u001b[43m(\u001b[49m\u001b[43m)\u001b[49m\u001b[43m)\u001b[49m\u001b[38;5;241;43m.\u001b[39;49m\u001b[43mdraw\u001b[49m\u001b[43m(\u001b[49m\u001b[38;5;124;43m'\u001b[39;49m\u001b[38;5;124;43mc\u001b[39;49m\u001b[38;5;124;43m'\u001b[39;49m\u001b[43m)\u001b[49m\n",
      "File \u001b[0;32m~/Documents/toytree/toytree/core/tree.py:1740\u001b[0m, in \u001b[0;36mToyTree.draw\u001b[0;34m(self, tree_style, height, width, axes, layout, tip_labels, tip_labels_colors, tip_labels_angles, tip_labels_style, tip_labels_align, node_mask, node_labels, node_labels_style, node_sizes, node_colors, node_style, node_hover, node_markers, edge_colors, edge_widths, edge_type, edge_style, edge_align_style, use_edge_lengths, scale_bar, padding, xbaseline, ybaseline, admixture_edges, shrink, fixed_order, fixed_position, **kwargs)\u001b[0m\n\u001b[1;32m   1552\u001b[0m \u001b[38;5;28;01mdef\u001b[39;00m \u001b[38;5;21mdraw\u001b[39m(\n\u001b[1;32m   1553\u001b[0m     \u001b[38;5;28mself\u001b[39m,\n\u001b[1;32m   1554\u001b[0m     tree_style: Optional[\u001b[38;5;28mstr\u001b[39m]\u001b[38;5;241m=\u001b[39m\u001b[38;5;28;01mNone\u001b[39;00m,\n\u001b[0;32m   (...)\u001b[0m\n\u001b[1;32m   1586\u001b[0m     \u001b[38;5;241m*\u001b[39m\u001b[38;5;241m*\u001b[39mkwargs,\n\u001b[1;32m   1587\u001b[0m     ) \u001b[38;5;241m-\u001b[39m\u001b[38;5;241m>\u001b[39m Tuple[Canvas, Cartesian, ToytreeMark]:\n\u001b[1;32m   1588\u001b[0m     \u001b[38;5;124;03m\"\"\"Return a drawing on the tree as a Toyplot figure.\u001b[39;00m\n\u001b[1;32m   1589\u001b[0m \n\u001b[1;32m   1590\u001b[0m \u001b[38;5;124;03m    The drawing function return a tuple of Toyplot objects as\u001b[39;00m\n\u001b[0;32m   (...)\u001b[0m\n\u001b[1;32m   1738\u001b[0m \u001b[38;5;124;03m    >>> toyplot.svg.render(canvas, \"saved-plot.svg\")\u001b[39;00m\n\u001b[1;32m   1739\u001b[0m \u001b[38;5;124;03m    \"\"\"\u001b[39;00m\n\u001b[0;32m-> 1740\u001b[0m     \u001b[38;5;28;01mreturn\u001b[39;00m \u001b[43mdraw_toytree\u001b[49m\u001b[43m(\u001b[49m\n\u001b[1;32m   1741\u001b[0m \u001b[43m        \u001b[49m\u001b[43mtoytree\u001b[49m\u001b[38;5;241;43m=\u001b[39;49m\u001b[38;5;28;43mself\u001b[39;49m\u001b[43m,\u001b[49m\n\u001b[1;32m   1742\u001b[0m \u001b[43m        \u001b[49m\u001b[43mtree_style\u001b[49m\u001b[38;5;241;43m=\u001b[39;49m\u001b[43mtree_style\u001b[49m\u001b[43m,\u001b[49m\n\u001b[1;32m   1743\u001b[0m \u001b[43m        \u001b[49m\u001b[43maxes\u001b[49m\u001b[38;5;241;43m=\u001b[39;49m\u001b[43maxes\u001b[49m\u001b[43m,\u001b[49m\n\u001b[1;32m   1744\u001b[0m \u001b[43m        \u001b[49m\u001b[43mheight\u001b[49m\u001b[38;5;241;43m=\u001b[39;49m\u001b[43mheight\u001b[49m\u001b[43m,\u001b[49m\n\u001b[1;32m   1745\u001b[0m \u001b[43m        \u001b[49m\u001b[43mwidth\u001b[49m\u001b[38;5;241;43m=\u001b[39;49m\u001b[43mwidth\u001b[49m\u001b[43m,\u001b[49m\n\u001b[1;32m   1746\u001b[0m \u001b[43m        \u001b[49m\u001b[43mlayout\u001b[49m\u001b[38;5;241;43m=\u001b[39;49m\u001b[43mlayout\u001b[49m\u001b[43m,\u001b[49m\n\u001b[1;32m   1747\u001b[0m \u001b[43m        \u001b[49m\u001b[43mtip_labels\u001b[49m\u001b[38;5;241;43m=\u001b[39;49m\u001b[43mtip_labels\u001b[49m\u001b[43m,\u001b[49m\n\u001b[1;32m   1748\u001b[0m \u001b[43m        \u001b[49m\u001b[43mtip_labels_colors\u001b[49m\u001b[38;5;241;43m=\u001b[39;49m\u001b[43mtip_labels_colors\u001b[49m\u001b[43m,\u001b[49m\n\u001b[1;32m   1749\u001b[0m \u001b[43m        \u001b[49m\u001b[43mtip_labels_align\u001b[49m\u001b[38;5;241;43m=\u001b[39;49m\u001b[43mtip_labels_align\u001b[49m\u001b[43m,\u001b[49m\n\u001b[1;32m   1750\u001b[0m \u001b[43m        \u001b[49m\u001b[43mtip_labels_angles\u001b[49m\u001b[38;5;241;43m=\u001b[39;49m\u001b[43mtip_labels_angles\u001b[49m\u001b[43m,\u001b[49m\n\u001b[1;32m   1751\u001b[0m \u001b[43m        \u001b[49m\u001b[43mtip_labels_style\u001b[49m\u001b[38;5;241;43m=\u001b[39;49m\u001b[43mtip_labels_style\u001b[49m\u001b[43m,\u001b[49m\n\u001b[1;32m   1752\u001b[0m \u001b[43m        \u001b[49m\u001b[43mnode_mask\u001b[49m\u001b[38;5;241;43m=\u001b[39;49m\u001b[43mnode_mask\u001b[49m\u001b[43m,\u001b[49m\n\u001b[1;32m   1753\u001b[0m \u001b[43m        \u001b[49m\u001b[43mnode_labels\u001b[49m\u001b[38;5;241;43m=\u001b[39;49m\u001b[43mnode_labels\u001b[49m\u001b[43m,\u001b[49m\n\u001b[1;32m   1754\u001b[0m \u001b[43m        \u001b[49m\u001b[43mnode_labels_style\u001b[49m\u001b[38;5;241;43m=\u001b[39;49m\u001b[43mnode_labels_style\u001b[49m\u001b[43m,\u001b[49m\n\u001b[1;32m   1755\u001b[0m \u001b[43m        \u001b[49m\u001b[43mnode_sizes\u001b[49m\u001b[38;5;241;43m=\u001b[39;49m\u001b[43mnode_sizes\u001b[49m\u001b[43m,\u001b[49m\n\u001b[1;32m   1756\u001b[0m \u001b[43m        \u001b[49m\u001b[43mnode_hover\u001b[49m\u001b[38;5;241;43m=\u001b[39;49m\u001b[43mnode_hover\u001b[49m\u001b[43m,\u001b[49m\n\u001b[1;32m   1757\u001b[0m \u001b[43m        \u001b[49m\u001b[43mnode_style\u001b[49m\u001b[38;5;241;43m=\u001b[39;49m\u001b[43mnode_style\u001b[49m\u001b[43m,\u001b[49m\n\u001b[1;32m   1758\u001b[0m \u001b[43m        \u001b[49m\u001b[43mnode_colors\u001b[49m\u001b[38;5;241;43m=\u001b[39;49m\u001b[43mnode_colors\u001b[49m\u001b[43m,\u001b[49m\n\u001b[1;32m   1759\u001b[0m \u001b[43m        \u001b[49m\u001b[43mnode_markers\u001b[49m\u001b[38;5;241;43m=\u001b[39;49m\u001b[43mnode_markers\u001b[49m\u001b[43m,\u001b[49m\n\u001b[1;32m   1760\u001b[0m \u001b[43m        \u001b[49m\u001b[43medge_type\u001b[49m\u001b[38;5;241;43m=\u001b[39;49m\u001b[43medge_type\u001b[49m\u001b[43m,\u001b[49m\n\u001b[1;32m   1761\u001b[0m \u001b[43m        \u001b[49m\u001b[43medge_colors\u001b[49m\u001b[38;5;241;43m=\u001b[39;49m\u001b[43medge_colors\u001b[49m\u001b[43m,\u001b[49m\n\u001b[1;32m   1762\u001b[0m \u001b[43m        \u001b[49m\u001b[43medge_widths\u001b[49m\u001b[38;5;241;43m=\u001b[39;49m\u001b[43medge_widths\u001b[49m\u001b[43m,\u001b[49m\n\u001b[1;32m   1763\u001b[0m \u001b[43m        \u001b[49m\u001b[43medge_style\u001b[49m\u001b[38;5;241;43m=\u001b[39;49m\u001b[43medge_style\u001b[49m\u001b[43m,\u001b[49m\n\u001b[1;32m   1764\u001b[0m \u001b[43m        \u001b[49m\u001b[43medge_align_style\u001b[49m\u001b[38;5;241;43m=\u001b[39;49m\u001b[43medge_align_style\u001b[49m\u001b[43m,\u001b[49m\n\u001b[1;32m   1765\u001b[0m \u001b[43m        \u001b[49m\u001b[43muse_edge_lengths\u001b[49m\u001b[38;5;241;43m=\u001b[39;49m\u001b[43muse_edge_lengths\u001b[49m\u001b[43m,\u001b[49m\n\u001b[1;32m   1766\u001b[0m \u001b[43m        \u001b[49m\u001b[43mscale_bar\u001b[49m\u001b[38;5;241;43m=\u001b[39;49m\u001b[43mscale_bar\u001b[49m\u001b[43m,\u001b[49m\n\u001b[1;32m   1767\u001b[0m \u001b[43m        \u001b[49m\u001b[43mpadding\u001b[49m\u001b[38;5;241;43m=\u001b[39;49m\u001b[43mpadding\u001b[49m\u001b[43m,\u001b[49m\n\u001b[1;32m   1768\u001b[0m \u001b[43m        \u001b[49m\u001b[43mxbaseline\u001b[49m\u001b[38;5;241;43m=\u001b[39;49m\u001b[43mxbaseline\u001b[49m\u001b[43m,\u001b[49m\n\u001b[1;32m   1769\u001b[0m \u001b[43m        \u001b[49m\u001b[43mybaseline\u001b[49m\u001b[38;5;241;43m=\u001b[39;49m\u001b[43mybaseline\u001b[49m\u001b[43m,\u001b[49m\n\u001b[1;32m   1770\u001b[0m \u001b[43m        \u001b[49m\u001b[43madmixture_edges\u001b[49m\u001b[38;5;241;43m=\u001b[39;49m\u001b[43madmixture_edges\u001b[49m\u001b[43m,\u001b[49m\n\u001b[1;32m   1771\u001b[0m \u001b[43m        \u001b[49m\u001b[43mshrink\u001b[49m\u001b[38;5;241;43m=\u001b[39;49m\u001b[43mshrink\u001b[49m\u001b[43m,\u001b[49m\n\u001b[1;32m   1772\u001b[0m \u001b[43m        \u001b[49m\u001b[43mfixed_order\u001b[49m\u001b[38;5;241;43m=\u001b[39;49m\u001b[43mfixed_order\u001b[49m\u001b[43m,\u001b[49m\n\u001b[1;32m   1773\u001b[0m \u001b[43m        \u001b[49m\u001b[43mfixed_position\u001b[49m\u001b[38;5;241;43m=\u001b[39;49m\u001b[43mfixed_position\u001b[49m\u001b[43m,\u001b[49m\n\u001b[1;32m   1774\u001b[0m \u001b[43m        \u001b[49m\u001b[43mkwargs\u001b[49m\u001b[38;5;241;43m=\u001b[39;49m\u001b[43mkwargs\u001b[49m\u001b[43m,\u001b[49m\n\u001b[1;32m   1775\u001b[0m \u001b[43m    \u001b[49m\u001b[43m)\u001b[49m\n",
      "File \u001b[0;32m~/Documents/toytree/toytree/core/drawing/draw_toytree.py:79\u001b[0m, in \u001b[0;36mdraw_toytree\u001b[0;34m(**kwargs)\u001b[0m\n\u001b[1;32m     76\u001b[0m style\u001b[38;5;241m.\u001b[39mvalidate(tree\u001b[38;5;241m=\u001b[39mtree)\n\u001b[1;32m     78\u001b[0m \u001b[38;5;66;03m# get canvas and axes\u001b[39;00m\n\u001b[0;32m---> 79\u001b[0m csetup \u001b[38;5;241m=\u001b[39m \u001b[43mCanvasSetup\u001b[49m\u001b[43m(\u001b[49m\u001b[43mtree\u001b[49m\u001b[43m,\u001b[49m\u001b[43m \u001b[49m\u001b[43maxes\u001b[49m\u001b[43m,\u001b[49m\u001b[43m \u001b[49m\u001b[43mstyle\u001b[49m\u001b[43m)\u001b[49m\n\u001b[1;32m     80\u001b[0m canvas \u001b[38;5;241m=\u001b[39m csetup\u001b[38;5;241m.\u001b[39mcanvas\n\u001b[1;32m     81\u001b[0m axes \u001b[38;5;241m=\u001b[39m csetup\u001b[38;5;241m.\u001b[39maxes\n",
      "File \u001b[0;32m~/Documents/toytree/toytree/core/drawing/canvas_setup.py:151\u001b[0m, in \u001b[0;36mCanvasSetup.__init__\u001b[0;34m(self, tree, axes, style)\u001b[0m\n\u001b[1;32m    149\u001b[0m     ndists \u001b[38;5;241m=\u001b[39m \u001b[38;5;28mself\u001b[39m\u001b[38;5;241m.\u001b[39mtree\u001b[38;5;241m.\u001b[39mdistance\u001b[38;5;241m.\u001b[39mget_node_distance_matrix(\u001b[38;5;28;01mTrue\u001b[39;00m)\n\u001b[1;32m    150\u001b[0m     theight \u001b[38;5;241m=\u001b[39m ndists[\u001b[38;5;28mself\u001b[39m\u001b[38;5;241m.\u001b[39mtree\u001b[38;5;241m.\u001b[39mtreenode\u001b[38;5;241m.\u001b[39midx]\u001b[38;5;241m.\u001b[39mmax()\n\u001b[0;32m--> 151\u001b[0m \u001b[43mstyle_ticks\u001b[49m\u001b[43m(\u001b[49m\u001b[43mtheight\u001b[49m\u001b[43m,\u001b[49m\u001b[43m \u001b[49m\u001b[38;5;28;43mself\u001b[39;49m\u001b[38;5;241;43m.\u001b[39;49m\u001b[43maxes\u001b[49m\u001b[43m,\u001b[49m\u001b[43m \u001b[49m\u001b[38;5;28;43mself\u001b[39;49m\u001b[38;5;241;43m.\u001b[39;49m\u001b[43mstyle\u001b[49m\u001b[43m,\u001b[49m\u001b[43m \u001b[49m\u001b[38;5;28;43;01mTrue\u001b[39;49;00m\u001b[43m)\u001b[49m\n",
      "File \u001b[0;32m~/Documents/toytree/toytree/core/drawing/canvas_setup.py:245\u001b[0m, in \u001b[0;36mstyle_ticks\u001b[0;34m(tree_height, axes, style, only_inside)\u001b[0m\n\u001b[1;32m    243\u001b[0m     locs \u001b[38;5;241m=\u001b[39m lct\u001b[38;5;241m.\u001b[39mticks(\u001b[38;5;241m-\u001b[39mtree_height, \u001b[38;5;241m-\u001b[39m\u001b[38;5;241m0\u001b[39m)[\u001b[38;5;241m0\u001b[39m]\n\u001b[1;32m    244\u001b[0m \u001b[38;5;28;01melse\u001b[39;00m:\n\u001b[0;32m--> 245\u001b[0m     locs \u001b[38;5;241m=\u001b[39m \u001b[43mlct\u001b[49m\u001b[38;5;241;43m.\u001b[39;49m\u001b[43mticks\u001b[49m\u001b[43m(\u001b[49m\u001b[38;5;241;43m0\u001b[39;49m\u001b[43m,\u001b[49m\u001b[43m \u001b[49m\u001b[43mtree_height\u001b[49m\u001b[43m)\u001b[49m[\u001b[38;5;241m0\u001b[39m]\n\u001b[1;32m    247\u001b[0m \u001b[38;5;66;03m# apply unit scaling\u001b[39;00m\n\u001b[1;32m    248\u001b[0m \u001b[38;5;28;01mif\u001b[39;00m style\u001b[38;5;241m.\u001b[39mscale_bar \u001b[38;5;129;01mis\u001b[39;00m \u001b[38;5;28;01mFalse\u001b[39;00m:\n",
      "File \u001b[0;32m~/miniconda3/envs/ipyrad/lib/python3.9/site-packages/toyplot/locator.py:276\u001b[0m, in \u001b[0;36mExtended.ticks\u001b[0;34m(self, domain_min, domain_max)\u001b[0m\n\u001b[1;32m    273\u001b[0m         j \u001b[38;5;241m=\u001b[39m j \u001b[38;5;241m+\u001b[39m \u001b[38;5;241m1\u001b[39m\n\u001b[1;32m    274\u001b[0m     \u001b[38;5;28;01mreturn\u001b[39;00m best\n\u001b[0;32m--> 276\u001b[0m lmin, lmax, lstep, q, k \u001b[38;5;241m=\u001b[39m \u001b[43mextended\u001b[49m\u001b[43m(\u001b[49m\n\u001b[1;32m    277\u001b[0m \u001b[43m    \u001b[49m\u001b[43mdomain_min\u001b[49m\u001b[43m,\u001b[49m\u001b[43m \u001b[49m\u001b[43mdomain_max\u001b[49m\u001b[43m,\u001b[49m\u001b[43m \u001b[49m\u001b[38;5;28;43mself\u001b[39;49m\u001b[38;5;241;43m.\u001b[39;49m\u001b[43m_count\u001b[49m\u001b[43m \u001b[49m\u001b[38;5;241;43m-\u001b[39;49m\u001b[43m \u001b[49m\u001b[38;5;241;43m1\u001b[39;49m\u001b[43m,\u001b[49m\u001b[43m \u001b[49m\u001b[38;5;28;43mself\u001b[39;49m\u001b[38;5;241;43m.\u001b[39;49m\u001b[43m_steps\u001b[49m\u001b[43m,\u001b[49m\u001b[43m \u001b[49m\u001b[38;5;28;43mself\u001b[39;49m\u001b[38;5;241;43m.\u001b[39;49m\u001b[43m_only_inside\u001b[49m\u001b[43m,\u001b[49m\u001b[43m \u001b[49m\u001b[38;5;28;43mself\u001b[39;49m\u001b[38;5;241;43m.\u001b[39;49m\u001b[43m_weights\u001b[49m\u001b[43m)\u001b[49m\n\u001b[1;32m    278\u001b[0m locations \u001b[38;5;241m=\u001b[39m numpy\u001b[38;5;241m.\u001b[39marange(k) \u001b[38;5;241m*\u001b[39m lstep \u001b[38;5;241m+\u001b[39m lmin\n\u001b[1;32m    279\u001b[0m digits \u001b[38;5;241m=\u001b[39m \u001b[38;5;28mmax\u001b[39m(\u001b[38;5;241m0\u001b[39m, \u001b[38;5;28mint\u001b[39m(numpy\u001b[38;5;241m.\u001b[39mmax(\u001b[38;5;241m-\u001b[39mnumpy\u001b[38;5;241m.\u001b[39mfloor(numpy\u001b[38;5;241m.\u001b[39mlog10(lstep)), \u001b[38;5;241m0\u001b[39m)))\n",
      "File \u001b[0;32m~/miniconda3/envs/ipyrad/lib/python3.9/site-packages/toyplot/locator.py:254\u001b[0m, in \u001b[0;36mExtended.ticks.<locals>.extended\u001b[0;34m(dmin, dmax, m, Q, only_inside, w)\u001b[0m\n\u001b[1;32m    250\u001b[0m     z \u001b[38;5;241m=\u001b[39m z \u001b[38;5;241m+\u001b[39m \u001b[38;5;241m1\u001b[39m\n\u001b[1;32m    251\u001b[0m     \u001b[38;5;28;01mbreak\u001b[39;00m\n\u001b[1;32m    253\u001b[0m \u001b[38;5;28;01mfor\u001b[39;00m start \u001b[38;5;129;01min\u001b[39;00m \u001b[38;5;28mrange\u001b[39m(\n\u001b[0;32m--> 254\u001b[0m         \u001b[38;5;28;43mint\u001b[39;49m\u001b[43m(\u001b[49m\u001b[43mmin_start\u001b[49m\u001b[43m)\u001b[49m,\n\u001b[1;32m    255\u001b[0m         \u001b[38;5;28mint\u001b[39m(max_start) \u001b[38;5;241m+\u001b[39m \u001b[38;5;241m1\u001b[39m):\n\u001b[1;32m    256\u001b[0m     lmin \u001b[38;5;241m=\u001b[39m start \u001b[38;5;241m*\u001b[39m (step \u001b[38;5;241m/\u001b[39m j)\n\u001b[1;32m    257\u001b[0m     lmax \u001b[38;5;241m=\u001b[39m lmin \u001b[38;5;241m+\u001b[39m step \u001b[38;5;241m*\u001b[39m (k \u001b[38;5;241m-\u001b[39m \u001b[38;5;241m1.0\u001b[39m)\n",
      "\u001b[0;31mValueError\u001b[0m: cannot convert float NaN to integer"
     ]
    },
    {
     "data": {
      "text/html": [
       "<div class=\"toyplot\" id=\"t6ac5cfef7c274d609f8285519ea6ea12\" style=\"text-align:center\"><svg class=\"toyplot-canvas-Canvas\" xmlns:toyplot=\"http://www.sandia.gov/toyplot\" xmlns:xlink=\"http://www.w3.org/1999/xlink\" xmlns=\"http://www.w3.org/2000/svg\" width=\"350.0px\" height=\"250.0px\" viewBox=\"0 0 350.0 250.0\" preserveAspectRatio=\"xMidYMid meet\" style=\"background-color:transparent;border-color:#292724;border-style:none;border-width:1.0;fill:rgb(16.1%,15.3%,14.1%);fill-opacity:1.0;font-family:Helvetica;font-size:12px;opacity:1.0;stroke:rgb(16.1%,15.3%,14.1%);stroke-opacity:1.0;stroke-width:1.0\" id=\"te4c9bf2d24124f58ad6a21010310a1ec\"><g class=\"toyplot-coordinates-Cartesian\" id=\"tf04e8a55749c487aa229415c1b62ce71\"><clipPath id=\"tf408f8dd50eb43e5b1069b3ace1d9922\"><rect x=\"35.0\" y=\"35.0\" width=\"280.0\" height=\"180.0\"></rect></clipPath><g clip-path=\"url(#tf408f8dd50eb43e5b1069b3ace1d9922)\"></g><g class=\"toyplot-coordinates-Axis\" id=\"t139fca8d62434cac92c0d03b29f63030\" transform=\"translate(50.0,200.0)rotate(-90.0)translate(0,-15.0)\"><line x1=\"0\" y1=\"0\" x2=\"150.0\" y2=\"0\" style=\"\"></line><g><line x1=\"0.0\" y1=\"0\" x2=\"0.0\" y2=\"5\" style=\"\"></line><line x1=\"75.0\" y1=\"0\" x2=\"75.0\" y2=\"5\" style=\"\"></line><line x1=\"150.0\" y1=\"0\" x2=\"150.0\" y2=\"5\" style=\"\"></line></g><g><g transform=\"translate(0.0,-6)\"><text x=\"-8.615\" y=\"-4.440892098500626e-16\" style=\"fill:rgb(16.1%,15.3%,14.1%);fill-opacity:1.0;font-family:helvetica;font-size:10.0px;font-weight:normal;stroke:none;vertical-align:baseline;white-space:pre\">-0.5</text></g><g transform=\"translate(75.0,-6)\"><text x=\"-6.95\" y=\"-4.440892098500626e-16\" style=\"fill:rgb(16.1%,15.3%,14.1%);fill-opacity:1.0;font-family:helvetica;font-size:10.0px;font-weight:normal;stroke:none;vertical-align:baseline;white-space:pre\">0.0</text></g><g transform=\"translate(150.0,-6)\"><text x=\"-6.95\" y=\"-4.440892098500626e-16\" style=\"fill:rgb(16.1%,15.3%,14.1%);fill-opacity:1.0;font-family:helvetica;font-size:10.0px;font-weight:normal;stroke:none;vertical-align:baseline;white-space:pre\">0.5</text></g></g><g class=\"toyplot-coordinates-Axis-coordinates\" style=\"visibility:hidden\" transform=\"\"><line x1=\"0\" x2=\"0\" y1=\"3.0\" y2=\"-4.5\" style=\"stroke:rgb(43.9%,50.2%,56.5%);stroke-opacity:1.0;stroke-width:1.0\"></line><text x=\"0\" y=\"6\" style=\"alignment-baseline:hanging;fill:rgb(43.9%,50.2%,56.5%);fill-opacity:1.0;font-size:10px;font-weight:normal;stroke:none;text-anchor:middle\"></text></g></g></g></svg><div class=\"toyplot-behavior\"><script>(function()\n",
       "{\n",
       "var modules={};\n",
       "modules[\"toyplot/canvas/id\"] = \"te4c9bf2d24124f58ad6a21010310a1ec\";\n",
       "modules[\"toyplot/canvas\"] = (function(canvas_id)\n",
       "    {\n",
       "        return document.querySelector(\"#\" + canvas_id);\n",
       "    })(modules[\"toyplot/canvas/id\"]);\n",
       "modules[\"toyplot.coordinates.Axis\"] = (\n",
       "        function(canvas)\n",
       "        {\n",
       "            function sign(x)\n",
       "            {\n",
       "                return x < 0 ? -1 : x > 0 ? 1 : 0;\n",
       "            }\n",
       "\n",
       "            function mix(a, b, amount)\n",
       "            {\n",
       "                return ((1.0 - amount) * a) + (amount * b);\n",
       "            }\n",
       "\n",
       "            function log(x, base)\n",
       "            {\n",
       "                return Math.log(Math.abs(x)) / Math.log(base);\n",
       "            }\n",
       "\n",
       "            function in_range(a, x, b)\n",
       "            {\n",
       "                var left = Math.min(a, b);\n",
       "                var right = Math.max(a, b);\n",
       "                return left <= x && x <= right;\n",
       "            }\n",
       "\n",
       "            function inside(range, projection)\n",
       "            {\n",
       "                for(var i = 0; i != projection.length; ++i)\n",
       "                {\n",
       "                    var segment = projection[i];\n",
       "                    if(in_range(segment.range.min, range, segment.range.max))\n",
       "                        return true;\n",
       "                }\n",
       "                return false;\n",
       "            }\n",
       "\n",
       "            function to_domain(range, projection)\n",
       "            {\n",
       "                for(var i = 0; i != projection.length; ++i)\n",
       "                {\n",
       "                    var segment = projection[i];\n",
       "                    if(in_range(segment.range.bounds.min, range, segment.range.bounds.max))\n",
       "                    {\n",
       "                        if(segment.scale == \"linear\")\n",
       "                        {\n",
       "                            var amount = (range - segment.range.min) / (segment.range.max - segment.range.min);\n",
       "                            return mix(segment.domain.min, segment.domain.max, amount)\n",
       "                        }\n",
       "                        else if(segment.scale[0] == \"log\")\n",
       "                        {\n",
       "                            var amount = (range - segment.range.min) / (segment.range.max - segment.range.min);\n",
       "                            var base = segment.scale[1];\n",
       "                            return sign(segment.domain.min) * Math.pow(base, mix(log(segment.domain.min, base), log(segment.domain.max, base), amount));\n",
       "                        }\n",
       "                    }\n",
       "                }\n",
       "            }\n",
       "\n",
       "            var axes = {};\n",
       "\n",
       "            function display_coordinates(e)\n",
       "            {\n",
       "                var current = canvas.createSVGPoint();\n",
       "                current.x = e.clientX;\n",
       "                current.y = e.clientY;\n",
       "\n",
       "                for(var axis_id in axes)\n",
       "                {\n",
       "                    var axis = document.querySelector(\"#\" + axis_id);\n",
       "                    var coordinates = axis.querySelector(\".toyplot-coordinates-Axis-coordinates\");\n",
       "                    if(coordinates)\n",
       "                    {\n",
       "                        var projection = axes[axis_id];\n",
       "                        var local = current.matrixTransform(axis.getScreenCTM().inverse());\n",
       "                        if(inside(local.x, projection))\n",
       "                        {\n",
       "                            var domain = to_domain(local.x, projection);\n",
       "                            coordinates.style.visibility = \"visible\";\n",
       "                            coordinates.setAttribute(\"transform\", \"translate(\" + local.x + \")\");\n",
       "                            var text = coordinates.querySelector(\"text\");\n",
       "                            text.textContent = domain.toFixed(2);\n",
       "                        }\n",
       "                        else\n",
       "                        {\n",
       "                            coordinates.style.visibility= \"hidden\";\n",
       "                        }\n",
       "                    }\n",
       "                }\n",
       "            }\n",
       "\n",
       "            canvas.addEventListener(\"click\", display_coordinates);\n",
       "\n",
       "            var module = {};\n",
       "            module.show_coordinates = function(axis_id, projection)\n",
       "            {\n",
       "                axes[axis_id] = projection;\n",
       "            }\n",
       "\n",
       "            return module;\n",
       "        })(modules[\"toyplot/canvas\"]);\n",
       "(function(axis, axis_id, projection)\n",
       "        {\n",
       "            axis.show_coordinates(axis_id, projection);\n",
       "        })(modules[\"toyplot.coordinates.Axis\"],\"t139fca8d62434cac92c0d03b29f63030\",[{\"domain\": {\"bounds\": {\"max\": Infinity, \"min\": -Infinity}, \"max\": 0.5, \"min\": -0.5}, \"range\": {\"bounds\": {\"max\": Infinity, \"min\": -Infinity}, \"max\": 150.0, \"min\": 0.0}, \"scale\": \"linear\"}]);\n",
       "})();</script></div></div>"
      ]
     },
     "metadata": {},
     "output_type": "display_data"
    }
   ],
   "source": [
    "toytree.ToyTree(toytree.Node()).draw('c');"
   ]
  },
  {
   "cell_type": "code",
   "execution_count": 17,
   "id": "9abd9295",
   "metadata": {},
   "outputs": [
    {
     "data": {
      "text/plain": [
       "(<toyplot.canvas.Canvas at 0x7f14094f65e0>,\n",
       " <toyplot.coordinates.Cartesian at 0x7f14094f6700>,\n",
       " <toytree.core.drawing.toytree_mark.ToytreeMark at 0x7f14094f6ee0>)"
      ]
     },
     "execution_count": 17,
     "metadata": {},
     "output_type": "execute_result"
    },
    {
     "data": {
      "text/html": [
       "<div class=\"toyplot\" id=\"td9c2fbf13ccc40f6b50bb8c5a9e4e78b\" style=\"text-align:center\"><svg class=\"toyplot-canvas-Canvas\" xmlns:toyplot=\"http://www.sandia.gov/toyplot\" xmlns:xlink=\"http://www.w3.org/1999/xlink\" xmlns=\"http://www.w3.org/2000/svg\" width=\"350.0px\" height=\"255.0px\" viewBox=\"0 0 350.0 255.0\" preserveAspectRatio=\"xMidYMid meet\" style=\"background-color:transparent;border-color:#292724;border-style:none;border-width:1.0;fill:rgb(16.1%,15.3%,14.1%);fill-opacity:1.0;font-family:Helvetica;font-size:12px;opacity:1.0;stroke:rgb(16.1%,15.3%,14.1%);stroke-opacity:1.0;stroke-width:1.0\" id=\"tedf6558c2e7b49209dfd0c7e59a21cf9\"><g class=\"toyplot-coordinates-Cartesian\" id=\"tf4f3ceb16b6d4bbea312a571b7a62026\"><clipPath id=\"t9eb562115d644c419d20263665ff980e\"><rect x=\"35.0\" y=\"35.0\" width=\"280.0\" height=\"185.0\"></rect></clipPath><g clip-path=\"url(#t9eb562115d644c419d20263665ff980e)\"><g class=\"toytree-mark-Toytree\" id=\"t0cf3560d68e542f49d18bf10fb7dc764\"><g class=\"toytree-Edges\" style=\"fill:none;stroke:#262626;stroke-linecap:round;stroke-width:2\"><path d=\"M 175.0 52.8 L 175.0 176.2\" id=\"1,0\" style=\"stroke-width:nan\"></path></g><g class=\"toytree-Nodes\" style=\"fill:rgba(40.0%,76.1%,64.7%,1.000);stroke:#262626;stroke-width:1.5\"><g id=\"node-0\" transform=\"translate(175.000,176.161)\"><circle r=\"3.5\"></circle></g><g id=\"node-1\" transform=\"translate(175.000,52.786)\"><circle r=\"3.5\"></circle></g></g><g class=\"toytree-TipLabels\" style=\"fill:rgb(16.1%,15.3%,14.1%);fill-opacity:1.0;font-family:Helvetica;font-size:11.0px;font-weight:300;stroke:none;vertical-align:baseline;white-space:pre\"><g class=\"toytree-TipLabel\" transform=\"translate(175.0,176.16056939794177)rotate(90.0)\"><text x=\"12.0\" y=\"2.8104999999999993\" style=\"\">0</text></g></g></g></g><g class=\"toyplot-coordinates-Axis\" id=\"t970df35f432c4ba0a0547a9c7d9b47be\" transform=\"translate(50.0,205.0)rotate(-90.0)translate(0,-15.0)\"><line x1=\"28.839430602058215\" y1=\"0\" x2=\"152.21411991865745\" y2=\"0\" style=\"\"></line><g><line x1=\"28.839430602058215\" y1=\"0\" x2=\"28.839430602058215\" y2=\"5\" style=\"\"></line><line x1=\"90.52677526035782\" y1=\"0\" x2=\"90.52677526035782\" y2=\"5\" style=\"\"></line><line x1=\"152.21411991865745\" y1=\"0\" x2=\"152.21411991865745\" y2=\"5\" style=\"\"></line></g><g><g transform=\"translate(28.839430602058215,-6)\"><text x=\"-2.78\" y=\"-4.440892098500626e-16\" style=\"fill:rgb(16.1%,15.3%,14.1%);fill-opacity:1.0;font-family:helvetica;font-size:10.0px;font-weight:normal;stroke:none;vertical-align:baseline;white-space:pre\">0</text></g><g transform=\"translate(90.52677526035782,-6)\"><text x=\"-6.95\" y=\"-4.440892098500626e-16\" style=\"fill:rgb(16.1%,15.3%,14.1%);fill-opacity:1.0;font-family:helvetica;font-size:10.0px;font-weight:normal;stroke:none;vertical-align:baseline;white-space:pre\">0.5</text></g><g transform=\"translate(152.21411991865745,-6)\"><text x=\"-2.78\" y=\"-4.440892098500626e-16\" style=\"fill:rgb(16.1%,15.3%,14.1%);fill-opacity:1.0;font-family:helvetica;font-size:10.0px;font-weight:normal;stroke:none;vertical-align:baseline;white-space:pre\">1</text></g></g><g class=\"toyplot-coordinates-Axis-coordinates\" style=\"visibility:hidden\" transform=\"\"><line x1=\"0\" x2=\"0\" y1=\"3.0\" y2=\"-4.5\" style=\"stroke:rgb(43.9%,50.2%,56.5%);stroke-opacity:1.0;stroke-width:1.0\"></line><text x=\"0\" y=\"6\" style=\"alignment-baseline:hanging;fill:rgb(43.9%,50.2%,56.5%);fill-opacity:1.0;font-size:10px;font-weight:normal;stroke:none;text-anchor:middle\"></text></g></g></g></svg><div class=\"toyplot-behavior\"><script>(function()\n",
       "{\n",
       "var modules={};\n",
       "modules[\"toyplot/canvas/id\"] = \"tedf6558c2e7b49209dfd0c7e59a21cf9\";\n",
       "modules[\"toyplot/canvas\"] = (function(canvas_id)\n",
       "    {\n",
       "        return document.querySelector(\"#\" + canvas_id);\n",
       "    })(modules[\"toyplot/canvas/id\"]);\n",
       "modules[\"toyplot.coordinates.Axis\"] = (\n",
       "        function(canvas)\n",
       "        {\n",
       "            function sign(x)\n",
       "            {\n",
       "                return x < 0 ? -1 : x > 0 ? 1 : 0;\n",
       "            }\n",
       "\n",
       "            function mix(a, b, amount)\n",
       "            {\n",
       "                return ((1.0 - amount) * a) + (amount * b);\n",
       "            }\n",
       "\n",
       "            function log(x, base)\n",
       "            {\n",
       "                return Math.log(Math.abs(x)) / Math.log(base);\n",
       "            }\n",
       "\n",
       "            function in_range(a, x, b)\n",
       "            {\n",
       "                var left = Math.min(a, b);\n",
       "                var right = Math.max(a, b);\n",
       "                return left <= x && x <= right;\n",
       "            }\n",
       "\n",
       "            function inside(range, projection)\n",
       "            {\n",
       "                for(var i = 0; i != projection.length; ++i)\n",
       "                {\n",
       "                    var segment = projection[i];\n",
       "                    if(in_range(segment.range.min, range, segment.range.max))\n",
       "                        return true;\n",
       "                }\n",
       "                return false;\n",
       "            }\n",
       "\n",
       "            function to_domain(range, projection)\n",
       "            {\n",
       "                for(var i = 0; i != projection.length; ++i)\n",
       "                {\n",
       "                    var segment = projection[i];\n",
       "                    if(in_range(segment.range.bounds.min, range, segment.range.bounds.max))\n",
       "                    {\n",
       "                        if(segment.scale == \"linear\")\n",
       "                        {\n",
       "                            var amount = (range - segment.range.min) / (segment.range.max - segment.range.min);\n",
       "                            return mix(segment.domain.min, segment.domain.max, amount)\n",
       "                        }\n",
       "                        else if(segment.scale[0] == \"log\")\n",
       "                        {\n",
       "                            var amount = (range - segment.range.min) / (segment.range.max - segment.range.min);\n",
       "                            var base = segment.scale[1];\n",
       "                            return sign(segment.domain.min) * Math.pow(base, mix(log(segment.domain.min, base), log(segment.domain.max, base), amount));\n",
       "                        }\n",
       "                    }\n",
       "                }\n",
       "            }\n",
       "\n",
       "            var axes = {};\n",
       "\n",
       "            function display_coordinates(e)\n",
       "            {\n",
       "                var current = canvas.createSVGPoint();\n",
       "                current.x = e.clientX;\n",
       "                current.y = e.clientY;\n",
       "\n",
       "                for(var axis_id in axes)\n",
       "                {\n",
       "                    var axis = document.querySelector(\"#\" + axis_id);\n",
       "                    var coordinates = axis.querySelector(\".toyplot-coordinates-Axis-coordinates\");\n",
       "                    if(coordinates)\n",
       "                    {\n",
       "                        var projection = axes[axis_id];\n",
       "                        var local = current.matrixTransform(axis.getScreenCTM().inverse());\n",
       "                        if(inside(local.x, projection))\n",
       "                        {\n",
       "                            var domain = to_domain(local.x, projection);\n",
       "                            coordinates.style.visibility = \"visible\";\n",
       "                            coordinates.setAttribute(\"transform\", \"translate(\" + local.x + \")\");\n",
       "                            var text = coordinates.querySelector(\"text\");\n",
       "                            text.textContent = domain.toFixed(2);\n",
       "                        }\n",
       "                        else\n",
       "                        {\n",
       "                            coordinates.style.visibility= \"hidden\";\n",
       "                        }\n",
       "                    }\n",
       "                }\n",
       "            }\n",
       "\n",
       "            canvas.addEventListener(\"click\", display_coordinates);\n",
       "\n",
       "            var module = {};\n",
       "            module.show_coordinates = function(axis_id, projection)\n",
       "            {\n",
       "                axes[axis_id] = projection;\n",
       "            }\n",
       "\n",
       "            return module;\n",
       "        })(modules[\"toyplot/canvas\"]);\n",
       "(function(axis, axis_id, projection)\n",
       "        {\n",
       "            axis.show_coordinates(axis_id, projection);\n",
       "        })(modules[\"toyplot.coordinates.Axis\"],\"t970df35f432c4ba0a0547a9c7d9b47be\",[{\"domain\": {\"bounds\": {\"max\": Infinity, \"min\": -Infinity}, \"max\": 1.0225806451612902, \"min\": -0.23375483870967742}, \"range\": {\"bounds\": {\"max\": Infinity, \"min\": -Infinity}, \"max\": 155.0, \"min\": 0.0}, \"scale\": \"linear\"}]);\n",
       "})();</script></div></div>"
      ]
     },
     "metadata": {},
     "output_type": "display_data"
    }
   ],
   "source": [
    "toytree.tree(\"(0:);\").draw('c')"
   ]
  },
  {
   "cell_type": "code",
   "execution_count": 8,
   "id": "cb313dea",
   "metadata": {},
   "outputs": [
    {
     "ename": "ValueError",
     "evalue": "cannot convert float NaN to integer",
     "output_type": "error",
     "traceback": [
      "\u001b[0;31m---------------------------------------------------------------------------\u001b[0m",
      "\u001b[0;31mValueError\u001b[0m                                Traceback (most recent call last)",
      "Input \u001b[0;32mIn [8]\u001b[0m, in \u001b[0;36m<cell line: 3>\u001b[0;34m()\u001b[0m\n\u001b[1;32m      1\u001b[0m \u001b[38;5;28;01mimport\u001b[39;00m \u001b[38;5;21;01mtoytree\u001b[39;00m\n\u001b[1;32m      2\u001b[0m \u001b[38;5;66;03m# toytree.tree(\"(0:0);\").draw();\u001b[39;00m\n\u001b[0;32m----> 3\u001b[0m \u001b[43mtoytree\u001b[49m\u001b[38;5;241;43m.\u001b[39;49m\u001b[43mtree\u001b[49m\u001b[43m(\u001b[49m\u001b[38;5;124;43m\"\u001b[39;49m\u001b[38;5;124;43m;\u001b[39;49m\u001b[38;5;124;43m\"\u001b[39;49m\u001b[43m)\u001b[49m\u001b[38;5;241;43m.\u001b[39;49m\u001b[43mdraw\u001b[49m\u001b[43m(\u001b[49m\u001b[38;5;124;43m'\u001b[39;49m\u001b[38;5;124;43mc\u001b[39;49m\u001b[38;5;124;43m'\u001b[39;49m\u001b[43m)\u001b[49m\n",
      "File \u001b[0;32m~/Documents/toytree/toytree/core/tree.py:1740\u001b[0m, in \u001b[0;36mToyTree.draw\u001b[0;34m(self, tree_style, height, width, axes, layout, tip_labels, tip_labels_colors, tip_labels_angles, tip_labels_style, tip_labels_align, node_mask, node_labels, node_labels_style, node_sizes, node_colors, node_style, node_hover, node_markers, edge_colors, edge_widths, edge_type, edge_style, edge_align_style, use_edge_lengths, scale_bar, padding, xbaseline, ybaseline, admixture_edges, shrink, fixed_order, fixed_position, **kwargs)\u001b[0m\n\u001b[1;32m   1552\u001b[0m \u001b[38;5;28;01mdef\u001b[39;00m \u001b[38;5;21mdraw\u001b[39m(\n\u001b[1;32m   1553\u001b[0m     \u001b[38;5;28mself\u001b[39m,\n\u001b[1;32m   1554\u001b[0m     tree_style: Optional[\u001b[38;5;28mstr\u001b[39m]\u001b[38;5;241m=\u001b[39m\u001b[38;5;28;01mNone\u001b[39;00m,\n\u001b[0;32m   (...)\u001b[0m\n\u001b[1;32m   1586\u001b[0m     \u001b[38;5;241m*\u001b[39m\u001b[38;5;241m*\u001b[39mkwargs,\n\u001b[1;32m   1587\u001b[0m     ) \u001b[38;5;241m-\u001b[39m\u001b[38;5;241m>\u001b[39m Tuple[Canvas, Cartesian, ToytreeMark]:\n\u001b[1;32m   1588\u001b[0m     \u001b[38;5;124;03m\"\"\"Return a drawing on the tree as a Toyplot figure.\u001b[39;00m\n\u001b[1;32m   1589\u001b[0m \n\u001b[1;32m   1590\u001b[0m \u001b[38;5;124;03m    The drawing function return a tuple of Toyplot objects as\u001b[39;00m\n\u001b[0;32m   (...)\u001b[0m\n\u001b[1;32m   1738\u001b[0m \u001b[38;5;124;03m    >>> toyplot.svg.render(canvas, \"saved-plot.svg\")\u001b[39;00m\n\u001b[1;32m   1739\u001b[0m \u001b[38;5;124;03m    \"\"\"\u001b[39;00m\n\u001b[0;32m-> 1740\u001b[0m     \u001b[38;5;28;01mreturn\u001b[39;00m \u001b[43mdraw_toytree\u001b[49m\u001b[43m(\u001b[49m\n\u001b[1;32m   1741\u001b[0m \u001b[43m        \u001b[49m\u001b[43mtoytree\u001b[49m\u001b[38;5;241;43m=\u001b[39;49m\u001b[38;5;28;43mself\u001b[39;49m\u001b[43m,\u001b[49m\n\u001b[1;32m   1742\u001b[0m \u001b[43m        \u001b[49m\u001b[43mtree_style\u001b[49m\u001b[38;5;241;43m=\u001b[39;49m\u001b[43mtree_style\u001b[49m\u001b[43m,\u001b[49m\n\u001b[1;32m   1743\u001b[0m \u001b[43m        \u001b[49m\u001b[43maxes\u001b[49m\u001b[38;5;241;43m=\u001b[39;49m\u001b[43maxes\u001b[49m\u001b[43m,\u001b[49m\n\u001b[1;32m   1744\u001b[0m \u001b[43m        \u001b[49m\u001b[43mheight\u001b[49m\u001b[38;5;241;43m=\u001b[39;49m\u001b[43mheight\u001b[49m\u001b[43m,\u001b[49m\n\u001b[1;32m   1745\u001b[0m \u001b[43m        \u001b[49m\u001b[43mwidth\u001b[49m\u001b[38;5;241;43m=\u001b[39;49m\u001b[43mwidth\u001b[49m\u001b[43m,\u001b[49m\n\u001b[1;32m   1746\u001b[0m \u001b[43m        \u001b[49m\u001b[43mlayout\u001b[49m\u001b[38;5;241;43m=\u001b[39;49m\u001b[43mlayout\u001b[49m\u001b[43m,\u001b[49m\n\u001b[1;32m   1747\u001b[0m \u001b[43m        \u001b[49m\u001b[43mtip_labels\u001b[49m\u001b[38;5;241;43m=\u001b[39;49m\u001b[43mtip_labels\u001b[49m\u001b[43m,\u001b[49m\n\u001b[1;32m   1748\u001b[0m \u001b[43m        \u001b[49m\u001b[43mtip_labels_colors\u001b[49m\u001b[38;5;241;43m=\u001b[39;49m\u001b[43mtip_labels_colors\u001b[49m\u001b[43m,\u001b[49m\n\u001b[1;32m   1749\u001b[0m \u001b[43m        \u001b[49m\u001b[43mtip_labels_align\u001b[49m\u001b[38;5;241;43m=\u001b[39;49m\u001b[43mtip_labels_align\u001b[49m\u001b[43m,\u001b[49m\n\u001b[1;32m   1750\u001b[0m \u001b[43m        \u001b[49m\u001b[43mtip_labels_angles\u001b[49m\u001b[38;5;241;43m=\u001b[39;49m\u001b[43mtip_labels_angles\u001b[49m\u001b[43m,\u001b[49m\n\u001b[1;32m   1751\u001b[0m \u001b[43m        \u001b[49m\u001b[43mtip_labels_style\u001b[49m\u001b[38;5;241;43m=\u001b[39;49m\u001b[43mtip_labels_style\u001b[49m\u001b[43m,\u001b[49m\n\u001b[1;32m   1752\u001b[0m \u001b[43m        \u001b[49m\u001b[43mnode_mask\u001b[49m\u001b[38;5;241;43m=\u001b[39;49m\u001b[43mnode_mask\u001b[49m\u001b[43m,\u001b[49m\n\u001b[1;32m   1753\u001b[0m \u001b[43m        \u001b[49m\u001b[43mnode_labels\u001b[49m\u001b[38;5;241;43m=\u001b[39;49m\u001b[43mnode_labels\u001b[49m\u001b[43m,\u001b[49m\n\u001b[1;32m   1754\u001b[0m \u001b[43m        \u001b[49m\u001b[43mnode_labels_style\u001b[49m\u001b[38;5;241;43m=\u001b[39;49m\u001b[43mnode_labels_style\u001b[49m\u001b[43m,\u001b[49m\n\u001b[1;32m   1755\u001b[0m \u001b[43m        \u001b[49m\u001b[43mnode_sizes\u001b[49m\u001b[38;5;241;43m=\u001b[39;49m\u001b[43mnode_sizes\u001b[49m\u001b[43m,\u001b[49m\n\u001b[1;32m   1756\u001b[0m \u001b[43m        \u001b[49m\u001b[43mnode_hover\u001b[49m\u001b[38;5;241;43m=\u001b[39;49m\u001b[43mnode_hover\u001b[49m\u001b[43m,\u001b[49m\n\u001b[1;32m   1757\u001b[0m \u001b[43m        \u001b[49m\u001b[43mnode_style\u001b[49m\u001b[38;5;241;43m=\u001b[39;49m\u001b[43mnode_style\u001b[49m\u001b[43m,\u001b[49m\n\u001b[1;32m   1758\u001b[0m \u001b[43m        \u001b[49m\u001b[43mnode_colors\u001b[49m\u001b[38;5;241;43m=\u001b[39;49m\u001b[43mnode_colors\u001b[49m\u001b[43m,\u001b[49m\n\u001b[1;32m   1759\u001b[0m \u001b[43m        \u001b[49m\u001b[43mnode_markers\u001b[49m\u001b[38;5;241;43m=\u001b[39;49m\u001b[43mnode_markers\u001b[49m\u001b[43m,\u001b[49m\n\u001b[1;32m   1760\u001b[0m \u001b[43m        \u001b[49m\u001b[43medge_type\u001b[49m\u001b[38;5;241;43m=\u001b[39;49m\u001b[43medge_type\u001b[49m\u001b[43m,\u001b[49m\n\u001b[1;32m   1761\u001b[0m \u001b[43m        \u001b[49m\u001b[43medge_colors\u001b[49m\u001b[38;5;241;43m=\u001b[39;49m\u001b[43medge_colors\u001b[49m\u001b[43m,\u001b[49m\n\u001b[1;32m   1762\u001b[0m \u001b[43m        \u001b[49m\u001b[43medge_widths\u001b[49m\u001b[38;5;241;43m=\u001b[39;49m\u001b[43medge_widths\u001b[49m\u001b[43m,\u001b[49m\n\u001b[1;32m   1763\u001b[0m \u001b[43m        \u001b[49m\u001b[43medge_style\u001b[49m\u001b[38;5;241;43m=\u001b[39;49m\u001b[43medge_style\u001b[49m\u001b[43m,\u001b[49m\n\u001b[1;32m   1764\u001b[0m \u001b[43m        \u001b[49m\u001b[43medge_align_style\u001b[49m\u001b[38;5;241;43m=\u001b[39;49m\u001b[43medge_align_style\u001b[49m\u001b[43m,\u001b[49m\n\u001b[1;32m   1765\u001b[0m \u001b[43m        \u001b[49m\u001b[43muse_edge_lengths\u001b[49m\u001b[38;5;241;43m=\u001b[39;49m\u001b[43muse_edge_lengths\u001b[49m\u001b[43m,\u001b[49m\n\u001b[1;32m   1766\u001b[0m \u001b[43m        \u001b[49m\u001b[43mscale_bar\u001b[49m\u001b[38;5;241;43m=\u001b[39;49m\u001b[43mscale_bar\u001b[49m\u001b[43m,\u001b[49m\n\u001b[1;32m   1767\u001b[0m \u001b[43m        \u001b[49m\u001b[43mpadding\u001b[49m\u001b[38;5;241;43m=\u001b[39;49m\u001b[43mpadding\u001b[49m\u001b[43m,\u001b[49m\n\u001b[1;32m   1768\u001b[0m \u001b[43m        \u001b[49m\u001b[43mxbaseline\u001b[49m\u001b[38;5;241;43m=\u001b[39;49m\u001b[43mxbaseline\u001b[49m\u001b[43m,\u001b[49m\n\u001b[1;32m   1769\u001b[0m \u001b[43m        \u001b[49m\u001b[43mybaseline\u001b[49m\u001b[38;5;241;43m=\u001b[39;49m\u001b[43mybaseline\u001b[49m\u001b[43m,\u001b[49m\n\u001b[1;32m   1770\u001b[0m \u001b[43m        \u001b[49m\u001b[43madmixture_edges\u001b[49m\u001b[38;5;241;43m=\u001b[39;49m\u001b[43madmixture_edges\u001b[49m\u001b[43m,\u001b[49m\n\u001b[1;32m   1771\u001b[0m \u001b[43m        \u001b[49m\u001b[43mshrink\u001b[49m\u001b[38;5;241;43m=\u001b[39;49m\u001b[43mshrink\u001b[49m\u001b[43m,\u001b[49m\n\u001b[1;32m   1772\u001b[0m \u001b[43m        \u001b[49m\u001b[43mfixed_order\u001b[49m\u001b[38;5;241;43m=\u001b[39;49m\u001b[43mfixed_order\u001b[49m\u001b[43m,\u001b[49m\n\u001b[1;32m   1773\u001b[0m \u001b[43m        \u001b[49m\u001b[43mfixed_position\u001b[49m\u001b[38;5;241;43m=\u001b[39;49m\u001b[43mfixed_position\u001b[49m\u001b[43m,\u001b[49m\n\u001b[1;32m   1774\u001b[0m \u001b[43m        \u001b[49m\u001b[43mkwargs\u001b[49m\u001b[38;5;241;43m=\u001b[39;49m\u001b[43mkwargs\u001b[49m\u001b[43m,\u001b[49m\n\u001b[1;32m   1775\u001b[0m \u001b[43m    \u001b[49m\u001b[43m)\u001b[49m\n",
      "File \u001b[0;32m~/Documents/toytree/toytree/core/drawing/draw_toytree.py:79\u001b[0m, in \u001b[0;36mdraw_toytree\u001b[0;34m(**kwargs)\u001b[0m\n\u001b[1;32m     76\u001b[0m style\u001b[38;5;241m.\u001b[39mvalidate(tree\u001b[38;5;241m=\u001b[39mtree)\n\u001b[1;32m     78\u001b[0m \u001b[38;5;66;03m# get canvas and axes\u001b[39;00m\n\u001b[0;32m---> 79\u001b[0m csetup \u001b[38;5;241m=\u001b[39m \u001b[43mCanvasSetup\u001b[49m\u001b[43m(\u001b[49m\u001b[43mtree\u001b[49m\u001b[43m,\u001b[49m\u001b[43m \u001b[49m\u001b[43maxes\u001b[49m\u001b[43m,\u001b[49m\u001b[43m \u001b[49m\u001b[43mstyle\u001b[49m\u001b[43m)\u001b[49m\n\u001b[1;32m     80\u001b[0m canvas \u001b[38;5;241m=\u001b[39m csetup\u001b[38;5;241m.\u001b[39mcanvas\n\u001b[1;32m     81\u001b[0m axes \u001b[38;5;241m=\u001b[39m csetup\u001b[38;5;241m.\u001b[39maxes\n",
      "File \u001b[0;32m~/Documents/toytree/toytree/core/drawing/canvas_setup.py:151\u001b[0m, in \u001b[0;36mCanvasSetup.__init__\u001b[0;34m(self, tree, axes, style)\u001b[0m\n\u001b[1;32m    149\u001b[0m     ndists \u001b[38;5;241m=\u001b[39m \u001b[38;5;28mself\u001b[39m\u001b[38;5;241m.\u001b[39mtree\u001b[38;5;241m.\u001b[39mdistance\u001b[38;5;241m.\u001b[39mget_node_distance_matrix(\u001b[38;5;28;01mTrue\u001b[39;00m)\n\u001b[1;32m    150\u001b[0m     theight \u001b[38;5;241m=\u001b[39m ndists[\u001b[38;5;28mself\u001b[39m\u001b[38;5;241m.\u001b[39mtree\u001b[38;5;241m.\u001b[39mtreenode\u001b[38;5;241m.\u001b[39midx]\u001b[38;5;241m.\u001b[39mmax()\n\u001b[0;32m--> 151\u001b[0m \u001b[43mstyle_ticks\u001b[49m\u001b[43m(\u001b[49m\u001b[43mtheight\u001b[49m\u001b[43m,\u001b[49m\u001b[43m \u001b[49m\u001b[38;5;28;43mself\u001b[39;49m\u001b[38;5;241;43m.\u001b[39;49m\u001b[43maxes\u001b[49m\u001b[43m,\u001b[49m\u001b[43m \u001b[49m\u001b[38;5;28;43mself\u001b[39;49m\u001b[38;5;241;43m.\u001b[39;49m\u001b[43mstyle\u001b[49m\u001b[43m,\u001b[49m\u001b[43m \u001b[49m\u001b[38;5;28;43;01mTrue\u001b[39;49;00m\u001b[43m)\u001b[49m\n",
      "File \u001b[0;32m~/Documents/toytree/toytree/core/drawing/canvas_setup.py:245\u001b[0m, in \u001b[0;36mstyle_ticks\u001b[0;34m(tree_height, axes, style, only_inside)\u001b[0m\n\u001b[1;32m    243\u001b[0m     locs \u001b[38;5;241m=\u001b[39m lct\u001b[38;5;241m.\u001b[39mticks(\u001b[38;5;241m-\u001b[39mtree_height, \u001b[38;5;241m-\u001b[39m\u001b[38;5;241m0\u001b[39m)[\u001b[38;5;241m0\u001b[39m]\n\u001b[1;32m    244\u001b[0m \u001b[38;5;28;01melse\u001b[39;00m:\n\u001b[0;32m--> 245\u001b[0m     locs \u001b[38;5;241m=\u001b[39m \u001b[43mlct\u001b[49m\u001b[38;5;241;43m.\u001b[39;49m\u001b[43mticks\u001b[49m\u001b[43m(\u001b[49m\u001b[38;5;241;43m0\u001b[39;49m\u001b[43m,\u001b[49m\u001b[43m \u001b[49m\u001b[43mtree_height\u001b[49m\u001b[43m)\u001b[49m[\u001b[38;5;241m0\u001b[39m]\n\u001b[1;32m    247\u001b[0m \u001b[38;5;66;03m# apply unit scaling\u001b[39;00m\n\u001b[1;32m    248\u001b[0m \u001b[38;5;28;01mif\u001b[39;00m style\u001b[38;5;241m.\u001b[39mscale_bar \u001b[38;5;129;01mis\u001b[39;00m \u001b[38;5;28;01mFalse\u001b[39;00m:\n",
      "File \u001b[0;32m~/miniconda3/envs/ipyrad/lib/python3.9/site-packages/toyplot/locator.py:276\u001b[0m, in \u001b[0;36mExtended.ticks\u001b[0;34m(self, domain_min, domain_max)\u001b[0m\n\u001b[1;32m    273\u001b[0m         j \u001b[38;5;241m=\u001b[39m j \u001b[38;5;241m+\u001b[39m \u001b[38;5;241m1\u001b[39m\n\u001b[1;32m    274\u001b[0m     \u001b[38;5;28;01mreturn\u001b[39;00m best\n\u001b[0;32m--> 276\u001b[0m lmin, lmax, lstep, q, k \u001b[38;5;241m=\u001b[39m \u001b[43mextended\u001b[49m\u001b[43m(\u001b[49m\n\u001b[1;32m    277\u001b[0m \u001b[43m    \u001b[49m\u001b[43mdomain_min\u001b[49m\u001b[43m,\u001b[49m\u001b[43m \u001b[49m\u001b[43mdomain_max\u001b[49m\u001b[43m,\u001b[49m\u001b[43m \u001b[49m\u001b[38;5;28;43mself\u001b[39;49m\u001b[38;5;241;43m.\u001b[39;49m\u001b[43m_count\u001b[49m\u001b[43m \u001b[49m\u001b[38;5;241;43m-\u001b[39;49m\u001b[43m \u001b[49m\u001b[38;5;241;43m1\u001b[39;49m\u001b[43m,\u001b[49m\u001b[43m \u001b[49m\u001b[38;5;28;43mself\u001b[39;49m\u001b[38;5;241;43m.\u001b[39;49m\u001b[43m_steps\u001b[49m\u001b[43m,\u001b[49m\u001b[43m \u001b[49m\u001b[38;5;28;43mself\u001b[39;49m\u001b[38;5;241;43m.\u001b[39;49m\u001b[43m_only_inside\u001b[49m\u001b[43m,\u001b[49m\u001b[43m \u001b[49m\u001b[38;5;28;43mself\u001b[39;49m\u001b[38;5;241;43m.\u001b[39;49m\u001b[43m_weights\u001b[49m\u001b[43m)\u001b[49m\n\u001b[1;32m    278\u001b[0m locations \u001b[38;5;241m=\u001b[39m numpy\u001b[38;5;241m.\u001b[39marange(k) \u001b[38;5;241m*\u001b[39m lstep \u001b[38;5;241m+\u001b[39m lmin\n\u001b[1;32m    279\u001b[0m digits \u001b[38;5;241m=\u001b[39m \u001b[38;5;28mmax\u001b[39m(\u001b[38;5;241m0\u001b[39m, \u001b[38;5;28mint\u001b[39m(numpy\u001b[38;5;241m.\u001b[39mmax(\u001b[38;5;241m-\u001b[39mnumpy\u001b[38;5;241m.\u001b[39mfloor(numpy\u001b[38;5;241m.\u001b[39mlog10(lstep)), \u001b[38;5;241m0\u001b[39m)))\n",
      "File \u001b[0;32m~/miniconda3/envs/ipyrad/lib/python3.9/site-packages/toyplot/locator.py:254\u001b[0m, in \u001b[0;36mExtended.ticks.<locals>.extended\u001b[0;34m(dmin, dmax, m, Q, only_inside, w)\u001b[0m\n\u001b[1;32m    250\u001b[0m     z \u001b[38;5;241m=\u001b[39m z \u001b[38;5;241m+\u001b[39m \u001b[38;5;241m1\u001b[39m\n\u001b[1;32m    251\u001b[0m     \u001b[38;5;28;01mbreak\u001b[39;00m\n\u001b[1;32m    253\u001b[0m \u001b[38;5;28;01mfor\u001b[39;00m start \u001b[38;5;129;01min\u001b[39;00m \u001b[38;5;28mrange\u001b[39m(\n\u001b[0;32m--> 254\u001b[0m         \u001b[38;5;28;43mint\u001b[39;49m\u001b[43m(\u001b[49m\u001b[43mmin_start\u001b[49m\u001b[43m)\u001b[49m,\n\u001b[1;32m    255\u001b[0m         \u001b[38;5;28mint\u001b[39m(max_start) \u001b[38;5;241m+\u001b[39m \u001b[38;5;241m1\u001b[39m):\n\u001b[1;32m    256\u001b[0m     lmin \u001b[38;5;241m=\u001b[39m start \u001b[38;5;241m*\u001b[39m (step \u001b[38;5;241m/\u001b[39m j)\n\u001b[1;32m    257\u001b[0m     lmax \u001b[38;5;241m=\u001b[39m lmin \u001b[38;5;241m+\u001b[39m step \u001b[38;5;241m*\u001b[39m (k \u001b[38;5;241m-\u001b[39m \u001b[38;5;241m1.0\u001b[39m)\n",
      "\u001b[0;31mValueError\u001b[0m: cannot convert float NaN to integer"
     ]
    },
    {
     "data": {
      "text/html": [
       "<div class=\"toyplot\" id=\"tb47430b9868049ac9f8ac7d89138a32e\" style=\"text-align:center\"><svg class=\"toyplot-canvas-Canvas\" xmlns:toyplot=\"http://www.sandia.gov/toyplot\" xmlns:xlink=\"http://www.w3.org/1999/xlink\" xmlns=\"http://www.w3.org/2000/svg\" width=\"350.0px\" height=\"250.0px\" viewBox=\"0 0 350.0 250.0\" preserveAspectRatio=\"xMidYMid meet\" style=\"background-color:transparent;border-color:#292724;border-style:none;border-width:1.0;fill:rgb(16.1%,15.3%,14.1%);fill-opacity:1.0;font-family:Helvetica;font-size:12px;opacity:1.0;stroke:rgb(16.1%,15.3%,14.1%);stroke-opacity:1.0;stroke-width:1.0\" id=\"t49a820aa0e03454fad583aff003c6231\"><g class=\"toyplot-coordinates-Cartesian\" id=\"t2db8e6c299d14425bcf97181c44c6c45\"><clipPath id=\"t5af25befc9b9468394aaf465852f30ea\"><rect x=\"35.0\" y=\"35.0\" width=\"280.0\" height=\"180.0\"></rect></clipPath><g clip-path=\"url(#t5af25befc9b9468394aaf465852f30ea)\"></g><g class=\"toyplot-coordinates-Axis\" id=\"td602390833d54983b0a1b031e266c03d\" transform=\"translate(50.0,200.0)rotate(-90.0)translate(0,-15.0)\"><line x1=\"0\" y1=\"0\" x2=\"150.0\" y2=\"0\" style=\"\"></line><g><line x1=\"0.0\" y1=\"0\" x2=\"0.0\" y2=\"5\" style=\"\"></line><line x1=\"75.0\" y1=\"0\" x2=\"75.0\" y2=\"5\" style=\"\"></line><line x1=\"150.0\" y1=\"0\" x2=\"150.0\" y2=\"5\" style=\"\"></line></g><g><g transform=\"translate(0.0,-6)\"><text x=\"-8.615\" y=\"-4.440892098500626e-16\" style=\"fill:rgb(16.1%,15.3%,14.1%);fill-opacity:1.0;font-family:helvetica;font-size:10.0px;font-weight:normal;stroke:none;vertical-align:baseline;white-space:pre\">-0.5</text></g><g transform=\"translate(75.0,-6)\"><text x=\"-6.95\" y=\"-4.440892098500626e-16\" style=\"fill:rgb(16.1%,15.3%,14.1%);fill-opacity:1.0;font-family:helvetica;font-size:10.0px;font-weight:normal;stroke:none;vertical-align:baseline;white-space:pre\">0.0</text></g><g transform=\"translate(150.0,-6)\"><text x=\"-6.95\" y=\"-4.440892098500626e-16\" style=\"fill:rgb(16.1%,15.3%,14.1%);fill-opacity:1.0;font-family:helvetica;font-size:10.0px;font-weight:normal;stroke:none;vertical-align:baseline;white-space:pre\">0.5</text></g></g><g class=\"toyplot-coordinates-Axis-coordinates\" style=\"visibility:hidden\" transform=\"\"><line x1=\"0\" x2=\"0\" y1=\"3.0\" y2=\"-4.5\" style=\"stroke:rgb(43.9%,50.2%,56.5%);stroke-opacity:1.0;stroke-width:1.0\"></line><text x=\"0\" y=\"6\" style=\"alignment-baseline:hanging;fill:rgb(43.9%,50.2%,56.5%);fill-opacity:1.0;font-size:10px;font-weight:normal;stroke:none;text-anchor:middle\"></text></g></g></g></svg><div class=\"toyplot-behavior\"><script>(function()\n",
       "{\n",
       "var modules={};\n",
       "modules[\"toyplot/canvas/id\"] = \"t49a820aa0e03454fad583aff003c6231\";\n",
       "modules[\"toyplot/canvas\"] = (function(canvas_id)\n",
       "    {\n",
       "        return document.querySelector(\"#\" + canvas_id);\n",
       "    })(modules[\"toyplot/canvas/id\"]);\n",
       "modules[\"toyplot.coordinates.Axis\"] = (\n",
       "        function(canvas)\n",
       "        {\n",
       "            function sign(x)\n",
       "            {\n",
       "                return x < 0 ? -1 : x > 0 ? 1 : 0;\n",
       "            }\n",
       "\n",
       "            function mix(a, b, amount)\n",
       "            {\n",
       "                return ((1.0 - amount) * a) + (amount * b);\n",
       "            }\n",
       "\n",
       "            function log(x, base)\n",
       "            {\n",
       "                return Math.log(Math.abs(x)) / Math.log(base);\n",
       "            }\n",
       "\n",
       "            function in_range(a, x, b)\n",
       "            {\n",
       "                var left = Math.min(a, b);\n",
       "                var right = Math.max(a, b);\n",
       "                return left <= x && x <= right;\n",
       "            }\n",
       "\n",
       "            function inside(range, projection)\n",
       "            {\n",
       "                for(var i = 0; i != projection.length; ++i)\n",
       "                {\n",
       "                    var segment = projection[i];\n",
       "                    if(in_range(segment.range.min, range, segment.range.max))\n",
       "                        return true;\n",
       "                }\n",
       "                return false;\n",
       "            }\n",
       "\n",
       "            function to_domain(range, projection)\n",
       "            {\n",
       "                for(var i = 0; i != projection.length; ++i)\n",
       "                {\n",
       "                    var segment = projection[i];\n",
       "                    if(in_range(segment.range.bounds.min, range, segment.range.bounds.max))\n",
       "                    {\n",
       "                        if(segment.scale == \"linear\")\n",
       "                        {\n",
       "                            var amount = (range - segment.range.min) / (segment.range.max - segment.range.min);\n",
       "                            return mix(segment.domain.min, segment.domain.max, amount)\n",
       "                        }\n",
       "                        else if(segment.scale[0] == \"log\")\n",
       "                        {\n",
       "                            var amount = (range - segment.range.min) / (segment.range.max - segment.range.min);\n",
       "                            var base = segment.scale[1];\n",
       "                            return sign(segment.domain.min) * Math.pow(base, mix(log(segment.domain.min, base), log(segment.domain.max, base), amount));\n",
       "                        }\n",
       "                    }\n",
       "                }\n",
       "            }\n",
       "\n",
       "            var axes = {};\n",
       "\n",
       "            function display_coordinates(e)\n",
       "            {\n",
       "                var current = canvas.createSVGPoint();\n",
       "                current.x = e.clientX;\n",
       "                current.y = e.clientY;\n",
       "\n",
       "                for(var axis_id in axes)\n",
       "                {\n",
       "                    var axis = document.querySelector(\"#\" + axis_id);\n",
       "                    var coordinates = axis.querySelector(\".toyplot-coordinates-Axis-coordinates\");\n",
       "                    if(coordinates)\n",
       "                    {\n",
       "                        var projection = axes[axis_id];\n",
       "                        var local = current.matrixTransform(axis.getScreenCTM().inverse());\n",
       "                        if(inside(local.x, projection))\n",
       "                        {\n",
       "                            var domain = to_domain(local.x, projection);\n",
       "                            coordinates.style.visibility = \"visible\";\n",
       "                            coordinates.setAttribute(\"transform\", \"translate(\" + local.x + \")\");\n",
       "                            var text = coordinates.querySelector(\"text\");\n",
       "                            text.textContent = domain.toFixed(2);\n",
       "                        }\n",
       "                        else\n",
       "                        {\n",
       "                            coordinates.style.visibility= \"hidden\";\n",
       "                        }\n",
       "                    }\n",
       "                }\n",
       "            }\n",
       "\n",
       "            canvas.addEventListener(\"click\", display_coordinates);\n",
       "\n",
       "            var module = {};\n",
       "            module.show_coordinates = function(axis_id, projection)\n",
       "            {\n",
       "                axes[axis_id] = projection;\n",
       "            }\n",
       "\n",
       "            return module;\n",
       "        })(modules[\"toyplot/canvas\"]);\n",
       "(function(axis, axis_id, projection)\n",
       "        {\n",
       "            axis.show_coordinates(axis_id, projection);\n",
       "        })(modules[\"toyplot.coordinates.Axis\"],\"td602390833d54983b0a1b031e266c03d\",[{\"domain\": {\"bounds\": {\"max\": Infinity, \"min\": -Infinity}, \"max\": 0.5, \"min\": -0.5}, \"range\": {\"bounds\": {\"max\": Infinity, \"min\": -Infinity}, \"max\": 150.0, \"min\": 0.0}, \"scale\": \"linear\"}]);\n",
       "})();</script></div></div>"
      ]
     },
     "metadata": {},
     "output_type": "display_data"
    }
   ],
   "source": [
    "import toytree\n",
    "# toytree.tree(\"(0:0);\").draw();\n",
    "toytree.tree(\";\").draw('c');\n",
    "#toytree.tree(\"(0);\").draw();#get_node_data()"
   ]
  },
  {
   "cell_type": "code",
   "execution_count": 79,
   "id": "eedf9acd",
   "metadata": {},
   "outputs": [
    {
     "data": {
      "text/plain": [
       "b'%PDF-1.4\\n%\\x93\\x8c\\x8b\\x9e ReportLab Generated PDF document http://www.reportlab.com\\n1 0 obj\\n<<\\n/F1 2 0 R\\n>>\\nendobj\\n2 0 obj\\n<<\\n/BaseFont /Helvetica /Encoding /WinAnsiEncoding /Name /F1 /Subtype /Type1 /Type /Font\\n>>\\nendobj\\n3 0 obj\\n<<\\n/Contents 7 0 R /MediaBox [ 0 0 562.5 187.5 ] /Parent 6 0 R /Resources <<\\n/ExtGState <<\\n/gRLs0 <<\\n/ca 0\\n>> /gRLs1 <<\\n/ca 1\\n>>\\n>> /Font 1 0 R /ProcSet [ /PDF /Text /ImageB /ImageC /ImageI ]\\n>> /Rotate 0 /Trans <<\\n\\n>> \\n  /Type /Page\\n>>\\nendobj\\n4 0 obj\\n<<\\n/PageMode /UseNone /Pages 6 0 R /Type /Catalog\\n>>\\nendobj\\n5 0 obj\\n<<\\n/Author (anonymous) /CreationDate (D:20230131111751+05\\'00\\') /Creator (ReportLab PDF Library - www.reportlab.com) /Keywords () /ModDate (D:20230131111751+05\\'00\\') /Producer (ReportLab PDF Library - www.reportlab.com) \\n  /Subject (unspecified) /Title (untitled) /Trapped /False\\n>>\\nendobj\\n6 0 obj\\n<<\\n/Count 1 /Kids [ 3 0 R ] /Type /Pages\\n>>\\nendobj\\n7 0 obj\\n<<\\n/Filter [ /ASCII85Decode /FlateDecode ] /Length 1764\\n>>\\nstream\\nGb!lbcYhc$&B=0b$6Iq%k&U6hf*0k0`Eoi-cj(u1=VU0%Rm$E:4#<ZabGe2sJ12^2&4s,`e;QeETC`L#6K&IEnunSq+1L7IY96)gm2#e(>-\\\\#OIb@IO3\\'LrLneT.d*C``[-P6;QMKccs9corjJ,5kWduWa]571-lNP@,rM_>V&i4OFglXuoVYY+7SS%/9rChfV[gmpC<ME`2C>LA5&\":mhN1UsY356$@-r/N?jK<58(\"1E*[N*)FeP.jY?nEF.EK9A\\\\hJ>PS.#(rG`ZgGmW#r\\'(Belgske.cTuY449CX!9@T+JP3@aEOf`qGR&*jN,B\\\\c%aZkkU*6K)iUBc&)J!<kTo#>6T5)37X2qKZrjIbKBJ);#^..n>MPpgpj\"+Qj\\\\@jR(8#I[!LnHZ*lRs<cVKVSjL1?r04X]MI=+#c!;k47Y3:uBm\\\\DgAjkNQMNrnF_Wgj9u\"s1d1XR8j^ga>fWV#4>=SOCsGP#3>!:mIeEaQ*Eu!\";nRei<:g.eJ-jI_j`j:Tr%Aqc\\'.:\\'0fGGHsA\\'1Q-8?J`V%?tDEr$FFEhN,e1%Y_?t9(TdW2r55H19op)gPfTLL$LH#JYE\\\\?CLUa[%5`KfsV(9\\\\2&Cp8*[sWRN^a;bJ_^N6)Q>^$V5XXX\\'5b5_ieMa\\'s;jjBV)pYtFmEdk7K\"an`Bm^d>\\'tVA<L7[T#:KG!h$D80,FK;O70J*&.Z(FQ_)!3B&,lH*t`K/J:-()@hU(-12OOSQ!!XWs3j]7:PH8C/1irg2<&*CT%$D@;lWm$F&1i\\'+2:DNBOb=):%p=7U$KTb=\"^59*!!/7MrFeFb.%50&)bJp&n.+5`SUHVYeaF;[a4E.R_3_g&Z,SI8dA.I-.laPH5;f?[^YgL+\\\\#s^*Q0fn9@j$p\\\\i$W;EK\"J692Em(VQMWVZDnh7ZI(qa.ld)*m]#2*`$5J8WO-1;+mb&6-ad;(;aQ7_!8uM^^W3Ud1d$njhO,/>C6^qj)+/Y/lj2Xfn3d[ZEs>\\'I7H\\\\<@?Q%I;[qt*(Xm^Ml\\\\aqA8>k+!=U!:)OA7N^iWRUE:\"58\"Q>5lH<]enh\\\\JimF>&*LFlEnXg.Q!eelMAkXe&87A[gL]#OgnC>=GsibiJ*](N_\\'E>33Qo03dEO!*8:EnXCHCkG+t0)gU@1$AlK_;=b^*`\"/Ns$4>o2.G16QtLWJXqUIgA?#PncY@q1\\\\d0Xo%_`^\\'nM\\\\iTVbq!2GQ!\\\\PW:^)M`IPa?*gIp>orin6?ATkkRHFrUqlAR%[7pg;AJV=SBO0I#*k259n,X@IRfSAerP%EYUCA+<do!ZO;7!SFYL-Vm]MA>GD@T&+Ima5>DmSa=2bSs)mYlT8nlkq#NVFeqeiUf0r\\\\Y<kru8>k+!g&\"Ip*`k]i`<V84BRa)S-S)ST;Jf=`.p#)!78)URO\\\\UhiXb(XuUi$pC;jY$pOA:_PXb(XujR\"\"MNf/VPm._N&N-+iq=c@@khR=[LRb\\\\f):HWVG8X\\'0fTbL\"ZhIoA6[W/I/O/Uc5-49F;OGn%I*HW9Yq1`LMj$T1]aok)hFTRh3CHW.k\\'RkJk55@hsLMqg&F:.MI^\"-(Gijh)%PLO!:dl;;/&>C6S@IZ;uPN.`7n^JOXU>Z;<Gb1DB3]C0%8\\'=ZTP8D1,hI4Dql/[V0F.@(9pgTF-??\\\\ga23*kP39I,!\\'iNY%%FmG`3Km\\\\iitN$9:Q/4W`Y=mK?12J:itNF\\\\52\\\\f[.p\\'VJ=f>V\\'C=RG>?&dhX-,\"AWdirt9^lfJ,>6QZ[7;eB/VmQfc.M/LHh\"kE^q+\"-Y!A7JC-i~>endstream\\nendobj\\nxref\\n0 8\\n0000000000 65535 f \\n0000000073 00000 n \\n0000000104 00000 n \\n0000000211 00000 n \\n0000000463 00000 n \\n0000000531 00000 n \\n0000000827 00000 n \\n0000000886 00000 n \\ntrailer\\n<<\\n/ID \\n[<141a2fa547bdd5190b3362e568226d03><141a2fa547bdd5190b3362e568226d03>]\\n% ReportLab generated PDF document -- digest (http://www.reportlab.com)\\n\\n/Info 5 0 R\\n/Root 4 0 R\\n/Size 8\\n>>\\nstartxref\\n2741\\n%%EOF\\n'"
      ]
     },
     "execution_count": 79,
     "metadata": {},
     "output_type": "execute_result"
    }
   ],
   "source": [
    "toyplot.pdf.render(c)"
   ]
  },
  {
   "cell_type": "code",
   "execution_count": 51,
   "id": "4e43d696",
   "metadata": {},
   "outputs": [],
   "source": [
    "from xml.etree import ElementTree as xml"
   ]
  },
  {
   "cell_type": "code",
   "execution_count": null,
   "id": "fe51d156",
   "metadata": {},
   "outputs": [],
   "source": [
    "xml.tostring"
   ]
  },
  {
   "cell_type": "code",
   "execution_count": 42,
   "id": "e6cbe197",
   "metadata": {},
   "outputs": [
    {
     "data": {
      "text/html": [
       "<div class=\"toyplot\" id=\"tffb96dcee8a543a193deb6b9a22a1ba9\" style=\"text-align:center\"><svg class=\"toyplot-canvas-Canvas\" xmlns:toyplot=\"http://www.sandia.gov/toyplot\" xmlns:xlink=\"http://www.w3.org/1999/xlink\" xmlns=\"http://www.w3.org/2000/svg\" width=\"750.0px\" height=\"250.0px\" viewBox=\"0 0 750.0 250.0\" preserveAspectRatio=\"xMidYMid meet\" style=\"background-color:transparent;border-color:#292724;border-style:none;border-width:1.0;fill:rgb(16.1%,15.3%,14.1%);fill-opacity:1.0;font-family:Helvetica;font-size:12px;opacity:1.0;stroke:rgb(16.1%,15.3%,14.1%);stroke-opacity:1.0;stroke-width:1.0\" id=\"tef7b1f47eab14643bde11386f97a660b\"><g class=\"toyplot-coordinates-Cartesian\" id=\"tcdc5b4db7a144a00ba81dd8b51862ce5\"><clipPath id=\"t1dd98b2d7deb4c548e4d3199e29202eb\"><rect x=\"20.0\" y=\"40.0\" width=\"167.5\" height=\"170.0\"></rect></clipPath><g clip-path=\"url(#t1dd98b2d7deb4c548e4d3199e29202eb)\"><g class=\"toytree-mark-Toytree\" id=\"t7e31d7d262214c90958c9fb94b5792b7\"><g class=\"toytree-Edges\" style=\"fill:none;stroke:rgba(16.1%,15.3%,14.1%,1.000);stroke-linecap:round;stroke-width:2.0\"><path d=\"M 53.5 75.7 L 36.8 126.4\" id=\"5,0\" style=\"stroke-width:2.0\"></path><path d=\"M 53.5 75.7 L 70.3 171.0\" id=\"5,1\" style=\"stroke-width:2.0\"></path><path d=\"M 103.7 55.8 L 103.7 91.3\" id=\"7,2\" style=\"stroke-width:2.0\"></path><path d=\"M 154.0 63.2 L 137.2 87.9\" id=\"6,3\" style=\"stroke-width:2.0\"></path><path d=\"M 154.0 63.2 L 170.7 86.1\" id=\"6,4\" style=\"stroke-width:2.0\"></path><path d=\"M 103.7 55.8 L 53.5 75.7\" id=\"7,5\" style=\"stroke-width:2.0\"></path><path d=\"M 103.7 55.8 L 154.0 63.2\" id=\"7,6\" style=\"stroke-width:2.0\"></path></g><g class=\"toytree-Nodes\" style=\"fill:rgba(40.0%,76.1%,64.7%,1.000);stroke:#262626;stroke-width:1.0\"><g id=\"node-0\" transform=\"translate(36.808,126.432)\"><circle r=\"7.5\"></circle></g><g id=\"node-1\" transform=\"translate(70.279,170.980)\"><circle r=\"7.5\"></circle></g><g id=\"node-2\" transform=\"translate(103.750,91.305)\"><circle r=\"7.5\"></circle></g><g id=\"node-3\" transform=\"translate(137.221,87.922)\"><circle r=\"7.5\"></circle></g><g id=\"node-4\" transform=\"translate(170.692,86.065)\"><circle r=\"7.5\"></circle></g><g id=\"node-5\" transform=\"translate(53.543,75.676)\"><circle r=\"7.5\"></circle></g><g id=\"node-6\" transform=\"translate(153.957,63.160)\"><circle r=\"7.5\"></circle></g><g id=\"node-7\" transform=\"translate(103.750,55.761)\"><circle r=\"7.5\"></circle></g></g><g class=\"toytree-NodeLabels\" style=\"font-family:Helvetica;font-size:9.0px;font-weight:300;stroke:none;vertical-align:baseline;white-space:pre\"><g class=\"toytree-NodeLabel\" transform=\"translate(36.80769230769231,126.4320051316036)\"><text x=\"-2.5020000000000002\" y=\"2.2995\" style=\"fill:rgb(16.1%,15.3%,14.1%);fill-opacity:1.0\">0</text></g><g class=\"toytree-NodeLabel\" transform=\"translate(70.27884615384615,170.98013109381398)\"><text x=\"-2.5020000000000002\" y=\"2.2995\" style=\"fill:rgb(16.1%,15.3%,14.1%);fill-opacity:1.0\">1</text></g><g class=\"toytree-NodeLabel\" transform=\"translate(103.74999999999999,91.3051048930813)\"><text x=\"-2.5020000000000002\" y=\"2.2995\" style=\"fill:rgb(16.1%,15.3%,14.1%);fill-opacity:1.0\">2</text></g><g class=\"toytree-NodeLabel\" transform=\"translate(137.22115384615384,87.92209303910471)\"><text x=\"-2.5020000000000002\" y=\"2.2995\" style=\"fill:rgb(16.1%,15.3%,14.1%);fill-opacity:1.0\">3</text></g><g class=\"toytree-NodeLabel\" transform=\"translate(170.69230769230768,86.06463698613297)\"><text x=\"-2.5020000000000002\" y=\"2.2995\" style=\"fill:rgb(16.1%,15.3%,14.1%);fill-opacity:1.0\">4</text></g><g class=\"toytree-NodeLabel\" transform=\"translate(53.543269230769226,75.6761590995699)\"><text x=\"-2.5020000000000002\" y=\"2.2995\" style=\"fill:rgb(16.1%,15.3%,14.1%);fill-opacity:1.0\">5</text></g><g class=\"toytree-NodeLabel\" transform=\"translate(153.95673076923077,63.159963526290696)\"><text x=\"-2.5020000000000002\" y=\"2.2995\" style=\"fill:rgb(16.1%,15.3%,14.1%);fill-opacity:1.0\">6</text></g><g class=\"toytree-NodeLabel\" transform=\"translate(103.74999999999999,55.760958623514966)\"><text x=\"-2.5020000000000002\" y=\"2.2995\" style=\"fill:rgb(16.1%,15.3%,14.1%);fill-opacity:1.0\">7</text></g></g><g class=\"toytree-TipLabels\" style=\"fill:rgb(16.1%,15.3%,14.1%);fill-opacity:1.0;font-family:Helvetica;font-size:10.0px;font-weight:300;stroke:none;vertical-align:baseline;white-space:pre\"><g class=\"toytree-TipLabel\" transform=\"translate(36.80769230769231,126.4320051316036)rotate(90.0)\"><text x=\"10.0\" y=\"2.5549999999999997\" style=\"\">r3</text></g><g class=\"toytree-TipLabel\" transform=\"translate(70.27884615384615,170.98013109381398)rotate(90.0)\"><text x=\"10.0\" y=\"2.5549999999999997\" style=\"\">r4</text></g><g class=\"toytree-TipLabel\" transform=\"translate(103.74999999999999,91.3051048930813)rotate(90.0)\"><text x=\"10.0\" y=\"2.5549999999999997\" style=\"\">r2</text></g><g class=\"toytree-TipLabel\" transform=\"translate(137.22115384615384,87.92209303910471)rotate(90.0)\"><text x=\"10.0\" y=\"2.5549999999999997\" style=\"\">r0</text></g><g class=\"toytree-TipLabel\" transform=\"translate(170.69230769230768,86.06463698613297)rotate(90.0)\"><text x=\"10.0\" y=\"2.5549999999999997\" style=\"\">r1</text></g></g></g></g></g><g class=\"toyplot-coordinates-Cartesian\" id=\"t07d24133024843108f97de87d515ecb6\"><clipPath id=\"te967055850ee48e2a9859d6edf59a56d\"><rect x=\"207.5\" y=\"40.0\" width=\"167.5\" height=\"170.0\"></rect></clipPath><g clip-path=\"url(#te967055850ee48e2a9859d6edf59a56d)\"><g class=\"toytree-mark-Toytree\" id=\"t0d2b5e848982485eab84d03265c80291\"><g class=\"toytree-Edges\" style=\"fill:none;stroke:rgba(16.1%,15.3%,14.1%,1.000);stroke-linecap:round;stroke-width:2.0\"><path d=\"M 241.0 154.2 L 224.3 166.9\" id=\"5,0\" style=\"stroke-width:2.0\"></path><path d=\"M 241.0 154.2 L 257.8 157.7\" id=\"5,1\" style=\"stroke-width:2.0\"></path><path d=\"M 266.1 131.2 L 291.2 170.1\" id=\"6,2\" style=\"stroke-width:2.0\"></path><path d=\"M 316.4 55.8 L 324.7 124.1\" id=\"7,3\" style=\"stroke-width:2.0\"></path><path d=\"M 316.4 55.8 L 358.2 171.0\" id=\"7,4\" style=\"stroke-width:2.0\"></path><path d=\"M 266.1 131.2 L 241.0 154.2\" id=\"6,5\" style=\"stroke-width:2.0\"></path><path d=\"M 316.4 55.8 L 266.1 131.2\" id=\"7,6\" style=\"stroke-width:2.0\"></path></g><g class=\"toytree-Nodes\" style=\"fill:rgba(40.0%,76.1%,64.7%,1.000);stroke:#262626;stroke-width:1.0\"><g id=\"node-0\" transform=\"translate(224.308,166.885)\"><circle r=\"7.5\"></circle></g><g id=\"node-1\" transform=\"translate(257.779,157.743)\"><circle r=\"7.5\"></circle></g><g id=\"node-2\" transform=\"translate(291.250,170.060)\"><circle r=\"7.5\"></circle></g><g id=\"node-3\" transform=\"translate(324.721,124.145)\"><circle r=\"7.5\"></circle></g><g id=\"node-4\" transform=\"translate(358.192,170.980)\"><circle r=\"7.5\"></circle></g><g id=\"node-5\" transform=\"translate(241.043,154.220)\"><circle r=\"7.5\"></circle></g><g id=\"node-6\" transform=\"translate(266.147,131.156)\"><circle r=\"7.5\"></circle></g><g id=\"node-7\" transform=\"translate(316.353,55.761)\"><circle r=\"7.5\"></circle></g></g><g class=\"toytree-NodeLabels\" style=\"font-family:Helvetica;font-size:9.0px;font-weight:300;stroke:none;vertical-align:baseline;white-space:pre\"><g class=\"toytree-NodeLabel\" transform=\"translate(224.30769230769232,166.8847958175788)\"><text x=\"-2.5020000000000002\" y=\"2.2995\" style=\"fill:rgb(16.1%,15.3%,14.1%);fill-opacity:1.0\">0</text></g><g class=\"toytree-NodeLabel\" transform=\"translate(257.77884615384613,157.74266106942423)\"><text x=\"-2.5020000000000002\" y=\"2.2995\" style=\"fill:rgb(16.1%,15.3%,14.1%);fill-opacity:1.0\">1</text></g><g class=\"toytree-NodeLabel\" transform=\"translate(291.25,170.060083168742)\"><text x=\"-2.5020000000000002\" y=\"2.2995\" style=\"fill:rgb(16.1%,15.3%,14.1%);fill-opacity:1.0\">2</text></g><g class=\"toytree-NodeLabel\" transform=\"translate(324.7211538461538,124.14520366898955)\"><text x=\"-2.5020000000000002\" y=\"2.2995\" style=\"fill:rgb(16.1%,15.3%,14.1%);fill-opacity:1.0\">3</text></g><g class=\"toytree-NodeLabel\" transform=\"translate(358.1923076923077,170.98013109381398)\"><text x=\"-2.5020000000000002\" y=\"2.2995\" style=\"fill:rgb(16.1%,15.3%,14.1%);fill-opacity:1.0\">4</text></g><g class=\"toytree-NodeLabel\" transform=\"translate(241.04326923076923,154.21955072219723)\"><text x=\"-2.5020000000000002\" y=\"2.2995\" style=\"fill:rgb(16.1%,15.3%,14.1%);fill-opacity:1.0\">5</text></g><g class=\"toytree-NodeLabel\" transform=\"translate(266.1466346153846,131.15552005417243)\"><text x=\"-2.5020000000000002\" y=\"2.2995\" style=\"fill:rgb(16.1%,15.3%,14.1%);fill-opacity:1.0\">6</text></g><g class=\"toytree-NodeLabel\" transform=\"translate(316.35336538461536,55.76095862351494)\"><text x=\"-2.5020000000000002\" y=\"2.2995\" style=\"fill:rgb(16.1%,15.3%,14.1%);fill-opacity:1.0\">7</text></g></g><g class=\"toytree-TipLabels\" style=\"fill:rgb(16.1%,15.3%,14.1%);fill-opacity:1.0;font-family:Helvetica;font-size:10.0px;font-weight:300;stroke:none;vertical-align:baseline;white-space:pre\"><g class=\"toytree-TipLabel\" transform=\"translate(224.30769230769232,166.8847958175788)rotate(90.0)\"><text x=\"10.0\" y=\"2.5549999999999997\" style=\"\">r0</text></g><g class=\"toytree-TipLabel\" transform=\"translate(257.77884615384613,157.74266106942423)rotate(90.0)\"><text x=\"10.0\" y=\"2.5549999999999997\" style=\"\">r1</text></g><g class=\"toytree-TipLabel\" transform=\"translate(291.25,170.060083168742)rotate(90.0)\"><text x=\"10.0\" y=\"2.5549999999999997\" style=\"\">r2</text></g><g class=\"toytree-TipLabel\" transform=\"translate(324.7211538461538,124.14520366898955)rotate(90.0)\"><text x=\"10.0\" y=\"2.5549999999999997\" style=\"\">r4</text></g><g class=\"toytree-TipLabel\" transform=\"translate(358.1923076923077,170.98013109381398)rotate(90.0)\"><text x=\"10.0\" y=\"2.5549999999999997\" style=\"\">r3</text></g></g></g></g></g><g class=\"toyplot-coordinates-Cartesian\" id=\"t1322960010c4437bb452c6fbf78a8181\"><clipPath id=\"t15353e32f61e47d49269635a68bddf50\"><rect x=\"395.0\" y=\"40.0\" width=\"167.5\" height=\"170.0\"></rect></clipPath><g clip-path=\"url(#t15353e32f61e47d49269635a68bddf50)\"><g class=\"toytree-mark-Toytree\" id=\"tfa74d9613ccc40ef8e7c95017147da6d\"><g class=\"toytree-Edges\" style=\"fill:none;stroke:rgba(16.1%,15.3%,14.1%,1.000);stroke-linecap:round;stroke-width:2.0\"><path d=\"M 428.5 85.3 L 411.8 107.0\" id=\"5,0\" style=\"stroke-width:2.0\"></path><path d=\"M 428.5 85.3 L 445.3 119.4\" id=\"5,1\" style=\"stroke-width:2.0\"></path><path d=\"M 495.5 58.5 L 478.8 109.0\" id=\"6,2\" style=\"stroke-width:2.0\"></path><path d=\"M 495.5 58.5 L 512.2 171.0\" id=\"6,3\" style=\"stroke-width:2.0\"></path><path d=\"M 489.9 55.8 L 545.7 129.5\" id=\"7,4\" style=\"stroke-width:2.0\"></path><path d=\"M 489.9 55.8 L 428.5 85.3\" id=\"7,5\" style=\"stroke-width:2.0\"></path><path d=\"M 489.9 55.8 L 495.5 58.5\" id=\"7,6\" style=\"stroke-width:2.0\"></path></g><g class=\"toytree-Nodes\" style=\"fill:rgba(40.0%,76.1%,64.7%,1.000);stroke:#262626;stroke-width:1.0\"><g id=\"node-0\" transform=\"translate(411.808,106.976)\"><circle r=\"7.5\"></circle></g><g id=\"node-1\" transform=\"translate(445.279,119.447)\"><circle r=\"7.5\"></circle></g><g id=\"node-2\" transform=\"translate(478.750,108.996)\"><circle r=\"7.5\"></circle></g><g id=\"node-3\" transform=\"translate(512.221,170.980)\"><circle r=\"7.5\"></circle></g><g id=\"node-4\" transform=\"translate(545.692,129.525)\"><circle r=\"7.5\"></circle></g><g id=\"node-5\" transform=\"translate(428.543,85.263)\"><circle r=\"7.5\"></circle></g><g id=\"node-6\" transform=\"translate(495.486,58.514)\"><circle r=\"7.5\"></circle></g><g id=\"node-7\" transform=\"translate(489.907,55.761)\"><circle r=\"7.5\"></circle></g></g><g class=\"toytree-NodeLabels\" style=\"font-family:Helvetica;font-size:9.0px;font-weight:300;stroke:none;vertical-align:baseline;white-space:pre\"><g class=\"toytree-NodeLabel\" transform=\"translate(411.8076923076923,106.97616903517347)\"><text x=\"-2.5020000000000002\" y=\"2.2995\" style=\"fill:rgb(16.1%,15.3%,14.1%);fill-opacity:1.0\">0</text></g><g class=\"toytree-NodeLabel\" transform=\"translate(445.27884615384613,119.44748233884953)\"><text x=\"-2.5020000000000002\" y=\"2.2995\" style=\"fill:rgb(16.1%,15.3%,14.1%);fill-opacity:1.0\">1</text></g><g class=\"toytree-NodeLabel\" transform=\"translate(478.75,108.9957336675856)\"><text x=\"-2.5020000000000002\" y=\"2.2995\" style=\"fill:rgb(16.1%,15.3%,14.1%);fill-opacity:1.0\">2</text></g><g class=\"toytree-NodeLabel\" transform=\"translate(512.2211538461538,170.98013109381398)\"><text x=\"-2.5020000000000002\" y=\"2.2995\" style=\"fill:rgb(16.1%,15.3%,14.1%);fill-opacity:1.0\">3</text></g><g class=\"toytree-NodeLabel\" transform=\"translate(545.6923076923077,129.52523755966672)\"><text x=\"-2.5020000000000002\" y=\"2.2995\" style=\"fill:rgb(16.1%,15.3%,14.1%);fill-opacity:1.0\">4</text></g><g class=\"toytree-NodeLabel\" transform=\"translate(428.5432692307692,85.26265660972697)\"><text x=\"-2.5020000000000002\" y=\"2.2995\" style=\"fill:rgb(16.1%,15.3%,14.1%);fill-opacity:1.0\">5</text></g><g class=\"toytree-NodeLabel\" transform=\"translate(495.4855769230769,58.51391529046157)\"><text x=\"-2.5020000000000002\" y=\"2.2995\" style=\"fill:rgb(16.1%,15.3%,14.1%);fill-opacity:1.0\">6</text></g><g class=\"toytree-NodeLabel\" transform=\"translate(489.90705128205127,55.76095862351494)\"><text x=\"-2.5020000000000002\" y=\"2.2995\" style=\"fill:rgb(16.1%,15.3%,14.1%);fill-opacity:1.0\">7</text></g></g><g class=\"toytree-TipLabels\" style=\"fill:rgb(16.1%,15.3%,14.1%);fill-opacity:1.0;font-family:Helvetica;font-size:10.0px;font-weight:300;stroke:none;vertical-align:baseline;white-space:pre\"><g class=\"toytree-TipLabel\" transform=\"translate(411.8076923076923,106.97616903517347)rotate(90.0)\"><text x=\"10.0\" y=\"2.5549999999999997\" style=\"\">r0</text></g><g class=\"toytree-TipLabel\" transform=\"translate(445.27884615384613,119.44748233884953)rotate(90.0)\"><text x=\"10.0\" y=\"2.5549999999999997\" style=\"\">r1</text></g><g class=\"toytree-TipLabel\" transform=\"translate(478.75,108.9957336675856)rotate(90.0)\"><text x=\"10.0\" y=\"2.5549999999999997\" style=\"\">r2</text></g><g class=\"toytree-TipLabel\" transform=\"translate(512.2211538461538,170.98013109381398)rotate(90.0)\"><text x=\"10.0\" y=\"2.5549999999999997\" style=\"\">r4</text></g><g class=\"toytree-TipLabel\" transform=\"translate(545.6923076923077,129.52523755966672)rotate(90.0)\"><text x=\"10.0\" y=\"2.5549999999999997\" style=\"\">r3</text></g></g></g></g></g><g class=\"toyplot-coordinates-Cartesian\" id=\"t7809c8268a7845e3971558c941cf3243\"><clipPath id=\"t5e796f6cd4fe4aa9ab6a950ed0917a12\"><rect x=\"582.5\" y=\"40.0\" width=\"167.5\" height=\"170.0\"></rect></clipPath><g clip-path=\"url(#t5e796f6cd4fe4aa9ab6a950ed0917a12)\"><g class=\"toytree-mark-Toytree\" id=\"t16cab6b5995e4ba8a107d39ccb80e316\"><g class=\"toytree-Edges\" style=\"fill:none;stroke:rgba(16.1%,15.3%,14.1%,1.000);stroke-linecap:round;stroke-width:2.0\"><path d=\"M 616.0 78.2 L 599.3 78.2\" id=\"5,0\" style=\"stroke-width:2.0\"></path><path d=\"M 616.0 78.2 L 632.8 104.1\" id=\"5,1\" style=\"stroke-width:2.0\"></path><path d=\"M 683.0 84.9 L 666.2 146.9\" id=\"6,2\" style=\"stroke-width:2.0\"></path><path d=\"M 683.0 84.9 L 699.7 171.0\" id=\"6,3\" style=\"stroke-width:2.0\"></path><path d=\"M 677.4 55.8 L 733.2 109.2\" id=\"7,4\" style=\"stroke-width:2.0\"></path><path d=\"M 677.4 55.8 L 616.0 78.2\" id=\"7,5\" style=\"stroke-width:2.0\"></path><path d=\"M 677.4 55.8 L 683.0 84.9\" id=\"7,6\" style=\"stroke-width:2.0\"></path></g><g class=\"toytree-Nodes\" style=\"fill:rgba(40.0%,76.1%,64.7%,1.000);stroke:#262626;stroke-width:1.0\"><g id=\"node-0\" transform=\"translate(599.308,78.168)\"><circle r=\"7.5\"></circle></g><g id=\"node-1\" transform=\"translate(632.779,104.080)\"><circle r=\"7.5\"></circle></g><g id=\"node-2\" transform=\"translate(666.250,146.867)\"><circle r=\"7.5\"></circle></g><g id=\"node-3\" transform=\"translate(699.721,170.980)\"><circle r=\"7.5\"></circle></g><g id=\"node-4\" transform=\"translate(733.192,109.168)\"><circle r=\"7.5\"></circle></g><g id=\"node-5\" transform=\"translate(616.043,78.167)\"><circle r=\"7.5\"></circle></g><g id=\"node-6\" transform=\"translate(682.986,84.871)\"><circle r=\"7.5\"></circle></g><g id=\"node-7\" transform=\"translate(677.407,55.761)\"><circle r=\"7.5\"></circle></g></g><g class=\"toytree-NodeLabels\" style=\"font-family:Helvetica;font-size:9.0px;font-weight:300;stroke:none;vertical-align:baseline;white-space:pre\"><g class=\"toytree-NodeLabel\" transform=\"translate(599.3076923076924,78.16825215427431)\"><text x=\"-2.5020000000000002\" y=\"2.2995\" style=\"fill:rgb(16.1%,15.3%,14.1%);fill-opacity:1.0\">0</text></g><g class=\"toytree-NodeLabel\" transform=\"translate(632.7788461538462,104.07992329154207)\"><text x=\"-2.5020000000000002\" y=\"2.2995\" style=\"fill:rgb(16.1%,15.3%,14.1%);fill-opacity:1.0\">1</text></g><g class=\"toytree-NodeLabel\" transform=\"translate(666.25,146.86704387374365)\"><text x=\"-2.5020000000000002\" y=\"2.2995\" style=\"fill:rgb(16.1%,15.3%,14.1%);fill-opacity:1.0\">2</text></g><g class=\"toytree-NodeLabel\" transform=\"translate(699.7211538461538,170.98013109381398)\"><text x=\"-2.5020000000000002\" y=\"2.2995\" style=\"fill:rgb(16.1%,15.3%,14.1%);fill-opacity:1.0\">3</text></g><g class=\"toytree-NodeLabel\" transform=\"translate(733.1923076923077,109.16792078731116)\"><text x=\"-2.5020000000000002\" y=\"2.2995\" style=\"fill:rgb(16.1%,15.3%,14.1%);fill-opacity:1.0\">4</text></g><g class=\"toytree-NodeLabel\" transform=\"translate(616.0432692307693,78.1667056504762)\"><text x=\"-2.5020000000000002\" y=\"2.2995\" style=\"fill:rgb(16.1%,15.3%,14.1%);fill-opacity:1.0\">5</text></g><g class=\"toytree-NodeLabel\" transform=\"translate(682.9855769230769,84.87079961526615)\"><text x=\"-2.5020000000000002\" y=\"2.2995\" style=\"fill:rgb(16.1%,15.3%,14.1%);fill-opacity:1.0\">6</text></g><g class=\"toytree-NodeLabel\" transform=\"translate(677.4070512820513,55.760958623514966)\"><text x=\"-2.5020000000000002\" y=\"2.2995\" style=\"fill:rgb(16.1%,15.3%,14.1%);fill-opacity:1.0\">7</text></g></g><g class=\"toytree-TipLabels\" style=\"fill:rgb(16.1%,15.3%,14.1%);fill-opacity:1.0;font-family:Helvetica;font-size:10.0px;font-weight:300;stroke:none;vertical-align:baseline;white-space:pre\"><g class=\"toytree-TipLabel\" transform=\"translate(599.3076923076924,78.16825215427431)rotate(90.0)\"><text x=\"10.0\" y=\"2.5549999999999997\" style=\"\">r1</text></g><g class=\"toytree-TipLabel\" transform=\"translate(632.7788461538462,104.07992329154207)rotate(90.0)\"><text x=\"10.0\" y=\"2.5549999999999997\" style=\"\">r0</text></g><g class=\"toytree-TipLabel\" transform=\"translate(666.25,146.86704387374365)rotate(90.0)\"><text x=\"10.0\" y=\"2.5549999999999997\" style=\"\">r3</text></g><g class=\"toytree-TipLabel\" transform=\"translate(699.7211538461538,170.98013109381398)rotate(90.0)\"><text x=\"10.0\" y=\"2.5549999999999997\" style=\"\">r4</text></g><g class=\"toytree-TipLabel\" transform=\"translate(733.1923076923077,109.16792078731116)rotate(90.0)\"><text x=\"10.0\" y=\"2.5549999999999997\" style=\"\">r2</text></g></g></g></g></g></svg><div class=\"toyplot-behavior\"><script>(function()\n",
       "{\n",
       "var modules={};\n",
       "})();</script></div></div>"
      ]
     },
     "metadata": {},
     "output_type": "display_data"
    }
   ],
   "source": [
    "c, a, m = toytree.mtree(raxdf.gene_tree).draw(ts='p');"
   ]
  },
  {
   "cell_type": "code",
   "execution_count": 33,
   "id": "7fdd29d7",
   "metadata": {
    "scrolled": true
   },
   "outputs": [
    {
     "data": {
      "text/plain": [
       "[0.0,\n",
       " 0.0,\n",
       " 0.5000000000000001,\n",
       " 0.0,\n",
       " 0.0,\n",
       " 0.0,\n",
       " 0.5000000000000001,\n",
       " 0.0,\n",
       " 0.0,\n",
       " 0.0]"
      ]
     },
     "execution_count": 33,
     "metadata": {},
     "output_type": "execute_result"
    }
   ],
   "source": [
    "[toytree.distance.get_treedist_rfi(tre, i, normalize=1) for i in toytree.mtree(raxdf.gene_tree)]"
   ]
  },
  {
   "cell_type": "code",
   "execution_count": null,
   "id": "ea23dce7",
   "metadata": {},
   "outputs": [],
   "source": [
    "toytree.distance."
   ]
  },
  {
   "cell_type": "code",
   "execution_count": 25,
   "id": "bd97aaaf",
   "metadata": {},
   "outputs": [],
   "source": [
    "treenode = toytree.Node(dist=0)\n",
    "treenode._add_child()\n",
    "#toytree.ToyTree()"
   ]
  },
  {
   "cell_type": "code",
   "execution_count": 6,
   "id": "3c30b629",
   "metadata": {},
   "outputs": [
    {
     "name": "stderr",
     "output_type": "stream",
     "text": [
      "\u001b[33m\u001b[1mWARNING\u001b[0m \u001b[37m|\u001b[0m \u001b[36minfer_raxml_ng.py\u001b[0m \u001b[37m|\u001b[0m \u001b[33m\u001b[1m3 loci (0.03%) contain 0 SNPs and were returned as star trees.\u001b[0m\n"
     ]
    }
   ],
   "source": [
    "df = ipcoal.phylo.infer_raxml_ng_trees(mod, idxs=[0, 1, 2], nproc=4, nworkers=1, nthreads=2, seed=123, tmpdir='/tmp/tester', diploid=True)"
   ]
  },
  {
   "cell_type": "code",
   "execution_count": 15,
   "id": "69c72ad7",
   "metadata": {},
   "outputs": [],
   "source": [
    "t = toytree.rtree.unittree(5).mod.collapse_nodes(min_dist=1000)"
   ]
  },
  {
   "cell_type": "code",
   "execution_count": 21,
   "id": "300562ba",
   "metadata": {},
   "outputs": [
    {
     "data": {
      "text/plain": [
       "(<toyplot.canvas.Canvas at 0x7f649d4d8f40>,\n",
       " <toyplot.coordinates.Cartesian at 0x7f649d4d88e0>,\n",
       " <toytree.core.drawing.toytree_mark.ToytreeMark at 0x7f649d6ea040>)"
      ]
     },
     "execution_count": 21,
     "metadata": {},
     "output_type": "execute_result"
    },
    {
     "data": {
      "text/html": [
       "<div class=\"toyplot\" id=\"tff0ff0cc73424058aafc1d89c410fc09\" style=\"text-align:center\"><svg class=\"toyplot-canvas-Canvas\" xmlns:toyplot=\"http://www.sandia.gov/toyplot\" xmlns:xlink=\"http://www.w3.org/1999/xlink\" xmlns=\"http://www.w3.org/2000/svg\" width=\"260.0px\" height=\"275.0px\" viewBox=\"0 0 260.0 275.0\" preserveAspectRatio=\"xMidYMid meet\" style=\"background-color:transparent;border-color:#292724;border-style:none;border-width:1.0;fill:rgb(16.1%,15.3%,14.1%);fill-opacity:1.0;font-family:Helvetica;font-size:12px;opacity:1.0;stroke:rgb(16.1%,15.3%,14.1%);stroke-opacity:1.0;stroke-width:1.0\" id=\"taefb7501759b43bb86af84e58415931a\"><g class=\"toyplot-coordinates-Cartesian\" id=\"t477b47f37833456c98297574b278ef20\"><clipPath id=\"tda28533f5b754ae58723f7112a09ef5d\"><rect x=\"35.0\" y=\"35.0\" width=\"190.0\" height=\"205.0\"></rect></clipPath><g clip-path=\"url(#tda28533f5b754ae58723f7112a09ef5d)\"><g class=\"toytree-mark-Toytree\" id=\"t05687ef81df24972bf97ec2bbf1046a6\"><g class=\"toytree-Edges\" style=\"fill:none;stroke:rgba(16.1%,15.3%,14.1%,1.000);stroke-linecap:round;stroke-width:2.0\"><path d=\"M 130.0 137.5 L 130.0 218.9 L 130.0 218.9\" id=\"5,0\" style=\"stroke-width:nan\"></path><path d=\"M 130.0 137.5 L 130.0 178.2 L 130.0 178.2\" id=\"5,1\" style=\"stroke-width:nan\"></path><path d=\"M 130.0 137.5 L 130.0 137.5 L 130.0 137.5\" id=\"5,2\" style=\"stroke-width:nan\"></path><path d=\"M 130.0 137.5 L 130.0 96.8 L 130.0 96.8\" id=\"5,3\" style=\"stroke-width:nan\"></path><path d=\"M 130.0 137.5 L 130.0 56.1 L 130.0 56.1\" id=\"5,4\" style=\"stroke-width:nan\"></path></g><g class=\"toytree-TipLabels\" style=\"fill:rgb(16.1%,15.3%,14.1%);fill-opacity:1.0;font-family:Helvetica;font-size:11.0px;font-weight:300;stroke:none;vertical-align:baseline;white-space:pre\"><g class=\"toytree-TipLabel\" transform=\"translate(130.0,218.86291179596174)\"><text x=\"15.0\" y=\"2.8104999999999993\" style=\"\">r2</text></g><g class=\"toytree-TipLabel\" transform=\"translate(130.0,178.18145589798087)\"><text x=\"15.0\" y=\"2.8104999999999993\" style=\"\">r0</text></g><g class=\"toytree-TipLabel\" transform=\"translate(130.0,137.49999999999997)\"><text x=\"15.0\" y=\"2.8104999999999993\" style=\"\">r1</text></g><g class=\"toytree-TipLabel\" transform=\"translate(130.0,96.8185441020191)\"><text x=\"15.0\" y=\"2.8104999999999993\" style=\"\">r3</text></g><g class=\"toytree-TipLabel\" transform=\"translate(130.0,56.137088204038236)\"><text x=\"15.0\" y=\"2.8104999999999993\" style=\"\">r4</text></g></g></g></g></g></svg><div class=\"toyplot-behavior\"><script>(function()\n",
       "{\n",
       "var modules={};\n",
       "})();</script></div></div>"
      ]
     },
     "metadata": {},
     "output_type": "display_data"
    }
   ],
   "source": [
    "t.set_node_data(\"dist\", default=0).draw()#get_node_data()"
   ]
  },
  {
   "cell_type": "code",
   "execution_count": null,
   "id": "eca716bc",
   "metadata": {},
   "outputs": [],
   "source": []
  },
  {
   "cell_type": "code",
   "execution_count": 11,
   "id": "80f52d27",
   "metadata": {},
   "outputs": [
    {
     "data": {
      "text/html": [
       "<div>\n",
       "<style scoped>\n",
       "    .dataframe tbody tr th:only-of-type {\n",
       "        vertical-align: middle;\n",
       "    }\n",
       "\n",
       "    .dataframe tbody tr th {\n",
       "        vertical-align: top;\n",
       "    }\n",
       "\n",
       "    .dataframe thead th {\n",
       "        text-align: right;\n",
       "    }\n",
       "</style>\n",
       "<table border=\"1\" class=\"dataframe\">\n",
       "  <thead>\n",
       "    <tr style=\"text-align: right;\">\n",
       "      <th></th>\n",
       "      <th>locus</th>\n",
       "      <th>start</th>\n",
       "      <th>end</th>\n",
       "      <th>nbps</th>\n",
       "      <th>nsnps</th>\n",
       "      <th>gene_tree</th>\n",
       "    </tr>\n",
       "  </thead>\n",
       "  <tbody>\n",
       "    <tr>\n",
       "      <th>0</th>\n",
       "      <td>0</td>\n",
       "      <td>0</td>\n",
       "      <td>100</td>\n",
       "      <td>100</td>\n",
       "      <td>0</td>\n",
       "      <td>(r0:1,r1:1,r2:1,r3:1,r4:...</td>\n",
       "    </tr>\n",
       "    <tr>\n",
       "      <th>1</th>\n",
       "      <td>1</td>\n",
       "      <td>0</td>\n",
       "      <td>100</td>\n",
       "      <td>100</td>\n",
       "      <td>0</td>\n",
       "      <td>(r0:1,r1:1,r2:1,r3:1,r4:...</td>\n",
       "    </tr>\n",
       "    <tr>\n",
       "      <th>2</th>\n",
       "      <td>2</td>\n",
       "      <td>0</td>\n",
       "      <td>100</td>\n",
       "      <td>100</td>\n",
       "      <td>0</td>\n",
       "      <td>(r0:1,r1:1,r2:1,r3:1,r4:...</td>\n",
       "    </tr>\n",
       "  </tbody>\n",
       "</table>\n",
       "</div>"
      ],
      "text/plain": [
       "   locus  start  end  nbps  nsnps                    gene_tree\n",
       "0      0      0  100   100      0  (r0:1,r1:1,r2:1,r3:1,r4:...\n",
       "1      1      0  100   100      0  (r0:1,r1:1,r2:1,r3:1,r4:...\n",
       "2      2      0  100   100      0  (r0:1,r1:1,r2:1,r3:1,r4:..."
      ]
     },
     "execution_count": 11,
     "metadata": {},
     "output_type": "execute_result"
    }
   ],
   "source": [
    "df"
   ]
  },
  {
   "cell_type": "code",
   "execution_count": 43,
   "id": "85fdd6dd",
   "metadata": {},
   "outputs": [],
   "source": [
    "imap = mod.get_imap_dict()"
   ]
  },
  {
   "cell_type": "code",
   "execution_count": 44,
   "id": "5c7661fe",
   "metadata": {},
   "outputs": [],
   "source": [
    "trees = toytree.mtree(mod.df.genealogy)"
   ]
  },
  {
   "cell_type": "code",
   "execution_count": 45,
   "id": "29ce9b23",
   "metadata": {},
   "outputs": [],
   "source": [
    "ASTRAL = \"/home/deren/miniconda3/envs/ipyrad/bin/astral.5.7.1.jar\""
   ]
  },
  {
   "cell_type": "code",
   "execution_count": 46,
   "id": "8694b048",
   "metadata": {},
   "outputs": [],
   "source": [
    "atre = ipcoal.phylo.infer_astral_tree(trees, binary_path=ASTRAL, imap=imap)"
   ]
  },
  {
   "cell_type": "code",
   "execution_count": 47,
   "id": "f07eb68f",
   "metadata": {},
   "outputs": [
    {
     "data": {
      "text/html": [
       "<div class=\"toyplot\" id=\"tb38ad4b46f42408c85ffeda2af24ab0e\" style=\"text-align:center\"><svg class=\"toyplot-canvas-Canvas\" xmlns:toyplot=\"http://www.sandia.gov/toyplot\" xmlns:xlink=\"http://www.w3.org/1999/xlink\" xmlns=\"http://www.w3.org/2000/svg\" width=\"260.0px\" height=\"275.0px\" viewBox=\"0 0 260.0 275.0\" preserveAspectRatio=\"xMidYMid meet\" style=\"background-color:transparent;border-color:#292724;border-style:none;border-width:1.0;fill:rgb(16.1%,15.3%,14.1%);fill-opacity:1.0;font-family:Helvetica;font-size:12px;opacity:1.0;stroke:rgb(16.1%,15.3%,14.1%);stroke-opacity:1.0;stroke-width:1.0\" id=\"t36cb7a7d9cb04b1da27f4d2cce417acf\"><g class=\"toyplot-coordinates-Cartesian\" id=\"tf1f9621b37a14009b291e530ab280d00\"><clipPath id=\"tf196d93bdb1e46788e967b5f4ba9fde8\"><rect x=\"35.0\" y=\"35.0\" width=\"190.0\" height=\"205.0\"></rect></clipPath><g clip-path=\"url(#tf196d93bdb1e46788e967b5f4ba9fde8)\"><g class=\"toytree-mark-Toytree\" id=\"t67d1ae43f6664e2aa4050fa2c504aa9c\"><g class=\"toytree-Edges\" style=\"fill:none;stroke:rgba(16.1%,15.3%,14.1%,1.000);stroke-linecap:round;stroke-width:2.0\"><path d=\"M 50.0 160.4 L 50.0 218.9 L 172.2 218.9\" id=\"8,0\" style=\"stroke-width:nan\"></path><path d=\"M 88.9 147.7 L 88.9 178.2 L 141.6 178.2\" id=\"6,1\" style=\"stroke-width:nan\"></path><path d=\"M 119.0 117.2 L 119.0 137.5 L 125.9 137.5\" id=\"5,2\" style=\"stroke-width:nan\"></path><path d=\"M 119.0 117.2 L 119.0 96.8 L 142.2 96.8\" id=\"5,3\" style=\"stroke-width:nan\"></path><path d=\"M 50.0 101.9 L 50.0 56.1 L 119.8 56.1\" id=\"7,4\" style=\"stroke-width:nan\"></path><path d=\"M 88.9 147.7 L 88.9 117.2 L 119.0 117.2\" id=\"6,5\" style=\"stroke-width:nan\"></path><path d=\"M 50.0 101.9 L 50.0 147.7 L 88.9 147.7\" id=\"7,6\" style=\"stroke-width:nan\"></path><path d=\"M 50.0 160.4 L 50.0 101.9 L 50.0 101.9\" id=\"8,7\" style=\"stroke-width:nan\"></path></g><g class=\"toytree-TipLabels\" style=\"fill:rgb(16.1%,15.3%,14.1%);fill-opacity:1.0;font-family:Helvetica;font-size:11.0px;font-weight:300;stroke:none;vertical-align:baseline;white-space:pre\"><g class=\"toytree-TipLabel\" transform=\"translate(172.1618835835425,218.86291179596174)\"><text x=\"15.0\" y=\"2.8104999999999993\" style=\"\">r4</text></g><g class=\"toytree-TipLabel\" transform=\"translate(141.5665034472243,178.18145589798087)\"><text x=\"15.0\" y=\"2.8104999999999993\" style=\"\">r2</text></g><g class=\"toytree-TipLabel\" transform=\"translate(125.94313081262113,137.49999999999997)\"><text x=\"15.0\" y=\"2.8104999999999993\" style=\"\">r0</text></g><g class=\"toytree-TipLabel\" transform=\"translate(142.15134732604903,96.8185441020191)\"><text x=\"15.0\" y=\"2.8104999999999993\" style=\"\">r1</text></g><g class=\"toytree-TipLabel\" transform=\"translate(119.81173563207362,56.137088204038236)\"><text x=\"15.0\" y=\"2.8104999999999993\" style=\"\">r3</text></g></g></g></g></g></svg><div class=\"toyplot-behavior\"><script>(function()\n",
       "{\n",
       "var modules={};\n",
       "})();</script></div></div>"
      ]
     },
     "metadata": {},
     "output_type": "display_data"
    }
   ],
   "source": [
    "atre.draw();"
   ]
  },
  {
   "cell_type": "code",
   "execution_count": 4,
   "id": "99528252",
   "metadata": {},
   "outputs": [
    {
     "ename": "TypeError",
     "evalue": "log_out must be of type io.TextIOBase, e.g., sys.stdout or sys.stderr.",
     "output_type": "error",
     "traceback": [
      "\u001b[0;31m---------------------------------------------------------------------------\u001b[0m",
      "\u001b[0;31mTypeError\u001b[0m                                 Traceback (most recent call last)",
      "Input \u001b[0;32mIn [4]\u001b[0m, in \u001b[0;36m<cell line: 1>\u001b[0;34m()\u001b[0m\n\u001b[0;32m----> 1\u001b[0m \u001b[43mipcoal\u001b[49m\u001b[38;5;241;43m.\u001b[39;49m\u001b[43mset_log_level\u001b[49m\u001b[43m(\u001b[49m\u001b[38;5;124;43m\"\u001b[39;49m\u001b[38;5;124;43mDEBUG\u001b[39;49m\u001b[38;5;124;43m\"\u001b[39;49m\u001b[43m,\u001b[49m\u001b[43m \u001b[49m\u001b[43mlog_out\u001b[49m\u001b[38;5;241;43m=\u001b[39;49m\u001b[38;5;124;43m\"\u001b[39;49m\u001b[38;5;124;43mHI\u001b[39;49m\u001b[38;5;124;43m\"\u001b[39;49m\u001b[43m)\u001b[49m\n",
      "File \u001b[0;32m~/Documents/ipcoal/ipcoal/utils/logger_setup.py:80\u001b[0m, in \u001b[0;36mset_log_level\u001b[0;34m(log_level, log_out, log_file)\u001b[0m\n\u001b[1;32m     78\u001b[0m \u001b[38;5;28;01mif\u001b[39;00m log_out:\n\u001b[1;32m     79\u001b[0m     \u001b[38;5;28;01mif\u001b[39;00m \u001b[38;5;129;01mnot\u001b[39;00m \u001b[38;5;28misinstance\u001b[39m(log_out, io\u001b[38;5;241m.\u001b[39mTextIOBase):\n\u001b[0;32m---> 80\u001b[0m         \u001b[38;5;28;01mraise\u001b[39;00m \u001b[38;5;167;01mTypeError\u001b[39;00m(\n\u001b[1;32m     81\u001b[0m             \u001b[38;5;124m\"\u001b[39m\u001b[38;5;124mlog_out must be of type io.TextIOBase, \u001b[39m\u001b[38;5;124m\"\u001b[39m\n\u001b[1;32m     82\u001b[0m             \u001b[38;5;124m\"\u001b[39m\u001b[38;5;124me.g., sys.stdout or sys.stderr.\u001b[39m\u001b[38;5;124m\"\u001b[39m)\n\u001b[1;32m     83\u001b[0m     idx \u001b[38;5;241m=\u001b[39m logger\u001b[38;5;241m.\u001b[39madd(\n\u001b[1;32m     84\u001b[0m         sink\u001b[38;5;241m=\u001b[39mlog_out,\n\u001b[1;32m     85\u001b[0m         level\u001b[38;5;241m=\u001b[39mlog_level,\n\u001b[0;32m   (...)\u001b[0m\n\u001b[1;32m     88\u001b[0m         \u001b[38;5;28mfilter\u001b[39m\u001b[38;5;241m=\u001b[39m\u001b[38;5;28;01mlambda\u001b[39;00m x: x[\u001b[38;5;124m'\u001b[39m\u001b[38;5;124mextra\u001b[39m\u001b[38;5;124m'\u001b[39m]\u001b[38;5;241m.\u001b[39mget(\u001b[38;5;124m\"\u001b[39m\u001b[38;5;124mname\u001b[39m\u001b[38;5;124m\"\u001b[39m) \u001b[38;5;241m==\u001b[39m \u001b[38;5;124m\"\u001b[39m\u001b[38;5;124mipcoal\u001b[39m\u001b[38;5;124m\"\u001b[39m,\n\u001b[1;32m     89\u001b[0m     )\n\u001b[1;32m     90\u001b[0m LOGGERS\u001b[38;5;241m.\u001b[39mappend(idx)\n",
      "\u001b[0;31mTypeError\u001b[0m: log_out must be of type io.TextIOBase, e.g., sys.stdout or sys.stderr."
     ]
    }
   ],
   "source": [
    "ipcoal.set_log_level(\"DEBUG\", log_out=\"HI\")#sys.stdout)"
   ]
  },
  {
   "cell_type": "code",
   "execution_count": 1,
   "id": "1a000d17",
   "metadata": {},
   "outputs": [],
   "source": [
    "from toytree.core.node import Node\n",
    "from toytree.core.tree2 import ToyTree"
   ]
  },
  {
   "cell_type": "code",
   "execution_count": 2,
   "id": "a115fb7c",
   "metadata": {},
   "outputs": [
    {
     "name": "stdout",
     "output_type": "stream",
     "text": [
      "Node(idx=0, root)\n",
      "Node(idx=0, internal)\n",
      "Node(idx=0, leaf)\n",
      "Node(idx=0, internal)\n",
      "Node(idx=0, leaf)\n",
      "Node(idx=0, internal)\n",
      "Node(idx=0, leaf)\n",
      "Node(idx=0, internal)\n",
      "Node(idx=0, leaf)\n",
      "Node(idx=0, leaf)\n",
      "Node(idx=0, leaf)\n"
     ]
    }
   ],
   "source": [
    "root = Node()\n",
    "node = root\n",
    "for idx in range(0, 10, 2):\n",
    "    node.add_child(Node(name=str(idx)))\n",
    "    node.add_child(Node(name=str(idx + 1)))\n",
    "    node = node.children[0]\n",
    "\n",
    "for node in root.traverse(\"levelorder\"):\n",
    "    print(node)"
   ]
  },
  {
   "cell_type": "code",
   "execution_count": 3,
   "id": "a8f7906f",
   "metadata": {},
   "outputs": [
    {
     "data": {
      "text/plain": [
       "['8', '9', '7', '5', '3', '1']"
      ]
     },
     "execution_count": 3,
     "metadata": {},
     "output_type": "execute_result"
    }
   ],
   "source": [
    "tree = ToyTree(root)\n",
    "tree.get_tip_labels()"
   ]
  },
  {
   "cell_type": "code",
   "execution_count": 5,
   "id": "55fa50f2",
   "metadata": {},
   "outputs": [],
   "source": [
    "import re"
   ]
  },
  {
   "cell_type": "code",
   "execution_count": 14,
   "id": "9aefad2d",
   "metadata": {},
   "outputs": [
    {
     "data": {
      "text/plain": [
       "[<re.Match object; span=(0, 1), match='2'>,\n",
       " <re.Match object; span=(0, 1), match='2'>]"
      ]
     },
     "execution_count": 14,
     "metadata": {},
     "output_type": "execute_result"
    }
   ],
   "source": [
    "#%%timeit\n",
    "[re.match(i, '2') for i in (\"[2-3]\", \"[1-3]\")]"
   ]
  },
  {
   "cell_type": "code",
   "execution_count": 11,
   "id": "ec2c8577",
   "metadata": {},
   "outputs": [
    {
     "data": {
      "text/plain": [
       "<re.Match object; span=(0, 1), match='2'>"
      ]
     },
     "execution_count": 11,
     "metadata": {},
     "output_type": "execute_result"
    }
   ],
   "source": [
    "re.match(\"[2-3]\", \"2\")"
   ]
  },
  {
   "cell_type": "code",
   "execution_count": null,
   "id": "a335ebfa",
   "metadata": {},
   "outputs": [],
   "source": [
    "re.match(\"[2-3]\", \"2\")"
   ]
  },
  {
   "cell_type": "code",
   "execution_count": 4,
   "id": "07329f94",
   "metadata": {},
   "outputs": [
    {
     "name": "stdout",
     "output_type": "stream",
     "text": [
      "<class 'tuple'>\n"
     ]
    },
    {
     "ename": "AssertionError",
     "evalue": "'names' arg must be a string when matching by regex.",
     "output_type": "error",
     "traceback": [
      "\u001b[0;31m---------------------------------------------------------------------------\u001b[0m",
      "\u001b[0;31mAssertionError\u001b[0m                            Traceback (most recent call last)",
      "\u001b[0;32m/tmp/ipykernel_747854/378966708.py\u001b[0m in \u001b[0;36m<module>\u001b[0;34m\u001b[0m\n\u001b[0;32m----> 1\u001b[0;31m \u001b[0mlist\u001b[0m\u001b[0;34m(\u001b[0m\u001b[0mtree\u001b[0m\u001b[0;34m.\u001b[0m\u001b[0m_iter_nodes_matched_by_leaf_names\u001b[0m\u001b[0;34m(\u001b[0m\u001b[0;34m\"[2-3]\"\u001b[0m\u001b[0;34m,\u001b[0m \u001b[0mregex\u001b[0m\u001b[0;34m=\u001b[0m\u001b[0;36m1\u001b[0m\u001b[0;34m)\u001b[0m\u001b[0;34m)\u001b[0m\u001b[0;34m\u001b[0m\u001b[0;34m\u001b[0m\u001b[0m\n\u001b[0m",
      "\u001b[0;32m~/Documents/toytree/toytree/core/tree2.py\u001b[0m in \u001b[0;36m_iter_nodes_matched_by_leaf_names\u001b[0;34m(self, regex, *names)\u001b[0m\n\u001b[1;32m    202\u001b[0m         \u001b[0;32mif\u001b[0m \u001b[0mregex\u001b[0m\u001b[0;34m:\u001b[0m\u001b[0;34m\u001b[0m\u001b[0;34m\u001b[0m\u001b[0m\n\u001b[1;32m    203\u001b[0m             \u001b[0mprint\u001b[0m\u001b[0;34m(\u001b[0m\u001b[0mtype\u001b[0m\u001b[0;34m(\u001b[0m\u001b[0mnames\u001b[0m\u001b[0;34m)\u001b[0m\u001b[0;34m)\u001b[0m\u001b[0;34m\u001b[0m\u001b[0;34m\u001b[0m\u001b[0m\n\u001b[0;32m--> 204\u001b[0;31m             assert isinstance(names, list), (\n\u001b[0m\u001b[1;32m    205\u001b[0m                 \"'names' arg must be a string when matching by regex.\")\n\u001b[1;32m    206\u001b[0m             \u001b[0mmatch\u001b[0m \u001b[0;34m=\u001b[0m \u001b[0;32mlambda\u001b[0m \u001b[0mx\u001b[0m\u001b[0;34m:\u001b[0m \u001b[0mre\u001b[0m\u001b[0;34m.\u001b[0m\u001b[0mmatch\u001b[0m\u001b[0;34m(\u001b[0m\u001b[0mnames\u001b[0m\u001b[0;34m,\u001b[0m \u001b[0mx\u001b[0m\u001b[0;34m)\u001b[0m\u001b[0;34m\u001b[0m\u001b[0;34m\u001b[0m\u001b[0m\n",
      "\u001b[0;31mAssertionError\u001b[0m: 'names' arg must be a string when matching by regex."
     ]
    }
   ],
   "source": [
    "list(tree._iter_nodes_matched_by_leaf_names(\"[2-3]\", regex=1))"
   ]
  },
  {
   "cell_type": "code",
   "execution_count": 42,
   "id": "e2316dfe",
   "metadata": {},
   "outputs": [
    {
     "data": {
      "text/plain": [
       "[10, 9, 5, 8, 4, 7, 3, 6, 2, 0, 1]"
      ]
     },
     "execution_count": 42,
     "metadata": {},
     "output_type": "execute_result"
    }
   ],
   "source": [
    "list(tree.get_node_descendants_by_idx(10))"
   ]
  },
  {
   "cell_type": "code",
   "execution_count": null,
   "id": "93da4ef4",
   "metadata": {},
   "outputs": [],
   "source": [
    "tree.get_nodes_by_name()\n",
    "tree.get_nodes_by_name()"
   ]
  },
  {
   "cell_type": "code",
   "execution_count": 29,
   "id": "bbbcc402",
   "metadata": {},
   "outputs": [],
   "source": [
    "class ToyTree(toytree.ToyTree):\n",
    "    pass"
   ]
  },
  {
   "cell_type": "code",
   "execution_count": 30,
   "id": "f3480af1",
   "metadata": {},
   "outputs": [
    {
     "data": {
      "text/plain": [
       "__main__.ToyTree"
      ]
     },
     "execution_count": 30,
     "metadata": {},
     "output_type": "execute_result"
    }
   ],
   "source": [
    "ToyTree"
   ]
  },
  {
   "cell_type": "code",
   "execution_count": 3,
   "id": "299e370e",
   "metadata": {},
   "outputs": [],
   "source": [
    "t = ToyTree(root)"
   ]
  },
  {
   "cell_type": "code",
   "execution_count": 4,
   "id": "6adfec27",
   "metadata": {},
   "outputs": [
    {
     "name": "stdout",
     "output_type": "stream",
     "text": [
      "0 ()\n",
      "1 ()\n",
      "2 ()\n",
      "3 ()\n",
      "4 ()\n",
      "5 ()\n",
      "6 (Node(0), Node(1))\n",
      "7 (Node(6), Node(2))\n",
      "8 (Node(7), Node(3))\n",
      "9 (Node(8), Node(4))\n",
      "10 (Node(9), Node(5))\n"
     ]
    }
   ],
   "source": [
    "for n in t._idx_dict:\n",
    "    print(n, t._idx_dict[n].children)"
   ]
  },
  {
   "cell_type": "code",
   "execution_count": 6,
   "id": "6430fd3f",
   "metadata": {},
   "outputs": [
    {
     "data": {
      "text/plain": [
       "True"
      ]
     },
     "execution_count": 6,
     "metadata": {},
     "output_type": "execute_result"
    }
   ],
   "source": [
    "t.is_bifurcating()"
   ]
  },
  {
   "cell_type": "code",
   "execution_count": 5,
   "id": "25f9cfbc",
   "metadata": {},
   "outputs": [
    {
     "ename": "SyntaxError",
     "evalue": "invalid syntax (1656188538.py, line 2)",
     "output_type": "error",
     "traceback": [
      "\u001b[0;36m  File \u001b[0;32m\"/tmp/ipykernel_693825/1656188538.py\"\u001b[0;36m, line \u001b[0;32m2\u001b[0m\n\u001b[0;31m    if len(n.children)\u001b[0m\n\u001b[0m                      ^\u001b[0m\n\u001b[0;31mSyntaxError\u001b[0m\u001b[0;31m:\u001b[0m invalid syntax\n"
     ]
    }
   ],
   "source": [
    "for n in t._idx_dict:\n",
    "    if len()"
   ]
  },
  {
   "cell_type": "code",
   "execution_count": 7,
   "id": "4471689d",
   "metadata": {},
   "outputs": [
    {
     "ename": "AttributeError",
     "evalue": "'ToyTree' object has no attribute 'libs'",
     "output_type": "error",
     "traceback": [
      "\u001b[0;31m---------------------------------------------------------------------------\u001b[0m",
      "\u001b[0;31mAttributeError\u001b[0m                            Traceback (most recent call last)",
      "\u001b[0;32m/tmp/ipykernel_691568/178741481.py\u001b[0m in \u001b[0;36m<module>\u001b[0;34m\u001b[0m\n\u001b[0;32m----> 1\u001b[0;31m \u001b[0mt\u001b[0m\u001b[0;34m.\u001b[0m\u001b[0mlibs\u001b[0m\u001b[0;34m.\u001b[0m\u001b[0mdistance\u001b[0m\u001b[0;34m.\u001b[0m\u001b[0mget_mrca\u001b[0m\u001b[0;34m(\u001b[0m\u001b[0;36m0\u001b[0m\u001b[0;34m,\u001b[0m \u001b[0;36m1\u001b[0m\u001b[0;34m)\u001b[0m\u001b[0;34m\u001b[0m\u001b[0;34m\u001b[0m\u001b[0m\n\u001b[0m",
      "\u001b[0;31mAttributeError\u001b[0m: 'ToyTree' object has no attribute 'libs'"
     ]
    }
   ],
   "source": [
    "t.libs.distance.get_mrca(0, 1)"
   ]
  },
  {
   "cell_type": "code",
   "execution_count": 5,
   "id": "d164d104",
   "metadata": {},
   "outputs": [
    {
     "name": "stdout",
     "output_type": "stream",
     "text": [
      "Node(idx=0, --(8)) 8 0 1.0\n",
      "Node(idx=1, --(9)) 9 1 1.0\n",
      "Node(idx=2, --(7)) 7 2 1.0\n",
      "Node(idx=3, --(5)) 5 3 1.0\n",
      "Node(idx=4, --(3)) 3 4 1.0\n",
      "Node(idx=5, --(1)) 1 5 1.0\n"
     ]
    }
   ],
   "source": [
    "for tip in t:\n",
    "    print(tip, tip.name, tip.idx, tip.dist, )"
   ]
  },
  {
   "cell_type": "code",
   "execution_count": 24,
   "id": "6a7fd2eb",
   "metadata": {},
   "outputs": [],
   "source": [
    "tree = toytree.rtree.unittree(10)"
   ]
  },
  {
   "cell_type": "code",
   "execution_count": 118,
   "id": "57ac4267",
   "metadata": {},
   "outputs": [],
   "source": [
    "import numpy as np\n",
    "import toytree\n",
    "import ipcoal\n",
    "\n",
    "tree = toytree.rtree.unittree(10, 10000, seed=123)"
   ]
  },
  {
   "cell_type": "code",
   "execution_count": 119,
   "id": "e43b2d8e",
   "metadata": {},
   "outputs": [],
   "source": [
    "rng = np.random.default_rng(seed=123)"
   ]
  },
  {
   "cell_type": "code",
   "execution_count": 125,
   "id": "d47ef11b",
   "metadata": {},
   "outputs": [
    {
     "data": {
      "text/plain": [
       "1.0"
      ]
     },
     "execution_count": 125,
     "metadata": {},
     "output_type": "execute_result"
    }
   ],
   "source": [
    "node.dist"
   ]
  },
  {
   "cell_type": "code",
   "execution_count": 123,
   "id": "181f8a7f",
   "metadata": {},
   "outputs": [],
   "source": [
    "for sptree_rep in range(100):\n",
    "\n",
    "    # create a simulation Model\n",
    "    model = ipcoal.Model(\n",
    "        tree=tree, \n",
    "        Ne=1000, \n",
    "        seed_trees=rng.integers(2**31),\n",
    "        seed_mutations=rng.integers(2**31)\n",
    "    )\n",
    "    \n",
    "    # simulate teh loci\n",
    "    model.sim_loci(2, 20)\n",
    "    \n",
    "    # infer the gene trees\n",
    "    # ...\n",
    "    \n",
    "    # infer the astral tree\n",
    "    # ...\n",
    "    \n",
    "    # save astral tree\n",
    "    # ..."
   ]
  },
  {
   "cell_type": "code",
   "execution_count": 121,
   "id": "97b8fc09",
   "metadata": {},
   "outputs": [],
   "source": []
  },
  {
   "cell_type": "code",
   "execution_count": 122,
   "id": "d06132e2",
   "metadata": {},
   "outputs": [
    {
     "data": {
      "text/html": [
       "<div>\n",
       "<style scoped>\n",
       "    .dataframe tbody tr th:only-of-type {\n",
       "        vertical-align: middle;\n",
       "    }\n",
       "\n",
       "    .dataframe tbody tr th {\n",
       "        vertical-align: top;\n",
       "    }\n",
       "\n",
       "    .dataframe thead th {\n",
       "        text-align: right;\n",
       "    }\n",
       "</style>\n",
       "<table border=\"1\" class=\"dataframe\">\n",
       "  <thead>\n",
       "    <tr style=\"text-align: right;\">\n",
       "      <th></th>\n",
       "      <th>locus</th>\n",
       "      <th>start</th>\n",
       "      <th>end</th>\n",
       "      <th>nbps</th>\n",
       "      <th>nsnps</th>\n",
       "      <th>tidx</th>\n",
       "      <th>genealogy</th>\n",
       "    </tr>\n",
       "  </thead>\n",
       "  <tbody>\n",
       "    <tr>\n",
       "      <th>0</th>\n",
       "      <td>0</td>\n",
       "      <td>0</td>\n",
       "      <td>20</td>\n",
       "      <td>20</td>\n",
       "      <td>0</td>\n",
       "      <td>0</td>\n",
       "      <td>(((r3:6443.6226576153576...</td>\n",
       "    </tr>\n",
       "    <tr>\n",
       "      <th>1</th>\n",
       "      <td>1</td>\n",
       "      <td>0</td>\n",
       "      <td>20</td>\n",
       "      <td>20</td>\n",
       "      <td>0</td>\n",
       "      <td>0</td>\n",
       "      <td>((r1:8277.85524641562552...</td>\n",
       "    </tr>\n",
       "  </tbody>\n",
       "</table>\n",
       "</div>"
      ],
      "text/plain": [
       "   locus  start  end  nbps  nsnps  tidx                    genealogy\n",
       "0      0      0   20    20      0     0  (((r3:6443.6226576153576...\n",
       "1      1      0   20    20      0     0  ((r1:8277.85524641562552..."
      ]
     },
     "execution_count": 122,
     "metadata": {},
     "output_type": "execute_result"
    }
   ],
   "source": [
    "model.df"
   ]
  },
  {
   "cell_type": "code",
   "execution_count": null,
   "id": "4aa82465",
   "metadata": {},
   "outputs": [],
   "source": []
  },
  {
   "cell_type": "code",
   "execution_count": 6,
   "id": "f707f0f5",
   "metadata": {},
   "outputs": [],
   "source": [
    "import copy"
   ]
  },
  {
   "cell_type": "code",
   "execution_count": 7,
   "id": "80d095be",
   "metadata": {},
   "outputs": [
    {
     "data": {
      "text/plain": [
       "Node(idx=0, --o)"
      ]
     },
     "execution_count": 7,
     "metadata": {},
     "output_type": "execute_result"
    }
   ],
   "source": [
    "copy.copy(node)"
   ]
  },
  {
   "cell_type": "code",
   "execution_count": 14,
   "id": "c9cf921f",
   "metadata": {},
   "outputs": [
    {
     "data": {
      "text/plain": [
       "<ToyTree rooted=True, ntips=10, features=['dist', 'height', 'idx', 'name', 'support']>"
      ]
     },
     "execution_count": 14,
     "metadata": {},
     "output_type": "execute_result"
    }
   ],
   "source": [
    "tree.mod.node_slider()"
   ]
  },
  {
   "cell_type": "code",
   "execution_count": 2,
   "id": "4067858f",
   "metadata": {},
   "outputs": [
    {
     "name": "stdout",
     "output_type": "stream",
     "text": [
      "98 ns ± 1.71 ns per loop (mean ± std. dev. of 7 runs, 10000000 loops each)\n"
     ]
    }
   ],
   "source": [
    "%%timeit\n",
    "max(3, 10)"
   ]
  },
  {
   "cell_type": "code",
   "execution_count": 3,
   "id": "acd47ab5",
   "metadata": {},
   "outputs": [
    {
     "name": "stdout",
     "output_type": "stream",
     "text": [
      "57.9 ns ± 0.759 ns per loop (mean ± std. dev. of 7 runs, 10000000 loops each)\n"
     ]
    }
   ],
   "source": [
    "%%timeit\n",
    "bool([])"
   ]
  },
  {
   "cell_type": "code",
   "execution_count": 191,
   "id": "0a4ac4c4",
   "metadata": {},
   "outputs": [
    {
     "ename": "TypeError",
     "evalue": "float() argument must be a string or a number, not 'ToyTree'",
     "output_type": "error",
     "traceback": [
      "\u001b[0;31m---------------------------------------------------------------------------\u001b[0m",
      "\u001b[0;31mTypeError\u001b[0m                                 Traceback (most recent call last)",
      "\u001b[0;32m/tmp/ipykernel_218231/3258986608.py\u001b[0m in \u001b[0;36m<module>\u001b[0;34m\u001b[0m\n\u001b[0;32m----> 1\u001b[0;31m \u001b[0medges\u001b[0m \u001b[0;34m=\u001b[0m \u001b[0mscipy\u001b[0m\u001b[0;34m.\u001b[0m\u001b[0mcluster\u001b[0m\u001b[0;34m.\u001b[0m\u001b[0mhierarchy\u001b[0m\u001b[0;34m.\u001b[0m\u001b[0mlinkage\u001b[0m\u001b[0;34m(\u001b[0m\u001b[0mtree\u001b[0m\u001b[0;34m,\u001b[0m \u001b[0;34m\"average\"\u001b[0m\u001b[0;34m)\u001b[0m\u001b[0;34m\u001b[0m\u001b[0;34m\u001b[0m\u001b[0m\n\u001b[0m",
      "\u001b[0;32m~/miniconda3/lib/python3.9/site-packages/scipy/cluster/hierarchy.py\u001b[0m in \u001b[0;36mlinkage\u001b[0;34m(y, method, metric, optimal_ordering)\u001b[0m\n\u001b[1;32m   1044\u001b[0m         \u001b[0;32mraise\u001b[0m \u001b[0mValueError\u001b[0m\u001b[0;34m(\u001b[0m\u001b[0;34m\"Invalid method: {0}\"\u001b[0m\u001b[0;34m.\u001b[0m\u001b[0mformat\u001b[0m\u001b[0;34m(\u001b[0m\u001b[0mmethod\u001b[0m\u001b[0;34m)\u001b[0m\u001b[0;34m)\u001b[0m\u001b[0;34m\u001b[0m\u001b[0;34m\u001b[0m\u001b[0m\n\u001b[1;32m   1045\u001b[0m \u001b[0;34m\u001b[0m\u001b[0m\n\u001b[0;32m-> 1046\u001b[0;31m     \u001b[0my\u001b[0m \u001b[0;34m=\u001b[0m \u001b[0m_convert_to_double\u001b[0m\u001b[0;34m(\u001b[0m\u001b[0mnp\u001b[0m\u001b[0;34m.\u001b[0m\u001b[0masarray\u001b[0m\u001b[0;34m(\u001b[0m\u001b[0my\u001b[0m\u001b[0;34m,\u001b[0m \u001b[0morder\u001b[0m\u001b[0;34m=\u001b[0m\u001b[0;34m'c'\u001b[0m\u001b[0;34m)\u001b[0m\u001b[0;34m)\u001b[0m\u001b[0;34m\u001b[0m\u001b[0;34m\u001b[0m\u001b[0m\n\u001b[0m\u001b[1;32m   1047\u001b[0m \u001b[0;34m\u001b[0m\u001b[0m\n\u001b[1;32m   1048\u001b[0m     \u001b[0;32mif\u001b[0m \u001b[0my\u001b[0m\u001b[0;34m.\u001b[0m\u001b[0mndim\u001b[0m \u001b[0;34m==\u001b[0m \u001b[0;36m1\u001b[0m\u001b[0;34m:\u001b[0m\u001b[0;34m\u001b[0m\u001b[0;34m\u001b[0m\u001b[0m\n",
      "\u001b[0;32m~/miniconda3/lib/python3.9/site-packages/scipy/cluster/hierarchy.py\u001b[0m in \u001b[0;36m_convert_to_double\u001b[0;34m(X)\u001b[0m\n\u001b[1;32m   1566\u001b[0m \u001b[0;32mdef\u001b[0m \u001b[0m_convert_to_double\u001b[0m\u001b[0;34m(\u001b[0m\u001b[0mX\u001b[0m\u001b[0;34m)\u001b[0m\u001b[0;34m:\u001b[0m\u001b[0;34m\u001b[0m\u001b[0;34m\u001b[0m\u001b[0m\n\u001b[1;32m   1567\u001b[0m     \u001b[0;32mif\u001b[0m \u001b[0mX\u001b[0m\u001b[0;34m.\u001b[0m\u001b[0mdtype\u001b[0m \u001b[0;34m!=\u001b[0m \u001b[0mnp\u001b[0m\u001b[0;34m.\u001b[0m\u001b[0mdouble\u001b[0m\u001b[0;34m:\u001b[0m\u001b[0;34m\u001b[0m\u001b[0;34m\u001b[0m\u001b[0m\n\u001b[0;32m-> 1568\u001b[0;31m         \u001b[0mX\u001b[0m \u001b[0;34m=\u001b[0m \u001b[0mX\u001b[0m\u001b[0;34m.\u001b[0m\u001b[0mastype\u001b[0m\u001b[0;34m(\u001b[0m\u001b[0mnp\u001b[0m\u001b[0;34m.\u001b[0m\u001b[0mdouble\u001b[0m\u001b[0;34m)\u001b[0m\u001b[0;34m\u001b[0m\u001b[0;34m\u001b[0m\u001b[0m\n\u001b[0m\u001b[1;32m   1569\u001b[0m     \u001b[0;32mif\u001b[0m \u001b[0;32mnot\u001b[0m \u001b[0mX\u001b[0m\u001b[0;34m.\u001b[0m\u001b[0mflags\u001b[0m\u001b[0;34m.\u001b[0m\u001b[0mcontiguous\u001b[0m\u001b[0;34m:\u001b[0m\u001b[0;34m\u001b[0m\u001b[0;34m\u001b[0m\u001b[0m\n\u001b[1;32m   1570\u001b[0m         \u001b[0mX\u001b[0m \u001b[0;34m=\u001b[0m \u001b[0mX\u001b[0m\u001b[0;34m.\u001b[0m\u001b[0mcopy\u001b[0m\u001b[0;34m(\u001b[0m\u001b[0;34m)\u001b[0m\u001b[0;34m\u001b[0m\u001b[0;34m\u001b[0m\u001b[0m\n",
      "\u001b[0;31mTypeError\u001b[0m: float() argument must be a string or a number, not 'ToyTree'"
     ]
    }
   ],
   "source": [
    "edges = scipy.cluster.hierarchy.linkage(tree, \"average\")"
   ]
  },
  {
   "cell_type": "code",
   "execution_count": 190,
   "id": "4f713c81",
   "metadata": {},
   "outputs": [
    {
     "data": {
      "text/plain": [
       "array([[2.        , 3.        , 3.51081575, 2.        ],\n",
       "       [0.        , 6.        , 3.88791652, 3.        ],\n",
       "       [1.        , 7.        , 3.99126833, 4.        ],\n",
       "       [4.        , 8.        , 4.00958192, 5.        ],\n",
       "       [5.        , 9.        , 4.08281735, 6.        ]])"
      ]
     },
     "execution_count": 190,
     "metadata": {},
     "output_type": "execute_result"
    }
   ],
   "source": [
    "edges"
   ]
  },
  {
   "cell_type": "code",
   "execution_count": 189,
   "id": "7b93706d",
   "metadata": {},
   "outputs": [
    {
     "ename": "SyntaxError",
     "evalue": "invalid syntax (2420120478.py, line 33)",
     "output_type": "error",
     "traceback": [
      "\u001b[0;36m  File \u001b[0;32m\"/tmp/ipykernel_218231/2420120478.py\"\u001b[0;36m, line \u001b[0;32m33\u001b[0m\n\u001b[0;31m    internal.children =\u001b[0m\n\u001b[0m                        ^\u001b[0m\n\u001b[0;31mSyntaxError\u001b[0m\u001b[0;31m:\u001b[0m invalid syntax\n"
     ]
    }
   ],
   "source": []
  },
  {
   "cell_type": "code",
   "execution_count": 233,
   "id": "d065545a",
   "metadata": {},
   "outputs": [
    {
     "name": "stdout",
     "output_type": "stream",
     "text": [
      "[[2.         3.         3.51081575 2.        ]\n",
      " [0.         6.         3.88791652 3.        ]\n",
      " [1.         7.         3.99126833 4.        ]\n",
      " [4.         8.         4.00958192 5.        ]\n",
      " [5.         9.         4.08281735 6.        ]]\n"
     ]
    }
   ],
   "source": [
    "import toyplot\n",
    "import numpy as np\n",
    "import scipy.spatial\n",
    "import scipy.cluster\n",
    "\n",
    "# generate 100 random data points for 12 things\n",
    "rng = np.random.default_rng(123)\n",
    "data = rng.random(size=(6, 100))\n",
    "\n",
    "# calculate a measure of distance between samples\n",
    "dists = scipy.spatial.distance.pdist(data)\n",
    "\n",
    "# infer a hierarchical tree by clustering samples by distances\n",
    "edges = scipy.cluster.hierarchy.average(dists)\n",
    "print(edges)"
   ]
  },
  {
   "cell_type": "code",
   "execution_count": 266,
   "id": "1e1f86ad",
   "metadata": {},
   "outputs": [
    {
     "data": {
      "text/html": [
       "<div class=\"toyplot\" id=\"t5db754501c0e476d88f4a0ed657fcf0b\" style=\"text-align:center\"><svg class=\"toyplot-canvas-Canvas\" xmlns:toyplot=\"http://www.sandia.gov/toyplot\" xmlns:xlink=\"http://www.w3.org/1999/xlink\" xmlns=\"http://www.w3.org/2000/svg\" width=\"255.0px\" height=\"275.0px\" viewBox=\"0 0 255.0 275.0\" preserveAspectRatio=\"xMidYMid meet\" style=\"background-color:transparent;border-color:#292724;border-style:none;border-width:1.0;fill:rgb(16.1%,15.3%,14.1%);fill-opacity:1.0;font-family:Helvetica;font-size:12px;opacity:1.0;stroke:rgb(16.1%,15.3%,14.1%);stroke-opacity:1.0;stroke-width:1.0\" id=\"t8524486747094a5e8a69f8638e6d5045\"><g class=\"toyplot-coordinates-Cartesian\" id=\"te729bf88165141988b1c9728bbf2eaee\"><clipPath id=\"tae9824caa7984e20ab8313d5e3518667\"><rect x=\"35.0\" y=\"35.0\" width=\"185.0\" height=\"205.0\"></rect></clipPath><g clip-path=\"url(#tae9824caa7984e20ab8313d5e3518667)\"><g class=\"toytree-mark-Toytree\" id=\"t29d73a8bfae04994bb48224e3bec9f67\"><g class=\"toytree-Edges\" style=\"fill:none;stroke:rgba(16.1%,15.3%,14.1%,1.000);stroke-linecap:round;stroke-width:2.0\"><path d=\"M 149.9 202.6 L 149.9 218.9 L 171.8 218.9\" id=\"6,0\" style=\"stroke-width:nan\"></path><path d=\"M 149.9 202.6 L 149.9 186.3 L 171.8 186.3\" id=\"6,1\" style=\"stroke-width:nan\"></path><path d=\"M 125.6 178.2 L 125.6 153.8 L 149.9 153.8\" id=\"7,2\" style=\"stroke-width:nan\"></path><path d=\"M 100.6 149.7 L 100.6 121.2 L 125.6 121.2\" id=\"8,3\" style=\"stroke-width:nan\"></path><path d=\"M 75.5 119.2 L 75.5 88.7 L 100.6 88.7\" id=\"9,4\" style=\"stroke-width:nan\"></path><path d=\"M 50.0 87.7 L 50.0 56.1 L 75.5 56.1\" id=\"10,5\" style=\"stroke-width:nan\"></path><path d=\"M 125.6 178.2 L 125.6 202.6 L 149.9 202.6\" id=\"7,6\" style=\"stroke-width:nan\"></path><path d=\"M 100.6 149.7 L 100.6 178.2 L 125.6 178.2\" id=\"8,7\" style=\"stroke-width:nan\"></path><path d=\"M 75.5 119.2 L 75.5 149.7 L 100.6 149.7\" id=\"9,8\" style=\"stroke-width:nan\"></path><path d=\"M 50.0 87.7 L 50.0 119.2 L 75.5 119.2\" id=\"10,9\" style=\"stroke-width:nan\"></path></g><g class=\"toytree-AlignEdges\" style=\"stroke:rgba(66.3%,66.3%,66.3%,1.000);stroke-dasharray:2,4;stroke-linecap:round;stroke-opacity:0.75;stroke-width:2\"><path d=\"M 171.8 218.9 L 171.8 218.9\"></path><path d=\"M 171.8 186.3 L 171.8 186.3\"></path><path d=\"M 171.8 153.8 L 149.9 153.8\"></path><path d=\"M 171.8 121.2 L 125.6 121.2\"></path><path d=\"M 171.8 88.7 L 100.6 88.7\"></path><path d=\"M 171.8 56.1 L 75.5 56.1\"></path></g><g class=\"toytree-TipLabels\" style=\"fill:rgb(16.1%,15.3%,14.1%);fill-opacity:1.0;font-family:Helvetica;font-size:11.0px;font-weight:300;stroke:none;vertical-align:baseline;white-space:pre\"><g class=\"toytree-TipLabel\" transform=\"translate(171.81086233471243,218.86291179596174)\"><text x=\"15.0\" y=\"2.8104999999999993\" style=\"\">3</text></g><g class=\"toytree-TipLabel\" transform=\"translate(171.81086233471243,186.31774707757702)\"><text x=\"15.0\" y=\"2.8104999999999993\" style=\"\">2</text></g><g class=\"toytree-TipLabel\" transform=\"translate(171.81086233471243,153.77258235919234)\"><text x=\"15.0\" y=\"2.8104999999999993\" style=\"\">0</text></g><g class=\"toytree-TipLabel\" transform=\"translate(171.81086233471243,121.22741764080763)\"><text x=\"15.0\" y=\"2.8104999999999993\" style=\"\">1</text></g><g class=\"toytree-TipLabel\" transform=\"translate(171.81086233471243,88.68225292242295)\"><text x=\"15.0\" y=\"2.8104999999999993\" style=\"\">4</text></g><g class=\"toytree-TipLabel\" transform=\"translate(171.81086233471243,56.137088204038236)\"><text x=\"15.0\" y=\"2.8104999999999993\" style=\"\">5</text></g></g></g></g></g></svg><div class=\"toyplot-behavior\"><script>(function()\n",
       "{\n",
       "var modules={};\n",
       "})();</script></div></div>"
      ]
     },
     "metadata": {},
     "output_type": "display_data"
    }
   ],
   "source": [
    "def parse_tree_from_scipy_dist_table(table: np.ndarray):\n",
    "    \"\"\"Return ToyTree ...\n",
    "    \n",
    "    Note\n",
    "    ----\n",
    "    Inferring the number of tips assumes dichotomous?\n",
    "    \"\"\"\n",
    "    name_to_node = {}\n",
    "    \n",
    "    # iterate over rows of the table\n",
    "    for ridx in range(table.shape[0]):\n",
    "        \n",
    "        # internal name is row number + ntips\n",
    "        iname = int(ridx + table[-1, -1])\n",
    "        \n",
    "        # create new internal node\n",
    "        internal = toytree.TreeNode(name=str(iname))\n",
    "        name_to_node[iname] = internal\n",
    "        \n",
    "        # iterate over child indices\n",
    "        for cidx in table[ridx, [0, 1]]:\n",
    "            cidx = int(cidx)\n",
    "            \n",
    "            # create child node if it doesn't exist\n",
    "            if cidx not in name_to_node:\n",
    "                child = toytree.TreeNode(name=str(cidx))\n",
    "                name_to_node[cidx] = child\n",
    "            else:\n",
    "                child = name_to_node[cidx]\n",
    "                \n",
    "            # set distance\n",
    "            child.dist = table[ridx, 2]\n",
    "            \n",
    "            # connect to parent\n",
    "            child.up = internal\n",
    "            internal.children.append(child)\n",
    "    return internal\n",
    "\n",
    "tree = parse_tree_from_scipy_dist_table(edges)\n",
    "tree = toytree.ToyTree(tree)\n",
    "tree.draw(ts='n', tip_labels_align=True);"
   ]
  },
  {
   "cell_type": "code",
   "execution_count": 883,
   "id": "c0def51a",
   "metadata": {},
   "outputs": [
    {
     "data": {
      "text/html": [
       "<div class=\"toyplot\" id=\"tcd4ba37693504aab92fc16176db9a5f4\" style=\"text-align:center\"><svg class=\"toyplot-canvas-Canvas\" xmlns:toyplot=\"http://www.sandia.gov/toyplot\" xmlns:xlink=\"http://www.w3.org/1999/xlink\" xmlns=\"http://www.w3.org/2000/svg\" width=\"500.0px\" height=\"350.0px\" viewBox=\"0 0 500.0 350.0\" preserveAspectRatio=\"xMidYMid meet\" style=\"background-color:transparent;border-color:#292724;border-style:none;border-width:1.0;fill:rgb(16.1%,15.3%,14.1%);fill-opacity:1.0;font-family:Helvetica;font-size:12px;opacity:1.0;stroke:rgb(16.1%,15.3%,14.1%);stroke-opacity:1.0;stroke-width:1.0\" id=\"t31995f217a044d1e9cac74f9f6239ad5\"><g class=\"toyplot-coordinates-Cartesian\" id=\"tf1e9ee0dd0ba469bbe7598a60daf7675\"><clipPath id=\"te7448f69bc23424b8e9aa218bebe4dae\"><rect x=\"35.0\" y=\"35.0\" width=\"430.0\" height=\"280.0\"></rect></clipPath><g clip-path=\"url(#te7448f69bc23424b8e9aa218bebe4dae)\"><g class=\"toytree-mark-Toytree\" id=\"t31104c5d4a7e4087bf082378210c217e\"><g class=\"toytree-Edges\" style=\"fill:none;stroke:rgba(16.1%,15.3%,14.1%,1.000);stroke-linecap:round;stroke-width:2.0\"><path d=\"M 112.3 287.5 L 112.3 293.7 L 159.1 293.7\" id=\"25,0\" style=\"stroke-width:nan\"></path><path d=\"M 112.3 287.5 L 112.3 281.2 L 159.1 281.2\" id=\"25,1\" style=\"stroke-width:nan\"></path><path d=\"M 127.9 262.5 L 127.9 268.7 L 159.1 268.7\" id=\"22,2\" style=\"stroke-width:nan\"></path><path d=\"M 127.9 262.5 L 127.9 256.2 L 159.1 256.2\" id=\"22,3\" style=\"stroke-width:nan\"></path><path d=\"M 112.3 253.1 L 112.3 243.7 L 159.1 243.7\" id=\"26,4\" style=\"stroke-width:nan\"></path><path d=\"M 96.8 209.4 L 96.8 231.2 L 159.1 231.2\" id=\"30,5\" style=\"stroke-width:nan\"></path><path d=\"M 143.5 212.5 L 143.5 218.7 L 159.1 218.7\" id=\"20,6\" style=\"stroke-width:nan\"></path><path d=\"M 143.5 212.5 L 143.5 206.2 L 159.1 206.2\" id=\"20,7\" style=\"stroke-width:nan\"></path><path d=\"M 127.9 203.1 L 127.9 193.7 L 159.1 193.7\" id=\"23,8\" style=\"stroke-width:nan\"></path><path d=\"M 127.9 171.9 L 127.9 181.2 L 159.1 181.2\" id=\"24,9\" style=\"stroke-width:nan\"></path><path d=\"M 143.5 162.5 L 143.5 168.8 L 159.1 168.8\" id=\"21,10\" style=\"stroke-width:nan\"></path><path d=\"M 143.5 162.5 L 143.5 156.3 L 159.1 156.3\" id=\"21,11\" style=\"stroke-width:nan\"></path><path d=\"M 96.8 134.4 L 96.8 143.8 L 159.1 143.8\" id=\"31,12\" style=\"stroke-width:nan\"></path><path d=\"M 112.3 125.0 L 112.3 131.3 L 159.1 131.3\" id=\"28,13\" style=\"stroke-width:nan\"></path><path d=\"M 112.3 125.0 L 112.3 118.8 L 159.1 118.8\" id=\"28,14\" style=\"stroke-width:nan\"></path><path d=\"M 96.8 100.0 L 96.8 106.3 L 159.1 106.3\" id=\"32,15\" style=\"stroke-width:nan\"></path><path d=\"M 96.8 100.0 L 96.8 93.8 L 159.1 93.8\" id=\"32,16\" style=\"stroke-width:nan\"></path><path d=\"M 81.2 75.0 L 81.2 81.3 L 159.1 81.3\" id=\"35,17\" style=\"stroke-width:nan\"></path><path d=\"M 81.2 75.0 L 81.2 68.8 L 159.1 68.8\" id=\"35,18\" style=\"stroke-width:nan\"></path><path d=\"M 65.6 65.6 L 65.6 56.3 L 159.1 56.3\" id=\"37,19\" style=\"stroke-width:nan\"></path><path d=\"M 127.9 203.1 L 127.9 212.5 L 143.5 212.5\" id=\"23,20\" style=\"stroke-width:nan\"></path><path d=\"M 127.9 171.9 L 127.9 162.5 L 143.5 162.5\" id=\"24,21\" style=\"stroke-width:nan\"></path><path d=\"M 112.3 253.1 L 112.3 262.5 L 127.9 262.5\" id=\"26,22\" style=\"stroke-width:nan\"></path><path d=\"M 112.3 187.5 L 112.3 203.1 L 127.9 203.1\" id=\"27,23\" style=\"stroke-width:nan\"></path><path d=\"M 112.3 187.5 L 112.3 171.9 L 127.9 171.9\" id=\"27,24\" style=\"stroke-width:nan\"></path><path d=\"M 96.8 270.3 L 96.8 287.5 L 112.3 287.5\" id=\"29,25\" style=\"stroke-width:nan\"></path><path d=\"M 96.8 270.3 L 96.8 253.1 L 112.3 253.1\" id=\"29,26\" style=\"stroke-width:nan\"></path><path d=\"M 96.8 209.4 L 96.8 187.5 L 112.3 187.5\" id=\"30,27\" style=\"stroke-width:nan\"></path><path d=\"M 96.8 134.4 L 96.8 125.0 L 112.3 125.0\" id=\"31,28\" style=\"stroke-width:nan\"></path><path d=\"M 81.2 239.8 L 81.2 270.3 L 96.8 270.3\" id=\"33,29\" style=\"stroke-width:nan\"></path><path d=\"M 81.2 239.8 L 81.2 209.4 L 96.8 209.4\" id=\"33,30\" style=\"stroke-width:nan\"></path><path d=\"M 81.2 117.2 L 81.2 134.4 L 96.8 134.4\" id=\"34,31\" style=\"stroke-width:nan\"></path><path d=\"M 81.2 117.2 L 81.2 100.0 L 96.8 100.0\" id=\"34,32\" style=\"stroke-width:nan\"></path><path d=\"M 65.6 178.5 L 65.6 239.8 L 81.2 239.8\" id=\"36,33\" style=\"stroke-width:nan\"></path><path d=\"M 65.6 178.5 L 65.6 117.2 L 81.2 117.2\" id=\"36,34\" style=\"stroke-width:nan\"></path><path d=\"M 65.6 65.6 L 65.6 75.0 L 81.2 75.0\" id=\"37,35\" style=\"stroke-width:nan\"></path><path d=\"M 50.0 122.1 L 50.0 178.5 L 65.6 178.5\" id=\"38,36\" style=\"stroke-width:nan\"></path><path d=\"M 50.0 122.1 L 50.0 65.6 L 65.6 65.6\" id=\"38,37\" style=\"stroke-width:nan\"></path></g><g class=\"toytree-AlignEdges\" style=\"stroke:rgba(66.3%,66.3%,66.3%,1.000);stroke-dasharray:2,4;stroke-linecap:round;stroke-opacity:0.75;stroke-width:2\"><path d=\"M 159.1 293.7 L 159.1 293.7\"></path><path d=\"M 159.1 281.2 L 159.1 281.2\"></path><path d=\"M 159.1 268.7 L 159.1 268.7\"></path><path d=\"M 159.1 256.2 L 159.1 256.2\"></path><path d=\"M 159.1 243.7 L 159.1 243.7\"></path><path d=\"M 159.1 231.2 L 159.1 231.2\"></path><path d=\"M 159.1 218.7 L 159.1 218.7\"></path><path d=\"M 159.1 206.2 L 159.1 206.2\"></path><path d=\"M 159.1 193.7 L 159.1 193.7\"></path><path d=\"M 159.1 181.2 L 159.1 181.2\"></path><path d=\"M 159.1 168.8 L 159.1 168.8\"></path><path d=\"M 159.1 156.3 L 159.1 156.3\"></path><path d=\"M 159.1 143.8 L 159.1 143.8\"></path><path d=\"M 159.1 131.3 L 159.1 131.3\"></path><path d=\"M 159.1 118.8 L 159.1 118.8\"></path><path d=\"M 159.1 106.3 L 159.1 106.3\"></path><path d=\"M 159.1 93.8 L 159.1 93.8\"></path><path d=\"M 159.1 81.3 L 159.1 81.3\"></path><path d=\"M 159.1 68.8 L 159.1 68.8\"></path><path d=\"M 159.1 56.3 L 159.1 56.3\"></path></g><g class=\"toytree-TipLabels\" style=\"fill:rgb(16.1%,15.3%,14.1%);fill-opacity:1.0;font-family:Helvetica;font-size:11.0px;font-weight:300;stroke:none;vertical-align:baseline;white-space:pre\"><g class=\"toytree-TipLabel\" transform=\"translate(159.0909090909091,293.73100303951367)\"><text x=\"85.0\" y=\"2.8104999999999993\" style=\"\">r0</text></g><g class=\"toytree-TipLabel\" transform=\"translate(159.0909090909091,281.23300271956487)\"><text x=\"85.0\" y=\"2.8104999999999993\" style=\"\">r1</text></g><g class=\"toytree-TipLabel\" transform=\"translate(159.0909090909091,268.73500239961606)\"><text x=\"85.0\" y=\"2.8104999999999993\" style=\"\">r2</text></g><g class=\"toytree-TipLabel\" transform=\"translate(159.0909090909091,256.23700207966726)\"><text x=\"85.0\" y=\"2.8104999999999993\" style=\"\">r3</text></g><g class=\"toytree-TipLabel\" transform=\"translate(159.0909090909091,243.73900175971846)\"><text x=\"85.0\" y=\"2.8104999999999993\" style=\"\">r4</text></g><g class=\"toytree-TipLabel\" transform=\"translate(159.0909090909091,231.24100143976963)\"><text x=\"85.0\" y=\"2.8104999999999993\" style=\"\">r5</text></g><g class=\"toytree-TipLabel\" transform=\"translate(159.0909090909091,218.74300111982083)\"><text x=\"85.0\" y=\"2.8104999999999993\" style=\"\">r6</text></g><g class=\"toytree-TipLabel\" transform=\"translate(159.0909090909091,206.24500079987203)\"><text x=\"85.0\" y=\"2.8104999999999993\" style=\"\">r7</text></g><g class=\"toytree-TipLabel\" transform=\"translate(159.0909090909091,193.74700047992323)\"><text x=\"85.0\" y=\"2.8104999999999993\" style=\"\">r8</text></g><g class=\"toytree-TipLabel\" transform=\"translate(159.0909090909091,181.24900015997443)\"><text x=\"85.0\" y=\"2.8104999999999993\" style=\"\">r9</text></g><g class=\"toytree-TipLabel\" transform=\"translate(159.0909090909091,168.75099984002563)\"><text x=\"85.0\" y=\"2.8104999999999993\" style=\"\">r10</text></g><g class=\"toytree-TipLabel\" transform=\"translate(159.0909090909091,156.25299952007683)\"><text x=\"85.0\" y=\"2.8104999999999993\" style=\"\">r11</text></g><g class=\"toytree-TipLabel\" transform=\"translate(159.0909090909091,143.754999200128)\"><text x=\"85.0\" y=\"2.8104999999999993\" style=\"\">r12</text></g><g class=\"toytree-TipLabel\" transform=\"translate(159.0909090909091,131.2569988801792)\"><text x=\"85.0\" y=\"2.8104999999999993\" style=\"\">r13</text></g><g class=\"toytree-TipLabel\" transform=\"translate(159.0909090909091,118.75899856023041)\"><text x=\"85.0\" y=\"2.8104999999999993\" style=\"\">r14</text></g><g class=\"toytree-TipLabel\" transform=\"translate(159.0909090909091,106.26099824028161)\"><text x=\"85.0\" y=\"2.8104999999999993\" style=\"\">r15</text></g><g class=\"toytree-TipLabel\" transform=\"translate(159.0909090909091,93.76299792033278)\"><text x=\"85.0\" y=\"2.8104999999999993\" style=\"\">r16</text></g><g class=\"toytree-TipLabel\" transform=\"translate(159.0909090909091,81.26499760038398)\"><text x=\"85.0\" y=\"2.8104999999999993\" style=\"\">r17</text></g><g class=\"toytree-TipLabel\" transform=\"translate(159.0909090909091,68.76699728043516)\"><text x=\"85.0\" y=\"2.8104999999999993\" style=\"\">r18</text></g><g class=\"toytree-TipLabel\" transform=\"translate(159.0909090909091,56.268996960486355)\"><text x=\"85.0\" y=\"2.8104999999999993\" style=\"\">r19</text></g></g></g><g class=\"toyplot-mark-Point\" id=\"t2fb9074bdb404408858410d41819c69e\"><g class=\"toyplot-Series\"><g style=\"fill:rgb(40%,76.1%,64.7%);fill-opacity:1.0;opacity:0.9277777777777778;stroke:rgb(40%,76.1%,64.7%);stroke-opacity:1.0\" class=\"toyplot-Datum\" transform=\"translate(173.63636363636363, 293.73100303951367)\"><title>4</title><circle r=\"4.0\"></circle></g><g style=\"fill:rgb(40%,76.1%,64.7%);fill-opacity:1.0;opacity:1.15;stroke:rgb(40%,76.1%,64.7%);stroke-opacity:1.0\" class=\"toyplot-Datum\" transform=\"translate(173.63636363636363, 281.23300271956487)\"><title>4</title><circle r=\"4.0\"></circle></g><g style=\"fill:rgb(40%,76.1%,64.7%);fill-opacity:1.0;opacity:0.7055555555555556;stroke:rgb(40%,76.1%,64.7%);stroke-opacity:1.0\" class=\"toyplot-Datum\" transform=\"translate(173.63636363636363, 268.73500239961606)\"><title>6</title><circle r=\"4.0\"></circle></g><g style=\"fill:rgb(40%,76.1%,64.7%);fill-opacity:1.0;opacity:0.9277777777777778;stroke:rgb(40%,76.1%,64.7%);stroke-opacity:1.0\" class=\"toyplot-Datum\" transform=\"translate(173.63636363636363, 256.23700207966726)\"><title>9</title><circle r=\"4.0\"></circle></g><g style=\"fill:rgb(40%,76.1%,64.7%);fill-opacity:1.0;opacity:0.26111111111111107;stroke:rgb(40%,76.1%,64.7%);stroke-opacity:1.0\" class=\"toyplot-Datum\" transform=\"translate(173.63636363636363, 243.73900175971846)\"><title>6</title><circle r=\"4.0\"></circle></g><g style=\"fill:rgb(40%,76.1%,64.7%);fill-opacity:1.0;opacity:0.26111111111111107;stroke:rgb(40%,76.1%,64.7%);stroke-opacity:1.0\" class=\"toyplot-Datum\" transform=\"translate(173.63636363636363, 231.24100143976963)\"><title>8</title><circle r=\"4.0\"></circle></g><g style=\"fill:rgb(40%,76.1%,64.7%);fill-opacity:1.0;opacity:0.7055555555555556;stroke:rgb(40%,76.1%,64.7%);stroke-opacity:1.0\" class=\"toyplot-Datum\" transform=\"translate(173.63636363636363, 218.74300111982083)\"><title>6</title><circle r=\"4.0\"></circle></g><g style=\"fill:rgb(40%,76.1%,64.7%);fill-opacity:1.0;opacity:1.0388888888888888;stroke:rgb(40%,76.1%,64.7%);stroke-opacity:1.0\" class=\"toyplot-Datum\" transform=\"translate(173.63636363636363, 206.24500079987203)\"><title>1</title><circle r=\"4.0\"></circle></g><g style=\"fill:rgb(40%,76.1%,64.7%);fill-opacity:1.0;opacity:0.9277777777777778;stroke:rgb(40%,76.1%,64.7%);stroke-opacity:1.0\" class=\"toyplot-Datum\" transform=\"translate(173.63636363636363, 193.74700047992323)\"><title>9</title><circle r=\"4.0\"></circle></g><g style=\"fill:rgb(40%,76.1%,64.7%);fill-opacity:1.0;opacity:0.37222222222222223;stroke:rgb(40%,76.1%,64.7%);stroke-opacity:1.0\" class=\"toyplot-Datum\" transform=\"translate(173.63636363636363, 181.24900015997443)\"><title>6</title><circle r=\"4.0\"></circle></g><g style=\"fill:rgb(40%,76.1%,64.7%);fill-opacity:1.0;opacity:0.8166666666666667;stroke:rgb(40%,76.1%,64.7%);stroke-opacity:1.0\" class=\"toyplot-Datum\" transform=\"translate(173.63636363636363, 168.75099984002563)\"><title>2</title><circle r=\"4.0\"></circle></g><g style=\"fill:rgb(40%,76.1%,64.7%);fill-opacity:1.0;opacity:1.15;stroke:rgb(40%,76.1%,64.7%);stroke-opacity:1.0\" class=\"toyplot-Datum\" transform=\"translate(173.63636363636363, 156.25299952007683)\"><title>7</title><circle r=\"4.0\"></circle></g><g style=\"fill:rgb(40%,76.1%,64.7%);fill-opacity:1.0;opacity:0.26111111111111107;stroke:rgb(40%,76.1%,64.7%);stroke-opacity:1.0\" class=\"toyplot-Datum\" transform=\"translate(173.63636363636363, 143.754999200128)\"><title>8</title><circle r=\"4.0\"></circle></g><g style=\"fill:rgb(40%,76.1%,64.7%);fill-opacity:1.0;opacity:0.8166666666666667;stroke:rgb(40%,76.1%,64.7%);stroke-opacity:1.0\" class=\"toyplot-Datum\" transform=\"translate(173.63636363636363, 131.2569988801792)\"><title>5</title><circle r=\"4.0\"></circle></g><g style=\"fill:rgb(40%,76.1%,64.7%);fill-opacity:1.0;opacity:1.0388888888888888;stroke:rgb(40%,76.1%,64.7%);stroke-opacity:1.0\" class=\"toyplot-Datum\" transform=\"translate(173.63636363636363, 118.75899856023041)\"><title>1</title><circle r=\"4.0\"></circle></g><g style=\"fill:rgb(40%,76.1%,64.7%);fill-opacity:1.0;opacity:0.8166666666666667;stroke:rgb(40%,76.1%,64.7%);stroke-opacity:1.0\" class=\"toyplot-Datum\" transform=\"translate(173.63636363636363, 106.26099824028161)\"><title>1</title><circle r=\"4.0\"></circle></g><g style=\"fill:rgb(40%,76.1%,64.7%);fill-opacity:1.0;opacity:1.15;stroke:rgb(40%,76.1%,64.7%);stroke-opacity:1.0\" class=\"toyplot-Datum\" transform=\"translate(173.63636363636363, 93.76299792033278)\"><title>7</title><circle r=\"4.0\"></circle></g><g style=\"fill:rgb(40%,76.1%,64.7%);fill-opacity:1.0;opacity:0.8166666666666667;stroke:rgb(40%,76.1%,64.7%);stroke-opacity:1.0\" class=\"toyplot-Datum\" transform=\"translate(173.63636363636363, 81.26499760038398)\"><title>5</title><circle r=\"4.0\"></circle></g><g style=\"fill:rgb(40%,76.1%,64.7%);fill-opacity:1.0;opacity:0.5944444444444444;stroke:rgb(40%,76.1%,64.7%);stroke-opacity:1.0\" class=\"toyplot-Datum\" transform=\"translate(173.63636363636363, 68.76699728043516)\"><title>9</title><circle r=\"4.0\"></circle></g><g style=\"fill:rgb(40%,76.1%,64.7%);fill-opacity:1.0;opacity:0.5944444444444444;stroke:rgb(40%,76.1%,64.7%);stroke-opacity:1.0\" class=\"toyplot-Datum\" transform=\"translate(173.63636363636363, 56.268996960486355)\"><title>7</title><circle r=\"4.0\"></circle></g></g></g><g class=\"toyplot-mark-Point\" id=\"td71fad90202a458483a37bf9d1e34a2a\"><g class=\"toyplot-Series\"><g style=\"fill:rgb(98.8%,55.3%,38.4%);fill-opacity:1.0;opacity:0.9277777777777778;stroke:rgb(98.8%,55.3%,38.4%);stroke-opacity:1.0\" class=\"toyplot-Datum\" transform=\"translate(188.1818181818182, 293.73100303951367)\"><title>4</title><circle r=\"4.0\"></circle></g><g style=\"fill:rgb(98.8%,55.3%,38.4%);fill-opacity:1.0;opacity:0.37222222222222223;stroke:rgb(98.8%,55.3%,38.4%);stroke-opacity:1.0\" class=\"toyplot-Datum\" transform=\"translate(188.1818181818182, 281.23300271956487)\"><title>2</title><circle r=\"4.0\"></circle></g><g style=\"fill:rgb(98.8%,55.3%,38.4%);fill-opacity:1.0;opacity:0.8166666666666667;stroke:rgb(98.8%,55.3%,38.4%);stroke-opacity:1.0\" class=\"toyplot-Datum\" transform=\"translate(188.1818181818182, 268.73500239961606)\"><title>8</title><circle r=\"4.0\"></circle></g><g style=\"fill:rgb(98.8%,55.3%,38.4%);fill-opacity:1.0;opacity:1.15;stroke:rgb(98.8%,55.3%,38.4%);stroke-opacity:1.0\" class=\"toyplot-Datum\" transform=\"translate(188.1818181818182, 256.23700207966726)\"><title>3</title><circle r=\"4.0\"></circle></g><g style=\"fill:rgb(98.8%,55.3%,38.4%);fill-opacity:1.0;opacity:0.7055555555555556;stroke:rgb(98.8%,55.3%,38.4%);stroke-opacity:1.0\" class=\"toyplot-Datum\" transform=\"translate(188.1818181818182, 243.73900175971846)\"><title>9</title><circle r=\"4.0\"></circle></g><g style=\"fill:rgb(98.8%,55.3%,38.4%);fill-opacity:1.0;opacity:0.4833333333333333;stroke:rgb(98.8%,55.3%,38.4%);stroke-opacity:1.0\" class=\"toyplot-Datum\" transform=\"translate(188.1818181818182, 231.24100143976963)\"><title>9</title><circle r=\"4.0\"></circle></g><g style=\"fill:rgb(98.8%,55.3%,38.4%);fill-opacity:1.0;opacity:1.0388888888888888;stroke:rgb(98.8%,55.3%,38.4%);stroke-opacity:1.0\" class=\"toyplot-Datum\" transform=\"translate(188.1818181818182, 218.74300111982083)\"><title>2</title><circle r=\"4.0\"></circle></g><g style=\"fill:rgb(98.8%,55.3%,38.4%);fill-opacity:1.0;opacity:1.15;stroke:rgb(98.8%,55.3%,38.4%);stroke-opacity:1.0\" class=\"toyplot-Datum\" transform=\"translate(188.1818181818182, 206.24500079987203)\"><title>9</title><circle r=\"4.0\"></circle></g><g style=\"fill:rgb(98.8%,55.3%,38.4%);fill-opacity:1.0;opacity:0.26111111111111107;stroke:rgb(98.8%,55.3%,38.4%);stroke-opacity:1.0\" class=\"toyplot-Datum\" transform=\"translate(188.1818181818182, 193.74700047992323)\"><title>8</title><circle r=\"4.0\"></circle></g><g style=\"fill:rgb(98.8%,55.3%,38.4%);fill-opacity:1.0;opacity:0.5944444444444444;stroke:rgb(98.8%,55.3%,38.4%);stroke-opacity:1.0\" class=\"toyplot-Datum\" transform=\"translate(188.1818181818182, 181.24900015997443)\"><title>2</title><circle r=\"4.0\"></circle></g><g style=\"fill:rgb(98.8%,55.3%,38.4%);fill-opacity:1.0;opacity:0.37222222222222223;stroke:rgb(98.8%,55.3%,38.4%);stroke-opacity:1.0\" class=\"toyplot-Datum\" transform=\"translate(188.1818181818182, 168.75099984002563)\"><title>4</title><circle r=\"4.0\"></circle></g><g style=\"fill:rgb(98.8%,55.3%,38.4%);fill-opacity:1.0;opacity:1.0388888888888888;stroke:rgb(98.8%,55.3%,38.4%);stroke-opacity:1.0\" class=\"toyplot-Datum\" transform=\"translate(188.1818181818182, 156.25299952007683)\"><title>1</title><circle r=\"4.0\"></circle></g><g style=\"fill:rgb(98.8%,55.3%,38.4%);fill-opacity:1.0;opacity:1.15;stroke:rgb(98.8%,55.3%,38.4%);stroke-opacity:1.0\" class=\"toyplot-Datum\" transform=\"translate(188.1818181818182, 143.754999200128)\"><title>9</title><circle r=\"4.0\"></circle></g><g style=\"fill:rgb(98.8%,55.3%,38.4%);fill-opacity:1.0;opacity:0.37222222222222223;stroke:rgb(98.8%,55.3%,38.4%);stroke-opacity:1.0\" class=\"toyplot-Datum\" transform=\"translate(188.1818181818182, 131.2569988801792)\"><title>8</title><circle r=\"4.0\"></circle></g><g style=\"fill:rgb(98.8%,55.3%,38.4%);fill-opacity:1.0;opacity:1.15;stroke:rgb(98.8%,55.3%,38.4%);stroke-opacity:1.0\" class=\"toyplot-Datum\" transform=\"translate(188.1818181818182, 118.75899856023041)\"><title>3</title><circle r=\"4.0\"></circle></g><g style=\"fill:rgb(98.8%,55.3%,38.4%);fill-opacity:1.0;opacity:1.15;stroke:rgb(98.8%,55.3%,38.4%);stroke-opacity:1.0\" class=\"toyplot-Datum\" transform=\"translate(188.1818181818182, 106.26099824028161)\"><title>5</title><circle r=\"4.0\"></circle></g><g style=\"fill:rgb(98.8%,55.3%,38.4%);fill-opacity:1.0;opacity:0.4833333333333333;stroke:rgb(98.8%,55.3%,38.4%);stroke-opacity:1.0\" class=\"toyplot-Datum\" transform=\"translate(188.1818181818182, 93.76299792033278)\"><title>9</title><circle r=\"4.0\"></circle></g><g style=\"fill:rgb(98.8%,55.3%,38.4%);fill-opacity:1.0;opacity:1.0388888888888888;stroke:rgb(98.8%,55.3%,38.4%);stroke-opacity:1.0\" class=\"toyplot-Datum\" transform=\"translate(188.1818181818182, 81.26499760038398)\"><title>6</title><circle r=\"4.0\"></circle></g><g style=\"fill:rgb(98.8%,55.3%,38.4%);fill-opacity:1.0;opacity:0.37222222222222223;stroke:rgb(98.8%,55.3%,38.4%);stroke-opacity:1.0\" class=\"toyplot-Datum\" transform=\"translate(188.1818181818182, 68.76699728043516)\"><title>2</title><circle r=\"4.0\"></circle></g><g style=\"fill:rgb(98.8%,55.3%,38.4%);fill-opacity:1.0;opacity:0.5944444444444444;stroke:rgb(98.8%,55.3%,38.4%);stroke-opacity:1.0\" class=\"toyplot-Datum\" transform=\"translate(188.1818181818182, 56.268996960486355)\"><title>7</title><circle r=\"4.0\"></circle></g></g></g><g class=\"toyplot-mark-Point\" id=\"t08c6ae46314341f8aac9106892aaac65\"><g class=\"toyplot-Series\"><g style=\"fill:rgb(55.3%,62.7%,79.6%);fill-opacity:1.0;opacity:0.775;stroke:rgb(55.3%,62.7%,79.6%);stroke-opacity:1.0\" class=\"toyplot-Datum\" transform=\"translate(202.72727272727272, 293.73100303951367)\"><title>8</title><circle r=\"4.0\"></circle></g><g style=\"fill:rgb(55.3%,62.7%,79.6%);fill-opacity:1.0;opacity:0.275;stroke:rgb(55.3%,62.7%,79.6%);stroke-opacity:1.0\" class=\"toyplot-Datum\" transform=\"translate(202.72727272727272, 281.23300271956487)\"><title>4</title><circle r=\"4.0\"></circle></g><g style=\"fill:rgb(55.3%,62.7%,79.6%);fill-opacity:1.0;opacity:0.4;stroke:rgb(55.3%,62.7%,79.6%);stroke-opacity:1.0\" class=\"toyplot-Datum\" transform=\"translate(202.72727272727272, 268.73500239961606)\"><title>2</title><circle r=\"4.0\"></circle></g><g style=\"fill:rgb(55.3%,62.7%,79.6%);fill-opacity:1.0;opacity:0.65;stroke:rgb(55.3%,62.7%,79.6%);stroke-opacity:1.0\" class=\"toyplot-Datum\" transform=\"translate(202.72727272727272, 256.23700207966726)\"><title>5</title><circle r=\"4.0\"></circle></g><g style=\"fill:rgb(55.3%,62.7%,79.6%);fill-opacity:1.0;opacity:0.775;stroke:rgb(55.3%,62.7%,79.6%);stroke-opacity:1.0\" class=\"toyplot-Datum\" transform=\"translate(202.72727272727272, 243.73900175971846)\"><title>5</title><circle r=\"4.0\"></circle></g><g style=\"fill:rgb(55.3%,62.7%,79.6%);fill-opacity:1.0;opacity:0.4;stroke:rgb(55.3%,62.7%,79.6%);stroke-opacity:1.0\" class=\"toyplot-Datum\" transform=\"translate(202.72727272727272, 231.24100143976963)\"><title>4</title><circle r=\"4.0\"></circle></g><g style=\"fill:rgb(55.3%,62.7%,79.6%);fill-opacity:1.0;opacity:1.025;stroke:rgb(55.3%,62.7%,79.6%);stroke-opacity:1.0\" class=\"toyplot-Datum\" transform=\"translate(202.72727272727272, 218.74300111982083)\"><title>8</title><circle r=\"4.0\"></circle></g><g style=\"fill:rgb(55.3%,62.7%,79.6%);fill-opacity:1.0;opacity:0.9;stroke:rgb(55.3%,62.7%,79.6%);stroke-opacity:1.0\" class=\"toyplot-Datum\" transform=\"translate(202.72727272727272, 206.24500079987203)\"><title>8</title><circle r=\"4.0\"></circle></g><g style=\"fill:rgb(55.3%,62.7%,79.6%);fill-opacity:1.0;opacity:0.525;stroke:rgb(55.3%,62.7%,79.6%);stroke-opacity:1.0\" class=\"toyplot-Datum\" transform=\"translate(202.72727272727272, 193.74700047992323)\"><title>6</title><circle r=\"4.0\"></circle></g><g style=\"fill:rgb(55.3%,62.7%,79.6%);fill-opacity:1.0;opacity:0.525;stroke:rgb(55.3%,62.7%,79.6%);stroke-opacity:1.0\" class=\"toyplot-Datum\" transform=\"translate(202.72727272727272, 181.24900015997443)\"><title>5</title><circle r=\"4.0\"></circle></g><g style=\"fill:rgb(55.3%,62.7%,79.6%);fill-opacity:1.0;opacity:0.775;stroke:rgb(55.3%,62.7%,79.6%);stroke-opacity:1.0\" class=\"toyplot-Datum\" transform=\"translate(202.72727272727272, 168.75099984002563)\"><title>3</title><circle r=\"4.0\"></circle></g><g style=\"fill:rgb(55.3%,62.7%,79.6%);fill-opacity:1.0;opacity:0.9;stroke:rgb(55.3%,62.7%,79.6%);stroke-opacity:1.0\" class=\"toyplot-Datum\" transform=\"translate(202.72727272727272, 156.25299952007683)\"><title>3</title><circle r=\"4.0\"></circle></g><g style=\"fill:rgb(55.3%,62.7%,79.6%);fill-opacity:1.0;opacity:1.15;stroke:rgb(55.3%,62.7%,79.6%);stroke-opacity:1.0\" class=\"toyplot-Datum\" transform=\"translate(202.72727272727272, 143.754999200128)\"><title>6</title><circle r=\"4.0\"></circle></g><g style=\"fill:rgb(55.3%,62.7%,79.6%);fill-opacity:1.0;opacity:1.15;stroke:rgb(55.3%,62.7%,79.6%);stroke-opacity:1.0\" class=\"toyplot-Datum\" transform=\"translate(202.72727272727272, 131.2569988801792)\"><title>7</title><circle r=\"4.0\"></circle></g><g style=\"fill:rgb(55.3%,62.7%,79.6%);fill-opacity:1.0;opacity:0.65;stroke:rgb(55.3%,62.7%,79.6%);stroke-opacity:1.0\" class=\"toyplot-Datum\" transform=\"translate(202.72727272727272, 118.75899856023041)\"><title>2</title><circle r=\"4.0\"></circle></g><g style=\"fill:rgb(55.3%,62.7%,79.6%);fill-opacity:1.0;opacity:0.775;stroke:rgb(55.3%,62.7%,79.6%);stroke-opacity:1.0\" class=\"toyplot-Datum\" transform=\"translate(202.72727272727272, 106.26099824028161)\"><title>5</title><circle r=\"4.0\"></circle></g><g style=\"fill:rgb(55.3%,62.7%,79.6%);fill-opacity:1.0;opacity:0.775;stroke:rgb(55.3%,62.7%,79.6%);stroke-opacity:1.0\" class=\"toyplot-Datum\" transform=\"translate(202.72727272727272, 93.76299792033278)\"><title>4</title><circle r=\"4.0\"></circle></g><g style=\"fill:rgb(55.3%,62.7%,79.6%);fill-opacity:1.0;opacity:0.4;stroke:rgb(55.3%,62.7%,79.6%);stroke-opacity:1.0\" class=\"toyplot-Datum\" transform=\"translate(202.72727272727272, 81.26499760038398)\"><title>2</title><circle r=\"4.0\"></circle></g><g style=\"fill:rgb(55.3%,62.7%,79.6%);fill-opacity:1.0;opacity:0.65;stroke:rgb(55.3%,62.7%,79.6%);stroke-opacity:1.0\" class=\"toyplot-Datum\" transform=\"translate(202.72727272727272, 68.76699728043516)\"><title>1</title><circle r=\"4.0\"></circle></g><g style=\"fill:rgb(55.3%,62.7%,79.6%);fill-opacity:1.0;opacity:1.15;stroke:rgb(55.3%,62.7%,79.6%);stroke-opacity:1.0\" class=\"toyplot-Datum\" transform=\"translate(202.72727272727272, 56.268996960486355)\"><title>5</title><circle r=\"4.0\"></circle></g></g></g><g class=\"toyplot-mark-Point\" id=\"t76d9cf6aa8ba4b599d2b38c135726b99\"><g class=\"toyplot-Series\"><g style=\"fill:rgb(90.6%,54.1%,76.5%);fill-opacity:1.0;opacity:1.025;stroke:rgb(90.6%,54.1%,76.5%);stroke-opacity:1.0\" class=\"toyplot-Datum\" transform=\"translate(217.27272727272725, 293.73100303951367)\"><title>5</title><circle r=\"4.0\"></circle></g><g style=\"fill:rgb(90.6%,54.1%,76.5%);fill-opacity:1.0;opacity:0.275;stroke:rgb(90.6%,54.1%,76.5%);stroke-opacity:1.0\" class=\"toyplot-Datum\" transform=\"translate(217.27272727272725, 281.23300271956487)\"><title>2</title><circle r=\"4.0\"></circle></g><g style=\"fill:rgb(90.6%,54.1%,76.5%);fill-opacity:1.0;opacity:0.275;stroke:rgb(90.6%,54.1%,76.5%);stroke-opacity:1.0\" class=\"toyplot-Datum\" transform=\"translate(217.27272727272725, 268.73500239961606)\"><title>8</title><circle r=\"4.0\"></circle></g><g style=\"fill:rgb(90.6%,54.1%,76.5%);fill-opacity:1.0;opacity:1.025;stroke:rgb(90.6%,54.1%,76.5%);stroke-opacity:1.0\" class=\"toyplot-Datum\" transform=\"translate(217.27272727272725, 256.23700207966726)\"><title>3</title><circle r=\"4.0\"></circle></g><g style=\"fill:rgb(90.6%,54.1%,76.5%);fill-opacity:1.0;opacity:0.775;stroke:rgb(90.6%,54.1%,76.5%);stroke-opacity:1.0\" class=\"toyplot-Datum\" transform=\"translate(217.27272727272725, 243.73900175971846)\"><title>5</title><circle r=\"4.0\"></circle></g><g style=\"fill:rgb(90.6%,54.1%,76.5%);fill-opacity:1.0;opacity:0.525;stroke:rgb(90.6%,54.1%,76.5%);stroke-opacity:1.0\" class=\"toyplot-Datum\" transform=\"translate(217.27272727272725, 231.24100143976963)\"><title>7</title><circle r=\"4.0\"></circle></g><g style=\"fill:rgb(90.6%,54.1%,76.5%);fill-opacity:1.0;opacity:0.525;stroke:rgb(90.6%,54.1%,76.5%);stroke-opacity:1.0\" class=\"toyplot-Datum\" transform=\"translate(217.27272727272725, 218.74300111982083)\"><title>5</title><circle r=\"4.0\"></circle></g><g style=\"fill:rgb(90.6%,54.1%,76.5%);fill-opacity:1.0;opacity:1.025;stroke:rgb(90.6%,54.1%,76.5%);stroke-opacity:1.0\" class=\"toyplot-Datum\" transform=\"translate(217.27272727272725, 206.24500079987203)\"><title>3</title><circle r=\"4.0\"></circle></g><g style=\"fill:rgb(90.6%,54.1%,76.5%);fill-opacity:1.0;opacity:0.9;stroke:rgb(90.6%,54.1%,76.5%);stroke-opacity:1.0\" class=\"toyplot-Datum\" transform=\"translate(217.27272727272725, 193.74700047992323)\"><title>3</title><circle r=\"4.0\"></circle></g><g style=\"fill:rgb(90.6%,54.1%,76.5%);fill-opacity:1.0;opacity:0.4;stroke:rgb(90.6%,54.1%,76.5%);stroke-opacity:1.0\" class=\"toyplot-Datum\" transform=\"translate(217.27272727272725, 181.24900015997443)\"><title>8</title><circle r=\"4.0\"></circle></g><g style=\"fill:rgb(90.6%,54.1%,76.5%);fill-opacity:1.0;opacity:1.15;stroke:rgb(90.6%,54.1%,76.5%);stroke-opacity:1.0\" class=\"toyplot-Datum\" transform=\"translate(217.27272727272725, 168.75099984002563)\"><title>2</title><circle r=\"4.0\"></circle></g><g style=\"fill:rgb(90.6%,54.1%,76.5%);fill-opacity:1.0;opacity:0.525;stroke:rgb(90.6%,54.1%,76.5%);stroke-opacity:1.0\" class=\"toyplot-Datum\" transform=\"translate(217.27272727272725, 156.25299952007683)\"><title>6</title><circle r=\"4.0\"></circle></g><g style=\"fill:rgb(90.6%,54.1%,76.5%);fill-opacity:1.0;opacity:0.525;stroke:rgb(90.6%,54.1%,76.5%);stroke-opacity:1.0\" class=\"toyplot-Datum\" transform=\"translate(217.27272727272725, 143.754999200128)\"><title>7</title><circle r=\"4.0\"></circle></g><g style=\"fill:rgb(90.6%,54.1%,76.5%);fill-opacity:1.0;opacity:0.775;stroke:rgb(90.6%,54.1%,76.5%);stroke-opacity:1.0\" class=\"toyplot-Datum\" transform=\"translate(217.27272727272725, 131.2569988801792)\"><title>3</title><circle r=\"4.0\"></circle></g><g style=\"fill:rgb(90.6%,54.1%,76.5%);fill-opacity:1.0;opacity:1.025;stroke:rgb(90.6%,54.1%,76.5%);stroke-opacity:1.0\" class=\"toyplot-Datum\" transform=\"translate(217.27272727272725, 118.75899856023041)\"><title>3</title><circle r=\"4.0\"></circle></g><g style=\"fill:rgb(90.6%,54.1%,76.5%);fill-opacity:1.0;opacity:0.775;stroke:rgb(90.6%,54.1%,76.5%);stroke-opacity:1.0\" class=\"toyplot-Datum\" transform=\"translate(217.27272727272725, 106.26099824028161)\"><title>5</title><circle r=\"4.0\"></circle></g><g style=\"fill:rgb(90.6%,54.1%,76.5%);fill-opacity:1.0;opacity:0.525;stroke:rgb(90.6%,54.1%,76.5%);stroke-opacity:1.0\" class=\"toyplot-Datum\" transform=\"translate(217.27272727272725, 93.76299792033278)\"><title>7</title><circle r=\"4.0\"></circle></g><g style=\"fill:rgb(90.6%,54.1%,76.5%);fill-opacity:1.0;opacity:1.15;stroke:rgb(90.6%,54.1%,76.5%);stroke-opacity:1.0\" class=\"toyplot-Datum\" transform=\"translate(217.27272727272725, 81.26499760038398)\"><title>1</title><circle r=\"4.0\"></circle></g><g style=\"fill:rgb(90.6%,54.1%,76.5%);fill-opacity:1.0;opacity:0.4;stroke:rgb(90.6%,54.1%,76.5%);stroke-opacity:1.0\" class=\"toyplot-Datum\" transform=\"translate(217.27272727272725, 68.76699728043516)\"><title>1</title><circle r=\"4.0\"></circle></g><g style=\"fill:rgb(90.6%,54.1%,76.5%);fill-opacity:1.0;opacity:0.775;stroke:rgb(90.6%,54.1%,76.5%);stroke-opacity:1.0\" class=\"toyplot-Datum\" transform=\"translate(217.27272727272725, 56.268996960486355)\"><title>7</title><circle r=\"4.0\"></circle></g></g></g><g class=\"toyplot-mark-Point\" id=\"t5018bf0717784002a2594450424b2630\"><g class=\"toyplot-Series\"><g style=\"fill:rgb(65.1%,84.7%,32.9%);fill-opacity:1.0;opacity:0.9277777777777778;stroke:rgb(65.1%,84.7%,32.9%);stroke-opacity:1.0\" class=\"toyplot-Datum\" transform=\"translate(231.8181818181818, 293.73100303951367)\"><title>1</title><circle r=\"4.0\"></circle></g><g style=\"fill:rgb(65.1%,84.7%,32.9%);fill-opacity:1.0;opacity:1.0388888888888888;stroke:rgb(65.1%,84.7%,32.9%);stroke-opacity:1.0\" class=\"toyplot-Datum\" transform=\"translate(231.8181818181818, 281.23300271956487)\"><title>6</title><circle r=\"4.0\"></circle></g><g style=\"fill:rgb(65.1%,84.7%,32.9%);fill-opacity:1.0;opacity:1.15;stroke:rgb(65.1%,84.7%,32.9%);stroke-opacity:1.0\" class=\"toyplot-Datum\" transform=\"translate(231.8181818181818, 268.73500239961606)\"><title>5</title><circle r=\"4.0\"></circle></g><g style=\"fill:rgb(65.1%,84.7%,32.9%);fill-opacity:1.0;opacity:0.26111111111111107;stroke:rgb(65.1%,84.7%,32.9%);stroke-opacity:1.0\" class=\"toyplot-Datum\" transform=\"translate(231.8181818181818, 256.23700207966726)\"><title>6</title><circle r=\"4.0\"></circle></g><g style=\"fill:rgb(65.1%,84.7%,32.9%);fill-opacity:1.0;opacity:1.15;stroke:rgb(65.1%,84.7%,32.9%);stroke-opacity:1.0\" class=\"toyplot-Datum\" transform=\"translate(231.8181818181818, 243.73900175971846)\"><title>3</title><circle r=\"4.0\"></circle></g><g style=\"fill:rgb(65.1%,84.7%,32.9%);fill-opacity:1.0;opacity:0.7055555555555556;stroke:rgb(65.1%,84.7%,32.9%);stroke-opacity:1.0\" class=\"toyplot-Datum\" transform=\"translate(231.8181818181818, 231.24100143976963)\"><title>1</title><circle r=\"4.0\"></circle></g><g style=\"fill:rgb(65.1%,84.7%,32.9%);fill-opacity:1.0;opacity:0.37222222222222223;stroke:rgb(65.1%,84.7%,32.9%);stroke-opacity:1.0\" class=\"toyplot-Datum\" transform=\"translate(231.8181818181818, 218.74300111982083)\"><title>9</title><circle r=\"4.0\"></circle></g><g style=\"fill:rgb(65.1%,84.7%,32.9%);fill-opacity:1.0;opacity:0.26111111111111107;stroke:rgb(65.1%,84.7%,32.9%);stroke-opacity:1.0\" class=\"toyplot-Datum\" transform=\"translate(231.8181818181818, 206.24500079987203)\"><title>2</title><circle r=\"4.0\"></circle></g><g style=\"fill:rgb(65.1%,84.7%,32.9%);fill-opacity:1.0;opacity:0.9277777777777778;stroke:rgb(65.1%,84.7%,32.9%);stroke-opacity:1.0\" class=\"toyplot-Datum\" transform=\"translate(231.8181818181818, 193.74700047992323)\"><title>4</title><circle r=\"4.0\"></circle></g><g style=\"fill:rgb(65.1%,84.7%,32.9%);fill-opacity:1.0;opacity:0.9277777777777778;stroke:rgb(65.1%,84.7%,32.9%);stroke-opacity:1.0\" class=\"toyplot-Datum\" transform=\"translate(231.8181818181818, 181.24900015997443)\"><title>6</title><circle r=\"4.0\"></circle></g><g style=\"fill:rgb(65.1%,84.7%,32.9%);fill-opacity:1.0;opacity:0.8166666666666667;stroke:rgb(65.1%,84.7%,32.9%);stroke-opacity:1.0\" class=\"toyplot-Datum\" transform=\"translate(231.8181818181818, 168.75099984002563)\"><title>7</title><circle r=\"4.0\"></circle></g><g style=\"fill:rgb(65.1%,84.7%,32.9%);fill-opacity:1.0;opacity:0.5944444444444444;stroke:rgb(65.1%,84.7%,32.9%);stroke-opacity:1.0\" class=\"toyplot-Datum\" transform=\"translate(231.8181818181818, 156.25299952007683)\"><title>7</title><circle r=\"4.0\"></circle></g><g style=\"fill:rgb(65.1%,84.7%,32.9%);fill-opacity:1.0;opacity:0.37222222222222223;stroke:rgb(65.1%,84.7%,32.9%);stroke-opacity:1.0\" class=\"toyplot-Datum\" transform=\"translate(231.8181818181818, 143.754999200128)\"><title>1</title><circle r=\"4.0\"></circle></g><g style=\"fill:rgb(65.1%,84.7%,32.9%);fill-opacity:1.0;opacity:1.15;stroke:rgb(65.1%,84.7%,32.9%);stroke-opacity:1.0\" class=\"toyplot-Datum\" transform=\"translate(231.8181818181818, 131.2569988801792)\"><title>2</title><circle r=\"4.0\"></circle></g><g style=\"fill:rgb(65.1%,84.7%,32.9%);fill-opacity:1.0;opacity:0.26111111111111107;stroke:rgb(65.1%,84.7%,32.9%);stroke-opacity:1.0\" class=\"toyplot-Datum\" transform=\"translate(231.8181818181818, 118.75899856023041)\"><title>5</title><circle r=\"4.0\"></circle></g><g style=\"fill:rgb(65.1%,84.7%,32.9%);fill-opacity:1.0;opacity:0.4833333333333333;stroke:rgb(65.1%,84.7%,32.9%);stroke-opacity:1.0\" class=\"toyplot-Datum\" transform=\"translate(231.8181818181818, 106.26099824028161)\"><title>9</title><circle r=\"4.0\"></circle></g><g style=\"fill:rgb(65.1%,84.7%,32.9%);fill-opacity:1.0;opacity:0.8166666666666667;stroke:rgb(65.1%,84.7%,32.9%);stroke-opacity:1.0\" class=\"toyplot-Datum\" transform=\"translate(231.8181818181818, 93.76299792033278)\"><title>1</title><circle r=\"4.0\"></circle></g><g style=\"fill:rgb(65.1%,84.7%,32.9%);fill-opacity:1.0;opacity:0.7055555555555556;stroke:rgb(65.1%,84.7%,32.9%);stroke-opacity:1.0\" class=\"toyplot-Datum\" transform=\"translate(231.8181818181818, 81.26499760038398)\"><title>9</title><circle r=\"4.0\"></circle></g><g style=\"fill:rgb(65.1%,84.7%,32.9%);fill-opacity:1.0;opacity:0.8166666666666667;stroke:rgb(65.1%,84.7%,32.9%);stroke-opacity:1.0\" class=\"toyplot-Datum\" transform=\"translate(231.8181818181818, 68.76699728043516)\"><title>8</title><circle r=\"4.0\"></circle></g><g style=\"fill:rgb(65.1%,84.7%,32.9%);fill-opacity:1.0;opacity:0.26111111111111107;stroke:rgb(65.1%,84.7%,32.9%);stroke-opacity:1.0\" class=\"toyplot-Datum\" transform=\"translate(231.8181818181818, 56.268996960486355)\"><title>7</title><circle r=\"4.0\"></circle></g></g></g></g></g></svg><div class=\"toyplot-behavior\"><script>(function()\n",
       "{\n",
       "var modules={};\n",
       "modules[\"toyplot/tables\"] = (function()\n",
       "    {\n",
       "        var tables = [];\n",
       "\n",
       "        var module = {};\n",
       "\n",
       "        module.set = function(owner, key, names, columns)\n",
       "        {\n",
       "            tables.push({owner: owner, key: key, names: names, columns: columns});\n",
       "        }\n",
       "\n",
       "        module.get = function(owner, key)\n",
       "        {\n",
       "            for(var i = 0; i != tables.length; ++i)\n",
       "            {\n",
       "                var table = tables[i];\n",
       "                if(table.owner != owner)\n",
       "                    continue;\n",
       "                if(table.key != key)\n",
       "                    continue;\n",
       "                return {names: table.names, columns: table.columns};\n",
       "            }\n",
       "        }\n",
       "\n",
       "        module.get_csv = function(owner, key)\n",
       "        {\n",
       "            var table = module.get(owner, key);\n",
       "            if(table != undefined)\n",
       "            {\n",
       "                var csv = \"\";\n",
       "                csv += table.names.join(\",\") + \"\\n\";\n",
       "                for(var i = 0; i != table.columns[0].length; ++i)\n",
       "                {\n",
       "                  for(var j = 0; j != table.columns.length; ++j)\n",
       "                  {\n",
       "                    if(j)\n",
       "                      csv += \",\";\n",
       "                    csv += table.columns[j][i];\n",
       "                  }\n",
       "                  csv += \"\\n\";\n",
       "                }\n",
       "                return csv;\n",
       "            }\n",
       "        }\n",
       "\n",
       "        return module;\n",
       "    })();\n",
       "modules[\"toyplot/root/id\"] = \"tcd4ba37693504aab92fc16176db9a5f4\";\n",
       "modules[\"toyplot/root\"] = (function(root_id)\n",
       "    {\n",
       "        return document.querySelector(\"#\" + root_id);\n",
       "    })(modules[\"toyplot/root/id\"]);\n",
       "modules[\"toyplot/canvas/id\"] = \"t31995f217a044d1e9cac74f9f6239ad5\";\n",
       "modules[\"toyplot/canvas\"] = (function(canvas_id)\n",
       "    {\n",
       "        return document.querySelector(\"#\" + canvas_id);\n",
       "    })(modules[\"toyplot/canvas/id\"]);\n",
       "modules[\"toyplot/menus/context\"] = (function(root, canvas)\n",
       "    {\n",
       "        var wrapper = document.createElement(\"div\");\n",
       "        wrapper.innerHTML = \"<ul class='toyplot-context-menu' style='background:#eee; border:1px solid #b8b8b8; border-radius:5px; box-shadow: 0px 0px 8px rgba(0%,0%,0%,0.25); margin:0; padding:3px 0; position:fixed; visibility:hidden;'></ul>\"\n",
       "        var menu = wrapper.firstChild;\n",
       "\n",
       "        root.appendChild(menu);\n",
       "\n",
       "        var items = [];\n",
       "\n",
       "        var ignore_mouseup = null;\n",
       "        function open_menu(e)\n",
       "        {\n",
       "            var show_menu = false;\n",
       "            for(var index=0; index != items.length; ++index)\n",
       "            {\n",
       "                var item = items[index];\n",
       "                if(item.show(e))\n",
       "                {\n",
       "                    item.item.style.display = \"block\";\n",
       "                    show_menu = true;\n",
       "                }\n",
       "                else\n",
       "                {\n",
       "                    item.item.style.display = \"none\";\n",
       "                }\n",
       "            }\n",
       "\n",
       "            if(show_menu)\n",
       "            {\n",
       "                ignore_mouseup = true;\n",
       "                menu.style.left = (e.clientX + 1) + \"px\";\n",
       "                menu.style.top = (e.clientY - 5) + \"px\";\n",
       "                menu.style.visibility = \"visible\";\n",
       "                e.stopPropagation();\n",
       "                e.preventDefault();\n",
       "            }\n",
       "        }\n",
       "\n",
       "        function close_menu()\n",
       "        {\n",
       "            menu.style.visibility = \"hidden\";\n",
       "        }\n",
       "\n",
       "        function contextmenu(e)\n",
       "        {\n",
       "            open_menu(e);\n",
       "        }\n",
       "\n",
       "        function mousemove(e)\n",
       "        {\n",
       "            ignore_mouseup = false;\n",
       "        }\n",
       "\n",
       "        function mouseup(e)\n",
       "        {\n",
       "            if(ignore_mouseup)\n",
       "            {\n",
       "                ignore_mouseup = false;\n",
       "                return;\n",
       "            }\n",
       "            close_menu();\n",
       "        }\n",
       "\n",
       "        function keydown(e)\n",
       "        {\n",
       "            if(e.key == \"Escape\" || e.key == \"Esc\" || e.keyCode == 27)\n",
       "            {\n",
       "                close_menu();\n",
       "            }\n",
       "        }\n",
       "\n",
       "        canvas.addEventListener(\"contextmenu\", contextmenu);\n",
       "        canvas.addEventListener(\"mousemove\", mousemove);\n",
       "        document.addEventListener(\"mouseup\", mouseup);\n",
       "        document.addEventListener(\"keydown\", keydown);\n",
       "\n",
       "        var module = {};\n",
       "        module.add_item = function(label, show, activate)\n",
       "        {\n",
       "            var wrapper = document.createElement(\"div\");\n",
       "            wrapper.innerHTML = \"<li class='toyplot-context-menu-item' style='background:#eee; color:#333; padding:2px 20px; list-style:none; margin:0; text-align:left;'>\" + label + \"</li>\"\n",
       "            var item = wrapper.firstChild;\n",
       "\n",
       "            items.push({item: item, show: show});\n",
       "\n",
       "            function mouseover()\n",
       "            {\n",
       "                this.style.background = \"steelblue\";\n",
       "                this.style.color = \"white\";\n",
       "            }\n",
       "\n",
       "            function mouseout()\n",
       "            {\n",
       "                this.style.background = \"#eee\";\n",
       "                this.style.color = \"#333\";\n",
       "            }\n",
       "\n",
       "            function choose_item(e)\n",
       "            {\n",
       "                close_menu();\n",
       "                activate();\n",
       "\n",
       "                e.stopPropagation();\n",
       "                e.preventDefault();\n",
       "            }\n",
       "\n",
       "            item.addEventListener(\"mouseover\", mouseover);\n",
       "            item.addEventListener(\"mouseout\", mouseout);\n",
       "            item.addEventListener(\"mouseup\", choose_item);\n",
       "            item.addEventListener(\"contextmenu\", choose_item);\n",
       "\n",
       "            menu.appendChild(item);\n",
       "        };\n",
       "        return module;\n",
       "    })(modules[\"toyplot/root\"],modules[\"toyplot/canvas\"]);\n",
       "modules[\"toyplot/io\"] = (function()\n",
       "    {\n",
       "        var module = {};\n",
       "        module.save_file = function(mime_type, charset, data, filename)\n",
       "        {\n",
       "            var uri = \"data:\" + mime_type + \";charset=\" + charset + \",\" + data;\n",
       "            uri = encodeURI(uri);\n",
       "\n",
       "            var link = document.createElement(\"a\");\n",
       "            if(typeof link.download != \"undefined\")\n",
       "            {\n",
       "              link.href = uri;\n",
       "              link.style = \"visibility:hidden\";\n",
       "              link.download = filename;\n",
       "\n",
       "              document.body.appendChild(link);\n",
       "              link.click();\n",
       "              document.body.removeChild(link);\n",
       "            }\n",
       "            else\n",
       "            {\n",
       "              window.open(uri);\n",
       "            }\n",
       "        };\n",
       "        return module;\n",
       "    })();\n",
       "(function(tables, context_menu, io, owner_id, key, label, names, columns, filename)\n",
       "        {\n",
       "            tables.set(owner_id, key, names, columns);\n",
       "\n",
       "            var owner = document.querySelector(\"#\" + owner_id);\n",
       "            function show_item(e)\n",
       "            {\n",
       "                return owner.contains(e.target);\n",
       "            }\n",
       "\n",
       "            function choose_item()\n",
       "            {\n",
       "                io.save_file(\"text/csv\", \"utf-8\", tables.get_csv(owner_id, key), filename + \".csv\");\n",
       "            }\n",
       "\n",
       "            context_menu.add_item(\"Save \" + label + \" as CSV\", show_item, choose_item);\n",
       "        })(modules[\"toyplot/tables\"],modules[\"toyplot/menus/context\"],modules[\"toyplot/io\"],\"t2fb9074bdb404408858410d41819c69e\",\"data\",\"point\",[\"x\", \"y0\"],[[1.0, 1.0, 1.0, 1.0, 1.0, 1.0, 1.0, 1.0, 1.0, 1.0, 1.0, 1.0, 1.0, 1.0, 1.0, 1.0, 1.0, 1.0, 1.0, 1.0], [0.0, 1.0, 2.0, 3.0, 4.0, 5.0, 6.0, 7.0, 8.0, 9.0, 10.0, 11.0, 12.0, 13.0, 14.0, 15.0, 16.0, 17.0, 18.0, 19.0]],\"toyplot\");\n",
       "(function(tables, context_menu, io, owner_id, key, label, names, columns, filename)\n",
       "        {\n",
       "            tables.set(owner_id, key, names, columns);\n",
       "\n",
       "            var owner = document.querySelector(\"#\" + owner_id);\n",
       "            function show_item(e)\n",
       "            {\n",
       "                return owner.contains(e.target);\n",
       "            }\n",
       "\n",
       "            function choose_item()\n",
       "            {\n",
       "                io.save_file(\"text/csv\", \"utf-8\", tables.get_csv(owner_id, key), filename + \".csv\");\n",
       "            }\n",
       "\n",
       "            context_menu.add_item(\"Save \" + label + \" as CSV\", show_item, choose_item);\n",
       "        })(modules[\"toyplot/tables\"],modules[\"toyplot/menus/context\"],modules[\"toyplot/io\"],\"td71fad90202a458483a37bf9d1e34a2a\",\"data\",\"point\",[\"x\", \"y0\"],[[2.0, 2.0, 2.0, 2.0, 2.0, 2.0, 2.0, 2.0, 2.0, 2.0, 2.0, 2.0, 2.0, 2.0, 2.0, 2.0, 2.0, 2.0, 2.0, 2.0], [0.0, 1.0, 2.0, 3.0, 4.0, 5.0, 6.0, 7.0, 8.0, 9.0, 10.0, 11.0, 12.0, 13.0, 14.0, 15.0, 16.0, 17.0, 18.0, 19.0]],\"toyplot\");\n",
       "(function(tables, context_menu, io, owner_id, key, label, names, columns, filename)\n",
       "        {\n",
       "            tables.set(owner_id, key, names, columns);\n",
       "\n",
       "            var owner = document.querySelector(\"#\" + owner_id);\n",
       "            function show_item(e)\n",
       "            {\n",
       "                return owner.contains(e.target);\n",
       "            }\n",
       "\n",
       "            function choose_item()\n",
       "            {\n",
       "                io.save_file(\"text/csv\", \"utf-8\", tables.get_csv(owner_id, key), filename + \".csv\");\n",
       "            }\n",
       "\n",
       "            context_menu.add_item(\"Save \" + label + \" as CSV\", show_item, choose_item);\n",
       "        })(modules[\"toyplot/tables\"],modules[\"toyplot/menus/context\"],modules[\"toyplot/io\"],\"t08c6ae46314341f8aac9106892aaac65\",\"data\",\"point\",[\"x\", \"y0\"],[[3.0, 3.0, 3.0, 3.0, 3.0, 3.0, 3.0, 3.0, 3.0, 3.0, 3.0, 3.0, 3.0, 3.0, 3.0, 3.0, 3.0, 3.0, 3.0, 3.0], [0.0, 1.0, 2.0, 3.0, 4.0, 5.0, 6.0, 7.0, 8.0, 9.0, 10.0, 11.0, 12.0, 13.0, 14.0, 15.0, 16.0, 17.0, 18.0, 19.0]],\"toyplot\");\n",
       "(function(tables, context_menu, io, owner_id, key, label, names, columns, filename)\n",
       "        {\n",
       "            tables.set(owner_id, key, names, columns);\n",
       "\n",
       "            var owner = document.querySelector(\"#\" + owner_id);\n",
       "            function show_item(e)\n",
       "            {\n",
       "                return owner.contains(e.target);\n",
       "            }\n",
       "\n",
       "            function choose_item()\n",
       "            {\n",
       "                io.save_file(\"text/csv\", \"utf-8\", tables.get_csv(owner_id, key), filename + \".csv\");\n",
       "            }\n",
       "\n",
       "            context_menu.add_item(\"Save \" + label + \" as CSV\", show_item, choose_item);\n",
       "        })(modules[\"toyplot/tables\"],modules[\"toyplot/menus/context\"],modules[\"toyplot/io\"],\"t76d9cf6aa8ba4b599d2b38c135726b99\",\"data\",\"point\",[\"x\", \"y0\"],[[4.0, 4.0, 4.0, 4.0, 4.0, 4.0, 4.0, 4.0, 4.0, 4.0, 4.0, 4.0, 4.0, 4.0, 4.0, 4.0, 4.0, 4.0, 4.0, 4.0], [0.0, 1.0, 2.0, 3.0, 4.0, 5.0, 6.0, 7.0, 8.0, 9.0, 10.0, 11.0, 12.0, 13.0, 14.0, 15.0, 16.0, 17.0, 18.0, 19.0]],\"toyplot\");\n",
       "(function(tables, context_menu, io, owner_id, key, label, names, columns, filename)\n",
       "        {\n",
       "            tables.set(owner_id, key, names, columns);\n",
       "\n",
       "            var owner = document.querySelector(\"#\" + owner_id);\n",
       "            function show_item(e)\n",
       "            {\n",
       "                return owner.contains(e.target);\n",
       "            }\n",
       "\n",
       "            function choose_item()\n",
       "            {\n",
       "                io.save_file(\"text/csv\", \"utf-8\", tables.get_csv(owner_id, key), filename + \".csv\");\n",
       "            }\n",
       "\n",
       "            context_menu.add_item(\"Save \" + label + \" as CSV\", show_item, choose_item);\n",
       "        })(modules[\"toyplot/tables\"],modules[\"toyplot/menus/context\"],modules[\"toyplot/io\"],\"t5018bf0717784002a2594450424b2630\",\"data\",\"point\",[\"x\", \"y0\"],[[5.0, 5.0, 5.0, 5.0, 5.0, 5.0, 5.0, 5.0, 5.0, 5.0, 5.0, 5.0, 5.0, 5.0, 5.0, 5.0, 5.0, 5.0, 5.0, 5.0], [0.0, 1.0, 2.0, 3.0, 4.0, 5.0, 6.0, 7.0, 8.0, 9.0, 10.0, 11.0, 12.0, 13.0, 14.0, 15.0, 16.0, 17.0, 18.0, 19.0]],\"toyplot\");\n",
       "})();</script></div></div>"
      ]
     },
     "metadata": {},
     "output_type": "display_data"
    }
   ],
   "source": [
    "tree = toytree.rtree.unittree(20)\n",
    "\n",
    "# generate some random data for this columns\n",
    "spdata = np.random.randint(low=1, high=10, size=(tree.ntips, 5))\n",
    "spdata\n",
    "\n",
    "# scale tree to be 2X length of number of matrix cols\n",
    "ctree = tree.mod.node_scale_root_height(spdata.shape[1] * 1.5)\n",
    "\n",
    "# get canvas and axes with tree plot\n",
    "canvas, axes, mark = ctree.draw(\n",
    "    width=500,\n",
    "    height=350,\n",
    "    tip_labels_align=True,\n",
    "    tip_labels_style={\"-toyplot-anchor-shift\": \"85px\"}\n",
    ");\n",
    "\n",
    "# add n columns of data (here random data)\n",
    "ncols = 5\n",
    "xoffset = 1\n",
    "for col in range(5):\n",
    "\n",
    "    # select the column of data\n",
    "    data = spdata[:, col]\n",
    "\n",
    "    # plot the data column\n",
    "    axes.scatterplot(\n",
    "        np.repeat(col, tree.ntips) + xoffset,\n",
    "        np.arange(tree.ntips),\n",
    "        marker='o',\n",
    "        size=8,\n",
    "        color=toytree.COLORS1[col],\n",
    "        opacity=0.15 + data[::-1] / data.max(),\n",
    "        title=data,\n",
    "    );\n",
    "\n",
    "# stretch domain to fit long tip names\n",
    "axes.x.domain.max = 20"
   ]
  },
  {
   "cell_type": "code",
   "execution_count": null,
   "id": "7746389a",
   "metadata": {},
   "outputs": [],
   "source": []
  },
  {
   "cell_type": "code",
   "execution_count": 542,
   "id": "7ba25849",
   "metadata": {},
   "outputs": [
    {
     "data": {
      "text/plain": [
       "9.625"
      ]
     },
     "execution_count": 542,
     "metadata": {},
     "output_type": "execute_result"
    }
   ],
   "source": [
    "90 - 35\n",
    ".55 * 350\n",
    "192.5 / tree.ntips\n",
    "19.25 / 2"
   ]
  },
  {
   "cell_type": "code",
   "execution_count": 547,
   "id": "d0efc533",
   "metadata": {},
   "outputs": [
    {
     "data": {
      "text/html": [
       "<div>\n",
       "<style scoped>\n",
       "    .dataframe tbody tr th:only-of-type {\n",
       "        vertical-align: middle;\n",
       "    }\n",
       "\n",
       "    .dataframe tbody tr th {\n",
       "        vertical-align: top;\n",
       "    }\n",
       "\n",
       "    .dataframe thead th {\n",
       "        text-align: right;\n",
       "    }\n",
       "</style>\n",
       "<table border=\"1\" class=\"dataframe\">\n",
       "  <thead>\n",
       "    <tr style=\"text-align: right;\">\n",
       "      <th></th>\n",
       "      <th>0</th>\n",
       "      <th>1</th>\n",
       "      <th>2</th>\n",
       "      <th>3</th>\n",
       "      <th>4</th>\n",
       "      <th>5</th>\n",
       "      <th>6</th>\n",
       "      <th>7</th>\n",
       "      <th>8</th>\n",
       "      <th>9</th>\n",
       "    </tr>\n",
       "  </thead>\n",
       "  <tbody>\n",
       "    <tr>\n",
       "      <th>0</th>\n",
       "      <td>0.0</td>\n",
       "      <td>0.4</td>\n",
       "      <td>0.8</td>\n",
       "      <td>0.8</td>\n",
       "      <td>0.8</td>\n",
       "      <td>1.0</td>\n",
       "      <td>1.4</td>\n",
       "      <td>1.6</td>\n",
       "      <td>1.8</td>\n",
       "      <td>1.8</td>\n",
       "    </tr>\n",
       "    <tr>\n",
       "      <th>1</th>\n",
       "      <td>0.4</td>\n",
       "      <td>0.0</td>\n",
       "      <td>0.8</td>\n",
       "      <td>0.8</td>\n",
       "      <td>0.8</td>\n",
       "      <td>1.0</td>\n",
       "      <td>1.4</td>\n",
       "      <td>1.6</td>\n",
       "      <td>1.8</td>\n",
       "      <td>1.8</td>\n",
       "    </tr>\n",
       "    <tr>\n",
       "      <th>2</th>\n",
       "      <td>0.8</td>\n",
       "      <td>0.8</td>\n",
       "      <td>0.0</td>\n",
       "      <td>0.4</td>\n",
       "      <td>0.8</td>\n",
       "      <td>1.0</td>\n",
       "      <td>1.4</td>\n",
       "      <td>1.6</td>\n",
       "      <td>1.8</td>\n",
       "      <td>1.8</td>\n",
       "    </tr>\n",
       "    <tr>\n",
       "      <th>3</th>\n",
       "      <td>0.8</td>\n",
       "      <td>0.8</td>\n",
       "      <td>0.4</td>\n",
       "      <td>0.0</td>\n",
       "      <td>0.8</td>\n",
       "      <td>1.0</td>\n",
       "      <td>1.4</td>\n",
       "      <td>1.6</td>\n",
       "      <td>1.8</td>\n",
       "      <td>1.8</td>\n",
       "    </tr>\n",
       "    <tr>\n",
       "      <th>4</th>\n",
       "      <td>0.8</td>\n",
       "      <td>0.8</td>\n",
       "      <td>0.8</td>\n",
       "      <td>0.8</td>\n",
       "      <td>0.0</td>\n",
       "      <td>0.6</td>\n",
       "      <td>1.0</td>\n",
       "      <td>1.2</td>\n",
       "      <td>1.4</td>\n",
       "      <td>1.4</td>\n",
       "    </tr>\n",
       "    <tr>\n",
       "      <th>5</th>\n",
       "      <td>1.0</td>\n",
       "      <td>1.0</td>\n",
       "      <td>1.0</td>\n",
       "      <td>1.0</td>\n",
       "      <td>0.6</td>\n",
       "      <td>0.0</td>\n",
       "      <td>0.8</td>\n",
       "      <td>1.0</td>\n",
       "      <td>1.2</td>\n",
       "      <td>1.2</td>\n",
       "    </tr>\n",
       "    <tr>\n",
       "      <th>6</th>\n",
       "      <td>1.4</td>\n",
       "      <td>1.4</td>\n",
       "      <td>1.4</td>\n",
       "      <td>1.4</td>\n",
       "      <td>1.0</td>\n",
       "      <td>0.8</td>\n",
       "      <td>0.0</td>\n",
       "      <td>0.6</td>\n",
       "      <td>0.8</td>\n",
       "      <td>0.8</td>\n",
       "    </tr>\n",
       "    <tr>\n",
       "      <th>7</th>\n",
       "      <td>1.6</td>\n",
       "      <td>1.6</td>\n",
       "      <td>1.6</td>\n",
       "      <td>1.6</td>\n",
       "      <td>1.2</td>\n",
       "      <td>1.0</td>\n",
       "      <td>0.6</td>\n",
       "      <td>0.0</td>\n",
       "      <td>0.6</td>\n",
       "      <td>0.6</td>\n",
       "    </tr>\n",
       "    <tr>\n",
       "      <th>8</th>\n",
       "      <td>1.8</td>\n",
       "      <td>1.8</td>\n",
       "      <td>1.8</td>\n",
       "      <td>1.8</td>\n",
       "      <td>1.4</td>\n",
       "      <td>1.2</td>\n",
       "      <td>0.8</td>\n",
       "      <td>0.6</td>\n",
       "      <td>0.0</td>\n",
       "      <td>0.4</td>\n",
       "    </tr>\n",
       "    <tr>\n",
       "      <th>9</th>\n",
       "      <td>1.8</td>\n",
       "      <td>1.8</td>\n",
       "      <td>1.8</td>\n",
       "      <td>1.8</td>\n",
       "      <td>1.4</td>\n",
       "      <td>1.2</td>\n",
       "      <td>0.8</td>\n",
       "      <td>0.6</td>\n",
       "      <td>0.4</td>\n",
       "      <td>0.0</td>\n",
       "    </tr>\n",
       "  </tbody>\n",
       "</table>\n",
       "</div>"
      ],
      "text/plain": [
       "     0    1    2    3    4    5    6    7    8    9\n",
       "0  0.0  0.4  0.8  0.8  0.8  1.0  1.4  1.6  1.8  1.8\n",
       "1  0.4  0.0  0.8  0.8  0.8  1.0  1.4  1.6  1.8  1.8\n",
       "2  0.8  0.8  0.0  0.4  0.8  1.0  1.4  1.6  1.8  1.8\n",
       "3  0.8  0.8  0.4  0.0  0.8  1.0  1.4  1.6  1.8  1.8\n",
       "4  0.8  0.8  0.8  0.8  0.0  0.6  1.0  1.2  1.4  1.4\n",
       "5  1.0  1.0  1.0  1.0  0.6  0.0  0.8  1.0  1.2  1.2\n",
       "6  1.4  1.4  1.4  1.4  1.0  0.8  0.0  0.6  0.8  0.8\n",
       "7  1.6  1.6  1.6  1.6  1.2  1.0  0.6  0.0  0.6  0.6\n",
       "8  1.8  1.8  1.8  1.8  1.4  1.2  0.8  0.6  0.0  0.4\n",
       "9  1.8  1.8  1.8  1.8  1.4  1.2  0.8  0.6  0.4  0.0"
      ]
     },
     "execution_count": 547,
     "metadata": {},
     "output_type": "execute_result"
    }
   ],
   "source": [
    "toytree.distance.api.get_tip_distance_matrix(tree)"
   ]
  },
  {
   "cell_type": "code",
   "execution_count": 643,
   "id": "7dc4ac14",
   "metadata": {},
   "outputs": [
    {
     "data": {
      "text/html": [
       "<div class=\"toyplot\" id=\"tacf7cbc040074c2dba1314373fbebd12\" style=\"text-align:center\"><svg class=\"toyplot-canvas-Canvas\" xmlns:toyplot=\"http://www.sandia.gov/toyplot\" xmlns:xlink=\"http://www.w3.org/1999/xlink\" xmlns=\"http://www.w3.org/2000/svg\" width=\"350.0px\" height=\"350.0px\" viewBox=\"0 0 350.0 350.0\" preserveAspectRatio=\"xMidYMid meet\" style=\"background-color:transparent;border-color:#292724;border-style:none;border-width:1.0;fill:rgb(16.1%,15.3%,14.1%);fill-opacity:1.0;font-family:Helvetica;font-size:12px;opacity:1.0;stroke:rgb(16.1%,15.3%,14.1%);stroke-opacity:1.0;stroke-width:1.0\" id=\"t44dd0700a1f942228db5f1d04b3ec73e\"><g class=\"toyplot-coordinates-Cartesian\" id=\"tbd5fa3df213e4968b66b1f1110ad6998\"><clipPath id=\"tc9a16a9fda1f4792b2fb3207082be7e5\"><rect x=\"18.0\" y=\"112.50000000000001\" width=\"79.5\" height=\"212.5\"></rect></clipPath><g clip-path=\"url(#tc9a16a9fda1f4792b2fb3207082be7e5)\"><g class=\"toytree-mark-Toytree\" id=\"t1332a136105943158f9532707510105b\"><g class=\"toytree-Edges\" style=\"fill:none;stroke:rgba(16.1%,15.3%,14.1%,1.000);stroke-linecap:round;stroke-width:2.0\"><path d=\"M 29.1 298.2 L 29.1 315.0 L 33.4 315.0\" id=\"16,0\" style=\"stroke-width:nan\"></path><path d=\"M 30.2 281.3 L 30.2 295.8 L 33.4 295.8\" id=\"14,1\" style=\"stroke-width:nan\"></path><path d=\"M 31.2 266.9 L 31.2 276.5 L 33.4 276.5\" id=\"11,2\" style=\"stroke-width:nan\"></path><path d=\"M 31.2 266.9 L 31.2 257.2 L 33.4 257.2\" id=\"11,3\" style=\"stroke-width:nan\"></path><path d=\"M 31.2 223.6 L 31.2 238.0 L 33.4 238.0\" id=\"12,4\" style=\"stroke-width:nan\"></path><path d=\"M 32.3 209.1 L 32.3 218.8 L 33.4 218.8\" id=\"10,5\" style=\"stroke-width:nan\"></path><path d=\"M 32.3 209.1 L 32.3 199.5 L 33.4 199.5\" id=\"10,6\" style=\"stroke-width:nan\"></path><path d=\"M 31.2 170.6 L 31.2 180.2 L 33.4 180.2\" id=\"13,7\" style=\"stroke-width:nan\"></path><path d=\"M 31.2 170.6 L 31.2 161.0 L 33.4 161.0\" id=\"13,8\" style=\"stroke-width:nan\"></path><path d=\"M 29.1 169.4 L 29.1 141.8 L 33.4 141.8\" id=\"17,9\" style=\"stroke-width:nan\"></path><path d=\"M 31.2 223.6 L 31.2 209.1 L 32.3 209.1\" id=\"12,10\" style=\"stroke-width:nan\"></path><path d=\"M 30.2 281.3 L 30.2 266.9 L 31.2 266.9\" id=\"14,11\" style=\"stroke-width:nan\"></path><path d=\"M 30.2 197.1 L 30.2 223.6 L 31.2 223.6\" id=\"15,12\" style=\"stroke-width:nan\"></path><path d=\"M 30.2 197.1 L 30.2 170.6 L 31.2 170.6\" id=\"15,13\" style=\"stroke-width:nan\"></path><path d=\"M 29.1 298.2 L 29.1 281.3 L 30.2 281.3\" id=\"16,14\" style=\"stroke-width:nan\"></path><path d=\"M 29.1 169.4 L 29.1 197.1 L 30.2 197.1\" id=\"17,15\" style=\"stroke-width:nan\"></path><path d=\"M 28.0 233.8 L 28.0 298.2 L 29.1 298.2\" id=\"18,16\" style=\"stroke-width:nan\"></path><path d=\"M 28.0 233.8 L 28.0 169.4 L 29.1 169.4\" id=\"18,17\" style=\"stroke-width:nan\"></path></g><g class=\"toytree-AlignEdges\" style=\"stroke:rgba(66.3%,66.3%,66.3%,1.000);stroke-dasharray:2,4;stroke-linecap:round;stroke-opacity:0.75;stroke-width:2\"><path d=\"M 33.4 315.0 L 33.4 315.0\"></path><path d=\"M 33.4 295.8 L 33.4 295.8\"></path><path d=\"M 33.4 276.5 L 33.4 276.5\"></path><path d=\"M 33.4 257.2 L 33.4 257.2\"></path><path d=\"M 33.4 238.0 L 33.4 238.0\"></path><path d=\"M 33.4 218.8 L 33.4 218.8\"></path><path d=\"M 33.4 199.5 L 33.4 199.5\"></path><path d=\"M 33.4 180.2 L 33.4 180.2\"></path><path d=\"M 33.4 161.0 L 33.4 161.0\"></path><path d=\"M 33.4 141.8 L 33.4 141.8\"></path></g></g><g class=\"toyplot-mark-Range\" style=\"stroke:none\" id=\"t2b167f7e51c444cc8c26e2bdf059bd1c\"><g class=\"toyplot-Series\"><rect class=\"toyplot-Datum\" x=\"38.81818181818181\" y=\"122.50000000000001\" width=\"48.68181818181819\" height=\"192.5\" style=\"fill:rgb(100%,0%,0%);fill-opacity:1.0;opacity:1.0;stroke:none\"></rect></g></g><g class=\"toyplot-mark-Range\" style=\"stroke:none\" id=\"t9675c1d5ae35403196128f953ced0159\"><g class=\"toyplot-Series\"><rect class=\"toyplot-Datum\" x=\"38.81818181818181\" y=\"122.50000000000001\" width=\"48.68181818181819\" height=\"192.5\" style=\"fill:rgb(100%,0%,0%);fill-opacity:1.0;opacity:1.0;stroke:none\"></rect></g></g><g class=\"toyplot-mark-Range\" style=\"stroke:none\" id=\"t9f4db63c6d7e45edbc46614143af90a9\"><g class=\"toyplot-Series\"><rect class=\"toyplot-Datum\" x=\"38.81818181818181\" y=\"122.50000000000001\" width=\"48.68181818181819\" height=\"192.5\" style=\"fill:rgb(100%,0%,0%);fill-opacity:1.0;opacity:1.0;stroke:none\"></rect></g></g><g class=\"toyplot-mark-Range\" style=\"stroke:none\" id=\"t77f89399f6544c8f8f61a4748248e0fa\"><g class=\"toyplot-Series\"><rect class=\"toyplot-Datum\" x=\"38.81818181818181\" y=\"122.50000000000001\" width=\"48.68181818181819\" height=\"192.5\" style=\"fill:rgb(100%,0%,0%);fill-opacity:1.0;opacity:1.0;stroke:none\"></rect></g></g><g class=\"toyplot-mark-Range\" style=\"stroke:none\" id=\"t49a6d93e86af4c45b524cfa6aea89b3e\"><g class=\"toyplot-Series\"><rect class=\"toyplot-Datum\" x=\"38.81818181818181\" y=\"122.50000000000001\" width=\"48.68181818181819\" height=\"192.5\" style=\"fill:rgb(100%,0%,0%);fill-opacity:1.0;opacity:1.0;stroke:none\"></rect></g></g><g class=\"toyplot-mark-Range\" style=\"stroke:none\" id=\"t3836d9ac2fb2468d9c90a02a1d830399\"><g class=\"toyplot-Series\"><rect class=\"toyplot-Datum\" x=\"38.81818181818181\" y=\"122.50000000000001\" width=\"48.68181818181819\" height=\"192.5\" style=\"fill:rgb(100%,0%,0%);fill-opacity:1.0;opacity:1.0;stroke:none\"></rect></g></g><g class=\"toyplot-mark-Range\" style=\"stroke:none\" id=\"tce067cb734914102b3fcfc6277eeb77a\"><g class=\"toyplot-Series\"><rect class=\"toyplot-Datum\" x=\"38.81818181818181\" y=\"122.50000000000001\" width=\"48.68181818181819\" height=\"192.5\" style=\"fill:rgb(100%,0%,0%);fill-opacity:1.0;opacity:1.0;stroke:none\"></rect></g></g><g class=\"toyplot-mark-Range\" style=\"stroke:none\" id=\"t864c0c73e9714819846995b9da33efab\"><g class=\"toyplot-Series\"><rect class=\"toyplot-Datum\" x=\"38.81818181818181\" y=\"122.50000000000001\" width=\"48.68181818181819\" height=\"192.5\" style=\"fill:rgb(100%,0%,0%);fill-opacity:1.0;opacity:1.0;stroke:none\"></rect></g></g><g class=\"toyplot-mark-Range\" style=\"stroke:none\" id=\"t5b472f28cc124284bab7e11da9c9f711\"><g class=\"toyplot-Series\"><rect class=\"toyplot-Datum\" x=\"38.81818181818181\" y=\"122.50000000000001\" width=\"48.68181818181819\" height=\"192.5\" style=\"fill:rgb(100%,0%,0%);fill-opacity:1.0;opacity:1.0;stroke:none\"></rect></g></g><g class=\"toyplot-mark-Range\" style=\"stroke:none\" id=\"t5992765e200a4c3491653fba436fdd78\"><g class=\"toyplot-Series\"><rect class=\"toyplot-Datum\" x=\"38.81818181818181\" y=\"122.50000000000001\" width=\"48.68181818181819\" height=\"192.5\" style=\"fill:rgb(100%,0%,0%);fill-opacity:1.0;opacity:1.0;stroke:none\"></rect></g></g></g></g><g class=\"toyplot-coordinates-Cartesian\" id=\"t12ab35f5fade4fc9b22a8fbb89721a45\"><clipPath id=\"tf22f69bd9c244fbfad363aab2c148cde\"><rect x=\"112.50000000000001\" y=\"18.0\" width=\"212.5\" height=\"79.5\"></rect></clipPath><g clip-path=\"url(#tf22f69bd9c244fbfad363aab2c148cde)\"><g class=\"toytree-mark-Toytree\" id=\"td35016edcd774aee9ff7ea612daa715a\"><g class=\"toytree-Edges\" style=\"fill:none;stroke:rgba(16.1%,15.3%,14.1%,1.000);stroke-linecap:round;stroke-width:2.0\"><path d=\"M 296.3 39.9 L 315.0 39.9 L 315.0 87.5\" id=\"16,0\" style=\"stroke-width:nan\"></path><path d=\"M 277.6 51.8 L 293.6 51.8 L 293.6 87.5\" id=\"14,1\" style=\"stroke-width:nan\"></path><path d=\"M 261.5 63.7 L 272.2 63.7 L 272.2 87.5\" id=\"11,2\" style=\"stroke-width:nan\"></path><path d=\"M 261.5 63.7 L 250.8 63.7 L 250.8 87.5\" id=\"11,3\" style=\"stroke-width:nan\"></path><path d=\"M 213.4 63.7 L 229.4 63.7 L 229.4 87.5\" id=\"12,4\" style=\"stroke-width:nan\"></path><path d=\"M 197.4 75.6 L 208.1 75.6 L 208.1 87.5\" id=\"10,5\" style=\"stroke-width:nan\"></path><path d=\"M 197.4 75.6 L 186.7 75.6 L 186.7 87.5\" id=\"10,6\" style=\"stroke-width:nan\"></path><path d=\"M 154.6 63.7 L 165.3 63.7 L 165.3 87.5\" id=\"13,7\" style=\"stroke-width:nan\"></path><path d=\"M 154.6 63.7 L 143.9 63.7 L 143.9 87.5\" id=\"13,8\" style=\"stroke-width:nan\"></path><path d=\"M 153.2 39.9 L 122.5 39.9 L 122.5 87.5\" id=\"17,9\" style=\"stroke-width:nan\"></path><path d=\"M 213.4 63.7 L 197.4 63.7 L 197.4 75.6\" id=\"12,10\" style=\"stroke-width:nan\"></path><path d=\"M 277.6 51.8 L 261.5 51.8 L 261.5 63.7\" id=\"14,11\" style=\"stroke-width:nan\"></path><path d=\"M 184.0 51.8 L 213.4 51.8 L 213.4 63.7\" id=\"15,12\" style=\"stroke-width:nan\"></path><path d=\"M 184.0 51.8 L 154.6 51.8 L 154.6 63.7\" id=\"15,13\" style=\"stroke-width:nan\"></path><path d=\"M 296.3 39.9 L 277.6 39.9 L 277.6 51.8\" id=\"16,14\" style=\"stroke-width:nan\"></path><path d=\"M 153.2 39.9 L 184.0 39.9 L 184.0 51.8\" id=\"17,15\" style=\"stroke-width:nan\"></path><path d=\"M 224.8 28.0 L 296.3 28.0 L 296.3 39.9\" id=\"18,16\" style=\"stroke-width:nan\"></path><path d=\"M 224.8 28.0 L 153.2 28.0 L 153.2 39.9\" id=\"18,17\" style=\"stroke-width:nan\"></path></g><g class=\"toytree-AlignEdges\" style=\"stroke:rgba(66.3%,66.3%,66.3%,1.000);stroke-dasharray:2,4;stroke-linecap:round;stroke-opacity:0.75;stroke-width:2\"><path d=\"M 315.0 87.5 L 315.0 87.5\"></path><path d=\"M 293.6 87.5 L 293.6 87.5\"></path><path d=\"M 272.2 87.5 L 272.2 87.5\"></path><path d=\"M 250.8 87.5 L 250.8 87.5\"></path><path d=\"M 229.4 87.5 L 229.4 87.5\"></path><path d=\"M 208.1 87.5 L 208.1 87.5\"></path><path d=\"M 186.7 87.5 L 186.7 87.5\"></path><path d=\"M 165.3 87.5 L 165.3 87.5\"></path><path d=\"M 143.9 87.5 L 143.9 87.5\"></path><path d=\"M 122.5 87.5 L 122.5 87.5\"></path></g></g></g></g></svg><div class=\"toyplot-behavior\"><script>(function()\n",
       "{\n",
       "var modules={};\n",
       "})();</script></div></div>"
      ]
     },
     "metadata": {},
     "output_type": "display_data"
    }
   ],
   "source": [
    "# a random rectangular matrix\n",
    "tree = toytree.rtree.unittree(10)\n",
    "matrix = np.arange(tree.ntips * tree.ntips).reshape(tree.ntips, tree.ntips)\n",
    "matrix.shape\n",
    "\n",
    "# create a canvas\n",
    "canvas = toyplot.Canvas(width=350, height=350);\n",
    "\n",
    "# add tree\n",
    "ax0 = canvas.cartesian(bounds=(\"8%\", \"25%\", \"35%\", \"90%\"), xshow=False, yshow=False)\n",
    "tree.draw(axes=ax0, tip_labels=False, tip_labels_align=True)\n",
    "\n",
    "# add tree with names in reverse order of first drawing\n",
    "ax1 = canvas.cartesian(bounds=(\"35%\", \"90%\", \"8%\", \"25%\"), xshow=False, yshow=False)\n",
    "tree.draw(axes=ax1, tip_labels=False, tip_labels_align=True, layout='d', fixed_order=tree.get_tip_labels()[::-1])\n",
    "\n",
    "for dat in matrix:\n",
    "    ax0.rectangle(1, 10, 10, 0, color=\"red\")"
   ]
  },
  {
   "cell_type": "code",
   "execution_count": 667,
   "id": "12b01559",
   "metadata": {},
   "outputs": [
    {
     "data": {
      "text/plain": [
       "122.50000000000001"
      ]
     },
     "execution_count": 667,
     "metadata": {},
     "output_type": "execute_result"
    }
   ],
   "source": [
    "ax0._ymin_range"
   ]
  },
  {
   "cell_type": "code",
   "execution_count": 726,
   "id": "368e6206",
   "metadata": {},
   "outputs": [
    {
     "ename": "IndentationError",
     "evalue": "expected an indented block (1334446582.py, line 1)",
     "output_type": "error",
     "traceback": [
      "\u001b[0;36m  File \u001b[0;32m\"/tmp/ipykernel_218231/1334446582.py\"\u001b[0;36m, line \u001b[0;32m1\u001b[0m\n\u001b[0;31m    def draw_heatmap(tree, distances):\u001b[0m\n\u001b[0m                                      ^\u001b[0m\n\u001b[0;31mIndentationError\u001b[0m\u001b[0;31m:\u001b[0m expected an indented block\n"
     ]
    }
   ],
   "source": [
    "def draw_heatmap(\n",
    "    tree, \n",
    "    matrix, \n",
    "    height, \n",
    "    width, \n",
    "    tree_left_proportion=0.3,\n",
    "    tree_top_proportion=0.3,\n",
    "    tree_offset_proportion=0.05,\n",
    "    margin=0.10,\n",
    "    tree_style_kwargs,\n",
    "    ):\n",
    "    \"\"\"\n",
    "    \n",
    "    \"\"\"\n",
    "    canvas = toyplot.Canvas(width=width, height=height)\n",
    "    \n",
    "    # expand right side if tip labels are long, how much room is needed?\n",
    "    \n",
    "    \n",
    "    # get canvas for left tree\n",
    "    ax0 = canvas.cartesian(\n",
    "        bounds=(\"10%\", \"25%\", \"35%\", \"90%\"), \n",
    "        show=False\n",
    "    )\n",
    "    \n",
    "    # add the tree w/o tip labels\n",
    "    # disallow certain tree style kwargs like layout.\n",
    "    tree.draw(axes=ax0, tip_labels=False, tip_labels_align=True, **tree_style_kwargs)\n",
    "\n",
    "    # add tree with names in reverse order of first drawing\n",
    "    ax1 = canvas.cartesian(bounds=(\"35%\", \"90%\", \"8%\", \"25%\"), xshow=False, yshow=False)\n",
    "    tree.draw(axes=ax1, tip_labels=False, tip_labels_align=True, layout='d', fixed_order=tree.get_tip_labels()[::-1])\n"
   ]
  },
  {
   "cell_type": "code",
   "execution_count": 1353,
   "id": "59178b7d",
   "metadata": {},
   "outputs": [],
   "source": [
    "@dataclass\n",
    "class Node:\n",
    "    \"\"\"A Node instance that can connect with other Nodes to form a Tree.\n",
    "    \n",
    "    Attributes\n",
    "    ----------\n",
    "    name: str\n",
    "        ...\n",
    "    dist: float\n",
    "        ...\n",
    "    children: List\n",
    "        A list of Node instances that are descended from this Node.\n",
    "    up: Node or None\n",
    "        A Node that is ancestral to this Node, or None if this Node is root.\n",
    "    \"\"\"\n",
    "    # init attributes\n",
    "    name: str = \"\"\n",
    "    dist: float = 0.0\n",
    "\n",
    "    # non-init attributes\n",
    "    children: List[Node] = field(default_factory=list, init=False)\n",
    "    up: Node = field(default=None, init=False)\n",
    "\n",
    "    def __repr__(self):\n",
    "        \"\"\"Return string representation of the Node relationship\"\"\"\n",
    "        children = [i.name for i in self.children]\n",
    "        parent = self.up.name if self.up else 'None'\n",
    "        return f\"<Node name={self.name}, children={children}, up={parent}>\"\n",
    "\n",
    "    def is_leaf(self):\n",
    "        \"\"\"Return True if Node is a leaf (has no children)\"\"\"\n",
    "        return False if self.children else True\n",
    "\n",
    "    def add_child(self, node: Node) -> None:\n",
    "        \"\"\"Add a Node as a child to this one.\"\"\"\n",
    "        node.up = self\n",
    "        self.children.append(node)"
   ]
  },
  {
   "cell_type": "code",
   "execution_count": 1158,
   "id": "581212b5",
   "metadata": {},
   "outputs": [
    {
     "name": "stdout",
     "output_type": "stream",
     "text": [
      "<Node name=abc, children=['ab'], up=None>\n",
      "<Node name=ab, children=['a', 'b'], up=abc>\n",
      "<Node name=a, children=[], up=ab>\n",
      "<Node name=b, children=[], up=ab>\n"
     ]
    }
   ],
   "source": [
    "node_abc = Node(\"abc\")\n",
    "node_ab = Node(\"ab\")\n",
    "node_a = Node(\"a\")\n",
    "node_b = Node(\"b\")\n",
    "node_c = Node(\"c\")\n",
    "\n",
    "node_ab.add_child(node_a)\n",
    "node_ab.add_child(node_b)\n",
    "node_abc.add_child(node_ab)\n",
    "\n",
    "print(node_abc)\n",
    "print(node_ab)\n",
    "print(node_a)\n",
    "print(node_b)"
   ]
  },
  {
   "cell_type": "code",
   "execution_count": 1159,
   "id": "75510533",
   "metadata": {},
   "outputs": [],
   "source": [
    "x = ['a', 'b']"
   ]
  },
  {
   "cell_type": "code",
   "execution_count": 1167,
   "id": "dba882be",
   "metadata": {},
   "outputs": [],
   "source": [
    "from typing import Generator"
   ]
  },
  {
   "cell_type": "code",
   "execution_count": 1283,
   "id": "bc73620b",
   "metadata": {},
   "outputs": [
    {
     "ename": "TypeError",
     "evalue": "unhashable type: 'TreeNode'",
     "output_type": "error",
     "traceback": [
      "\u001b[0;31m---------------------------------------------------------------------------\u001b[0m",
      "\u001b[0;31mTypeError\u001b[0m                                 Traceback (most recent call last)",
      "\u001b[0;32m/tmp/ipykernel_218231/3050094791.py\u001b[0m in \u001b[0;36m<module>\u001b[0;34m\u001b[0m\n\u001b[0;32m----> 1\u001b[0;31m \u001b[0;34m{\u001b[0m\u001b[0;34m(\u001b[0m\u001b[0mnode_a\u001b[0m\u001b[0;34m,\u001b[0m \u001b[0mnode_b\u001b[0m\u001b[0;34m)\u001b[0m\u001b[0;34m:\u001b[0m \u001b[0;32mTrue\u001b[0m\u001b[0;34m}\u001b[0m\u001b[0;34m\u001b[0m\u001b[0;34m\u001b[0m\u001b[0m\n\u001b[0m",
      "\u001b[0;31mTypeError\u001b[0m: unhashable type: 'TreeNode'"
     ]
    }
   ],
   "source": [
    "{(node_a, node_b): True}"
   ]
  },
  {
   "cell_type": "code",
   "execution_count": 1365,
   "id": "44564870",
   "metadata": {},
   "outputs": [],
   "source": [
    "a = (1, 2, 3)"
   ]
  },
  {
   "cell_type": "code",
   "execution_count": 1367,
   "id": "b1747ef7",
   "metadata": {},
   "outputs": [
    {
     "ename": "AttributeError",
     "evalue": "'tuple' object has no attribute 'pop'",
     "output_type": "error",
     "traceback": [
      "\u001b[0;31m---------------------------------------------------------------------------\u001b[0m",
      "\u001b[0;31mAttributeError\u001b[0m                            Traceback (most recent call last)",
      "\u001b[0;32m/tmp/ipykernel_218231/658476405.py\u001b[0m in \u001b[0;36m<module>\u001b[0;34m\u001b[0m\n\u001b[0;32m----> 1\u001b[0;31m \u001b[0ma\u001b[0m\u001b[0;34m[\u001b[0m\u001b[0;34m:\u001b[0m\u001b[0;34m:\u001b[0m\u001b[0;34m-\u001b[0m\u001b[0;36m1\u001b[0m\u001b[0;34m]\u001b[0m\u001b[0;34m.\u001b[0m\u001b[0mpop\u001b[0m\u001b[0;34m(\u001b[0m\u001b[0;34m)\u001b[0m\u001b[0;34m\u001b[0m\u001b[0;34m\u001b[0m\u001b[0m\n\u001b[0m",
      "\u001b[0;31mAttributeError\u001b[0m: 'tuple' object has no attribute 'pop'"
     ]
    }
   ],
   "source": [
    "a[::-1].pop()"
   ]
  },
  {
   "cell_type": "code",
   "execution_count": 1368,
   "id": "97e2969a",
   "metadata": {},
   "outputs": [
    {
     "data": {
      "text/plain": [
       "(1, 2, 3)"
      ]
     },
     "execution_count": 1368,
     "metadata": {},
     "output_type": "execute_result"
    }
   ],
   "source": [
    "a.\n"
   ]
  },
  {
   "cell_type": "code",
   "execution_count": 1333,
   "id": "d4ce32bc",
   "metadata": {},
   "outputs": [],
   "source": [
    "def help(x) -> Generator[str]:\n",
    "    yield str(x)"
   ]
  },
  {
   "cell_type": "code",
   "execution_count": 1334,
   "id": "d0843d79",
   "metadata": {},
   "outputs": [
    {
     "data": {
      "text/plain": [
       "<generator object help at 0x7fad5044a3c0>"
      ]
     },
     "execution_count": 1334,
     "metadata": {},
     "output_type": "execute_result"
    }
   ],
   "source": [
    "help('s')"
   ]
  },
  {
   "cell_type": "code",
   "execution_count": 1310,
   "id": "8c2f7dad",
   "metadata": {},
   "outputs": [],
   "source": [
    "a.append('b')\n",
    "a.append('c')"
   ]
  },
  {
   "cell_type": "code",
   "execution_count": 1322,
   "id": "bc37a4d0",
   "metadata": {},
   "outputs": [
    {
     "name": "stdout",
     "output_type": "stream",
     "text": [
      "92.8 ns ± 2.21 ns per loop (mean ± std. dev. of 7 runs, 10000000 loops each)\n"
     ]
    }
   ],
   "source": [
    "%%timeit\n",
    "a.insert(1, 'd')"
   ]
  },
  {
   "cell_type": "code",
   "execution_count": 1320,
   "id": "29d701cf",
   "metadata": {},
   "outputs": [
    {
     "name": "stdout",
     "output_type": "stream",
     "text": [
      "45.4 ns ± 2.07 ns per loop (mean ± std. dev. of 7 runs, 10000000 loops each)\n"
     ]
    }
   ],
   "source": [
    "%%timeit\n",
    "a.append('d')"
   ]
  },
  {
   "cell_type": "code",
   "execution_count": 1323,
   "id": "5fc09b49",
   "metadata": {},
   "outputs": [
    {
     "name": "stdout",
     "output_type": "stream",
     "text": [
      "51.7 ns ± 4.17 ns per loop (mean ± std. dev. of 7 runs, 10000000 loops each)\n"
     ]
    }
   ],
   "source": [
    "%%timeit\n",
    "a.appendleft('e')"
   ]
  },
  {
   "cell_type": "code",
   "execution_count": 1354,
   "id": "c7d1382b",
   "metadata": {},
   "outputs": [
    {
     "name": "stdout",
     "output_type": "stream",
     "text": [
      "abc\n",
      "ab\n",
      "a\n",
      "<TreeNode name=b, children=[], up=ab/>\n",
      "[<TreeNode name=a, children=[], up=ab/>, <TreeNode name=b, children=[], up=ab/>, <TreeNode name=ab, children=['a', 'b'], up=abc/>, <TreeNode name=c, children=[], up=abc/>, <TreeNode name=abc, children=['ab', 'c'], up=None/>]\n"
     ]
    }
   ],
   "source": [
    "@dataclass\n",
    "class TreeNode(Node):\n",
    "    \"\"\"A TreeNode represents a Tree of Nodes descended from a particular Node.\n",
    "\n",
    "    \"\"\"    \n",
    "        \n",
    "    def __repr__(self):\n",
    "        \"\"\"Return string representation of the Node relationship\"\"\"\n",
    "        children = [i.name for i in self.children]\n",
    "        parent = self.up.name if self.up else 'None'\n",
    "        return f\"<TreeNode name={self.name}, children={children}, up={parent}/>\"\n",
    "    \n",
    "    def _traverse_dynamic(self, node, q=None) -> Generator:\n",
    "        q = [] if q is None else q\n",
    "        if node.is_leaf():\n",
    "            q.append(node)\n",
    "        else:\n",
    "            q = self._traverse_dynamic(node.children[0], q)\n",
    "            q = self._traverse_dynamic(node.children[1], q)\n",
    "            q.append(node)\n",
    "        return q\n",
    "        \n",
    "    def _traverse_in_root_to_tip_order(self):\n",
    "        \"\"\"A generator to yield all nodes in order from root to tips.\"\"\"\n",
    "        # start with root in queue. When queue is empty traversal is finished.\n",
    "        queue = [self]\n",
    "        while queue:\n",
    "            \n",
    "            # return the top-most node in the queue. yield returns the current\n",
    "            # state while allowing the func to resume (i.e., a generator).\n",
    "            node = queue.pop(0)\n",
    "            yield node\n",
    "\n",
    "            # append the node's children to the right end of the queue\n",
    "            queue.extend(node.children)\n",
    "\n",
    "    def _traverse_parents_then_childreN(self):\n",
    "        \"\"\"A generator to yield all nodes by visiting parents before children.\"\"\"\n",
    "\n",
    "            \n",
    "    def get_tip_labels(self):\n",
    "        \"\"\"Return the tip labels in order ...\"\"\"\n",
    "        return [i.name for i in self._traverse_in_root_to_tip_order() if i.is_leaf()]\n",
    "        \n",
    "\n",
    "node_abc = TreeNode(\"abc\")\n",
    "node_ab = TreeNode(\"ab\")\n",
    "node_a = TreeNode(\"a\")\n",
    "node_b = TreeNode(\"b\")\n",
    "node_c = TreeNode(\"c\")\n",
    "\n",
    "node_ab.add_child(node_a)\n",
    "node_ab.add_child(node_b)\n",
    "node_abc.add_child(node_ab)\n",
    "node_abc.add_child(node_c)\n",
    "\n",
    "print(node_abc.name)\n",
    "print(node_ab.name)\n",
    "print(node_a.name)\n",
    "print(node_b)\n",
    "\n",
    "print(list(node_abc._traverse_dynamic(node_abc)))"
   ]
  },
  {
   "cell_type": "code",
   "execution_count": 1184,
   "id": "ca90d6df",
   "metadata": {},
   "outputs": [],
   "source": [
    "a  = deque(['a'])"
   ]
  },
  {
   "cell_type": "code",
   "execution_count": 1188,
   "id": "2fed6363",
   "metadata": {},
   "outputs": [
    {
     "data": {
      "text/plain": [
       "'a'"
      ]
     },
     "execution_count": 1188,
     "metadata": {},
     "output_type": "execute_result"
    }
   ],
   "source": [
    "a[0]"
   ]
  },
  {
   "cell_type": "code",
   "execution_count": null,
   "id": "b4a83c81",
   "metadata": {},
   "outputs": [],
   "source": [
    "class Tree:       \n",
    "        \n",
    "    def draw(self):\n",
    "        \"\"\"Returns a scatterplot of the tip nodes.\"\"\"\n",
    "        canvas = toyplot.Canvas(width=400, height=400)\n",
    "        axes = canvas.cartesian()\n",
    "        axes.scatterplot()\n",
    "        "
   ]
  },
  {
   "cell_type": "code",
   "execution_count": 967,
   "id": "45dcf5d8",
   "metadata": {},
   "outputs": [],
   "source": [
    "data2 = data.copy()\n",
    "data[0, 0] = np.nan"
   ]
  },
  {
   "cell_type": "code",
   "execution_count": 968,
   "id": "b0a1cdb2",
   "metadata": {},
   "outputs": [
    {
     "name": "stderr",
     "output_type": "stream",
     "text": [
      "/home/deren/miniconda3/lib/python3.9/site-packages/toyplot/canvas.py:837: UserWarning: Warning: converting a masked element to nan.\n",
      "  cell.title = \"%.6f\" % matrix[i, j]\n"
     ]
    },
    {
     "data": {
      "text/plain": [
       "(<toyplot.canvas.Canvas at 0x7fad57353fd0>,\n",
       " <toyplot.coordinates.Table at 0x7fad5656dbe0>)"
      ]
     },
     "execution_count": 968,
     "metadata": {},
     "output_type": "execute_result"
    },
    {
     "data": {
      "text/html": [
       "<div class=\"toyplot\" id=\"tdd63b7be077c4d5aa9f4b38797a06721\" style=\"text-align:center\"><svg class=\"toyplot-canvas-Canvas\" xmlns:toyplot=\"http://www.sandia.gov/toyplot\" xmlns:xlink=\"http://www.w3.org/1999/xlink\" xmlns=\"http://www.w3.org/2000/svg\" width=\"600px\" height=\"600px\" viewBox=\"0 0 600 600\" preserveAspectRatio=\"xMidYMid meet\" style=\"background-color:transparent;border-color:#292724;border-style:none;border-width:1.0;fill:rgb(16.1%,15.3%,14.1%);fill-opacity:1.0;font-family:Helvetica;font-size:12px;opacity:1.0;stroke:rgb(16.1%,15.3%,14.1%);stroke-opacity:1.0;stroke-width:1.0\" id=\"t32350725407d4cd38a32504f24120d32\"><g class=\"toyplot-coordinates-Table\" id=\"t55109895da2b43348942f0e9d949f181\"><g transform=\"translate(107.5,80.0)\"><text x=\"-3.3360000000000003\" y=\"3.066\" style=\"fill:rgb(16.1%,15.3%,14.1%);fill-opacity:1.0;font-family:helvetica;font-size:12.0px;font-weight:normal;stroke:none;vertical-align:baseline;white-space:pre\">0</text></g><g transform=\"translate(142.5,80.0)\"><text x=\"-3.3360000000000003\" y=\"3.066\" style=\"fill:rgb(16.1%,15.3%,14.1%);fill-opacity:1.0;font-family:helvetica;font-size:12.0px;font-weight:normal;stroke:none;vertical-align:baseline;white-space:pre\">1</text></g><g transform=\"translate(177.5,80.0)\"><text x=\"-3.3360000000000003\" y=\"3.066\" style=\"fill:rgb(16.1%,15.3%,14.1%);fill-opacity:1.0;font-family:helvetica;font-size:12.0px;font-weight:normal;stroke:none;vertical-align:baseline;white-space:pre\">2</text></g><g transform=\"translate(212.5,80.0)\"><text x=\"-3.3360000000000003\" y=\"3.066\" style=\"fill:rgb(16.1%,15.3%,14.1%);fill-opacity:1.0;font-family:helvetica;font-size:12.0px;font-weight:normal;stroke:none;vertical-align:baseline;white-space:pre\">3</text></g><g transform=\"translate(247.5,80.0)\"><text x=\"-3.3360000000000003\" y=\"3.066\" style=\"fill:rgb(16.1%,15.3%,14.1%);fill-opacity:1.0;font-family:helvetica;font-size:12.0px;font-weight:normal;stroke:none;vertical-align:baseline;white-space:pre\">4</text></g><g transform=\"translate(282.5,80.0)\"><text x=\"-3.3360000000000003\" y=\"3.066\" style=\"fill:rgb(16.1%,15.3%,14.1%);fill-opacity:1.0;font-family:helvetica;font-size:12.0px;font-weight:normal;stroke:none;vertical-align:baseline;white-space:pre\">5</text></g><g transform=\"translate(317.5,80.0)\"><text x=\"-3.3360000000000003\" y=\"3.066\" style=\"fill:rgb(16.1%,15.3%,14.1%);fill-opacity:1.0;font-family:helvetica;font-size:12.0px;font-weight:normal;stroke:none;vertical-align:baseline;white-space:pre\">6</text></g><g transform=\"translate(352.5,80.0)\"><text x=\"-3.3360000000000003\" y=\"3.066\" style=\"fill:rgb(16.1%,15.3%,14.1%);fill-opacity:1.0;font-family:helvetica;font-size:12.0px;font-weight:normal;stroke:none;vertical-align:baseline;white-space:pre\">7</text></g><g transform=\"translate(387.5,80.0)\"><text x=\"-3.3360000000000003\" y=\"3.066\" style=\"fill:rgb(16.1%,15.3%,14.1%);fill-opacity:1.0;font-family:helvetica;font-size:12.0px;font-weight:normal;stroke:none;vertical-align:baseline;white-space:pre\">8</text></g><g transform=\"translate(422.5,80.0)\"><text x=\"-3.3360000000000003\" y=\"3.066\" style=\"fill:rgb(16.1%,15.3%,14.1%);fill-opacity:1.0;font-family:helvetica;font-size:12.0px;font-weight:normal;stroke:none;vertical-align:baseline;white-space:pre\">9</text></g><g transform=\"translate(457.5,80.0)\"><text x=\"-6.672000000000001\" y=\"3.066\" style=\"fill:rgb(16.1%,15.3%,14.1%);fill-opacity:1.0;font-family:helvetica;font-size:12.0px;font-weight:normal;stroke:none;vertical-align:baseline;white-space:pre\">10</text></g><g transform=\"translate(492.5,80.0)\"><text x=\"-6.672000000000001\" y=\"3.066\" style=\"fill:rgb(16.1%,15.3%,14.1%);fill-opacity:1.0;font-family:helvetica;font-size:12.0px;font-weight:normal;stroke:none;vertical-align:baseline;white-space:pre\">11</text></g><g transform=\"translate(85.0,107.5)\"><text x=\"-6.672000000000001\" y=\"3.066\" style=\"fill:rgb(16.1%,15.3%,14.1%);fill-opacity:1.0;font-family:helvetica;font-size:12.0px;font-weight:normal;stroke:none;vertical-align:baseline;white-space:pre\">0</text></g><rect x=\"90.0\" y=\"90.0\" width=\"35.0\" height=\"35.0\" style=\"fill:rgb(2%,18.8%,38%);fill-opacity:1.0;stroke:none\"><title>nan</title></rect><rect x=\"125.0\" y=\"90.0\" width=\"35.0\" height=\"35.0\" style=\"fill:rgb(2%,18.8%,38%);fill-opacity:1.0;stroke:none\"><title>nan</title></rect><rect x=\"160.0\" y=\"90.0\" width=\"35.0\" height=\"35.0\" style=\"fill:rgb(2%,18.8%,38%);fill-opacity:1.0;stroke:none\"><title>nan</title></rect><rect x=\"195.0\" y=\"90.0\" width=\"35.0\" height=\"35.0\" style=\"fill:rgb(2%,18.8%,38%);fill-opacity:1.0;stroke:none\"><title>nan</title></rect><rect x=\"230.0\" y=\"90.0\" width=\"35.0\" height=\"35.0\" style=\"fill:rgb(2%,18.8%,38%);fill-opacity:1.0;stroke:none\"><title>nan</title></rect><rect x=\"265.0\" y=\"90.0\" width=\"35.0\" height=\"35.0\" style=\"fill:rgb(2%,18.8%,38%);fill-opacity:1.0;stroke:none\"><title>nan</title></rect><rect x=\"300.0\" y=\"90.0\" width=\"35.0\" height=\"35.0\" style=\"fill:rgb(2%,18.8%,38%);fill-opacity:1.0;stroke:none\"><title>nan</title></rect><rect x=\"335.0\" y=\"90.0\" width=\"35.0\" height=\"35.0\" style=\"fill:rgb(2%,18.8%,38%);fill-opacity:1.0;stroke:none\"><title>nan</title></rect><rect x=\"370.0\" y=\"90.0\" width=\"35.0\" height=\"35.0\" style=\"fill:rgb(2%,18.8%,38%);fill-opacity:1.0;stroke:none\"><title>nan</title></rect><rect x=\"405.0\" y=\"90.0\" width=\"35.0\" height=\"35.0\" style=\"fill:rgb(2%,18.8%,38%);fill-opacity:1.0;stroke:none\"><title>nan</title></rect><rect x=\"440.0\" y=\"90.0\" width=\"35.0\" height=\"35.0\" style=\"fill:rgb(2%,18.8%,38%);fill-opacity:1.0;stroke:none\"><title>nan</title></rect><rect x=\"475.0\" y=\"90.0\" width=\"35.0\" height=\"35.0\" style=\"fill:rgb(2%,18.8%,38%);fill-opacity:1.0;stroke:none\"><title>nan</title></rect><g transform=\"translate(85.0,142.5)\"><text x=\"-6.672000000000001\" y=\"3.066\" style=\"fill:rgb(16.1%,15.3%,14.1%);fill-opacity:1.0;font-family:helvetica;font-size:12.0px;font-weight:normal;stroke:none;vertical-align:baseline;white-space:pre\">1</text></g><rect x=\"90.0\" y=\"125.0\" width=\"35.0\" height=\"35.0\" style=\"fill:rgb(2%,18.8%,38%);fill-opacity:1.0;stroke:none\"><title>nan</title></rect><rect x=\"125.0\" y=\"125.0\" width=\"35.0\" height=\"35.0\" style=\"fill:rgb(2%,18.8%,38%);fill-opacity:1.0;stroke:none\"><title>0.000000</title></rect><rect x=\"160.0\" y=\"125.0\" width=\"35.0\" height=\"35.0\" style=\"fill:rgb(66.7%,8.4%,16.4%);fill-opacity:1.0;stroke:none\"><title>4.065849</title></rect><rect x=\"195.0\" y=\"125.0\" width=\"35.0\" height=\"35.0\" style=\"fill:rgb(70.6%,11%,17.6%);fill-opacity:1.0;stroke:none\"><title>3.993010</title></rect><rect x=\"230.0\" y=\"125.0\" width=\"35.0\" height=\"35.0\" style=\"fill:rgb(69.6%,9.4%,16.8%);fill-opacity:1.0;stroke:none\"><title>4.020485</title></rect><rect x=\"265.0\" y=\"125.0\" width=\"35.0\" height=\"35.0\" style=\"fill:rgb(67.4%,8.6%,16.5%);fill-opacity:1.0;stroke:none\"><title>4.054557</title></rect><rect x=\"300.0\" y=\"125.0\" width=\"35.0\" height=\"35.0\" style=\"fill:rgb(74.5%,18.7%,21.3%);fill-opacity:1.0;stroke:none\"><title>3.870806</title></rect><rect x=\"335.0\" y=\"125.0\" width=\"35.0\" height=\"35.0\" style=\"fill:rgb(80.3%,30.4%,26.8%);fill-opacity:1.0;stroke:none\"><title>3.685811</title></rect><rect x=\"370.0\" y=\"125.0\" width=\"35.0\" height=\"35.0\" style=\"fill:rgb(55.8%,4.9%,14.6%);fill-opacity:1.0;stroke:none\"><title>4.230834</title></rect><rect x=\"405.0\" y=\"125.0\" width=\"35.0\" height=\"35.0\" style=\"fill:rgb(52.2%,3.8%,14%);fill-opacity:1.0;stroke:none\"><title>4.285363</title></rect><rect x=\"440.0\" y=\"125.0\" width=\"35.0\" height=\"35.0\" style=\"fill:rgb(62.2%,7%,15.7%);fill-opacity:1.0;stroke:none\"><title>4.132870</title></rect><rect x=\"475.0\" y=\"125.0\" width=\"35.0\" height=\"35.0\" style=\"fill:rgb(77.3%,24.3%,23.9%);fill-opacity:1.0;stroke:none\"><title>3.782072</title></rect><g transform=\"translate(85.0,177.5)\"><text x=\"-6.672000000000001\" y=\"3.066\" style=\"fill:rgb(16.1%,15.3%,14.1%);fill-opacity:1.0;font-family:helvetica;font-size:12.0px;font-weight:normal;stroke:none;vertical-align:baseline;white-space:pre\">2</text></g><rect x=\"90.0\" y=\"160.0\" width=\"35.0\" height=\"35.0\" style=\"fill:rgb(2%,18.8%,38%);fill-opacity:1.0;stroke:none\"><title>nan</title></rect><rect x=\"125.0\" y=\"160.0\" width=\"35.0\" height=\"35.0\" style=\"fill:rgb(66.7%,8.4%,16.4%);fill-opacity:1.0;stroke:none\"><title>4.065849</title></rect><rect x=\"160.0\" y=\"160.0\" width=\"35.0\" height=\"35.0\" style=\"fill:rgb(2%,18.8%,38%);fill-opacity:1.0;stroke:none\"><title>0.000000</title></rect><rect x=\"195.0\" y=\"160.0\" width=\"35.0\" height=\"35.0\" style=\"fill:rgb(85.5%,41.3%,33%);fill-opacity:1.0;stroke:none\"><title>3.510816</title></rect><rect x=\"230.0\" y=\"160.0\" width=\"35.0\" height=\"35.0\" style=\"fill:rgb(72.4%,14.6%,19.3%);fill-opacity:1.0;stroke:none\"><title>3.936411</title></rect><rect x=\"265.0\" y=\"160.0\" width=\"35.0\" height=\"35.0\" style=\"fill:rgb(48.5%,2.6%,13.5%);fill-opacity:1.0;stroke:none\"><title>4.341587</title></rect><rect x=\"300.0\" y=\"160.0\" width=\"35.0\" height=\"35.0\" style=\"fill:rgb(75.1%,20%,21.9%);fill-opacity:1.0;stroke:none\"><title>3.850035</title></rect><rect x=\"335.0\" y=\"160.0\" width=\"35.0\" height=\"35.0\" style=\"fill:rgb(53%,4%,14.2%);fill-opacity:1.0;stroke:none\"><title>4.273745</title></rect><rect x=\"370.0\" y=\"160.0\" width=\"35.0\" height=\"35.0\" style=\"fill:rgb(40.4%,0%,12.2%);fill-opacity:1.0;stroke:none\"><title>4.464539</title></rect><rect x=\"405.0\" y=\"160.0\" width=\"35.0\" height=\"35.0\" style=\"fill:rgb(57.5%,5.5%,14.9%);fill-opacity:1.0;stroke:none\"><title>4.204185</title></rect><rect x=\"440.0\" y=\"160.0\" width=\"35.0\" height=\"35.0\" style=\"fill:rgb(50%,3.1%,13.7%);fill-opacity:1.0;stroke:none\"><title>4.318858</title></rect><rect x=\"475.0\" y=\"160.0\" width=\"35.0\" height=\"35.0\" style=\"fill:rgb(53%,4%,14.2%);fill-opacity:1.0;stroke:none\"><title>4.272709</title></rect><g transform=\"translate(85.0,212.5)\"><text x=\"-6.672000000000001\" y=\"3.066\" style=\"fill:rgb(16.1%,15.3%,14.1%);fill-opacity:1.0;font-family:helvetica;font-size:12.0px;font-weight:normal;stroke:none;vertical-align:baseline;white-space:pre\">3</text></g><rect x=\"90.0\" y=\"195.0\" width=\"35.0\" height=\"35.0\" style=\"fill:rgb(2%,18.8%,38%);fill-opacity:1.0;stroke:none\"><title>nan</title></rect><rect x=\"125.0\" y=\"195.0\" width=\"35.0\" height=\"35.0\" style=\"fill:rgb(70.6%,11%,17.6%);fill-opacity:1.0;stroke:none\"><title>3.993010</title></rect><rect x=\"160.0\" y=\"195.0\" width=\"35.0\" height=\"35.0\" style=\"fill:rgb(85.5%,41.3%,33%);fill-opacity:1.0;stroke:none\"><title>3.510816</title></rect><rect x=\"195.0\" y=\"195.0\" width=\"35.0\" height=\"35.0\" style=\"fill:rgb(2%,18.8%,38%);fill-opacity:1.0;stroke:none\"><title>0.000000</title></rect><rect x=\"230.0\" y=\"195.0\" width=\"35.0\" height=\"35.0\" style=\"fill:rgb(71%,11.7%,18%);fill-opacity:1.0;stroke:none\"><title>3.981539</title></rect><rect x=\"265.0\" y=\"195.0\" width=\"35.0\" height=\"35.0\" style=\"fill:rgb(70.3%,10.3%,17.3%);fill-opacity:1.0;stroke:none\"><title>4.003773</title></rect><rect x=\"300.0\" y=\"195.0\" width=\"35.0\" height=\"35.0\" style=\"fill:rgb(78.6%,27.1%,25.2%);fill-opacity:1.0;stroke:none\"><title>3.738442</title></rect><rect x=\"335.0\" y=\"195.0\" width=\"35.0\" height=\"35.0\" style=\"fill:rgb(61.1%,6.6%,15.5%);fill-opacity:1.0;stroke:none\"><title>4.150602</title></rect><rect x=\"370.0\" y=\"195.0\" width=\"35.0\" height=\"35.0\" style=\"fill:rgb(55.7%,4.9%,14.6%);fill-opacity:1.0;stroke:none\"><title>4.232703</title></rect><rect x=\"405.0\" y=\"195.0\" width=\"35.0\" height=\"35.0\" style=\"fill:rgb(70%,9.8%,17%);fill-opacity:1.0;stroke:none\"><title>4.011841</title></rect><rect x=\"440.0\" y=\"195.0\" width=\"35.0\" height=\"35.0\" style=\"fill:rgb(52.2%,3.8%,14%);fill-opacity:1.0;stroke:none\"><title>4.285345</title></rect><rect x=\"475.0\" y=\"195.0\" width=\"35.0\" height=\"35.0\" style=\"fill:rgb(52.8%,4%,14.1%);fill-opacity:1.0;stroke:none\"><title>4.275904</title></rect><g transform=\"translate(85.0,247.5)\"><text x=\"-6.672000000000001\" y=\"3.066\" style=\"fill:rgb(16.1%,15.3%,14.1%);fill-opacity:1.0;font-family:helvetica;font-size:12.0px;font-weight:normal;stroke:none;vertical-align:baseline;white-space:pre\">4</text></g><rect x=\"90.0\" y=\"230.0\" width=\"35.0\" height=\"35.0\" style=\"fill:rgb(2%,18.8%,38%);fill-opacity:1.0;stroke:none\"><title>nan</title></rect><rect x=\"125.0\" y=\"230.0\" width=\"35.0\" height=\"35.0\" style=\"fill:rgb(69.6%,9.4%,16.8%);fill-opacity:1.0;stroke:none\"><title>4.020485</title></rect><rect x=\"160.0\" y=\"230.0\" width=\"35.0\" height=\"35.0\" style=\"fill:rgb(72.4%,14.6%,19.3%);fill-opacity:1.0;stroke:none\"><title>3.936411</title></rect><rect x=\"195.0\" y=\"230.0\" width=\"35.0\" height=\"35.0\" style=\"fill:rgb(71%,11.7%,18%);fill-opacity:1.0;stroke:none\"><title>3.981539</title></rect><rect x=\"230.0\" y=\"230.0\" width=\"35.0\" height=\"35.0\" style=\"fill:rgb(2%,18.8%,38%);fill-opacity:1.0;stroke:none\"><title>0.000000</title></rect><rect x=\"265.0\" y=\"230.0\" width=\"35.0\" height=\"35.0\" style=\"fill:rgb(67.2%,8.6%,16.5%);fill-opacity:1.0;stroke:none\"><title>4.056961</title></rect><rect x=\"300.0\" y=\"230.0\" width=\"35.0\" height=\"35.0\" style=\"fill:rgb(45.5%,1.6%,13%);fill-opacity:1.0;stroke:none\"><title>4.387059</title></rect><rect x=\"335.0\" y=\"230.0\" width=\"35.0\" height=\"35.0\" style=\"fill:rgb(61.8%,6.9%,15.6%);fill-opacity:1.0;stroke:none\"><title>4.139193</title></rect><rect x=\"370.0\" y=\"230.0\" width=\"35.0\" height=\"35.0\" style=\"fill:rgb(83.3%,36.4%,29.6%);fill-opacity:1.0;stroke:none\"><title>3.591302</title></rect><rect x=\"405.0\" y=\"230.0\" width=\"35.0\" height=\"35.0\" style=\"fill:rgb(77.7%,25.3%,24.4%);fill-opacity:1.0;stroke:none\"><title>3.767324</title></rect><rect x=\"440.0\" y=\"230.0\" width=\"35.0\" height=\"35.0\" style=\"fill:rgb(56.9%,5.3%,14.8%);fill-opacity:1.0;stroke:none\"><title>4.214476</title></rect><rect x=\"475.0\" y=\"230.0\" width=\"35.0\" height=\"35.0\" style=\"fill:rgb(69.2%,9.2%,16.8%);fill-opacity:1.0;stroke:none\"><title>4.026940</title></rect><g transform=\"translate(85.0,282.5)\"><text x=\"-6.672000000000001\" y=\"3.066\" style=\"fill:rgb(16.1%,15.3%,14.1%);fill-opacity:1.0;font-family:helvetica;font-size:12.0px;font-weight:normal;stroke:none;vertical-align:baseline;white-space:pre\">5</text></g><rect x=\"90.0\" y=\"265.0\" width=\"35.0\" height=\"35.0\" style=\"fill:rgb(2%,18.8%,38%);fill-opacity:1.0;stroke:none\"><title>nan</title></rect><rect x=\"125.0\" y=\"265.0\" width=\"35.0\" height=\"35.0\" style=\"fill:rgb(67.4%,8.6%,16.5%);fill-opacity:1.0;stroke:none\"><title>4.054557</title></rect><rect x=\"160.0\" y=\"265.0\" width=\"35.0\" height=\"35.0\" style=\"fill:rgb(48.5%,2.6%,13.5%);fill-opacity:1.0;stroke:none\"><title>4.341587</title></rect><rect x=\"195.0\" y=\"265.0\" width=\"35.0\" height=\"35.0\" style=\"fill:rgb(70.3%,10.3%,17.3%);fill-opacity:1.0;stroke:none\"><title>4.003773</title></rect><rect x=\"230.0\" y=\"265.0\" width=\"35.0\" height=\"35.0\" style=\"fill:rgb(67.2%,8.6%,16.5%);fill-opacity:1.0;stroke:none\"><title>4.056961</title></rect><rect x=\"265.0\" y=\"265.0\" width=\"35.0\" height=\"35.0\" style=\"fill:rgb(2%,18.8%,38%);fill-opacity:1.0;stroke:none\"><title>0.000000</title></rect><rect x=\"300.0\" y=\"265.0\" width=\"35.0\" height=\"35.0\" style=\"fill:rgb(69.8%,9.5%,16.9%);fill-opacity:1.0;stroke:none\"><title>4.017064</title></rect><rect x=\"335.0\" y=\"265.0\" width=\"35.0\" height=\"35.0\" style=\"fill:rgb(70.4%,10.6%,17.4%);fill-opacity:1.0;stroke:none\"><title>4.000034</title></rect><rect x=\"370.0\" y=\"265.0\" width=\"35.0\" height=\"35.0\" style=\"fill:rgb(84.2%,38.2%,30.6%);fill-opacity:1.0;stroke:none\"><title>3.562669</title></rect><rect x=\"405.0\" y=\"265.0\" width=\"35.0\" height=\"35.0\" style=\"fill:rgb(84.2%,38.3%,30.7%);fill-opacity:1.0;stroke:none\"><title>3.561201</title></rect><rect x=\"440.0\" y=\"265.0\" width=\"35.0\" height=\"35.0\" style=\"fill:rgb(80.8%,31.5%,27.3%);fill-opacity:1.0;stroke:none\"><title>3.668877</title></rect><rect x=\"475.0\" y=\"265.0\" width=\"35.0\" height=\"35.0\" style=\"fill:rgb(80.9%,31.6%,27.3%);fill-opacity:1.0;stroke:none\"><title>3.667010</title></rect><g transform=\"translate(85.0,317.5)\"><text x=\"-6.672000000000001\" y=\"3.066\" style=\"fill:rgb(16.1%,15.3%,14.1%);fill-opacity:1.0;font-family:helvetica;font-size:12.0px;font-weight:normal;stroke:none;vertical-align:baseline;white-space:pre\">6</text></g><rect x=\"90.0\" y=\"300.0\" width=\"35.0\" height=\"35.0\" style=\"fill:rgb(2%,18.8%,38%);fill-opacity:1.0;stroke:none\"><title>nan</title></rect><rect x=\"125.0\" y=\"300.0\" width=\"35.0\" height=\"35.0\" style=\"fill:rgb(74.5%,18.7%,21.3%);fill-opacity:1.0;stroke:none\"><title>3.870806</title></rect><rect x=\"160.0\" y=\"300.0\" width=\"35.0\" height=\"35.0\" style=\"fill:rgb(75.1%,20%,21.9%);fill-opacity:1.0;stroke:none\"><title>3.850035</title></rect><rect x=\"195.0\" y=\"300.0\" width=\"35.0\" height=\"35.0\" style=\"fill:rgb(78.6%,27.1%,25.2%);fill-opacity:1.0;stroke:none\"><title>3.738442</title></rect><rect x=\"230.0\" y=\"300.0\" width=\"35.0\" height=\"35.0\" style=\"fill:rgb(45.5%,1.6%,13%);fill-opacity:1.0;stroke:none\"><title>4.387059</title></rect><rect x=\"265.0\" y=\"300.0\" width=\"35.0\" height=\"35.0\" style=\"fill:rgb(69.8%,9.5%,16.9%);fill-opacity:1.0;stroke:none\"><title>4.017064</title></rect><rect x=\"300.0\" y=\"300.0\" width=\"35.0\" height=\"35.0\" style=\"fill:rgb(2%,18.8%,38%);fill-opacity:1.0;stroke:none\"><title>0.000000</title></rect><rect x=\"335.0\" y=\"300.0\" width=\"35.0\" height=\"35.0\" style=\"fill:rgb(72.5%,14.7%,19.4%);fill-opacity:1.0;stroke:none\"><title>3.934110</title></rect><rect x=\"370.0\" y=\"300.0\" width=\"35.0\" height=\"35.0\" style=\"fill:rgb(62.6%,7.1%,15.7%);fill-opacity:1.0;stroke:none\"><title>4.126978</title></rect><rect x=\"405.0\" y=\"300.0\" width=\"35.0\" height=\"35.0\" style=\"fill:rgb(65.9%,8.2%,16.2%);fill-opacity:1.0;stroke:none\"><title>4.077326</title></rect><rect x=\"440.0\" y=\"300.0\" width=\"35.0\" height=\"35.0\" style=\"fill:rgb(53.4%,4.2%,14.2%);fill-opacity:1.0;stroke:none\"><title>4.267429</title></rect><rect x=\"475.0\" y=\"300.0\" width=\"35.0\" height=\"35.0\" style=\"fill:rgb(76.4%,22.6%,23.1%);fill-opacity:1.0;stroke:none\"><title>3.810192</title></rect><g transform=\"translate(85.0,352.5)\"><text x=\"-6.672000000000001\" y=\"3.066\" style=\"fill:rgb(16.1%,15.3%,14.1%);fill-opacity:1.0;font-family:helvetica;font-size:12.0px;font-weight:normal;stroke:none;vertical-align:baseline;white-space:pre\">7</text></g><rect x=\"90.0\" y=\"335.0\" width=\"35.0\" height=\"35.0\" style=\"fill:rgb(2%,18.8%,38%);fill-opacity:1.0;stroke:none\"><title>nan</title></rect><rect x=\"125.0\" y=\"335.0\" width=\"35.0\" height=\"35.0\" style=\"fill:rgb(80.3%,30.4%,26.8%);fill-opacity:1.0;stroke:none\"><title>3.685811</title></rect><rect x=\"160.0\" y=\"335.0\" width=\"35.0\" height=\"35.0\" style=\"fill:rgb(53%,4%,14.2%);fill-opacity:1.0;stroke:none\"><title>4.273745</title></rect><rect x=\"195.0\" y=\"335.0\" width=\"35.0\" height=\"35.0\" style=\"fill:rgb(61.1%,6.6%,15.5%);fill-opacity:1.0;stroke:none\"><title>4.150602</title></rect><rect x=\"230.0\" y=\"335.0\" width=\"35.0\" height=\"35.0\" style=\"fill:rgb(61.8%,6.9%,15.6%);fill-opacity:1.0;stroke:none\"><title>4.139193</title></rect><rect x=\"265.0\" y=\"335.0\" width=\"35.0\" height=\"35.0\" style=\"fill:rgb(70.4%,10.6%,17.4%);fill-opacity:1.0;stroke:none\"><title>4.000034</title></rect><rect x=\"300.0\" y=\"335.0\" width=\"35.0\" height=\"35.0\" style=\"fill:rgb(72.5%,14.7%,19.4%);fill-opacity:1.0;stroke:none\"><title>3.934110</title></rect><rect x=\"335.0\" y=\"335.0\" width=\"35.0\" height=\"35.0\" style=\"fill:rgb(2%,18.8%,38%);fill-opacity:1.0;stroke:none\"><title>0.000000</title></rect><rect x=\"370.0\" y=\"335.0\" width=\"35.0\" height=\"35.0\" style=\"fill:rgb(63%,7.2%,15.8%);fill-opacity:1.0;stroke:none\"><title>4.121591</title></rect><rect x=\"405.0\" y=\"335.0\" width=\"35.0\" height=\"35.0\" style=\"fill:rgb(76.6%,23.1%,23.3%);fill-opacity:1.0;stroke:none\"><title>3.801639</title></rect><rect x=\"440.0\" y=\"335.0\" width=\"35.0\" height=\"35.0\" style=\"fill:rgb(60%,6.3%,15.3%);fill-opacity:1.0;stroke:none\"><title>4.166230</title></rect><rect x=\"475.0\" y=\"335.0\" width=\"35.0\" height=\"35.0\" style=\"fill:rgb(71.9%,13.6%,18.8%);fill-opacity:1.0;stroke:none\"><title>3.952243</title></rect><g transform=\"translate(85.0,387.5)\"><text x=\"-6.672000000000001\" y=\"3.066\" style=\"fill:rgb(16.1%,15.3%,14.1%);fill-opacity:1.0;font-family:helvetica;font-size:12.0px;font-weight:normal;stroke:none;vertical-align:baseline;white-space:pre\">8</text></g><rect x=\"90.0\" y=\"370.0\" width=\"35.0\" height=\"35.0\" style=\"fill:rgb(2%,18.8%,38%);fill-opacity:1.0;stroke:none\"><title>nan</title></rect><rect x=\"125.0\" y=\"370.0\" width=\"35.0\" height=\"35.0\" style=\"fill:rgb(55.8%,4.9%,14.6%);fill-opacity:1.0;stroke:none\"><title>4.230834</title></rect><rect x=\"160.0\" y=\"370.0\" width=\"35.0\" height=\"35.0\" style=\"fill:rgb(40.4%,0%,12.2%);fill-opacity:1.0;stroke:none\"><title>4.464539</title></rect><rect x=\"195.0\" y=\"370.0\" width=\"35.0\" height=\"35.0\" style=\"fill:rgb(55.7%,4.9%,14.6%);fill-opacity:1.0;stroke:none\"><title>4.232703</title></rect><rect x=\"230.0\" y=\"370.0\" width=\"35.0\" height=\"35.0\" style=\"fill:rgb(83.3%,36.4%,29.6%);fill-opacity:1.0;stroke:none\"><title>3.591302</title></rect><rect x=\"265.0\" y=\"370.0\" width=\"35.0\" height=\"35.0\" style=\"fill:rgb(84.2%,38.2%,30.6%);fill-opacity:1.0;stroke:none\"><title>3.562669</title></rect><rect x=\"300.0\" y=\"370.0\" width=\"35.0\" height=\"35.0\" style=\"fill:rgb(62.6%,7.1%,15.7%);fill-opacity:1.0;stroke:none\"><title>4.126978</title></rect><rect x=\"335.0\" y=\"370.0\" width=\"35.0\" height=\"35.0\" style=\"fill:rgb(63%,7.2%,15.8%);fill-opacity:1.0;stroke:none\"><title>4.121591</title></rect><rect x=\"370.0\" y=\"370.0\" width=\"35.0\" height=\"35.0\" style=\"fill:rgb(2%,18.8%,38%);fill-opacity:1.0;stroke:none\"><title>0.000000</title></rect><rect x=\"405.0\" y=\"370.0\" width=\"35.0\" height=\"35.0\" style=\"fill:rgb(72.7%,15.2%,19.6%);fill-opacity:1.0;stroke:none\"><title>3.927111</title></rect><rect x=\"440.0\" y=\"370.0\" width=\"35.0\" height=\"35.0\" style=\"fill:rgb(69.9%,9.6%,17%);fill-opacity:1.0;stroke:none\"><title>4.014552</title></rect><rect x=\"475.0\" y=\"370.0\" width=\"35.0\" height=\"35.0\" style=\"fill:rgb(78%,25.7%,24.6%);fill-opacity:1.0;stroke:none\"><title>3.760305</title></rect><g transform=\"translate(85.0,422.5)\"><text x=\"-6.672000000000001\" y=\"3.066\" style=\"fill:rgb(16.1%,15.3%,14.1%);fill-opacity:1.0;font-family:helvetica;font-size:12.0px;font-weight:normal;stroke:none;vertical-align:baseline;white-space:pre\">9</text></g><rect x=\"90.0\" y=\"405.0\" width=\"35.0\" height=\"35.0\" style=\"fill:rgb(2%,18.8%,38%);fill-opacity:1.0;stroke:none\"><title>nan</title></rect><rect x=\"125.0\" y=\"405.0\" width=\"35.0\" height=\"35.0\" style=\"fill:rgb(52.2%,3.8%,14%);fill-opacity:1.0;stroke:none\"><title>4.285363</title></rect><rect x=\"160.0\" y=\"405.0\" width=\"35.0\" height=\"35.0\" style=\"fill:rgb(57.5%,5.5%,14.9%);fill-opacity:1.0;stroke:none\"><title>4.204185</title></rect><rect x=\"195.0\" y=\"405.0\" width=\"35.0\" height=\"35.0\" style=\"fill:rgb(70%,9.8%,17%);fill-opacity:1.0;stroke:none\"><title>4.011841</title></rect><rect x=\"230.0\" y=\"405.0\" width=\"35.0\" height=\"35.0\" style=\"fill:rgb(77.7%,25.3%,24.4%);fill-opacity:1.0;stroke:none\"><title>3.767324</title></rect><rect x=\"265.0\" y=\"405.0\" width=\"35.0\" height=\"35.0\" style=\"fill:rgb(84.2%,38.3%,30.7%);fill-opacity:1.0;stroke:none\"><title>3.561201</title></rect><rect x=\"300.0\" y=\"405.0\" width=\"35.0\" height=\"35.0\" style=\"fill:rgb(65.9%,8.2%,16.2%);fill-opacity:1.0;stroke:none\"><title>4.077326</title></rect><rect x=\"335.0\" y=\"405.0\" width=\"35.0\" height=\"35.0\" style=\"fill:rgb(76.6%,23.1%,23.3%);fill-opacity:1.0;stroke:none\"><title>3.801639</title></rect><rect x=\"370.0\" y=\"405.0\" width=\"35.0\" height=\"35.0\" style=\"fill:rgb(72.7%,15.2%,19.6%);fill-opacity:1.0;stroke:none\"><title>3.927111</title></rect><rect x=\"405.0\" y=\"405.0\" width=\"35.0\" height=\"35.0\" style=\"fill:rgb(2%,18.8%,38%);fill-opacity:1.0;stroke:none\"><title>0.000000</title></rect><rect x=\"440.0\" y=\"405.0\" width=\"35.0\" height=\"35.0\" style=\"fill:rgb(71.1%,12%,18.1%);fill-opacity:1.0;stroke:none\"><title>3.977265</title></rect><rect x=\"475.0\" y=\"405.0\" width=\"35.0\" height=\"35.0\" style=\"fill:rgb(78.3%,26.4%,24.9%);fill-opacity:1.0;stroke:none\"><title>3.749600</title></rect><g transform=\"translate(85.0,457.5)\"><text x=\"-13.344000000000001\" y=\"3.066\" style=\"fill:rgb(16.1%,15.3%,14.1%);fill-opacity:1.0;font-family:helvetica;font-size:12.0px;font-weight:normal;stroke:none;vertical-align:baseline;white-space:pre\">10</text></g><rect x=\"90.0\" y=\"440.0\" width=\"35.0\" height=\"35.0\" style=\"fill:rgb(2%,18.8%,38%);fill-opacity:1.0;stroke:none\"><title>nan</title></rect><rect x=\"125.0\" y=\"440.0\" width=\"35.0\" height=\"35.0\" style=\"fill:rgb(62.2%,7%,15.7%);fill-opacity:1.0;stroke:none\"><title>4.132870</title></rect><rect x=\"160.0\" y=\"440.0\" width=\"35.0\" height=\"35.0\" style=\"fill:rgb(50%,3.1%,13.7%);fill-opacity:1.0;stroke:none\"><title>4.318858</title></rect><rect x=\"195.0\" y=\"440.0\" width=\"35.0\" height=\"35.0\" style=\"fill:rgb(52.2%,3.8%,14%);fill-opacity:1.0;stroke:none\"><title>4.285345</title></rect><rect x=\"230.0\" y=\"440.0\" width=\"35.0\" height=\"35.0\" style=\"fill:rgb(56.9%,5.3%,14.8%);fill-opacity:1.0;stroke:none\"><title>4.214476</title></rect><rect x=\"265.0\" y=\"440.0\" width=\"35.0\" height=\"35.0\" style=\"fill:rgb(80.8%,31.5%,27.3%);fill-opacity:1.0;stroke:none\"><title>3.668877</title></rect><rect x=\"300.0\" y=\"440.0\" width=\"35.0\" height=\"35.0\" style=\"fill:rgb(53.4%,4.2%,14.2%);fill-opacity:1.0;stroke:none\"><title>4.267429</title></rect><rect x=\"335.0\" y=\"440.0\" width=\"35.0\" height=\"35.0\" style=\"fill:rgb(60%,6.3%,15.3%);fill-opacity:1.0;stroke:none\"><title>4.166230</title></rect><rect x=\"370.0\" y=\"440.0\" width=\"35.0\" height=\"35.0\" style=\"fill:rgb(69.9%,9.6%,17%);fill-opacity:1.0;stroke:none\"><title>4.014552</title></rect><rect x=\"405.0\" y=\"440.0\" width=\"35.0\" height=\"35.0\" style=\"fill:rgb(71.1%,12%,18.1%);fill-opacity:1.0;stroke:none\"><title>3.977265</title></rect><rect x=\"440.0\" y=\"440.0\" width=\"35.0\" height=\"35.0\" style=\"fill:rgb(2%,18.8%,38%);fill-opacity:1.0;stroke:none\"><title>0.000000</title></rect><rect x=\"475.0\" y=\"440.0\" width=\"35.0\" height=\"35.0\" style=\"fill:rgb(61.5%,6.8%,15.5%);fill-opacity:1.0;stroke:none\"><title>4.143842</title></rect><g transform=\"translate(85.0,492.5)\"><text x=\"-13.344000000000001\" y=\"3.066\" style=\"fill:rgb(16.1%,15.3%,14.1%);fill-opacity:1.0;font-family:helvetica;font-size:12.0px;font-weight:normal;stroke:none;vertical-align:baseline;white-space:pre\">11</text></g><rect x=\"90.0\" y=\"475.0\" width=\"35.0\" height=\"35.0\" style=\"fill:rgb(2%,18.8%,38%);fill-opacity:1.0;stroke:none\"><title>nan</title></rect><rect x=\"125.0\" y=\"475.0\" width=\"35.0\" height=\"35.0\" style=\"fill:rgb(77.3%,24.3%,23.9%);fill-opacity:1.0;stroke:none\"><title>3.782072</title></rect><rect x=\"160.0\" y=\"475.0\" width=\"35.0\" height=\"35.0\" style=\"fill:rgb(53%,4%,14.2%);fill-opacity:1.0;stroke:none\"><title>4.272709</title></rect><rect x=\"195.0\" y=\"475.0\" width=\"35.0\" height=\"35.0\" style=\"fill:rgb(52.8%,4%,14.1%);fill-opacity:1.0;stroke:none\"><title>4.275904</title></rect><rect x=\"230.0\" y=\"475.0\" width=\"35.0\" height=\"35.0\" style=\"fill:rgb(69.2%,9.2%,16.8%);fill-opacity:1.0;stroke:none\"><title>4.026940</title></rect><rect x=\"265.0\" y=\"475.0\" width=\"35.0\" height=\"35.0\" style=\"fill:rgb(80.9%,31.6%,27.3%);fill-opacity:1.0;stroke:none\"><title>3.667010</title></rect><rect x=\"300.0\" y=\"475.0\" width=\"35.0\" height=\"35.0\" style=\"fill:rgb(76.4%,22.6%,23.1%);fill-opacity:1.0;stroke:none\"><title>3.810192</title></rect><rect x=\"335.0\" y=\"475.0\" width=\"35.0\" height=\"35.0\" style=\"fill:rgb(71.9%,13.6%,18.8%);fill-opacity:1.0;stroke:none\"><title>3.952243</title></rect><rect x=\"370.0\" y=\"475.0\" width=\"35.0\" height=\"35.0\" style=\"fill:rgb(78%,25.7%,24.6%);fill-opacity:1.0;stroke:none\"><title>3.760305</title></rect><rect x=\"405.0\" y=\"475.0\" width=\"35.0\" height=\"35.0\" style=\"fill:rgb(78.3%,26.4%,24.9%);fill-opacity:1.0;stroke:none\"><title>3.749600</title></rect><rect x=\"440.0\" y=\"475.0\" width=\"35.0\" height=\"35.0\" style=\"fill:rgb(61.5%,6.8%,15.5%);fill-opacity:1.0;stroke:none\"><title>4.143842</title></rect><rect x=\"475.0\" y=\"475.0\" width=\"35.0\" height=\"35.0\" style=\"fill:rgb(2%,18.8%,38%);fill-opacity:1.0;stroke:none\"><title>0.000000</title></rect></g></svg><div class=\"toyplot-behavior\"><script>(function()\n",
       "{\n",
       "var modules={};\n",
       "modules[\"toyplot/tables\"] = (function()\n",
       "    {\n",
       "        var tables = [];\n",
       "\n",
       "        var module = {};\n",
       "\n",
       "        module.set = function(owner, key, names, columns)\n",
       "        {\n",
       "            tables.push({owner: owner, key: key, names: names, columns: columns});\n",
       "        }\n",
       "\n",
       "        module.get = function(owner, key)\n",
       "        {\n",
       "            for(var i = 0; i != tables.length; ++i)\n",
       "            {\n",
       "                var table = tables[i];\n",
       "                if(table.owner != owner)\n",
       "                    continue;\n",
       "                if(table.key != key)\n",
       "                    continue;\n",
       "                return {names: table.names, columns: table.columns};\n",
       "            }\n",
       "        }\n",
       "\n",
       "        module.get_csv = function(owner, key)\n",
       "        {\n",
       "            var table = module.get(owner, key);\n",
       "            if(table != undefined)\n",
       "            {\n",
       "                var csv = \"\";\n",
       "                csv += table.names.join(\",\") + \"\\n\";\n",
       "                for(var i = 0; i != table.columns[0].length; ++i)\n",
       "                {\n",
       "                  for(var j = 0; j != table.columns.length; ++j)\n",
       "                  {\n",
       "                    if(j)\n",
       "                      csv += \",\";\n",
       "                    csv += table.columns[j][i];\n",
       "                  }\n",
       "                  csv += \"\\n\";\n",
       "                }\n",
       "                return csv;\n",
       "            }\n",
       "        }\n",
       "\n",
       "        return module;\n",
       "    })();\n",
       "modules[\"toyplot/root/id\"] = \"tdd63b7be077c4d5aa9f4b38797a06721\";\n",
       "modules[\"toyplot/root\"] = (function(root_id)\n",
       "    {\n",
       "        return document.querySelector(\"#\" + root_id);\n",
       "    })(modules[\"toyplot/root/id\"]);\n",
       "modules[\"toyplot/canvas/id\"] = \"t32350725407d4cd38a32504f24120d32\";\n",
       "modules[\"toyplot/canvas\"] = (function(canvas_id)\n",
       "    {\n",
       "        return document.querySelector(\"#\" + canvas_id);\n",
       "    })(modules[\"toyplot/canvas/id\"]);\n",
       "modules[\"toyplot/menus/context\"] = (function(root, canvas)\n",
       "    {\n",
       "        var wrapper = document.createElement(\"div\");\n",
       "        wrapper.innerHTML = \"<ul class='toyplot-context-menu' style='background:#eee; border:1px solid #b8b8b8; border-radius:5px; box-shadow: 0px 0px 8px rgba(0%,0%,0%,0.25); margin:0; padding:3px 0; position:fixed; visibility:hidden;'></ul>\"\n",
       "        var menu = wrapper.firstChild;\n",
       "\n",
       "        root.appendChild(menu);\n",
       "\n",
       "        var items = [];\n",
       "\n",
       "        var ignore_mouseup = null;\n",
       "        function open_menu(e)\n",
       "        {\n",
       "            var show_menu = false;\n",
       "            for(var index=0; index != items.length; ++index)\n",
       "            {\n",
       "                var item = items[index];\n",
       "                if(item.show(e))\n",
       "                {\n",
       "                    item.item.style.display = \"block\";\n",
       "                    show_menu = true;\n",
       "                }\n",
       "                else\n",
       "                {\n",
       "                    item.item.style.display = \"none\";\n",
       "                }\n",
       "            }\n",
       "\n",
       "            if(show_menu)\n",
       "            {\n",
       "                ignore_mouseup = true;\n",
       "                menu.style.left = (e.clientX + 1) + \"px\";\n",
       "                menu.style.top = (e.clientY - 5) + \"px\";\n",
       "                menu.style.visibility = \"visible\";\n",
       "                e.stopPropagation();\n",
       "                e.preventDefault();\n",
       "            }\n",
       "        }\n",
       "\n",
       "        function close_menu()\n",
       "        {\n",
       "            menu.style.visibility = \"hidden\";\n",
       "        }\n",
       "\n",
       "        function contextmenu(e)\n",
       "        {\n",
       "            open_menu(e);\n",
       "        }\n",
       "\n",
       "        function mousemove(e)\n",
       "        {\n",
       "            ignore_mouseup = false;\n",
       "        }\n",
       "\n",
       "        function mouseup(e)\n",
       "        {\n",
       "            if(ignore_mouseup)\n",
       "            {\n",
       "                ignore_mouseup = false;\n",
       "                return;\n",
       "            }\n",
       "            close_menu();\n",
       "        }\n",
       "\n",
       "        function keydown(e)\n",
       "        {\n",
       "            if(e.key == \"Escape\" || e.key == \"Esc\" || e.keyCode == 27)\n",
       "            {\n",
       "                close_menu();\n",
       "            }\n",
       "        }\n",
       "\n",
       "        canvas.addEventListener(\"contextmenu\", contextmenu);\n",
       "        canvas.addEventListener(\"mousemove\", mousemove);\n",
       "        document.addEventListener(\"mouseup\", mouseup);\n",
       "        document.addEventListener(\"keydown\", keydown);\n",
       "\n",
       "        var module = {};\n",
       "        module.add_item = function(label, show, activate)\n",
       "        {\n",
       "            var wrapper = document.createElement(\"div\");\n",
       "            wrapper.innerHTML = \"<li class='toyplot-context-menu-item' style='background:#eee; color:#333; padding:2px 20px; list-style:none; margin:0; text-align:left;'>\" + label + \"</li>\"\n",
       "            var item = wrapper.firstChild;\n",
       "\n",
       "            items.push({item: item, show: show});\n",
       "\n",
       "            function mouseover()\n",
       "            {\n",
       "                this.style.background = \"steelblue\";\n",
       "                this.style.color = \"white\";\n",
       "            }\n",
       "\n",
       "            function mouseout()\n",
       "            {\n",
       "                this.style.background = \"#eee\";\n",
       "                this.style.color = \"#333\";\n",
       "            }\n",
       "\n",
       "            function choose_item(e)\n",
       "            {\n",
       "                close_menu();\n",
       "                activate();\n",
       "\n",
       "                e.stopPropagation();\n",
       "                e.preventDefault();\n",
       "            }\n",
       "\n",
       "            item.addEventListener(\"mouseover\", mouseover);\n",
       "            item.addEventListener(\"mouseout\", mouseout);\n",
       "            item.addEventListener(\"mouseup\", choose_item);\n",
       "            item.addEventListener(\"contextmenu\", choose_item);\n",
       "\n",
       "            menu.appendChild(item);\n",
       "        };\n",
       "        return module;\n",
       "    })(modules[\"toyplot/root\"],modules[\"toyplot/canvas\"]);\n",
       "modules[\"toyplot/io\"] = (function()\n",
       "    {\n",
       "        var module = {};\n",
       "        module.save_file = function(mime_type, charset, data, filename)\n",
       "        {\n",
       "            var uri = \"data:\" + mime_type + \";charset=\" + charset + \",\" + data;\n",
       "            uri = encodeURI(uri);\n",
       "\n",
       "            var link = document.createElement(\"a\");\n",
       "            if(typeof link.download != \"undefined\")\n",
       "            {\n",
       "              link.href = uri;\n",
       "              link.style = \"visibility:hidden\";\n",
       "              link.download = filename;\n",
       "\n",
       "              document.body.appendChild(link);\n",
       "              link.click();\n",
       "              document.body.removeChild(link);\n",
       "            }\n",
       "            else\n",
       "            {\n",
       "              window.open(uri);\n",
       "            }\n",
       "        };\n",
       "        return module;\n",
       "    })();\n",
       "(function(tables, context_menu, io, owner_id, key, label, names, columns, filename)\n",
       "        {\n",
       "            tables.set(owner_id, key, names, columns);\n",
       "\n",
       "            var owner = document.querySelector(\"#\" + owner_id);\n",
       "            function show_item(e)\n",
       "            {\n",
       "                return owner.contains(e.target);\n",
       "            }\n",
       "\n",
       "            function choose_item()\n",
       "            {\n",
       "                io.save_file(\"text/csv\", \"utf-8\", tables.get_csv(owner_id, key), filename + \".csv\");\n",
       "            }\n",
       "\n",
       "            context_menu.add_item(\"Save \" + label + \" as CSV\", show_item, choose_item);\n",
       "        })(modules[\"toyplot/tables\"],modules[\"toyplot/menus/context\"],modules[\"toyplot/io\"],\"t55109895da2b43348942f0e9d949f181\",\"data\",\"table data\",[null, null, null, null, null, null, null, null, null, null, null, null, null, null, null, null],[[null, null, null, null, null, null, null, null, null, null, null, null, null, null, null], [null, \"0\", \"1\", \"2\", \"3\", \"4\", \"5\", \"6\", \"7\", \"8\", \"9\", \"10\", \"11\", null, null], [\"0\", NaN, NaN, NaN, NaN, NaN, NaN, NaN, NaN, NaN, NaN, NaN, NaN, null, null], [\"1\", NaN, 0.0, 4.065848882705424, 3.9930099626150986, 4.02048472664502, 4.054556803672887, 3.8708058985446696, 3.6858114052164486, 4.230833693325066, 4.285362961134548, 4.132870416305674, 3.7820722856014006, null, null], [\"2\", NaN, 4.065848882705424, 0.0, 3.5108157466068617, 3.9364112125284336, 4.341586775103125, 3.8500353674499004, 4.273745349606702, 4.464538835812824, 4.20418539739814, 4.3188576806394146, 4.272709311172381, null, null], [\"3\", NaN, 3.9930099626150986, 3.5108157466068617, 0.0, 3.9815386236013293, 4.003772918797857, 3.7384420764065167, 4.150602056156713, 4.232703448945182, 4.011841026418196, 4.285345304233504, 4.275903538860569, null, null], [\"4\", NaN, 4.02048472664502, 3.9364112125284336, 3.9815386236013293, 0.0, 4.056960797909251, 4.387058768517555, 4.1391930632809935, 3.591301851873021, 3.7673237981661254, 4.214476411864086, 4.026939867253113, null, null], [\"5\", NaN, 4.054556803672887, 4.341586775103125, 4.003772918797857, 4.056960797909251, 0.0, 4.017064026756472, 4.000033616846035, 3.562669078008999, 3.5612007899838507, 3.6688769557013856, 3.667009584522671, null, null], [\"6\", NaN, 3.8708058985446696, 3.8500353674499004, 3.7384420764065167, 4.387058768517555, 4.017064026756472, 0.0, 3.9341095787748857, 4.126978057601148, 4.077325855976426, 4.26742856326373, 3.8101924045104623, null, null], [\"7\", NaN, 3.6858114052164486, 4.273745349606702, 4.150602056156713, 4.1391930632809935, 4.000033616846035, 3.9341095787748857, 0.0, 4.121591413628071, 3.801639473104213, 4.166230167156491, 3.9522425388673392, null, null], [\"8\", NaN, 4.230833693325066, 4.464538835812824, 4.232703448945182, 3.591301851873021, 3.562669078008999, 4.126978057601148, 4.121591413628071, 0.0, 3.9271108169380837, 4.014551966522341, 3.760305368702659, null, null], [\"9\", NaN, 4.285362961134548, 4.20418539739814, 4.011841026418196, 3.7673237981661254, 3.5612007899838507, 4.077325855976426, 3.801639473104213, 3.9271108169380837, 0.0, 3.9772653494033547, 3.7495997854414407, null, null], [\"10\", NaN, 4.132870416305674, 4.3188576806394146, 4.285345304233504, 4.214476411864086, 3.6688769557013856, 4.26742856326373, 4.166230167156491, 4.014551966522341, 3.9772653494033547, 0.0, 4.1438420340717785, null, null], [\"11\", NaN, 3.7820722856014006, 4.272709311172381, 4.275903538860569, 4.026939867253113, 3.667009584522671, 3.8101924045104623, 3.9522425388673392, 3.760305368702659, 3.7495997854414407, 4.1438420340717785, 0.0, null, null], [null, null, null, null, null, null, null, null, null, null, null, null, null, null, null], [null, null, null, null, null, null, null, null, null, null, null, null, null, null, null]],\"toyplot\");\n",
       "})();</script></div></div>"
      ]
     },
     "metadata": {},
     "output_type": "display_data"
    }
   ],
   "source": [
    "\n",
    "toyplot.matrix(pd.DataFrame(spatial.distance_matrix(data, data)))"
   ]
  },
  {
   "cell_type": "code",
   "execution_count": 959,
   "id": "40f9ad7d",
   "metadata": {},
   "outputs": [
    {
     "data": {
      "text/html": [
       "<div>\n",
       "<style scoped>\n",
       "    .dataframe tbody tr th:only-of-type {\n",
       "        vertical-align: middle;\n",
       "    }\n",
       "\n",
       "    .dataframe tbody tr th {\n",
       "        vertical-align: top;\n",
       "    }\n",
       "\n",
       "    .dataframe thead th {\n",
       "        text-align: right;\n",
       "    }\n",
       "</style>\n",
       "<table border=\"1\" class=\"dataframe\">\n",
       "  <thead>\n",
       "    <tr style=\"text-align: right;\">\n",
       "      <th></th>\n",
       "      <th>0</th>\n",
       "      <th>1</th>\n",
       "      <th>2</th>\n",
       "      <th>3</th>\n",
       "      <th>4</th>\n",
       "      <th>5</th>\n",
       "      <th>6</th>\n",
       "      <th>7</th>\n",
       "      <th>8</th>\n",
       "      <th>9</th>\n",
       "      <th>10</th>\n",
       "      <th>11</th>\n",
       "    </tr>\n",
       "  </thead>\n",
       "  <tbody>\n",
       "    <tr>\n",
       "      <th>0</th>\n",
       "      <td>0.000000</td>\n",
       "      <td>3.914946</td>\n",
       "      <td>3.823035</td>\n",
       "      <td>3.952798</td>\n",
       "      <td>4.099893</td>\n",
       "      <td>3.957209</td>\n",
       "      <td>4.287529</td>\n",
       "      <td>3.693678</td>\n",
       "      <td>3.858674</td>\n",
       "      <td>4.237745</td>\n",
       "      <td>4.148846</td>\n",
       "      <td>3.698862</td>\n",
       "    </tr>\n",
       "    <tr>\n",
       "      <th>1</th>\n",
       "      <td>3.914946</td>\n",
       "      <td>0.000000</td>\n",
       "      <td>4.065849</td>\n",
       "      <td>3.993010</td>\n",
       "      <td>4.020485</td>\n",
       "      <td>4.054557</td>\n",
       "      <td>3.870806</td>\n",
       "      <td>3.685811</td>\n",
       "      <td>4.230834</td>\n",
       "      <td>4.285363</td>\n",
       "      <td>4.132870</td>\n",
       "      <td>3.782072</td>\n",
       "    </tr>\n",
       "    <tr>\n",
       "      <th>2</th>\n",
       "      <td>3.823035</td>\n",
       "      <td>4.065849</td>\n",
       "      <td>0.000000</td>\n",
       "      <td>3.510816</td>\n",
       "      <td>3.936411</td>\n",
       "      <td>4.341587</td>\n",
       "      <td>3.850035</td>\n",
       "      <td>4.273745</td>\n",
       "      <td>4.464539</td>\n",
       "      <td>4.204185</td>\n",
       "      <td>4.318858</td>\n",
       "      <td>4.272709</td>\n",
       "    </tr>\n",
       "    <tr>\n",
       "      <th>3</th>\n",
       "      <td>3.952798</td>\n",
       "      <td>3.993010</td>\n",
       "      <td>3.510816</td>\n",
       "      <td>0.000000</td>\n",
       "      <td>3.981539</td>\n",
       "      <td>4.003773</td>\n",
       "      <td>3.738442</td>\n",
       "      <td>4.150602</td>\n",
       "      <td>4.232703</td>\n",
       "      <td>4.011841</td>\n",
       "      <td>4.285345</td>\n",
       "      <td>4.275904</td>\n",
       "    </tr>\n",
       "    <tr>\n",
       "      <th>4</th>\n",
       "      <td>4.099893</td>\n",
       "      <td>4.020485</td>\n",
       "      <td>3.936411</td>\n",
       "      <td>3.981539</td>\n",
       "      <td>0.000000</td>\n",
       "      <td>4.056961</td>\n",
       "      <td>4.387059</td>\n",
       "      <td>4.139193</td>\n",
       "      <td>3.591302</td>\n",
       "      <td>3.767324</td>\n",
       "      <td>4.214476</td>\n",
       "      <td>4.026940</td>\n",
       "    </tr>\n",
       "    <tr>\n",
       "      <th>5</th>\n",
       "      <td>3.957209</td>\n",
       "      <td>4.054557</td>\n",
       "      <td>4.341587</td>\n",
       "      <td>4.003773</td>\n",
       "      <td>4.056961</td>\n",
       "      <td>0.000000</td>\n",
       "      <td>4.017064</td>\n",
       "      <td>4.000034</td>\n",
       "      <td>3.562669</td>\n",
       "      <td>3.561201</td>\n",
       "      <td>3.668877</td>\n",
       "      <td>3.667010</td>\n",
       "    </tr>\n",
       "    <tr>\n",
       "      <th>6</th>\n",
       "      <td>4.287529</td>\n",
       "      <td>3.870806</td>\n",
       "      <td>3.850035</td>\n",
       "      <td>3.738442</td>\n",
       "      <td>4.387059</td>\n",
       "      <td>4.017064</td>\n",
       "      <td>0.000000</td>\n",
       "      <td>3.934110</td>\n",
       "      <td>4.126978</td>\n",
       "      <td>4.077326</td>\n",
       "      <td>4.267429</td>\n",
       "      <td>3.810192</td>\n",
       "    </tr>\n",
       "    <tr>\n",
       "      <th>7</th>\n",
       "      <td>3.693678</td>\n",
       "      <td>3.685811</td>\n",
       "      <td>4.273745</td>\n",
       "      <td>4.150602</td>\n",
       "      <td>4.139193</td>\n",
       "      <td>4.000034</td>\n",
       "      <td>3.934110</td>\n",
       "      <td>0.000000</td>\n",
       "      <td>4.121591</td>\n",
       "      <td>3.801639</td>\n",
       "      <td>4.166230</td>\n",
       "      <td>3.952243</td>\n",
       "    </tr>\n",
       "    <tr>\n",
       "      <th>8</th>\n",
       "      <td>3.858674</td>\n",
       "      <td>4.230834</td>\n",
       "      <td>4.464539</td>\n",
       "      <td>4.232703</td>\n",
       "      <td>3.591302</td>\n",
       "      <td>3.562669</td>\n",
       "      <td>4.126978</td>\n",
       "      <td>4.121591</td>\n",
       "      <td>0.000000</td>\n",
       "      <td>3.927111</td>\n",
       "      <td>4.014552</td>\n",
       "      <td>3.760305</td>\n",
       "    </tr>\n",
       "    <tr>\n",
       "      <th>9</th>\n",
       "      <td>4.237745</td>\n",
       "      <td>4.285363</td>\n",
       "      <td>4.204185</td>\n",
       "      <td>4.011841</td>\n",
       "      <td>3.767324</td>\n",
       "      <td>3.561201</td>\n",
       "      <td>4.077326</td>\n",
       "      <td>3.801639</td>\n",
       "      <td>3.927111</td>\n",
       "      <td>0.000000</td>\n",
       "      <td>3.977265</td>\n",
       "      <td>3.749600</td>\n",
       "    </tr>\n",
       "    <tr>\n",
       "      <th>10</th>\n",
       "      <td>4.148846</td>\n",
       "      <td>4.132870</td>\n",
       "      <td>4.318858</td>\n",
       "      <td>4.285345</td>\n",
       "      <td>4.214476</td>\n",
       "      <td>3.668877</td>\n",
       "      <td>4.267429</td>\n",
       "      <td>4.166230</td>\n",
       "      <td>4.014552</td>\n",
       "      <td>3.977265</td>\n",
       "      <td>0.000000</td>\n",
       "      <td>4.143842</td>\n",
       "    </tr>\n",
       "    <tr>\n",
       "      <th>11</th>\n",
       "      <td>3.698862</td>\n",
       "      <td>3.782072</td>\n",
       "      <td>4.272709</td>\n",
       "      <td>4.275904</td>\n",
       "      <td>4.026940</td>\n",
       "      <td>3.667010</td>\n",
       "      <td>3.810192</td>\n",
       "      <td>3.952243</td>\n",
       "      <td>3.760305</td>\n",
       "      <td>3.749600</td>\n",
       "      <td>4.143842</td>\n",
       "      <td>0.000000</td>\n",
       "    </tr>\n",
       "  </tbody>\n",
       "</table>\n",
       "</div>"
      ],
      "text/plain": [
       "          0         1         2         3         4         5         6   \\\n",
       "0   0.000000  3.914946  3.823035  3.952798  4.099893  3.957209  4.287529   \n",
       "1   3.914946  0.000000  4.065849  3.993010  4.020485  4.054557  3.870806   \n",
       "2   3.823035  4.065849  0.000000  3.510816  3.936411  4.341587  3.850035   \n",
       "3   3.952798  3.993010  3.510816  0.000000  3.981539  4.003773  3.738442   \n",
       "4   4.099893  4.020485  3.936411  3.981539  0.000000  4.056961  4.387059   \n",
       "5   3.957209  4.054557  4.341587  4.003773  4.056961  0.000000  4.017064   \n",
       "6   4.287529  3.870806  3.850035  3.738442  4.387059  4.017064  0.000000   \n",
       "7   3.693678  3.685811  4.273745  4.150602  4.139193  4.000034  3.934110   \n",
       "8   3.858674  4.230834  4.464539  4.232703  3.591302  3.562669  4.126978   \n",
       "9   4.237745  4.285363  4.204185  4.011841  3.767324  3.561201  4.077326   \n",
       "10  4.148846  4.132870  4.318858  4.285345  4.214476  3.668877  4.267429   \n",
       "11  3.698862  3.782072  4.272709  4.275904  4.026940  3.667010  3.810192   \n",
       "\n",
       "          7         8         9         10        11  \n",
       "0   3.693678  3.858674  4.237745  4.148846  3.698862  \n",
       "1   3.685811  4.230834  4.285363  4.132870  3.782072  \n",
       "2   4.273745  4.464539  4.204185  4.318858  4.272709  \n",
       "3   4.150602  4.232703  4.011841  4.285345  4.275904  \n",
       "4   4.139193  3.591302  3.767324  4.214476  4.026940  \n",
       "5   4.000034  3.562669  3.561201  3.668877  3.667010  \n",
       "6   3.934110  4.126978  4.077326  4.267429  3.810192  \n",
       "7   0.000000  4.121591  3.801639  4.166230  3.952243  \n",
       "8   4.121591  0.000000  3.927111  4.014552  3.760305  \n",
       "9   3.801639  3.927111  0.000000  3.977265  3.749600  \n",
       "10  4.166230  4.014552  3.977265  0.000000  4.143842  \n",
       "11  3.952243  3.760305  3.749600  4.143842  0.000000  "
      ]
     },
     "execution_count": 959,
     "metadata": {},
     "output_type": "execute_result"
    }
   ],
   "source": [
    "from numba import jit\n",
    "\n",
    "def get_dists(data):\n",
    "    ntips = data.shape[0]\n",
    "    inodes = np.arange(ntips)\n",
    "    dists = pd.DataFrame(\n",
    "        columns=inodes,\n",
    "        index=inodes,\n",
    "        data=np.zeros((inodes.size, inodes.size))\n",
    "    )\n",
    "    for nodepair in itertools.permutations(inodes, 2):\n",
    "        idx, jdx = nodepair\n",
    "        dist = spatial.distance.euclidean(data[idx], data[jdx])\n",
    "        dists.loc[idx, jdx] = dist\n",
    "        dists.loc[jdx, idx] = dist\n",
    "    return dists\n",
    "\n",
    "get_dists(data)"
   ]
  },
  {
   "cell_type": "code",
   "execution_count": 906,
   "id": "13d4e4e1",
   "metadata": {},
   "outputs": [
    {
     "ename": "ValueError",
     "evalue": "cannot reshape array of size 66 into shape (12,12)",
     "output_type": "error",
     "traceback": [
      "\u001b[0;31m---------------------------------------------------------------------------\u001b[0m",
      "\u001b[0;31mValueError\u001b[0m                                Traceback (most recent call last)",
      "\u001b[0;32m/tmp/ipykernel_218231/1217383547.py\u001b[0m in \u001b[0;36m<module>\u001b[0;34m\u001b[0m\n\u001b[0;32m----> 1\u001b[0;31m \u001b[0mpd\u001b[0m\u001b[0;34m.\u001b[0m\u001b[0mDataFrame\u001b[0m\u001b[0;34m(\u001b[0m\u001b[0mspatial\u001b[0m\u001b[0;34m.\u001b[0m\u001b[0mdistance\u001b[0m\u001b[0;34m.\u001b[0m\u001b[0mpdist\u001b[0m\u001b[0;34m(\u001b[0m\u001b[0mdata\u001b[0m\u001b[0;34m)\u001b[0m\u001b[0;34m.\u001b[0m\u001b[0mreshape\u001b[0m\u001b[0;34m(\u001b[0m\u001b[0;34m(\u001b[0m\u001b[0;36m12\u001b[0m\u001b[0;34m,\u001b[0m \u001b[0;36m12\u001b[0m\u001b[0;34m)\u001b[0m\u001b[0;34m)\u001b[0m\u001b[0;34m)\u001b[0m\u001b[0;34m\u001b[0m\u001b[0;34m\u001b[0m\u001b[0m\n\u001b[0m",
      "\u001b[0;31mValueError\u001b[0m: cannot reshape array of size 66 into shape (12,12)"
     ]
    }
   ],
   "source": [
    "pd.DataFrame(spatial.distance.pdist(data).reshape((12, 12)))"
   ]
  },
  {
   "cell_type": "code",
   "execution_count": 897,
   "id": "ef0d387e",
   "metadata": {},
   "outputs": [
    {
     "data": {
      "text/html": [
       "<div>\n",
       "<style scoped>\n",
       "    .dataframe tbody tr th:only-of-type {\n",
       "        vertical-align: middle;\n",
       "    }\n",
       "\n",
       "    .dataframe tbody tr th {\n",
       "        vertical-align: top;\n",
       "    }\n",
       "\n",
       "    .dataframe thead th {\n",
       "        text-align: right;\n",
       "    }\n",
       "</style>\n",
       "<table border=\"1\" class=\"dataframe\">\n",
       "  <thead>\n",
       "    <tr style=\"text-align: right;\">\n",
       "      <th></th>\n",
       "      <th>0</th>\n",
       "      <th>1</th>\n",
       "      <th>2</th>\n",
       "      <th>3</th>\n",
       "      <th>4</th>\n",
       "      <th>5</th>\n",
       "      <th>6</th>\n",
       "      <th>7</th>\n",
       "      <th>8</th>\n",
       "      <th>9</th>\n",
       "      <th>10</th>\n",
       "      <th>11</th>\n",
       "    </tr>\n",
       "  </thead>\n",
       "  <tbody>\n",
       "    <tr>\n",
       "      <th>0</th>\n",
       "      <td>0.000000</td>\n",
       "      <td>3.914946</td>\n",
       "      <td>3.823035</td>\n",
       "      <td>3.952798</td>\n",
       "      <td>4.099893</td>\n",
       "      <td>3.957209</td>\n",
       "      <td>4.287529</td>\n",
       "      <td>3.693678</td>\n",
       "      <td>3.858674</td>\n",
       "      <td>4.237745</td>\n",
       "      <td>4.148846</td>\n",
       "      <td>3.698862</td>\n",
       "    </tr>\n",
       "    <tr>\n",
       "      <th>1</th>\n",
       "      <td>3.914946</td>\n",
       "      <td>0.000000</td>\n",
       "      <td>4.065849</td>\n",
       "      <td>3.993010</td>\n",
       "      <td>4.020485</td>\n",
       "      <td>4.054557</td>\n",
       "      <td>3.870806</td>\n",
       "      <td>3.685811</td>\n",
       "      <td>4.230834</td>\n",
       "      <td>4.285363</td>\n",
       "      <td>4.132870</td>\n",
       "      <td>3.782072</td>\n",
       "    </tr>\n",
       "    <tr>\n",
       "      <th>2</th>\n",
       "      <td>3.823035</td>\n",
       "      <td>4.065849</td>\n",
       "      <td>0.000000</td>\n",
       "      <td>3.510816</td>\n",
       "      <td>3.936411</td>\n",
       "      <td>4.341587</td>\n",
       "      <td>3.850035</td>\n",
       "      <td>4.273745</td>\n",
       "      <td>4.464539</td>\n",
       "      <td>4.204185</td>\n",
       "      <td>4.318858</td>\n",
       "      <td>4.272709</td>\n",
       "    </tr>\n",
       "    <tr>\n",
       "      <th>3</th>\n",
       "      <td>3.952798</td>\n",
       "      <td>3.993010</td>\n",
       "      <td>3.510816</td>\n",
       "      <td>0.000000</td>\n",
       "      <td>3.981539</td>\n",
       "      <td>4.003773</td>\n",
       "      <td>3.738442</td>\n",
       "      <td>4.150602</td>\n",
       "      <td>4.232703</td>\n",
       "      <td>4.011841</td>\n",
       "      <td>4.285345</td>\n",
       "      <td>4.275904</td>\n",
       "    </tr>\n",
       "    <tr>\n",
       "      <th>4</th>\n",
       "      <td>4.099893</td>\n",
       "      <td>4.020485</td>\n",
       "      <td>3.936411</td>\n",
       "      <td>3.981539</td>\n",
       "      <td>0.000000</td>\n",
       "      <td>4.056961</td>\n",
       "      <td>4.387059</td>\n",
       "      <td>4.139193</td>\n",
       "      <td>3.591302</td>\n",
       "      <td>3.767324</td>\n",
       "      <td>4.214476</td>\n",
       "      <td>4.026940</td>\n",
       "    </tr>\n",
       "    <tr>\n",
       "      <th>5</th>\n",
       "      <td>3.957209</td>\n",
       "      <td>4.054557</td>\n",
       "      <td>4.341587</td>\n",
       "      <td>4.003773</td>\n",
       "      <td>4.056961</td>\n",
       "      <td>0.000000</td>\n",
       "      <td>4.017064</td>\n",
       "      <td>4.000034</td>\n",
       "      <td>3.562669</td>\n",
       "      <td>3.561201</td>\n",
       "      <td>3.668877</td>\n",
       "      <td>3.667010</td>\n",
       "    </tr>\n",
       "    <tr>\n",
       "      <th>6</th>\n",
       "      <td>4.287529</td>\n",
       "      <td>3.870806</td>\n",
       "      <td>3.850035</td>\n",
       "      <td>3.738442</td>\n",
       "      <td>4.387059</td>\n",
       "      <td>4.017064</td>\n",
       "      <td>0.000000</td>\n",
       "      <td>3.934110</td>\n",
       "      <td>4.126978</td>\n",
       "      <td>4.077326</td>\n",
       "      <td>4.267429</td>\n",
       "      <td>3.810192</td>\n",
       "    </tr>\n",
       "    <tr>\n",
       "      <th>7</th>\n",
       "      <td>3.693678</td>\n",
       "      <td>3.685811</td>\n",
       "      <td>4.273745</td>\n",
       "      <td>4.150602</td>\n",
       "      <td>4.139193</td>\n",
       "      <td>4.000034</td>\n",
       "      <td>3.934110</td>\n",
       "      <td>0.000000</td>\n",
       "      <td>4.121591</td>\n",
       "      <td>3.801639</td>\n",
       "      <td>4.166230</td>\n",
       "      <td>3.952243</td>\n",
       "    </tr>\n",
       "    <tr>\n",
       "      <th>8</th>\n",
       "      <td>3.858674</td>\n",
       "      <td>4.230834</td>\n",
       "      <td>4.464539</td>\n",
       "      <td>4.232703</td>\n",
       "      <td>3.591302</td>\n",
       "      <td>3.562669</td>\n",
       "      <td>4.126978</td>\n",
       "      <td>4.121591</td>\n",
       "      <td>0.000000</td>\n",
       "      <td>3.927111</td>\n",
       "      <td>4.014552</td>\n",
       "      <td>3.760305</td>\n",
       "    </tr>\n",
       "    <tr>\n",
       "      <th>9</th>\n",
       "      <td>4.237745</td>\n",
       "      <td>4.285363</td>\n",
       "      <td>4.204185</td>\n",
       "      <td>4.011841</td>\n",
       "      <td>3.767324</td>\n",
       "      <td>3.561201</td>\n",
       "      <td>4.077326</td>\n",
       "      <td>3.801639</td>\n",
       "      <td>3.927111</td>\n",
       "      <td>0.000000</td>\n",
       "      <td>3.977265</td>\n",
       "      <td>3.749600</td>\n",
       "    </tr>\n",
       "    <tr>\n",
       "      <th>10</th>\n",
       "      <td>4.148846</td>\n",
       "      <td>4.132870</td>\n",
       "      <td>4.318858</td>\n",
       "      <td>4.285345</td>\n",
       "      <td>4.214476</td>\n",
       "      <td>3.668877</td>\n",
       "      <td>4.267429</td>\n",
       "      <td>4.166230</td>\n",
       "      <td>4.014552</td>\n",
       "      <td>3.977265</td>\n",
       "      <td>0.000000</td>\n",
       "      <td>4.143842</td>\n",
       "    </tr>\n",
       "    <tr>\n",
       "      <th>11</th>\n",
       "      <td>3.698862</td>\n",
       "      <td>3.782072</td>\n",
       "      <td>4.272709</td>\n",
       "      <td>4.275904</td>\n",
       "      <td>4.026940</td>\n",
       "      <td>3.667010</td>\n",
       "      <td>3.810192</td>\n",
       "      <td>3.952243</td>\n",
       "      <td>3.760305</td>\n",
       "      <td>3.749600</td>\n",
       "      <td>4.143842</td>\n",
       "      <td>0.000000</td>\n",
       "    </tr>\n",
       "  </tbody>\n",
       "</table>\n",
       "</div>"
      ],
      "text/plain": [
       "          0         1         2         3         4         5         6   \\\n",
       "0   0.000000  3.914946  3.823035  3.952798  4.099893  3.957209  4.287529   \n",
       "1   3.914946  0.000000  4.065849  3.993010  4.020485  4.054557  3.870806   \n",
       "2   3.823035  4.065849  0.000000  3.510816  3.936411  4.341587  3.850035   \n",
       "3   3.952798  3.993010  3.510816  0.000000  3.981539  4.003773  3.738442   \n",
       "4   4.099893  4.020485  3.936411  3.981539  0.000000  4.056961  4.387059   \n",
       "5   3.957209  4.054557  4.341587  4.003773  4.056961  0.000000  4.017064   \n",
       "6   4.287529  3.870806  3.850035  3.738442  4.387059  4.017064  0.000000   \n",
       "7   3.693678  3.685811  4.273745  4.150602  4.139193  4.000034  3.934110   \n",
       "8   3.858674  4.230834  4.464539  4.232703  3.591302  3.562669  4.126978   \n",
       "9   4.237745  4.285363  4.204185  4.011841  3.767324  3.561201  4.077326   \n",
       "10  4.148846  4.132870  4.318858  4.285345  4.214476  3.668877  4.267429   \n",
       "11  3.698862  3.782072  4.272709  4.275904  4.026940  3.667010  3.810192   \n",
       "\n",
       "          7         8         9         10        11  \n",
       "0   3.693678  3.858674  4.237745  4.148846  3.698862  \n",
       "1   3.685811  4.230834  4.285363  4.132870  3.782072  \n",
       "2   4.273745  4.464539  4.204185  4.318858  4.272709  \n",
       "3   4.150602  4.232703  4.011841  4.285345  4.275904  \n",
       "4   4.139193  3.591302  3.767324  4.214476  4.026940  \n",
       "5   4.000034  3.562669  3.561201  3.668877  3.667010  \n",
       "6   3.934110  4.126978  4.077326  4.267429  3.810192  \n",
       "7   0.000000  4.121591  3.801639  4.166230  3.952243  \n",
       "8   4.121591  0.000000  3.927111  4.014552  3.760305  \n",
       "9   3.801639  3.927111  0.000000  3.977265  3.749600  \n",
       "10  4.166230  4.014552  3.977265  0.000000  4.143842  \n",
       "11  3.952243  3.760305  3.749600  4.143842  0.000000  "
      ]
     },
     "execution_count": 897,
     "metadata": {},
     "output_type": "execute_result"
    }
   ],
   "source": [
    "pd.DataFrame(spatial.distance_matrix(data, data))"
   ]
  },
  {
   "cell_type": "code",
   "execution_count": 891,
   "id": "fe15ee41",
   "metadata": {},
   "outputs": [
    {
     "name": "stdout",
     "output_type": "stream",
     "text": [
      "[[ 2.          3.          3.51081575  2.        ]\n",
      " [ 5.          9.          3.56120079  2.        ]\n",
      " [ 4.          8.          3.59130185  2.        ]\n",
      " [ 1.          7.          3.68581141  2.        ]\n",
      " [ 0.         11.          3.69886156  2.        ]\n",
      " [ 6.         12.          3.79423872  3.        ]\n",
      " [10.         13.          3.82307115  3.        ]\n",
      " [15.         16.          3.83573484  4.        ]\n",
      " [14.         18.          3.92384881  5.        ]\n",
      " [19.         20.          4.03014302  9.        ]\n",
      " [17.         21.          4.12470093 12.        ]]\n"
     ]
    }
   ],
   "source": [
    "\timport toytree\n",
    "\timport numpy as np\n",
    "\tfrom scipy import spatial, cluster\n",
    "\n",
    "\t# generate 100 random data points for 12 things\n",
    "\trng = np.random.default_rng(123)\n",
    "\tdata = rng.random(size=(12, 100))\n",
    "\n",
    "\t# calculate a measure of distance between samples\n",
    "\tdists = spatial.distance.pdist(data)\n",
    "    \n",
    "\t# infer a tree by clustering samples by avg distance\n",
    "\tclusters = cluster.hierarchy.average(dists)#, method=\"average\")\n",
    "print(clusters)"
   ]
  },
  {
   "cell_type": "code",
   "execution_count": 815,
   "id": "0f756804",
   "metadata": {},
   "outputs": [
    {
     "data": {
      "text/html": [
       "<div class=\"toyplot\" id=\"te6cc2187e4a2430fbe92ca9745e8a9ae\" style=\"text-align:center\"><svg class=\"toyplot-canvas-Canvas\" xmlns:toyplot=\"http://www.sandia.gov/toyplot\" xmlns:xlink=\"http://www.w3.org/1999/xlink\" xmlns=\"http://www.w3.org/2000/svg\" width=\"500.0px\" height=\"500.0px\" viewBox=\"0 0 500.0 500.0\" preserveAspectRatio=\"xMidYMid meet\" style=\"background-color:transparent;border-color:#292724;border-style:none;border-width:1.0;fill:rgb(16.1%,15.3%,14.1%);fill-opacity:1.0;font-family:Helvetica;font-size:12px;opacity:1.0;stroke:rgb(16.1%,15.3%,14.1%);stroke-opacity:1.0;stroke-width:1.0\" id=\"td9bfc3398c0342eca145a0165693cc71\"><g class=\"toyplot-coordinates-Cartesian\" id=\"tdae6bd84c8ad4d6aaee94dfa326ca1db\"><clipPath id=\"tfddb117021624b32ab0ed8f9187d466d\"><rect x=\"40.0\" y=\"165.00000000000003\" width=\"120.0\" height=\"295.0\"></rect></clipPath><g clip-path=\"url(#tfddb117021624b32ab0ed8f9187d466d)\"><g class=\"toytree-mark-Toytree\" id=\"t2b134a69ef6444a7886143ce899df974\"><g class=\"toytree-Edges\" style=\"fill:none;stroke:rgba(16.1%,15.3%,14.1%,1.000);stroke-linecap:round;stroke-width:2.0\"><path d=\"M 83.3 435.3 L 83.3 450.0 L 150.0 450.0\" id=\"22,0\" style=\"stroke-width:nan\"></path><path d=\"M 100.0 420.5 L 100.0 430.4 L 150.0 430.4\" id=\"18,1\" style=\"stroke-width:nan\"></path><path d=\"M 100.0 420.5 L 100.0 410.7 L 150.0 410.7\" id=\"18,2\" style=\"stroke-width:nan\"></path><path d=\"M 100.0 381.2 L 100.0 391.1 L 150.0 391.1\" id=\"19,3\" style=\"stroke-width:nan\"></path><path d=\"M 100.0 381.2 L 100.0 371.4 L 150.0 371.4\" id=\"19,4\" style=\"stroke-width:nan\"></path><path d=\"M 100.0 342.0 L 100.0 351.8 L 150.0 351.8\" id=\"20,5\" style=\"stroke-width:nan\"></path><path d=\"M 100.0 342.0 L 100.0 332.1 L 150.0 332.1\" id=\"20,6\" style=\"stroke-width:nan\"></path><path d=\"M 83.3 302.7 L 83.3 312.5 L 150.0 312.5\" id=\"24,7\" style=\"stroke-width:nan\"></path><path d=\"M 83.3 302.7 L 83.3 292.9 L 150.0 292.9\" id=\"24,8\" style=\"stroke-width:nan\"></path><path d=\"M 83.3 242.5 L 83.3 273.2 L 150.0 273.2\" id=\"25,9\" style=\"stroke-width:nan\"></path><path d=\"M 116.7 238.8 L 116.7 253.6 L 150.0 253.6\" id=\"16,10\" style=\"stroke-width:nan\"></path><path d=\"M 133.3 224.1 L 133.3 233.9 L 150.0 233.9\" id=\"15,11\" style=\"stroke-width:nan\"></path><path d=\"M 133.3 224.1 L 133.3 214.3 L 150.0 214.3\" id=\"15,12\" style=\"stroke-width:nan\"></path><path d=\"M 116.7 184.8 L 116.7 194.6 L 150.0 194.6\" id=\"17,13\" style=\"stroke-width:nan\"></path><path d=\"M 116.7 184.8 L 116.7 175.0 L 150.0 175.0\" id=\"17,14\" style=\"stroke-width:nan\"></path><path d=\"M 116.7 238.8 L 116.7 224.1 L 133.3 224.1\" id=\"16,15\" style=\"stroke-width:nan\"></path><path d=\"M 100.0 211.8 L 100.0 238.8 L 116.7 238.8\" id=\"21,16\" style=\"stroke-width:nan\"></path><path d=\"M 100.0 211.8 L 100.0 184.8 L 116.7 184.8\" id=\"21,17\" style=\"stroke-width:nan\"></path><path d=\"M 83.3 435.3 L 83.3 420.5 L 100.0 420.5\" id=\"22,18\" style=\"stroke-width:nan\"></path><path d=\"M 83.3 361.6 L 83.3 381.2 L 100.0 381.2\" id=\"23,19\" style=\"stroke-width:nan\"></path><path d=\"M 83.3 361.6 L 83.3 342.0 L 100.0 342.0\" id=\"23,20\" style=\"stroke-width:nan\"></path><path d=\"M 83.3 242.5 L 83.3 211.8 L 100.0 211.8\" id=\"25,21\" style=\"stroke-width:nan\"></path><path d=\"M 66.7 398.4 L 66.7 435.3 L 83.3 435.3\" id=\"26,22\" style=\"stroke-width:nan\"></path><path d=\"M 66.7 398.4 L 66.7 361.6 L 83.3 361.6\" id=\"26,23\" style=\"stroke-width:nan\"></path><path d=\"M 66.7 272.6 L 66.7 302.7 L 83.3 302.7\" id=\"27,24\" style=\"stroke-width:nan\"></path><path d=\"M 66.7 272.6 L 66.7 242.5 L 83.3 242.5\" id=\"27,25\" style=\"stroke-width:nan\"></path><path d=\"M 50.0 335.5 L 50.0 398.4 L 66.7 398.4\" id=\"28,26\" style=\"stroke-width:nan\"></path><path d=\"M 50.0 335.5 L 50.0 272.6 L 66.7 272.6\" id=\"28,27\" style=\"stroke-width:nan\"></path></g><g class=\"toytree-AlignEdges\" style=\"stroke:rgba(66.3%,66.3%,66.3%,1.000);stroke-dasharray:2,4;stroke-linecap:round;stroke-opacity:0.75;stroke-width:2\"><path d=\"M 150.0 450.0 L 150.0 450.0\"></path><path d=\"M 150.0 430.4 L 150.0 430.4\"></path><path d=\"M 150.0 410.7 L 150.0 410.7\"></path><path d=\"M 150.0 391.1 L 150.0 391.1\"></path><path d=\"M 150.0 371.4 L 150.0 371.4\"></path><path d=\"M 150.0 351.8 L 150.0 351.8\"></path><path d=\"M 150.0 332.1 L 150.0 332.1\"></path><path d=\"M 150.0 312.5 L 150.0 312.5\"></path><path d=\"M 150.0 292.9 L 150.0 292.9\"></path><path d=\"M 150.0 273.2 L 150.0 273.2\"></path><path d=\"M 150.0 253.6 L 150.0 253.6\"></path><path d=\"M 150.0 233.9 L 150.0 233.9\"></path><path d=\"M 150.0 214.3 L 150.0 214.3\"></path><path d=\"M 150.0 194.6 L 150.0 194.6\"></path><path d=\"M 150.0 175.0 L 150.0 175.0\"></path></g></g></g></g><g class=\"toyplot-coordinates-Cartesian\" id=\"tee8e37da6d62431db9ca1d62a854d7e0\"><clipPath id=\"td96bbba9b9c441cfb73a33486fae7202\"><rect x=\"165.00000000000003\" y=\"40.0\" width=\"295.0\" height=\"120.0\"></rect></clipPath><g clip-path=\"url(#td96bbba9b9c441cfb73a33486fae7202)\"><g class=\"toytree-mark-Toytree\" id=\"t69b4c03c968f4e4c9425af857cfd47ea\"><g class=\"toytree-Edges\" style=\"fill:none;stroke:rgba(16.1%,15.3%,14.1%,1.000);stroke-linecap:round;stroke-width:2.0\"><path d=\"M 435.3 83.3 L 450.0 83.3 L 450.0 150.0\" id=\"22,0\" style=\"stroke-width:nan\"></path><path d=\"M 420.5 100.0 L 430.4 100.0 L 430.4 150.0\" id=\"18,1\" style=\"stroke-width:nan\"></path><path d=\"M 420.5 100.0 L 410.7 100.0 L 410.7 150.0\" id=\"18,2\" style=\"stroke-width:nan\"></path><path d=\"M 381.2 100.0 L 391.1 100.0 L 391.1 150.0\" id=\"19,3\" style=\"stroke-width:nan\"></path><path d=\"M 381.2 100.0 L 371.4 100.0 L 371.4 150.0\" id=\"19,4\" style=\"stroke-width:nan\"></path><path d=\"M 342.0 100.0 L 351.8 100.0 L 351.8 150.0\" id=\"20,5\" style=\"stroke-width:nan\"></path><path d=\"M 342.0 100.0 L 332.1 100.0 L 332.1 150.0\" id=\"20,6\" style=\"stroke-width:nan\"></path><path d=\"M 302.7 83.3 L 312.5 83.3 L 312.5 150.0\" id=\"24,7\" style=\"stroke-width:nan\"></path><path d=\"M 302.7 83.3 L 292.9 83.3 L 292.9 150.0\" id=\"24,8\" style=\"stroke-width:nan\"></path><path d=\"M 242.5 83.3 L 273.2 83.3 L 273.2 150.0\" id=\"25,9\" style=\"stroke-width:nan\"></path><path d=\"M 238.8 116.7 L 253.6 116.7 L 253.6 150.0\" id=\"16,10\" style=\"stroke-width:nan\"></path><path d=\"M 224.1 133.3 L 233.9 133.3 L 233.9 150.0\" id=\"15,11\" style=\"stroke-width:nan\"></path><path d=\"M 224.1 133.3 L 214.3 133.3 L 214.3 150.0\" id=\"15,12\" style=\"stroke-width:nan\"></path><path d=\"M 184.8 116.7 L 194.6 116.7 L 194.6 150.0\" id=\"17,13\" style=\"stroke-width:nan\"></path><path d=\"M 184.8 116.7 L 175.0 116.7 L 175.0 150.0\" id=\"17,14\" style=\"stroke-width:nan\"></path><path d=\"M 238.8 116.7 L 224.1 116.7 L 224.1 133.3\" id=\"16,15\" style=\"stroke-width:nan\"></path><path d=\"M 211.8 100.0 L 238.8 100.0 L 238.8 116.7\" id=\"21,16\" style=\"stroke-width:nan\"></path><path d=\"M 211.8 100.0 L 184.8 100.0 L 184.8 116.7\" id=\"21,17\" style=\"stroke-width:nan\"></path><path d=\"M 435.3 83.3 L 420.5 83.3 L 420.5 100.0\" id=\"22,18\" style=\"stroke-width:nan\"></path><path d=\"M 361.6 83.3 L 381.2 83.3 L 381.2 100.0\" id=\"23,19\" style=\"stroke-width:nan\"></path><path d=\"M 361.6 83.3 L 342.0 83.3 L 342.0 100.0\" id=\"23,20\" style=\"stroke-width:nan\"></path><path d=\"M 242.5 83.3 L 211.8 83.3 L 211.8 100.0\" id=\"25,21\" style=\"stroke-width:nan\"></path><path d=\"M 398.4 66.7 L 435.3 66.7 L 435.3 83.3\" id=\"26,22\" style=\"stroke-width:nan\"></path><path d=\"M 398.4 66.7 L 361.6 66.7 L 361.6 83.3\" id=\"26,23\" style=\"stroke-width:nan\"></path><path d=\"M 272.6 66.7 L 302.7 66.7 L 302.7 83.3\" id=\"27,24\" style=\"stroke-width:nan\"></path><path d=\"M 272.6 66.7 L 242.5 66.7 L 242.5 83.3\" id=\"27,25\" style=\"stroke-width:nan\"></path><path d=\"M 335.5 50.0 L 398.4 50.0 L 398.4 66.7\" id=\"28,26\" style=\"stroke-width:nan\"></path><path d=\"M 335.5 50.0 L 272.6 50.0 L 272.6 66.7\" id=\"28,27\" style=\"stroke-width:nan\"></path></g><g class=\"toytree-AlignEdges\" style=\"stroke:rgba(66.3%,66.3%,66.3%,1.000);stroke-dasharray:2,4;stroke-linecap:round;stroke-opacity:0.75;stroke-width:2\"><path d=\"M 450.0 150.0 L 450.0 150.0\"></path><path d=\"M 430.4 150.0 L 430.4 150.0\"></path><path d=\"M 410.7 150.0 L 410.7 150.0\"></path><path d=\"M 391.1 150.0 L 391.1 150.0\"></path><path d=\"M 371.4 150.0 L 371.4 150.0\"></path><path d=\"M 351.8 150.0 L 351.8 150.0\"></path><path d=\"M 332.1 150.0 L 332.1 150.0\"></path><path d=\"M 312.5 150.0 L 312.5 150.0\"></path><path d=\"M 292.9 150.0 L 292.9 150.0\"></path><path d=\"M 273.2 150.0 L 273.2 150.0\"></path><path d=\"M 253.6 150.0 L 253.6 150.0\"></path><path d=\"M 233.9 150.0 L 233.9 150.0\"></path><path d=\"M 214.3 150.0 L 214.3 150.0\"></path><path d=\"M 194.6 150.0 L 194.6 150.0\"></path><path d=\"M 175.0 150.0 L 175.0 150.0\"></path></g></g></g></g><g class=\"toyplot-coordinates-Cartesian\" id=\"tdfd6faa88a8f4ad091c55ae948bf3380\"><clipPath id=\"t483acae23fa04d67a847d02f84414dd7\"><rect x=\"440.0\" y=\"155.83333333333334\" width=\"70.0\" height=\"313.33333333333337\"></rect></clipPath><g clip-path=\"url(#t483acae23fa04d67a847d02f84414dd7)\"><g class=\"toyplot-mark-Text\" id=\"t4105b4c0c3a04a138f30cd4e8f0dcd26\"><g class=\"toyplot-Series\"><g class=\"toyplot-Datum\" transform=\"translate(465.17948219750326,452.3035817446563)\"><text x=\"0\" y=\"3.066\" style=\"fill:rgb(0%,0%,0%);fill-opacity:1.0;font-family:helvetica;font-size:12.0px;font-weight:normal;opacity:1;stroke:none;vertical-align:baseline;white-space:pre\">hello world</text></g><g class=\"toyplot-Datum\" transform=\"translate(465.17948219750326,432.3316414954197)\"><text x=\"0\" y=\"3.066\" style=\"fill:rgb(0%,0%,0%);fill-opacity:1.0;font-family:helvetica;font-size:12.0px;font-weight:normal;opacity:1;stroke:none;vertical-align:baseline;white-space:pre\">r1</text></g><g class=\"toyplot-Datum\" transform=\"translate(465.17948219750326,412.3597012461831)\"><text x=\"0\" y=\"3.066\" style=\"fill:rgb(0%,0%,0%);fill-opacity:1.0;font-family:helvetica;font-size:12.0px;font-weight:normal;opacity:1;stroke:none;vertical-align:baseline;white-space:pre\">r2</text></g><g class=\"toyplot-Datum\" transform=\"translate(465.17948219750326,392.38776099694644)\"><text x=\"0\" y=\"3.066\" style=\"fill:rgb(0%,0%,0%);fill-opacity:1.0;font-family:helvetica;font-size:12.0px;font-weight:normal;opacity:1;stroke:none;vertical-align:baseline;white-space:pre\">r3</text></g><g class=\"toyplot-Datum\" transform=\"translate(465.17948219750326,372.4158207477098)\"><text x=\"0\" y=\"3.066\" style=\"fill:rgb(0%,0%,0%);fill-opacity:1.0;font-family:helvetica;font-size:12.0px;font-weight:normal;opacity:1;stroke:none;vertical-align:baseline;white-space:pre\">r4</text></g><g class=\"toyplot-Datum\" transform=\"translate(465.17948219750326,352.4438804984732)\"><text x=\"0\" y=\"3.066\" style=\"fill:rgb(0%,0%,0%);fill-opacity:1.0;font-family:helvetica;font-size:12.0px;font-weight:normal;opacity:1;stroke:none;vertical-align:baseline;white-space:pre\">r5</text></g><g class=\"toyplot-Datum\" transform=\"translate(465.17948219750326,332.47194024923664)\"><text x=\"0\" y=\"3.066\" style=\"fill:rgb(0%,0%,0%);fill-opacity:1.0;font-family:helvetica;font-size:12.0px;font-weight:normal;opacity:1;stroke:none;vertical-align:baseline;white-space:pre\">r6</text></g><g class=\"toyplot-Datum\" transform=\"translate(465.17948219750326,312.5)\"><text x=\"0\" y=\"3.066\" style=\"fill:rgb(0%,0%,0%);fill-opacity:1.0;font-family:helvetica;font-size:12.0px;font-weight:normal;opacity:1;stroke:none;vertical-align:baseline;white-space:pre\">r7</text></g><g class=\"toyplot-Datum\" transform=\"translate(465.17948219750326,292.52805975076336)\"><text x=\"0\" y=\"3.066\" style=\"fill:rgb(0%,0%,0%);fill-opacity:1.0;font-family:helvetica;font-size:12.0px;font-weight:normal;opacity:1;stroke:none;vertical-align:baseline;white-space:pre\">r8</text></g><g class=\"toyplot-Datum\" transform=\"translate(465.17948219750326,272.5561195015267)\"><text x=\"0\" y=\"3.066\" style=\"fill:rgb(0%,0%,0%);fill-opacity:1.0;font-family:helvetica;font-size:12.0px;font-weight:normal;opacity:1;stroke:none;vertical-align:baseline;white-space:pre\">r9</text></g><g class=\"toyplot-Datum\" transform=\"translate(465.17948219750326,252.5841792522901)\"><text x=\"0\" y=\"3.066\" style=\"fill:rgb(0%,0%,0%);fill-opacity:1.0;font-family:helvetica;font-size:12.0px;font-weight:normal;opacity:1;stroke:none;vertical-align:baseline;white-space:pre\">r10</text></g><g class=\"toyplot-Datum\" transform=\"translate(465.17948219750326,232.6122390030535)\"><text x=\"0\" y=\"3.066\" style=\"fill:rgb(0%,0%,0%);fill-opacity:1.0;font-family:helvetica;font-size:12.0px;font-weight:normal;opacity:1;stroke:none;vertical-align:baseline;white-space:pre\">r11</text></g><g class=\"toyplot-Datum\" transform=\"translate(465.17948219750326,212.64029875381686)\"><text x=\"0\" y=\"3.066\" style=\"fill:rgb(0%,0%,0%);fill-opacity:1.0;font-family:helvetica;font-size:12.0px;font-weight:normal;opacity:1;stroke:none;vertical-align:baseline;white-space:pre\">r12</text></g><g class=\"toyplot-Datum\" transform=\"translate(465.17948219750326,192.66835850458025)\"><text x=\"0\" y=\"3.066\" style=\"fill:rgb(0%,0%,0%);fill-opacity:1.0;font-family:helvetica;font-size:12.0px;font-weight:normal;opacity:1;stroke:none;vertical-align:baseline;white-space:pre\">r13</text></g><g class=\"toyplot-Datum\" transform=\"translate(465.17948219750326,172.69641825534364)\"><text x=\"0\" y=\"3.066\" style=\"fill:rgb(0%,0%,0%);fill-opacity:1.0;font-family:helvetica;font-size:12.0px;font-weight:normal;opacity:1;stroke:none;vertical-align:baseline;white-space:pre\">r14</text></g></g></g></g></g><g class=\"toyplot-coordinates-Table\" id=\"tda1aa10888974651ba3b144fa85dd8bc\"><rect x=\"165.83333333333334\" y=\"165.83333333333334\" width=\"18.622222222222234\" height=\"18.622222222222234\" style=\"fill:rgb(2%,18.8%,38%);fill-opacity:1.0;stroke:none\"></rect><rect x=\"185.45555555555558\" y=\"165.83333333333334\" width=\"18.622222222222206\" height=\"18.622222222222234\" style=\"fill:rgb(2.5%,19.8%,39.4%);fill-opacity:1.0;stroke:none\"></rect><rect x=\"205.07777777777778\" y=\"165.83333333333334\" width=\"18.622222222222234\" height=\"18.622222222222234\" style=\"fill:rgb(2.9%,20.7%,40.7%);fill-opacity:1.0;stroke:none\"></rect><rect x=\"224.70000000000002\" y=\"165.83333333333334\" width=\"18.622222222222234\" height=\"18.622222222222234\" style=\"fill:rgb(3.4%,21.7%,42%);fill-opacity:1.0;stroke:none\"></rect><rect x=\"244.32222222222225\" y=\"165.83333333333334\" width=\"18.622222222222206\" height=\"18.622222222222234\" style=\"fill:rgb(3.9%,22.6%,43.3%);fill-opacity:1.0;stroke:none\"></rect><rect x=\"263.94444444444446\" y=\"165.83333333333334\" width=\"18.622222222222206\" height=\"18.622222222222234\" style=\"fill:rgb(4.4%,23.6%,44.6%);fill-opacity:1.0;stroke:none\"></rect><rect x=\"283.56666666666666\" y=\"165.83333333333334\" width=\"18.622222222222206\" height=\"18.622222222222234\" style=\"fill:rgb(4.9%,24.5%,45.9%);fill-opacity:1.0;stroke:none\"></rect><rect x=\"303.18888888888887\" y=\"165.83333333333334\" width=\"18.622222222222263\" height=\"18.622222222222234\" style=\"fill:rgb(5.4%,25.4%,47.2%);fill-opacity:1.0;stroke:none\"></rect><rect x=\"322.81111111111113\" y=\"165.83333333333334\" width=\"18.622222222222263\" height=\"18.622222222222234\" style=\"fill:rgb(5.9%,26.4%,48.5%);fill-opacity:1.0;stroke:none\"></rect><rect x=\"342.4333333333334\" y=\"165.83333333333334\" width=\"18.622222222222206\" height=\"18.622222222222234\" style=\"fill:rgb(6.4%,27.3%,49.9%);fill-opacity:1.0;stroke:none\"></rect><rect x=\"362.0555555555556\" y=\"165.83333333333334\" width=\"18.622222222222206\" height=\"18.622222222222234\" style=\"fill:rgb(6.9%,28.3%,51.2%);fill-opacity:1.0;stroke:none\"></rect><rect x=\"381.6777777777778\" y=\"165.83333333333334\" width=\"18.622222222222263\" height=\"18.622222222222234\" style=\"fill:rgb(7.4%,29.2%,52.5%);fill-opacity:1.0;stroke:none\"></rect><rect x=\"401.30000000000007\" y=\"165.83333333333334\" width=\"18.622222222222263\" height=\"18.622222222222234\" style=\"fill:rgb(7.8%,30.2%,53.8%);fill-opacity:1.0;stroke:none\"></rect><rect x=\"420.92222222222233\" y=\"165.83333333333334\" width=\"18.62222222222215\" height=\"18.622222222222234\" style=\"fill:rgb(8.3%,31.1%,55.1%);fill-opacity:1.0;stroke:none\"></rect><rect x=\"440.5444444444445\" y=\"165.83333333333334\" width=\"18.622222222222263\" height=\"18.622222222222234\" style=\"fill:rgb(8.8%,32.1%,56.4%);fill-opacity:1.0;stroke:none\"></rect><rect x=\"165.83333333333334\" y=\"185.45555555555558\" width=\"18.622222222222234\" height=\"18.622222222222206\" style=\"fill:rgb(9.3%,33%,57.7%);fill-opacity:1.0;stroke:none\"></rect><rect x=\"185.45555555555558\" y=\"185.45555555555558\" width=\"18.622222222222206\" height=\"18.622222222222206\" style=\"fill:rgb(9.8%,33.9%,59%);fill-opacity:1.0;stroke:none\"></rect><rect x=\"205.07777777777778\" y=\"185.45555555555558\" width=\"18.622222222222234\" height=\"18.622222222222206\" style=\"fill:rgb(10.3%,34.9%,60.4%);fill-opacity:1.0;stroke:none\"></rect><rect x=\"224.70000000000002\" y=\"185.45555555555558\" width=\"18.622222222222234\" height=\"18.622222222222206\" style=\"fill:rgb(10.8%,35.8%,61.7%);fill-opacity:1.0;stroke:none\"></rect><rect x=\"244.32222222222225\" y=\"185.45555555555558\" width=\"18.622222222222206\" height=\"18.622222222222206\" style=\"fill:rgb(11.3%,36.8%,63%);fill-opacity:1.0;stroke:none\"></rect><rect x=\"263.94444444444446\" y=\"185.45555555555558\" width=\"18.622222222222206\" height=\"18.622222222222206\" style=\"fill:rgb(11.8%,37.7%,64.3%);fill-opacity:1.0;stroke:none\"></rect><rect x=\"283.56666666666666\" y=\"185.45555555555558\" width=\"18.622222222222206\" height=\"18.622222222222206\" style=\"fill:rgb(12.3%,38.7%,65.6%);fill-opacity:1.0;stroke:none\"></rect><rect x=\"303.18888888888887\" y=\"185.45555555555558\" width=\"18.622222222222263\" height=\"18.622222222222206\" style=\"fill:rgb(12.7%,39.6%,66.9%);fill-opacity:1.0;stroke:none\"></rect><rect x=\"322.81111111111113\" y=\"185.45555555555558\" width=\"18.622222222222263\" height=\"18.622222222222206\" style=\"fill:rgb(13.3%,40.5%,67.7%);fill-opacity:1.0;stroke:none\"></rect><rect x=\"342.4333333333334\" y=\"185.45555555555558\" width=\"18.622222222222206\" height=\"18.622222222222206\" style=\"fill:rgb(13.9%,41.3%,68.1%);fill-opacity:1.0;stroke:none\"></rect><rect x=\"362.0555555555556\" y=\"185.45555555555558\" width=\"18.622222222222206\" height=\"18.622222222222206\" style=\"fill:rgb(14.5%,42%,68.5%);fill-opacity:1.0;stroke:none\"></rect><rect x=\"381.6777777777778\" y=\"185.45555555555558\" width=\"18.622222222222263\" height=\"18.622222222222206\" style=\"fill:rgb(15.1%,42.8%,68.9%);fill-opacity:1.0;stroke:none\"></rect><rect x=\"401.30000000000007\" y=\"185.45555555555558\" width=\"18.622222222222263\" height=\"18.622222222222206\" style=\"fill:rgb(15.7%,43.6%,69.3%);fill-opacity:1.0;stroke:none\"></rect><rect x=\"420.92222222222233\" y=\"185.45555555555558\" width=\"18.62222222222215\" height=\"18.622222222222206\" style=\"fill:rgb(16.3%,44.4%,69.7%);fill-opacity:1.0;stroke:none\"></rect><rect x=\"440.5444444444445\" y=\"185.45555555555558\" width=\"18.622222222222263\" height=\"18.622222222222206\" style=\"fill:rgb(16.9%,45.2%,70.1%);fill-opacity:1.0;stroke:none\"></rect><rect x=\"165.83333333333334\" y=\"205.07777777777778\" width=\"18.622222222222234\" height=\"18.622222222222234\" style=\"fill:rgb(17.5%,46%,70.5%);fill-opacity:1.0;stroke:none\"></rect><rect x=\"185.45555555555558\" y=\"205.07777777777778\" width=\"18.622222222222206\" height=\"18.622222222222234\" style=\"fill:rgb(18.1%,46.8%,70.9%);fill-opacity:1.0;stroke:none\"></rect><rect x=\"205.07777777777778\" y=\"205.07777777777778\" width=\"18.622222222222234\" height=\"18.622222222222234\" style=\"fill:rgb(18.7%,47.6%,71.3%);fill-opacity:1.0;stroke:none\"></rect><rect x=\"224.70000000000002\" y=\"205.07777777777778\" width=\"18.622222222222234\" height=\"18.622222222222234\" style=\"fill:rgb(19.3%,48.4%,71.7%);fill-opacity:1.0;stroke:none\"></rect><rect x=\"244.32222222222225\" y=\"205.07777777777778\" width=\"18.622222222222206\" height=\"18.622222222222234\" style=\"fill:rgb(19.8%,49.1%,72.1%);fill-opacity:1.0;stroke:none\"></rect><rect x=\"263.94444444444446\" y=\"205.07777777777778\" width=\"18.622222222222206\" height=\"18.622222222222234\" style=\"fill:rgb(20.4%,49.9%,72.5%);fill-opacity:1.0;stroke:none\"></rect><rect x=\"283.56666666666666\" y=\"205.07777777777778\" width=\"18.622222222222206\" height=\"18.622222222222234\" style=\"fill:rgb(21%,50.7%,72.9%);fill-opacity:1.0;stroke:none\"></rect><rect x=\"303.18888888888887\" y=\"205.07777777777778\" width=\"18.622222222222263\" height=\"18.622222222222234\" style=\"fill:rgb(21.6%,51.5%,73.3%);fill-opacity:1.0;stroke:none\"></rect><rect x=\"322.81111111111113\" y=\"205.07777777777778\" width=\"18.622222222222263\" height=\"18.622222222222234\" style=\"fill:rgb(22.2%,52.3%,73.7%);fill-opacity:1.0;stroke:none\"></rect><rect x=\"342.4333333333334\" y=\"205.07777777777778\" width=\"18.622222222222206\" height=\"18.622222222222234\" style=\"fill:rgb(22.8%,53.1%,74.1%);fill-opacity:1.0;stroke:none\"></rect><rect x=\"362.0555555555556\" y=\"205.07777777777778\" width=\"18.622222222222206\" height=\"18.622222222222234\" style=\"fill:rgb(23.4%,53.9%,74.5%);fill-opacity:1.0;stroke:none\"></rect><rect x=\"381.6777777777778\" y=\"205.07777777777778\" width=\"18.622222222222263\" height=\"18.622222222222234\" style=\"fill:rgb(24%,54.7%,74.9%);fill-opacity:1.0;stroke:none\"></rect><rect x=\"401.30000000000007\" y=\"205.07777777777778\" width=\"18.622222222222263\" height=\"18.622222222222234\" style=\"fill:rgb(24.6%,55.4%,75.3%);fill-opacity:1.0;stroke:none\"></rect><rect x=\"420.92222222222233\" y=\"205.07777777777778\" width=\"18.62222222222215\" height=\"18.622222222222234\" style=\"fill:rgb(25.2%,56.2%,75.7%);fill-opacity:1.0;stroke:none\"></rect><rect x=\"440.5444444444445\" y=\"205.07777777777778\" width=\"18.622222222222263\" height=\"18.622222222222234\" style=\"fill:rgb(25.8%,57%,76.1%);fill-opacity:1.0;stroke:none\"></rect><rect x=\"165.83333333333334\" y=\"224.70000000000002\" width=\"18.622222222222234\" height=\"18.622222222222234\" style=\"fill:rgb(26.6%,57.8%,76.6%);fill-opacity:1.0;stroke:none\"></rect><rect x=\"185.45555555555558\" y=\"224.70000000000002\" width=\"18.622222222222206\" height=\"18.622222222222234\" style=\"fill:rgb(27.9%,58.7%,77%);fill-opacity:1.0;stroke:none\"></rect><rect x=\"205.07777777777778\" y=\"224.70000000000002\" width=\"18.622222222222234\" height=\"18.622222222222234\" style=\"fill:rgb(29.3%,59.6%,77.5%);fill-opacity:1.0;stroke:none\"></rect><rect x=\"224.70000000000002\" y=\"224.70000000000002\" width=\"18.622222222222234\" height=\"18.622222222222234\" style=\"fill:rgb(30.7%,60.4%,78%);fill-opacity:1.0;stroke:none\"></rect><rect x=\"244.32222222222225\" y=\"224.70000000000002\" width=\"18.622222222222206\" height=\"18.622222222222234\" style=\"fill:rgb(32.1%,61.3%,78.5%);fill-opacity:1.0;stroke:none\"></rect><rect x=\"263.94444444444446\" y=\"224.70000000000002\" width=\"18.622222222222206\" height=\"18.622222222222234\" style=\"fill:rgb(33.5%,62.2%,78.9%);fill-opacity:1.0;stroke:none\"></rect><rect x=\"283.56666666666666\" y=\"224.70000000000002\" width=\"18.622222222222206\" height=\"18.622222222222234\" style=\"fill:rgb(34.8%,63.1%,79.4%);fill-opacity:1.0;stroke:none\"></rect><rect x=\"303.18888888888887\" y=\"224.70000000000002\" width=\"18.622222222222263\" height=\"18.622222222222234\" style=\"fill:rgb(36.2%,63.9%,79.9%);fill-opacity:1.0;stroke:none\"></rect><rect x=\"322.81111111111113\" y=\"224.70000000000002\" width=\"18.622222222222263\" height=\"18.622222222222234\" style=\"fill:rgb(37.6%,64.8%,80.3%);fill-opacity:1.0;stroke:none\"></rect><rect x=\"342.4333333333334\" y=\"224.70000000000002\" width=\"18.622222222222206\" height=\"18.622222222222234\" style=\"fill:rgb(39%,65.7%,80.8%);fill-opacity:1.0;stroke:none\"></rect><rect x=\"362.0555555555556\" y=\"224.70000000000002\" width=\"18.622222222222206\" height=\"18.622222222222234\" style=\"fill:rgb(40.4%,66.6%,81.3%);fill-opacity:1.0;stroke:none\"></rect><rect x=\"381.6777777777778\" y=\"224.70000000000002\" width=\"18.622222222222263\" height=\"18.622222222222234\" style=\"fill:rgb(41.8%,67.5%,81.8%);fill-opacity:1.0;stroke:none\"></rect><rect x=\"401.30000000000007\" y=\"224.70000000000002\" width=\"18.622222222222263\" height=\"18.622222222222234\" style=\"fill:rgb(43.1%,68.3%,82.2%);fill-opacity:1.0;stroke:none\"></rect><rect x=\"420.92222222222233\" y=\"224.70000000000002\" width=\"18.62222222222215\" height=\"18.622222222222234\" style=\"fill:rgb(44.5%,69.2%,82.7%);fill-opacity:1.0;stroke:none\"></rect><rect x=\"440.5444444444445\" y=\"224.70000000000002\" width=\"18.622222222222263\" height=\"18.622222222222234\" style=\"fill:rgb(45.9%,70.1%,83.2%);fill-opacity:1.0;stroke:none\"></rect><rect x=\"165.83333333333334\" y=\"244.32222222222225\" width=\"18.622222222222234\" height=\"18.622222222222206\" style=\"fill:rgb(47.3%,71%,83.7%);fill-opacity:1.0;stroke:none\"></rect><rect x=\"185.45555555555558\" y=\"244.32222222222225\" width=\"18.622222222222206\" height=\"18.622222222222206\" style=\"fill:rgb(48.7%,71.8%,84.1%);fill-opacity:1.0;stroke:none\"></rect><rect x=\"205.07777777777778\" y=\"244.32222222222225\" width=\"18.622222222222234\" height=\"18.622222222222206\" style=\"fill:rgb(50.1%,72.7%,84.6%);fill-opacity:1.0;stroke:none\"></rect><rect x=\"224.70000000000002\" y=\"244.32222222222225\" width=\"18.622222222222234\" height=\"18.622222222222206\" style=\"fill:rgb(51.4%,73.6%,85.1%);fill-opacity:1.0;stroke:none\"></rect><rect x=\"244.32222222222225\" y=\"244.32222222222225\" width=\"18.622222222222206\" height=\"18.622222222222206\" style=\"fill:rgb(52.8%,74.5%,85.5%);fill-opacity:1.0;stroke:none\"></rect><rect x=\"263.94444444444446\" y=\"244.32222222222225\" width=\"18.622222222222206\" height=\"18.622222222222206\" style=\"fill:rgb(54.2%,75.3%,86%);fill-opacity:1.0;stroke:none\"></rect><rect x=\"283.56666666666666\" y=\"244.32222222222225\" width=\"18.622222222222206\" height=\"18.622222222222206\" style=\"fill:rgb(55.6%,76.2%,86.5%);fill-opacity:1.0;stroke:none\"></rect><rect x=\"303.18888888888887\" y=\"244.32222222222225\" width=\"18.622222222222263\" height=\"18.622222222222206\" style=\"fill:rgb(57%,77.1%,87%);fill-opacity:1.0;stroke:none\"></rect><rect x=\"322.81111111111113\" y=\"244.32222222222225\" width=\"18.622222222222263\" height=\"18.622222222222206\" style=\"fill:rgb(58.1%,77.7%,87.3%);fill-opacity:1.0;stroke:none\"></rect><rect x=\"342.4333333333334\" y=\"244.32222222222225\" width=\"18.622222222222206\" height=\"18.622222222222206\" style=\"fill:rgb(59.2%,78.3%,87.6%);fill-opacity:1.0;stroke:none\"></rect><rect x=\"362.0555555555556\" y=\"244.32222222222225\" width=\"18.622222222222206\" height=\"18.622222222222206\" style=\"fill:rgb(60.3%,78.8%,87.9%);fill-opacity:1.0;stroke:none\"></rect><rect x=\"381.6777777777778\" y=\"244.32222222222225\" width=\"18.622222222222263\" height=\"18.622222222222206\" style=\"fill:rgb(61.4%,79.4%,88.3%);fill-opacity:1.0;stroke:none\"></rect><rect x=\"401.30000000000007\" y=\"244.32222222222225\" width=\"18.622222222222263\" height=\"18.622222222222206\" style=\"fill:rgb(62.5%,79.9%,88.6%);fill-opacity:1.0;stroke:none\"></rect><rect x=\"420.92222222222233\" y=\"244.32222222222225\" width=\"18.62222222222215\" height=\"18.622222222222206\" style=\"fill:rgb(63.7%,80.5%,88.9%);fill-opacity:1.0;stroke:none\"></rect><rect x=\"440.5444444444445\" y=\"244.32222222222225\" width=\"18.622222222222263\" height=\"18.622222222222206\" style=\"fill:rgb(64.8%,81.1%,89.2%);fill-opacity:1.0;stroke:none\"></rect><rect x=\"165.83333333333334\" y=\"263.94444444444446\" width=\"18.622222222222234\" height=\"18.622222222222206\" style=\"fill:rgb(65.9%,81.6%,89.5%);fill-opacity:1.0;stroke:none\"></rect><rect x=\"185.45555555555558\" y=\"263.94444444444446\" width=\"18.622222222222206\" height=\"18.622222222222206\" style=\"fill:rgb(67%,82.2%,89.8%);fill-opacity:1.0;stroke:none\"></rect><rect x=\"205.07777777777778\" y=\"263.94444444444446\" width=\"18.622222222222234\" height=\"18.622222222222206\" style=\"fill:rgb(68.1%,82.7%,90.1%);fill-opacity:1.0;stroke:none\"></rect><rect x=\"224.70000000000002\" y=\"263.94444444444446\" width=\"18.622222222222234\" height=\"18.622222222222206\" style=\"fill:rgb(69.2%,83.3%,90.5%);fill-opacity:1.0;stroke:none\"></rect><rect x=\"244.32222222222225\" y=\"263.94444444444446\" width=\"18.622222222222206\" height=\"18.622222222222206\" style=\"fill:rgb(70.3%,83.9%,90.8%);fill-opacity:1.0;stroke:none\"></rect><rect x=\"263.94444444444446\" y=\"263.94444444444446\" width=\"18.622222222222206\" height=\"18.622222222222206\" style=\"fill:rgb(71.4%,84.4%,91.1%);fill-opacity:1.0;stroke:none\"></rect><rect x=\"283.56666666666666\" y=\"263.94444444444446\" width=\"18.622222222222206\" height=\"18.622222222222206\" style=\"fill:rgb(72.5%,85%,91.4%);fill-opacity:1.0;stroke:none\"></rect><rect x=\"303.18888888888887\" y=\"263.94444444444446\" width=\"18.622222222222263\" height=\"18.622222222222206\" style=\"fill:rgb(73.6%,85.5%,91.7%);fill-opacity:1.0;stroke:none\"></rect><rect x=\"322.81111111111113\" y=\"263.94444444444446\" width=\"18.622222222222263\" height=\"18.622222222222206\" style=\"fill:rgb(74.7%,86.1%,92%);fill-opacity:1.0;stroke:none\"></rect><rect x=\"342.4333333333334\" y=\"263.94444444444446\" width=\"18.622222222222206\" height=\"18.622222222222206\" style=\"fill:rgb(75.8%,86.7%,92.4%);fill-opacity:1.0;stroke:none\"></rect><rect x=\"362.0555555555556\" y=\"263.94444444444446\" width=\"18.622222222222206\" height=\"18.622222222222206\" style=\"fill:rgb(76.9%,87.2%,92.7%);fill-opacity:1.0;stroke:none\"></rect><rect x=\"381.6777777777778\" y=\"263.94444444444446\" width=\"18.622222222222263\" height=\"18.622222222222206\" style=\"fill:rgb(78%,87.8%,93%);fill-opacity:1.0;stroke:none\"></rect><rect x=\"401.30000000000007\" y=\"263.94444444444446\" width=\"18.622222222222263\" height=\"18.622222222222206\" style=\"fill:rgb(79.1%,88.3%,93.3%);fill-opacity:1.0;stroke:none\"></rect><rect x=\"420.92222222222233\" y=\"263.94444444444446\" width=\"18.62222222222215\" height=\"18.622222222222206\" style=\"fill:rgb(80.2%,88.9%,93.6%);fill-opacity:1.0;stroke:none\"></rect><rect x=\"440.5444444444445\" y=\"263.94444444444446\" width=\"18.622222222222263\" height=\"18.622222222222206\" style=\"fill:rgb(81.3%,89.5%,93.9%);fill-opacity:1.0;stroke:none\"></rect><rect x=\"165.83333333333334\" y=\"283.56666666666666\" width=\"18.622222222222234\" height=\"18.622222222222206\" style=\"fill:rgb(82.2%,89.9%,94.2%);fill-opacity:1.0;stroke:none\"></rect><rect x=\"185.45555555555558\" y=\"283.56666666666666\" width=\"18.622222222222206\" height=\"18.622222222222206\" style=\"fill:rgb(82.9%,90.2%,94.3%);fill-opacity:1.0;stroke:none\"></rect><rect x=\"205.07777777777778\" y=\"283.56666666666666\" width=\"18.622222222222234\" height=\"18.622222222222206\" style=\"fill:rgb(83.6%,90.6%,94.4%);fill-opacity:1.0;stroke:none\"></rect><rect x=\"224.70000000000002\" y=\"283.56666666666666\" width=\"18.622222222222234\" height=\"18.622222222222206\" style=\"fill:rgb(84.2%,90.9%,94.5%);fill-opacity:1.0;stroke:none\"></rect><rect x=\"244.32222222222225\" y=\"283.56666666666666\" width=\"18.622222222222206\" height=\"18.622222222222206\" style=\"fill:rgb(84.9%,91.2%,94.7%);fill-opacity:1.0;stroke:none\"></rect><rect x=\"263.94444444444446\" y=\"283.56666666666666\" width=\"18.622222222222206\" height=\"18.622222222222206\" style=\"fill:rgb(85.6%,91.5%,94.8%);fill-opacity:1.0;stroke:none\"></rect><rect x=\"283.56666666666666\" y=\"283.56666666666666\" width=\"18.622222222222206\" height=\"18.622222222222206\" style=\"fill:rgb(86.2%,91.8%,94.9%);fill-opacity:1.0;stroke:none\"></rect><rect x=\"303.18888888888887\" y=\"283.56666666666666\" width=\"18.622222222222263\" height=\"18.622222222222206\" style=\"fill:rgb(86.9%,92.1%,95%);fill-opacity:1.0;stroke:none\"></rect><rect x=\"322.81111111111113\" y=\"283.56666666666666\" width=\"18.622222222222263\" height=\"18.622222222222206\" style=\"fill:rgb(87.5%,92.5%,95.1%);fill-opacity:1.0;stroke:none\"></rect><rect x=\"342.4333333333334\" y=\"283.56666666666666\" width=\"18.622222222222206\" height=\"18.622222222222206\" style=\"fill:rgb(88.2%,92.8%,95.3%);fill-opacity:1.0;stroke:none\"></rect><rect x=\"362.0555555555556\" y=\"283.56666666666666\" width=\"18.622222222222206\" height=\"18.622222222222206\" style=\"fill:rgb(88.9%,93.1%,95.4%);fill-opacity:1.0;stroke:none\"></rect><rect x=\"381.6777777777778\" y=\"283.56666666666666\" width=\"18.622222222222263\" height=\"18.622222222222206\" style=\"fill:rgb(89.5%,93.4%,95.5%);fill-opacity:1.0;stroke:none\"></rect><rect x=\"401.30000000000007\" y=\"283.56666666666666\" width=\"18.622222222222263\" height=\"18.622222222222206\" style=\"fill:rgb(90.2%,93.7%,95.6%);fill-opacity:1.0;stroke:none\"></rect><rect x=\"420.92222222222233\" y=\"283.56666666666666\" width=\"18.62222222222215\" height=\"18.622222222222206\" style=\"fill:rgb(90.9%,94%,95.8%);fill-opacity:1.0;stroke:none\"></rect><rect x=\"440.5444444444445\" y=\"283.56666666666666\" width=\"18.622222222222263\" height=\"18.622222222222206\" style=\"fill:rgb(91.5%,94.3%,95.9%);fill-opacity:1.0;stroke:none\"></rect><rect x=\"165.83333333333334\" y=\"303.18888888888887\" width=\"18.622222222222234\" height=\"18.622222222222263\" style=\"fill:rgb(92.2%,94.7%,96%);fill-opacity:1.0;stroke:none\"></rect><rect x=\"185.45555555555558\" y=\"303.18888888888887\" width=\"18.622222222222206\" height=\"18.622222222222263\" style=\"fill:rgb(92.9%,95%,96.1%);fill-opacity:1.0;stroke:none\"></rect><rect x=\"205.07777777777778\" y=\"303.18888888888887\" width=\"18.622222222222234\" height=\"18.622222222222263\" style=\"fill:rgb(93.5%,95.3%,96.2%);fill-opacity:1.0;stroke:none\"></rect><rect x=\"224.70000000000002\" y=\"303.18888888888887\" width=\"18.622222222222234\" height=\"18.622222222222263\" style=\"fill:rgb(94.2%,95.6%,96.4%);fill-opacity:1.0;stroke:none\"></rect><rect x=\"244.32222222222225\" y=\"303.18888888888887\" width=\"18.622222222222206\" height=\"18.622222222222263\" style=\"fill:rgb(94.9%,95.9%,96.5%);fill-opacity:1.0;stroke:none\"></rect><rect x=\"263.94444444444446\" y=\"303.18888888888887\" width=\"18.622222222222206\" height=\"18.622222222222263\" style=\"fill:rgb(95.5%,96.2%,96.6%);fill-opacity:1.0;stroke:none\"></rect><rect x=\"283.56666666666666\" y=\"303.18888888888887\" width=\"18.622222222222206\" height=\"18.622222222222263\" style=\"fill:rgb(96.2%,96.5%,96.7%);fill-opacity:1.0;stroke:none\"></rect><rect x=\"303.18888888888887\" y=\"303.18888888888887\" width=\"18.622222222222263\" height=\"18.622222222222263\" style=\"fill:rgb(96.9%,96.9%,96.9%);fill-opacity:1.0;stroke:none\"></rect><rect x=\"322.81111111111113\" y=\"303.18888888888887\" width=\"18.622222222222263\" height=\"18.622222222222263\" style=\"fill:rgb(97%,96.4%,96%);fill-opacity:1.0;stroke:none\"></rect><rect x=\"342.4333333333334\" y=\"303.18888888888887\" width=\"18.622222222222206\" height=\"18.622222222222263\" style=\"fill:rgb(97.1%,95.9%,95.2%);fill-opacity:1.0;stroke:none\"></rect><rect x=\"362.0555555555556\" y=\"303.18888888888887\" width=\"18.622222222222206\" height=\"18.622222222222263\" style=\"fill:rgb(97.2%,95.4%,94.3%);fill-opacity:1.0;stroke:none\"></rect><rect x=\"381.6777777777778\" y=\"303.18888888888887\" width=\"18.622222222222263\" height=\"18.622222222222263\" style=\"fill:rgb(97.3%,94.9%,93.5%);fill-opacity:1.0;stroke:none\"></rect><rect x=\"401.30000000000007\" y=\"303.18888888888887\" width=\"18.622222222222263\" height=\"18.622222222222263\" style=\"fill:rgb(97.4%,94.4%,92.7%);fill-opacity:1.0;stroke:none\"></rect><rect x=\"420.92222222222233\" y=\"303.18888888888887\" width=\"18.62222222222215\" height=\"18.622222222222263\" style=\"fill:rgb(97.5%,93.9%,91.8%);fill-opacity:1.0;stroke:none\"></rect><rect x=\"440.5444444444445\" y=\"303.18888888888887\" width=\"18.622222222222263\" height=\"18.622222222222263\" style=\"fill:rgb(97.6%,93.4%,91%);fill-opacity:1.0;stroke:none\"></rect><rect x=\"165.83333333333334\" y=\"322.81111111111113\" width=\"18.622222222222234\" height=\"18.622222222222263\" style=\"fill:rgb(97.7%,92.9%,90.1%);fill-opacity:1.0;stroke:none\"></rect><rect x=\"185.45555555555558\" y=\"322.81111111111113\" width=\"18.622222222222206\" height=\"18.622222222222263\" style=\"fill:rgb(97.8%,92.5%,89.3%);fill-opacity:1.0;stroke:none\"></rect><rect x=\"205.07777777777778\" y=\"322.81111111111113\" width=\"18.622222222222234\" height=\"18.622222222222263\" style=\"fill:rgb(97.9%,92%,88.5%);fill-opacity:1.0;stroke:none\"></rect><rect x=\"224.70000000000002\" y=\"322.81111111111113\" width=\"18.622222222222234\" height=\"18.622222222222263\" style=\"fill:rgb(98%,91.5%,87.6%);fill-opacity:1.0;stroke:none\"></rect><rect x=\"244.32222222222225\" y=\"322.81111111111113\" width=\"18.622222222222206\" height=\"18.622222222222263\" style=\"fill:rgb(98.1%,91%,86.8%);fill-opacity:1.0;stroke:none\"></rect><rect x=\"263.94444444444446\" y=\"322.81111111111113\" width=\"18.622222222222206\" height=\"18.622222222222263\" style=\"fill:rgb(98.2%,90.5%,85.9%);fill-opacity:1.0;stroke:none\"></rect><rect x=\"283.56666666666666\" y=\"322.81111111111113\" width=\"18.622222222222206\" height=\"18.622222222222263\" style=\"fill:rgb(98.3%,90%,85.1%);fill-opacity:1.0;stroke:none\"></rect><rect x=\"303.18888888888887\" y=\"322.81111111111113\" width=\"18.622222222222263\" height=\"18.622222222222263\" style=\"fill:rgb(98.4%,89.5%,84.3%);fill-opacity:1.0;stroke:none\"></rect><rect x=\"322.81111111111113\" y=\"322.81111111111113\" width=\"18.622222222222263\" height=\"18.622222222222263\" style=\"fill:rgb(98.5%,89%,83.4%);fill-opacity:1.0;stroke:none\"></rect><rect x=\"342.4333333333334\" y=\"322.81111111111113\" width=\"18.622222222222206\" height=\"18.622222222222263\" style=\"fill:rgb(98.6%,88.5%,82.6%);fill-opacity:1.0;stroke:none\"></rect><rect x=\"362.0555555555556\" y=\"322.81111111111113\" width=\"18.622222222222206\" height=\"18.622222222222263\" style=\"fill:rgb(98.8%,88%,81.7%);fill-opacity:1.0;stroke:none\"></rect><rect x=\"381.6777777777778\" y=\"322.81111111111113\" width=\"18.622222222222263\" height=\"18.622222222222263\" style=\"fill:rgb(98.9%,87.5%,80.9%);fill-opacity:1.0;stroke:none\"></rect><rect x=\"401.30000000000007\" y=\"322.81111111111113\" width=\"18.622222222222263\" height=\"18.622222222222263\" style=\"fill:rgb(99%,87.1%,80.1%);fill-opacity:1.0;stroke:none\"></rect><rect x=\"420.92222222222233\" y=\"322.81111111111113\" width=\"18.62222222222215\" height=\"18.622222222222263\" style=\"fill:rgb(99.1%,86.6%,79.2%);fill-opacity:1.0;stroke:none\"></rect><rect x=\"440.5444444444445\" y=\"322.81111111111113\" width=\"18.622222222222263\" height=\"18.622222222222263\" style=\"fill:rgb(99.2%,86.1%,78.4%);fill-opacity:1.0;stroke:none\"></rect><rect x=\"165.83333333333334\" y=\"342.4333333333334\" width=\"18.622222222222234\" height=\"18.622222222222206\" style=\"fill:rgb(99.1%,85.3%,77.3%);fill-opacity:1.0;stroke:none\"></rect><rect x=\"185.45555555555558\" y=\"342.4333333333334\" width=\"18.622222222222206\" height=\"18.622222222222206\" style=\"fill:rgb(99%,84.4%,76.1%);fill-opacity:1.0;stroke:none\"></rect><rect x=\"205.07777777777778\" y=\"342.4333333333334\" width=\"18.622222222222234\" height=\"18.622222222222206\" style=\"fill:rgb(98.8%,83.4%,74.9%);fill-opacity:1.0;stroke:none\"></rect><rect x=\"224.70000000000002\" y=\"342.4333333333334\" width=\"18.622222222222234\" height=\"18.622222222222206\" style=\"fill:rgb(98.6%,82.5%,73.7%);fill-opacity:1.0;stroke:none\"></rect><rect x=\"244.32222222222225\" y=\"342.4333333333334\" width=\"18.622222222222206\" height=\"18.622222222222206\" style=\"fill:rgb(98.5%,81.5%,72.5%);fill-opacity:1.0;stroke:none\"></rect><rect x=\"263.94444444444446\" y=\"342.4333333333334\" width=\"18.622222222222206\" height=\"18.622222222222206\" style=\"fill:rgb(98.3%,80.6%,71.3%);fill-opacity:1.0;stroke:none\"></rect><rect x=\"283.56666666666666\" y=\"342.4333333333334\" width=\"18.622222222222206\" height=\"18.622222222222206\" style=\"fill:rgb(98.2%,79.6%,70.1%);fill-opacity:1.0;stroke:none\"></rect><rect x=\"303.18888888888887\" y=\"342.4333333333334\" width=\"18.622222222222263\" height=\"18.622222222222206\" style=\"fill:rgb(98%,78.7%,68.9%);fill-opacity:1.0;stroke:none\"></rect><rect x=\"322.81111111111113\" y=\"342.4333333333334\" width=\"18.622222222222263\" height=\"18.622222222222206\" style=\"fill:rgb(97.9%,77.8%,67.7%);fill-opacity:1.0;stroke:none\"></rect><rect x=\"342.4333333333334\" y=\"342.4333333333334\" width=\"18.622222222222206\" height=\"18.622222222222206\" style=\"fill:rgb(97.7%,76.8%,66.4%);fill-opacity:1.0;stroke:none\"></rect><rect x=\"362.0555555555556\" y=\"342.4333333333334\" width=\"18.622222222222206\" height=\"18.622222222222206\" style=\"fill:rgb(97.5%,75.9%,65.2%);fill-opacity:1.0;stroke:none\"></rect><rect x=\"381.6777777777778\" y=\"342.4333333333334\" width=\"18.622222222222263\" height=\"18.622222222222206\" style=\"fill:rgb(97.4%,74.9%,64%);fill-opacity:1.0;stroke:none\"></rect><rect x=\"401.30000000000007\" y=\"342.4333333333334\" width=\"18.622222222222263\" height=\"18.622222222222206\" style=\"fill:rgb(97.2%,74%,62.8%);fill-opacity:1.0;stroke:none\"></rect><rect x=\"420.92222222222233\" y=\"342.4333333333334\" width=\"18.62222222222215\" height=\"18.622222222222206\" style=\"fill:rgb(97.1%,73%,61.6%);fill-opacity:1.0;stroke:none\"></rect><rect x=\"440.5444444444445\" y=\"342.4333333333334\" width=\"18.622222222222263\" height=\"18.622222222222206\" style=\"fill:rgb(96.9%,72.1%,60.4%);fill-opacity:1.0;stroke:none\"></rect><rect x=\"165.83333333333334\" y=\"362.0555555555556\" width=\"18.622222222222234\" height=\"18.622222222222206\" style=\"fill:rgb(96.8%,71.1%,59.2%);fill-opacity:1.0;stroke:none\"></rect><rect x=\"185.45555555555558\" y=\"362.0555555555556\" width=\"18.622222222222206\" height=\"18.622222222222206\" style=\"fill:rgb(96.6%,70.2%,58%);fill-opacity:1.0;stroke:none\"></rect><rect x=\"205.07777777777778\" y=\"362.0555555555556\" width=\"18.622222222222234\" height=\"18.622222222222206\" style=\"fill:rgb(96.4%,69.2%,56.8%);fill-opacity:1.0;stroke:none\"></rect><rect x=\"224.70000000000002\" y=\"362.0555555555556\" width=\"18.622222222222234\" height=\"18.622222222222206\" style=\"fill:rgb(96.3%,68.3%,55.6%);fill-opacity:1.0;stroke:none\"></rect><rect x=\"244.32222222222225\" y=\"362.0555555555556\" width=\"18.622222222222206\" height=\"18.622222222222206\" style=\"fill:rgb(96.1%,67.4%,54.4%);fill-opacity:1.0;stroke:none\"></rect><rect x=\"263.94444444444446\" y=\"362.0555555555556\" width=\"18.622222222222206\" height=\"18.622222222222206\" style=\"fill:rgb(96%,66.4%,53.2%);fill-opacity:1.0;stroke:none\"></rect><rect x=\"283.56666666666666\" y=\"362.0555555555556\" width=\"18.622222222222206\" height=\"18.622222222222206\" style=\"fill:rgb(95.8%,65.5%,51.9%);fill-opacity:1.0;stroke:none\"></rect><rect x=\"303.18888888888887\" y=\"362.0555555555556\" width=\"18.622222222222263\" height=\"18.622222222222206\" style=\"fill:rgb(95.6%,64.5%,50.8%);fill-opacity:1.0;stroke:none\"></rect><rect x=\"322.81111111111113\" y=\"362.0555555555556\" width=\"18.622222222222263\" height=\"18.622222222222206\" style=\"fill:rgb(95.1%,63.3%,49.9%);fill-opacity:1.0;stroke:none\"></rect><rect x=\"342.4333333333334\" y=\"362.0555555555556\" width=\"18.622222222222206\" height=\"18.622222222222206\" style=\"fill:rgb(94.5%,62%,48.9%);fill-opacity:1.0;stroke:none\"></rect><rect x=\"362.0555555555556\" y=\"362.0555555555556\" width=\"18.622222222222206\" height=\"18.622222222222206\" style=\"fill:rgb(94%,60.8%,48%);fill-opacity:1.0;stroke:none\"></rect><rect x=\"381.6777777777778\" y=\"362.0555555555556\" width=\"18.622222222222263\" height=\"18.622222222222206\" style=\"fill:rgb(93.5%,59.6%,47.1%);fill-opacity:1.0;stroke:none\"></rect><rect x=\"401.30000000000007\" y=\"362.0555555555556\" width=\"18.622222222222263\" height=\"18.622222222222206\" style=\"fill:rgb(93%,58.4%,46.2%);fill-opacity:1.0;stroke:none\"></rect><rect x=\"420.92222222222233\" y=\"362.0555555555556\" width=\"18.62222222222215\" height=\"18.622222222222206\" style=\"fill:rgb(92.4%,57.2%,45.2%);fill-opacity:1.0;stroke:none\"></rect><rect x=\"440.5444444444445\" y=\"362.0555555555556\" width=\"18.622222222222263\" height=\"18.622222222222206\" style=\"fill:rgb(91.9%,56%,44.3%);fill-opacity:1.0;stroke:none\"></rect><rect x=\"165.83333333333334\" y=\"381.6777777777778\" width=\"18.622222222222234\" height=\"18.622222222222263\" style=\"fill:rgb(91.4%,54.8%,43.4%);fill-opacity:1.0;stroke:none\"></rect><rect x=\"185.45555555555558\" y=\"381.6777777777778\" width=\"18.622222222222206\" height=\"18.622222222222263\" style=\"fill:rgb(90.9%,53.6%,42.4%);fill-opacity:1.0;stroke:none\"></rect><rect x=\"205.07777777777778\" y=\"381.6777777777778\" width=\"18.622222222222234\" height=\"18.622222222222263\" style=\"fill:rgb(90.3%,52.4%,41.5%);fill-opacity:1.0;stroke:none\"></rect><rect x=\"224.70000000000002\" y=\"381.6777777777778\" width=\"18.622222222222234\" height=\"18.622222222222263\" style=\"fill:rgb(89.8%,51.2%,40.6%);fill-opacity:1.0;stroke:none\"></rect><rect x=\"244.32222222222225\" y=\"381.6777777777778\" width=\"18.622222222222206\" height=\"18.622222222222263\" style=\"fill:rgb(89.3%,50%,39.7%);fill-opacity:1.0;stroke:none\"></rect><rect x=\"263.94444444444446\" y=\"381.6777777777778\" width=\"18.622222222222206\" height=\"18.622222222222263\" style=\"fill:rgb(88.8%,48.8%,38.7%);fill-opacity:1.0;stroke:none\"></rect><rect x=\"283.56666666666666\" y=\"381.6777777777778\" width=\"18.622222222222206\" height=\"18.622222222222263\" style=\"fill:rgb(88.2%,47.6%,37.8%);fill-opacity:1.0;stroke:none\"></rect><rect x=\"303.18888888888887\" y=\"381.6777777777778\" width=\"18.622222222222263\" height=\"18.622222222222263\" style=\"fill:rgb(87.7%,46.3%,36.9%);fill-opacity:1.0;stroke:none\"></rect><rect x=\"322.81111111111113\" y=\"381.6777777777778\" width=\"18.622222222222263\" height=\"18.622222222222263\" style=\"fill:rgb(87.2%,45.1%,35.9%);fill-opacity:1.0;stroke:none\"></rect><rect x=\"342.4333333333334\" y=\"381.6777777777778\" width=\"18.622222222222206\" height=\"18.622222222222263\" style=\"fill:rgb(86.7%,43.9%,35%);fill-opacity:1.0;stroke:none\"></rect><rect x=\"362.0555555555556\" y=\"381.6777777777778\" width=\"18.622222222222206\" height=\"18.622222222222263\" style=\"fill:rgb(86.1%,42.7%,34.1%);fill-opacity:1.0;stroke:none\"></rect><rect x=\"381.6777777777778\" y=\"381.6777777777778\" width=\"18.622222222222263\" height=\"18.622222222222263\" style=\"fill:rgb(85.6%,41.5%,33.2%);fill-opacity:1.0;stroke:none\"></rect><rect x=\"401.30000000000007\" y=\"381.6777777777778\" width=\"18.622222222222263\" height=\"18.622222222222263\" style=\"fill:rgb(85.1%,40.3%,32.2%);fill-opacity:1.0;stroke:none\"></rect><rect x=\"420.92222222222233\" y=\"381.6777777777778\" width=\"18.62222222222215\" height=\"18.622222222222263\" style=\"fill:rgb(84.6%,39.1%,31.3%);fill-opacity:1.0;stroke:none\"></rect><rect x=\"440.5444444444445\" y=\"381.6777777777778\" width=\"18.622222222222263\" height=\"18.622222222222263\" style=\"fill:rgb(84%,37.9%,30.4%);fill-opacity:1.0;stroke:none\"></rect><rect x=\"165.83333333333334\" y=\"401.30000000000007\" width=\"18.622222222222234\" height=\"18.622222222222263\" style=\"fill:rgb(83.4%,36.6%,29.7%);fill-opacity:1.0;stroke:none\"></rect><rect x=\"185.45555555555558\" y=\"401.30000000000007\" width=\"18.622222222222206\" height=\"18.622222222222263\" style=\"fill:rgb(82.8%,35.4%,29.1%);fill-opacity:1.0;stroke:none\"></rect><rect x=\"205.07777777777778\" y=\"401.30000000000007\" width=\"18.622222222222234\" height=\"18.622222222222263\" style=\"fill:rgb(82.2%,34.1%,28.5%);fill-opacity:1.0;stroke:none\"></rect><rect x=\"224.70000000000002\" y=\"401.30000000000007\" width=\"18.622222222222234\" height=\"18.622222222222263\" style=\"fill:rgb(81.5%,32.9%,27.9%);fill-opacity:1.0;stroke:none\"></rect><rect x=\"244.32222222222225\" y=\"401.30000000000007\" width=\"18.622222222222206\" height=\"18.622222222222263\" style=\"fill:rgb(80.9%,31.6%,27.3%);fill-opacity:1.0;stroke:none\"></rect><rect x=\"263.94444444444446\" y=\"401.30000000000007\" width=\"18.622222222222206\" height=\"18.622222222222263\" style=\"fill:rgb(80.3%,30.3%,26.7%);fill-opacity:1.0;stroke:none\"></rect><rect x=\"283.56666666666666\" y=\"401.30000000000007\" width=\"18.622222222222206\" height=\"18.622222222222263\" style=\"fill:rgb(79.6%,29.1%,26.1%);fill-opacity:1.0;stroke:none\"></rect><rect x=\"303.18888888888887\" y=\"401.30000000000007\" width=\"18.622222222222263\" height=\"18.622222222222263\" style=\"fill:rgb(79%,27.8%,25.6%);fill-opacity:1.0;stroke:none\"></rect><rect x=\"322.81111111111113\" y=\"401.30000000000007\" width=\"18.622222222222263\" height=\"18.622222222222263\" style=\"fill:rgb(78.4%,26.6%,25%);fill-opacity:1.0;stroke:none\"></rect><rect x=\"342.4333333333334\" y=\"401.30000000000007\" width=\"18.622222222222206\" height=\"18.622222222222263\" style=\"fill:rgb(77.7%,25.3%,24.4%);fill-opacity:1.0;stroke:none\"></rect><rect x=\"362.0555555555556\" y=\"401.30000000000007\" width=\"18.622222222222206\" height=\"18.622222222222263\" style=\"fill:rgb(77.1%,24%,23.8%);fill-opacity:1.0;stroke:none\"></rect><rect x=\"381.6777777777778\" y=\"401.30000000000007\" width=\"18.622222222222263\" height=\"18.622222222222263\" style=\"fill:rgb(76.5%,22.8%,23.2%);fill-opacity:1.0;stroke:none\"></rect><rect x=\"401.30000000000007\" y=\"401.30000000000007\" width=\"18.622222222222263\" height=\"18.622222222222263\" style=\"fill:rgb(75.9%,21.5%,22.6%);fill-opacity:1.0;stroke:none\"></rect><rect x=\"420.92222222222233\" y=\"401.30000000000007\" width=\"18.62222222222215\" height=\"18.622222222222263\" style=\"fill:rgb(75.2%,20.3%,22%);fill-opacity:1.0;stroke:none\"></rect><rect x=\"440.5444444444445\" y=\"401.30000000000007\" width=\"18.622222222222263\" height=\"18.622222222222263\" style=\"fill:rgb(74.6%,19%,21.4%);fill-opacity:1.0;stroke:none\"></rect><rect x=\"165.83333333333334\" y=\"420.92222222222233\" width=\"18.622222222222234\" height=\"18.62222222222215\" style=\"fill:rgb(74%,17.7%,20.8%);fill-opacity:1.0;stroke:none\"></rect><rect x=\"185.45555555555558\" y=\"420.92222222222233\" width=\"18.622222222222206\" height=\"18.62222222222215\" style=\"fill:rgb(73.3%,16.5%,20.2%);fill-opacity:1.0;stroke:none\"></rect><rect x=\"205.07777777777778\" y=\"420.92222222222233\" width=\"18.622222222222234\" height=\"18.62222222222215\" style=\"fill:rgb(72.7%,15.2%,19.6%);fill-opacity:1.0;stroke:none\"></rect><rect x=\"224.70000000000002\" y=\"420.92222222222233\" width=\"18.622222222222234\" height=\"18.62222222222215\" style=\"fill:rgb(72.1%,13.9%,19%);fill-opacity:1.0;stroke:none\"></rect><rect x=\"244.32222222222225\" y=\"420.92222222222233\" width=\"18.622222222222206\" height=\"18.62222222222215\" style=\"fill:rgb(71.4%,12.7%,18.4%);fill-opacity:1.0;stroke:none\"></rect><rect x=\"263.94444444444446\" y=\"420.92222222222233\" width=\"18.622222222222206\" height=\"18.62222222222215\" style=\"fill:rgb(70.8%,11.4%,17.8%);fill-opacity:1.0;stroke:none\"></rect><rect x=\"283.56666666666666\" y=\"420.92222222222233\" width=\"18.622222222222206\" height=\"18.62222222222215\" style=\"fill:rgb(70.2%,10.2%,17.2%);fill-opacity:1.0;stroke:none\"></rect><rect x=\"303.18888888888887\" y=\"420.92222222222233\" width=\"18.622222222222263\" height=\"18.62222222222215\" style=\"fill:rgb(69.3%,9.2%,16.8%);fill-opacity:1.0;stroke:none\"></rect><rect x=\"322.81111111111113\" y=\"420.92222222222233\" width=\"18.622222222222263\" height=\"18.62222222222215\" style=\"fill:rgb(68%,8.8%,16.6%);fill-opacity:1.0;stroke:none\"></rect><rect x=\"342.4333333333334\" y=\"420.92222222222233\" width=\"18.622222222222206\" height=\"18.62222222222215\" style=\"fill:rgb(66.7%,8.4%,16.4%);fill-opacity:1.0;stroke:none\"></rect><rect x=\"362.0555555555556\" y=\"420.92222222222233\" width=\"18.622222222222206\" height=\"18.62222222222215\" style=\"fill:rgb(65.3%,8%,16.1%);fill-opacity:1.0;stroke:none\"></rect><rect x=\"381.6777777777778\" y=\"420.92222222222233\" width=\"18.622222222222263\" height=\"18.62222222222215\" style=\"fill:rgb(64%,7.6%,15.9%);fill-opacity:1.0;stroke:none\"></rect><rect x=\"401.30000000000007\" y=\"420.92222222222233\" width=\"18.622222222222263\" height=\"18.62222222222215\" style=\"fill:rgb(62.7%,7.1%,15.7%);fill-opacity:1.0;stroke:none\"></rect><rect x=\"420.92222222222233\" y=\"420.92222222222233\" width=\"18.62222222222215\" height=\"18.62222222222215\" style=\"fill:rgb(61.4%,6.7%,15.5%);fill-opacity:1.0;stroke:none\"></rect><rect x=\"440.5444444444445\" y=\"420.92222222222233\" width=\"18.622222222222263\" height=\"18.62222222222215\" style=\"fill:rgb(60.1%,6.3%,15.3%);fill-opacity:1.0;stroke:none\"></rect><rect x=\"165.83333333333334\" y=\"440.5444444444445\" width=\"18.622222222222234\" height=\"18.622222222222263\" style=\"fill:rgb(58.8%,5.9%,15.1%);fill-opacity:1.0;stroke:none\"></rect><rect x=\"185.45555555555558\" y=\"440.5444444444445\" width=\"18.622222222222206\" height=\"18.622222222222263\" style=\"fill:rgb(57.5%,5.5%,14.9%);fill-opacity:1.0;stroke:none\"></rect><rect x=\"205.07777777777778\" y=\"440.5444444444445\" width=\"18.622222222222234\" height=\"18.622222222222263\" style=\"fill:rgb(56.1%,5%,14.7%);fill-opacity:1.0;stroke:none\"></rect><rect x=\"224.70000000000002\" y=\"440.5444444444445\" width=\"18.622222222222234\" height=\"18.622222222222263\" style=\"fill:rgb(54.8%,4.6%,14.5%);fill-opacity:1.0;stroke:none\"></rect><rect x=\"244.32222222222225\" y=\"440.5444444444445\" width=\"18.622222222222206\" height=\"18.622222222222263\" style=\"fill:rgb(53.5%,4.2%,14.3%);fill-opacity:1.0;stroke:none\"></rect><rect x=\"263.94444444444446\" y=\"440.5444444444445\" width=\"18.622222222222206\" height=\"18.622222222222263\" style=\"fill:rgb(52.2%,3.8%,14%);fill-opacity:1.0;stroke:none\"></rect><rect x=\"283.56666666666666\" y=\"440.5444444444445\" width=\"18.622222222222206\" height=\"18.622222222222263\" style=\"fill:rgb(50.9%,3.4%,13.8%);fill-opacity:1.0;stroke:none\"></rect><rect x=\"303.18888888888887\" y=\"440.5444444444445\" width=\"18.622222222222263\" height=\"18.622222222222263\" style=\"fill:rgb(49.6%,2.9%,13.6%);fill-opacity:1.0;stroke:none\"></rect><rect x=\"322.81111111111113\" y=\"440.5444444444445\" width=\"18.622222222222263\" height=\"18.622222222222263\" style=\"fill:rgb(48.3%,2.5%,13.4%);fill-opacity:1.0;stroke:none\"></rect><rect x=\"342.4333333333334\" y=\"440.5444444444445\" width=\"18.622222222222206\" height=\"18.622222222222263\" style=\"fill:rgb(47%,2.1%,13.2%);fill-opacity:1.0;stroke:none\"></rect><rect x=\"362.0555555555556\" y=\"440.5444444444445\" width=\"18.622222222222206\" height=\"18.622222222222263\" style=\"fill:rgb(45.6%,1.7%,13%);fill-opacity:1.0;stroke:none\"></rect><rect x=\"381.6777777777778\" y=\"440.5444444444445\" width=\"18.622222222222263\" height=\"18.622222222222263\" style=\"fill:rgb(44.3%,1.3%,12.8%);fill-opacity:1.0;stroke:none\"></rect><rect x=\"401.30000000000007\" y=\"440.5444444444445\" width=\"18.622222222222263\" height=\"18.622222222222263\" style=\"fill:rgb(43%,0.8%,12.6%);fill-opacity:1.0;stroke:none\"></rect><rect x=\"420.92222222222233\" y=\"440.5444444444445\" width=\"18.62222222222215\" height=\"18.622222222222263\" style=\"fill:rgb(41.7%,0.4%,12.4%);fill-opacity:1.0;stroke:none\"></rect><rect x=\"440.5444444444445\" y=\"440.5444444444445\" width=\"18.622222222222263\" height=\"18.622222222222263\" style=\"fill:rgb(40.4%,0%,12.2%);fill-opacity:1.0;stroke:none\"></rect></g></svg><div class=\"toyplot-behavior\"><script>(function()\n",
       "{\n",
       "var modules={};\n",
       "modules[\"toyplot/tables\"] = (function()\n",
       "    {\n",
       "        var tables = [];\n",
       "\n",
       "        var module = {};\n",
       "\n",
       "        module.set = function(owner, key, names, columns)\n",
       "        {\n",
       "            tables.push({owner: owner, key: key, names: names, columns: columns});\n",
       "        }\n",
       "\n",
       "        module.get = function(owner, key)\n",
       "        {\n",
       "            for(var i = 0; i != tables.length; ++i)\n",
       "            {\n",
       "                var table = tables[i];\n",
       "                if(table.owner != owner)\n",
       "                    continue;\n",
       "                if(table.key != key)\n",
       "                    continue;\n",
       "                return {names: table.names, columns: table.columns};\n",
       "            }\n",
       "        }\n",
       "\n",
       "        module.get_csv = function(owner, key)\n",
       "        {\n",
       "            var table = module.get(owner, key);\n",
       "            if(table != undefined)\n",
       "            {\n",
       "                var csv = \"\";\n",
       "                csv += table.names.join(\",\") + \"\\n\";\n",
       "                for(var i = 0; i != table.columns[0].length; ++i)\n",
       "                {\n",
       "                  for(var j = 0; j != table.columns.length; ++j)\n",
       "                  {\n",
       "                    if(j)\n",
       "                      csv += \",\";\n",
       "                    csv += table.columns[j][i];\n",
       "                  }\n",
       "                  csv += \"\\n\";\n",
       "                }\n",
       "                return csv;\n",
       "            }\n",
       "        }\n",
       "\n",
       "        return module;\n",
       "    })();\n",
       "modules[\"toyplot/root/id\"] = \"te6cc2187e4a2430fbe92ca9745e8a9ae\";\n",
       "modules[\"toyplot/root\"] = (function(root_id)\n",
       "    {\n",
       "        return document.querySelector(\"#\" + root_id);\n",
       "    })(modules[\"toyplot/root/id\"]);\n",
       "modules[\"toyplot/canvas/id\"] = \"td9bfc3398c0342eca145a0165693cc71\";\n",
       "modules[\"toyplot/canvas\"] = (function(canvas_id)\n",
       "    {\n",
       "        return document.querySelector(\"#\" + canvas_id);\n",
       "    })(modules[\"toyplot/canvas/id\"]);\n",
       "modules[\"toyplot/menus/context\"] = (function(root, canvas)\n",
       "    {\n",
       "        var wrapper = document.createElement(\"div\");\n",
       "        wrapper.innerHTML = \"<ul class='toyplot-context-menu' style='background:#eee; border:1px solid #b8b8b8; border-radius:5px; box-shadow: 0px 0px 8px rgba(0%,0%,0%,0.25); margin:0; padding:3px 0; position:fixed; visibility:hidden;'></ul>\"\n",
       "        var menu = wrapper.firstChild;\n",
       "\n",
       "        root.appendChild(menu);\n",
       "\n",
       "        var items = [];\n",
       "\n",
       "        var ignore_mouseup = null;\n",
       "        function open_menu(e)\n",
       "        {\n",
       "            var show_menu = false;\n",
       "            for(var index=0; index != items.length; ++index)\n",
       "            {\n",
       "                var item = items[index];\n",
       "                if(item.show(e))\n",
       "                {\n",
       "                    item.item.style.display = \"block\";\n",
       "                    show_menu = true;\n",
       "                }\n",
       "                else\n",
       "                {\n",
       "                    item.item.style.display = \"none\";\n",
       "                }\n",
       "            }\n",
       "\n",
       "            if(show_menu)\n",
       "            {\n",
       "                ignore_mouseup = true;\n",
       "                menu.style.left = (e.clientX + 1) + \"px\";\n",
       "                menu.style.top = (e.clientY - 5) + \"px\";\n",
       "                menu.style.visibility = \"visible\";\n",
       "                e.stopPropagation();\n",
       "                e.preventDefault();\n",
       "            }\n",
       "        }\n",
       "\n",
       "        function close_menu()\n",
       "        {\n",
       "            menu.style.visibility = \"hidden\";\n",
       "        }\n",
       "\n",
       "        function contextmenu(e)\n",
       "        {\n",
       "            open_menu(e);\n",
       "        }\n",
       "\n",
       "        function mousemove(e)\n",
       "        {\n",
       "            ignore_mouseup = false;\n",
       "        }\n",
       "\n",
       "        function mouseup(e)\n",
       "        {\n",
       "            if(ignore_mouseup)\n",
       "            {\n",
       "                ignore_mouseup = false;\n",
       "                return;\n",
       "            }\n",
       "            close_menu();\n",
       "        }\n",
       "\n",
       "        function keydown(e)\n",
       "        {\n",
       "            if(e.key == \"Escape\" || e.key == \"Esc\" || e.keyCode == 27)\n",
       "            {\n",
       "                close_menu();\n",
       "            }\n",
       "        }\n",
       "\n",
       "        canvas.addEventListener(\"contextmenu\", contextmenu);\n",
       "        canvas.addEventListener(\"mousemove\", mousemove);\n",
       "        document.addEventListener(\"mouseup\", mouseup);\n",
       "        document.addEventListener(\"keydown\", keydown);\n",
       "\n",
       "        var module = {};\n",
       "        module.add_item = function(label, show, activate)\n",
       "        {\n",
       "            var wrapper = document.createElement(\"div\");\n",
       "            wrapper.innerHTML = \"<li class='toyplot-context-menu-item' style='background:#eee; color:#333; padding:2px 20px; list-style:none; margin:0; text-align:left;'>\" + label + \"</li>\"\n",
       "            var item = wrapper.firstChild;\n",
       "\n",
       "            items.push({item: item, show: show});\n",
       "\n",
       "            function mouseover()\n",
       "            {\n",
       "                this.style.background = \"steelblue\";\n",
       "                this.style.color = \"white\";\n",
       "            }\n",
       "\n",
       "            function mouseout()\n",
       "            {\n",
       "                this.style.background = \"#eee\";\n",
       "                this.style.color = \"#333\";\n",
       "            }\n",
       "\n",
       "            function choose_item(e)\n",
       "            {\n",
       "                close_menu();\n",
       "                activate();\n",
       "\n",
       "                e.stopPropagation();\n",
       "                e.preventDefault();\n",
       "            }\n",
       "\n",
       "            item.addEventListener(\"mouseover\", mouseover);\n",
       "            item.addEventListener(\"mouseout\", mouseout);\n",
       "            item.addEventListener(\"mouseup\", choose_item);\n",
       "            item.addEventListener(\"contextmenu\", choose_item);\n",
       "\n",
       "            menu.appendChild(item);\n",
       "        };\n",
       "        return module;\n",
       "    })(modules[\"toyplot/root\"],modules[\"toyplot/canvas\"]);\n",
       "modules[\"toyplot/io\"] = (function()\n",
       "    {\n",
       "        var module = {};\n",
       "        module.save_file = function(mime_type, charset, data, filename)\n",
       "        {\n",
       "            var uri = \"data:\" + mime_type + \";charset=\" + charset + \",\" + data;\n",
       "            uri = encodeURI(uri);\n",
       "\n",
       "            var link = document.createElement(\"a\");\n",
       "            if(typeof link.download != \"undefined\")\n",
       "            {\n",
       "              link.href = uri;\n",
       "              link.style = \"visibility:hidden\";\n",
       "              link.download = filename;\n",
       "\n",
       "              document.body.appendChild(link);\n",
       "              link.click();\n",
       "              document.body.removeChild(link);\n",
       "            }\n",
       "            else\n",
       "            {\n",
       "              window.open(uri);\n",
       "            }\n",
       "        };\n",
       "        return module;\n",
       "    })();\n",
       "(function(tables, context_menu, io, owner_id, key, label, names, columns, filename)\n",
       "        {\n",
       "            tables.set(owner_id, key, names, columns);\n",
       "\n",
       "            var owner = document.querySelector(\"#\" + owner_id);\n",
       "            function show_item(e)\n",
       "            {\n",
       "                return owner.contains(e.target);\n",
       "            }\n",
       "\n",
       "            function choose_item()\n",
       "            {\n",
       "                io.save_file(\"text/csv\", \"utf-8\", tables.get_csv(owner_id, key), filename + \".csv\");\n",
       "            }\n",
       "\n",
       "            context_menu.add_item(\"Save \" + label + \" as CSV\", show_item, choose_item);\n",
       "        })(modules[\"toyplot/tables\"],modules[\"toyplot/menus/context\"],modules[\"toyplot/io\"],\"tda1aa10888974651ba3b144fa85dd8bc\",\"data\",\"table data\",[null, null, null, null, null, null, null, null, null, null, null, null, null, null, null],[[null, null, null, null, null, null, null, null, null, null, null, null, null, null], [null, null, null, null, null, null, null, null, null, null, null, null, null, null], [null, null, null, null, null, null, null, null, null, null, null, null, null, null], [null, null, null, null, null, null, null, null, null, null, null, null, null, null], [null, null, null, null, null, null, null, null, null, null, null, null, null, null], [null, null, null, null, null, null, null, null, null, null, null, null, null, null], [null, null, null, null, null, null, null, null, null, null, null, null, null, null], [null, null, null, null, null, null, null, null, null, null, null, null, null, null], [null, null, null, null, null, null, null, null, null, null, null, null, null, null], [null, null, null, null, null, null, null, null, null, null, null, null, null, null], [null, null, null, null, null, null, null, null, null, null, null, null, null, null], [null, null, null, null, null, null, null, null, null, null, null, null, null, null], [null, null, null, null, null, null, null, null, null, null, null, null, null, null], [null, null, null, null, null, null, null, null, null, null, null, null, null, null], [null, null, null, null, null, null, null, null, null, null, null, null, null, null]],\"toyplot\");\n",
       "})();</script></div></div>"
      ]
     },
     "metadata": {},
     "output_type": "display_data"
    }
   ],
   "source": [
    "# a random rectangular matrix\n",
    "tree = toytree.rtree.unittree(15)\n",
    "tree.idx_dict[0].name = \"hello world\"\n",
    "matrix = np.arange(tree.ntips * tree.ntips).reshape(tree.ntips, tree.ntips)\n",
    "matrix = matrix / 10\n",
    "\n",
    "# create a canvas\n",
    "canvas = toyplot.Canvas(width=500, height=500);\n",
    "\n",
    "# add tree\n",
    "ax0 = canvas.cartesian(bounds=(\"10%\", \"30%\", \"35%\", \"90%\"), show=False)\n",
    "_, _, mark0 = tree.draw(axes=ax0, tip_labels=False, tip_labels_align=True)\n",
    "\n",
    "# add tree with names in reverse order of first drawing\n",
    "ax1 = canvas.cartesian(bounds=(\"35%\", \"90%\", \"10%\", \"30%\"), xshow=False, yshow=False)\n",
    "tree.draw(axes=ax1, tip_labels=False, tip_labels_align=True, layout='d', fixed_order=tree.get_tip_labels()[::-1])\n",
    "\n",
    "# add a heatmap\n",
    "#ax2 = canvas.cartesian(bounds=(\"35%\", \"90%\", \"35%\", \"90%\"), xshow=False, yshow=False)\n",
    "#ax2.table((matrix, colormap))\n",
    "\n",
    "xmin = (0.35 * canvas.width) - (0.90 - 0.35) * canvas.width * (1 / (2 * tree.ntips))\n",
    "xmax = (0.90 * canvas.width) + (0.90 - 0.35) * canvas.width * (1 / (2 * tree.ntips))\n",
    "ymin = (0.35 * canvas.height) - (0.90 - 0.35) * canvas.height * (1 / (2 * tree.ntips))\n",
    "ymax = (0.90 * canvas.height) + (0.90 - 0.35) * canvas.height * (1 / (2 * tree.ntips))\n",
    "\n",
    "\n",
    "ax3 = canvas.cartesian(bounds=(\"90%\", \"100%\", ymin, ymax), xshow=False, yshow=False)\n",
    "ax3.text(\n",
    "    np.repeat(0, tree.ntips), \n",
    "    np.arange(tree.ntips), \n",
    "    tree.get_tip_labels(),\n",
    "    color=\"black\",\n",
    "    annotation=True,\n",
    "    style={\"text-anchor\": \"start\"}\n",
    ")\n",
    "\n",
    "# add matrix\n",
    "table = canvas.table(\n",
    "    rows=tree.ntips,\n",
    "    columns=tree.ntips,#\n",
    "    bounds=(xmin, xmax, ymin, ymax),\n",
    ")\n",
    "\n",
    "\n",
    "colormap = toyplot.color.brewer.map(\"BlueRed\")\n",
    "\n",
    "# apply a color to each cell in the table\n",
    "for ridx in range(matrix.shape[0]):\n",
    "    for cidx in range(matrix.shape[1]):\n",
    "        cell = table.cells.cell[ridx, cidx]\n",
    "        cell.style = {\n",
    "            \"fill\": colormap.colors(matrix[ridx, cidx], matrix.min(), matrix.max()),\n",
    "        }\n",
    "\n",
    "# style the gaps between cells\n",
    "table.body.gaps.columns[:] = 1\n",
    "table.body.gaps.rows[:] = 1\n",
    "\n",
    "# hide axes coordinates\n",
    "axes.show = False"
   ]
  },
  {
   "cell_type": "code",
   "execution_count": 812,
   "id": "d9937c5d",
   "metadata": {},
   "outputs": [
    {
     "data": {
      "text/plain": [
       "<bound method Canvas.image of <toyplot.canvas.Canvas object at 0x7fad549cd280>>"
      ]
     },
     "execution_count": 812,
     "metadata": {},
     "output_type": "execute_result"
    }
   ],
   "source": [
    "ax0."
   ]
  },
  {
   "cell_type": "code",
   "execution_count": 801,
   "id": "71a81cc2",
   "metadata": {},
   "outputs": [
    {
     "data": {
      "text/plain": [
       "True"
      ]
     },
     "execution_count": 801,
     "metadata": {},
     "output_type": "execute_result"
    }
   ],
   "source": [
    "x.show"
   ]
  },
  {
   "cell_type": "code",
   "execution_count": 440,
   "id": "7008e265",
   "metadata": {},
   "outputs": [
    {
     "data": {
      "text/plain": [
       "masked_array(data=[50.0, 70.83333333333333, 91.66666666666667, 300.0],\n",
       "             mask=[False, False, False, False],\n",
       "       fill_value=1e+20)"
      ]
     },
     "execution_count": 440,
     "metadata": {},
     "output_type": "execute_result"
    }
   ],
   "source": [
    ">>> projection = toyplot.projection.linear(0, 6, 50, 300)\n",
    ">>> projection([0, 0.5, 1, 6])"
   ]
  },
  {
   "cell_type": "code",
   "execution_count": 450,
   "id": "51d69282",
   "metadata": {},
   "outputs": [
    {
     "data": {
      "text/plain": [
       "masked_array(data=[69.23076923076923, 319.23076923076917],\n",
       "             mask=[False, False],\n",
       "       fill_value=1e+20)"
      ]
     },
     "execution_count": 450,
     "metadata": {},
     "output_type": "execute_result"
    }
   ],
   "source": [
    ">>> projection = toyplot.projection.linear(-0.5, 6., 50, 300)\n",
    ">>> projection([0, 6.5])"
   ]
  },
  {
   "cell_type": "code",
   "execution_count": 274,
   "id": "2bc04f00",
   "metadata": {},
   "outputs": [
    {
     "data": {
      "text/html": [
       "<div class=\"toyplot\" id=\"t683021556cb7451780de0e885b589544\" style=\"text-align:center\"><svg class=\"toyplot-canvas-Canvas\" xmlns:toyplot=\"http://www.sandia.gov/toyplot\" xmlns:xlink=\"http://www.w3.org/1999/xlink\" xmlns=\"http://www.w3.org/2000/svg\" width=\"500.0px\" height=\"350.0px\" viewBox=\"0 0 500.0 350.0\" preserveAspectRatio=\"xMidYMid meet\" style=\"background-color:transparent;border-color:#292724;border-style:none;border-width:1.0;fill:rgb(16.1%,15.3%,14.1%);fill-opacity:1.0;font-family:Helvetica;font-size:12px;opacity:1.0;stroke:rgb(16.1%,15.3%,14.1%);stroke-opacity:1.0;stroke-width:1.0\" id=\"ta23e286108d04c31ab0387f1e4199624\"><g class=\"toyplot-coordinates-Cartesian\" id=\"t6b3b0b96c1e445329c66fc21f1c652ab\"><clipPath id=\"t4c9cd29c7bf34fc981a3f656b7d0c097\"><rect x=\"40.0\" y=\"60.0\" width=\"120.0\" height=\"200.0\"></rect></clipPath><g clip-path=\"url(#t4c9cd29c7bf34fc981a3f656b7d0c097)\"><g class=\"toytree-mark-Toytree\" id=\"tea5b72c035fc4482a7e23f59ea6ac8be\"><g class=\"toytree-Edges\" style=\"fill:none;stroke:rgba(16.1%,15.3%,14.1%,1.000);stroke-linecap:round;stroke-width:2.0\"><path d=\"M 132.0 232.0 L 132.0 250.0 L 150.0 250.0\" id=\"6,0\" style=\"stroke-width:nan\"></path><path d=\"M 132.0 232.0 L 132.0 214.0 L 150.0 214.0\" id=\"6,1\" style=\"stroke-width:nan\"></path><path d=\"M 112.0 205.0 L 112.0 178.0 L 132.0 178.0\" id=\"7,2\" style=\"stroke-width:nan\"></path><path d=\"M 91.5 173.5 L 91.5 142.0 L 112.0 142.0\" id=\"8,3\" style=\"stroke-width:nan\"></path><path d=\"M 71.0 139.8 L 71.0 106.0 L 91.5 106.0\" id=\"9,4\" style=\"stroke-width:nan\"></path><path d=\"M 50.0 104.9 L 50.0 70.0 L 71.0 70.0\" id=\"10,5\" style=\"stroke-width:nan\"></path><path d=\"M 112.0 205.0 L 112.0 232.0 L 132.0 232.0\" id=\"7,6\" style=\"stroke-width:nan\"></path><path d=\"M 91.5 173.5 L 91.5 205.0 L 112.0 205.0\" id=\"8,7\" style=\"stroke-width:nan\"></path><path d=\"M 71.0 139.8 L 71.0 173.5 L 91.5 173.5\" id=\"9,8\" style=\"stroke-width:nan\"></path><path d=\"M 50.0 104.9 L 50.0 139.8 L 71.0 139.8\" id=\"10,9\" style=\"stroke-width:nan\"></path></g><g class=\"toytree-AlignEdges\" style=\"stroke:rgba(66.3%,66.3%,66.3%,1.000);stroke-dasharray:2,4;stroke-linecap:round;stroke-opacity:0.75;stroke-width:2\"><path d=\"M 150.0 250.0 L 150.0 250.0\"></path><path d=\"M 150.0 214.0 L 150.0 214.0\"></path><path d=\"M 150.0 178.0 L 132.0 178.0\"></path><path d=\"M 150.0 142.0 L 112.0 142.0\"></path><path d=\"M 150.0 106.0 L 91.5 106.0\"></path><path d=\"M 150.0 70.0 L 71.0 70.0\"></path></g></g></g></g><g class=\"toyplot-coordinates-Table\" id=\"tae546a5f96fb47149222b3434ab3b680\"><g transform=\"translate(168.33333333333334,55.0)\"><text x=\"-3.3360000000000003\" y=\"3.066\" style=\"fill:rgb(16.1%,15.3%,14.1%);fill-opacity:1.0;font-family:helvetica;font-size:12.0px;font-weight:normal;stroke:none;vertical-align:baseline;white-space:pre\">0</text></g><g transform=\"translate(185.0,55.0)\"><text x=\"-3.3360000000000003\" y=\"3.066\" style=\"fill:rgb(16.1%,15.3%,14.1%);fill-opacity:1.0;font-family:helvetica;font-size:12.0px;font-weight:normal;stroke:none;vertical-align:baseline;white-space:pre\">1</text></g><g transform=\"translate(201.66666666666669,55.0)\"><text x=\"-3.3360000000000003\" y=\"3.066\" style=\"fill:rgb(16.1%,15.3%,14.1%);fill-opacity:1.0;font-family:helvetica;font-size:12.0px;font-weight:normal;stroke:none;vertical-align:baseline;white-space:pre\">2</text></g><g transform=\"translate(218.33333333333334,55.0)\"><text x=\"-3.3360000000000003\" y=\"3.066\" style=\"fill:rgb(16.1%,15.3%,14.1%);fill-opacity:1.0;font-family:helvetica;font-size:12.0px;font-weight:normal;stroke:none;vertical-align:baseline;white-space:pre\">3</text></g><g transform=\"translate(235.00000000000003,55.0)\"><text x=\"-3.3360000000000003\" y=\"3.066\" style=\"fill:rgb(16.1%,15.3%,14.1%);fill-opacity:1.0;font-family:helvetica;font-size:12.0px;font-weight:normal;stroke:none;vertical-align:baseline;white-space:pre\">4</text></g><g transform=\"translate(251.66666666666669,55.0)\"><text x=\"-3.3360000000000003\" y=\"3.066\" style=\"fill:rgb(16.1%,15.3%,14.1%);fill-opacity:1.0;font-family:helvetica;font-size:12.0px;font-weight:normal;stroke:none;vertical-align:baseline;white-space:pre\">5</text></g><rect x=\"160.0\" y=\"65.0\" width=\"16.666666666666686\" height=\"31.66666666666667\" style=\"fill:rgb(2%,18.8%,38%);fill-opacity:1.0;stroke:none\"><title>0.000000</title></rect><rect x=\"176.66666666666669\" y=\"65.0\" width=\"16.666666666666657\" height=\"31.66666666666667\" style=\"fill:rgb(5.1%,24.9%,46.4%);fill-opacity:1.0;stroke:none\"><title>1.000000</title></rect><rect x=\"193.33333333333334\" y=\"65.0\" width=\"16.666666666666657\" height=\"31.66666666666667\" style=\"fill:rgb(8.2%,30.9%,54.8%);fill-opacity:1.0;stroke:none\"><title>2.000000</title></rect><rect x=\"210.0\" y=\"65.0\" width=\"16.666666666666686\" height=\"31.66666666666667\" style=\"fill:rgb(11.4%,37%,63.2%);fill-opacity:1.0;stroke:none\"><title>3.000000</title></rect><rect x=\"226.66666666666669\" y=\"65.0\" width=\"16.666666666666686\" height=\"31.66666666666667\" style=\"fill:rgb(14.8%,42.5%,68.7%);fill-opacity:1.0;stroke:none\"><title>4.000000</title></rect><rect x=\"243.33333333333337\" y=\"65.0\" width=\"16.66666666666663\" height=\"31.66666666666667\" style=\"fill:rgb(18.7%,47.6%,71.3%);fill-opacity:1.0;stroke:none\"><title>5.000000</title></rect><g transform=\"translate(265.0,80.83333333333334)\"><text x=\"0\" y=\"3.066\" style=\"fill:rgb(16.1%,15.3%,14.1%);fill-opacity:1.0;font-family:helvetica;font-size:12.0px;font-weight:normal;stroke:none;vertical-align:baseline;white-space:pre\">5</text></g><rect x=\"160.0\" y=\"96.66666666666667\" width=\"16.666666666666686\" height=\"31.66666666666667\" style=\"fill:rgb(22.5%,52.6%,73.9%);fill-opacity:1.0;stroke:none\"><title>6.000000</title></rect><rect x=\"176.66666666666669\" y=\"96.66666666666667\" width=\"16.666666666666657\" height=\"31.66666666666667\" style=\"fill:rgb(26.3%,57.6%,76.5%);fill-opacity:1.0;stroke:none\"><title>7.000000</title></rect><rect x=\"193.33333333333334\" y=\"96.66666666666667\" width=\"16.666666666666657\" height=\"31.66666666666667\" style=\"fill:rgb(35.1%,63.2%,79.5%);fill-opacity:1.0;stroke:none\"><title>8.000000</title></rect><rect x=\"210.0\" y=\"96.66666666666667\" width=\"16.666666666666686\" height=\"31.66666666666667\" style=\"fill:rgb(44%,68.9%,82.5%);fill-opacity:1.0;stroke:none\"><title>9.000000</title></rect><rect x=\"226.66666666666669\" y=\"96.66666666666667\" width=\"16.666666666666686\" height=\"31.66666666666667\" style=\"fill:rgb(52.8%,74.5%,85.5%);fill-opacity:1.0;stroke:none\"><title>10.000000</title></rect><rect x=\"243.33333333333337\" y=\"96.66666666666667\" width=\"16.66666666666663\" height=\"31.66666666666667\" style=\"fill:rgb(60.8%,79%,88.1%);fill-opacity:1.0;stroke:none\"><title>11.000000</title></rect><g transform=\"translate(265.0,112.5)\"><text x=\"0\" y=\"3.066\" style=\"fill:rgb(16.1%,15.3%,14.1%);fill-opacity:1.0;font-family:helvetica;font-size:12.0px;font-weight:normal;stroke:none;vertical-align:baseline;white-space:pre\">4</text></g><rect x=\"160.0\" y=\"128.33333333333334\" width=\"16.666666666666686\" height=\"31.666666666666657\" style=\"fill:rgb(67.8%,82.6%,90.1%);fill-opacity:1.0;stroke:none\"><title>12.000000</title></rect><rect x=\"176.66666666666669\" y=\"128.33333333333334\" width=\"16.666666666666657\" height=\"31.666666666666657\" style=\"fill:rgb(74.9%,86.2%,92.1%);fill-opacity:1.0;stroke:none\"><title>13.000000</title></rect><rect x=\"193.33333333333334\" y=\"128.33333333333334\" width=\"16.666666666666657\" height=\"31.666666666666657\" style=\"fill:rgb(82%,89.8%,94.1%);fill-opacity:1.0;stroke:none\"><title>14.000000</title></rect><rect x=\"210.0\" y=\"128.33333333333334\" width=\"16.666666666666686\" height=\"31.666666666666657\" style=\"fill:rgb(86.2%,91.8%,94.9%);fill-opacity:1.0;stroke:none\"><title>15.000000</title></rect><rect x=\"226.66666666666669\" y=\"128.33333333333334\" width=\"16.666666666666686\" height=\"31.666666666666657\" style=\"fill:rgb(90.5%,93.8%,95.7%);fill-opacity:1.0;stroke:none\"><title>16.000000</title></rect><rect x=\"243.33333333333337\" y=\"128.33333333333334\" width=\"16.66666666666663\" height=\"31.666666666666657\" style=\"fill:rgb(94.7%,95.9%,96.5%);fill-opacity:1.0;stroke:none\"><title>17.000000</title></rect><g transform=\"translate(265.0,144.16666666666669)\"><text x=\"0\" y=\"3.066\" style=\"fill:rgb(16.1%,15.3%,14.1%);fill-opacity:1.0;font-family:helvetica;font-size:12.0px;font-weight:normal;stroke:none;vertical-align:baseline;white-space:pre\">1</text></g><rect x=\"160.0\" y=\"160.0\" width=\"16.666666666666686\" height=\"31.666666666666657\" style=\"fill:rgb(97.2%,95.3%,94.2%);fill-opacity:1.0;stroke:none\"><title>18.000000</title></rect><rect x=\"176.66666666666669\" y=\"160.0\" width=\"16.666666666666657\" height=\"31.666666666666657\" style=\"fill:rgb(97.9%,92.2%,88.8%);fill-opacity:1.0;stroke:none\"><title>19.000000</title></rect><rect x=\"193.33333333333334\" y=\"160.0\" width=\"16.666666666666657\" height=\"31.666666666666657\" style=\"fill:rgb(98.5%,89%,83.4%);fill-opacity:1.0;stroke:none\"><title>20.000000</title></rect><rect x=\"210.0\" y=\"160.0\" width=\"16.666666666666686\" height=\"31.666666666666657\" style=\"fill:rgb(99.2%,85.9%,78%);fill-opacity:1.0;stroke:none\"><title>21.000000</title></rect><rect x=\"226.66666666666669\" y=\"160.0\" width=\"16.666666666666686\" height=\"31.666666666666657\" style=\"fill:rgb(98.2%,79.8%,70.3%);fill-opacity:1.0;stroke:none\"><title>22.000000</title></rect><rect x=\"243.33333333333337\" y=\"160.0\" width=\"16.66666666666663\" height=\"31.666666666666657\" style=\"fill:rgb(97.2%,73.8%,62.6%);fill-opacity:1.0;stroke:none\"><title>23.000000</title></rect><g transform=\"translate(265.0,175.83333333333331)\"><text x=\"0\" y=\"3.066\" style=\"fill:rgb(16.1%,15.3%,14.1%);fill-opacity:1.0;font-family:helvetica;font-size:12.0px;font-weight:normal;stroke:none;vertical-align:baseline;white-space:pre\">0</text></g><rect x=\"160.0\" y=\"191.66666666666666\" width=\"16.666666666666686\" height=\"31.666666666666657\" style=\"fill:rgb(96.2%,67.7%,54.8%);fill-opacity:1.0;stroke:none\"><title>24.000000</title></rect><rect x=\"176.66666666666669\" y=\"191.66666666666666\" width=\"16.666666666666657\" height=\"31.666666666666657\" style=\"fill:rgb(94%,60.8%,48%);fill-opacity:1.0;stroke:none\"><title>25.000000</title></rect><rect x=\"193.33333333333334\" y=\"191.66666666666666\" width=\"16.666666666666657\" height=\"31.666666666666657\" style=\"fill:rgb(90.6%,53.1%,42.1%);fill-opacity:1.0;stroke:none\"><title>26.000000</title></rect><rect x=\"210.0\" y=\"191.66666666666666\" width=\"16.666666666666686\" height=\"31.666666666666657\" style=\"fill:rgb(87.3%,45.4%,36.1%);fill-opacity:1.0;stroke:none\"><title>27.000000</title></rect><rect x=\"226.66666666666669\" y=\"191.66666666666666\" width=\"16.666666666666686\" height=\"31.666666666666657\" style=\"fill:rgb(83.9%,37.6%,30.2%);fill-opacity:1.0;stroke:none\"><title>28.000000</title></rect><rect x=\"243.33333333333337\" y=\"191.66666666666666\" width=\"16.66666666666663\" height=\"31.666666666666657\" style=\"fill:rgb(79.9%,29.6%,26.4%);fill-opacity:1.0;stroke:none\"><title>29.000000</title></rect><g transform=\"translate(265.0,207.5)\"><text x=\"0\" y=\"3.066\" style=\"fill:rgb(16.1%,15.3%,14.1%);fill-opacity:1.0;font-family:helvetica;font-size:12.0px;font-weight:normal;stroke:none;vertical-align:baseline;white-space:pre\">2</text></g><rect x=\"160.0\" y=\"223.33333333333331\" width=\"16.666666666666686\" height=\"31.666666666666657\" style=\"fill:rgb(75.9%,21.5%,22.6%);fill-opacity:1.0;stroke:none\"><title>30.000000</title></rect><rect x=\"176.66666666666669\" y=\"223.33333333333331\" width=\"16.666666666666657\" height=\"31.666666666666657\" style=\"fill:rgb(71.8%,13.4%,18.8%);fill-opacity:1.0;stroke:none\"><title>31.000000</title></rect><rect x=\"193.33333333333334\" y=\"223.33333333333331\" width=\"16.666666666666657\" height=\"31.666666666666657\" style=\"fill:rgb(65.6%,8.1%,16.2%);fill-opacity:1.0;stroke:none\"><title>32.000000</title></rect><rect x=\"210.0\" y=\"223.33333333333331\" width=\"16.666666666666686\" height=\"31.666666666666657\" style=\"fill:rgb(57.2%,5.4%,14.8%);fill-opacity:1.0;stroke:none\"><title>33.000000</title></rect><rect x=\"226.66666666666669\" y=\"223.33333333333331\" width=\"16.666666666666686\" height=\"31.666666666666657\" style=\"fill:rgb(48.8%,2.7%,13.5%);fill-opacity:1.0;stroke:none\"><title>34.000000</title></rect><rect x=\"243.33333333333337\" y=\"223.33333333333331\" width=\"16.66666666666663\" height=\"31.666666666666657\" style=\"fill:rgb(40.4%,0%,12.2%);fill-opacity:1.0;stroke:none\"><title>35.000000</title></rect><g transform=\"translate(265.0,239.16666666666663)\"><text x=\"0\" y=\"3.066\" style=\"fill:rgb(16.1%,15.3%,14.1%);fill-opacity:1.0;font-family:helvetica;font-size:12.0px;font-weight:normal;stroke:none;vertical-align:baseline;white-space:pre\">3</text></g><g transform=\"translate(210.0,35.0)\"><text x=\"-16.337999999999997\" y=\"3.066\" style=\"fill:rgb(16.1%,15.3%,14.1%);fill-opacity:1.0;font-family:helvetica;font-size:12.0px;font-weight:bold;stroke:none;vertical-align:baseline;white-space:pre\">Traits</text></g></g></svg><div class=\"toyplot-behavior\"><script>(function()\n",
       "{\n",
       "var modules={};\n",
       "modules[\"toyplot/tables\"] = (function()\n",
       "    {\n",
       "        var tables = [];\n",
       "\n",
       "        var module = {};\n",
       "\n",
       "        module.set = function(owner, key, names, columns)\n",
       "        {\n",
       "            tables.push({owner: owner, key: key, names: names, columns: columns});\n",
       "        }\n",
       "\n",
       "        module.get = function(owner, key)\n",
       "        {\n",
       "            for(var i = 0; i != tables.length; ++i)\n",
       "            {\n",
       "                var table = tables[i];\n",
       "                if(table.owner != owner)\n",
       "                    continue;\n",
       "                if(table.key != key)\n",
       "                    continue;\n",
       "                return {names: table.names, columns: table.columns};\n",
       "            }\n",
       "        }\n",
       "\n",
       "        module.get_csv = function(owner, key)\n",
       "        {\n",
       "            var table = module.get(owner, key);\n",
       "            if(table != undefined)\n",
       "            {\n",
       "                var csv = \"\";\n",
       "                csv += table.names.join(\",\") + \"\\n\";\n",
       "                for(var i = 0; i != table.columns[0].length; ++i)\n",
       "                {\n",
       "                  for(var j = 0; j != table.columns.length; ++j)\n",
       "                  {\n",
       "                    if(j)\n",
       "                      csv += \",\";\n",
       "                    csv += table.columns[j][i];\n",
       "                  }\n",
       "                  csv += \"\\n\";\n",
       "                }\n",
       "                return csv;\n",
       "            }\n",
       "        }\n",
       "\n",
       "        return module;\n",
       "    })();\n",
       "modules[\"toyplot/root/id\"] = \"t683021556cb7451780de0e885b589544\";\n",
       "modules[\"toyplot/root\"] = (function(root_id)\n",
       "    {\n",
       "        return document.querySelector(\"#\" + root_id);\n",
       "    })(modules[\"toyplot/root/id\"]);\n",
       "modules[\"toyplot/canvas/id\"] = \"ta23e286108d04c31ab0387f1e4199624\";\n",
       "modules[\"toyplot/canvas\"] = (function(canvas_id)\n",
       "    {\n",
       "        return document.querySelector(\"#\" + canvas_id);\n",
       "    })(modules[\"toyplot/canvas/id\"]);\n",
       "modules[\"toyplot/menus/context\"] = (function(root, canvas)\n",
       "    {\n",
       "        var wrapper = document.createElement(\"div\");\n",
       "        wrapper.innerHTML = \"<ul class='toyplot-context-menu' style='background:#eee; border:1px solid #b8b8b8; border-radius:5px; box-shadow: 0px 0px 8px rgba(0%,0%,0%,0.25); margin:0; padding:3px 0; position:fixed; visibility:hidden;'></ul>\"\n",
       "        var menu = wrapper.firstChild;\n",
       "\n",
       "        root.appendChild(menu);\n",
       "\n",
       "        var items = [];\n",
       "\n",
       "        var ignore_mouseup = null;\n",
       "        function open_menu(e)\n",
       "        {\n",
       "            var show_menu = false;\n",
       "            for(var index=0; index != items.length; ++index)\n",
       "            {\n",
       "                var item = items[index];\n",
       "                if(item.show(e))\n",
       "                {\n",
       "                    item.item.style.display = \"block\";\n",
       "                    show_menu = true;\n",
       "                }\n",
       "                else\n",
       "                {\n",
       "                    item.item.style.display = \"none\";\n",
       "                }\n",
       "            }\n",
       "\n",
       "            if(show_menu)\n",
       "            {\n",
       "                ignore_mouseup = true;\n",
       "                menu.style.left = (e.clientX + 1) + \"px\";\n",
       "                menu.style.top = (e.clientY - 5) + \"px\";\n",
       "                menu.style.visibility = \"visible\";\n",
       "                e.stopPropagation();\n",
       "                e.preventDefault();\n",
       "            }\n",
       "        }\n",
       "\n",
       "        function close_menu()\n",
       "        {\n",
       "            menu.style.visibility = \"hidden\";\n",
       "        }\n",
       "\n",
       "        function contextmenu(e)\n",
       "        {\n",
       "            open_menu(e);\n",
       "        }\n",
       "\n",
       "        function mousemove(e)\n",
       "        {\n",
       "            ignore_mouseup = false;\n",
       "        }\n",
       "\n",
       "        function mouseup(e)\n",
       "        {\n",
       "            if(ignore_mouseup)\n",
       "            {\n",
       "                ignore_mouseup = false;\n",
       "                return;\n",
       "            }\n",
       "            close_menu();\n",
       "        }\n",
       "\n",
       "        function keydown(e)\n",
       "        {\n",
       "            if(e.key == \"Escape\" || e.key == \"Esc\" || e.keyCode == 27)\n",
       "            {\n",
       "                close_menu();\n",
       "            }\n",
       "        }\n",
       "\n",
       "        canvas.addEventListener(\"contextmenu\", contextmenu);\n",
       "        canvas.addEventListener(\"mousemove\", mousemove);\n",
       "        document.addEventListener(\"mouseup\", mouseup);\n",
       "        document.addEventListener(\"keydown\", keydown);\n",
       "\n",
       "        var module = {};\n",
       "        module.add_item = function(label, show, activate)\n",
       "        {\n",
       "            var wrapper = document.createElement(\"div\");\n",
       "            wrapper.innerHTML = \"<li class='toyplot-context-menu-item' style='background:#eee; color:#333; padding:2px 20px; list-style:none; margin:0; text-align:left;'>\" + label + \"</li>\"\n",
       "            var item = wrapper.firstChild;\n",
       "\n",
       "            items.push({item: item, show: show});\n",
       "\n",
       "            function mouseover()\n",
       "            {\n",
       "                this.style.background = \"steelblue\";\n",
       "                this.style.color = \"white\";\n",
       "            }\n",
       "\n",
       "            function mouseout()\n",
       "            {\n",
       "                this.style.background = \"#eee\";\n",
       "                this.style.color = \"#333\";\n",
       "            }\n",
       "\n",
       "            function choose_item(e)\n",
       "            {\n",
       "                close_menu();\n",
       "                activate();\n",
       "\n",
       "                e.stopPropagation();\n",
       "                e.preventDefault();\n",
       "            }\n",
       "\n",
       "            item.addEventListener(\"mouseover\", mouseover);\n",
       "            item.addEventListener(\"mouseout\", mouseout);\n",
       "            item.addEventListener(\"mouseup\", choose_item);\n",
       "            item.addEventListener(\"contextmenu\", choose_item);\n",
       "\n",
       "            menu.appendChild(item);\n",
       "        };\n",
       "        return module;\n",
       "    })(modules[\"toyplot/root\"],modules[\"toyplot/canvas\"]);\n",
       "modules[\"toyplot/io\"] = (function()\n",
       "    {\n",
       "        var module = {};\n",
       "        module.save_file = function(mime_type, charset, data, filename)\n",
       "        {\n",
       "            var uri = \"data:\" + mime_type + \";charset=\" + charset + \",\" + data;\n",
       "            uri = encodeURI(uri);\n",
       "\n",
       "            var link = document.createElement(\"a\");\n",
       "            if(typeof link.download != \"undefined\")\n",
       "            {\n",
       "              link.href = uri;\n",
       "              link.style = \"visibility:hidden\";\n",
       "              link.download = filename;\n",
       "\n",
       "              document.body.appendChild(link);\n",
       "              link.click();\n",
       "              document.body.removeChild(link);\n",
       "            }\n",
       "            else\n",
       "            {\n",
       "              window.open(uri);\n",
       "            }\n",
       "        };\n",
       "        return module;\n",
       "    })();\n",
       "(function(tables, context_menu, io, owner_id, key, label, names, columns, filename)\n",
       "        {\n",
       "            tables.set(owner_id, key, names, columns);\n",
       "\n",
       "            var owner = document.querySelector(\"#\" + owner_id);\n",
       "            function show_item(e)\n",
       "            {\n",
       "                return owner.contains(e.target);\n",
       "            }\n",
       "\n",
       "            function choose_item()\n",
       "            {\n",
       "                io.save_file(\"text/csv\", \"utf-8\", tables.get_csv(owner_id, key), filename + \".csv\");\n",
       "            }\n",
       "\n",
       "            context_menu.add_item(\"Save \" + label + \" as CSV\", show_item, choose_item);\n",
       "        })(modules[\"toyplot/tables\"],modules[\"toyplot/menus/context\"],modules[\"toyplot/io\"],\"tae546a5f96fb47149222b3434ab3b680\",\"data\",\"table data\",[null, null, \"Traits\", \"Traits\", \"Traits\", \"Traits\", \"Traits\", \"Traits\", null, null],[[null, null, null, null, null, null, null, null, null], [null, null, null, null, null, null, null, null, null], [\"0\", 0.0, 6.0, 12.0, 18.0, 24.0, 30.0, null, null], [\"1\", 1.0, 7.0, 13.0, 19.0, 25.0, 31.0, null, null], [\"2\", 2.0, 8.0, 14.0, 20.0, 26.0, 32.0, null, null], [\"3\", 3.0, 9.0, 15.0, 21.0, 27.0, 33.0, null, null], [\"4\", 4.0, 10.0, 16.0, 22.0, 28.0, 34.0, null, null], [\"5\", 5.0, 11.0, 17.0, 23.0, 29.0, 35.0, null, null], [null, \"5\", \"4\", \"1\", \"0\", \"2\", \"3\", null, null], [null, null, null, null, null, null, null, null, null]],\"toyplot\");\n",
       "})();</script></div></div>"
      ]
     },
     "metadata": {},
     "output_type": "display_data"
    }
   ],
   "source": [
    "# a random rectangular matrix\n",
    "matrix = np.arange(tree.ntips * tree.ntips).reshape(tree.ntips, tree.ntips)\n",
    "matrix.shape\n",
    "\n",
    "# create a canvas\n",
    "canvas = toyplot.Canvas(width=500, height=350);\n",
    "\n",
    "# add tree\n",
    "axes = canvas.cartesian(bounds=(50, 150, 70, 250))\n",
    "tree.draw(axes=axes, tip_labels=False, tip_labels_align=True)\n",
    "\n",
    "# add matrix\n",
    "colormap = toyplot.color.brewer.map(\"BlueRed\")\n",
    "table = canvas.matrix(\n",
    "    (matrix, colormap),\n",
    "    bounds=(120, 300, 25, 295),\n",
    "    tshow=True,\n",
    "    tlabel=\"Traits\",\n",
    "    lshow=False,\n",
    "    rshow=True,\n",
    "    margin=0,\n",
    "    rlocator=toyplot.locator.Explicit(range(tree.ntips), tree.get_tip_labels()[::-1])\n",
    ")\n",
    "\n",
    "# hide axes coordinates\n",
    "axes.show = False\n"
   ]
  },
  {
   "cell_type": "code",
   "execution_count": 6,
   "id": "58826ca1",
   "metadata": {},
   "outputs": [],
   "source": [
    "t = SPTREE.treenode"
   ]
  },
  {
   "cell_type": "code",
   "execution_count": 8,
   "id": "ac8e7665",
   "metadata": {},
   "outputs": [
    {
     "name": "stdout",
     "output_type": "stream",
     "text": [
      "7.51 µs ± 69.4 ns per loop (mean ± std. dev. of 7 runs, 100000 loops each)\n"
     ]
    }
   ],
   "source": [
    "#%%timeit\n",
    "\n",
    "nn = 0\n",
    "nt = 0\n",
    "for n in t.traverse():\n",
    "    nn += 1\n",
    "    if n.is_leaf():\n",
    "        nt += 1"
   ]
  },
  {
   "cell_type": "code",
   "execution_count": 12,
   "id": "83df6b57",
   "metadata": {},
   "outputs": [
    {
     "name": "stdout",
     "output_type": "stream",
     "text": [
      "8.6 µs ± 72.1 ns per loop (mean ± std. dev. of 7 runs, 100000 loops each)\n"
     ]
    }
   ],
   "source": [
    "%%timeit\n",
    "\n",
    "nn = 0\n",
    "nt = len(t)\n"
   ]
  },
  {
   "cell_type": "code",
   "execution_count": 13,
   "id": "1422beb7",
   "metadata": {},
   "outputs": [
    {
     "name": "stdout",
     "output_type": "stream",
     "text": [
      "48.3 ns ± 0.686 ns per loop (mean ± std. dev. of 7 runs, 10000000 loops each)\n"
     ]
    }
   ],
   "source": [
    "%%timeit\n",
    "len([]) == 0"
   ]
  },
  {
   "cell_type": "code",
   "execution_count": 14,
   "id": "e9175798",
   "metadata": {},
   "outputs": [
    {
     "name": "stdout",
     "output_type": "stream",
     "text": [
      "55.7 ns ± 1.44 ns per loop (mean ± std. dev. of 7 runs, 10000000 loops each)\n"
     ]
    }
   ],
   "source": [
    "%%timeit\n",
    "bool([])"
   ]
  },
  {
   "cell_type": "code",
   "execution_count": 15,
   "id": "5bb16cbb",
   "metadata": {},
   "outputs": [
    {
     "data": {
      "text/plain": [
       "[]"
      ]
     },
     "execution_count": 15,
     "metadata": {},
     "output_type": "execute_result"
    }
   ],
   "source": [
    "t.search_nodes(name=\"A\")"
   ]
  },
  {
   "cell_type": "code",
   "execution_count": 2,
   "id": "78c2d53f",
   "metadata": {},
   "outputs": [],
   "source": [
    "from toytree.core.drawing.container2 import *"
   ]
  },
  {
   "cell_type": "code",
   "execution_count": 2,
   "id": "e83f397d",
   "metadata": {},
   "outputs": [
    {
     "ename": "NameError",
     "evalue": "name 'toytree' is not defined",
     "output_type": "error",
     "traceback": [
      "\u001b[0;31m---------------------------------------------------------------------------\u001b[0m",
      "\u001b[0;31mNameError\u001b[0m                                 Traceback (most recent call last)",
      "Input \u001b[0;32mIn [2]\u001b[0m, in \u001b[0;36m<cell line: 1>\u001b[0;34m()\u001b[0m\n\u001b[0;32m----> 1\u001b[0m \u001b[43mtoytree\u001b[49m\u001b[38;5;241m.\u001b[39mset_log_level(\u001b[38;5;124m\"\u001b[39m\u001b[38;5;124mINFO\u001b[39m\u001b[38;5;124m\"\u001b[39m)\n\u001b[1;32m      3\u001b[0m \u001b[38;5;66;03m# get true tree\u001b[39;00m\n\u001b[1;32m      4\u001b[0m SPTREE \u001b[38;5;241m=\u001b[39m toytree\u001b[38;5;241m.\u001b[39mrtree\u001b[38;5;241m.\u001b[39munittree(\u001b[38;5;241m10\u001b[39m, treeheight\u001b[38;5;241m=\u001b[39m\u001b[38;5;241m5e5\u001b[39m, seed\u001b[38;5;241m=\u001b[39m\u001b[38;5;241m123\u001b[39m)\n",
      "\u001b[0;31mNameError\u001b[0m: name 'toytree' is not defined"
     ]
    }
   ],
   "source": [
    "toytree.set_log_level(\"INFO\")\n",
    "\n",
    "# get true tree\n",
    "SPTREE = toytree.rtree.unittree(10, treeheight=5e5, seed=123)\n",
    "SPTREE = SPTREE.set_node_data(\n",
    "    \"Ne\", default=1e5, \n",
    "    #mapping={i: 5e5 for i in (1,4,12,13,14,16,17,18)}\n",
    ")\n",
    "\n",
    "\n",
    "#tree = toytree.rtree.unittree(ntips=5, treeheight=1e6, seed=123)\n",
    "#tree = tree.set_node_data(\"Ne\", {0: 1e6, 2: 1e6}, 5e5)\n",
    "model = ipcoal.Model(SPTREE)\n",
    "model.sim_trees(5)\n",
    "\n",
    "con = Container(model, spacer=.75, blend=True)#, idx=0, spacer=4, min_width=2)"
   ]
  },
  {
   "cell_type": "code",
   "execution_count": 1,
   "id": "3a1e5118",
   "metadata": {},
   "outputs": [
    {
     "ename": "NameError",
     "evalue": "name 'con' is not defined",
     "output_type": "error",
     "traceback": [
      "\u001b[0;31m---------------------------------------------------------------------------\u001b[0m",
      "\u001b[0;31mNameError\u001b[0m                                 Traceback (most recent call last)",
      "Input \u001b[0;32mIn [1]\u001b[0m, in \u001b[0;36m<cell line: 1>\u001b[0;34m()\u001b[0m\n\u001b[0;32m----> 1\u001b[0m c,a,m\u001b[38;5;241m=\u001b[39m\u001b[43mcon\u001b[49m\u001b[38;5;241m.\u001b[39mdraw(width\u001b[38;5;241m=\u001b[39m\u001b[38;5;241m600\u001b[39m, height\u001b[38;5;241m=\u001b[39m\u001b[38;5;241m350\u001b[39m, color\u001b[38;5;241m=\u001b[39m\u001b[38;5;124m'\u001b[39m\u001b[38;5;124mblack\u001b[39m\u001b[38;5;124m'\u001b[39m, stripe\u001b[38;5;241m=\u001b[39m\u001b[38;5;28;01mFalse\u001b[39;00m, opacity\u001b[38;5;241m=\u001b[39m\u001b[38;5;241m0.5\u001b[39m);\n\u001b[1;32m      2\u001b[0m a\u001b[38;5;241m.\u001b[39mx\u001b[38;5;241m.\u001b[39mshow \u001b[38;5;241m=\u001b[39m \u001b[38;5;28;01mTrue\u001b[39;00m\n",
      "\u001b[0;31mNameError\u001b[0m: name 'con' is not defined"
     ]
    }
   ],
   "source": [
    "c,a,m=con.draw(width=600, height=350, color='black', stripe=False, opacity=0.5);\n",
    "a.x.show = True"
   ]
  },
  {
   "cell_type": "code",
   "execution_count": 11,
   "id": "536048fb",
   "metadata": {},
   "outputs": [
    {
     "data": {
      "text/plain": [
       "True"
      ]
     },
     "execution_count": 11,
     "metadata": {},
     "output_type": "execute_result"
    }
   ],
   "source": [
    "con.intervals[13].is_inside(i.xb0 + 0.2, i.y0 + 0.2, padding=0.1)"
   ]
  },
  {
   "cell_type": "code",
   "execution_count": 6,
   "id": "95729a2f",
   "metadata": {},
   "outputs": [
    {
     "data": {
      "text/plain": [
       "3.7083333333333335"
      ]
     },
     "execution_count": 6,
     "metadata": {},
     "output_type": "execute_result"
    }
   ],
   "source": [
    "i = con.intervals[13]\n",
    "\n",
    "i.xb0 + (350_000 - i.y0) * i.slope"
   ]
  },
  {
   "cell_type": "code",
   "execution_count": 20,
   "id": "fd1ad533",
   "metadata": {},
   "outputs": [
    {
     "data": {
      "text/plain": [
       "11.5"
      ]
     },
     "execution_count": 20,
     "metadata": {},
     "output_type": "execute_result"
    }
   ],
   "source": [
    "i.xb1"
   ]
  },
  {
   "cell_type": "code",
   "execution_count": 9,
   "id": "91c6f693",
   "metadata": {
    "scrolled": false
   },
   "outputs": [
    {
     "ename": "AttributeError",
     "evalue": "'Container' object has no attribute 'blocks'",
     "output_type": "error",
     "traceback": [
      "\u001b[0;31m---------------------------------------------------------------------------\u001b[0m",
      "\u001b[0;31mAttributeError\u001b[0m                            Traceback (most recent call last)",
      "\u001b[0;32m/tmp/ipykernel_200075/397665786.py\u001b[0m in \u001b[0;36m<module>\u001b[0;34m\u001b[0m\n\u001b[0;32m----> 1\u001b[0;31m \u001b[0mintervals\u001b[0m \u001b[0;34m=\u001b[0m \u001b[0mlist\u001b[0m\u001b[0;34m(\u001b[0m\u001b[0mcon\u001b[0m\u001b[0;34m.\u001b[0m\u001b[0mblocks\u001b[0m\u001b[0;34m.\u001b[0m\u001b[0mvalues\u001b[0m\u001b[0;34m(\u001b[0m\u001b[0;34m)\u001b[0m\u001b[0;34m)\u001b[0m\u001b[0;34m\u001b[0m\u001b[0;34m\u001b[0m\u001b[0m\n\u001b[0m\u001b[1;32m      2\u001b[0m \u001b[0;34m\u001b[0m\u001b[0m\n\u001b[1;32m      3\u001b[0m \u001b[0mys\u001b[0m \u001b[0;34m=\u001b[0m \u001b[0;34m[\u001b[0m\u001b[0mi\u001b[0m\u001b[0;34m.\u001b[0m\u001b[0mypos\u001b[0m \u001b[0;32mfor\u001b[0m \u001b[0mi\u001b[0m \u001b[0;32min\u001b[0m \u001b[0mintervals\u001b[0m\u001b[0;34m]\u001b[0m\u001b[0;34m\u001b[0m\u001b[0;34m\u001b[0m\u001b[0m\n\u001b[1;32m      4\u001b[0m \u001b[0mxs\u001b[0m \u001b[0;34m=\u001b[0m \u001b[0;34m[\u001b[0m\u001b[0mi\u001b[0m\u001b[0;34m.\u001b[0m\u001b[0mxmid\u001b[0m \u001b[0;32mfor\u001b[0m \u001b[0mi\u001b[0m \u001b[0;32min\u001b[0m \u001b[0mintervals\u001b[0m\u001b[0;34m]\u001b[0m\u001b[0;34m\u001b[0m\u001b[0;34m\u001b[0m\u001b[0m\n\u001b[1;32m      5\u001b[0m \u001b[0;34m\u001b[0m\u001b[0m\n",
      "\u001b[0;31mAttributeError\u001b[0m: 'Container' object has no attribute 'blocks'"
     ]
    }
   ],
   "source": [
    "intervals = list(con.blocks.values())\n",
    "\n",
    "ys = [i.ypos for i in intervals]\n",
    "xs = [i.xmid for i in intervals]\n",
    "\n",
    "c, a, m = toyplot.scatterplot(xs, ys, width=500, height=300, size=10);\n",
    "\n",
    "for interval in intervals[:-1]:\n",
    "    a.plot(\n",
    "        [interval.xb0, interval.xb1],\n",
    "        [interval.ypos, interval.ypos],\n",
    "        color='black'\n",
    "    )\n",
    "    \n",
    "    if not interval.left:\n",
    "#         a.plot(\n",
    "#             [interval.xb0, interval.up.xmid],\n",
    "#             [interval.ypos, interval.up.ypos],\n",
    "#             color='black'\n",
    "#         )\n",
    "        \n",
    "#         a.plot(\n",
    "#             [interval.xb1, interval.up.xmid + interval.width],\n",
    "#             [interval.ypos, interval.up.ypos],\n",
    "#             color='black'\n",
    "#         )\n",
    "        i = interval\n",
    "        a.fill(\n",
    "            [i.xt0, i.xb0, i.xt1, i.xb1],\n",
    "            [i.y1, i.y0, i.y0, i.y0],\n",
    "            [i.y1, i.y1, i.y1, i.y0],\n",
    "            opacity=0.25,\n",
    "        )\n",
    "        \n",
    "    else:\n",
    "#         a.plot(\n",
    "#             [interval.xb1, interval.up.xmid],\n",
    "#             [interval.ypos, interval.up.ypos],\n",
    "#             color='black'\n",
    "#         )\n",
    "        \n",
    "#         a.plot(\n",
    "#             [interval.xb0, interval.up.xmid - interval.width],\n",
    "#             [interval.ypos, interval.up.ypos],\n",
    "#             color='black'\n",
    "#         )\n",
    "        \n",
    "        i = interval\n",
    "        a.fill(\n",
    "            [i.xb0, i.xt0, i.xb1, i.xt1],\n",
    "            [i.y0, i.y0, i.y0, i.y1],\n",
    "            [i.y0, i.y1, i.y1, i.y1],\n",
    "            opacity=0.25,\n",
    "        )"
   ]
  },
  {
   "cell_type": "code",
   "execution_count": null,
   "id": "0b99dcaa",
   "metadata": {},
   "outputs": [],
   "source": [
    "i.xt0, i.xt1"
   ]
  },
  {
   "cell_type": "code",
   "execution_count": null,
   "id": "2253aa57",
   "metadata": {},
   "outputs": [],
   "source": [
    "# get true tree\n",
    "SPTREE = toytree.rtree.unittree(6, treeheight=1e6, seed=123)\n",
    "SPTREE = SPTREE.set_node_data(\n",
    "    \"Ne\", default=1e5, \n",
    "    mapping={i: 5e5 for i in (2,3,4,6,7)}\n",
    ")"
   ]
  },
  {
   "cell_type": "code",
   "execution_count": null,
   "id": "b63c2ba2",
   "metadata": {},
   "outputs": [],
   "source": [
    "SPTREE.draw(ts='p');"
   ]
  },
  {
   "cell_type": "code",
   "execution_count": null,
   "id": "457fd344",
   "metadata": {},
   "outputs": [],
   "source": [
    "RECOMB = 1e-9\n",
    "MUT = 1e-9\n",
    "NEFF = 5e5\n",
    "THETA = 4 * NEFF * MUT\n",
    "MODEL = ipcoal.Model(\n",
    "    SPTREE,\n",
    "    Ne=NEFF,\n",
    "    seed_trees=123,\n",
    "    nsamples=4,\n",
    "    recomb=RECOMB,\n",
    "    mut=MUT,\n",
    ")\n",
    "MODEL.sim_trees(100, 1)\n",
    "IMAP = MODEL.get_imap_dict()\n",
    "GTREES = toytree.mtree(MODEL.df.genealogy)"
   ]
  },
  {
   "cell_type": "code",
   "execution_count": 10,
   "id": "ad8acfac",
   "metadata": {},
   "outputs": [],
   "source": [
    "from toytree.core.drawing.container import Container"
   ]
  },
  {
   "cell_type": "code",
   "execution_count": 11,
   "id": "51915e3d",
   "metadata": {},
   "outputs": [
    {
     "ename": "NameError",
     "evalue": "name 'MODEL' is not defined",
     "output_type": "error",
     "traceback": [
      "\u001b[0;31m---------------------------------------------------------------------------\u001b[0m",
      "\u001b[0;31mNameError\u001b[0m                                 Traceback (most recent call last)",
      "\u001b[0;32m/tmp/ipykernel_200075/2564341946.py\u001b[0m in \u001b[0;36m<module>\u001b[0;34m\u001b[0m\n\u001b[0;32m----> 1\u001b[0;31m \u001b[0mContainer\u001b[0m\u001b[0;34m(\u001b[0m\u001b[0mMODEL\u001b[0m\u001b[0;34m,\u001b[0m \u001b[0;36m1\u001b[0m\u001b[0;34m,\u001b[0m \u001b[0mwidth\u001b[0m\u001b[0;34m=\u001b[0m\u001b[0;36m500\u001b[0m\u001b[0;34m)\u001b[0m\u001b[0;34m\u001b[0m\u001b[0;34m\u001b[0m\u001b[0m\n\u001b[0m",
      "\u001b[0;31mNameError\u001b[0m: name 'MODEL' is not defined"
     ]
    }
   ],
   "source": [
    "Container(MODEL, 1, width=500)"
   ]
  },
  {
   "cell_type": "code",
   "execution_count": 12,
   "id": "4a2772df",
   "metadata": {},
   "outputs": [
    {
     "ename": "NameError",
     "evalue": "name 'MODEL' is not defined",
     "output_type": "error",
     "traceback": [
      "\u001b[0;31m---------------------------------------------------------------------------\u001b[0m",
      "\u001b[0;31mNameError\u001b[0m                                 Traceback (most recent call last)",
      "\u001b[0;32m/tmp/ipykernel_200075/2609611996.py\u001b[0m in \u001b[0;36m<module>\u001b[0;34m\u001b[0m\n\u001b[0;32m----> 1\u001b[0;31m \u001b[0mMODEL\u001b[0m\u001b[0;34m.\u001b[0m\u001b[0mtree\u001b[0m\u001b[0;34m.\u001b[0m\u001b[0mget_tip_data\u001b[0m\u001b[0;34m\u001b[0m\u001b[0;34m\u001b[0m\u001b[0m\n\u001b[0m",
      "\u001b[0;31mNameError\u001b[0m: name 'MODEL' is not defined"
     ]
    }
   ],
   "source": [
    "MODEL.tree.get_tip_data"
   ]
  },
  {
   "cell_type": "code",
   "execution_count": 13,
   "id": "777a8016",
   "metadata": {},
   "outputs": [
    {
     "ename": "SyntaxError",
     "evalue": "invalid syntax (3163572963.py, line 1)",
     "output_type": "error",
     "traceback": [
      "\u001b[0;36m  File \u001b[0;32m\"/tmp/ipykernel_200075/3163572963.py\"\u001b[0;36m, line \u001b[0;32m1\u001b[0m\n\u001b[0;31m    MODEL.\u001b[0m\n\u001b[0m          ^\u001b[0m\n\u001b[0;31mSyntaxError\u001b[0m\u001b[0;31m:\u001b[0m invalid syntax\n"
     ]
    }
   ],
   "source": [
    "MODEL."
   ]
  },
  {
   "cell_type": "code",
   "execution_count": 14,
   "id": "60d43c60",
   "metadata": {},
   "outputs": [
    {
     "data": {
      "text/plain": [
       "0    100000.0\n",
       "1    100000.0\n",
       "2    100000.0\n",
       "3    100000.0\n",
       "4    100000.0\n",
       "5    100000.0\n",
       "6    100000.0\n",
       "7    100000.0\n",
       "8    100000.0\n",
       "9    100000.0\n",
       "dtype: float64"
      ]
     },
     "execution_count": 14,
     "metadata": {},
     "output_type": "execute_result"
    }
   ],
   "source": [
    "nes = SPTREE.get_tip_data(\"Ne\")\n",
    "nes"
   ]
  },
  {
   "cell_type": "code",
   "execution_count": 53,
   "id": "e4b3c7cd",
   "metadata": {},
   "outputs": [
    {
     "data": {
      "text/plain": [
       "array([2.        , 2.        , 3.33333333, 3.33333333, 3.33333333,\n",
       "       2.        , 3.33333333, 3.33333333, 2.        , 2.        ,\n",
       "       2.        ])"
      ]
     },
     "execution_count": 53,
     "metadata": {},
     "output_type": "execute_result"
    }
   ],
   "source": [
    "toytree.utils.transform.normalize_values(\n",
    "    np.sqrt(nes),\n",
    "    10, 2, 8,\n",
    ")"
   ]
  },
  {
   "cell_type": "code",
   "execution_count": 20,
   "id": "0039e8e9",
   "metadata": {},
   "outputs": [],
   "source": [
    "from dataclasses import dataclass"
   ]
  },
  {
   "cell_type": "code",
   "execution_count": 42,
   "id": "19bca4e9",
   "metadata": {},
   "outputs": [],
   "source": [
    "@dataclass\n",
    "class Interval(toytree.TreeNode):\n",
    "    name: str\n",
    "    \n",
    "        \n",
    "    def __post_init__(self):\n",
    "        super().__init__(name=self.name)\n",
    "\n"
   ]
  },
  {
   "cell_type": "code",
   "execution_count": 43,
   "id": "f1d3dc5a",
   "metadata": {},
   "outputs": [
    {
     "data": {
      "text/plain": [
       "Interval(name='A')"
      ]
     },
     "execution_count": 43,
     "metadata": {},
     "output_type": "execute_result"
    }
   ],
   "source": [
    "Interval(name=\"A\")"
   ]
  },
  {
   "cell_type": "code",
   "execution_count": 26,
   "id": "bd75af8e",
   "metadata": {},
   "outputs": [
    {
     "data": {
      "text/plain": [
       "<TreeNode idx=None; dist=1.00e+00; is_root=True is_leaf=True/>"
      ]
     },
     "execution_count": 26,
     "metadata": {},
     "output_type": "execute_result"
    }
   ],
   "source": [
    "toytree.TreeNode(name=\"A\")"
   ]
  },
  {
   "cell_type": "code",
   "execution_count": null,
   "id": "2986cbfe",
   "metadata": {},
   "outputs": [],
   "source": []
  },
  {
   "cell_type": "code",
   "execution_count": 15,
   "id": "aa9f52e6",
   "metadata": {},
   "outputs": [
    {
     "data": {
      "text/plain": [
       "<toyplot.mark.Text at 0x7f07d1126a30>"
      ]
     },
     "execution_count": 15,
     "metadata": {},
     "output_type": "execute_result"
    },
    {
     "data": {
      "text/html": [
       "<div class=\"toyplot\" id=\"te4727db9fcf44964ae0ad0831f663c6d\" style=\"text-align:center\"><svg class=\"toyplot-canvas-Canvas\" xmlns:toyplot=\"http://www.sandia.gov/toyplot\" xmlns:xlink=\"http://www.w3.org/1999/xlink\" xmlns=\"http://www.w3.org/2000/svg\" width=\"300.0px\" height=\"300.0px\" viewBox=\"0 0 300.0 300.0\" preserveAspectRatio=\"xMidYMid meet\" style=\"background-color:transparent;border-color:#292724;border-style:none;border-width:1.0;fill:rgb(16.1%,15.3%,14.1%);fill-opacity:1.0;font-family:Helvetica;font-size:12px;opacity:1.0;stroke:rgb(16.1%,15.3%,14.1%);stroke-opacity:1.0;stroke-width:1.0\" id=\"t7f7cb4173aa7443abca0de7e3222920a\"><g class=\"toyplot-coordinates-Cartesian\" id=\"t917d9e7265324e6b8bbdeee2f8346cae\"><clipPath id=\"t8a8c1ecee4904580a7d1619070d5b228\"><rect x=\"40.0\" y=\"40.0\" width=\"220.0\" height=\"220.0\"></rect></clipPath><g clip-path=\"url(#t8a8c1ecee4904580a7d1619070d5b228)\"><g class=\"toyplot-mark-Text\" id=\"t5e67a17f7e37427180adba38906bde5c\"><g class=\"toyplot-Series\"><g class=\"toyplot-Datum\" transform=\"translate(150.0,150.0)\"><text x=\"-7.0032\" y=\"3.066\" style=\"fill:rgb(40%,76.1%,64.7%);fill-opacity:1.0;font-family:helvetica;font-size:12.0px;font-weight:normal;opacity:1;stroke:none;vertical-align:baseline;white-space:pre\">hi</text><text x=\"2.3328000000000007\" y=\"4.7459999999999996\" style=\"fill:rgb(40%,76.1%,64.7%);fill-opacity:1.0;font-family:helvetica;font-size:8.399999999999999px;font-weight:normal;opacity:1;stroke:none;vertical-align:baseline;white-space:pre\">3</text></g></g></g></g><g class=\"toyplot-coordinates-Axis\" id=\"tb5f7fb177c974d0cb9158edd23142a48\" transform=\"translate(50.0,250.0)translate(0,10.0)\"><line x1=\"0\" y1=\"0\" x2=\"200.0\" y2=\"0\" style=\"\"></line><g><g transform=\"translate(0.0,6)\"><text x=\"-6.95\" y=\"8.555\" style=\"fill:rgb(16.1%,15.3%,14.1%);fill-opacity:1.0;font-family:helvetica;font-size:10.0px;font-weight:normal;stroke:none;vertical-align:baseline;white-space:pre\">2.5</text></g><g transform=\"translate(100.0,6)\"><text x=\"-6.95\" y=\"8.555\" style=\"fill:rgb(16.1%,15.3%,14.1%);fill-opacity:1.0;font-family:helvetica;font-size:10.0px;font-weight:normal;stroke:none;vertical-align:baseline;white-space:pre\">3.0</text></g><g transform=\"translate(200.0,6)\"><text x=\"-6.95\" y=\"8.555\" style=\"fill:rgb(16.1%,15.3%,14.1%);fill-opacity:1.0;font-family:helvetica;font-size:10.0px;font-weight:normal;stroke:none;vertical-align:baseline;white-space:pre\">3.5</text></g></g><g class=\"toyplot-coordinates-Axis-coordinates\" style=\"visibility:hidden\" transform=\"\"><line x1=\"0\" x2=\"0\" y1=\"-3.0\" y2=\"4.5\" style=\"stroke:rgb(43.9%,50.2%,56.5%);stroke-opacity:1.0;stroke-width:1.0\"></line><text x=\"0\" y=\"-6\" style=\"alignment-baseline:alphabetic;fill:rgb(43.9%,50.2%,56.5%);fill-opacity:1.0;font-size:10px;font-weight:normal;stroke:none;text-anchor:middle\"></text></g></g><g class=\"toyplot-coordinates-Axis\" id=\"tf7a9bad2548c4f45b51ff63f60fdfea0\" transform=\"translate(50.0,250.0)rotate(-90.0)translate(0,-10.0)\"><line x1=\"0\" y1=\"0\" x2=\"200.0\" y2=\"0\" style=\"\"></line><g><g transform=\"translate(0.0,-6)\"><text x=\"-6.95\" y=\"-4.440892098500626e-16\" style=\"fill:rgb(16.1%,15.3%,14.1%);fill-opacity:1.0;font-family:helvetica;font-size:10.0px;font-weight:normal;stroke:none;vertical-align:baseline;white-space:pre\">2.5</text></g><g transform=\"translate(100.0,-6)\"><text x=\"-6.95\" y=\"-4.440892098500626e-16\" style=\"fill:rgb(16.1%,15.3%,14.1%);fill-opacity:1.0;font-family:helvetica;font-size:10.0px;font-weight:normal;stroke:none;vertical-align:baseline;white-space:pre\">3.0</text></g><g transform=\"translate(200.0,-6)\"><text x=\"-6.95\" y=\"-4.440892098500626e-16\" style=\"fill:rgb(16.1%,15.3%,14.1%);fill-opacity:1.0;font-family:helvetica;font-size:10.0px;font-weight:normal;stroke:none;vertical-align:baseline;white-space:pre\">3.5</text></g></g><g class=\"toyplot-coordinates-Axis-coordinates\" style=\"visibility:hidden\" transform=\"\"><line x1=\"0\" x2=\"0\" y1=\"3.0\" y2=\"-4.5\" style=\"stroke:rgb(43.9%,50.2%,56.5%);stroke-opacity:1.0;stroke-width:1.0\"></line><text x=\"0\" y=\"6\" style=\"alignment-baseline:hanging;fill:rgb(43.9%,50.2%,56.5%);fill-opacity:1.0;font-size:10px;font-weight:normal;stroke:none;text-anchor:middle\"></text></g></g></g></svg><div class=\"toyplot-behavior\"><script>(function()\n",
       "{\n",
       "var modules={};\n",
       "modules[\"toyplot/canvas/id\"] = \"t7f7cb4173aa7443abca0de7e3222920a\";\n",
       "modules[\"toyplot/canvas\"] = (function(canvas_id)\n",
       "    {\n",
       "        return document.querySelector(\"#\" + canvas_id);\n",
       "    })(modules[\"toyplot/canvas/id\"]);\n",
       "modules[\"toyplot.coordinates.Axis\"] = (\n",
       "        function(canvas)\n",
       "        {\n",
       "            function sign(x)\n",
       "            {\n",
       "                return x < 0 ? -1 : x > 0 ? 1 : 0;\n",
       "            }\n",
       "\n",
       "            function mix(a, b, amount)\n",
       "            {\n",
       "                return ((1.0 - amount) * a) + (amount * b);\n",
       "            }\n",
       "\n",
       "            function log(x, base)\n",
       "            {\n",
       "                return Math.log(Math.abs(x)) / Math.log(base);\n",
       "            }\n",
       "\n",
       "            function in_range(a, x, b)\n",
       "            {\n",
       "                var left = Math.min(a, b);\n",
       "                var right = Math.max(a, b);\n",
       "                return left <= x && x <= right;\n",
       "            }\n",
       "\n",
       "            function inside(range, projection)\n",
       "            {\n",
       "                for(var i = 0; i != projection.length; ++i)\n",
       "                {\n",
       "                    var segment = projection[i];\n",
       "                    if(in_range(segment.range.min, range, segment.range.max))\n",
       "                        return true;\n",
       "                }\n",
       "                return false;\n",
       "            }\n",
       "\n",
       "            function to_domain(range, projection)\n",
       "            {\n",
       "                for(var i = 0; i != projection.length; ++i)\n",
       "                {\n",
       "                    var segment = projection[i];\n",
       "                    if(in_range(segment.range.bounds.min, range, segment.range.bounds.max))\n",
       "                    {\n",
       "                        if(segment.scale == \"linear\")\n",
       "                        {\n",
       "                            var amount = (range - segment.range.min) / (segment.range.max - segment.range.min);\n",
       "                            return mix(segment.domain.min, segment.domain.max, amount)\n",
       "                        }\n",
       "                        else if(segment.scale[0] == \"log\")\n",
       "                        {\n",
       "                            var amount = (range - segment.range.min) / (segment.range.max - segment.range.min);\n",
       "                            var base = segment.scale[1];\n",
       "                            return sign(segment.domain.min) * Math.pow(base, mix(log(segment.domain.min, base), log(segment.domain.max, base), amount));\n",
       "                        }\n",
       "                    }\n",
       "                }\n",
       "            }\n",
       "\n",
       "            var axes = {};\n",
       "\n",
       "            function display_coordinates(e)\n",
       "            {\n",
       "                var current = canvas.createSVGPoint();\n",
       "                current.x = e.clientX;\n",
       "                current.y = e.clientY;\n",
       "\n",
       "                for(var axis_id in axes)\n",
       "                {\n",
       "                    var axis = document.querySelector(\"#\" + axis_id);\n",
       "                    var coordinates = axis.querySelector(\".toyplot-coordinates-Axis-coordinates\");\n",
       "                    if(coordinates)\n",
       "                    {\n",
       "                        var projection = axes[axis_id];\n",
       "                        var local = current.matrixTransform(axis.getScreenCTM().inverse());\n",
       "                        if(inside(local.x, projection))\n",
       "                        {\n",
       "                            var domain = to_domain(local.x, projection);\n",
       "                            coordinates.style.visibility = \"visible\";\n",
       "                            coordinates.setAttribute(\"transform\", \"translate(\" + local.x + \")\");\n",
       "                            var text = coordinates.querySelector(\"text\");\n",
       "                            text.textContent = domain.toFixed(2);\n",
       "                        }\n",
       "                        else\n",
       "                        {\n",
       "                            coordinates.style.visibility= \"hidden\";\n",
       "                        }\n",
       "                    }\n",
       "                }\n",
       "            }\n",
       "\n",
       "            canvas.addEventListener(\"click\", display_coordinates);\n",
       "\n",
       "            var module = {};\n",
       "            module.show_coordinates = function(axis_id, projection)\n",
       "            {\n",
       "                axes[axis_id] = projection;\n",
       "            }\n",
       "\n",
       "            return module;\n",
       "        })(modules[\"toyplot/canvas\"]);\n",
       "(function(axis, axis_id, projection)\n",
       "        {\n",
       "            axis.show_coordinates(axis_id, projection);\n",
       "        })(modules[\"toyplot.coordinates.Axis\"],\"tb5f7fb177c974d0cb9158edd23142a48\",[{\"domain\": {\"bounds\": {\"max\": Infinity, \"min\": -Infinity}, \"max\": 3.5, \"min\": 2.5}, \"range\": {\"bounds\": {\"max\": Infinity, \"min\": -Infinity}, \"max\": 200.0, \"min\": 0.0}, \"scale\": \"linear\"}]);\n",
       "(function(axis, axis_id, projection)\n",
       "        {\n",
       "            axis.show_coordinates(axis_id, projection);\n",
       "        })(modules[\"toyplot.coordinates.Axis\"],\"tf7a9bad2548c4f45b51ff63f60fdfea0\",[{\"domain\": {\"bounds\": {\"max\": Infinity, \"min\": -Infinity}, \"max\": 3.5, \"min\": 2.5}, \"range\": {\"bounds\": {\"max\": Infinity, \"min\": -Infinity}, \"max\": 200.0, \"min\": 0.0}, \"scale\": \"linear\"}]);\n",
       "})();</script></div></div>"
      ]
     },
     "metadata": {},
     "output_type": "display_data"
    }
   ],
   "source": [
    "import toyplot\n",
    "c = toyplot.Canvas(300, 300)\n",
    "a = c.cartesian()\n",
    "a.text(3, 3, \"hi<sub>3</sub>\")"
   ]
  },
  {
   "cell_type": "code",
   "execution_count": 5,
   "id": "85d1f238",
   "metadata": {},
   "outputs": [
    {
     "data": {
      "text/html": [
       "<div>\n",
       "<style scoped>\n",
       "    .dataframe tbody tr th:only-of-type {\n",
       "        vertical-align: middle;\n",
       "    }\n",
       "\n",
       "    .dataframe tbody tr th {\n",
       "        vertical-align: top;\n",
       "    }\n",
       "\n",
       "    .dataframe thead th {\n",
       "        text-align: right;\n",
       "    }\n",
       "</style>\n",
       "<table border=\"1\" class=\"dataframe\">\n",
       "  <thead>\n",
       "    <tr style=\"text-align: right;\">\n",
       "      <th></th>\n",
       "      <th>dist</th>\n",
       "      <th>neff</th>\n",
       "      <th>nedges_in</th>\n",
       "      <th>nedges_out</th>\n",
       "      <th>coals</th>\n",
       "    </tr>\n",
       "  </thead>\n",
       "  <tbody>\n",
       "    <tr>\n",
       "      <th>0</th>\n",
       "      <td>750000.0</td>\n",
       "      <td>100000.0</td>\n",
       "      <td>4</td>\n",
       "      <td>1</td>\n",
       "      <td>[19922.701518892452, 176...</td>\n",
       "    </tr>\n",
       "    <tr>\n",
       "      <th>1</th>\n",
       "      <td>750000.0</td>\n",
       "      <td>100000.0</td>\n",
       "      <td>4</td>\n",
       "      <td>2</td>\n",
       "      <td>[153663.01812256605, 339...</td>\n",
       "    </tr>\n",
       "    <tr>\n",
       "      <th>2</th>\n",
       "      <td>250000.0</td>\n",
       "      <td>500000.0</td>\n",
       "      <td>4</td>\n",
       "      <td>3</td>\n",
       "      <td>[90214.15591659944]</td>\n",
       "    </tr>\n",
       "    <tr>\n",
       "      <th>3</th>\n",
       "      <td>250000.0</td>\n",
       "      <td>500000.0</td>\n",
       "      <td>4</td>\n",
       "      <td>2</td>\n",
       "      <td>[117034.5149597846, 8767...</td>\n",
       "    </tr>\n",
       "    <tr>\n",
       "      <th>4</th>\n",
       "      <td>500000.0</td>\n",
       "      <td>500000.0</td>\n",
       "      <td>4</td>\n",
       "      <td>2</td>\n",
       "      <td>[6932.53611632106, 11281...</td>\n",
       "    </tr>\n",
       "    <tr>\n",
       "      <th>5</th>\n",
       "      <td>750000.0</td>\n",
       "      <td>100000.0</td>\n",
       "      <td>4</td>\n",
       "      <td>2</td>\n",
       "      <td>[233204.08740371154, 344...</td>\n",
       "    </tr>\n",
       "    <tr>\n",
       "      <th>6</th>\n",
       "      <td>250000.0</td>\n",
       "      <td>500000.0</td>\n",
       "      <td>5</td>\n",
       "      <td>3</td>\n",
       "      <td>[97793.07413599058, 8317...</td>\n",
       "    </tr>\n",
       "    <tr>\n",
       "      <th>7</th>\n",
       "      <td>250000.0</td>\n",
       "      <td>500000.0</td>\n",
       "      <td>5</td>\n",
       "      <td>4</td>\n",
       "      <td>[101184.38490362617]</td>\n",
       "    </tr>\n",
       "    <tr>\n",
       "      <th>8</th>\n",
       "      <td>250000.0</td>\n",
       "      <td>100000.0</td>\n",
       "      <td>3</td>\n",
       "      <td>2</td>\n",
       "      <td>[76358.35639714194]</td>\n",
       "    </tr>\n",
       "    <tr>\n",
       "      <th>9</th>\n",
       "      <td>250000.0</td>\n",
       "      <td>100000.0</td>\n",
       "      <td>6</td>\n",
       "      <td>3</td>\n",
       "      <td>[103117.26779216097, 329...</td>\n",
       "    </tr>\n",
       "    <tr>\n",
       "      <th>10</th>\n",
       "      <td>inf</td>\n",
       "      <td>100000.0</td>\n",
       "      <td>5</td>\n",
       "      <td>1</td>\n",
       "      <td>[48065.389621443814, 103...</td>\n",
       "    </tr>\n",
       "  </tbody>\n",
       "</table>\n",
       "</div>"
      ],
      "text/plain": [
       "        dist      neff nedges_in nedges_out                        coals\n",
       "0   750000.0  100000.0         4          1  [19922.701518892452, 176...\n",
       "1   750000.0  100000.0         4          2  [153663.01812256605, 339...\n",
       "2   250000.0  500000.0         4          3          [90214.15591659944]\n",
       "3   250000.0  500000.0         4          2  [117034.5149597846, 8767...\n",
       "4   500000.0  500000.0         4          2  [6932.53611632106, 11281...\n",
       "5   750000.0  100000.0         4          2  [233204.08740371154, 344...\n",
       "6   250000.0  500000.0         5          3  [97793.07413599058, 8317...\n",
       "7   250000.0  500000.0         5          4         [101184.38490362617]\n",
       "8   250000.0  100000.0         3          2          [76358.35639714194]\n",
       "9   250000.0  100000.0         6          3  [103117.26779216097, 329...\n",
       "10       inf  100000.0         5          1  [48065.389621443814, 103..."
      ]
     },
     "execution_count": 5,
     "metadata": {},
     "output_type": "execute_result"
    }
   ],
   "source": [
    "DATA = get_msc_embedded_gene_tree_table(SPTREE, GTREES.treelist[0], IMAP)\n",
    "DATA"
   ]
  },
  {
   "cell_type": "code",
   "execution_count": 34,
   "id": "06c8fc35",
   "metadata": {},
   "outputs": [
    {
     "data": {
      "text/plain": [
       "[4, 3]"
      ]
     },
     "execution_count": 34,
     "metadata": {},
     "output_type": "execute_result"
    }
   ],
   "source": [
    "list(range(4, 2, -1))"
   ]
  },
  {
   "cell_type": "code",
   "execution_count": 52,
   "id": "f3bba307",
   "metadata": {},
   "outputs": [],
   "source": [
    ">>> neff = 5e5\n",
    ">>> species_tree = toytree.rtree.unittree(ntips=10, treeheight=1e6)\n",
    ">>> species_tree = species_tree.set_node_data(\"Ne\", default=neff)\n",
    ">>> model = ipcoal.Model(species_tree, nsamples=4)\n",
    ">>> model.sim_trees(100)\n",
    ">>> imap = model.get_imap_dict()\n",
    ">>> gtrees = toytree.mtree(model.df.genealogy)"
   ]
  },
  {
   "cell_type": "code",
   "execution_count": 65,
   "id": "65cca22c",
   "metadata": {},
   "outputs": [
    {
     "data": {
      "text/plain": [
       "<itertools.cycle at 0x7fa192b9ec80>"
      ]
     },
     "execution_count": 65,
     "metadata": {},
     "output_type": "execute_result"
    }
   ],
   "source": [
    "toytree.color_cycler()"
   ]
  },
  {
   "cell_type": "code",
   "execution_count": 53,
   "id": "be29db68",
   "metadata": {},
   "outputs": [
    {
     "data": {
      "text/html": [
       "<div class=\"toyplot\" id=\"tfa822038e7084ed58db9a5fc197dd5dc\" style=\"text-align:center\"><svg class=\"toyplot-canvas-Canvas\" xmlns:toyplot=\"http://www.sandia.gov/toyplot\" xmlns:xlink=\"http://www.w3.org/1999/xlink\" xmlns=\"http://www.w3.org/2000/svg\" width=\"450.0px\" height=\"400.0px\" viewBox=\"0 0 450.0 400.0\" preserveAspectRatio=\"xMidYMid meet\" style=\"background-color:transparent;border-color:#292724;border-style:none;border-width:1.0;fill:rgb(16.1%,15.3%,14.1%);fill-opacity:1.0;font-family:Helvetica;font-size:12px;opacity:1.0;stroke:rgb(16.1%,15.3%,14.1%);stroke-opacity:1.0;stroke-width:1.0\" id=\"t12a3af000f824128b0da53d71cfb0d56\"><g class=\"toyplot-coordinates-Cartesian\" id=\"t2cdfccac1f0e465cbc69bc67c71259d7\"><clipPath id=\"teb2aaadce7fb453e994cf65cf90f5f09\"><rect x=\"20.0\" y=\"40.0\" width=\"205.0\" height=\"320.0\"></rect></clipPath><g clip-path=\"url(#teb2aaadce7fb453e994cf65cf90f5f09)\"><g class=\"toytree-mark-Toytree\" id=\"t5f24df46e9624d939910033f91400f18\"><g class=\"toytree-Edges\" style=\"fill:none;stroke:rgba(16.1%,15.3%,14.1%,1.000);stroke-linecap:round;stroke-width:2.0\"><path d=\"M 55.6 283.1 L 55.6 344.2 L 183.6 344.2\" id=\"16,0\" style=\"stroke-width:nan\"></path><path d=\"M 106.8 276.1 L 106.8 312.2 L 183.6 312.2\" id=\"12,1\" style=\"stroke-width:nan\"></path><path d=\"M 158.0 264.1 L 158.0 280.1 L 183.6 280.1\" id=\"10,2\" style=\"stroke-width:nan\"></path><path d=\"M 158.0 264.1 L 158.0 248.1 L 183.6 248.1\" id=\"10,3\" style=\"stroke-width:nan\"></path><path d=\"M 132.4 240.1 L 132.4 216.0 L 183.6 216.0\" id=\"11,4\" style=\"stroke-width:nan\"></path><path d=\"M 106.8 167.9 L 106.8 184.0 L 183.6 184.0\" id=\"13,5\" style=\"stroke-width:nan\"></path><path d=\"M 106.8 167.9 L 106.8 151.9 L 183.6 151.9\" id=\"13,6\" style=\"stroke-width:nan\"></path><path d=\"M 55.6 95.8 L 55.6 119.9 L 183.6 119.9\" id=\"17,7\" style=\"stroke-width:nan\"></path><path d=\"M 81.2 71.8 L 81.2 87.8 L 183.6 87.8\" id=\"15,8\" style=\"stroke-width:nan\"></path><path d=\"M 81.2 71.8 L 81.2 55.8 L 183.6 55.8\" id=\"15,9\" style=\"stroke-width:nan\"></path><path d=\"M 132.4 240.1 L 132.4 264.1 L 158.0 264.1\" id=\"11,10\" style=\"stroke-width:nan\"></path><path d=\"M 106.8 276.1 L 106.8 240.1 L 132.4 240.1\" id=\"12,11\" style=\"stroke-width:nan\"></path><path d=\"M 81.2 222.0 L 81.2 276.1 L 106.8 276.1\" id=\"14,12\" style=\"stroke-width:nan\"></path><path d=\"M 81.2 222.0 L 81.2 167.9 L 106.8 167.9\" id=\"14,13\" style=\"stroke-width:nan\"></path><path d=\"M 55.6 283.1 L 55.6 222.0 L 81.2 222.0\" id=\"16,14\" style=\"stroke-width:nan\"></path><path d=\"M 55.6 95.8 L 55.6 71.8 L 81.2 71.8\" id=\"17,15\" style=\"stroke-width:nan\"></path><path d=\"M 30.0 189.5 L 30.0 283.1 L 55.6 283.1\" id=\"18,16\" style=\"stroke-width:nan\"></path><path d=\"M 30.0 189.5 L 30.0 95.8 L 55.6 95.8\" id=\"18,17\" style=\"stroke-width:nan\"></path></g><g class=\"toytree-TipLabels\" style=\"fill:rgb(16.1%,15.3%,14.1%);fill-opacity:1.0;font-family:Helvetica;font-size:10.0px;font-weight:300;stroke:none;vertical-align:baseline;white-space:pre\"><g class=\"toytree-TipLabel\" transform=\"translate(183.62689648981058,344.2307692307692)\"><text x=\"10.0\" y=\"2.5549999999999997\" style=\"\">r0</text></g><g class=\"toytree-TipLabel\" transform=\"translate(183.62689648981058,312.1794871794872)\"><text x=\"10.0\" y=\"2.5549999999999997\" style=\"\">r1</text></g><g class=\"toytree-TipLabel\" transform=\"translate(183.62689648981058,280.1282051282051)\"><text x=\"10.0\" y=\"2.5549999999999997\" style=\"\">r2</text></g><g class=\"toytree-TipLabel\" transform=\"translate(183.62689648981058,248.0769230769231)\"><text x=\"10.0\" y=\"2.5549999999999997\" style=\"\">r3</text></g><g class=\"toytree-TipLabel\" transform=\"translate(183.62689648981058,216.02564102564105)\"><text x=\"10.0\" y=\"2.5549999999999997\" style=\"\">r4</text></g><g class=\"toytree-TipLabel\" transform=\"translate(183.62689648981058,183.97435897435898)\"><text x=\"10.0\" y=\"2.5549999999999997\" style=\"\">r5</text></g><g class=\"toytree-TipLabel\" transform=\"translate(183.62689648981058,151.9230769230769)\"><text x=\"10.0\" y=\"2.5549999999999997\" style=\"\">r6</text></g><g class=\"toytree-TipLabel\" transform=\"translate(183.62689648981058,119.87179487179486)\"><text x=\"10.0\" y=\"2.5549999999999997\" style=\"\">r7</text></g><g class=\"toytree-TipLabel\" transform=\"translate(183.62689648981058,87.82051282051282)\"><text x=\"10.0\" y=\"2.5549999999999997\" style=\"\">r8</text></g><g class=\"toytree-TipLabel\" transform=\"translate(183.62689648981058,55.769230769230745)\"><text x=\"10.0\" y=\"2.5549999999999997\" style=\"\">r9</text></g></g></g></g></g><g class=\"toyplot-coordinates-Cartesian\" id=\"taefab5013c984bc7adc77705c2597fc1\"><clipPath id=\"t872a8cdf0041470395f45b08a85d5010\"><rect x=\"245.0\" y=\"40.0\" width=\"205.0\" height=\"320.0\"></rect></clipPath><g clip-path=\"url(#t872a8cdf0041470395f45b08a85d5010)\"><g class=\"toytree-mark-Toytree\" id=\"tbb61b134820b47bb9e51d64e16bfb0b5\"><g class=\"toytree-Edges\" style=\"fill:none;stroke:rgba(16.1%,15.3%,14.1%,1.000);stroke-linecap:round;stroke-width:2.0\"><path d=\"M 328.0 340.5 L 328.0 344.2 L 394.7 344.2\" id=\"60,0\" style=\"stroke-width:nan\"></path><path d=\"M 328.0 340.5 L 328.0 336.8 L 394.7 336.8\" id=\"60,1\" style=\"stroke-width:nan\"></path><path d=\"M 354.7 325.7 L 354.7 329.4 L 394.7 329.4\" id=\"61,2\" style=\"stroke-width:nan\"></path><path d=\"M 354.7 325.7 L 354.7 322.0 L 394.7 322.0\" id=\"61,3\" style=\"stroke-width:nan\"></path><path d=\"M 383.1 310.9 L 383.1 314.6 L 394.7 314.6\" id=\"67,4\" style=\"stroke-width:nan\"></path><path d=\"M 383.1 310.9 L 383.1 307.2 L 394.7 307.2\" id=\"67,5\" style=\"stroke-width:nan\"></path><path d=\"M 384.1 296.2 L 384.1 299.9 L 394.7 299.9\" id=\"62,6\" style=\"stroke-width:nan\"></path><path d=\"M 384.1 296.2 L 384.1 292.5 L 394.7 292.5\" id=\"62,7\" style=\"stroke-width:nan\"></path><path d=\"M 376.0 290.6 L 376.0 285.1 L 394.7 285.1\" id=\"68,8\" style=\"stroke-width:nan\"></path><path d=\"M 303.8 284.1 L 303.8 277.7 L 394.7 277.7\" id=\"73,9\" style=\"stroke-width:nan\"></path><path d=\"M 379.5 266.6 L 379.5 270.3 L 394.7 270.3\" id=\"55,10\" style=\"stroke-width:nan\"></path><path d=\"M 379.5 266.6 L 379.5 262.9 L 394.7 262.9\" id=\"55,11\" style=\"stroke-width:nan\"></path><path d=\"M 300.0 261.0 L 300.0 255.5 L 394.7 255.5\" id=\"63,12\" style=\"stroke-width:nan\"></path><path d=\"M 295.3 254.5 L 295.3 248.1 L 394.7 248.1\" id=\"69,13\" style=\"stroke-width:nan\"></path><path d=\"M 373.2 237.0 L 373.2 240.7 L 394.7 240.7\" id=\"43,14\" style=\"stroke-width:nan\"></path><path d=\"M 373.2 237.0 L 373.2 233.3 L 394.7 233.3\" id=\"43,15\" style=\"stroke-width:nan\"></path><path d=\"M 394.6 222.2 L 394.6 225.9 L 394.7 225.9\" id=\"44,16\" style=\"stroke-width:nan\"></path><path d=\"M 394.6 222.2 L 394.6 218.5 L 394.7 218.5\" id=\"44,17\" style=\"stroke-width:nan\"></path><path d=\"M 372.8 207.4 L 372.8 211.1 L 394.7 211.1\" id=\"49,18\" style=\"stroke-width:nan\"></path><path d=\"M 372.8 207.4 L 372.8 203.7 L 394.7 203.7\" id=\"49,19\" style=\"stroke-width:nan\"></path><path d=\"M 388.9 192.6 L 388.9 196.3 L 394.7 196.3\" id=\"40,20\" style=\"stroke-width:nan\"></path><path d=\"M 388.9 192.6 L 388.9 188.9 L 394.7 188.9\" id=\"40,21\" style=\"stroke-width:nan\"></path><path d=\"M 377.9 187.1 L 377.9 181.5 L 394.7 181.5\" id=\"41,22\" style=\"stroke-width:nan\"></path><path d=\"M 377.0 180.6 L 377.0 174.1 L 394.7 174.1\" id=\"45,23\" style=\"stroke-width:nan\"></path><path d=\"M 362.0 173.7 L 362.0 166.7 L 394.7 166.7\" id=\"50,24\" style=\"stroke-width:nan\"></path><path d=\"M 390.6 155.6 L 390.6 159.3 L 394.7 159.3\" id=\"42,25\" style=\"stroke-width:nan\"></path><path d=\"M 390.6 155.6 L 390.6 151.9 L 394.7 151.9\" id=\"42,26\" style=\"stroke-width:nan\"></path><path d=\"M 372.9 150.1 L 372.9 144.5 L 394.7 144.5\" id=\"46,27\" style=\"stroke-width:nan\"></path><path d=\"M 387.6 133.4 L 387.6 137.1 L 394.7 137.1\" id=\"47,28\" style=\"stroke-width:nan\"></path><path d=\"M 387.6 133.4 L 387.6 129.7 L 394.7 129.7\" id=\"47,29\" style=\"stroke-width:nan\"></path><path d=\"M 381.8 118.6 L 381.8 122.3 L 394.7 122.3\" id=\"52,30\" style=\"stroke-width:nan\"></path><path d=\"M 381.8 118.6 L 381.8 114.9 L 394.7 114.9\" id=\"52,31\" style=\"stroke-width:nan\"></path><path d=\"M 390.4 103.8 L 390.4 107.5 L 394.7 107.5\" id=\"53,32\" style=\"stroke-width:nan\"></path><path d=\"M 390.4 103.8 L 390.4 100.1 L 394.7 100.1\" id=\"53,33\" style=\"stroke-width:nan\"></path><path d=\"M 385.3 89.1 L 385.3 92.8 L 394.7 92.8\" id=\"54,34\" style=\"stroke-width:nan\"></path><path d=\"M 385.3 89.1 L 385.3 85.4 L 394.7 85.4\" id=\"54,35\" style=\"stroke-width:nan\"></path><path d=\"M 382.3 83.5 L 382.3 78.0 L 394.7 78.0\" id=\"59,36\" style=\"stroke-width:nan\"></path><path d=\"M 377.0 66.9 L 377.0 70.6 L 394.7 70.6\" id=\"71,37\" style=\"stroke-width:nan\"></path><path d=\"M 377.0 66.9 L 377.0 63.2 L 394.7 63.2\" id=\"71,38\" style=\"stroke-width:nan\"></path><path d=\"M 370.9 61.3 L 370.9 55.8 L 394.7 55.8\" id=\"75,39\" style=\"stroke-width:nan\"></path><path d=\"M 377.9 187.1 L 377.9 192.6 L 388.9 192.6\" id=\"41,40\" style=\"stroke-width:nan\"></path><path d=\"M 377.0 180.6 L 377.0 187.1 L 377.9 187.1\" id=\"45,41\" style=\"stroke-width:nan\"></path><path d=\"M 372.9 150.1 L 372.9 155.6 L 390.6 155.6\" id=\"46,42\" style=\"stroke-width:nan\"></path><path d=\"M 347.2 229.6 L 347.2 237.0 L 373.2 237.0\" id=\"48,43\" style=\"stroke-width:nan\"></path><path d=\"M 347.2 229.6 L 347.2 222.2 L 394.6 222.2\" id=\"48,44\" style=\"stroke-width:nan\"></path><path d=\"M 362.0 173.7 L 362.0 180.6 L 377.0 180.6\" id=\"50,45\" style=\"stroke-width:nan\"></path><path d=\"M 362.6 141.8 L 362.6 150.1 L 372.9 150.1\" id=\"51,46\" style=\"stroke-width:nan\"></path><path d=\"M 362.6 141.8 L 362.6 133.4 L 387.6 133.4\" id=\"51,47\" style=\"stroke-width:nan\"></path><path d=\"M 316.6 218.5 L 316.6 229.6 L 347.2 229.6\" id=\"56,48\" style=\"stroke-width:nan\"></path><path d=\"M 316.6 218.5 L 316.6 207.4 L 372.8 207.4\" id=\"56,49\" style=\"stroke-width:nan\"></path><path d=\"M 358.4 157.7 L 358.4 173.7 L 362.0 173.7\" id=\"57,50\" style=\"stroke-width:nan\"></path><path d=\"M 358.4 157.7 L 358.4 141.8 L 362.6 141.8\" id=\"57,51\" style=\"stroke-width:nan\"></path><path d=\"M 366.2 111.2 L 366.2 118.6 L 381.8 118.6\" id=\"58,52\" style=\"stroke-width:nan\"></path><path d=\"M 366.2 111.2 L 366.2 103.8 L 390.4 103.8\" id=\"58,53\" style=\"stroke-width:nan\"></path><path d=\"M 382.3 83.5 L 382.3 89.1 L 385.3 89.1\" id=\"59,54\" style=\"stroke-width:nan\"></path><path d=\"M 300.0 261.0 L 300.0 266.6 L 379.5 266.6\" id=\"63,55\" style=\"stroke-width:nan\"></path><path d=\"M 313.5 188.1 L 313.5 218.5 L 316.6 218.5\" id=\"64,56\" style=\"stroke-width:nan\"></path><path d=\"M 313.5 188.1 L 313.5 157.7 L 358.4 157.7\" id=\"64,57\" style=\"stroke-width:nan\"></path><path d=\"M 327.9 97.4 L 327.9 111.2 L 366.2 111.2\" id=\"65,58\" style=\"stroke-width:nan\"></path><path d=\"M 327.9 97.4 L 327.9 83.5 L 382.3 83.5\" id=\"65,59\" style=\"stroke-width:nan\"></path><path d=\"M 298.7 333.1 L 298.7 340.5 L 328.0 340.5\" id=\"66,60\" style=\"stroke-width:nan\"></path><path d=\"M 298.7 333.1 L 298.7 325.7 L 354.7 325.7\" id=\"66,61\" style=\"stroke-width:nan\"></path><path d=\"M 376.0 290.6 L 376.0 296.2 L 384.1 296.2\" id=\"68,62\" style=\"stroke-width:nan\"></path><path d=\"M 295.3 254.5 L 295.3 261.0 L 300.0 261.0\" id=\"69,63\" style=\"stroke-width:nan\"></path><path d=\"M 307.5 142.7 L 307.5 188.1 L 313.5 188.1\" id=\"70,64\" style=\"stroke-width:nan\"></path><path d=\"M 307.5 142.7 L 307.5 97.4 L 327.9 97.4\" id=\"70,65\" style=\"stroke-width:nan\"></path><path d=\"M 294.7 322.0 L 294.7 333.1 L 298.7 333.1\" id=\"72,66\" style=\"stroke-width:nan\"></path><path d=\"M 294.7 322.0 L 294.7 310.9 L 383.1 310.9\" id=\"72,67\" style=\"stroke-width:nan\"></path><path d=\"M 303.8 284.1 L 303.8 290.6 L 376.0 290.6\" id=\"73,68\" style=\"stroke-width:nan\"></path><path d=\"M 293.3 198.6 L 293.3 254.5 L 295.3 254.5\" id=\"74,69\" style=\"stroke-width:nan\"></path><path d=\"M 293.3 198.6 L 293.3 142.7 L 307.5 142.7\" id=\"74,70\" style=\"stroke-width:nan\"></path><path d=\"M 370.9 61.3 L 370.9 66.9 L 377.0 66.9\" id=\"75,71\" style=\"stroke-width:nan\"></path><path d=\"M 283.5 303.1 L 283.5 322.0 L 294.7 322.0\" id=\"76,72\" style=\"stroke-width:nan\"></path><path d=\"M 283.5 303.1 L 283.5 284.1 L 303.8 284.1\" id=\"76,73\" style=\"stroke-width:nan\"></path><path d=\"M 284.0 130.0 L 284.0 198.6 L 293.3 198.6\" id=\"77,74\" style=\"stroke-width:nan\"></path><path d=\"M 284.0 130.0 L 284.0 61.3 L 370.9 61.3\" id=\"77,75\" style=\"stroke-width:nan\"></path><path d=\"M 255.0 216.5 L 255.0 303.1 L 283.5 303.1\" id=\"78,76\" style=\"stroke-width:nan\"></path><path d=\"M 255.0 216.5 L 255.0 130.0 L 284.0 130.0\" id=\"78,77\" style=\"stroke-width:nan\"></path></g><g class=\"toytree-TipLabels\" style=\"fill:rgb(16.1%,15.3%,14.1%);fill-opacity:1.0;font-family:Helvetica;font-size:10.0px;font-weight:300;stroke:none;vertical-align:baseline;white-space:pre\"><g class=\"toytree-TipLabel\" transform=\"translate(394.6824749000082,344.2307692307692)\"><text x=\"10.0\" y=\"2.5549999999999997\" style=\"\">r1_3</text></g><g class=\"toytree-TipLabel\" transform=\"translate(394.6824749000082,336.83431952662727)\"><text x=\"10.0\" y=\"2.5549999999999997\" style=\"\">r1_0</text></g><g class=\"toytree-TipLabel\" transform=\"translate(394.6824749000082,329.4378698224852)\"><text x=\"10.0\" y=\"2.5549999999999997\" style=\"\">r0_2</text></g><g class=\"toytree-TipLabel\" transform=\"translate(394.6824749000082,322.0414201183432)\"><text x=\"10.0\" y=\"2.5549999999999997\" style=\"\">r0_0</text></g><g class=\"toytree-TipLabel\" transform=\"translate(394.6824749000082,314.6449704142012)\"><text x=\"10.0\" y=\"2.5549999999999997\" style=\"\">r8_3</text></g><g class=\"toytree-TipLabel\" transform=\"translate(394.6824749000082,307.24852071005915)\"><text x=\"10.0\" y=\"2.5549999999999997\" style=\"\">r8_1</text></g><g class=\"toytree-TipLabel\" transform=\"translate(394.6824749000082,299.85207100591714)\"><text x=\"10.0\" y=\"2.5549999999999997\" style=\"\">r9_2</text></g><g class=\"toytree-TipLabel\" transform=\"translate(394.6824749000082,292.4556213017751)\"><text x=\"10.0\" y=\"2.5549999999999997\" style=\"\">r9_1</text></g><g class=\"toytree-TipLabel\" transform=\"translate(394.6824749000082,285.0591715976331)\"><text x=\"10.0\" y=\"2.5549999999999997\" style=\"\">r9_0</text></g><g class=\"toytree-TipLabel\" transform=\"translate(394.6824749000082,277.66272189349115)\"><text x=\"10.0\" y=\"2.5549999999999997\" style=\"\">r5_3</text></g><g class=\"toytree-TipLabel\" transform=\"translate(394.6824749000082,270.26627218934914)\"><text x=\"10.0\" y=\"2.5549999999999997\" style=\"\">r8_2</text></g><g class=\"toytree-TipLabel\" transform=\"translate(394.6824749000082,262.8698224852071)\"><text x=\"10.0\" y=\"2.5549999999999997\" style=\"\">r8_0</text></g><g class=\"toytree-TipLabel\" transform=\"translate(394.6824749000082,255.47337278106514)\"><text x=\"10.0\" y=\"2.5549999999999997\" style=\"\">r9_3</text></g><g class=\"toytree-TipLabel\" transform=\"translate(394.6824749000082,248.0769230769231)\"><text x=\"10.0\" y=\"2.5549999999999997\" style=\"\">r7_0</text></g><g class=\"toytree-TipLabel\" transform=\"translate(394.6824749000082,240.6804733727811)\"><text x=\"10.0\" y=\"2.5549999999999997\" style=\"\">r1_2</text></g><g class=\"toytree-TipLabel\" transform=\"translate(394.6824749000082,233.28402366863907)\"><text x=\"10.0\" y=\"2.5549999999999997\" style=\"\">r1_1</text></g><g class=\"toytree-TipLabel\" transform=\"translate(394.6824749000082,225.88757396449705)\"><text x=\"10.0\" y=\"2.5549999999999997\" style=\"\">r3_1</text></g><g class=\"toytree-TipLabel\" transform=\"translate(394.6824749000082,218.49112426035506)\"><text x=\"10.0\" y=\"2.5549999999999997\" style=\"\">r3_0</text></g><g class=\"toytree-TipLabel\" transform=\"translate(394.6824749000082,211.09467455621302)\"><text x=\"10.0\" y=\"2.5549999999999997\" style=\"\">r0_3</text></g><g class=\"toytree-TipLabel\" transform=\"translate(394.6824749000082,203.698224852071)\"><text x=\"10.0\" y=\"2.5549999999999997\" style=\"\">r0_1</text></g><g class=\"toytree-TipLabel\" transform=\"translate(394.6824749000082,196.301775147929)\"><text x=\"10.0\" y=\"2.5549999999999997\" style=\"\">r4_3</text></g><g class=\"toytree-TipLabel\" transform=\"translate(394.6824749000082,188.90532544378698)\"><text x=\"10.0\" y=\"2.5549999999999997\" style=\"\">r4_0</text></g><g class=\"toytree-TipLabel\" transform=\"translate(394.6824749000082,181.50887573964494)\"><text x=\"10.0\" y=\"2.5549999999999997\" style=\"\">r4_2</text></g><g class=\"toytree-TipLabel\" transform=\"translate(394.6824749000082,174.11242603550295)\"><text x=\"10.0\" y=\"2.5549999999999997\" style=\"\">r4_1</text></g><g class=\"toytree-TipLabel\" transform=\"translate(394.6824749000082,166.71597633136096)\"><text x=\"10.0\" y=\"2.5549999999999997\" style=\"\">r2_2</text></g><g class=\"toytree-TipLabel\" transform=\"translate(394.6824749000082,159.31952662721895)\"><text x=\"10.0\" y=\"2.5549999999999997\" style=\"\">r3_3</text></g><g class=\"toytree-TipLabel\" transform=\"translate(394.6824749000082,151.9230769230769)\"><text x=\"10.0\" y=\"2.5549999999999997\" style=\"\">r3_2</text></g><g class=\"toytree-TipLabel\" transform=\"translate(394.6824749000082,144.52662721893492)\"><text x=\"10.0\" y=\"2.5549999999999997\" style=\"\">r2_3</text></g><g class=\"toytree-TipLabel\" transform=\"translate(394.6824749000082,137.1301775147929)\"><text x=\"10.0\" y=\"2.5549999999999997\" style=\"\">r2_1</text></g><g class=\"toytree-TipLabel\" transform=\"translate(394.6824749000082,129.73372781065086)\"><text x=\"10.0\" y=\"2.5549999999999997\" style=\"\">r2_0</text></g><g class=\"toytree-TipLabel\" transform=\"translate(394.6824749000082,122.3372781065089)\"><text x=\"10.0\" y=\"2.5549999999999997\" style=\"\">r6_3</text></g><g class=\"toytree-TipLabel\" transform=\"translate(394.6824749000082,114.94082840236688)\"><text x=\"10.0\" y=\"2.5549999999999997\" style=\"\">r6_0</text></g><g class=\"toytree-TipLabel\" transform=\"translate(394.6824749000082,107.54437869822486)\"><text x=\"10.0\" y=\"2.5549999999999997\" style=\"\">r6_2</text></g><g class=\"toytree-TipLabel\" transform=\"translate(394.6824749000082,100.14792899408285)\"><text x=\"10.0\" y=\"2.5549999999999997\" style=\"\">r6_1</text></g><g class=\"toytree-TipLabel\" transform=\"translate(394.6824749000082,92.75147928994082)\"><text x=\"10.0\" y=\"2.5549999999999997\" style=\"\">r5_1</text></g><g class=\"toytree-TipLabel\" transform=\"translate(394.6824749000082,85.35502958579882)\"><text x=\"10.0\" y=\"2.5549999999999997\" style=\"\">r5_0</text></g><g class=\"toytree-TipLabel\" transform=\"translate(394.6824749000082,77.95857988165679)\"><text x=\"10.0\" y=\"2.5549999999999997\" style=\"\">r5_2</text></g><g class=\"toytree-TipLabel\" transform=\"translate(394.6824749000082,70.56213017751482)\"><text x=\"10.0\" y=\"2.5549999999999997\" style=\"\">r7_2</text></g><g class=\"toytree-TipLabel\" transform=\"translate(394.6824749000082,63.165680473372795)\"><text x=\"10.0\" y=\"2.5549999999999997\" style=\"\">r7_1</text></g><g class=\"toytree-TipLabel\" transform=\"translate(394.6824749000082,55.76923076923078)\"><text x=\"10.0\" y=\"2.5549999999999997\" style=\"\">r7_3</text></g></g></g></g></g></svg><div class=\"toyplot-behavior\"><script>(function()\n",
       "{\n",
       "var modules={};\n",
       "})();</script></div></div>"
      ]
     },
     "metadata": {},
     "output_type": "display_data"
    }
   ],
   "source": [
    "toytree.mtree([species_tree, gtrees.treelist[0]]).draw(height=400);"
   ]
  },
  {
   "cell_type": "code",
   "execution_count": 36,
   "id": "8d44b332",
   "metadata": {},
   "outputs": [
    {
     "data": {
      "text/html": [
       "<div class=\"toyplot\" id=\"t54a15019dcea408294b6664f5489b537\" style=\"text-align:center\"><svg class=\"toyplot-canvas-Canvas\" xmlns:toyplot=\"http://www.sandia.gov/toyplot\" xmlns:xlink=\"http://www.w3.org/1999/xlink\" xmlns=\"http://www.w3.org/2000/svg\" width=\"400.0px\" height=\"300.0px\" viewBox=\"0 0 400.0 300.0\" preserveAspectRatio=\"xMidYMid meet\" style=\"background-color:transparent;border-color:#292724;border-style:none;border-width:1.0;fill:rgb(16.1%,15.3%,14.1%);fill-opacity:1.0;font-family:Helvetica;font-size:12px;opacity:1.0;stroke:rgb(16.1%,15.3%,14.1%);stroke-opacity:1.0;stroke-width:1.0\" id=\"t56827d1eecd5421b8f8c1d2d94fbdc74\"><g class=\"toyplot-coordinates-Cartesian\" id=\"t25036c94a4924567adbbe7166fbc9007\"><clipPath id=\"t12bf8b38b49244919480e308af1e2cea\"><rect x=\"40.0\" y=\"40.0\" width=\"320.0\" height=\"220.0\"></rect></clipPath><g clip-path=\"url(#t12bf8b38b49244919480e308af1e2cea)\"><g class=\"toyplot-mark-Plot\" style=\"fill:none\" id=\"t193287c2c66d4df793b87eb2ebcb2dca\"><g class=\"toyplot-Series\"><path d=\"M 119.89700043360187 193.75298103733184 L 123.97863308666305 202.17693210704 L 128.06026573972434 209.2888295740485 L 132.14189839278552 215.20636703709334 L 136.22353104584678 220.03668076466187 L 140.30516369890796 223.87729670675895 L 144.38679635196925 226.81699255797918 L 148.46842900503043 228.93658249195664 L 152.5500616580917 230.30963150370945 L 156.6316943111529 231.00310567416446 L 160.71332696421408 231.07796410477758 L 164.79495961727537 230.5896977545356 L 168.87659227033652 229.58881994229938 L 172.95822492339778 228.12131285019083 L 177.03985757645899 226.22903397481946 L 181.12149022952025 223.95008611908048 L 185.20312288258145 221.3191541950267 L 189.28475553564274 218.36781181490457 L 193.36638818870392 215.1248003804137 L 197.4480208417651 211.61628313715454 L 201.52965349482636 207.86607643992755 L 205.61128614788754 203.89586027311356 L 209.69291880094886 199.72536988699363 L 213.77455145400998 195.37257024394077 L 217.85618410707127 190.8538148164718 L 221.93781676013248 186.18399014082078 L 226.01944941319377 181.376647403799 L 230.1010820662549 176.44412222607082 L 234.1827147193161 171.3976437006507 L 238.2643473723774 166.2474336504517 L 242.34598002543856 161.00279698224503 L 246.42761267849983 155.67220393571284 L 250.509245331561 150.26336495460322 L 254.5908779846223 144.78329884181284 L 258.6725106376835 139.23839480083066 L 262.75414329074476 133.63446891195022 L 266.83577594380597 127.97681554246674 L 270.9174085968671 122.2702541452819 L 274.9990412499284 116.51917185959017 L 279.0806739029896 110.72756229021023 L 283.16230655605085 104.8990608083286 L 287.24393920911206 99.03697668571414 L 291.3255718621733 93.1443223464291 L 295.4072045152345 87.22383999460746 L 299.4888371682958 81.27802585367618 L 303.57046982135694 75.30915223127484 L 307.65210247441814 69.31928760490342 L 311.73373512747946 63.310314905865425 L 315.81536778054067 57.28394816309445 L 319.8970004336019 51.24174765400433\" style=\"stroke:rgb(40%,76.1%,64.7%);stroke-opacity:1.0;stroke-width:2.0\"></path></g></g><g class=\"toyplot-mark-AxisLines\" style=\"\" id=\"tcc819442b3a44ad29810f8f25e256367\"><g class=\"toyplot-Series\"><line class=\"toyplot-Datum\" x1=\"219.89700043360187\" x2=\"219.89700043360187\" y1=\"50.0\" y2=\"250.0\" style=\"opacity:1.0;stroke:rgb(16.1%,15.3%,14.1%);stroke-opacity:1.0\"></line></g></g></g><g class=\"toyplot-coordinates-Axis\" id=\"t45df2b94f598478f89064c36efef41ea\" transform=\"translate(50.0,250.0)translate(0,10.0)\"><line x1=\"69.89700043360187\" y1=\"0\" x2=\"269.8970004336019\" y2=\"0\" style=\"\"></line><g><g transform=\"translate(0.0,6)\"><text x=\"-8.479\" y=\"8.555\" style=\"fill:rgb(16.1%,15.3%,14.1%);fill-opacity:1.0;font-family:helvetica;font-size:10.0px;font-weight:normal;stroke:none;vertical-align:baseline;white-space:pre\">10</text><text x=\"2.641\" y=\"6.455\" style=\"fill:rgb(16.1%,15.3%,14.1%);fill-opacity:1.0;font-family:helvetica;font-size:7.0px;font-weight:normal;stroke:none;vertical-align:baseline;white-space:pre\"> 4</text></g><g transform=\"translate(100.0,6)\"><text x=\"-8.479\" y=\"8.555\" style=\"fill:rgb(16.1%,15.3%,14.1%);fill-opacity:1.0;font-family:helvetica;font-size:10.0px;font-weight:normal;stroke:none;vertical-align:baseline;white-space:pre\">10</text><text x=\"2.641\" y=\"6.455\" style=\"fill:rgb(16.1%,15.3%,14.1%);fill-opacity:1.0;font-family:helvetica;font-size:7.0px;font-weight:normal;stroke:none;vertical-align:baseline;white-space:pre\"> 5</text></g><g transform=\"translate(200.0,6)\"><text x=\"-8.479\" y=\"8.555\" style=\"fill:rgb(16.1%,15.3%,14.1%);fill-opacity:1.0;font-family:helvetica;font-size:10.0px;font-weight:normal;stroke:none;vertical-align:baseline;white-space:pre\">10</text><text x=\"2.641\" y=\"6.455\" style=\"fill:rgb(16.1%,15.3%,14.1%);fill-opacity:1.0;font-family:helvetica;font-size:7.0px;font-weight:normal;stroke:none;vertical-align:baseline;white-space:pre\"> 6</text></g><g transform=\"translate(300.0,6)\"><text x=\"-8.479\" y=\"8.555\" style=\"fill:rgb(16.1%,15.3%,14.1%);fill-opacity:1.0;font-family:helvetica;font-size:10.0px;font-weight:normal;stroke:none;vertical-align:baseline;white-space:pre\">10</text><text x=\"2.641\" y=\"6.455\" style=\"fill:rgb(16.1%,15.3%,14.1%);fill-opacity:1.0;font-family:helvetica;font-size:7.0px;font-weight:normal;stroke:none;vertical-align:baseline;white-space:pre\"> 7</text></g></g><g class=\"toyplot-coordinates-Axis-coordinates\" style=\"visibility:hidden\" transform=\"\"><line x1=\"0\" x2=\"0\" y1=\"-3.0\" y2=\"4.5\" style=\"stroke:rgb(43.9%,50.2%,56.5%);stroke-opacity:1.0;stroke-width:1.0\"></line><text x=\"0\" y=\"-6\" style=\"alignment-baseline:alphabetic;fill:rgb(43.9%,50.2%,56.5%);fill-opacity:1.0;font-size:10px;font-weight:normal;stroke:none;text-anchor:middle\"></text></g></g><g class=\"toyplot-coordinates-Axis\" id=\"t7960c954c5c848c09cdb2189a0872b6f\" transform=\"translate(50.0,250.0)rotate(-90.0)translate(0,-10.0)\"><line x1=\"18.92203589522241\" y1=\"0\" x2=\"198.75825234599566\" y2=\"0\" style=\"\"></line><g><g transform=\"translate(0.0,-6)\"><text x=\"-16.68\" y=\"-4.440892098500626e-16\" style=\"fill:rgb(16.1%,15.3%,14.1%);fill-opacity:1.0;font-family:helvetica;font-size:10.0px;font-weight:normal;stroke:none;vertical-align:baseline;white-space:pre\">130000</text></g><g transform=\"translate(66.66666666666666,-6)\"><text x=\"-16.68\" y=\"-4.440892098500626e-16\" style=\"fill:rgb(16.1%,15.3%,14.1%);fill-opacity:1.0;font-family:helvetica;font-size:10.0px;font-weight:normal;stroke:none;vertical-align:baseline;white-space:pre\">140000</text></g><g transform=\"translate(133.33333333333331,-6)\"><text x=\"-16.68\" y=\"-4.440892098500626e-16\" style=\"fill:rgb(16.1%,15.3%,14.1%);fill-opacity:1.0;font-family:helvetica;font-size:10.0px;font-weight:normal;stroke:none;vertical-align:baseline;white-space:pre\">150000</text></g><g transform=\"translate(200.0,-6)\"><text x=\"-16.68\" y=\"-4.440892098500626e-16\" style=\"fill:rgb(16.1%,15.3%,14.1%);fill-opacity:1.0;font-family:helvetica;font-size:10.0px;font-weight:normal;stroke:none;vertical-align:baseline;white-space:pre\">160000</text></g></g><g class=\"toyplot-coordinates-Axis-coordinates\" style=\"visibility:hidden\" transform=\"\"><line x1=\"0\" x2=\"0\" y1=\"3.0\" y2=\"-4.5\" style=\"stroke:rgb(43.9%,50.2%,56.5%);stroke-opacity:1.0;stroke-width:1.0\"></line><text x=\"0\" y=\"6\" style=\"alignment-baseline:hanging;fill:rgb(43.9%,50.2%,56.5%);fill-opacity:1.0;font-size:10px;font-weight:normal;stroke:none;text-anchor:middle\"></text></g></g></g></svg><div class=\"toyplot-behavior\"><script>(function()\n",
       "{\n",
       "var modules={};\n",
       "modules[\"toyplot/tables\"] = (function()\n",
       "    {\n",
       "        var tables = [];\n",
       "\n",
       "        var module = {};\n",
       "\n",
       "        module.set = function(owner, key, names, columns)\n",
       "        {\n",
       "            tables.push({owner: owner, key: key, names: names, columns: columns});\n",
       "        }\n",
       "\n",
       "        module.get = function(owner, key)\n",
       "        {\n",
       "            for(var i = 0; i != tables.length; ++i)\n",
       "            {\n",
       "                var table = tables[i];\n",
       "                if(table.owner != owner)\n",
       "                    continue;\n",
       "                if(table.key != key)\n",
       "                    continue;\n",
       "                return {names: table.names, columns: table.columns};\n",
       "            }\n",
       "        }\n",
       "\n",
       "        module.get_csv = function(owner, key)\n",
       "        {\n",
       "            var table = module.get(owner, key);\n",
       "            if(table != undefined)\n",
       "            {\n",
       "                var csv = \"\";\n",
       "                csv += table.names.join(\",\") + \"\\n\";\n",
       "                for(var i = 0; i != table.columns[0].length; ++i)\n",
       "                {\n",
       "                  for(var j = 0; j != table.columns.length; ++j)\n",
       "                  {\n",
       "                    if(j)\n",
       "                      csv += \",\";\n",
       "                    csv += table.columns[j][i];\n",
       "                  }\n",
       "                  csv += \"\\n\";\n",
       "                }\n",
       "                return csv;\n",
       "            }\n",
       "        }\n",
       "\n",
       "        return module;\n",
       "    })();\n",
       "modules[\"toyplot/root/id\"] = \"t54a15019dcea408294b6664f5489b537\";\n",
       "modules[\"toyplot/root\"] = (function(root_id)\n",
       "    {\n",
       "        return document.querySelector(\"#\" + root_id);\n",
       "    })(modules[\"toyplot/root/id\"]);\n",
       "modules[\"toyplot/canvas/id\"] = \"t56827d1eecd5421b8f8c1d2d94fbdc74\";\n",
       "modules[\"toyplot/canvas\"] = (function(canvas_id)\n",
       "    {\n",
       "        return document.querySelector(\"#\" + canvas_id);\n",
       "    })(modules[\"toyplot/canvas/id\"]);\n",
       "modules[\"toyplot/menus/context\"] = (function(root, canvas)\n",
       "    {\n",
       "        var wrapper = document.createElement(\"div\");\n",
       "        wrapper.innerHTML = \"<ul class='toyplot-context-menu' style='background:#eee; border:1px solid #b8b8b8; border-radius:5px; box-shadow: 0px 0px 8px rgba(0%,0%,0%,0.25); margin:0; padding:3px 0; position:fixed; visibility:hidden;'></ul>\"\n",
       "        var menu = wrapper.firstChild;\n",
       "\n",
       "        root.appendChild(menu);\n",
       "\n",
       "        var items = [];\n",
       "\n",
       "        var ignore_mouseup = null;\n",
       "        function open_menu(e)\n",
       "        {\n",
       "            var show_menu = false;\n",
       "            for(var index=0; index != items.length; ++index)\n",
       "            {\n",
       "                var item = items[index];\n",
       "                if(item.show(e))\n",
       "                {\n",
       "                    item.item.style.display = \"block\";\n",
       "                    show_menu = true;\n",
       "                }\n",
       "                else\n",
       "                {\n",
       "                    item.item.style.display = \"none\";\n",
       "                }\n",
       "            }\n",
       "\n",
       "            if(show_menu)\n",
       "            {\n",
       "                ignore_mouseup = true;\n",
       "                menu.style.left = (e.clientX + 1) + \"px\";\n",
       "                menu.style.top = (e.clientY - 5) + \"px\";\n",
       "                menu.style.visibility = \"visible\";\n",
       "                e.stopPropagation();\n",
       "                e.preventDefault();\n",
       "            }\n",
       "        }\n",
       "\n",
       "        function close_menu()\n",
       "        {\n",
       "            menu.style.visibility = \"hidden\";\n",
       "        }\n",
       "\n",
       "        function contextmenu(e)\n",
       "        {\n",
       "            open_menu(e);\n",
       "        }\n",
       "\n",
       "        function mousemove(e)\n",
       "        {\n",
       "            ignore_mouseup = false;\n",
       "        }\n",
       "\n",
       "        function mouseup(e)\n",
       "        {\n",
       "            if(ignore_mouseup)\n",
       "            {\n",
       "                ignore_mouseup = false;\n",
       "                return;\n",
       "            }\n",
       "            close_menu();\n",
       "        }\n",
       "\n",
       "        function keydown(e)\n",
       "        {\n",
       "            if(e.key == \"Escape\" || e.key == \"Esc\" || e.keyCode == 27)\n",
       "            {\n",
       "                close_menu();\n",
       "            }\n",
       "        }\n",
       "\n",
       "        canvas.addEventListener(\"contextmenu\", contextmenu);\n",
       "        canvas.addEventListener(\"mousemove\", mousemove);\n",
       "        document.addEventListener(\"mouseup\", mouseup);\n",
       "        document.addEventListener(\"keydown\", keydown);\n",
       "\n",
       "        var module = {};\n",
       "        module.add_item = function(label, show, activate)\n",
       "        {\n",
       "            var wrapper = document.createElement(\"div\");\n",
       "            wrapper.innerHTML = \"<li class='toyplot-context-menu-item' style='background:#eee; color:#333; padding:2px 20px; list-style:none; margin:0; text-align:left;'>\" + label + \"</li>\"\n",
       "            var item = wrapper.firstChild;\n",
       "\n",
       "            items.push({item: item, show: show});\n",
       "\n",
       "            function mouseover()\n",
       "            {\n",
       "                this.style.background = \"steelblue\";\n",
       "                this.style.color = \"white\";\n",
       "            }\n",
       "\n",
       "            function mouseout()\n",
       "            {\n",
       "                this.style.background = \"#eee\";\n",
       "                this.style.color = \"#333\";\n",
       "            }\n",
       "\n",
       "            function choose_item(e)\n",
       "            {\n",
       "                close_menu();\n",
       "                activate();\n",
       "\n",
       "                e.stopPropagation();\n",
       "                e.preventDefault();\n",
       "            }\n",
       "\n",
       "            item.addEventListener(\"mouseover\", mouseover);\n",
       "            item.addEventListener(\"mouseout\", mouseout);\n",
       "            item.addEventListener(\"mouseup\", choose_item);\n",
       "            item.addEventListener(\"contextmenu\", choose_item);\n",
       "\n",
       "            menu.appendChild(item);\n",
       "        };\n",
       "        return module;\n",
       "    })(modules[\"toyplot/root\"],modules[\"toyplot/canvas\"]);\n",
       "modules[\"toyplot/io\"] = (function()\n",
       "    {\n",
       "        var module = {};\n",
       "        module.save_file = function(mime_type, charset, data, filename)\n",
       "        {\n",
       "            var uri = \"data:\" + mime_type + \";charset=\" + charset + \",\" + data;\n",
       "            uri = encodeURI(uri);\n",
       "\n",
       "            var link = document.createElement(\"a\");\n",
       "            if(typeof link.download != \"undefined\")\n",
       "            {\n",
       "              link.href = uri;\n",
       "              link.style = \"visibility:hidden\";\n",
       "              link.download = filename;\n",
       "\n",
       "              document.body.appendChild(link);\n",
       "              link.click();\n",
       "              document.body.removeChild(link);\n",
       "            }\n",
       "            else\n",
       "            {\n",
       "              window.open(uri);\n",
       "            }\n",
       "        };\n",
       "        return module;\n",
       "    })();\n",
       "modules[\"toyplot.coordinates.Axis\"] = (\n",
       "        function(canvas)\n",
       "        {\n",
       "            function sign(x)\n",
       "            {\n",
       "                return x < 0 ? -1 : x > 0 ? 1 : 0;\n",
       "            }\n",
       "\n",
       "            function mix(a, b, amount)\n",
       "            {\n",
       "                return ((1.0 - amount) * a) + (amount * b);\n",
       "            }\n",
       "\n",
       "            function log(x, base)\n",
       "            {\n",
       "                return Math.log(Math.abs(x)) / Math.log(base);\n",
       "            }\n",
       "\n",
       "            function in_range(a, x, b)\n",
       "            {\n",
       "                var left = Math.min(a, b);\n",
       "                var right = Math.max(a, b);\n",
       "                return left <= x && x <= right;\n",
       "            }\n",
       "\n",
       "            function inside(range, projection)\n",
       "            {\n",
       "                for(var i = 0; i != projection.length; ++i)\n",
       "                {\n",
       "                    var segment = projection[i];\n",
       "                    if(in_range(segment.range.min, range, segment.range.max))\n",
       "                        return true;\n",
       "                }\n",
       "                return false;\n",
       "            }\n",
       "\n",
       "            function to_domain(range, projection)\n",
       "            {\n",
       "                for(var i = 0; i != projection.length; ++i)\n",
       "                {\n",
       "                    var segment = projection[i];\n",
       "                    if(in_range(segment.range.bounds.min, range, segment.range.bounds.max))\n",
       "                    {\n",
       "                        if(segment.scale == \"linear\")\n",
       "                        {\n",
       "                            var amount = (range - segment.range.min) / (segment.range.max - segment.range.min);\n",
       "                            return mix(segment.domain.min, segment.domain.max, amount)\n",
       "                        }\n",
       "                        else if(segment.scale[0] == \"log\")\n",
       "                        {\n",
       "                            var amount = (range - segment.range.min) / (segment.range.max - segment.range.min);\n",
       "                            var base = segment.scale[1];\n",
       "                            return sign(segment.domain.min) * Math.pow(base, mix(log(segment.domain.min, base), log(segment.domain.max, base), amount));\n",
       "                        }\n",
       "                    }\n",
       "                }\n",
       "            }\n",
       "\n",
       "            var axes = {};\n",
       "\n",
       "            function display_coordinates(e)\n",
       "            {\n",
       "                var current = canvas.createSVGPoint();\n",
       "                current.x = e.clientX;\n",
       "                current.y = e.clientY;\n",
       "\n",
       "                for(var axis_id in axes)\n",
       "                {\n",
       "                    var axis = document.querySelector(\"#\" + axis_id);\n",
       "                    var coordinates = axis.querySelector(\".toyplot-coordinates-Axis-coordinates\");\n",
       "                    if(coordinates)\n",
       "                    {\n",
       "                        var projection = axes[axis_id];\n",
       "                        var local = current.matrixTransform(axis.getScreenCTM().inverse());\n",
       "                        if(inside(local.x, projection))\n",
       "                        {\n",
       "                            var domain = to_domain(local.x, projection);\n",
       "                            coordinates.style.visibility = \"visible\";\n",
       "                            coordinates.setAttribute(\"transform\", \"translate(\" + local.x + \")\");\n",
       "                            var text = coordinates.querySelector(\"text\");\n",
       "                            text.textContent = domain.toFixed(2);\n",
       "                        }\n",
       "                        else\n",
       "                        {\n",
       "                            coordinates.style.visibility= \"hidden\";\n",
       "                        }\n",
       "                    }\n",
       "                }\n",
       "            }\n",
       "\n",
       "            canvas.addEventListener(\"click\", display_coordinates);\n",
       "\n",
       "            var module = {};\n",
       "            module.show_coordinates = function(axis_id, projection)\n",
       "            {\n",
       "                axes[axis_id] = projection;\n",
       "            }\n",
       "\n",
       "            return module;\n",
       "        })(modules[\"toyplot/canvas\"]);\n",
       "(function(tables, context_menu, io, owner_id, key, label, names, columns, filename)\n",
       "        {\n",
       "            tables.set(owner_id, key, names, columns);\n",
       "\n",
       "            var owner = document.querySelector(\"#\" + owner_id);\n",
       "            function show_item(e)\n",
       "            {\n",
       "                return owner.contains(e.target);\n",
       "            }\n",
       "\n",
       "            function choose_item()\n",
       "            {\n",
       "                io.save_file(\"text/csv\", \"utf-8\", tables.get_csv(owner_id, key), filename + \".csv\");\n",
       "            }\n",
       "\n",
       "            context_menu.add_item(\"Save \" + label + \" as CSV\", show_item, choose_item);\n",
       "        })(modules[\"toyplot/tables\"],modules[\"toyplot/menus/context\"],modules[\"toyplot/io\"],\"t193287c2c66d4df793b87eb2ebcb2dca\",\"data\",\"plot data\",[\"x\", \"y0\"],[[49999.99999999999, 54927.05709937785, 60339.63203196644, 66285.5682795054, 72817.42387506222, 79992.93598030286, 87875.53124273964, 96534.88644416246, 106047.54439600962, 116497.59052576858, 127977.39613497665, 140588.43489871154, 154442.1798238739, 169661.08859476645, 186379.68601574688, 204745.75311902133, 224921.63344847216, 247085.66806619187, 271433.77196619293, 298181.1658297318, 327564.2784297754, 359842.83650057565, 395302.16054538504, 434255.686875676, 477047.73817499715, 524056.56707734254, 575697.6996632239, 632427.6084276479, 694747.7471865679, 763208.9835876166, 838416.4684055032, 921034.9846633581, 1011794.8238625777, 1111498.2412630976, 1221026.5472743248, 1341347.8976398634, 1473525.8512759046, 1618728.7714088198, 1778240.153111564, 1953469.968527306, 2145967.1300643887, 2357433.1817286946, 2589737.339615606, 2844933.014509146, 3125275.9626369877, 3433244.2250214987, 3771560.0316773034, 4143213.8642734205, 4551490.889957613, 4999999.999999999], [138437.05284440023, 137173.460183944, 136106.67556389273, 135219.044944436, 134494.49788530072, 133918.40549398615, 133477.45111630313, 133159.5126262065, 132953.55527444358, 132849.53414887533, 132838.30538428336, 132911.54533681966, 133061.6770086551, 133281.80307247138, 133565.64490377708, 133907.48708213793, 134302.126870746, 134744.82822776432, 135231.27994293795, 135757.55752942682, 136320.08853401087, 136915.62095903297, 137541.19451695096, 138194.11446340889, 138871.92777752923, 139572.40147887688, 140293.50288943015, 141033.38166608938, 141790.3534449024, 142562.88495243224, 143349.58045266324, 144149.16940964307, 144960.49525680952, 145782.50517372807, 146614.2407798754, 147454.82966320746, 148303.47766863, 149159.46187820772, 150022.12422106147, 150890.86565646846, 151765.1408787507, 152644.45349714288, 153528.35164803563, 154416.42400080888, 155308.29612194857, 156203.62716530878, 157102.1068592645, 158003.4527641202, 158907.40777553583, 159813.73785189935]],\"toyplot\");\n",
       "(function(axis, axis_id, projection)\n",
       "        {\n",
       "            axis.show_coordinates(axis_id, projection);\n",
       "        })(modules[\"toyplot.coordinates.Axis\"],\"t45df2b94f598478f89064c36efef41ea\",[{\"domain\": {\"bounds\": {\"max\": 10000.0, \"min\": -Infinity}, \"max\": 10000.0, \"min\": -9980000.0}, \"range\": {\"bounds\": {\"max\": 0.0, \"min\": -Infinity}, \"max\": 0.0, \"min\": -300.0}, \"scale\": \"linear\"}, {\"domain\": {\"bounds\": {\"max\": Infinity, \"min\": 10000.0}, \"max\": 10000000.0, \"min\": 10000.0}, \"range\": {\"bounds\": {\"max\": Infinity, \"min\": 0.0}, \"max\": 300.0, \"min\": 0.0}, \"scale\": [\"log\", 10]}]);\n",
       "(function(axis, axis_id, projection)\n",
       "        {\n",
       "            axis.show_coordinates(axis_id, projection);\n",
       "        })(modules[\"toyplot.coordinates.Axis\"],\"t7960c954c5c848c09cdb2189a0872b6f\",[{\"domain\": {\"bounds\": {\"max\": Infinity, \"min\": -Infinity}, \"max\": 160000.0, \"min\": 130000.0}, \"range\": {\"bounds\": {\"max\": Infinity, \"min\": -Infinity}, \"max\": 200.0, \"min\": 0.0}, \"scale\": \"linear\"}]);\n",
       "})();</script></div></div>"
      ]
     },
     "metadata": {},
     "output_type": "display_data"
    }
   ],
   "source": [
    ">>> neff = 5e5\n",
    ">>> species_tree = toytree.rtree.unittree(ntips=10, treeheight=1e6)\n",
    ">>> species_tree = species_tree.set_node_data(\"Ne\", default=neff)\n",
    ">>> model = ipcoal.Model(species_tree, nsamples=10)\n",
    ">>> model.sim_trees(100)\n",
    ">>> imap = model.get_imap_dict()\n",
    ">>> gtrees = toytree.mtree(model.df.genealogy)\n",
    "\n",
    "# generate embeddings of these gene trees into species tree\n",
    "# models across a range of fixed Ne values\n",
    ">>> logliks = []\n",
    ">>> neffs = np.logspace(np.log10(neff) - 1, np.log10(neff) + 1)\n",
    ">>> for test_neff in neffs:\n",
    ">>>     stree = species_tree.set_node_data(\"Ne\", default=test_neff)\n",
    ">>>     loglik = 0\n",
    ">>>     for rep in range(100):\n",
    ">>>         gtree = gtrees.treelist[rep]\n",
    ">>>         table = get_msc_embedded_gene_tree_table(stree, gtree, imap)\n",
    ">>>         loglik += get_gene_tree_log_prob_msc(table)\n",
    ">>>     logliks.append(loglik)\n",
    "\n",
    "# visualize likelihood surface\n",
    ">>> canvas, axes, mark = toyplot.plot(\n",
    ">>>     neffs, logliks,\n",
    ">>>     xscale=\"log\", height=300, width=400,\n",
    ">>> )\n",
    ">>> axes.vlines([neff]);"
   ]
  },
  {
   "cell_type": "code",
   "execution_count": 23,
   "id": "a5a2abc0",
   "metadata": {},
   "outputs": [],
   "source": [
    ">>> xs = np.logspace(np.log10(neff) - 1, np.log10(neff) + 1)\n",
    ">>> logliks = [get_gene_tree_log_prob_msc(table) for table in embeddings]"
   ]
  },
  {
   "cell_type": "code",
   "execution_count": 26,
   "id": "6c602401",
   "metadata": {},
   "outputs": [
    {
     "data": {
      "text/plain": [
       "array([  1000.        ,   1098.54114199,   1206.79264064,   1325.71136559,\n",
       "         1456.3484775 ,   1599.85871961,   1757.51062485,   1930.69772888,\n",
       "         2120.95088792,   2329.95181052,   2559.5479227 ,   2811.76869797,\n",
       "         3088.84359648,   3393.2217719 ,   3727.59372031,   4094.91506238,\n",
       "         4498.43266897,   4941.71336132,   5428.67543932,   5963.62331659,\n",
       "         6551.2855686 ,   7196.85673001,   7906.04321091,   8685.11373751,\n",
       "         9540.9547635 ,  10481.13134155,  11513.95399326,  12648.55216855,\n",
       "        13894.95494373,  15264.17967175,  16768.32936811,  18420.69969327,\n",
       "        20235.89647725,  22229.96482526,  24420.53094549,  26826.9579528 ,\n",
       "        29470.51702552,  32374.57542818,  35564.80306223,  39069.39937055,\n",
       "        42919.34260129,  47148.66363457,  51794.74679231,  56898.66029018,\n",
       "        62505.51925274,  68664.88450043,  75431.20063355,  82864.27728547,\n",
       "        91029.81779915, 100000.        ])"
      ]
     },
     "execution_count": 26,
     "metadata": {},
     "output_type": "execute_result"
    }
   ],
   "source": [
    "np.logspace(3, 5, 50)"
   ]
  },
  {
   "cell_type": "code",
   "execution_count": 17,
   "id": "8ad16322",
   "metadata": {},
   "outputs": [
    {
     "ename": "ValueError",
     "evalue": "Expected 50 values, received 100",
     "output_type": "error",
     "traceback": [
      "\u001b[0;31m---------------------------------------------------------------------------\u001b[0m",
      "\u001b[0;31mValueError\u001b[0m                                Traceback (most recent call last)",
      "\u001b[0;32m/tmp/ipykernel_51087/4219428886.py\u001b[0m in \u001b[0;36m<module>\u001b[0;34m\u001b[0m\n\u001b[1;32m     13\u001b[0m \u001b[0mxs\u001b[0m \u001b[0;34m=\u001b[0m \u001b[0mnp\u001b[0m\u001b[0;34m.\u001b[0m\u001b[0mlogspace\u001b[0m\u001b[0;34m(\u001b[0m\u001b[0mnp\u001b[0m\u001b[0;34m.\u001b[0m\u001b[0mlog10\u001b[0m\u001b[0;34m(\u001b[0m\u001b[0mneff\u001b[0m\u001b[0;34m)\u001b[0m \u001b[0;34m-\u001b[0m \u001b[0;36m1\u001b[0m\u001b[0;34m,\u001b[0m \u001b[0mnp\u001b[0m\u001b[0;34m.\u001b[0m\u001b[0mlog10\u001b[0m\u001b[0;34m(\u001b[0m\u001b[0mneff\u001b[0m\u001b[0;34m)\u001b[0m \u001b[0;34m+\u001b[0m \u001b[0;36m1\u001b[0m\u001b[0;34m)\u001b[0m\u001b[0;34m\u001b[0m\u001b[0;34m\u001b[0m\u001b[0m\n\u001b[1;32m     14\u001b[0m \u001b[0mlogliks\u001b[0m \u001b[0;34m=\u001b[0m \u001b[0;34m[\u001b[0m\u001b[0mget_gene_tree_log_prob_msc\u001b[0m\u001b[0;34m(\u001b[0m\u001b[0mtable\u001b[0m\u001b[0;34m)\u001b[0m \u001b[0;32mfor\u001b[0m \u001b[0mtable\u001b[0m \u001b[0;32min\u001b[0m \u001b[0membeddings\u001b[0m\u001b[0;34m]\u001b[0m\u001b[0;34m\u001b[0m\u001b[0;34m\u001b[0m\u001b[0m\n\u001b[0;32m---> 15\u001b[0;31m canvas, axes, mark = toyplot.plot(\n\u001b[0m\u001b[1;32m     16\u001b[0m     \u001b[0mxs\u001b[0m\u001b[0;34m,\u001b[0m \u001b[0mlogliks\u001b[0m\u001b[0;34m,\u001b[0m\u001b[0;34m\u001b[0m\u001b[0;34m\u001b[0m\u001b[0m\n\u001b[1;32m     17\u001b[0m     \u001b[0mxscale\u001b[0m\u001b[0;34m=\u001b[0m\u001b[0;34m\"log\"\u001b[0m\u001b[0;34m,\u001b[0m \u001b[0mheight\u001b[0m\u001b[0;34m=\u001b[0m\u001b[0;36m300\u001b[0m\u001b[0;34m,\u001b[0m \u001b[0mwidth\u001b[0m\u001b[0;34m=\u001b[0m\u001b[0;36m400\u001b[0m\u001b[0;34m,\u001b[0m\u001b[0;34m\u001b[0m\u001b[0;34m\u001b[0m\u001b[0m\n",
      "\u001b[0;32m~/miniconda3/lib/python3.9/site-packages/toyplot/__init__.py\u001b[0m in \u001b[0;36mplot\u001b[0;34m(a, b, along, area, aspect, color, filename, height, label, margin, marker, mfill, mlstyle, mopacity, mstyle, mtitle, opacity, padding, show, size, stroke_width, style, title, width, xlabel, xmax, xmin, xscale, xshow, ylabel, ymax, ymin, yscale, yshow)\u001b[0m\n\u001b[1;32m    431\u001b[0m         \u001b[0myshow\u001b[0m\u001b[0;34m=\u001b[0m\u001b[0myshow\u001b[0m\u001b[0;34m,\u001b[0m\u001b[0;34m\u001b[0m\u001b[0;34m\u001b[0m\u001b[0m\n\u001b[1;32m    432\u001b[0m         )\n\u001b[0;32m--> 433\u001b[0;31m     mark = axes.plot(\n\u001b[0m\u001b[1;32m    434\u001b[0m         \u001b[0ma\u001b[0m\u001b[0;34m=\u001b[0m\u001b[0ma\u001b[0m\u001b[0;34m,\u001b[0m\u001b[0;34m\u001b[0m\u001b[0;34m\u001b[0m\u001b[0m\n\u001b[1;32m    435\u001b[0m         \u001b[0mb\u001b[0m\u001b[0;34m=\u001b[0m\u001b[0mb\u001b[0m\u001b[0;34m,\u001b[0m\u001b[0;34m\u001b[0m\u001b[0;34m\u001b[0m\u001b[0m\n",
      "\u001b[0;32m~/miniconda3/lib/python3.9/site-packages/toyplot/coordinates.py\u001b[0m in \u001b[0;36mplot\u001b[0;34m(self, a, b, along, color, stroke_width, opacity, title, marker, area, size, mfill, mopacity, mtitle, style, mstyle, mlstyle, filename)\u001b[0m\n\u001b[1;32m   1985\u001b[0m             \u001b[0mb\u001b[0m \u001b[0;34m=\u001b[0m \u001b[0mtoyplot\u001b[0m\u001b[0;34m.\u001b[0m\u001b[0mrequire\u001b[0m\u001b[0;34m.\u001b[0m\u001b[0mscalar_array\u001b[0m\u001b[0;34m(\u001b[0m\u001b[0mb\u001b[0m\u001b[0;34m)\u001b[0m\u001b[0;34m\u001b[0m\u001b[0;34m\u001b[0m\u001b[0m\n\u001b[1;32m   1986\u001b[0m             \u001b[0;32mif\u001b[0m \u001b[0mb\u001b[0m\u001b[0;34m.\u001b[0m\u001b[0mndim\u001b[0m \u001b[0;34m==\u001b[0m \u001b[0;36m1\u001b[0m\u001b[0;34m:\u001b[0m\u001b[0;34m\u001b[0m\u001b[0;34m\u001b[0m\u001b[0m\n\u001b[0;32m-> 1987\u001b[0;31m                 \u001b[0mb\u001b[0m \u001b[0;34m=\u001b[0m \u001b[0mtoyplot\u001b[0m\u001b[0;34m.\u001b[0m\u001b[0mrequire\u001b[0m\u001b[0;34m.\u001b[0m\u001b[0mscalar_vector\u001b[0m\u001b[0;34m(\u001b[0m\u001b[0mb\u001b[0m\u001b[0;34m,\u001b[0m \u001b[0mlen\u001b[0m\u001b[0;34m(\u001b[0m\u001b[0mposition\u001b[0m\u001b[0;34m)\u001b[0m\u001b[0;34m)\u001b[0m\u001b[0;34m\u001b[0m\u001b[0;34m\u001b[0m\u001b[0m\n\u001b[0m\u001b[1;32m   1988\u001b[0m                 \u001b[0mseries\u001b[0m \u001b[0;34m=\u001b[0m \u001b[0mnumpy\u001b[0m\u001b[0;34m.\u001b[0m\u001b[0mma\u001b[0m\u001b[0;34m.\u001b[0m\u001b[0mcolumn_stack\u001b[0m\u001b[0;34m(\u001b[0m\u001b[0;34m(\u001b[0m\u001b[0mb\u001b[0m\u001b[0;34m,\u001b[0m\u001b[0;34m)\u001b[0m\u001b[0;34m)\u001b[0m\u001b[0;34m\u001b[0m\u001b[0;34m\u001b[0m\u001b[0m\n\u001b[1;32m   1989\u001b[0m             \u001b[0;32melif\u001b[0m \u001b[0mb\u001b[0m\u001b[0;34m.\u001b[0m\u001b[0mndim\u001b[0m \u001b[0;34m==\u001b[0m \u001b[0;36m2\u001b[0m\u001b[0;34m:\u001b[0m\u001b[0;34m\u001b[0m\u001b[0;34m\u001b[0m\u001b[0m\n",
      "\u001b[0;32m~/miniconda3/lib/python3.9/site-packages/toyplot/require.py\u001b[0m in \u001b[0;36mscalar_vector\u001b[0;34m(value, length, min_length, modulus)\u001b[0m\n\u001b[1;32m     74\u001b[0m \u001b[0;32mdef\u001b[0m \u001b[0mscalar_vector\u001b[0m\u001b[0;34m(\u001b[0m\u001b[0mvalue\u001b[0m\u001b[0;34m,\u001b[0m \u001b[0mlength\u001b[0m\u001b[0;34m=\u001b[0m\u001b[0;32mNone\u001b[0m\u001b[0;34m,\u001b[0m \u001b[0mmin_length\u001b[0m\u001b[0;34m=\u001b[0m\u001b[0;32mNone\u001b[0m\u001b[0;34m,\u001b[0m \u001b[0mmodulus\u001b[0m\u001b[0;34m=\u001b[0m\u001b[0;32mNone\u001b[0m\u001b[0;34m)\u001b[0m\u001b[0;34m:\u001b[0m\u001b[0;34m\u001b[0m\u001b[0;34m\u001b[0m\u001b[0m\n\u001b[1;32m     75\u001b[0m     \u001b[0;34m\"\"\"Raise an exception if a value isn't convertable to a 1D array of numbers.\"\"\"\u001b[0m\u001b[0;34m\u001b[0m\u001b[0;34m\u001b[0m\u001b[0m\n\u001b[0;32m---> 76\u001b[0;31m     \u001b[0;32mreturn\u001b[0m \u001b[0mvector\u001b[0m\u001b[0;34m(\u001b[0m\u001b[0mvalue\u001b[0m\u001b[0;34m,\u001b[0m \u001b[0mlength\u001b[0m\u001b[0;34m=\u001b[0m\u001b[0mlength\u001b[0m\u001b[0;34m,\u001b[0m \u001b[0mmin_length\u001b[0m\u001b[0;34m=\u001b[0m\u001b[0mmin_length\u001b[0m\u001b[0;34m,\u001b[0m \u001b[0mmodulus\u001b[0m\u001b[0;34m=\u001b[0m\u001b[0mmodulus\u001b[0m\u001b[0;34m)\u001b[0m\u001b[0;34m.\u001b[0m\u001b[0mastype\u001b[0m\u001b[0;34m(\u001b[0m\u001b[0;34m\"float64\"\u001b[0m\u001b[0;34m)\u001b[0m\u001b[0;34m\u001b[0m\u001b[0;34m\u001b[0m\u001b[0m\n\u001b[0m\u001b[1;32m     77\u001b[0m \u001b[0;34m\u001b[0m\u001b[0m\n\u001b[1;32m     78\u001b[0m \u001b[0;34m\u001b[0m\u001b[0m\n",
      "\u001b[0;32m~/miniconda3/lib/python3.9/site-packages/toyplot/require.py\u001b[0m in \u001b[0;36mvector\u001b[0;34m(value, length, min_length, modulus)\u001b[0m\n\u001b[1;32m     57\u001b[0m     \u001b[0;32mif\u001b[0m \u001b[0mlength\u001b[0m \u001b[0;32mis\u001b[0m \u001b[0;32mnot\u001b[0m \u001b[0;32mNone\u001b[0m\u001b[0;34m:\u001b[0m\u001b[0;34m\u001b[0m\u001b[0;34m\u001b[0m\u001b[0m\n\u001b[1;32m     58\u001b[0m         \u001b[0;32mif\u001b[0m \u001b[0mlen\u001b[0m\u001b[0;34m(\u001b[0m\u001b[0marray\u001b[0m\u001b[0;34m)\u001b[0m \u001b[0;34m!=\u001b[0m \u001b[0mlength\u001b[0m\u001b[0;34m:\u001b[0m\u001b[0;34m\u001b[0m\u001b[0;34m\u001b[0m\u001b[0m\n\u001b[0;32m---> 59\u001b[0;31m             \u001b[0;32mraise\u001b[0m \u001b[0mValueError\u001b[0m\u001b[0;34m(\u001b[0m\u001b[0;34m\"Expected %s values, received %s\"\u001b[0m \u001b[0;34m%\u001b[0m \u001b[0;34m(\u001b[0m\u001b[0mlength\u001b[0m\u001b[0;34m,\u001b[0m \u001b[0mlen\u001b[0m\u001b[0;34m(\u001b[0m\u001b[0marray\u001b[0m\u001b[0;34m)\u001b[0m\u001b[0;34m)\u001b[0m\u001b[0;34m)\u001b[0m \u001b[0;31m# pragma: no cover\u001b[0m\u001b[0;34m\u001b[0m\u001b[0;34m\u001b[0m\u001b[0m\n\u001b[0m\u001b[1;32m     60\u001b[0m     \u001b[0;32mif\u001b[0m \u001b[0mmin_length\u001b[0m \u001b[0;32mis\u001b[0m \u001b[0;32mnot\u001b[0m \u001b[0;32mNone\u001b[0m\u001b[0;34m:\u001b[0m\u001b[0;34m\u001b[0m\u001b[0;34m\u001b[0m\u001b[0m\n\u001b[1;32m     61\u001b[0m         \u001b[0;32mif\u001b[0m \u001b[0mlen\u001b[0m\u001b[0;34m(\u001b[0m\u001b[0marray\u001b[0m\u001b[0;34m)\u001b[0m \u001b[0;34m<\u001b[0m \u001b[0mmin_length\u001b[0m\u001b[0;34m:\u001b[0m\u001b[0;34m\u001b[0m\u001b[0;34m\u001b[0m\u001b[0m\n",
      "\u001b[0;31mValueError\u001b[0m: Expected 50 values, received 100"
     ]
    },
    {
     "data": {
      "text/html": [
       "<div class=\"toyplot\" id=\"t12c6406381d844bf994e2bc5e0d432d1\" style=\"text-align:center\"><svg class=\"toyplot-canvas-Canvas\" xmlns:toyplot=\"http://www.sandia.gov/toyplot\" xmlns:xlink=\"http://www.w3.org/1999/xlink\" xmlns=\"http://www.w3.org/2000/svg\" width=\"400.0px\" height=\"300.0px\" viewBox=\"0 0 400.0 300.0\" preserveAspectRatio=\"xMidYMid meet\" style=\"background-color:transparent;border-color:#292724;border-style:none;border-width:1.0;fill:rgb(16.1%,15.3%,14.1%);fill-opacity:1.0;font-family:Helvetica;font-size:12px;opacity:1.0;stroke:rgb(16.1%,15.3%,14.1%);stroke-opacity:1.0;stroke-width:1.0\" id=\"t74c4eb2535ad40fdaef987a165bb2d7e\"><g class=\"toyplot-coordinates-Cartesian\" id=\"tb2e995b6ec424ea884fef0cbdcdc8eb6\"><clipPath id=\"t7a3f2f6575c847a8b7b27320b5142416\"><rect x=\"40.0\" y=\"40.0\" width=\"320.0\" height=\"220.0\"></rect></clipPath><g clip-path=\"url(#t7a3f2f6575c847a8b7b27320b5142416)\"></g><g class=\"toyplot-coordinates-Axis\" id=\"t5cfadfbc4bc04004b60cb9f808bb5e15\" transform=\"translate(50.0,250.0)translate(0,10.0)\"><line x1=\"0\" y1=\"0\" x2=\"300.0\" y2=\"0\" style=\"\"></line><g><g transform=\"translate(0.0,6)\"><text x=\"-10.144\" y=\"8.555\" style=\"fill:rgb(16.1%,15.3%,14.1%);fill-opacity:1.0;font-family:helvetica;font-size:10.0px;font-weight:normal;stroke:none;vertical-align:baseline;white-space:pre\">-10</text><text x=\"4.306000000000001\" y=\"6.455\" style=\"fill:rgb(16.1%,15.3%,14.1%);fill-opacity:1.0;font-family:helvetica;font-size:7.0px;font-weight:normal;stroke:none;vertical-align:baseline;white-space:pre\"> 0</text></g><g transform=\"translate(150.0,6)\"><text x=\"-2.78\" y=\"8.555\" style=\"fill:rgb(16.1%,15.3%,14.1%);fill-opacity:1.0;font-family:helvetica;font-size:10.0px;font-weight:normal;stroke:none;vertical-align:baseline;white-space:pre\">0</text></g><g transform=\"translate(300.0,6)\"><text x=\"-8.479\" y=\"8.555\" style=\"fill:rgb(16.1%,15.3%,14.1%);fill-opacity:1.0;font-family:helvetica;font-size:10.0px;font-weight:normal;stroke:none;vertical-align:baseline;white-space:pre\">10</text><text x=\"2.641\" y=\"6.455\" style=\"fill:rgb(16.1%,15.3%,14.1%);fill-opacity:1.0;font-family:helvetica;font-size:7.0px;font-weight:normal;stroke:none;vertical-align:baseline;white-space:pre\"> 0</text></g></g><g class=\"toyplot-coordinates-Axis-coordinates\" style=\"visibility:hidden\" transform=\"\"><line x1=\"0\" x2=\"0\" y1=\"-3.0\" y2=\"4.5\" style=\"stroke:rgb(43.9%,50.2%,56.5%);stroke-opacity:1.0;stroke-width:1.0\"></line><text x=\"0\" y=\"-6\" style=\"alignment-baseline:alphabetic;fill:rgb(43.9%,50.2%,56.5%);fill-opacity:1.0;font-size:10px;font-weight:normal;stroke:none;text-anchor:middle\"></text></g></g><g class=\"toyplot-coordinates-Axis\" id=\"tb1ec0fc186764f64baa9291b871204d6\" transform=\"translate(50.0,250.0)rotate(-90.0)translate(0,-10.0)\"><line x1=\"0\" y1=\"0\" x2=\"200.0\" y2=\"0\" style=\"\"></line><g><g transform=\"translate(0.0,-6)\"><text x=\"-8.615\" y=\"-4.440892098500626e-16\" style=\"fill:rgb(16.1%,15.3%,14.1%);fill-opacity:1.0;font-family:helvetica;font-size:10.0px;font-weight:normal;stroke:none;vertical-align:baseline;white-space:pre\">-0.5</text></g><g transform=\"translate(100.0,-6)\"><text x=\"-6.95\" y=\"-4.440892098500626e-16\" style=\"fill:rgb(16.1%,15.3%,14.1%);fill-opacity:1.0;font-family:helvetica;font-size:10.0px;font-weight:normal;stroke:none;vertical-align:baseline;white-space:pre\">0.0</text></g><g transform=\"translate(200.0,-6)\"><text x=\"-6.95\" y=\"-4.440892098500626e-16\" style=\"fill:rgb(16.1%,15.3%,14.1%);fill-opacity:1.0;font-family:helvetica;font-size:10.0px;font-weight:normal;stroke:none;vertical-align:baseline;white-space:pre\">0.5</text></g></g><g class=\"toyplot-coordinates-Axis-coordinates\" style=\"visibility:hidden\" transform=\"\"><line x1=\"0\" x2=\"0\" y1=\"3.0\" y2=\"-4.5\" style=\"stroke:rgb(43.9%,50.2%,56.5%);stroke-opacity:1.0;stroke-width:1.0\"></line><text x=\"0\" y=\"6\" style=\"alignment-baseline:hanging;fill:rgb(43.9%,50.2%,56.5%);fill-opacity:1.0;font-size:10px;font-weight:normal;stroke:none;text-anchor:middle\"></text></g></g></g></svg><div class=\"toyplot-behavior\"><script>(function()\n",
       "{\n",
       "var modules={};\n",
       "modules[\"toyplot/canvas/id\"] = \"t74c4eb2535ad40fdaef987a165bb2d7e\";\n",
       "modules[\"toyplot/canvas\"] = (function(canvas_id)\n",
       "    {\n",
       "        return document.querySelector(\"#\" + canvas_id);\n",
       "    })(modules[\"toyplot/canvas/id\"]);\n",
       "modules[\"toyplot.coordinates.Axis\"] = (\n",
       "        function(canvas)\n",
       "        {\n",
       "            function sign(x)\n",
       "            {\n",
       "                return x < 0 ? -1 : x > 0 ? 1 : 0;\n",
       "            }\n",
       "\n",
       "            function mix(a, b, amount)\n",
       "            {\n",
       "                return ((1.0 - amount) * a) + (amount * b);\n",
       "            }\n",
       "\n",
       "            function log(x, base)\n",
       "            {\n",
       "                return Math.log(Math.abs(x)) / Math.log(base);\n",
       "            }\n",
       "\n",
       "            function in_range(a, x, b)\n",
       "            {\n",
       "                var left = Math.min(a, b);\n",
       "                var right = Math.max(a, b);\n",
       "                return left <= x && x <= right;\n",
       "            }\n",
       "\n",
       "            function inside(range, projection)\n",
       "            {\n",
       "                for(var i = 0; i != projection.length; ++i)\n",
       "                {\n",
       "                    var segment = projection[i];\n",
       "                    if(in_range(segment.range.min, range, segment.range.max))\n",
       "                        return true;\n",
       "                }\n",
       "                return false;\n",
       "            }\n",
       "\n",
       "            function to_domain(range, projection)\n",
       "            {\n",
       "                for(var i = 0; i != projection.length; ++i)\n",
       "                {\n",
       "                    var segment = projection[i];\n",
       "                    if(in_range(segment.range.bounds.min, range, segment.range.bounds.max))\n",
       "                    {\n",
       "                        if(segment.scale == \"linear\")\n",
       "                        {\n",
       "                            var amount = (range - segment.range.min) / (segment.range.max - segment.range.min);\n",
       "                            return mix(segment.domain.min, segment.domain.max, amount)\n",
       "                        }\n",
       "                        else if(segment.scale[0] == \"log\")\n",
       "                        {\n",
       "                            var amount = (range - segment.range.min) / (segment.range.max - segment.range.min);\n",
       "                            var base = segment.scale[1];\n",
       "                            return sign(segment.domain.min) * Math.pow(base, mix(log(segment.domain.min, base), log(segment.domain.max, base), amount));\n",
       "                        }\n",
       "                    }\n",
       "                }\n",
       "            }\n",
       "\n",
       "            var axes = {};\n",
       "\n",
       "            function display_coordinates(e)\n",
       "            {\n",
       "                var current = canvas.createSVGPoint();\n",
       "                current.x = e.clientX;\n",
       "                current.y = e.clientY;\n",
       "\n",
       "                for(var axis_id in axes)\n",
       "                {\n",
       "                    var axis = document.querySelector(\"#\" + axis_id);\n",
       "                    var coordinates = axis.querySelector(\".toyplot-coordinates-Axis-coordinates\");\n",
       "                    if(coordinates)\n",
       "                    {\n",
       "                        var projection = axes[axis_id];\n",
       "                        var local = current.matrixTransform(axis.getScreenCTM().inverse());\n",
       "                        if(inside(local.x, projection))\n",
       "                        {\n",
       "                            var domain = to_domain(local.x, projection);\n",
       "                            coordinates.style.visibility = \"visible\";\n",
       "                            coordinates.setAttribute(\"transform\", \"translate(\" + local.x + \")\");\n",
       "                            var text = coordinates.querySelector(\"text\");\n",
       "                            text.textContent = domain.toFixed(2);\n",
       "                        }\n",
       "                        else\n",
       "                        {\n",
       "                            coordinates.style.visibility= \"hidden\";\n",
       "                        }\n",
       "                    }\n",
       "                }\n",
       "            }\n",
       "\n",
       "            canvas.addEventListener(\"click\", display_coordinates);\n",
       "\n",
       "            var module = {};\n",
       "            module.show_coordinates = function(axis_id, projection)\n",
       "            {\n",
       "                axes[axis_id] = projection;\n",
       "            }\n",
       "\n",
       "            return module;\n",
       "        })(modules[\"toyplot/canvas\"]);\n",
       "(function(axis, axis_id, projection)\n",
       "        {\n",
       "            axis.show_coordinates(axis_id, projection);\n",
       "        })(modules[\"toyplot.coordinates.Axis\"],\"t5cfadfbc4bc04004b60cb9f808bb5e15\",[{\"domain\": {\"bounds\": {\"max\": Infinity, \"min\": -Infinity}, \"max\": 1.0, \"min\": -1.0}, \"range\": {\"bounds\": {\"max\": Infinity, \"min\": -Infinity}, \"max\": 300.0, \"min\": 0.0}, \"scale\": \"linear\"}]);\n",
       "(function(axis, axis_id, projection)\n",
       "        {\n",
       "            axis.show_coordinates(axis_id, projection);\n",
       "        })(modules[\"toyplot.coordinates.Axis\"],\"tb1ec0fc186764f64baa9291b871204d6\",[{\"domain\": {\"bounds\": {\"max\": Infinity, \"min\": -Infinity}, \"max\": 0.5, \"min\": -0.5}, \"range\": {\"bounds\": {\"max\": Infinity, \"min\": -Infinity}, \"max\": 200.0, \"min\": 0.0}, \"scale\": \"linear\"}]);\n",
       "})();</script></div></div>"
      ]
     },
     "metadata": {},
     "output_type": "display_data"
    }
   ],
   "source": [
    ">>> canvas, axes, mark = toyplot.plot(\n",
    ">>>     xs, logliks,\n",
    ">>>     xscale=\"log\", height=300, width=400,\n",
    ">>> )\n",
    ">>> axes.vlines([neff]);"
   ]
  },
  {
   "cell_type": "code",
   "execution_count": 240,
   "id": "a9f43b6a",
   "metadata": {},
   "outputs": [
    {
     "data": {
      "text/plain": [
       "-41.324230440780106"
      ]
     },
     "execution_count": 240,
     "metadata": {},
     "output_type": "execute_result"
    }
   ],
   "source": [
    "# %%timeit\n",
    "idx = 0\n",
    "\n",
    "get_censored_interval_log_prob(\n",
    "    DATA.neff[idx],\n",
    "    DATA.nedges_in[idx],\n",
    "    DATA.nedges_out[idx],\n",
    "    DATA.dist[idx],\n",
    "    np.array(DATA.coals[idx]),\n",
    ")"
   ]
  },
  {
   "cell_type": "code",
   "execution_count": 226,
   "id": "633c79ef",
   "metadata": {},
   "outputs": [],
   "source": [
    "from numba import njit"
   ]
  },
  {
   "cell_type": "code",
   "execution_count": 232,
   "id": "58823dd0",
   "metadata": {},
   "outputs": [],
   "source": [
    "#@njit\n",
    "def get_censored_interval_log_prob(\n",
    "    neff: float,\n",
    "    nedges_in: int,\n",
    "    nedges_out: int,\n",
    "    interval_dist: float,\n",
    "    coal_dists: np.ndarray,\n",
    "    ):\n",
    "    \"\"\"Return the log prob of coal events in a species tree interval.\n",
    "\n",
    "    Note\n",
    "    ----\n",
    "    Speed optimized function. Compared to the didactic version of this \n",
    "    function this uses jit-compilation, iterates over the coal_dists\n",
    "    only once, and sums terms inside the np.exp call so that it only \n",
    "    needs to be called once.\n",
    "\n",
    "    References\n",
    "    ----------\n",
    "    Equation 8 of Rannala et al. 2020 Book Chapter.\n",
    "    \"\"\"\n",
    "    rate = 1 / (2 * neff)\n",
    "    pairs_out = (nedges_out - (nedges_out - 1)) / 2\n",
    "    final_dist = (interval_dist - np.sum(coal_dists))\n",
    "    edge_diff = nedges_in - nedges_out\n",
    "\n",
    "    # probability density of m - n coalescent waiting times     \n",
    "    inner = 0\n",
    "    for idx, nedges in enumerate(range(nedges_in, nedges_out, -1)):\n",
    "        npairs = (nedges * (nedges - 1)) / 2\n",
    "        inner += npairs * rate * (coal_dists[idx])\n",
    "\n",
    "    prob = (rate ** edge_diff) * np.exp(-inner - (rate * pairs_out * final_dist))\n",
    "\n",
    "    # return log positive results\n",
    "    if prob > 0:\n",
    "        return np.log(prob)\n",
    "    return np.inf"
   ]
  },
  {
   "cell_type": "code",
   "execution_count": 248,
   "id": "bd3b7e62",
   "metadata": {},
   "outputs": [],
   "source": [
    "@njit\n",
    "def get_censored_interval_log_prob_didactic(\n",
    "    neff: float, \n",
    "    nedges_in: int,\n",
    "    nedges_out: int,\n",
    "    interval_dist: float,\n",
    "    coal_dists: np.ndarray,\n",
    "    ):\n",
    "    \"\"\"Return the log probability of a censored species tree interval.\n",
    "\n",
    "    This is a didactic example, written to be easy to understand. See\n",
    "    :func:`get_censored_interval_log_prob` to see a jit-compiled and\n",
    "    speed optimized version.\n",
    "\n",
    "    ...\n",
    "\n",
    "    Parameters\n",
    "    ----------\n",
    "    ...\n",
    "    coal_dists: np.ndarray\n",
    "        Array of ordered coal times within the censored population \n",
    "        interval, representing the dist from the last event to the \n",
    "        next, where last event can be the beginning of the interval,\n",
    "        or the last coal event.\n",
    "\n",
    "    \"\"\"\n",
    "    # coalescent rate in this interval\n",
    "    rate = 1 / (2 * neff)\n",
    "\n",
    "    # The probability density of observing n-m coalescent events.\n",
    "    # The opportunity for coalescence is described by the number of \n",
    "    # ways that m lineages can be joined, times the length of time\n",
    "    # over which m lineages existed. This 'opportunity' is treated as\n",
    "    # an *exponential waiting time* with coalescence rate lambda, so:\n",
    "    #         prob_density = rate * np.exp(-lambda * rate)\n",
    "    # this prob density is 1 if no lineages coalesce in the interval.\n",
    "    prob_coal = 1.\n",
    "    for idx, nedges in enumerate(range(nedges_in, nedges_out, -1)):\n",
    "        npairs = (nedges * (nedges - 1)) / 2\n",
    "        opportunity = npairs * coal_dists[idx]\n",
    "        prob_coal *= rate * np.exp(-rate * opportunity)\n",
    "\n",
    "    # The probability that no coalescent events occur from the last \n",
    "    # event until the end of the species tree interval. The more\n",
    "    # edges that remain, and the longer the remaining distance, the \n",
    "    # higher this probability is. It is 1 if nedges_out=1, bc there \n",
    "    # is no one left to coalesce with in the interval. The species tree\n",
    "    # root interval is always 1.\n",
    "    if nedges_out == 1:\n",
    "        prob_no_coal = 1.\n",
    "    else:\n",
    "        npairs_not_coalesced = ((nedges_out * (nedges_out - 1)) / 2)\n",
    "        opportunity = npairs_not_coalesced * (interval_dist - np.sum(coal_dists))\n",
    "        prob_no_coal = np.exp(-rate * opportunity)\n",
    "\n",
    "    # multiply to get joint prob dist of the gt in the pop\n",
    "    prob = prob_coal * prob_no_coal\n",
    "    #logger.info(f\"pcoal={prob_coal}, pno-coal={prob_no_coal}, prob={prob}\")\n",
    "\n",
    "    # return log positive results\n",
    "    if prob > 0:\n",
    "        return np.log(prob)\n",
    "    return np.inf"
   ]
  },
  {
   "cell_type": "code",
   "execution_count": 55,
   "id": "4301d383",
   "metadata": {},
   "outputs": [
    {
     "name": "stdout",
     "output_type": "stream",
     "text": [
      "450 ns ± 10.7 ns per loop (mean ± std. dev. of 7 runs, 1000000 loops each)\n"
     ]
    }
   ],
   "source": [
    "%%timeit\n",
    "np.exp(0.1)"
   ]
  },
  {
   "cell_type": "code",
   "execution_count": 58,
   "id": "61d8f85b",
   "metadata": {},
   "outputs": [
    {
     "name": "stdout",
     "output_type": "stream",
     "text": [
      "4 µs ± 81.3 ns per loop (mean ± std. dev. of 7 runs, 100000 loops each)\n"
     ]
    }
   ],
   "source": [
    "%%timeit\n",
    "np.sum([2,  3])"
   ]
  },
  {
   "cell_type": "code",
   "execution_count": 54,
   "id": "c8275b4b",
   "metadata": {},
   "outputs": [
    {
     "name": "stdout",
     "output_type": "stream",
     "text": [
      "79690.80607556981\n",
      "529372.693681145\n",
      "61934.9243322144\n"
     ]
    }
   ],
   "source": [
    "n = 1\n",
    "m = 4\n",
    "for idx, j in enumerate(range(m, n, -1)):\n",
    "    print(j * DATA.coals[0][idx])"
   ]
  }
 ],
 "metadata": {
  "kernelspec": {
   "display_name": "Python 3 (ipykernel)",
   "language": "python",
   "name": "python3"
  },
  "language_info": {
   "codemirror_mode": {
    "name": "ipython",
    "version": 3
   },
   "file_extension": ".py",
   "mimetype": "text/x-python",
   "name": "python",
   "nbconvert_exporter": "python",
   "pygments_lexer": "ipython3",
   "version": "3.9.16"
  }
 },
 "nbformat": 4,
 "nbformat_minor": 5
}
