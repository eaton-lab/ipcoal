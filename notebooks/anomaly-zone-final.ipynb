{
 "cells": [
  {
   "cell_type": "markdown",
   "id": "682151a1",
   "metadata": {},
   "source": [
    "# Anomaly zone MSC simulations\n",
    "\n",
    "See notebook 1 for a step by step demonstrations of the functions used below. This notebook focuses just on running these functions over a range of parameter values and visualizing results."
   ]
  },
  {
   "cell_type": "code",
   "execution_count": 1,
   "id": "78bc56c5",
   "metadata": {},
   "outputs": [],
   "source": [
    "# conda install ipcoal toytree -c conda-forge\n",
    "# conda install astral3 -c conda-forge-c eaton-lab\n",
    "# conda install raxml-ng -c conda-forge -c bioconda"
   ]
  },
  {
   "cell_type": "code",
   "execution_count": 4,
   "id": "4ccf78a3",
   "metadata": {},
   "outputs": [],
   "source": [
    "from concurrent.futures import ProcessPoolExecutor\n",
    "from pathlib import Path\n",
    "import numpy as np\n",
    "import ipcoal\n",
    "import toytree"
   ]
  },
  {
   "cell_type": "code",
   "execution_count": 5,
   "id": "df661b43",
   "metadata": {},
   "outputs": [
    {
     "name": "stdout",
     "output_type": "stream",
     "text": [
      "toytree 3.0.dev1\n",
      "ipcoal 0.4.dev1\n"
     ]
    }
   ],
   "source": [
    "print(\"toytree\", toytree.__version__)\n",
    "print(\"ipcoal\", ipcoal.__version__)"
   ]
  },
  {
   "cell_type": "markdown",
   "id": "3caa1307",
   "metadata": {},
   "source": [
    "### Global simulation variables\n",
    "These variables are used throughout the notebook. All relevant variable are set here."
   ]
  },
  {
   "cell_type": "code",
   "execution_count": 4,
   "id": "790f513c",
   "metadata": {},
   "outputs": [],
   "source": [
    "# full paths to conda-installed phylo inference binaries\n",
    "ASTRAL = \"/home/deren/miniconda3/envs/ipyrad/bin/astral.5.7.1.jar\"\n",
    "RAXML_NG = \"/home/deren/miniconda3/envs/ipyrad/bin/raxml-ng\""
   ]
  },
  {
   "cell_type": "code",
   "execution_count": 28,
   "id": "4ff8af2a",
   "metadata": {},
   "outputs": [],
   "source": [
    "# directory in curdir to store tree files, rm any previous csv files in it.\n",
    "WORKDIR = Path(\"./anomaly_data\")\n",
    "WORKDIR.mkdir(exist_ok=True)\n",
    "for tmpfile in WORKDIR.glob(\"*.csv\"):\n",
    "    tmpfile.unlink()"
   ]
  },
  {
   "cell_type": "code",
   "execution_count": 6,
   "id": "e70137d2",
   "metadata": {},
   "outputs": [],
   "source": [
    "# you may wish to scale NCORES parallelization based on your system\n",
    "NCORES = 50"
   ]
  },
  {
   "cell_type": "code",
   "execution_count": 7,
   "id": "42253d32",
   "metadata": {},
   "outputs": [],
   "source": [
    "# coalescent simulation parameters\n",
    "NREPS = 100                                                            # replicates for measuring accuracy\n",
    "SEED = 123                                                             # random seed\n",
    "POPSIZE = 1e4                                                          # constant Ne across sptree\n",
    "NSITES = 2000                                                          # locus length \n",
    "NLOCI = np.array([100, 250, 500, 1000, 2500, 5000, 10000, 20000])      # range of N independent loci\n",
    "GTIMES = np.array([50, 100, 200, 300, 400, 500, 750, 1000]) * 1000     # range of treeheights (gens) to test\n",
    "CTIMES = GTIMES / (4 * POPSIZE)                                        # range of times in coal units\n",
    "MUT = 5e-8                                                             # mut rate (/site/gen)\n",
    "RECOMB = 5e-9                                                          # recomb rate (/site/gen)\n",
    "IMBTREE = toytree.rtree.imbtree(ntips=5)                               # an imbalanced sptree topology\n",
    "RELTREE = IMBTREE.set_node_data(\"height\", {5: 0.050, 6: 0.055, 7: 0.060, 8: 1}) # relative edge len sptree"
   ]
  },
  {
   "cell_type": "code",
   "execution_count": 8,
   "id": "2acde416",
   "metadata": {},
   "outputs": [
    {
     "name": "stdout",
     "output_type": "stream",
     "text": [
      "theta = 0.002\n",
      "rho = 0.0002\n",
      "short edge len in coal units = [0.0625, 0.125, 0.25, 0.375, 0.5, 0.625, 0.9375, 1.25]\n"
     ]
    }
   ],
   "source": [
    "# population scaled parameter settings\n",
    "print(f\"theta = {4 * POPSIZE * MUT}\")\n",
    "print(f\"rho = {4 * POPSIZE * RECOMB}\")\n",
    "print(f\"short edge len in coal units = {list(CTIMES * 0.05)}\")"
   ]
  },
  {
   "cell_type": "code",
   "execution_count": 9,
   "id": "01d665ae",
   "metadata": {},
   "outputs": [],
   "source": [
    "def get_scaled_sptree(tree_height: int) -> toytree.ToyTree:\n",
    "    \"\"\"Return the species tree with all edges scaled to a new root height.\"\"\"\n",
    "    sptree = RELTREE.mod.edges_scale_to_root_height(tree_height)\n",
    "    return sptree"
   ]
  },
  {
   "cell_type": "code",
   "execution_count": 10,
   "id": "b59d4e9c",
   "metadata": {},
   "outputs": [],
   "source": [
    "def get_astral_ge_accuracy(tree_height: int, nloci: int) -> float:\n",
    "    \"\"\"Returns the proportion of correct astral results from nreplicate analyses.\n",
    "    \n",
    "    This function analyses true simulated genealogies (not inferred gene trees).\n",
    "    The Ne parameter is maintained constant using the global POPSIZE, but the\n",
    "    edge lengths in units of generations are affected by `tree_height`, thus\n",
    "    the ratio of (tg) edge length / Ne can be varied by changing `tree_height`.\n",
    "    NREPS replicate analyses are started from different random seeds.\n",
    "    \n",
    "    The ipcoal.Model.df DataFrames are saved to the WORKDIR directory.\n",
    "    \"\"\"\n",
    "    rng = np.random.default_rng(SEED)\n",
    "    \n",
    "    # copy imbalanced sptree, scale to new height, and set short edge to 1/5\n",
    "    tmp_sptree = get_scaled_sptree(tree_height)\n",
    "    \n",
    "    # iterate over replicates\n",
    "    correct = np.zeros(NREPS, dtype=bool)\n",
    "    for idx in range(NREPS):\n",
    "        rseed = rng.integers(1e12)\n",
    "        model = ipcoal.Model(tmp_sptree, Ne=POPSIZE, seed_trees=rseed)\n",
    "        model.sim_trees(nloci=nloci, nsites=1)\n",
    "\n",
    "        # load trees into a MultiTree and pass to ipcoal astral tool\n",
    "        mtree = toytree.mtree(model.df.genealogy)\n",
    "        ast_tree = ipcoal.phylo.infer_astral_tree(mtree, binary_path=ASTRAL)\n",
    "        \n",
    "        # does it match?\n",
    "        if ast_tree.distance.get_treedist_rf(IMBTREE, normalize=True) == 0:\n",
    "            correct[idx] = True\n",
    "            \n",
    "        # save the distribution of trees to a file\n",
    "        name = f\"th{int(tree_height)}-nloci{int(nloci)}-ast{int(correct[idx])}\"\n",
    "        model.df.to_csv(WORKDIR / f\"{name}-sim_trees.csv\")\n",
    "    return correct.mean()"
   ]
  },
  {
   "cell_type": "code",
   "execution_count": 11,
   "id": "e1d405e0",
   "metadata": {},
   "outputs": [],
   "source": [
    "def run_astral_ge_accuracy_parallel() -> np.ndarray:\n",
    "    \"\"\"Return array of results from `get_astral_ge_accuracy` run in parallel.\n",
    "    \n",
    "    This runs the analysis over a grid of parameters for all combinations\n",
    "    in the globals `NLOCI` and `GTIMES`. The resulting simulated DataFrames\n",
    "    with genealogies are also saved to the `WORKDIR` directory. This will\n",
    "    likely take a long time to run.\n",
    "    \"\"\"\n",
    "    rasyncs = {}\n",
    "    with ProcessPoolExecutor(max_workers=NCORES) as pool:\n",
    "        for tidx, time in enumerate(GTIMES):\n",
    "            for nidx, nloci in enumerate(NLOCI):\n",
    "                rasync = pool.submit(get_astral_ge_accuracy, time, nloci)\n",
    "                rasyncs[(tidx, nidx)] = rasync\n",
    "    \n",
    "    # fill result of % correct into a 2-D dataframe\n",
    "    arr = np.zeros(shape=(GTIMES.size, NLOCI.size))\n",
    "    for key, future in rasyncs.items():\n",
    "        tidx, nidx = key\n",
    "        arr[tidx, nidx] = future.result()\n",
    "    return arr"
   ]
  },
  {
   "cell_type": "code",
   "execution_count": 18,
   "id": "5a1e6acb",
   "metadata": {},
   "outputs": [],
   "source": [
    "def get_astral_gt_accuracy(tree_height: int, nloci: int, locus_len: int, recomb: float) -> tuple[float, float]:\n",
    "    \"\"\"Returns the proportion of correct astral results from nreplicate analyses.\n",
    "    \n",
    "    The Ne parameter is maintained constant using the global POPSIZE, but the\n",
    "    edge lengths in units of generations are affected by `tree_height`, thus\n",
    "    the ratio of edge length / Ne can be varied here to see its effect. Replicate\n",
    "    analyses are started from different random seeds.\n",
    "    \"\"\"\n",
    "    rng = np.random.default_rng(SEED)\n",
    "    \n",
    "    # copy imbalanced sptree, scale to new height, and set short edge to 1/5\n",
    "    tmp_sptree = get_scaled_sptree(tree_height)\n",
    "    \n",
    "    # iterate over replicates\n",
    "    correct = np.zeros(NREPS, dtype=bool)\n",
    "    correct_concat = np.zeros(NREPS, dtype=bool)\n",
    "    for idx in range(NREPS):\n",
    "        rseed = rng.integers(1e12)\n",
    "        model = ipcoal.Model(tmp_sptree, Ne=POPSIZE, seed_trees=rseed, mut=MUT, recomb=recomb)\n",
    "        model.sim_loci(nloci=nloci, nsites=locus_len)\n",
    "\n",
    "        # load trees into a MultiTree and pass to ipcoal astral tool\n",
    "        rax_data = ipcoal.phylo.infer_raxml_ng_trees(model, ncores=1, nthreads=1)\n",
    "        mtree = mtree = toytree.mtree(rax_data.gene_tree)\n",
    "        ast_tree = ipcoal.phylo.infer_astral_tree(mtree, binary_path=ASTRAL)\n",
    "        \n",
    "        # does it match?\n",
    "        if ast_tree.distance.get_treedist_rf(IMBTREE, normalize=True) == 0:\n",
    "            correct[idx] = True\n",
    "\n",
    "        # infer concatenation tree\n",
    "        concat_tree = ipcoal.phylo.infer_raxml_ng_tree(model, nthreads=1)\n",
    "\n",
    "        # does it match?\n",
    "        if concat_tree.distance.get_treedist_rf(IMBTREE, normalize=True) == 0:\n",
    "            correct_concat[idx] = True\n",
    "\n",
    "        # save genealogies and gene trees\n",
    "        name = (\n",
    "            f\"th{int(tree_height)}-nloci{int(nloci)}-recomb{int(recomb)}-rep{idx}\"\n",
    "            f\"-ast{int(correct[idx])}-concat{int(correct_concat[idx])}\"\n",
    "        )\n",
    "        model.df.to_csv(WORKDIR / f\"{name}-sim_loci.csv\")\n",
    "        rax_data.to_csv(WORKDIR / f\"{name}-raxml_trees.csv\")\n",
    "    return correct.mean(), correct_concat.mean()"
   ]
  },
  {
   "cell_type": "code",
   "execution_count": 19,
   "id": "0c4a1e19",
   "metadata": {},
   "outputs": [],
   "source": [
    "def run_astral_gt_accuracy_parallel(locus_len: int, recomb: float) -> np.ndarray:\n",
    "    \"\"\"Return array of results from `get_astral_gt_accuracy` run in parallel.\"\"\"\n",
    "    rasyncs = {}\n",
    "    with ProcessPoolExecutor(max_workers=NCORES) as pool:\n",
    "        for tidx, time in enumerate(GTIMES):\n",
    "            for nidx, nloci in enumerate(NLOCI):\n",
    "                rasync = pool.submit(get_astral_gt_accuracy, *(time, nloci, locus_len, recomb))\n",
    "                rasyncs[(tidx, nidx)] = rasync\n",
    "    \n",
    "    # fill result of % correct into a 2-D dataframe\n",
    "    arr = np.zeros(shape=(GTIMES.size, NLOCI.size))\n",
    "    arr_concat = np.zeros(shape=(GTIMES.size, NLOCI.size))\n",
    "    for key, future in rasyncs.items():\n",
    "        tidx, nidx = key\n",
    "        acc, acc_concat = future.result()\n",
    "        arr[tidx, nidx] = acc\n",
    "        arr[tidx, nidx] = acc_concat\n",
    "    return arr"
   ]
  },
  {
   "cell_type": "markdown",
   "id": "e9de1780",
   "metadata": {},
   "source": [
    "### Run analyses"
   ]
  },
  {
   "cell_type": "code",
   "execution_count": 21,
   "id": "55f03187",
   "metadata": {},
   "outputs": [],
   "source": [
    "arr_ge = run_astral_ge_accuracy_parallel()"
   ]
  },
  {
   "cell_type": "code",
   "execution_count": 22,
   "id": "daee4877",
   "metadata": {},
   "outputs": [],
   "source": [
    "arr_gt = run_astral_gt_accuracy_parallel(locus_len=2000, recomb=0)"
   ]
  },
  {
   "cell_type": "code",
   "execution_count": 23,
   "id": "33a0d487",
   "metadata": {},
   "outputs": [],
   "source": [
    "arr_gtr = run_astral_gt_accuracy_parallel(locus_len=2000, recomb=RECOMB)"
   ]
  },
  {
   "cell_type": "markdown",
   "id": "1fe123c4",
   "metadata": {},
   "source": [
    "### Visualize results"
   ]
  },
  {
   "cell_type": "code",
   "execution_count": 24,
   "id": "b09435cc",
   "metadata": {},
   "outputs": [],
   "source": [
    "# plot_accuracy(CTIMES, gt_500, label=f\"ASTRAL accuracy on 1000 inferred gene trees (500bp)\");\n",
    "# plot_accuracy(CTIMES, gt_500r, label=f\"ASTRAL accuracy on 1000 inferred gene trees (500bp) w/ recomb\");"
   ]
  },
  {
   "cell_type": "code",
   "execution_count": null,
   "id": "fa69bfd1",
   "metadata": {},
   "outputs": [],
   "source": []
  },
  {
   "cell_type": "code",
   "execution_count": null,
   "id": "88ec34bc",
   "metadata": {},
   "outputs": [],
   "source": []
  },
  {
   "cell_type": "code",
   "execution_count": null,
   "id": "a6edb127",
   "metadata": {},
   "outputs": [],
   "source": []
  }
 ],
 "metadata": {
  "kernelspec": {
   "display_name": "Python 3 (ipykernel)",
   "language": "python",
   "name": "python3"
  },
  "language_info": {
   "codemirror_mode": {
    "name": "ipython",
    "version": 3
   },
   "file_extension": ".py",
   "mimetype": "text/x-python",
   "name": "python",
   "nbconvert_exporter": "python",
   "pygments_lexer": "ipython3",
   "version": "3.9.12"
  }
 },
 "nbformat": 4,
 "nbformat_minor": 5
}
