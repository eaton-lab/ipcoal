{
 "cells": [
  {
   "cell_type": "code",
   "execution_count": 1,
   "id": "0b6f923a",
   "metadata": {},
   "outputs": [],
   "source": [
    "import toytree\n",
    "import ipcoal\n",
    "from pathlib import Path\n",
    "import pandas as pd"
   ]
  },
  {
   "cell_type": "code",
   "execution_count": 15,
   "id": "ffe3e133",
   "metadata": {},
   "outputs": [],
   "source": [
    "res = pd.read_clipboard(sep=\",\")"
   ]
  },
  {
   "cell_type": "code",
   "execution_count": 20,
   "id": "9533214a",
   "metadata": {},
   "outputs": [
    {
     "data": {
      "text/html": [
       "<div class=\"toyplot\" id=\"teb7be50f6c784266ae11fcfd9707d247\" style=\"text-align:center\"><svg class=\"toyplot-canvas-Canvas\" xmlns:toyplot=\"http://www.sandia.gov/toyplot\" xmlns:xlink=\"http://www.w3.org/1999/xlink\" xmlns=\"http://www.w3.org/2000/svg\" width=\"750.0px\" height=\"500.0px\" viewBox=\"0 0 750.0 500.0\" preserveAspectRatio=\"xMidYMid meet\" style=\"background-color:transparent;border-color:#292724;border-style:none;border-width:1.0;fill:rgb(16.1%,15.3%,14.1%);fill-opacity:1.0;font-family:Helvetica;font-size:12px;opacity:1.0;stroke:rgb(16.1%,15.3%,14.1%);stroke-opacity:1.0;stroke-width:1.0\" id=\"ta7ba730759bc45c79b98aaddff383320\"><g class=\"toyplot-coordinates-Cartesian\" id=\"taf89bf073c7946daadbc80dfc7eae5ef\"><clipPath id=\"t66928f9c29754f01b8e6f17ceeaf935d\"><rect x=\"20.0\" y=\"30.0\" width=\"147.5\" height=\"210.0\"></rect></clipPath><g clip-path=\"url(#t66928f9c29754f01b8e6f17ceeaf935d)\"><g class=\"toytree-mark-Toytree\" id=\"t6fc12826149c42fca6e2ccbfd74a6c5a\"><g class=\"toytree-Edges\" style=\"fill:none;stroke:rgba(16.1%,15.3%,14.1%,1.000);stroke-linecap:round;stroke-width:2.0\"><path d=\"M 46.5 202.0 L 46.5 224.4 L 117.4 224.4\" id=\"5,0\" style=\"stroke-width:nan\"></path><path d=\"M 46.5 202.0 L 46.5 179.7 L 128.4 179.7\" id=\"5,1\" style=\"stroke-width:nan\"></path><path d=\"M 30.0 135.0 L 30.0 135.0 L 77.6 135.0\" id=\"7,2\" style=\"stroke-width:nan\"></path><path d=\"M 46.2 68.0 L 46.2 90.3 L 108.8 90.3\" id=\"6,3\" style=\"stroke-width:nan\"></path><path d=\"M 46.2 68.0 L 46.2 45.6 L 107.6 45.6\" id=\"6,4\" style=\"stroke-width:nan\"></path><path d=\"M 30.0 135.0 L 30.0 202.0 L 46.5 202.0\" id=\"7,5\" style=\"stroke-width:nan\"></path><path d=\"M 30.0 135.0 L 30.0 68.0 L 46.2 68.0\" id=\"7,6\" style=\"stroke-width:nan\"></path></g><g class=\"toytree-TipLabels\" style=\"fill:rgb(16.1%,15.3%,14.1%);fill-opacity:1.0;font-family:Helvetica;font-size:10.0px;font-weight:300;stroke:none;vertical-align:baseline;white-space:pre\"><g class=\"toytree-TipLabel\" transform=\"translate(117.40074124028993,224.35643564356437)\"><text x=\"10.0\" y=\"2.5549999999999997\" style=\"\">r1</text></g><g class=\"toytree-TipLabel\" transform=\"translate(128.35582042594385,179.67821782178217)\"><text x=\"10.0\" y=\"2.5549999999999997\" style=\"\">r4</text></g><g class=\"toytree-TipLabel\" transform=\"translate(77.57862858002974,135.00000000000003)\"><text x=\"10.0\" y=\"2.5549999999999997\" style=\"\">r0</text></g><g class=\"toytree-TipLabel\" transform=\"translate(108.84458450404928,90.32178217821784)\"><text x=\"10.0\" y=\"2.5549999999999997\" style=\"\">r3</text></g><g class=\"toytree-TipLabel\" transform=\"translate(107.64512327934267,45.64356435643567)\"><text x=\"10.0\" y=\"2.5549999999999997\" style=\"\">r2</text></g></g></g></g></g><g class=\"toyplot-coordinates-Cartesian\" id=\"t3456a06b4dd94c54bdbe34dec51d8c78\"><clipPath id=\"tff94e7b4583f4fa2b5c49b15c553414e\"><rect x=\"207.5\" y=\"30.0\" width=\"147.5\" height=\"210.0\"></rect></clipPath><g clip-path=\"url(#tff94e7b4583f4fa2b5c49b15c553414e)\"><g class=\"toytree-mark-Toytree\" id=\"tb78e2f9d11154499a7266773db8a101c\"><g class=\"toytree-Edges\" style=\"fill:none;stroke:rgba(16.1%,15.3%,14.1%,1.000);stroke-linecap:round;stroke-width:2.0\"><path d=\"M 238.5 202.0 L 238.5 224.4 L 307.9 224.4\" id=\"5,0\" style=\"stroke-width:nan\"></path><path d=\"M 238.5 202.0 L 238.5 179.7 L 314.3 179.7\" id=\"5,1\" style=\"stroke-width:nan\"></path><path d=\"M 234.7 112.7 L 234.7 135.0 L 305.9 135.0\" id=\"6,2\" style=\"stroke-width:nan\"></path><path d=\"M 234.7 112.7 L 234.7 90.3 L 311.5 90.3\" id=\"6,3\" style=\"stroke-width:nan\"></path><path d=\"M 217.5 120.1 L 217.5 45.6 L 315.9 45.6\" id=\"7,4\" style=\"stroke-width:nan\"></path><path d=\"M 217.5 120.1 L 217.5 202.0 L 238.5 202.0\" id=\"7,5\" style=\"stroke-width:nan\"></path><path d=\"M 217.5 120.1 L 217.5 112.7 L 234.7 112.7\" id=\"7,6\" style=\"stroke-width:nan\"></path></g><g class=\"toytree-TipLabels\" style=\"fill:rgb(16.1%,15.3%,14.1%);fill-opacity:1.0;font-family:Helvetica;font-size:10.0px;font-weight:300;stroke:none;vertical-align:baseline;white-space:pre\"><g class=\"toytree-TipLabel\" transform=\"translate(307.8675304421108,224.35643564356437)\"><text x=\"10.0\" y=\"2.5549999999999997\" style=\"\">r0</text></g><g class=\"toytree-TipLabel\" transform=\"translate(314.2748046999769,179.67821782178217)\"><text x=\"10.0\" y=\"2.5549999999999997\" style=\"\">r1</text></g><g class=\"toytree-TipLabel\" transform=\"translate(305.8704579461526,135.00000000000003)\"><text x=\"10.0\" y=\"2.5549999999999997\" style=\"\">r2</text></g><g class=\"toytree-TipLabel\" transform=\"translate(311.5288300180343,90.32178217821784)\"><text x=\"10.0\" y=\"2.5549999999999997\" style=\"\">r3</text></g><g class=\"toytree-TipLabel\" transform=\"translate(315.8558204259438,45.64356435643567)\"><text x=\"10.0\" y=\"2.5549999999999997\" style=\"\">r4</text></g></g></g></g></g><g class=\"toyplot-coordinates-Cartesian\" id=\"t51435768544d4711a0352a2de04b1c84\"><clipPath id=\"t97293a5dadd24eb9b78f84ee39595aa7\"><rect x=\"395.0\" y=\"30.0\" width=\"147.5\" height=\"210.0\"></rect></clipPath><g clip-path=\"url(#t97293a5dadd24eb9b78f84ee39595aa7)\"><g class=\"toytree-mark-Toytree\" id=\"t66a0ac6ab69e43f8a192a42578589ace\"><g class=\"toytree-Edges\" style=\"fill:none;stroke:rgba(16.1%,15.3%,14.1%,1.000);stroke-linecap:round;stroke-width:2.0\"><path d=\"M 420.7 190.8 L 420.7 224.4 L 490.8 224.4\" id=\"6,0\" style=\"stroke-width:nan\"></path><path d=\"M 435.2 157.3 L 435.2 179.7 L 501.7 179.7\" id=\"5,1\" style=\"stroke-width:nan\"></path><path d=\"M 435.2 157.3 L 435.2 135.0 L 503.4 135.0\" id=\"5,2\" style=\"stroke-width:nan\"></path><path d=\"M 405.0 108.9 L 405.0 90.3 L 481.2 90.3\" id=\"7,3\" style=\"stroke-width:nan\"></path><path d=\"M 405.0 108.9 L 405.0 45.6 L 468.4 45.6\" id=\"7,4\" style=\"stroke-width:nan\"></path><path d=\"M 420.7 190.8 L 420.7 157.3 L 435.2 157.3\" id=\"6,5\" style=\"stroke-width:nan\"></path><path d=\"M 405.0 108.9 L 405.0 190.8 L 420.7 190.8\" id=\"7,6\" style=\"stroke-width:nan\"></path></g><g class=\"toytree-TipLabels\" style=\"fill:rgb(16.1%,15.3%,14.1%);fill-opacity:1.0;font-family:Helvetica;font-size:10.0px;font-weight:300;stroke:none;vertical-align:baseline;white-space:pre\"><g class=\"toytree-TipLabel\" transform=\"translate(490.76519234664204,224.35643564356437)\"><text x=\"10.0\" y=\"2.5549999999999997\" style=\"\">r2</text></g><g class=\"toytree-TipLabel\" transform=\"translate(501.731223254421,179.67821782178217)\"><text x=\"10.0\" y=\"2.5549999999999997\" style=\"\">r3</text></g><g class=\"toytree-TipLabel\" transform=\"translate(503.3558204259439,135.00000000000003)\"><text x=\"10.0\" y=\"2.5549999999999997\" style=\"\">r0</text></g><g class=\"toytree-TipLabel\" transform=\"translate(481.2206839639455,90.32178217821784)\"><text x=\"10.0\" y=\"2.5549999999999997\" style=\"\">r4</text></g><g class=\"toytree-TipLabel\" transform=\"translate(468.35928968938987,45.64356435643567)\"><text x=\"10.0\" y=\"2.5549999999999997\" style=\"\">r1</text></g></g></g></g></g><g class=\"toyplot-coordinates-Cartesian\" id=\"t08cae540ad97418dba8a92b7d2c58182\"><clipPath id=\"t80bdc29bc7434709b718167e765a5e77\"><rect x=\"582.5\" y=\"30.0\" width=\"147.5\" height=\"210.0\"></rect></clipPath><g clip-path=\"url(#t80bdc29bc7434709b718167e765a5e77)\"><g class=\"toytree-mark-Toytree\" id=\"t6736a00009eb4cf2849209ab8c47daf7\"><g class=\"toytree-Edges\" style=\"fill:none;stroke:rgba(16.1%,15.3%,14.1%,1.000);stroke-linecap:round;stroke-width:2.0\"><path d=\"M 606.9 190.8 L 606.9 224.4 L 667.0 224.4\" id=\"6,0\" style=\"stroke-width:nan\"></path><path d=\"M 621.8 157.3 L 621.8 179.7 L 677.1 179.7\" id=\"5,1\" style=\"stroke-width:nan\"></path><path d=\"M 621.8 157.3 L 621.8 135.0 L 690.9 135.0\" id=\"5,2\" style=\"stroke-width:nan\"></path><path d=\"M 592.5 108.9 L 592.5 90.3 L 649.9 90.3\" id=\"7,3\" style=\"stroke-width:nan\"></path><path d=\"M 592.5 108.9 L 592.5 45.6 L 652.9 45.6\" id=\"7,4\" style=\"stroke-width:nan\"></path><path d=\"M 606.9 190.8 L 606.9 157.3 L 621.8 157.3\" id=\"6,5\" style=\"stroke-width:nan\"></path><path d=\"M 592.5 108.9 L 592.5 190.8 L 606.9 190.8\" id=\"7,6\" style=\"stroke-width:nan\"></path></g><g class=\"toytree-TipLabels\" style=\"fill:rgb(16.1%,15.3%,14.1%);fill-opacity:1.0;font-family:Helvetica;font-size:10.0px;font-weight:300;stroke:none;vertical-align:baseline;white-space:pre\"><g class=\"toytree-TipLabel\" transform=\"translate(666.9627791432263,224.35643564356437)\"><text x=\"10.0\" y=\"2.5549999999999997\" style=\"\">r0</text></g><g class=\"toytree-TipLabel\" transform=\"translate(677.0535295878692,179.67821782178217)\"><text x=\"10.0\" y=\"2.5549999999999997\" style=\"\">r1</text></g><g class=\"toytree-TipLabel\" transform=\"translate(690.8558204259439,135.00000000000003)\"><text x=\"10.0\" y=\"2.5549999999999997\" style=\"\">r4</text></g><g class=\"toytree-TipLabel\" transform=\"translate(649.8548976422514,90.32178217821784)\"><text x=\"10.0\" y=\"2.5549999999999997\" style=\"\">r3</text></g><g class=\"toytree-TipLabel\" transform=\"translate(652.9285170305623,45.64356435643567)\"><text x=\"10.0\" y=\"2.5549999999999997\" style=\"\">r2</text></g></g></g></g></g><g class=\"toyplot-coordinates-Cartesian\" id=\"t72c38348729844958a0f4a3549032e5a\"><clipPath id=\"t725a3ea831f44942a9cfd362ccfde96c\"><rect x=\"20.0\" y=\"260.0\" width=\"147.5\" height=\"210.0\"></rect></clipPath><g clip-path=\"url(#t725a3ea831f44942a9cfd362ccfde96c)\"><g class=\"toytree-mark-Toytree\" id=\"tb7dda8338fa340b2bd2ceb42e6f4252f\"><g class=\"toytree-Edges\" style=\"fill:none;stroke:rgba(16.1%,15.3%,14.1%,1.000);stroke-linecap:round;stroke-width:2.0\"><path d=\"M 63.4 432.0 L 63.4 454.4 L 127.3 454.4\" id=\"5,0\" style=\"stroke-width:nan\"></path><path d=\"M 63.4 432.0 L 63.4 409.7 L 128.4 409.7\" id=\"5,1\" style=\"stroke-width:nan\"></path><path d=\"M 47.2 398.5 L 47.2 365.0 L 115.2 365.0\" id=\"6,2\" style=\"stroke-width:nan\"></path><path d=\"M 30.0 331.5 L 30.0 320.3 L 102.8 320.3\" id=\"7,3\" style=\"stroke-width:nan\"></path><path d=\"M 30.0 331.5 L 30.0 275.6 L 91.9 275.6\" id=\"7,4\" style=\"stroke-width:nan\"></path><path d=\"M 47.2 398.5 L 47.2 432.0 L 63.4 432.0\" id=\"6,5\" style=\"stroke-width:nan\"></path><path d=\"M 30.0 331.5 L 30.0 398.5 L 47.2 398.5\" id=\"7,6\" style=\"stroke-width:nan\"></path></g><g class=\"toytree-TipLabels\" style=\"fill:rgb(16.1%,15.3%,14.1%);fill-opacity:1.0;font-family:Helvetica;font-size:10.0px;font-weight:300;stroke:none;vertical-align:baseline;white-space:pre\"><g class=\"toytree-TipLabel\" transform=\"translate(127.28192900189696,454.35643564356434)\"><text x=\"10.0\" y=\"2.5549999999999997\" style=\"\">r2</text></g><g class=\"toytree-TipLabel\" transform=\"translate(128.35582042594385,409.67821782178214)\"><text x=\"10.0\" y=\"2.5549999999999997\" style=\"\">r3</text></g><g class=\"toytree-TipLabel\" transform=\"translate(115.15327291854354,365.0)\"><text x=\"10.0\" y=\"2.5549999999999997\" style=\"\">r0</text></g><g class=\"toytree-TipLabel\" transform=\"translate(102.83510658388778,320.32178217821786)\"><text x=\"10.0\" y=\"2.5549999999999997\" style=\"\">r4</text></g><g class=\"toytree-TipLabel\" transform=\"translate(91.90668209211623,275.64356435643566)\"><text x=\"10.0\" y=\"2.5549999999999997\" style=\"\">r1</text></g></g></g></g></g><g class=\"toyplot-coordinates-Cartesian\" id=\"t89164922e13d43d29b3aed1ab0c5ac9c\"><clipPath id=\"t96057ce2731d467ab306b0bf4fa59828\"><rect x=\"207.5\" y=\"260.0\" width=\"147.5\" height=\"210.0\"></rect></clipPath><g clip-path=\"url(#t96057ce2731d467ab306b0bf4fa59828)\"><g class=\"toytree-mark-Toytree\" id=\"t922bf9a273ee4b35bbef5abbbc1f4c6e\"><g class=\"toytree-Edges\" style=\"fill:none;stroke:rgba(16.1%,15.3%,14.1%,1.000);stroke-linecap:round;stroke-width:2.0\"><path d=\"M 231.1 420.8 L 231.1 454.4 L 292.1 454.4\" id=\"6,0\" style=\"stroke-width:nan\"></path><path d=\"M 246.2 387.3 L 246.2 409.7 L 315.9 409.7\" id=\"5,1\" style=\"stroke-width:nan\"></path><path d=\"M 246.2 387.3 L 246.2 365.0 L 303.9 365.0\" id=\"5,2\" style=\"stroke-width:nan\"></path><path d=\"M 217.5 338.9 L 217.5 320.3 L 277.6 320.3\" id=\"7,3\" style=\"stroke-width:nan\"></path><path d=\"M 217.5 338.9 L 217.5 275.6 L 278.3 275.6\" id=\"7,4\" style=\"stroke-width:nan\"></path><path d=\"M 231.1 420.8 L 231.1 387.3 L 246.2 387.3\" id=\"6,5\" style=\"stroke-width:nan\"></path><path d=\"M 217.5 338.9 L 217.5 420.8 L 231.1 420.8\" id=\"7,6\" style=\"stroke-width:nan\"></path></g><g class=\"toytree-TipLabels\" style=\"fill:rgb(16.1%,15.3%,14.1%);fill-opacity:1.0;font-family:Helvetica;font-size:10.0px;font-weight:300;stroke:none;vertical-align:baseline;white-space:pre\"><g class=\"toytree-TipLabel\" transform=\"translate(292.085061724052,454.35643564356434)\"><text x=\"10.0\" y=\"2.5549999999999997\" style=\"\">r0</text></g><g class=\"toytree-TipLabel\" transform=\"translate(315.8558204259438,409.67821782178214)\"><text x=\"10.0\" y=\"2.5549999999999997\" style=\"\">r4</text></g><g class=\"toytree-TipLabel\" transform=\"translate(303.91302378344744,365.0)\"><text x=\"10.0\" y=\"2.5549999999999997\" style=\"\">r1</text></g><g class=\"toytree-TipLabel\" transform=\"translate(277.55848696178475,320.32178217821786)\"><text x=\"10.0\" y=\"2.5549999999999997\" style=\"\">r3</text></g><g class=\"toytree-TipLabel\" transform=\"translate(278.3049117519408,275.64356435643566)\"><text x=\"10.0\" y=\"2.5549999999999997\" style=\"\">r2</text></g></g></g></g></g><g class=\"toyplot-coordinates-Cartesian\" id=\"t35ce1f40f6d446ea8c8e3ac204e06d8f\"><clipPath id=\"t8b34ffcefcad4c33899c39e645568f4b\"><rect x=\"395.0\" y=\"260.0\" width=\"147.5\" height=\"210.0\"></rect></clipPath><g clip-path=\"url(#t8b34ffcefcad4c33899c39e645568f4b)\"><g class=\"toytree-mark-Toytree\" id=\"tac2acbcb9d8c48dd89d9ecc29b8c315f\"><g class=\"toytree-Edges\" style=\"fill:none;stroke:rgba(16.1%,15.3%,14.1%,1.000);stroke-linecap:round;stroke-width:2.0\"><path d=\"M 418.5 420.8 L 418.5 454.4 L 478.6 454.4\" id=\"6,0\" style=\"stroke-width:nan\"></path><path d=\"M 432.9 387.3 L 432.9 409.7 L 503.4 409.7\" id=\"5,1\" style=\"stroke-width:nan\"></path><path d=\"M 432.9 387.3 L 432.9 365.0 L 490.7 365.0\" id=\"5,2\" style=\"stroke-width:nan\"></path><path d=\"M 405.0 338.9 L 405.0 320.3 L 464.6 320.3\" id=\"7,3\" style=\"stroke-width:nan\"></path><path d=\"M 405.0 338.9 L 405.0 275.6 L 463.9 275.6\" id=\"7,4\" style=\"stroke-width:nan\"></path><path d=\"M 418.5 420.8 L 418.5 387.3 L 432.9 387.3\" id=\"6,5\" style=\"stroke-width:nan\"></path><path d=\"M 405.0 338.9 L 405.0 420.8 L 418.5 420.8\" id=\"7,6\" style=\"stroke-width:nan\"></path></g><g class=\"toytree-TipLabels\" style=\"fill:rgb(16.1%,15.3%,14.1%);fill-opacity:1.0;font-family:Helvetica;font-size:10.0px;font-weight:300;stroke:none;vertical-align:baseline;white-space:pre\"><g class=\"toytree-TipLabel\" transform=\"translate(478.6375254036435,454.35643564356434)\"><text x=\"10.0\" y=\"2.5549999999999997\" style=\"\">r0</text></g><g class=\"toytree-TipLabel\" transform=\"translate(503.3558204259439,409.67821782178214)\"><text x=\"10.0\" y=\"2.5549999999999997\" style=\"\">r4</text></g><g class=\"toytree-TipLabel\" transform=\"translate(490.70925087965065,365.0)\"><text x=\"10.0\" y=\"2.5549999999999997\" style=\"\">r1</text></g><g class=\"toytree-TipLabel\" transform=\"translate(464.6113300886638,320.32178217821786)\"><text x=\"10.0\" y=\"2.5549999999999997\" style=\"\">r2</text></g><g class=\"toytree-TipLabel\" transform=\"translate(463.86403279729194,275.64356435643566)\"><text x=\"10.0\" y=\"2.5549999999999997\" style=\"\">r3</text></g></g></g></g></g><g class=\"toyplot-coordinates-Cartesian\" id=\"t009045a7680f4e179db2959d0684b383\"><clipPath id=\"t8a0a84c9f313412d8170a8109b219619\"><rect x=\"582.5\" y=\"260.0\" width=\"147.5\" height=\"210.0\"></rect></clipPath><g clip-path=\"url(#t8a0a84c9f313412d8170a8109b219619)\"><g class=\"toytree-mark-Toytree\" id=\"t36e72fc6db694726950003b87047d7b6\"><g class=\"toytree-Edges\" style=\"fill:none;stroke:rgba(16.1%,15.3%,14.1%,1.000);stroke-linecap:round;stroke-width:2.0\"><path d=\"M 622.1 432.0 L 622.1 454.4 L 689.0 454.4\" id=\"5,0\" style=\"stroke-width:nan\"></path><path d=\"M 622.1 432.0 L 622.1 409.7 L 688.0 409.7\" id=\"5,1\" style=\"stroke-width:nan\"></path><path d=\"M 607.5 398.5 L 607.5 365.0 L 690.9 365.0\" id=\"6,2\" style=\"stroke-width:nan\"></path><path d=\"M 592.5 331.5 L 592.5 320.3 L 659.9 320.3\" id=\"7,3\" style=\"stroke-width:nan\"></path><path d=\"M 592.5 331.5 L 592.5 275.6 L 659.1 275.6\" id=\"7,4\" style=\"stroke-width:nan\"></path><path d=\"M 607.5 398.5 L 607.5 432.0 L 622.1 432.0\" id=\"6,5\" style=\"stroke-width:nan\"></path><path d=\"M 592.5 331.5 L 592.5 398.5 L 607.5 398.5\" id=\"7,6\" style=\"stroke-width:nan\"></path></g><g class=\"toytree-TipLabels\" style=\"fill:rgb(16.1%,15.3%,14.1%);fill-opacity:1.0;font-family:Helvetica;font-size:10.0px;font-weight:300;stroke:none;vertical-align:baseline;white-space:pre\"><g class=\"toytree-TipLabel\" transform=\"translate(688.9504638512262,454.35643564356434)\"><text x=\"10.0\" y=\"2.5549999999999997\" style=\"\">r1</text></g><g class=\"toytree-TipLabel\" transform=\"translate(688.0306365392935,409.67821782178214)\"><text x=\"10.0\" y=\"2.5549999999999997\" style=\"\">r0</text></g><g class=\"toytree-TipLabel\" transform=\"translate(690.8558204259439,365.0)\"><text x=\"10.0\" y=\"2.5549999999999997\" style=\"\">r4</text></g><g class=\"toytree-TipLabel\" transform=\"translate(659.9102015744945,320.32178217821786)\"><text x=\"10.0\" y=\"2.5549999999999997\" style=\"\">r2</text></g><g class=\"toytree-TipLabel\" transform=\"translate(659.0560762134143,275.64356435643566)\"><text x=\"10.0\" y=\"2.5549999999999997\" style=\"\">r3</text></g></g></g></g></g></svg><div class=\"toyplot-behavior\"><script>(function()\n",
       "{\n",
       "var modules={};\n",
       "})();</script></div></div>"
      ]
     },
     "metadata": {},
     "output_type": "display_data"
    }
   ],
   "source": [
    "toytree.mtree(res.concat).draw((2,4));"
   ]
  },
  {
   "cell_type": "code",
   "execution_count": 12,
   "id": "d145ce73",
   "metadata": {},
   "outputs": [
    {
     "ename": "SyntaxError",
     "evalue": "EOL while scanning string literal (1446390042.py, line 10)",
     "output_type": "error",
     "traceback": [
      "\u001b[0;36m  Input \u001b[0;32mIn [12]\u001b[0;36m\u001b[0m\n\u001b[0;31m    7,10000.0,0.1,20000,2000,0,\"(((r1:0.001017,r0:0.001003):0.000222,r4:0.001268):0.000229,r2:0.001026,r3:0.001013):1;\",\"(r1:1,(r0:1,((r2:1,r3:1)0.65:0.00507510346657,r4:1)0.75:0.00681029816826):0):1;\",\"(r3:1,((r1:1,r2:1)0.5:0.00459348533919,(r4:1,r0:1)0.54:0.00640937307604):0):1;\"\"\"\")\u001b[0m\n\u001b[0m                                                                                                                                                                                                                                                                                              \n^\u001b[0m\n\u001b[0;31mSyntaxError\u001b[0m\u001b[0;31m:\u001b[0m EOL while scanning string literal\n"
     ]
    }
   ],
   "source": [
    "res = pd.read_csv(\"\"\"\\n\n",
    ",neff,ctime,nloci,nsites,rep,concat,astral_ge,astral_gt\n",
    "0,10000.0,0.1,100,2000,0,\"((r1:0.000887,r4:0.001024):0.000206,r0:0.000595,(r3:0.000784,r2:0.000769):0.000202):1;\",\"(r1:1,(r0:1,((r2:1,r3:1)0.65:0.00507510346657,r4:1)0.75:0.00681029816826):0):1;\",\"(r3:1,((r4:1,(r1:1,r2:1)0.71:0.132117964827)0.47:0.101579792818,r0:1):0):1;\"\n",
    "1,10000.0,0.1,250,2000,0,\"((r0:0.000834,r1:0.000911):0.000252,(r2:0.000855,r3:0.000923):0.000207,r4:0.001182):1;\",\"(r1:1,(r0:1,((r2:1,r3:1)0.65:0.00507510346657,r4:1)0.75:0.00681029816826):0):1;\",\"(r3:1,(r2:1,((r1:1,r4:1)0.43:0.0173917427119,r0:1)0.94:0.134606083754):0):1;\"\n",
    "2,10000.0,0.1,500,2000,0,\"((r2:0.001035,(r3:0.000983,r0:0.001007):0.000214):0.000232,r4:0.001126,r1:0.000936):1;\",\"(r1:1,(r0:1,((r2:1,r3:1)0.65:0.00507510346657,r4:1)0.75:0.00681029816826):0):1;\",\"(r3:1,(r2:1,(r1:1,(r4:1,r0:1)0.54:0.0260237734213)0.62:0.0381082886487):0):1;\"\n",
    "3,10000.0,0.1,1000,2000,0,\"((r0:0.001036,(r1:0.000953,r4:0.001191):0.000257):0.000248,r3:0.000989,r2:0.001042):1;\",\"(r1:1,(r0:1,((r2:1,r3:1)0.65:0.00507510346657,r4:1)0.75:0.00681029816826):0):1;\",\"(r3:1,(r2:1,(r1:1,(r4:1,r0:1)0.52:0.0176755111587)0.57:0.0214485434075):0):1;\"\n",
    "4,10000.0,0.1,2500,2000,0,\"(((r2:0.001012,r3:0.001029):0.000256,r0:0.001076):0.000272,r4:0.001153,r1:0.00098):1;\",\"(r1:1,(r0:1,((r2:1,r3:1)0.65:0.00507510346657,r4:1)0.75:0.00681029816826):0):1;\",\"(r3:1,(r2:1,(r1:1,(r4:1,r0:1)0.39:0.00370272837747)0.69:0.0209264596825):0):1;\"\n",
    "5,10000.0,0.1,5000,2000,0,\"((r0:0.001062,(r4:0.001214,r1:0.001006):0.000262):0.000237,r3:0.001046,r2:0.001059):1;\",\"(r1:1,(r0:1,((r2:1,r3:1)0.65:0.00507510346657,r4:1)0.75:0.00681029816826):0):1;\",\"(r3:1,((r1:1,r2:1)0.64:0.0129191741,(r4:1,r0:1)0.54:0.00855526824434):0):1;\"\n",
    "6,10000.0,0.1,10000,2000,0,\"((r0:0.001046,(r4:0.001225,r1:0.001005):0.000251):0.000235,r2:0.001037,r3:0.001024):1;\",\"(r1:1,(r0:1,((r2:1,r3:1)0.65:0.00507510346657,r4:1)0.75:0.00681029816826):0):1;\",\"(r3:1,(r4:1,((r1:1,r2:1)0.5:0.00543964438853,r0:1)0.44:0.00404146303301):0):1;\"\n",
    "7,10000.0,0.1,20000,2000,0,\"(((r1:0.001017,r0:0.001003):0.000222,r4:0.001268):0.000229,r2:0.001026,r3:0.001013):1;\",\"(r1:1,(r0:1,((r2:1,r3:1)0.65:0.00507510346657,r4:1)0.75:0.00681029816826):0):1;\",\"(r3:1,((r1:1,r2:1)0.5:0.00459348533919,(r4:1,r0:1)0.54:0.00640937307604):0):1;\"\"\"\")"
   ]
  },
  {
   "cell_type": "code",
   "execution_count": null,
   "id": "90d40aab",
   "metadata": {},
   "outputs": [],
   "source": []
  },
  {
   "cell_type": "code",
   "execution_count": 5,
   "id": "a4859aad",
   "metadata": {},
   "outputs": [
    {
     "data": {
      "text/html": [
       "<div class=\"toyplot\" id=\"tfd0d3abcb4164072a6e5bf17d43dea1e\" style=\"text-align:center\"><svg class=\"toyplot-canvas-Canvas\" xmlns:toyplot=\"http://www.sandia.gov/toyplot\" xmlns:xlink=\"http://www.w3.org/1999/xlink\" xmlns=\"http://www.w3.org/2000/svg\" width=\"350.0px\" height=\"260.0px\" viewBox=\"0 0 350.0 260.0\" preserveAspectRatio=\"xMidYMid meet\" style=\"background-color:transparent;border-color:#292724;border-style:none;border-width:1.0;fill:rgb(16.1%,15.3%,14.1%);fill-opacity:1.0;font-family:Helvetica;font-size:12px;opacity:1.0;stroke:rgb(16.1%,15.3%,14.1%);stroke-opacity:1.0;stroke-width:1.0\" id=\"tdfe246c8efee4a248fa19226e01ad250\"><g class=\"toyplot-coordinates-Cartesian\" id=\"t7e3a01b280154df9a5b333bbcd266b57\"><clipPath id=\"t412c03bc82cd425f951ab4fb1d65ddcb\"><rect x=\"35.0\" y=\"35.0\" width=\"280.0\" height=\"190.0\"></rect></clipPath><g clip-path=\"url(#t412c03bc82cd425f951ab4fb1d65ddcb)\"><g class=\"toytree-mark-Toytree\" id=\"t6618b15571144369ad25e77d868548bb\"><g class=\"toytree-Edges\" style=\"fill:none;stroke:#262626;stroke-linecap:round;stroke-width:2\"><path d=\"M 86.0 175.1 L 56.3 176.3\" id=\"5,0\" style=\"stroke-width:nan\"></path><path d=\"M 86.0 175.1 L 115.6 176.3\" id=\"5,1\" style=\"stroke-width:nan\"></path><path d=\"M 130.5 170.2 L 175.0 176.3\" id=\"6,2\" style=\"stroke-width:nan\"></path><path d=\"M 182.4 168.9 L 234.4 176.3\" id=\"7,3\" style=\"stroke-width:nan\"></path><path d=\"M 238.1 52.7 L 293.7 176.3\" id=\"8,4\" style=\"stroke-width:nan\"></path><path d=\"M 130.5 170.2 L 86.0 175.1\" id=\"6,5\" style=\"stroke-width:nan\"></path><path d=\"M 182.4 168.9 L 130.5 170.2\" id=\"7,6\" style=\"stroke-width:nan\"></path><path d=\"M 238.1 52.7 L 182.4 168.9\" id=\"8,7\" style=\"stroke-width:nan\"></path></g><g class=\"toytree-Nodes\" style=\"fill:rgba(40.0%,76.1%,64.7%,1.000);stroke:#262626;stroke-width:1.5\"><g id=\"node-0\" transform=\"translate(56.269,176.341)\"><circle r=\"3.5\"></circle></g><g id=\"node-1\" transform=\"translate(115.634,176.341)\"><circle r=\"3.5\"></circle></g><g id=\"node-2\" transform=\"translate(175.000,176.341)\"><circle r=\"3.5\"></circle></g><g id=\"node-3\" transform=\"translate(234.366,176.341)\"><circle r=\"3.5\"></circle></g><g id=\"node-4\" transform=\"translate(293.731,176.341)\"><circle r=\"3.5\"></circle></g><g id=\"node-5\" transform=\"translate(85.952,175.105)\"><circle r=\"3.5\"></circle></g><g id=\"node-6\" transform=\"translate(130.476,170.160)\"><circle r=\"3.5\"></circle></g><g id=\"node-7\" transform=\"translate(182.421,168.923)\"><circle r=\"3.5\"></circle></g><g id=\"node-8\" transform=\"translate(238.076,52.705)\"><circle r=\"3.5\"></circle></g></g><g class=\"toytree-TipLabels\" style=\"fill:rgb(16.1%,15.3%,14.1%);fill-opacity:1.0;font-family:Helvetica;font-size:11.0px;font-weight:300;stroke:none;vertical-align:baseline;white-space:pre\"><g class=\"toytree-TipLabel\" transform=\"translate(56.26899696048633,176.34141158515973)rotate(90.0)\"><text x=\"12.0\" y=\"2.8104999999999993\" style=\"\">r0</text></g><g class=\"toytree-TipLabel\" transform=\"translate(115.63449848024314,176.34141158515973)rotate(90.0)\"><text x=\"12.0\" y=\"2.8104999999999993\" style=\"\">r1</text></g><g class=\"toytree-TipLabel\" transform=\"translate(174.99999999999997,176.34141158515973)rotate(90.0)\"><text x=\"12.0\" y=\"2.8104999999999993\" style=\"\">r2</text></g><g class=\"toytree-TipLabel\" transform=\"translate(234.3655015197568,176.34141158515973)rotate(90.0)\"><text x=\"12.0\" y=\"2.8104999999999993\" style=\"\">r3</text></g><g class=\"toytree-TipLabel\" transform=\"translate(293.73100303951367,176.34141158515973)rotate(90.0)\"><text x=\"12.0\" y=\"2.8104999999999993\" style=\"\">r4</text></g></g></g></g><g class=\"toyplot-coordinates-Axis\" id=\"t21b8ec0ec3dd47d791d50069b23bb6b4\" transform=\"translate(50.0,210.0)rotate(-90.0)translate(0,-15.0)\"><line x1=\"33.65858841484028\" y1=\"0\" x2=\"157.29544378869687\" y2=\"0\" style=\"\"></line><g><line x1=\"33.65858841484028\" y1=\"0\" x2=\"33.65858841484028\" y2=\"5\" style=\"\"></line><line x1=\"95.47701610176858\" y1=\"0\" x2=\"95.47701610176858\" y2=\"5\" style=\"\"></line><line x1=\"157.29544378869687\" y1=\"0\" x2=\"157.29544378869687\" y2=\"5\" style=\"\"></line></g><g><g transform=\"translate(33.65858841484028,-6)\"><text x=\"-2.78\" y=\"-4.440892098500626e-16\" style=\"fill:rgb(16.1%,15.3%,14.1%);fill-opacity:1.0;font-family:helvetica;font-size:10.0px;font-weight:normal;stroke:none;vertical-align:baseline;white-space:pre\">0</text></g><g transform=\"translate(95.47701610176858,-6)\"><text x=\"-9.729999999999999\" y=\"-4.440892098500626e-16\" style=\"fill:rgb(16.1%,15.3%,14.1%);fill-opacity:1.0;font-family:helvetica;font-size:10.0px;font-weight:normal;stroke:none;vertical-align:baseline;white-space:pre\">0.05</text></g><g transform=\"translate(157.29544378869687,-6)\"><text x=\"-6.95\" y=\"-4.440892098500626e-16\" style=\"fill:rgb(16.1%,15.3%,14.1%);fill-opacity:1.0;font-family:helvetica;font-size:10.0px;font-weight:normal;stroke:none;vertical-align:baseline;white-space:pre\">0.1</text></g></g><g class=\"toyplot-coordinates-Axis-coordinates\" style=\"visibility:hidden\" transform=\"\"><line x1=\"0\" x2=\"0\" y1=\"3.0\" y2=\"-4.5\" style=\"stroke:rgb(43.9%,50.2%,56.5%);stroke-opacity:1.0;stroke-width:1.0\"></line><text x=\"0\" y=\"6\" style=\"alignment-baseline:hanging;fill:rgb(43.9%,50.2%,56.5%);fill-opacity:1.0;font-size:10px;font-weight:normal;stroke:none;text-anchor:middle\"></text></g></g></g></svg><div class=\"toyplot-behavior\"><script>(function()\n",
       "{\n",
       "var modules={};\n",
       "modules[\"toyplot/canvas/id\"] = \"tdfe246c8efee4a248fa19226e01ad250\";\n",
       "modules[\"toyplot/canvas\"] = (function(canvas_id)\n",
       "    {\n",
       "        return document.querySelector(\"#\" + canvas_id);\n",
       "    })(modules[\"toyplot/canvas/id\"]);\n",
       "modules[\"toyplot.coordinates.Axis\"] = (\n",
       "        function(canvas)\n",
       "        {\n",
       "            function sign(x)\n",
       "            {\n",
       "                return x < 0 ? -1 : x > 0 ? 1 : 0;\n",
       "            }\n",
       "\n",
       "            function mix(a, b, amount)\n",
       "            {\n",
       "                return ((1.0 - amount) * a) + (amount * b);\n",
       "            }\n",
       "\n",
       "            function log(x, base)\n",
       "            {\n",
       "                return Math.log(Math.abs(x)) / Math.log(base);\n",
       "            }\n",
       "\n",
       "            function in_range(a, x, b)\n",
       "            {\n",
       "                var left = Math.min(a, b);\n",
       "                var right = Math.max(a, b);\n",
       "                return left <= x && x <= right;\n",
       "            }\n",
       "\n",
       "            function inside(range, projection)\n",
       "            {\n",
       "                for(var i = 0; i != projection.length; ++i)\n",
       "                {\n",
       "                    var segment = projection[i];\n",
       "                    if(in_range(segment.range.min, range, segment.range.max))\n",
       "                        return true;\n",
       "                }\n",
       "                return false;\n",
       "            }\n",
       "\n",
       "            function to_domain(range, projection)\n",
       "            {\n",
       "                for(var i = 0; i != projection.length; ++i)\n",
       "                {\n",
       "                    var segment = projection[i];\n",
       "                    if(in_range(segment.range.bounds.min, range, segment.range.bounds.max))\n",
       "                    {\n",
       "                        if(segment.scale == \"linear\")\n",
       "                        {\n",
       "                            var amount = (range - segment.range.min) / (segment.range.max - segment.range.min);\n",
       "                            return mix(segment.domain.min, segment.domain.max, amount)\n",
       "                        }\n",
       "                        else if(segment.scale[0] == \"log\")\n",
       "                        {\n",
       "                            var amount = (range - segment.range.min) / (segment.range.max - segment.range.min);\n",
       "                            var base = segment.scale[1];\n",
       "                            return sign(segment.domain.min) * Math.pow(base, mix(log(segment.domain.min, base), log(segment.domain.max, base), amount));\n",
       "                        }\n",
       "                    }\n",
       "                }\n",
       "            }\n",
       "\n",
       "            var axes = {};\n",
       "\n",
       "            function display_coordinates(e)\n",
       "            {\n",
       "                var current = canvas.createSVGPoint();\n",
       "                current.x = e.clientX;\n",
       "                current.y = e.clientY;\n",
       "\n",
       "                for(var axis_id in axes)\n",
       "                {\n",
       "                    var axis = document.querySelector(\"#\" + axis_id);\n",
       "                    var coordinates = axis.querySelector(\".toyplot-coordinates-Axis-coordinates\");\n",
       "                    if(coordinates)\n",
       "                    {\n",
       "                        var projection = axes[axis_id];\n",
       "                        var local = current.matrixTransform(axis.getScreenCTM().inverse());\n",
       "                        if(inside(local.x, projection))\n",
       "                        {\n",
       "                            var domain = to_domain(local.x, projection);\n",
       "                            coordinates.style.visibility = \"visible\";\n",
       "                            coordinates.setAttribute(\"transform\", \"translate(\" + local.x + \")\");\n",
       "                            var text = coordinates.querySelector(\"text\");\n",
       "                            text.textContent = domain.toFixed(2);\n",
       "                        }\n",
       "                        else\n",
       "                        {\n",
       "                            coordinates.style.visibility= \"hidden\";\n",
       "                        }\n",
       "                    }\n",
       "                }\n",
       "            }\n",
       "\n",
       "            canvas.addEventListener(\"click\", display_coordinates);\n",
       "\n",
       "            var module = {};\n",
       "            module.show_coordinates = function(axis_id, projection)\n",
       "            {\n",
       "                axes[axis_id] = projection;\n",
       "            }\n",
       "\n",
       "            return module;\n",
       "        })(modules[\"toyplot/canvas\"]);\n",
       "(function(axis, axis_id, projection)\n",
       "        {\n",
       "            axis.show_coordinates(axis_id, projection);\n",
       "        })(modules[\"toyplot.coordinates.Axis\"],\"t21b8ec0ec3dd47d791d50069b23bb6b4\",[{\"domain\": {\"bounds\": {\"max\": Infinity, \"min\": -Infinity}, \"max\": 0.10218750000000001, \"min\": -0.027223749999999998}, \"range\": {\"bounds\": {\"max\": Infinity, \"min\": -Infinity}, \"max\": 160.0, \"min\": 0.0}, \"scale\": \"linear\"}]);\n",
       "})();</script></div></div>"
      ]
     },
     "metadata": {},
     "output_type": "display_data"
    }
   ],
   "source": [
    "tree = toytree.rtree.imbtree(5)\n",
    "tree.set_node_data(\"height\", dict(zip(range(5,9), [0.01, 0.05, 0.06, 1])), inplace=True)\n",
    "tree.mod.edges_scale_to_root_height(0.1, inplace=True)\n",
    "tree.draw('c');"
   ]
  },
  {
   "cell_type": "code",
   "execution_count": 7,
   "id": "c3fb751b",
   "metadata": {},
   "outputs": [],
   "source": [
    "model = ipcoal.Model(tree=tree, mut=5e-8, recomb=5e-9, seed_mutations=123, seed_trees=123, Ne=10000)"
   ]
  },
  {
   "cell_type": "code",
   "execution_count": 39,
   "id": "ad1e8179",
   "metadata": {},
   "outputs": [],
   "source": [
    "model.sim_loci(nloci=1000, nsites=2000)"
   ]
  },
  {
   "cell_type": "code",
   "execution_count": 77,
   "id": "2f6682d1",
   "metadata": {},
   "outputs": [
    {
     "name": "stderr",
     "output_type": "stream",
     "text": [
      "\u001b[33m\u001b[1mWARNING\u001b[0m \u001b[37m|\u001b[0m \u001b[36minfer_raxml_ng.py\u001b[0m \u001b[37m|\u001b[0m \u001b[33m\u001b[1m1 loci (0.00%) contain 0 SNPs and were returned as star trees.\u001b[0m\n",
      "\u001b[33m\u001b[1mWARNING\u001b[0m \u001b[37m|\u001b[0m \u001b[36minfer_raxml_ng.py\u001b[0m \u001b[37m|\u001b[0m \u001b[33m\u001b[1m2 loci (0.00%) contain 0 SNPs and were returned as star trees.\u001b[0m\n",
      "\u001b[33m\u001b[1mWARNING\u001b[0m \u001b[37m|\u001b[0m \u001b[36minfer_raxml_ng.py\u001b[0m \u001b[37m|\u001b[0m \u001b[33m\u001b[1m1 loci (0.00%) contain 0 SNPs and were returned as star trees.\u001b[0m\n",
      "\u001b[33m\u001b[1mWARNING\u001b[0m \u001b[37m|\u001b[0m \u001b[36minfer_raxml_ng.py\u001b[0m \u001b[37m|\u001b[0m \u001b[33m\u001b[1m2 loci (0.00%) contain 0 SNPs and were returned as star trees.\u001b[0m\n",
      "\u001b[33m\u001b[1mWARNING\u001b[0m \u001b[37m|\u001b[0m \u001b[36minfer_raxml_ng.py\u001b[0m \u001b[37m|\u001b[0m \u001b[33m\u001b[1m2 loci (0.00%) contain 0 SNPs and were returned as star trees.\u001b[0m\n",
      "\u001b[33m\u001b[1mWARNING\u001b[0m \u001b[37m|\u001b[0m \u001b[36minfer_raxml_ng.py\u001b[0m \u001b[37m|\u001b[0m \u001b[33m\u001b[1m2 loci (0.00%) contain 0 SNPs and were returned as star trees.\u001b[0m\n",
      "\u001b[33m\u001b[1mWARNING\u001b[0m \u001b[37m|\u001b[0m \u001b[36minfer_raxml_ng.py\u001b[0m \u001b[37m|\u001b[0m \u001b[33m\u001b[1m1 loci (0.00%) contain 0 SNPs and were returned as star trees.\u001b[0m\n",
      "\u001b[33m\u001b[1mWARNING\u001b[0m \u001b[37m|\u001b[0m \u001b[36minfer_raxml_ng.py\u001b[0m \u001b[37m|\u001b[0m \u001b[33m\u001b[1m1 loci (0.00%) contain 0 SNPs and were returned as star trees.\u001b[0m\n",
      "\u001b[33m\u001b[1mWARNING\u001b[0m \u001b[37m|\u001b[0m \u001b[36minfer_raxml_ng.py\u001b[0m \u001b[37m|\u001b[0m \u001b[33m\u001b[1m2 loci (0.00%) contain 0 SNPs and were returned as star trees.\u001b[0m\n"
     ]
    }
   ],
   "source": [
    "tmpdir = Path(\"/tmp\")\n",
    "chunksize = 100\n",
    "for lidx in range(0, 1000, chunksize):\n",
    "    \n",
    "    outname = tmpdir / f'chunk-{lidx}-gene_trees.csv'\n",
    "    raxdf = ipcoal.phylo.infer_raxml_ng_trees(\n",
    "        model=model, \n",
    "        idxs=range(lidx, lidx + chunksize),\n",
    "        nworkers=1, \n",
    "        nthreads=1,\n",
    "        nproc=2,\n",
    "        tmpdir=tmpdir,\n",
    "    )\n",
    "    raxdf.to_csv(outname)"
   ]
  },
  {
   "cell_type": "code",
   "execution_count": 78,
   "id": "3bb7c85a",
   "metadata": {},
   "outputs": [],
   "source": [
    "chunks = sorted(tmpdir.glob(\"chunk-*.csv\"))"
   ]
  },
  {
   "cell_type": "code",
   "execution_count": 79,
   "id": "3f9f2c22",
   "metadata": {},
   "outputs": [],
   "source": [
    "raxdfs = sorted(chunks, key=lambda x: int(x.name.split(\"-\")[1]))"
   ]
  },
  {
   "cell_type": "code",
   "execution_count": 80,
   "id": "c622f469",
   "metadata": {},
   "outputs": [],
   "source": [
    "raxdf = pd.concat((pd.read_csv(i) for i in raxdfs), ignore_index=True)"
   ]
  },
  {
   "cell_type": "code",
   "execution_count": 83,
   "id": "5988fb7e",
   "metadata": {},
   "outputs": [
    {
     "data": {
      "text/html": [
       "<div class=\"toyplot\" id=\"t43445cc1a8784e04a556c8f074874e82\" style=\"text-align:center\"><svg class=\"toyplot-canvas-Canvas\" xmlns:toyplot=\"http://www.sandia.gov/toyplot\" xmlns:xlink=\"http://www.w3.org/1999/xlink\" xmlns=\"http://www.w3.org/2000/svg\" width=\"260.0px\" height=\"275.0px\" viewBox=\"0 0 260.0 275.0\" preserveAspectRatio=\"xMidYMid meet\" style=\"background-color:transparent;border-color:#292724;border-style:none;border-width:1.0;fill:rgb(16.1%,15.3%,14.1%);fill-opacity:1.0;font-family:Helvetica;font-size:12px;opacity:1.0;stroke:rgb(16.1%,15.3%,14.1%);stroke-opacity:1.0;stroke-width:1.0\" id=\"t1091a050a8c04ccb818fac8211dfbf16\"><g class=\"toyplot-coordinates-Cartesian\" id=\"tca322a51858142a9b75b3debf5130645\"><clipPath id=\"tb840fa9dd88d49659a732ff24e569c65\"><rect x=\"35.0\" y=\"35.0\" width=\"190.0\" height=\"205.0\"></rect></clipPath><g clip-path=\"url(#tb840fa9dd88d49659a732ff24e569c65)\"><g class=\"toytree-mark-Toytree\" id=\"t8ca785de05ed46e69130a9d10b2165e4\"><g class=\"toytree-Edges\" style=\"fill:none;stroke:rgba(16.1%,15.3%,14.1%,1.000);stroke-linecap:round;stroke-width:2.0\"><path d=\"M 50.0 180.7 L 50.0 218.9 L 50.0 218.9\" id=\"8,0\" style=\"stroke-width:nan\"></path><path d=\"M 50.0 142.6 L 50.0 178.2 L 50.1 178.2\" id=\"7,1\" style=\"stroke-width:nan\"></path><path d=\"M 131.4 107.0 L 131.4 137.5 L 172.1 137.5\" id=\"6,2\" style=\"stroke-width:nan\"></path><path d=\"M 172.1 76.5 L 172.1 96.8 L 172.2 96.8\" id=\"5,3\" style=\"stroke-width:nan\"></path><path d=\"M 172.1 76.5 L 172.1 56.1 L 172.2 56.1\" id=\"5,4\" style=\"stroke-width:nan\"></path><path d=\"M 131.4 107.0 L 131.4 76.5 L 172.1 76.5\" id=\"6,5\" style=\"stroke-width:nan\"></path><path d=\"M 50.0 142.6 L 50.0 107.0 L 131.4 107.0\" id=\"7,6\" style=\"stroke-width:nan\"></path><path d=\"M 50.0 180.7 L 50.0 142.6 L 50.0 142.6\" id=\"8,7\" style=\"stroke-width:nan\"></path></g><g class=\"toytree-TipLabels\" style=\"fill:rgb(16.1%,15.3%,14.1%);fill-opacity:1.0;font-family:Helvetica;font-size:11.0px;font-weight:300;stroke:none;vertical-align:baseline;white-space:pre\"><g class=\"toytree-TipLabel\" transform=\"translate(50.04065287307273,218.86291179596174)\"><text x=\"15.0\" y=\"2.8104999999999993\" style=\"\">r4</text></g><g class=\"toytree-TipLabel\" transform=\"translate(50.12195861921818,178.18145589798087)\"><text x=\"15.0\" y=\"2.8104999999999993\" style=\"\">r2</text></g><g class=\"toytree-TipLabel\" transform=\"translate(172.0805778373971,137.49999999999997)\"><text x=\"15.0\" y=\"2.8104999999999993\" style=\"\">r3</text></g><g class=\"toytree-TipLabel\" transform=\"translate(172.16188358354253,96.8185441020191)\"><text x=\"15.0\" y=\"2.8104999999999993\" style=\"\">r0</text></g><g class=\"toytree-TipLabel\" transform=\"translate(172.16188358354253,56.137088204038236)\"><text x=\"15.0\" y=\"2.8104999999999993\" style=\"\">r1</text></g></g></g></g></g></svg><div class=\"toyplot-behavior\"><script>(function()\n",
       "{\n",
       "var modules={};\n",
       "})();</script></div></div>"
      ]
     },
     "metadata": {},
     "output_type": "display_data"
    }
   ],
   "source": [
    "toytree.tree(raxdf.gene_tree[200]).root(\"r4\").draw();"
   ]
  },
  {
   "cell_type": "code",
   "execution_count": 91,
   "id": "b14eea67",
   "metadata": {},
   "outputs": [],
   "source": [
    "atre2 = ipcoal.phylo.infer_astral_tree(toytree.mtree(raxdf.gene_tree), tmpdir='/tmp',\n",
    "        binary_path=\"/home/deren/miniconda3/envs/ipyrad/bin/astral.5.7.1.jar\")"
   ]
  },
  {
   "cell_type": "code",
   "execution_count": 93,
   "id": "179fd823",
   "metadata": {},
   "outputs": [
    {
     "data": {
      "text/plain": [
       "(<toyplot.canvas.Canvas at 0x7fb8397fa880>,\n",
       " <toyplot.coordinates.Cartesian at 0x7fb8397fa940>,\n",
       " <toytree.core.drawing.toytree_mark.ToytreeMark at 0x7fb8397fb310>)"
      ]
     },
     "execution_count": 93,
     "metadata": {},
     "output_type": "execute_result"
    },
    {
     "data": {
      "text/html": [
       "<div class=\"toyplot\" id=\"t88a59a8ac0134315973831f092061ecc\" style=\"text-align:center\"><svg class=\"toyplot-canvas-Canvas\" xmlns:toyplot=\"http://www.sandia.gov/toyplot\" xmlns:xlink=\"http://www.w3.org/1999/xlink\" xmlns=\"http://www.w3.org/2000/svg\" width=\"260.0px\" height=\"275.0px\" viewBox=\"0 0 260.0 275.0\" preserveAspectRatio=\"xMidYMid meet\" style=\"background-color:transparent;border-color:#292724;border-style:none;border-width:1.0;fill:rgb(16.1%,15.3%,14.1%);fill-opacity:1.0;font-family:Helvetica;font-size:12px;opacity:1.0;stroke:rgb(16.1%,15.3%,14.1%);stroke-opacity:1.0;stroke-width:1.0\" id=\"ta00ddf4b40c7421bacab30a1eea4916d\"><g class=\"toyplot-coordinates-Cartesian\" id=\"t7e8af0e4f5ee4d788ab096cd97018746\"><clipPath id=\"t078188725910453ca9bd368bf76bd702\"><rect x=\"35.0\" y=\"35.0\" width=\"190.0\" height=\"205.0\"></rect></clipPath><g clip-path=\"url(#t078188725910453ca9bd368bf76bd702)\"><g class=\"toytree-mark-Toytree\" id=\"tcefda072f5674726aa5e9bb12fe2e09e\"><g class=\"toytree-Edges\" style=\"fill:none;stroke:rgba(16.1%,15.3%,14.1%,1.000);stroke-linecap:round;stroke-width:2.0\"><path d=\"M 50.0 180.7 L 50.0 218.9 L 89.9 218.9\" id=\"8,0\" style=\"stroke-width:nan\"></path><path d=\"M 89.9 142.6 L 89.9 178.2 L 169.7 178.2\" id=\"7,1\" style=\"stroke-width:nan\"></path><path d=\"M 90.9 107.0 L 90.9 137.5 L 170.7 137.5\" id=\"6,2\" style=\"stroke-width:nan\"></path><path d=\"M 92.4 76.5 L 92.4 96.8 L 172.2 96.8\" id=\"5,3\" style=\"stroke-width:nan\"></path><path d=\"M 92.4 76.5 L 92.4 56.1 L 172.2 56.1\" id=\"5,4\" style=\"stroke-width:nan\"></path><path d=\"M 90.9 107.0 L 90.9 76.5 L 92.4 76.5\" id=\"6,5\" style=\"stroke-width:nan\"></path><path d=\"M 89.9 142.6 L 89.9 107.0 L 90.9 107.0\" id=\"7,6\" style=\"stroke-width:nan\"></path><path d=\"M 50.0 180.7 L 50.0 142.6 L 89.9 142.6\" id=\"8,7\" style=\"stroke-width:nan\"></path></g><g class=\"toytree-TipLabels\" style=\"fill:rgb(16.1%,15.3%,14.1%);fill-opacity:1.0;font-family:Helvetica;font-size:11.0px;font-weight:300;stroke:none;vertical-align:baseline;white-space:pre\"><g class=\"toytree-TipLabel\" transform=\"translate(89.90554393152229,218.86291179596174)\"><text x=\"15.0\" y=\"2.8104999999999993\" style=\"\">r4</text></g><g class=\"toytree-TipLabel\" transform=\"translate(169.71663179456684,178.18145589798087)\"><text x=\"15.0\" y=\"2.8104999999999993\" style=\"\">r2</text></g><g class=\"toytree-TipLabel\" transform=\"translate(170.69292638877397,137.49999999999997)\"><text x=\"15.0\" y=\"2.8104999999999993\" style=\"\">r0</text></g><g class=\"toytree-TipLabel\" transform=\"translate(172.16188358354253,96.8185441020191)\"><text x=\"15.0\" y=\"2.8104999999999993\" style=\"\">r3</text></g><g class=\"toytree-TipLabel\" transform=\"translate(172.16188358354253,56.137088204038236)\"><text x=\"15.0\" y=\"2.8104999999999993\" style=\"\">r1</text></g></g></g></g></g></svg><div class=\"toyplot-behavior\"><script>(function()\n",
       "{\n",
       "var modules={};\n",
       "})();</script></div></div>"
      ]
     },
     "metadata": {},
     "output_type": "display_data"
    }
   ],
   "source": [
    "atre2.root(\"r4\").draw()"
   ]
  },
  {
   "cell_type": "code",
   "execution_count": 96,
   "id": "1e522cba",
   "metadata": {},
   "outputs": [],
   "source": [
    "jobdir = tmpdir / \"hello\""
   ]
  },
  {
   "cell_type": "code",
   "execution_count": 97,
   "id": "5de1023d",
   "metadata": {},
   "outputs": [],
   "source": [
    "jobdir.mkdir()"
   ]
  },
  {
   "cell_type": "code",
   "execution_count": 98,
   "id": "17cf7e47",
   "metadata": {},
   "outputs": [],
   "source": [
    "jobdir.sh"
   ]
  },
  {
   "cell_type": "code",
   "execution_count": null,
   "id": "f59a75d3",
   "metadata": {},
   "outputs": [],
   "source": []
  }
 ],
 "metadata": {
  "kernelspec": {
   "display_name": "Python 3 (ipykernel)",
   "language": "python",
   "name": "python3"
  },
  "language_info": {
   "codemirror_mode": {
    "name": "ipython",
    "version": 3
   },
   "file_extension": ".py",
   "mimetype": "text/x-python",
   "name": "python",
   "nbconvert_exporter": "python",
   "pygments_lexer": "ipython3",
   "version": "3.9.12"
  }
 },
 "nbformat": 4,
 "nbformat_minor": 5
}
