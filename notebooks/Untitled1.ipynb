{
 "cells": [
  {
   "cell_type": "markdown",
   "id": "aba5541c",
   "metadata": {},
   "source": [
    "## Calculations under the MS-SMC in *ipcoal*"
   ]
  },
  {
   "cell_type": "code",
   "execution_count": 1,
   "id": "4e37080d",
   "metadata": {},
   "outputs": [],
   "source": [
    "import ipcoal\n",
    "import toytree\n",
    "import numpy as np"
   ]
  },
  {
   "cell_type": "markdown",
   "id": "91b50bf8",
   "metadata": {},
   "source": [
    "## An example dataset"
   ]
  },
  {
   "cell_type": "code",
   "execution_count": 2,
   "id": "549d8d1f",
   "metadata": {},
   "outputs": [],
   "source": [
    "SPTREE, GTREE, IMAP = ipcoal.msc.get_test_data()"
   ]
  },
  {
   "cell_type": "code",
   "execution_count": 3,
   "id": "19e3370e",
   "metadata": {},
   "outputs": [
    {
     "data": {
      "text/html": [
       "<div class=\"toyplot\" id=\"t907d842e0f4e43ecbb5c71333c5e672b\" style=\"text-align:center\"><svg class=\"toyplot-canvas-Canvas\" xmlns:toyplot=\"http://www.sandia.gov/toyplot\" xmlns:xlink=\"http://www.w3.org/1999/xlink\" xmlns=\"http://www.w3.org/2000/svg\" width=\"300.0px\" height=\"300.0px\" viewBox=\"0 0 300.0 300.0\" preserveAspectRatio=\"xMidYMid meet\" style=\"background-color:transparent;border-color:#292724;border-style:none;border-width:1.0;fill:rgb(16.1%,15.3%,14.1%);fill-opacity:1.0;font-family:Helvetica;font-size:12px;opacity:1.0;stroke:rgb(16.1%,15.3%,14.1%);stroke-opacity:1.0;stroke-width:1.0\" id=\"t583425b593a4498281120d1fe18223c9\"><g class=\"toyplot-coordinates-Cartesian\" id=\"t313ac5e702b24dc08be2c9d6b1ce53a4\"><clipPath id=\"t78e2a020eaa54cc28fa2626ea8b78c49\"><rect x=\"35.0\" y=\"35.0\" width=\"230.0\" height=\"230.0\"></rect></clipPath><g clip-path=\"url(#t78e2a020eaa54cc28fa2626ea8b78c49)\"><g class=\"toytree-mark-Toytree\" id=\"t019b8d7a4cfc48fa91b9cdbd8e05f314\"><g class=\"toytree-Edges\" style=\"stroke:rgb(14.5%,14.5%,14.5%);stroke-opacity:1.0;stroke-linecap:round;stroke-width:2.0;fill:none\"><path d=\"M 88.6 160.9 L 57.8 213.0\" id=\"4,0\" style=\"stroke-width:6.0\"></path><path d=\"M 88.6 160.9 L 119.3 213.0\" id=\"4,1\" style=\"stroke-width:6.0\"></path><path d=\"M 134.6 108.8 L 180.7 213.0\" id=\"5,2\" style=\"stroke-width:6.0\"></path><path d=\"M 188.4 56.6 L 242.2 213.0\" id=\"6,3\" style=\"stroke-width:6.0\"></path><path d=\"M 134.6 108.8 L 88.6 160.9\" id=\"5,4\" style=\"stroke-width:6.0\"></path><path d=\"M 188.4 56.6 L 134.6 108.8\" id=\"6,5\" style=\"stroke-width:6.0\"></path></g><g class=\"toytree-AdmixEdges\" style=\"fill:rgb(0.0%,0.0%,0.0%);fill-opacity:0.0;stroke:rgb(90.6%,54.1%,76.5%);stroke-opacity:0.6;font-size:14px;stroke-linecap:round;stroke-width:5\"></g><g class=\"toytree-Nodes\" style=\"fill:rgb(40.0%,76.1%,64.7%);fill-opacity:1.0;stroke:rgb(14.5%,14.5%,14.5%);stroke-opacity:1.0;stroke-width:1.0\"><g id=\"Node-0\" transform=\"translate(57.8341,213)\"><circle r=\"7.5\"></circle></g><g id=\"Node-1\" transform=\"translate(119.278,213)\"><circle r=\"7.5\"></circle></g><g id=\"Node-2\" transform=\"translate(180.722,213)\"><circle r=\"7.5\"></circle></g><g id=\"Node-3\" transform=\"translate(242.166,213)\"><circle r=\"7.5\"></circle></g><g id=\"Node-4\" transform=\"translate(88.5561,160.882)\"><circle r=\"7.5\"></circle></g><g id=\"Node-5\" transform=\"translate(134.639,108.763)\"><circle r=\"7.5\"></circle></g><g id=\"Node-6\" transform=\"translate(188.402,56.6451)\"><circle r=\"7.5\"></circle></g></g><g class=\"toytree-NodeLabels\" style=\"font-family:Helvetica;font-size:9px;font-weight:300;vertical-align:baseline;white-space:pre;stroke:none\"><g class=\"toytree-NodeLabel\" transform=\"translate(57.8341,213)\"><text x=\"-2.5020000000000002\" y=\"2.2995\" style=\"fill:rgb(14.5%,14.5%,14.5%);fill-opacity:1.0\">0</text></g><g class=\"toytree-NodeLabel\" transform=\"translate(119.278,213)\"><text x=\"-2.5020000000000002\" y=\"2.2995\" style=\"fill:rgb(14.5%,14.5%,14.5%);fill-opacity:1.0\">1</text></g><g class=\"toytree-NodeLabel\" transform=\"translate(180.722,213)\"><text x=\"-2.5020000000000002\" y=\"2.2995\" style=\"fill:rgb(14.5%,14.5%,14.5%);fill-opacity:1.0\">2</text></g><g class=\"toytree-NodeLabel\" transform=\"translate(242.166,213)\"><text x=\"-2.5020000000000002\" y=\"2.2995\" style=\"fill:rgb(14.5%,14.5%,14.5%);fill-opacity:1.0\">3</text></g><g class=\"toytree-NodeLabel\" transform=\"translate(88.5561,160.882)\"><text x=\"-2.5020000000000002\" y=\"2.2995\" style=\"fill:rgb(14.5%,14.5%,14.5%);fill-opacity:1.0\">4</text></g><g class=\"toytree-NodeLabel\" transform=\"translate(134.639,108.763)\"><text x=\"-2.5020000000000002\" y=\"2.2995\" style=\"fill:rgb(14.5%,14.5%,14.5%);fill-opacity:1.0\">5</text></g><g class=\"toytree-NodeLabel\" transform=\"translate(188.402,56.6451)\"><text x=\"-2.5020000000000002\" y=\"2.2995\" style=\"fill:rgb(14.5%,14.5%,14.5%);fill-opacity:1.0\">6</text></g></g><g class=\"toytree-TipLabels\" style=\"fill:rgb(14.5%,14.5%,14.5%);fill-opacity:1.0;font-family:Helvetica;font-size:12px;font-weight:300;vertical-align:baseline;white-space:pre;stroke:none\"><g class=\"toytree-TipLabel\" transform=\"translate(57.8341,213)rotate(90)\"><text x=\"15.0\" y=\"3.066\" style=\"fill:rgb(14.5%,14.5%,14.5%);fill-opacity:1.0\">A</text></g><g class=\"toytree-TipLabel\" transform=\"translate(119.278,213)rotate(90)\"><text x=\"15.0\" y=\"3.066\" style=\"fill:rgb(14.5%,14.5%,14.5%);fill-opacity:1.0\">B</text></g><g class=\"toytree-TipLabel\" transform=\"translate(180.722,213)rotate(90)\"><text x=\"15.0\" y=\"3.066\" style=\"fill:rgb(14.5%,14.5%,14.5%);fill-opacity:1.0\">C</text></g><g class=\"toytree-TipLabel\" transform=\"translate(242.166,213)rotate(90)\"><text x=\"15.0\" y=\"3.066\" style=\"fill:rgb(14.5%,14.5%,14.5%);fill-opacity:1.0\">D</text></g></g></g></g><g class=\"toyplot-coordinates-Axis\" id=\"t861ed57feb49481bbf7de7a587985688\" transform=\"translate(50.0,250.0)rotate(-90.0)translate(0,-15.0)\"><line x1=\"36.99985928045404\" y1=\"0\" x2=\"193.3549103303782\" y2=\"0\" style=\"\"></line><g><line x1=\"36.99985928045404\" y1=\"0\" x2=\"36.99985928045404\" y2=\"5\" style=\"\"></line><line x1=\"89.11820963042875\" y1=\"0\" x2=\"89.11820963042875\" y2=\"5\" style=\"\"></line><line x1=\"141.23655998040348\" y1=\"0\" x2=\"141.23655998040348\" y2=\"5\" style=\"\"></line><line x1=\"193.3549103303782\" y1=\"0\" x2=\"193.3549103303782\" y2=\"5\" style=\"\"></line></g><g><g transform=\"translate(36.99985928045404,-6)\"><text x=\"-2.78\" y=\"-4.440892098500626e-16\" style=\"fill:rgb(16.1%,15.3%,14.1%);fill-opacity:1.0;font-family:helvetica;font-size:10.0px;font-weight:normal;stroke:none;vertical-align:baseline;white-space:pre\">0</text></g><g transform=\"translate(89.11820963042875,-6)\"><text x=\"-16.68\" y=\"-4.440892098500626e-16\" style=\"fill:rgb(16.1%,15.3%,14.1%);fill-opacity:1.0;font-family:helvetica;font-size:10.0px;font-weight:normal;stroke:none;vertical-align:baseline;white-space:pre\">200000</text></g><g transform=\"translate(141.23655998040348,-6)\"><text x=\"-16.68\" y=\"-4.440892098500626e-16\" style=\"fill:rgb(16.1%,15.3%,14.1%);fill-opacity:1.0;font-family:helvetica;font-size:10.0px;font-weight:normal;stroke:none;vertical-align:baseline;white-space:pre\">400000</text></g><g transform=\"translate(193.3549103303782,-6)\"><text x=\"-16.68\" y=\"-4.440892098500626e-16\" style=\"fill:rgb(16.1%,15.3%,14.1%);fill-opacity:1.0;font-family:helvetica;font-size:10.0px;font-weight:normal;stroke:none;vertical-align:baseline;white-space:pre\">600000</text></g></g><g class=\"toyplot-coordinates-Axis-coordinates\" style=\"visibility:hidden\" transform=\"\"><line x1=\"0\" x2=\"0\" y1=\"3.0\" y2=\"-4.5\" style=\"stroke:rgb(43.9%,50.2%,56.5%);stroke-opacity:1.0;stroke-width:1.0\"></line><text x=\"0\" y=\"6\" style=\"alignment-baseline:hanging;fill:rgb(43.9%,50.2%,56.5%);fill-opacity:1.0;font-size:10px;font-weight:normal;stroke:none;text-anchor:middle\"></text></g></g></g></svg><div class=\"toyplot-behavior\"><script>(function()\n",
       "{\n",
       "var modules={};\n",
       "modules[\"toyplot/canvas/id\"] = \"t583425b593a4498281120d1fe18223c9\";\n",
       "modules[\"toyplot/canvas\"] = (function(canvas_id)\n",
       "    {\n",
       "        return document.querySelector(\"#\" + canvas_id);\n",
       "    })(modules[\"toyplot/canvas/id\"]);\n",
       "modules[\"toyplot.coordinates.Axis\"] = (\n",
       "        function(canvas)\n",
       "        {\n",
       "            function sign(x)\n",
       "            {\n",
       "                return x < 0 ? -1 : x > 0 ? 1 : 0;\n",
       "            }\n",
       "\n",
       "            function mix(a, b, amount)\n",
       "            {\n",
       "                return ((1.0 - amount) * a) + (amount * b);\n",
       "            }\n",
       "\n",
       "            function log(x, base)\n",
       "            {\n",
       "                return Math.log(Math.abs(x)) / Math.log(base);\n",
       "            }\n",
       "\n",
       "            function in_range(a, x, b)\n",
       "            {\n",
       "                var left = Math.min(a, b);\n",
       "                var right = Math.max(a, b);\n",
       "                return left <= x && x <= right;\n",
       "            }\n",
       "\n",
       "            function inside(range, projection)\n",
       "            {\n",
       "                for(var i = 0; i != projection.length; ++i)\n",
       "                {\n",
       "                    var segment = projection[i];\n",
       "                    if(in_range(segment.range.min, range, segment.range.max))\n",
       "                        return true;\n",
       "                }\n",
       "                return false;\n",
       "            }\n",
       "\n",
       "            function to_domain(range, projection)\n",
       "            {\n",
       "                for(var i = 0; i != projection.length; ++i)\n",
       "                {\n",
       "                    var segment = projection[i];\n",
       "                    if(in_range(segment.range.bounds.min, range, segment.range.bounds.max))\n",
       "                    {\n",
       "                        if(segment.scale == \"linear\")\n",
       "                        {\n",
       "                            var amount = (range - segment.range.min) / (segment.range.max - segment.range.min);\n",
       "                            return mix(segment.domain.min, segment.domain.max, amount)\n",
       "                        }\n",
       "                        else if(segment.scale[0] == \"log\")\n",
       "                        {\n",
       "                            var amount = (range - segment.range.min) / (segment.range.max - segment.range.min);\n",
       "                            var base = segment.scale[1];\n",
       "                            return sign(segment.domain.min) * Math.pow(base, mix(log(segment.domain.min, base), log(segment.domain.max, base), amount));\n",
       "                        }\n",
       "                    }\n",
       "                }\n",
       "            }\n",
       "\n",
       "            var axes = {};\n",
       "\n",
       "            function display_coordinates(e)\n",
       "            {\n",
       "                var current = canvas.createSVGPoint();\n",
       "                current.x = e.clientX;\n",
       "                current.y = e.clientY;\n",
       "\n",
       "                for(var axis_id in axes)\n",
       "                {\n",
       "                    var axis = document.querySelector(\"#\" + axis_id);\n",
       "                    var coordinates = axis.querySelector(\".toyplot-coordinates-Axis-coordinates\");\n",
       "                    if(coordinates)\n",
       "                    {\n",
       "                        var projection = axes[axis_id];\n",
       "                        var local = current.matrixTransform(axis.getScreenCTM().inverse());\n",
       "                        if(inside(local.x, projection))\n",
       "                        {\n",
       "                            var domain = to_domain(local.x, projection);\n",
       "                            coordinates.style.visibility = \"visible\";\n",
       "                            coordinates.setAttribute(\"transform\", \"translate(\" + local.x + \")\");\n",
       "                            var text = coordinates.querySelector(\"text\");\n",
       "                            text.textContent = domain.toFixed(2);\n",
       "                        }\n",
       "                        else\n",
       "                        {\n",
       "                            coordinates.style.visibility= \"hidden\";\n",
       "                        }\n",
       "                    }\n",
       "                }\n",
       "            }\n",
       "\n",
       "            canvas.addEventListener(\"click\", display_coordinates);\n",
       "\n",
       "            var module = {};\n",
       "            module.show_coordinates = function(axis_id, projection)\n",
       "            {\n",
       "                axes[axis_id] = projection;\n",
       "            }\n",
       "\n",
       "            return module;\n",
       "        })(modules[\"toyplot/canvas\"]);\n",
       "(function(axis, axis_id, projection)\n",
       "        {\n",
       "            axis.show_coordinates(axis_id, projection);\n",
       "        })(modules[\"toyplot.coordinates.Axis\"],\"t861ed57feb49481bbf7de7a587985688\",[{\"domain\": {\"bounds\": {\"max\": Infinity, \"min\": -Infinity}, \"max\": 625500.0, \"min\": -141983.9999999999}, \"range\": {\"bounds\": {\"max\": Infinity, \"min\": -Infinity}, \"max\": 200.0, \"min\": 0.0}, \"scale\": \"linear\"}]);\n",
       "})();</script></div></div>"
      ]
     },
     "metadata": {},
     "output_type": "display_data"
    }
   ],
   "source": [
    "SPTREE.draw('p');"
   ]
  },
  {
   "cell_type": "code",
   "execution_count": 4,
   "id": "bb995594",
   "metadata": {},
   "outputs": [
    {
     "data": {
      "text/html": [
       "<div class=\"toyplot\" id=\"t161a07b195b44094818565a6b4da033e\" style=\"text-align:center\"><svg class=\"toyplot-canvas-Canvas\" xmlns:toyplot=\"http://www.sandia.gov/toyplot\" xmlns:xlink=\"http://www.w3.org/1999/xlink\" xmlns=\"http://www.w3.org/2000/svg\" width=\"300.0px\" height=\"300.0px\" viewBox=\"0 0 300.0 300.0\" preserveAspectRatio=\"xMidYMid meet\" style=\"background-color:transparent;border-color:#292724;border-style:none;border-width:1.0;fill:rgb(16.1%,15.3%,14.1%);fill-opacity:1.0;font-family:Helvetica;font-size:12px;opacity:1.0;stroke:rgb(16.1%,15.3%,14.1%);stroke-opacity:1.0;stroke-width:1.0\" id=\"t9c8415a294a34194bb1e23a4bab0fda7\"><g class=\"toyplot-coordinates-Cartesian\" id=\"tf7aa06882d504a6a8bf9a0c9397fcdae\"><clipPath id=\"t93906c08053f4a43b780f39ad5e2f7b5\"><rect x=\"35.0\" y=\"35.0\" width=\"230.0\" height=\"230.0\"></rect></clipPath><g clip-path=\"url(#t93906c08053f4a43b780f39ad5e2f7b5)\"><g class=\"toytree-mark-Toytree\" id=\"t1a860c7b199341388f4c84a94b6e9a3e\"><g class=\"toytree-Edges\" style=\"stroke:rgb(14.5%,14.5%,14.5%);stroke-opacity:1.0;stroke-linecap:round;stroke-width:2.0;fill:none\"><path d=\"M 73.2 195.7 L 57.8 215.6\" id=\"7,0\" style=\"\"></path><path d=\"M 73.2 195.7 L 88.6 215.6\" id=\"7,1\" style=\"\"></path><path d=\"M 142.3 156.0 L 119.3 215.6\" id=\"9,2\" style=\"\"></path><path d=\"M 165.4 191.8 L 150.0 215.6\" id=\"8,3\" style=\"\"></path><path d=\"M 165.4 191.8 L 180.7 215.6\" id=\"8,4\" style=\"\"></path><path d=\"M 226.8 86.5 L 211.4 215.6\" id=\"11,5\" style=\"\"></path><path d=\"M 226.8 86.5 L 242.2 215.6\" id=\"11,6\" style=\"\"></path><path d=\"M 107.8 126.2 L 73.2 195.7\" id=\"10,7\" style=\"\"></path><path d=\"M 142.3 156.0 L 165.4 191.8\" id=\"9,8\" style=\"\"></path><path d=\"M 107.8 126.2 L 142.3 156.0\" id=\"10,9\" style=\"\"></path><path d=\"M 167.3 56.8 L 107.8 126.2\" id=\"12,10\" style=\"\"></path><path d=\"M 167.3 56.8 L 226.8 86.5\" id=\"12,11\" style=\"\"></path></g><g class=\"toytree-AdmixEdges\" style=\"fill:rgb(0.0%,0.0%,0.0%);fill-opacity:0.0;stroke:rgb(90.6%,54.1%,76.5%);stroke-opacity:0.6;font-size:14px;stroke-linecap:round;stroke-width:5\"></g><g class=\"toytree-Nodes\" style=\"fill:rgb(40.0%,76.1%,64.7%);fill-opacity:1.0;stroke:rgb(14.5%,14.5%,14.5%);stroke-opacity:1.0;stroke-width:1.0\"><g id=\"Node-0\" transform=\"translate(57.8341,215.579)\"><circle r=\"7.5\"></circle></g><g id=\"Node-1\" transform=\"translate(88.5561,215.579)\"><circle r=\"7.5\"></circle></g><g id=\"Node-2\" transform=\"translate(119.278,215.579)\"><circle r=\"7.5\"></circle></g><g id=\"Node-3\" transform=\"translate(150,215.579)\"><circle r=\"7.5\"></circle></g><g id=\"Node-4\" transform=\"translate(180.722,215.579)\"><circle r=\"7.5\"></circle></g><g id=\"Node-5\" transform=\"translate(211.444,215.579)\"><circle r=\"7.5\"></circle></g><g id=\"Node-6\" transform=\"translate(242.166,215.579)\"><circle r=\"7.5\"></circle></g><g id=\"Node-7\" transform=\"translate(73.1951,195.725)\"><circle r=\"7.5\"></circle></g><g id=\"Node-8\" transform=\"translate(165.361,191.754)\"><circle r=\"7.5\"></circle></g><g id=\"Node-9\" transform=\"translate(142.32,156.018)\"><circle r=\"7.5\"></circle></g><g id=\"Node-10\" transform=\"translate(107.757,126.238)\"><circle r=\"7.5\"></circle></g><g id=\"Node-11\" transform=\"translate(226.805,86.5306)\"><circle r=\"7.5\"></circle></g><g id=\"Node-12\" transform=\"translate(167.281,56.7502)\"><circle r=\"7.5\"></circle></g></g><g class=\"toytree-NodeLabels\" style=\"font-family:Helvetica;font-size:9px;font-weight:300;vertical-align:baseline;white-space:pre;stroke:none\"><g class=\"toytree-NodeLabel\" transform=\"translate(57.8341,215.579)\"><text x=\"-2.5020000000000002\" y=\"2.2995\" style=\"fill:rgb(14.5%,14.5%,14.5%);fill-opacity:1.0\">0</text></g><g class=\"toytree-NodeLabel\" transform=\"translate(88.5561,215.579)\"><text x=\"-2.5020000000000002\" y=\"2.2995\" style=\"fill:rgb(14.5%,14.5%,14.5%);fill-opacity:1.0\">1</text></g><g class=\"toytree-NodeLabel\" transform=\"translate(119.278,215.579)\"><text x=\"-2.5020000000000002\" y=\"2.2995\" style=\"fill:rgb(14.5%,14.5%,14.5%);fill-opacity:1.0\">2</text></g><g class=\"toytree-NodeLabel\" transform=\"translate(150,215.579)\"><text x=\"-2.5020000000000002\" y=\"2.2995\" style=\"fill:rgb(14.5%,14.5%,14.5%);fill-opacity:1.0\">3</text></g><g class=\"toytree-NodeLabel\" transform=\"translate(180.722,215.579)\"><text x=\"-2.5020000000000002\" y=\"2.2995\" style=\"fill:rgb(14.5%,14.5%,14.5%);fill-opacity:1.0\">4</text></g><g class=\"toytree-NodeLabel\" transform=\"translate(211.444,215.579)\"><text x=\"-2.5020000000000002\" y=\"2.2995\" style=\"fill:rgb(14.5%,14.5%,14.5%);fill-opacity:1.0\">5</text></g><g class=\"toytree-NodeLabel\" transform=\"translate(242.166,215.579)\"><text x=\"-2.5020000000000002\" y=\"2.2995\" style=\"fill:rgb(14.5%,14.5%,14.5%);fill-opacity:1.0\">6</text></g><g class=\"toytree-NodeLabel\" transform=\"translate(73.1951,195.725)\"><text x=\"-2.5020000000000002\" y=\"2.2995\" style=\"fill:rgb(14.5%,14.5%,14.5%);fill-opacity:1.0\">7</text></g><g class=\"toytree-NodeLabel\" transform=\"translate(165.361,191.754)\"><text x=\"-2.5020000000000002\" y=\"2.2995\" style=\"fill:rgb(14.5%,14.5%,14.5%);fill-opacity:1.0\">8</text></g><g class=\"toytree-NodeLabel\" transform=\"translate(142.32,156.018)\"><text x=\"-2.5020000000000002\" y=\"2.2995\" style=\"fill:rgb(14.5%,14.5%,14.5%);fill-opacity:1.0\">9</text></g><g class=\"toytree-NodeLabel\" transform=\"translate(107.757,126.238)\"><text x=\"-5.0040000000000004\" y=\"2.2995\" style=\"fill:rgb(14.5%,14.5%,14.5%);fill-opacity:1.0\">10</text></g><g class=\"toytree-NodeLabel\" transform=\"translate(226.805,86.5306)\"><text x=\"-5.0040000000000004\" y=\"2.2995\" style=\"fill:rgb(14.5%,14.5%,14.5%);fill-opacity:1.0\">11</text></g><g class=\"toytree-NodeLabel\" transform=\"translate(167.281,56.7502)\"><text x=\"-5.0040000000000004\" y=\"2.2995\" style=\"fill:rgb(14.5%,14.5%,14.5%);fill-opacity:1.0\">12</text></g></g><g class=\"toytree-TipLabels\" style=\"fill:rgb(14.5%,14.5%,14.5%);fill-opacity:1.0;font-family:Helvetica;font-size:12px;font-weight:300;vertical-align:baseline;white-space:pre;stroke:none\"><g class=\"toytree-TipLabel\" transform=\"translate(57.8341,215.579)rotate(90)\"><text x=\"15.0\" y=\"3.066\" style=\"fill:rgb(14.5%,14.5%,14.5%);fill-opacity:1.0\">0</text></g><g class=\"toytree-TipLabel\" transform=\"translate(88.5561,215.579)rotate(90)\"><text x=\"15.0\" y=\"3.066\" style=\"fill:rgb(14.5%,14.5%,14.5%);fill-opacity:1.0\">1</text></g><g class=\"toytree-TipLabel\" transform=\"translate(119.278,215.579)rotate(90)\"><text x=\"15.0\" y=\"3.066\" style=\"fill:rgb(14.5%,14.5%,14.5%);fill-opacity:1.0\">2</text></g><g class=\"toytree-TipLabel\" transform=\"translate(150,215.579)rotate(90)\"><text x=\"15.0\" y=\"3.066\" style=\"fill:rgb(14.5%,14.5%,14.5%);fill-opacity:1.0\">3</text></g><g class=\"toytree-TipLabel\" transform=\"translate(180.722,215.579)rotate(90)\"><text x=\"15.0\" y=\"3.066\" style=\"fill:rgb(14.5%,14.5%,14.5%);fill-opacity:1.0\">4</text></g><g class=\"toytree-TipLabel\" transform=\"translate(211.444,215.579)rotate(90)\"><text x=\"15.0\" y=\"3.066\" style=\"fill:rgb(14.5%,14.5%,14.5%);fill-opacity:1.0\">5</text></g><g class=\"toytree-TipLabel\" transform=\"translate(242.166,215.579)rotate(90)\"><text x=\"15.0\" y=\"3.066\" style=\"fill:rgb(14.5%,14.5%,14.5%);fill-opacity:1.0\">6</text></g></g></g></g><g class=\"toyplot-coordinates-Axis\" id=\"tf559f27e311e4c8e863e3e239f62d1ab\" transform=\"translate(50.0,250.0)rotate(-90.0)translate(0,-15.0)\"><line x1=\"34.421308429027484\" y1=\"0\" x2=\"193.2497895522625\" y2=\"0\" style=\"\"></line><g><line x1=\"34.421308429027484\" y1=\"0\" x2=\"34.421308429027484\" y2=\"5\" style=\"\"></line><line x1=\"84.05520878003844\" y1=\"0\" x2=\"84.05520878003844\" y2=\"5\" style=\"\"></line><line x1=\"133.68910913104938\" y1=\"0\" x2=\"133.68910913104938\" y2=\"5\" style=\"\"></line><line x1=\"183.32300948206034\" y1=\"0\" x2=\"183.32300948206034\" y2=\"5\" style=\"\"></line></g><g><g transform=\"translate(34.421308429027484,-6)\"><text x=\"-2.78\" y=\"-4.440892098500626e-16\" style=\"fill:rgb(16.1%,15.3%,14.1%);fill-opacity:1.0;font-family:helvetica;font-size:10.0px;font-weight:normal;stroke:none;vertical-align:baseline;white-space:pre\">0</text></g><g transform=\"translate(84.05520878003844,-6)\"><text x=\"-16.68\" y=\"-4.440892098500626e-16\" style=\"fill:rgb(16.1%,15.3%,14.1%);fill-opacity:1.0;font-family:helvetica;font-size:10.0px;font-weight:normal;stroke:none;vertical-align:baseline;white-space:pre\">250000</text></g><g transform=\"translate(133.68910913104938,-6)\"><text x=\"-16.68\" y=\"-4.440892098500626e-16\" style=\"fill:rgb(16.1%,15.3%,14.1%);fill-opacity:1.0;font-family:helvetica;font-size:10.0px;font-weight:normal;stroke:none;vertical-align:baseline;white-space:pre\">500000</text></g><g transform=\"translate(183.32300948206034,-6)\"><text x=\"-16.68\" y=\"-4.440892098500626e-16\" style=\"fill:rgb(16.1%,15.3%,14.1%);fill-opacity:1.0;font-family:helvetica;font-size:10.0px;font-weight:normal;stroke:none;vertical-align:baseline;white-space:pre\">750000</text></g></g><g class=\"toyplot-coordinates-Axis-coordinates\" style=\"visibility:hidden\" transform=\"\"><line x1=\"0\" x2=\"0\" y1=\"3.0\" y2=\"-4.5\" style=\"stroke:rgb(43.9%,50.2%,56.5%);stroke-opacity:1.0;stroke-width:1.0\"></line><text x=\"0\" y=\"6\" style=\"alignment-baseline:hanging;fill:rgb(43.9%,50.2%,56.5%);fill-opacity:1.0;font-size:10px;font-weight:normal;stroke:none;text-anchor:middle\"></text></g></g></g></svg><div class=\"toyplot-behavior\"><script>(function()\n",
       "{\n",
       "var modules={};\n",
       "modules[\"toyplot/canvas/id\"] = \"t9c8415a294a34194bb1e23a4bab0fda7\";\n",
       "modules[\"toyplot/canvas\"] = (function(canvas_id)\n",
       "    {\n",
       "        return document.querySelector(\"#\" + canvas_id);\n",
       "    })(modules[\"toyplot/canvas/id\"]);\n",
       "modules[\"toyplot.coordinates.Axis\"] = (\n",
       "        function(canvas)\n",
       "        {\n",
       "            function sign(x)\n",
       "            {\n",
       "                return x < 0 ? -1 : x > 0 ? 1 : 0;\n",
       "            }\n",
       "\n",
       "            function mix(a, b, amount)\n",
       "            {\n",
       "                return ((1.0 - amount) * a) + (amount * b);\n",
       "            }\n",
       "\n",
       "            function log(x, base)\n",
       "            {\n",
       "                return Math.log(Math.abs(x)) / Math.log(base);\n",
       "            }\n",
       "\n",
       "            function in_range(a, x, b)\n",
       "            {\n",
       "                var left = Math.min(a, b);\n",
       "                var right = Math.max(a, b);\n",
       "                return left <= x && x <= right;\n",
       "            }\n",
       "\n",
       "            function inside(range, projection)\n",
       "            {\n",
       "                for(var i = 0; i != projection.length; ++i)\n",
       "                {\n",
       "                    var segment = projection[i];\n",
       "                    if(in_range(segment.range.min, range, segment.range.max))\n",
       "                        return true;\n",
       "                }\n",
       "                return false;\n",
       "            }\n",
       "\n",
       "            function to_domain(range, projection)\n",
       "            {\n",
       "                for(var i = 0; i != projection.length; ++i)\n",
       "                {\n",
       "                    var segment = projection[i];\n",
       "                    if(in_range(segment.range.bounds.min, range, segment.range.bounds.max))\n",
       "                    {\n",
       "                        if(segment.scale == \"linear\")\n",
       "                        {\n",
       "                            var amount = (range - segment.range.min) / (segment.range.max - segment.range.min);\n",
       "                            return mix(segment.domain.min, segment.domain.max, amount)\n",
       "                        }\n",
       "                        else if(segment.scale[0] == \"log\")\n",
       "                        {\n",
       "                            var amount = (range - segment.range.min) / (segment.range.max - segment.range.min);\n",
       "                            var base = segment.scale[1];\n",
       "                            return sign(segment.domain.min) * Math.pow(base, mix(log(segment.domain.min, base), log(segment.domain.max, base), amount));\n",
       "                        }\n",
       "                    }\n",
       "                }\n",
       "            }\n",
       "\n",
       "            var axes = {};\n",
       "\n",
       "            function display_coordinates(e)\n",
       "            {\n",
       "                var current = canvas.createSVGPoint();\n",
       "                current.x = e.clientX;\n",
       "                current.y = e.clientY;\n",
       "\n",
       "                for(var axis_id in axes)\n",
       "                {\n",
       "                    var axis = document.querySelector(\"#\" + axis_id);\n",
       "                    var coordinates = axis.querySelector(\".toyplot-coordinates-Axis-coordinates\");\n",
       "                    if(coordinates)\n",
       "                    {\n",
       "                        var projection = axes[axis_id];\n",
       "                        var local = current.matrixTransform(axis.getScreenCTM().inverse());\n",
       "                        if(inside(local.x, projection))\n",
       "                        {\n",
       "                            var domain = to_domain(local.x, projection);\n",
       "                            coordinates.style.visibility = \"visible\";\n",
       "                            coordinates.setAttribute(\"transform\", \"translate(\" + local.x + \")\");\n",
       "                            var text = coordinates.querySelector(\"text\");\n",
       "                            text.textContent = domain.toFixed(2);\n",
       "                        }\n",
       "                        else\n",
       "                        {\n",
       "                            coordinates.style.visibility= \"hidden\";\n",
       "                        }\n",
       "                    }\n",
       "                }\n",
       "            }\n",
       "\n",
       "            canvas.addEventListener(\"click\", display_coordinates);\n",
       "\n",
       "            var module = {};\n",
       "            module.show_coordinates = function(axis_id, projection)\n",
       "            {\n",
       "                axes[axis_id] = projection;\n",
       "            }\n",
       "\n",
       "            return module;\n",
       "        })(modules[\"toyplot/canvas\"]);\n",
       "(function(axis, axis_id, projection)\n",
       "        {\n",
       "            axis.show_coordinates(axis_id, projection);\n",
       "        })(modules[\"toyplot.coordinates.Axis\"],\"tf559f27e311e4c8e863e3e239f62d1ab\",[{\"domain\": {\"bounds\": {\"max\": Infinity, \"min\": -Infinity}, \"max\": 834000.0, \"min\": -173375.99999999997}, \"range\": {\"bounds\": {\"max\": Infinity, \"min\": -Infinity}, \"max\": 200.0, \"min\": 0.0}, \"scale\": \"linear\"}]);\n",
       "})();</script></div></div>"
      ]
     },
     "metadata": {},
     "output_type": "display_data"
    }
   ],
   "source": [
    "GTREE.draw('p');"
   ]
  },
  {
   "cell_type": "code",
   "execution_count": 5,
   "id": "0b5ec7ff",
   "metadata": {},
   "outputs": [
    {
     "name": "stdout",
     "output_type": "stream",
     "text": [
      "{'A': ['0', '1', '2'], 'B': ['3', '4'], 'C': ['5'], 'D': ['6']}\n"
     ]
    }
   ],
   "source": [
    "print(IMAP)"
   ]
  },
  {
   "cell_type": "markdown",
   "id": "0fd0f2b6",
   "metadata": {},
   "source": [
    "### The MSC loglik of coalescent events (waiting times) under this genealogy embedding"
   ]
  },
  {
   "cell_type": "code",
   "execution_count": 6,
   "id": "8621a1c2",
   "metadata": {
    "scrolled": true
   },
   "outputs": [
    {
     "data": {
      "text/plain": [
       "80.83643587318105"
      ]
     },
     "execution_count": 6,
     "metadata": {},
     "output_type": "execute_result"
    }
   ],
   "source": [
    "ipcoal.msc.get_msc_loglik(SPTREE, GTREE, IMAP)"
   ]
  },
  {
   "cell_type": "markdown",
   "id": "d9d7a881",
   "metadata": {},
   "source": [
    "### The MS-SMC loglik of interval length (waiting distance) under this genealogy embedding"
   ]
  },
  {
   "cell_type": "code",
   "execution_count": 7,
   "id": "bc4d566b",
   "metadata": {},
   "outputs": [],
   "source": [
    "from ipcoal.smc.src.likelihood import get_mssmc_loglik"
   ]
  },
  {
   "cell_type": "code",
   "execution_count": 8,
   "id": "f93170d3",
   "metadata": {},
   "outputs": [],
   "source": [
    "LENGTHS = np.array([100])"
   ]
  },
  {
   "cell_type": "code",
   "execution_count": null,
   "id": "10620e69",
   "metadata": {},
   "outputs": [],
   "source": [
    "ipcoal.smc.src."
   ]
  },
  {
   "cell_type": "code",
   "execution_count": 11,
   "id": "16b9d45f",
   "metadata": {},
   "outputs": [
    {
     "data": {
      "text/plain": [
       "6.4614591413322335"
      ]
     },
     "execution_count": 11,
     "metadata": {},
     "output_type": "execute_result"
    }
   ],
   "source": [
    "get_mssmc_loglik(SPTREE, GTREE, IMAP, 1e-9, lengths=[100], event_type=1)"
   ]
  },
  {
   "cell_type": "code",
   "execution_count": null,
   "id": "1b94f973",
   "metadata": {},
   "outputs": [],
   "source": []
  },
  {
   "cell_type": "markdown",
   "id": "f1aa37de",
   "metadata": {},
   "source": [
    "### Probability calculations under the MS-SMC"
   ]
  },
  {
   "cell_type": "code",
   "execution_count": null,
   "id": "3cb390a4",
   "metadata": {},
   "outputs": [],
   "source": []
  },
  {
   "cell_type": "code",
   "execution_count": 4,
   "id": "4002bd5f",
   "metadata": {},
   "outputs": [],
   "source": [
    "from ipcoal.smc.src.ms_smc import get_prob_tree_unchanged_given_b_and_tr"
   ]
  },
  {
   "cell_type": "code",
   "execution_count": 12,
   "id": "7ed32265",
   "metadata": {},
   "outputs": [
    {
     "name": "stdout",
     "output_type": "stream",
     "text": [
      "4.37 ms ± 121 µs per loop (mean ± std. dev. of 7 runs, 100 loops each)\n"
     ]
    }
   ],
   "source": [
    "%%timeit\n",
    "ipcoal.smc.get_probability_tree_unchanged_given_b_and_tr(stree, gtree, imap, 0, 500)"
   ]
  },
  {
   "cell_type": "code",
   "execution_count": 14,
   "id": "d7e00f18",
   "metadata": {},
   "outputs": [
    {
     "data": {
      "text/plain": [
       "0.2583966907988009"
      ]
     },
     "execution_count": 14,
     "metadata": {},
     "output_type": "execute_result"
    }
   ],
   "source": [
    "    get_prob_tree_unchanged_given_b_and_tr(stree, gtree, imap, 0, 500)"
   ]
  },
  {
   "cell_type": "code",
   "execution_count": 15,
   "id": "e742c8b7",
   "metadata": {},
   "outputs": [],
   "source": [
    "from ipcoal.smc.src.embedding import TreeEmbedding"
   ]
  },
  {
   "cell_type": "code",
   "execution_count": 19,
   "id": "e9a78c1b",
   "metadata": {},
   "outputs": [],
   "source": [
    "t = TreeEmbedding(stree, gtree, imap)"
   ]
  },
  {
   "cell_type": "code",
   "execution_count": 25,
   "id": "1ef8a2c1",
   "metadata": {},
   "outputs": [
    {
     "data": {
      "text/plain": [
       "3220000.0"
      ]
     },
     "execution_count": 25,
     "metadata": {},
     "output_type": "execute_result"
    }
   ],
   "source": [
    "emb, enc, barr, sarr, rarr = t.get_data()\n",
    "sarr[0]"
   ]
  }
 ],
 "metadata": {
  "kernelspec": {
   "display_name": "Python 3 (ipykernel)",
   "language": "python",
   "name": "python3"
  },
  "language_info": {
   "codemirror_mode": {
    "name": "ipython",
    "version": 3
   },
   "file_extension": ".py",
   "mimetype": "text/x-python",
   "name": "python",
   "nbconvert_exporter": "python",
   "pygments_lexer": "ipython3",
   "version": "3.9.16"
  }
 },
 "nbformat": 4,
 "nbformat_minor": 5
}
