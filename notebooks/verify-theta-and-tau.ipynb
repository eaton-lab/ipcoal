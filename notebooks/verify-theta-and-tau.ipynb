{
 "cells": [
  {
   "cell_type": "markdown",
   "id": "general-venezuela",
   "metadata": {},
   "source": [
    "## Verify theta and tau are correct"
   ]
  },
  {
   "cell_type": "code",
   "execution_count": 1,
   "id": "correct-layer",
   "metadata": {},
   "outputs": [],
   "source": [
    "import toytree\n",
    "import ipcoal\n",
    "import msprime as ms\n",
    "import numpy as np"
   ]
  },
  {
   "cell_type": "code",
   "execution_count": 2,
   "id": "surprising-catering",
   "metadata": {},
   "outputs": [
    {
     "name": "stdout",
     "output_type": "stream",
     "text": [
      "2.1.0-dev\n",
      "0.3.1\n",
      "1.0.1\n"
     ]
    }
   ],
   "source": [
    "print(toytree.__version__)\n",
    "print(ipcoal.__version__)\n",
    "print(ms.__version__)"
   ]
  },
  {
   "cell_type": "code",
   "execution_count": 13,
   "id": "exotic-people",
   "metadata": {},
   "outputs": [
    {
     "data": {
      "text/html": [
       "<div class=\"toyplot\" id=\"t1499ca3c19cf4e27abf122e5380fed32\" style=\"text-align:center\"><svg class=\"toyplot-canvas-Canvas\" xmlns:toyplot=\"http://www.sandia.gov/toyplot\" xmlns:xlink=\"http://www.w3.org/1999/xlink\" xmlns=\"http://www.w3.org/2000/svg\" width=\"350.0px\" height=\"260.0px\" viewBox=\"0 0 350.0 260.0\" preserveAspectRatio=\"xMidYMid meet\" style=\"background-color:transparent;border-color:#292724;border-style:none;border-width:1.0;fill:rgb(16.1%,15.3%,14.1%);fill-opacity:1.0;font-family:Helvetica;font-size:12px;opacity:1.0;stroke:rgb(16.1%,15.3%,14.1%);stroke-opacity:1.0;stroke-width:1.0\" id=\"tfbe5d49b6fc14526acbff233eadb275f\"><g class=\"toyplot-coordinates-Cartesian\" id=\"tc8be1c09336543d5a7d01840129a569a\"><clipPath id=\"tb65534de71c140c29f95afafb7b8c2e8\"><rect x=\"30.0\" y=\"30.0\" width=\"290.0\" height=\"200.0\"></rect></clipPath><g clip-path=\"url(#tb65534de71c140c29f95afafb7b8c2e8)\"><g class=\"toytree-mark-Toytree\" id=\"t93b750714dd748078dda0e8a1bec597a\"><g class=\"toytree-Edges\" style=\"fill:none;stroke:rgb(14.9%,14.9%,14.9%);stroke-linecap:round;stroke-opacity:1;stroke-width:2\"><path d=\"M 175.0 61.5 L 96.9 102.4\" id=\"10,9\" style=\"stroke-width:2.0\"></path><path d=\"M 175.0 61.5 L 253.1 102.4\" id=\"10,8\" style=\"stroke-width:2.0\"></path><path d=\"M 96.9 102.4 L 130.4 143.3\" id=\"9,7\" style=\"stroke-width:2.0\"></path><path d=\"M 253.1 102.4 L 219.6 143.3\" id=\"8,6\" style=\"stroke-width:2.0\"></path><path d=\"M 96.9 102.4 L 63.4 184.2\" id=\"9,5\" style=\"stroke-width:2.0\"></path><path d=\"M 130.4 143.3 L 108.0 171.9\" id=\"7,4\" style=\"stroke-width:2.0\"></path><path d=\"M 130.4 143.3 L 152.7 184.2\" id=\"7,3\" style=\"stroke-width:2.0\"></path><path d=\"M 219.6 143.3 L 197.3 184.2\" id=\"6,2\" style=\"stroke-width:12.0\"></path><path d=\"M 219.6 143.3 L 242.0 184.2\" id=\"6,1\" style=\"stroke-width:12.0\"></path><path d=\"M 253.1 102.4 L 286.6 184.2\" id=\"8,0\" style=\"stroke-width:12.0\"></path></g><g class=\"toytree-AdmixEdges\" style=\"fill:none;font-size:14px;stroke:rgba(90.6%,54.1%,76.5%,1.000);stroke-linecap:round;stroke-opacity:0.6;stroke-width:5\"><path d=\"M 286.6 184.2 L 278.2 163.7 L 141.5 163.7 L 130.4 143.3\" style=\"stroke:rgb(98.8%,55.3%,38.4%);stroke-opacity:0.7\"></path></g><g class=\"toytree-Nodes\" style=\"fill:rgb(40%,76.1%,64.7%);fill-opacity:1.0;stroke:rgb(14.9%,14.9%,14.9%);stroke-opacity:1.0;stroke-width:1\"><g id=\"node-0\" transform=\"translate(286.607,184.184)\"><circle r=\"7.5\"></circle></g><g id=\"node-1\" transform=\"translate(241.964,184.184)\"><circle r=\"7.5\"></circle></g><g id=\"node-2\" transform=\"translate(197.321,184.184)\"><circle r=\"7.5\"></circle></g><g id=\"node-3\" transform=\"translate(152.679,184.184)\"><circle r=\"7.5\"></circle></g><g id=\"node-4\" transform=\"translate(108.036,171.916)\"><circle r=\"7.5\"></circle></g><g id=\"node-5\" transform=\"translate(63.393,184.184)\"><circle r=\"7.5\"></circle></g><g id=\"node-6\" transform=\"translate(219.643,143.290)\"><circle r=\"7.5\"></circle></g><g id=\"node-7\" transform=\"translate(130.357,143.290)\"><circle r=\"7.5\"></circle></g><g id=\"node-8\" transform=\"translate(253.125,102.396)\"><circle r=\"7.5\"></circle></g><g id=\"node-9\" transform=\"translate(96.875,102.396)\"><circle r=\"7.5\"></circle></g><g id=\"node-10\" transform=\"translate(175.000,61.501)\"><circle r=\"7.5\"></circle></g></g><g class=\"toytree-NodeLabels\" style=\"fill:rgb(14.9%,14.9%,14.9%);fill-opacity:1.0;font-size:9px;stroke:none\"><g transform=\"translate(284.11,186.48)\"><text>0</text></g><g transform=\"translate(239.46,186.48)\"><text>1</text></g><g transform=\"translate(194.82,186.48)\"><text>2</text></g><g transform=\"translate(150.18,186.48)\"><text>3</text></g><g transform=\"translate(105.53,174.22)\"><text>4</text></g><g transform=\"translate(60.89,186.48)\"><text>5</text></g><g transform=\"translate(217.14,145.59)\"><text>6</text></g><g transform=\"translate(127.86,145.59)\"><text>7</text></g><g transform=\"translate(250.62,104.70)\"><text>8</text></g><g transform=\"translate(94.37,104.70)\"><text>9</text></g><g transform=\"translate(170.00,63.80)\"><text>10</text></g></g><g class=\"toytree-TipLabels\" style=\"fill:rgb(14.9%,14.9%,14.9%);fill-opacity:1.0;font-family:helvetica;font-size:11px;font-weight:normal;stroke:none;white-space:pre\"><g transform=\"translate(286.61,184.18)rotate(-90)\"><text x=\"-24.78\" y=\"2.81\" style=\"\">r0</text></g><g transform=\"translate(241.96,184.18)rotate(-90)\"><text x=\"-24.78\" y=\"2.81\" style=\"\">r1</text></g><g transform=\"translate(197.32,184.18)rotate(-90)\"><text x=\"-24.78\" y=\"2.81\" style=\"\">r2</text></g><g transform=\"translate(152.68,184.18)rotate(-90)\"><text x=\"-24.78\" y=\"2.81\" style=\"\">r3</text></g><g transform=\"translate(108.04,171.92)rotate(-90)\"><text x=\"-24.78\" y=\"2.81\" style=\"\">r4</text></g><g transform=\"translate(63.39,184.18)rotate(-90)\"><text x=\"-24.78\" y=\"2.81\" style=\"\">r5</text></g></g></g></g><g class=\"toyplot-coordinates-Axis\" id=\"t863fd7734d874c57854a3cebf39caa10\" transform=\"translate(50.0,210.0)rotate(-90.0)translate(0,-20.0)\"><line x1=\"25.81619694348465\" y1=\"0\" x2=\"148.4985311665844\" y2=\"0\" style=\"\"></line><g><line x1=\"25.81619694348465\" y1=\"0\" x2=\"25.81619694348465\" y2=\"5\" style=\"\"></line><line x1=\"87.1573640550345\" y1=\"0\" x2=\"87.1573640550345\" y2=\"5\" style=\"\"></line><line x1=\"148.4985311665844\" y1=\"0\" x2=\"148.4985311665844\" y2=\"5\" style=\"\"></line></g><g><g transform=\"translate(25.81619694348465,-6)\"><text x=\"-2.78\" y=\"-4.440892098500626e-16\" style=\"fill:rgb(16.1%,15.3%,14.1%);fill-opacity:1.0;font-family:helvetica;font-size:10.0px;font-weight:normal;stroke:none;vertical-align:baseline;white-space:pre\">0</text></g><g transform=\"translate(87.1573640550345,-6)\"><text x=\"-16.68\" y=\"-4.440892098500626e-16\" style=\"fill:rgb(16.1%,15.3%,14.1%);fill-opacity:1.0;font-family:helvetica;font-size:10.0px;font-weight:normal;stroke:none;vertical-align:baseline;white-space:pre\">500000</text></g><g transform=\"translate(148.4985311665844,-6)\"><text x=\"-19.459999999999997\" y=\"-4.440892098500626e-16\" style=\"fill:rgb(16.1%,15.3%,14.1%);fill-opacity:1.0;font-family:helvetica;font-size:10.0px;font-weight:normal;stroke:none;vertical-align:baseline;white-space:pre\">1000000</text></g></g><g class=\"toyplot-coordinates-Axis-coordinates\" style=\"visibility:hidden\" transform=\"\"><line x1=\"0\" x2=\"0\" y1=\"3.0\" y2=\"-4.5\" style=\"stroke:rgb(43.9%,50.2%,56.5%);stroke-opacity:1.0;stroke-width:1.0\"></line><text x=\"0\" y=\"6\" style=\"alignment-baseline:hanging;fill:rgb(43.9%,50.2%,56.5%);fill-opacity:1.0;font-size:10px;font-weight:normal;stroke:none;text-anchor:middle\"></text></g></g></g></svg><div class=\"toyplot-behavior\"><script>(function()\n",
       "{\n",
       "var modules={};\n",
       "modules[\"toyplot/canvas/id\"] = \"tfbe5d49b6fc14526acbff233eadb275f\";\n",
       "modules[\"toyplot/canvas\"] = (function(canvas_id)\n",
       "    {\n",
       "        return document.querySelector(\"#\" + canvas_id);\n",
       "    })(modules[\"toyplot/canvas/id\"]);\n",
       "modules[\"toyplot.coordinates.Axis\"] = (\n",
       "        function(canvas)\n",
       "        {\n",
       "            function sign(x)\n",
       "            {\n",
       "                return x < 0 ? -1 : x > 0 ? 1 : 0;\n",
       "            }\n",
       "\n",
       "            function mix(a, b, amount)\n",
       "            {\n",
       "                return ((1.0 - amount) * a) + (amount * b);\n",
       "            }\n",
       "\n",
       "            function log(x, base)\n",
       "            {\n",
       "                return Math.log(Math.abs(x)) / Math.log(base);\n",
       "            }\n",
       "\n",
       "            function in_range(a, x, b)\n",
       "            {\n",
       "                var left = Math.min(a, b);\n",
       "                var right = Math.max(a, b);\n",
       "                return left <= x && x <= right;\n",
       "            }\n",
       "\n",
       "            function inside(range, projection)\n",
       "            {\n",
       "                for(var i = 0; i != projection.length; ++i)\n",
       "                {\n",
       "                    var segment = projection[i];\n",
       "                    if(in_range(segment.range.min, range, segment.range.max))\n",
       "                        return true;\n",
       "                }\n",
       "                return false;\n",
       "            }\n",
       "\n",
       "            function to_domain(range, projection)\n",
       "            {\n",
       "                for(var i = 0; i != projection.length; ++i)\n",
       "                {\n",
       "                    var segment = projection[i];\n",
       "                    if(in_range(segment.range.bounds.min, range, segment.range.bounds.max))\n",
       "                    {\n",
       "                        if(segment.scale == \"linear\")\n",
       "                        {\n",
       "                            var amount = (range - segment.range.min) / (segment.range.max - segment.range.min);\n",
       "                            return mix(segment.domain.min, segment.domain.max, amount)\n",
       "                        }\n",
       "                        else if(segment.scale[0] == \"log\")\n",
       "                        {\n",
       "                            var amount = (range - segment.range.min) / (segment.range.max - segment.range.min);\n",
       "                            var base = segment.scale[1];\n",
       "                            return sign(segment.domain.min) * Math.pow(base, mix(log(segment.domain.min, base), log(segment.domain.max, base), amount));\n",
       "                        }\n",
       "                    }\n",
       "                }\n",
       "            }\n",
       "\n",
       "            var axes = {};\n",
       "\n",
       "            function display_coordinates(e)\n",
       "            {\n",
       "                var current = canvas.createSVGPoint();\n",
       "                current.x = e.clientX;\n",
       "                current.y = e.clientY;\n",
       "\n",
       "                for(var axis_id in axes)\n",
       "                {\n",
       "                    var axis = document.querySelector(\"#\" + axis_id);\n",
       "                    var coordinates = axis.querySelector(\".toyplot-coordinates-Axis-coordinates\");\n",
       "                    if(coordinates)\n",
       "                    {\n",
       "                        var projection = axes[axis_id];\n",
       "                        var local = current.matrixTransform(axis.getScreenCTM().inverse());\n",
       "                        if(inside(local.x, projection))\n",
       "                        {\n",
       "                            var domain = to_domain(local.x, projection);\n",
       "                            coordinates.style.visibility = \"visible\";\n",
       "                            coordinates.setAttribute(\"transform\", \"translate(\" + local.x + \")\");\n",
       "                            var text = coordinates.querySelector(\"text\");\n",
       "                            text.textContent = domain.toFixed(2);\n",
       "                        }\n",
       "                        else\n",
       "                        {\n",
       "                            coordinates.style.visibility= \"hidden\";\n",
       "                        }\n",
       "                    }\n",
       "                }\n",
       "            }\n",
       "\n",
       "            canvas.addEventListener(\"click\", display_coordinates);\n",
       "\n",
       "            var module = {};\n",
       "            module.show_coordinates = function(axis_id, projection)\n",
       "            {\n",
       "                axes[axis_id] = projection;\n",
       "            }\n",
       "\n",
       "            return module;\n",
       "        })(modules[\"toyplot/canvas\"]);\n",
       "(function(axis, axis_id, projection)\n",
       "        {\n",
       "            axis.show_coordinates(axis_id, projection);\n",
       "        })(modules[\"toyplot.coordinates.Axis\"],\"t863fd7734d874c57854a3cebf39caa10\",[{\"domain\": {\"bounds\": {\"max\": Infinity, \"min\": -Infinity}, \"max\": 1093750.0, \"min\": -210431.2499999999}, \"range\": {\"bounds\": {\"max\": Infinity, \"min\": -Infinity}, \"max\": 160.0, \"min\": 0.0}, \"scale\": \"linear\"}]);\n",
       "})();</script></div></div>"
      ]
     },
     "metadata": {},
     "output_type": "display_data"
    }
   ],
   "source": [
    "tree = toytree.rtree.unittree(6, treeheight=1e6, seed=333)\n",
    "tree = tree.set_node_values(\"Ne\", {2: 5e5, 1: 5e5, 0: 5e5}, 1e4)\n",
    "tree = tree.mod.set_node_heights({4: 100000})\n",
    "tree.draw(ts='p', admixture_edges=(0, 3, 0.5));"
   ]
  },
  {
   "cell_type": "code",
   "execution_count": 20,
   "id": "identical-bundle",
   "metadata": {},
   "outputs": [],
   "source": [
    "mod = ipcoal.Model(tree=tree, admixture_edges=[(0, 4, (100001, 100002), 0.1)])\n",
    "#mod.debug_demography()"
   ]
  },
  {
   "cell_type": "code",
   "execution_count": 21,
   "id": "apparent-composer",
   "metadata": {},
   "outputs": [],
   "source": [
    "mod.sim_loci(1, 10)"
   ]
  },
  {
   "cell_type": "code",
   "execution_count": 3,
   "id": "emotional-credits",
   "metadata": {},
   "outputs": [],
   "source": [
    "# tree = toytree.tree(\"((A:2,B:2):2,(C:1,D:1):3):1;\")\n",
    "# tree = tree.mod.node_scale_root_height(5e6)\n",
    "# tree = tree.set_node_values(\"Ne\", {\"A\": 1e5, \"B\": 1e6}, default=1e6)"
   ]
  },
  {
   "cell_type": "code",
   "execution_count": 4,
   "id": "representative-florence",
   "metadata": {},
   "outputs": [],
   "source": [
    "# tree = toytree.rtree.bdtree(ntips = 10, seed=333)\n",
    "# tree = tree.mod.node_scale_root_height(5e6)\n",
    "# tree = tree.set_node_values(\"Ne\", default=5e5)\n",
    "# tree.write(\"/tmp/test.nwk\", tree_format=5)"
   ]
  },
  {
   "cell_type": "code",
   "execution_count": 5,
   "id": "demanding-attempt",
   "metadata": {},
   "outputs": [],
   "source": [
    "tree = toytree.rtree.bdtree(ntips=12, seed=333)\n",
    "tree = tree.mod.node_scale_root_height(5e6)\n",
    "#tree = tree.mod.set_node_heights({7: 3e6, 6: 2e6, 5: 1e6})\n",
    "tree.write(\"/tmp/test.nwk\", tree_format=5)"
   ]
  },
  {
   "cell_type": "code",
   "execution_count": 6,
   "id": "recreational-distribution",
   "metadata": {
    "scrolled": true
   },
   "outputs": [
    {
     "data": {
      "text/html": [
       "<div class=\"toyplot\" id=\"t27faa965370d48a4b80bf04333a5ae70\" style=\"text-align:center\"><svg class=\"toyplot-canvas-Canvas\" xmlns:toyplot=\"http://www.sandia.gov/toyplot\" xmlns:xlink=\"http://www.w3.org/1999/xlink\" xmlns=\"http://www.w3.org/2000/svg\" width=\"350.0px\" height=\"265.0px\" viewBox=\"0 0 350.0 265.0\" preserveAspectRatio=\"xMidYMid meet\" style=\"background-color:transparent;border-color:#292724;border-style:none;border-width:1.0;fill:rgb(16.1%,15.3%,14.1%);fill-opacity:1.0;font-family:Helvetica;font-size:12px;opacity:1.0;stroke:rgb(16.1%,15.3%,14.1%);stroke-opacity:1.0;stroke-width:1.0\" id=\"t1cb7343975e84703934066e928176b2d\"><g class=\"toyplot-coordinates-Cartesian\" id=\"t97a3dc6ba15d4f03a4e817fd5727bce7\"><clipPath id=\"tb9fdd0cb94e8450ebb45c4539f4af66c\"><rect x=\"30.0\" y=\"30.0\" width=\"290.0\" height=\"205.0\"></rect></clipPath><g clip-path=\"url(#tb9fdd0cb94e8450ebb45c4539f4af66c)\"><g class=\"toytree-mark-Toytree\" id=\"t17078eba60f24d9ebdf1d22bde85fcbb\"><g class=\"toytree-Edges\" style=\"fill:none;stroke:rgb(14.9%,14.9%,14.9%);stroke-linecap:round;stroke-opacity:1;stroke-width:2\"><path d=\"M 124.6 61.0 L 78.6 124.9\" id=\"22,21\"></path><path d=\"M 124.6 61.0 L 170.6 104.1\" id=\"22,20\"></path><path d=\"M 78.6 124.9 L 93.8 133.9\" id=\"21,19\"></path><path d=\"M 170.6 104.1 L 134.4 146.2\" id=\"20,18\"></path><path d=\"M 170.6 104.1 L 206.7 149.0\" id=\"20,17\"></path><path d=\"M 206.7 149.0 L 175.0 152.9\" id=\"17,16\"></path><path d=\"M 206.7 149.0 L 238.4 162.8\" id=\"17,15\"></path><path d=\"M 238.4 162.8 L 215.6 176.1\" id=\"15,14\"></path><path d=\"M 238.4 162.8 L 261.2 178.1\" id=\"15,13\"></path><path d=\"M 261.2 178.1 L 276.5 181.3\" id=\"13,12\"></path><path d=\"M 78.6 124.9 L 63.4 181.8\" id=\"21,11\"></path><path d=\"M 93.8 133.9 L 83.7 181.8\" id=\"19,10\"></path><path d=\"M 93.8 133.9 L 104.0 181.8\" id=\"19,9\"></path><path d=\"M 134.4 146.2 L 124.3 181.8\" id=\"18,8\"></path><path d=\"M 134.4 146.2 L 144.6 181.8\" id=\"18,7\"></path><path d=\"M 175.0 152.9 L 164.9 181.8\" id=\"16,6\"></path><path d=\"M 175.0 152.9 L 185.1 181.8\" id=\"16,5\"></path><path d=\"M 215.6 176.1 L 205.4 181.8\" id=\"14,4\"></path><path d=\"M 215.6 176.1 L 225.7 181.8\" id=\"14,3\"></path><path d=\"M 261.2 178.1 L 246.0 181.8\" id=\"13,2\"></path><path d=\"M 276.5 181.3 L 266.3 181.8\" id=\"12,1\"></path><path d=\"M 276.5 181.3 L 286.6 181.8\" id=\"12,0\"></path></g><g class=\"toytree-Nodes\" style=\"fill:rgb(40%,76.1%,64.7%);fill-opacity:1.0;stroke:rgb(14.9%,14.9%,14.9%);stroke-opacity:1.0;stroke-width:1\"><g id=\"node-0\" transform=\"translate(286.607,181.798)\"><circle r=\"7.5\"></circle></g><g id=\"node-1\" transform=\"translate(266.315,181.798)\"><circle r=\"7.5\"></circle></g><g id=\"node-2\" transform=\"translate(246.023,181.798)\"><circle r=\"7.5\"></circle></g><g id=\"node-3\" transform=\"translate(225.731,181.798)\"><circle r=\"7.5\"></circle></g><g id=\"node-4\" transform=\"translate(205.438,181.798)\"><circle r=\"7.5\"></circle></g><g id=\"node-5\" transform=\"translate(185.146,181.798)\"><circle r=\"7.5\"></circle></g><g id=\"node-6\" transform=\"translate(164.854,181.798)\"><circle r=\"7.5\"></circle></g><g id=\"node-7\" transform=\"translate(144.562,181.798)\"><circle r=\"7.5\"></circle></g><g id=\"node-8\" transform=\"translate(124.269,181.798)\"><circle r=\"7.5\"></circle></g><g id=\"node-9\" transform=\"translate(103.977,181.798)\"><circle r=\"7.5\"></circle></g><g id=\"node-10\" transform=\"translate(83.685,181.798)\"><circle r=\"7.5\"></circle></g><g id=\"node-11\" transform=\"translate(63.393,181.798)\"><circle r=\"7.5\"></circle></g><g id=\"node-12\" transform=\"translate(276.461,181.267)\"><circle r=\"7.5\"></circle></g><g id=\"node-13\" transform=\"translate(261.242,178.108)\"><circle r=\"7.5\"></circle></g><g id=\"node-14\" transform=\"translate(215.584,176.123)\"><circle r=\"7.5\"></circle></g><g id=\"node-15\" transform=\"translate(238.413,162.765)\"><circle r=\"7.5\"></circle></g><g id=\"node-16\" transform=\"translate(175.000,152.923)\"><circle r=\"7.5\"></circle></g><g id=\"node-17\" transform=\"translate(206.707,148.959)\"><circle r=\"7.5\"></circle></g><g id=\"node-18\" transform=\"translate(134.416,146.188)\"><circle r=\"7.5\"></circle></g><g id=\"node-19\" transform=\"translate(93.831,133.931)\"><circle r=\"7.5\"></circle></g><g id=\"node-20\" transform=\"translate(170.561,104.070)\"><circle r=\"7.5\"></circle></g><g id=\"node-21\" transform=\"translate(78.612,124.924)\"><circle r=\"7.5\"></circle></g><g id=\"node-22\" transform=\"translate(124.587,60.983)\"><circle r=\"7.5\"></circle></g></g><g class=\"toytree-NodeLabels\" style=\"fill:rgb(14.9%,14.9%,14.9%);fill-opacity:1.0;font-size:9px;stroke:none\"><g transform=\"translate(284.11,184.10)\"><text>0</text></g><g transform=\"translate(263.81,184.10)\"><text>1</text></g><g transform=\"translate(243.52,184.10)\"><text>2</text></g><g transform=\"translate(223.23,184.10)\"><text>3</text></g><g transform=\"translate(202.94,184.10)\"><text>4</text></g><g transform=\"translate(182.64,184.10)\"><text>5</text></g><g transform=\"translate(162.35,184.10)\"><text>6</text></g><g transform=\"translate(142.06,184.10)\"><text>7</text></g><g transform=\"translate(121.77,184.10)\"><text>8</text></g><g transform=\"translate(101.48,184.10)\"><text>9</text></g><g transform=\"translate(78.68,184.10)\"><text>10</text></g><g transform=\"translate(58.39,184.10)\"><text>11</text></g><g transform=\"translate(271.46,183.57)\"><text>12</text></g><g transform=\"translate(256.24,180.41)\"><text>13</text></g><g transform=\"translate(210.58,178.42)\"><text>14</text></g><g transform=\"translate(233.41,165.06)\"><text>15</text></g><g transform=\"translate(170.00,155.22)\"><text>16</text></g><g transform=\"translate(201.70,151.26)\"><text>17</text></g><g transform=\"translate(129.41,148.49)\"><text>18</text></g><g transform=\"translate(88.83,136.23)\"><text>19</text></g><g transform=\"translate(165.56,106.37)\"><text>20</text></g><g transform=\"translate(73.61,127.22)\"><text>21</text></g><g transform=\"translate(119.58,63.28)\"><text>22</text></g></g><g class=\"toytree-TipLabels\" style=\"fill:rgb(14.9%,14.9%,14.9%);fill-opacity:1.0;font-family:helvetica;font-size:11px;font-weight:normal;stroke:none;white-space:pre\"><g transform=\"translate(286.61,181.80)rotate(-90)\"><text x=\"-24.78\" y=\"2.81\" style=\"\">r0</text></g><g transform=\"translate(266.31,181.80)rotate(-90)\"><text x=\"-24.78\" y=\"2.81\" style=\"\">r1</text></g><g transform=\"translate(246.02,181.80)rotate(-90)\"><text x=\"-24.78\" y=\"2.81\" style=\"\">r2</text></g><g transform=\"translate(225.73,181.80)rotate(-90)\"><text x=\"-24.78\" y=\"2.81\" style=\"\">r3</text></g><g transform=\"translate(205.44,181.80)rotate(-90)\"><text x=\"-24.78\" y=\"2.81\" style=\"\">r4</text></g><g transform=\"translate(185.15,181.80)rotate(-90)\"><text x=\"-24.78\" y=\"2.81\" style=\"\">r5</text></g><g transform=\"translate(164.85,181.80)rotate(-90)\"><text x=\"-24.78\" y=\"2.81\" style=\"\">r6</text></g><g transform=\"translate(144.56,181.80)rotate(-90)\"><text x=\"-24.78\" y=\"2.81\" style=\"\">r7</text></g><g transform=\"translate(124.27,181.80)rotate(-90)\"><text x=\"-24.78\" y=\"2.81\" style=\"\">r8</text></g><g transform=\"translate(103.98,181.80)rotate(-90)\"><text x=\"-24.78\" y=\"2.81\" style=\"\">r9</text></g><g transform=\"translate(83.69,181.80)rotate(-90)\"><text x=\"-30.90\" y=\"2.81\" style=\"\">r10</text></g><g transform=\"translate(63.39,181.80)rotate(-90)\"><text x=\"-30.90\" y=\"2.81\" style=\"\">r11</text></g></g></g></g><g class=\"toyplot-coordinates-Axis\" id=\"t697ea642adbe46c6b501f77be1ba755e\" transform=\"translate(50.0,215.0)rotate(-90.0)translate(0,-20.0)\"><line x1=\"33.2020901284697\" y1=\"0\" x2=\"154.01684084403914\" y2=\"0\" style=\"\"></line><g><line x1=\"33.2020901284697\" y1=\"0\" x2=\"33.2020901284697\" y2=\"5\" style=\"\"></line><line x1=\"93.60946548625441\" y1=\"0\" x2=\"93.60946548625441\" y2=\"5\" style=\"\"></line><line x1=\"154.01684084403914\" y1=\"0\" x2=\"154.01684084403914\" y2=\"5\" style=\"\"></line></g><g><g transform=\"translate(33.2020901284697,-6)\"><text x=\"-2.78\" y=\"-4.440892098500626e-16\" style=\"fill:rgb(16.1%,15.3%,14.1%);fill-opacity:1.0;font-family:helvetica;font-size:10.0px;font-weight:normal;stroke:none;vertical-align:baseline;white-space:pre\">0</text></g><g transform=\"translate(93.60946548625441,-6)\"><text x=\"-19.459999999999997\" y=\"-4.440892098500626e-16\" style=\"fill:rgb(16.1%,15.3%,14.1%);fill-opacity:1.0;font-family:helvetica;font-size:10.0px;font-weight:normal;stroke:none;vertical-align:baseline;white-space:pre\">2500000</text></g><g transform=\"translate(154.01684084403914,-6)\"><text x=\"-19.459999999999997\" y=\"-4.440892098500626e-16\" style=\"fill:rgb(16.1%,15.3%,14.1%);fill-opacity:1.0;font-family:helvetica;font-size:10.0px;font-weight:normal;stroke:none;vertical-align:baseline;white-space:pre\">5000000</text></g></g><g class=\"toyplot-coordinates-Axis-coordinates\" style=\"visibility:hidden\" transform=\"\"><line x1=\"0\" x2=\"0\" y1=\"3.0\" y2=\"-4.5\" style=\"stroke:rgb(43.9%,50.2%,56.5%);stroke-opacity:1.0;stroke-width:1.0\"></line><text x=\"0\" y=\"6\" style=\"alignment-baseline:hanging;fill:rgb(43.9%,50.2%,56.5%);fill-opacity:1.0;font-size:10px;font-weight:normal;stroke:none;text-anchor:middle\"></text></g></g></g></svg><div class=\"toyplot-behavior\"><script>(function()\n",
       "{\n",
       "var modules={};\n",
       "modules[\"toyplot/canvas/id\"] = \"t1cb7343975e84703934066e928176b2d\";\n",
       "modules[\"toyplot/canvas\"] = (function(canvas_id)\n",
       "    {\n",
       "        return document.querySelector(\"#\" + canvas_id);\n",
       "    })(modules[\"toyplot/canvas/id\"]);\n",
       "modules[\"toyplot.coordinates.Axis\"] = (\n",
       "        function(canvas)\n",
       "        {\n",
       "            function sign(x)\n",
       "            {\n",
       "                return x < 0 ? -1 : x > 0 ? 1 : 0;\n",
       "            }\n",
       "\n",
       "            function mix(a, b, amount)\n",
       "            {\n",
       "                return ((1.0 - amount) * a) + (amount * b);\n",
       "            }\n",
       "\n",
       "            function log(x, base)\n",
       "            {\n",
       "                return Math.log(Math.abs(x)) / Math.log(base);\n",
       "            }\n",
       "\n",
       "            function in_range(a, x, b)\n",
       "            {\n",
       "                var left = Math.min(a, b);\n",
       "                var right = Math.max(a, b);\n",
       "                return left <= x && x <= right;\n",
       "            }\n",
       "\n",
       "            function inside(range, projection)\n",
       "            {\n",
       "                for(var i = 0; i != projection.length; ++i)\n",
       "                {\n",
       "                    var segment = projection[i];\n",
       "                    if(in_range(segment.range.min, range, segment.range.max))\n",
       "                        return true;\n",
       "                }\n",
       "                return false;\n",
       "            }\n",
       "\n",
       "            function to_domain(range, projection)\n",
       "            {\n",
       "                for(var i = 0; i != projection.length; ++i)\n",
       "                {\n",
       "                    var segment = projection[i];\n",
       "                    if(in_range(segment.range.bounds.min, range, segment.range.bounds.max))\n",
       "                    {\n",
       "                        if(segment.scale == \"linear\")\n",
       "                        {\n",
       "                            var amount = (range - segment.range.min) / (segment.range.max - segment.range.min);\n",
       "                            return mix(segment.domain.min, segment.domain.max, amount)\n",
       "                        }\n",
       "                        else if(segment.scale[0] == \"log\")\n",
       "                        {\n",
       "                            var amount = (range - segment.range.min) / (segment.range.max - segment.range.min);\n",
       "                            var base = segment.scale[1];\n",
       "                            return sign(segment.domain.min) * Math.pow(base, mix(log(segment.domain.min, base), log(segment.domain.max, base), amount));\n",
       "                        }\n",
       "                    }\n",
       "                }\n",
       "            }\n",
       "\n",
       "            var axes = {};\n",
       "\n",
       "            function display_coordinates(e)\n",
       "            {\n",
       "                var current = canvas.createSVGPoint();\n",
       "                current.x = e.clientX;\n",
       "                current.y = e.clientY;\n",
       "\n",
       "                for(var axis_id in axes)\n",
       "                {\n",
       "                    var axis = document.querySelector(\"#\" + axis_id);\n",
       "                    var coordinates = axis.querySelector(\".toyplot-coordinates-Axis-coordinates\");\n",
       "                    if(coordinates)\n",
       "                    {\n",
       "                        var projection = axes[axis_id];\n",
       "                        var local = current.matrixTransform(axis.getScreenCTM().inverse());\n",
       "                        if(inside(local.x, projection))\n",
       "                        {\n",
       "                            var domain = to_domain(local.x, projection);\n",
       "                            coordinates.style.visibility = \"visible\";\n",
       "                            coordinates.setAttribute(\"transform\", \"translate(\" + local.x + \")\");\n",
       "                            var text = coordinates.querySelector(\"text\");\n",
       "                            text.textContent = domain.toFixed(2);\n",
       "                        }\n",
       "                        else\n",
       "                        {\n",
       "                            coordinates.style.visibility= \"hidden\";\n",
       "                        }\n",
       "                    }\n",
       "                }\n",
       "            }\n",
       "\n",
       "            canvas.addEventListener(\"click\", display_coordinates);\n",
       "\n",
       "            var module = {};\n",
       "            module.show_coordinates = function(axis_id, projection)\n",
       "            {\n",
       "                axes[axis_id] = projection;\n",
       "            }\n",
       "\n",
       "            return module;\n",
       "        })(modules[\"toyplot/canvas\"]);\n",
       "(function(axis, axis_id, projection)\n",
       "        {\n",
       "            axis.show_coordinates(axis_id, projection);\n",
       "        })(modules[\"toyplot.coordinates.Axis\"],\"t697ea642adbe46c6b501f77be1ba755e\",[{\"domain\": {\"bounds\": {\"max\": Infinity, \"min\": -Infinity}, \"max\": 5454545.454545453, \"min\": -1374090.9090909096}, \"range\": {\"bounds\": {\"max\": Infinity, \"min\": -Infinity}, \"max\": 165.0, \"min\": 0.0}, \"scale\": \"linear\"}]);\n",
       "})();</script></div></div>"
      ]
     },
     "metadata": {},
     "output_type": "display_data"
    }
   ],
   "source": [
    "tree.draw(ts='p', scalebar=True);#, admixture_edges=[(1, 2), (4, 2)]);"
   ]
  },
  {
   "cell_type": "markdown",
   "id": "alert-pricing",
   "metadata": {},
   "source": [
    "### Sim for parameter check"
   ]
  },
  {
   "cell_type": "code",
   "execution_count": 7,
   "id": "spiritual-threat",
   "metadata": {},
   "outputs": [],
   "source": [
    "mod = ipcoal.Model(\n",
    "    tree=tree, \n",
    "    nsamples=8,\n",
    "    Ne=5e5,\n",
    "    mut=2.5e-9,\n",
    "    recomb=1e-9,\n",
    "    seed_mutations=10,\n",
    "    seed_trees=12,\n",
    ")"
   ]
  },
  {
   "cell_type": "code",
   "execution_count": 8,
   "id": "outer-publisher",
   "metadata": {},
   "outputs": [],
   "source": [
    "ts = next(mod.get_tree_sequence_generator(nsites=2e6))\n",
    "mts = ms.sim_mutations(ts, rate=2.5e-9, model=\"jc69\")"
   ]
  },
  {
   "cell_type": "markdown",
   "id": "martial-modern",
   "metadata": {},
   "source": [
    "### True parameters\n",
    "theta (diversity) is 0.005 and tau (divergence) from root to tips is 0.015."
   ]
  },
  {
   "cell_type": "code",
   "execution_count": 9,
   "id": "abstract-corner",
   "metadata": {},
   "outputs": [
    {
     "data": {
      "text/plain": [
       "array(0.00486029)"
      ]
     },
     "execution_count": 9,
     "metadata": {},
     "output_type": "execute_result"
    }
   ],
   "source": [
    "mts.diversity(range(8))"
   ]
  },
  {
   "cell_type": "code",
   "execution_count": 10,
   "id": "possible-spice",
   "metadata": {},
   "outputs": [
    {
     "data": {
      "text/plain": [
       "0.014733218749998863"
      ]
     },
     "execution_count": 10,
     "metadata": {},
     "output_type": "execute_result"
    }
   ],
   "source": [
    "mts.divergence([range(8, 16), range(24, 30)], mode=\"site\") / 2"
   ]
  },
  {
   "cell_type": "markdown",
   "id": "initial-knock",
   "metadata": {},
   "source": [
    "### Sim for testing in BPP"
   ]
  },
  {
   "cell_type": "code",
   "execution_count": 11,
   "id": "polished-transcription",
   "metadata": {},
   "outputs": [
    {
     "data": {
      "text/plain": [
       "array([5.00000000e+06, 2.35377164e+06, 3.21683251e+06, 1.98099582e+06,\n",
       "       1.47372567e+06, 1.35904610e+06, 1.19501776e+06, 7.87670482e+05,\n",
       "       2.34870424e+05, 1.52724321e+05, 2.19907509e+04, 0.00000000e+00,\n",
       "       0.00000000e+00, 0.00000000e+00, 9.31322575e-10, 9.31322575e-10,\n",
       "       0.00000000e+00, 0.00000000e+00, 0.00000000e+00, 0.00000000e+00,\n",
       "       0.00000000e+00, 0.00000000e+00, 0.00000000e+00])"
      ]
     },
     "execution_count": 11,
     "metadata": {},
     "output_type": "execute_result"
    }
   ],
   "source": [
    "tree.get_node_values(\"height\")"
   ]
  },
  {
   "cell_type": "code",
   "execution_count": 29,
   "id": "compliant-trailer",
   "metadata": {},
   "outputs": [
    {
     "name": "stdout",
     "output_type": "stream",
     "text": [
      "wrote concat locus (16 x 300000bp) to /tmp/test.phy\n"
     ]
    },
    {
     "data": {
      "text/html": [
       "<div class=\"toyplot\" id=\"tea8b92f9e5a74bf48cdc287b181424e0\" style=\"text-align:center\"><svg class=\"toyplot-canvas-Canvas\" xmlns:toyplot=\"http://www.sandia.gov/toyplot\" xmlns:xlink=\"http://www.w3.org/1999/xlink\" xmlns=\"http://www.w3.org/2000/svg\" width=\"350.0px\" height=\"265.0px\" viewBox=\"0 0 350.0 265.0\" preserveAspectRatio=\"xMidYMid meet\" style=\"background-color:transparent;border-color:#292724;border-style:none;border-width:1.0;fill:rgb(16.1%,15.3%,14.1%);fill-opacity:1.0;font-family:Helvetica;font-size:12px;opacity:1.0;stroke:rgb(16.1%,15.3%,14.1%);stroke-opacity:1.0;stroke-width:1.0\" id=\"t89aa6f1de1d2469ebf9203f3b20ccdcf\"><g class=\"toyplot-coordinates-Cartesian\" id=\"ta5c0b433eacb4fe688c6c04362f84cf0\"><clipPath id=\"td248539a0ec24ec0b8efda09e762171e\"><rect x=\"30.0\" y=\"30.0\" width=\"290.0\" height=\"205.0\"></rect></clipPath><g clip-path=\"url(#td248539a0ec24ec0b8efda09e762171e)\"><g class=\"toytree-mark-Toytree\" id=\"te8717905cd0440a29e7e9a0ea0bc4b7f\"><g class=\"toytree-Edges\" style=\"fill:none;stroke:rgb(14.9%,14.9%,14.9%);stroke-linecap:round;stroke-opacity:1;stroke-width:2\"><path d=\"M 175.0 61.0 L 115.5 91.2\" id=\"30,29\"></path><path d=\"M 175.0 61.0 L 234.5 91.2\" id=\"30,28\"></path><path d=\"M 115.5 91.2 L 85.7 121.4\" id=\"29,27\"></path><path d=\"M 115.5 91.2 L 145.2 121.4\" id=\"29,26\"></path><path d=\"M 234.5 91.2 L 204.8 121.4\" id=\"28,25\"></path><path d=\"M 234.5 91.2 L 264.3 121.4\" id=\"28,24\"></path><path d=\"M 85.7 121.4 L 70.8 151.6\" id=\"27,23\"></path><path d=\"M 85.7 121.4 L 100.6 151.6\" id=\"27,22\"></path><path d=\"M 145.2 121.4 L 130.4 151.6\" id=\"26,21\"></path><path d=\"M 145.2 121.4 L 160.1 151.6\" id=\"26,20\"></path><path d=\"M 204.8 121.4 L 189.9 151.6\" id=\"25,19\"></path><path d=\"M 204.8 121.4 L 219.6 151.6\" id=\"25,18\"></path><path d=\"M 264.3 121.4 L 249.4 151.6\" id=\"24,17\"></path><path d=\"M 264.3 121.4 L 279.2 151.6\" id=\"24,16\"></path><path d=\"M 70.8 151.6 L 63.4 181.8\" id=\"23,15\"></path><path d=\"M 70.8 151.6 L 78.3 181.8\" id=\"23,14\"></path><path d=\"M 100.6 151.6 L 93.2 181.8\" id=\"22,13\"></path><path d=\"M 100.6 151.6 L 108.0 181.8\" id=\"22,12\"></path><path d=\"M 130.4 151.6 L 122.9 181.8\" id=\"21,11\"></path><path d=\"M 130.4 151.6 L 137.8 181.8\" id=\"21,10\"></path><path d=\"M 160.1 151.6 L 152.7 181.8\" id=\"20,9\"></path><path d=\"M 160.1 151.6 L 167.6 181.8\" id=\"20,8\"></path><path d=\"M 189.9 151.6 L 182.4 181.8\" id=\"19,7\"></path><path d=\"M 189.9 151.6 L 197.3 181.8\" id=\"19,6\"></path><path d=\"M 219.6 151.6 L 212.2 181.8\" id=\"18,5\"></path><path d=\"M 219.6 151.6 L 227.1 181.8\" id=\"18,4\"></path><path d=\"M 249.4 151.6 L 242.0 181.8\" id=\"17,3\"></path><path d=\"M 249.4 151.6 L 256.8 181.8\" id=\"17,2\"></path><path d=\"M 279.2 151.6 L 271.7 181.8\" id=\"16,1\"></path><path d=\"M 279.2 151.6 L 286.6 181.8\" id=\"16,0\"></path></g><g class=\"toytree-Nodes\" style=\"fill:rgb(40%,76.1%,64.7%);fill-opacity:1.0;stroke:rgb(14.9%,14.9%,14.9%);stroke-opacity:1.0;stroke-width:1\"><g id=\"node-0\" transform=\"translate(286.607,181.798)\"><circle r=\"7.5\"></circle></g><g id=\"node-1\" transform=\"translate(271.726,181.798)\"><circle r=\"7.5\"></circle></g><g id=\"node-2\" transform=\"translate(256.845,181.798)\"><circle r=\"7.5\"></circle></g><g id=\"node-3\" transform=\"translate(241.964,181.798)\"><circle r=\"7.5\"></circle></g><g id=\"node-4\" transform=\"translate(227.083,181.798)\"><circle r=\"7.5\"></circle></g><g id=\"node-5\" transform=\"translate(212.202,181.798)\"><circle r=\"7.5\"></circle></g><g id=\"node-6\" transform=\"translate(197.321,181.798)\"><circle r=\"7.5\"></circle></g><g id=\"node-7\" transform=\"translate(182.440,181.798)\"><circle r=\"7.5\"></circle></g><g id=\"node-8\" transform=\"translate(167.560,181.798)\"><circle r=\"7.5\"></circle></g><g id=\"node-9\" transform=\"translate(152.679,181.798)\"><circle r=\"7.5\"></circle></g><g id=\"node-10\" transform=\"translate(137.798,181.798)\"><circle r=\"7.5\"></circle></g><g id=\"node-11\" transform=\"translate(122.917,181.798)\"><circle r=\"7.5\"></circle></g><g id=\"node-12\" transform=\"translate(108.036,181.798)\"><circle r=\"7.5\"></circle></g><g id=\"node-13\" transform=\"translate(93.155,181.798)\"><circle r=\"7.5\"></circle></g><g id=\"node-14\" transform=\"translate(78.274,181.798)\"><circle r=\"7.5\"></circle></g><g id=\"node-15\" transform=\"translate(63.393,181.798)\"><circle r=\"7.5\"></circle></g><g id=\"node-16\" transform=\"translate(279.167,151.594)\"><circle r=\"7.5\"></circle></g><g id=\"node-17\" transform=\"translate(249.405,151.594)\"><circle r=\"7.5\"></circle></g><g id=\"node-18\" transform=\"translate(219.643,151.594)\"><circle r=\"7.5\"></circle></g><g id=\"node-19\" transform=\"translate(189.881,151.594)\"><circle r=\"7.5\"></circle></g><g id=\"node-20\" transform=\"translate(160.119,151.594)\"><circle r=\"7.5\"></circle></g><g id=\"node-21\" transform=\"translate(130.357,151.594)\"><circle r=\"7.5\"></circle></g><g id=\"node-22\" transform=\"translate(100.595,151.594)\"><circle r=\"7.5\"></circle></g><g id=\"node-23\" transform=\"translate(70.833,151.594)\"><circle r=\"7.5\"></circle></g><g id=\"node-24\" transform=\"translate(264.286,121.391)\"><circle r=\"7.5\"></circle></g><g id=\"node-25\" transform=\"translate(204.762,121.391)\"><circle r=\"7.5\"></circle></g><g id=\"node-26\" transform=\"translate(145.238,121.391)\"><circle r=\"7.5\"></circle></g><g id=\"node-27\" transform=\"translate(85.714,121.391)\"><circle r=\"7.5\"></circle></g><g id=\"node-28\" transform=\"translate(234.524,91.187)\"><circle r=\"7.5\"></circle></g><g id=\"node-29\" transform=\"translate(115.476,91.187)\"><circle r=\"7.5\"></circle></g><g id=\"node-30\" transform=\"translate(175.000,60.983)\"><circle r=\"7.5\"></circle></g></g><g class=\"toytree-NodeLabels\" style=\"fill:rgb(14.9%,14.9%,14.9%);fill-opacity:1.0;font-size:9px;stroke:none\"><g transform=\"translate(284.11,184.10)\"><text>0</text></g><g transform=\"translate(269.22,184.10)\"><text>1</text></g><g transform=\"translate(254.34,184.10)\"><text>2</text></g><g transform=\"translate(239.46,184.10)\"><text>3</text></g><g transform=\"translate(224.58,184.10)\"><text>4</text></g><g transform=\"translate(209.70,184.10)\"><text>5</text></g><g transform=\"translate(194.82,184.10)\"><text>6</text></g><g transform=\"translate(179.94,184.10)\"><text>7</text></g><g transform=\"translate(165.06,184.10)\"><text>8</text></g><g transform=\"translate(150.18,184.10)\"><text>9</text></g><g transform=\"translate(132.79,184.10)\"><text>10</text></g><g transform=\"translate(117.91,184.10)\"><text>11</text></g><g transform=\"translate(103.03,184.10)\"><text>12</text></g><g transform=\"translate(88.15,184.10)\"><text>13</text></g><g transform=\"translate(73.27,184.10)\"><text>14</text></g><g transform=\"translate(58.39,184.10)\"><text>15</text></g><g transform=\"translate(274.16,153.89)\"><text>16</text></g><g transform=\"translate(244.40,153.89)\"><text>17</text></g><g transform=\"translate(214.64,153.89)\"><text>18</text></g><g transform=\"translate(184.88,153.89)\"><text>19</text></g><g transform=\"translate(155.12,153.89)\"><text>20</text></g><g transform=\"translate(125.35,153.89)\"><text>21</text></g><g transform=\"translate(95.59,153.89)\"><text>22</text></g><g transform=\"translate(65.83,153.89)\"><text>23</text></g><g transform=\"translate(259.28,123.69)\"><text>24</text></g><g transform=\"translate(199.76,123.69)\"><text>25</text></g><g transform=\"translate(140.23,123.69)\"><text>26</text></g><g transform=\"translate(80.71,123.69)\"><text>27</text></g><g transform=\"translate(229.52,93.49)\"><text>28</text></g><g transform=\"translate(110.47,93.49)\"><text>29</text></g><g transform=\"translate(170.00,63.28)\"><text>30</text></g></g><g class=\"toytree-TipLabels\" style=\"fill:rgb(14.9%,14.9%,14.9%);fill-opacity:1.0;font-family:helvetica;font-size:11px;font-weight:normal;stroke:none;white-space:pre\"><g transform=\"translate(286.61,181.80)rotate(-90)\"><text x=\"-24.78\" y=\"2.81\" style=\"\">r0</text></g><g transform=\"translate(271.73,181.80)rotate(-90)\"><text x=\"-24.78\" y=\"2.81\" style=\"\">r1</text></g><g transform=\"translate(256.85,181.80)rotate(-90)\"><text x=\"-24.78\" y=\"2.81\" style=\"\">r2</text></g><g transform=\"translate(241.96,181.80)rotate(-90)\"><text x=\"-24.78\" y=\"2.81\" style=\"\">r3</text></g><g transform=\"translate(227.08,181.80)rotate(-90)\"><text x=\"-24.78\" y=\"2.81\" style=\"\">r4</text></g><g transform=\"translate(212.20,181.80)rotate(-90)\"><text x=\"-24.78\" y=\"2.81\" style=\"\">r5</text></g><g transform=\"translate(197.32,181.80)rotate(-90)\"><text x=\"-24.78\" y=\"2.81\" style=\"\">r6</text></g><g transform=\"translate(182.44,181.80)rotate(-90)\"><text x=\"-24.78\" y=\"2.81\" style=\"\">r7</text></g><g transform=\"translate(167.56,181.80)rotate(-90)\"><text x=\"-24.78\" y=\"2.81\" style=\"\">r8</text></g><g transform=\"translate(152.68,181.80)rotate(-90)\"><text x=\"-24.78\" y=\"2.81\" style=\"\">r9</text></g><g transform=\"translate(137.80,181.80)rotate(-90)\"><text x=\"-30.90\" y=\"2.81\" style=\"\">r10</text></g><g transform=\"translate(122.92,181.80)rotate(-90)\"><text x=\"-30.90\" y=\"2.81\" style=\"\">r11</text></g><g transform=\"translate(108.04,181.80)rotate(-90)\"><text x=\"-30.90\" y=\"2.81\" style=\"\">r12</text></g><g transform=\"translate(93.15,181.80)rotate(-90)\"><text x=\"-30.90\" y=\"2.81\" style=\"\">r13</text></g><g transform=\"translate(78.27,181.80)rotate(-90)\"><text x=\"-30.90\" y=\"2.81\" style=\"\">r14</text></g><g transform=\"translate(63.39,181.80)rotate(-90)\"><text x=\"-30.90\" y=\"2.81\" style=\"\">r15</text></g></g></g></g><g class=\"toyplot-coordinates-Axis\" id=\"t1e47379ac7654cdd9a5e68fffcb571d9\" transform=\"translate(50.0,215.0)rotate(-90.0)translate(0,-20.0)\"><line x1=\"33.2020901284697\" y1=\"0\" x2=\"154.01684084403914\" y2=\"0\" style=\"\"></line><g><line x1=\"33.2020901284697\" y1=\"0\" x2=\"33.2020901284697\" y2=\"5\" style=\"\"></line><line x1=\"93.60946548625441\" y1=\"0\" x2=\"93.60946548625441\" y2=\"5\" style=\"\"></line><line x1=\"154.01684084403914\" y1=\"0\" x2=\"154.01684084403914\" y2=\"5\" style=\"\"></line></g><g><g transform=\"translate(33.2020901284697,-6)\"><text x=\"-2.78\" y=\"-4.440892098500626e-16\" style=\"fill:rgb(16.1%,15.3%,14.1%);fill-opacity:1.0;font-family:helvetica;font-size:10.0px;font-weight:normal;stroke:none;vertical-align:baseline;white-space:pre\">0</text></g><g transform=\"translate(93.60946548625441,-6)\"><text x=\"-19.459999999999997\" y=\"-4.440892098500626e-16\" style=\"fill:rgb(16.1%,15.3%,14.1%);fill-opacity:1.0;font-family:helvetica;font-size:10.0px;font-weight:normal;stroke:none;vertical-align:baseline;white-space:pre\">4000000</text></g><g transform=\"translate(154.01684084403914,-6)\"><text x=\"-19.459999999999997\" y=\"-4.440892098500626e-16\" style=\"fill:rgb(16.1%,15.3%,14.1%);fill-opacity:1.0;font-family:helvetica;font-size:10.0px;font-weight:normal;stroke:none;vertical-align:baseline;white-space:pre\">8000000</text></g></g><g class=\"toyplot-coordinates-Axis-coordinates\" style=\"visibility:hidden\" transform=\"\"><line x1=\"0\" x2=\"0\" y1=\"3.0\" y2=\"-4.5\" style=\"stroke:rgb(43.9%,50.2%,56.5%);stroke-opacity:1.0;stroke-width:1.0\"></line><text x=\"0\" y=\"6\" style=\"alignment-baseline:hanging;fill:rgb(43.9%,50.2%,56.5%);fill-opacity:1.0;font-size:10px;font-weight:normal;stroke:none;text-anchor:middle\"></text></g></g></g></svg><div class=\"toyplot-behavior\"><script>(function()\n",
       "{\n",
       "var modules={};\n",
       "modules[\"toyplot/canvas/id\"] = \"t89aa6f1de1d2469ebf9203f3b20ccdcf\";\n",
       "modules[\"toyplot/canvas\"] = (function(canvas_id)\n",
       "    {\n",
       "        return document.querySelector(\"#\" + canvas_id);\n",
       "    })(modules[\"toyplot/canvas/id\"]);\n",
       "modules[\"toyplot.coordinates.Axis\"] = (\n",
       "        function(canvas)\n",
       "        {\n",
       "            function sign(x)\n",
       "            {\n",
       "                return x < 0 ? -1 : x > 0 ? 1 : 0;\n",
       "            }\n",
       "\n",
       "            function mix(a, b, amount)\n",
       "            {\n",
       "                return ((1.0 - amount) * a) + (amount * b);\n",
       "            }\n",
       "\n",
       "            function log(x, base)\n",
       "            {\n",
       "                return Math.log(Math.abs(x)) / Math.log(base);\n",
       "            }\n",
       "\n",
       "            function in_range(a, x, b)\n",
       "            {\n",
       "                var left = Math.min(a, b);\n",
       "                var right = Math.max(a, b);\n",
       "                return left <= x && x <= right;\n",
       "            }\n",
       "\n",
       "            function inside(range, projection)\n",
       "            {\n",
       "                for(var i = 0; i != projection.length; ++i)\n",
       "                {\n",
       "                    var segment = projection[i];\n",
       "                    if(in_range(segment.range.min, range, segment.range.max))\n",
       "                        return true;\n",
       "                }\n",
       "                return false;\n",
       "            }\n",
       "\n",
       "            function to_domain(range, projection)\n",
       "            {\n",
       "                for(var i = 0; i != projection.length; ++i)\n",
       "                {\n",
       "                    var segment = projection[i];\n",
       "                    if(in_range(segment.range.bounds.min, range, segment.range.bounds.max))\n",
       "                    {\n",
       "                        if(segment.scale == \"linear\")\n",
       "                        {\n",
       "                            var amount = (range - segment.range.min) / (segment.range.max - segment.range.min);\n",
       "                            return mix(segment.domain.min, segment.domain.max, amount)\n",
       "                        }\n",
       "                        else if(segment.scale[0] == \"log\")\n",
       "                        {\n",
       "                            var amount = (range - segment.range.min) / (segment.range.max - segment.range.min);\n",
       "                            var base = segment.scale[1];\n",
       "                            return sign(segment.domain.min) * Math.pow(base, mix(log(segment.domain.min, base), log(segment.domain.max, base), amount));\n",
       "                        }\n",
       "                    }\n",
       "                }\n",
       "            }\n",
       "\n",
       "            var axes = {};\n",
       "\n",
       "            function display_coordinates(e)\n",
       "            {\n",
       "                var current = canvas.createSVGPoint();\n",
       "                current.x = e.clientX;\n",
       "                current.y = e.clientY;\n",
       "\n",
       "                for(var axis_id in axes)\n",
       "                {\n",
       "                    var axis = document.querySelector(\"#\" + axis_id);\n",
       "                    var coordinates = axis.querySelector(\".toyplot-coordinates-Axis-coordinates\");\n",
       "                    if(coordinates)\n",
       "                    {\n",
       "                        var projection = axes[axis_id];\n",
       "                        var local = current.matrixTransform(axis.getScreenCTM().inverse());\n",
       "                        if(inside(local.x, projection))\n",
       "                        {\n",
       "                            var domain = to_domain(local.x, projection);\n",
       "                            coordinates.style.visibility = \"visible\";\n",
       "                            coordinates.setAttribute(\"transform\", \"translate(\" + local.x + \")\");\n",
       "                            var text = coordinates.querySelector(\"text\");\n",
       "                            text.textContent = domain.toFixed(2);\n",
       "                        }\n",
       "                        else\n",
       "                        {\n",
       "                            coordinates.style.visibility= \"hidden\";\n",
       "                        }\n",
       "                    }\n",
       "                }\n",
       "            }\n",
       "\n",
       "            canvas.addEventListener(\"click\", display_coordinates);\n",
       "\n",
       "            var module = {};\n",
       "            module.show_coordinates = function(axis_id, projection)\n",
       "            {\n",
       "                axes[axis_id] = projection;\n",
       "            }\n",
       "\n",
       "            return module;\n",
       "        })(modules[\"toyplot/canvas\"]);\n",
       "(function(axis, axis_id, projection)\n",
       "        {\n",
       "            axis.show_coordinates(axis_id, projection);\n",
       "        })(modules[\"toyplot.coordinates.Axis\"],\"t1e47379ac7654cdd9a5e68fffcb571d9\",[{\"domain\": {\"bounds\": {\"max\": Infinity, \"min\": -Infinity}, \"max\": 8727272.727272727, \"min\": -2198545.4545454555}, \"range\": {\"bounds\": {\"max\": Infinity, \"min\": -Infinity}, \"max\": 165.0, \"min\": 0.0}, \"scale\": \"linear\"}]);\n",
       "})();</script></div></div>"
      ]
     },
     "metadata": {},
     "output_type": "display_data"
    }
   ],
   "source": [
    "tree = toytree.rtree.baltree(ntips=16).mod.node_scale_root_height(8e6)\n",
    "tree.draw(ts='p')\n",
    "\n",
    "mod = ipcoal.Model(tree=tree, Ne=1e6, nsamples=2)\n",
    "mod.sim_loci(1000, 300)\n",
    "mod.write_concat_to_phylip(\"test\", outdir=\"/tmp\", diploid=True)"
   ]
  },
  {
   "cell_type": "code",
   "execution_count": 30,
   "id": "obvious-teddy",
   "metadata": {},
   "outputs": [
    {
     "name": "stdout",
     "output_type": "stream",
     "text": [
      "/home/deren/miniconda3/bin/raxmlHPC-PTHREADS-AVX2 -f a -T 8 -m GTRGAMMA -n test -w /tmp -s /tmp/test.phy -p 54321 -N 10 -x 12345\n",
      "job test finished successfully\n"
     ]
    }
   ],
   "source": [
    "import ipyrad.analysis as ipa\n",
    "\n",
    "rax = ipa.raxml(data=\"/tmp/test.phy\", name=\"test\", workdir=\"/tmp\", T=8, N=10)\n",
    "print(rax.command)\n",
    "rax.run(force=True)"
   ]
  },
  {
   "cell_type": "code",
   "execution_count": 47,
   "id": "iraqi-mission",
   "metadata": {},
   "outputs": [
    {
     "data": {
      "text/plain": [
       "array([-0.        ,  0.33333333,  0.66666667,  1.        ])"
      ]
     },
     "execution_count": 47,
     "metadata": {},
     "output_type": "execute_result"
    }
   ],
   "source": [
    "-1 * np.linspace(0, -1, 4)"
   ]
  },
  {
   "cell_type": "code",
   "execution_count": 26,
   "id": "clean-pregnancy",
   "metadata": {},
   "outputs": [
    {
     "data": {
      "text/html": [
       "<div class=\"toyplot\" id=\"teff2a8ebe3ba4ce7b32d043120147943\" style=\"text-align:center\"><svg class=\"toyplot-canvas-Canvas\" xmlns:toyplot=\"http://www.sandia.gov/toyplot\" xmlns:xlink=\"http://www.w3.org/1999/xlink\" xmlns=\"http://www.w3.org/2000/svg\" width=\"265.0px\" height=\"288.0px\" viewBox=\"0 0 265.0 288.0\" preserveAspectRatio=\"xMidYMid meet\" style=\"background-color:transparent;border-color:#292724;border-style:none;border-width:1.0;fill:rgb(16.1%,15.3%,14.1%);fill-opacity:1.0;font-family:Helvetica;font-size:12px;opacity:1.0;stroke:rgb(16.1%,15.3%,14.1%);stroke-opacity:1.0;stroke-width:1.0\" id=\"t7fe875d033da498083a8fa1fab8584ef\"><g class=\"toyplot-coordinates-Cartesian\" id=\"ta771e89785ef4b8d869ff96b38c046dc\"><clipPath id=\"t7d6009f223ea4d928419624e300b8596\"><rect x=\"30.0\" y=\"30.0\" width=\"205.0\" height=\"228.0\"></rect></clipPath><g clip-path=\"url(#t7d6009f223ea4d928419624e300b8596)\"><g class=\"toytree-mark-Toytree\" id=\"t072289b18fab4ec2933b6bd0b1828990\"><g class=\"toytree-Edges\" style=\"fill:none;stroke:rgb(14.9%,14.9%,14.9%);stroke-linecap:round;stroke-opacity:1;stroke-width:2\"><path d=\"M 51.7 132.9 L 51.7 110.8 L 72.1 110.8\" id=\"29,28\"></path><path d=\"M 72.1 110.8 L 72.1 77.7 L 91.3 77.7\" id=\"28,27\"></path><path d=\"M 72.1 110.8 L 72.1 144.0 L 91.1 144.0\" id=\"28,26\"></path><path d=\"M 91.1 144.0 L 91.1 110.8 L 111.1 110.8\" id=\"26,25\"></path><path d=\"M 91.1 144.0 L 91.1 177.2 L 128.6 177.2\" id=\"26,24\"></path><path d=\"M 111.1 110.8 L 111.1 99.8 L 130.8 99.8\" id=\"25,23\"></path><path d=\"M 111.1 110.8 L 111.1 121.9 L 129.8 121.9\" id=\"25,22\"></path><path d=\"M 128.6 177.2 L 128.6 155.1 L 149.2 155.1\" id=\"24,21\"></path><path d=\"M 128.6 177.2 L 128.6 199.3 L 148.8 199.3\" id=\"24,20\"></path><path d=\"M 149.2 155.1 L 149.2 144.0 L 169.1 144.0\" id=\"21,19\"></path><path d=\"M 149.2 155.1 L 149.2 166.1 L 169.1 166.1\" id=\"21,18\"></path><path d=\"M 148.8 199.3 L 148.8 188.2 L 169.1 188.2\" id=\"20,17\"></path><path d=\"M 148.8 199.3 L 148.8 210.3 L 167.3 210.3\" id=\"20,16\"></path><path d=\"M 51.7 132.9 L 51.7 61.1 L 71.0 61.1\" id=\"29,15\"></path><path d=\"M 91.3 77.7 L 91.3 72.2 L 111.8 72.2\" id=\"27,14\"></path><path d=\"M 91.3 77.7 L 91.3 83.2 L 110.8 83.2\" id=\"27,13\"></path><path d=\"M 130.8 99.8 L 130.8 94.3 L 151.5 94.3\" id=\"23,12\"></path><path d=\"M 130.8 99.8 L 130.8 105.3 L 151.8 105.3\" id=\"23,11\"></path><path d=\"M 129.8 121.9 L 129.8 116.4 L 150.6 116.4\" id=\"22,10\"></path><path d=\"M 129.8 121.9 L 129.8 127.4 L 150.6 127.4\" id=\"22,9\"></path><path d=\"M 169.1 144.0 L 169.1 138.5 L 189.4 138.5\" id=\"19,8\"></path><path d=\"M 169.1 144.0 L 169.1 149.5 L 188.6 149.5\" id=\"19,7\"></path><path d=\"M 169.1 166.1 L 169.1 160.6 L 189.6 160.6\" id=\"18,6\"></path><path d=\"M 169.1 166.1 L 169.1 171.6 L 189.4 171.6\" id=\"18,5\"></path><path d=\"M 169.1 188.2 L 169.1 182.7 L 188.9 182.7\" id=\"17,4\"></path><path d=\"M 169.1 188.2 L 169.1 193.7 L 190.0 193.7\" id=\"17,3\"></path><path d=\"M 167.3 210.3 L 167.3 204.8 L 188.8 204.8\" id=\"16,2\"></path><path d=\"M 167.3 210.3 L 167.3 215.8 L 186.3 215.8\" id=\"16,1\"></path><path d=\"M 51.7 132.9 L 51.7 226.9 L 71.0 226.9\" id=\"29,0\"></path></g><g class=\"toytree-AlignEdges\" style=\"stroke:rgb(66.3%,66.3%,66.3%);stroke-dasharray:2, 4;stroke-linecap:round;stroke-opacity:1.0;stroke-width:2\"><path d=\"M 190.0 226.9 L 71.0 226.9\"></path><path d=\"M 190.0 215.8 L 186.3 215.8\"></path><path d=\"M 190.0 204.8 L 188.8 204.8\"></path><path d=\"M 190.0 193.7 L 190.0 193.7\"></path><path d=\"M 190.0 182.7 L 188.9 182.7\"></path><path d=\"M 190.0 171.6 L 189.4 171.6\"></path><path d=\"M 190.0 160.6 L 189.6 160.6\"></path><path d=\"M 190.0 149.5 L 188.6 149.5\"></path><path d=\"M 190.0 138.5 L 189.4 138.5\"></path><path d=\"M 190.0 127.4 L 150.6 127.4\"></path><path d=\"M 190.0 116.4 L 150.6 116.4\"></path><path d=\"M 190.0 105.3 L 151.8 105.3\"></path><path d=\"M 190.0 94.3 L 151.5 94.3\"></path><path d=\"M 190.0 83.2 L 110.8 83.2\"></path><path d=\"M 190.0 72.2 L 111.8 72.2\"></path><path d=\"M 190.0 61.1 L 71.0 61.1\"></path></g><g class=\"toytree-TipLabels\" style=\"fill:rgb(14.9%,14.9%,14.9%);fill-opacity:1.0;font-family:helvetica;font-size:11px;font-weight:normal;stroke:none;white-space:pre\"><g transform=\"translate(190.03,226.89)rotate(0)\"><text x=\"15.00\" y=\"2.81\" style=\"\">r1</text></g><g transform=\"translate(190.03,215.84)rotate(0)\"><text x=\"15.00\" y=\"2.81\" style=\"\">r10</text></g><g transform=\"translate(190.03,204.79)rotate(0)\"><text x=\"15.00\" y=\"2.81\" style=\"\">r11</text></g><g transform=\"translate(190.03,193.73)rotate(0)\"><text x=\"15.00\" y=\"2.81\" style=\"\">r9</text></g><g transform=\"translate(190.03,182.68)rotate(0)\"><text x=\"15.00\" y=\"2.81\" style=\"\">r8</text></g><g transform=\"translate(190.03,171.63)rotate(0)\"><text x=\"15.00\" y=\"2.81\" style=\"\">r13</text></g><g transform=\"translate(190.03,160.58)rotate(0)\"><text x=\"15.00\" y=\"2.81\" style=\"\">r12</text></g><g transform=\"translate(190.03,149.53)rotate(0)\"><text x=\"15.00\" y=\"2.81\" style=\"\">r15</text></g><g transform=\"translate(190.03,138.47)rotate(0)\"><text x=\"15.00\" y=\"2.81\" style=\"\">r14</text></g><g transform=\"translate(190.03,127.42)rotate(0)\"><text x=\"15.00\" y=\"2.81\" style=\"\">r6</text></g><g transform=\"translate(190.03,116.37)rotate(0)\"><text x=\"15.00\" y=\"2.81\" style=\"\">r7</text></g><g transform=\"translate(190.03,105.32)rotate(0)\"><text x=\"15.00\" y=\"2.81\" style=\"\">r4</text></g><g transform=\"translate(190.03,94.27)rotate(0)\"><text x=\"15.00\" y=\"2.81\" style=\"\">r5</text></g><g transform=\"translate(190.03,83.21)rotate(0)\"><text x=\"15.00\" y=\"2.81\" style=\"\">r3</text></g><g transform=\"translate(190.03,72.16)rotate(0)\"><text x=\"15.00\" y=\"2.81\" style=\"\">r2</text></g><g transform=\"translate(190.03,61.11)rotate(0)\"><text x=\"15.00\" y=\"2.81\" style=\"\">r0</text></g></g></g></g><g class=\"toyplot-coordinates-Axis\" id=\"t7389ec65a8a8446796cc9778b99c4ded\" transform=\"translate(50.0,238.0)translate(0,20.0)\"><line x1=\"1.6770594549133726\" y1=\"0\" x2=\"140.03446448526586\" y2=\"0\" style=\"\"></line><g><line x1=\"140.03446448526586\" y1=\"0\" x2=\"140.03446448526586\" y2=\"-5\" style=\"\"></line><line x1=\"105.63206792206292\" y1=\"0\" x2=\"105.63206792206292\" y2=\"-5\" style=\"\"></line><line x1=\"71.22967135886\" y1=\"0\" x2=\"71.22967135886\" y2=\"-5\" style=\"\"></line><line x1=\"36.827274795657075\" y1=\"0\" x2=\"36.827274795657075\" y2=\"-5\" style=\"\"></line><line x1=\"2.4248782324541387\" y1=\"0\" x2=\"2.4248782324541387\" y2=\"-5\" style=\"\"></line></g><g><g transform=\"translate(140.03446448526586,6)\"><text x=\"-2.78\" y=\"8.555\" style=\"fill:rgb(16.1%,15.3%,14.1%);fill-opacity:1.0;font-family:helvetica;font-size:10.0px;font-weight:normal;stroke:none;vertical-align:baseline;white-space:pre\">0</text></g><g transform=\"translate(105.63206792206292,6)\"><text x=\"-16.955000000000002\" y=\"8.555\" style=\"fill:rgb(16.1%,15.3%,14.1%);fill-opacity:1.0;font-family:helvetica;font-size:10.0px;font-weight:normal;stroke:none;vertical-align:baseline;white-space:pre\">-0.0375</text></g><g transform=\"translate(71.22967135886,6)\"><text x=\"-14.174999999999999\" y=\"8.555\" style=\"fill:rgb(16.1%,15.3%,14.1%);fill-opacity:1.0;font-family:helvetica;font-size:10.0px;font-weight:normal;stroke:none;vertical-align:baseline;white-space:pre\">-0.075</text></g><g transform=\"translate(36.827274795657075,6)\"><text x=\"-16.955000000000002\" y=\"8.555\" style=\"fill:rgb(16.1%,15.3%,14.1%);fill-opacity:1.0;font-family:helvetica;font-size:10.0px;font-weight:normal;stroke:none;vertical-align:baseline;white-space:pre\">-0.1125</text></g><g transform=\"translate(2.4248782324541387,6)\"><text x=\"-11.395000000000001\" y=\"8.555\" style=\"fill:rgb(16.1%,15.3%,14.1%);fill-opacity:1.0;font-family:helvetica;font-size:10.0px;font-weight:normal;stroke:none;vertical-align:baseline;white-space:pre\">-0.15</text></g></g><g class=\"toyplot-coordinates-Axis-coordinates\" style=\"visibility:hidden\" transform=\"\"><line x1=\"0\" x2=\"0\" y1=\"-3.0\" y2=\"4.5\" style=\"stroke:rgb(43.9%,50.2%,56.5%);stroke-opacity:1.0;stroke-width:1.0\"></line><text x=\"0\" y=\"-6\" style=\"alignment-baseline:alphabetic;fill:rgb(43.9%,50.2%,56.5%);fill-opacity:1.0;font-size:10px;font-weight:normal;stroke:none;text-anchor:middle\"></text></g></g></g></svg><div class=\"toyplot-behavior\"><script>(function()\n",
       "{\n",
       "var modules={};\n",
       "modules[\"toyplot/canvas/id\"] = \"t7fe875d033da498083a8fa1fab8584ef\";\n",
       "modules[\"toyplot/canvas\"] = (function(canvas_id)\n",
       "    {\n",
       "        return document.querySelector(\"#\" + canvas_id);\n",
       "    })(modules[\"toyplot/canvas/id\"]);\n",
       "modules[\"toyplot.coordinates.Axis\"] = (\n",
       "        function(canvas)\n",
       "        {\n",
       "            function sign(x)\n",
       "            {\n",
       "                return x < 0 ? -1 : x > 0 ? 1 : 0;\n",
       "            }\n",
       "\n",
       "            function mix(a, b, amount)\n",
       "            {\n",
       "                return ((1.0 - amount) * a) + (amount * b);\n",
       "            }\n",
       "\n",
       "            function log(x, base)\n",
       "            {\n",
       "                return Math.log(Math.abs(x)) / Math.log(base);\n",
       "            }\n",
       "\n",
       "            function in_range(a, x, b)\n",
       "            {\n",
       "                var left = Math.min(a, b);\n",
       "                var right = Math.max(a, b);\n",
       "                return left <= x && x <= right;\n",
       "            }\n",
       "\n",
       "            function inside(range, projection)\n",
       "            {\n",
       "                for(var i = 0; i != projection.length; ++i)\n",
       "                {\n",
       "                    var segment = projection[i];\n",
       "                    if(in_range(segment.range.min, range, segment.range.max))\n",
       "                        return true;\n",
       "                }\n",
       "                return false;\n",
       "            }\n",
       "\n",
       "            function to_domain(range, projection)\n",
       "            {\n",
       "                for(var i = 0; i != projection.length; ++i)\n",
       "                {\n",
       "                    var segment = projection[i];\n",
       "                    if(in_range(segment.range.bounds.min, range, segment.range.bounds.max))\n",
       "                    {\n",
       "                        if(segment.scale == \"linear\")\n",
       "                        {\n",
       "                            var amount = (range - segment.range.min) / (segment.range.max - segment.range.min);\n",
       "                            return mix(segment.domain.min, segment.domain.max, amount)\n",
       "                        }\n",
       "                        else if(segment.scale[0] == \"log\")\n",
       "                        {\n",
       "                            var amount = (range - segment.range.min) / (segment.range.max - segment.range.min);\n",
       "                            var base = segment.scale[1];\n",
       "                            return sign(segment.domain.min) * Math.pow(base, mix(log(segment.domain.min, base), log(segment.domain.max, base), amount));\n",
       "                        }\n",
       "                    }\n",
       "                }\n",
       "            }\n",
       "\n",
       "            var axes = {};\n",
       "\n",
       "            function display_coordinates(e)\n",
       "            {\n",
       "                var current = canvas.createSVGPoint();\n",
       "                current.x = e.clientX;\n",
       "                current.y = e.clientY;\n",
       "\n",
       "                for(var axis_id in axes)\n",
       "                {\n",
       "                    var axis = document.querySelector(\"#\" + axis_id);\n",
       "                    var coordinates = axis.querySelector(\".toyplot-coordinates-Axis-coordinates\");\n",
       "                    if(coordinates)\n",
       "                    {\n",
       "                        var projection = axes[axis_id];\n",
       "                        var local = current.matrixTransform(axis.getScreenCTM().inverse());\n",
       "                        if(inside(local.x, projection))\n",
       "                        {\n",
       "                            var domain = to_domain(local.x, projection);\n",
       "                            coordinates.style.visibility = \"visible\";\n",
       "                            coordinates.setAttribute(\"transform\", \"translate(\" + local.x + \")\");\n",
       "                            var text = coordinates.querySelector(\"text\");\n",
       "                            text.textContent = domain.toFixed(2);\n",
       "                        }\n",
       "                        else\n",
       "                        {\n",
       "                            coordinates.style.visibility= \"hidden\";\n",
       "                        }\n",
       "                    }\n",
       "                }\n",
       "            }\n",
       "\n",
       "            canvas.addEventListener(\"click\", display_coordinates);\n",
       "\n",
       "            var module = {};\n",
       "            module.show_coordinates = function(axis_id, projection)\n",
       "            {\n",
       "                axes[axis_id] = projection;\n",
       "            }\n",
       "\n",
       "            return module;\n",
       "        })(modules[\"toyplot/canvas\"]);\n",
       "(function(axis, axis_id, projection)\n",
       "        {\n",
       "            axis.show_coordinates(axis_id, projection);\n",
       "        })(modules[\"toyplot.coordinates.Axis\"],\"t7389ec65a8a8446796cc9778b99c4ded\",[{\"domain\": {\"bounds\": {\"max\": Infinity, \"min\": -Infinity}, \"max\": 0.027213440786968475, \"min\": -0.15264321508968048}, \"range\": {\"bounds\": {\"max\": Infinity, \"min\": -Infinity}, \"max\": 165.0, \"min\": 0.0}, \"scale\": \"linear\"}]);\n",
       "})();</script></div></div>"
      ]
     },
     "metadata": {},
     "output_type": "display_data"
    }
   ],
   "source": [
    "import toytree\n",
    "import toyplot\n",
    "import numpy as np\n",
    "tre = toytree.tree(\"/tmp/RAxML_bipartitions.test\")#.root(regex='r[0-5]$')\n",
    "c, a, m = tre.draw(tip_labels_align=True, scalebar=True);\n",
    "a.x.ticks.locator = toyplot.locator.Explicit(np.linspace(0, -0.15, 5))"
   ]
  },
  {
   "cell_type": "code",
   "execution_count": 67,
   "id": "insured-thumb",
   "metadata": {},
   "outputs": [
    {
     "data": {
      "text/plain": [
       "1"
      ]
     },
     "execution_count": 67,
     "metadata": {},
     "output_type": "execute_result"
    }
   ],
   "source": [
    "min([1, 2, 3])"
   ]
  },
  {
   "cell_type": "code",
   "execution_count": null,
   "id": "advanced-venezuela",
   "metadata": {},
   "outputs": [],
   "source": []
  },
  {
   "cell_type": "code",
   "execution_count": null,
   "id": "median-bulletin",
   "metadata": {},
   "outputs": [],
   "source": []
  },
  {
   "cell_type": "code",
   "execution_count": null,
   "id": "sexual-hardware",
   "metadata": {},
   "outputs": [],
   "source": []
  },
  {
   "cell_type": "code",
   "execution_count": null,
   "id": "mobile-registrar",
   "metadata": {},
   "outputs": [],
   "source": []
  },
  {
   "cell_type": "code",
   "execution_count": 60,
   "id": "third-module",
   "metadata": {},
   "outputs": [
    {
     "data": {
      "text/plain": [
       "30    0.007752\n",
       "29    0.005968\n",
       "27    0.003653\n",
       "23    0.001999\n",
       "22    0.001947\n",
       "26    0.003870\n",
       "21    0.002100\n",
       "20    0.002126\n",
       "28    0.005776\n",
       "25    0.004098\n",
       "19    0.001928\n",
       "18    0.002059\n",
       "24    0.003829\n",
       "17    0.001931\n",
       "16    0.001966\n",
       "dtype: float64"
      ]
     },
     "execution_count": 60,
     "metadata": {},
     "output_type": "execute_result"
    },
    {
     "data": {
      "text/html": [
       "<div class=\"toyplot\" id=\"tbdc6d8433db741d4a79ed9e31be80b3c\" style=\"text-align:center\"><svg class=\"toyplot-canvas-Canvas\" xmlns:toyplot=\"http://www.sandia.gov/toyplot\" xmlns:xlink=\"http://www.w3.org/1999/xlink\" xmlns=\"http://www.w3.org/2000/svg\" width=\"350.0px\" height=\"265.0px\" viewBox=\"0 0 350.0 265.0\" preserveAspectRatio=\"xMidYMid meet\" style=\"background-color:transparent;border-color:#292724;border-style:none;border-width:1.0;fill:rgb(16.1%,15.3%,14.1%);fill-opacity:1.0;font-family:Helvetica;font-size:12px;opacity:1.0;stroke:rgb(16.1%,15.3%,14.1%);stroke-opacity:1.0;stroke-width:1.0\" id=\"t5c71c2f097024685a8e7ec6729be63ce\"><g class=\"toyplot-coordinates-Cartesian\" id=\"t51e4e46b581d4adb98f40c5107612a93\"><clipPath id=\"t6069ac0d5e4745dda9c370fc82b1ec27\"><rect x=\"30.0\" y=\"30.0\" width=\"290.0\" height=\"205.0\"></rect></clipPath><g clip-path=\"url(#t6069ac0d5e4745dda9c370fc82b1ec27)\"><g class=\"toytree-mark-Toytree\" id=\"t97b676d28a76458c9731b0a8db27ab82\"><g class=\"toytree-Edges\" style=\"fill:none;stroke:rgb(14.9%,14.9%,14.9%);stroke-linecap:round;stroke-opacity:1;stroke-width:2\"><path d=\"M 175.0 61.0 L 115.5 88.8\" id=\"30,29\"></path><path d=\"M 175.0 61.0 L 234.5 91.8\" id=\"30,28\"></path><path d=\"M 115.5 88.8 L 85.7 124.9\" id=\"29,27\"></path><path d=\"M 115.5 88.8 L 145.2 121.5\" id=\"29,26\"></path><path d=\"M 234.5 91.8 L 204.8 117.9\" id=\"28,25\"></path><path d=\"M 234.5 91.8 L 264.3 122.1\" id=\"28,24\"></path><path d=\"M 85.7 124.9 L 70.8 150.6\" id=\"27,23\"></path><path d=\"M 85.7 124.9 L 100.6 151.5\" id=\"27,22\"></path><path d=\"M 145.2 121.5 L 130.4 149.1\" id=\"26,21\"></path><path d=\"M 145.2 121.5 L 160.1 148.7\" id=\"26,20\"></path><path d=\"M 204.8 117.9 L 189.9 151.7\" id=\"25,19\"></path><path d=\"M 204.8 117.9 L 219.6 149.7\" id=\"25,18\"></path><path d=\"M 264.3 122.1 L 249.4 151.7\" id=\"24,17\"></path><path d=\"M 264.3 122.1 L 279.2 151.2\" id=\"24,16\"></path><path d=\"M 70.8 150.6 L 63.4 181.8\" id=\"23,15\"></path><path d=\"M 70.8 150.6 L 78.3 181.8\" id=\"23,14\"></path><path d=\"M 100.6 151.5 L 93.2 181.8\" id=\"22,13\"></path><path d=\"M 100.6 151.5 L 108.0 181.8\" id=\"22,12\"></path><path d=\"M 130.4 149.1 L 122.9 181.8\" id=\"21,11\"></path><path d=\"M 130.4 149.1 L 137.8 181.8\" id=\"21,10\"></path><path d=\"M 160.1 148.7 L 152.7 181.8\" id=\"20,9\"></path><path d=\"M 160.1 148.7 L 167.6 181.8\" id=\"20,8\"></path><path d=\"M 189.9 151.7 L 182.4 181.8\" id=\"19,7\"></path><path d=\"M 189.9 151.7 L 197.3 181.8\" id=\"19,6\"></path><path d=\"M 219.6 149.7 L 212.2 181.8\" id=\"18,5\"></path><path d=\"M 219.6 149.7 L 227.1 181.8\" id=\"18,4\"></path><path d=\"M 249.4 151.7 L 242.0 181.8\" id=\"17,3\"></path><path d=\"M 249.4 151.7 L 256.8 181.8\" id=\"17,2\"></path><path d=\"M 279.2 151.2 L 271.7 181.8\" id=\"16,1\"></path><path d=\"M 279.2 151.2 L 286.6 181.8\" id=\"16,0\"></path></g><g class=\"toytree-Nodes\" style=\"fill:rgb(40%,76.1%,64.7%);fill-opacity:1.0;stroke:rgb(14.9%,14.9%,14.9%);stroke-opacity:1.0;stroke-width:1\"><g id=\"node-0\" transform=\"translate(286.607,181.798)\"><circle r=\"7.5\"></circle></g><g id=\"node-1\" transform=\"translate(271.726,181.798)\"><circle r=\"7.5\"></circle></g><g id=\"node-2\" transform=\"translate(256.845,181.798)\"><circle r=\"7.5\"></circle></g><g id=\"node-3\" transform=\"translate(241.964,181.798)\"><circle r=\"7.5\"></circle></g><g id=\"node-4\" transform=\"translate(227.083,181.798)\"><circle r=\"7.5\"></circle></g><g id=\"node-5\" transform=\"translate(212.202,181.798)\"><circle r=\"7.5\"></circle></g><g id=\"node-6\" transform=\"translate(197.321,181.798)\"><circle r=\"7.5\"></circle></g><g id=\"node-7\" transform=\"translate(182.440,181.798)\"><circle r=\"7.5\"></circle></g><g id=\"node-8\" transform=\"translate(167.560,181.798)\"><circle r=\"7.5\"></circle></g><g id=\"node-9\" transform=\"translate(152.679,181.798)\"><circle r=\"7.5\"></circle></g><g id=\"node-10\" transform=\"translate(137.798,181.798)\"><circle r=\"7.5\"></circle></g><g id=\"node-11\" transform=\"translate(122.917,181.798)\"><circle r=\"7.5\"></circle></g><g id=\"node-12\" transform=\"translate(108.036,181.798)\"><circle r=\"7.5\"></circle></g><g id=\"node-13\" transform=\"translate(93.155,181.798)\"><circle r=\"7.5\"></circle></g><g id=\"node-14\" transform=\"translate(78.274,181.798)\"><circle r=\"7.5\"></circle></g><g id=\"node-15\" transform=\"translate(63.393,181.798)\"><circle r=\"7.5\"></circle></g><g id=\"node-16\" transform=\"translate(279.167,151.160)\"><circle r=\"7.5\"></circle></g><g id=\"node-17\" transform=\"translate(249.405,151.705)\"><circle r=\"7.5\"></circle></g><g id=\"node-18\" transform=\"translate(219.643,149.712)\"><circle r=\"7.5\"></circle></g><g id=\"node-19\" transform=\"translate(189.881,151.743)\"><circle r=\"7.5\"></circle></g><g id=\"node-20\" transform=\"translate(160.119,148.669)\"><circle r=\"7.5\"></circle></g><g id=\"node-21\" transform=\"translate(130.357,149.066)\"><circle r=\"7.5\"></circle></g><g id=\"node-22\" transform=\"translate(100.595,151.459)\"><circle r=\"7.5\"></circle></g><g id=\"node-23\" transform=\"translate(70.833,150.644)\"><circle r=\"7.5\"></circle></g><g id=\"node-24\" transform=\"translate(264.286,122.124)\"><circle r=\"7.5\"></circle></g><g id=\"node-25\" transform=\"translate(204.762,117.935)\"><circle r=\"7.5\"></circle></g><g id=\"node-26\" transform=\"translate(145.238,121.481)\"><circle r=\"7.5\"></circle></g><g id=\"node-27\" transform=\"translate(85.714,124.870)\"><circle r=\"7.5\"></circle></g><g id=\"node-28\" transform=\"translate(234.524,91.775)\"><circle r=\"7.5\"></circle></g><g id=\"node-29\" transform=\"translate(115.476,88.782)\"><circle r=\"7.5\"></circle></g><g id=\"node-30\" transform=\"translate(175.000,60.983)\"><circle r=\"7.5\"></circle></g></g><g class=\"toytree-NodeLabels\" style=\"fill:rgb(14.9%,14.9%,14.9%);fill-opacity:1.0;font-size:9px;stroke:none\"><g transform=\"translate(284.11,184.10)\"><text>0</text></g><g transform=\"translate(269.22,184.10)\"><text>1</text></g><g transform=\"translate(254.34,184.10)\"><text>2</text></g><g transform=\"translate(239.46,184.10)\"><text>3</text></g><g transform=\"translate(224.58,184.10)\"><text>4</text></g><g transform=\"translate(209.70,184.10)\"><text>5</text></g><g transform=\"translate(194.82,184.10)\"><text>6</text></g><g transform=\"translate(179.94,184.10)\"><text>7</text></g><g transform=\"translate(165.06,184.10)\"><text>8</text></g><g transform=\"translate(150.18,184.10)\"><text>9</text></g><g transform=\"translate(132.79,184.10)\"><text>10</text></g><g transform=\"translate(117.91,184.10)\"><text>11</text></g><g transform=\"translate(103.03,184.10)\"><text>12</text></g><g transform=\"translate(88.15,184.10)\"><text>13</text></g><g transform=\"translate(73.27,184.10)\"><text>14</text></g><g transform=\"translate(58.39,184.10)\"><text>15</text></g><g transform=\"translate(274.16,153.46)\"><text>16</text></g><g transform=\"translate(244.40,154.00)\"><text>17</text></g><g transform=\"translate(214.64,152.01)\"><text>18</text></g><g transform=\"translate(184.88,154.04)\"><text>19</text></g><g transform=\"translate(155.12,150.97)\"><text>20</text></g><g transform=\"translate(125.35,151.37)\"><text>21</text></g><g transform=\"translate(95.59,153.76)\"><text>22</text></g><g transform=\"translate(65.83,152.94)\"><text>23</text></g><g transform=\"translate(259.28,124.42)\"><text>24</text></g><g transform=\"translate(199.76,120.23)\"><text>25</text></g><g transform=\"translate(140.23,123.78)\"><text>26</text></g><g transform=\"translate(80.71,127.17)\"><text>27</text></g><g transform=\"translate(229.52,94.07)\"><text>28</text></g><g transform=\"translate(110.47,91.08)\"><text>29</text></g><g transform=\"translate(170.00,63.28)\"><text>30</text></g></g><g class=\"toytree-TipLabels\" style=\"fill:rgb(14.9%,14.9%,14.9%);fill-opacity:1.0;font-family:helvetica;font-size:11px;font-weight:normal;stroke:none;white-space:pre\"><g transform=\"translate(286.61,181.80)rotate(-90)\"><text x=\"-24.78\" y=\"2.81\" style=\"\">r0</text></g><g transform=\"translate(271.73,181.80)rotate(-90)\"><text x=\"-24.78\" y=\"2.81\" style=\"\">r1</text></g><g transform=\"translate(256.85,181.80)rotate(-90)\"><text x=\"-24.78\" y=\"2.81\" style=\"\">r2</text></g><g transform=\"translate(241.96,181.80)rotate(-90)\"><text x=\"-24.78\" y=\"2.81\" style=\"\">r3</text></g><g transform=\"translate(227.08,181.80)rotate(-90)\"><text x=\"-24.78\" y=\"2.81\" style=\"\">r4</text></g><g transform=\"translate(212.20,181.80)rotate(-90)\"><text x=\"-24.78\" y=\"2.81\" style=\"\">r5</text></g><g transform=\"translate(197.32,181.80)rotate(-90)\"><text x=\"-24.78\" y=\"2.81\" style=\"\">r6</text></g><g transform=\"translate(182.44,181.80)rotate(-90)\"><text x=\"-24.78\" y=\"2.81\" style=\"\">r7</text></g><g transform=\"translate(167.56,181.80)rotate(-90)\"><text x=\"-24.78\" y=\"2.81\" style=\"\">r8</text></g><g transform=\"translate(152.68,181.80)rotate(-90)\"><text x=\"-24.78\" y=\"2.81\" style=\"\">r9</text></g><g transform=\"translate(137.80,181.80)rotate(-90)\"><text x=\"-30.90\" y=\"2.81\" style=\"\">r10</text></g><g transform=\"translate(122.92,181.80)rotate(-90)\"><text x=\"-30.90\" y=\"2.81\" style=\"\">r11</text></g><g transform=\"translate(108.04,181.80)rotate(-90)\"><text x=\"-30.90\" y=\"2.81\" style=\"\">r12</text></g><g transform=\"translate(93.15,181.80)rotate(-90)\"><text x=\"-30.90\" y=\"2.81\" style=\"\">r13</text></g><g transform=\"translate(78.27,181.80)rotate(-90)\"><text x=\"-30.90\" y=\"2.81\" style=\"\">r14</text></g><g transform=\"translate(63.39,181.80)rotate(-90)\"><text x=\"-30.90\" y=\"2.81\" style=\"\">r15</text></g></g></g></g><g class=\"toyplot-coordinates-Axis\" id=\"t95391b0f8c8347ef88feab0a6245b9ef\" transform=\"translate(50.0,215.0)rotate(-90.0)translate(0,-20.0)\"><line x1=\"33.2020901284697\" y1=\"0\" x2=\"154.01684084403914\" y2=\"0\" style=\"\"></line><g><line x1=\"33.2020901284697\" y1=\"0\" x2=\"33.2020901284697\" y2=\"5\" style=\"\"></line><line x1=\"93.60946548625441\" y1=\"0\" x2=\"93.60946548625441\" y2=\"5\" style=\"\"></line><line x1=\"154.01684084403914\" y1=\"0\" x2=\"154.01684084403914\" y2=\"5\" style=\"\"></line></g><g><g transform=\"translate(33.2020901284697,-6)\"><text x=\"-12.51\" y=\"-4.440892098500626e-16\" style=\"fill:rgb(16.1%,15.3%,14.1%);fill-opacity:1.0;font-family:helvetica;font-size:10.0px;font-weight:normal;stroke:none;vertical-align:baseline;white-space:pre\">0.000</text></g><g transform=\"translate(93.60946548625441,-6)\"><text x=\"-12.51\" y=\"-4.440892098500626e-16\" style=\"fill:rgb(16.1%,15.3%,14.1%);fill-opacity:1.0;font-family:helvetica;font-size:10.0px;font-weight:normal;stroke:none;vertical-align:baseline;white-space:pre\">0.004</text></g><g transform=\"translate(154.01684084403914,-6)\"><text x=\"-12.51\" y=\"-4.440892098500626e-16\" style=\"fill:rgb(16.1%,15.3%,14.1%);fill-opacity:1.0;font-family:helvetica;font-size:10.0px;font-weight:normal;stroke:none;vertical-align:baseline;white-space:pre\">0.008</text></g></g><g class=\"toyplot-coordinates-Axis-coordinates\" style=\"visibility:hidden\" transform=\"\"><line x1=\"0\" x2=\"0\" y1=\"3.0\" y2=\"-4.5\" style=\"stroke:rgb(43.9%,50.2%,56.5%);stroke-opacity:1.0;stroke-width:1.0\"></line><text x=\"0\" y=\"6\" style=\"alignment-baseline:hanging;fill:rgb(43.9%,50.2%,56.5%);fill-opacity:1.0;font-size:10px;font-weight:normal;stroke:none;text-anchor:middle\"></text></g></g></g></svg><div class=\"toyplot-behavior\"><script>(function()\n",
       "{\n",
       "var modules={};\n",
       "modules[\"toyplot/canvas/id\"] = \"t5c71c2f097024685a8e7ec6729be63ce\";\n",
       "modules[\"toyplot/canvas\"] = (function(canvas_id)\n",
       "    {\n",
       "        return document.querySelector(\"#\" + canvas_id);\n",
       "    })(modules[\"toyplot/canvas/id\"]);\n",
       "modules[\"toyplot.coordinates.Axis\"] = (\n",
       "        function(canvas)\n",
       "        {\n",
       "            function sign(x)\n",
       "            {\n",
       "                return x < 0 ? -1 : x > 0 ? 1 : 0;\n",
       "            }\n",
       "\n",
       "            function mix(a, b, amount)\n",
       "            {\n",
       "                return ((1.0 - amount) * a) + (amount * b);\n",
       "            }\n",
       "\n",
       "            function log(x, base)\n",
       "            {\n",
       "                return Math.log(Math.abs(x)) / Math.log(base);\n",
       "            }\n",
       "\n",
       "            function in_range(a, x, b)\n",
       "            {\n",
       "                var left = Math.min(a, b);\n",
       "                var right = Math.max(a, b);\n",
       "                return left <= x && x <= right;\n",
       "            }\n",
       "\n",
       "            function inside(range, projection)\n",
       "            {\n",
       "                for(var i = 0; i != projection.length; ++i)\n",
       "                {\n",
       "                    var segment = projection[i];\n",
       "                    if(in_range(segment.range.min, range, segment.range.max))\n",
       "                        return true;\n",
       "                }\n",
       "                return false;\n",
       "            }\n",
       "\n",
       "            function to_domain(range, projection)\n",
       "            {\n",
       "                for(var i = 0; i != projection.length; ++i)\n",
       "                {\n",
       "                    var segment = projection[i];\n",
       "                    if(in_range(segment.range.bounds.min, range, segment.range.bounds.max))\n",
       "                    {\n",
       "                        if(segment.scale == \"linear\")\n",
       "                        {\n",
       "                            var amount = (range - segment.range.min) / (segment.range.max - segment.range.min);\n",
       "                            return mix(segment.domain.min, segment.domain.max, amount)\n",
       "                        }\n",
       "                        else if(segment.scale[0] == \"log\")\n",
       "                        {\n",
       "                            var amount = (range - segment.range.min) / (segment.range.max - segment.range.min);\n",
       "                            var base = segment.scale[1];\n",
       "                            return sign(segment.domain.min) * Math.pow(base, mix(log(segment.domain.min, base), log(segment.domain.max, base), amount));\n",
       "                        }\n",
       "                    }\n",
       "                }\n",
       "            }\n",
       "\n",
       "            var axes = {};\n",
       "\n",
       "            function display_coordinates(e)\n",
       "            {\n",
       "                var current = canvas.createSVGPoint();\n",
       "                current.x = e.clientX;\n",
       "                current.y = e.clientY;\n",
       "\n",
       "                for(var axis_id in axes)\n",
       "                {\n",
       "                    var axis = document.querySelector(\"#\" + axis_id);\n",
       "                    var coordinates = axis.querySelector(\".toyplot-coordinates-Axis-coordinates\");\n",
       "                    if(coordinates)\n",
       "                    {\n",
       "                        var projection = axes[axis_id];\n",
       "                        var local = current.matrixTransform(axis.getScreenCTM().inverse());\n",
       "                        if(inside(local.x, projection))\n",
       "                        {\n",
       "                            var domain = to_domain(local.x, projection);\n",
       "                            coordinates.style.visibility = \"visible\";\n",
       "                            coordinates.setAttribute(\"transform\", \"translate(\" + local.x + \")\");\n",
       "                            var text = coordinates.querySelector(\"text\");\n",
       "                            text.textContent = domain.toFixed(2);\n",
       "                        }\n",
       "                        else\n",
       "                        {\n",
       "                            coordinates.style.visibility= \"hidden\";\n",
       "                        }\n",
       "                    }\n",
       "                }\n",
       "            }\n",
       "\n",
       "            canvas.addEventListener(\"click\", display_coordinates);\n",
       "\n",
       "            var module = {};\n",
       "            module.show_coordinates = function(axis_id, projection)\n",
       "            {\n",
       "                axes[axis_id] = projection;\n",
       "            }\n",
       "\n",
       "            return module;\n",
       "        })(modules[\"toyplot/canvas\"]);\n",
       "(function(axis, axis_id, projection)\n",
       "        {\n",
       "            axis.show_coordinates(axis_id, projection);\n",
       "        })(modules[\"toyplot.coordinates.Axis\"],\"t95391b0f8c8347ef88feab0a6245b9ef\",[{\"domain\": {\"bounds\": {\"max\": Infinity, \"min\": -Infinity}, \"max\": 0.008456814711173304, \"min\": -0.0021304125726564096}, \"range\": {\"bounds\": {\"max\": Infinity, \"min\": -Infinity}, \"max\": 165.0, \"min\": 0.0}, \"scale\": \"linear\"}]);\n",
       "})();</script></div></div>"
      ]
     },
     "metadata": {},
     "output_type": "display_data"
    }
   ],
   "source": [
    "job = superbpp.load_project(\"/tmp/qtest.json\")\n",
    "mcmc = superbpp.analysis.mcmc.SuperMcmc(job)\n",
    "\n",
    "mcmcfile = \"/tmp/qtest_tmpfiles/node_30_rep_1.mcmc.txt\"\n",
    "df = mcmc.get_mcmc_tau_columns_from_mcmcfile(mcmcfile)\n",
    "df = df.mean(axis=0)\n",
    "ess = mcmc.get_all_tau_ess(mcmcfile)\n",
    "heights = {i: df[i] for i in df.index}\n",
    "tree = toytree.tree(job.tree)\n",
    "tree = tree.mod.set_node_heights(heights)\n",
    "tree.draw(ts='p');\n",
    "df"
   ]
  },
  {
   "cell_type": "code",
   "execution_count": null,
   "id": "rolled-nancy",
   "metadata": {},
   "outputs": [],
   "source": []
  },
  {
   "cell_type": "code",
   "execution_count": null,
   "id": "treated-poultry",
   "metadata": {},
   "outputs": [],
   "source": []
  },
  {
   "cell_type": "code",
   "execution_count": 22,
   "id": "athletic-causing",
   "metadata": {},
   "outputs": [
    {
     "data": {
      "text/plain": [
       "array([[0.66071429, 0.10714286, 0.16071429, 0.07142857],\n",
       "       [0.07142857, 0.21428571, 0.53571429, 0.17857143],\n",
       "       [0.10714286, 0.53571429, 0.        , 0.35714286],\n",
       "       [0.07142857, 0.26785714, 0.53571429, 0.125     ]])"
      ]
     },
     "execution_count": 22,
     "metadata": {},
     "output_type": "execute_result"
    }
   ],
   "source": [
    "mutmod = ms.GTR(\n",
    "    [0.2, 0.3, 0.2, 1, 0.5, 1],\n",
    "    equilibrium_frequencies=[0.2, 0.3, 0.3, 0.2],\n",
    ")\n",
    "mod = ipcoal.Model(Ne=1000)\n",
    "mod.sim_loci(2, 20)\n",
    "\n",
    "mutmod.transition_matrix"
   ]
  },
  {
   "cell_type": "code",
   "execution_count": 150,
   "id": "addressed-confirmation",
   "metadata": {},
   "outputs": [
    {
     "data": {
      "text/plain": [
       "array([0.2, 0.3, 0.3, 0.2])"
      ]
     },
     "execution_count": 150,
     "metadata": {},
     "output_type": "execute_result"
    }
   ],
   "source": [
    "mutmod.root_distribution"
   ]
  },
  {
   "cell_type": "code",
   "execution_count": 130,
   "id": "about-store",
   "metadata": {},
   "outputs": [
    {
     "data": {
      "text/html": [
       "<div class=\"toyplot\" id=\"t85af539429f94a49a4a74ae804bdb2f9\" style=\"text-align:center\"><svg class=\"toyplot-canvas-Canvas\" xmlns:toyplot=\"http://www.sandia.gov/toyplot\" xmlns:xlink=\"http://www.w3.org/1999/xlink\" xmlns=\"http://www.w3.org/2000/svg\" width=\"280.0px\" height=\"275.0px\" viewBox=\"0 0 280.0 275.0\" preserveAspectRatio=\"xMidYMid meet\" style=\"background-color:transparent;border-color:#292724;border-style:none;border-width:1.0;fill:rgb(16.1%,15.3%,14.1%);fill-opacity:1.0;font-family:Helvetica;font-size:12px;opacity:1.0;stroke:rgb(16.1%,15.3%,14.1%);stroke-opacity:1.0;stroke-width:1.0\" id=\"t7ce1dfd186a54b3cabd0241dfa108e97\"><g class=\"toyplot-coordinates-Cartesian\" id=\"tb481e41b5a5149cba90947447f3ece4a\"><clipPath id=\"t490e6c1d01584d2ea5ddccbabbddf6a0\"><rect x=\"30.0\" y=\"30.0\" width=\"220.0\" height=\"215.0\"></rect></clipPath><g clip-path=\"url(#t490e6c1d01584d2ea5ddccbabbddf6a0)\"><g class=\"toytree-mark-Toytree\" id=\"tc5b0b43107294f2ab517d323692ae538\"><g class=\"toytree-Edges\" style=\"fill:none;stroke:rgb(14.9%,14.9%,14.9%);stroke-linecap:round;stroke-opacity:1;stroke-width:2\"><path d=\"M 60.4 145.0 L 60.4 100.2 L 101.8 100.2\" id=\"10,9\"></path><path d=\"M 60.4 145.0 L 60.4 189.8 L 101.8 189.8\" id=\"10,8\"></path><path d=\"M 101.8 100.2 L 101.8 77.7 L 143.3 77.7\" id=\"9,7\"></path><path d=\"M 101.8 189.8 L 101.8 167.4 L 143.3 167.4\" id=\"8,6\"></path><path d=\"M 143.3 77.7 L 143.3 62.8 L 184.8 62.8\" id=\"7,5\"></path><path d=\"M 143.3 77.7 L 143.3 92.7 L 184.8 92.7\" id=\"7,4\"></path><path d=\"M 101.8 100.2 L 101.8 122.6 L 184.8 122.6\" id=\"9,3\"></path><path d=\"M 143.3 167.4 L 143.3 152.4 L 184.8 152.4\" id=\"6,2\"></path><path d=\"M 143.3 167.4 L 143.3 182.3 L 184.8 182.3\" id=\"6,1\"></path><path d=\"M 101.8 189.8 L 101.8 212.2 L 184.8 212.2\" id=\"8,0\"></path></g><g class=\"toytree-Nodes\" style=\"fill:rgb(82.7%,82.7%,82.7%);fill-opacity:1.0;stroke:rgb(14.9%,14.9%,14.9%);stroke-opacity:1.0;stroke-width:1.5\"><g id=\"node-0\" transform=\"translate(184.807,212.195)\"><circle r=\"7.5\"></circle></g><g id=\"node-1\" transform=\"translate(184.807,182.317)\"><circle r=\"7.5\"></circle></g><g id=\"node-2\" transform=\"translate(184.807,152.439)\"><circle r=\"7.5\"></circle></g><g id=\"node-3\" transform=\"translate(184.807,122.561)\"><circle r=\"7.5\"></circle></g><g id=\"node-4\" transform=\"translate(184.807,92.683)\"><circle r=\"7.5\"></circle></g><g id=\"node-5\" transform=\"translate(184.807,62.805)\"><circle r=\"7.5\"></circle></g><g id=\"node-6\" transform=\"translate(143.328,167.378)\"><circle r=\"7.5\"></circle></g><g id=\"node-7\" transform=\"translate(143.328,77.744)\"><circle r=\"7.5\"></circle></g><g id=\"node-8\" transform=\"translate(101.849,189.787)\"><circle r=\"7.5\"></circle></g><g id=\"node-9\" transform=\"translate(101.849,100.152)\"><circle r=\"7.5\"></circle></g><g id=\"node-10\" transform=\"translate(60.370,144.970)\"><circle r=\"7.5\"></circle></g></g><g class=\"toytree-NodeLabels\" style=\"fill:rgb(14.9%,14.9%,14.9%);fill-opacity:1.0;font-size:9px;stroke:none\"><g transform=\"translate(182.30,214.49)\"><text>0</text></g><g transform=\"translate(182.30,184.62)\"><text>1</text></g><g transform=\"translate(182.30,154.74)\"><text>2</text></g><g transform=\"translate(182.30,124.86)\"><text>3</text></g><g transform=\"translate(182.30,94.98)\"><text>4</text></g><g transform=\"translate(182.30,65.10)\"><text>5</text></g><g transform=\"translate(140.83,169.68)\"><text>6</text></g><g transform=\"translate(140.83,80.04)\"><text>7</text></g><g transform=\"translate(99.35,192.09)\"><text>8</text></g><g transform=\"translate(99.35,102.45)\"><text>9</text></g><g transform=\"translate(55.37,147.27)\"><text>10</text></g></g><g class=\"toytree-TipLabels\" style=\"fill:rgb(14.9%,14.9%,14.9%);fill-opacity:1.0;font-family:helvetica;font-size:11px;font-weight:normal;stroke:none;white-space:pre\"><g transform=\"translate(184.81,212.20)rotate(0)\"><text x=\"15.00\" y=\"2.81\" style=\"\">___r4</text></g><g transform=\"translate(184.81,182.32)rotate(0)\"><text x=\"15.00\" y=\"2.81\" style=\"\">___r1</text></g><g transform=\"translate(184.81,152.44)rotate(0)\"><text x=\"15.00\" y=\"2.81\" style=\"\">___r2</text></g><g transform=\"translate(184.81,122.56)rotate(0)\"><text x=\"15.00\" y=\"2.81\" style=\"\">___r11</text></g><g transform=\"translate(184.81,92.68)rotate(0)\"><text x=\"15.00\" y=\"2.81\" style=\"\">___r12</text></g><g transform=\"translate(184.81,62.80)rotate(0)\"><text x=\"15.00\" y=\"2.81\" style=\"\">___r13</text></g></g></g></g></g></svg><div class=\"toyplot-behavior\"><script>(function()\n",
       "{\n",
       "var modules={};\n",
       "})();</script></div></div>"
      ]
     },
     "metadata": {},
     "output_type": "display_data"
    },
    {
     "data": {
      "text/html": [
       "<div class=\"toyplot\" id=\"t9f5953cc366c4f30ac945cdbdfde7b8e\" style=\"text-align:center\"><svg class=\"toyplot-canvas-Canvas\" xmlns:toyplot=\"http://www.sandia.gov/toyplot\" xmlns:xlink=\"http://www.w3.org/1999/xlink\" xmlns=\"http://www.w3.org/2000/svg\" width=\"280.0px\" height=\"275.0px\" viewBox=\"0 0 280.0 275.0\" preserveAspectRatio=\"xMidYMid meet\" style=\"background-color:transparent;border-color:#292724;border-style:none;border-width:1.0;fill:rgb(16.1%,15.3%,14.1%);fill-opacity:1.0;font-family:Helvetica;font-size:12px;opacity:1.0;stroke:rgb(16.1%,15.3%,14.1%);stroke-opacity:1.0;stroke-width:1.0\" id=\"tc21af950c704420a9c84a6cf37101f20\"><g class=\"toyplot-coordinates-Cartesian\" id=\"t8528ea877fdd4d248a4ac5a27bca48df\"><clipPath id=\"t1beb64c3ce87406aa07804427006203b\"><rect x=\"30.0\" y=\"30.0\" width=\"220.0\" height=\"215.0\"></rect></clipPath><g clip-path=\"url(#t1beb64c3ce87406aa07804427006203b)\"><g class=\"toytree-mark-Toytree\" id=\"tbdc87120553c4e88b9151c335ecfcb05\"><g class=\"toytree-Edges\" style=\"fill:none;stroke:rgb(14.9%,14.9%,14.9%);stroke-linecap:round;stroke-opacity:1;stroke-width:2\"><path d=\"M 60.4 145.0 L 60.4 100.2 L 101.8 100.2\" id=\"10,9\"></path><path d=\"M 60.4 145.0 L 60.4 189.8 L 101.8 189.8\" id=\"10,8\"></path><path d=\"M 101.8 100.2 L 101.8 77.7 L 143.3 77.7\" id=\"9,7\"></path><path d=\"M 101.8 189.8 L 101.8 167.4 L 143.3 167.4\" id=\"8,6\"></path><path d=\"M 143.3 77.7 L 143.3 62.8 L 184.8 62.8\" id=\"7,5\"></path><path d=\"M 143.3 77.7 L 143.3 92.7 L 184.8 92.7\" id=\"7,4\"></path><path d=\"M 101.8 100.2 L 101.8 122.6 L 184.8 122.6\" id=\"9,3\"></path><path d=\"M 143.3 167.4 L 143.3 152.4 L 184.8 152.4\" id=\"6,2\"></path><path d=\"M 143.3 167.4 L 143.3 182.3 L 184.8 182.3\" id=\"6,1\"></path><path d=\"M 101.8 189.8 L 101.8 212.2 L 184.8 212.2\" id=\"8,0\"></path></g><g class=\"toytree-Nodes\" style=\"fill:rgb(82.7%,82.7%,82.7%);fill-opacity:1.0;stroke:rgb(14.9%,14.9%,14.9%);stroke-opacity:1.0;stroke-width:1.5\"><g id=\"node-0\" transform=\"translate(184.807,212.195)\"><circle r=\"7.5\"></circle></g><g id=\"node-1\" transform=\"translate(184.807,182.317)\"><circle r=\"7.5\"></circle></g><g id=\"node-2\" transform=\"translate(184.807,152.439)\"><circle r=\"7.5\"></circle></g><g id=\"node-3\" transform=\"translate(184.807,122.561)\"><circle r=\"7.5\"></circle></g><g id=\"node-4\" transform=\"translate(184.807,92.683)\"><circle r=\"7.5\"></circle></g><g id=\"node-5\" transform=\"translate(184.807,62.805)\"><circle r=\"7.5\"></circle></g><g id=\"node-6\" transform=\"translate(143.328,167.378)\"><circle r=\"7.5\"></circle></g><g id=\"node-7\" transform=\"translate(143.328,77.744)\"><circle r=\"7.5\"></circle></g><g id=\"node-8\" transform=\"translate(101.849,189.787)\"><circle r=\"7.5\"></circle></g><g id=\"node-9\" transform=\"translate(101.849,100.152)\"><circle r=\"7.5\"></circle></g><g id=\"node-10\" transform=\"translate(60.370,144.970)\"><circle r=\"7.5\"></circle></g></g><g class=\"toytree-NodeLabels\" style=\"fill:rgb(14.9%,14.9%,14.9%);fill-opacity:1.0;font-size:9px;stroke:none\"><g transform=\"translate(182.30,214.49)\"><text>0</text></g><g transform=\"translate(182.30,184.62)\"><text>1</text></g><g transform=\"translate(182.30,154.74)\"><text>2</text></g><g transform=\"translate(182.30,124.86)\"><text>3</text></g><g transform=\"translate(182.30,94.98)\"><text>4</text></g><g transform=\"translate(182.30,65.10)\"><text>5</text></g><g transform=\"translate(138.32,169.68)\"><text>11</text></g><g transform=\"translate(140.83,80.04)\"><text>9</text></g><g transform=\"translate(96.84,192.09)\"><text>10</text></g><g transform=\"translate(99.35,102.45)\"><text>8</text></g><g transform=\"translate(57.87,147.27)\"><text>7</text></g></g><g class=\"toytree-TipLabels\" style=\"fill:rgb(14.9%,14.9%,14.9%);fill-opacity:1.0;font-family:helvetica;font-size:11px;font-weight:normal;stroke:none;white-space:pre\"><g transform=\"translate(184.81,212.20)rotate(0)\"><text x=\"15.00\" y=\"2.81\" style=\"\">___r4</text></g><g transform=\"translate(184.81,182.32)rotate(0)\"><text x=\"15.00\" y=\"2.81\" style=\"\">___r1</text></g><g transform=\"translate(184.81,152.44)rotate(0)\"><text x=\"15.00\" y=\"2.81\" style=\"\">___r2</text></g><g transform=\"translate(184.81,122.56)rotate(0)\"><text x=\"15.00\" y=\"2.81\" style=\"\">___r11</text></g><g transform=\"translate(184.81,92.68)rotate(0)\"><text x=\"15.00\" y=\"2.81\" style=\"\">___r12</text></g><g transform=\"translate(184.81,62.80)rotate(0)\"><text x=\"15.00\" y=\"2.81\" style=\"\">___r13</text></g></g></g></g></g></svg><div class=\"toyplot-behavior\"><script>(function()\n",
       "{\n",
       "var modules={};\n",
       "})();</script></div></div>"
      ]
     },
     "metadata": {},
     "output_type": "display_data"
    }
   ],
   "source": [
    "tre = toytree.tree(\"(((___r13,___r12),___r11),((___r2,___r1),___r4));\")\n",
    "tre.draw(ts='s', node_labels=True);\n",
    "\n",
    "bidx = tre.ntips + 1\n",
    "for node in tre.treenode.traverse('preorder'):\n",
    "    if node.is_leaf():\n",
    "        node.bidx = node.idx\n",
    "    else:\n",
    "        node.bidx = bidx\n",
    "        bidx += 1\n",
    "        \n",
    "tre.draw(ts='s', node_labels=tre.get_node_values(\"bidx\"));"
   ]
  },
  {
   "cell_type": "code",
   "execution_count": null,
   "id": "moved-capability",
   "metadata": {},
   "outputs": [],
   "source": []
  },
  {
   "cell_type": "markdown",
   "id": "senior-greek",
   "metadata": {},
   "source": [
    "### Simulate BPP data"
   ]
  },
  {
   "cell_type": "code",
   "execution_count": null,
   "id": "burning-reunion",
   "metadata": {},
   "outputs": [],
   "source": []
  },
  {
   "cell_type": "markdown",
   "id": "historic-notion",
   "metadata": {},
   "source": [
    "### Calculate stats on msprime data"
   ]
  },
  {
   "cell_type": "code",
   "execution_count": 55,
   "id": "innovative-paste",
   "metadata": {},
   "outputs": [
    {
     "data": {
      "text/plain": [
       "0.0125"
      ]
     },
     "execution_count": 55,
     "metadata": {},
     "output_type": "execute_result"
    }
   ],
   "source": [
    "0.05 / 4   # tau"
   ]
  },
  {
   "cell_type": "code",
   "execution_count": 64,
   "id": "figured-drinking",
   "metadata": {},
   "outputs": [
    {
     "data": {
      "text/plain": [
       "0.005"
      ]
     },
     "execution_count": 64,
     "metadata": {},
     "output_type": "execute_result"
    }
   ],
   "source": [
    "0.02 / 4   # theta"
   ]
  },
  {
   "cell_type": "code",
   "execution_count": 65,
   "id": "conditional-idaho",
   "metadata": {},
   "outputs": [
    {
     "data": {
      "text/plain": [
       "0.005"
      ]
     },
     "execution_count": 65,
     "metadata": {},
     "output_type": "execute_result"
    }
   ],
   "source": [
    "# 4Neu\n",
    "4 * 5e5 * 2.5e-9"
   ]
  },
  {
   "cell_type": "code",
   "execution_count": 82,
   "id": "indoor-welding",
   "metadata": {},
   "outputs": [
    {
     "data": {
      "text/plain": [
       "0.0125"
      ]
     },
     "execution_count": 82,
     "metadata": {},
     "output_type": "execute_result"
    }
   ],
   "source": [
    "# Tg * mu\n",
    "5e6 * 2.5e-9 "
   ]
  },
  {
   "cell_type": "markdown",
   "id": "union-slope",
   "metadata": {},
   "source": [
    "### Calculate stats on BPP data"
   ]
  },
  {
   "cell_type": "code",
   "execution_count": null,
   "id": "leading-passion",
   "metadata": {},
   "outputs": [],
   "source": [
    "# theta\n",
    "hets = []\n",
    "with open(UNPHASED_BPP, 'r') as indat:\n",
    "    data = indat.readlines()\n",
    "    for pop in range(1, 5):\n",
    "        for samp in range(1, 5):\n",
    "            nbases = 0\n",
    "            nhetero = 0\n",
    "            for line in data:\n",
    "                if line.startswith(f\"r{pop}{samp}^r{pop}\"):\n",
    "                    seq = line.split()[-1]\n",
    "                    nhetero += sum(seq.count(i) for i in \"RSKWMY\")\n",
    "                    nbases += len(seq)\n",
    "            print(f\"r{pop}-{samp}: {nhetero / nbases}\")\n",
    "            hets.append(nhetero/nbases)\n",
    "print(f'mean = {sum(hets) / len(hets)}')\n"
   ]
  },
  {
   "cell_type": "code",
   "execution_count": null,
   "id": "neural-lounge",
   "metadata": {},
   "outputs": [],
   "source": [
    "# theta\n",
    "hets = []\n",
    "with open(UNPHASED_IP, 'r') as indat:\n",
    "    data = indat.readlines()\n",
    "    for pop in range(4):\n",
    "        for samp in range(4):\n",
    "            nbases = 0\n",
    "            nhetero = 0\n",
    "            for line in data:\n",
    "                if line.startswith(f\"^r{pop}_{samp}\"):\n",
    "                    seq = line.split()[-1]\n",
    "                    nhetero += sum(seq.count(i) for i in \"RSKWMY\")\n",
    "                    nbases += len(seq)\n",
    "            print(f\"r{pop}_{samp}: {nhetero / nbases}\")\n",
    "            hets.append(nhetero/nbases)\n",
    "print(f'mean = {sum(hets) / len(hets)}')\n"
   ]
  },
  {
   "cell_type": "code",
   "execution_count": null,
   "id": "outstanding-completion",
   "metadata": {},
   "outputs": [],
   "source": []
  },
  {
   "cell_type": "code",
   "execution_count": null,
   "id": "south-techno",
   "metadata": {},
   "outputs": [],
   "source": []
  },
  {
   "cell_type": "code",
   "execution_count": null,
   "id": "representative-roller",
   "metadata": {},
   "outputs": [],
   "source": []
  },
  {
   "cell_type": "code",
   "execution_count": null,
   "id": "challenging-intensity",
   "metadata": {},
   "outputs": [],
   "source": []
  },
  {
   "cell_type": "code",
   "execution_count": null,
   "id": "entitled-reserve",
   "metadata": {},
   "outputs": [],
   "source": []
  },
  {
   "cell_type": "code",
   "execution_count": 23,
   "id": "occupational-oregon",
   "metadata": {},
   "outputs": [],
   "source": [
    "import scipy.stats as stats"
   ]
  },
  {
   "cell_type": "code",
   "execution_count": 28,
   "id": "advised-snake",
   "metadata": {},
   "outputs": [
    {
     "data": {
      "text/plain": [
       "1.0"
      ]
     },
     "execution_count": 28,
     "metadata": {},
     "output_type": "execute_result"
    }
   ],
   "source": [
    "stats.gamma(a=1, scale=1).std()"
   ]
  },
  {
   "cell_type": "code",
   "execution_count": 18,
   "id": "frank-paintball",
   "metadata": {},
   "outputs": [
    {
     "data": {
      "text/html": [
       "<div class=\"toyplot\" id=\"t148d7c85fab34954950add726799dad4\" style=\"text-align:center\"><svg class=\"toyplot-canvas-Canvas\" xmlns:toyplot=\"http://www.sandia.gov/toyplot\" xmlns:xlink=\"http://www.w3.org/1999/xlink\" xmlns=\"http://www.w3.org/2000/svg\" width=\"1000.0px\" height=\"270.0px\" viewBox=\"0 0 1000.0 270.0\" preserveAspectRatio=\"xMidYMid meet\" style=\"background-color:transparent;border-color:#292724;border-style:none;border-width:1.0;fill:rgb(16.1%,15.3%,14.1%);fill-opacity:1.0;font-family:Helvetica;font-size:12px;opacity:1.0;stroke:rgb(16.1%,15.3%,14.1%);stroke-opacity:1.0;stroke-width:1.0\" id=\"taff07f977da54d9f9c6d2904cc88e0fc\"><g class=\"toyplot-coordinates-Cartesian\" id=\"t9f638b3d0ac04a99be2c40757841a1f8\"><clipPath id=\"tdbc01cecab7b4107b18d0a63b9e5941c\"><rect x=\"30.0\" y=\"30.0\" width=\"940.0\" height=\"210.0\"></rect></clipPath><g clip-path=\"url(#tdbc01cecab7b4107b18d0a63b9e5941c)\"><g class=\"toytree-mark-Toytree\" id=\"t6d8a3f545d3f4f4b9f766a1befc48864\"><g class=\"toytree-Edges\" style=\"fill:none;stroke:rgb(14.9%,14.9%,14.9%);stroke-linecap:round;stroke-opacity:1;stroke-width:2\"><path d=\"M 293.2 55.8 L 154.9 120.0\" id=\"158,157\"></path><path d=\"M 293.2 55.8 L 431.5 110.4\" id=\"158,156\"></path><path d=\"M 154.9 120.0 L 92.0 154.1\" id=\"157,155\"></path><path d=\"M 154.9 120.0 L 217.8 137.2\" id=\"157,154\"></path><path d=\"M 431.5 110.4 L 346.2 161.1\" id=\"156,153\"></path><path d=\"M 431.5 110.4 L 516.7 127.3\" id=\"156,152\"></path><path d=\"M 92.0 154.1 L 70.6 178.5\" id=\"155,151\"></path><path d=\"M 92.0 154.1 L 113.5 157.5\" id=\"155,150\"></path><path d=\"M 217.8 137.2 L 171.0 168.7\" id=\"154,149\"></path><path d=\"M 217.8 137.2 L 264.5 167.1\" id=\"154,148\"></path><path d=\"M 346.2 161.1 L 333.8 174.1\" id=\"153,147\"></path><path d=\"M 346.2 161.1 L 358.7 170.1\" id=\"153,146\"></path><path d=\"M 516.7 127.3 L 414.0 155.0\" id=\"152,145\"></path><path d=\"M 516.7 127.3 L 619.4 144.6\" id=\"152,144\"></path><path d=\"M 70.6 178.5 L 78.9 178.5\" id=\"151,143\"></path><path d=\"M 113.5 157.5 L 101.0 178.2\" id=\"150,142\"></path><path d=\"M 113.5 157.5 L 126.0 174.5\" id=\"150,141\"></path><path d=\"M 171.0 168.7 L 156.5 176.4\" id=\"149,140\"></path><path d=\"M 171.0 168.7 L 185.5 171.5\" id=\"149,139\"></path><path d=\"M 264.5 167.1 L 245.1 178.7\" id=\"148,138\"></path><path d=\"M 264.5 167.1 L 283.9 167.6\" id=\"148,137\"></path><path d=\"M 358.7 170.1 L 367.0 177.9\" id=\"146,136\"></path><path d=\"M 414.0 155.0 L 391.9 175.1\" id=\"145,135\"></path><path d=\"M 414.0 155.0 L 436.1 158.2\" id=\"145,134\"></path><path d=\"M 619.4 144.6 L 540.9 161.2\" id=\"144,133\"></path><path d=\"M 619.4 144.6 L 698.0 158.4\" id=\"144,132\"></path><path d=\"M 126.0 174.5 L 134.3 175.6\" id=\"141,131\"></path><path d=\"M 185.5 171.5 L 198.0 176.2\" id=\"139,130\"></path><path d=\"M 283.9 167.6 L 267.3 174.5\" id=\"137,129\"></path><path d=\"M 283.9 167.6 L 300.5 174.3\" id=\"137,128\"></path><path d=\"M 391.9 175.1 L 400.3 177.3\" id=\"135,127\"></path><path d=\"M 436.1 158.2 L 422.4 176.2\" id=\"134,126\"></path><path d=\"M 436.1 158.2 L 449.8 165.2\" id=\"134,125\"></path><path d=\"M 540.9 161.2 L 515.2 170.8\" id=\"133,124\"></path><path d=\"M 540.9 161.2 L 566.5 163.4\" id=\"133,123\"></path><path d=\"M 698.0 158.4 L 617.4 160.2\" id=\"132,122\"></path><path d=\"M 698.0 158.4 L 778.6 160.9\" id=\"132,121\"></path><path d=\"M 198.0 176.2 L 211.9 177.8\" id=\"130,120\"></path><path d=\"M 300.5 174.3 L 289.4 178.0\" id=\"128,119\"></path><path d=\"M 300.5 174.3 L 311.6 176.1\" id=\"128,118\"></path><path d=\"M 449.8 165.2 L 460.5 168.1\" id=\"125,117\"></path><path d=\"M 515.2 170.8 L 524.9 176.8\" id=\"124,116\"></path><path d=\"M 566.5 163.4 L 555.4 178.7\" id=\"123,115\"></path><path d=\"M 566.5 163.4 L 577.6 177.2\" id=\"123,114\"></path><path d=\"M 617.4 160.2 L 599.7 177.6\" id=\"122,113\"></path><path d=\"M 617.4 160.2 L 635.1 168.1\" id=\"122,112\"></path><path d=\"M 778.6 160.9 L 724.4 164.4\" id=\"121,111\"></path><path d=\"M 778.6 160.9 L 832.8 168.0\" id=\"121,110\"></path><path d=\"M 211.9 177.8 L 200.8 178.7\" id=\"120,109\"></path><path d=\"M 211.9 177.8 L 222.9 178.1\" id=\"120,108\"></path><path d=\"M 460.5 168.1 L 470.9 174.9\" id=\"117,107\"></path><path d=\"M 524.9 176.8 L 533.2 177.1\" id=\"116,106\"></path><path d=\"M 635.1 168.1 L 621.9 174.8\" id=\"112,105\"></path><path d=\"M 635.1 168.1 L 648.2 176.4\" id=\"112,104\"></path><path d=\"M 724.4 164.4 L 692.6 170.3\" id=\"111,103\"></path><path d=\"M 724.4 164.4 L 756.3 164.5\" id=\"111,102\"></path><path d=\"M 832.8 168.0 L 810.3 176.8\" id=\"110,101\"></path><path d=\"M 832.8 168.0 L 855.2 169.3\" id=\"110,100\"></path><path d=\"M 470.9 174.9 L 480.6 177.6\" id=\"107,99\"></path><path d=\"M 648.2 176.4 L 657.9 177.2\" id=\"104,98\"></path><path d=\"M 692.6 170.3 L 702.2 176.1\" id=\"103,97\"></path><path d=\"M 756.3 164.5 L 735.5 173.2\" id=\"102,96\"></path><path d=\"M 756.3 164.5 L 777.1 167.7\" id=\"102,95\"></path><path d=\"M 855.2 169.3 L 835.2 174.6\" id=\"100,94\"></path><path d=\"M 855.2 169.3 L 875.2 174.1\" id=\"100,93\"></path><path d=\"M 480.6 177.6 L 488.9 177.7\" id=\"99,92\"></path><path d=\"M 657.9 177.2 L 666.2 177.5\" id=\"98,91\"></path><path d=\"M 702.2 176.1 L 710.6 178.1\" id=\"97,90\"></path><path d=\"M 735.5 173.2 L 743.8 178.5\" id=\"96,89\"></path><path d=\"M 777.1 167.7 L 766.0 173.7\" id=\"95,88\"></path><path d=\"M 777.1 167.7 L 788.1 172.1\" id=\"95,87\"></path><path d=\"M 835.2 174.6 L 843.5 178.1\" id=\"94,86\"></path><path d=\"M 875.2 174.1 L 890.3 175.4\" id=\"93,85\"></path><path d=\"M 890.3 175.4 L 876.8 175.8\" id=\"85,84\"></path><path d=\"M 890.3 175.4 L 903.8 175.6\" id=\"85,83\"></path><path d=\"M 903.8 175.6 L 914.2 177.1\" id=\"83,82\"></path><path d=\"M 914.2 177.1 L 923.9 178.2\" id=\"82,81\"></path><path d=\"M 923.9 178.2 L 932.2 178.3\" id=\"81,80\"></path><path d=\"M 70.6 178.5 L 62.3 178.8\" id=\"151,79\"></path><path d=\"M 78.9 178.5 L 73.3 178.8\" id=\"143,78\"></path><path d=\"M 78.9 178.5 L 84.4 178.8\" id=\"143,77\"></path><path d=\"M 101.0 178.2 L 95.5 178.8\" id=\"142,76\"></path><path d=\"M 101.0 178.2 L 106.6 178.8\" id=\"142,75\"></path><path d=\"M 126.0 174.5 L 117.7 178.8\" id=\"141,74\"></path><path d=\"M 134.3 175.6 L 128.7 178.8\" id=\"131,73\"></path><path d=\"M 134.3 175.6 L 139.8 178.8\" id=\"131,72\"></path><path d=\"M 156.5 176.4 L 150.9 178.8\" id=\"140,71\"></path><path d=\"M 156.5 176.4 L 162.0 178.8\" id=\"140,70\"></path><path d=\"M 185.5 171.5 L 173.1 178.8\" id=\"139,69\"></path><path d=\"M 198.0 176.2 L 184.2 178.8\" id=\"130,68\"></path><path d=\"M 200.8 178.7 L 195.2 178.8\" id=\"109,67\"></path><path d=\"M 200.8 178.7 L 206.3 178.8\" id=\"109,66\"></path><path d=\"M 222.9 178.1 L 217.4 178.8\" id=\"108,65\"></path><path d=\"M 222.9 178.1 L 228.5 178.8\" id=\"108,64\"></path><path d=\"M 245.1 178.7 L 239.6 178.8\" id=\"138,63\"></path><path d=\"M 245.1 178.7 L 250.7 178.8\" id=\"138,62\"></path><path d=\"M 267.3 174.5 L 261.7 178.8\" id=\"129,61\"></path><path d=\"M 267.3 174.5 L 272.8 178.8\" id=\"129,60\"></path><path d=\"M 289.4 178.0 L 283.9 178.8\" id=\"119,59\"></path><path d=\"M 289.4 178.0 L 295.0 178.8\" id=\"119,58\"></path><path d=\"M 311.6 176.1 L 306.1 178.8\" id=\"118,57\"></path><path d=\"M 311.6 176.1 L 317.1 178.8\" id=\"118,56\"></path><path d=\"M 333.8 174.1 L 328.2 178.8\" id=\"147,55\"></path><path d=\"M 333.8 174.1 L 339.3 178.8\" id=\"147,54\"></path><path d=\"M 358.7 170.1 L 350.4 178.8\" id=\"146,53\"></path><path d=\"M 367.0 177.9 L 361.5 178.8\" id=\"136,52\"></path><path d=\"M 367.0 177.9 L 372.6 178.8\" id=\"136,51\"></path><path d=\"M 391.9 175.1 L 383.6 178.8\" id=\"135,50\"></path><path d=\"M 400.3 177.3 L 394.7 178.8\" id=\"127,49\"></path><path d=\"M 400.3 177.3 L 405.8 178.8\" id=\"127,48\"></path><path d=\"M 422.4 176.2 L 416.9 178.8\" id=\"126,47\"></path><path d=\"M 422.4 176.2 L 428.0 178.8\" id=\"126,46\"></path><path d=\"M 449.8 165.2 L 439.0 178.8\" id=\"125,45\"></path><path d=\"M 460.5 168.1 L 450.1 178.8\" id=\"117,44\"></path><path d=\"M 470.9 174.9 L 461.2 178.8\" id=\"107,43\"></path><path d=\"M 480.6 177.6 L 472.3 178.8\" id=\"99,42\"></path><path d=\"M 488.9 177.7 L 483.4 178.8\" id=\"92,41\"></path><path d=\"M 488.9 177.7 L 494.5 178.8\" id=\"92,40\"></path><path d=\"M 515.2 170.8 L 505.5 178.8\" id=\"124,39\"></path><path d=\"M 524.9 176.8 L 516.6 178.8\" id=\"116,38\"></path><path d=\"M 533.2 177.1 L 527.7 178.8\" id=\"106,37\"></path><path d=\"M 533.2 177.1 L 538.8 178.8\" id=\"106,36\"></path><path d=\"M 555.4 178.7 L 549.9 178.8\" id=\"115,35\"></path><path d=\"M 555.4 178.7 L 561.0 178.8\" id=\"115,34\"></path><path d=\"M 577.6 177.2 L 572.0 178.8\" id=\"114,33\"></path><path d=\"M 577.6 177.2 L 583.1 178.8\" id=\"114,32\"></path><path d=\"M 599.7 177.6 L 594.2 178.8\" id=\"113,31\"></path><path d=\"M 599.7 177.6 L 605.3 178.8\" id=\"113,30\"></path><path d=\"M 621.9 174.8 L 616.4 178.8\" id=\"105,29\"></path><path d=\"M 621.9 174.8 L 627.4 178.8\" id=\"105,28\"></path><path d=\"M 648.2 176.4 L 638.5 178.8\" id=\"104,27\"></path><path d=\"M 657.9 177.2 L 649.6 178.8\" id=\"98,26\"></path><path d=\"M 666.2 177.5 L 660.7 178.8\" id=\"91,25\"></path><path d=\"M 666.2 177.5 L 671.8 178.8\" id=\"91,24\"></path><path d=\"M 692.6 170.3 L 682.9 178.8\" id=\"103,23\"></path><path d=\"M 702.2 176.1 L 693.9 178.8\" id=\"97,22\"></path><path d=\"M 710.6 178.1 L 705.0 178.8\" id=\"90,21\"></path><path d=\"M 710.6 178.1 L 716.1 178.8\" id=\"90,20\"></path><path d=\"M 735.5 173.2 L 727.2 178.8\" id=\"96,19\"></path><path d=\"M 743.8 178.5 L 738.3 178.8\" id=\"89,18\"></path><path d=\"M 743.8 178.5 L 749.3 178.8\" id=\"89,17\"></path><path d=\"M 766.0 173.7 L 760.4 178.8\" id=\"88,16\"></path><path d=\"M 766.0 173.7 L 771.5 178.8\" id=\"88,15\"></path><path d=\"M 788.1 172.1 L 782.6 178.8\" id=\"87,14\"></path><path d=\"M 788.1 172.1 L 793.7 178.8\" id=\"87,13\"></path><path d=\"M 810.3 176.8 L 804.8 178.8\" id=\"101,12\"></path><path d=\"M 810.3 176.8 L 815.8 178.8\" id=\"101,11\"></path><path d=\"M 835.2 174.6 L 826.9 178.8\" id=\"94,10\"></path><path d=\"M 843.5 178.1 L 838.0 178.8\" id=\"86,9\"></path><path d=\"M 843.5 178.1 L 849.1 178.8\" id=\"86,8\"></path><path d=\"M 875.2 174.1 L 860.2 178.8\" id=\"93,7\"></path><path d=\"M 876.8 175.8 L 871.3 178.8\" id=\"84,6\"></path><path d=\"M 876.8 175.8 L 882.3 178.8\" id=\"84,5\"></path><path d=\"M 903.8 175.6 L 893.4 178.8\" id=\"83,4\"></path><path d=\"M 914.2 177.1 L 904.5 178.8\" id=\"82,3\"></path><path d=\"M 923.9 178.2 L 915.6 178.8\" id=\"81,2\"></path><path d=\"M 932.2 178.3 L 926.7 178.8\" id=\"80,1\"></path><path d=\"M 932.2 178.3 L 937.7 178.8\" id=\"80,0\"></path></g><g class=\"toytree-Nodes\" style=\"fill:rgb(40%,76.1%,64.7%);fill-opacity:1.0;stroke:rgb(14.9%,14.9%,14.9%);stroke-opacity:1.0;stroke-width:1.5\"><g id=\"node-0\" transform=\"translate(937.743,178.754)\"><circle r=\"4.0\"></circle></g><g id=\"node-1\" transform=\"translate(926.661,178.754)\"><circle r=\"4.0\"></circle></g><g id=\"node-2\" transform=\"translate(915.579,178.754)\"><circle r=\"4.0\"></circle></g><g id=\"node-3\" transform=\"translate(904.497,178.754)\"><circle r=\"4.0\"></circle></g><g id=\"node-4\" transform=\"translate(893.415,178.754)\"><circle r=\"4.0\"></circle></g><g id=\"node-5\" transform=\"translate(882.333,178.754)\"><circle r=\"4.0\"></circle></g><g id=\"node-6\" transform=\"translate(871.251,178.754)\"><circle r=\"4.0\"></circle></g><g id=\"node-7\" transform=\"translate(860.168,178.754)\"><circle r=\"4.0\"></circle></g><g id=\"node-8\" transform=\"translate(849.086,178.754)\"><circle r=\"4.0\"></circle></g><g id=\"node-9\" transform=\"translate(838.004,178.754)\"><circle r=\"4.0\"></circle></g><g id=\"node-10\" transform=\"translate(826.922,178.754)\"><circle r=\"4.0\"></circle></g><g id=\"node-11\" transform=\"translate(815.840,178.754)\"><circle r=\"4.0\"></circle></g><g id=\"node-12\" transform=\"translate(804.758,178.754)\"><circle r=\"4.0\"></circle></g><g id=\"node-13\" transform=\"translate(793.676,178.754)\"><circle r=\"4.0\"></circle></g><g id=\"node-14\" transform=\"translate(782.594,178.754)\"><circle r=\"4.0\"></circle></g><g id=\"node-15\" transform=\"translate(771.512,178.754)\"><circle r=\"4.0\"></circle></g><g id=\"node-16\" transform=\"translate(760.429,178.754)\"><circle r=\"4.0\"></circle></g><g id=\"node-17\" transform=\"translate(749.347,178.754)\"><circle r=\"4.0\"></circle></g><g id=\"node-18\" transform=\"translate(738.265,178.754)\"><circle r=\"4.0\"></circle></g><g id=\"node-19\" transform=\"translate(727.183,178.754)\"><circle r=\"4.0\"></circle></g><g id=\"node-20\" transform=\"translate(716.101,178.754)\"><circle r=\"4.0\"></circle></g><g id=\"node-21\" transform=\"translate(705.019,178.754)\"><circle r=\"4.0\"></circle></g><g id=\"node-22\" transform=\"translate(693.937,178.754)\"><circle r=\"4.0\"></circle></g><g id=\"node-23\" transform=\"translate(682.855,178.754)\"><circle r=\"4.0\"></circle></g><g id=\"node-24\" transform=\"translate(671.773,178.754)\"><circle r=\"4.0\"></circle></g><g id=\"node-25\" transform=\"translate(660.691,178.754)\"><circle r=\"4.0\"></circle></g><g id=\"node-26\" transform=\"translate(649.608,178.754)\"><circle r=\"4.0\"></circle></g><g id=\"node-27\" transform=\"translate(638.526,178.754)\"><circle r=\"4.0\"></circle></g><g id=\"node-28\" transform=\"translate(627.444,178.754)\"><circle r=\"4.0\"></circle></g><g id=\"node-29\" transform=\"translate(616.362,178.754)\"><circle r=\"4.0\"></circle></g><g id=\"node-30\" transform=\"translate(605.280,178.754)\"><circle r=\"4.0\"></circle></g><g id=\"node-31\" transform=\"translate(594.198,178.754)\"><circle r=\"4.0\"></circle></g><g id=\"node-32\" transform=\"translate(583.116,178.754)\"><circle r=\"4.0\"></circle></g><g id=\"node-33\" transform=\"translate(572.034,178.754)\"><circle r=\"4.0\"></circle></g><g id=\"node-34\" transform=\"translate(560.952,178.754)\"><circle r=\"4.0\"></circle></g><g id=\"node-35\" transform=\"translate(549.869,178.754)\"><circle r=\"4.0\"></circle></g><g id=\"node-36\" transform=\"translate(538.787,178.754)\"><circle r=\"4.0\"></circle></g><g id=\"node-37\" transform=\"translate(527.705,178.754)\"><circle r=\"4.0\"></circle></g><g id=\"node-38\" transform=\"translate(516.623,178.754)\"><circle r=\"4.0\"></circle></g><g id=\"node-39\" transform=\"translate(505.541,178.754)\"><circle r=\"4.0\"></circle></g><g id=\"node-40\" transform=\"translate(494.459,178.754)\"><circle r=\"4.0\"></circle></g><g id=\"node-41\" transform=\"translate(483.377,178.754)\"><circle r=\"4.0\"></circle></g><g id=\"node-42\" transform=\"translate(472.295,178.754)\"><circle r=\"4.0\"></circle></g><g id=\"node-43\" transform=\"translate(461.213,178.754)\"><circle r=\"4.0\"></circle></g><g id=\"node-44\" transform=\"translate(450.131,178.754)\"><circle r=\"4.0\"></circle></g><g id=\"node-45\" transform=\"translate(439.048,178.754)\"><circle r=\"4.0\"></circle></g><g id=\"node-46\" transform=\"translate(427.966,178.754)\"><circle r=\"4.0\"></circle></g><g id=\"node-47\" transform=\"translate(416.884,178.754)\"><circle r=\"4.0\"></circle></g><g id=\"node-48\" transform=\"translate(405.802,178.754)\"><circle r=\"4.0\"></circle></g><g id=\"node-49\" transform=\"translate(394.720,178.754)\"><circle r=\"4.0\"></circle></g><g id=\"node-50\" transform=\"translate(383.638,178.754)\"><circle r=\"4.0\"></circle></g><g id=\"node-51\" transform=\"translate(372.556,178.754)\"><circle r=\"4.0\"></circle></g><g id=\"node-52\" transform=\"translate(361.474,178.754)\"><circle r=\"4.0\"></circle></g><g id=\"node-53\" transform=\"translate(350.392,178.754)\"><circle r=\"4.0\"></circle></g><g id=\"node-54\" transform=\"translate(339.309,178.754)\"><circle r=\"4.0\"></circle></g><g id=\"node-55\" transform=\"translate(328.227,178.754)\"><circle r=\"4.0\"></circle></g><g id=\"node-56\" transform=\"translate(317.145,178.754)\"><circle r=\"4.0\"></circle></g><g id=\"node-57\" transform=\"translate(306.063,178.754)\"><circle r=\"4.0\"></circle></g><g id=\"node-58\" transform=\"translate(294.981,178.754)\"><circle r=\"4.0\"></circle></g><g id=\"node-59\" transform=\"translate(283.899,178.754)\"><circle r=\"4.0\"></circle></g><g id=\"node-60\" transform=\"translate(272.817,178.754)\"><circle r=\"4.0\"></circle></g><g id=\"node-61\" transform=\"translate(261.735,178.754)\"><circle r=\"4.0\"></circle></g><g id=\"node-62\" transform=\"translate(250.653,178.754)\"><circle r=\"4.0\"></circle></g><g id=\"node-63\" transform=\"translate(239.571,178.754)\"><circle r=\"4.0\"></circle></g><g id=\"node-64\" transform=\"translate(228.488,178.754)\"><circle r=\"4.0\"></circle></g><g id=\"node-65\" transform=\"translate(217.406,178.754)\"><circle r=\"4.0\"></circle></g><g id=\"node-66\" transform=\"translate(206.324,178.754)\"><circle r=\"4.0\"></circle></g><g id=\"node-67\" transform=\"translate(195.242,178.754)\"><circle r=\"4.0\"></circle></g><g id=\"node-68\" transform=\"translate(184.160,178.754)\"><circle r=\"4.0\"></circle></g><g id=\"node-69\" transform=\"translate(173.078,178.754)\"><circle r=\"4.0\"></circle></g><g id=\"node-70\" transform=\"translate(161.996,178.754)\"><circle r=\"4.0\"></circle></g><g id=\"node-71\" transform=\"translate(150.914,178.754)\"><circle r=\"4.0\"></circle></g><g id=\"node-72\" transform=\"translate(139.832,178.754)\"><circle r=\"4.0\"></circle></g><g id=\"node-73\" transform=\"translate(128.749,178.754)\"><circle r=\"4.0\"></circle></g><g id=\"node-74\" transform=\"translate(117.667,178.754)\"><circle r=\"4.0\"></circle></g><g id=\"node-75\" transform=\"translate(106.585,178.754)\"><circle r=\"4.0\"></circle></g><g id=\"node-76\" transform=\"translate(95.503,178.754)\"><circle r=\"4.0\"></circle></g><g id=\"node-77\" transform=\"translate(84.421,178.754)\"><circle r=\"4.0\"></circle></g><g id=\"node-78\" transform=\"translate(73.339,178.754)\"><circle r=\"4.0\"></circle></g><g id=\"node-79\" transform=\"translate(62.257,178.754)\"><circle r=\"4.0\"></circle></g><g id=\"node-80\" transform=\"translate(932.202,178.326)\"><circle r=\"4.0\"></circle></g><g id=\"node-81\" transform=\"translate(923.891,178.211)\"><circle r=\"4.0\"></circle></g><g id=\"node-82\" transform=\"translate(914.194,177.082)\"><circle r=\"4.0\"></circle></g><g id=\"node-83\" transform=\"translate(903.804,175.576)\"><circle r=\"4.0\"></circle></g><g id=\"node-84\" transform=\"translate(876.792,175.803)\"><circle r=\"4.0\"></circle></g><g id=\"node-85\" transform=\"translate(890.298,175.354)\"><circle r=\"4.0\"></circle></g><g id=\"node-86\" transform=\"translate(843.545,178.054)\"><circle r=\"4.0\"></circle></g><g id=\"node-87\" transform=\"translate(788.135,172.054)\"><circle r=\"4.0\"></circle></g><g id=\"node-88\" transform=\"translate(765.971,173.682)\"><circle r=\"4.0\"></circle></g><g id=\"node-89\" transform=\"translate(743.806,178.525)\"><circle r=\"4.0\"></circle></g><g id=\"node-90\" transform=\"translate(710.560,178.130)\"><circle r=\"4.0\"></circle></g><g id=\"node-91\" transform=\"translate(666.232,177.474)\"><circle r=\"4.0\"></circle></g><g id=\"node-92\" transform=\"translate(488.918,177.716)\"><circle r=\"4.0\"></circle></g><g id=\"node-93\" transform=\"translate(875.233,174.118)\"><circle r=\"4.0\"></circle></g><g id=\"node-94\" transform=\"translate(835.234,174.639)\"><circle r=\"4.0\"></circle></g><g id=\"node-95\" transform=\"translate(777.053,167.709)\"><circle r=\"4.0\"></circle></g><g id=\"node-96\" transform=\"translate(735.495,173.194)\"><circle r=\"4.0\"></circle></g><g id=\"node-97\" transform=\"translate(702.248,176.059)\"><circle r=\"4.0\"></circle></g><g id=\"node-98\" transform=\"translate(657.920,177.227)\"><circle r=\"4.0\"></circle></g><g id=\"node-99\" transform=\"translate(480.606,177.587)\"><circle r=\"4.0\"></circle></g><g id=\"node-100\" transform=\"translate(855.233,169.317)\"><circle r=\"4.0\"></circle></g><g id=\"node-101\" transform=\"translate(810.299,176.792)\"><circle r=\"4.0\"></circle></g><g id=\"node-102\" transform=\"translate(756.274,164.514)\"><circle r=\"4.0\"></circle></g><g id=\"node-103\" transform=\"translate(692.552,170.331)\"><circle r=\"4.0\"></circle></g><g id=\"node-104\" transform=\"translate(648.223,176.414)\"><circle r=\"4.0\"></circle></g><g id=\"node-105\" transform=\"translate(621.903,174.803)\"><circle r=\"4.0\"></circle></g><g id=\"node-106\" transform=\"translate(533.246,177.131)\"><circle r=\"4.0\"></circle></g><g id=\"node-107\" transform=\"translate(470.909,174.900)\"><circle r=\"4.0\"></circle></g><g id=\"node-108\" transform=\"translate(222.947,178.105)\"><circle r=\"4.0\"></circle></g><g id=\"node-109\" transform=\"translate(200.783,178.709)\"><circle r=\"4.0\"></circle></g><g id=\"node-110\" transform=\"translate(832.766,168.000)\"><circle r=\"4.0\"></circle></g><g id=\"node-111\" transform=\"translate(724.413,164.432)\"><circle r=\"4.0\"></circle></g><g id=\"node-112\" transform=\"translate(635.063,168.110)\"><circle r=\"4.0\"></circle></g><g id=\"node-113\" transform=\"translate(599.739,177.578)\"><circle r=\"4.0\"></circle></g><g id=\"node-114\" transform=\"translate(577.575,177.156)\"><circle r=\"4.0\"></circle></g><g id=\"node-115\" transform=\"translate(555.411,178.726)\"><circle r=\"4.0\"></circle></g><g id=\"node-116\" transform=\"translate(524.935,176.814)\"><circle r=\"4.0\"></circle></g><g id=\"node-117\" transform=\"translate(460.520,168.139)\"><circle r=\"4.0\"></circle></g><g id=\"node-118\" transform=\"translate(311.604,176.094)\"><circle r=\"4.0\"></circle></g><g id=\"node-119\" transform=\"translate(289.440,178.039)\"><circle r=\"4.0\"></circle></g><g id=\"node-120\" transform=\"translate(211.865,177.780)\"><circle r=\"4.0\"></circle></g><g id=\"node-121\" transform=\"translate(778.589,160.915)\"><circle r=\"4.0\"></circle></g><g id=\"node-122\" transform=\"translate(617.401,160.151)\"><circle r=\"4.0\"></circle></g><g id=\"node-123\" transform=\"translate(566.493,163.439)\"><circle r=\"4.0\"></circle></g><g id=\"node-124\" transform=\"translate(515.238,170.784)\"><circle r=\"4.0\"></circle></g><g id=\"node-125\" transform=\"translate(449.784,165.189)\"><circle r=\"4.0\"></circle></g><g id=\"node-126\" transform=\"translate(422.425,176.228)\"><circle r=\"4.0\"></circle></g><g id=\"node-127\" transform=\"translate(400.261,177.313)\"><circle r=\"4.0\"></circle></g><g id=\"node-128\" transform=\"translate(300.522,174.258)\"><circle r=\"4.0\"></circle></g><g id=\"node-129\" transform=\"translate(267.276,174.496)\"><circle r=\"4.0\"></circle></g><g id=\"node-130\" transform=\"translate(198.013,176.197)\"><circle r=\"4.0\"></circle></g><g id=\"node-131\" transform=\"translate(134.290,175.590)\"><circle r=\"4.0\"></circle></g><g id=\"node-132\" transform=\"translate(697.995,158.374)\"><circle r=\"4.0\"></circle></g><g id=\"node-133\" transform=\"translate(540.865,161.223)\"><circle r=\"4.0\"></circle></g><g id=\"node-134\" transform=\"translate(436.105,158.153)\"><circle r=\"4.0\"></circle></g><g id=\"node-135\" transform=\"translate(391.949,175.127)\"><circle r=\"4.0\"></circle></g><g id=\"node-136\" transform=\"translate(367.015,177.862)\"><circle r=\"4.0\"></circle></g><g id=\"node-137\" transform=\"translate(283.899,167.621)\"><circle r=\"4.0\"></circle></g><g id=\"node-138\" transform=\"translate(245.112,178.709)\"><circle r=\"4.0\"></circle></g><g id=\"node-139\" transform=\"translate(185.545,171.531)\"><circle r=\"4.0\"></circle></g><g id=\"node-140\" transform=\"translate(156.455,176.421)\"><circle r=\"4.0\"></circle></g><g id=\"node-141\" transform=\"translate(125.979,174.541)\"><circle r=\"4.0\"></circle></g><g id=\"node-142\" transform=\"translate(101.044,178.158)\"><circle r=\"4.0\"></circle></g><g id=\"node-143\" transform=\"translate(78.880,178.498)\"><circle r=\"4.0\"></circle></g><g id=\"node-144\" transform=\"translate(619.430,144.623)\"><circle r=\"4.0\"></circle></g><g id=\"node-145\" transform=\"translate(414.027,154.996)\"><circle r=\"4.0\"></circle></g><g id=\"node-146\" transform=\"translate(358.703,170.106)\"><circle r=\"4.0\"></circle></g><g id=\"node-147\" transform=\"translate(333.768,174.064)\"><circle r=\"4.0\"></circle></g><g id=\"node-148\" transform=\"translate(264.505,167.117)\"><circle r=\"4.0\"></circle></g><g id=\"node-149\" transform=\"translate(171.000,168.691)\"><circle r=\"4.0\"></circle></g><g id=\"node-150\" transform=\"translate(113.512,157.463)\"><circle r=\"4.0\"></circle></g><g id=\"node-151\" transform=\"translate(70.568,178.496)\"><circle r=\"4.0\"></circle></g><g id=\"node-152\" transform=\"translate(516.729,127.330)\"><circle r=\"4.0\"></circle></g><g id=\"node-153\" transform=\"translate(346.236,161.088)\"><circle r=\"4.0\"></circle></g><g id=\"node-154\" transform=\"translate(217.753,137.187)\"><circle r=\"4.0\"></circle></g><g id=\"node-155\" transform=\"translate(92.040,154.101)\"><circle r=\"4.0\"></circle></g><g id=\"node-156\" transform=\"translate(431.482,110.446)\"><circle r=\"4.0\"></circle></g><g id=\"node-157\" transform=\"translate(154.896,119.991)\"><circle r=\"4.0\"></circle></g><g id=\"node-158\" transform=\"translate(293.189,55.787)\"><circle r=\"4.0\"></circle></g></g><g class=\"toytree-TipLabels\" style=\"fill:rgb(14.9%,14.9%,14.9%);fill-opacity:1.0;font-family:helvetica;font-size:11px;font-weight:normal;stroke:none;white-space:pre\"><g transform=\"translate(937.74,178.75)rotate(-90)\"><text x=\"-37.01\" y=\"2.81\" style=\"\">r0_6</text></g><g transform=\"translate(926.66,178.75)rotate(-90)\"><text x=\"-37.01\" y=\"2.81\" style=\"\">r0_1</text></g><g transform=\"translate(915.58,178.75)rotate(-90)\"><text x=\"-37.01\" y=\"2.81\" style=\"\">r0_4</text></g><g transform=\"translate(904.50,178.75)rotate(-90)\"><text x=\"-37.01\" y=\"2.81\" style=\"\">r0_3</text></g><g transform=\"translate(893.41,178.75)rotate(-90)\"><text x=\"-37.01\" y=\"2.81\" style=\"\">r0_0</text></g><g transform=\"translate(882.33,178.75)rotate(-90)\"><text x=\"-37.01\" y=\"2.81\" style=\"\">r0_2</text></g><g transform=\"translate(871.25,178.75)rotate(-90)\"><text x=\"-37.01\" y=\"2.81\" style=\"\">r1_5</text></g><g transform=\"translate(860.17,178.75)rotate(-90)\"><text x=\"-37.01\" y=\"2.81\" style=\"\">r1_0</text></g><g transform=\"translate(849.09,178.75)rotate(-90)\"><text x=\"-37.01\" y=\"2.81\" style=\"\">r1_4</text></g><g transform=\"translate(838.00,178.75)rotate(-90)\"><text x=\"-37.01\" y=\"2.81\" style=\"\">r1_1</text></g><g transform=\"translate(826.92,178.75)rotate(-90)\"><text x=\"-37.01\" y=\"2.81\" style=\"\">r0_5</text></g><g transform=\"translate(815.84,178.75)rotate(-90)\"><text x=\"-37.01\" y=\"2.81\" style=\"\">r2_3</text></g><g transform=\"translate(804.76,178.75)rotate(-90)\"><text x=\"-37.01\" y=\"2.81\" style=\"\">r2_1</text></g><g transform=\"translate(793.68,178.75)rotate(-90)\"><text x=\"-37.01\" y=\"2.81\" style=\"\">r0_7</text></g><g transform=\"translate(782.59,178.75)rotate(-90)\"><text x=\"-37.01\" y=\"2.81\" style=\"\">r1_2</text></g><g transform=\"translate(771.51,178.75)rotate(-90)\"><text x=\"-37.01\" y=\"2.81\" style=\"\">r2_4</text></g><g transform=\"translate(760.43,178.75)rotate(-90)\"><text x=\"-37.01\" y=\"2.81\" style=\"\">r2_0</text></g><g transform=\"translate(749.35,178.75)rotate(-90)\"><text x=\"-37.01\" y=\"2.81\" style=\"\">r1_6</text></g><g transform=\"translate(738.27,178.75)rotate(-90)\"><text x=\"-37.01\" y=\"2.81\" style=\"\">r1_3</text></g><g transform=\"translate(727.18,178.75)rotate(-90)\"><text x=\"-37.01\" y=\"2.81\" style=\"\">r1_7</text></g><g transform=\"translate(716.10,178.75)rotate(-90)\"><text x=\"-37.01\" y=\"2.81\" style=\"\">r2_6</text></g><g transform=\"translate(705.02,178.75)rotate(-90)\"><text x=\"-37.01\" y=\"2.81\" style=\"\">r2_5</text></g><g transform=\"translate(693.94,178.75)rotate(-90)\"><text x=\"-37.01\" y=\"2.81\" style=\"\">r2_2</text></g><g transform=\"translate(682.85,178.75)rotate(-90)\"><text x=\"-37.01\" y=\"2.81\" style=\"\">r2_7</text></g><g transform=\"translate(671.77,178.75)rotate(-90)\"><text x=\"-37.01\" y=\"2.81\" style=\"\">r4_7</text></g><g transform=\"translate(660.69,178.75)rotate(-90)\"><text x=\"-37.01\" y=\"2.81\" style=\"\">r4_2</text></g><g transform=\"translate(649.61,178.75)rotate(-90)\"><text x=\"-37.01\" y=\"2.81\" style=\"\">r4_3</text></g><g transform=\"translate(638.53,178.75)rotate(-90)\"><text x=\"-37.01\" y=\"2.81\" style=\"\">r4_4</text></g><g transform=\"translate(627.44,178.75)rotate(-90)\"><text x=\"-37.01\" y=\"2.81\" style=\"\">r4_6</text></g><g transform=\"translate(616.36,178.75)rotate(-90)\"><text x=\"-37.01\" y=\"2.81\" style=\"\">r4_5</text></g><g transform=\"translate(605.28,178.75)rotate(-90)\"><text x=\"-37.01\" y=\"2.81\" style=\"\">r4_1</text></g><g transform=\"translate(594.20,178.75)rotate(-90)\"><text x=\"-37.01\" y=\"2.81\" style=\"\">r4_0</text></g><g transform=\"translate(583.12,178.75)rotate(-90)\"><text x=\"-37.01\" y=\"2.81\" style=\"\">r3_6</text></g><g transform=\"translate(572.03,178.75)rotate(-90)\"><text x=\"-37.01\" y=\"2.81\" style=\"\">r3_3</text></g><g transform=\"translate(560.95,178.75)rotate(-90)\"><text x=\"-37.01\" y=\"2.81\" style=\"\">r3_4</text></g><g transform=\"translate(549.87,178.75)rotate(-90)\"><text x=\"-37.01\" y=\"2.81\" style=\"\">r3_1</text></g><g transform=\"translate(538.79,178.75)rotate(-90)\"><text x=\"-37.01\" y=\"2.81\" style=\"\">r3_7</text></g><g transform=\"translate(527.71,178.75)rotate(-90)\"><text x=\"-37.01\" y=\"2.81\" style=\"\">r3_0</text></g><g transform=\"translate(516.62,178.75)rotate(-90)\"><text x=\"-37.01\" y=\"2.81\" style=\"\">r3_2</text></g><g transform=\"translate(505.54,178.75)rotate(-90)\"><text x=\"-37.01\" y=\"2.81\" style=\"\">r3_5</text></g><g transform=\"translate(494.46,178.75)rotate(-90)\"><text x=\"-37.01\" y=\"2.81\" style=\"\">r5_5</text></g><g transform=\"translate(483.38,178.75)rotate(-90)\"><text x=\"-37.01\" y=\"2.81\" style=\"\">r5_3</text></g><g transform=\"translate(472.29,178.75)rotate(-90)\"><text x=\"-37.01\" y=\"2.81\" style=\"\">r5_7</text></g><g transform=\"translate(461.21,178.75)rotate(-90)\"><text x=\"-37.01\" y=\"2.81\" style=\"\">r5_6</text></g><g transform=\"translate(450.13,178.75)rotate(-90)\"><text x=\"-37.01\" y=\"2.81\" style=\"\">r5_4</text></g><g transform=\"translate(439.05,178.75)rotate(-90)\"><text x=\"-37.01\" y=\"2.81\" style=\"\">r5_2</text></g><g transform=\"translate(427.97,178.75)rotate(-90)\"><text x=\"-37.01\" y=\"2.81\" style=\"\">r5_1</text></g><g transform=\"translate(416.88,178.75)rotate(-90)\"><text x=\"-37.01\" y=\"2.81\" style=\"\">r5_0</text></g><g transform=\"translate(405.80,178.75)rotate(-90)\"><text x=\"-37.01\" y=\"2.81\" style=\"\">r6_2</text></g><g transform=\"translate(394.72,178.75)rotate(-90)\"><text x=\"-37.01\" y=\"2.81\" style=\"\">r6_0</text></g><g transform=\"translate(383.64,178.75)rotate(-90)\"><text x=\"-37.01\" y=\"2.81\" style=\"\">r6_3</text></g><g transform=\"translate(372.56,178.75)rotate(-90)\"><text x=\"-37.01\" y=\"2.81\" style=\"\">r6_5</text></g><g transform=\"translate(361.47,178.75)rotate(-90)\"><text x=\"-37.01\" y=\"2.81\" style=\"\">r6_1</text></g><g transform=\"translate(350.39,178.75)rotate(-90)\"><text x=\"-37.01\" y=\"2.81\" style=\"\">r6_4</text></g><g transform=\"translate(339.31,178.75)rotate(-90)\"><text x=\"-37.01\" y=\"2.81\" style=\"\">r6_7</text></g><g transform=\"translate(328.23,178.75)rotate(-90)\"><text x=\"-37.01\" y=\"2.81\" style=\"\">r6_6</text></g><g transform=\"translate(317.15,178.75)rotate(-90)\"><text x=\"-37.01\" y=\"2.81\" style=\"\">r9_4</text></g><g transform=\"translate(306.06,178.75)rotate(-90)\"><text x=\"-37.01\" y=\"2.81\" style=\"\">r9_2</text></g><g transform=\"translate(294.98,178.75)rotate(-90)\"><text x=\"-37.01\" y=\"2.81\" style=\"\">r9_3</text></g><g transform=\"translate(283.90,178.75)rotate(-90)\"><text x=\"-37.01\" y=\"2.81\" style=\"\">r9_0</text></g><g transform=\"translate(272.82,178.75)rotate(-90)\"><text x=\"-37.01\" y=\"2.81\" style=\"\">r9_6</text></g><g transform=\"translate(261.73,178.75)rotate(-90)\"><text x=\"-37.01\" y=\"2.81\" style=\"\">r9_1</text></g><g transform=\"translate(250.65,178.75)rotate(-90)\"><text x=\"-37.01\" y=\"2.81\" style=\"\">r9_7</text></g><g transform=\"translate(239.57,178.75)rotate(-90)\"><text x=\"-37.01\" y=\"2.81\" style=\"\">r9_5</text></g><g transform=\"translate(228.49,178.75)rotate(-90)\"><text x=\"-37.01\" y=\"2.81\" style=\"\">r8_4</text></g><g transform=\"translate(217.41,178.75)rotate(-90)\"><text x=\"-37.01\" y=\"2.81\" style=\"\">r8_0</text></g><g transform=\"translate(206.32,178.75)rotate(-90)\"><text x=\"-37.01\" y=\"2.81\" style=\"\">r8_5</text></g><g transform=\"translate(195.24,178.75)rotate(-90)\"><text x=\"-37.01\" y=\"2.81\" style=\"\">r8_3</text></g><g transform=\"translate(184.16,178.75)rotate(-90)\"><text x=\"-37.01\" y=\"2.81\" style=\"\">r8_7</text></g><g transform=\"translate(173.08,178.75)rotate(-90)\"><text x=\"-37.01\" y=\"2.81\" style=\"\">r8_1</text></g><g transform=\"translate(162.00,178.75)rotate(-90)\"><text x=\"-37.01\" y=\"2.81\" style=\"\">r8_6</text></g><g transform=\"translate(150.91,178.75)rotate(-90)\"><text x=\"-37.01\" y=\"2.81\" style=\"\">r8_2</text></g><g transform=\"translate(139.83,178.75)rotate(-90)\"><text x=\"-37.01\" y=\"2.81\" style=\"\">r7_6</text></g><g transform=\"translate(128.75,178.75)rotate(-90)\"><text x=\"-37.01\" y=\"2.81\" style=\"\">r7_5</text></g><g transform=\"translate(117.67,178.75)rotate(-90)\"><text x=\"-37.01\" y=\"2.81\" style=\"\">r7_0</text></g><g transform=\"translate(106.59,178.75)rotate(-90)\"><text x=\"-37.01\" y=\"2.81\" style=\"\">r7_7</text></g><g transform=\"translate(95.50,178.75)rotate(-90)\"><text x=\"-37.01\" y=\"2.81\" style=\"\">r7_1</text></g><g transform=\"translate(84.42,178.75)rotate(-90)\"><text x=\"-37.01\" y=\"2.81\" style=\"\">r7_4</text></g><g transform=\"translate(73.34,178.75)rotate(-90)\"><text x=\"-37.01\" y=\"2.81\" style=\"\">r7_2</text></g><g transform=\"translate(62.26,178.75)rotate(-90)\"><text x=\"-37.01\" y=\"2.81\" style=\"\">r7_3</text></g></g></g></g><g class=\"toyplot-coordinates-Axis\" id=\"t3707c60f832b41ddbe11f8f60b5e4091\" transform=\"translate(50.0,220.0)rotate(-90.0)translate(0,-20.0)\"><line x1=\"41.245548270154586\" y1=\"0\" x2=\"164.21328306832154\" y2=\"0\" style=\"\"></line><g><line x1=\"41.245548270154586\" y1=\"0\" x2=\"41.245548270154586\" y2=\"5\" style=\"\"></line><line x1=\"102.72941566923807\" y1=\"0\" x2=\"102.72941566923807\" y2=\"5\" style=\"\"></line><line x1=\"164.21328306832154\" y1=\"0\" x2=\"164.21328306832154\" y2=\"5\" style=\"\"></line></g><g><g transform=\"translate(41.245548270154586,-6)\"><text x=\"-2.78\" y=\"-4.440892098500626e-16\" style=\"fill:rgb(16.1%,15.3%,14.1%);fill-opacity:1.0;font-family:helvetica;font-size:10.0px;font-weight:normal;stroke:none;vertical-align:baseline;white-space:pre\">0</text></g><g transform=\"translate(102.72941566923807,-6)\"><text x=\"-19.459999999999997\" y=\"-4.440892098500626e-16\" style=\"fill:rgb(16.1%,15.3%,14.1%);fill-opacity:1.0;font-family:helvetica;font-size:10.0px;font-weight:normal;stroke:none;vertical-align:baseline;white-space:pre\">3872785</text></g><g transform=\"translate(164.21328306832154,-6)\"><text x=\"-19.459999999999997\" y=\"-4.440892098500626e-16\" style=\"fill:rgb(16.1%,15.3%,14.1%);fill-opacity:1.0;font-family:helvetica;font-size:10.0px;font-weight:normal;stroke:none;vertical-align:baseline;white-space:pre\">7745569</text></g></g><g class=\"toyplot-coordinates-Axis-coordinates\" style=\"visibility:hidden\" transform=\"\"><line x1=\"0\" x2=\"0\" y1=\"3.0\" y2=\"-4.5\" style=\"stroke:rgb(43.9%,50.2%,56.5%);stroke-opacity:1.0;stroke-width:1.0\"></line><text x=\"0\" y=\"6\" style=\"alignment-baseline:hanging;fill:rgb(43.9%,50.2%,56.5%);fill-opacity:1.0;font-size:10px;font-weight:normal;stroke:none;text-anchor:middle\"></text></g></g></g></svg><div class=\"toyplot-behavior\"><script>(function()\n",
       "{\n",
       "var modules={};\n",
       "modules[\"toyplot/canvas/id\"] = \"taff07f977da54d9f9c6d2904cc88e0fc\";\n",
       "modules[\"toyplot/canvas\"] = (function(canvas_id)\n",
       "    {\n",
       "        return document.querySelector(\"#\" + canvas_id);\n",
       "    })(modules[\"toyplot/canvas/id\"]);\n",
       "modules[\"toyplot.coordinates.Axis\"] = (\n",
       "        function(canvas)\n",
       "        {\n",
       "            function sign(x)\n",
       "            {\n",
       "                return x < 0 ? -1 : x > 0 ? 1 : 0;\n",
       "            }\n",
       "\n",
       "            function mix(a, b, amount)\n",
       "            {\n",
       "                return ((1.0 - amount) * a) + (amount * b);\n",
       "            }\n",
       "\n",
       "            function log(x, base)\n",
       "            {\n",
       "                return Math.log(Math.abs(x)) / Math.log(base);\n",
       "            }\n",
       "\n",
       "            function in_range(a, x, b)\n",
       "            {\n",
       "                var left = Math.min(a, b);\n",
       "                var right = Math.max(a, b);\n",
       "                return left <= x && x <= right;\n",
       "            }\n",
       "\n",
       "            function inside(range, projection)\n",
       "            {\n",
       "                for(var i = 0; i != projection.length; ++i)\n",
       "                {\n",
       "                    var segment = projection[i];\n",
       "                    if(in_range(segment.range.min, range, segment.range.max))\n",
       "                        return true;\n",
       "                }\n",
       "                return false;\n",
       "            }\n",
       "\n",
       "            function to_domain(range, projection)\n",
       "            {\n",
       "                for(var i = 0; i != projection.length; ++i)\n",
       "                {\n",
       "                    var segment = projection[i];\n",
       "                    if(in_range(segment.range.bounds.min, range, segment.range.bounds.max))\n",
       "                    {\n",
       "                        if(segment.scale == \"linear\")\n",
       "                        {\n",
       "                            var amount = (range - segment.range.min) / (segment.range.max - segment.range.min);\n",
       "                            return mix(segment.domain.min, segment.domain.max, amount)\n",
       "                        }\n",
       "                        else if(segment.scale[0] == \"log\")\n",
       "                        {\n",
       "                            var amount = (range - segment.range.min) / (segment.range.max - segment.range.min);\n",
       "                            var base = segment.scale[1];\n",
       "                            return sign(segment.domain.min) * Math.pow(base, mix(log(segment.domain.min, base), log(segment.domain.max, base), amount));\n",
       "                        }\n",
       "                    }\n",
       "                }\n",
       "            }\n",
       "\n",
       "            var axes = {};\n",
       "\n",
       "            function display_coordinates(e)\n",
       "            {\n",
       "                var current = canvas.createSVGPoint();\n",
       "                current.x = e.clientX;\n",
       "                current.y = e.clientY;\n",
       "\n",
       "                for(var axis_id in axes)\n",
       "                {\n",
       "                    var axis = document.querySelector(\"#\" + axis_id);\n",
       "                    var coordinates = axis.querySelector(\".toyplot-coordinates-Axis-coordinates\");\n",
       "                    if(coordinates)\n",
       "                    {\n",
       "                        var projection = axes[axis_id];\n",
       "                        var local = current.matrixTransform(axis.getScreenCTM().inverse());\n",
       "                        if(inside(local.x, projection))\n",
       "                        {\n",
       "                            var domain = to_domain(local.x, projection);\n",
       "                            coordinates.style.visibility = \"visible\";\n",
       "                            coordinates.setAttribute(\"transform\", \"translate(\" + local.x + \")\");\n",
       "                            var text = coordinates.querySelector(\"text\");\n",
       "                            text.textContent = domain.toFixed(2);\n",
       "                        }\n",
       "                        else\n",
       "                        {\n",
       "                            coordinates.style.visibility= \"hidden\";\n",
       "                        }\n",
       "                    }\n",
       "                }\n",
       "            }\n",
       "\n",
       "            canvas.addEventListener(\"click\", display_coordinates);\n",
       "\n",
       "            var module = {};\n",
       "            module.show_coordinates = function(axis_id, projection)\n",
       "            {\n",
       "                axes[axis_id] = projection;\n",
       "            }\n",
       "\n",
       "            return module;\n",
       "        })(modules[\"toyplot/canvas\"]);\n",
       "(function(axis, axis_id, projection)\n",
       "        {\n",
       "            axis.show_coordinates(axis_id, projection);\n",
       "        })(modules[\"toyplot.coordinates.Axis\"],\"t3707c60f832b41ddbe11f8f60b5e4091\",[{\"domain\": {\"bounds\": {\"max\": Infinity, \"min\": -Infinity}, \"max\": 8110066.454707746, \"min\": -2598000.557943205}, \"range\": {\"bounds\": {\"max\": Infinity, \"min\": -Infinity}, \"max\": 170.0, \"min\": 0.0}, \"scale\": \"linear\"}]);\n",
       "})();</script></div></div>"
      ]
     },
     "metadata": {},
     "output_type": "display_data"
    }
   ],
   "source": [
    "mod.draw_genealogy(scalebar=True);"
   ]
  },
  {
   "cell_type": "code",
   "execution_count": 398,
   "id": "pacific-manchester",
   "metadata": {},
   "outputs": [],
   "source": [
    "mod.new_sim_trees(nloci=2, nsites=100)"
   ]
  },
  {
   "cell_type": "code",
   "execution_count": 399,
   "id": "natural-philippines",
   "metadata": {},
   "outputs": [
    {
     "data": {
      "text/html": [
       "<div>\n",
       "<style scoped>\n",
       "    .dataframe tbody tr th:only-of-type {\n",
       "        vertical-align: middle;\n",
       "    }\n",
       "\n",
       "    .dataframe tbody tr th {\n",
       "        vertical-align: top;\n",
       "    }\n",
       "\n",
       "    .dataframe thead th {\n",
       "        text-align: right;\n",
       "    }\n",
       "</style>\n",
       "<table border=\"1\" class=\"dataframe\">\n",
       "  <thead>\n",
       "    <tr style=\"text-align: right;\">\n",
       "      <th></th>\n",
       "      <th>locus</th>\n",
       "      <th>start</th>\n",
       "      <th>end</th>\n",
       "      <th>nbps</th>\n",
       "      <th>nsnps</th>\n",
       "      <th>tidx</th>\n",
       "      <th>genealogy</th>\n",
       "    </tr>\n",
       "  </thead>\n",
       "  <tbody>\n",
       "    <tr>\n",
       "      <th>0</th>\n",
       "      <td>0</td>\n",
       "      <td>0</td>\n",
       "      <td>100</td>\n",
       "      <td>100</td>\n",
       "      <td>0</td>\n",
       "      <td>0</td>\n",
       "      <td>(((A_2:71398,A_3:71398):...</td>\n",
       "    </tr>\n",
       "    <tr>\n",
       "      <th>1</th>\n",
       "      <td>1</td>\n",
       "      <td>0</td>\n",
       "      <td>92</td>\n",
       "      <td>92</td>\n",
       "      <td>0</td>\n",
       "      <td>0</td>\n",
       "      <td>((A_3:180814,(A_0:43098,...</td>\n",
       "    </tr>\n",
       "    <tr>\n",
       "      <th>2</th>\n",
       "      <td>1</td>\n",
       "      <td>92</td>\n",
       "      <td>100</td>\n",
       "      <td>8</td>\n",
       "      <td>0</td>\n",
       "      <td>1</td>\n",
       "      <td>((A_3:180814,(A_0:43098,...</td>\n",
       "    </tr>\n",
       "  </tbody>\n",
       "</table>\n",
       "</div>"
      ],
      "text/plain": [
       "   locus  start  end  nbps  nsnps  tidx                    genealogy\n",
       "0      0      0  100   100      0     0  (((A_2:71398,A_3:71398):...\n",
       "1      1      0   92    92      0     0  ((A_3:180814,(A_0:43098,...\n",
       "2      1     92  100     8      0     1  ((A_3:180814,(A_0:43098,..."
      ]
     },
     "execution_count": 399,
     "metadata": {},
     "output_type": "execute_result"
    }
   ],
   "source": [
    "mod.df"
   ]
  },
  {
   "cell_type": "code",
   "execution_count": 400,
   "id": "collective-fellow",
   "metadata": {},
   "outputs": [
    {
     "data": {
      "text/html": [
       "<div class=\"toyplot\" id=\"t287a14a469cc411d962536529199c4ab\" style=\"text-align:center\"><svg class=\"toyplot-canvas-Canvas\" xmlns:toyplot=\"http://www.sandia.gov/toyplot\" xmlns:xlink=\"http://www.w3.org/1999/xlink\" xmlns=\"http://www.w3.org/2000/svg\" width=\"350.0px\" height=\"265.0px\" viewBox=\"0 0 350.0 265.0\" preserveAspectRatio=\"xMidYMid meet\" style=\"background-color:transparent;border-color:#292724;border-style:none;border-width:1.0;fill:rgb(16.1%,15.3%,14.1%);fill-opacity:1.0;font-family:Helvetica;font-size:12px;opacity:1.0;stroke:rgb(16.1%,15.3%,14.1%);stroke-opacity:1.0;stroke-width:1.0\" id=\"t36b535b96d7c4236afd2addfa1c24ebc\"><g class=\"toyplot-coordinates-Cartesian\" id=\"tc58f6b6d1f2043ff90ec0794f2dfb73f\"><clipPath id=\"t5ab90cf0d0734c92873118f79eefdc3c\"><rect x=\"30.0\" y=\"30.0\" width=\"290.0\" height=\"205.0\"></rect></clipPath><g clip-path=\"url(#t5ab90cf0d0734c92873118f79eefdc3c)\"><g class=\"toytree-mark-Toytree\" id=\"tdf2095ba2ace4c23ac36ee4c5968e563\"><g class=\"toytree-Edges\" style=\"fill:none;stroke:rgb(14.9%,14.9%,14.9%);stroke-linecap:round;stroke-opacity:1;stroke-width:2\"><path d=\"M 164.9 55.9 L 110.1 172.5\" id=\"14,13\"></path><path d=\"M 164.9 55.9 L 219.6 162.3\" id=\"14,12\"></path><path d=\"M 110.1 172.5 L 77.7 174.5\" id=\"13,11\"></path><path d=\"M 110.1 172.5 L 142.6 174.4\" id=\"13,10\"></path><path d=\"M 219.6 162.3 L 248.0 162.3\" id=\"12,9\"></path><path d=\"M 248.0 162.3 L 272.3 174.0\" id=\"9,8\"></path><path d=\"M 77.7 174.5 L 61.4 176.7\" id=\"11,7\"></path><path d=\"M 77.7 174.5 L 93.9 176.7\" id=\"11,6\"></path><path d=\"M 142.6 174.4 L 126.3 176.7\" id=\"10,5\"></path><path d=\"M 142.6 174.4 L 158.8 176.7\" id=\"10,4\"></path><path d=\"M 219.6 162.3 L 191.2 176.7\" id=\"12,3\"></path><path d=\"M 248.0 162.3 L 223.7 176.7\" id=\"9,2\"></path><path d=\"M 272.3 174.0 L 256.1 176.7\" id=\"8,1\"></path><path d=\"M 272.3 174.0 L 288.6 176.7\" id=\"8,0\"></path></g><g class=\"toytree-Nodes\" style=\"fill:rgb(40%,76.1%,64.7%);fill-opacity:1.0;stroke:rgb(14.9%,14.9%,14.9%);stroke-opacity:1.0;stroke-width:1.5\"><g id=\"node-0\" transform=\"translate(288.554,176.665)\"><circle r=\"4.0\"></circle></g><g id=\"node-1\" transform=\"translate(256.110,176.665)\"><circle r=\"4.0\"></circle></g><g id=\"node-2\" transform=\"translate(223.666,176.665)\"><circle r=\"4.0\"></circle></g><g id=\"node-3\" transform=\"translate(191.222,176.665)\"><circle r=\"4.0\"></circle></g><g id=\"node-4\" transform=\"translate(158.778,176.665)\"><circle r=\"4.0\"></circle></g><g id=\"node-5\" transform=\"translate(126.334,176.665)\"><circle r=\"4.0\"></circle></g><g id=\"node-6\" transform=\"translate(93.890,176.665)\"><circle r=\"4.0\"></circle></g><g id=\"node-7\" transform=\"translate(61.446,176.665)\"><circle r=\"4.0\"></circle></g><g id=\"node-8\" transform=\"translate(272.332,174.048)\"><circle r=\"4.0\"></circle></g><g id=\"node-9\" transform=\"translate(247.999,162.313)\"><circle r=\"4.0\"></circle></g><g id=\"node-10\" transform=\"translate(142.556,174.351)\"><circle r=\"4.0\"></circle></g><g id=\"node-11\" transform=\"translate(77.668,174.455)\"><circle r=\"4.0\"></circle></g><g id=\"node-12\" transform=\"translate(219.610,162.290)\"><circle r=\"4.0\"></circle></g><g id=\"node-13\" transform=\"translate(110.112,172.504)\"><circle r=\"4.0\"></circle></g><g id=\"node-14\" transform=\"translate(164.861,55.857)\"><circle r=\"4.0\"></circle></g></g><g class=\"toytree-TipLabels\" style=\"fill:rgb(14.9%,14.9%,14.9%);fill-opacity:1.0;font-family:helvetica;font-size:11px;font-weight:normal;stroke:none;white-space:pre\"><g transform=\"translate(288.55,176.66)rotate(-90)\"><text x=\"-34.57\" y=\"2.81\" style=\"\">B_2</text></g><g transform=\"translate(256.11,176.66)rotate(-90)\"><text x=\"-34.57\" y=\"2.81\" style=\"\">B_1</text></g><g transform=\"translate(223.67,176.66)rotate(-90)\"><text x=\"-34.57\" y=\"2.81\" style=\"\">B_3</text></g><g transform=\"translate(191.22,176.66)rotate(-90)\"><text x=\"-34.57\" y=\"2.81\" style=\"\">B_0</text></g><g transform=\"translate(158.78,176.66)rotate(-90)\"><text x=\"-34.57\" y=\"2.81\" style=\"\">A_1</text></g><g transform=\"translate(126.33,176.66)rotate(-90)\"><text x=\"-34.57\" y=\"2.81\" style=\"\">A_0</text></g><g transform=\"translate(93.89,176.66)rotate(-90)\"><text x=\"-34.57\" y=\"2.81\" style=\"\">A_3</text></g><g transform=\"translate(61.45,176.66)rotate(-90)\"><text x=\"-34.57\" y=\"2.81\" style=\"\">A_2</text></g></g></g></g><g class=\"toyplot-coordinates-Axis\" id=\"tb28371da18b24d688f40c45f0d07d619\" transform=\"translate(50.0,215.0)rotate(-90.0)translate(0,-20.0)\"><line x1=\"38.33543368580797\" y1=\"0\" x2=\"159.14267901437262\" y2=\"0\" style=\"\"></line><g><line x1=\"38.33543368580797\" y1=\"0\" x2=\"38.33543368580797\" y2=\"5\" style=\"\"></line><line x1=\"98.7390563500903\" y1=\"0\" x2=\"98.7390563500903\" y2=\"5\" style=\"\"></line><line x1=\"159.14267901437262\" y1=\"0\" x2=\"159.14267901437262\" y2=\"5\" style=\"\"></line></g><g><g transform=\"translate(38.33543368580797,-6)\"><text x=\"-2.78\" y=\"-4.440892098500626e-16\" style=\"fill:rgb(16.1%,15.3%,14.1%);fill-opacity:1.0;font-family:helvetica;font-size:10.0px;font-weight:normal;stroke:none;vertical-align:baseline;white-space:pre\">0</text></g><g transform=\"translate(98.7390563500903,-6)\"><text x=\"-19.459999999999997\" y=\"-4.440892098500626e-16\" style=\"fill:rgb(16.1%,15.3%,14.1%);fill-opacity:1.0;font-family:helvetica;font-size:10.0px;font-weight:normal;stroke:none;vertical-align:baseline;white-space:pre\">1951578</text></g><g transform=\"translate(159.14267901437262,-6)\"><text x=\"-19.459999999999997\" y=\"-4.440892098500626e-16\" style=\"fill:rgb(16.1%,15.3%,14.1%);fill-opacity:1.0;font-family:helvetica;font-size:10.0px;font-weight:normal;stroke:none;vertical-align:baseline;white-space:pre\">3903155</text></g></g><g class=\"toyplot-coordinates-Axis-coordinates\" style=\"visibility:hidden\" transform=\"\"><line x1=\"0\" x2=\"0\" y1=\"3.0\" y2=\"-4.5\" style=\"stroke:rgb(43.9%,50.2%,56.5%);stroke-opacity:1.0;stroke-width:1.0\"></line><text x=\"0\" y=\"6\" style=\"alignment-baseline:hanging;fill:rgb(43.9%,50.2%,56.5%);fill-opacity:1.0;font-size:10px;font-weight:normal;stroke:none;text-anchor:middle\"></text></g></g></g></svg><div class=\"toyplot-behavior\"><script>(function()\n",
       "{\n",
       "var modules={};\n",
       "modules[\"toyplot/canvas/id\"] = \"t36b535b96d7c4236afd2addfa1c24ebc\";\n",
       "modules[\"toyplot/canvas\"] = (function(canvas_id)\n",
       "    {\n",
       "        return document.querySelector(\"#\" + canvas_id);\n",
       "    })(modules[\"toyplot/canvas/id\"]);\n",
       "modules[\"toyplot.coordinates.Axis\"] = (\n",
       "        function(canvas)\n",
       "        {\n",
       "            function sign(x)\n",
       "            {\n",
       "                return x < 0 ? -1 : x > 0 ? 1 : 0;\n",
       "            }\n",
       "\n",
       "            function mix(a, b, amount)\n",
       "            {\n",
       "                return ((1.0 - amount) * a) + (amount * b);\n",
       "            }\n",
       "\n",
       "            function log(x, base)\n",
       "            {\n",
       "                return Math.log(Math.abs(x)) / Math.log(base);\n",
       "            }\n",
       "\n",
       "            function in_range(a, x, b)\n",
       "            {\n",
       "                var left = Math.min(a, b);\n",
       "                var right = Math.max(a, b);\n",
       "                return left <= x && x <= right;\n",
       "            }\n",
       "\n",
       "            function inside(range, projection)\n",
       "            {\n",
       "                for(var i = 0; i != projection.length; ++i)\n",
       "                {\n",
       "                    var segment = projection[i];\n",
       "                    if(in_range(segment.range.min, range, segment.range.max))\n",
       "                        return true;\n",
       "                }\n",
       "                return false;\n",
       "            }\n",
       "\n",
       "            function to_domain(range, projection)\n",
       "            {\n",
       "                for(var i = 0; i != projection.length; ++i)\n",
       "                {\n",
       "                    var segment = projection[i];\n",
       "                    if(in_range(segment.range.bounds.min, range, segment.range.bounds.max))\n",
       "                    {\n",
       "                        if(segment.scale == \"linear\")\n",
       "                        {\n",
       "                            var amount = (range - segment.range.min) / (segment.range.max - segment.range.min);\n",
       "                            return mix(segment.domain.min, segment.domain.max, amount)\n",
       "                        }\n",
       "                        else if(segment.scale[0] == \"log\")\n",
       "                        {\n",
       "                            var amount = (range - segment.range.min) / (segment.range.max - segment.range.min);\n",
       "                            var base = segment.scale[1];\n",
       "                            return sign(segment.domain.min) * Math.pow(base, mix(log(segment.domain.min, base), log(segment.domain.max, base), amount));\n",
       "                        }\n",
       "                    }\n",
       "                }\n",
       "            }\n",
       "\n",
       "            var axes = {};\n",
       "\n",
       "            function display_coordinates(e)\n",
       "            {\n",
       "                var current = canvas.createSVGPoint();\n",
       "                current.x = e.clientX;\n",
       "                current.y = e.clientY;\n",
       "\n",
       "                for(var axis_id in axes)\n",
       "                {\n",
       "                    var axis = document.querySelector(\"#\" + axis_id);\n",
       "                    var coordinates = axis.querySelector(\".toyplot-coordinates-Axis-coordinates\");\n",
       "                    if(coordinates)\n",
       "                    {\n",
       "                        var projection = axes[axis_id];\n",
       "                        var local = current.matrixTransform(axis.getScreenCTM().inverse());\n",
       "                        if(inside(local.x, projection))\n",
       "                        {\n",
       "                            var domain = to_domain(local.x, projection);\n",
       "                            coordinates.style.visibility = \"visible\";\n",
       "                            coordinates.setAttribute(\"transform\", \"translate(\" + local.x + \")\");\n",
       "                            var text = coordinates.querySelector(\"text\");\n",
       "                            text.textContent = domain.toFixed(2);\n",
       "                        }\n",
       "                        else\n",
       "                        {\n",
       "                            coordinates.style.visibility= \"hidden\";\n",
       "                        }\n",
       "                    }\n",
       "                }\n",
       "            }\n",
       "\n",
       "            canvas.addEventListener(\"click\", display_coordinates);\n",
       "\n",
       "            var module = {};\n",
       "            module.show_coordinates = function(axis_id, projection)\n",
       "            {\n",
       "                axes[axis_id] = projection;\n",
       "            }\n",
       "\n",
       "            return module;\n",
       "        })(modules[\"toyplot/canvas\"]);\n",
       "(function(axis, axis_id, projection)\n",
       "        {\n",
       "            axis.show_coordinates(axis_id, projection);\n",
       "        })(modules[\"toyplot.coordinates.Axis\"],\"tb28371da18b24d688f40c45f0d07d619\",[{\"domain\": {\"bounds\": {\"max\": Infinity, \"min\": -Infinity}, \"max\": 4092398.8787878794, \"min\": -1238577.5311818179}, \"range\": {\"bounds\": {\"max\": Infinity, \"min\": -Infinity}, \"max\": 165.0, \"min\": 0.0}, \"scale\": \"linear\"}]);\n",
       "})();</script></div></div>"
      ]
     },
     "metadata": {},
     "output_type": "display_data"
    }
   ],
   "source": [
    "mod.draw_genealogy(idx=0);"
   ]
  },
  {
   "cell_type": "code",
   "execution_count": 401,
   "id": "present-uruguay",
   "metadata": {},
   "outputs": [
    {
     "data": {
      "text/plain": [
       "<msprime.mutations.BinaryMutationModel at 0x7f3e02537140>"
      ]
     },
     "execution_count": 401,
     "metadata": {},
     "output_type": "execute_result"
    }
   ],
   "source": [
    "#ms.GTR()\n",
    "ms.BinaryMutationModel()"
   ]
  },
  {
   "cell_type": "code",
   "execution_count": 61,
   "id": "collective-editor",
   "metadata": {},
   "outputs": [],
   "source": [
    "x = ms.JC69()"
   ]
  },
  {
   "cell_type": "code",
   "execution_count": 84,
   "id": "olive-interview",
   "metadata": {},
   "outputs": [
    {
     "data": {
      "text/plain": [
       "array([0.25, 0.25, 0.25, 0.25])"
      ]
     },
     "execution_count": 84,
     "metadata": {},
     "output_type": "execute_result"
    }
   ],
   "source": [
    "x.root_distribution"
   ]
  },
  {
   "cell_type": "code",
   "execution_count": 83,
   "id": "fleet-needle",
   "metadata": {},
   "outputs": [
    {
     "data": {
      "text/plain": [
       "array(['b', 'b', 'a', 'a', 'a', 'a', 'a', 'b', 'a', 'b'], dtype='<U1')"
      ]
     },
     "execution_count": 83,
     "metadata": {},
     "output_type": "execute_result"
    }
   ],
   "source": [
    "np.random.choice(['a', 'b'], replace=True, size=10, p=[0.5, 0.5])"
   ]
  },
  {
   "cell_type": "code",
   "execution_count": 67,
   "id": "accomplished-execution",
   "metadata": {},
   "outputs": [
    {
     "data": {
      "text/plain": [
       "(array([0.25, 0.25, 0.25, 0.25]), ['A', 'C', 'G', 'T'])"
      ]
     },
     "execution_count": 67,
     "metadata": {},
     "output_type": "execute_result"
    }
   ],
   "source": [
    "x.root_distribution, x.alleles"
   ]
  },
  {
   "cell_type": "code",
   "execution_count": 33,
   "id": "frank-inquiry",
   "metadata": {},
   "outputs": [],
   "source": [
    "def get_one():\n",
    "    msgen = mod.get_tree_sequence_generator(nsites=1000, )\n",
    "    while 1:\n",
    "        ts = next(msgen)\n",
    "        mts = ms.sim_mutations(ts, rate=1e-8, model=\"JC69\")\n",
    "\n",
    "        if mts.num_mutations:\n",
    "            #for var in mts.variants():\n",
    "            #    print(var.site.position, var.alleles, var.genotypes, sep=\"\\t\")\n",
    "            break\n",
    "    return mts#.variants()"
   ]
  },
  {
   "cell_type": "code",
   "execution_count": 34,
   "id": "distinguished-compiler",
   "metadata": {},
   "outputs": [],
   "source": [
    "mts = get_one()"
   ]
  },
  {
   "cell_type": "code",
   "execution_count": 39,
   "id": "common-circumstances",
   "metadata": {},
   "outputs": [
    {
     "data": {
      "text/plain": [
       "array([[2, 0, 2, ..., 2, 2, 2],\n",
       "       [3, 3, 3, ..., 0, 0, 0],\n",
       "       [0, 0, 3, ..., 0, 0, 0],\n",
       "       ...,\n",
       "       [0, 0, 0, ..., 3, 3, 3],\n",
       "       [1, 1, 1, ..., 0, 0, 0],\n",
       "       [1, 1, 1, ..., 0, 0, 0]], dtype=int8)"
      ]
     },
     "execution_count": 39,
     "metadata": {},
     "output_type": "execute_result"
    }
   ],
   "source": [
    "mts.genotype_matrix(alleles=tuple(\"ACGT\"))"
   ]
  },
  {
   "cell_type": "code",
   "execution_count": 89,
   "id": "retired-pickup",
   "metadata": {},
   "outputs": [],
   "source": [
    "x = np.zeros((2, 2, 2))"
   ]
  },
  {
   "cell_type": "code",
   "execution_count": 91,
   "id": "disciplinary-jackson",
   "metadata": {},
   "outputs": [],
   "source": [
    "x[0, :, : ] = 2, 3"
   ]
  },
  {
   "cell_type": "code",
   "execution_count": 92,
   "id": "arctic-diary",
   "metadata": {},
   "outputs": [
    {
     "data": {
      "text/plain": [
       "array([[[2., 3.],\n",
       "        [2., 3.]],\n",
       "\n",
       "       [[0., 0.],\n",
       "        [0., 0.]]])"
      ]
     },
     "execution_count": 92,
     "metadata": {},
     "output_type": "execute_result"
    }
   ],
   "source": [
    "mts.genotype_matrix()"
   ]
  },
  {
   "cell_type": "code",
   "execution_count": 88,
   "id": "potential-strategy",
   "metadata": {},
   "outputs": [
    {
     "data": {
      "text/plain": [
       "{'id': 136, 'position': 999.0, 'ancestral_state': 'C', 'mutations': [{'id': 146, 'site': 136, 'node': 19, 'time': 4480129.368451165, 'derived_state': 'A', 'parent': -1, 'metadata': b''}], 'metadata': b''}"
      ]
     },
     "execution_count": 88,
     "metadata": {},
     "output_type": "execute_result"
    }
   ],
   "source": [
    "s."
   ]
  },
  {
   "cell_type": "code",
   "execution_count": 110,
   "id": "isolated-mother",
   "metadata": {},
   "outputs": [],
   "source": [
    "genos = mts.genotype_matrix(alleles=tuple(\"ACGT\"))"
   ]
  },
  {
   "cell_type": "code",
   "execution_count": 109,
   "id": "turned-theorem",
   "metadata": {},
   "outputs": [
    {
     "data": {
      "text/plain": [
       "array([1, 1, 1, 0, 0, 0, 0, 0], dtype=int8)"
      ]
     },
     "execution_count": 109,
     "metadata": {},
     "output_type": "execute_result"
    }
   ],
   "source": [
    "genos[s.index]"
   ]
  },
  {
   "cell_type": "code",
   "execution_count": 115,
   "id": "angry-outline",
   "metadata": {},
   "outputs": [
    {
     "data": {
      "text/plain": [
       "(137, 8)"
      ]
     },
     "execution_count": 115,
     "metadata": {},
     "output_type": "execute_result"
    }
   ],
   "source": []
  },
  {
   "cell_type": "code",
   "execution_count": 117,
   "id": "neural-breeding",
   "metadata": {},
   "outputs": [
    {
     "name": "stdout",
     "output_type": "stream",
     "text": [
      "0 1.0 [0 1 0 0 0 0 0 0] [2 0 2 2 2 2 2 2]\n",
      "1 8.0 [1 1 1 1 0 0 0 0] [3 3 3 3 0 0 0 0]\n",
      "2 18.0 [0 0 1 0 0 0 0 0] [0 0 3 0 0 0 0 0]\n",
      "3 20.0 [0 0 0 0 1 1 1 1] [1 1 1 1 2 2 2 2]\n",
      "4 39.0 [1 1 1 1 0 0 0 0] [2 2 2 2 1 1 1 1]\n",
      "5 45.0 [2 1 0 0 0 0 0 0] [0 3 1 1 1 1 1 1]\n",
      "6 50.0 [1 1 1 1 0 0 0 0] [2 2 2 2 3 3 3 3]\n",
      "7 77.0 [0 1 0 0 0 0 0 0] [1 0 1 1 1 1 1 1]\n",
      "8 91.0 [0 0 0 0 0 1 0 0] [2 2 2 2 2 0 2 2]\n",
      "9 92.0 [1 1 1 1 0 0 0 0] [2 2 2 2 0 0 0 0]\n",
      "10 97.0 [0 1 0 0 0 0 0 0] [2 0 2 2 2 2 2 2]\n",
      "11 102.0 [0 0 0 0 0 1 0 0] [2 2 2 2 2 1 2 2]\n",
      "12 106.0 [1 0 1 1 0 0 0 0] [2 0 2 2 0 0 0 0]\n",
      "13 107.0 [1 0 1 1 0 0 0 0] [3 0 3 3 0 0 0 0]\n",
      "14 119.0 [0 1 0 0 0 0 0 0] [3 1 3 3 3 3 3 3]\n",
      "15 123.0 [1 1 1 1 0 0 0 0] [0 0 0 0 1 1 1 1]\n",
      "16 128.0 [1 1 1 1 0 0 0 0] [0 0 0 0 2 2 2 2]\n",
      "17 131.0 [1 0 1 1 0 0 0 0] [0 2 0 0 2 2 2 2]\n",
      "18 169.0 [1 1 1 1 0 0 0 0] [3 3 3 3 1 1 1 1]\n",
      "19 176.0 [0 0 0 0 1 0 1 1] [0 0 0 0 2 0 2 2]\n",
      "20 178.0 [0 1 0 0 0 0 0 0] [3 0 3 3 3 3 3 3]\n",
      "21 187.0 [0 0 0 0 1 1 1 1] [1 1 1 1 3 3 3 3]\n",
      "22 193.0 [0 0 0 0 1 1 1 1] [2 2 2 2 0 0 0 0]\n",
      "23 200.0 [0 0 0 0 1 1 1 1] [2 2 2 2 0 0 0 0]\n",
      "24 202.0 [0 1 0 0 0 0 0 0] [1 3 1 1 1 1 1 1]\n",
      "25 243.0 [0 1 0 0 0 0 0 0] [2 3 2 2 2 2 2 2]\n",
      "26 255.0 [0 1 0 0 0 0 0 0] [3 2 3 3 3 3 3 3]\n",
      "27 266.0 [1 2 2 1 0 0 0 0] [1 3 3 1 2 2 2 2]\n",
      "28 267.0 [0 1 1 0 0 0 0 0] [2 0 0 2 2 2 2 2]\n",
      "29 268.0 [1 0 0 1 0 0 0 0] [3 0 0 3 0 0 0 0]\n",
      "30 283.0 [0 0 0 0 0 1 0 0] [1 1 1 1 1 3 1 1]\n",
      "31 286.0 [0 0 1 0 0 0 0 0] [1 1 3 1 1 1 1 1]\n",
      "32 288.0 [0 0 0 0 1 1 1 1] [3 3 3 3 0 0 0 0]\n",
      "33 289.0 [0 0 0 0 1 1 1 1] [2 2 2 2 0 0 0 0]\n",
      "34 297.0 [0 1 1 0 0 0 0 0] [0 2 2 0 0 0 0 0]\n",
      "35 302.0 [0 1 0 0 0 0 0 0] [1 3 1 1 1 1 1 1]\n",
      "36 306.0 [0 1 0 0 0 0 0 0] [3 2 3 3 3 3 3 3]\n",
      "37 311.0 [0 0 0 0 1 0 1 1] [0 0 0 0 2 0 2 2]\n",
      "38 339.0 [0 0 0 0 0 1 0 0] [3 3 3 3 3 0 3 3]\n",
      "39 346.0 [0 0 1 0 0 0 0 0] [0 0 1 0 0 0 0 0]\n",
      "40 349.0 [0 1 1 0 0 0 0 0] [1 2 2 1 1 1 1 1]\n",
      "41 351.0 [0 0 0 0 1 1 1 1] [0 0 0 0 3 3 3 3]\n",
      "42 369.0 [0 0 0 0 1 1 1 1] [1 1 1 1 0 0 0 0]\n",
      "43 372.0 [0 0 0 0 1 1 1 1] [3 3 3 3 1 1 1 1]\n",
      "44 381.0 [1 1 1 0 0 0 0 0] [1 1 1 0 0 0 0 0]\n",
      "45 386.0 [0 0 0 0 0 1 0 0] [1 1 1 1 1 3 1 1]\n",
      "46 390.0 [0 0 0 0 1 1 1 1] [2 2 2 2 3 3 3 3]\n",
      "47 402.0 [0 0 0 0 1 1 1 1] [0 0 0 0 3 3 3 3]\n",
      "48 413.0 [1 1 1 0 0 0 0 0] [0 0 0 3 3 3 3 3]\n",
      "49 416.0 [1 1 1 0 0 0 0 0] [2 2 2 0 0 0 0 0]\n",
      "50 417.0 [0 1 0 0 0 0 0 0] [1 0 1 1 1 1 1 1]\n",
      "51 432.0 [0 0 0 1 0 2 0 0] [3 3 3 0 3 1 3 3]\n",
      "52 433.0 [0 0 0 0 1 1 1 1] [0 0 0 0 1 1 1 1]\n",
      "53 447.0 [0 0 0 1 0 0 0 0] [3 3 3 0 3 3 3 3]\n",
      "54 467.0 [0 0 0 0 1 1 1 1] [3 3 3 3 2 2 2 2]\n",
      "55 471.0 [0 0 0 1 0 0 0 0] [0 0 0 2 0 0 0 0]\n",
      "56 472.0 [2 0 0 1 0 0 0 0] [1 3 3 0 3 3 3 3]\n",
      "57 492.0 [0 0 0 1 1 1 1 1] [2 2 2 1 1 1 1 1]\n",
      "58 493.0 [0 0 0 0 0 1 0 0] [0 0 0 0 0 1 0 0]\n",
      "59 495.0 [0 0 0 1 0 0 0 0] [0 0 0 3 0 0 0 0]\n",
      "60 499.0 [1 1 1 0 0 0 0 0] [3 3 3 1 1 1 1 1]\n",
      "61 515.0 [0 0 0 1 1 1 1 1] [2 2 2 0 0 0 0 0]\n",
      "62 521.0 [1 1 1 0 0 0 0 0] [1 1 1 0 0 0 0 0]\n",
      "63 538.0 [0 0 0 1 1 1 1 1] [1 1 1 3 3 3 3 3]\n",
      "64 553.0 [0 0 0 0 1 1 1 1] [1 1 1 1 3 3 3 3]\n",
      "65 555.0 [1 0 0 0 0 0 0 0] [2 3 3 3 3 3 3 3]\n",
      "66 567.0 [0 0 1 0 0 0 0 0] [3 3 2 3 3 3 3 3]\n",
      "67 570.0 [1 1 1 0 0 0 0 0] [1 1 1 0 0 0 0 0]\n",
      "68 580.0 [0 0 0 0 0 1 0 0] [2 2 2 2 2 3 2 2]\n",
      "69 582.0 [1 0 0 1 1 1 1 1] [2 0 0 2 2 2 2 2]\n",
      "70 584.0 [2 1 1 0 0 0 0 0] [3 1 1 2 2 2 2 2]\n",
      "71 588.0 [0 0 1 0 0 0 0 0] [3 3 1 3 3 3 3 3]\n",
      "72 589.0 [1 0 0 0 0 0 0 0] [3 2 2 2 2 2 2 2]\n",
      "73 594.0 [0 0 0 0 1 1 1 1] [1 1 1 1 2 2 2 2]\n",
      "74 595.0 [0 0 0 1 0 0 0 0] [0 0 0 2 0 0 0 0]\n",
      "75 599.0 [0 0 0 0 0 1 0 0] [2 2 2 2 2 3 2 2]\n",
      "76 600.0 [1 1 1 0 0 0 0 0] [1 1 1 2 2 2 2 2]\n",
      "77 602.0 [0 0 0 1 0 0 0 0] [3 3 3 0 3 3 3 3]\n",
      "78 616.0 [0 1 0 0 0 0 0 0] [3 0 3 3 3 3 3 3]\n",
      "79 625.0 [0 0 0 0 0 1 0 0] [0 0 0 0 0 1 0 0]\n",
      "80 626.0 [1 1 1 0 0 0 0 0] [1 1 1 3 3 3 3 3]\n",
      "81 631.0 [0 0 0 0 1 1 1 1] [3 3 3 3 2 2 2 2]\n",
      "82 641.0 [0 0 0 1 0 0 0 0] [1 1 1 0 1 1 1 1]\n",
      "83 643.0 [0 0 0 1 0 0 0 0] [0 0 0 1 0 0 0 0]\n",
      "84 648.0 [0 0 0 1 0 0 0 0] [2 2 2 3 2 2 2 2]\n",
      "85 651.0 [1 1 1 0 0 0 0 0] [3 3 3 2 2 2 2 2]\n",
      "86 667.0 [0 0 0 0 1 1 1 1] [3 3 3 3 0 0 0 0]\n",
      "87 672.0 [0 0 0 0 0 1 0 0] [0 0 0 0 0 2 0 0]\n",
      "88 685.0 [1 0 0 0 0 0 0 0] [0 1 1 1 1 1 1 1]\n",
      "89 705.0 [1 1 1 0 0 0 0 0] [0 0 0 3 3 3 3 3]\n",
      "90 711.0 [1 1 1 0 0 0 0 0] [1 1 1 0 0 0 0 0]\n",
      "91 712.0 [0 0 0 1 0 0 0 0] [2 2 2 1 2 2 2 2]\n",
      "92 715.0 [1 1 1 0 0 0 0 0] [1 1 1 3 3 3 3 3]\n",
      "93 716.0 [0 0 0 1 0 0 0 0] [2 2 2 0 2 2 2 2]\n",
      "94 720.0 [0 0 0 1 0 0 0 0] [1 1 1 3 1 1 1 1]\n",
      "95 730.0 [1 1 1 0 0 0 0 0] [2 2 2 3 3 3 3 3]\n",
      "96 738.0 [0 0 0 1 0 0 0 0] [0 0 0 1 0 0 0 0]\n",
      "97 739.0 [1 1 1 0 0 0 0 0] [2 2 2 0 0 0 0 0]\n",
      "98 746.0 [1 1 1 0 0 0 0 0] [0 0 0 3 3 3 3 3]\n",
      "99 759.0 [1 1 1 0 0 0 0 0] [1 1 1 0 0 0 0 0]\n",
      "100 760.0 [0 0 0 0 1 1 1 1] [2 2 2 2 0 0 0 0]\n",
      "101 764.0 [1 1 1 0 0 0 0 0] [2 2 2 0 0 0 0 0]\n",
      "102 772.0 [0 0 0 1 0 0 0 0] [0 0 0 2 0 0 0 0]\n",
      "103 775.0 [0 2 2 0 1 1 1 1] [3 1 1 3 0 0 0 0]\n",
      "104 778.0 [0 0 0 0 1 1 1 1] [2 2 2 2 3 3 3 3]\n",
      "105 789.0 [0 1 1 0 0 0 0 0] [1 0 0 1 1 1 1 1]\n",
      "106 792.0 [0 0 0 0 1 1 1 1] [3 3 3 3 1 1 1 1]\n",
      "107 809.0 [0 0 0 0 1 1 1 1] [3 3 3 3 0 0 0 0]\n",
      "108 814.0 [0 0 0 1 1 1 1 1] [2 2 2 3 3 3 3 3]\n",
      "109 822.0 [1 1 1 0 0 0 0 0] [1 1 1 2 2 2 2 2]\n",
      "110 834.0 [0 0 0 0 1 1 1 1] [1 1 1 1 0 0 0 0]\n",
      "111 835.0 [1 0 0 0 0 0 0 0] [1 2 2 2 2 2 2 2]\n",
      "112 839.0 [0 0 0 1 1 1 1 1] [0 0 0 3 3 3 3 3]\n",
      "113 844.0 [1 1 1 0 0 0 0 0] [1 1 1 0 0 0 0 0]\n",
      "114 851.0 [1 1 1 0 0 0 0 0] [0 0 0 2 2 2 2 2]\n",
      "115 855.0 [0 0 0 1 0 0 0 0] [3 3 3 0 3 3 3 3]\n",
      "116 872.0 [0 0 0 1 0 0 0 0] [3 3 3 0 3 3 3 3]\n",
      "117 876.0 [0 1 1 0 0 0 0 0] [2 0 0 2 2 2 2 2]\n",
      "118 881.0 [0 0 0 0 1 1 1 1] [0 0 0 0 1 1 1 1]\n",
      "119 886.0 [0 0 0 0 1 1 1 1] [0 0 0 0 2 2 2 2]\n",
      "120 888.0 [1 1 1 0 0 0 0 0] [2 2 2 0 0 0 0 0]\n",
      "121 890.0 [1 1 1 0 1 1 1 1] [2 2 2 1 2 2 2 2]\n",
      "122 891.0 [0 0 0 1 0 0 0 0] [2 2 2 3 2 2 2 2]\n",
      "123 903.0 [0 0 0 0 1 0 0 0] [2 2 2 2 1 2 2 2]\n",
      "124 910.0 [0 0 0 1 1 1 1 1] [2 2 2 0 0 0 0 0]\n",
      "125 915.0 [0 0 0 1 2 0 0 0] [0 0 0 2 3 0 0 0]\n",
      "126 922.0 [0 0 0 1 0 0 0 0] [3 3 3 2 3 3 3 3]\n",
      "127 924.0 [1 1 1 0 0 0 0 0] [1 1 1 2 2 2 2 2]\n",
      "128 931.0 [0 0 0 1 0 0 0 0] [3 3 3 0 3 3 3 3]\n",
      "129 934.0 [0 0 0 0 0 0 1 1] [2 2 2 2 2 2 1 1]\n",
      "130 964.0 [0 0 0 0 0 1 0 0] [1 1 1 1 1 3 1 1]\n",
      "131 965.0 [0 0 0 1 0 0 0 0] [1 1 1 0 1 1 1 1]\n",
      "132 968.0 [1 0 0 0 0 0 0 0] [2 1 1 1 1 1 1 1]\n",
      "133 969.0 [0 0 0 1 0 0 0 0] [1 1 1 0 1 1 1 1]\n",
      "134 978.0 [0 0 0 1 1 1 1 1] [0 0 0 3 3 3 3 3]\n",
      "135 982.0 [0 0 0 0 1 1 1 1] [1 1 1 1 0 0 0 0]\n",
      "136 999.0 [0 0 0 1 1 1 1 1] [1 1 1 0 0 0 0 0]\n"
     ]
    }
   ],
   "source": [
    "for s in mts.variants():\n",
    "    print(s.index, s.site.position, s.genotypes, genos[s.index])#['site'], s['genotypes'])"
   ]
  },
  {
   "cell_type": "code",
   "execution_count": 12,
   "id": "manufactured-store",
   "metadata": {},
   "outputs": [
    {
     "data": {
      "text/plain": [
       "array([0., 1., 0., 0., 0., 0., 0., 0., 0.])"
      ]
     },
     "execution_count": 12,
     "metadata": {},
     "output_type": "execute_result"
    }
   ],
   "source": [
    "mts.allele_frequency_spectrum()"
   ]
  },
  {
   "cell_type": "code",
   "execution_count": 419,
   "id": "antique-sheet",
   "metadata": {},
   "outputs": [
    {
     "data": {
      "text/plain": [
       "array([[0, 0, 1, 0, 0, 0, 0, 0]], dtype=int8)"
      ]
     },
     "execution_count": 419,
     "metadata": {},
     "output_type": "execute_result"
    }
   ],
   "source": [
    "mts.genotype_matrix()#alleles=(\"A\", \"C\", \"G\", \"T\"))[0]#(alleles=(\"A\", \"A\", \"A\", \"T\", \"C\", \"G\"))"
   ]
  },
  {
   "cell_type": "code",
   "execution_count": 420,
   "id": "environmental-wayne",
   "metadata": {},
   "outputs": [],
   "source": [
    "with open(\"/tmp/test.fa\", 'w') as out:\n",
    "    mts.write_fasta(out)"
   ]
  },
  {
   "cell_type": "code",
   "execution_count": 421,
   "id": "super-basketball",
   "metadata": {},
   "outputs": [
    {
     "name": "stdout",
     "output_type": "stream",
     "text": [
      ">tsk_0\r\n",
      "A\r\n",
      ">tsk_1\r\n",
      "A\r\n",
      ">tsk_2\r\n",
      "T\r\n",
      ">tsk_3\r\n",
      "A\r\n",
      ">tsk_4\r\n",
      "A\r\n",
      ">tsk_5\r\n",
      "A\r\n",
      ">tsk_6\r\n",
      "A\r\n",
      ">tsk_7\r\n",
      "A\r\n"
     ]
    }
   ],
   "source": [
    "cat /tmp/test.fa"
   ]
  },
  {
   "cell_type": "code",
   "execution_count": 422,
   "id": "heated-mouth",
   "metadata": {},
   "outputs": [
    {
     "data": {
      "text/plain": [
       "1"
      ]
     },
     "execution_count": 422,
     "metadata": {},
     "output_type": "execute_result"
    }
   ],
   "source": [
    "mts.num_mutations"
   ]
  },
  {
   "cell_type": "code",
   "execution_count": 378,
   "id": "severe-matthew",
   "metadata": {},
   "outputs": [
    {
     "name": "stdout",
     "output_type": "stream",
     "text": [
      "G\n",
      "G\n",
      "G\n",
      "G\n",
      "G\n",
      "G\n",
      "G\n",
      "G\n"
     ]
    }
   ],
   "source": [
    "for i in mts.haplotypes():\n",
    "    print(i)"
   ]
  },
  {
   "cell_type": "code",
   "execution_count": 227,
   "id": "disabled-space",
   "metadata": {},
   "outputs": [
    {
     "data": {
      "text/html": [
       "\n",
       "            <div>\n",
       "                <style scoped=\"\">\n",
       "                    .tskit-table tbody tr th:only-of-type {vertical-align: middle;}\n",
       "                    .tskit-table tbody tr th {vertical-align: top;}\n",
       "                    .tskit-table tbody td {text-align: right;padding: 0.5em 0.5em;}\n",
       "                    .tskit-table tbody th {padding: 0.5em 0.5em;}\n",
       "                </style>\n",
       "                <table border=\"1\" class=\"tskit-table\">\n",
       "                    <thead>\n",
       "                        <tr>\n",
       "                            <th>id</th><th>position</th><th>ancestral_state</th><th>metadata</th>\n",
       "                        </tr>\n",
       "                    </thead>\n",
       "                    <tbody>\n",
       "                        <tr><td>0</td><td>2.00000000</td><td>C</td><td></td></tr>\n",
       "<tr><td>1</td><td>6.00000000</td><td>T</td><td></td></tr>\n",
       "<tr><td>2</td><td>9.00000000</td><td>G</td><td></td></tr>\n",
       "\n",
       "                    </tbody>\n",
       "                </table>\n",
       "            </div>\n",
       "        "
      ],
      "text/plain": [
       "<tskit.tables.SiteTable at 0x7f3e024b02e0>"
      ]
     },
     "execution_count": 227,
     "metadata": {},
     "output_type": "execute_result"
    }
   ],
   "source": [
    "mts.tables."
   ]
  },
  {
   "cell_type": "code",
   "execution_count": 123,
   "id": "valuable-wildlife",
   "metadata": {},
   "outputs": [
    {
     "name": "stdout",
     "output_type": "stream",
     "text": [
      "0.0 ('G', 'C') [1 0 0 0 0 0 0 0]\n"
     ]
    }
   ],
   "source": [
    "#%%timeit \n",
    "var = get_one()\n",
    "\n",
    "for i in var:\n",
    "    print(i.site.position, i.alleles, i.genotypes)"
   ]
  },
  {
   "cell_type": "code",
   "execution_count": 97,
   "id": "separated-tiger",
   "metadata": {},
   "outputs": [
    {
     "data": {
      "text/plain": [
       "(True,\n",
       " array([[2],\n",
       "        [2],\n",
       "        [2],\n",
       "        [2],\n",
       "        [2],\n",
       "        [2],\n",
       "        [2],\n",
       "        [2]], dtype=int8))"
      ]
     },
     "execution_count": 97,
     "metadata": {},
     "output_type": "execute_result"
    }
   ],
   "source": [
    "msgen = mod.get_tree_sequence_generator(nsites=1, snp=True)\n",
    "tree = next(msgen).first()\n",
    "nwk = tree.newick(node_labels=mod.tipdict, precision=0)\n",
    "gtree = toytree.tree(nwk, tree_format=5)\n",
    "seq = mkseq.feed_tree(gtree, 1, mod.mut, mod.rng_muts.integers(0, 1e9))\n",
    "np.all(seq == seq[0]), seq"
   ]
  },
  {
   "cell_type": "code",
   "execution_count": 92,
   "id": "desperate-fields",
   "metadata": {},
   "outputs": [],
   "source": [
    "msgen = mod.get_tree_sequence_generator(nsites=1, snp=True)\n",
    "mkseq = ipcoal.markov.SeqModel.SeqModel(**mod.substitution_model)\n",
    "\n",
    "def get_old():\n",
    "    while 1:\n",
    "        tree = next(msgen).first()\n",
    "        nwk = tree.newick(node_labels=mod.tipdict, precision=0)\n",
    "        gtree = toytree.rawtree(nwk, tree_format=5)\n",
    "        seq = mkseq.feed_tree(gtree, 1, mod.mut, mod.rng_muts.integers(0, 1e9))\n",
    "        \n",
    "        if not np.all(seq == seq[0]):\n",
    "            break\n",
    "    return seq"
   ]
  },
  {
   "cell_type": "code",
   "execution_count": 93,
   "id": "nominated-unknown",
   "metadata": {},
   "outputs": [
    {
     "name": "stdout",
     "output_type": "stream",
     "text": [
      "39.1 ms ± 10.7 ms per loop (mean ± std. dev. of 7 runs, 10 loops each)\n"
     ]
    }
   ],
   "source": [
    "%%timeit\n",
    "get_old()"
   ]
  },
  {
   "cell_type": "code",
   "execution_count": null,
   "id": "maritime-president",
   "metadata": {},
   "outputs": [],
   "source": []
  },
  {
   "cell_type": "code",
   "execution_count": null,
   "id": "alpine-barrel",
   "metadata": {},
   "outputs": [],
   "source": []
  },
  {
   "cell_type": "code",
   "execution_count": 54,
   "id": "meaning-newsletter",
   "metadata": {},
   "outputs": [
    {
     "data": {
      "text/plain": [
       "'((AAAA:241718.12639431122807,B_1:241718.12639431122807):3090599.96642146026716,((B_3:304432.06356687046355,(A_0:57532.05613310323679,(A_1:4352.75565041174923,A_2:4352.75565041174923)A_3:53179.30048269148392):246900.00743376722676):2266137.15136037208140,(B_0:944818.76207360811532,B_2:944818.76207360811532):1625750.45285363448784):761748.87788852909580);'"
      ]
     },
     "execution_count": 54,
     "metadata": {},
     "output_type": "execute_result"
    }
   ],
   "source": [
    "tree.newick(node_labels=dd)"
   ]
  },
  {
   "cell_type": "code",
   "execution_count": 53,
   "id": "choice-wound",
   "metadata": {},
   "outputs": [],
   "source": [
    "dd = mod.tipdict.copy()\n",
    "dd[0] = \"AAAA\""
   ]
  },
  {
   "cell_type": "code",
   "execution_count": 51,
   "id": "honey-three",
   "metadata": {},
   "outputs": [
    {
     "data": {
      "text/plain": [
       "{1: 'B_0',\n",
       " 2: 'B_1',\n",
       " 3: 'B_2',\n",
       " 4: 'B_3',\n",
       " 5: 'A_0',\n",
       " 6: 'A_1',\n",
       " 7: 'A_2',\n",
       " 8: 'A_3'}"
      ]
     },
     "execution_count": 51,
     "metadata": {},
     "output_type": "execute_result"
    }
   ],
   "source": [
    "mod.tipdict"
   ]
  },
  {
   "cell_type": "code",
   "execution_count": 17,
   "id": "loose-bermuda",
   "metadata": {},
   "outputs": [
    {
     "data": {
      "text/html": [
       "<div style=\"margin-left:20px\"><div><style scoped=\"\">\n",
       "            .tskit-table thead tr th:only-of-type {vertical-align: middle;}\n",
       "            .tskit-table thead tr th {text-align: center;vertical-align: top;}\n",
       "            .tskit-table tbody td {text-align: right;padding: 0.5em 0.5em;}\n",
       "            .tskit-table tbody th {padding: 0.5em 0.5em;}\n",
       "        </style><b>Populations (9)</b><table border=\"1\" class=\"tskit-table\"><thead><tr><th>id</th><th>name</th><th>description</th><th>initial_size</th><th>growth_rate</th><th>default_sampling_time</th><th>extra_metadata</th></tr></thead><tbody><tr><td>0</td><td>n3</td><td>A</td><td>100000.0</td><td>0</td><td>0</td><td>{}</td></tr><tr><td>1</td><td>n2</td><td>B</td><td>1000000.0</td><td>0</td><td>0</td><td>{}</td></tr><tr><td>2</td><td>n1</td><td>C</td><td>1000000.0</td><td>0</td><td>0</td><td>{}</td></tr><tr><td>3</td><td>n0</td><td>D</td><td>1000000.0</td><td>0</td><td>0</td><td>{}</td></tr><tr><td>4</td><td>n2a</td><td></td><td>1000000.0</td><td>0</td><td>0</td><td>{}</td></tr><tr><td>5</td><td>n0_n1</td><td></td><td>1000000.0</td><td>0</td><td>1.2e+06</td><td>{}</td></tr><tr><td>6</td><td>n2aa</td><td></td><td>1000000.0</td><td>0</td><td>0</td><td>{}</td></tr><tr><td>7</td><td>n2aa_n3</td><td></td><td>1000000.0</td><td>0</td><td>2.5e+06</td><td>{}</td></tr><tr><td>8</td><td>n0_n1_n2aa_n3</td><td></td><td>1000000.0</td><td>0</td><td>5e+06</td><td>{}</td></tr></tbody></table></div><div><style scoped=\"\">\n",
       "            .tskit-table thead tr th:only-of-type {vertical-align: middle;}\n",
       "            .tskit-table thead tr th {text-align: center;vertical-align: top;}\n",
       "            .tskit-table tbody td {text-align: right;padding: 0.5em 0.5em;}\n",
       "            .tskit-table tbody th {padding: 0.5em 0.5em;}\n",
       "        </style><b>Migration matrix (all zero)</b><table border=\"1\" class=\"tskit-table\"><thead><tr></tr></thead><tbody></tbody></table></div><div><style scoped=\"\">\n",
       "            .tskit-table thead tr th:only-of-type {vertical-align: middle;}\n",
       "            .tskit-table thead tr th {text-align: center;vertical-align: top;}\n",
       "            .tskit-table tbody td {text-align: right;padding: 0.5em 0.5em;}\n",
       "            .tskit-table tbody th {padding: 0.5em 0.5em;}\n",
       "        </style><b>Events (5)</b><table border=\"1\" class=\"tskit-table\"><thead><tr><th>time</th><th>type</th><th>parameters</th><th>effect</th></tr></thead><tbody><tr><td>6.25e+05</td><td><a href='https://tskit.dev/msprime/docs/latest/api.html#msprime.Demography.add_admixture'>Admixture</a></td><td>derived=n2 ancestral=[n1, n2a] proportions=[0.04, 0.96]</td><td>Moves all lineages from admixed population &#x27;n2&#x27; to ancestral populations. Lineages move to &#x27;n1&#x27; with proba 0.04; &#x27;n2a&#x27; with proba 0.96. Set &#x27;n2&#x27; to inactive, and all migration rates to and from &#x27;n2&#x27; to zero.</td></tr><tr><td>1.25e+06</td><td><a href='https://tskit.dev/msprime/docs/latest/api.html#msprime.Demography.add_population_split'>Population Split</a></td><td>derived=[n1, n0], ancestral=n0_n1</td><td>Moves all lineages from derived populations &#x27;n1&#x27; and &#x27;n0&#x27; to the ancestral &#x27;n0_n1&#x27; population. Also set the derived populations to inactive, and all migration rates to and from the derived populations to zero.</td></tr><tr><td>1.875e+06</td><td><a href='https://tskit.dev/msprime/docs/latest/api.html#msprime.Demography.add_admixture'>Admixture</a></td><td>derived=n2a ancestral=[n0_n1, n2aa] proportions=[0.04, 0.96]</td><td>Moves all lineages from admixed population &#x27;n2a&#x27; to ancestral populations. Lineages move to &#x27;n0_n1&#x27; with proba 0.04; &#x27;n2aa&#x27; with proba 0.96. Set &#x27;n2a&#x27; to inactive, and all migration rates to and from &#x27;n2a&#x27; to zero.</td></tr><tr><td>2.5e+06</td><td><a href='https://tskit.dev/msprime/docs/latest/api.html#msprime.Demography.add_population_split'>Population Split</a></td><td>derived=[n3, n2aa], ancestral=n2aa_n3</td><td>Moves all lineages from derived populations &#x27;n3&#x27; and &#x27;n2aa&#x27; to the ancestral &#x27;n2aa_n3&#x27; population. Also set the derived populations to inactive, and all migration rates to and from the derived populations to zero.</td></tr><tr><td>5e+06</td><td><a href='https://tskit.dev/msprime/docs/latest/api.html#msprime.Demography.add_population_split'>Population Split</a></td><td>derived=[n2aa_n3, n0_n1], ancestral=n0_n1_n2aa_n3</td><td>Moves all lineages from derived populations &#x27;n2aa_n3&#x27; and &#x27;n0_n1&#x27; to the ancestral &#x27;n0_n1_n2aa_n3&#x27; population. Also set the derived populations to inactive, and all migration rates to and from the derived populations to zero.</td></tr></tbody></table></div></div>"
      ],
      "text/plain": [
       "Demography(populations=[Population(initial_size=100000.0, growth_rate=0, name='n3', description='A', extra_metadata={}, default_sampling_time=None, initially_active=None, id=0), Population(initial_size=1000000.0, growth_rate=0, name='n2', description='B', extra_metadata={}, default_sampling_time=None, initially_active=None, id=1), Population(initial_size=1000000.0, growth_rate=0, name='n1', description='C', extra_metadata={}, default_sampling_time=None, initially_active=None, id=2), Population(initial_size=1000000.0, growth_rate=0, name='n0', description='D', extra_metadata={}, default_sampling_time=None, initially_active=None, id=3), Population(initial_size=1000000.0, growth_rate=0, name='n2a', description='', extra_metadata={}, default_sampling_time=None, initially_active=False, id=4), Population(initial_size=1000000.0, growth_rate=0, name='n0_n1', description='', extra_metadata={}, default_sampling_time=1250000.0, initially_active=False, id=5), Population(initial_size=1000000.0, growth_rate=0, name='n2aa', description='', extra_metadata={}, default_sampling_time=None, initially_active=False, id=6), Population(initial_size=1000000.0, growth_rate=0, name='n2aa_n3', description='', extra_metadata={}, default_sampling_time=2500000.0, initially_active=False, id=7), Population(initial_size=1000000.0, growth_rate=0, name='n0_n1_n2aa_n3', description='', extra_metadata={}, default_sampling_time=5000000.0, initially_active=False, id=8)], events=[Admixture(time=625000.0, derived='n2', ancestral=['n1', 'n2a'], proportions=[0.04, 0.96]), PopulationSplit(time=1250000.0, derived=['n1', 'n0'], ancestral='n0_n1'), Admixture(time=1875000.0, derived='n2a', ancestral=['n0_n1', 'n2aa'], proportions=[0.04, 0.96]), PopulationSplit(time=2500000.0, derived=['n3', 'n2aa'], ancestral='n2aa_n3'), PopulationSplit(time=5000000.0, derived=['n2aa_n3', 'n0_n1'], ancestral='n0_n1_n2aa_n3')], migration_matrix=array([[0., 0., 0., 0., 0., 0., 0., 0., 0.],\n",
       "       [0., 0., 0., 0., 0., 0., 0., 0., 0.],\n",
       "       [0., 0., 0., 0., 0., 0., 0., 0., 0.],\n",
       "       [0., 0., 0., 0., 0., 0., 0., 0., 0.],\n",
       "       [0., 0., 0., 0., 0., 0., 0., 0., 0.],\n",
       "       [0., 0., 0., 0., 0., 0., 0., 0., 0.],\n",
       "       [0., 0., 0., 0., 0., 0., 0., 0., 0.],\n",
       "       [0., 0., 0., 0., 0., 0., 0., 0., 0.],\n",
       "       [0., 0., 0., 0., 0., 0., 0., 0., 0.]]))"
      ]
     },
     "execution_count": 17,
     "metadata": {},
     "output_type": "execute_result"
    }
   ],
   "source": [
    "mod.ms_demography"
   ]
  },
  {
   "cell_type": "code",
   "execution_count": 18,
   "id": "taken-definition",
   "metadata": {},
   "outputs": [
    {
     "name": "stdout",
     "output_type": "stream",
     "text": [
      "   locus  start  end  nbps  nsnps  tidx                    genealogy\n",
      "0      0      0    1     1      0     0  ((B_3:80195.921545006320...\n"
     ]
    },
    {
     "ename": "NewickError",
     "evalue": "Unexpected newick format A_3:56281.07808745263173",
     "output_type": "error",
     "traceback": [
      "\u001b[0;31m---------------------------------------------------------------------------\u001b[0m",
      "\u001b[0;31mNewickError\u001b[0m                               Traceback (most recent call last)",
      "\u001b[0;32m<ipython-input-18-e18e9fa9c1a9>\u001b[0m in \u001b[0;36m<module>\u001b[0;34m\u001b[0m\n\u001b[1;32m      1\u001b[0m \u001b[0mmod\u001b[0m\u001b[0;34m.\u001b[0m\u001b[0mnew_sim_trees\u001b[0m\u001b[0;34m(\u001b[0m\u001b[0;34m)\u001b[0m\u001b[0;34m\u001b[0m\u001b[0;34m\u001b[0m\u001b[0m\n\u001b[1;32m      2\u001b[0m \u001b[0mprint\u001b[0m\u001b[0;34m(\u001b[0m\u001b[0mmod\u001b[0m\u001b[0;34m.\u001b[0m\u001b[0mdf\u001b[0m\u001b[0;34m)\u001b[0m\u001b[0;34m\u001b[0m\u001b[0;34m\u001b[0m\u001b[0m\n\u001b[0;32m----> 3\u001b[0;31m \u001b[0mmod\u001b[0m\u001b[0;34m.\u001b[0m\u001b[0mdraw_genealogy\u001b[0m\u001b[0;34m(\u001b[0m\u001b[0;34m)\u001b[0m\u001b[0;34m;\u001b[0m\u001b[0;34m\u001b[0m\u001b[0;34m\u001b[0m\u001b[0m\n\u001b[0m",
      "\u001b[0;32m~/Documents/ipcoal/ipcoal/Model.py\u001b[0m in \u001b[0;36mdraw_genealogy\u001b[0;34m(self, idx, **kwargs)\u001b[0m\n\u001b[1;32m    614\u001b[0m         \"\"\"\n\u001b[1;32m    615\u001b[0m         \u001b[0midx\u001b[0m \u001b[0;34m=\u001b[0m \u001b[0midx\u001b[0m \u001b[0;32mif\u001b[0m \u001b[0midx\u001b[0m \u001b[0;32melse\u001b[0m \u001b[0;36m0\u001b[0m\u001b[0;34m\u001b[0m\u001b[0;34m\u001b[0m\u001b[0m\n\u001b[0;32m--> 616\u001b[0;31m         \u001b[0mtree\u001b[0m \u001b[0;34m=\u001b[0m \u001b[0mtoytree\u001b[0m\u001b[0;34m.\u001b[0m\u001b[0mtree\u001b[0m\u001b[0;34m(\u001b[0m\u001b[0mself\u001b[0m\u001b[0;34m.\u001b[0m\u001b[0mdf\u001b[0m\u001b[0;34m.\u001b[0m\u001b[0mgenealogy\u001b[0m\u001b[0;34m[\u001b[0m\u001b[0midx\u001b[0m\u001b[0;34m]\u001b[0m\u001b[0;34m)\u001b[0m\u001b[0;34m\u001b[0m\u001b[0;34m\u001b[0m\u001b[0m\n\u001b[0m\u001b[1;32m    617\u001b[0m         \u001b[0mcanvas\u001b[0m\u001b[0;34m,\u001b[0m \u001b[0maxes\u001b[0m\u001b[0;34m,\u001b[0m \u001b[0mmark\u001b[0m \u001b[0;34m=\u001b[0m \u001b[0mtree\u001b[0m\u001b[0;34m.\u001b[0m\u001b[0mdraw\u001b[0m\u001b[0;34m(\u001b[0m\u001b[0mts\u001b[0m\u001b[0;34m=\u001b[0m\u001b[0;34m'c'\u001b[0m\u001b[0;34m,\u001b[0m \u001b[0mtip_labels\u001b[0m\u001b[0;34m=\u001b[0m\u001b[0;32mTrue\u001b[0m\u001b[0;34m,\u001b[0m \u001b[0;34m**\u001b[0m\u001b[0mkwargs\u001b[0m\u001b[0;34m)\u001b[0m\u001b[0;34m\u001b[0m\u001b[0;34m\u001b[0m\u001b[0m\n\u001b[1;32m    618\u001b[0m         \u001b[0;32mreturn\u001b[0m \u001b[0mcanvas\u001b[0m\u001b[0;34m,\u001b[0m \u001b[0maxes\u001b[0m\u001b[0;34m,\u001b[0m \u001b[0mmark\u001b[0m\u001b[0;34m\u001b[0m\u001b[0;34m\u001b[0m\u001b[0m\n",
      "\u001b[0;32m~/Documents/toytree/toytree/core/tree.py\u001b[0m in \u001b[0;36mtree\u001b[0;34m(data, tree_format)\u001b[0m\n\u001b[1;32m   1166\u001b[0m     \u001b[0;31m# parse a str, URL, or file\u001b[0m\u001b[0;34m\u001b[0m\u001b[0;34m\u001b[0m\u001b[0;34m\u001b[0m\u001b[0m\n\u001b[1;32m   1167\u001b[0m     \u001b[0;32melif\u001b[0m \u001b[0misinstance\u001b[0m\u001b[0;34m(\u001b[0m\u001b[0mdata\u001b[0m\u001b[0;34m,\u001b[0m \u001b[0;34m(\u001b[0m\u001b[0mstr\u001b[0m\u001b[0;34m,\u001b[0m \u001b[0mbytes\u001b[0m\u001b[0;34m,\u001b[0m \u001b[0mPath\u001b[0m\u001b[0;34m)\u001b[0m\u001b[0;34m)\u001b[0m\u001b[0;34m:\u001b[0m\u001b[0;34m\u001b[0m\u001b[0;34m\u001b[0m\u001b[0m\n\u001b[0;32m-> 1168\u001b[0;31m         \u001b[0mtreenode\u001b[0m \u001b[0;34m=\u001b[0m \u001b[0mTreeParser\u001b[0m\u001b[0;34m(\u001b[0m\u001b[0mdata\u001b[0m\u001b[0;34m,\u001b[0m \u001b[0mtree_format\u001b[0m\u001b[0;34m)\u001b[0m\u001b[0;34m.\u001b[0m\u001b[0mtreenodes\u001b[0m\u001b[0;34m[\u001b[0m\u001b[0;36m0\u001b[0m\u001b[0;34m]\u001b[0m\u001b[0;34m\u001b[0m\u001b[0;34m\u001b[0m\u001b[0m\n\u001b[0m\u001b[1;32m   1169\u001b[0m \u001b[0;34m\u001b[0m\u001b[0m\n\u001b[1;32m   1170\u001b[0m     \u001b[0;31m# raise an error (to make an empty tree you must enter empty TreeNode)\u001b[0m\u001b[0;34m\u001b[0m\u001b[0;34m\u001b[0m\u001b[0;34m\u001b[0m\u001b[0m\n",
      "\u001b[0;32m~/Documents/toytree/toytree/core/io/TreeParser.py\u001b[0m in \u001b[0;36m__init__\u001b[0;34m(self, intree, tree_format, multitree, debug)\u001b[0m\n\u001b[1;32m     75\u001b[0m         \u001b[0;31m# parse intree\u001b[0m\u001b[0;34m\u001b[0m\u001b[0;34m\u001b[0m\u001b[0;34m\u001b[0m\u001b[0m\n\u001b[1;32m     76\u001b[0m         \u001b[0;32mif\u001b[0m \u001b[0;32mnot\u001b[0m \u001b[0mself\u001b[0m\u001b[0;34m.\u001b[0m\u001b[0mdebug\u001b[0m\u001b[0;34m:\u001b[0m\u001b[0;34m\u001b[0m\u001b[0;34m\u001b[0m\u001b[0m\n\u001b[0;32m---> 77\u001b[0;31m             \u001b[0mself\u001b[0m\u001b[0;34m.\u001b[0m\u001b[0m_run\u001b[0m\u001b[0;34m(\u001b[0m\u001b[0;34m)\u001b[0m\u001b[0;34m\u001b[0m\u001b[0;34m\u001b[0m\u001b[0m\n\u001b[0m\u001b[1;32m     78\u001b[0m \u001b[0;34m\u001b[0m\u001b[0m\n\u001b[1;32m     79\u001b[0m \u001b[0;34m\u001b[0m\u001b[0m\n",
      "\u001b[0;32m~/Documents/toytree/toytree/core/io/TreeParser.py\u001b[0m in \u001b[0;36m_run\u001b[0;34m(self)\u001b[0m\n\u001b[1;32m     91\u001b[0m \u001b[0;34m\u001b[0m\u001b[0m\n\u001b[1;32m     92\u001b[0m             \u001b[0;31m# parse newick strings to treenodes list\u001b[0m\u001b[0;34m\u001b[0m\u001b[0;34m\u001b[0m\u001b[0;34m\u001b[0m\u001b[0m\n\u001b[0;32m---> 93\u001b[0;31m             \u001b[0mself\u001b[0m\u001b[0;34m.\u001b[0m\u001b[0mget_treenodes\u001b[0m\u001b[0;34m(\u001b[0m\u001b[0;34m)\u001b[0m\u001b[0;34m\u001b[0m\u001b[0;34m\u001b[0m\u001b[0m\n\u001b[0m\u001b[1;32m     94\u001b[0m \u001b[0;34m\u001b[0m\u001b[0m\n\u001b[1;32m     95\u001b[0m             \u001b[0;31m# apply names from tdict\u001b[0m\u001b[0;34m\u001b[0m\u001b[0;34m\u001b[0m\u001b[0;34m\u001b[0m\u001b[0m\n",
      "\u001b[0;32m~/Documents/toytree/toytree/core/io/TreeParser.py\u001b[0m in \u001b[0;36mget_treenodes\u001b[0;34m(self)\u001b[0m\n\u001b[1;32m    160\u001b[0m \u001b[0;34m\u001b[0m\u001b[0m\n\u001b[1;32m    161\u001b[0m             \u001b[0;31m# extract one tree\u001b[0m\u001b[0;34m\u001b[0m\u001b[0;34m\u001b[0m\u001b[0;34m\u001b[0m\u001b[0m\n\u001b[0;32m--> 162\u001b[0;31m             \u001b[0mself\u001b[0m\u001b[0;34m.\u001b[0m\u001b[0mtreenodes\u001b[0m\u001b[0;34m.\u001b[0m\u001b[0mappend\u001b[0m\u001b[0;34m(\u001b[0m\u001b[0mextractor\u001b[0m\u001b[0;34m.\u001b[0m\u001b[0mnewick_from_string\u001b[0m\u001b[0;34m(\u001b[0m\u001b[0;34m)\u001b[0m\u001b[0;34m)\u001b[0m\u001b[0;34m\u001b[0m\u001b[0;34m\u001b[0m\u001b[0m\n\u001b[0m\u001b[1;32m    163\u001b[0m \u001b[0;34m\u001b[0m\u001b[0m\n\u001b[1;32m    164\u001b[0m         \u001b[0;32melse\u001b[0m\u001b[0;34m:\u001b[0m\u001b[0;34m\u001b[0m\u001b[0;34m\u001b[0m\u001b[0m\n",
      "\u001b[0;32m~/Documents/toytree/toytree/core/io/TreeParser.py\u001b[0m in \u001b[0;36mnewick_from_string\u001b[0;34m(self)\u001b[0m\n\u001b[1;32m    271\u001b[0m                         \u001b[0mclosing_internal\u001b[0m \u001b[0;34m=\u001b[0m \u001b[0mclosing_internal\u001b[0m\u001b[0;34m.\u001b[0m\u001b[0mrstrip\u001b[0m\u001b[0;34m(\u001b[0m\u001b[0;34m\";\"\u001b[0m\u001b[0;34m)\u001b[0m\u001b[0;34m\u001b[0m\u001b[0;34m\u001b[0m\u001b[0m\n\u001b[1;32m    272\u001b[0m                         \u001b[0;31m# read internal node data and go up one level\u001b[0m\u001b[0;34m\u001b[0m\u001b[0;34m\u001b[0m\u001b[0;34m\u001b[0m\u001b[0m\n\u001b[0;32m--> 273\u001b[0;31m                         \u001b[0mself\u001b[0m\u001b[0;34m.\u001b[0m\u001b[0mapply_node_data\u001b[0m\u001b[0;34m(\u001b[0m\u001b[0mclosing_internal\u001b[0m\u001b[0;34m,\u001b[0m \u001b[0;34m\"internal\"\u001b[0m\u001b[0;34m)\u001b[0m\u001b[0;34m\u001b[0m\u001b[0;34m\u001b[0m\u001b[0m\n\u001b[0m\u001b[1;32m    274\u001b[0m                         \u001b[0mself\u001b[0m\u001b[0;34m.\u001b[0m\u001b[0mcurrent_parent\u001b[0m \u001b[0;34m=\u001b[0m \u001b[0mself\u001b[0m\u001b[0;34m.\u001b[0m\u001b[0mcurrent_parent\u001b[0m\u001b[0;34m.\u001b[0m\u001b[0mup\u001b[0m\u001b[0;34m\u001b[0m\u001b[0;34m\u001b[0m\u001b[0m\n\u001b[1;32m    275\u001b[0m         \u001b[0;32mreturn\u001b[0m \u001b[0mself\u001b[0m\u001b[0;34m.\u001b[0m\u001b[0mroot\u001b[0m\u001b[0;34m\u001b[0m\u001b[0;34m\u001b[0m\u001b[0m\n",
      "\u001b[0;32m~/Documents/toytree/toytree/core/io/TreeParser.py\u001b[0m in \u001b[0;36mapply_node_data\u001b[0;34m(self, subnw, node_type)\u001b[0m\n\u001b[1;32m    335\u001b[0m                     \u001b[0mself\u001b[0m\u001b[0;34m.\u001b[0m\u001b[0mcurrent_node\u001b[0m\u001b[0;34m.\u001b[0m\u001b[0madd_feature\u001b[0m\u001b[0;34m(\u001b[0m\u001b[0mfname\u001b[0m\u001b[0;34m,\u001b[0m \u001b[0mfvalue\u001b[0m\u001b[0;34m)\u001b[0m\u001b[0;34m\u001b[0m\u001b[0;34m\u001b[0m\u001b[0m\n\u001b[1;32m    336\u001b[0m         \u001b[0;32melse\u001b[0m\u001b[0;34m:\u001b[0m\u001b[0;34m\u001b[0m\u001b[0;34m\u001b[0m\u001b[0m\n\u001b[0;32m--> 337\u001b[0;31m             \u001b[0;32mraise\u001b[0m \u001b[0mNewickError\u001b[0m\u001b[0;34m(\u001b[0m\u001b[0;34m\"Unexpected newick format {}\"\u001b[0m\u001b[0;34m.\u001b[0m\u001b[0mformat\u001b[0m\u001b[0;34m(\u001b[0m\u001b[0msubnw\u001b[0m\u001b[0;34m)\u001b[0m\u001b[0;34m)\u001b[0m\u001b[0;34m\u001b[0m\u001b[0;34m\u001b[0m\u001b[0m\n\u001b[0m\u001b[1;32m    338\u001b[0m \u001b[0;34m\u001b[0m\u001b[0m\n\u001b[1;32m    339\u001b[0m \u001b[0;34m\u001b[0m\u001b[0m\n",
      "\u001b[0;31mNewickError\u001b[0m: Unexpected newick format A_3:56281.07808745263173"
     ]
    }
   ],
   "source": [
    "mod.new_sim_trees()\n",
    "print(mod.df)\n",
    "mod.draw_genealogy();"
   ]
  },
  {
   "cell_type": "code",
   "execution_count": 261,
   "id": "previous-clause",
   "metadata": {},
   "outputs": [
    {
     "data": {
      "text/plain": [
       "{'n3': 4, 'n2': 4}"
      ]
     },
     "execution_count": 261,
     "metadata": {},
     "output_type": "execute_result"
    }
   ],
   "source": [
    "mod.nsamples"
   ]
  },
  {
   "cell_type": "code",
   "execution_count": 11,
   "id": "weighted-processor",
   "metadata": {},
   "outputs": [],
   "source": [
    "mod.sampledict"
   ]
  },
  {
   "cell_type": "code",
   "execution_count": 12,
   "id": "lovely-encyclopedia",
   "metadata": {},
   "outputs": [],
   "source": [
    "mod.tipdict"
   ]
  },
  {
   "cell_type": "code",
   "execution_count": null,
   "id": "complete-stable",
   "metadata": {},
   "outputs": [],
   "source": []
  },
  {
   "cell_type": "code",
   "execution_count": null,
   "id": "legendary-birmingham",
   "metadata": {},
   "outputs": [],
   "source": []
  },
  {
   "cell_type": "code",
   "execution_count": 12,
   "id": "thrown-branch",
   "metadata": {
    "scrolled": true
   },
   "outputs": [
    {
     "data": {
      "text/plain": [
       "3"
      ]
     },
     "execution_count": 12,
     "metadata": {},
     "output_type": "execute_result"
    }
   ],
   "source": [
    "mod.tree.get_mrca_idx_from_tip_labels(\"A\")"
   ]
  },
  {
   "cell_type": "code",
   "execution_count": 10,
   "id": "sharing-percentage",
   "metadata": {},
   "outputs": [
    {
     "data": {
      "text/html": [
       "<div style=\"margin-left:20px\"><div><style scoped=\"\">\n",
       "            .tskit-table thead tr th:only-of-type {vertical-align: middle;}\n",
       "            .tskit-table thead tr th {text-align: center;vertical-align: top;}\n",
       "            .tskit-table tbody td {text-align: right;padding: 0.5em 0.5em;}\n",
       "            .tskit-table tbody th {padding: 0.5em 0.5em;}\n",
       "        </style><b>Populations (9)</b><table border=\"1\" class=\"tskit-table\"><thead><tr><th>id</th><th>name</th><th>description</th><th>initial_size</th><th>growth_rate</th><th>default_sampling_time</th><th>extra_metadata</th></tr></thead><tbody><tr><td>0</td><td>n3</td><td></td><td>100.0</td><td>0</td><td>0</td><td>{}</td></tr><tr><td>1</td><td>n2</td><td></td><td>100.0</td><td>0</td><td>0</td><td>{}</td></tr><tr><td>2</td><td>n1</td><td></td><td>100.0</td><td>0</td><td>0</td><td>{}</td></tr><tr><td>3</td><td>n0</td><td></td><td>100.0</td><td>0</td><td>0</td><td>{}</td></tr><tr><td>4</td><td>n2a</td><td></td><td>100.0</td><td>0</td><td>0</td><td>{}</td></tr><tr><td>5</td><td>n0_n1</td><td></td><td>100.0</td><td>0</td><td>1</td><td>{}</td></tr><tr><td>6</td><td>n2aa</td><td></td><td>100.0</td><td>0</td><td>0</td><td>{}</td></tr><tr><td>7</td><td>n2aa_n3</td><td></td><td>100.0</td><td>0</td><td>2</td><td>{}</td></tr><tr><td>8</td><td>n0_n1_n2aa_n3</td><td></td><td>100.0</td><td>0</td><td>4</td><td>{}</td></tr></tbody></table></div><div><style scoped=\"\">\n",
       "            .tskit-table thead tr th:only-of-type {vertical-align: middle;}\n",
       "            .tskit-table thead tr th {text-align: center;vertical-align: top;}\n",
       "            .tskit-table tbody td {text-align: right;padding: 0.5em 0.5em;}\n",
       "            .tskit-table tbody th {padding: 0.5em 0.5em;}\n",
       "        </style><b>Migration matrix (all zero)</b><table border=\"1\" class=\"tskit-table\"><thead><tr></tr></thead><tbody></tbody></table></div><div><style scoped=\"\">\n",
       "            .tskit-table thead tr th:only-of-type {vertical-align: middle;}\n",
       "            .tskit-table thead tr th {text-align: center;vertical-align: top;}\n",
       "            .tskit-table tbody td {text-align: right;padding: 0.5em 0.5em;}\n",
       "            .tskit-table tbody th {padding: 0.5em 0.5em;}\n",
       "        </style><b>Events (5)</b><table border=\"1\" class=\"tskit-table\"><thead><tr><th>time</th><th>type</th><th>parameters</th><th>effect</th></tr></thead><tbody><tr><td>0.5</td><td><a href='https://tskit.dev/msprime/docs/latest/api.html#msprime.Demography.add_admixture'>Admixture</a></td><td>derived=n2 ancestral=[n1, n2a] proportions=[0.04, 0.96]</td><td>Moves all lineages from admixed population &#x27;n2&#x27; to ancestral populations. Lineages move to &#x27;n1&#x27; with proba 0.04; &#x27;n2a&#x27; with proba 0.96. Set &#x27;n2&#x27; to inactive, and all migration rates to and from &#x27;n2&#x27; to zero.</td></tr><tr><td>1</td><td><a href='https://tskit.dev/msprime/docs/latest/api.html#msprime.Demography.add_population_split'>Population Split</a></td><td>derived=[n1, n0], ancestral=n0_n1</td><td>Moves all lineages from derived populations &#x27;n1&#x27; and &#x27;n0&#x27; to the ancestral &#x27;n0_n1&#x27; population. Also set the derived populations to inactive, and all migration rates to and from the derived populations to zero.</td></tr><tr><td>1.5</td><td><a href='https://tskit.dev/msprime/docs/latest/api.html#msprime.Demography.add_admixture'>Admixture</a></td><td>derived=n2a ancestral=[n0_n1, n2aa] proportions=[0.04, 0.96]</td><td>Moves all lineages from admixed population &#x27;n2a&#x27; to ancestral populations. Lineages move to &#x27;n0_n1&#x27; with proba 0.04; &#x27;n2aa&#x27; with proba 0.96. Set &#x27;n2a&#x27; to inactive, and all migration rates to and from &#x27;n2a&#x27; to zero.</td></tr><tr><td>2</td><td><a href='https://tskit.dev/msprime/docs/latest/api.html#msprime.Demography.add_population_split'>Population Split</a></td><td>derived=[n3, n2aa], ancestral=n2aa_n3</td><td>Moves all lineages from derived populations &#x27;n3&#x27; and &#x27;n2aa&#x27; to the ancestral &#x27;n2aa_n3&#x27; population. Also set the derived populations to inactive, and all migration rates to and from the derived populations to zero.</td></tr><tr><td>4</td><td><a href='https://tskit.dev/msprime/docs/latest/api.html#msprime.Demography.add_population_split'>Population Split</a></td><td>derived=[n2aa_n3, n0_n1], ancestral=n0_n1_n2aa_n3</td><td>Moves all lineages from derived populations &#x27;n2aa_n3&#x27; and &#x27;n0_n1&#x27; to the ancestral &#x27;n0_n1_n2aa_n3&#x27; population. Also set the derived populations to inactive, and all migration rates to and from the derived populations to zero.</td></tr></tbody></table></div></div>"
      ],
      "text/plain": [
       "Demography(populations=[Population(initial_size=100, growth_rate=0, name='n3', description='', extra_metadata={}, default_sampling_time=None, initially_active=None, id=0), Population(initial_size=100, growth_rate=0, name='n2', description='', extra_metadata={}, default_sampling_time=None, initially_active=None, id=1), Population(initial_size=100, growth_rate=0, name='n1', description='', extra_metadata={}, default_sampling_time=None, initially_active=None, id=2), Population(initial_size=100, growth_rate=0, name='n0', description='', extra_metadata={}, default_sampling_time=None, initially_active=None, id=3), Population(initial_size=100, growth_rate=0, name='n2a', description='', extra_metadata={}, default_sampling_time=None, initially_active=False, id=4), Population(initial_size=100, growth_rate=0, name='n0_n1', description='', extra_metadata={}, default_sampling_time=1.0, initially_active=False, id=5), Population(initial_size=100, growth_rate=0, name='n2aa', description='', extra_metadata={}, default_sampling_time=None, initially_active=False, id=6), Population(initial_size=100, growth_rate=0, name='n2aa_n3', description='', extra_metadata={}, default_sampling_time=2.0, initially_active=False, id=7), Population(initial_size=100, growth_rate=0, name='n0_n1_n2aa_n3', description='', extra_metadata={}, default_sampling_time=4.0, initially_active=False, id=8)], events=[Admixture(time=0.5, derived='n2', ancestral=['n1', 'n2a'], proportions=[0.04, 0.96]), PopulationSplit(time=1.0, derived=['n1', 'n0'], ancestral='n0_n1'), Admixture(time=1.5, derived='n2a', ancestral=['n0_n1', 'n2aa'], proportions=[0.04, 0.96]), PopulationSplit(time=2.0, derived=['n3', 'n2aa'], ancestral='n2aa_n3'), PopulationSplit(time=4.0, derived=['n2aa_n3', 'n0_n1'], ancestral='n0_n1_n2aa_n3')], migration_matrix=array([[0., 0., 0., 0., 0., 0., 0., 0., 0.],\n",
       "       [0., 0., 0., 0., 0., 0., 0., 0., 0.],\n",
       "       [0., 0., 0., 0., 0., 0., 0., 0., 0.],\n",
       "       [0., 0., 0., 0., 0., 0., 0., 0., 0.],\n",
       "       [0., 0., 0., 0., 0., 0., 0., 0., 0.],\n",
       "       [0., 0., 0., 0., 0., 0., 0., 0., 0.],\n",
       "       [0., 0., 0., 0., 0., 0., 0., 0., 0.],\n",
       "       [0., 0., 0., 0., 0., 0., 0., 0., 0.],\n",
       "       [0., 0., 0., 0., 0., 0., 0., 0., 0.]]))"
      ]
     },
     "execution_count": 10,
     "metadata": {},
     "output_type": "execute_result"
    }
   ],
   "source": [
    "mod.ms_demography"
   ]
  },
  {
   "cell_type": "code",
   "execution_count": 391,
   "id": "focused-formula",
   "metadata": {},
   "outputs": [
    {
     "data": {
      "image/svg+xml": [
       "<svg xmlns=\"http://www.w3.org/2000/svg\" xmlns:ev=\"http://www.w3.org/2001/xml-events\" xmlns:xlink=\"http://www.w3.org/1999/xlink\" baseProfile=\"full\" height=\"200\" version=\"1.1\" width=\"200\"><defs><style type=\"text/css\"><![CDATA[.tree-sequence .background path {fill: #808080; fill-opacity:0}.tree-sequence .background path:nth-child(odd) {fill-opacity:.1}.axes {font-size: 14px}.x-axis .tick .lab {font-weight: bold}.axes, .tree {font-size: 14px; text-anchor:middle}.y-axis line.grid {stroke: #FAFAFA}.y-axis > .lab text {transform: translateX(0.8em) rotate(-90deg)}.x-axis .tick g {transform: translateY(0.9em)}.x-axis > .lab text {transform: translateY(-0.8em)}.axes line, .edge {stroke:black; fill:none}.node > .sym {fill: black; stroke: none}.site > .sym {stroke: black}.mut text {fill: red; font-style: italic}.mut line {fill: none; stroke: none}.mut .sym {fill: none; stroke: red}.node .mut .sym {stroke-width: 1.5px}.tree text, .tree-sequence text {dominant-baseline: central}.plotbox .lab.lft {text-anchor: end}.plotbox .lab.rgt {text-anchor: start}]]></style></defs><g class=\"tree-sequence\"><g class=\"background\"><path d=\"M56.8,0 l123.2,0 l0,138.2 l0,25 l0,5 l-123.2,0 l0,-5 l0,-25 l0,-138.2z\"/></g><g class=\"axes\"><g class=\"x-axis\"><g class=\"lab\" transform=\"translate(118.4,200)\"><text text-anchor=\"middle\">Genome position</text></g><line x1=\"56.8\" x2=\"180\" y1=\"163.2\" y2=\"163.2\"/><g class=\"tick\" transform=\"translate(56.8 163.2)\"><line x1=\"0\" x2=\"0\" y1=\"0\" y2=\"5\"/><g class=\"lab\" transform=\"translate(0,5)\"><text>0</text></g></g><g class=\"tick\" transform=\"translate(180 163.2)\"><line x1=\"0\" x2=\"0\" y1=\"0\" y2=\"5\"/><g class=\"lab\" transform=\"translate(0,5)\"><text>1</text></g></g></g><g class=\"y-axis\"><g class=\"lab\" transform=\"translate(0,65.7)\"><text text-anchor=\"middle\">Time</text></g><line x1=\"56.8\" x2=\"56.8\" y1=\"121.4\" y2=\"10\"/><g class=\"tick\" transform=\"translate(56.8 121.4)\"><line x1=\"0\" x2=\"-5\" y1=\"0\" y2=\"0\"/><g class=\"lab\" transform=\"translate(-5,0)\"><text text-anchor=\"end\">0.00</text></g></g><g class=\"tick\" transform=\"translate(56.8 119.835)\"><line x1=\"0\" x2=\"-5\" y1=\"0\" y2=\"0\"/><g class=\"lab\" transform=\"translate(-5,0)\"><text text-anchor=\"end\">0.14</text></g></g><g class=\"tick\" transform=\"translate(56.8 94.7646)\"><line x1=\"0\" x2=\"-5\" y1=\"0\" y2=\"0\"/><g class=\"lab\" transform=\"translate(-5,0)\"><text text-anchor=\"end\">2.41</text></g></g><g class=\"tick\" transform=\"translate(56.8 26.8)\"><line x1=\"0\" x2=\"-5\" y1=\"0\" y2=\"0\"/><g class=\"lab\" transform=\"translate(-5,0)\"><text text-anchor=\"end\">8.57</text></g></g></g></g><g class=\"plotbox trees\"><g class=\"tree t0\" transform=\"translate(56.8 0)\"><g class=\"plotbox\"><g class=\"node n6 p0 root\" transform=\"translate(61.6 26.8)\"><g class=\"a6 node n4 p0\" transform=\"translate(20.8 93.035)\"><g class=\"a4 i0 leaf node n1 p0 sample\" transform=\"translate(-10.4 1.565)\"><path class=\"edge\" d=\"M 0 0 V -1.565 H 10.4\"/><rect class=\"sym\" height=\"6\" width=\"6\" x=\"-3\" y=\"-3\"/><text class=\"lab\" transform=\"translate(0 11)\">1</text></g><g class=\"a4 i1 leaf node n2 p0 sample\" transform=\"translate(10.4 1.565)\"><path class=\"edge\" d=\"M 0 0 V -1.565 H -10.4\"/><rect class=\"sym\" height=\"6\" width=\"6\" x=\"-3\" y=\"-3\"/><text class=\"lab\" transform=\"translate(0 11)\">2</text></g><path class=\"edge\" d=\"M 0 0 V -93.035 H -20.8\"/><circle class=\"sym\" cx=\"0\" cy=\"0\" r=\"3\"/><text class=\"lab rgt\" transform=\"translate(3 -7.0)\">4</text></g><g class=\"a6 node n5 p0\" transform=\"translate(-20.8 67.9646)\"><g class=\"a5 i0 leaf node n0 p0 sample\" transform=\"translate(-10.4 26.6354)\"><path class=\"edge\" d=\"M 0 0 V -26.6354 H 10.4\"/><rect class=\"sym\" height=\"6\" width=\"6\" x=\"-3\" y=\"-3\"/><text class=\"lab\" transform=\"translate(0 11)\">0</text></g><g class=\"a5 i1 leaf node n3 p0 sample\" transform=\"translate(10.4 26.6354)\"><path class=\"edge\" d=\"M 0 0 V -26.6354 H -10.4\"/><rect class=\"sym\" height=\"6\" width=\"6\" x=\"-3\" y=\"-3\"/><text class=\"lab\" transform=\"translate(0 11)\">3</text></g><path class=\"edge\" d=\"M 0 0 V -67.9646 H 20.8\"/><circle class=\"sym\" cx=\"0\" cy=\"0\" r=\"3\"/><text class=\"lab lft\" transform=\"translate(-3 -7.0)\">5</text></g><circle class=\"sym\" cx=\"0\" cy=\"0\" r=\"3\"/><text class=\"lab\" transform=\"translate(0 -11)\">6</text></g></g></g></g></g></svg>"
      ],
      "text/plain": [
       "<IPython.core.display.SVG object>"
      ]
     },
     "execution_count": 391,
     "metadata": {},
     "output_type": "execute_result"
    }
   ],
   "source": [
    "import msprime \n",
    "from IPython.display import SVG\n",
    "\n",
    "xx = ms.Demography()\n",
    "xx.add_population(name=\"A\", initial_size=2)\n",
    "\n",
    "ts = msprime.sim_ancestry(\n",
    "    samples={\"A\": 2},\n",
    "    demography=xx,\n",
    "    #samples=[msprime.SampleSet(4, ploidy=1)],\n",
    "    #population_size=2,\n",
    "    ploidy=2,\n",
    "    random_seed=1234\n",
    ")\n",
    "SVG(ts.draw_svg(y_axis=True))"
   ]
  },
  {
   "cell_type": "code",
   "execution_count": 392,
   "id": "mighty-order",
   "metadata": {},
   "outputs": [
    {
     "data": {
      "image/svg+xml": [
       "<svg xmlns=\"http://www.w3.org/2000/svg\" xmlns:ev=\"http://www.w3.org/2001/xml-events\" xmlns:xlink=\"http://www.w3.org/1999/xlink\" baseProfile=\"full\" height=\"200\" version=\"1.1\" width=\"200\"><defs><style type=\"text/css\"><![CDATA[.tree-sequence .background path {fill: #808080; fill-opacity:0}.tree-sequence .background path:nth-child(odd) {fill-opacity:.1}.axes {font-size: 14px}.x-axis .tick .lab {font-weight: bold}.axes, .tree {font-size: 14px; text-anchor:middle}.y-axis line.grid {stroke: #FAFAFA}.y-axis > .lab text {transform: translateX(0.8em) rotate(-90deg)}.x-axis .tick g {transform: translateY(0.9em)}.x-axis > .lab text {transform: translateY(-0.8em)}.axes line, .edge {stroke:black; fill:none}.node > .sym {fill: black; stroke: none}.site > .sym {stroke: black}.mut text {fill: red; font-style: italic}.mut line {fill: none; stroke: none}.mut .sym {fill: none; stroke: red}.node .mut .sym {stroke-width: 1.5px}.tree text, .tree-sequence text {dominant-baseline: central}.plotbox .lab.lft {text-anchor: end}.plotbox .lab.rgt {text-anchor: start}]]></style></defs><g class=\"tree-sequence\"><g class=\"background\"><path d=\"M56.8,0 l123.2,0 l0,138.2 l0,25 l0,5 l-123.2,0 l0,-5 l0,-25 l0,-138.2z\"/></g><g class=\"axes\"><g class=\"x-axis\"><g class=\"lab\" transform=\"translate(118.4,200)\"><text text-anchor=\"middle\">Genome position</text></g><line x1=\"56.8\" x2=\"180\" y1=\"163.2\" y2=\"163.2\"/><g class=\"tick\" transform=\"translate(56.8 163.2)\"><line x1=\"0\" x2=\"0\" y1=\"0\" y2=\"5\"/><g class=\"lab\" transform=\"translate(0,5)\"><text>0</text></g></g><g class=\"tick\" transform=\"translate(180 163.2)\"><line x1=\"0\" x2=\"0\" y1=\"0\" y2=\"5\"/><g class=\"lab\" transform=\"translate(0,5)\"><text>1</text></g></g></g><g class=\"y-axis\"><g class=\"lab\" transform=\"translate(0,65.7)\"><text text-anchor=\"middle\">Time</text></g><line x1=\"56.8\" x2=\"56.8\" y1=\"121.4\" y2=\"10\"/><g class=\"tick\" transform=\"translate(56.8 121.4)\"><line x1=\"0\" x2=\"-5\" y1=\"0\" y2=\"0\"/><g class=\"lab\" transform=\"translate(-5,0)\"><text text-anchor=\"end\">0.00</text></g></g><g class=\"tick\" transform=\"translate(56.8 119.835)\"><line x1=\"0\" x2=\"-5\" y1=\"0\" y2=\"0\"/><g class=\"lab\" transform=\"translate(-5,0)\"><text text-anchor=\"end\">0.04</text></g></g><g class=\"tick\" transform=\"translate(56.8 94.7646)\"><line x1=\"0\" x2=\"-5\" y1=\"0\" y2=\"0\"/><g class=\"lab\" transform=\"translate(-5,0)\"><text text-anchor=\"end\">0.60</text></g></g><g class=\"tick\" transform=\"translate(56.8 26.8)\"><line x1=\"0\" x2=\"-5\" y1=\"0\" y2=\"0\"/><g class=\"lab\" transform=\"translate(-5,0)\"><text text-anchor=\"end\">2.14</text></g></g></g></g><g class=\"plotbox trees\"><g class=\"tree t0\" transform=\"translate(56.8 0)\"><g class=\"plotbox\"><g class=\"node n6 p0 root\" transform=\"translate(61.6 26.8)\"><g class=\"a6 node n4 p0\" transform=\"translate(20.8 93.035)\"><g class=\"a4 i1 leaf node n1 p0 sample\" transform=\"translate(-10.4 1.565)\"><path class=\"edge\" d=\"M 0 0 V -1.565 H 10.4\"/><rect class=\"sym\" height=\"6\" width=\"6\" x=\"-3\" y=\"-3\"/><text class=\"lab\" transform=\"translate(0 11)\">1</text></g><g class=\"a4 i2 leaf node n2 p0 sample\" transform=\"translate(10.4 1.565)\"><path class=\"edge\" d=\"M 0 0 V -1.565 H -10.4\"/><rect class=\"sym\" height=\"6\" width=\"6\" x=\"-3\" y=\"-3\"/><text class=\"lab\" transform=\"translate(0 11)\">2</text></g><path class=\"edge\" d=\"M 0 0 V -93.035 H -20.8\"/><circle class=\"sym\" cx=\"0\" cy=\"0\" r=\"3\"/><text class=\"lab rgt\" transform=\"translate(3 -7.0)\">4</text></g><g class=\"a6 node n5 p0\" transform=\"translate(-20.8 67.9646)\"><g class=\"a5 i0 leaf node n0 p0 sample\" transform=\"translate(-10.4 26.6354)\"><path class=\"edge\" d=\"M 0 0 V -26.6354 H 10.4\"/><rect class=\"sym\" height=\"6\" width=\"6\" x=\"-3\" y=\"-3\"/><text class=\"lab\" transform=\"translate(0 11)\">0</text></g><g class=\"a5 i3 leaf node n3 p0 sample\" transform=\"translate(10.4 26.6354)\"><path class=\"edge\" d=\"M 0 0 V -26.6354 H -10.4\"/><rect class=\"sym\" height=\"6\" width=\"6\" x=\"-3\" y=\"-3\"/><text class=\"lab\" transform=\"translate(0 11)\">3</text></g><path class=\"edge\" d=\"M 0 0 V -67.9646 H 20.8\"/><circle class=\"sym\" cx=\"0\" cy=\"0\" r=\"3\"/><text class=\"lab lft\" transform=\"translate(-3 -7.0)\">5</text></g><circle class=\"sym\" cx=\"0\" cy=\"0\" r=\"3\"/><text class=\"lab\" transform=\"translate(0 -11)\">6</text></g></g></g></g></g></svg>"
      ],
      "text/plain": [
       "<IPython.core.display.SVG object>"
      ]
     },
     "execution_count": 392,
     "metadata": {},
     "output_type": "execute_result"
    }
   ],
   "source": [
    "import msprime \n",
    "from IPython.display import SVG\n",
    "\n",
    "ts = msprime.sim_ancestry(\n",
    "    samples=[msprime.SampleSet(4, ploidy=1)],\n",
    "    population_size=1,\n",
    "    ploidy=1,\n",
    "    random_seed=1234\n",
    ")\n",
    "SVG(ts.draw_svg(y_axis=True))"
   ]
  },
  {
   "cell_type": "code",
   "execution_count": 378,
   "id": "authentic-place",
   "metadata": {},
   "outputs": [
    {
     "data": {
      "image/svg+xml": [
       "<svg xmlns=\"http://www.w3.org/2000/svg\" xmlns:ev=\"http://www.w3.org/2001/xml-events\" xmlns:xlink=\"http://www.w3.org/1999/xlink\" baseProfile=\"full\" height=\"200\" version=\"1.1\" width=\"200\"><defs><style type=\"text/css\"><![CDATA[.tree-sequence .background path {fill: #808080; fill-opacity:0}.tree-sequence .background path:nth-child(odd) {fill-opacity:.1}.axes {font-size: 14px}.x-axis .tick .lab {font-weight: bold}.axes, .tree {font-size: 14px; text-anchor:middle}.y-axis line.grid {stroke: #FAFAFA}.y-axis > .lab text {transform: translateX(0.8em) rotate(-90deg)}.x-axis .tick g {transform: translateY(0.9em)}.x-axis > .lab text {transform: translateY(-0.8em)}.axes line, .edge {stroke:black; fill:none}.node > .sym {fill: black; stroke: none}.site > .sym {stroke: black}.mut text {fill: red; font-style: italic}.mut line {fill: none; stroke: none}.mut .sym {fill: none; stroke: red}.node .mut .sym {stroke-width: 1.5px}.tree text, .tree-sequence text {dominant-baseline: central}.plotbox .lab.lft {text-anchor: end}.plotbox .lab.rgt {text-anchor: start}]]></style></defs><g class=\"tree-sequence\"><g class=\"background\"><path d=\"M56.8,0 l123.2,0 l0,138.2 l0,25 l0,5 l-123.2,0 l0,-5 l0,-25 l0,-138.2z\"/></g><g class=\"axes\"><g class=\"x-axis\"><g class=\"lab\" transform=\"translate(118.4,200)\"><text text-anchor=\"middle\">Genome position</text></g><line x1=\"56.8\" x2=\"180\" y1=\"163.2\" y2=\"163.2\"/><g class=\"tick\" transform=\"translate(56.8 163.2)\"><line x1=\"0\" x2=\"0\" y1=\"0\" y2=\"5\"/><g class=\"lab\" transform=\"translate(0,5)\"><text>0</text></g></g><g class=\"tick\" transform=\"translate(180 163.2)\"><line x1=\"0\" x2=\"0\" y1=\"0\" y2=\"5\"/><g class=\"lab\" transform=\"translate(0,5)\"><text>1</text></g></g></g><g class=\"y-axis\"><g class=\"lab\" transform=\"translate(0,65.7)\"><text text-anchor=\"middle\">Time</text></g><line x1=\"56.8\" x2=\"56.8\" y1=\"121.4\" y2=\"10\"/><g class=\"tick\" transform=\"translate(56.8 121.4)\"><line x1=\"0\" x2=\"-5\" y1=\"0\" y2=\"0\"/><g class=\"lab\" transform=\"translate(-5,0)\"><text text-anchor=\"end\">0.00</text></g></g><g class=\"tick\" transform=\"translate(56.8 119.835)\"><line x1=\"0\" x2=\"-5\" y1=\"0\" y2=\"0\"/><g class=\"lab\" transform=\"translate(-5,0)\"><text text-anchor=\"end\">0.07</text></g></g><g class=\"tick\" transform=\"translate(56.8 94.7646)\"><line x1=\"0\" x2=\"-5\" y1=\"0\" y2=\"0\"/><g class=\"lab\" transform=\"translate(-5,0)\"><text text-anchor=\"end\">1.21</text></g></g><g class=\"tick\" transform=\"translate(56.8 26.8)\"><line x1=\"0\" x2=\"-5\" y1=\"0\" y2=\"0\"/><g class=\"lab\" transform=\"translate(-5,0)\"><text text-anchor=\"end\">4.28</text></g></g></g></g><g class=\"plotbox trees\"><g class=\"tree t0\" transform=\"translate(56.8 0)\"><g class=\"plotbox\"><g class=\"node n6 p0 root\" transform=\"translate(61.6 26.8)\"><g class=\"a6 node n4 p0\" transform=\"translate(20.8 93.035)\"><g class=\"a4 i0 leaf node n1 p0 sample\" transform=\"translate(-10.4 1.565)\"><path class=\"edge\" d=\"M 0 0 V -1.565 H 10.4\"/><rect class=\"sym\" height=\"6\" width=\"6\" x=\"-3\" y=\"-3\"/><text class=\"lab\" transform=\"translate(0 11)\">1</text></g><g class=\"a4 i1 leaf node n2 p0 sample\" transform=\"translate(10.4 1.565)\"><path class=\"edge\" d=\"M 0 0 V -1.565 H -10.4\"/><rect class=\"sym\" height=\"6\" width=\"6\" x=\"-3\" y=\"-3\"/><text class=\"lab\" transform=\"translate(0 11)\">2</text></g><path class=\"edge\" d=\"M 0 0 V -93.035 H -20.8\"/><circle class=\"sym\" cx=\"0\" cy=\"0\" r=\"3\"/><text class=\"lab rgt\" transform=\"translate(3 -7.0)\">4</text></g><g class=\"a6 node n5 p0\" transform=\"translate(-20.8 67.9646)\"><g class=\"a5 i0 leaf node n0 p0 sample\" transform=\"translate(-10.4 26.6354)\"><path class=\"edge\" d=\"M 0 0 V -26.6354 H 10.4\"/><rect class=\"sym\" height=\"6\" width=\"6\" x=\"-3\" y=\"-3\"/><text class=\"lab\" transform=\"translate(0 11)\">0</text></g><g class=\"a5 i1 leaf node n3 p0 sample\" transform=\"translate(10.4 26.6354)\"><path class=\"edge\" d=\"M 0 0 V -26.6354 H -10.4\"/><rect class=\"sym\" height=\"6\" width=\"6\" x=\"-3\" y=\"-3\"/><text class=\"lab\" transform=\"translate(0 11)\">3</text></g><path class=\"edge\" d=\"M 0 0 V -67.9646 H 20.8\"/><circle class=\"sym\" cx=\"0\" cy=\"0\" r=\"3\"/><text class=\"lab lft\" transform=\"translate(-3 -7.0)\">5</text></g><circle class=\"sym\" cx=\"0\" cy=\"0\" r=\"3\"/><text class=\"lab\" transform=\"translate(0 -11)\">6</text></g></g></g></g></g></svg>"
      ],
      "text/plain": [
       "<IPython.core.display.SVG object>"
      ]
     },
     "execution_count": 378,
     "metadata": {},
     "output_type": "execute_result"
    }
   ],
   "source": [
    "import msprime \n",
    "from IPython.display import SVG\n",
    "\n",
    "ts = msprime.sim_ancestry(\n",
    "    samples=[msprime.SampleSet(2, ploidy=2)],\n",
    "    population_size=1,\n",
    "    ploidy=2,\n",
    "    random_seed=1234\n",
    ")\n",
    "SVG(ts.draw_svg(y_axis=True))"
   ]
  },
  {
   "cell_type": "code",
   "execution_count": 379,
   "id": "macro-mortality",
   "metadata": {},
   "outputs": [
    {
     "data": {
      "image/svg+xml": [
       "<svg xmlns=\"http://www.w3.org/2000/svg\" xmlns:ev=\"http://www.w3.org/2001/xml-events\" xmlns:xlink=\"http://www.w3.org/1999/xlink\" baseProfile=\"full\" height=\"200\" version=\"1.1\" width=\"200\"><defs><style type=\"text/css\"><![CDATA[.tree-sequence .background path {fill: #808080; fill-opacity:0}.tree-sequence .background path:nth-child(odd) {fill-opacity:.1}.axes {font-size: 14px}.x-axis .tick .lab {font-weight: bold}.axes, .tree {font-size: 14px; text-anchor:middle}.y-axis line.grid {stroke: #FAFAFA}.y-axis > .lab text {transform: translateX(0.8em) rotate(-90deg)}.x-axis .tick g {transform: translateY(0.9em)}.x-axis > .lab text {transform: translateY(-0.8em)}.axes line, .edge {stroke:black; fill:none}.node > .sym {fill: black; stroke: none}.site > .sym {stroke: black}.mut text {fill: red; font-style: italic}.mut line {fill: none; stroke: none}.mut .sym {fill: none; stroke: red}.node .mut .sym {stroke-width: 1.5px}.tree text, .tree-sequence text {dominant-baseline: central}.plotbox .lab.lft {text-anchor: end}.plotbox .lab.rgt {text-anchor: start}]]></style></defs><g class=\"tree-sequence\"><g class=\"background\"><path d=\"M56.8,0 l123.2,0 l0,138.2 l0,25 l0,5 l-123.2,0 l0,-5 l0,-25 l0,-138.2z\"/></g><g class=\"axes\"><g class=\"x-axis\"><g class=\"lab\" transform=\"translate(118.4,200)\"><text text-anchor=\"middle\">Genome position</text></g><line x1=\"56.8\" x2=\"180\" y1=\"163.2\" y2=\"163.2\"/><g class=\"tick\" transform=\"translate(56.8 163.2)\"><line x1=\"0\" x2=\"0\" y1=\"0\" y2=\"5\"/><g class=\"lab\" transform=\"translate(0,5)\"><text>0</text></g></g><g class=\"tick\" transform=\"translate(180 163.2)\"><line x1=\"0\" x2=\"0\" y1=\"0\" y2=\"5\"/><g class=\"lab\" transform=\"translate(0,5)\"><text>1</text></g></g></g><g class=\"y-axis\"><g class=\"lab\" transform=\"translate(0,65.7)\"><text text-anchor=\"middle\">Time</text></g><line x1=\"56.8\" x2=\"56.8\" y1=\"121.4\" y2=\"10\"/><g class=\"tick\" transform=\"translate(56.8 121.4)\"><line x1=\"0\" x2=\"-5\" y1=\"0\" y2=\"0\"/><g class=\"lab\" transform=\"translate(-5,0)\"><text text-anchor=\"end\">0.00</text></g></g><g class=\"tick\" transform=\"translate(56.8 119.835)\"><line x1=\"0\" x2=\"-5\" y1=\"0\" y2=\"0\"/><g class=\"lab\" transform=\"translate(-5,0)\"><text text-anchor=\"end\">0.04</text></g></g><g class=\"tick\" transform=\"translate(56.8 94.7646)\"><line x1=\"0\" x2=\"-5\" y1=\"0\" y2=\"0\"/><g class=\"lab\" transform=\"translate(-5,0)\"><text text-anchor=\"end\">0.60</text></g></g><g class=\"tick\" transform=\"translate(56.8 26.8)\"><line x1=\"0\" x2=\"-5\" y1=\"0\" y2=\"0\"/><g class=\"lab\" transform=\"translate(-5,0)\"><text text-anchor=\"end\">2.14</text></g></g></g></g><g class=\"plotbox trees\"><g class=\"tree t0\" transform=\"translate(56.8 0)\"><g class=\"plotbox\"><g class=\"node n6 p0 root\" transform=\"translate(61.6 26.8)\"><g class=\"a6 node n4 p0\" transform=\"translate(20.8 93.035)\"><g class=\"a4 i0 leaf node n1 p0 sample\" transform=\"translate(-10.4 1.565)\"><path class=\"edge\" d=\"M 0 0 V -1.565 H 10.4\"/><rect class=\"sym\" height=\"6\" width=\"6\" x=\"-3\" y=\"-3\"/><text class=\"lab\" transform=\"translate(0 11)\">1</text></g><g class=\"a4 i1 leaf node n2 p0 sample\" transform=\"translate(10.4 1.565)\"><path class=\"edge\" d=\"M 0 0 V -1.565 H -10.4\"/><rect class=\"sym\" height=\"6\" width=\"6\" x=\"-3\" y=\"-3\"/><text class=\"lab\" transform=\"translate(0 11)\">2</text></g><path class=\"edge\" d=\"M 0 0 V -93.035 H -20.8\"/><circle class=\"sym\" cx=\"0\" cy=\"0\" r=\"3\"/><text class=\"lab rgt\" transform=\"translate(3 -7.0)\">4</text></g><g class=\"a6 node n5 p0\" transform=\"translate(-20.8 67.9646)\"><g class=\"a5 i0 leaf node n0 p0 sample\" transform=\"translate(-10.4 26.6354)\"><path class=\"edge\" d=\"M 0 0 V -26.6354 H 10.4\"/><rect class=\"sym\" height=\"6\" width=\"6\" x=\"-3\" y=\"-3\"/><text class=\"lab\" transform=\"translate(0 11)\">0</text></g><g class=\"a5 i1 leaf node n3 p0 sample\" transform=\"translate(10.4 26.6354)\"><path class=\"edge\" d=\"M 0 0 V -26.6354 H -10.4\"/><rect class=\"sym\" height=\"6\" width=\"6\" x=\"-3\" y=\"-3\"/><text class=\"lab\" transform=\"translate(0 11)\">3</text></g><path class=\"edge\" d=\"M 0 0 V -67.9646 H 20.8\"/><circle class=\"sym\" cx=\"0\" cy=\"0\" r=\"3\"/><text class=\"lab lft\" transform=\"translate(-3 -7.0)\">5</text></g><circle class=\"sym\" cx=\"0\" cy=\"0\" r=\"3\"/><text class=\"lab\" transform=\"translate(0 -11)\">6</text></g></g></g></g></g></svg>"
      ],
      "text/plain": [
       "<IPython.core.display.SVG object>"
      ]
     },
     "execution_count": 379,
     "metadata": {},
     "output_type": "execute_result"
    }
   ],
   "source": [
    "import msprime \n",
    "from IPython.display import SVG\n",
    "\n",
    "ts = msprime.sim_ancestry(\n",
    "    samples=[msprime.SampleSet(2, ploidy=2)],\n",
    "    population_size=1,\n",
    "    ploidy=1,\n",
    "    random_seed=1234\n",
    ")\n",
    "SVG(ts.draw_svg(y_axis=True))"
   ]
  },
  {
   "cell_type": "code",
   "execution_count": 380,
   "id": "bored-africa",
   "metadata": {},
   "outputs": [
    {
     "data": {
      "image/svg+xml": [
       "<svg xmlns=\"http://www.w3.org/2000/svg\" xmlns:ev=\"http://www.w3.org/2001/xml-events\" xmlns:xlink=\"http://www.w3.org/1999/xlink\" baseProfile=\"full\" height=\"200\" version=\"1.1\" width=\"200\"><defs><style type=\"text/css\"><![CDATA[.tree-sequence .background path {fill: #808080; fill-opacity:0}.tree-sequence .background path:nth-child(odd) {fill-opacity:.1}.axes {font-size: 14px}.x-axis .tick .lab {font-weight: bold}.axes, .tree {font-size: 14px; text-anchor:middle}.y-axis line.grid {stroke: #FAFAFA}.y-axis > .lab text {transform: translateX(0.8em) rotate(-90deg)}.x-axis .tick g {transform: translateY(0.9em)}.x-axis > .lab text {transform: translateY(-0.8em)}.axes line, .edge {stroke:black; fill:none}.node > .sym {fill: black; stroke: none}.site > .sym {stroke: black}.mut text {fill: red; font-style: italic}.mut line {fill: none; stroke: none}.mut .sym {fill: none; stroke: red}.node .mut .sym {stroke-width: 1.5px}.tree text, .tree-sequence text {dominant-baseline: central}.plotbox .lab.lft {text-anchor: end}.plotbox .lab.rgt {text-anchor: start}]]></style></defs><g class=\"tree-sequence\"><g class=\"background\"><path d=\"M56.8,0 l123.2,0 l0,138.2 l0,25 l0,5 l-123.2,0 l0,-5 l0,-25 l0,-138.2z\"/></g><g class=\"axes\"><g class=\"x-axis\"><g class=\"lab\" transform=\"translate(118.4,200)\"><text text-anchor=\"middle\">Genome position</text></g><line x1=\"56.8\" x2=\"180\" y1=\"163.2\" y2=\"163.2\"/><g class=\"tick\" transform=\"translate(56.8 163.2)\"><line x1=\"0\" x2=\"0\" y1=\"0\" y2=\"5\"/><g class=\"lab\" transform=\"translate(0,5)\"><text>0</text></g></g><g class=\"tick\" transform=\"translate(180 163.2)\"><line x1=\"0\" x2=\"0\" y1=\"0\" y2=\"5\"/><g class=\"lab\" transform=\"translate(0,5)\"><text>1</text></g></g></g><g class=\"y-axis\"><g class=\"lab\" transform=\"translate(0,65.7)\"><text text-anchor=\"middle\">Time</text></g><line x1=\"56.8\" x2=\"56.8\" y1=\"121.4\" y2=\"10\"/><g class=\"tick\" transform=\"translate(56.8 121.4)\"><line x1=\"0\" x2=\"-5\" y1=\"0\" y2=\"0\"/><g class=\"lab\" transform=\"translate(-5,0)\"><text text-anchor=\"end\">0.00</text></g></g><g class=\"tick\" transform=\"translate(56.8 119.835)\"><line x1=\"0\" x2=\"-5\" y1=\"0\" y2=\"0\"/><g class=\"lab\" transform=\"translate(-5,0)\"><text text-anchor=\"end\">0.07</text></g></g><g class=\"tick\" transform=\"translate(56.8 94.7646)\"><line x1=\"0\" x2=\"-5\" y1=\"0\" y2=\"0\"/><g class=\"lab\" transform=\"translate(-5,0)\"><text text-anchor=\"end\">1.21</text></g></g><g class=\"tick\" transform=\"translate(56.8 26.8)\"><line x1=\"0\" x2=\"-5\" y1=\"0\" y2=\"0\"/><g class=\"lab\" transform=\"translate(-5,0)\"><text text-anchor=\"end\">4.28</text></g></g></g></g><g class=\"plotbox trees\"><g class=\"tree t0\" transform=\"translate(56.8 0)\"><g class=\"plotbox\"><g class=\"node n6 p0 root\" transform=\"translate(61.6 26.8)\"><g class=\"a6 node n4 p0\" transform=\"translate(20.8 93.035)\"><g class=\"a4 i1 leaf node n1 p0 sample\" transform=\"translate(-10.4 1.565)\"><path class=\"edge\" d=\"M 0 0 V -1.565 H 10.4\"/><rect class=\"sym\" height=\"6\" width=\"6\" x=\"-3\" y=\"-3\"/><text class=\"lab\" transform=\"translate(0 11)\">1</text></g><g class=\"a4 i2 leaf node n2 p0 sample\" transform=\"translate(10.4 1.565)\"><path class=\"edge\" d=\"M 0 0 V -1.565 H -10.4\"/><rect class=\"sym\" height=\"6\" width=\"6\" x=\"-3\" y=\"-3\"/><text class=\"lab\" transform=\"translate(0 11)\">2</text></g><path class=\"edge\" d=\"M 0 0 V -93.035 H -20.8\"/><circle class=\"sym\" cx=\"0\" cy=\"0\" r=\"3\"/><text class=\"lab rgt\" transform=\"translate(3 -7.0)\">4</text></g><g class=\"a6 node n5 p0\" transform=\"translate(-20.8 67.9646)\"><g class=\"a5 i0 leaf node n0 p0 sample\" transform=\"translate(-10.4 26.6354)\"><path class=\"edge\" d=\"M 0 0 V -26.6354 H 10.4\"/><rect class=\"sym\" height=\"6\" width=\"6\" x=\"-3\" y=\"-3\"/><text class=\"lab\" transform=\"translate(0 11)\">0</text></g><g class=\"a5 i3 leaf node n3 p0 sample\" transform=\"translate(10.4 26.6354)\"><path class=\"edge\" d=\"M 0 0 V -26.6354 H -10.4\"/><rect class=\"sym\" height=\"6\" width=\"6\" x=\"-3\" y=\"-3\"/><text class=\"lab\" transform=\"translate(0 11)\">3</text></g><path class=\"edge\" d=\"M 0 0 V -67.9646 H 20.8\"/><circle class=\"sym\" cx=\"0\" cy=\"0\" r=\"3\"/><text class=\"lab lft\" transform=\"translate(-3 -7.0)\">5</text></g><circle class=\"sym\" cx=\"0\" cy=\"0\" r=\"3\"/><text class=\"lab\" transform=\"translate(0 -11)\">6</text></g></g></g></g></g></svg>"
      ],
      "text/plain": [
       "<IPython.core.display.SVG object>"
      ]
     },
     "execution_count": 380,
     "metadata": {},
     "output_type": "execute_result"
    }
   ],
   "source": [
    "import msprime \n",
    "from IPython.display import SVG\n",
    "\n",
    "ts = msprime.sim_ancestry(\n",
    "    samples=[msprime.SampleSet(4, ploidy=1)],\n",
    "    population_size=1,\n",
    "    ploidy=2,\n",
    "    random_seed=1234\n",
    ")\n",
    "SVG(ts.draw_svg(y_axis=True))"
   ]
  },
  {
   "cell_type": "code",
   "execution_count": null,
   "id": "other-flood",
   "metadata": {},
   "outputs": [],
   "source": []
  },
  {
   "cell_type": "code",
   "execution_count": null,
   "id": "sonic-guinea",
   "metadata": {},
   "outputs": [],
   "source": []
  },
  {
   "cell_type": "code",
   "execution_count": null,
   "id": "anonymous-insert",
   "metadata": {},
   "outputs": [],
   "source": []
  },
  {
   "cell_type": "code",
   "execution_count": 8,
   "id": "personal-turkey",
   "metadata": {},
   "outputs": [
    {
     "ename": "KeyError",
     "evalue": "\"Population with name 'D' not found\"",
     "output_type": "error",
     "traceback": [
      "\u001b[0;31m---------------------------------------------------------------------------\u001b[0m",
      "\u001b[0;31mKeyError\u001b[0m                                  Traceback (most recent call last)",
      "\u001b[0;32m<ipython-input-8-bfbd4f636a71>\u001b[0m in \u001b[0;36m<module>\u001b[0;34m\u001b[0m\n\u001b[0;32m----> 1\u001b[0;31m \u001b[0mmod\u001b[0m\u001b[0;34m.\u001b[0m\u001b[0mnew_sim_trees\u001b[0m\u001b[0;34m(\u001b[0m\u001b[0;34m)\u001b[0m\u001b[0;34m\u001b[0m\u001b[0;34m\u001b[0m\u001b[0m\n\u001b[0m",
      "\u001b[0;32m~/Documents/ipcoal/ipcoal/Model.py\u001b[0m in \u001b[0;36mnew_sim_trees\u001b[0;34m(self, nloci, nsites)\u001b[0m\n\u001b[1;32m    895\u001b[0m         \u001b[0mdatalist\u001b[0m \u001b[0;34m=\u001b[0m \u001b[0;34m[\u001b[0m\u001b[0;34m]\u001b[0m\u001b[0;34m\u001b[0m\u001b[0;34m\u001b[0m\u001b[0m\n\u001b[1;32m    896\u001b[0m         \u001b[0;32mfor\u001b[0m \u001b[0mlidx\u001b[0m \u001b[0;32min\u001b[0m \u001b[0mrange\u001b[0m\u001b[0;34m(\u001b[0m\u001b[0mnloci\u001b[0m\u001b[0;34m)\u001b[0m\u001b[0;34m:\u001b[0m\u001b[0;34m\u001b[0m\u001b[0;34m\u001b[0m\u001b[0m\n\u001b[0;32m--> 897\u001b[0;31m             \u001b[0mmsgen\u001b[0m \u001b[0;34m=\u001b[0m \u001b[0mself\u001b[0m\u001b[0;34m.\u001b[0m\u001b[0mget_tree_sequence_generator\u001b[0m\u001b[0;34m(\u001b[0m\u001b[0mnsites\u001b[0m\u001b[0;34m)\u001b[0m\u001b[0;34m\u001b[0m\u001b[0;34m\u001b[0m\u001b[0m\n\u001b[0m\u001b[1;32m    898\u001b[0m             \u001b[0mtree_seq\u001b[0m \u001b[0;34m=\u001b[0m \u001b[0mnext\u001b[0m\u001b[0;34m(\u001b[0m\u001b[0mmsgen\u001b[0m\u001b[0;34m)\u001b[0m\u001b[0;34m\u001b[0m\u001b[0;34m\u001b[0m\u001b[0m\n\u001b[1;32m    899\u001b[0m             \u001b[0mbreaks\u001b[0m \u001b[0;34m=\u001b[0m \u001b[0mlist\u001b[0m\u001b[0;34m(\u001b[0m\u001b[0mtree_seq\u001b[0m\u001b[0;34m.\u001b[0m\u001b[0mbreakpoints\u001b[0m\u001b[0;34m(\u001b[0m\u001b[0;34m)\u001b[0m\u001b[0;34m)\u001b[0m\u001b[0;34m\u001b[0m\u001b[0;34m\u001b[0m\u001b[0m\n",
      "\u001b[0;32m~/Documents/ipcoal/ipcoal/Model.py\u001b[0m in \u001b[0;36mget_tree_sequence_generator\u001b[0;34m(self, nsites, snp)\u001b[0m\n\u001b[1;32m    671\u001b[0m                 \"The flag snp=True should only be used with nsites=1\")\n\u001b[1;32m    672\u001b[0m \u001b[0;34m\u001b[0m\u001b[0m\n\u001b[0;32m--> 673\u001b[0;31m         tsgen = ms.sim_ancestry(\n\u001b[0m\u001b[1;32m    674\u001b[0m             \u001b[0msamples\u001b[0m\u001b[0;34m=\u001b[0m\u001b[0mself\u001b[0m\u001b[0;34m.\u001b[0m\u001b[0mnsamples\u001b[0m\u001b[0;34m,\u001b[0m\u001b[0;34m\u001b[0m\u001b[0;34m\u001b[0m\u001b[0m\n\u001b[1;32m    675\u001b[0m             \u001b[0mdemography\u001b[0m\u001b[0;34m=\u001b[0m\u001b[0mself\u001b[0m\u001b[0;34m.\u001b[0m\u001b[0mms_demography\u001b[0m\u001b[0;34m,\u001b[0m\u001b[0;34m\u001b[0m\u001b[0;34m\u001b[0m\u001b[0m\n",
      "\u001b[0;32m~/miniconda3/lib/python3.8/site-packages/msprime/ancestry.py\u001b[0m in \u001b[0;36msim_ancestry\u001b[0;34m(samples, demography, sequence_length, discrete_genome, recombination_rate, gene_conversion_rate, gene_conversion_tract_length, population_size, ploidy, model, initial_state, start_time, end_time, record_migrations, record_full_arg, num_labels, random_seed, num_replicates, replicate_index, record_provenance)\u001b[0m\n\u001b[1;32m   1145\u001b[0m         \u001b[0mframe\u001b[0m \u001b[0;34m=\u001b[0m \u001b[0minspect\u001b[0m\u001b[0;34m.\u001b[0m\u001b[0mcurrentframe\u001b[0m\u001b[0;34m(\u001b[0m\u001b[0;34m)\u001b[0m\u001b[0;34m\u001b[0m\u001b[0;34m\u001b[0m\u001b[0m\n\u001b[1;32m   1146\u001b[0m         \u001b[0mprovenance_dict\u001b[0m \u001b[0;34m=\u001b[0m \u001b[0m_build_provenance\u001b[0m\u001b[0;34m(\u001b[0m\u001b[0;34m\"sim_ancestry\"\u001b[0m\u001b[0;34m,\u001b[0m \u001b[0mrandom_seed\u001b[0m\u001b[0;34m,\u001b[0m \u001b[0mframe\u001b[0m\u001b[0;34m)\u001b[0m\u001b[0;34m\u001b[0m\u001b[0;34m\u001b[0m\u001b[0m\n\u001b[0;32m-> 1147\u001b[0;31m     sim = _parse_sim_ancestry(\n\u001b[0m\u001b[1;32m   1148\u001b[0m         \u001b[0msamples\u001b[0m\u001b[0;34m=\u001b[0m\u001b[0msamples\u001b[0m\u001b[0;34m,\u001b[0m\u001b[0;34m\u001b[0m\u001b[0;34m\u001b[0m\u001b[0m\n\u001b[1;32m   1149\u001b[0m         \u001b[0msequence_length\u001b[0m\u001b[0;34m=\u001b[0m\u001b[0msequence_length\u001b[0m\u001b[0;34m,\u001b[0m\u001b[0;34m\u001b[0m\u001b[0;34m\u001b[0m\u001b[0m\n",
      "\u001b[0;32m~/miniconda3/lib/python3.8/site-packages/msprime/ancestry.py\u001b[0m in \u001b[0;36m_parse_sim_ancestry\u001b[0;34m(samples, sequence_length, recombination_rate, gene_conversion_rate, gene_conversion_tract_length, discrete_genome, population_size, demography, ploidy, model, initial_state, start_time, end_time, record_migrations, record_full_arg, num_labels, random_seed, init_for_debugger)\u001b[0m\n\u001b[1;32m    931\u001b[0m         \u001b[0;32mif\u001b[0m \u001b[0;32mnot\u001b[0m \u001b[0minit_for_debugger\u001b[0m\u001b[0;34m:\u001b[0m\u001b[0;34m\u001b[0m\u001b[0;34m\u001b[0m\u001b[0m\n\u001b[1;32m    932\u001b[0m             \u001b[0msample_sets\u001b[0m \u001b[0;34m=\u001b[0m \u001b[0m_parse_samples\u001b[0m\u001b[0;34m(\u001b[0m\u001b[0msamples\u001b[0m\u001b[0;34m,\u001b[0m \u001b[0mdemography\u001b[0m\u001b[0;34m)\u001b[0m\u001b[0;34m\u001b[0m\u001b[0;34m\u001b[0m\u001b[0m\n\u001b[0;32m--> 933\u001b[0;31m             \u001b[0m_insert_sample_sets\u001b[0m\u001b[0;34m(\u001b[0m\u001b[0msample_sets\u001b[0m\u001b[0;34m,\u001b[0m \u001b[0mdemography\u001b[0m\u001b[0;34m,\u001b[0m \u001b[0mploidy\u001b[0m\u001b[0;34m,\u001b[0m \u001b[0minitial_state\u001b[0m\u001b[0;34m)\u001b[0m\u001b[0;34m\u001b[0m\u001b[0;34m\u001b[0m\u001b[0m\n\u001b[0m\u001b[1;32m    934\u001b[0m     \u001b[0;32melse\u001b[0m\u001b[0;34m:\u001b[0m\u001b[0;34m\u001b[0m\u001b[0;34m\u001b[0m\u001b[0m\n\u001b[1;32m    935\u001b[0m         \u001b[0;32mif\u001b[0m \u001b[0msamples\u001b[0m \u001b[0;32mis\u001b[0m \u001b[0;32mnot\u001b[0m \u001b[0;32mNone\u001b[0m\u001b[0;34m:\u001b[0m\u001b[0;34m\u001b[0m\u001b[0;34m\u001b[0m\u001b[0m\n",
      "\u001b[0;32m~/miniconda3/lib/python3.8/site-packages/msprime/ancestry.py\u001b[0m in \u001b[0;36m_insert_sample_sets\u001b[0;34m(sample_sets, demography, default_ploidy, tables)\u001b[0m\n\u001b[1;32m    705\u001b[0m     \u001b[0;32mfor\u001b[0m \u001b[0msample_set\u001b[0m \u001b[0;32min\u001b[0m \u001b[0msample_sets\u001b[0m\u001b[0;34m:\u001b[0m\u001b[0;34m\u001b[0m\u001b[0;34m\u001b[0m\u001b[0m\n\u001b[1;32m    706\u001b[0m         \u001b[0mn\u001b[0m \u001b[0;34m=\u001b[0m \u001b[0msample_set\u001b[0m\u001b[0;34m.\u001b[0m\u001b[0mnum_samples\u001b[0m\u001b[0;34m\u001b[0m\u001b[0;34m\u001b[0m\u001b[0m\n\u001b[0;32m--> 707\u001b[0;31m         \u001b[0mpopulation\u001b[0m \u001b[0;34m=\u001b[0m \u001b[0mdemography\u001b[0m\u001b[0;34m[\u001b[0m\u001b[0msample_set\u001b[0m\u001b[0;34m.\u001b[0m\u001b[0mpopulation\u001b[0m\u001b[0;34m]\u001b[0m\u001b[0;34m\u001b[0m\u001b[0;34m\u001b[0m\u001b[0m\n\u001b[0m\u001b[1;32m    708\u001b[0m         time = (\n\u001b[1;32m    709\u001b[0m             \u001b[0mpopulation\u001b[0m\u001b[0;34m.\u001b[0m\u001b[0mdefault_sampling_time\u001b[0m\u001b[0;34m\u001b[0m\u001b[0;34m\u001b[0m\u001b[0m\n",
      "\u001b[0;32m~/miniconda3/lib/python3.8/site-packages/msprime/demography.py\u001b[0m in \u001b[0;36m__getitem__\u001b[0;34m(self, identifier)\u001b[0m\n\u001b[1;32m    870\u001b[0m                     \u001b[0;32mreturn\u001b[0m \u001b[0mpopulation\u001b[0m\u001b[0;34m\u001b[0m\u001b[0;34m\u001b[0m\u001b[0m\n\u001b[1;32m    871\u001b[0m             \u001b[0;32melse\u001b[0m\u001b[0;34m:\u001b[0m\u001b[0;34m\u001b[0m\u001b[0;34m\u001b[0m\u001b[0m\n\u001b[0;32m--> 872\u001b[0;31m                 \u001b[0;32mraise\u001b[0m \u001b[0mKeyError\u001b[0m\u001b[0;34m(\u001b[0m\u001b[0;34mf\"Population with name '{identifier}' not found\"\u001b[0m\u001b[0;34m)\u001b[0m\u001b[0;34m\u001b[0m\u001b[0;34m\u001b[0m\u001b[0m\n\u001b[0m\u001b[1;32m    873\u001b[0m         \u001b[0;32melif\u001b[0m \u001b[0misinstance\u001b[0m\u001b[0;34m(\u001b[0m\u001b[0midentifier\u001b[0m\u001b[0;34m,\u001b[0m \u001b[0mnumbers\u001b[0m\u001b[0;34m.\u001b[0m\u001b[0mIntegral\u001b[0m\u001b[0;34m)\u001b[0m\u001b[0;34m:\u001b[0m\u001b[0;34m\u001b[0m\u001b[0;34m\u001b[0m\u001b[0m\n\u001b[1;32m    874\u001b[0m             \u001b[0;31m# We don't support negative indexing here because -1 is used as\u001b[0m\u001b[0;34m\u001b[0m\u001b[0;34m\u001b[0m\u001b[0;34m\u001b[0m\u001b[0m\n",
      "\u001b[0;31mKeyError\u001b[0m: \"Population with name 'D' not found\""
     ]
    }
   ],
   "source": [
    "mod.new_sim_trees()"
   ]
  },
  {
   "cell_type": "code",
   "execution_count": null,
   "id": "economic-quarter",
   "metadata": {},
   "outputs": [],
   "source": []
  },
  {
   "cell_type": "code",
   "execution_count": 8,
   "id": "bibliographic-motel",
   "metadata": {},
   "outputs": [
    {
     "data": {
      "text/html": [
       "<div style=\"margin-left:20px\"><div><style scoped=\"\">\n",
       "            .tskit-table thead tr th:only-of-type {vertical-align: middle;}\n",
       "            .tskit-table thead tr th {text-align: center;vertical-align: top;}\n",
       "            .tskit-table tbody td {text-align: right;padding: 0.5em 0.5em;}\n",
       "            .tskit-table tbody th {padding: 0.5em 0.5em;}\n",
       "        </style><b>Populations (9)</b><table border=\"1\" class=\"tskit-table\"><thead><tr><th>id</th><th>name</th><th>description</th><th>initial_size</th><th>growth_rate</th><th>default_sampling_time</th><th>extra_metadata</th></tr></thead><tbody><tr><td>0</td><td>n3</td><td></td><td>100.0</td><td>0</td><td>0</td><td>{}</td></tr><tr><td>1</td><td>n2</td><td></td><td>100.0</td><td>0</td><td>0</td><td>{}</td></tr><tr><td>2</td><td>n1</td><td></td><td>100.0</td><td>0</td><td>0</td><td>{}</td></tr><tr><td>3</td><td>n0</td><td></td><td>100.0</td><td>0</td><td>0</td><td>{}</td></tr><tr><td>4</td><td>n2a</td><td></td><td>100.0</td><td>0</td><td>0</td><td>{}</td></tr><tr><td>5</td><td>n0_n1</td><td></td><td>100.0</td><td>0</td><td>1</td><td>{}</td></tr><tr><td>6</td><td>n2aa</td><td></td><td>100.0</td><td>0</td><td>0</td><td>{}</td></tr><tr><td>7</td><td>n2aa_n3</td><td></td><td>100.0</td><td>0</td><td>2</td><td>{}</td></tr><tr><td>8</td><td>n0_n1_n2aa_n3</td><td></td><td>100.0</td><td>0</td><td>4</td><td>{}</td></tr></tbody></table></div><div><style scoped=\"\">\n",
       "            .tskit-table thead tr th:only-of-type {vertical-align: middle;}\n",
       "            .tskit-table thead tr th {text-align: center;vertical-align: top;}\n",
       "            .tskit-table tbody td {text-align: right;padding: 0.5em 0.5em;}\n",
       "            .tskit-table tbody th {padding: 0.5em 0.5em;}\n",
       "        </style><b>Migration matrix (all zero)</b><table border=\"1\" class=\"tskit-table\"><thead><tr></tr></thead><tbody></tbody></table></div><div><style scoped=\"\">\n",
       "            .tskit-table thead tr th:only-of-type {vertical-align: middle;}\n",
       "            .tskit-table thead tr th {text-align: center;vertical-align: top;}\n",
       "            .tskit-table tbody td {text-align: right;padding: 0.5em 0.5em;}\n",
       "            .tskit-table tbody th {padding: 0.5em 0.5em;}\n",
       "        </style><b>Events (5)</b><table border=\"1\" class=\"tskit-table\"><thead><tr><th>time</th><th>type</th><th>parameters</th><th>effect</th></tr></thead><tbody><tr><td>0.5</td><td><a href='https://tskit.dev/msprime/docs/latest/api.html#msprime.Demography.add_admixture'>Admixture</a></td><td>derived=n2 ancestral=[n1, n2a] proportions=[0.04, 0.96]</td><td>Moves all lineages from admixed population &#x27;n2&#x27; to ancestral populations. Lineages move to &#x27;n1&#x27; with proba 0.04; &#x27;n2a&#x27; with proba 0.96. Set &#x27;n2&#x27; to inactive, and all migration rates to and from &#x27;n2&#x27; to zero.</td></tr><tr><td>1</td><td><a href='https://tskit.dev/msprime/docs/latest/api.html#msprime.Demography.add_population_split'>Population Split</a></td><td>derived=[n1, n0], ancestral=n0_n1</td><td>Moves all lineages from derived populations &#x27;n1&#x27; and &#x27;n0&#x27; to the ancestral &#x27;n0_n1&#x27; population. Also set the derived populations to inactive, and all migration rates to and from the derived populations to zero.</td></tr><tr><td>1.5</td><td><a href='https://tskit.dev/msprime/docs/latest/api.html#msprime.Demography.add_admixture'>Admixture</a></td><td>derived=n2a ancestral=[n0_n1, n2aa] proportions=[0.04, 0.96]</td><td>Moves all lineages from admixed population &#x27;n2a&#x27; to ancestral populations. Lineages move to &#x27;n0_n1&#x27; with proba 0.04; &#x27;n2aa&#x27; with proba 0.96. Set &#x27;n2a&#x27; to inactive, and all migration rates to and from &#x27;n2a&#x27; to zero.</td></tr><tr><td>2</td><td><a href='https://tskit.dev/msprime/docs/latest/api.html#msprime.Demography.add_population_split'>Population Split</a></td><td>derived=[n3, n2aa], ancestral=n2aa_n3</td><td>Moves all lineages from derived populations &#x27;n3&#x27; and &#x27;n2aa&#x27; to the ancestral &#x27;n2aa_n3&#x27; population. Also set the derived populations to inactive, and all migration rates to and from the derived populations to zero.</td></tr><tr><td>4</td><td><a href='https://tskit.dev/msprime/docs/latest/api.html#msprime.Demography.add_population_split'>Population Split</a></td><td>derived=[n2aa_n3, n0_n1], ancestral=n0_n1_n2aa_n3</td><td>Moves all lineages from derived populations &#x27;n2aa_n3&#x27; and &#x27;n0_n1&#x27; to the ancestral &#x27;n0_n1_n2aa_n3&#x27; population. Also set the derived populations to inactive, and all migration rates to and from the derived populations to zero.</td></tr></tbody></table></div></div>"
      ],
      "text/plain": [
       "Demography(populations=[Population(initial_size=100, growth_rate=0, name='n3', description='', extra_metadata={}, default_sampling_time=None, initially_active=None, id=0), Population(initial_size=100, growth_rate=0, name='n2', description='', extra_metadata={}, default_sampling_time=None, initially_active=None, id=1), Population(initial_size=100, growth_rate=0, name='n1', description='', extra_metadata={}, default_sampling_time=None, initially_active=None, id=2), Population(initial_size=100, growth_rate=0, name='n0', description='', extra_metadata={}, default_sampling_time=None, initially_active=None, id=3), Population(initial_size=100, growth_rate=0, name='n2a', description='', extra_metadata={}, default_sampling_time=None, initially_active=False, id=4), Population(initial_size=100, growth_rate=0, name='n0_n1', description='', extra_metadata={}, default_sampling_time=1.0, initially_active=False, id=5), Population(initial_size=100, growth_rate=0, name='n2aa', description='', extra_metadata={}, default_sampling_time=None, initially_active=False, id=6), Population(initial_size=100, growth_rate=0, name='n2aa_n3', description='', extra_metadata={}, default_sampling_time=2.0, initially_active=False, id=7), Population(initial_size=100, growth_rate=0, name='n0_n1_n2aa_n3', description='', extra_metadata={}, default_sampling_time=4.0, initially_active=False, id=8)], events=[Admixture(time=0.5, derived='n2', ancestral=['n1', 'n2a'], proportions=[0.04, 0.96]), PopulationSplit(time=1.0, derived=['n1', 'n0'], ancestral='n0_n1'), Admixture(time=1.5, derived='n2a', ancestral=['n0_n1', 'n2aa'], proportions=[0.04, 0.96]), PopulationSplit(time=2.0, derived=['n3', 'n2aa'], ancestral='n2aa_n3'), PopulationSplit(time=4.0, derived=['n2aa_n3', 'n0_n1'], ancestral='n0_n1_n2aa_n3')], migration_matrix=array([[0., 0., 0., 0., 0., 0., 0., 0., 0.],\n",
       "       [0., 0., 0., 0., 0., 0., 0., 0., 0.],\n",
       "       [0., 0., 0., 0., 0., 0., 0., 0., 0.],\n",
       "       [0., 0., 0., 0., 0., 0., 0., 0., 0.],\n",
       "       [0., 0., 0., 0., 0., 0., 0., 0., 0.],\n",
       "       [0., 0., 0., 0., 0., 0., 0., 0., 0.],\n",
       "       [0., 0., 0., 0., 0., 0., 0., 0., 0.],\n",
       "       [0., 0., 0., 0., 0., 0., 0., 0., 0.],\n",
       "       [0., 0., 0., 0., 0., 0., 0., 0., 0.]]))"
      ]
     },
     "execution_count": 8,
     "metadata": {},
     "output_type": "execute_result"
    }
   ],
   "source": [
    "mod.ms_demography"
   ]
  },
  {
   "cell_type": "code",
   "execution_count": 64,
   "id": "initial-terminology",
   "metadata": {},
   "outputs": [],
   "source": [
    "ts = ms.sim_ancestry(samples={0: 3, 1: 2, 2: 4}, sequence_length=100, recombination_rate=0.00001, demography=mod.ms_demography, num_replicates=1)"
   ]
  },
  {
   "cell_type": "code",
   "execution_count": 65,
   "id": "powered-median",
   "metadata": {},
   "outputs": [],
   "source": [
    "ts = next(ts)"
   ]
  },
  {
   "cell_type": "code",
   "execution_count": 76,
   "id": "classified-brooklyn",
   "metadata": {},
   "outputs": [
    {
     "data": {
      "text/plain": [
       "[0.0, 30.0, 71.0, 100.0]"
      ]
     },
     "execution_count": 76,
     "metadata": {},
     "output_type": "execute_result"
    }
   ],
   "source": [
    "breaks = list(ts.breakpoints())\n",
    "breaks"
   ]
  },
  {
   "cell_type": "code",
   "execution_count": 77,
   "id": "confirmed-honolulu",
   "metadata": {},
   "outputs": [
    {
     "data": {
      "text/plain": [
       "[30.0, 41.0, 29.0]"
      ]
     },
     "execution_count": 77,
     "metadata": {},
     "output_type": "execute_result"
    }
   ],
   "source": [
    "s = breaks[:len(breaks)-1]\n",
    "e = breaks[1:len(breaks)]\n",
    "\n",
    "[i - j for i,j in zip(e, s)]"
   ]
  },
  {
   "cell_type": "code",
   "execution_count": null,
   "id": "listed-prediction",
   "metadata": {},
   "outputs": [],
   "source": [
    "raise NotImplementedError(\"STOP\")"
   ]
  },
  {
   "cell_type": "code",
   "execution_count": 38,
   "id": "ideal-holocaust",
   "metadata": {},
   "outputs": [],
   "source": [
    "rate_map = ms.RateMap.uniform(sequence_length=10, rate=0.1)"
   ]
  },
  {
   "cell_type": "code",
   "execution_count": 39,
   "id": "major-difference",
   "metadata": {},
   "outputs": [
    {
     "data": {
      "text/html": [
       "<div><style scoped=\"\">\n",
       "            .tskit-table thead tr th:only-of-type {vertical-align: middle;}\n",
       "            .tskit-table thead tr th {text-align: center;vertical-align: top;}\n",
       "            .tskit-table tbody td {text-align: right;padding: 0.5em 0.5em;}\n",
       "            .tskit-table tbody th {padding: 0.5em 0.5em;}\n",
       "        </style><b></b><table border=\"1\" class=\"tskit-table\"><thead><tr><th>left</th><th>right</th><th>mid</th><th>span</th><th>rate</th></tr></thead><tbody><tr><td>0</td><td>10</td><td>5</td><td>10</td><td>0.10</td></tr></tbody></table></div>"
      ],
      "text/plain": [
       "RateMap(position=array([ 0., 10.]), rate=array([0.1]))"
      ]
     },
     "execution_count": 39,
     "metadata": {},
     "output_type": "execute_result"
    }
   ],
   "source": [
    "rate_map"
   ]
  },
  {
   "cell_type": "code",
   "execution_count": 81,
   "id": "postal-remove",
   "metadata": {},
   "outputs": [
    {
     "name": "stdout",
     "output_type": "stream",
     "text": [
      "(((15:53.52579192519498,((13:3.59956142427477,16:3.59956142427477):12.61775105333910,(9:4.24330344160094,17:4.24330344160094):11.97400903601293):37.30847944758111):133.01338276545317,(18:99.84217008104980,((7:8.66208034492636,8:8.66208034492636):45.82852802837498,(10:17.34479661710320,12:17.34479661710320):37.14581175619816):45.35156170774845):86.69700460959837):229.49840427286722,(3:273.90229493628414,(((2:3.04792411722881,(1:2.77478594196913,6:2.77478594196913):0.27313817525967):5.88763951177654,(4:5.37679772598298,5:5.37679772598298):3.55876590302236):15.69942084827215,(11:18.75011544397492,14:18.75011544397492):5.88486903330257):249.26731045900664):142.13528402723125); 0\n",
      "(((15:53.52579192519498,((13:3.59956142427477,16:3.59956142427477):12.61775105333910,(9:4.24330344160094,17:4.24330344160094):11.97400903601293):37.30847944758111):133.01338276545317,(18:99.84217008104980,((7:8.66208034492636,8:8.66208034492636):45.82852802837498,(10:17.34479661710320,12:17.34479661710320):37.14581175619816):45.35156170774845):86.69700460959837):584.28548107537995,(3:273.90229493628414,(((2:3.04792411722881,(1:2.77478594196913,6:2.77478594196913):0.27313817525967):5.88763951177654,(4:5.37679772598298,5:5.37679772598298):3.55876590302236):15.69942084827215,(11:18.75011544397492,14:18.75011544397492):5.88486903330257):249.26731045900664):496.92236082974404); 1\n",
      "(((((7:8.66208034492636,8:8.66208034492636):45.82852802837498,(10:17.34479661710320,12:17.34479661710320):37.14581175619816):45.35156170774845,(15:27.49256247002138,18:27.49256247002138):72.34960761102843):86.69700460959837,((13:3.59956142427477,16:3.59956142427477):12.61775105333910,(9:4.24330344160094,17:4.24330344160094):11.97400903601293):170.32186221303431):584.28548107537995,(3:273.90229493628414,(((2:3.04792411722881,(1:2.77478594196913,6:2.77478594196913):0.27313817525967):5.88763951177654,(4:5.37679772598298,5:5.37679772598298):3.55876590302236):15.69942084827215,(11:18.75011544397492,14:18.75011544397492):5.88486903330257):249.26731045900664):496.92236082974404); 2\n"
     ]
    }
   ],
   "source": [
    "for i in ts.trees():\n",
    "    print(i.newick(), i.index)"
   ]
  },
  {
   "cell_type": "code",
   "execution_count": 90,
   "id": "executed-texas",
   "metadata": {},
   "outputs": [
    {
     "data": {
      "text/plain": [
       "-1"
      ]
     },
     "execution_count": 90,
     "metadata": {},
     "output_type": "execute_result"
    }
   ],
   "source": [
    "i.index"
   ]
  },
  {
   "cell_type": "code",
   "execution_count": null,
   "id": "blocked-august",
   "metadata": {},
   "outputs": [],
   "source": [
    "#                z\n",
    "#              /   \\\n",
    "#             y      x\n",
    "#            / \\    / \\\n",
    "#           A   B   x  C"
   ]
  },
  {
   "cell_type": "code",
   "execution_count": null,
   "id": "reliable-signal",
   "metadata": {},
   "outputs": [],
   "source": [
    "tree.draw(node_sizes=10, layout='d', scalebar=True, admixture_edges=[(3, 4), (16, 17)]);"
   ]
  },
  {
   "cell_type": "code",
   "execution_count": null,
   "id": "plain-teddy",
   "metadata": {},
   "outputs": [],
   "source": [
    "admix = [(3, 4, (500000, 500000), 0.1), (16, 17, (4500000, 4500000), 0.1)]\n",
    "dtree = tree.copy()\n",
    "demography = ms.Demography()\n",
    "\n",
    "\n",
    "for idx, node in dtree.idx_dict.items():\n",
    "    if not node.children:\n",
    "        demography.add_population(name=f\"n{idx}\", initial_size=node.Ne)\n",
    "    node.current = f\"n{idx}\"\n",
    "    \n",
    "\n",
    "events = []\n",
    "\n",
    "# add split events\n",
    "for idx, node in dtree.idx_dict.items():\n",
    "    if node.children:\n",
    "        events.append({\n",
    "            'type': 'split',\n",
    "            'time': node.height,\n",
    "            'derived': [i.idx for i in node.children],\n",
    "            'ancestral': str(node.current),\n",
    "        })\n",
    "\n",
    "# add admixture events.\n",
    "for event in admix:\n",
    "    src, dest, time, rate = event\n",
    "    if time[0] == time[1]:            \n",
    "        events.append({\n",
    "            'type': 'admixture',\n",
    "            'time': time[0],\n",
    "            'ancestral': [src, dest],\n",
    "            'proportions': [rate, 1 - rate],\n",
    "        })\n",
    "    else:\n",
    "        events.append({\n",
    "            'type': 'migration',\n",
    "            'time': time,\n",
    "            'ancestral': [src, dest],\n",
    "            'proportions': [rate, 1 - rate],\n",
    "        })                \n",
    "\n",
    "# sort events by time then type\n",
    "events.sort(key=lambda x: (x['time'], x['type']))\n",
    "\n",
    "\n",
    "for event in events:\n",
    "    print(event)\n",
    "    \n",
    "    if event['type'] == \"split\":\n",
    "        node = dtree.idx_dict[int(event['ancestral'])]\n",
    "        demography.add_population(\n",
    "            name=f\"n{node.current}\",\n",
    "            initial_size=node.Ne,\n",
    "        )\n",
    "        demography.add_population_split(\n",
    "            time=node.height,\n",
    "            derived=[str(i.current) for i in node.children],\n",
    "            ancestral=str(node.current),\n",
    "        )\n",
    "\n",
    "    if event['type'] == \"admixture\":\n",
    "\n",
    "        src, dest = dtree.idx_dict[int(event['ancestral'])]\n",
    "\n",
    "        # set node current to newnode\n",
    "        newname = f'{src.idx}x{dest.idx}'\n",
    "        node = dtree.idx_dict[dest].current = newname\n",
    "\n",
    "        # create new node that inherits its Ne from dest\n",
    "        demography.add_population(\n",
    "            name=f\"n{newname}\",\n",
    "            initial_size=node.Ne,\n",
    "        )\n",
    "\n",
    "        # create new node ancestry\n",
    "        demography.add_admixture(\n",
    "            time=event['time'],\n",
    "            derived=[dtree.idx_dict[i].current for i in (src, dest)],\n",
    "            ancestral=f\"n{newname}\",\n",
    "            proportions=[rate, 1 - rate],\n",
    "        )\n",
    "\n",
    "\n",
    "demography.sort_events()\n",
    "demography.debug()"
   ]
  },
  {
   "cell_type": "code",
   "execution_count": null,
   "id": "hungarian-tobago",
   "metadata": {},
   "outputs": [],
   "source": [
    "ts = ms.sim_ancestry(\n",
    "    samples={\"A\": 2, \"B\": 2, \"C\": 1},\n",
    "    demography=demography,\n",
    ")"
   ]
  },
  {
   "cell_type": "code",
   "execution_count": null,
   "id": "integrated-hacker",
   "metadata": {},
   "outputs": [],
   "source": [
    "for tree in ts.trees():\n",
    "    print(tree)"
   ]
  },
  {
   "cell_type": "code",
   "execution_count": null,
   "id": "experienced-brazilian",
   "metadata": {},
   "outputs": [],
   "source": [
    "demography.debug()"
   ]
  },
  {
   "cell_type": "code",
   "execution_count": null,
   "id": "suitable-willow",
   "metadata": {},
   "outputs": [],
   "source": []
  },
  {
   "cell_type": "code",
   "execution_count": null,
   "id": "hydraulic-treaty",
   "metadata": {},
   "outputs": [],
   "source": [
    "from ipcoal.utils.utils import get_all_admix_edges"
   ]
  },
  {
   "cell_type": "code",
   "execution_count": null,
   "id": "hispanic-distinction",
   "metadata": {},
   "outputs": [],
   "source": [
    "get_all_admix_edges(tree, 0, 1)"
   ]
  },
  {
   "cell_type": "code",
   "execution_count": null,
   "id": "welsh-prompt",
   "metadata": {},
   "outputs": [],
   "source": [
    "get_admix_interval_as_gens(tree, 0, 1, [4000, 5000], None)"
   ]
  },
  {
   "cell_type": "code",
   "execution_count": null,
   "id": "attractive-robert",
   "metadata": {},
   "outputs": [],
   "source": [
    "get_admix_interval_as_gens(tree, 0, 1, [None, None], [0.25, 0.75])"
   ]
  },
  {
   "cell_type": "code",
   "execution_count": null,
   "id": "directed-japanese",
   "metadata": {},
   "outputs": [],
   "source": [
    "\n",
    "def get_admix_interval_as_gens(\n",
    "    tree, \n",
    "    idx0, \n",
    "    idx1, \n",
    "    heights=None,\n",
    "    props=None,\n",
    "    ):\n",
    "    \"\"\"\n",
    "    Returns the branch interval in units of generations that two \n",
    "    edges of a tree are overlapping, with the lower and upper edges\n",
    "    optionally trimmed. If user enters admix times as integers then \n",
    "    they are checked only for validation, no trimming.\n",
    "    \"\"\"\n",
    "    if tree.idx_dict[idx0].is_root() or tree.idx_dict[idx1].is_root():\n",
    "        raise IpcoalError(f\"no shared admix interval for idxs: {idx0} {idx1}\")\n",
    "\n",
    "    # get full possible intervals for these two nodes from the tree\n",
    "    node0 = tree.idx_dict[idx0]\n",
    "    ival0 = (node0.height, node0.up.height)\n",
    "    node1 = tree.idx_dict[idx1]\n",
    "    ival1 = (node1.height, node1.up.height)\n",
    "\n",
    "    low_bin = max([ival0[0], ival1[0]])\n",
    "    top_bin = min([ival0[1], ival1[1]])\n",
    "    if top_bin < low_bin:\n",
    "        raise IpcoalError(f\"no shared admix interval for idxs: {idx0} {idx1}\")\n",
    "\n",
    "    # if user entered a time in gens then check if it works\n",
    "    if heights is not None:\n",
    "        if not ((heights[0] >= low_bin) and (heights[1] <= top_bin)):\n",
    "            raise IpcoalError(\n",
    "                f\"admix interval ({heights}) not within no shared admix interval for idxs: {idx0} {idx1}\")\n",
    "        return heights\n",
    "\n",
    "    # restrict migration within bin to a smaller interval\n",
    "    length = top_bin - low_bin\n",
    "    low_limit = low_bin + (length * props[0])\n",
    "    top_limit = low_bin + (length * props[1])\n",
    "    return low_limit, top_limit\n"
   ]
  },
  {
   "cell_type": "code",
   "execution_count": null,
   "id": "patent-assets",
   "metadata": {},
   "outputs": [],
   "source": [
    "tree.distance.get_mrca(0, 1).height"
   ]
  },
  {
   "cell_type": "code",
   "execution_count": null,
   "id": "impressive-bacteria",
   "metadata": {},
   "outputs": [],
   "source": [
    "mod = ipcoal.Model(tree=tree, Ne=5e5, nsamples=2, mut=2.5e-9, recomb=0)"
   ]
  },
  {
   "cell_type": "code",
   "execution_count": null,
   "id": "greenhouse-smell",
   "metadata": {},
   "outputs": [],
   "source": [
    "mod.sim_loci(1000, 100)"
   ]
  },
  {
   "cell_type": "code",
   "execution_count": null,
   "id": "renewable-pound",
   "metadata": {},
   "outputs": [],
   "source": [
    "xy = mod.get_pairwise_distances()"
   ]
  },
  {
   "cell_type": "code",
   "execution_count": null,
   "id": "filled-personal",
   "metadata": {},
   "outputs": [],
   "source": [
    "np.mean([xy.loc[f\"r{i}-0\", f\"r{i}-1\"] for i in range(10)])"
   ]
  },
  {
   "cell_type": "code",
   "execution_count": null,
   "id": "sought-mailman",
   "metadata": {
    "scrolled": true
   },
   "outputs": [],
   "source": [
    "for i in xy:\n",
    "    print((xy.loc[i][xy.loc[i] != 0]).min())"
   ]
  },
  {
   "cell_type": "code",
   "execution_count": null,
   "id": "olive-graduate",
   "metadata": {},
   "outputs": [],
   "source": []
  },
  {
   "cell_type": "code",
   "execution_count": null,
   "id": "approximate-coordination",
   "metadata": {},
   "outputs": [],
   "source": [
    "#mod.draw_seqview(0, 0, 50);"
   ]
  },
  {
   "cell_type": "code",
   "execution_count": null,
   "id": "potential-comparative",
   "metadata": {},
   "outputs": [],
   "source": [
    "#np.max(mod.get_pairwise_distances(model=\"\") / 2).mean()"
   ]
  },
  {
   "cell_type": "markdown",
   "id": "alive-letter",
   "metadata": {},
   "source": [
    "### Theta using msprime sim_mutations\n",
    "this is the proportion of sites that are different between two randomly sampled alleles (e.g., heterozygosity in a sampled individual in a pop)."
   ]
  },
  {
   "cell_type": "code",
   "execution_count": null,
   "id": "rotary-condition",
   "metadata": {},
   "outputs": [],
   "source": [
    "mod = ipcoal.Model(tree=tree, Ne=5e5, nsamples=2, mut=2.5e-9, recomb=0, )"
   ]
  },
  {
   "cell_type": "code",
   "execution_count": null,
   "id": "hairy-hudson",
   "metadata": {},
   "outputs": [],
   "source": [
    "mod.sim_trees()\n",
    "mod.draw_genealogies()"
   ]
  },
  {
   "cell_type": "code",
   "execution_count": null,
   "id": "floppy-philadelphia",
   "metadata": {},
   "outputs": [],
   "source": [
    "mod = ipcoal.Model(tree=tree, Ne=5e5, nsamples=2, mut=2.5e-9, recomb=1e-8)"
   ]
  },
  {
   "cell_type": "code",
   "execution_count": null,
   "id": "detected-expert",
   "metadata": {},
   "outputs": [],
   "source": [
    "msgen = mod._get_tree_sequence_generator(nsites=100)\n",
    "ts = next(msgen)"
   ]
  },
  {
   "cell_type": "code",
   "execution_count": null,
   "id": "rental-racing",
   "metadata": {},
   "outputs": [],
   "source": [
    "ts.num_sites"
   ]
  },
  {
   "cell_type": "code",
   "execution_count": null,
   "id": "incomplete-rubber",
   "metadata": {},
   "outputs": [],
   "source": [
    "ms.sim_ancestry()"
   ]
  },
  {
   "cell_type": "code",
   "execution_count": null,
   "id": "quarterly-apollo",
   "metadata": {},
   "outputs": [],
   "source": [
    "list(ts.breakpoints())"
   ]
  },
  {
   "cell_type": "code",
   "execution_count": null,
   "id": "functional-cedar",
   "metadata": {},
   "outputs": [],
   "source": [
    "mod.sim_trees(1, 10)\n",
    "mod.df"
   ]
  },
  {
   "cell_type": "code",
   "execution_count": null,
   "id": "floating-drain",
   "metadata": {},
   "outputs": [],
   "source": [
    "        ts = ms.sim_ancestry(\n",
    "            samples=2,\n",
    "            population_size=500_000,\n",
    "            sequence_length=200,\n",
    "            recombination_rate=0.00000005,\n",
    "        )"
   ]
  },
  {
   "cell_type": "code",
   "execution_count": null,
   "id": "raised-violin",
   "metadata": {},
   "outputs": [],
   "source": [
    "list(ts.breakpoints())"
   ]
  },
  {
   "cell_type": "code",
   "execution_count": null,
   "id": "incoming-motel",
   "metadata": {},
   "outputs": [],
   "source": [
    "# 4 * Ne * mu\n",
    "4 * 5e5 * 2.5e-9"
   ]
  },
  {
   "cell_type": "code",
   "execution_count": null,
   "id": "settled-objective",
   "metadata": {},
   "outputs": [],
   "source": [
    "for i in range(10):\n",
    "    \n",
    "    div = []\n",
    "    for i in range(10000):\n",
    "        ts = ms.sim_ancestry(\n",
    "            samples=2,\n",
    "            population_size=500_000,\n",
    "            sequence_length=200,\n",
    "            recombination_rate=0.5,\n",
    "            #random_seed=1234,  # only needed for repeatabilty\n",
    "        )\n",
    "        # Optionally add finite-site mutations to the ts using the Jukes & Cantor model, creating SNPs\n",
    "        mutated_ts = ms.sim_mutations(ts, rate=2.5e-9)\n",
    "        div.append(mutated_ts.diversity(sample_sets=[0, 1]))\n",
    "\n",
    "    print(np.mean(div), np.std(div))"
   ]
  },
  {
   "cell_type": "code",
   "execution_count": null,
   "id": "atlantic-pattern",
   "metadata": {},
   "outputs": [],
   "source": []
  },
  {
   "cell_type": "code",
   "execution_count": null,
   "id": "preceding-limitation",
   "metadata": {},
   "outputs": [],
   "source": [
    "div = []\n",
    "for i in range(10000):\n",
    "    ts = next(mod._get_tree_sequence_generator(nsites=200))\n",
    "    mutated_ts = ms.sim_mutations(ts, rate=2.5e-9)  \n",
    "    div.append(mutated_ts.diversity(sample_sets=[0, 1]))\n",
    "\n",
    "print(np.mean(div), np.std(div))"
   ]
  },
  {
   "cell_type": "code",
   "execution_count": null,
   "id": "lonely-cartridge",
   "metadata": {},
   "outputs": [],
   "source": []
  },
  {
   "cell_type": "code",
   "execution_count": null,
   "id": "fantastic-fight",
   "metadata": {},
   "outputs": [],
   "source": []
  },
  {
   "cell_type": "code",
   "execution_count": null,
   "id": "spoken-performer",
   "metadata": {},
   "outputs": [],
   "source": []
  },
  {
   "cell_type": "code",
   "execution_count": null,
   "id": "adapted-affair",
   "metadata": {},
   "outputs": [],
   "source": [
    "mutated_ts = ms.sim_mutations(ts, rate=1e-8)"
   ]
  },
  {
   "cell_type": "code",
   "execution_count": null,
   "id": "sustained-terminal",
   "metadata": {},
   "outputs": [],
   "source": [
    "mutated_ts.diversity(sample_sets=[0, 1])"
   ]
  },
  {
   "cell_type": "code",
   "execution_count": null,
   "id": "lucky-japan",
   "metadata": {},
   "outputs": [],
   "source": [
    "muts = 0\n",
    "for i in range(100):\n",
    "    tsgen = mod._get_tree_sequence_generator(nsites=100)\n",
    "    ts = next(tsgen)\n",
    "    mutated_ts = ms.sim_mutations(ts, rate=2.5e-9)\n",
    "    muts += (mutated_ts.num_mutations) \n",
    "    \n",
    "print(muts / (100 * 100))"
   ]
  },
  {
   "cell_type": "code",
   "execution_count": null,
   "id": "boolean-submission",
   "metadata": {},
   "outputs": [],
   "source": [
    "mutated_ts.diversity([[0, 1], [2, 3]])"
   ]
  },
  {
   "cell_type": "code",
   "execution_count": null,
   "id": "uniform-milwaukee",
   "metadata": {},
   "outputs": [],
   "source": [
    "mutated_ts.diversity([[0, 1]], windows=[10, 20])"
   ]
  },
  {
   "cell_type": "code",
   "execution_count": null,
   "id": "square-impossible",
   "metadata": {},
   "outputs": [],
   "source": []
  },
  {
   "cell_type": "code",
   "execution_count": null,
   "id": "varied-trinidad",
   "metadata": {},
   "outputs": [],
   "source": []
  },
  {
   "cell_type": "code",
   "execution_count": null,
   "id": "atlantic-affair",
   "metadata": {},
   "outputs": [],
   "source": [
    "import tskit"
   ]
  },
  {
   "cell_type": "code",
   "execution_count": null,
   "id": "continued-vehicle",
   "metadata": {},
   "outputs": [],
   "source": [
    "mutated_ts.divergence([[0, 1], [2, 3]])"
   ]
  },
  {
   "cell_type": "code",
   "execution_count": null,
   "id": "starting-hebrew",
   "metadata": {},
   "outputs": [],
   "source": []
  },
  {
   "cell_type": "code",
   "execution_count": null,
   "id": "decreased-nudist",
   "metadata": {},
   "outputs": [],
   "source": []
  },
  {
   "cell_type": "code",
   "execution_count": null,
   "id": "alone-threshold",
   "metadata": {},
   "outputs": [],
   "source": []
  },
  {
   "cell_type": "code",
   "execution_count": null,
   "id": "roman-toolbox",
   "metadata": {},
   "outputs": [],
   "source": []
  },
  {
   "cell_type": "code",
   "execution_count": null,
   "id": "recent-credit",
   "metadata": {},
   "outputs": [],
   "source": []
  },
  {
   "cell_type": "code",
   "execution_count": null,
   "id": "aquatic-swift",
   "metadata": {},
   "outputs": [],
   "source": []
  },
  {
   "cell_type": "code",
   "execution_count": null,
   "id": "refined-excitement",
   "metadata": {},
   "outputs": [],
   "source": []
  },
  {
   "cell_type": "code",
   "execution_count": null,
   "id": "silver-tunisia",
   "metadata": {},
   "outputs": [],
   "source": []
  }
 ],
 "metadata": {
  "kernelspec": {
   "display_name": "Python 3",
   "language": "python",
   "name": "python3"
  },
  "language_info": {
   "codemirror_mode": {
    "name": "ipython",
    "version": 3
   },
   "file_extension": ".py",
   "mimetype": "text/x-python",
   "name": "python",
   "nbconvert_exporter": "python",
   "pygments_lexer": "ipython3",
   "version": "3.8.8"
  }
 },
 "nbformat": 4,
 "nbformat_minor": 5
}
