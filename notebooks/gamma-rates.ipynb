{
 "cells": [
  {
   "cell_type": "code",
   "execution_count": 1,
   "metadata": {},
   "outputs": [],
   "source": [
    "import toytree\n",
    "import ipcoal"
   ]
  },
  {
   "cell_type": "markdown",
   "metadata": {},
   "source": [
    "From Wakeley: https://wakeleylab.oeb.harvard.edu/files/wakeleylab/files/wakeley94.pdf\n",
    "\n",
    "<i> \n",
    "The mean of this distribution is ab, and the variance is ab$^{2}$, making the coefficient of variation, in rate, among sites a$^{-1/2}$ The parameter a can be used to describe the extent of rate variation when gamma distributions are compared. For distributions with the same mean, as a gets smaller the variance and coefficient of variation in- crease. When a is small, most sites have rates near 0, but a few have very high rates. Alternatively, as a gets larger, the variance and coefficient of variation decrease until the entire distribution is concentrated at a single rate.\n",
    "</i>"
   ]
  },
  {
   "cell_type": "markdown",
   "metadata": {},
   "source": [
    "From Seqgen docs:\n",
    "\n",
    "\n",
    "<i>\n",
    "The second model of rate heterogeneity assigns different rates to different sites according to a gamma distribution (Yang, 1993). <b>The distribution is scaled such that the mean rate for all the sites is 1 but the user must supply a parameter which describes its shape.</b> A low value for this parameter ($<$1.0) simulates a large degree of site-specific rate heterogeneity and as this value increases the simulated data becomes more rate-homogeneous. This can be performed as a continuous model, i.e. every site has a different rate sampled from the gamma distribution of the given shape, or as a discrete model, i.e. each site falls into one of N rate categories approximating the gamma distribution. For a review of site-specific rate heterogeneity and its implications for phylogenetic analyses, see Yang (1996). \n",
    "</i>"
   ]
  },
  {
   "cell_type": "code",
   "execution_count": 2,
   "metadata": {},
   "outputs": [],
   "source": [
    "tre = toytree.rtree.unittree(5, 1e6, seed=123)"
   ]
  },
  {
   "cell_type": "markdown",
   "metadata": {},
   "source": [
    "### JC"
   ]
  },
  {
   "cell_type": "code",
   "execution_count": 3,
   "metadata": {},
   "outputs": [
    {
     "name": "stdout",
     "output_type": "stream",
     "text": [
      "78.8 ms ± 863 µs per loop (mean ± std. dev. of 7 runs, 1 loop each)\n"
     ]
    }
   ],
   "source": [
    "%%timeit\n",
    "mod = ipcoal.Model(tre, Ne=1e5, nsamples=2, seed=1234, seed_mutations=123)\n",
    "mod.sim_loci(10, 20)"
   ]
  },
  {
   "cell_type": "markdown",
   "metadata": {},
   "source": [
    "### GTR"
   ]
  },
  {
   "cell_type": "code",
   "execution_count": 4,
   "metadata": {},
   "outputs": [
    {
     "name": "stdout",
     "output_type": "stream",
     "text": [
      "80.1 ms ± 2.54 ms per loop (mean ± std. dev. of 7 runs, 10 loops each)\n"
     ]
    }
   ],
   "source": [
    "%%timeit\n",
    "mod = ipcoal.Model(\n",
    "    tre, Ne=1e5, nsamples=2, seed=1234, seed_mutations=123,\n",
    "    substitution_model={\"state_frequencies\": (0.3, 0.2, 0.2, 0.3), \"kappa\": 0.5}                  \n",
    ")\n",
    "mod.sim_loci(10, 20)"
   ]
  },
  {
   "cell_type": "markdown",
   "metadata": {},
   "source": [
    "### GTR GAMMA"
   ]
  },
  {
   "cell_type": "code",
   "execution_count": 5,
   "metadata": {},
   "outputs": [
    {
     "name": "stdout",
     "output_type": "stream",
     "text": [
      "610 ms ± 10.3 ms per loop (mean ± std. dev. of 7 runs, 1 loop each)\n"
     ]
    }
   ],
   "source": [
    "%%timeit\n",
    "mod = ipcoal.Model(\n",
    "    tre, Ne=1e5, nsamples=2, seed=1234, seed_mutations=123,\n",
    "    substitution_model={\n",
    "        \"state_frequencies\": (0.3, 0.2, 0.2, 0.3), \n",
    "        \"kappa\": 0.5, \n",
    "        \"gamma\": 0.5,\n",
    "    } \n",
    ")\n",
    "mod.sim_loci(10, 20)"
   ]
  },
  {
   "cell_type": "markdown",
   "metadata": {},
   "source": [
    "### GTR GAMMA discerete categories"
   ]
  },
  {
   "cell_type": "code",
   "execution_count": null,
   "metadata": {},
   "outputs": [],
   "source": [
    "%%timeit\n",
    "mod = ipcoal.Model(\n",
    "    tre, Ne=1e5, nsamples=2, seed=1234, seed_mutations=123,\n",
    "    substitution_model={\n",
    "        \"state_frequencies\": (0.3, 0.2, 0.2, 0.3), \n",
    "        \"kappa\": 0.5, \n",
    "        \"gamma\": 0.5,\n",
    "        \"gamma_categories\": 4,\n",
    "    } \n",
    ")\n",
    "mod.sim_loci(10, 20)\n",
    "mod.df"
   ]
  },
  {
   "cell_type": "markdown",
   "metadata": {},
   "source": [
    "### Comparison"
   ]
  },
  {
   "cell_type": "code",
   "execution_count": null,
   "metadata": {},
   "outputs": [],
   "source": [
    "mod = ipcoal.Model(\n",
    "    tre, Ne=1e5, nsamples=2, seed=1234, seed_mutations=123,\n",
    "    substitution_model={\n",
    "        \"state_frequencies\": (0.3, 0.2, 0.2, 0.3), \n",
    "        \"kappa\": 0.5, \n",
    "        \"gamma\": 0.5,\n",
    "        \"gamma_categories\": 4,\n",
    "    } \n",
    ")\n",
    "mod.sim_loci(10, 20)"
   ]
  },
  {
   "cell_type": "code",
   "execution_count": null,
   "metadata": {},
   "outputs": [],
   "source": [
    "mod.draw_seqview(0);"
   ]
  },
  {
   "cell_type": "code",
   "execution_count": 20,
   "metadata": {},
   "outputs": [
    {
     "name": "stdout",
     "output_type": "stream",
     "text": [
      "state_frequencies:\n",
      "   A    C    G    T\n",
      " 0.3  0.2  0.2  0.3\n",
      "\n",
      "kappa: 0.5\n",
      "ts/tv: 0.24\n",
      "\n",
      "instantaneous transition rate matrix:\n",
      "        A       C       G       T\n",
      "A -0.9677  0.3226  0.1613  0.4839\n",
      "C  0.4839 -1.0484  0.3226  0.2419\n",
      "G  0.2419  0.3226 -1.0484  0.4839\n",
      "T  0.4839  0.1613  0.3226 -0.9677\n"
     ]
    }
   ],
   "source": [
    "mod.get_substitution_model_summary()"
   ]
  },
  {
   "cell_type": "code",
   "execution_count": null,
   "metadata": {},
   "outputs": [],
   "source": []
  },
  {
   "cell_type": "code",
   "execution_count": null,
   "metadata": {},
   "outputs": [],
   "source": []
  }
 ],
 "metadata": {
  "kernelspec": {
   "display_name": "Python 3",
   "language": "python",
   "name": "python3"
  },
  "language_info": {
   "codemirror_mode": {
    "name": "ipython",
    "version": 3
   },
   "file_extension": ".py",
   "mimetype": "text/x-python",
   "name": "python",
   "nbconvert_exporter": "python",
   "pygments_lexer": "ipython3",
   "version": "3.7.9"
  }
 },
 "nbformat": 4,
 "nbformat_minor": 4
}
