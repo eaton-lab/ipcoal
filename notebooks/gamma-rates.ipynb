{
 "cells": [
  {
   "cell_type": "code",
   "execution_count": 1,
   "metadata": {},
   "outputs": [],
   "source": [
    "import toytree\n",
    "import ipcoal"
   ]
  },
  {
   "cell_type": "markdown",
   "metadata": {},
   "source": [
    "From Wakeley: https://wakeleylab.oeb.harvard.edu/files/wakeleylab/files/wakeley94.pdf\n",
    "\n",
    "<i> \n",
    "The mean of this distribution is ab, and the variance is ab$^{2}$, making the coefficient of variation, in rate, among sites a$^{-1/2}$ The parameter a can be used to describe the extent of rate variation when gamma distributions are compared. For distributions with the same mean, as a gets smaller the variance and coefficient of variation in- crease. When a is small, most sites have rates near 0, but a few have very high rates. Alternatively, as a gets larger, the variance and coefficient of variation decrease until the entire distribution is concentrated at a single rate.\n",
    "</i>"
   ]
  },
  {
   "cell_type": "markdown",
   "metadata": {},
   "source": [
    "From Seqgen docs:\n",
    "\n",
    "\n",
    "<i>\n",
    "The second model of rate heterogeneity assigns different rates to different sites according to a gamma distribution (Yang, 1993). <b>The distribution is scaled such that the mean rate for all the sites is 1 but the user must supply a parameter which describes its shape.</b> A low value for this parameter ($<$1.0) simulates a large degree of site-specific rate heterogeneity and as this value increases the simulated data becomes more rate-homogeneous. This can be performed as a continuous model, i.e. every site has a different rate sampled from the gamma distribution of the given shape, or as a discrete model, i.e. each site falls into one of N rate categories approximating the gamma distribution. For a review of site-specific rate heterogeneity and its implications for phylogenetic analyses, see Yang (1996). \n",
    "</i>"
   ]
  },
  {
   "cell_type": "code",
   "execution_count": 2,
   "metadata": {},
   "outputs": [],
   "source": [
    "tre = toytree.rtree.unittree(5, 1e6, seed=123)"
   ]
  },
  {
   "cell_type": "markdown",
   "metadata": {},
   "source": [
    "### JC"
   ]
  },
  {
   "cell_type": "code",
   "execution_count": 3,
   "metadata": {},
   "outputs": [
    {
     "name": "stdout",
     "output_type": "stream",
     "text": [
      "85.5 ms ± 1.98 ms per loop (mean ± std. dev. of 7 runs, 1 loop each)\n"
     ]
    }
   ],
   "source": [
    "%%timeit\n",
    "mod = ipcoal.Model(tre, Ne=1e5, nsamples=2, seed=1234, seed_mutations=123)\n",
    "mod.sim_loci(10, 20)"
   ]
  },
  {
   "cell_type": "markdown",
   "metadata": {},
   "source": [
    "### GTR"
   ]
  },
  {
   "cell_type": "code",
   "execution_count": 4,
   "metadata": {},
   "outputs": [
    {
     "name": "stdout",
     "output_type": "stream",
     "text": [
      "86 ms ± 3.13 ms per loop (mean ± std. dev. of 7 runs, 10 loops each)\n"
     ]
    }
   ],
   "source": [
    "%%timeit\n",
    "mod = ipcoal.Model(\n",
    "    tre, Ne=1e5, nsamples=2, seed=1234, seed_mutations=123,\n",
    "    substitution_model={\"state_frequencies\": (0.3, 0.2, 0.2, 0.3), \"kappa\": 0.5}                  \n",
    ")\n",
    "mod.sim_loci(10, 20)"
   ]
  },
  {
   "cell_type": "markdown",
   "metadata": {},
   "source": [
    "### GTR GAMMA"
   ]
  },
  {
   "cell_type": "code",
   "execution_count": 5,
   "metadata": {},
   "outputs": [
    {
     "name": "stdout",
     "output_type": "stream",
     "text": [
      "694 ms ± 7.36 ms per loop (mean ± std. dev. of 7 runs, 1 loop each)\n"
     ]
    }
   ],
   "source": [
    "%%timeit\n",
    "mod = ipcoal.Model(\n",
    "    tre, Ne=1e5, nsamples=2, seed=1234, seed_mutations=123,\n",
    "    substitution_model={\n",
    "        \"state_frequencies\": (0.3, 0.2, 0.2, 0.3), \n",
    "        \"kappa\": 0.5, \n",
    "        \"gamma\": 0.5,\n",
    "    } \n",
    ")\n",
    "mod.sim_loci(10, 20)"
   ]
  },
  {
   "cell_type": "markdown",
   "metadata": {},
   "source": [
    "### GTR GAMMA discerete categories"
   ]
  },
  {
   "cell_type": "code",
   "execution_count": 6,
   "metadata": {},
   "outputs": [
    {
     "name": "stdout",
     "output_type": "stream",
     "text": [
      "192 ms ± 3.08 ms per loop (mean ± std. dev. of 7 runs, 1 loop each)\n"
     ]
    }
   ],
   "source": [
    "%%timeit\n",
    "mod = ipcoal.Model(\n",
    "    tre, Ne=1e5, nsamples=2, seed=1234, seed_mutations=123,\n",
    "    substitution_model={\n",
    "        \"state_frequencies\": (0.3, 0.2, 0.2, 0.3), \n",
    "        \"kappa\": 0.5, \n",
    "        \"gamma\": 0.5,\n",
    "        \"gamma_categories\": 4,\n",
    "    } \n",
    ")\n",
    "mod.sim_loci(10, 20)\n",
    "mod.df"
   ]
  },
  {
   "cell_type": "markdown",
   "metadata": {},
   "source": [
    "### Example"
   ]
  },
  {
   "cell_type": "code",
   "execution_count": 7,
   "metadata": {},
   "outputs": [],
   "source": [
    "mod = ipcoal.Model(\n",
    "    tre, Ne=1e5, nsamples=2, seed=1234, seed_mutations=123,\n",
    "    substitution_model={\n",
    "        \"state_frequencies\": (0.3, 0.2, 0.2, 0.3), \n",
    "        \"kappa\": 0.5, \n",
    "        \"gamma\": 0.5,\n",
    "        \"gamma_categories\": 4,\n",
    "    } \n",
    ")\n",
    "mod.sim_loci(10, 20)"
   ]
  },
  {
   "cell_type": "code",
   "execution_count": 8,
   "metadata": {},
   "outputs": [
    {
     "data": {
      "text/html": [
       "<div class=\"toyplot\" id=\"t81d817d41bec401b8a53a702136b92df\" style=\"text-align:center\"><svg class=\"toyplot-canvas-Canvas\" height=\"160.0px\" id=\"t19ab7bf447c949e19f2b6ce96dbe07b4\" preserveAspectRatio=\"xMidYMid meet\" style=\"background-color:transparent;border-color:#292724;border-style:none;border-width:1.0;fill:rgb(16.1%,15.3%,14.1%);fill-opacity:1.0;font-family:Helvetica;font-size:12px;opacity:1.0;stroke:rgb(16.1%,15.3%,14.1%);stroke-opacity:1.0;stroke-width:1.0\" viewBox=\"0 0 444.0 160.0\" width=\"444.0px\" xmlns=\"http://www.w3.org/2000/svg\" xmlns:toyplot=\"http://www.sandia.gov/toyplot\" xmlns:xlink=\"http://www.w3.org/1999/xlink\"><g class=\"toyplot-coordinates-Table\" id=\"t7185a17ea7724305873863f60c16a09f\"><g transform=\"translate(69.4,21.725)\"><text style=\"fill:rgb(16.1%,15.3%,14.1%);fill-opacity:1.0;font-family:helvetica;font-size:11.0px;font-weight:normal;stroke:none;vertical-align:baseline;white-space:pre\" x=\"-9.779\" y=\"2.8104999999999993\">r0-0</text></g><rect height=\"11.45\" style=\"fill:rgb(100%,64.7%,0%);fill-opacity:1.0;opacity:0.5;stroke:none\" width=\"13.760000000000005\" x=\"95.9\" y=\"16.0\"></rect><rect height=\"11.45\" style=\"fill:rgb(0%,0%,100%);fill-opacity:1.0;opacity:0.5;stroke:none\" width=\"13.760000000000005\" x=\"111.16000000000001\" y=\"16.0\"></rect><rect height=\"11.45\" style=\"fill:rgb(100%,0%,0%);fill-opacity:1.0;opacity:0.5;stroke:none\" width=\"13.759999999999991\" x=\"126.42000000000002\" y=\"16.0\"></rect><rect height=\"11.45\" style=\"fill:rgb(0%,0%,100%);fill-opacity:1.0;opacity:0.5;stroke:none\" width=\"13.76000000000002\" x=\"141.68\" y=\"16.0\"></rect><rect height=\"11.45\" style=\"fill:rgb(100%,64.7%,0%);fill-opacity:1.0;opacity:0.5;stroke:none\" width=\"13.76000000000002\" x=\"156.94000000000003\" y=\"16.0\"></rect><rect height=\"11.45\" style=\"fill:rgb(0%,50.2%,0%);fill-opacity:1.0;opacity:0.5;stroke:none\" width=\"13.759999999999991\" x=\"172.20000000000005\" y=\"16.0\"></rect><rect height=\"11.45\" style=\"fill:rgb(0%,50.2%,0%);fill-opacity:1.0;opacity:0.5;stroke:none\" width=\"13.759999999999991\" x=\"187.46000000000004\" y=\"16.0\"></rect><rect height=\"11.45\" style=\"fill:rgb(0%,0%,100%);fill-opacity:1.0;opacity:0.5;stroke:none\" width=\"13.759999999999991\" x=\"202.72000000000003\" y=\"16.0\"></rect><rect height=\"11.45\" style=\"fill:rgb(0%,50.2%,0%);fill-opacity:1.0;opacity:0.5;stroke:none\" width=\"13.759999999999991\" x=\"217.98000000000002\" y=\"16.0\"></rect><rect height=\"11.45\" style=\"fill:rgb(0%,0%,100%);fill-opacity:1.0;opacity:0.5;stroke:none\" width=\"13.759999999999991\" x=\"233.24\" y=\"16.0\"></rect><rect height=\"11.45\" style=\"fill:rgb(100%,64.7%,0%);fill-opacity:1.0;opacity:0.5;stroke:none\" width=\"13.759999999999991\" x=\"248.5\" y=\"16.0\"></rect><rect height=\"11.45\" style=\"fill:rgb(100%,0%,0%);fill-opacity:1.0;opacity:0.5;stroke:none\" width=\"13.759999999999991\" x=\"263.76\" y=\"16.0\"></rect><rect height=\"11.45\" style=\"fill:rgb(0%,0%,100%);fill-opacity:1.0;opacity:0.5;stroke:none\" width=\"13.759999999999991\" x=\"279.02\" y=\"16.0\"></rect><rect height=\"11.45\" style=\"fill:rgb(100%,0%,0%);fill-opacity:1.0;opacity:0.5;stroke:none\" width=\"13.759999999999991\" x=\"294.28\" y=\"16.0\"></rect><rect height=\"11.45\" style=\"fill:rgb(0%,0%,100%);fill-opacity:1.0;opacity:0.5;stroke:none\" width=\"13.759999999999991\" x=\"309.53999999999996\" y=\"16.0\"></rect><rect height=\"11.45\" style=\"fill:rgb(0%,0%,100%);fill-opacity:1.0;opacity:0.5;stroke:none\" width=\"13.759999999999991\" x=\"324.79999999999995\" y=\"16.0\"></rect><rect height=\"11.45\" style=\"fill:rgb(100%,64.7%,0%);fill-opacity:1.0;opacity:0.5;stroke:none\" width=\"13.759999999999991\" x=\"340.05999999999995\" y=\"16.0\"></rect><rect height=\"11.45\" style=\"fill:rgb(0%,0%,100%);fill-opacity:1.0;opacity:0.5;stroke:none\" width=\"13.759999999999991\" x=\"355.31999999999994\" y=\"16.0\"></rect><rect height=\"11.45\" style=\"fill:rgb(0%,50.2%,0%);fill-opacity:1.0;opacity:0.5;stroke:none\" width=\"13.759999999999991\" x=\"370.5799999999999\" y=\"16.0\"></rect><rect height=\"11.45\" style=\"fill:rgb(100%,64.7%,0%);fill-opacity:1.0;opacity:0.5;stroke:none\" width=\"13.759999999999991\" x=\"385.8399999999999\" y=\"16.0\"></rect><g transform=\"translate(69.4,34.675)\"><text style=\"fill:rgb(16.1%,15.3%,14.1%);fill-opacity:1.0;font-family:helvetica;font-size:11.0px;font-weight:normal;stroke:none;vertical-align:baseline;white-space:pre\" x=\"-9.779\" y=\"2.8104999999999993\">r0-1</text></g><rect height=\"11.45\" style=\"fill:rgb(100%,64.7%,0%);fill-opacity:1.0;opacity:0.5;stroke:none\" width=\"13.760000000000005\" x=\"95.9\" y=\"28.95\"></rect><rect height=\"11.45\" style=\"fill:rgb(0%,0%,100%);fill-opacity:1.0;opacity:0.5;stroke:none\" width=\"13.760000000000005\" x=\"111.16000000000001\" y=\"28.95\"></rect><rect height=\"11.45\" style=\"fill:rgb(100%,0%,0%);fill-opacity:1.0;opacity:0.5;stroke:none\" width=\"13.759999999999991\" x=\"126.42000000000002\" y=\"28.95\"></rect><rect height=\"11.45\" style=\"fill:rgb(0%,0%,100%);fill-opacity:1.0;opacity:0.5;stroke:none\" width=\"13.76000000000002\" x=\"141.68\" y=\"28.95\"></rect><rect height=\"11.45\" style=\"fill:rgb(100%,64.7%,0%);fill-opacity:1.0;opacity:0.5;stroke:none\" width=\"13.76000000000002\" x=\"156.94000000000003\" y=\"28.95\"></rect><rect height=\"11.45\" style=\"fill:rgb(0%,50.2%,0%);fill-opacity:1.0;opacity:0.5;stroke:none\" width=\"13.759999999999991\" x=\"172.20000000000005\" y=\"28.95\"></rect><rect height=\"11.45\" style=\"fill:rgb(0%,50.2%,0%);fill-opacity:1.0;opacity:0.5;stroke:none\" width=\"13.759999999999991\" x=\"187.46000000000004\" y=\"28.95\"></rect><rect height=\"11.45\" style=\"fill:rgb(0%,0%,100%);fill-opacity:1.0;opacity:0.5;stroke:none\" width=\"13.759999999999991\" x=\"202.72000000000003\" y=\"28.95\"></rect><rect height=\"11.45\" style=\"fill:rgb(0%,50.2%,0%);fill-opacity:1.0;opacity:0.5;stroke:none\" width=\"13.759999999999991\" x=\"217.98000000000002\" y=\"28.95\"></rect><rect height=\"11.45\" style=\"fill:rgb(0%,0%,100%);fill-opacity:1.0;opacity:0.5;stroke:none\" width=\"13.759999999999991\" x=\"233.24\" y=\"28.95\"></rect><rect height=\"11.45\" style=\"fill:rgb(100%,64.7%,0%);fill-opacity:1.0;opacity:0.5;stroke:none\" width=\"13.759999999999991\" x=\"248.5\" y=\"28.95\"></rect><rect height=\"11.45\" style=\"fill:rgb(100%,0%,0%);fill-opacity:1.0;opacity:0.5;stroke:none\" width=\"13.759999999999991\" x=\"263.76\" y=\"28.95\"></rect><rect height=\"11.45\" style=\"fill:rgb(0%,0%,100%);fill-opacity:1.0;opacity:0.5;stroke:none\" width=\"13.759999999999991\" x=\"279.02\" y=\"28.95\"></rect><rect height=\"11.45\" style=\"fill:rgb(100%,0%,0%);fill-opacity:1.0;opacity:0.5;stroke:none\" width=\"13.759999999999991\" x=\"294.28\" y=\"28.95\"></rect><rect height=\"11.45\" style=\"fill:rgb(0%,0%,100%);fill-opacity:1.0;opacity:0.5;stroke:none\" width=\"13.759999999999991\" x=\"309.53999999999996\" y=\"28.95\"></rect><rect height=\"11.45\" style=\"fill:rgb(0%,0%,100%);fill-opacity:1.0;opacity:0.5;stroke:none\" width=\"13.759999999999991\" x=\"324.79999999999995\" y=\"28.95\"></rect><rect height=\"11.45\" style=\"fill:rgb(100%,64.7%,0%);fill-opacity:1.0;opacity:0.5;stroke:none\" width=\"13.759999999999991\" x=\"340.05999999999995\" y=\"28.95\"></rect><rect height=\"11.45\" style=\"fill:rgb(0%,0%,100%);fill-opacity:1.0;opacity:0.5;stroke:none\" width=\"13.759999999999991\" x=\"355.31999999999994\" y=\"28.95\"></rect><rect height=\"11.45\" style=\"fill:rgb(0%,50.2%,0%);fill-opacity:1.0;opacity:0.5;stroke:none\" width=\"13.759999999999991\" x=\"370.5799999999999\" y=\"28.95\"></rect><rect height=\"11.45\" style=\"fill:rgb(100%,64.7%,0%);fill-opacity:1.0;opacity:0.5;stroke:none\" width=\"13.759999999999991\" x=\"385.8399999999999\" y=\"28.95\"></rect><g transform=\"translate(69.4,47.625)\"><text style=\"fill:rgb(16.1%,15.3%,14.1%);fill-opacity:1.0;font-family:helvetica;font-size:11.0px;font-weight:normal;stroke:none;vertical-align:baseline;white-space:pre\" x=\"-9.779\" y=\"2.8104999999999993\">r1-0</text></g><rect height=\"11.449999999999996\" style=\"fill:rgb(100%,64.7%,0%);fill-opacity:1.0;opacity:0.5;stroke:none\" width=\"13.760000000000005\" x=\"95.9\" y=\"41.9\"></rect><rect height=\"11.449999999999996\" style=\"fill:rgb(0%,0%,100%);fill-opacity:1.0;opacity:0.5;stroke:none\" width=\"13.760000000000005\" x=\"111.16000000000001\" y=\"41.9\"></rect><rect height=\"11.449999999999996\" style=\"fill:rgb(100%,0%,0%);fill-opacity:1.0;opacity:0.5;stroke:none\" width=\"13.759999999999991\" x=\"126.42000000000002\" y=\"41.9\"></rect><rect height=\"11.449999999999996\" style=\"fill:rgb(0%,0%,100%);fill-opacity:1.0;opacity:0.5;stroke:none\" width=\"13.76000000000002\" x=\"141.68\" y=\"41.9\"></rect><rect height=\"11.449999999999996\" style=\"fill:rgb(100%,64.7%,0%);fill-opacity:1.0;opacity:0.5;stroke:none\" width=\"13.76000000000002\" x=\"156.94000000000003\" y=\"41.9\"></rect><rect height=\"11.449999999999996\" style=\"fill:rgb(0%,50.2%,0%);fill-opacity:1.0;opacity:0.5;stroke:none\" width=\"13.759999999999991\" x=\"172.20000000000005\" y=\"41.9\"></rect><rect height=\"11.449999999999996\" style=\"fill:rgb(0%,50.2%,0%);fill-opacity:1.0;opacity:0.5;stroke:none\" width=\"13.759999999999991\" x=\"187.46000000000004\" y=\"41.9\"></rect><rect height=\"11.449999999999996\" style=\"fill:rgb(0%,0%,100%);fill-opacity:1.0;opacity:0.5;stroke:none\" width=\"13.759999999999991\" x=\"202.72000000000003\" y=\"41.9\"></rect><rect height=\"11.449999999999996\" style=\"fill:rgb(0%,50.2%,0%);fill-opacity:1.0;opacity:0.5;stroke:none\" width=\"13.759999999999991\" x=\"217.98000000000002\" y=\"41.9\"></rect><rect height=\"11.449999999999996\" style=\"fill:rgb(0%,0%,100%);fill-opacity:1.0;opacity:0.5;stroke:none\" width=\"13.759999999999991\" x=\"233.24\" y=\"41.9\"></rect><rect height=\"11.449999999999996\" style=\"fill:rgb(100%,64.7%,0%);fill-opacity:1.0;opacity:0.5;stroke:none\" width=\"13.759999999999991\" x=\"248.5\" y=\"41.9\"></rect><rect height=\"11.449999999999996\" style=\"fill:rgb(100%,0%,0%);fill-opacity:1.0;opacity:0.5;stroke:none\" width=\"13.759999999999991\" x=\"263.76\" y=\"41.9\"></rect><rect height=\"11.449999999999996\" style=\"fill:rgb(0%,0%,100%);fill-opacity:1.0;opacity:0.5;stroke:none\" width=\"13.759999999999991\" x=\"279.02\" y=\"41.9\"></rect><rect height=\"11.449999999999996\" style=\"fill:rgb(100%,0%,0%);fill-opacity:1.0;opacity:0.5;stroke:none\" width=\"13.759999999999991\" x=\"294.28\" y=\"41.9\"></rect><rect height=\"11.449999999999996\" style=\"fill:rgb(0%,0%,100%);fill-opacity:1.0;opacity:0.5;stroke:none\" width=\"13.759999999999991\" x=\"309.53999999999996\" y=\"41.9\"></rect><rect height=\"11.449999999999996\" style=\"fill:rgb(0%,0%,100%);fill-opacity:1.0;opacity:0.5;stroke:none\" width=\"13.759999999999991\" x=\"324.79999999999995\" y=\"41.9\"></rect><rect height=\"11.449999999999996\" style=\"fill:rgb(100%,64.7%,0%);fill-opacity:1.0;opacity:0.5;stroke:none\" width=\"13.759999999999991\" x=\"340.05999999999995\" y=\"41.9\"></rect><rect height=\"11.449999999999996\" style=\"fill:rgb(0%,0%,100%);fill-opacity:1.0;opacity:0.5;stroke:none\" width=\"13.759999999999991\" x=\"355.31999999999994\" y=\"41.9\"></rect><rect height=\"11.449999999999996\" style=\"fill:rgb(0%,50.2%,0%);fill-opacity:1.0;opacity:0.5;stroke:none\" width=\"13.759999999999991\" x=\"370.5799999999999\" y=\"41.9\"></rect><rect height=\"11.449999999999996\" style=\"fill:rgb(100%,64.7%,0%);fill-opacity:1.0;opacity:0.5;stroke:none\" width=\"13.759999999999991\" x=\"385.8399999999999\" y=\"41.9\"></rect><g transform=\"translate(69.4,60.574999999999996)\"><text style=\"fill:rgb(16.1%,15.3%,14.1%);fill-opacity:1.0;font-family:helvetica;font-size:11.0px;font-weight:normal;stroke:none;vertical-align:baseline;white-space:pre\" x=\"-9.779\" y=\"2.8104999999999993\">r1-1</text></g><rect height=\"11.450000000000003\" style=\"fill:rgb(100%,64.7%,0%);fill-opacity:1.0;opacity:0.5;stroke:none\" width=\"13.760000000000005\" x=\"95.9\" y=\"54.849999999999994\"></rect><rect height=\"11.450000000000003\" style=\"fill:rgb(0%,0%,100%);fill-opacity:1.0;opacity:0.5;stroke:none\" width=\"13.760000000000005\" x=\"111.16000000000001\" y=\"54.849999999999994\"></rect><rect height=\"11.450000000000003\" style=\"fill:rgb(100%,0%,0%);fill-opacity:1.0;opacity:0.5;stroke:none\" width=\"13.759999999999991\" x=\"126.42000000000002\" y=\"54.849999999999994\"></rect><rect height=\"11.450000000000003\" style=\"fill:rgb(0%,0%,100%);fill-opacity:1.0;opacity:0.5;stroke:none\" width=\"13.76000000000002\" x=\"141.68\" y=\"54.849999999999994\"></rect><rect height=\"11.450000000000003\" style=\"fill:rgb(100%,64.7%,0%);fill-opacity:1.0;opacity:0.5;stroke:none\" width=\"13.76000000000002\" x=\"156.94000000000003\" y=\"54.849999999999994\"></rect><rect height=\"11.450000000000003\" style=\"fill:rgb(0%,50.2%,0%);fill-opacity:1.0;opacity:0.5;stroke:none\" width=\"13.759999999999991\" x=\"172.20000000000005\" y=\"54.849999999999994\"></rect><rect height=\"11.450000000000003\" style=\"fill:rgb(0%,50.2%,0%);fill-opacity:1.0;opacity:0.5;stroke:none\" width=\"13.759999999999991\" x=\"187.46000000000004\" y=\"54.849999999999994\"></rect><rect height=\"11.450000000000003\" style=\"fill:rgb(0%,0%,100%);fill-opacity:1.0;opacity:0.5;stroke:none\" width=\"13.759999999999991\" x=\"202.72000000000003\" y=\"54.849999999999994\"></rect><rect height=\"11.450000000000003\" style=\"fill:rgb(0%,50.2%,0%);fill-opacity:1.0;opacity:0.5;stroke:none\" width=\"13.759999999999991\" x=\"217.98000000000002\" y=\"54.849999999999994\"></rect><rect height=\"11.450000000000003\" style=\"fill:rgb(0%,0%,100%);fill-opacity:1.0;opacity:0.5;stroke:none\" width=\"13.759999999999991\" x=\"233.24\" y=\"54.849999999999994\"></rect><rect height=\"11.450000000000003\" style=\"fill:rgb(100%,64.7%,0%);fill-opacity:1.0;opacity:0.5;stroke:none\" width=\"13.759999999999991\" x=\"248.5\" y=\"54.849999999999994\"></rect><rect height=\"11.450000000000003\" style=\"fill:rgb(100%,0%,0%);fill-opacity:1.0;opacity:0.5;stroke:none\" width=\"13.759999999999991\" x=\"263.76\" y=\"54.849999999999994\"></rect><rect height=\"11.450000000000003\" style=\"fill:rgb(0%,0%,100%);fill-opacity:1.0;opacity:0.5;stroke:none\" width=\"13.759999999999991\" x=\"279.02\" y=\"54.849999999999994\"></rect><rect height=\"11.450000000000003\" style=\"fill:rgb(100%,0%,0%);fill-opacity:1.0;opacity:0.5;stroke:none\" width=\"13.759999999999991\" x=\"294.28\" y=\"54.849999999999994\"></rect><rect height=\"11.450000000000003\" style=\"fill:rgb(0%,0%,100%);fill-opacity:1.0;opacity:0.5;stroke:none\" width=\"13.759999999999991\" x=\"309.53999999999996\" y=\"54.849999999999994\"></rect><rect height=\"11.450000000000003\" style=\"fill:rgb(0%,0%,100%);fill-opacity:1.0;opacity:0.5;stroke:none\" width=\"13.759999999999991\" x=\"324.79999999999995\" y=\"54.849999999999994\"></rect><rect height=\"11.450000000000003\" style=\"fill:rgb(100%,64.7%,0%);fill-opacity:1.0;opacity:0.5;stroke:none\" width=\"13.759999999999991\" x=\"340.05999999999995\" y=\"54.849999999999994\"></rect><rect height=\"11.450000000000003\" style=\"fill:rgb(0%,0%,100%);fill-opacity:1.0;opacity:0.5;stroke:none\" width=\"13.759999999999991\" x=\"355.31999999999994\" y=\"54.849999999999994\"></rect><rect height=\"11.450000000000003\" style=\"fill:rgb(0%,50.2%,0%);fill-opacity:1.0;opacity:0.5;stroke:none\" width=\"13.759999999999991\" x=\"370.5799999999999\" y=\"54.849999999999994\"></rect><rect height=\"11.450000000000003\" style=\"fill:rgb(100%,64.7%,0%);fill-opacity:1.0;opacity:0.5;stroke:none\" width=\"13.759999999999991\" x=\"385.8399999999999\" y=\"54.849999999999994\"></rect><g transform=\"translate(69.4,73.525)\"><text style=\"fill:rgb(16.1%,15.3%,14.1%);fill-opacity:1.0;font-family:helvetica;font-size:11.0px;font-weight:normal;stroke:none;vertical-align:baseline;white-space:pre\" x=\"-9.779\" y=\"2.8104999999999993\">r2-0</text></g><rect height=\"11.450000000000003\" style=\"fill:rgb(100%,64.7%,0%);fill-opacity:1.0;opacity:0.5;stroke:none\" width=\"13.760000000000005\" x=\"95.9\" y=\"67.8\"></rect><rect height=\"11.450000000000003\" style=\"fill:rgb(0%,0%,100%);fill-opacity:1.0;opacity:0.5;stroke:none\" width=\"13.760000000000005\" x=\"111.16000000000001\" y=\"67.8\"></rect><rect height=\"11.450000000000003\" style=\"fill:rgb(100%,0%,0%);fill-opacity:1.0;opacity:0.5;stroke:none\" width=\"13.759999999999991\" x=\"126.42000000000002\" y=\"67.8\"></rect><rect height=\"11.450000000000003\" style=\"fill:rgb(0%,0%,100%);fill-opacity:1.0;opacity:0.5;stroke:none\" width=\"13.76000000000002\" x=\"141.68\" y=\"67.8\"></rect><rect height=\"11.450000000000003\" style=\"fill:rgb(100%,64.7%,0%);fill-opacity:1.0;opacity:0.5;stroke:none\" width=\"13.76000000000002\" x=\"156.94000000000003\" y=\"67.8\"></rect><rect height=\"11.450000000000003\" style=\"fill:rgb(0%,50.2%,0%);fill-opacity:1.0;opacity:0.5;stroke:none\" width=\"13.759999999999991\" x=\"172.20000000000005\" y=\"67.8\"></rect><rect height=\"11.450000000000003\" style=\"fill:rgb(0%,50.2%,0%);fill-opacity:1.0;opacity:0.5;stroke:none\" width=\"13.759999999999991\" x=\"187.46000000000004\" y=\"67.8\"></rect><rect height=\"11.450000000000003\" style=\"fill:rgb(0%,0%,100%);fill-opacity:1.0;opacity:0.5;stroke:none\" width=\"13.759999999999991\" x=\"202.72000000000003\" y=\"67.8\"></rect><rect height=\"11.450000000000003\" style=\"fill:rgb(0%,50.2%,0%);fill-opacity:1.0;opacity:0.5;stroke:none\" width=\"13.759999999999991\" x=\"217.98000000000002\" y=\"67.8\"></rect><rect height=\"11.450000000000003\" style=\"fill:rgb(0%,0%,100%);fill-opacity:1.0;opacity:0.5;stroke:none\" width=\"13.759999999999991\" x=\"233.24\" y=\"67.8\"></rect><rect height=\"11.450000000000003\" style=\"fill:rgb(100%,64.7%,0%);fill-opacity:1.0;opacity:0.5;stroke:none\" width=\"13.759999999999991\" x=\"248.5\" y=\"67.8\"></rect><rect height=\"11.450000000000003\" style=\"fill:rgb(100%,0%,0%);fill-opacity:1.0;opacity:0.5;stroke:none\" width=\"13.759999999999991\" x=\"263.76\" y=\"67.8\"></rect><rect height=\"11.450000000000003\" style=\"fill:rgb(0%,0%,100%);fill-opacity:1.0;opacity:0.5;stroke:none\" width=\"13.759999999999991\" x=\"279.02\" y=\"67.8\"></rect><rect height=\"11.450000000000003\" style=\"fill:rgb(100%,0%,0%);fill-opacity:1.0;opacity:0.5;stroke:none\" width=\"13.759999999999991\" x=\"294.28\" y=\"67.8\"></rect><rect height=\"11.450000000000003\" style=\"fill:rgb(0%,0%,100%);fill-opacity:1.0;opacity:0.5;stroke:none\" width=\"13.759999999999991\" x=\"309.53999999999996\" y=\"67.8\"></rect><rect height=\"11.450000000000003\" style=\"fill:rgb(0%,0%,100%);fill-opacity:1.0;opacity:0.5;stroke:none\" width=\"13.759999999999991\" x=\"324.79999999999995\" y=\"67.8\"></rect><rect height=\"11.450000000000003\" style=\"fill:rgb(100%,64.7%,0%);fill-opacity:1.0;opacity:0.5;stroke:none\" width=\"13.759999999999991\" x=\"340.05999999999995\" y=\"67.8\"></rect><rect height=\"11.450000000000003\" style=\"fill:rgb(0%,0%,100%);fill-opacity:1.0;opacity:0.5;stroke:none\" width=\"13.759999999999991\" x=\"355.31999999999994\" y=\"67.8\"></rect><rect height=\"11.450000000000003\" style=\"fill:rgb(0%,50.2%,0%);fill-opacity:1.0;opacity:0.5;stroke:none\" width=\"13.759999999999991\" x=\"370.5799999999999\" y=\"67.8\"></rect><rect height=\"11.450000000000003\" style=\"fill:rgb(0%,0%,100%);fill-opacity:1.0;opacity:0.5;stroke:none\" width=\"13.759999999999991\" x=\"385.8399999999999\" y=\"67.8\"></rect><g transform=\"translate(69.4,86.475)\"><text style=\"fill:rgb(16.1%,15.3%,14.1%);fill-opacity:1.0;font-family:helvetica;font-size:11.0px;font-weight:normal;stroke:none;vertical-align:baseline;white-space:pre\" x=\"-9.779\" y=\"2.8104999999999993\">r2-1</text></g><rect height=\"11.450000000000003\" style=\"fill:rgb(100%,64.7%,0%);fill-opacity:1.0;opacity:0.5;stroke:none\" width=\"13.760000000000005\" x=\"95.9\" y=\"80.75\"></rect><rect height=\"11.450000000000003\" style=\"fill:rgb(0%,0%,100%);fill-opacity:1.0;opacity:0.5;stroke:none\" width=\"13.760000000000005\" x=\"111.16000000000001\" y=\"80.75\"></rect><rect height=\"11.450000000000003\" style=\"fill:rgb(100%,0%,0%);fill-opacity:1.0;opacity:0.5;stroke:none\" width=\"13.759999999999991\" x=\"126.42000000000002\" y=\"80.75\"></rect><rect height=\"11.450000000000003\" style=\"fill:rgb(0%,0%,100%);fill-opacity:1.0;opacity:0.5;stroke:none\" width=\"13.76000000000002\" x=\"141.68\" y=\"80.75\"></rect><rect height=\"11.450000000000003\" style=\"fill:rgb(100%,64.7%,0%);fill-opacity:1.0;opacity:0.5;stroke:none\" width=\"13.76000000000002\" x=\"156.94000000000003\" y=\"80.75\"></rect><rect height=\"11.450000000000003\" style=\"fill:rgb(0%,50.2%,0%);fill-opacity:1.0;opacity:0.5;stroke:none\" width=\"13.759999999999991\" x=\"172.20000000000005\" y=\"80.75\"></rect><rect height=\"11.450000000000003\" style=\"fill:rgb(0%,50.2%,0%);fill-opacity:1.0;opacity:0.5;stroke:none\" width=\"13.759999999999991\" x=\"187.46000000000004\" y=\"80.75\"></rect><rect height=\"11.450000000000003\" style=\"fill:rgb(0%,0%,100%);fill-opacity:1.0;opacity:0.5;stroke:none\" width=\"13.759999999999991\" x=\"202.72000000000003\" y=\"80.75\"></rect><rect height=\"11.450000000000003\" style=\"fill:rgb(0%,50.2%,0%);fill-opacity:1.0;opacity:0.5;stroke:none\" width=\"13.759999999999991\" x=\"217.98000000000002\" y=\"80.75\"></rect><rect height=\"11.450000000000003\" style=\"fill:rgb(0%,0%,100%);fill-opacity:1.0;opacity:0.5;stroke:none\" width=\"13.759999999999991\" x=\"233.24\" y=\"80.75\"></rect><rect height=\"11.450000000000003\" style=\"fill:rgb(100%,64.7%,0%);fill-opacity:1.0;opacity:0.5;stroke:none\" width=\"13.759999999999991\" x=\"248.5\" y=\"80.75\"></rect><rect height=\"11.450000000000003\" style=\"fill:rgb(100%,0%,0%);fill-opacity:1.0;opacity:0.5;stroke:none\" width=\"13.759999999999991\" x=\"263.76\" y=\"80.75\"></rect><rect height=\"11.450000000000003\" style=\"fill:rgb(0%,0%,100%);fill-opacity:1.0;opacity:0.5;stroke:none\" width=\"13.759999999999991\" x=\"279.02\" y=\"80.75\"></rect><rect height=\"11.450000000000003\" style=\"fill:rgb(100%,0%,0%);fill-opacity:1.0;opacity:0.5;stroke:none\" width=\"13.759999999999991\" x=\"294.28\" y=\"80.75\"></rect><rect height=\"11.450000000000003\" style=\"fill:rgb(0%,0%,100%);fill-opacity:1.0;opacity:0.5;stroke:none\" width=\"13.759999999999991\" x=\"309.53999999999996\" y=\"80.75\"></rect><rect height=\"11.450000000000003\" style=\"fill:rgb(0%,0%,100%);fill-opacity:1.0;opacity:0.5;stroke:none\" width=\"13.759999999999991\" x=\"324.79999999999995\" y=\"80.75\"></rect><rect height=\"11.450000000000003\" style=\"fill:rgb(100%,64.7%,0%);fill-opacity:1.0;opacity:0.5;stroke:none\" width=\"13.759999999999991\" x=\"340.05999999999995\" y=\"80.75\"></rect><rect height=\"11.450000000000003\" style=\"fill:rgb(0%,0%,100%);fill-opacity:1.0;opacity:0.5;stroke:none\" width=\"13.759999999999991\" x=\"355.31999999999994\" y=\"80.75\"></rect><rect height=\"11.450000000000003\" style=\"fill:rgb(0%,50.2%,0%);fill-opacity:1.0;opacity:0.5;stroke:none\" width=\"13.759999999999991\" x=\"370.5799999999999\" y=\"80.75\"></rect><rect height=\"11.450000000000003\" style=\"fill:rgb(0%,0%,100%);fill-opacity:1.0;opacity:0.5;stroke:none\" width=\"13.759999999999991\" x=\"385.8399999999999\" y=\"80.75\"></rect><g transform=\"translate(69.4,99.42500000000001)\"><text style=\"fill:rgb(16.1%,15.3%,14.1%);fill-opacity:1.0;font-family:helvetica;font-size:11.0px;font-weight:normal;stroke:none;vertical-align:baseline;white-space:pre\" x=\"-9.779\" y=\"2.8104999999999993\">r3-0</text></g><rect height=\"11.450000000000003\" style=\"fill:rgb(100%,64.7%,0%);fill-opacity:1.0;opacity:0.5;stroke:none\" width=\"13.760000000000005\" x=\"95.9\" y=\"93.7\"></rect><rect height=\"11.450000000000003\" style=\"fill:rgb(0%,0%,100%);fill-opacity:1.0;opacity:0.5;stroke:none\" width=\"13.760000000000005\" x=\"111.16000000000001\" y=\"93.7\"></rect><rect height=\"11.450000000000003\" style=\"fill:rgb(100%,0%,0%);fill-opacity:1.0;opacity:0.5;stroke:none\" width=\"13.759999999999991\" x=\"126.42000000000002\" y=\"93.7\"></rect><rect height=\"11.450000000000003\" style=\"fill:rgb(0%,0%,100%);fill-opacity:1.0;opacity:0.5;stroke:none\" width=\"13.76000000000002\" x=\"141.68\" y=\"93.7\"></rect><rect height=\"11.450000000000003\" style=\"fill:rgb(100%,64.7%,0%);fill-opacity:1.0;opacity:0.5;stroke:none\" width=\"13.76000000000002\" x=\"156.94000000000003\" y=\"93.7\"></rect><rect height=\"11.450000000000003\" style=\"fill:rgb(0%,50.2%,0%);fill-opacity:1.0;opacity:0.5;stroke:none\" width=\"13.759999999999991\" x=\"172.20000000000005\" y=\"93.7\"></rect><rect height=\"11.450000000000003\" style=\"fill:rgb(0%,50.2%,0%);fill-opacity:1.0;opacity:0.5;stroke:none\" width=\"13.759999999999991\" x=\"187.46000000000004\" y=\"93.7\"></rect><rect height=\"11.450000000000003\" style=\"fill:rgb(0%,0%,100%);fill-opacity:1.0;opacity:0.5;stroke:none\" width=\"13.759999999999991\" x=\"202.72000000000003\" y=\"93.7\"></rect><rect height=\"11.450000000000003\" style=\"fill:rgb(0%,50.2%,0%);fill-opacity:1.0;opacity:0.5;stroke:none\" width=\"13.759999999999991\" x=\"217.98000000000002\" y=\"93.7\"></rect><rect height=\"11.450000000000003\" style=\"fill:rgb(0%,0%,100%);fill-opacity:1.0;opacity:0.5;stroke:none\" width=\"13.759999999999991\" x=\"233.24\" y=\"93.7\"></rect><rect height=\"11.450000000000003\" style=\"fill:rgb(100%,64.7%,0%);fill-opacity:1.0;opacity:0.5;stroke:none\" width=\"13.759999999999991\" x=\"248.5\" y=\"93.7\"></rect><rect height=\"11.450000000000003\" style=\"fill:rgb(100%,0%,0%);fill-opacity:1.0;opacity:0.5;stroke:none\" width=\"13.759999999999991\" x=\"263.76\" y=\"93.7\"></rect><rect height=\"11.450000000000003\" style=\"fill:rgb(0%,50.2%,0%);fill-opacity:1.0;opacity:0.5;stroke:none\" width=\"13.759999999999991\" x=\"279.02\" y=\"93.7\"></rect><rect height=\"11.450000000000003\" style=\"fill:rgb(100%,0%,0%);fill-opacity:1.0;opacity:0.5;stroke:none\" width=\"13.759999999999991\" x=\"294.28\" y=\"93.7\"></rect><rect height=\"11.450000000000003\" style=\"fill:rgb(0%,0%,100%);fill-opacity:1.0;opacity:0.5;stroke:none\" width=\"13.759999999999991\" x=\"309.53999999999996\" y=\"93.7\"></rect><rect height=\"11.450000000000003\" style=\"fill:rgb(0%,0%,100%);fill-opacity:1.0;opacity:0.5;stroke:none\" width=\"13.759999999999991\" x=\"324.79999999999995\" y=\"93.7\"></rect><rect height=\"11.450000000000003\" style=\"fill:rgb(100%,64.7%,0%);fill-opacity:1.0;opacity:0.5;stroke:none\" width=\"13.759999999999991\" x=\"340.05999999999995\" y=\"93.7\"></rect><rect height=\"11.450000000000003\" style=\"fill:rgb(0%,0%,100%);fill-opacity:1.0;opacity:0.5;stroke:none\" width=\"13.759999999999991\" x=\"355.31999999999994\" y=\"93.7\"></rect><rect height=\"11.450000000000003\" style=\"fill:rgb(0%,50.2%,0%);fill-opacity:1.0;opacity:0.5;stroke:none\" width=\"13.759999999999991\" x=\"370.5799999999999\" y=\"93.7\"></rect><rect height=\"11.450000000000003\" style=\"fill:rgb(100%,64.7%,0%);fill-opacity:1.0;opacity:0.5;stroke:none\" width=\"13.759999999999991\" x=\"385.8399999999999\" y=\"93.7\"></rect><g transform=\"translate(69.4,112.375)\"><text style=\"fill:rgb(16.1%,15.3%,14.1%);fill-opacity:1.0;font-family:helvetica;font-size:11.0px;font-weight:normal;stroke:none;vertical-align:baseline;white-space:pre\" x=\"-9.779\" y=\"2.8104999999999993\">r3-1</text></g><rect height=\"11.450000000000003\" style=\"fill:rgb(100%,64.7%,0%);fill-opacity:1.0;opacity:0.5;stroke:none\" width=\"13.760000000000005\" x=\"95.9\" y=\"106.65\"></rect><rect height=\"11.450000000000003\" style=\"fill:rgb(0%,0%,100%);fill-opacity:1.0;opacity:0.5;stroke:none\" width=\"13.760000000000005\" x=\"111.16000000000001\" y=\"106.65\"></rect><rect height=\"11.450000000000003\" style=\"fill:rgb(100%,0%,0%);fill-opacity:1.0;opacity:0.5;stroke:none\" width=\"13.759999999999991\" x=\"126.42000000000002\" y=\"106.65\"></rect><rect height=\"11.450000000000003\" style=\"fill:rgb(0%,0%,100%);fill-opacity:1.0;opacity:0.5;stroke:none\" width=\"13.76000000000002\" x=\"141.68\" y=\"106.65\"></rect><rect height=\"11.450000000000003\" style=\"fill:rgb(100%,64.7%,0%);fill-opacity:1.0;opacity:0.5;stroke:none\" width=\"13.76000000000002\" x=\"156.94000000000003\" y=\"106.65\"></rect><rect height=\"11.450000000000003\" style=\"fill:rgb(0%,50.2%,0%);fill-opacity:1.0;opacity:0.5;stroke:none\" width=\"13.759999999999991\" x=\"172.20000000000005\" y=\"106.65\"></rect><rect height=\"11.450000000000003\" style=\"fill:rgb(0%,50.2%,0%);fill-opacity:1.0;opacity:0.5;stroke:none\" width=\"13.759999999999991\" x=\"187.46000000000004\" y=\"106.65\"></rect><rect height=\"11.450000000000003\" style=\"fill:rgb(0%,0%,100%);fill-opacity:1.0;opacity:0.5;stroke:none\" width=\"13.759999999999991\" x=\"202.72000000000003\" y=\"106.65\"></rect><rect height=\"11.450000000000003\" style=\"fill:rgb(0%,50.2%,0%);fill-opacity:1.0;opacity:0.5;stroke:none\" width=\"13.759999999999991\" x=\"217.98000000000002\" y=\"106.65\"></rect><rect height=\"11.450000000000003\" style=\"fill:rgb(0%,0%,100%);fill-opacity:1.0;opacity:0.5;stroke:none\" width=\"13.759999999999991\" x=\"233.24\" y=\"106.65\"></rect><rect height=\"11.450000000000003\" style=\"fill:rgb(100%,64.7%,0%);fill-opacity:1.0;opacity:0.5;stroke:none\" width=\"13.759999999999991\" x=\"248.5\" y=\"106.65\"></rect><rect height=\"11.450000000000003\" style=\"fill:rgb(100%,0%,0%);fill-opacity:1.0;opacity:0.5;stroke:none\" width=\"13.759999999999991\" x=\"263.76\" y=\"106.65\"></rect><rect height=\"11.450000000000003\" style=\"fill:rgb(0%,50.2%,0%);fill-opacity:1.0;opacity:0.5;stroke:none\" width=\"13.759999999999991\" x=\"279.02\" y=\"106.65\"></rect><rect height=\"11.450000000000003\" style=\"fill:rgb(100%,0%,0%);fill-opacity:1.0;opacity:0.5;stroke:none\" width=\"13.759999999999991\" x=\"294.28\" y=\"106.65\"></rect><rect height=\"11.450000000000003\" style=\"fill:rgb(0%,0%,100%);fill-opacity:1.0;opacity:0.5;stroke:none\" width=\"13.759999999999991\" x=\"309.53999999999996\" y=\"106.65\"></rect><rect height=\"11.450000000000003\" style=\"fill:rgb(0%,0%,100%);fill-opacity:1.0;opacity:0.5;stroke:none\" width=\"13.759999999999991\" x=\"324.79999999999995\" y=\"106.65\"></rect><rect height=\"11.450000000000003\" style=\"fill:rgb(100%,64.7%,0%);fill-opacity:1.0;opacity:0.5;stroke:none\" width=\"13.759999999999991\" x=\"340.05999999999995\" y=\"106.65\"></rect><rect height=\"11.450000000000003\" style=\"fill:rgb(0%,0%,100%);fill-opacity:1.0;opacity:0.5;stroke:none\" width=\"13.759999999999991\" x=\"355.31999999999994\" y=\"106.65\"></rect><rect height=\"11.450000000000003\" style=\"fill:rgb(0%,50.2%,0%);fill-opacity:1.0;opacity:0.5;stroke:none\" width=\"13.759999999999991\" x=\"370.5799999999999\" y=\"106.65\"></rect><rect height=\"11.450000000000003\" style=\"fill:rgb(100%,64.7%,0%);fill-opacity:1.0;opacity:0.5;stroke:none\" width=\"13.759999999999991\" x=\"385.8399999999999\" y=\"106.65\"></rect><g transform=\"translate(69.4,125.32500000000002)\"><text style=\"fill:rgb(16.1%,15.3%,14.1%);fill-opacity:1.0;font-family:helvetica;font-size:11.0px;font-weight:normal;stroke:none;vertical-align:baseline;white-space:pre\" x=\"-9.779\" y=\"2.8104999999999993\">r4-0</text></g><rect height=\"11.450000000000003\" style=\"fill:rgb(100%,64.7%,0%);fill-opacity:1.0;opacity:0.5;stroke:none\" width=\"13.760000000000005\" x=\"95.9\" y=\"119.60000000000001\"></rect><rect height=\"11.450000000000003\" style=\"fill:rgb(0%,0%,100%);fill-opacity:1.0;opacity:0.5;stroke:none\" width=\"13.760000000000005\" x=\"111.16000000000001\" y=\"119.60000000000001\"></rect><rect height=\"11.450000000000003\" style=\"fill:rgb(100%,0%,0%);fill-opacity:1.0;opacity:0.5;stroke:none\" width=\"13.759999999999991\" x=\"126.42000000000002\" y=\"119.60000000000001\"></rect><rect height=\"11.450000000000003\" style=\"fill:rgb(0%,0%,100%);fill-opacity:1.0;opacity:0.5;stroke:none\" width=\"13.76000000000002\" x=\"141.68\" y=\"119.60000000000001\"></rect><rect height=\"11.450000000000003\" style=\"fill:rgb(100%,64.7%,0%);fill-opacity:1.0;opacity:0.5;stroke:none\" width=\"13.76000000000002\" x=\"156.94000000000003\" y=\"119.60000000000001\"></rect><rect height=\"11.450000000000003\" style=\"fill:rgb(0%,50.2%,0%);fill-opacity:1.0;opacity:0.5;stroke:none\" width=\"13.759999999999991\" x=\"172.20000000000005\" y=\"119.60000000000001\"></rect><rect height=\"11.450000000000003\" style=\"fill:rgb(0%,50.2%,0%);fill-opacity:1.0;opacity:0.5;stroke:none\" width=\"13.759999999999991\" x=\"187.46000000000004\" y=\"119.60000000000001\"></rect><rect height=\"11.450000000000003\" style=\"fill:rgb(0%,0%,100%);fill-opacity:1.0;opacity:0.5;stroke:none\" width=\"13.759999999999991\" x=\"202.72000000000003\" y=\"119.60000000000001\"></rect><rect height=\"11.450000000000003\" style=\"fill:rgb(0%,50.2%,0%);fill-opacity:1.0;opacity:0.5;stroke:none\" width=\"13.759999999999991\" x=\"217.98000000000002\" y=\"119.60000000000001\"></rect><rect height=\"11.450000000000003\" style=\"fill:rgb(0%,0%,100%);fill-opacity:1.0;opacity:0.5;stroke:none\" width=\"13.759999999999991\" x=\"233.24\" y=\"119.60000000000001\"></rect><rect height=\"11.450000000000003\" style=\"fill:rgb(100%,64.7%,0%);fill-opacity:1.0;opacity:0.5;stroke:none\" width=\"13.759999999999991\" x=\"248.5\" y=\"119.60000000000001\"></rect><rect height=\"11.450000000000003\" style=\"fill:rgb(100%,0%,0%);fill-opacity:1.0;opacity:0.5;stroke:none\" width=\"13.759999999999991\" x=\"263.76\" y=\"119.60000000000001\"></rect><rect height=\"11.450000000000003\" style=\"fill:rgb(0%,0%,100%);fill-opacity:1.0;opacity:0.5;stroke:none\" width=\"13.759999999999991\" x=\"279.02\" y=\"119.60000000000001\"></rect><rect height=\"11.450000000000003\" style=\"fill:rgb(100%,0%,0%);fill-opacity:1.0;opacity:0.5;stroke:none\" width=\"13.759999999999991\" x=\"294.28\" y=\"119.60000000000001\"></rect><rect height=\"11.450000000000003\" style=\"fill:rgb(0%,0%,100%);fill-opacity:1.0;opacity:0.5;stroke:none\" width=\"13.759999999999991\" x=\"309.53999999999996\" y=\"119.60000000000001\"></rect><rect height=\"11.450000000000003\" style=\"fill:rgb(0%,0%,100%);fill-opacity:1.0;opacity:0.5;stroke:none\" width=\"13.759999999999991\" x=\"324.79999999999995\" y=\"119.60000000000001\"></rect><rect height=\"11.450000000000003\" style=\"fill:rgb(100%,64.7%,0%);fill-opacity:1.0;opacity:0.5;stroke:none\" width=\"13.759999999999991\" x=\"340.05999999999995\" y=\"119.60000000000001\"></rect><rect height=\"11.450000000000003\" style=\"fill:rgb(0%,0%,100%);fill-opacity:1.0;opacity:0.5;stroke:none\" width=\"13.759999999999991\" x=\"355.31999999999994\" y=\"119.60000000000001\"></rect><rect height=\"11.450000000000003\" style=\"fill:rgb(0%,50.2%,0%);fill-opacity:1.0;opacity:0.5;stroke:none\" width=\"13.759999999999991\" x=\"370.5799999999999\" y=\"119.60000000000001\"></rect><rect height=\"11.450000000000003\" style=\"fill:rgb(100%,64.7%,0%);fill-opacity:1.0;opacity:0.5;stroke:none\" width=\"13.759999999999991\" x=\"385.8399999999999\" y=\"119.60000000000001\"></rect><g transform=\"translate(69.4,138.275)\"><text style=\"fill:rgb(16.1%,15.3%,14.1%);fill-opacity:1.0;font-family:helvetica;font-size:11.0px;font-weight:normal;stroke:none;vertical-align:baseline;white-space:pre\" x=\"-9.779\" y=\"2.8104999999999993\">r4-1</text></g><rect height=\"11.449999999999989\" style=\"fill:rgb(100%,64.7%,0%);fill-opacity:1.0;opacity:0.5;stroke:none\" width=\"13.760000000000005\" x=\"95.9\" y=\"132.55\"></rect><rect height=\"11.449999999999989\" style=\"fill:rgb(0%,0%,100%);fill-opacity:1.0;opacity:0.5;stroke:none\" width=\"13.760000000000005\" x=\"111.16000000000001\" y=\"132.55\"></rect><rect height=\"11.449999999999989\" style=\"fill:rgb(100%,0%,0%);fill-opacity:1.0;opacity:0.5;stroke:none\" width=\"13.759999999999991\" x=\"126.42000000000002\" y=\"132.55\"></rect><rect height=\"11.449999999999989\" style=\"fill:rgb(0%,0%,100%);fill-opacity:1.0;opacity:0.5;stroke:none\" width=\"13.76000000000002\" x=\"141.68\" y=\"132.55\"></rect><rect height=\"11.449999999999989\" style=\"fill:rgb(100%,64.7%,0%);fill-opacity:1.0;opacity:0.5;stroke:none\" width=\"13.76000000000002\" x=\"156.94000000000003\" y=\"132.55\"></rect><rect height=\"11.449999999999989\" style=\"fill:rgb(0%,50.2%,0%);fill-opacity:1.0;opacity:0.5;stroke:none\" width=\"13.759999999999991\" x=\"172.20000000000005\" y=\"132.55\"></rect><rect height=\"11.449999999999989\" style=\"fill:rgb(0%,50.2%,0%);fill-opacity:1.0;opacity:0.5;stroke:none\" width=\"13.759999999999991\" x=\"187.46000000000004\" y=\"132.55\"></rect><rect height=\"11.449999999999989\" style=\"fill:rgb(0%,0%,100%);fill-opacity:1.0;opacity:0.5;stroke:none\" width=\"13.759999999999991\" x=\"202.72000000000003\" y=\"132.55\"></rect><rect height=\"11.449999999999989\" style=\"fill:rgb(0%,50.2%,0%);fill-opacity:1.0;opacity:0.5;stroke:none\" width=\"13.759999999999991\" x=\"217.98000000000002\" y=\"132.55\"></rect><rect height=\"11.449999999999989\" style=\"fill:rgb(0%,0%,100%);fill-opacity:1.0;opacity:0.5;stroke:none\" width=\"13.759999999999991\" x=\"233.24\" y=\"132.55\"></rect><rect height=\"11.449999999999989\" style=\"fill:rgb(100%,64.7%,0%);fill-opacity:1.0;opacity:0.5;stroke:none\" width=\"13.759999999999991\" x=\"248.5\" y=\"132.55\"></rect><rect height=\"11.449999999999989\" style=\"fill:rgb(100%,0%,0%);fill-opacity:1.0;opacity:0.5;stroke:none\" width=\"13.759999999999991\" x=\"263.76\" y=\"132.55\"></rect><rect height=\"11.449999999999989\" style=\"fill:rgb(0%,0%,100%);fill-opacity:1.0;opacity:0.5;stroke:none\" width=\"13.759999999999991\" x=\"279.02\" y=\"132.55\"></rect><rect height=\"11.449999999999989\" style=\"fill:rgb(100%,0%,0%);fill-opacity:1.0;opacity:0.5;stroke:none\" width=\"13.759999999999991\" x=\"294.28\" y=\"132.55\"></rect><rect height=\"11.449999999999989\" style=\"fill:rgb(0%,0%,100%);fill-opacity:1.0;opacity:0.5;stroke:none\" width=\"13.759999999999991\" x=\"309.53999999999996\" y=\"132.55\"></rect><rect height=\"11.449999999999989\" style=\"fill:rgb(0%,0%,100%);fill-opacity:1.0;opacity:0.5;stroke:none\" width=\"13.759999999999991\" x=\"324.79999999999995\" y=\"132.55\"></rect><rect height=\"11.449999999999989\" style=\"fill:rgb(100%,64.7%,0%);fill-opacity:1.0;opacity:0.5;stroke:none\" width=\"13.759999999999991\" x=\"340.05999999999995\" y=\"132.55\"></rect><rect height=\"11.449999999999989\" style=\"fill:rgb(0%,0%,100%);fill-opacity:1.0;opacity:0.5;stroke:none\" width=\"13.759999999999991\" x=\"355.31999999999994\" y=\"132.55\"></rect><rect height=\"11.449999999999989\" style=\"fill:rgb(0%,50.2%,0%);fill-opacity:1.0;opacity:0.5;stroke:none\" width=\"13.759999999999991\" x=\"370.5799999999999\" y=\"132.55\"></rect><rect height=\"11.449999999999989\" style=\"fill:rgb(100%,64.7%,0%);fill-opacity:1.0;opacity:0.5;stroke:none\" width=\"13.759999999999991\" x=\"385.8399999999999\" y=\"132.55\"></rect></g></svg><div class=\"toyplot-behavior\"><script>(function()\n",
       "{\n",
       "var modules={};\n",
       "modules[\"toyplot/tables\"] = (function()\n",
       "    {\n",
       "        var tables = [];\n",
       "\n",
       "        var module = {};\n",
       "\n",
       "        module.set = function(owner, key, names, columns)\n",
       "        {\n",
       "            tables.push({owner: owner, key: key, names: names, columns: columns});\n",
       "        }\n",
       "\n",
       "        module.get = function(owner, key)\n",
       "        {\n",
       "            for(var i = 0; i != tables.length; ++i)\n",
       "            {\n",
       "                var table = tables[i];\n",
       "                if(table.owner != owner)\n",
       "                    continue;\n",
       "                if(table.key != key)\n",
       "                    continue;\n",
       "                return {names: table.names, columns: table.columns};\n",
       "            }\n",
       "        }\n",
       "\n",
       "        module.get_csv = function(owner, key)\n",
       "        {\n",
       "            var table = module.get(owner, key);\n",
       "            if(table != undefined)\n",
       "            {\n",
       "                var csv = \"\";\n",
       "                csv += table.names.join(\",\") + \"\\n\";\n",
       "                for(var i = 0; i != table.columns[0].length; ++i)\n",
       "                {\n",
       "                  for(var j = 0; j != table.columns.length; ++j)\n",
       "                  {\n",
       "                    if(j)\n",
       "                      csv += \",\";\n",
       "                    csv += table.columns[j][i];\n",
       "                  }\n",
       "                  csv += \"\\n\";\n",
       "                }\n",
       "                return csv;\n",
       "            }\n",
       "        }\n",
       "\n",
       "        return module;\n",
       "    })();\n",
       "modules[\"toyplot/root/id\"] = \"t81d817d41bec401b8a53a702136b92df\";\n",
       "modules[\"toyplot/root\"] = (function(root_id)\n",
       "    {\n",
       "        return document.querySelector(\"#\" + root_id);\n",
       "    })(modules[\"toyplot/root/id\"]);\n",
       "modules[\"toyplot/canvas/id\"] = \"t19ab7bf447c949e19f2b6ce96dbe07b4\";\n",
       "modules[\"toyplot/canvas\"] = (function(canvas_id)\n",
       "    {\n",
       "        return document.querySelector(\"#\" + canvas_id);\n",
       "    })(modules[\"toyplot/canvas/id\"]);\n",
       "modules[\"toyplot/menus/context\"] = (function(root, canvas)\n",
       "    {\n",
       "        var wrapper = document.createElement(\"div\");\n",
       "        wrapper.innerHTML = \"<ul class='toyplot-context-menu' style='background:#eee; border:1px solid #b8b8b8; border-radius:5px; box-shadow: 0px 0px 8px rgba(0%,0%,0%,0.25); margin:0; padding:3px 0; position:fixed; visibility:hidden;'></ul>\"\n",
       "        var menu = wrapper.firstChild;\n",
       "\n",
       "        root.appendChild(menu);\n",
       "\n",
       "        var items = [];\n",
       "\n",
       "        var ignore_mouseup = null;\n",
       "        function open_menu(e)\n",
       "        {\n",
       "            var show_menu = false;\n",
       "            for(var index=0; index != items.length; ++index)\n",
       "            {\n",
       "                var item = items[index];\n",
       "                if(item.show(e))\n",
       "                {\n",
       "                    item.item.style.display = \"block\";\n",
       "                    show_menu = true;\n",
       "                }\n",
       "                else\n",
       "                {\n",
       "                    item.item.style.display = \"none\";\n",
       "                }\n",
       "            }\n",
       "\n",
       "            if(show_menu)\n",
       "            {\n",
       "                ignore_mouseup = true;\n",
       "                menu.style.left = (e.clientX + 1) + \"px\";\n",
       "                menu.style.top = (e.clientY - 5) + \"px\";\n",
       "                menu.style.visibility = \"visible\";\n",
       "                e.stopPropagation();\n",
       "                e.preventDefault();\n",
       "            }\n",
       "        }\n",
       "\n",
       "        function close_menu()\n",
       "        {\n",
       "            menu.style.visibility = \"hidden\";\n",
       "        }\n",
       "\n",
       "        function contextmenu(e)\n",
       "        {\n",
       "            open_menu(e);\n",
       "        }\n",
       "\n",
       "        function mousemove(e)\n",
       "        {\n",
       "            ignore_mouseup = false;\n",
       "        }\n",
       "\n",
       "        function mouseup(e)\n",
       "        {\n",
       "            if(ignore_mouseup)\n",
       "            {\n",
       "                ignore_mouseup = false;\n",
       "                return;\n",
       "            }\n",
       "            close_menu();\n",
       "        }\n",
       "\n",
       "        function keydown(e)\n",
       "        {\n",
       "            if(e.key == \"Escape\" || e.key == \"Esc\" || e.keyCode == 27)\n",
       "            {\n",
       "                close_menu();\n",
       "            }\n",
       "        }\n",
       "\n",
       "        canvas.addEventListener(\"contextmenu\", contextmenu);\n",
       "        canvas.addEventListener(\"mousemove\", mousemove);\n",
       "        document.addEventListener(\"mouseup\", mouseup);\n",
       "        document.addEventListener(\"keydown\", keydown);\n",
       "\n",
       "        var module = {};\n",
       "        module.add_item = function(label, show, activate)\n",
       "        {\n",
       "            var wrapper = document.createElement(\"div\");\n",
       "            wrapper.innerHTML = \"<li class='toyplot-context-menu-item' style='background:#eee; color:#333; padding:2px 20px; list-style:none; margin:0; text-align:left;'>\" + label + \"</li>\"\n",
       "            var item = wrapper.firstChild;\n",
       "\n",
       "            items.push({item: item, show: show});\n",
       "\n",
       "            function mouseover()\n",
       "            {\n",
       "                this.style.background = \"steelblue\";\n",
       "                this.style.color = \"white\";\n",
       "            }\n",
       "\n",
       "            function mouseout()\n",
       "            {\n",
       "                this.style.background = \"#eee\";\n",
       "                this.style.color = \"#333\";\n",
       "            }\n",
       "\n",
       "            function choose_item(e)\n",
       "            {\n",
       "                close_menu();\n",
       "                activate();\n",
       "\n",
       "                e.stopPropagation();\n",
       "                e.preventDefault();\n",
       "            }\n",
       "\n",
       "            item.addEventListener(\"mouseover\", mouseover);\n",
       "            item.addEventListener(\"mouseout\", mouseout);\n",
       "            item.addEventListener(\"mouseup\", choose_item);\n",
       "            item.addEventListener(\"contextmenu\", choose_item);\n",
       "\n",
       "            menu.appendChild(item);\n",
       "        };\n",
       "        return module;\n",
       "    })(modules[\"toyplot/root\"],modules[\"toyplot/canvas\"]);\n",
       "modules[\"toyplot/io\"] = (function()\n",
       "    {\n",
       "        var module = {};\n",
       "        module.save_file = function(mime_type, charset, data, filename)\n",
       "        {\n",
       "            var uri = \"data:\" + mime_type + \";charset=\" + charset + \",\" + data;\n",
       "            uri = encodeURI(uri);\n",
       "\n",
       "            var link = document.createElement(\"a\");\n",
       "            if(typeof link.download != \"undefined\")\n",
       "            {\n",
       "              link.href = uri;\n",
       "              link.style = \"visibility:hidden\";\n",
       "              link.download = filename;\n",
       "\n",
       "              document.body.appendChild(link);\n",
       "              link.click();\n",
       "              document.body.removeChild(link);\n",
       "            }\n",
       "            else\n",
       "            {\n",
       "              window.open(uri);\n",
       "            }\n",
       "        };\n",
       "        return module;\n",
       "    })();\n",
       "(function(tables, context_menu, io, owner_id, key, label, names, columns, filename)\n",
       "        {\n",
       "            tables.set(owner_id, key, names, columns);\n",
       "\n",
       "            var owner = document.querySelector(\"#\" + owner_id);\n",
       "            function show_item(e)\n",
       "            {\n",
       "                return owner.contains(e.target);\n",
       "            }\n",
       "\n",
       "            function choose_item()\n",
       "            {\n",
       "                io.save_file(\"text/csv\", \"utf-8\", tables.get_csv(owner_id, key), filename + \".csv\");\n",
       "            }\n",
       "\n",
       "            context_menu.add_item(\"Save \" + label + \" as CSV\", show_item, choose_item);\n",
       "        })(modules[\"toyplot/tables\"],modules[\"toyplot/menus/context\"],modules[\"toyplot/io\"],\"t7185a17ea7724305873863f60c16a09f\",\"data\",\"table data\",[\"r0-0\", null, null, null, null, null, null, null, null, null, null, null, null, null, null, null, null, null, null, null, null],[[\"r0-1\", \"r1-0\", \"r1-1\", \"r2-0\", \"r2-1\", \"r3-0\", \"r3-1\", \"r4-0\", \"r4-1\"], [null, null, null, null, null, null, null, null, null], [null, null, null, null, null, null, null, null, null], [null, null, null, null, null, null, null, null, null], [null, null, null, null, null, null, null, null, null], [null, null, null, null, null, null, null, null, null], [null, null, null, null, null, null, null, null, null], [null, null, null, null, null, null, null, null, null], [null, null, null, null, null, null, null, null, null], [null, null, null, null, null, null, null, null, null], [null, null, null, null, null, null, null, null, null], [null, null, null, null, null, null, null, null, null], [null, null, null, null, null, null, null, null, null], [null, null, null, null, null, null, null, null, null], [null, null, null, null, null, null, null, null, null], [null, null, null, null, null, null, null, null, null], [null, null, null, null, null, null, null, null, null], [null, null, null, null, null, null, null, null, null], [null, null, null, null, null, null, null, null, null], [null, null, null, null, null, null, null, null, null], [null, null, null, null, null, null, null, null, null]],\"toyplot\");\n",
       "})();</script></div></div>"
      ]
     },
     "metadata": {},
     "output_type": "display_data"
    }
   ],
   "source": [
    "mod.draw_seqview(0);"
   ]
  },
  {
   "cell_type": "code",
   "execution_count": 9,
   "metadata": {
    "scrolled": true
   },
   "outputs": [
    {
     "name": "stdout",
     "output_type": "stream",
     "text": [
      "state_frequencies:\n",
      "   A    C    G    T\n",
      " 0.3  0.2  0.2  0.3\n",
      "\n",
      "kappa: 0.5\n",
      "ts/tv: 0.24\n",
      "\n",
      "instantaneous transition rate matrix:\n",
      "        A       C       G       T\n",
      "A -0.9677  0.3226  0.1613  0.4839\n",
      "C  0.4839 -1.0484  0.3226  0.2419\n",
      "G  0.2419  0.3226 -1.0484  0.4839\n",
      "T  0.4839  0.1613  0.3226 -0.9677\n",
      "\n",
      "gamma rate var. (4 discrete categories) alpha: 0.5\n"
     ]
    }
   ],
   "source": [
    "mod.get_substitution_model_summary()"
   ]
  },
  {
   "cell_type": "markdown",
   "metadata": {},
   "source": [
    "### Comparison to SEQGEN (TODO)"
   ]
  },
  {
   "cell_type": "code",
   "execution_count": null,
   "metadata": {},
   "outputs": [],
   "source": []
  }
 ],
 "metadata": {
  "kernelspec": {
   "display_name": "Python 3",
   "language": "python",
   "name": "python3"
  },
  "language_info": {
   "codemirror_mode": {
    "name": "ipython",
    "version": 3
   },
   "file_extension": ".py",
   "mimetype": "text/x-python",
   "name": "python",
   "nbconvert_exporter": "python",
   "pygments_lexer": "ipython3",
   "version": "3.7.9"
  }
 },
 "nbformat": 4,
 "nbformat_minor": 4
}
