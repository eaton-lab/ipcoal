{
 "cells": [
  {
   "cell_type": "code",
   "execution_count": 1,
   "id": "crucial-clinic",
   "metadata": {},
   "outputs": [],
   "source": [
    "import ipcoal\n",
    "import toytree\n",
    "import h5py"
   ]
  },
  {
   "cell_type": "code",
   "execution_count": 2,
   "id": "passive-georgia",
   "metadata": {},
   "outputs": [],
   "source": [
    "tree = toytree.rtree.unittree(10, 100000)"
   ]
  },
  {
   "cell_type": "code",
   "execution_count": 3,
   "id": "disturbed-asthma",
   "metadata": {},
   "outputs": [],
   "source": [
    "mod = ipcoal.Model(tree, Ne=50000, nsamples=2)"
   ]
  },
  {
   "cell_type": "code",
   "execution_count": 11,
   "id": "compressed-spyware",
   "metadata": {},
   "outputs": [],
   "source": [
    "mod.sim_loci(10, 100)"
   ]
  },
  {
   "cell_type": "code",
   "execution_count": 12,
   "id": "sunset-machine",
   "metadata": {},
   "outputs": [],
   "source": [
    "mod.apply_missing_mask(0.5)"
   ]
  },
  {
   "cell_type": "code",
   "execution_count": 15,
   "id": "optional-plaza",
   "metadata": {},
   "outputs": [
    {
     "name": "stdout",
     "output_type": "stream",
     "text": [
      "wrote 11 SNPs to /tmp/test.snps.hdf5\n"
     ]
    }
   ],
   "source": [
    "mod.write_snps_to_hdf5(outdir=\"/tmp\", diploid=False)"
   ]
  },
  {
   "cell_type": "code",
   "execution_count": 16,
   "id": "growing-seattle",
   "metadata": {
    "scrolled": true
   },
   "outputs": [
    {
     "name": "stdout",
     "output_type": "stream",
     "text": [
      "[[67 78 78 78 78 78 78 78 78 78 78]\n",
      " [78 67 78 78 78 71 65 65 65 78 78]\n",
      " [67 67 78 78 78 65 78 65 65 65 65]\n",
      " [84 78 78 78 78 65 78 65 78 78 78]\n",
      " [67 67 71 65 84 65 78 65 78 65 65]\n",
      " [78 78 71 71 84 78 65 65 78 65 65]\n",
      " [67 67 67 65 84 65 78 65 78 65 65]\n",
      " [78 67 71 65 65 65 65 78 84 65 65]\n",
      " [67 67 71 65 84 78 78 78 65 78 78]\n",
      " [78 67 78 78 78 65 78 65 65 78 78]\n",
      " [67 78 71 65 84 65 78 78 65 78 78]\n",
      " [67 78 71 65 84 65 65 65 65 65 65]\n",
      " [67 78 71 65 84 78 84 65 65 78 78]\n",
      " [78 78 78 78 78 78 65 78 78 84 65]\n",
      " [78 78 71 65 84 78 65 65 65 65 65]\n",
      " [67 67 71 65 84 78 78 65 65 65 65]\n",
      " [78 67 78 78 78 78 78 78 65 65 84]\n",
      " [67 78 71 65 84 78 78 78 78 65 65]\n",
      " [78 71 78 78 78 78 65 71 78 78 78]\n",
      " [67 67 78 78 78 78 78 78 65 78 78]]\n"
     ]
    }
   ],
   "source": [
    "with h5py.File(\"/tmp/test.snps.hdf5\", 'r') as io5:\n",
    "    print(io5['snps'][:])"
   ]
  },
  {
   "cell_type": "code",
   "execution_count": null,
   "id": "legitimate-progressive",
   "metadata": {},
   "outputs": [],
   "source": []
  },
  {
   "cell_type": "code",
   "execution_count": 10,
   "id": "complimentary-pacific",
   "metadata": {},
   "outputs": [],
   "source": [
    "import numpy as np"
   ]
  },
  {
   "cell_type": "code",
   "execution_count": 48,
   "id": "helpful-interim",
   "metadata": {},
   "outputs": [],
   "source": [
    "self = ipcoal.io.writer.Writer(mod)\n",
    "\n",
    "if self.seqs.ndim == 2:\n",
    "    self.seqs = self.seqs.T.reshape(\n",
    "        self.seqs.shape[1], self.seqs.shape[0], 1)\n",
    "    self.ancestral_seq = self.ancestral_seq.reshape(\n",
    "        self.ancestral_seq.size, 1)\n",
    "\n",
    "# case we want this not to transform the seqs data in place.\n",
    "txf = ipcoal.io.transformer.Transformer(self.seqs, self.names, self.alleles, True)\n",
    "txf.transform_seqs()"
   ]
  },
  {
   "cell_type": "code",
   "execution_count": 50,
   "id": "contrary-blackjack",
   "metadata": {},
   "outputs": [
    {
     "data": {
      "text/plain": [
       "{0: (0, 1),\n",
       " 1: (2, 3),\n",
       " 2: (4, 5),\n",
       " 3: (6, 7),\n",
       " 4: (8, 9),\n",
       " 5: (10, 11),\n",
       " 6: (12, 13),\n",
       " 7: (14, 15),\n",
       " 8: (16, 17),\n",
       " 9: (18, 19)}"
      ]
     },
     "execution_count": 50,
     "metadata": {},
     "output_type": "execute_result"
    }
   ],
   "source": [
    "txf.dindex_map"
   ]
  },
  {
   "cell_type": "code",
   "execution_count": 38,
   "id": "pharmaceutical-section",
   "metadata": {},
   "outputs": [],
   "source": [
    "arr = np.concatenate(self.seqs, axis=1)"
   ]
  },
  {
   "cell_type": "code",
   "execution_count": 43,
   "id": "breathing-impression",
   "metadata": {},
   "outputs": [],
   "source": [
    "arr = np.concatenate(self.seqs, axis=1).view(np.uint8)\n",
    "marr = np.ma.array(data=arr, mask=(arr == 9))\n",
    "common = marr.mean(axis=0).round().astype(int)\n",
    "varsites = np.where(np.any(marr != common, axis=0).data)[0]\n",
    "nsites = varsites.size"
   ]
  },
  {
   "cell_type": "code",
   "execution_count": null,
   "id": "smoking-swaziland",
   "metadata": {},
   "outputs": [],
   "source": [
    "ipcoal.io.transformer.Transformer()"
   ]
  },
  {
   "cell_type": "code",
   "execution_count": 73,
   "id": "elect-petroleum",
   "metadata": {},
   "outputs": [],
   "source": [
    "genos = ipcoal.io.genos.Genos(arr, np.concatenate(self.ancestral_seq), varsites, txf.dindex_map)"
   ]
  },
  {
   "cell_type": "code",
   "execution_count": 70,
   "id": "empirical-disease",
   "metadata": {},
   "outputs": [
    {
     "data": {
      "text/plain": [
       "array([[b'N', b'C', b'K', b'C', b'C', b'T'],\n",
       "       [b'R', b'N', b'T', b'C', b'G', b'N'],\n",
       "       [b'A', b'C', b'T', b'N', b'G', b'N'],\n",
       "       [b'A', b'N', b'T', b'N', b'S', b'G'],\n",
       "       [b'N', b'C', b'T', b'T', b'N', b'G'],\n",
       "       [b'N', b'C', b'N', b'N', b'N', b'G'],\n",
       "       [b'G', b'C', b'T', b'N', b'G', b'G'],\n",
       "       [b'G', b'M', b'T', b'C', b'N', b'G'],\n",
       "       [b'G', b'N', b'N', b'C', b'N', b'G'],\n",
       "       [b'A', b'C', b'T', b'C', b'N', b'G']], dtype='|S1')"
      ]
     },
     "execution_count": 70,
     "metadata": {},
     "output_type": "execute_result"
    }
   ],
   "source": [
    "np.concatenate(txf.seqs, 1)[:, varsites]"
   ]
  },
  {
   "cell_type": "code",
   "execution_count": 76,
   "id": "collectible-vinyl",
   "metadata": {},
   "outputs": [
    {
     "data": {
      "text/plain": [
       "array([[[b'N'],\n",
       "        [b'R'],\n",
       "        [b'A'],\n",
       "        [b'A'],\n",
       "        [b'N'],\n",
       "        [b'N'],\n",
       "        [b'G'],\n",
       "        [b'G'],\n",
       "        [b'G'],\n",
       "        [b'A']],\n",
       "\n",
       "       [[b'N'],\n",
       "        [b'A'],\n",
       "        [b'N'],\n",
       "        [b'A'],\n",
       "        [b'A'],\n",
       "        [b'A'],\n",
       "        [b'N'],\n",
       "        [b'A'],\n",
       "        [b'N'],\n",
       "        [b'A']],\n",
       "\n",
       "       [[b'T'],\n",
       "        [b'N'],\n",
       "        [b'T'],\n",
       "        [b'T'],\n",
       "        [b'T'],\n",
       "        [b'T'],\n",
       "        [b'N'],\n",
       "        [b'T'],\n",
       "        [b'T'],\n",
       "        [b'N']],\n",
       "\n",
       "       [[b'N'],\n",
       "        [b'C'],\n",
       "        [b'C'],\n",
       "        [b'C'],\n",
       "        [b'N'],\n",
       "        [b'C'],\n",
       "        [b'C'],\n",
       "        [b'C'],\n",
       "        [b'C'],\n",
       "        [b'C']],\n",
       "\n",
       "       [[b'N'],\n",
       "        [b'C'],\n",
       "        [b'C'],\n",
       "        [b'C'],\n",
       "        [b'C'],\n",
       "        [b'C'],\n",
       "        [b'N'],\n",
       "        [b'C'],\n",
       "        [b'C'],\n",
       "        [b'C']],\n",
       "\n",
       "       [[b'C'],\n",
       "        [b'N'],\n",
       "        [b'C'],\n",
       "        [b'N'],\n",
       "        [b'C'],\n",
       "        [b'C'],\n",
       "        [b'C'],\n",
       "        [b'M'],\n",
       "        [b'N'],\n",
       "        [b'C']],\n",
       "\n",
       "       [[b'K'],\n",
       "        [b'T'],\n",
       "        [b'T'],\n",
       "        [b'T'],\n",
       "        [b'T'],\n",
       "        [b'N'],\n",
       "        [b'T'],\n",
       "        [b'T'],\n",
       "        [b'N'],\n",
       "        [b'T']],\n",
       "\n",
       "       [[b'C'],\n",
       "        [b'C'],\n",
       "        [b'N'],\n",
       "        [b'N'],\n",
       "        [b'T'],\n",
       "        [b'N'],\n",
       "        [b'N'],\n",
       "        [b'C'],\n",
       "        [b'C'],\n",
       "        [b'C']],\n",
       "\n",
       "       [[b'C'],\n",
       "        [b'G'],\n",
       "        [b'G'],\n",
       "        [b'S'],\n",
       "        [b'N'],\n",
       "        [b'N'],\n",
       "        [b'G'],\n",
       "        [b'N'],\n",
       "        [b'N'],\n",
       "        [b'N']],\n",
       "\n",
       "       [[b'T'],\n",
       "        [b'N'],\n",
       "        [b'N'],\n",
       "        [b'G'],\n",
       "        [b'G'],\n",
       "        [b'G'],\n",
       "        [b'G'],\n",
       "        [b'G'],\n",
       "        [b'G'],\n",
       "        [b'G']]], dtype='|S1')"
      ]
     },
     "execution_count": 76,
     "metadata": {},
     "output_type": "execute_result"
    }
   ],
   "source": [
    "txf.seqs"
   ]
  },
  {
   "cell_type": "code",
   "execution_count": 74,
   "id": "extra-order",
   "metadata": {},
   "outputs": [
    {
     "data": {
      "text/plain": [
       "(chararray([b'A', b'A', b'G', b'T', b'G', b'T'], dtype='|S5'),\n",
       " array([[[9, 9],\n",
       "         [0, 1],\n",
       "         [1, 1],\n",
       "         [1, 1],\n",
       "         [9, 9],\n",
       "         [9, 9],\n",
       "         [0, 9],\n",
       "         [9, 0],\n",
       "         [0, 9],\n",
       "         [9, 1]],\n",
       " \n",
       "        [[9, 0],\n",
       "         [9, 9],\n",
       "         [9, 0],\n",
       "         [9, 9],\n",
       "         [9, 0],\n",
       "         [9, 0],\n",
       "         [0, 9],\n",
       "         [0, 1],\n",
       "         [9, 9],\n",
       "         [9, 0]],\n",
       " \n",
       "        [[0, 1],\n",
       "         [0, 9],\n",
       "         [9, 0],\n",
       "         [0, 0],\n",
       "         [9, 0],\n",
       "         [9, 9],\n",
       "         [9, 0],\n",
       "         [0, 0],\n",
       "         [9, 9],\n",
       "         [9, 0]],\n",
       " \n",
       "        [[0, 0],\n",
       "         [9, 0],\n",
       "         [9, 9],\n",
       "         [9, 9],\n",
       "         [1, 9],\n",
       "         [9, 9],\n",
       "         [9, 9],\n",
       "         [0, 0],\n",
       "         [0, 0],\n",
       "         [9, 0]],\n",
       " \n",
       "        [[9, 0],\n",
       "         [9, 1],\n",
       "         [1, 1],\n",
       "         [0, 1],\n",
       "         [9, 9],\n",
       "         [9, 9],\n",
       "         [1, 1],\n",
       "         [9, 9],\n",
       "         [9, 9],\n",
       "         [9, 9]],\n",
       " \n",
       "        [[9, 1],\n",
       "         [9, 9],\n",
       "         [9, 9],\n",
       "         [9, 0],\n",
       "         [0, 0],\n",
       "         [0, 0],\n",
       "         [9, 0],\n",
       "         [0, 9],\n",
       "         [0, 0],\n",
       "         [0, 9]]], dtype=uint8))"
      ]
     },
     "execution_count": 74,
     "metadata": {},
     "output_type": "execute_result"
    }
   ],
   "source": [
    "genos.get_alts_and_genos_matrix()"
   ]
  },
  {
   "cell_type": "code",
   "execution_count": null,
   "id": "minimal-graham",
   "metadata": {},
   "outputs": [],
   "source": []
  },
  {
   "cell_type": "code",
   "execution_count": 39,
   "id": "perceived-mailing",
   "metadata": {},
   "outputs": [
    {
     "data": {
      "text/plain": [
       "array([[78, 78, 78, 78, 78, 78, 84, 67, 78, 78],\n",
       "       [71, 78, 78, 67, 78, 78, 84, 78, 78, 78],\n",
       "       [65, 78, 84, 67, 67, 78, 78, 78, 71, 78],\n",
       "       [65, 78, 84, 78, 78, 78, 84, 78, 67, 78],\n",
       "       [78, 65, 84, 78, 78, 78, 78, 84, 78, 71],\n",
       "       [78, 65, 84, 67, 67, 78, 78, 78, 78, 71],\n",
       "       [71, 78, 78, 67, 78, 67, 78, 78, 71, 78],\n",
       "       [78, 65, 84, 67, 67, 67, 84, 67, 78, 71],\n",
       "       [71, 78, 84, 78, 78, 78, 78, 67, 78, 71],\n",
       "       [78, 65, 78, 67, 67, 78, 78, 78, 78, 71]], dtype=uint8)"
      ]
     },
     "execution_count": 39,
     "metadata": {},
     "output_type": "execute_result"
    }
   ],
   "source": [
    "arr.view(np.uint8)"
   ]
  },
  {
   "cell_type": "code",
   "execution_count": 26,
   "id": "intense-intermediate",
   "metadata": {},
   "outputs": [
    {
     "name": "stderr",
     "output_type": "stream",
     "text": [
      "<ipython-input-26-beff3868a7cd>:12: FutureWarning: elementwise comparison failed; returning scalar instead, but in the future will perform elementwise comparison\n",
      "  marr = np.ma.array(data=arr, mask=(arr == 9))\n"
     ]
    },
    {
     "ename": "TypeError",
     "evalue": "cannot perform reduce with flexible type",
     "output_type": "error",
     "traceback": [
      "\u001b[0;31m---------------------------------------------------------------------------\u001b[0m",
      "\u001b[0;31mTypeError\u001b[0m                                 Traceback (most recent call last)",
      "\u001b[0;32m<ipython-input-26-beff3868a7cd>\u001b[0m in \u001b[0;36m<module>\u001b[0;34m\u001b[0m\n\u001b[1;32m     11\u001b[0m \u001b[0marr\u001b[0m \u001b[0;34m=\u001b[0m \u001b[0mnp\u001b[0m\u001b[0;34m.\u001b[0m\u001b[0mconcatenate\u001b[0m\u001b[0;34m(\u001b[0m\u001b[0mself\u001b[0m\u001b[0;34m.\u001b[0m\u001b[0mseqs\u001b[0m\u001b[0;34m,\u001b[0m \u001b[0maxis\u001b[0m\u001b[0;34m=\u001b[0m\u001b[0;36m1\u001b[0m\u001b[0;34m)\u001b[0m\u001b[0;34m\u001b[0m\u001b[0;34m\u001b[0m\u001b[0m\n\u001b[1;32m     12\u001b[0m \u001b[0mmarr\u001b[0m \u001b[0;34m=\u001b[0m \u001b[0mnp\u001b[0m\u001b[0;34m.\u001b[0m\u001b[0mma\u001b[0m\u001b[0;34m.\u001b[0m\u001b[0marray\u001b[0m\u001b[0;34m(\u001b[0m\u001b[0mdata\u001b[0m\u001b[0;34m=\u001b[0m\u001b[0marr\u001b[0m\u001b[0;34m,\u001b[0m \u001b[0mmask\u001b[0m\u001b[0;34m=\u001b[0m\u001b[0;34m(\u001b[0m\u001b[0marr\u001b[0m \u001b[0;34m==\u001b[0m \u001b[0;36m9\u001b[0m\u001b[0;34m)\u001b[0m\u001b[0;34m)\u001b[0m\u001b[0;34m\u001b[0m\u001b[0;34m\u001b[0m\u001b[0m\n\u001b[0;32m---> 13\u001b[0;31m \u001b[0mcommon\u001b[0m \u001b[0;34m=\u001b[0m \u001b[0mmarr\u001b[0m\u001b[0;34m.\u001b[0m\u001b[0mmean\u001b[0m\u001b[0;34m(\u001b[0m\u001b[0maxis\u001b[0m\u001b[0;34m=\u001b[0m\u001b[0;36m0\u001b[0m\u001b[0;34m)\u001b[0m\u001b[0;34m.\u001b[0m\u001b[0mround\u001b[0m\u001b[0;34m(\u001b[0m\u001b[0;34m)\u001b[0m\u001b[0;34m.\u001b[0m\u001b[0mastype\u001b[0m\u001b[0;34m(\u001b[0m\u001b[0mint\u001b[0m\u001b[0;34m)\u001b[0m\u001b[0;34m\u001b[0m\u001b[0;34m\u001b[0m\u001b[0m\n\u001b[0m\u001b[1;32m     14\u001b[0m \u001b[0mvarsites\u001b[0m \u001b[0;34m=\u001b[0m \u001b[0mnp\u001b[0m\u001b[0;34m.\u001b[0m\u001b[0mwhere\u001b[0m\u001b[0;34m(\u001b[0m\u001b[0mnp\u001b[0m\u001b[0;34m.\u001b[0m\u001b[0many\u001b[0m\u001b[0;34m(\u001b[0m\u001b[0mmarr\u001b[0m \u001b[0;34m!=\u001b[0m \u001b[0mcommon\u001b[0m\u001b[0;34m,\u001b[0m \u001b[0maxis\u001b[0m\u001b[0;34m=\u001b[0m\u001b[0;36m0\u001b[0m\u001b[0;34m)\u001b[0m\u001b[0;34m.\u001b[0m\u001b[0mdata\u001b[0m\u001b[0;34m)\u001b[0m\u001b[0;34m[\u001b[0m\u001b[0;36m0\u001b[0m\u001b[0;34m]\u001b[0m\u001b[0;34m\u001b[0m\u001b[0;34m\u001b[0m\u001b[0m\n\u001b[1;32m     15\u001b[0m \u001b[0mnsites\u001b[0m \u001b[0;34m=\u001b[0m \u001b[0mvarsites\u001b[0m\u001b[0;34m.\u001b[0m\u001b[0msize\u001b[0m\u001b[0;34m\u001b[0m\u001b[0;34m\u001b[0m\u001b[0m\n",
      "\u001b[0;32m~/miniconda3/lib/python3.8/site-packages/numpy/ma/core.py\u001b[0m in \u001b[0;36mmean\u001b[0;34m(self, axis, dtype, out, keepdims)\u001b[0m\n\u001b[1;32m   5216\u001b[0m                                                    dtype=dtype, **kwargs)[()]\n\u001b[1;32m   5217\u001b[0m         \u001b[0;32melse\u001b[0m\u001b[0;34m:\u001b[0m\u001b[0;34m\u001b[0m\u001b[0;34m\u001b[0m\u001b[0m\n\u001b[0;32m-> 5218\u001b[0;31m             \u001b[0mdsum\u001b[0m \u001b[0;34m=\u001b[0m \u001b[0mself\u001b[0m\u001b[0;34m.\u001b[0m\u001b[0msum\u001b[0m\u001b[0;34m(\u001b[0m\u001b[0maxis\u001b[0m\u001b[0;34m=\u001b[0m\u001b[0maxis\u001b[0m\u001b[0;34m,\u001b[0m \u001b[0mdtype\u001b[0m\u001b[0;34m=\u001b[0m\u001b[0mdtype\u001b[0m\u001b[0;34m,\u001b[0m \u001b[0;34m**\u001b[0m\u001b[0mkwargs\u001b[0m\u001b[0;34m)\u001b[0m\u001b[0;34m\u001b[0m\u001b[0;34m\u001b[0m\u001b[0m\n\u001b[0m\u001b[1;32m   5219\u001b[0m             \u001b[0mcnt\u001b[0m \u001b[0;34m=\u001b[0m \u001b[0mself\u001b[0m\u001b[0;34m.\u001b[0m\u001b[0mcount\u001b[0m\u001b[0;34m(\u001b[0m\u001b[0maxis\u001b[0m\u001b[0;34m=\u001b[0m\u001b[0maxis\u001b[0m\u001b[0;34m,\u001b[0m \u001b[0;34m**\u001b[0m\u001b[0mkwargs\u001b[0m\u001b[0;34m)\u001b[0m\u001b[0;34m\u001b[0m\u001b[0;34m\u001b[0m\u001b[0m\n\u001b[1;32m   5220\u001b[0m             \u001b[0;32mif\u001b[0m \u001b[0mcnt\u001b[0m\u001b[0;34m.\u001b[0m\u001b[0mshape\u001b[0m \u001b[0;34m==\u001b[0m \u001b[0;34m(\u001b[0m\u001b[0;34m)\u001b[0m \u001b[0;32mand\u001b[0m \u001b[0;34m(\u001b[0m\u001b[0mcnt\u001b[0m \u001b[0;34m==\u001b[0m \u001b[0;36m0\u001b[0m\u001b[0;34m)\u001b[0m\u001b[0;34m:\u001b[0m\u001b[0;34m\u001b[0m\u001b[0;34m\u001b[0m\u001b[0m\n",
      "\u001b[0;32m~/miniconda3/lib/python3.8/site-packages/numpy/ma/core.py\u001b[0m in \u001b[0;36msum\u001b[0;34m(self, axis, dtype, out, keepdims)\u001b[0m\n\u001b[1;32m   5053\u001b[0m         \u001b[0;31m# No explicit output\u001b[0m\u001b[0;34m\u001b[0m\u001b[0;34m\u001b[0m\u001b[0;34m\u001b[0m\u001b[0m\n\u001b[1;32m   5054\u001b[0m         \u001b[0;32mif\u001b[0m \u001b[0mout\u001b[0m \u001b[0;32mis\u001b[0m \u001b[0;32mNone\u001b[0m\u001b[0;34m:\u001b[0m\u001b[0;34m\u001b[0m\u001b[0;34m\u001b[0m\u001b[0m\n\u001b[0;32m-> 5055\u001b[0;31m             \u001b[0mresult\u001b[0m \u001b[0;34m=\u001b[0m \u001b[0mself\u001b[0m\u001b[0;34m.\u001b[0m\u001b[0mfilled\u001b[0m\u001b[0;34m(\u001b[0m\u001b[0;36m0\u001b[0m\u001b[0;34m)\u001b[0m\u001b[0;34m.\u001b[0m\u001b[0msum\u001b[0m\u001b[0;34m(\u001b[0m\u001b[0maxis\u001b[0m\u001b[0;34m,\u001b[0m \u001b[0mdtype\u001b[0m\u001b[0;34m=\u001b[0m\u001b[0mdtype\u001b[0m\u001b[0;34m,\u001b[0m \u001b[0;34m**\u001b[0m\u001b[0mkwargs\u001b[0m\u001b[0;34m)\u001b[0m\u001b[0;34m\u001b[0m\u001b[0;34m\u001b[0m\u001b[0m\n\u001b[0m\u001b[1;32m   5056\u001b[0m             \u001b[0mrndim\u001b[0m \u001b[0;34m=\u001b[0m \u001b[0mgetattr\u001b[0m\u001b[0;34m(\u001b[0m\u001b[0mresult\u001b[0m\u001b[0;34m,\u001b[0m \u001b[0;34m'ndim'\u001b[0m\u001b[0;34m,\u001b[0m \u001b[0;36m0\u001b[0m\u001b[0;34m)\u001b[0m\u001b[0;34m\u001b[0m\u001b[0;34m\u001b[0m\u001b[0m\n\u001b[1;32m   5057\u001b[0m             \u001b[0;32mif\u001b[0m \u001b[0mrndim\u001b[0m\u001b[0;34m:\u001b[0m\u001b[0;34m\u001b[0m\u001b[0;34m\u001b[0m\u001b[0m\n",
      "\u001b[0;32m~/miniconda3/lib/python3.8/site-packages/numpy/core/_methods.py\u001b[0m in \u001b[0;36m_sum\u001b[0;34m(a, axis, dtype, out, keepdims, initial, where)\u001b[0m\n\u001b[1;32m     36\u001b[0m def _sum(a, axis=None, dtype=None, out=None, keepdims=False,\n\u001b[1;32m     37\u001b[0m          initial=_NoValue, where=True):\n\u001b[0;32m---> 38\u001b[0;31m     \u001b[0;32mreturn\u001b[0m \u001b[0mumr_sum\u001b[0m\u001b[0;34m(\u001b[0m\u001b[0ma\u001b[0m\u001b[0;34m,\u001b[0m \u001b[0maxis\u001b[0m\u001b[0;34m,\u001b[0m \u001b[0mdtype\u001b[0m\u001b[0;34m,\u001b[0m \u001b[0mout\u001b[0m\u001b[0;34m,\u001b[0m \u001b[0mkeepdims\u001b[0m\u001b[0;34m,\u001b[0m \u001b[0minitial\u001b[0m\u001b[0;34m,\u001b[0m \u001b[0mwhere\u001b[0m\u001b[0;34m)\u001b[0m\u001b[0;34m\u001b[0m\u001b[0;34m\u001b[0m\u001b[0m\n\u001b[0m\u001b[1;32m     39\u001b[0m \u001b[0;34m\u001b[0m\u001b[0m\n\u001b[1;32m     40\u001b[0m def _prod(a, axis=None, dtype=None, out=None, keepdims=False,\n",
      "\u001b[0;31mTypeError\u001b[0m: cannot perform reduce with flexible type"
     ]
    }
   ],
   "source": [
    "marr = np.ma.array(data=arr, mask=(arr == 9))\n",
    "common = marr.mean(axis=0).round().astype(int)\n",
    "varsites = np.where(np.any(marr != common, axis=0).data)[0]\n",
    "nsites = varsites.size"
   ]
  },
  {
   "cell_type": "code",
   "execution_count": 27,
   "id": "welcome-queensland",
   "metadata": {},
   "outputs": [
    {
     "ename": "NameError",
     "evalue": "name 'nsites' is not defined",
     "output_type": "error",
     "traceback": [
      "\u001b[0;31m---------------------------------------------------------------------------\u001b[0m",
      "\u001b[0;31mNameError\u001b[0m                                 Traceback (most recent call last)",
      "\u001b[0;32m<ipython-input-27-50162246b1ea>\u001b[0m in \u001b[0;36m<module>\u001b[0;34m\u001b[0m\n\u001b[0;32m----> 1\u001b[0;31m \u001b[0mnsites\u001b[0m\u001b[0;34m\u001b[0m\u001b[0;34m\u001b[0m\u001b[0m\n\u001b[0m",
      "\u001b[0;31mNameError\u001b[0m: name 'nsites' is not defined"
     ]
    }
   ],
   "source": [
    "nsites"
   ]
  },
  {
   "cell_type": "code",
   "execution_count": 16,
   "id": "patient-fruit",
   "metadata": {},
   "outputs": [
    {
     "name": "stdout",
     "output_type": "stream",
     "text": [
      "[[65 84 84 ... 67 67 67]\n",
      " [65 84 84 ... 67 67 67]\n",
      " [65 84 84 ... 67 67 67]\n",
      " ...\n",
      " [65 84 84 ... 67 67 67]\n",
      " [65 84 84 ... 67 67 67]\n",
      " [65 84 84 ... 67 67 67]]\n"
     ]
    }
   ],
   "source": [
    "import h5py\n",
    "with h5py.File(\"/tmp/test.seqs.hdf5\", 'r') as io5:\n",
    "    print(io5['phy'][:])"
   ]
  },
  {
   "cell_type": "code",
   "execution_count": 13,
   "id": "manufactured-delight",
   "metadata": {
    "scrolled": true
   },
   "outputs": [
    {
     "name": "stdout",
     "output_type": "stream",
     "text": [
      "#nexus\n",
      "begin data;\n",
      "  dimensions ntax=20 nchar=400;\n",
      "  format datatype=DNA missing=N gap=- interleave=yes;\n",
      "  matrix\n",
      "\n",
      "  r0_0\tGTATACCAAGGGCGGATTTACGCGCTGGCCGACACAATGAGACCAAAATCCGCCATGTCTCAGGGCGGTCTGGGCTTGGCCCTCATTAAAACTTCTGGGG\n",
      "  r0_1\tGTATACCAAGGGCGGATTTACGCGCTGGCCGACACAATGAGACCAAAATCCGCCATGTCTCAGGGCGGTCTGGGCTTGGCCCTCATTAAAACTTCTGGGG\n",
      "  r1_0\tGTATACCAAGGGCGGATTTACGCGCTGGCCGACACAATGAGACCAAAATCCGCCATGTCTCAGGGCGGTCTGGGCTTGGCCCTCATTAAAACTTCTGGGG\n",
      "  r1_1\tGTATACCAAGGGCGGATTTACGCGCTGGCCGACACAATGAGACCAAAATCCGCCATGTCTCAGGGCGGTCTGGGCTTGGCCCTCATTAAAACTTCTGGGG\n",
      "  r2_0\tGTATACCAAGGGCGGATTTACGCGCTGGCCGACACAATGAGACCAAAATCCGCCATGTCTCAGGGCGGTCTGGGCTTGGCCCTCATTAAAACTTCTGGGG\n",
      "  r2_1\tGTATACCAAGGGCGGATTTACGCGCTGGCCGACACAATGAGACCAAAATCCGCCATGTCTCAGGGCGGTCTGGGCTTGGCCCTCATTAAAACTTCTGGGG\n",
      "  r3_0\tGTATACCAAGGGCGGATTTACGCGCTGGCCGACACAATGAGACCAAAATCCGCCATGTCTCAGGGCGGTCTGGGCTTGGCCCTCATTAAAACTTCTGGGG\n",
      "  r3_1\tGTATACCAAGGGCGGATTTACGCGCTGGCCGACACAATGAGACCAAAATCCGCCATGTCTCAGGGCGGTCTGGGCTTGGCCCTCATTAAAACTTCTGGGG\n",
      "  r4_0\tGTATACCAAGGGCGGATTTACGCGCTGGCCGACACAATGAGACCAAAATCCGCCATGTCTCAGGGCGGTCTGGGCTTGGCCCTCATTAAAACTTCTGGGG\n",
      "  r4_1\tGTATACCAAGGGCGGATTTACGCGCTGGCCGACACAATGAGACCAAAATCCGCCATGTCTCAGGGCGGTCTGGGCTTGGCCCTCATTAAAACTTCTGGGG\n",
      "  r5_0\tGTATACCAAGGGCGGATTTACGCGCTGGCCGACACAATGAGACCAAAATCCGCCATGTCTCAGGGCGGTCTGGGCTTGGCCCTCATTAAAACTTCTGGGG\n",
      "  r5_1\tGTATACCAAGGGCGGATTTACGCGCTGGCCGACACAATGAGACCAAAATCCGCCATGTCTCAGGGCGGTCTGGGCTTGGCCCTCATTAAAACTTCTGGGG\n",
      "  r6_0\tGTATACCAAGGGCGGATTTACGCGCTGGCCGACACAATGAGACCAAAATCCGCCATGTCTCAGGGCGGTCTGGGCTTGGCCCTCATTAAAACTTCTGGGG\n",
      "  r6_1\tGTATACCAAGGGCGGATTTACGCGCTGGCCGACACAATGAGACCAAAATCCGCCATGTCTCAGGGCGGTCTGGGCTTGGCCCTCATTAAAACTTCTGGGG\n",
      "  r7_0\tGTATACCAAGGGCGGATTTACGCGCTGGCCGACACAATGAGACCAAAATCCGCCATGTCTCAGGGCGGTCTGGGCTTGGCCCTCATTAAAACTTCTGGGG\n",
      "  r7_1\tGTATACCAAGGGCGGATTTACGCGCTGGCCGACACAATGAGACCAAAATCCGCCATGTCTCAGGGCGGTCTGGGCTTGGCCCTCATTAAAACTTCTGGGG\n",
      "  r8_0\tGTATACCAAGGGCGGATTTACGCGCTGGCCGACACAATGAGACCAAAATCCGCCATGTCTCAGGGCGGTCTGGGCTTGGCCCTCATTAAAACTTCTGGGG\n",
      "  r8_1\tGTATACCAAGGGCGGATTTACGCGCTGGCCGACACAATGAGACCAAAATCCGCCATGTCTCAGGGCGGTCTGGGCTTGGCCCTCATTAAAACTTCTGGGG\n",
      "  r9_0\tGTATACCAAGGGCGGATTTACGCGCTGGCCGACACAATGAGACCAAAATCCGCCATGTCTCAGGGCGGTCTGGGCTTGGCCCTCATTAAAACTTCTGGGG\n",
      "  r9_1\tGTATACCAAGGGCGGATTTACGCGCTGGCCGACACAATGAGACCAAAATCCGCCATGTCTCAGGGCGGTCTGGGCTTGGCCCTCATTAAAACTTCTGGGG\n",
      "\n",
      "  r0_0\tTCCAGGGTAACTGTATTCCTCAGCCTGATAAGAAATTGTGGCCGTGCGGGGAATGACTTCCAACCCTGGTAACTAGGACTAAGTTACCTCATGTCGTTCG\n",
      "  r0_1\tTCCAGGGTAACTGTATTCCTCAGCCTGATAAGAAATTGTGGCCGTGCGGGGAATGACTTCCAACCCTGGTAACTAGGACTAAGTTACCTCATGTCGTTCG\n",
      "  r1_0\tTCCAGGGTAACTGTATTCCTCAGCCTGATAAGAAATTGTGGCCGTGCGGGGAATGACTTCCAACCCTGGTAACTAGGACTAAGTTACCTCATGTCGTTCG\n",
      "  r1_1\tTCCAGGGTAACTGTATTCCTCAGCCTGATAAGAAATTGTGGTCGTGCGGGGAATGACTTCCAACCCTGGTAACTAGGACTAAGTTACCTCATGTCGTTCG\n",
      "  r2_0\tTCCAGGGTAACTGTATTCCTCAGCCTGATAAGAAATTGTGGCCGTGCGGGGAATGACTTCCAACCCTGGTAACTAGGACTAAGTTACCTCATGTCGTTCG\n",
      "  r2_1\tTCCAGGGTAACTGTATTCCTCAGCCTGATAAGAAATTGTGGCCGTGCGGGGAATGACTTCCAACCCTGGTAACTAGGACTAAGTTACCTCATGTCGTTCG\n",
      "  r3_0\tTCCAGGGTAACTGTATTCCTCAGCCTGATAAGAAATTGTGGCCGTGCGGGGAATGACTTCCAACCCTGGTAACTAGGACTAAGTTACCTCATGTCGTTCG\n",
      "  r3_1\tTCCAGGGTAACTGTATTCCTCAGCCTGATAAGAAATTGTGGTCGTGCGGGGAATGACTTCCAACCCTGGTAACTAGGACTAAGTTACCTCATGTCGTTCG\n",
      "  r4_0\tTCCAGGGTAACTGTATTCCTCAGCCTGATAAGAAATTGTGGTCGTGCGGGGAATGACTTCCAACCCTGGTAACTAGGACTAAGTTACCTCATGTCGTTCG\n",
      "  r4_1\tTCCAGGGTAACTGTATTCCTCAGCCTGATAAGAAATTGTGGTCGTGCGGGGAATGACTTCCAACCCTGGTAACTAGGACTAAGTTACCTCATGTCGTTCG\n",
      "  r5_0\tTCCAGGGTAACTGTATTCCTCAGCCTGATAAGAAATTGTGGCCGTGCGGGGAATGACTTCCAACCCTGGTAACTAGGACTAAGTTACCTCATGTCGTTCG\n",
      "  r5_1\tTCCAGGGTAACTGTATTCCTCAGCCTGATAAGAAATTGTGGCCGTGCGGGGAATGACTTCCAACCCTGGTAACTAGGACTAAGTTACCTCATGTCGTTCG\n",
      "  r6_0\tTCCAGGGTAACTGTATTCCTCAGCCTGATAAGAAATTGTGGTCGTGCGGGGAATGACTTCCAACCCTGGTAACTAGGACTAAGTTACCTCATGTCGTTCG\n",
      "  r6_1\tTCCAGGGTAACTGTATTCCTCAGCCTGATAAGAAATTGTGGTCGTGCGGGGAATGACTTCCAACCCTGGTAACTAGGACTAAGTTACCTCATGTCGTTCG\n",
      "  r7_0\tTCCAGGGTAACTGTATTCCTCAGCCTGATAAGAAATTGTGGTCGTGCGGGGAATGACTTCCAACCCTGGTAACTAGGACTAAGTTACCTCATGTCGTTCG\n",
      "  r7_1\tTCCAGGGTAACTGTATTCCTCAGCCTGATAAGAAATTGTGGTCGTGCGGGGAATGACTTCCAACCCTGGTAACTAGGACTAAGTTACCTCATGTCGTTCG\n",
      "  r8_0\tTCCAGGGTAACTGTATTCCTCAGCCTGATAAGAAATTGTGGTCGTGCGGGGAATGACTTCCAACCCTGGTAACTAGGACTAAGTTACCTCATGTCGTTCG\n",
      "  r8_1\tTCCAGGGTAACTGTATTCCTCAGCCTGATAAGAAATTGTGGTCGTGCGGGGAATGACTTCCAACCCTGGTAACTAGGACTAAGTTACCTCATGTCGTTCG\n",
      "  r9_0\tTCCAGGGTAACTGTATTCCTCAGCCTGATAAGAAATTGTGGTCGTGCGGGGAATGACTTCCAACCCTGGTAACTAGGACTAAGTTACCTCATGTCGTTCG\n",
      "  r9_1\tTCCAGGGTAACTGTATTCCTCAGCCTGATAAGAAATTGTGGTCGTGCGGGGAATGACTTCCAACCCTGGTAACTAGGACTAAGTTACCTCATGTCGTTCG\n",
      "\n",
      "  r0_0\tCTTTAGGGTCGGCAGTGAGTACTCAACGAACACGATGACTGTAACAAAGTCCGTGGCACAGGAGACAAGAGGTTCTCTATTCTAAGTAGTCCATGCATAG\n",
      "  r0_1\tCTTTAGGGTCGGCAGTGAGTACTCAACGAACACGATGACTGTAACAAAGTCCGTGGCACAGGAGACAAGAGGTTCTCTATTCTAAGTAGTCCATGCATAG\n",
      "  r1_0\tCTTTAGGGTCGGCAGTGAGTACTCAACGAACACGATGACTGTAACAAAGTCCGTGGCACAGGAGACAAGAGGTTCTCTATTCTAAGTAGTCCATGCATAG\n",
      "  r1_1\tCTTTAGGGTCGGCAGTGAGTACTCAACGAACACGATGACTGTAACAAAGTCCGTGGCACAGGAGACAAGAGGTTCTCTATTCTAAGTAGTCCATGCATAG\n",
      "  r2_0\tCTTTAGGGTCGGCAGTGAGTACTCAACGAACACGATGACTGTAACAAAGTCCGTGGCACAGGAGACAAGAGGTTCTCTATTCTAAGTAGTCCATGCATAG\n",
      "  r2_1\tCTTTAGGGTCGGCAGTGAGTACTCAACGAACACGATGACTGTAACAAAGTCCGTGGCACAGGAGACAAGAGGTTCTCTATTCTAAGTAGTCCATGCATAG\n",
      "  r3_0\tCTTTAGGGTCGGCAGTGAGTACTCAACGAACACGATGACTGTAACAAAGTCCGTGGCACAGGAGACAAGAGGTTCTCTATTCTAAGTAGTCCATGCATAG\n",
      "  r3_1\tCTTTAGGGTCGGCAGTGAGTACTCAACGAACACGATGACTGTAACAAAGTCCGTGGCACAGGAGACAAGAGGTTCTCTATTCTAAGTAGTCCATGCATAG\n",
      "  r4_0\tCTTTAGGGTCGGCAGTGAGTACTCAACGAACACGATGACTGTAACAAAGTCCGTGGCACAGGAGACAAGAGGTTCTCTATTCTAAGTAGTCCATGCATAG\n",
      "  r4_1\tCTTTAGGGTCGGCAGTGAGTACTCAACGAACACGATGACTGTAACAAAGTCCGTGGCACAGGAGACAAGAGGTTCTCTATTCTAAGTAGTCCATGCATAG\n",
      "  r5_0\tCTTTAGGGTCGGCAGTGAGTACTCAACGAACACGATGACTGTAACAAAGTCCGTGGCACAGGAGACAAGAGGTTCTCTATTCTAAGTAGTCCATGTATAG\n",
      "  r5_1\tCTTTAGGGTCGGCAGTGAGTACTCAACGAACACGATGACTGTAACAAAGTCCGTGGCACAGGAGACAAGAGGTTCTCTATTCTAAGTAGTCCATGCATAG\n",
      "  r6_0\tCTTTAGGGTCGGCAGTGAGTACTCAACGAACACGATGACTGTAACAAAGTCCGTGGCACAGGAGACAAGAGGTTCTCTATTCTAAGTAGTCCATGCATAG\n",
      "  r6_1\tCTTTAGGGTCGGCAGTGAGTACTCAACGAACACGATGACTGTAACAAAGTCCGTGGCACAGGAGACAAGAGGTTCTCTATTCTAAGTAGTCCATGCATAG\n",
      "  r7_0\tCTTTAGGGTCGGCAGTGAGTACTCAACGAACACGATGACTGTAACAAAGTCCGTGGCACAGGAGACAAGAGGTTCTCTATTCTAAGTAGTCCATGCATAG\n",
      "  r7_1\tCTTTAGGGTCGGCAGTGAGTACTCAACGAACACGATGACTGTAACAAAGTCCGTGGCACAGGAGACAAGAGGTTCTCTATTCTAAGTAGTCCATGCATAG\n",
      "  r8_0\tCTTTAGGGTCGGCAGTGAGTACTCAACGAACACGATGACTGTAACAAAGTCCGTGGCACAGGAGACAAGAGGTTCTCTATTCTAAGTAGTCCATGCATAG\n",
      "  r8_1\tCTTTAGGGTCGGCAGTGAGTACTCAACGAACACGATGACTGTAACAAAGTCCGTGGCACAGGAGACAAGAGGTTCTCTATTCTAAGTAGTCCATGCATAG\n",
      "  r9_0\tCTTTAGGGTCGGCAGTGAGTACTCAACGAACACGATGACTGTAACAAAGTCCGTGGCACAGGAGACAAGAGGTTCTCTATTCTAAGTAGTCCATGCATAG\n",
      "  r9_1\tCTTTAGGGTCGGCAGTGAGTACTCAACGAACACGATGACTGTAACAAAGTCCGTGGCACAGGAGACAAGAGGTTCTCTATTCTAAGTAGTCCATGCATAG\n",
      "\n",
      "  r0_0\tTGAACGAGCTCGGTGCGGAACTCGACAAGGCGGTTCGCCACACTGGATCCGGACGTGAACTAGCTTAAGTGGAATCTTGCGTGAGTCTGTACGCTGAGAA\n",
      "  r0_1\tTGAACGAGCTCGGTGCGGAACTCGACAAGGCGGTTCGCCACACTGGATCCGGACGTGAACTAGCTTAAGTGGAATCTTGCGTGAGTCTGTACGCTGAGAA\n",
      "  r1_0\tTGAACGAGCTCGGTGCGGAACTCGACAAGGCGGTTCGCCACACTGGATCCGGACGTGAACTAGCTTAAGTGGAATCTTGCGTGAGTCTGTACGCTGAGAA\n",
      "  r1_1\tTGAACGAGCTCGGTGCGGAACTCGACAAGGCGGTTCGCCACACTGGATCCGGACGTGAACTAGCTTAAGTGGAATCTTGCGTGAGTCTGTACGCTGAGAA\n",
      "  r2_0\tTGAACGAGCTCGGTGCGGAACTCGACAAGGCGGTTCGCCACACTGGATCCGGACGTGAACTAGCTTAAGTGGAATCTTGCGTGAGTCTGTACGCTGAGAA\n",
      "  r2_1\tTGAACGAGCTCGGTGCGGAACTCGACAAGGCGGTTCGCCACACTGGATCCGGACGTGAACTAGCTTAAGTGGAATCTTGCGTGAGTCTGTACGCTGAGAA\n",
      "  r3_0\tTGAACGAGCTCGGTGCGGAACTCGACAAGGCGGTTCGCCACACTGCATCCGGACGTGAACTAGCTTAAGTGGAATCTTGCGTGAGTCTGTACGCTGAGAA\n",
      "  r3_1\tTGAACGAGCTCGGTGCGGAACTCGACAAGGCGGTTCGCCACACTGCATCCGGACGTGAACTAGCTTAAGTGGAATCTTGCGTGAGTCTGTACGCTGAGAA\n",
      "  r4_0\tTGAACGAGCTCGGTGCGGAACTCGACAAGGCGGTTCGCCACACTGCATCCGGACGTGAACTAGCTTAAGTGGAATCTTGCGTGAGTCTGTACGCTGAGAA\n",
      "  r4_1\tTGAACGAGCTCGGTGCGGAACTCGACAAGGCGGTTCGCCACACTGCATCCGGACGTGAACTAGCTTAAGTGGAATCTTGCGTGAGTCTGTACGCTGAGAA\n",
      "  r5_0\tTGAACGAGCTCGGTGCGGAACTCGACAAGGCGGTTCGCCACACTGGATCCGGACGTGAACTAGCTTAAGTGGAATCTTGCGTGAGTCTGTACGCTGAGAA\n",
      "  r5_1\tTGAACGAGCTCGGTGCGGAACTCGACAAGGCGGTTCGCCACACTGGATCCGGACGTGAACTAGCTTAAGTGGAATCTTGCGTGAGTCTGTACGCTGAGAA\n",
      "  r6_0\tTGAACGAGCTCGGTGCGGAACTCGACAAGGCGGTTCGCCACACTGGATCCGGACGTGAACTAGCTTAAGTGGAATCTTGCGTGAGTCTGTACGCTGAGAA\n",
      "  r6_1\tTGAACGAGCTCGGTGCGGAACTCGACAAGGCGGTTCGCCACACTGGATCCGGACGTGAACTAGCTTAAGTGGAATCTTGCGTGAGTCTGTACGCTGAGAA\n",
      "  r7_0\tTGAACGAGCTCGGTGCGGAACTCGACAAGGCGGTTCGCCACACTGGATCCGGACGTGAACTAGCTTAAGTGGAATCTTGCGTGAGTCTGTACGCTGAGAA\n",
      "  r7_1\tTGAACGAGCTCGGTGCGGAACTCGACAAGGCGGTTCGCCACACTGGATCCGGACGTGAACTAGCTTAAGTGGAATCTTGCGTGAGTCTGTACGCTGAGAA\n",
      "  r8_0\tTGAACGAGCTCGGTGCGGAACTCGACAAGGCGGTTCGCCACACTGGATCCGGACGTGAACTAGCTTAAGTGGAATCTTGCGTGAGTCTGTACGCTGAGAA\n",
      "  r8_1\tTGAACGAGCTCGGTGCGGAACTCGACAAGGCGGTTCGCCACACTGGATCCGGACGTGAACTAGCTTAAGTGGAATCTTGCGTGAGTCTGTACGCTGAGAA\n",
      "  r9_0\tTGAACGAGCTCGGTGCGGAACTCGACAAGGCGGTTCGCCACACTGGATCCGGACGTGAACTAGCTTAAGTGGAATCTTGCGTGAGTCTGTACGCTGAGAA\n",
      "  r9_1\tTGAACGAGCTCGGTGCGGAACTCGACAAGGCGGTTCGCCACACTGGATCCGGACGTGAACTAGCTTAAGTGGAATCTTGCGTGAGTCTGTACGCTGAGAA\n",
      "\n",
      "\t;\n",
      "end;\n"
     ]
    }
   ],
   "source": [
    "print(mod.write_concat_to_nexus(idxs=[0, 1]))"
   ]
  },
  {
   "cell_type": "code",
   "execution_count": null,
   "id": "deadly-shirt",
   "metadata": {},
   "outputs": [],
   "source": []
  }
 ],
 "metadata": {
  "kernelspec": {
   "display_name": "Python 3",
   "language": "python",
   "name": "python3"
  },
  "language_info": {
   "codemirror_mode": {
    "name": "ipython",
    "version": 3
   },
   "file_extension": ".py",
   "mimetype": "text/x-python",
   "name": "python",
   "nbconvert_exporter": "python",
   "pygments_lexer": "ipython3",
   "version": "3.8.8"
  }
 },
 "nbformat": 4,
 "nbformat_minor": 5
}
